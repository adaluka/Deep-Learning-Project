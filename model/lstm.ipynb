{
  "nbformat": 4,
  "nbformat_minor": 0,
  "metadata": {
    "colab": {
      "name": "Untitled0.ipynb",
      "provenance": [],
      "collapsed_sections": [],
      "authorship_tag": "ABX9TyOJrlAw1kxxEnMkKW8akc8y",
      "include_colab_link": true
    },
    "kernelspec": {
      "name": "python3",
      "display_name": "Python 3"
    },
    "language_info": {
      "name": "python"
    }
  },
  "cells": [
    {
      "cell_type": "markdown",
      "metadata": {
        "id": "view-in-github",
        "colab_type": "text"
      },
      "source": [
        "<a href=\"https://colab.research.google.com/github/adaluka/Deep-Learning-Project/blob/main/model/lstm.ipynb\" target=\"_parent\"><img src=\"https://colab.research.google.com/assets/colab-badge.svg\" alt=\"Open In Colab\"/></a>"
      ]
    },
    {
      "cell_type": "code",
      "execution_count": 1,
      "metadata": {
        "colab": {
          "base_uri": "https://localhost:8080/"
        },
        "id": "GE0SEUPGST2P",
        "outputId": "73c4b4ae-0d58-4070-b12b-7f912db9ce64"
      },
      "outputs": [
        {
          "output_type": "stream",
          "name": "stdout",
          "text": [
            "Collecting funcy\n",
            "  Downloading funcy-1.17-py2.py3-none-any.whl (33 kB)\n",
            "Installing collected packages: funcy\n",
            "Successfully installed funcy-1.17\n"
          ]
        }
      ],
      "source": [
        "import os\n",
        "import glob\n",
        "import csv\n",
        "import random\n",
        "import numpy as np\n",
        "import torch\n",
        "import torch.nn as nn\n",
        "import torch.optim as optim\n",
        "from sklearn.metrics import mean_squared_error\n",
        "from sklearn.model_selection import train_test_split\n",
        "!pip install funcy\n",
        "import funcy\n",
        "from funcy import print_durations\n",
        "import pandas as pd\n",
        "import matplotlib.pyplot as plt\n",
        "import seaborn as sns\n",
        "from tqdm import tqdm\n",
        "from torch.cuda.amp import GradScaler\n",
        "torch.backends.cudnn.benchmark = True\n",
        "import datetime\n",
        "import gc\n",
        "import pickle"
      ]
    },
    {
      "cell_type": "code",
      "source": [
        "start_date = '1980-01-01'"
      ],
      "metadata": {
        "id": "ncue1ppaTHeQ"
      },
      "execution_count": 2,
      "outputs": []
    },
    {
      "cell_type": "code",
      "source": [
        "if not os.path.isdir('/content/drive'):\n",
        "    from google.colab import drive\n",
        "    drive.mount('/content/drive')"
      ],
      "metadata": {
        "colab": {
          "base_uri": "https://localhost:8080/"
        },
        "id": "j-0rVjyWTNqE",
        "outputId": "624358cc-8882-4e30-8bd5-966974a1f950"
      },
      "execution_count": 3,
      "outputs": [
        {
          "output_type": "stream",
          "name": "stdout",
          "text": [
            "Mounted at /content/drive\n"
          ]
        }
      ]
    },
    {
      "cell_type": "code",
      "source": [
        "macro_df = pd.read_csv('/content/drive/MyDrive/11-785/Project/macro_features_final_dropna.csv',index_col=0).loc[start_date:]\n",
        "macro_df = macro_df.dropna(axis=0,how='all')\n",
        "macro_df = macro_df.dropna(axis=1,how='all')\n",
        "# features_idx = macro_df.columns\n",
        "macro_df"
      ],
      "metadata": {
        "colab": {
          "base_uri": "https://localhost:8080/",
          "height": 693
        },
        "id": "hj3cxdK_F8l1",
        "outputId": "82fb1aae-104e-4b16-8ea9-9c80286013cd"
      },
      "execution_count": 4,
      "outputs": [
        {
          "output_type": "execute_result",
          "data": {
            "text/plain": [
              "            W875RX1  DPCERA3M086SBEA     CMRMTSPL    INDPRO   IPFPNSS  \\\n",
              "rdq                                                                     \n",
              "1984-03-31   5542.4           43.313   625030.688   53.7313   59.7733   \n",
              "1984-06-30   5644.3           44.151   639093.221   54.5095   60.5822   \n",
              "1985-08-31   5845.1           46.763   659042.751   54.8269   62.0818   \n",
              "1985-11-30   5910.7           46.791   659509.852   55.0381   62.5036   \n",
              "1986-05-31   6043.6           47.980   669565.217   55.2556   63.0492   \n",
              "...             ...              ...          ...       ...       ...   \n",
              "2021-11-30  14406.3          125.640  1572476.000  102.0374  101.2518   \n",
              "2021-12-31  14398.0          123.868  1562935.000  101.6402  100.7942   \n",
              "2022-01-31  14363.1          126.504  1594543.000  102.6863  101.8134   \n",
              "2022-02-28  14373.4          126.039  1594543.000  103.6341  102.5059   \n",
              "2022-03-31  14373.4          126.039  1594543.000  104.5853  103.6178   \n",
              "\n",
              "             IPFINAL   IPCONGD  IPDCONGD  IPNCONGD  IPBUSEQ  ...       RNA  \\\n",
              "rdq                                                          ...             \n",
              "1984-03-31   58.3060   70.0584   49.1906   79.4306  32.2755  ...  0.094449   \n",
              "1984-06-30   58.9702   69.9638   48.8344   79.5199  33.0531  ...  0.100075   \n",
              "1985-08-31   60.5334   70.5367   49.1804   80.1992  34.4353  ...  0.092896   \n",
              "1985-11-30   61.0456   71.2028   50.0607   80.7057  34.5959  ...  0.090193   \n",
              "1986-05-31   61.2452   72.7183   51.0468   82.4684  33.9200  ...  0.084047   \n",
              "...              ...       ...       ...       ...      ...  ...       ...   \n",
              "2021-11-30  101.6865  100.8504  104.7309   99.7321  95.8557  ...  0.049653   \n",
              "2021-12-31  101.2701  100.2659  103.9276   99.2067  95.7659  ...  0.049773   \n",
              "2022-01-31  102.4001  101.8697  106.0272  100.6766  95.4291  ...  0.049706   \n",
              "2022-02-28  102.7867  101.4960  103.9094  100.7686  97.1781  ...  0.049793   \n",
              "2022-03-31  104.3362  102.8988  107.9180  101.4761  98.8924  ...  0.092154   \n",
              "\n",
              "                 ROA       ROE     SGA2S       D2A        AC        OA  \\\n",
              "rdq                                                                      \n",
              "1984-03-31  0.050187  0.117328  0.681474  0.037466  0.001090 -0.000767   \n",
              "1984-06-30  0.053498  0.122086  0.673583  0.037448  0.000000 -0.000824   \n",
              "1985-08-31  0.047344  0.130653  0.693678  0.038749 -0.003140 -0.001191   \n",
              "1985-11-30  0.044600  0.127164  0.700228  0.039440  0.000000 -0.001074   \n",
              "1986-05-31  0.039336  0.134048  0.710053  0.039774  0.000000 -0.001109   \n",
              "...              ...       ...       ...       ...       ...       ...   \n",
              "2021-11-30  0.013872  0.069816  0.659218  0.022986  0.003672 -0.000196   \n",
              "2021-12-31  0.013892  0.069949  0.659782  0.022915  0.004113 -0.000202   \n",
              "2022-01-31  0.013879  0.070214  0.659905  0.022857  0.003672 -0.000198   \n",
              "2022-02-28  0.014213  0.071293  0.664258  0.022921  0.005843 -0.000217   \n",
              "2022-03-31  0.050156  0.139828  0.458543  0.025205  0.016476 -0.000192   \n",
              "\n",
              "                  OL       PCM         AT  \n",
              "rdq                                        \n",
              "1984-03-31  1.091945 -1.399036    91.9985  \n",
              "1984-06-30  1.096514 -1.340794    87.9295  \n",
              "1985-08-31  1.095180 -1.258783    80.6030  \n",
              "1985-11-30  1.076283 -1.265303    80.7480  \n",
              "1986-05-31  1.075452 -1.252150    80.6865  \n",
              "...              ...       ...        ...  \n",
              "2021-11-30  0.474068 -0.202465  1124.9105  \n",
              "2021-12-31  0.475670 -0.205471  1131.1950  \n",
              "2022-01-31  0.478045 -0.212693  1136.5500  \n",
              "2022-02-28  0.482213 -0.221224  1166.1680  \n",
              "2022-03-31  0.392938 -0.577736  4966.9855  \n",
              "\n",
              "[337 rows x 147 columns]"
            ],
            "text/html": [
              "\n",
              "  <div id=\"df-3d461c7a-d4aa-4b02-bfd5-51aa6f38dcef\">\n",
              "    <div class=\"colab-df-container\">\n",
              "      <div>\n",
              "<style scoped>\n",
              "    .dataframe tbody tr th:only-of-type {\n",
              "        vertical-align: middle;\n",
              "    }\n",
              "\n",
              "    .dataframe tbody tr th {\n",
              "        vertical-align: top;\n",
              "    }\n",
              "\n",
              "    .dataframe thead th {\n",
              "        text-align: right;\n",
              "    }\n",
              "</style>\n",
              "<table border=\"1\" class=\"dataframe\">\n",
              "  <thead>\n",
              "    <tr style=\"text-align: right;\">\n",
              "      <th></th>\n",
              "      <th>W875RX1</th>\n",
              "      <th>DPCERA3M086SBEA</th>\n",
              "      <th>CMRMTSPL</th>\n",
              "      <th>INDPRO</th>\n",
              "      <th>IPFPNSS</th>\n",
              "      <th>IPFINAL</th>\n",
              "      <th>IPCONGD</th>\n",
              "      <th>IPDCONGD</th>\n",
              "      <th>IPNCONGD</th>\n",
              "      <th>IPBUSEQ</th>\n",
              "      <th>...</th>\n",
              "      <th>RNA</th>\n",
              "      <th>ROA</th>\n",
              "      <th>ROE</th>\n",
              "      <th>SGA2S</th>\n",
              "      <th>D2A</th>\n",
              "      <th>AC</th>\n",
              "      <th>OA</th>\n",
              "      <th>OL</th>\n",
              "      <th>PCM</th>\n",
              "      <th>AT</th>\n",
              "    </tr>\n",
              "    <tr>\n",
              "      <th>rdq</th>\n",
              "      <th></th>\n",
              "      <th></th>\n",
              "      <th></th>\n",
              "      <th></th>\n",
              "      <th></th>\n",
              "      <th></th>\n",
              "      <th></th>\n",
              "      <th></th>\n",
              "      <th></th>\n",
              "      <th></th>\n",
              "      <th></th>\n",
              "      <th></th>\n",
              "      <th></th>\n",
              "      <th></th>\n",
              "      <th></th>\n",
              "      <th></th>\n",
              "      <th></th>\n",
              "      <th></th>\n",
              "      <th></th>\n",
              "      <th></th>\n",
              "      <th></th>\n",
              "    </tr>\n",
              "  </thead>\n",
              "  <tbody>\n",
              "    <tr>\n",
              "      <th>1984-03-31</th>\n",
              "      <td>5542.4</td>\n",
              "      <td>43.313</td>\n",
              "      <td>625030.688</td>\n",
              "      <td>53.7313</td>\n",
              "      <td>59.7733</td>\n",
              "      <td>58.3060</td>\n",
              "      <td>70.0584</td>\n",
              "      <td>49.1906</td>\n",
              "      <td>79.4306</td>\n",
              "      <td>32.2755</td>\n",
              "      <td>...</td>\n",
              "      <td>0.094449</td>\n",
              "      <td>0.050187</td>\n",
              "      <td>0.117328</td>\n",
              "      <td>0.681474</td>\n",
              "      <td>0.037466</td>\n",
              "      <td>0.001090</td>\n",
              "      <td>-0.000767</td>\n",
              "      <td>1.091945</td>\n",
              "      <td>-1.399036</td>\n",
              "      <td>91.9985</td>\n",
              "    </tr>\n",
              "    <tr>\n",
              "      <th>1984-06-30</th>\n",
              "      <td>5644.3</td>\n",
              "      <td>44.151</td>\n",
              "      <td>639093.221</td>\n",
              "      <td>54.5095</td>\n",
              "      <td>60.5822</td>\n",
              "      <td>58.9702</td>\n",
              "      <td>69.9638</td>\n",
              "      <td>48.8344</td>\n",
              "      <td>79.5199</td>\n",
              "      <td>33.0531</td>\n",
              "      <td>...</td>\n",
              "      <td>0.100075</td>\n",
              "      <td>0.053498</td>\n",
              "      <td>0.122086</td>\n",
              "      <td>0.673583</td>\n",
              "      <td>0.037448</td>\n",
              "      <td>0.000000</td>\n",
              "      <td>-0.000824</td>\n",
              "      <td>1.096514</td>\n",
              "      <td>-1.340794</td>\n",
              "      <td>87.9295</td>\n",
              "    </tr>\n",
              "    <tr>\n",
              "      <th>1985-08-31</th>\n",
              "      <td>5845.1</td>\n",
              "      <td>46.763</td>\n",
              "      <td>659042.751</td>\n",
              "      <td>54.8269</td>\n",
              "      <td>62.0818</td>\n",
              "      <td>60.5334</td>\n",
              "      <td>70.5367</td>\n",
              "      <td>49.1804</td>\n",
              "      <td>80.1992</td>\n",
              "      <td>34.4353</td>\n",
              "      <td>...</td>\n",
              "      <td>0.092896</td>\n",
              "      <td>0.047344</td>\n",
              "      <td>0.130653</td>\n",
              "      <td>0.693678</td>\n",
              "      <td>0.038749</td>\n",
              "      <td>-0.003140</td>\n",
              "      <td>-0.001191</td>\n",
              "      <td>1.095180</td>\n",
              "      <td>-1.258783</td>\n",
              "      <td>80.6030</td>\n",
              "    </tr>\n",
              "    <tr>\n",
              "      <th>1985-11-30</th>\n",
              "      <td>5910.7</td>\n",
              "      <td>46.791</td>\n",
              "      <td>659509.852</td>\n",
              "      <td>55.0381</td>\n",
              "      <td>62.5036</td>\n",
              "      <td>61.0456</td>\n",
              "      <td>71.2028</td>\n",
              "      <td>50.0607</td>\n",
              "      <td>80.7057</td>\n",
              "      <td>34.5959</td>\n",
              "      <td>...</td>\n",
              "      <td>0.090193</td>\n",
              "      <td>0.044600</td>\n",
              "      <td>0.127164</td>\n",
              "      <td>0.700228</td>\n",
              "      <td>0.039440</td>\n",
              "      <td>0.000000</td>\n",
              "      <td>-0.001074</td>\n",
              "      <td>1.076283</td>\n",
              "      <td>-1.265303</td>\n",
              "      <td>80.7480</td>\n",
              "    </tr>\n",
              "    <tr>\n",
              "      <th>1986-05-31</th>\n",
              "      <td>6043.6</td>\n",
              "      <td>47.980</td>\n",
              "      <td>669565.217</td>\n",
              "      <td>55.2556</td>\n",
              "      <td>63.0492</td>\n",
              "      <td>61.2452</td>\n",
              "      <td>72.7183</td>\n",
              "      <td>51.0468</td>\n",
              "      <td>82.4684</td>\n",
              "      <td>33.9200</td>\n",
              "      <td>...</td>\n",
              "      <td>0.084047</td>\n",
              "      <td>0.039336</td>\n",
              "      <td>0.134048</td>\n",
              "      <td>0.710053</td>\n",
              "      <td>0.039774</td>\n",
              "      <td>0.000000</td>\n",
              "      <td>-0.001109</td>\n",
              "      <td>1.075452</td>\n",
              "      <td>-1.252150</td>\n",
              "      <td>80.6865</td>\n",
              "    </tr>\n",
              "    <tr>\n",
              "      <th>...</th>\n",
              "      <td>...</td>\n",
              "      <td>...</td>\n",
              "      <td>...</td>\n",
              "      <td>...</td>\n",
              "      <td>...</td>\n",
              "      <td>...</td>\n",
              "      <td>...</td>\n",
              "      <td>...</td>\n",
              "      <td>...</td>\n",
              "      <td>...</td>\n",
              "      <td>...</td>\n",
              "      <td>...</td>\n",
              "      <td>...</td>\n",
              "      <td>...</td>\n",
              "      <td>...</td>\n",
              "      <td>...</td>\n",
              "      <td>...</td>\n",
              "      <td>...</td>\n",
              "      <td>...</td>\n",
              "      <td>...</td>\n",
              "      <td>...</td>\n",
              "    </tr>\n",
              "    <tr>\n",
              "      <th>2021-11-30</th>\n",
              "      <td>14406.3</td>\n",
              "      <td>125.640</td>\n",
              "      <td>1572476.000</td>\n",
              "      <td>102.0374</td>\n",
              "      <td>101.2518</td>\n",
              "      <td>101.6865</td>\n",
              "      <td>100.8504</td>\n",
              "      <td>104.7309</td>\n",
              "      <td>99.7321</td>\n",
              "      <td>95.8557</td>\n",
              "      <td>...</td>\n",
              "      <td>0.049653</td>\n",
              "      <td>0.013872</td>\n",
              "      <td>0.069816</td>\n",
              "      <td>0.659218</td>\n",
              "      <td>0.022986</td>\n",
              "      <td>0.003672</td>\n",
              "      <td>-0.000196</td>\n",
              "      <td>0.474068</td>\n",
              "      <td>-0.202465</td>\n",
              "      <td>1124.9105</td>\n",
              "    </tr>\n",
              "    <tr>\n",
              "      <th>2021-12-31</th>\n",
              "      <td>14398.0</td>\n",
              "      <td>123.868</td>\n",
              "      <td>1562935.000</td>\n",
              "      <td>101.6402</td>\n",
              "      <td>100.7942</td>\n",
              "      <td>101.2701</td>\n",
              "      <td>100.2659</td>\n",
              "      <td>103.9276</td>\n",
              "      <td>99.2067</td>\n",
              "      <td>95.7659</td>\n",
              "      <td>...</td>\n",
              "      <td>0.049773</td>\n",
              "      <td>0.013892</td>\n",
              "      <td>0.069949</td>\n",
              "      <td>0.659782</td>\n",
              "      <td>0.022915</td>\n",
              "      <td>0.004113</td>\n",
              "      <td>-0.000202</td>\n",
              "      <td>0.475670</td>\n",
              "      <td>-0.205471</td>\n",
              "      <td>1131.1950</td>\n",
              "    </tr>\n",
              "    <tr>\n",
              "      <th>2022-01-31</th>\n",
              "      <td>14363.1</td>\n",
              "      <td>126.504</td>\n",
              "      <td>1594543.000</td>\n",
              "      <td>102.6863</td>\n",
              "      <td>101.8134</td>\n",
              "      <td>102.4001</td>\n",
              "      <td>101.8697</td>\n",
              "      <td>106.0272</td>\n",
              "      <td>100.6766</td>\n",
              "      <td>95.4291</td>\n",
              "      <td>...</td>\n",
              "      <td>0.049706</td>\n",
              "      <td>0.013879</td>\n",
              "      <td>0.070214</td>\n",
              "      <td>0.659905</td>\n",
              "      <td>0.022857</td>\n",
              "      <td>0.003672</td>\n",
              "      <td>-0.000198</td>\n",
              "      <td>0.478045</td>\n",
              "      <td>-0.212693</td>\n",
              "      <td>1136.5500</td>\n",
              "    </tr>\n",
              "    <tr>\n",
              "      <th>2022-02-28</th>\n",
              "      <td>14373.4</td>\n",
              "      <td>126.039</td>\n",
              "      <td>1594543.000</td>\n",
              "      <td>103.6341</td>\n",
              "      <td>102.5059</td>\n",
              "      <td>102.7867</td>\n",
              "      <td>101.4960</td>\n",
              "      <td>103.9094</td>\n",
              "      <td>100.7686</td>\n",
              "      <td>97.1781</td>\n",
              "      <td>...</td>\n",
              "      <td>0.049793</td>\n",
              "      <td>0.014213</td>\n",
              "      <td>0.071293</td>\n",
              "      <td>0.664258</td>\n",
              "      <td>0.022921</td>\n",
              "      <td>0.005843</td>\n",
              "      <td>-0.000217</td>\n",
              "      <td>0.482213</td>\n",
              "      <td>-0.221224</td>\n",
              "      <td>1166.1680</td>\n",
              "    </tr>\n",
              "    <tr>\n",
              "      <th>2022-03-31</th>\n",
              "      <td>14373.4</td>\n",
              "      <td>126.039</td>\n",
              "      <td>1594543.000</td>\n",
              "      <td>104.5853</td>\n",
              "      <td>103.6178</td>\n",
              "      <td>104.3362</td>\n",
              "      <td>102.8988</td>\n",
              "      <td>107.9180</td>\n",
              "      <td>101.4761</td>\n",
              "      <td>98.8924</td>\n",
              "      <td>...</td>\n",
              "      <td>0.092154</td>\n",
              "      <td>0.050156</td>\n",
              "      <td>0.139828</td>\n",
              "      <td>0.458543</td>\n",
              "      <td>0.025205</td>\n",
              "      <td>0.016476</td>\n",
              "      <td>-0.000192</td>\n",
              "      <td>0.392938</td>\n",
              "      <td>-0.577736</td>\n",
              "      <td>4966.9855</td>\n",
              "    </tr>\n",
              "  </tbody>\n",
              "</table>\n",
              "<p>337 rows × 147 columns</p>\n",
              "</div>\n",
              "      <button class=\"colab-df-convert\" onclick=\"convertToInteractive('df-3d461c7a-d4aa-4b02-bfd5-51aa6f38dcef')\"\n",
              "              title=\"Convert this dataframe to an interactive table.\"\n",
              "              style=\"display:none;\">\n",
              "        \n",
              "  <svg xmlns=\"http://www.w3.org/2000/svg\" height=\"24px\"viewBox=\"0 0 24 24\"\n",
              "       width=\"24px\">\n",
              "    <path d=\"M0 0h24v24H0V0z\" fill=\"none\"/>\n",
              "    <path d=\"M18.56 5.44l.94 2.06.94-2.06 2.06-.94-2.06-.94-.94-2.06-.94 2.06-2.06.94zm-11 1L8.5 8.5l.94-2.06 2.06-.94-2.06-.94L8.5 2.5l-.94 2.06-2.06.94zm10 10l.94 2.06.94-2.06 2.06-.94-2.06-.94-.94-2.06-.94 2.06-2.06.94z\"/><path d=\"M17.41 7.96l-1.37-1.37c-.4-.4-.92-.59-1.43-.59-.52 0-1.04.2-1.43.59L10.3 9.45l-7.72 7.72c-.78.78-.78 2.05 0 2.83L4 21.41c.39.39.9.59 1.41.59.51 0 1.02-.2 1.41-.59l7.78-7.78 2.81-2.81c.8-.78.8-2.07 0-2.86zM5.41 20L4 18.59l7.72-7.72 1.47 1.35L5.41 20z\"/>\n",
              "  </svg>\n",
              "      </button>\n",
              "      \n",
              "  <style>\n",
              "    .colab-df-container {\n",
              "      display:flex;\n",
              "      flex-wrap:wrap;\n",
              "      gap: 12px;\n",
              "    }\n",
              "\n",
              "    .colab-df-convert {\n",
              "      background-color: #E8F0FE;\n",
              "      border: none;\n",
              "      border-radius: 50%;\n",
              "      cursor: pointer;\n",
              "      display: none;\n",
              "      fill: #1967D2;\n",
              "      height: 32px;\n",
              "      padding: 0 0 0 0;\n",
              "      width: 32px;\n",
              "    }\n",
              "\n",
              "    .colab-df-convert:hover {\n",
              "      background-color: #E2EBFA;\n",
              "      box-shadow: 0px 1px 2px rgba(60, 64, 67, 0.3), 0px 1px 3px 1px rgba(60, 64, 67, 0.15);\n",
              "      fill: #174EA6;\n",
              "    }\n",
              "\n",
              "    [theme=dark] .colab-df-convert {\n",
              "      background-color: #3B4455;\n",
              "      fill: #D2E3FC;\n",
              "    }\n",
              "\n",
              "    [theme=dark] .colab-df-convert:hover {\n",
              "      background-color: #434B5C;\n",
              "      box-shadow: 0px 1px 3px 1px rgba(0, 0, 0, 0.15);\n",
              "      filter: drop-shadow(0px 1px 2px rgba(0, 0, 0, 0.3));\n",
              "      fill: #FFFFFF;\n",
              "    }\n",
              "  </style>\n",
              "\n",
              "      <script>\n",
              "        const buttonEl =\n",
              "          document.querySelector('#df-3d461c7a-d4aa-4b02-bfd5-51aa6f38dcef button.colab-df-convert');\n",
              "        buttonEl.style.display =\n",
              "          google.colab.kernel.accessAllowed ? 'block' : 'none';\n",
              "\n",
              "        async function convertToInteractive(key) {\n",
              "          const element = document.querySelector('#df-3d461c7a-d4aa-4b02-bfd5-51aa6f38dcef');\n",
              "          const dataTable =\n",
              "            await google.colab.kernel.invokeFunction('convertToInteractive',\n",
              "                                                     [key], {});\n",
              "          if (!dataTable) return;\n",
              "\n",
              "          const docLinkHtml = 'Like what you see? Visit the ' +\n",
              "            '<a target=\"_blank\" href=https://colab.research.google.com/notebooks/data_table.ipynb>data table notebook</a>'\n",
              "            + ' to learn more about interactive tables.';\n",
              "          element.innerHTML = '';\n",
              "          dataTable['output_type'] = 'display_data';\n",
              "          await google.colab.output.renderOutput(dataTable, element);\n",
              "          const docLink = document.createElement('div');\n",
              "          docLink.innerHTML = docLinkHtml;\n",
              "          element.appendChild(docLink);\n",
              "        }\n",
              "      </script>\n",
              "    </div>\n",
              "  </div>\n",
              "  "
            ]
          },
          "metadata": {},
          "execution_count": 4
        }
      ]
    },
    {
      "cell_type": "code",
      "source": [
        "returns_df = pd.read_csv('/content/drive/MyDrive/11-785/Project/returns.csv',index_col=0).loc[start_date:]\n",
        "returns_df = returns_df.dropna(axis=0,how='all')\n",
        "returns_df = returns_df.dropna(axis=1,how='all')\n",
        "returns_df.clip(returns_df.quantile(0.01,axis=1),returns_df.quantile(0.99,axis=1),axis=0)\n",
        "date_idx = returns_df.index\n",
        "equity_idx = returns_df.columns\n",
        "returns_df"
      ],
      "metadata": {
        "colab": {
          "base_uri": "https://localhost:8080/",
          "height": 693
        },
        "id": "adsQjvPJTJ-Q",
        "outputId": "2d1a0471-477d-47d6-91ea-662374df3ece"
      },
      "execution_count": 5,
      "outputs": [
        {
          "output_type": "execute_result",
          "data": {
            "text/plain": [
              "            0081A     0091A  0099A     0127A     0138A  0146A  0153A  0183B  \\\n",
              "datadate                                                                      \n",
              "1980-01-31    NaN  0.012579    NaN  0.068182  0.039548    NaN    NaN    NaN   \n",
              "1980-02-29    NaN -0.006211    NaN  0.000000       NaN    NaN    NaN    NaN   \n",
              "1980-03-31    NaN -0.306250    NaN  0.007092       NaN    NaN    NaN    NaN   \n",
              "1980-04-30    NaN  0.252252    NaN -0.126761       NaN    NaN    NaN    NaN   \n",
              "1980-05-31    NaN  0.071942    NaN  0.177419       NaN    NaN    NaN    NaN   \n",
              "...           ...       ...    ...       ...       ...    ...    ...    ...   \n",
              "2021-10-31    NaN       NaN    NaN       NaN       NaN    NaN    NaN    NaN   \n",
              "2021-11-30    NaN       NaN    NaN       NaN       NaN    NaN    NaN    NaN   \n",
              "2021-12-31    NaN       NaN    NaN       NaN       NaN    NaN    NaN    NaN   \n",
              "2022-01-31    NaN       NaN    NaN       NaN       NaN    NaN    NaN    NaN   \n",
              "2022-02-28    NaN       NaN    NaN       NaN       NaN    NaN    NaN    NaN   \n",
              "\n",
              "               0223B  0230B  ...  ZVXI      ZWRK       ZWS     ZXAIY  \\\n",
              "datadate                     ...                                       \n",
              "1980-01-31  0.007752    NaN  ...   NaN       NaN       NaN       NaN   \n",
              "1980-02-29 -0.086462    NaN  ...   NaN       NaN       NaN       NaN   \n",
              "1980-03-31  0.000000    NaN  ...   NaN       NaN       NaN       NaN   \n",
              "1980-04-30  0.139130    NaN  ...   NaN       NaN       NaN       NaN   \n",
              "1980-05-31  0.036336    NaN  ...   NaN       NaN       NaN       NaN   \n",
              "...              ...    ...  ...   ...       ...       ...       ...   \n",
              "2021-10-31       NaN    NaN  ...   NaN  0.002053  0.068746  0.636364   \n",
              "2021-11-30       NaN    NaN  ...   NaN -0.001025 -0.033076  0.001111   \n",
              "2021-12-31       NaN    NaN  ...   NaN -0.001026  0.038516  0.054384   \n",
              "2022-01-31       NaN    NaN  ...   NaN -0.004620 -0.160989  0.084211   \n",
              "2022-02-28       NaN    NaN  ...   NaN  0.003610  0.065815  0.000000   \n",
              "\n",
              "                  ZY      ZYME      ZYNE      ZYXI  ZZ       ZZ1  \n",
              "datadate                                                          \n",
              "1980-01-31       NaN       NaN       NaN       NaN NaN  0.137500  \n",
              "1980-02-29       NaN       NaN       NaN       NaN NaN -0.164835  \n",
              "1980-03-31       NaN       NaN       NaN       NaN NaN -0.118421  \n",
              "1980-04-30       NaN       NaN       NaN       NaN NaN -0.029851  \n",
              "1980-05-31       NaN       NaN       NaN       NaN NaN  0.123077  \n",
              "...              ...       ...       ...       ...  ..       ...  \n",
              "2021-10-31 -0.195140 -0.233815 -0.096698  0.100088 NaN       NaN  \n",
              "2021-11-30 -0.145283 -0.096180 -0.096606  0.021548 NaN       NaN  \n",
              "2021-12-31 -0.261589 -0.184983 -0.167630 -0.221094 NaN       NaN  \n",
              "2022-01-31 -0.222720 -0.456986 -0.093750 -0.115145 NaN       NaN  \n",
              "2022-02-28 -0.263462 -0.186517 -0.134100 -0.205808 NaN       NaN  \n",
              "\n",
              "[506 rows x 31140 columns]"
            ],
            "text/html": [
              "\n",
              "  <div id=\"df-b9edccd6-5170-4bbc-9b60-6e0af3171a36\">\n",
              "    <div class=\"colab-df-container\">\n",
              "      <div>\n",
              "<style scoped>\n",
              "    .dataframe tbody tr th:only-of-type {\n",
              "        vertical-align: middle;\n",
              "    }\n",
              "\n",
              "    .dataframe tbody tr th {\n",
              "        vertical-align: top;\n",
              "    }\n",
              "\n",
              "    .dataframe thead th {\n",
              "        text-align: right;\n",
              "    }\n",
              "</style>\n",
              "<table border=\"1\" class=\"dataframe\">\n",
              "  <thead>\n",
              "    <tr style=\"text-align: right;\">\n",
              "      <th></th>\n",
              "      <th>0081A</th>\n",
              "      <th>0091A</th>\n",
              "      <th>0099A</th>\n",
              "      <th>0127A</th>\n",
              "      <th>0138A</th>\n",
              "      <th>0146A</th>\n",
              "      <th>0153A</th>\n",
              "      <th>0183B</th>\n",
              "      <th>0223B</th>\n",
              "      <th>0230B</th>\n",
              "      <th>...</th>\n",
              "      <th>ZVXI</th>\n",
              "      <th>ZWRK</th>\n",
              "      <th>ZWS</th>\n",
              "      <th>ZXAIY</th>\n",
              "      <th>ZY</th>\n",
              "      <th>ZYME</th>\n",
              "      <th>ZYNE</th>\n",
              "      <th>ZYXI</th>\n",
              "      <th>ZZ</th>\n",
              "      <th>ZZ1</th>\n",
              "    </tr>\n",
              "    <tr>\n",
              "      <th>datadate</th>\n",
              "      <th></th>\n",
              "      <th></th>\n",
              "      <th></th>\n",
              "      <th></th>\n",
              "      <th></th>\n",
              "      <th></th>\n",
              "      <th></th>\n",
              "      <th></th>\n",
              "      <th></th>\n",
              "      <th></th>\n",
              "      <th></th>\n",
              "      <th></th>\n",
              "      <th></th>\n",
              "      <th></th>\n",
              "      <th></th>\n",
              "      <th></th>\n",
              "      <th></th>\n",
              "      <th></th>\n",
              "      <th></th>\n",
              "      <th></th>\n",
              "      <th></th>\n",
              "    </tr>\n",
              "  </thead>\n",
              "  <tbody>\n",
              "    <tr>\n",
              "      <th>1980-01-31</th>\n",
              "      <td>NaN</td>\n",
              "      <td>0.012579</td>\n",
              "      <td>NaN</td>\n",
              "      <td>0.068182</td>\n",
              "      <td>0.039548</td>\n",
              "      <td>NaN</td>\n",
              "      <td>NaN</td>\n",
              "      <td>NaN</td>\n",
              "      <td>0.007752</td>\n",
              "      <td>NaN</td>\n",
              "      <td>...</td>\n",
              "      <td>NaN</td>\n",
              "      <td>NaN</td>\n",
              "      <td>NaN</td>\n",
              "      <td>NaN</td>\n",
              "      <td>NaN</td>\n",
              "      <td>NaN</td>\n",
              "      <td>NaN</td>\n",
              "      <td>NaN</td>\n",
              "      <td>NaN</td>\n",
              "      <td>0.137500</td>\n",
              "    </tr>\n",
              "    <tr>\n",
              "      <th>1980-02-29</th>\n",
              "      <td>NaN</td>\n",
              "      <td>-0.006211</td>\n",
              "      <td>NaN</td>\n",
              "      <td>0.000000</td>\n",
              "      <td>NaN</td>\n",
              "      <td>NaN</td>\n",
              "      <td>NaN</td>\n",
              "      <td>NaN</td>\n",
              "      <td>-0.086462</td>\n",
              "      <td>NaN</td>\n",
              "      <td>...</td>\n",
              "      <td>NaN</td>\n",
              "      <td>NaN</td>\n",
              "      <td>NaN</td>\n",
              "      <td>NaN</td>\n",
              "      <td>NaN</td>\n",
              "      <td>NaN</td>\n",
              "      <td>NaN</td>\n",
              "      <td>NaN</td>\n",
              "      <td>NaN</td>\n",
              "      <td>-0.164835</td>\n",
              "    </tr>\n",
              "    <tr>\n",
              "      <th>1980-03-31</th>\n",
              "      <td>NaN</td>\n",
              "      <td>-0.306250</td>\n",
              "      <td>NaN</td>\n",
              "      <td>0.007092</td>\n",
              "      <td>NaN</td>\n",
              "      <td>NaN</td>\n",
              "      <td>NaN</td>\n",
              "      <td>NaN</td>\n",
              "      <td>0.000000</td>\n",
              "      <td>NaN</td>\n",
              "      <td>...</td>\n",
              "      <td>NaN</td>\n",
              "      <td>NaN</td>\n",
              "      <td>NaN</td>\n",
              "      <td>NaN</td>\n",
              "      <td>NaN</td>\n",
              "      <td>NaN</td>\n",
              "      <td>NaN</td>\n",
              "      <td>NaN</td>\n",
              "      <td>NaN</td>\n",
              "      <td>-0.118421</td>\n",
              "    </tr>\n",
              "    <tr>\n",
              "      <th>1980-04-30</th>\n",
              "      <td>NaN</td>\n",
              "      <td>0.252252</td>\n",
              "      <td>NaN</td>\n",
              "      <td>-0.126761</td>\n",
              "      <td>NaN</td>\n",
              "      <td>NaN</td>\n",
              "      <td>NaN</td>\n",
              "      <td>NaN</td>\n",
              "      <td>0.139130</td>\n",
              "      <td>NaN</td>\n",
              "      <td>...</td>\n",
              "      <td>NaN</td>\n",
              "      <td>NaN</td>\n",
              "      <td>NaN</td>\n",
              "      <td>NaN</td>\n",
              "      <td>NaN</td>\n",
              "      <td>NaN</td>\n",
              "      <td>NaN</td>\n",
              "      <td>NaN</td>\n",
              "      <td>NaN</td>\n",
              "      <td>-0.029851</td>\n",
              "    </tr>\n",
              "    <tr>\n",
              "      <th>1980-05-31</th>\n",
              "      <td>NaN</td>\n",
              "      <td>0.071942</td>\n",
              "      <td>NaN</td>\n",
              "      <td>0.177419</td>\n",
              "      <td>NaN</td>\n",
              "      <td>NaN</td>\n",
              "      <td>NaN</td>\n",
              "      <td>NaN</td>\n",
              "      <td>0.036336</td>\n",
              "      <td>NaN</td>\n",
              "      <td>...</td>\n",
              "      <td>NaN</td>\n",
              "      <td>NaN</td>\n",
              "      <td>NaN</td>\n",
              "      <td>NaN</td>\n",
              "      <td>NaN</td>\n",
              "      <td>NaN</td>\n",
              "      <td>NaN</td>\n",
              "      <td>NaN</td>\n",
              "      <td>NaN</td>\n",
              "      <td>0.123077</td>\n",
              "    </tr>\n",
              "    <tr>\n",
              "      <th>...</th>\n",
              "      <td>...</td>\n",
              "      <td>...</td>\n",
              "      <td>...</td>\n",
              "      <td>...</td>\n",
              "      <td>...</td>\n",
              "      <td>...</td>\n",
              "      <td>...</td>\n",
              "      <td>...</td>\n",
              "      <td>...</td>\n",
              "      <td>...</td>\n",
              "      <td>...</td>\n",
              "      <td>...</td>\n",
              "      <td>...</td>\n",
              "      <td>...</td>\n",
              "      <td>...</td>\n",
              "      <td>...</td>\n",
              "      <td>...</td>\n",
              "      <td>...</td>\n",
              "      <td>...</td>\n",
              "      <td>...</td>\n",
              "      <td>...</td>\n",
              "    </tr>\n",
              "    <tr>\n",
              "      <th>2021-10-31</th>\n",
              "      <td>NaN</td>\n",
              "      <td>NaN</td>\n",
              "      <td>NaN</td>\n",
              "      <td>NaN</td>\n",
              "      <td>NaN</td>\n",
              "      <td>NaN</td>\n",
              "      <td>NaN</td>\n",
              "      <td>NaN</td>\n",
              "      <td>NaN</td>\n",
              "      <td>NaN</td>\n",
              "      <td>...</td>\n",
              "      <td>NaN</td>\n",
              "      <td>0.002053</td>\n",
              "      <td>0.068746</td>\n",
              "      <td>0.636364</td>\n",
              "      <td>-0.195140</td>\n",
              "      <td>-0.233815</td>\n",
              "      <td>-0.096698</td>\n",
              "      <td>0.100088</td>\n",
              "      <td>NaN</td>\n",
              "      <td>NaN</td>\n",
              "    </tr>\n",
              "    <tr>\n",
              "      <th>2021-11-30</th>\n",
              "      <td>NaN</td>\n",
              "      <td>NaN</td>\n",
              "      <td>NaN</td>\n",
              "      <td>NaN</td>\n",
              "      <td>NaN</td>\n",
              "      <td>NaN</td>\n",
              "      <td>NaN</td>\n",
              "      <td>NaN</td>\n",
              "      <td>NaN</td>\n",
              "      <td>NaN</td>\n",
              "      <td>...</td>\n",
              "      <td>NaN</td>\n",
              "      <td>-0.001025</td>\n",
              "      <td>-0.033076</td>\n",
              "      <td>0.001111</td>\n",
              "      <td>-0.145283</td>\n",
              "      <td>-0.096180</td>\n",
              "      <td>-0.096606</td>\n",
              "      <td>0.021548</td>\n",
              "      <td>NaN</td>\n",
              "      <td>NaN</td>\n",
              "    </tr>\n",
              "    <tr>\n",
              "      <th>2021-12-31</th>\n",
              "      <td>NaN</td>\n",
              "      <td>NaN</td>\n",
              "      <td>NaN</td>\n",
              "      <td>NaN</td>\n",
              "      <td>NaN</td>\n",
              "      <td>NaN</td>\n",
              "      <td>NaN</td>\n",
              "      <td>NaN</td>\n",
              "      <td>NaN</td>\n",
              "      <td>NaN</td>\n",
              "      <td>...</td>\n",
              "      <td>NaN</td>\n",
              "      <td>-0.001026</td>\n",
              "      <td>0.038516</td>\n",
              "      <td>0.054384</td>\n",
              "      <td>-0.261589</td>\n",
              "      <td>-0.184983</td>\n",
              "      <td>-0.167630</td>\n",
              "      <td>-0.221094</td>\n",
              "      <td>NaN</td>\n",
              "      <td>NaN</td>\n",
              "    </tr>\n",
              "    <tr>\n",
              "      <th>2022-01-31</th>\n",
              "      <td>NaN</td>\n",
              "      <td>NaN</td>\n",
              "      <td>NaN</td>\n",
              "      <td>NaN</td>\n",
              "      <td>NaN</td>\n",
              "      <td>NaN</td>\n",
              "      <td>NaN</td>\n",
              "      <td>NaN</td>\n",
              "      <td>NaN</td>\n",
              "      <td>NaN</td>\n",
              "      <td>...</td>\n",
              "      <td>NaN</td>\n",
              "      <td>-0.004620</td>\n",
              "      <td>-0.160989</td>\n",
              "      <td>0.084211</td>\n",
              "      <td>-0.222720</td>\n",
              "      <td>-0.456986</td>\n",
              "      <td>-0.093750</td>\n",
              "      <td>-0.115145</td>\n",
              "      <td>NaN</td>\n",
              "      <td>NaN</td>\n",
              "    </tr>\n",
              "    <tr>\n",
              "      <th>2022-02-28</th>\n",
              "      <td>NaN</td>\n",
              "      <td>NaN</td>\n",
              "      <td>NaN</td>\n",
              "      <td>NaN</td>\n",
              "      <td>NaN</td>\n",
              "      <td>NaN</td>\n",
              "      <td>NaN</td>\n",
              "      <td>NaN</td>\n",
              "      <td>NaN</td>\n",
              "      <td>NaN</td>\n",
              "      <td>...</td>\n",
              "      <td>NaN</td>\n",
              "      <td>0.003610</td>\n",
              "      <td>0.065815</td>\n",
              "      <td>0.000000</td>\n",
              "      <td>-0.263462</td>\n",
              "      <td>-0.186517</td>\n",
              "      <td>-0.134100</td>\n",
              "      <td>-0.205808</td>\n",
              "      <td>NaN</td>\n",
              "      <td>NaN</td>\n",
              "    </tr>\n",
              "  </tbody>\n",
              "</table>\n",
              "<p>506 rows × 31140 columns</p>\n",
              "</div>\n",
              "      <button class=\"colab-df-convert\" onclick=\"convertToInteractive('df-b9edccd6-5170-4bbc-9b60-6e0af3171a36')\"\n",
              "              title=\"Convert this dataframe to an interactive table.\"\n",
              "              style=\"display:none;\">\n",
              "        \n",
              "  <svg xmlns=\"http://www.w3.org/2000/svg\" height=\"24px\"viewBox=\"0 0 24 24\"\n",
              "       width=\"24px\">\n",
              "    <path d=\"M0 0h24v24H0V0z\" fill=\"none\"/>\n",
              "    <path d=\"M18.56 5.44l.94 2.06.94-2.06 2.06-.94-2.06-.94-.94-2.06-.94 2.06-2.06.94zm-11 1L8.5 8.5l.94-2.06 2.06-.94-2.06-.94L8.5 2.5l-.94 2.06-2.06.94zm10 10l.94 2.06.94-2.06 2.06-.94-2.06-.94-.94-2.06-.94 2.06-2.06.94z\"/><path d=\"M17.41 7.96l-1.37-1.37c-.4-.4-.92-.59-1.43-.59-.52 0-1.04.2-1.43.59L10.3 9.45l-7.72 7.72c-.78.78-.78 2.05 0 2.83L4 21.41c.39.39.9.59 1.41.59.51 0 1.02-.2 1.41-.59l7.78-7.78 2.81-2.81c.8-.78.8-2.07 0-2.86zM5.41 20L4 18.59l7.72-7.72 1.47 1.35L5.41 20z\"/>\n",
              "  </svg>\n",
              "      </button>\n",
              "      \n",
              "  <style>\n",
              "    .colab-df-container {\n",
              "      display:flex;\n",
              "      flex-wrap:wrap;\n",
              "      gap: 12px;\n",
              "    }\n",
              "\n",
              "    .colab-df-convert {\n",
              "      background-color: #E8F0FE;\n",
              "      border: none;\n",
              "      border-radius: 50%;\n",
              "      cursor: pointer;\n",
              "      display: none;\n",
              "      fill: #1967D2;\n",
              "      height: 32px;\n",
              "      padding: 0 0 0 0;\n",
              "      width: 32px;\n",
              "    }\n",
              "\n",
              "    .colab-df-convert:hover {\n",
              "      background-color: #E2EBFA;\n",
              "      box-shadow: 0px 1px 2px rgba(60, 64, 67, 0.3), 0px 1px 3px 1px rgba(60, 64, 67, 0.15);\n",
              "      fill: #174EA6;\n",
              "    }\n",
              "\n",
              "    [theme=dark] .colab-df-convert {\n",
              "      background-color: #3B4455;\n",
              "      fill: #D2E3FC;\n",
              "    }\n",
              "\n",
              "    [theme=dark] .colab-df-convert:hover {\n",
              "      background-color: #434B5C;\n",
              "      box-shadow: 0px 1px 3px 1px rgba(0, 0, 0, 0.15);\n",
              "      filter: drop-shadow(0px 1px 2px rgba(0, 0, 0, 0.3));\n",
              "      fill: #FFFFFF;\n",
              "    }\n",
              "  </style>\n",
              "\n",
              "      <script>\n",
              "        const buttonEl =\n",
              "          document.querySelector('#df-b9edccd6-5170-4bbc-9b60-6e0af3171a36 button.colab-df-convert');\n",
              "        buttonEl.style.display =\n",
              "          google.colab.kernel.accessAllowed ? 'block' : 'none';\n",
              "\n",
              "        async function convertToInteractive(key) {\n",
              "          const element = document.querySelector('#df-b9edccd6-5170-4bbc-9b60-6e0af3171a36');\n",
              "          const dataTable =\n",
              "            await google.colab.kernel.invokeFunction('convertToInteractive',\n",
              "                                                     [key], {});\n",
              "          if (!dataTable) return;\n",
              "\n",
              "          const docLinkHtml = 'Like what you see? Visit the ' +\n",
              "            '<a target=\"_blank\" href=https://colab.research.google.com/notebooks/data_table.ipynb>data table notebook</a>'\n",
              "            + ' to learn more about interactive tables.';\n",
              "          element.innerHTML = '';\n",
              "          dataTable['output_type'] = 'display_data';\n",
              "          await google.colab.output.renderOutput(dataTable, element);\n",
              "          const docLink = document.createElement('div');\n",
              "          docLink.innerHTML = docLinkHtml;\n",
              "          element.appendChild(docLink);\n",
              "        }\n",
              "      </script>\n",
              "    </div>\n",
              "  </div>\n",
              "  "
            ]
          },
          "metadata": {},
          "execution_count": 5
        }
      ]
    },
    {
      "cell_type": "code",
      "source": [
        "feat_comb_df = pd.read_csv('/content/drive/MyDrive/11-785/Project/features_full_final.csv').set_index(['tic','rdq']).drop(['FYEARQ','FQTR'],axis=1)\n",
        "feat_comb_df = feat_comb_df.dropna(axis=0,how='all')\n",
        "feat_comb_df = feat_comb_df.dropna(axis=1,how='all')\n",
        "feat_comb_df = feat_comb_df[sorted(feat_comb_df.columns)]\n",
        "feat_comb_df"
      ],
      "metadata": {
        "colab": {
          "base_uri": "https://localhost:8080/",
          "height": 693
        },
        "id": "oVBCJ7p8TmV0",
        "outputId": "4b46e9e6-2876-4f75-9c12-7b5c31ab2367"
      },
      "execution_count": 6,
      "outputs": [
        {
          "output_type": "execute_result",
          "data": {
            "text/plain": [
              "                      A2ME        AC        AT       ATO      BEME      BETA  \\\n",
              "tic   rdq                                                                      \n",
              "0081A 1996-12-31       NaN       NaN       NaN       NaN       NaN       NaN   \n",
              "      1997-01-31       NaN       NaN       NaN       NaN       NaN       NaN   \n",
              "      1997-02-28  0.564765       NaN   140.274       NaN       NaN       NaN   \n",
              "      1997-03-31  0.564765       NaN   140.274       NaN       NaN       NaN   \n",
              "      1997-04-30  0.529462       NaN   146.767       NaN       NaN       NaN   \n",
              "...                    ...       ...       ...       ...       ...       ...   \n",
              "ZZ    2012-10-31  5.840417  0.377852   971.509  0.888069 -0.316438  0.503049   \n",
              "      2012-11-30  5.840417  0.377852   971.509  0.888069 -0.316438  0.503035   \n",
              "      2012-12-31  5.840417  0.377852   971.509  0.888069 -0.316438  0.500307   \n",
              "      2013-01-31  4.440987  0.489857  1005.345  1.081163 -0.253677  0.501021   \n",
              "      2013-02-28  4.440987  0.489857  1005.345  1.081163 -0.253677  0.500922   \n",
              "\n",
              "                         C  CF      CF2P       CTO  ...  REL2HIGH  RESID_VAR  \\\n",
              "tic   rdq                                           ...                        \n",
              "0081A 1996-12-31       NaN NaN       NaN       NaN  ...       NaN        NaN   \n",
              "      1997-01-31       NaN NaN       NaN       NaN  ...       NaN        NaN   \n",
              "      1997-02-28  0.011328 NaN       NaN       NaN  ...       NaN   1.896184   \n",
              "      1997-03-31  0.011328 NaN       NaN       NaN  ...       NaN   2.542292   \n",
              "      1997-04-30  0.014431 NaN       NaN       NaN  ...       NaN   2.653953   \n",
              "...                    ...  ..       ...       ...  ...       ...        ...   \n",
              "ZZ    2012-10-31  0.091438 NaN -0.015174  0.549053  ...  0.910204   1.851362   \n",
              "      2012-11-30  0.091438 NaN -0.015174  0.549053  ...  0.885714   0.619041   \n",
              "      2012-12-31  0.091438 NaN -0.015174  0.549053  ...  0.885714   0.598993   \n",
              "      2013-01-31  0.127473 NaN  0.042809  0.614895  ...  0.881633   0.542592   \n",
              "      2013-02-28  0.127473 NaN  0.042809  0.614895  ...  0.889796   0.429795   \n",
              "\n",
              "                       RNA       ROA       ROE       S2P     SGA2S   ST_REV  \\\n",
              "tic   rdq                                                                     \n",
              "0081A 1996-12-31       NaN       NaN       NaN       NaN       NaN      NaN   \n",
              "      1997-01-31       NaN       NaN       NaN       NaN       NaN      NaN   \n",
              "      1997-02-28       NaN       NaN       NaN       NaN       NaN   1.5583   \n",
              "      1997-03-31       NaN       NaN       NaN       NaN       NaN  10.7738   \n",
              "      1997-04-30       NaN       NaN       NaN       NaN       NaN  -2.7778   \n",
              "...                    ...       ...       ...       ...       ...      ...   \n",
              "ZZ    2012-10-31  0.118627 -0.009920  0.167075  7.568810  0.818410  36.2500   \n",
              "      2012-11-30  0.118627 -0.009920  0.167075  7.568810  0.818410   2.2936   \n",
              "      2012-12-31  0.118627 -0.009920  0.167075  7.568810  0.818410  -2.6906   \n",
              "      2013-01-31  0.167337  0.002145 -0.024645  5.954049  0.798554   0.0000   \n",
              "      2013-02-28  0.167337  0.002145 -0.024645  5.954049  0.798554  -0.4608   \n",
              "\n",
              "                       SUV  VARIANCE  \n",
              "tic   rdq                             \n",
              "0081A 1996-12-31       NaN       NaN  \n",
              "      1997-01-31       NaN       NaN  \n",
              "      1997-02-28       NaN  4.225542  \n",
              "      1997-03-31       NaN  6.975184  \n",
              "      1997-04-30       NaN  7.456677  \n",
              "...                    ...       ...  \n",
              "ZZ    2012-10-31  0.669890  4.256721  \n",
              "      2012-11-30 -0.125130  0.458271  \n",
              "      2012-12-31  0.062727  0.420686  \n",
              "      2013-01-31 -1.501970  0.311550  \n",
              "      2013-02-28 -0.227316  0.230933  \n",
              "\n",
              "[3689185 rows x 45 columns]"
            ],
            "text/html": [
              "\n",
              "  <div id=\"df-42d27ddb-c6ee-49df-94ca-4292b5d3a188\">\n",
              "    <div class=\"colab-df-container\">\n",
              "      <div>\n",
              "<style scoped>\n",
              "    .dataframe tbody tr th:only-of-type {\n",
              "        vertical-align: middle;\n",
              "    }\n",
              "\n",
              "    .dataframe tbody tr th {\n",
              "        vertical-align: top;\n",
              "    }\n",
              "\n",
              "    .dataframe thead th {\n",
              "        text-align: right;\n",
              "    }\n",
              "</style>\n",
              "<table border=\"1\" class=\"dataframe\">\n",
              "  <thead>\n",
              "    <tr style=\"text-align: right;\">\n",
              "      <th></th>\n",
              "      <th></th>\n",
              "      <th>A2ME</th>\n",
              "      <th>AC</th>\n",
              "      <th>AT</th>\n",
              "      <th>ATO</th>\n",
              "      <th>BEME</th>\n",
              "      <th>BETA</th>\n",
              "      <th>C</th>\n",
              "      <th>CF</th>\n",
              "      <th>CF2P</th>\n",
              "      <th>CTO</th>\n",
              "      <th>...</th>\n",
              "      <th>REL2HIGH</th>\n",
              "      <th>RESID_VAR</th>\n",
              "      <th>RNA</th>\n",
              "      <th>ROA</th>\n",
              "      <th>ROE</th>\n",
              "      <th>S2P</th>\n",
              "      <th>SGA2S</th>\n",
              "      <th>ST_REV</th>\n",
              "      <th>SUV</th>\n",
              "      <th>VARIANCE</th>\n",
              "    </tr>\n",
              "    <tr>\n",
              "      <th>tic</th>\n",
              "      <th>rdq</th>\n",
              "      <th></th>\n",
              "      <th></th>\n",
              "      <th></th>\n",
              "      <th></th>\n",
              "      <th></th>\n",
              "      <th></th>\n",
              "      <th></th>\n",
              "      <th></th>\n",
              "      <th></th>\n",
              "      <th></th>\n",
              "      <th></th>\n",
              "      <th></th>\n",
              "      <th></th>\n",
              "      <th></th>\n",
              "      <th></th>\n",
              "      <th></th>\n",
              "      <th></th>\n",
              "      <th></th>\n",
              "      <th></th>\n",
              "      <th></th>\n",
              "      <th></th>\n",
              "    </tr>\n",
              "  </thead>\n",
              "  <tbody>\n",
              "    <tr>\n",
              "      <th rowspan=\"5\" valign=\"top\">0081A</th>\n",
              "      <th>1996-12-31</th>\n",
              "      <td>NaN</td>\n",
              "      <td>NaN</td>\n",
              "      <td>NaN</td>\n",
              "      <td>NaN</td>\n",
              "      <td>NaN</td>\n",
              "      <td>NaN</td>\n",
              "      <td>NaN</td>\n",
              "      <td>NaN</td>\n",
              "      <td>NaN</td>\n",
              "      <td>NaN</td>\n",
              "      <td>...</td>\n",
              "      <td>NaN</td>\n",
              "      <td>NaN</td>\n",
              "      <td>NaN</td>\n",
              "      <td>NaN</td>\n",
              "      <td>NaN</td>\n",
              "      <td>NaN</td>\n",
              "      <td>NaN</td>\n",
              "      <td>NaN</td>\n",
              "      <td>NaN</td>\n",
              "      <td>NaN</td>\n",
              "    </tr>\n",
              "    <tr>\n",
              "      <th>1997-01-31</th>\n",
              "      <td>NaN</td>\n",
              "      <td>NaN</td>\n",
              "      <td>NaN</td>\n",
              "      <td>NaN</td>\n",
              "      <td>NaN</td>\n",
              "      <td>NaN</td>\n",
              "      <td>NaN</td>\n",
              "      <td>NaN</td>\n",
              "      <td>NaN</td>\n",
              "      <td>NaN</td>\n",
              "      <td>...</td>\n",
              "      <td>NaN</td>\n",
              "      <td>NaN</td>\n",
              "      <td>NaN</td>\n",
              "      <td>NaN</td>\n",
              "      <td>NaN</td>\n",
              "      <td>NaN</td>\n",
              "      <td>NaN</td>\n",
              "      <td>NaN</td>\n",
              "      <td>NaN</td>\n",
              "      <td>NaN</td>\n",
              "    </tr>\n",
              "    <tr>\n",
              "      <th>1997-02-28</th>\n",
              "      <td>0.564765</td>\n",
              "      <td>NaN</td>\n",
              "      <td>140.274</td>\n",
              "      <td>NaN</td>\n",
              "      <td>NaN</td>\n",
              "      <td>NaN</td>\n",
              "      <td>0.011328</td>\n",
              "      <td>NaN</td>\n",
              "      <td>NaN</td>\n",
              "      <td>NaN</td>\n",
              "      <td>...</td>\n",
              "      <td>NaN</td>\n",
              "      <td>1.896184</td>\n",
              "      <td>NaN</td>\n",
              "      <td>NaN</td>\n",
              "      <td>NaN</td>\n",
              "      <td>NaN</td>\n",
              "      <td>NaN</td>\n",
              "      <td>1.5583</td>\n",
              "      <td>NaN</td>\n",
              "      <td>4.225542</td>\n",
              "    </tr>\n",
              "    <tr>\n",
              "      <th>1997-03-31</th>\n",
              "      <td>0.564765</td>\n",
              "      <td>NaN</td>\n",
              "      <td>140.274</td>\n",
              "      <td>NaN</td>\n",
              "      <td>NaN</td>\n",
              "      <td>NaN</td>\n",
              "      <td>0.011328</td>\n",
              "      <td>NaN</td>\n",
              "      <td>NaN</td>\n",
              "      <td>NaN</td>\n",
              "      <td>...</td>\n",
              "      <td>NaN</td>\n",
              "      <td>2.542292</td>\n",
              "      <td>NaN</td>\n",
              "      <td>NaN</td>\n",
              "      <td>NaN</td>\n",
              "      <td>NaN</td>\n",
              "      <td>NaN</td>\n",
              "      <td>10.7738</td>\n",
              "      <td>NaN</td>\n",
              "      <td>6.975184</td>\n",
              "    </tr>\n",
              "    <tr>\n",
              "      <th>1997-04-30</th>\n",
              "      <td>0.529462</td>\n",
              "      <td>NaN</td>\n",
              "      <td>146.767</td>\n",
              "      <td>NaN</td>\n",
              "      <td>NaN</td>\n",
              "      <td>NaN</td>\n",
              "      <td>0.014431</td>\n",
              "      <td>NaN</td>\n",
              "      <td>NaN</td>\n",
              "      <td>NaN</td>\n",
              "      <td>...</td>\n",
              "      <td>NaN</td>\n",
              "      <td>2.653953</td>\n",
              "      <td>NaN</td>\n",
              "      <td>NaN</td>\n",
              "      <td>NaN</td>\n",
              "      <td>NaN</td>\n",
              "      <td>NaN</td>\n",
              "      <td>-2.7778</td>\n",
              "      <td>NaN</td>\n",
              "      <td>7.456677</td>\n",
              "    </tr>\n",
              "    <tr>\n",
              "      <th>...</th>\n",
              "      <th>...</th>\n",
              "      <td>...</td>\n",
              "      <td>...</td>\n",
              "      <td>...</td>\n",
              "      <td>...</td>\n",
              "      <td>...</td>\n",
              "      <td>...</td>\n",
              "      <td>...</td>\n",
              "      <td>...</td>\n",
              "      <td>...</td>\n",
              "      <td>...</td>\n",
              "      <td>...</td>\n",
              "      <td>...</td>\n",
              "      <td>...</td>\n",
              "      <td>...</td>\n",
              "      <td>...</td>\n",
              "      <td>...</td>\n",
              "      <td>...</td>\n",
              "      <td>...</td>\n",
              "      <td>...</td>\n",
              "      <td>...</td>\n",
              "      <td>...</td>\n",
              "    </tr>\n",
              "    <tr>\n",
              "      <th rowspan=\"5\" valign=\"top\">ZZ</th>\n",
              "      <th>2012-10-31</th>\n",
              "      <td>5.840417</td>\n",
              "      <td>0.377852</td>\n",
              "      <td>971.509</td>\n",
              "      <td>0.888069</td>\n",
              "      <td>-0.316438</td>\n",
              "      <td>0.503049</td>\n",
              "      <td>0.091438</td>\n",
              "      <td>NaN</td>\n",
              "      <td>-0.015174</td>\n",
              "      <td>0.549053</td>\n",
              "      <td>...</td>\n",
              "      <td>0.910204</td>\n",
              "      <td>1.851362</td>\n",
              "      <td>0.118627</td>\n",
              "      <td>-0.009920</td>\n",
              "      <td>0.167075</td>\n",
              "      <td>7.568810</td>\n",
              "      <td>0.818410</td>\n",
              "      <td>36.2500</td>\n",
              "      <td>0.669890</td>\n",
              "      <td>4.256721</td>\n",
              "    </tr>\n",
              "    <tr>\n",
              "      <th>2012-11-30</th>\n",
              "      <td>5.840417</td>\n",
              "      <td>0.377852</td>\n",
              "      <td>971.509</td>\n",
              "      <td>0.888069</td>\n",
              "      <td>-0.316438</td>\n",
              "      <td>0.503035</td>\n",
              "      <td>0.091438</td>\n",
              "      <td>NaN</td>\n",
              "      <td>-0.015174</td>\n",
              "      <td>0.549053</td>\n",
              "      <td>...</td>\n",
              "      <td>0.885714</td>\n",
              "      <td>0.619041</td>\n",
              "      <td>0.118627</td>\n",
              "      <td>-0.009920</td>\n",
              "      <td>0.167075</td>\n",
              "      <td>7.568810</td>\n",
              "      <td>0.818410</td>\n",
              "      <td>2.2936</td>\n",
              "      <td>-0.125130</td>\n",
              "      <td>0.458271</td>\n",
              "    </tr>\n",
              "    <tr>\n",
              "      <th>2012-12-31</th>\n",
              "      <td>5.840417</td>\n",
              "      <td>0.377852</td>\n",
              "      <td>971.509</td>\n",
              "      <td>0.888069</td>\n",
              "      <td>-0.316438</td>\n",
              "      <td>0.500307</td>\n",
              "      <td>0.091438</td>\n",
              "      <td>NaN</td>\n",
              "      <td>-0.015174</td>\n",
              "      <td>0.549053</td>\n",
              "      <td>...</td>\n",
              "      <td>0.885714</td>\n",
              "      <td>0.598993</td>\n",
              "      <td>0.118627</td>\n",
              "      <td>-0.009920</td>\n",
              "      <td>0.167075</td>\n",
              "      <td>7.568810</td>\n",
              "      <td>0.818410</td>\n",
              "      <td>-2.6906</td>\n",
              "      <td>0.062727</td>\n",
              "      <td>0.420686</td>\n",
              "    </tr>\n",
              "    <tr>\n",
              "      <th>2013-01-31</th>\n",
              "      <td>4.440987</td>\n",
              "      <td>0.489857</td>\n",
              "      <td>1005.345</td>\n",
              "      <td>1.081163</td>\n",
              "      <td>-0.253677</td>\n",
              "      <td>0.501021</td>\n",
              "      <td>0.127473</td>\n",
              "      <td>NaN</td>\n",
              "      <td>0.042809</td>\n",
              "      <td>0.614895</td>\n",
              "      <td>...</td>\n",
              "      <td>0.881633</td>\n",
              "      <td>0.542592</td>\n",
              "      <td>0.167337</td>\n",
              "      <td>0.002145</td>\n",
              "      <td>-0.024645</td>\n",
              "      <td>5.954049</td>\n",
              "      <td>0.798554</td>\n",
              "      <td>0.0000</td>\n",
              "      <td>-1.501970</td>\n",
              "      <td>0.311550</td>\n",
              "    </tr>\n",
              "    <tr>\n",
              "      <th>2013-02-28</th>\n",
              "      <td>4.440987</td>\n",
              "      <td>0.489857</td>\n",
              "      <td>1005.345</td>\n",
              "      <td>1.081163</td>\n",
              "      <td>-0.253677</td>\n",
              "      <td>0.500922</td>\n",
              "      <td>0.127473</td>\n",
              "      <td>NaN</td>\n",
              "      <td>0.042809</td>\n",
              "      <td>0.614895</td>\n",
              "      <td>...</td>\n",
              "      <td>0.889796</td>\n",
              "      <td>0.429795</td>\n",
              "      <td>0.167337</td>\n",
              "      <td>0.002145</td>\n",
              "      <td>-0.024645</td>\n",
              "      <td>5.954049</td>\n",
              "      <td>0.798554</td>\n",
              "      <td>-0.4608</td>\n",
              "      <td>-0.227316</td>\n",
              "      <td>0.230933</td>\n",
              "    </tr>\n",
              "  </tbody>\n",
              "</table>\n",
              "<p>3689185 rows × 45 columns</p>\n",
              "</div>\n",
              "      <button class=\"colab-df-convert\" onclick=\"convertToInteractive('df-42d27ddb-c6ee-49df-94ca-4292b5d3a188')\"\n",
              "              title=\"Convert this dataframe to an interactive table.\"\n",
              "              style=\"display:none;\">\n",
              "        \n",
              "  <svg xmlns=\"http://www.w3.org/2000/svg\" height=\"24px\"viewBox=\"0 0 24 24\"\n",
              "       width=\"24px\">\n",
              "    <path d=\"M0 0h24v24H0V0z\" fill=\"none\"/>\n",
              "    <path d=\"M18.56 5.44l.94 2.06.94-2.06 2.06-.94-2.06-.94-.94-2.06-.94 2.06-2.06.94zm-11 1L8.5 8.5l.94-2.06 2.06-.94-2.06-.94L8.5 2.5l-.94 2.06-2.06.94zm10 10l.94 2.06.94-2.06 2.06-.94-2.06-.94-.94-2.06-.94 2.06-2.06.94z\"/><path d=\"M17.41 7.96l-1.37-1.37c-.4-.4-.92-.59-1.43-.59-.52 0-1.04.2-1.43.59L10.3 9.45l-7.72 7.72c-.78.78-.78 2.05 0 2.83L4 21.41c.39.39.9.59 1.41.59.51 0 1.02-.2 1.41-.59l7.78-7.78 2.81-2.81c.8-.78.8-2.07 0-2.86zM5.41 20L4 18.59l7.72-7.72 1.47 1.35L5.41 20z\"/>\n",
              "  </svg>\n",
              "      </button>\n",
              "      \n",
              "  <style>\n",
              "    .colab-df-container {\n",
              "      display:flex;\n",
              "      flex-wrap:wrap;\n",
              "      gap: 12px;\n",
              "    }\n",
              "\n",
              "    .colab-df-convert {\n",
              "      background-color: #E8F0FE;\n",
              "      border: none;\n",
              "      border-radius: 50%;\n",
              "      cursor: pointer;\n",
              "      display: none;\n",
              "      fill: #1967D2;\n",
              "      height: 32px;\n",
              "      padding: 0 0 0 0;\n",
              "      width: 32px;\n",
              "    }\n",
              "\n",
              "    .colab-df-convert:hover {\n",
              "      background-color: #E2EBFA;\n",
              "      box-shadow: 0px 1px 2px rgba(60, 64, 67, 0.3), 0px 1px 3px 1px rgba(60, 64, 67, 0.15);\n",
              "      fill: #174EA6;\n",
              "    }\n",
              "\n",
              "    [theme=dark] .colab-df-convert {\n",
              "      background-color: #3B4455;\n",
              "      fill: #D2E3FC;\n",
              "    }\n",
              "\n",
              "    [theme=dark] .colab-df-convert:hover {\n",
              "      background-color: #434B5C;\n",
              "      box-shadow: 0px 1px 3px 1px rgba(0, 0, 0, 0.15);\n",
              "      filter: drop-shadow(0px 1px 2px rgba(0, 0, 0, 0.3));\n",
              "      fill: #FFFFFF;\n",
              "    }\n",
              "  </style>\n",
              "\n",
              "      <script>\n",
              "        const buttonEl =\n",
              "          document.querySelector('#df-42d27ddb-c6ee-49df-94ca-4292b5d3a188 button.colab-df-convert');\n",
              "        buttonEl.style.display =\n",
              "          google.colab.kernel.accessAllowed ? 'block' : 'none';\n",
              "\n",
              "        async function convertToInteractive(key) {\n",
              "          const element = document.querySelector('#df-42d27ddb-c6ee-49df-94ca-4292b5d3a188');\n",
              "          const dataTable =\n",
              "            await google.colab.kernel.invokeFunction('convertToInteractive',\n",
              "                                                     [key], {});\n",
              "          if (!dataTable) return;\n",
              "\n",
              "          const docLinkHtml = 'Like what you see? Visit the ' +\n",
              "            '<a target=\"_blank\" href=https://colab.research.google.com/notebooks/data_table.ipynb>data table notebook</a>'\n",
              "            + ' to learn more about interactive tables.';\n",
              "          element.innerHTML = '';\n",
              "          dataTable['output_type'] = 'display_data';\n",
              "          await google.colab.output.renderOutput(dataTable, element);\n",
              "          const docLink = document.createElement('div');\n",
              "          docLink.innerHTML = docLinkHtml;\n",
              "          element.appendChild(docLink);\n",
              "        }\n",
              "      </script>\n",
              "    </div>\n",
              "  </div>\n",
              "  "
            ]
          },
          "metadata": {},
          "execution_count": 6
        }
      ]
    },
    {
      "cell_type": "code",
      "source": [
        "MIN_AVAILABLE_FEATURES = feat_comb_df.shape[1]//2\n",
        "\n",
        "full_df_lst = []\n",
        "for date in tqdm(date_idx):\n",
        "    sub = feat_comb_df.loc[feat_comb_df.index.get_level_values(1) < date]\n",
        "    sub = sub.groupby(sub.index.get_level_values('tic')).last(1)\n",
        "    sub = sub.transpose()\n",
        "    \n",
        "    sub = sub.rank(pct=True,axis=1)*2-1\n",
        "    idx = (sub.isna().sum(axis=0) >= MIN_AVAILABLE_FEATURES).index\n",
        "    sub = sub[idx].fillna(0)\n",
        "    \n",
        "#     sub = sub.fillna(sub.median(axis=1),axis=0)\n",
        "    \n",
        "    sub['date'] = date\n",
        "    sub =  sub.set_index(['date',sub.index])\n",
        "    \n",
        "    full_df_lst.append(sub)"
      ],
      "metadata": {
        "colab": {
          "base_uri": "https://localhost:8080/"
        },
        "id": "Md43XKu5UP8a",
        "outputId": "e7654ee9-aee4-4ff5-99b7-799131da4646"
      },
      "execution_count": 7,
      "outputs": [
        {
          "output_type": "stream",
          "name": "stderr",
          "text": [
            "100%|██████████| 506/506 [10:23<00:00,  1.23s/it]\n"
          ]
        }
      ]
    },
    {
      "cell_type": "code",
      "source": [
        "del(feat_comb_df)\n",
        "gc.collect()"
      ],
      "metadata": {
        "colab": {
          "base_uri": "https://localhost:8080/"
        },
        "id": "A7oclFBDaUr9",
        "outputId": "66748966-d810-4250-84d5-9efa855f4baf"
      },
      "execution_count": 8,
      "outputs": [
        {
          "output_type": "execute_result",
          "data": {
            "text/plain": [
              "52"
            ]
          },
          "metadata": {},
          "execution_count": 8
        }
      ]
    },
    {
      "cell_type": "code",
      "source": [
        "orig = (83,360)\n",
        "valid = (360,420)\n",
        "test = (420,505)"
      ],
      "metadata": {
        "id": "9W8E2oZmWu7Z"
      },
      "execution_count": 9,
      "outputs": []
    },
    {
      "cell_type": "code",
      "source": [
        "class AEDataSet(torch.utils.data.Dataset):\n",
        "    def __init__(self, macro_df, full_df_lst, returns_df, date_idx, start_i, end_i, rhs_input_assets=False,lag=1):\n",
        "        self.full_df_lst = full_df_lst\n",
        "        self.macro_df_idx = macro_df.index\n",
        "        self.macro_df = macro_df.to_numpy()\n",
        "        self.macro_df[np.isnan(self.macro_df)] = 0\n",
        "        self.returns_df = returns_df\n",
        "        self.date_idx = date_idx\n",
        "        self.start_i, self.end_i = start_i, end_i\n",
        "        self.rhs_input_assets = rhs_input_assets\n",
        "        self.epsilon=1e-5\n",
        "        self.lag=lag\n",
        "        \n",
        "        self.output_date_idx = date_idx[start_i+lag:end_i]\n",
        "        \n",
        "    def __len__(self):\n",
        "        return self.end_i - self.start_i - self.lag\n",
        "    \n",
        "    def __getitem__(self, idx):\n",
        "        input_idx = idx\n",
        "        idx += self.start_i+self.lag\n",
        "        date = self.date_idx[idx] # returns date\n",
        "        \n",
        "        macro = self.macro_df\n",
        "        \n",
        "        mask = ~np.isnan(self.returns_df.loc[date].to_numpy())\n",
        "        traded_assets_idx = self.returns_df.columns[mask]\n",
        "        \n",
        "        lhs = self.full_df_lst[idx - self.lag]\n",
        "        lhs_idx = lhs.columns\n",
        "        \n",
        "        comb_idx = traded_assets_idx.intersection(lhs_idx)\n",
        "        \n",
        "        lhs = lhs.reindex(comb_idx,axis=1,fill_value=0).to_numpy()\n",
        "        \n",
        "        rhs_tmp = self.returns_df.loc[date,comb_idx]\n",
        "        rhs_tmp = rhs_tmp.clip(rhs_tmp.quantile(0.01),rhs_tmp.quantile(0.99))\n",
        "        output = rhs_tmp.to_numpy()\n",
        "\n",
        "        lhs_tmp = np.concatenate([lhs,np.expand_dims(np.ones(lhs.shape[1]),0)],axis=0)\n",
        "        \n",
        "        if self.rhs_input_assets:\n",
        "            rhs = output\n",
        "        else:\n",
        "            try:\n",
        "#               \n",
        "                # Causing singular error. Changing to pseudo inverse\n",
        "                rhs = (np.linalg.pinv(lhs_tmp @ lhs_tmp.T) @ lhs_tmp) @ rhs_tmp\n",
        "#               \n",
        "            except Exception as e:\n",
        "                print(\"idx:\",input_idx)\n",
        "                print(e)\n",
        "#                 return self.full_df_lst[idx - self.lag].reindex(traded_assets_idx,axis=1,fill_value=0), rhs_tmp\n",
        "                # return lhs,lhs_tmp,output\n",
        "                raise e\n",
        "#             rhs.index = lhs_tmp.index\n",
        "#             rhs = rhs.reindex(self.alpha_names,fill_value=0).clip(-5e4,5e4)\n",
        "#             rhs['equal'] = equal_weighted_portfolio\n",
        "#             rhs = rhs.to_numpy()\n",
        "        return macro,self.macro_df_idx,date,lhs,rhs,output,comb_idx\n",
        "        \n",
        "        \n",
        "def collate_fn(batch):\n",
        "    macro = batch[0][0]\n",
        "    macro_df_idx = batch[0][1]\n",
        "    dates = [i for _,_,i,_,_,_,_ in batch]\n",
        "    dates = [np.where(macro_df_idx == np.max(macro_df_idx[macro_df_idx <= i]))[0][0] for i in dates]\n",
        "    len_x = [len(output) for _,_,_,_,_,output,_ in batch]\n",
        "    full_size = max(len_x)\n",
        "#     print(full_size)\n",
        "    \n",
        "    \n",
        "    batch_lhs = [nn.functional.pad(torch.Tensor(lhs),pad=(0,full_size-lhs.shape[1],0,0)) for macro,_,_,lhs,rhs,output,_ in batch]\n",
        "    batch_rhs = [torch.Tensor(rhs) for macro,_,_,lhs,rhs,output,_ in batch]\n",
        "    batch_output = [nn.functional.pad(torch.Tensor(output),pad=(0,full_size-len(output))) for macro,_,_,lhs,rhs,output,_ in batch]\n",
        "    batch_assets = [idx for macro,_,_,lhs,rhs,output,idx in batch]\n",
        "\n",
        "    \n",
        "    return torch.from_numpy(macro), torch.tensor(dates),\\\n",
        "        torch.cat([x.unsqueeze(0) for x in batch_lhs]),\\\n",
        "        torch.cat([x.unsqueeze(0) for x in batch_rhs]),\\\n",
        "        torch.cat([x.unsqueeze(0) for x in batch_output]), torch.tensor(len_x), batch_assets"
      ],
      "metadata": {
        "id": "EVUqm-DEWx68"
      },
      "execution_count": 10,
      "outputs": []
    },
    {
      "cell_type": "code",
      "source": [
        "def buildListFromConfigs(config, inp_size, out_size, batch_norm=True, dropout=0.5, initialization=False, nonlinear=nn.SELU):\n",
        "    layer_lst = []\n",
        "    for i, v in enumerate(list(config)+[out_size]):\n",
        "        if batch_norm and i > 0: #generally no batch norm before the model starts\n",
        "            layer_lst.append(nn.LayerNorm(inp_size))\n",
        "        if dropout > 1e-8 and i > 0:\n",
        "            layer_lst.append(nn.Dropout(dropout))\n",
        "        layer_lst.append(nn.Linear(inp_size, v, bias=True))\n",
        "        if initialization:\n",
        "            nn.init.kaiming_normal_(layer_lst[-1].weight,mode='fan_in',nonlinearity='linear')\n",
        "        if i < len(config):\n",
        "            layer_lst.append(nonlinear())\n",
        "        inp_size = v\n",
        "    return layer_lst, inp_size\n",
        "\n",
        "class BuildLSTM(nn.Module):\n",
        "    def __init__(self, input_size, hidden_size, num_layers, dropout, proj_size=None):\n",
        "        super().__init__()\n",
        "        self.num_layers = num_layers\n",
        "        self.dropout = nn.ModuleList([nn.Dropout(dropout) for i in range(num_layers)]) #nn.ModuleList([LockedDropout(dropout) for i in range(num_layers)])\n",
        "        layers = []\n",
        "        for i in range(num_layers):\n",
        "            layers.append(nn.LSTMCell(input_size, hidden_size))\n",
        "            input_size = hidden_size\n",
        "        self.layers = nn.ModuleList(layers)\n",
        "        self.final = nn.Linear(input_size, proj_size) if proj_size is not None and input_size != proj_size else nn.Identity()\n",
        "    \n",
        "    def forward(self, data, hidden=None):\n",
        "        if hidden is None:\n",
        "            hidden = [None for i in range(self.num_layers)]\n",
        "        for i in range(self.num_layers):\n",
        "            data = self.dropout[i](data)\n",
        "            data, hidden[i] = self.layers[i](data, hidden[i])\n",
        "        data = self.final(data)\n",
        "        return data, hidden\n",
        "        \n",
        "\n",
        "class ConditionalAutoEncoder(nn.Module):\n",
        "    # starting macro is the state of the last 13 months. For training, set it to None (equivalent to setting it to a torch of zeros).\n",
        "    # However, since testing data is low, run the macro net on the past <attention_span> months and send that. First month's data is not used.\n",
        "    # Requires a <attention_span>*<n_macro_size> torch vector in the same device as the model, where n_macro_size is the output of the n_hidden_macro net.\n",
        "    def __init__(self, n_alphas, n_factors, n_macro, n_hidden_macro, n_hidden_lhs, n_hidden_rhs, attention_vs_lstm='attention', starting_macro = None, starting_rhs = None,\n",
        "                    batch_norm_lhs=True, batch_norm_rhs=False, dropout_p=0, initialization=True, rhs_input_assets = False, rhs_activation = True,\n",
        "                    bn_momentum=0.1, bn_track_running_stats = True, macro_attention_span=1, rhs_attention_span=1, num_lstm_layers=1):\n",
        "        # n_assets can be assets or portfolios:\n",
        "            # In both cases, we are interested in asset return or portfolio return on the RHS\n",
        "            # LHS is the original factor \n",
        "        super(ConditionalAutoEncoder, self).__init__()\n",
        "\n",
        "        self.n_alphas = n_alphas\n",
        "        self.n_factors = n_factors\n",
        "        self.n_hidden_lhs = list(n_hidden_lhs)\n",
        "        self.n_hidden_rhs = list(n_hidden_rhs)\n",
        "        self.n_macro = n_macro\n",
        "        self.n_hidden_macro = n_hidden_macro\n",
        "        self.lstm = attention_vs_lstm != 'attention'\n",
        "\n",
        "        if attention_vs_lstm == 'attention':\n",
        "            self.prev_macro = torch.zeros((macro_attention_span, n_factors), requires_grad=True) if starting_macro is None else starting_macro\n",
        "            self.prev_rhs   = torch.zeros((rhs_attention_span, n_factors), requires_grad=True) if starting_rhs is None else starting_rhs\n",
        "            self.macro_attention_span = macro_attention_span\n",
        "            self.rhs_attention_span = rhs_attention_span\n",
        "            #attention_lst = buildListFromConfigs(n_hidden_macro, n_macro+macro_attention_span*n_factors + rhs_attention_span*n_factors, n_factors, batch_norm=True, dropout=dropout_p, initialization=True, nonlinear=nn.SELU)\n",
        "            attention_lst, _ = buildListFromConfigs(n_hidden_macro, n_macro+macro_attention_span*n_factors + rhs_attention_span*n_factors, n_factors, batch_norm=True, dropout=dropout_p, initialization=True, nonlinear=nn.SELU)\n",
        "            self.macro = nn.Sequential(*attention_lst)\n",
        "        else:\n",
        "            attention_lst, _ = buildListFromConfigs(n_hidden_macro, n_macro, n_factors, batch_norm=True, dropout=dropout_p, initialization=True, nonlinear=nn.SELU)\n",
        "            self.macro = nn.Sequential(*attention_lst)\n",
        "            self.macro_lstm = nn.LSTM(n_factors, n_factors, num_lstm_layers, dropout=dropout_p) #BuildLSTM(n_factors, n_factors, num_lstm_layers)\n",
        "\n",
        "        \n",
        "        lhs_lst, _ = buildListFromConfigs(n_hidden_lhs, n_alphas, n_factors, batch_norm_lhs, dropout=dropout_p, initialization=True, nonlinear=nn.SELU)\n",
        "        rhs_lst, _ = buildListFromConfigs(n_hidden_rhs, n_alphas+1, n_factors, batch_norm_rhs, dropout=dropout_p, initialization=True, nonlinear=nn.SELU if rhs_activation else nn.Identity)\n",
        "        if rhs_activation:\n",
        "            rhs_lst.append(nn.SELU()) #Still not sold on this\n",
        "\n",
        "        \n",
        "        self.lhs = nn.Sequential(*lhs_lst)\n",
        "        self.rhs = nn.Sequential(*rhs_lst)\n",
        "    \n",
        "    def run_through_lhs(self, data):\n",
        "        #y_lhs_lst = []\n",
        "        #for i in range(x_lhs.shape[2]):\n",
        "        #    y_cur = self.lhs(x_lhs[:,:,i])\n",
        "        #    y_cur = torch.unsqueeze(y_cur,2)\n",
        "        #    y_lhs_lst.append(y_cur)\n",
        "        #y_lhs = torch.cat(y_lhs_lst,dim=2)\n",
        "\n",
        "        shape = data.shape\n",
        "        data = data.permute(0, 2, 1).reshape(-1, shape[1])\n",
        "        out = self.lhs(data)\n",
        "        return out.reshape(shape[0], shape[2], -1).permute(0, 2, 1)\n",
        "    \n",
        "    def run_through_macro(self, x_macro, y_rhs, idx):\n",
        "        if self.lstm:\n",
        "            y_macro = self.macro(x_macro[:, :])\n",
        "            y_macro, hidden = self.macro_lstm(y_macro[None, :, :])\n",
        "            y_macro = y_macro[0, idx, :][:, :, None]\n",
        "        else:\n",
        "            # If using Attention, store prev_macro and prev_rhs outside like lstm\n",
        "            macro = torch.cat((x_macro, self.prev_macro.reshape(1, -1), self.prev_rhs.reshape(1, -1)))\n",
        "            y_macro = self.macro(macro)\n",
        "            hidden = None\n",
        "            self.prev_macro = torch.roll(self.prev_macro, -1, 0)\n",
        "            self.prev_macro[-1] = y_macro\n",
        "            self.prev_rhs = torch.roll(self.prev_rhs, -1, 0)\n",
        "            self.prev_rhs[-1] = y_rhs\n",
        "        return y_macro, hidden\n",
        "\n",
        "    def forward(self, x_macro, macro_idx, x_lhs, x_rhs):\n",
        "        y_lhs = self.run_through_lhs(x_lhs)\n",
        "        y_rhs = self.rhs(x_rhs).unsqueeze(dim=2)\n",
        "        self.last_rhs_factors = y_rhs\n",
        "        y_macro, hidden = self.run_through_macro(x_macro, y_rhs, macro_idx)\n",
        "        out = y_lhs*y_rhs*y_macro\n",
        "        out = torch.sum(out, dim=1) #Double check this\n",
        "        return out, y_rhs\n",
        "\n",
        "    def forward_given_factors(self, x_macro, macro_idx, x_lhs, factors):\n",
        "        y_lhs = self.run_through_lhs(x_lhs)\n",
        "        y_rhs = factors\n",
        "        y_macro, hidden = self.run_through_macro(x_macro, y_rhs, macro_idx)\n",
        "        #out = torch.bmm(y_lhs.transpose(1,2), y_rhs).squeeze(2)\n",
        "        out = torch.sum(y_lhs*y_rhs*y_macro, dim=1) #Double check this\n",
        "        return out"
      ],
      "metadata": {
        "id": "XHrSoJdbW1Je"
      },
      "execution_count": 11,
      "outputs": []
    },
    {
      "cell_type": "code",
      "source": [
        "from sklearn.metrics import mean_squared_error\n",
        "@print_durations()\n",
        "def test(args,model,device,test_loader,criterion):\n",
        "    model.eval()\n",
        "        \n",
        "    output_lst = []\n",
        "    data_lst = []\n",
        "\n",
        "    for data_macro, idx_macro, data_lhs, data_rhs, data_output, data_x_lens, data_assets in test_loader:\n",
        "        # print(\"Shapes:\",data_lhs.shape, data_rhs.shape, data_output.shape, data_mask.shape)\n",
        "        idx_macro = idx_macro.to(device)\n",
        "        data_macro = data_macro.float().to(device)\n",
        "        data_lhs = data_lhs.float().to(device)\n",
        "        data_rhs = data_rhs.float().to(device)\n",
        "        data_output = data_output.float().to(device)\n",
        "        data_x_lens = data_x_lens.int().to(device)\n",
        "        output,_ = model(x_macro = data_macro, macro_idx=idx_macro, x_lhs = data_lhs, x_rhs = data_rhs)\n",
        "\n",
        "        data_mask = torch.arange(data_lhs.shape[2])[None, :].to(device) < data_x_lens[:, None]\n",
        "        output_masked = torch.masked_select(output,data_mask)\n",
        "        data_output_masked = torch.masked_select(data_output,data_mask)\n",
        "        assert (len(output_masked) == torch.sum(data_x_lens))\n",
        "        # print(\"Loss Inside:\",criterion(output_masked,data_output_masked))\n",
        "\n",
        "        output_lst.append(output_masked)\n",
        "        data_lst.append(data_output_masked)\n",
        "    \n",
        "    full_output = torch.cat(output_lst,axis=0)\n",
        "    full_data = torch.cat(data_lst,axis=0)\n",
        "\n",
        "    return mean_squared_error(full_data.cpu().detach().numpy(), full_output.cpu().detach().numpy())\n",
        "\n",
        "@print_durations()\n",
        "def train(args, model, device, train_loader, optimizer, criterion, epoch, max_norm=None):\n",
        "    model.train()\n",
        "    \n",
        "    batch_bar = tqdm(total=len(train_loader), dynamic_ncols=True, leave=False, position=0, desc='Train') \n",
        "    \n",
        "    total_loss = 0\n",
        "    total_reg_loss=0\n",
        "    \n",
        "    N = len(train_loader)\n",
        "    \n",
        "    for batch_idx, (data_macro, idx_macro, data_lhs, data_rhs, data_output, data_x_lens, data_assets) in enumerate(train_loader):\n",
        "\n",
        "        optimizer.zero_grad()\n",
        "        idx_macro = idx_macro.to(device)\n",
        "        data_macro = data_macro.float().to(device)\n",
        "        data_lhs = data_lhs.float().to(device)\n",
        "        data_rhs = data_rhs.float().to(device)\n",
        "        data_output = data_output.float().to(device)\n",
        "        data_x_lens = data_x_lens.int().to(device)\n",
        "\n",
        "        if max_norm: torch.nn.utils.clip_grad_norm_(model.parameters(), max_norm)\n",
        "        output,_ = model(x_macro = data_macro, macro_idx=idx_macro, x_lhs = data_lhs, x_rhs = data_rhs)\n",
        "        \n",
        "        data_mask = torch.arange(data_lhs.shape[2])[None, :].to(device) < data_x_lens[:, None]\n",
        "\n",
        "        output_masked = torch.masked_select(output,data_mask)\n",
        "        data_output_masked = torch.masked_select(data_output,data_mask)\n",
        "\n",
        "        loss_tmp = criterion(output_masked, data_output_masked)\n",
        "\n",
        "        regularization_loss = 0\n",
        "        for p in model.parameters():\n",
        "            regularization_loss += torch.sum(abs(p))\n",
        "\n",
        "        loss = loss_tmp + args['l1_lambda'] * regularization_loss\n",
        "        \n",
        "        loss.backward()\n",
        "        total_loss += loss\n",
        "        total_reg_loss += regularization_loss * args['l1_lambda'] \n",
        "\n",
        "        # print(\"Gradient:\", loss.grad)\n",
        "        optimizer.step()\n",
        "\n",
        "        batch_bar.set_postfix(\n",
        "            total_loss=\"{:.04f}\".format(float(total_loss / (batch_idx + 1))),\n",
        "            reg_loss = \"{:.04f}\".format(float(total_reg_loss / (batch_idx + 1))),\n",
        "            lr=\"{:.04f}\".format(float(optimizer.param_groups[0]['lr'])))\n",
        "        batch_bar.update()\n",
        "        \n",
        "    print(f\"Epoch {epoch}, total_loss={float(total_loss / N):.04f}, reg_loss = {float(total_reg_loss / N):.04f}\")"
      ],
      "metadata": {
        "id": "X_9qSyM-W7lk"
      },
      "execution_count": 12,
      "outputs": []
    },
    {
      "cell_type": "code",
      "source": [
        "def run(args, n_alphas, full_df_lst, returns_df, date_idx, train_start,\n",
        "        train_end, valid_start, valid_end, n_macro, n_window=36, batch_size=16, checkpoint_name=None):\n",
        "    device = torch.device(\"cuda\" if torch.cuda.is_available() else \"cpu\")\n",
        "    model = ConditionalAutoEncoder(\n",
        "        n_alphas = n_alphas,\n",
        "        n_factors = args['n_factors'],\n",
        "        n_macro = n_macro,\n",
        "        n_hidden_macro = args['n_hidden_macro'],\n",
        "        n_hidden_lhs = args['n_hidden_lhs'],\n",
        "        n_hidden_rhs = args['n_hidden_rhs'],\n",
        "        attention_vs_lstm='lstm',\n",
        "        batch_norm_lhs = args['batch_norm_lhs'],\n",
        "        batch_norm_rhs = args['batch_norm_rhs'],\n",
        "        dropout_p=args['dropout_p'],\n",
        "        initialization=args['initialization'],\n",
        "        rhs_input_assets=args['rhs_input_assets'],\n",
        "        rhs_activation = args['rhs_activation'],\n",
        "        num_lstm_layers = args['num_lstm_layers']\n",
        "    #     bn_track_running_stats=args['bn_track_running_stats'],\n",
        "    #     bn_momentum=args['bn_momentum']\n",
        "    )\n",
        "    \n",
        "    print(model)\n",
        "    \n",
        "    gc.collect()\n",
        "    torch.cuda.empty_cache()\n",
        "    \n",
        "    train_data = AEDataSet(macro_df,full_df_lst,returns_df,date_idx,train_start,train_end)\n",
        "    valid_data = AEDataSet(macro_df,full_df_lst,returns_df,date_idx,valid_start,valid_end)\n",
        "    extended_valid_data= AEDataSet(macro_df,full_df_lst,returns_df,date_idx,valid_start-n_window,valid_end)\n",
        "\n",
        "    train_loader = torch.utils.data.DataLoader(\n",
        "        train_data,\n",
        "        batch_size = batch_size,\n",
        "        pin_memory=True,\n",
        "        num_workers=0,\n",
        "        shuffle=True,\n",
        "        collate_fn = collate_fn\n",
        "    )\n",
        "\n",
        "    valid_loader = torch.utils.data.DataLoader(\n",
        "        valid_data,\n",
        "        batch_size = batch_size,\n",
        "        pin_memory=True,\n",
        "        num_workers=0,\n",
        "        shuffle=False,\n",
        "        collate_fn = collate_fn\n",
        "    )\n",
        "    \n",
        "    extended_valid_loader = torch.utils.data.DataLoader(\n",
        "        extended_valid_data,\n",
        "        batch_size = batch_size,\n",
        "        pin_memory=True,\n",
        "        num_workers=0,\n",
        "        shuffle=False,\n",
        "        collate_fn = collate_fn\n",
        "    )\n",
        "    \n",
        "    \n",
        "    \n",
        "\n",
        "    model = model.to(device)\n",
        "    optimizer = optim.AdamW(model.parameters(), lr=args['lr'], weight_decay=args['l2_lambda'])\n",
        "    criterion = torch.nn.MSELoss()\n",
        "\n",
        "    train_mse = test(args,model,device,train_loader,criterion)\n",
        "    valid_mse = test(args,model,device,valid_loader,criterion)\n",
        "    train_mse_lst, valid_mse_lst = [train_mse], [valid_mse]\n",
        "\n",
        "    # scheduler = torch.optim.lr_scheduler.ExponentialLR(optimizer, gamma=args['gamma'])\n",
        "    scheduler = torch.optim.lr_scheduler.ReduceLROnPlateau(optimizer,'min',0.5,patience=5,threshold=1e-3,cooldown=10)\n",
        "    print(\"Pre-Train Train MSE:\", train_mse)\n",
        "    print(\"Pre-Train Valid MSE:\", valid_mse)\n",
        "\n",
        "    best_model = None\n",
        "    for epoch in range(1, args['epoch']+1):\n",
        "        log_dict = {}\n",
        "\n",
        "        gc.collect()\n",
        "        torch.cuda.empty_cache()\n",
        "\n",
        "        train(args,model,device,train_loader,optimizer,criterion,epoch,max_norm=args['max_norm'])\n",
        "        gc.collect()\n",
        "        torch.cuda.empty_cache()\n",
        "\n",
        "        log_dict['train_mse'] = test(args,model,device,train_loader,criterion)\n",
        "        log_dict['valid_mse'] = test(args,model,device,valid_loader,criterion)\n",
        "        log_dict['lr'] = scheduler.optimizer.state_dict()['param_groups'][0]['lr']\n",
        "\n",
        "        gc.collect()\n",
        "        torch.cuda.empty_cache()\n",
        "\n",
        "        print(\"Train MSE:\",log_dict['train_mse'])\n",
        "        print(\"Valid MSE:\",log_dict['valid_mse'])\n",
        "\n",
        "        scheduler.step(log_dict['valid_mse'])\n",
        "        print('Next Learning Rate:', scheduler.optimizer.state_dict()['param_groups'][0]['lr'])\n",
        "\n",
        "        print(train_mse_lst)\n",
        "        print(valid_mse_lst)\n",
        "        if log_dict['valid_mse'] < np.min(valid_mse_lst):\n",
        "            best_model = model\n",
        "            torch.save(best_model, './best_model.model')\n",
        "            # torch.save(model.state_dict(), args['MODEL_PATH']+\"/model_epoch_\"+str(epoch))\n",
        "\n",
        "        train_mse_lst.append(log_dict['train_mse'])\n",
        "        valid_mse_lst.append(log_dict['valid_mse'])\n",
        "\n",
        "        if len(valid_mse_lst)>args['patience'] and log_dict['valid_mse'] > \\\n",
        "            np.min(valid_mse_lst[:-args['patience']]):\n",
        "                break\n",
        "    \n",
        "    if checkpoint_name:\n",
        "        torch.save({\n",
        "#           'epoch': epoch,\n",
        "          'model_state_dict': model.state_dict(),\n",
        "          'optimizer_state_dict': optimizer.state_dict(),\n",
        "#           'scheduler_state_dict': scheduler.state_dict()\n",
        "          }, f'{checkpoint_name}.checkpoint')\n",
        "    \n",
        "    print(\"Training done. Evaluating...\")\n",
        "    \n",
        "    output_lst = []\n",
        "    data_lst = []\n",
        "    factors_lst = []\n",
        "\n",
        "    for data_macro, idx_macro, data_lhs, data_rhs, data_output, data_x_lens, data_assets in tqdm(extended_valid_loader):\n",
        "        # print(\"Shapes:\",data_lhs.shape, data_rhs.shape, data_output.shape, data_mask.shape)\n",
        "        idx_macro = idx_macro.to(device)\n",
        "        data_macro = data_macro.float().to(device)\n",
        "        data_lhs = data_lhs.float().to(device)\n",
        "        data_rhs = data_rhs.float().to(device)\n",
        "        data_output = data_output.float().to(device)\n",
        "        data_x_lens = data_x_lens.int().to(device)\n",
        "        output, factors = best_model(x_macro = data_macro, macro_idx=idx_macro, x_lhs = data_lhs, x_rhs = data_rhs)\n",
        "\n",
        "        data_mask = torch.arange(data_lhs.shape[2])[None, :].to(device) < data_x_lens[:, None]\n",
        "        output_masked = torch.masked_select(output,data_mask)\n",
        "        data_output_masked = torch.masked_select(data_output,data_mask)\n",
        "        assert (len(output_masked) == torch.sum(data_x_lens))\n",
        "\n",
        "        indices = [0]+list(torch.cumsum(data_x_lens,axis=0).cpu().numpy())\n",
        "\n",
        "        for k,(i,j) in enumerate(zip(indices[:-1],indices[1:])):\n",
        "            output_lst.append(pd.Series(output_masked[i:j].cpu().detach().numpy(),index=data_assets[k]))\n",
        "            data_lst.append(pd.Series(data_output_masked[i:j].cpu().detach().numpy(),index=data_assets[k]))\n",
        "            factors_lst.append(pd.Series(factors[k].squeeze().cpu().detach().numpy()))\n",
        "\n",
        "    gc.collect()\n",
        "    torch.cuda.empty_cache()\n",
        "    \n",
        "    output_df = pd.DataFrame(output_lst,index=extended_valid_data.output_date_idx).iloc[n_window:]\n",
        "    data_output_df = pd.DataFrame(data_lst,index=extended_valid_data.output_date_idx).iloc[n_window:]\n",
        "    factors_df = pd.DataFrame(factors_lst,index=extended_valid_data.output_date_idx)\n",
        "    \n",
        "    predicted_factors = factors_df.rolling(n_window).mean()\n",
        "    factors_tensor = torch.tensor(predicted_factors.iloc[n_window:].to_numpy()).unsqueeze(2).float().to(device)\n",
        "    \n",
        "    \n",
        "    pred_output_lst = []\n",
        "    for i, (data_macro, idx_macro, data_lhs, _, _, data_x_lens, data_assets) in tqdm(enumerate(valid_loader),total=len(valid_loader)):\n",
        "        idx_macro = idx_macro.to(device)\n",
        "        data_macro = data_macro.float().to(device)\n",
        "        data_lhs = data_lhs.float().to(device)\n",
        "        data_x_lens = data_x_lens.int().to(device)\n",
        "        output= best_model.forward_given_factors(data_macro, macro_idx=idx_macro, x_lhs = data_lhs, factors = factors_tensor[i*batch_size:(i+1)*batch_size])\n",
        "\n",
        "        data_mask = torch.arange(data_lhs.shape[2])[None, :].to(device) < data_x_lens[:, None]\n",
        "        output_masked = torch.masked_select(output,data_mask)\n",
        "        assert (len(output_masked) == torch.sum(data_x_lens))\n",
        "\n",
        "        indices = [0]+list(torch.cumsum(data_x_lens,axis=0).cpu().numpy())\n",
        "\n",
        "        for k,(i,j) in enumerate(zip(indices[:-1],indices[1:])):\n",
        "            pred_output_lst.append(pd.Series(output_masked[i:j].cpu().detach().numpy(),index=data_assets[k]))\n",
        "    tm1_predicted_returns = pd.DataFrame(pred_output_lst,index=predicted_factors.iloc[n_window:].index)\n",
        "    predicted_returns = tm1_predicted_returns.shift(1).iloc[1:]\n",
        "    \n",
        "    gc.collect()\n",
        "    torch.cuda.empty_cache()\n",
        "    \n",
        "    log_dict = {}\n",
        "    \n",
        "#     log_dict['predicted_returns'] = predicted_returns\n",
        "    \n",
        "    # Predictive Stats:\n",
        "    # Spearman Corr\n",
        "    corr = predicted_returns.corrwith(returns_df.loc[predicted_returns.index,predicted_returns.columns],axis=1,method='spearman')\n",
        "    log_dict['pred_spearman_corr'] = corr.mean()\n",
        "    # R2\n",
        "    numer = (returns_df.loc[predicted_returns.index,predicted_returns.columns]-predicted_returns)\n",
        "    numer_mask = (~numer.isna()).astype(int)\n",
        "    denom = returns_df.loc[predicted_returns.index,predicted_returns.columns] * numer_mask\n",
        "    log_dict['pred_r2'] = (1 - ((numer**2).sum(axis=1))/(denom**2).sum(axis=1)).mean()\n",
        "    \n",
        "    # Attribution Stats:\n",
        "    # Spearman Corr\n",
        "    corr = output_df.corrwith(returns_df.loc[output_df.index,output_df.columns],axis=1,method='spearman')\n",
        "    log_dict['total_spearman_corr'] = corr.mean()\n",
        "    # R2\n",
        "    numer = (returns_df.loc[output_df.index,output_df.columns]-output_df)\n",
        "    numer_mask = (~numer.isna()).astype(int)\n",
        "    denom = returns_df.loc[output_df.index,output_df.columns] * numer_mask\n",
        "    log_dict['total_r2'] = (1 - ((numer**2).sum(axis=1))/(denom**2).sum(axis=1)).mean()\n",
        "    \n",
        "    # Trading Stats:\n",
        "    train_pred_rank = predicted_returns.rank(pct=True,axis=1,numeric_only=True,ascending=True)\n",
        "    long_port = ((train_pred_rank >= 0.9) & (train_pred_rank < 1)).astype(int)\n",
        "    long_port = long_port.divide(long_port.sum(axis=1),axis=0)\n",
        "    long_port_returns = (long_port*returns_df.loc[long_port.index]).sum(axis=1)\n",
        "    short_port = (train_pred_rank <= 0.1).astype(int)\n",
        "    short_port = short_port.divide(short_port.sum(axis=1),axis=0)\n",
        "    short_port_returns = (short_port*returns_df.loc[short_port.index]).sum(axis=1)\n",
        "    comb_port = long_port - short_port\n",
        "    comb_port_returns = (comb_port*returns_df.loc[comb_port.index]).sum(axis=1)\n",
        "    log_dict['long_short_SR'] = (comb_port_returns.mean()/comb_port_returns.std())*np.sqrt(12)\n",
        "    log_dict['long_short_returns'] = comb_port_returns.mean()*12\n",
        "    log_dict['long_short_SD'] = comb_port_returns.std()*np.sqrt(12)\n",
        "    \n",
        "    log_dict['long_SR'] = (long_port_returns.mean()/long_port_returns.std())*np.sqrt(12)\n",
        "    log_dict['long_returns'] = long_port_returns.mean()*12\n",
        "    log_dict['long_SD'] = long_port_returns.std()*np.sqrt(12)\n",
        "    \n",
        "    log_dict['short_SR'] = (short_port_returns.mean()/short_port_returns.std())*np.sqrt(12)\n",
        "    log_dict['short_returns'] = short_port_returns.mean()*12\n",
        "    log_dict['short_SD'] = short_port_returns.std()*np.sqrt(12)\n",
        "\n",
        "    log_dict['model_state_dict'] = best_model.state_dict()\n",
        "    \n",
        "    return log_dict"
      ],
      "metadata": {
        "id": "g3g40062XCzE"
      },
      "execution_count": 13,
      "outputs": []
    },
    {
      "cell_type": "code",
      "source": [
        "fixed_args = {\n",
        "#     'n_factors' : 5,\n",
        "#     'n_hidden_lhs':[16,8],\n",
        "    'n_hidden_rhs':[],\n",
        "    'batch_norm_lhs' : True,\n",
        "    'batch_norm_rhs' : False,\n",
        "#     'rhs_activation': True,\n",
        "    'dropout_p' : 0.0,\n",
        "    'max_norm' : 1,\n",
        "    'bn_momentum': 0.01,\n",
        "    'bn_track_running_stats': True,\n",
        "    'initialization' : False,\n",
        "    'rhs_input_assets' : False,\n",
        "    'lr' : 5e-4,\n",
        "    'gamma': 1/4,\n",
        "    'l2_lambda': 0,\n",
        "    'l1_lambda': 4e-3,\n",
        "    'batch_size': 32,\n",
        "    'log_interval': 1,\n",
        "    'epoch': 60,\n",
        "    'patience': 6\n",
        "}\n",
        "\n",
        "search_args = {\n",
        "    'n_factors': [4],\n",
        "#     'n_factors': [4],\n",
        "    'n_hidden_lhs': [(24,12)],\n",
        "#     'n_hidden_lhs': [(16,8)],\n",
        "    'rhs_activation': [False],\n",
        "    'n_hidden_macro': [(16, 8), (8, 4), (16,), (8,), (4,)],\n",
        "    'num_lstm_layers': [2, 4, 8]\n",
        "}\n",
        "\n",
        "# fixed_args = {\n",
        "# #     'n_factors' : 5,\n",
        "# #     'n_hidden_lhs':[16,8],\n",
        "#     'n_hidden_rhs':[],\n",
        "#     'batch_norm_lhs' : True,\n",
        "#     'batch_norm_rhs' : False,\n",
        "#     'rhs_activation': True,\n",
        "#     'dropout_p' : 0.0,\n",
        "#     'max_norm' : 1,\n",
        "#     'bn_momentum': 0.01,\n",
        "#     'bn_track_running_stats': True,\n",
        "#     'initialization' : False,\n",
        "# #     'rhs_input_assets' : False,\n",
        "#     'lr' : 5e-4,\n",
        "#     'gamma': 1/4,\n",
        "#     'l2_lambda': 0,\n",
        "#     'l1_lambda': 4e-3,\n",
        "#     'batch_size': 32,\n",
        "#     'log_interval': 1,\n",
        "#     'epoch': 3,\n",
        "#     'patience': 6\n",
        "# }\n",
        "\n",
        "# search_args = {\n",
        "#     'n_factors': [2],\n",
        "#     'n_hidden_lhs': [(8,)],\n",
        "#     'rhs_input_assets': [True]\n",
        "# }\n",
        "\n",
        "search_keys = list(search_args.keys())\n",
        "search_values = list(search_args.values())\n",
        "from itertools import product\n",
        "search_values = list(product(*search_values))"
      ],
      "metadata": {
        "id": "4_HjXLxVXF2M"
      },
      "execution_count": 14,
      "outputs": []
    },
    {
      "cell_type": "code",
      "source": [
        "res_dict = {}\n",
        "\n",
        "if os.path.isfile('/content/drive/MyDrive/11-785/Project/res_dict_midterm_corrected.pickle'):\n",
        "    with open('/content/drive/MyDrive/11-785/Project/res_dict_midterm_corrected.pickle', 'rb') as handle:\n",
        "        res_dict = pickle.load(handle)\n",
        "\n",
        "for i,tpl in enumerate(search_values):\n",
        "    print(f\"Params {i}:\", tpl)\n",
        "    if i < len(res_dict):\n",
        "        continue\n",
        "    args = fixed_args.copy()\n",
        "    for k,v in zip(search_keys,tpl):\n",
        "        args[k] = v\n",
        "            \n",
        "    str_tpl = [str(tpl[0]),\"_\".join(list(map(str,tpl[1]))),\"activation\" if tpl[2] else \"noactivation\"]\n",
        "    res_dict[tpl] = []\n",
        "    display_dict = {}\n",
        "    for j in range(10):\n",
        "        log_dict = run(args,n_alphas=45, full_df_lst=full_df_lst, returns_df=returns_df, date_idx=date_idx, \n",
        "                    train_start=83, train_end=360, valid_start=360, valid_end=420, \n",
        "                    n_window=36, batch_size=16,\n",
        "                        checkpoint_name=f'midterm_corrected_layers{str_tpl[0]}_hidden_{str_tpl[1]}_{str_tpl[2]}',\n",
        "                    n_macro=147\n",
        "    #                    checkpoint_name=f'midterm_corrected/layers{str_tpl[0]}_hidden_{str_tpl[1]}_{str_tpl[2]}'\n",
        "                    )\n",
        "        \n",
        "        gc.collect()\n",
        "        torch.cuda.empty_cache()\n",
        "        \n",
        "        res_dict[tpl].append(log_dict)\n",
        "        for key, value in log_dict.items():\n",
        "            if key != 'model_state_dict':\n",
        "                display_dict[key] = display_dict.get(key, 0) + value\n",
        "\n",
        "    for key, value in display_dict.items():\n",
        "        print(key, value/10)\n",
        "        \n",
        "    with open('/content/drive/MyDrive/11-785/Project/res_dict_midterm_corrected.pickle', 'wb') as handle:\n",
        "        pickle.dump(res_dict, handle, protocol=pickle.HIGHEST_PROTOCOL)"
      ],
      "metadata": {
        "colab": {
          "base_uri": "https://localhost:8080/"
        },
        "id": "sKjtB9qqKAt1",
        "outputId": "5dcbafe0-c1b5-47df-9cc0-666e6cd4fe1a"
      },
      "execution_count": null,
      "outputs": [
        {
          "metadata": {
            "tags": null
          },
          "name": "stdout",
          "output_type": "stream",
          "text": [
            "Params 0: (4, (24, 12), False, (16, 8), 2)\n",
            "ConditionalAutoEncoder(\n",
            "  (macro): Sequential(\n",
            "    (0): Linear(in_features=147, out_features=16, bias=True)\n",
            "    (1): SELU()\n",
            "    (2): LayerNorm((16,), eps=1e-05, elementwise_affine=True)\n",
            "    (3): Linear(in_features=16, out_features=8, bias=True)\n",
            "    (4): SELU()\n",
            "    (5): LayerNorm((8,), eps=1e-05, elementwise_affine=True)\n",
            "    (6): Linear(in_features=8, out_features=4, bias=True)\n",
            "  )\n",
            "  (macro_lstm): LSTM(4, 4, num_layers=2)\n",
            "  (lhs): Sequential(\n",
            "    (0): Linear(in_features=45, out_features=24, bias=True)\n",
            "    (1): SELU()\n",
            "    (2): LayerNorm((24,), eps=1e-05, elementwise_affine=True)\n",
            "    (3): Linear(in_features=24, out_features=12, bias=True)\n",
            "    (4): SELU()\n",
            "    (5): LayerNorm((12,), eps=1e-05, elementwise_affine=True)\n",
            "    (6): Linear(in_features=12, out_features=4, bias=True)\n",
            "  )\n",
            "  (rhs): Sequential(\n",
            "    (0): Linear(in_features=46, out_features=4, bias=True)\n",
            "  )\n",
            ")\n",
            "   13.18 s in test({'n_hidden_rhs': [], '..., ConditionalAutoEncoder..., cpu, <torch.utils.data.data..., MSELoss())\n",
            "    2.69 s in test({'n_hidden_rhs': [], '..., ConditionalAutoEncoder..., cpu, <torch.utils.data.data..., MSELoss())\n",
            "Pre-Train Train MSE: 0.3443573\n",
            "Pre-Train Valid MSE: 0.012654249\n"
          ]
        },
        {
          "metadata": {
            "tags": null
          },
          "name": "stderr",
          "output_type": "stream",
          "text": [
            ""
          ]
        },
        {
          "metadata": {
            "tags": null
          },
          "name": "stdout",
          "output_type": "stream",
          "text": [
            "Epoch 1, total_loss=2.3319, reg_loss = 2.1231\n",
            "   13.06 s in train({'n_hidden_rhs': [], '..., ConditionalAutoEncoder..., cpu, <torch.utils.data.data..., AdamW ( Parameter Grou..., MSELoss(), 1, max_norm=1)\n",
            "   10.90 s in test({'n_hidden_rhs': [], '..., ConditionalAutoEncoder..., cpu, <torch.utils.data.data..., MSELoss())\n",
            "    2.34 s in test({'n_hidden_rhs': [], '..., ConditionalAutoEncoder..., cpu, <torch.utils.data.data..., MSELoss())\n",
            "Train MSE: 0.12610468\n",
            "Valid MSE: 0.012091572\n",
            "Next Learning Rate: 0.0005\n",
            "[0.3443573]\n",
            "[0.012654249]\n"
          ]
        },
        {
          "metadata": {
            "tags": null
          },
          "name": "stderr",
          "output_type": "stream",
          "text": [
            ""
          ]
        },
        {
          "metadata": {
            "tags": null
          },
          "name": "stdout",
          "output_type": "stream",
          "text": [
            "Epoch 2, total_loss=2.1017, reg_loss = 2.0083\n",
            "   13.16 s in train({'n_hidden_rhs': [], '..., ConditionalAutoEncoder..., cpu, <torch.utils.data.data..., AdamW ( Parameter Grou..., MSELoss(), 2, max_norm=1)\n",
            "   11.09 s in test({'n_hidden_rhs': [], '..., ConditionalAutoEncoder..., cpu, <torch.utils.data.data..., MSELoss())\n",
            "    2.38 s in test({'n_hidden_rhs': [], '..., ConditionalAutoEncoder..., cpu, <torch.utils.data.data..., MSELoss())\n",
            "Train MSE: 0.05892224\n",
            "Valid MSE: 0.011849794\n",
            "Next Learning Rate: 0.0005\n",
            "[0.3443573, 0.12610468]\n",
            "[0.012654249, 0.012091572]\n"
          ]
        },
        {
          "metadata": {
            "tags": null
          },
          "name": "stderr",
          "output_type": "stream",
          "text": [
            ""
          ]
        },
        {
          "metadata": {
            "tags": null
          },
          "name": "stdout",
          "output_type": "stream",
          "text": [
            "Epoch 3, total_loss=1.9451, reg_loss = 1.8952\n",
            "   13.19 s in train({'n_hidden_rhs': [], '..., ConditionalAutoEncoder..., cpu, <torch.utils.data.data..., AdamW ( Parameter Grou..., MSELoss(), 3, max_norm=1)\n",
            "   10.89 s in test({'n_hidden_rhs': [], '..., ConditionalAutoEncoder..., cpu, <torch.utils.data.data..., MSELoss())\n",
            "    2.29 s in test({'n_hidden_rhs': [], '..., ConditionalAutoEncoder..., cpu, <torch.utils.data.data..., MSELoss())\n",
            "Train MSE: 0.043867297\n",
            "Valid MSE: 0.011779455\n",
            "Next Learning Rate: 0.0005\n",
            "[0.3443573, 0.12610468, 0.05892224]\n",
            "[0.012654249, 0.012091572, 0.011849794]\n"
          ]
        },
        {
          "metadata": {
            "tags": null
          },
          "name": "stderr",
          "output_type": "stream",
          "text": [
            ""
          ]
        },
        {
          "metadata": {
            "tags": null
          },
          "name": "stdout",
          "output_type": "stream",
          "text": [
            "Epoch 4, total_loss=1.8263, reg_loss = 1.7859\n",
            "   13.01 s in train({'n_hidden_rhs': [], '..., ConditionalAutoEncoder..., cpu, <torch.utils.data.data..., AdamW ( Parameter Grou..., MSELoss(), 4, max_norm=1)\n",
            "   10.91 s in test({'n_hidden_rhs': [], '..., ConditionalAutoEncoder..., cpu, <torch.utils.data.data..., MSELoss())\n",
            "    2.30 s in test({'n_hidden_rhs': [], '..., ConditionalAutoEncoder..., cpu, <torch.utils.data.data..., MSELoss())\n",
            "Train MSE: 0.037971675\n",
            "Valid MSE: 0.011752683\n",
            "Next Learning Rate: 0.0005\n",
            "[0.3443573, 0.12610468, 0.05892224, 0.043867297]\n",
            "[0.012654249, 0.012091572, 0.011849794, 0.011779455]\n"
          ]
        },
        {
          "metadata": {
            "tags": null
          },
          "name": "stderr",
          "output_type": "stream",
          "text": [
            ""
          ]
        },
        {
          "metadata": {
            "tags": null
          },
          "name": "stdout",
          "output_type": "stream",
          "text": [
            "Epoch 5, total_loss=1.7185, reg_loss = 1.6825\n",
            "   12.97 s in train({'n_hidden_rhs': [], '..., ConditionalAutoEncoder..., cpu, <torch.utils.data.data..., AdamW ( Parameter Grou..., MSELoss(), 5, max_norm=1)\n",
            "   11.00 s in test({'n_hidden_rhs': [], '..., ConditionalAutoEncoder..., cpu, <torch.utils.data.data..., MSELoss())\n",
            "    2.32 s in test({'n_hidden_rhs': [], '..., ConditionalAutoEncoder..., cpu, <torch.utils.data.data..., MSELoss())\n",
            "Train MSE: 0.034526445\n",
            "Valid MSE: 0.011736083\n",
            "Next Learning Rate: 0.0005\n",
            "[0.3443573, 0.12610468, 0.05892224, 0.043867297, 0.037971675]\n",
            "[0.012654249, 0.012091572, 0.011849794, 0.011779455, 0.011752683]\n"
          ]
        },
        {
          "metadata": {
            "tags": null
          },
          "name": "stderr",
          "output_type": "stream",
          "text": [
            ""
          ]
        },
        {
          "metadata": {
            "tags": null
          },
          "name": "stdout",
          "output_type": "stream",
          "text": [
            "Epoch 6, total_loss=1.6200, reg_loss = 1.5860\n",
            "   12.95 s in train({'n_hidden_rhs': [], '..., ConditionalAutoEncoder..., cpu, <torch.utils.data.data..., AdamW ( Parameter Grou..., MSELoss(), 6, max_norm=1)\n",
            "   11.07 s in test({'n_hidden_rhs': [], '..., ConditionalAutoEncoder..., cpu, <torch.utils.data.data..., MSELoss())\n",
            "    2.31 s in test({'n_hidden_rhs': [], '..., ConditionalAutoEncoder..., cpu, <torch.utils.data.data..., MSELoss())\n",
            "Train MSE: 0.032623097\n",
            "Valid MSE: 0.011725373\n",
            "Next Learning Rate: 0.0005\n",
            "[0.3443573, 0.12610468, 0.05892224, 0.043867297, 0.037971675, 0.034526445]\n",
            "[0.012654249, 0.012091572, 0.011849794, 0.011779455, 0.011752683, 0.011736083]\n"
          ]
        },
        {
          "metadata": {
            "tags": null
          },
          "name": "stderr",
          "output_type": "stream",
          "text": [
            ""
          ]
        },
        {
          "metadata": {
            "tags": null
          },
          "name": "stdout",
          "output_type": "stream",
          "text": [
            "Epoch 7, total_loss=1.5279, reg_loss = 1.4959\n",
            "   13.02 s in train({'n_hidden_rhs': [], '..., ConditionalAutoEncoder..., cpu, <torch.utils.data.data..., AdamW ( Parameter Grou..., MSELoss(), 7, max_norm=1)\n",
            "   11.15 s in test({'n_hidden_rhs': [], '..., ConditionalAutoEncoder..., cpu, <torch.utils.data.data..., MSELoss())\n",
            "    2.41 s in test({'n_hidden_rhs': [], '..., ConditionalAutoEncoder..., cpu, <torch.utils.data.data..., MSELoss())\n",
            "Train MSE: 0.031580478\n",
            "Valid MSE: 0.011716388\n",
            "Next Learning Rate: 0.0005\n",
            "[0.3443573, 0.12610468, 0.05892224, 0.043867297, 0.037971675, 0.034526445, 0.032623097]\n",
            "[0.012654249, 0.012091572, 0.011849794, 0.011779455, 0.011752683, 0.011736083, 0.011725373]\n"
          ]
        },
        {
          "metadata": {
            "tags": null
          },
          "name": "stderr",
          "output_type": "stream",
          "text": [
            ""
          ]
        },
        {
          "metadata": {
            "tags": null
          },
          "name": "stdout",
          "output_type": "stream",
          "text": [
            "Epoch 8, total_loss=1.4427, reg_loss = 1.4120\n",
            "   12.98 s in train({'n_hidden_rhs': [], '..., ConditionalAutoEncoder..., cpu, <torch.utils.data.data..., AdamW ( Parameter Grou..., MSELoss(), 8, max_norm=1)\n",
            "   10.85 s in test({'n_hidden_rhs': [], '..., ConditionalAutoEncoder..., cpu, <torch.utils.data.data..., MSELoss())\n",
            "    2.31 s in test({'n_hidden_rhs': [], '..., ConditionalAutoEncoder..., cpu, <torch.utils.data.data..., MSELoss())\n",
            "Train MSE: 0.030780792\n",
            "Valid MSE: 0.011707892\n",
            "Next Learning Rate: 0.0005\n",
            "[0.3443573, 0.12610468, 0.05892224, 0.043867297, 0.037971675, 0.034526445, 0.032623097, 0.031580478]\n",
            "[0.012654249, 0.012091572, 0.011849794, 0.011779455, 0.011752683, 0.011736083, 0.011725373, 0.011716388]\n"
          ]
        },
        {
          "metadata": {
            "tags": null
          },
          "name": "stderr",
          "output_type": "stream",
          "text": [
            ""
          ]
        },
        {
          "metadata": {
            "tags": null
          },
          "name": "stdout",
          "output_type": "stream",
          "text": [
            "Epoch 9, total_loss=1.3647, reg_loss = 1.3340\n",
            "   12.79 s in train({'n_hidden_rhs': [], '..., ConditionalAutoEncoder..., cpu, <torch.utils.data.data..., AdamW ( Parameter Grou..., MSELoss(), 9, max_norm=1)\n",
            "   10.85 s in test({'n_hidden_rhs': [], '..., ConditionalAutoEncoder..., cpu, <torch.utils.data.data..., MSELoss())\n",
            "    2.29 s in test({'n_hidden_rhs': [], '..., ConditionalAutoEncoder..., cpu, <torch.utils.data.data..., MSELoss())\n",
            "Train MSE: 0.03004358\n",
            "Valid MSE: 0.011699909\n",
            "Next Learning Rate: 0.0005\n",
            "[0.3443573, 0.12610468, 0.05892224, 0.043867297, 0.037971675, 0.034526445, 0.032623097, 0.031580478, 0.030780792]\n",
            "[0.012654249, 0.012091572, 0.011849794, 0.011779455, 0.011752683, 0.011736083, 0.011725373, 0.011716388, 0.011707892]\n"
          ]
        },
        {
          "metadata": {
            "tags": null
          },
          "name": "stderr",
          "output_type": "stream",
          "text": [
            ""
          ]
        },
        {
          "metadata": {
            "tags": null
          },
          "name": "stdout",
          "output_type": "stream",
          "text": [
            "Epoch 10, total_loss=1.2920, reg_loss = 1.2620\n",
            "   12.85 s in train({'n_hidden_rhs': [], '..., ConditionalAutoEncoder..., cpu, <torch.utils.data.data..., AdamW ( Parameter Grou..., MSELoss(), 10, max_norm=1)\n",
            "   10.73 s in test({'n_hidden_rhs': [], '..., ConditionalAutoEncoder..., cpu, <torch.utils.data.data..., MSELoss())\n",
            "    2.28 s in test({'n_hidden_rhs': [], '..., ConditionalAutoEncoder..., cpu, <torch.utils.data.data..., MSELoss())\n",
            "Train MSE: 0.029627714\n",
            "Valid MSE: 0.011692364\n",
            "Next Learning Rate: 0.0005\n",
            "[0.3443573, 0.12610468, 0.05892224, 0.043867297, 0.037971675, 0.034526445, 0.032623097, 0.031580478, 0.030780792, 0.03004358]\n",
            "[0.012654249, 0.012091572, 0.011849794, 0.011779455, 0.011752683, 0.011736083, 0.011725373, 0.011716388, 0.011707892, 0.011699909]\n"
          ]
        },
        {
          "metadata": {
            "tags": null
          },
          "name": "stderr",
          "output_type": "stream",
          "text": [
            ""
          ]
        },
        {
          "metadata": {
            "tags": null
          },
          "name": "stdout",
          "output_type": "stream",
          "text": [
            "Epoch 11, total_loss=1.2251, reg_loss = 1.1956\n",
            "   13.03 s in train({'n_hidden_rhs': [], '..., ConditionalAutoEncoder..., cpu, <torch.utils.data.data..., AdamW ( Parameter Grou..., MSELoss(), 11, max_norm=1)\n",
            "   10.80 s in test({'n_hidden_rhs': [], '..., ConditionalAutoEncoder..., cpu, <torch.utils.data.data..., MSELoss())\n",
            "    2.30 s in test({'n_hidden_rhs': [], '..., ConditionalAutoEncoder..., cpu, <torch.utils.data.data..., MSELoss())\n",
            "Train MSE: 0.029172892\n",
            "Valid MSE: 0.011685033\n",
            "Next Learning Rate: 0.0005\n",
            "[0.3443573, 0.12610468, 0.05892224, 0.043867297, 0.037971675, 0.034526445, 0.032623097, 0.031580478, 0.030780792, 0.03004358, 0.029627714]\n",
            "[0.012654249, 0.012091572, 0.011849794, 0.011779455, 0.011752683, 0.011736083, 0.011725373, 0.011716388, 0.011707892, 0.011699909, 0.011692364]\n"
          ]
        },
        {
          "metadata": {
            "tags": null
          },
          "name": "stderr",
          "output_type": "stream",
          "text": [
            ""
          ]
        },
        {
          "metadata": {
            "tags": null
          },
          "name": "stdout",
          "output_type": "stream",
          "text": [
            "Epoch 12, total_loss=1.1631, reg_loss = 1.1344\n",
            "   12.91 s in train({'n_hidden_rhs': [], '..., ConditionalAutoEncoder..., cpu, <torch.utils.data.data..., AdamW ( Parameter Grou..., MSELoss(), 12, max_norm=1)\n",
            "   10.71 s in test({'n_hidden_rhs': [], '..., ConditionalAutoEncoder..., cpu, <torch.utils.data.data..., MSELoss())\n",
            "    2.30 s in test({'n_hidden_rhs': [], '..., ConditionalAutoEncoder..., cpu, <torch.utils.data.data..., MSELoss())\n",
            "Train MSE: 0.028746782\n",
            "Valid MSE: 0.0116769085\n",
            "Next Learning Rate: 0.0005\n",
            "[0.3443573, 0.12610468, 0.05892224, 0.043867297, 0.037971675, 0.034526445, 0.032623097, 0.031580478, 0.030780792, 0.03004358, 0.029627714, 0.029172892]\n",
            "[0.012654249, 0.012091572, 0.011849794, 0.011779455, 0.011752683, 0.011736083, 0.011725373, 0.011716388, 0.011707892, 0.011699909, 0.011692364, 0.011685033]\n"
          ]
        },
        {
          "metadata": {
            "tags": null
          },
          "name": "stderr",
          "output_type": "stream",
          "text": [
            ""
          ]
        },
        {
          "metadata": {
            "tags": null
          },
          "name": "stdout",
          "output_type": "stream",
          "text": [
            "Epoch 13, total_loss=1.1061, reg_loss = 1.0776\n",
            "   12.91 s in train({'n_hidden_rhs': [], '..., ConditionalAutoEncoder..., cpu, <torch.utils.data.data..., AdamW ( Parameter Grou..., MSELoss(), 13, max_norm=1)\n",
            "   11.03 s in test({'n_hidden_rhs': [], '..., ConditionalAutoEncoder..., cpu, <torch.utils.data.data..., MSELoss())\n",
            "    2.32 s in test({'n_hidden_rhs': [], '..., ConditionalAutoEncoder..., cpu, <torch.utils.data.data..., MSELoss())\n",
            "Train MSE: 0.028500507\n",
            "Valid MSE: 0.011668953\n",
            "Next Learning Rate: 0.0005\n",
            "[0.3443573, 0.12610468, 0.05892224, 0.043867297, 0.037971675, 0.034526445, 0.032623097, 0.031580478, 0.030780792, 0.03004358, 0.029627714, 0.029172892, 0.028746782]\n",
            "[0.012654249, 0.012091572, 0.011849794, 0.011779455, 0.011752683, 0.011736083, 0.011725373, 0.011716388, 0.011707892, 0.011699909, 0.011692364, 0.011685033, 0.0116769085]\n"
          ]
        },
        {
          "metadata": {
            "tags": null
          },
          "name": "stderr",
          "output_type": "stream",
          "text": [
            ""
          ]
        },
        {
          "metadata": {
            "tags": null
          },
          "name": "stdout",
          "output_type": "stream",
          "text": [
            "Epoch 14, total_loss=1.0527, reg_loss = 1.0246\n",
            "   15.02 s in train({'n_hidden_rhs': [], '..., ConditionalAutoEncoder..., cpu, <torch.utils.data.data..., AdamW ( Parameter Grou..., MSELoss(), 14, max_norm=1)\n",
            "   12.33 s in test({'n_hidden_rhs': [], '..., ConditionalAutoEncoder..., cpu, <torch.utils.data.data..., MSELoss())\n",
            "    2.35 s in test({'n_hidden_rhs': [], '..., ConditionalAutoEncoder..., cpu, <torch.utils.data.data..., MSELoss())\n",
            "Train MSE: 0.028341006\n",
            "Valid MSE: 0.011658077\n",
            "Next Learning Rate: 0.0005\n",
            "[0.3443573, 0.12610468, 0.05892224, 0.043867297, 0.037971675, 0.034526445, 0.032623097, 0.031580478, 0.030780792, 0.03004358, 0.029627714, 0.029172892, 0.028746782, 0.028500507]\n",
            "[0.012654249, 0.012091572, 0.011849794, 0.011779455, 0.011752683, 0.011736083, 0.011725373, 0.011716388, 0.011707892, 0.011699909, 0.011692364, 0.011685033, 0.0116769085, 0.011668953]\n"
          ]
        },
        {
          "metadata": {
            "tags": null
          },
          "name": "stderr",
          "output_type": "stream",
          "text": [
            ""
          ]
        },
        {
          "metadata": {
            "tags": null
          },
          "name": "stdout",
          "output_type": "stream",
          "text": [
            "Epoch 15, total_loss=1.0051, reg_loss = 0.9756\n",
            "   12.92 s in train({'n_hidden_rhs': [], '..., ConditionalAutoEncoder..., cpu, <torch.utils.data.data..., AdamW ( Parameter Grou..., MSELoss(), 15, max_norm=1)\n",
            "   11.10 s in test({'n_hidden_rhs': [], '..., ConditionalAutoEncoder..., cpu, <torch.utils.data.data..., MSELoss())\n",
            "    2.30 s in test({'n_hidden_rhs': [], '..., ConditionalAutoEncoder..., cpu, <torch.utils.data.data..., MSELoss())\n",
            "Train MSE: 0.028260289\n",
            "Valid MSE: 0.01164798\n",
            "Next Learning Rate: 0.0005\n",
            "[0.3443573, 0.12610468, 0.05892224, 0.043867297, 0.037971675, 0.034526445, 0.032623097, 0.031580478, 0.030780792, 0.03004358, 0.029627714, 0.029172892, 0.028746782, 0.028500507, 0.028341006]\n",
            "[0.012654249, 0.012091572, 0.011849794, 0.011779455, 0.011752683, 0.011736083, 0.011725373, 0.011716388, 0.011707892, 0.011699909, 0.011692364, 0.011685033, 0.0116769085, 0.011668953, 0.011658077]\n"
          ]
        },
        {
          "metadata": {
            "tags": null
          },
          "name": "stderr",
          "output_type": "stream",
          "text": [
            ""
          ]
        },
        {
          "metadata": {
            "tags": null
          },
          "name": "stdout",
          "output_type": "stream",
          "text": [
            "Epoch 16, total_loss=0.9585, reg_loss = 0.9306\n",
            "   13.11 s in train({'n_hidden_rhs': [], '..., ConditionalAutoEncoder..., cpu, <torch.utils.data.data..., AdamW ( Parameter Grou..., MSELoss(), 16, max_norm=1)\n",
            "   11.24 s in test({'n_hidden_rhs': [], '..., ConditionalAutoEncoder..., cpu, <torch.utils.data.data..., MSELoss())\n",
            "    2.39 s in test({'n_hidden_rhs': [], '..., ConditionalAutoEncoder..., cpu, <torch.utils.data.data..., MSELoss())\n",
            "Train MSE: 0.02807822\n",
            "Valid MSE: 0.011638872\n",
            "Next Learning Rate: 0.0005\n",
            "[0.3443573, 0.12610468, 0.05892224, 0.043867297, 0.037971675, 0.034526445, 0.032623097, 0.031580478, 0.030780792, 0.03004358, 0.029627714, 0.029172892, 0.028746782, 0.028500507, 0.028341006, 0.028260289]\n",
            "[0.012654249, 0.012091572, 0.011849794, 0.011779455, 0.011752683, 0.011736083, 0.011725373, 0.011716388, 0.011707892, 0.011699909, 0.011692364, 0.011685033, 0.0116769085, 0.011668953, 0.011658077, 0.01164798]\n"
          ]
        },
        {
          "metadata": {
            "tags": null
          },
          "name": "stderr",
          "output_type": "stream",
          "text": [
            ""
          ]
        },
        {
          "metadata": {
            "tags": null
          },
          "name": "stdout",
          "output_type": "stream",
          "text": [
            "Epoch 17, total_loss=0.9196, reg_loss = 0.8894\n",
            "   13.13 s in train({'n_hidden_rhs': [], '..., ConditionalAutoEncoder..., cpu, <torch.utils.data.data..., AdamW ( Parameter Grou..., MSELoss(), 17, max_norm=1)\n",
            "   11.23 s in test({'n_hidden_rhs': [], '..., ConditionalAutoEncoder..., cpu, <torch.utils.data.data..., MSELoss())\n",
            "    2.43 s in test({'n_hidden_rhs': [], '..., ConditionalAutoEncoder..., cpu, <torch.utils.data.data..., MSELoss())\n",
            "Train MSE: 0.027971283\n",
            "Valid MSE: 0.011630432\n",
            "Next Learning Rate: 0.0005\n",
            "[0.3443573, 0.12610468, 0.05892224, 0.043867297, 0.037971675, 0.034526445, 0.032623097, 0.031580478, 0.030780792, 0.03004358, 0.029627714, 0.029172892, 0.028746782, 0.028500507, 0.028341006, 0.028260289, 0.02807822]\n",
            "[0.012654249, 0.012091572, 0.011849794, 0.011779455, 0.011752683, 0.011736083, 0.011725373, 0.011716388, 0.011707892, 0.011699909, 0.011692364, 0.011685033, 0.0116769085, 0.011668953, 0.011658077, 0.01164798, 0.011638872]\n"
          ]
        },
        {
          "metadata": {
            "tags": null
          },
          "name": "stderr",
          "output_type": "stream",
          "text": [
            ""
          ]
        },
        {
          "metadata": {
            "tags": null
          },
          "name": "stdout",
          "output_type": "stream",
          "text": [
            "Epoch 18, total_loss=0.8800, reg_loss = 0.8516\n",
            "   12.93 s in train({'n_hidden_rhs': [], '..., ConditionalAutoEncoder..., cpu, <torch.utils.data.data..., AdamW ( Parameter Grou..., MSELoss(), 18, max_norm=1)\n",
            "   10.85 s in test({'n_hidden_rhs': [], '..., ConditionalAutoEncoder..., cpu, <torch.utils.data.data..., MSELoss())\n",
            "    2.31 s in test({'n_hidden_rhs': [], '..., ConditionalAutoEncoder..., cpu, <torch.utils.data.data..., MSELoss())\n",
            "Train MSE: 0.027888412\n",
            "Valid MSE: 0.0116227195\n",
            "Next Learning Rate: 0.0005\n",
            "[0.3443573, 0.12610468, 0.05892224, 0.043867297, 0.037971675, 0.034526445, 0.032623097, 0.031580478, 0.030780792, 0.03004358, 0.029627714, 0.029172892, 0.028746782, 0.028500507, 0.028341006, 0.028260289, 0.02807822, 0.027971283]\n",
            "[0.012654249, 0.012091572, 0.011849794, 0.011779455, 0.011752683, 0.011736083, 0.011725373, 0.011716388, 0.011707892, 0.011699909, 0.011692364, 0.011685033, 0.0116769085, 0.011668953, 0.011658077, 0.01164798, 0.011638872, 0.011630432]\n"
          ]
        },
        {
          "metadata": {
            "tags": null
          },
          "name": "stderr",
          "output_type": "stream",
          "text": [
            ""
          ]
        },
        {
          "metadata": {
            "tags": null
          },
          "name": "stdout",
          "output_type": "stream",
          "text": [
            "Epoch 19, total_loss=0.8437, reg_loss = 0.8164\n",
            "   13.09 s in train({'n_hidden_rhs': [], '..., ConditionalAutoEncoder..., cpu, <torch.utils.data.data..., AdamW ( Parameter Grou..., MSELoss(), 19, max_norm=1)\n",
            "   11.02 s in test({'n_hidden_rhs': [], '..., ConditionalAutoEncoder..., cpu, <torch.utils.data.data..., MSELoss())\n",
            "    2.36 s in test({'n_hidden_rhs': [], '..., ConditionalAutoEncoder..., cpu, <torch.utils.data.data..., MSELoss())\n",
            "Train MSE: 0.02784946\n",
            "Valid MSE: 0.011615548\n",
            "Next Learning Rate: 0.0005\n",
            "[0.3443573, 0.12610468, 0.05892224, 0.043867297, 0.037971675, 0.034526445, 0.032623097, 0.031580478, 0.030780792, 0.03004358, 0.029627714, 0.029172892, 0.028746782, 0.028500507, 0.028341006, 0.028260289, 0.02807822, 0.027971283, 0.027888412]\n",
            "[0.012654249, 0.012091572, 0.011849794, 0.011779455, 0.011752683, 0.011736083, 0.011725373, 0.011716388, 0.011707892, 0.011699909, 0.011692364, 0.011685033, 0.0116769085, 0.011668953, 0.011658077, 0.01164798, 0.011638872, 0.011630432, 0.0116227195]\n"
          ]
        },
        {
          "metadata": {
            "tags": null
          },
          "name": "stderr",
          "output_type": "stream",
          "text": [
            ""
          ]
        },
        {
          "metadata": {
            "tags": null
          },
          "name": "stdout",
          "output_type": "stream",
          "text": [
            "Epoch 20, total_loss=0.8113, reg_loss = 0.7833\n",
            "   13.30 s in train({'n_hidden_rhs': [], '..., ConditionalAutoEncoder..., cpu, <torch.utils.data.data..., AdamW ( Parameter Grou..., MSELoss(), 20, max_norm=1)\n",
            "   10.98 s in test({'n_hidden_rhs': [], '..., ConditionalAutoEncoder..., cpu, <torch.utils.data.data..., MSELoss())\n",
            "    2.31 s in test({'n_hidden_rhs': [], '..., ConditionalAutoEncoder..., cpu, <torch.utils.data.data..., MSELoss())\n",
            "Train MSE: 0.027788663\n",
            "Valid MSE: 0.011608945\n",
            "Next Learning Rate: 0.0005\n",
            "[0.3443573, 0.12610468, 0.05892224, 0.043867297, 0.037971675, 0.034526445, 0.032623097, 0.031580478, 0.030780792, 0.03004358, 0.029627714, 0.029172892, 0.028746782, 0.028500507, 0.028341006, 0.028260289, 0.02807822, 0.027971283, 0.027888412, 0.02784946]\n",
            "[0.012654249, 0.012091572, 0.011849794, 0.011779455, 0.011752683, 0.011736083, 0.011725373, 0.011716388, 0.011707892, 0.011699909, 0.011692364, 0.011685033, 0.0116769085, 0.011668953, 0.011658077, 0.01164798, 0.011638872, 0.011630432, 0.0116227195, 0.011615548]\n"
          ]
        },
        {
          "metadata": {
            "tags": null
          },
          "name": "stderr",
          "output_type": "stream",
          "text": [
            ""
          ]
        },
        {
          "metadata": {
            "tags": null
          },
          "name": "stdout",
          "output_type": "stream",
          "text": [
            "Epoch 21, total_loss=0.7793, reg_loss = 0.7520\n",
            "   13.00 s in train({'n_hidden_rhs': [], '..., ConditionalAutoEncoder..., cpu, <torch.utils.data.data..., AdamW ( Parameter Grou..., MSELoss(), 21, max_norm=1)\n",
            "   11.03 s in test({'n_hidden_rhs': [], '..., ConditionalAutoEncoder..., cpu, <torch.utils.data.data..., MSELoss())\n",
            "    2.32 s in test({'n_hidden_rhs': [], '..., ConditionalAutoEncoder..., cpu, <torch.utils.data.data..., MSELoss())\n",
            "Train MSE: 0.027738424\n",
            "Valid MSE: 0.011603594\n",
            "Next Learning Rate: 0.0005\n",
            "[0.3443573, 0.12610468, 0.05892224, 0.043867297, 0.037971675, 0.034526445, 0.032623097, 0.031580478, 0.030780792, 0.03004358, 0.029627714, 0.029172892, 0.028746782, 0.028500507, 0.028341006, 0.028260289, 0.02807822, 0.027971283, 0.027888412, 0.02784946, 0.027788663]\n",
            "[0.012654249, 0.012091572, 0.011849794, 0.011779455, 0.011752683, 0.011736083, 0.011725373, 0.011716388, 0.011707892, 0.011699909, 0.011692364, 0.011685033, 0.0116769085, 0.011668953, 0.011658077, 0.01164798, 0.011638872, 0.011630432, 0.0116227195, 0.011615548, 0.011608945]\n"
          ]
        },
        {
          "metadata": {
            "tags": null
          },
          "name": "stderr",
          "output_type": "stream",
          "text": [
            ""
          ]
        },
        {
          "metadata": {
            "tags": null
          },
          "name": "stdout",
          "output_type": "stream",
          "text": [
            "Epoch 22, total_loss=0.7495, reg_loss = 0.7222\n",
            "   13.95 s in train({'n_hidden_rhs': [], '..., ConditionalAutoEncoder..., cpu, <torch.utils.data.data..., AdamW ( Parameter Grou..., MSELoss(), 22, max_norm=1)\n",
            "   10.97 s in test({'n_hidden_rhs': [], '..., ConditionalAutoEncoder..., cpu, <torch.utils.data.data..., MSELoss())\n",
            "    2.34 s in test({'n_hidden_rhs': [], '..., ConditionalAutoEncoder..., cpu, <torch.utils.data.data..., MSELoss())\n",
            "Train MSE: 0.027694536\n",
            "Valid MSE: 0.011599303\n",
            "Next Learning Rate: 0.0005\n",
            "[0.3443573, 0.12610468, 0.05892224, 0.043867297, 0.037971675, 0.034526445, 0.032623097, 0.031580478, 0.030780792, 0.03004358, 0.029627714, 0.029172892, 0.028746782, 0.028500507, 0.028341006, 0.028260289, 0.02807822, 0.027971283, 0.027888412, 0.02784946, 0.027788663, 0.027738424]\n",
            "[0.012654249, 0.012091572, 0.011849794, 0.011779455, 0.011752683, 0.011736083, 0.011725373, 0.011716388, 0.011707892, 0.011699909, 0.011692364, 0.011685033, 0.0116769085, 0.011668953, 0.011658077, 0.01164798, 0.011638872, 0.011630432, 0.0116227195, 0.011615548, 0.011608945, 0.011603594]\n"
          ]
        },
        {
          "metadata": {
            "tags": null
          },
          "name": "stderr",
          "output_type": "stream",
          "text": [
            ""
          ]
        },
        {
          "metadata": {
            "tags": null
          },
          "name": "stdout",
          "output_type": "stream",
          "text": [
            "Epoch 23, total_loss=0.7216, reg_loss = 0.6938\n",
            "   12.94 s in train({'n_hidden_rhs': [], '..., ConditionalAutoEncoder..., cpu, <torch.utils.data.data..., AdamW ( Parameter Grou..., MSELoss(), 23, max_norm=1)\n",
            "   10.90 s in test({'n_hidden_rhs': [], '..., ConditionalAutoEncoder..., cpu, <torch.utils.data.data..., MSELoss())\n",
            "    2.35 s in test({'n_hidden_rhs': [], '..., ConditionalAutoEncoder..., cpu, <torch.utils.data.data..., MSELoss())\n",
            "Train MSE: 0.02766073\n",
            "Valid MSE: 0.011599877\n",
            "Next Learning Rate: 0.0005\n",
            "[0.3443573, 0.12610468, 0.05892224, 0.043867297, 0.037971675, 0.034526445, 0.032623097, 0.031580478, 0.030780792, 0.03004358, 0.029627714, 0.029172892, 0.028746782, 0.028500507, 0.028341006, 0.028260289, 0.02807822, 0.027971283, 0.027888412, 0.02784946, 0.027788663, 0.027738424, 0.027694536]\n",
            "[0.012654249, 0.012091572, 0.011849794, 0.011779455, 0.011752683, 0.011736083, 0.011725373, 0.011716388, 0.011707892, 0.011699909, 0.011692364, 0.011685033, 0.0116769085, 0.011668953, 0.011658077, 0.01164798, 0.011638872, 0.011630432, 0.0116227195, 0.011615548, 0.011608945, 0.011603594, 0.011599303]\n"
          ]
        },
        {
          "metadata": {
            "tags": null
          },
          "name": "stderr",
          "output_type": "stream",
          "text": [
            ""
          ]
        },
        {
          "metadata": {
            "tags": null
          },
          "name": "stdout",
          "output_type": "stream",
          "text": [
            "Epoch 24, total_loss=0.6945, reg_loss = 0.6672\n",
            "   13.00 s in train({'n_hidden_rhs': [], '..., ConditionalAutoEncoder..., cpu, <torch.utils.data.data..., AdamW ( Parameter Grou..., MSELoss(), 24, max_norm=1)\n",
            "   11.03 s in test({'n_hidden_rhs': [], '..., ConditionalAutoEncoder..., cpu, <torch.utils.data.data..., MSELoss())\n",
            "    2.34 s in test({'n_hidden_rhs': [], '..., ConditionalAutoEncoder..., cpu, <torch.utils.data.data..., MSELoss())\n",
            "Train MSE: 0.027636988\n",
            "Valid MSE: 0.011599648\n",
            "Next Learning Rate: 0.0005\n",
            "[0.3443573, 0.12610468, 0.05892224, 0.043867297, 0.037971675, 0.034526445, 0.032623097, 0.031580478, 0.030780792, 0.03004358, 0.029627714, 0.029172892, 0.028746782, 0.028500507, 0.028341006, 0.028260289, 0.02807822, 0.027971283, 0.027888412, 0.02784946, 0.027788663, 0.027738424, 0.027694536, 0.02766073]\n",
            "[0.012654249, 0.012091572, 0.011849794, 0.011779455, 0.011752683, 0.011736083, 0.011725373, 0.011716388, 0.011707892, 0.011699909, 0.011692364, 0.011685033, 0.0116769085, 0.011668953, 0.011658077, 0.01164798, 0.011638872, 0.011630432, 0.0116227195, 0.011615548, 0.011608945, 0.011603594, 0.011599303, 0.011599877]\n"
          ]
        },
        {
          "metadata": {
            "tags": null
          },
          "name": "stderr",
          "output_type": "stream",
          "text": [
            ""
          ]
        },
        {
          "metadata": {
            "tags": null
          },
          "name": "stdout",
          "output_type": "stream",
          "text": [
            "Epoch 25, total_loss=0.6696, reg_loss = 0.6420\n",
            "   13.07 s in train({'n_hidden_rhs': [], '..., ConditionalAutoEncoder..., cpu, <torch.utils.data.data..., AdamW ( Parameter Grou..., MSELoss(), 25, max_norm=1)\n",
            "   10.82 s in test({'n_hidden_rhs': [], '..., ConditionalAutoEncoder..., cpu, <torch.utils.data.data..., MSELoss())\n",
            "    2.30 s in test({'n_hidden_rhs': [], '..., ConditionalAutoEncoder..., cpu, <torch.utils.data.data..., MSELoss())\n",
            "Train MSE: 0.02761779\n",
            "Valid MSE: 0.011599821\n",
            "Next Learning Rate: 0.0005\n",
            "[0.3443573, 0.12610468, 0.05892224, 0.043867297, 0.037971675, 0.034526445, 0.032623097, 0.031580478, 0.030780792, 0.03004358, 0.029627714, 0.029172892, 0.028746782, 0.028500507, 0.028341006, 0.028260289, 0.02807822, 0.027971283, 0.027888412, 0.02784946, 0.027788663, 0.027738424, 0.027694536, 0.02766073, 0.027636988]\n",
            "[0.012654249, 0.012091572, 0.011849794, 0.011779455, 0.011752683, 0.011736083, 0.011725373, 0.011716388, 0.011707892, 0.011699909, 0.011692364, 0.011685033, 0.0116769085, 0.011668953, 0.011658077, 0.01164798, 0.011638872, 0.011630432, 0.0116227195, 0.011615548, 0.011608945, 0.011603594, 0.011599303, 0.011599877, 0.011599648]\n"
          ]
        },
        {
          "metadata": {
            "tags": null
          },
          "name": "stderr",
          "output_type": "stream",
          "text": [
            ""
          ]
        },
        {
          "metadata": {
            "tags": null
          },
          "name": "stdout",
          "output_type": "stream",
          "text": [
            "Epoch 26, total_loss=0.6456, reg_loss = 0.6183\n",
            "   12.91 s in train({'n_hidden_rhs': [], '..., ConditionalAutoEncoder..., cpu, <torch.utils.data.data..., AdamW ( Parameter Grou..., MSELoss(), 26, max_norm=1)\n",
            "   10.96 s in test({'n_hidden_rhs': [], '..., ConditionalAutoEncoder..., cpu, <torch.utils.data.data..., MSELoss())\n",
            "    2.41 s in test({'n_hidden_rhs': [], '..., ConditionalAutoEncoder..., cpu, <torch.utils.data.data..., MSELoss())\n",
            "Train MSE: 0.027588831\n",
            "Valid MSE: 0.011599816\n",
            "Next Learning Rate: 0.0005\n",
            "[0.3443573, 0.12610468, 0.05892224, 0.043867297, 0.037971675, 0.034526445, 0.032623097, 0.031580478, 0.030780792, 0.03004358, 0.029627714, 0.029172892, 0.028746782, 0.028500507, 0.028341006, 0.028260289, 0.02807822, 0.027971283, 0.027888412, 0.02784946, 0.027788663, 0.027738424, 0.027694536, 0.02766073, 0.027636988, 0.02761779]\n",
            "[0.012654249, 0.012091572, 0.011849794, 0.011779455, 0.011752683, 0.011736083, 0.011725373, 0.011716388, 0.011707892, 0.011699909, 0.011692364, 0.011685033, 0.0116769085, 0.011668953, 0.011658077, 0.01164798, 0.011638872, 0.011630432, 0.0116227195, 0.011615548, 0.011608945, 0.011603594, 0.011599303, 0.011599877, 0.011599648, 0.011599821]\n"
          ]
        },
        {
          "metadata": {
            "tags": null
          },
          "name": "stderr",
          "output_type": "stream",
          "text": [
            ""
          ]
        },
        {
          "metadata": {
            "tags": null
          },
          "name": "stdout",
          "output_type": "stream",
          "text": [
            "Epoch 27, total_loss=0.6230, reg_loss = 0.5958\n",
            "   12.88 s in train({'n_hidden_rhs': [], '..., ConditionalAutoEncoder..., cpu, <torch.utils.data.data..., AdamW ( Parameter Grou..., MSELoss(), 27, max_norm=1)\n",
            "   11.19 s in test({'n_hidden_rhs': [], '..., ConditionalAutoEncoder..., cpu, <torch.utils.data.data..., MSELoss())\n",
            "    2.38 s in test({'n_hidden_rhs': [], '..., ConditionalAutoEncoder..., cpu, <torch.utils.data.data..., MSELoss())\n",
            "Train MSE: 0.027579686\n",
            "Valid MSE: 0.011599884\n",
            "Next Learning Rate: 0.00025\n",
            "[0.3443573, 0.12610468, 0.05892224, 0.043867297, 0.037971675, 0.034526445, 0.032623097, 0.031580478, 0.030780792, 0.03004358, 0.029627714, 0.029172892, 0.028746782, 0.028500507, 0.028341006, 0.028260289, 0.02807822, 0.027971283, 0.027888412, 0.02784946, 0.027788663, 0.027738424, 0.027694536, 0.02766073, 0.027636988, 0.02761779, 0.027588831]\n",
            "[0.012654249, 0.012091572, 0.011849794, 0.011779455, 0.011752683, 0.011736083, 0.011725373, 0.011716388, 0.011707892, 0.011699909, 0.011692364, 0.011685033, 0.0116769085, 0.011668953, 0.011658077, 0.01164798, 0.011638872, 0.011630432, 0.0116227195, 0.011615548, 0.011608945, 0.011603594, 0.011599303, 0.011599877, 0.011599648, 0.011599821, 0.011599816]\n"
          ]
        },
        {
          "metadata": {
            "tags": null
          },
          "name": "stderr",
          "output_type": "stream",
          "text": [
            ""
          ]
        },
        {
          "metadata": {
            "tags": null
          },
          "name": "stdout",
          "output_type": "stream",
          "text": [
            "Epoch 28, total_loss=0.6067, reg_loss = 0.5790\n",
            "   12.92 s in train({'n_hidden_rhs': [], '..., ConditionalAutoEncoder..., cpu, <torch.utils.data.data..., AdamW ( Parameter Grou..., MSELoss(), 28, max_norm=1)\n",
            "   10.86 s in test({'n_hidden_rhs': [], '..., ConditionalAutoEncoder..., cpu, <torch.utils.data.data..., MSELoss())\n",
            "    2.45 s in test({'n_hidden_rhs': [], '..., ConditionalAutoEncoder..., cpu, <torch.utils.data.data..., MSELoss())\n",
            "Train MSE: 0.027580766\n",
            "Valid MSE: 0.01159994\n",
            "Next Learning Rate: 0.00025\n",
            "[0.3443573, 0.12610468, 0.05892224, 0.043867297, 0.037971675, 0.034526445, 0.032623097, 0.031580478, 0.030780792, 0.03004358, 0.029627714, 0.029172892, 0.028746782, 0.028500507, 0.028341006, 0.028260289, 0.02807822, 0.027971283, 0.027888412, 0.02784946, 0.027788663, 0.027738424, 0.027694536, 0.02766073, 0.027636988, 0.02761779, 0.027588831, 0.027579686]\n",
            "[0.012654249, 0.012091572, 0.011849794, 0.011779455, 0.011752683, 0.011736083, 0.011725373, 0.011716388, 0.011707892, 0.011699909, 0.011692364, 0.011685033, 0.0116769085, 0.011668953, 0.011658077, 0.01164798, 0.011638872, 0.011630432, 0.0116227195, 0.011615548, 0.011608945, 0.011603594, 0.011599303, 0.011599877, 0.011599648, 0.011599821, 0.011599816, 0.011599884]\n",
            "Training done. Evaluating...\n"
          ]
        },
        {
          "metadata": {
            "tags": null
          },
          "name": "stderr",
          "output_type": "stream",
          "text": [
            "100%|██████████| 6/6 [00:04<00:00,  1.47it/s]\n",
            "100%|██████████| 4/4 [00:02<00:00,  1.65it/s]\n"
          ]
        },
        {
          "metadata": {
            "tags": null
          },
          "name": "stdout",
          "output_type": "stream",
          "text": [
            "ConditionalAutoEncoder(\n",
            "  (macro): Sequential(\n",
            "    (0): Linear(in_features=147, out_features=16, bias=True)\n",
            "    (1): SELU()\n",
            "    (2): LayerNorm((16,), eps=1e-05, elementwise_affine=True)\n",
            "    (3): Linear(in_features=16, out_features=8, bias=True)\n",
            "    (4): SELU()\n",
            "    (5): LayerNorm((8,), eps=1e-05, elementwise_affine=True)\n",
            "    (6): Linear(in_features=8, out_features=4, bias=True)\n",
            "  )\n",
            "  (macro_lstm): LSTM(4, 4, num_layers=2)\n",
            "  (lhs): Sequential(\n",
            "    (0): Linear(in_features=45, out_features=24, bias=True)\n",
            "    (1): SELU()\n",
            "    (2): LayerNorm((24,), eps=1e-05, elementwise_affine=True)\n",
            "    (3): Linear(in_features=24, out_features=12, bias=True)\n",
            "    (4): SELU()\n",
            "    (5): LayerNorm((12,), eps=1e-05, elementwise_affine=True)\n",
            "    (6): Linear(in_features=12, out_features=4, bias=True)\n",
            "  )\n",
            "  (rhs): Sequential(\n",
            "    (0): Linear(in_features=46, out_features=4, bias=True)\n",
            "  )\n",
            ")\n",
            "   11.09 s in test({'n_hidden_rhs': [], '..., ConditionalAutoEncoder..., cpu, <torch.utils.data.data..., MSELoss())\n",
            "    2.35 s in test({'n_hidden_rhs': [], '..., ConditionalAutoEncoder..., cpu, <torch.utils.data.data..., MSELoss())\n",
            "Pre-Train Train MSE: 0.14135984\n",
            "Pre-Train Valid MSE: 0.012485976\n"
          ]
        },
        {
          "metadata": {
            "tags": null
          },
          "name": "stderr",
          "output_type": "stream",
          "text": [
            ""
          ]
        },
        {
          "metadata": {
            "tags": null
          },
          "name": "stdout",
          "output_type": "stream",
          "text": [
            "Epoch 1, total_loss=2.2399, reg_loss = 2.1333\n",
            "   13.29 s in train({'n_hidden_rhs': [], '..., ConditionalAutoEncoder..., cpu, <torch.utils.data.data..., AdamW ( Parameter Grou..., MSELoss(), 1, max_norm=1)\n",
            "   11.03 s in test({'n_hidden_rhs': [], '..., ConditionalAutoEncoder..., cpu, <torch.utils.data.data..., MSELoss())\n",
            "    2.42 s in test({'n_hidden_rhs': [], '..., ConditionalAutoEncoder..., cpu, <torch.utils.data.data..., MSELoss())\n",
            "Train MSE: 0.08111221\n",
            "Valid MSE: 0.012202112\n",
            "Next Learning Rate: 0.0005\n",
            "[0.14135984]\n",
            "[0.012485976]\n"
          ]
        },
        {
          "metadata": {
            "tags": null
          },
          "name": "stderr",
          "output_type": "stream",
          "text": [
            ""
          ]
        },
        {
          "metadata": {
            "tags": null
          },
          "name": "stdout",
          "output_type": "stream",
          "text": [
            "Epoch 2, total_loss=2.0700, reg_loss = 2.0055\n",
            "   12.98 s in train({'n_hidden_rhs': [], '..., ConditionalAutoEncoder..., cpu, <torch.utils.data.data..., AdamW ( Parameter Grou..., MSELoss(), 2, max_norm=1)\n",
            "   11.01 s in test({'n_hidden_rhs': [], '..., ConditionalAutoEncoder..., cpu, <torch.utils.data.data..., MSELoss())\n",
            "    2.29 s in test({'n_hidden_rhs': [], '..., ConditionalAutoEncoder..., cpu, <torch.utils.data.data..., MSELoss())\n",
            "Train MSE: 0.05400757\n",
            "Valid MSE: 0.012048015\n",
            "Next Learning Rate: 0.0005\n",
            "[0.14135984, 0.08111221]\n",
            "[0.012485976, 0.012202112]\n"
          ]
        },
        {
          "metadata": {
            "tags": null
          },
          "name": "stderr",
          "output_type": "stream",
          "text": [
            ""
          ]
        },
        {
          "metadata": {
            "tags": null
          },
          "name": "stdout",
          "output_type": "stream",
          "text": [
            "Epoch 3, total_loss=1.9302, reg_loss = 1.8822\n",
            "   13.18 s in train({'n_hidden_rhs': [], '..., ConditionalAutoEncoder..., cpu, <torch.utils.data.data..., AdamW ( Parameter Grou..., MSELoss(), 3, max_norm=1)\n",
            "   10.73 s in test({'n_hidden_rhs': [], '..., ConditionalAutoEncoder..., cpu, <torch.utils.data.data..., MSELoss())\n",
            "    2.27 s in test({'n_hidden_rhs': [], '..., ConditionalAutoEncoder..., cpu, <torch.utils.data.data..., MSELoss())\n",
            "Train MSE: 0.0430943\n",
            "Valid MSE: 0.011963408\n",
            "Next Learning Rate: 0.0005\n",
            "[0.14135984, 0.08111221, 0.05400757]\n",
            "[0.012485976, 0.012202112, 0.012048015]\n"
          ]
        },
        {
          "metadata": {
            "tags": null
          },
          "name": "stderr",
          "output_type": "stream",
          "text": [
            ""
          ]
        },
        {
          "metadata": {
            "tags": null
          },
          "name": "stdout",
          "output_type": "stream",
          "text": [
            "Epoch 4, total_loss=1.8060, reg_loss = 1.7648\n",
            "   12.79 s in train({'n_hidden_rhs': [], '..., ConditionalAutoEncoder..., cpu, <torch.utils.data.data..., AdamW ( Parameter Grou..., MSELoss(), 4, max_norm=1)\n",
            "   10.86 s in test({'n_hidden_rhs': [], '..., ConditionalAutoEncoder..., cpu, <torch.utils.data.data..., MSELoss())\n",
            "    2.29 s in test({'n_hidden_rhs': [], '..., ConditionalAutoEncoder..., cpu, <torch.utils.data.data..., MSELoss())\n",
            "Train MSE: 0.038708575\n",
            "Valid MSE: 0.011905327\n",
            "Next Learning Rate: 0.0005\n",
            "[0.14135984, 0.08111221, 0.05400757, 0.0430943]\n",
            "[0.012485976, 0.012202112, 0.012048015, 0.011963408]\n"
          ]
        },
        {
          "metadata": {
            "tags": null
          },
          "name": "stderr",
          "output_type": "stream",
          "text": [
            ""
          ]
        },
        {
          "metadata": {
            "tags": null
          },
          "name": "stdout",
          "output_type": "stream",
          "text": [
            "Epoch 5, total_loss=1.6924, reg_loss = 1.6535\n",
            "   12.78 s in train({'n_hidden_rhs': [], '..., ConditionalAutoEncoder..., cpu, <torch.utils.data.data..., AdamW ( Parameter Grou..., MSELoss(), 5, max_norm=1)\n",
            "   11.02 s in test({'n_hidden_rhs': [], '..., ConditionalAutoEncoder..., cpu, <torch.utils.data.data..., MSELoss())\n",
            "    2.30 s in test({'n_hidden_rhs': [], '..., ConditionalAutoEncoder..., cpu, <torch.utils.data.data..., MSELoss())\n",
            "Train MSE: 0.036867302\n",
            "Valid MSE: 0.0118625015\n",
            "Next Learning Rate: 0.0005\n",
            "[0.14135984, 0.08111221, 0.05400757, 0.0430943, 0.038708575]\n",
            "[0.012485976, 0.012202112, 0.012048015, 0.011963408, 0.011905327]\n"
          ]
        },
        {
          "metadata": {
            "tags": null
          },
          "name": "stderr",
          "output_type": "stream",
          "text": [
            ""
          ]
        },
        {
          "metadata": {
            "tags": null
          },
          "name": "stdout",
          "output_type": "stream",
          "text": [
            "Epoch 6, total_loss=1.5849, reg_loss = 1.5496\n",
            "   12.89 s in train({'n_hidden_rhs': [], '..., ConditionalAutoEncoder..., cpu, <torch.utils.data.data..., AdamW ( Parameter Grou..., MSELoss(), 6, max_norm=1)\n",
            "   10.81 s in test({'n_hidden_rhs': [], '..., ConditionalAutoEncoder..., cpu, <torch.utils.data.data..., MSELoss())\n",
            "    2.30 s in test({'n_hidden_rhs': [], '..., ConditionalAutoEncoder..., cpu, <torch.utils.data.data..., MSELoss())\n",
            "Train MSE: 0.03465967\n",
            "Valid MSE: 0.011819497\n",
            "Next Learning Rate: 0.0005\n",
            "[0.14135984, 0.08111221, 0.05400757, 0.0430943, 0.038708575, 0.036867302]\n",
            "[0.012485976, 0.012202112, 0.012048015, 0.011963408, 0.011905327, 0.0118625015]\n"
          ]
        },
        {
          "metadata": {
            "tags": null
          },
          "name": "stderr",
          "output_type": "stream",
          "text": [
            ""
          ]
        },
        {
          "metadata": {
            "tags": null
          },
          "name": "stdout",
          "output_type": "stream",
          "text": [
            "Epoch 7, total_loss=1.4884, reg_loss = 1.4529\n",
            "   12.95 s in train({'n_hidden_rhs': [], '..., ConditionalAutoEncoder..., cpu, <torch.utils.data.data..., AdamW ( Parameter Grou..., MSELoss(), 7, max_norm=1)\n",
            "   10.94 s in test({'n_hidden_rhs': [], '..., ConditionalAutoEncoder..., cpu, <torch.utils.data.data..., MSELoss())\n",
            "    2.79 s in test({'n_hidden_rhs': [], '..., ConditionalAutoEncoder..., cpu, <torch.utils.data.data..., MSELoss())\n",
            "Train MSE: 0.033664614\n",
            "Valid MSE: 0.011785365\n",
            "Next Learning Rate: 0.0005\n",
            "[0.14135984, 0.08111221, 0.05400757, 0.0430943, 0.038708575, 0.036867302, 0.03465967]\n",
            "[0.012485976, 0.012202112, 0.012048015, 0.011963408, 0.011905327, 0.0118625015, 0.011819497]\n"
          ]
        },
        {
          "metadata": {
            "tags": null
          },
          "name": "stderr",
          "output_type": "stream",
          "text": [
            ""
          ]
        },
        {
          "metadata": {
            "tags": null
          },
          "name": "stdout",
          "output_type": "stream",
          "text": [
            "Epoch 8, total_loss=1.3960, reg_loss = 1.3628\n",
            "   15.27 s in train({'n_hidden_rhs': [], '..., ConditionalAutoEncoder..., cpu, <torch.utils.data.data..., AdamW ( Parameter Grou..., MSELoss(), 8, max_norm=1)\n",
            "   11.53 s in test({'n_hidden_rhs': [], '..., ConditionalAutoEncoder..., cpu, <torch.utils.data.data..., MSELoss())\n",
            "    2.30 s in test({'n_hidden_rhs': [], '..., ConditionalAutoEncoder..., cpu, <torch.utils.data.data..., MSELoss())\n",
            "Train MSE: 0.033024695\n",
            "Valid MSE: 0.011755055\n",
            "Next Learning Rate: 0.0005\n",
            "[0.14135984, 0.08111221, 0.05400757, 0.0430943, 0.038708575, 0.036867302, 0.03465967, 0.033664614]\n",
            "[0.012485976, 0.012202112, 0.012048015, 0.011963408, 0.011905327, 0.0118625015, 0.011819497, 0.011785365]\n"
          ]
        },
        {
          "metadata": {
            "tags": null
          },
          "name": "stderr",
          "output_type": "stream",
          "text": [
            ""
          ]
        },
        {
          "metadata": {
            "tags": null
          },
          "name": "stdout",
          "output_type": "stream",
          "text": [
            "Epoch 9, total_loss=1.3123, reg_loss = 1.2792\n",
            "   13.19 s in train({'n_hidden_rhs': [], '..., ConditionalAutoEncoder..., cpu, <torch.utils.data.data..., AdamW ( Parameter Grou..., MSELoss(), 9, max_norm=1)\n",
            "   10.89 s in test({'n_hidden_rhs': [], '..., ConditionalAutoEncoder..., cpu, <torch.utils.data.data..., MSELoss())\n",
            "    2.35 s in test({'n_hidden_rhs': [], '..., ConditionalAutoEncoder..., cpu, <torch.utils.data.data..., MSELoss())\n",
            "Train MSE: 0.03264597\n",
            "Valid MSE: 0.011728137\n",
            "Next Learning Rate: 0.0005\n",
            "[0.14135984, 0.08111221, 0.05400757, 0.0430943, 0.038708575, 0.036867302, 0.03465967, 0.033664614, 0.033024695]\n",
            "[0.012485976, 0.012202112, 0.012048015, 0.011963408, 0.011905327, 0.0118625015, 0.011819497, 0.011785365, 0.011755055]\n"
          ]
        },
        {
          "metadata": {
            "tags": null
          },
          "name": "stderr",
          "output_type": "stream",
          "text": [
            ""
          ]
        },
        {
          "metadata": {
            "tags": null
          },
          "name": "stdout",
          "output_type": "stream",
          "text": [
            "Epoch 10, total_loss=1.2346, reg_loss = 1.2024\n",
            "   13.11 s in train({'n_hidden_rhs': [], '..., ConditionalAutoEncoder..., cpu, <torch.utils.data.data..., AdamW ( Parameter Grou..., MSELoss(), 10, max_norm=1)\n",
            "   10.80 s in test({'n_hidden_rhs': [], '..., ConditionalAutoEncoder..., cpu, <torch.utils.data.data..., MSELoss())\n",
            "    2.34 s in test({'n_hidden_rhs': [], '..., ConditionalAutoEncoder..., cpu, <torch.utils.data.data..., MSELoss())\n",
            "Train MSE: 0.031928416\n",
            "Valid MSE: 0.011700943\n",
            "Next Learning Rate: 0.0005\n",
            "[0.14135984, 0.08111221, 0.05400757, 0.0430943, 0.038708575, 0.036867302, 0.03465967, 0.033664614, 0.033024695, 0.03264597]\n",
            "[0.012485976, 0.012202112, 0.012048015, 0.011963408, 0.011905327, 0.0118625015, 0.011819497, 0.011785365, 0.011755055, 0.011728137]\n"
          ]
        },
        {
          "metadata": {
            "tags": null
          },
          "name": "stderr",
          "output_type": "stream",
          "text": [
            ""
          ]
        },
        {
          "metadata": {
            "tags": null
          },
          "name": "stdout",
          "output_type": "stream",
          "text": [
            "Epoch 11, total_loss=1.1639, reg_loss = 1.1315\n",
            "   12.99 s in train({'n_hidden_rhs': [], '..., ConditionalAutoEncoder..., cpu, <torch.utils.data.data..., AdamW ( Parameter Grou..., MSELoss(), 11, max_norm=1)\n",
            "   10.94 s in test({'n_hidden_rhs': [], '..., ConditionalAutoEncoder..., cpu, <torch.utils.data.data..., MSELoss())\n",
            "    2.32 s in test({'n_hidden_rhs': [], '..., ConditionalAutoEncoder..., cpu, <torch.utils.data.data..., MSELoss())\n",
            "Train MSE: 0.0317398\n",
            "Valid MSE: 0.011680203\n",
            "Next Learning Rate: 0.0005\n",
            "[0.14135984, 0.08111221, 0.05400757, 0.0430943, 0.038708575, 0.036867302, 0.03465967, 0.033664614, 0.033024695, 0.03264597, 0.031928416]\n",
            "[0.012485976, 0.012202112, 0.012048015, 0.011963408, 0.011905327, 0.0118625015, 0.011819497, 0.011785365, 0.011755055, 0.011728137, 0.011700943]\n"
          ]
        },
        {
          "metadata": {
            "tags": null
          },
          "name": "stderr",
          "output_type": "stream",
          "text": [
            ""
          ]
        },
        {
          "metadata": {
            "tags": null
          },
          "name": "stdout",
          "output_type": "stream",
          "text": [
            "Epoch 12, total_loss=1.0977, reg_loss = 1.0666\n",
            "   13.02 s in train({'n_hidden_rhs': [], '..., ConditionalAutoEncoder..., cpu, <torch.utils.data.data..., AdamW ( Parameter Grou..., MSELoss(), 12, max_norm=1)\n",
            "   10.96 s in test({'n_hidden_rhs': [], '..., ConditionalAutoEncoder..., cpu, <torch.utils.data.data..., MSELoss())\n",
            "    2.32 s in test({'n_hidden_rhs': [], '..., ConditionalAutoEncoder..., cpu, <torch.utils.data.data..., MSELoss())\n",
            "Train MSE: 0.031495262\n",
            "Valid MSE: 0.011665149\n",
            "Next Learning Rate: 0.0005\n",
            "[0.14135984, 0.08111221, 0.05400757, 0.0430943, 0.038708575, 0.036867302, 0.03465967, 0.033664614, 0.033024695, 0.03264597, 0.031928416, 0.0317398]\n",
            "[0.012485976, 0.012202112, 0.012048015, 0.011963408, 0.011905327, 0.0118625015, 0.011819497, 0.011785365, 0.011755055, 0.011728137, 0.011700943, 0.011680203]\n"
          ]
        },
        {
          "metadata": {
            "tags": null
          },
          "name": "stderr",
          "output_type": "stream",
          "text": [
            ""
          ]
        },
        {
          "metadata": {
            "tags": null
          },
          "name": "stdout",
          "output_type": "stream",
          "text": [
            "Epoch 13, total_loss=1.0376, reg_loss = 1.0067\n",
            "   12.77 s in train({'n_hidden_rhs': [], '..., ConditionalAutoEncoder..., cpu, <torch.utils.data.data..., AdamW ( Parameter Grou..., MSELoss(), 13, max_norm=1)\n",
            "   11.01 s in test({'n_hidden_rhs': [], '..., ConditionalAutoEncoder..., cpu, <torch.utils.data.data..., MSELoss())\n",
            "    2.33 s in test({'n_hidden_rhs': [], '..., ConditionalAutoEncoder..., cpu, <torch.utils.data.data..., MSELoss())\n",
            "Train MSE: 0.031495105\n",
            "Valid MSE: 0.011650917\n",
            "Next Learning Rate: 0.0005\n",
            "[0.14135984, 0.08111221, 0.05400757, 0.0430943, 0.038708575, 0.036867302, 0.03465967, 0.033664614, 0.033024695, 0.03264597, 0.031928416, 0.0317398, 0.031495262]\n",
            "[0.012485976, 0.012202112, 0.012048015, 0.011963408, 0.011905327, 0.0118625015, 0.011819497, 0.011785365, 0.011755055, 0.011728137, 0.011700943, 0.011680203, 0.011665149]\n"
          ]
        },
        {
          "metadata": {
            "tags": null
          },
          "name": "stderr",
          "output_type": "stream",
          "text": [
            ""
          ]
        },
        {
          "metadata": {
            "tags": null
          },
          "name": "stdout",
          "output_type": "stream",
          "text": [
            "Epoch 14, total_loss=0.9835, reg_loss = 0.9519\n",
            "   12.97 s in train({'n_hidden_rhs': [], '..., ConditionalAutoEncoder..., cpu, <torch.utils.data.data..., AdamW ( Parameter Grou..., MSELoss(), 14, max_norm=1)\n",
            "   10.90 s in test({'n_hidden_rhs': [], '..., ConditionalAutoEncoder..., cpu, <torch.utils.data.data..., MSELoss())\n",
            "    2.41 s in test({'n_hidden_rhs': [], '..., ConditionalAutoEncoder..., cpu, <torch.utils.data.data..., MSELoss())\n",
            "Train MSE: 0.031326286\n",
            "Valid MSE: 0.011640185\n",
            "Next Learning Rate: 0.0005\n",
            "[0.14135984, 0.08111221, 0.05400757, 0.0430943, 0.038708575, 0.036867302, 0.03465967, 0.033664614, 0.033024695, 0.03264597, 0.031928416, 0.0317398, 0.031495262, 0.031495105]\n",
            "[0.012485976, 0.012202112, 0.012048015, 0.011963408, 0.011905327, 0.0118625015, 0.011819497, 0.011785365, 0.011755055, 0.011728137, 0.011700943, 0.011680203, 0.011665149, 0.011650917]\n"
          ]
        },
        {
          "metadata": {
            "tags": null
          },
          "name": "stderr",
          "output_type": "stream",
          "text": [
            ""
          ]
        },
        {
          "metadata": {
            "tags": null
          },
          "name": "stdout",
          "output_type": "stream",
          "text": [
            "Epoch 15, total_loss=0.9322, reg_loss = 0.9013\n",
            "   13.07 s in train({'n_hidden_rhs': [], '..., ConditionalAutoEncoder..., cpu, <torch.utils.data.data..., AdamW ( Parameter Grou..., MSELoss(), 15, max_norm=1)\n",
            "   10.82 s in test({'n_hidden_rhs': [], '..., ConditionalAutoEncoder..., cpu, <torch.utils.data.data..., MSELoss())\n",
            "    2.33 s in test({'n_hidden_rhs': [], '..., ConditionalAutoEncoder..., cpu, <torch.utils.data.data..., MSELoss())\n",
            "Train MSE: 0.0309862\n",
            "Valid MSE: 0.011630413\n",
            "Next Learning Rate: 0.0005\n",
            "[0.14135984, 0.08111221, 0.05400757, 0.0430943, 0.038708575, 0.036867302, 0.03465967, 0.033664614, 0.033024695, 0.03264597, 0.031928416, 0.0317398, 0.031495262, 0.031495105, 0.031326286]\n",
            "[0.012485976, 0.012202112, 0.012048015, 0.011963408, 0.011905327, 0.0118625015, 0.011819497, 0.011785365, 0.011755055, 0.011728137, 0.011700943, 0.011680203, 0.011665149, 0.011650917, 0.011640185]\n"
          ]
        },
        {
          "metadata": {
            "tags": null
          },
          "name": "stderr",
          "output_type": "stream",
          "text": [
            ""
          ]
        },
        {
          "metadata": {
            "tags": null
          },
          "name": "stdout",
          "output_type": "stream",
          "text": [
            "Epoch 16, total_loss=0.8848, reg_loss = 0.8541\n",
            "   12.98 s in train({'n_hidden_rhs': [], '..., ConditionalAutoEncoder..., cpu, <torch.utils.data.data..., AdamW ( Parameter Grou..., MSELoss(), 16, max_norm=1)\n",
            "   10.97 s in test({'n_hidden_rhs': [], '..., ConditionalAutoEncoder..., cpu, <torch.utils.data.data..., MSELoss())\n",
            "    2.32 s in test({'n_hidden_rhs': [], '..., ConditionalAutoEncoder..., cpu, <torch.utils.data.data..., MSELoss())\n",
            "Train MSE: 0.030806337\n",
            "Valid MSE: 0.011622361\n",
            "Next Learning Rate: 0.0005\n",
            "[0.14135984, 0.08111221, 0.05400757, 0.0430943, 0.038708575, 0.036867302, 0.03465967, 0.033664614, 0.033024695, 0.03264597, 0.031928416, 0.0317398, 0.031495262, 0.031495105, 0.031326286, 0.0309862]\n",
            "[0.012485976, 0.012202112, 0.012048015, 0.011963408, 0.011905327, 0.0118625015, 0.011819497, 0.011785365, 0.011755055, 0.011728137, 0.011700943, 0.011680203, 0.011665149, 0.011650917, 0.011640185, 0.011630413]\n"
          ]
        },
        {
          "metadata": {
            "tags": null
          },
          "name": "stderr",
          "output_type": "stream",
          "text": [
            ""
          ]
        },
        {
          "metadata": {
            "tags": null
          },
          "name": "stdout",
          "output_type": "stream",
          "text": [
            "Epoch 17, total_loss=0.8415, reg_loss = 0.8105\n",
            "   12.88 s in train({'n_hidden_rhs': [], '..., ConditionalAutoEncoder..., cpu, <torch.utils.data.data..., AdamW ( Parameter Grou..., MSELoss(), 17, max_norm=1)\n",
            "   10.75 s in test({'n_hidden_rhs': [], '..., ConditionalAutoEncoder..., cpu, <torch.utils.data.data..., MSELoss())\n",
            "    2.25 s in test({'n_hidden_rhs': [], '..., ConditionalAutoEncoder..., cpu, <torch.utils.data.data..., MSELoss())\n",
            "Train MSE: 0.030455727\n",
            "Valid MSE: 0.011613579\n",
            "Next Learning Rate: 0.0005\n",
            "[0.14135984, 0.08111221, 0.05400757, 0.0430943, 0.038708575, 0.036867302, 0.03465967, 0.033664614, 0.033024695, 0.03264597, 0.031928416, 0.0317398, 0.031495262, 0.031495105, 0.031326286, 0.0309862, 0.030806337]\n",
            "[0.012485976, 0.012202112, 0.012048015, 0.011963408, 0.011905327, 0.0118625015, 0.011819497, 0.011785365, 0.011755055, 0.011728137, 0.011700943, 0.011680203, 0.011665149, 0.011650917, 0.011640185, 0.011630413, 0.011622361]\n"
          ]
        },
        {
          "metadata": {
            "tags": null
          },
          "name": "stderr",
          "output_type": "stream",
          "text": [
            ""
          ]
        },
        {
          "metadata": {
            "tags": null
          },
          "name": "stdout",
          "output_type": "stream",
          "text": [
            "Epoch 18, total_loss=0.8000, reg_loss = 0.7698\n",
            "   12.76 s in train({'n_hidden_rhs': [], '..., ConditionalAutoEncoder..., cpu, <torch.utils.data.data..., AdamW ( Parameter Grou..., MSELoss(), 18, max_norm=1)\n",
            "   10.87 s in test({'n_hidden_rhs': [], '..., ConditionalAutoEncoder..., cpu, <torch.utils.data.data..., MSELoss())\n",
            "    2.34 s in test({'n_hidden_rhs': [], '..., ConditionalAutoEncoder..., cpu, <torch.utils.data.data..., MSELoss())\n",
            "Train MSE: 0.030358955\n",
            "Valid MSE: 0.011605742\n",
            "Next Learning Rate: 0.0005\n",
            "[0.14135984, 0.08111221, 0.05400757, 0.0430943, 0.038708575, 0.036867302, 0.03465967, 0.033664614, 0.033024695, 0.03264597, 0.031928416, 0.0317398, 0.031495262, 0.031495105, 0.031326286, 0.0309862, 0.030806337, 0.030455727]\n",
            "[0.012485976, 0.012202112, 0.012048015, 0.011963408, 0.011905327, 0.0118625015, 0.011819497, 0.011785365, 0.011755055, 0.011728137, 0.011700943, 0.011680203, 0.011665149, 0.011650917, 0.011640185, 0.011630413, 0.011622361, 0.011613579]\n"
          ]
        },
        {
          "metadata": {
            "tags": null
          },
          "name": "stderr",
          "output_type": "stream",
          "text": [
            ""
          ]
        },
        {
          "metadata": {
            "tags": null
          },
          "name": "stdout",
          "output_type": "stream",
          "text": [
            "Epoch 19, total_loss=0.7622, reg_loss = 0.7320\n",
            "   13.01 s in train({'n_hidden_rhs': [], '..., ConditionalAutoEncoder..., cpu, <torch.utils.data.data..., AdamW ( Parameter Grou..., MSELoss(), 19, max_norm=1)\n",
            "   10.96 s in test({'n_hidden_rhs': [], '..., ConditionalAutoEncoder..., cpu, <torch.utils.data.data..., MSELoss())\n",
            "    2.33 s in test({'n_hidden_rhs': [], '..., ConditionalAutoEncoder..., cpu, <torch.utils.data.data..., MSELoss())\n",
            "Train MSE: 0.030124692\n",
            "Valid MSE: 0.011598485\n",
            "Next Learning Rate: 0.0005\n",
            "[0.14135984, 0.08111221, 0.05400757, 0.0430943, 0.038708575, 0.036867302, 0.03465967, 0.033664614, 0.033024695, 0.03264597, 0.031928416, 0.0317398, 0.031495262, 0.031495105, 0.031326286, 0.0309862, 0.030806337, 0.030455727, 0.030358955]\n",
            "[0.012485976, 0.012202112, 0.012048015, 0.011963408, 0.011905327, 0.0118625015, 0.011819497, 0.011785365, 0.011755055, 0.011728137, 0.011700943, 0.011680203, 0.011665149, 0.011650917, 0.011640185, 0.011630413, 0.011622361, 0.011613579, 0.011605742]\n"
          ]
        },
        {
          "metadata": {
            "tags": null
          },
          "name": "stderr",
          "output_type": "stream",
          "text": [
            ""
          ]
        },
        {
          "metadata": {
            "tags": null
          },
          "name": "stdout",
          "output_type": "stream",
          "text": [
            "Epoch 20, total_loss=0.7262, reg_loss = 0.6965\n",
            "   12.84 s in train({'n_hidden_rhs': [], '..., ConditionalAutoEncoder..., cpu, <torch.utils.data.data..., AdamW ( Parameter Grou..., MSELoss(), 20, max_norm=1)\n",
            "   11.39 s in test({'n_hidden_rhs': [], '..., ConditionalAutoEncoder..., cpu, <torch.utils.data.data..., MSELoss())\n",
            "    2.34 s in test({'n_hidden_rhs': [], '..., ConditionalAutoEncoder..., cpu, <torch.utils.data.data..., MSELoss())\n",
            "Train MSE: 0.030026315\n",
            "Valid MSE: 0.01159324\n",
            "Next Learning Rate: 0.0005\n",
            "[0.14135984, 0.08111221, 0.05400757, 0.0430943, 0.038708575, 0.036867302, 0.03465967, 0.033664614, 0.033024695, 0.03264597, 0.031928416, 0.0317398, 0.031495262, 0.031495105, 0.031326286, 0.0309862, 0.030806337, 0.030455727, 0.030358955, 0.030124692]\n",
            "[0.012485976, 0.012202112, 0.012048015, 0.011963408, 0.011905327, 0.0118625015, 0.011819497, 0.011785365, 0.011755055, 0.011728137, 0.011700943, 0.011680203, 0.011665149, 0.011650917, 0.011640185, 0.011630413, 0.011622361, 0.011613579, 0.011605742, 0.011598485]\n"
          ]
        },
        {
          "metadata": {
            "tags": null
          },
          "name": "stderr",
          "output_type": "stream",
          "text": [
            ""
          ]
        },
        {
          "metadata": {
            "tags": null
          },
          "name": "stdout",
          "output_type": "stream",
          "text": [
            "Epoch 21, total_loss=0.6930, reg_loss = 0.6631\n",
            "   12.99 s in train({'n_hidden_rhs': [], '..., ConditionalAutoEncoder..., cpu, <torch.utils.data.data..., AdamW ( Parameter Grou..., MSELoss(), 21, max_norm=1)\n",
            "   10.98 s in test({'n_hidden_rhs': [], '..., ConditionalAutoEncoder..., cpu, <torch.utils.data.data..., MSELoss())\n",
            "    2.26 s in test({'n_hidden_rhs': [], '..., ConditionalAutoEncoder..., cpu, <torch.utils.data.data..., MSELoss())\n",
            "Train MSE: 0.029928686\n",
            "Valid MSE: 0.011588649\n",
            "Next Learning Rate: 0.0005\n",
            "[0.14135984, 0.08111221, 0.05400757, 0.0430943, 0.038708575, 0.036867302, 0.03465967, 0.033664614, 0.033024695, 0.03264597, 0.031928416, 0.0317398, 0.031495262, 0.031495105, 0.031326286, 0.0309862, 0.030806337, 0.030455727, 0.030358955, 0.030124692, 0.030026315]\n",
            "[0.012485976, 0.012202112, 0.012048015, 0.011963408, 0.011905327, 0.0118625015, 0.011819497, 0.011785365, 0.011755055, 0.011728137, 0.011700943, 0.011680203, 0.011665149, 0.011650917, 0.011640185, 0.011630413, 0.011622361, 0.011613579, 0.011605742, 0.011598485, 0.01159324]\n"
          ]
        },
        {
          "metadata": {
            "tags": null
          },
          "name": "stderr",
          "output_type": "stream",
          "text": [
            ""
          ]
        },
        {
          "output_type": "stream",
          "name": "stdout",
          "text": [
            "Epoch 22, total_loss=0.6614, reg_loss = 0.6319\n",
            "   12.68 s in train({'n_hidden_rhs': [], '..., ConditionalAutoEncoder..., cpu, <torch.utils.data.data..., AdamW ( Parameter Grou..., MSELoss(), 22, max_norm=1)\n",
            "   10.89 s in test({'n_hidden_rhs': [], '..., ConditionalAutoEncoder..., cpu, <torch.utils.data.data..., MSELoss())\n",
            "    2.30 s in test({'n_hidden_rhs': [], '..., ConditionalAutoEncoder..., cpu, <torch.utils.data.data..., MSELoss())\n",
            "Train MSE: 0.02978359\n",
            "Valid MSE: 0.011584049\n",
            "Next Learning Rate: 0.0005\n",
            "[0.14135984, 0.08111221, 0.05400757, 0.0430943, 0.038708575, 0.036867302, 0.03465967, 0.033664614, 0.033024695, 0.03264597, 0.031928416, 0.0317398, 0.031495262, 0.031495105, 0.031326286, 0.0309862, 0.030806337, 0.030455727, 0.030358955, 0.030124692, 0.030026315, 0.029928686]\n",
            "[0.012485976, 0.012202112, 0.012048015, 0.011963408, 0.011905327, 0.0118625015, 0.011819497, 0.011785365, 0.011755055, 0.011728137, 0.011700943, 0.011680203, 0.011665149, 0.011650917, 0.011640185, 0.011630413, 0.011622361, 0.011613579, 0.011605742, 0.011598485, 0.01159324, 0.011588649]\n"
          ]
        },
        {
          "output_type": "stream",
          "name": "stderr",
          "text": [
            ""
          ]
        },
        {
          "output_type": "stream",
          "name": "stdout",
          "text": [
            "Epoch 23, total_loss=0.6333, reg_loss = 0.6026\n",
            "   12.90 s in train({'n_hidden_rhs': [], '..., ConditionalAutoEncoder..., cpu, <torch.utils.data.data..., AdamW ( Parameter Grou..., MSELoss(), 23, max_norm=1)\n",
            "   11.12 s in test({'n_hidden_rhs': [], '..., ConditionalAutoEncoder..., cpu, <torch.utils.data.data..., MSELoss())\n",
            "    2.26 s in test({'n_hidden_rhs': [], '..., ConditionalAutoEncoder..., cpu, <torch.utils.data.data..., MSELoss())\n",
            "Train MSE: 0.029647004\n",
            "Valid MSE: 0.011580503\n",
            "Next Learning Rate: 0.0005\n",
            "[0.14135984, 0.08111221, 0.05400757, 0.0430943, 0.038708575, 0.036867302, 0.03465967, 0.033664614, 0.033024695, 0.03264597, 0.031928416, 0.0317398, 0.031495262, 0.031495105, 0.031326286, 0.0309862, 0.030806337, 0.030455727, 0.030358955, 0.030124692, 0.030026315, 0.029928686, 0.02978359]\n",
            "[0.012485976, 0.012202112, 0.012048015, 0.011963408, 0.011905327, 0.0118625015, 0.011819497, 0.011785365, 0.011755055, 0.011728137, 0.011700943, 0.011680203, 0.011665149, 0.011650917, 0.011640185, 0.011630413, 0.011622361, 0.011613579, 0.011605742, 0.011598485, 0.01159324, 0.011588649, 0.011584049]\n"
          ]
        },
        {
          "output_type": "stream",
          "name": "stderr",
          "text": [
            ""
          ]
        },
        {
          "output_type": "stream",
          "name": "stdout",
          "text": [
            "Epoch 24, total_loss=0.6049, reg_loss = 0.5758\n",
            "   12.75 s in train({'n_hidden_rhs': [], '..., ConditionalAutoEncoder..., cpu, <torch.utils.data.data..., AdamW ( Parameter Grou..., MSELoss(), 24, max_norm=1)\n",
            "   10.75 s in test({'n_hidden_rhs': [], '..., ConditionalAutoEncoder..., cpu, <torch.utils.data.data..., MSELoss())\n",
            "    2.32 s in test({'n_hidden_rhs': [], '..., ConditionalAutoEncoder..., cpu, <torch.utils.data.data..., MSELoss())\n",
            "Train MSE: 0.029186672\n",
            "Valid MSE: 0.0115763955\n",
            "Next Learning Rate: 0.0005\n",
            "[0.14135984, 0.08111221, 0.05400757, 0.0430943, 0.038708575, 0.036867302, 0.03465967, 0.033664614, 0.033024695, 0.03264597, 0.031928416, 0.0317398, 0.031495262, 0.031495105, 0.031326286, 0.0309862, 0.030806337, 0.030455727, 0.030358955, 0.030124692, 0.030026315, 0.029928686, 0.02978359, 0.029647004]\n",
            "[0.012485976, 0.012202112, 0.012048015, 0.011963408, 0.011905327, 0.0118625015, 0.011819497, 0.011785365, 0.011755055, 0.011728137, 0.011700943, 0.011680203, 0.011665149, 0.011650917, 0.011640185, 0.011630413, 0.011622361, 0.011613579, 0.011605742, 0.011598485, 0.01159324, 0.011588649, 0.011584049, 0.011580503]\n"
          ]
        },
        {
          "output_type": "stream",
          "name": "stderr",
          "text": [
            ""
          ]
        },
        {
          "output_type": "stream",
          "name": "stdout",
          "text": [
            "Epoch 25, total_loss=0.5804, reg_loss = 0.5502\n",
            "   12.92 s in train({'n_hidden_rhs': [], '..., ConditionalAutoEncoder..., cpu, <torch.utils.data.data..., AdamW ( Parameter Grou..., MSELoss(), 25, max_norm=1)\n",
            "   10.84 s in test({'n_hidden_rhs': [], '..., ConditionalAutoEncoder..., cpu, <torch.utils.data.data..., MSELoss())\n",
            "    2.33 s in test({'n_hidden_rhs': [], '..., ConditionalAutoEncoder..., cpu, <torch.utils.data.data..., MSELoss())\n",
            "Train MSE: 0.02906801\n",
            "Valid MSE: 0.011575576\n",
            "Next Learning Rate: 0.0005\n",
            "[0.14135984, 0.08111221, 0.05400757, 0.0430943, 0.038708575, 0.036867302, 0.03465967, 0.033664614, 0.033024695, 0.03264597, 0.031928416, 0.0317398, 0.031495262, 0.031495105, 0.031326286, 0.0309862, 0.030806337, 0.030455727, 0.030358955, 0.030124692, 0.030026315, 0.029928686, 0.02978359, 0.029647004, 0.029186672]\n",
            "[0.012485976, 0.012202112, 0.012048015, 0.011963408, 0.011905327, 0.0118625015, 0.011819497, 0.011785365, 0.011755055, 0.011728137, 0.011700943, 0.011680203, 0.011665149, 0.011650917, 0.011640185, 0.011630413, 0.011622361, 0.011613579, 0.011605742, 0.011598485, 0.01159324, 0.011588649, 0.011584049, 0.011580503, 0.0115763955]\n"
          ]
        },
        {
          "output_type": "stream",
          "name": "stderr",
          "text": [
            ""
          ]
        },
        {
          "output_type": "stream",
          "name": "stdout",
          "text": [
            "Epoch 26, total_loss=0.5573, reg_loss = 0.5262\n",
            "   13.01 s in train({'n_hidden_rhs': [], '..., ConditionalAutoEncoder..., cpu, <torch.utils.data.data..., AdamW ( Parameter Grou..., MSELoss(), 26, max_norm=1)\n",
            "   10.77 s in test({'n_hidden_rhs': [], '..., ConditionalAutoEncoder..., cpu, <torch.utils.data.data..., MSELoss())\n",
            "    2.33 s in test({'n_hidden_rhs': [], '..., ConditionalAutoEncoder..., cpu, <torch.utils.data.data..., MSELoss())\n",
            "Train MSE: 0.028892525\n",
            "Valid MSE: 0.011574463\n",
            "Next Learning Rate: 0.0005\n",
            "[0.14135984, 0.08111221, 0.05400757, 0.0430943, 0.038708575, 0.036867302, 0.03465967, 0.033664614, 0.033024695, 0.03264597, 0.031928416, 0.0317398, 0.031495262, 0.031495105, 0.031326286, 0.0309862, 0.030806337, 0.030455727, 0.030358955, 0.030124692, 0.030026315, 0.029928686, 0.02978359, 0.029647004, 0.029186672, 0.02906801]\n",
            "[0.012485976, 0.012202112, 0.012048015, 0.011963408, 0.011905327, 0.0118625015, 0.011819497, 0.011785365, 0.011755055, 0.011728137, 0.011700943, 0.011680203, 0.011665149, 0.011650917, 0.011640185, 0.011630413, 0.011622361, 0.011613579, 0.011605742, 0.011598485, 0.01159324, 0.011588649, 0.011584049, 0.011580503, 0.0115763955, 0.011575576]\n"
          ]
        },
        {
          "output_type": "stream",
          "name": "stderr",
          "text": [
            ""
          ]
        },
        {
          "output_type": "stream",
          "name": "stdout",
          "text": [
            "Epoch 27, total_loss=0.5320, reg_loss = 0.5034\n",
            "   13.11 s in train({'n_hidden_rhs': [], '..., ConditionalAutoEncoder..., cpu, <torch.utils.data.data..., AdamW ( Parameter Grou..., MSELoss(), 27, max_norm=1)\n",
            "   11.06 s in test({'n_hidden_rhs': [], '..., ConditionalAutoEncoder..., cpu, <torch.utils.data.data..., MSELoss())\n",
            "    2.26 s in test({'n_hidden_rhs': [], '..., ConditionalAutoEncoder..., cpu, <torch.utils.data.data..., MSELoss())\n",
            "Train MSE: 0.028859604\n",
            "Valid MSE: 0.011573909\n",
            "Next Learning Rate: 0.0005\n",
            "[0.14135984, 0.08111221, 0.05400757, 0.0430943, 0.038708575, 0.036867302, 0.03465967, 0.033664614, 0.033024695, 0.03264597, 0.031928416, 0.0317398, 0.031495262, 0.031495105, 0.031326286, 0.0309862, 0.030806337, 0.030455727, 0.030358955, 0.030124692, 0.030026315, 0.029928686, 0.02978359, 0.029647004, 0.029186672, 0.02906801, 0.028892525]\n",
            "[0.012485976, 0.012202112, 0.012048015, 0.011963408, 0.011905327, 0.0118625015, 0.011819497, 0.011785365, 0.011755055, 0.011728137, 0.011700943, 0.011680203, 0.011665149, 0.011650917, 0.011640185, 0.011630413, 0.011622361, 0.011613579, 0.011605742, 0.011598485, 0.01159324, 0.011588649, 0.011584049, 0.011580503, 0.0115763955, 0.011575576, 0.011574463]\n"
          ]
        },
        {
          "output_type": "stream",
          "name": "stderr",
          "text": [
            ""
          ]
        },
        {
          "output_type": "stream",
          "name": "stdout",
          "text": [
            "Epoch 28, total_loss=0.5107, reg_loss = 0.4821\n",
            "   12.90 s in train({'n_hidden_rhs': [], '..., ConditionalAutoEncoder..., cpu, <torch.utils.data.data..., AdamW ( Parameter Grou..., MSELoss(), 28, max_norm=1)\n",
            "   10.86 s in test({'n_hidden_rhs': [], '..., ConditionalAutoEncoder..., cpu, <torch.utils.data.data..., MSELoss())\n",
            "    2.26 s in test({'n_hidden_rhs': [], '..., ConditionalAutoEncoder..., cpu, <torch.utils.data.data..., MSELoss())\n",
            "Train MSE: 0.028745044\n",
            "Valid MSE: 0.01157427\n",
            "Next Learning Rate: 0.00025\n",
            "[0.14135984, 0.08111221, 0.05400757, 0.0430943, 0.038708575, 0.036867302, 0.03465967, 0.033664614, 0.033024695, 0.03264597, 0.031928416, 0.0317398, 0.031495262, 0.031495105, 0.031326286, 0.0309862, 0.030806337, 0.030455727, 0.030358955, 0.030124692, 0.030026315, 0.029928686, 0.02978359, 0.029647004, 0.029186672, 0.02906801, 0.028892525, 0.028859604]\n",
            "[0.012485976, 0.012202112, 0.012048015, 0.011963408, 0.011905327, 0.0118625015, 0.011819497, 0.011785365, 0.011755055, 0.011728137, 0.011700943, 0.011680203, 0.011665149, 0.011650917, 0.011640185, 0.011630413, 0.011622361, 0.011613579, 0.011605742, 0.011598485, 0.01159324, 0.011588649, 0.011584049, 0.011580503, 0.0115763955, 0.011575576, 0.011574463, 0.011573909]\n"
          ]
        },
        {
          "output_type": "stream",
          "name": "stderr",
          "text": [
            ""
          ]
        },
        {
          "output_type": "stream",
          "name": "stdout",
          "text": [
            "Epoch 29, total_loss=0.4956, reg_loss = 0.4663\n",
            "   13.01 s in train({'n_hidden_rhs': [], '..., ConditionalAutoEncoder..., cpu, <torch.utils.data.data..., AdamW ( Parameter Grou..., MSELoss(), 29, max_norm=1)\n",
            "   10.96 s in test({'n_hidden_rhs': [], '..., ConditionalAutoEncoder..., cpu, <torch.utils.data.data..., MSELoss())\n",
            "    2.35 s in test({'n_hidden_rhs': [], '..., ConditionalAutoEncoder..., cpu, <torch.utils.data.data..., MSELoss())\n",
            "Train MSE: 0.02871004\n",
            "Valid MSE: 0.0115752695\n",
            "Next Learning Rate: 0.00025\n",
            "[0.14135984, 0.08111221, 0.05400757, 0.0430943, 0.038708575, 0.036867302, 0.03465967, 0.033664614, 0.033024695, 0.03264597, 0.031928416, 0.0317398, 0.031495262, 0.031495105, 0.031326286, 0.0309862, 0.030806337, 0.030455727, 0.030358955, 0.030124692, 0.030026315, 0.029928686, 0.02978359, 0.029647004, 0.029186672, 0.02906801, 0.028892525, 0.028859604, 0.028745044]\n",
            "[0.012485976, 0.012202112, 0.012048015, 0.011963408, 0.011905327, 0.0118625015, 0.011819497, 0.011785365, 0.011755055, 0.011728137, 0.011700943, 0.011680203, 0.011665149, 0.011650917, 0.011640185, 0.011630413, 0.011622361, 0.011613579, 0.011605742, 0.011598485, 0.01159324, 0.011588649, 0.011584049, 0.011580503, 0.0115763955, 0.011575576, 0.011574463, 0.011573909, 0.01157427]\n"
          ]
        },
        {
          "output_type": "stream",
          "name": "stderr",
          "text": [
            ""
          ]
        },
        {
          "output_type": "stream",
          "name": "stdout",
          "text": [
            "Epoch 30, total_loss=0.4850, reg_loss = 0.4565\n",
            "   13.13 s in train({'n_hidden_rhs': [], '..., ConditionalAutoEncoder..., cpu, <torch.utils.data.data..., AdamW ( Parameter Grou..., MSELoss(), 30, max_norm=1)\n",
            "   11.20 s in test({'n_hidden_rhs': [], '..., ConditionalAutoEncoder..., cpu, <torch.utils.data.data..., MSELoss())\n",
            "    4.32 s in test({'n_hidden_rhs': [], '..., ConditionalAutoEncoder..., cpu, <torch.utils.data.data..., MSELoss())\n",
            "Train MSE: 0.028698523\n",
            "Valid MSE: 0.011577631\n",
            "Next Learning Rate: 0.00025\n",
            "[0.14135984, 0.08111221, 0.05400757, 0.0430943, 0.038708575, 0.036867302, 0.03465967, 0.033664614, 0.033024695, 0.03264597, 0.031928416, 0.0317398, 0.031495262, 0.031495105, 0.031326286, 0.0309862, 0.030806337, 0.030455727, 0.030358955, 0.030124692, 0.030026315, 0.029928686, 0.02978359, 0.029647004, 0.029186672, 0.02906801, 0.028892525, 0.028859604, 0.028745044, 0.02871004]\n",
            "[0.012485976, 0.012202112, 0.012048015, 0.011963408, 0.011905327, 0.0118625015, 0.011819497, 0.011785365, 0.011755055, 0.011728137, 0.011700943, 0.011680203, 0.011665149, 0.011650917, 0.011640185, 0.011630413, 0.011622361, 0.011613579, 0.011605742, 0.011598485, 0.01159324, 0.011588649, 0.011584049, 0.011580503, 0.0115763955, 0.011575576, 0.011574463, 0.011573909, 0.01157427, 0.0115752695]\n",
            "Training done. Evaluating...\n"
          ]
        },
        {
          "output_type": "stream",
          "name": "stderr",
          "text": [
            "100%|██████████| 6/6 [00:04<00:00,  1.29it/s]\n",
            "100%|██████████| 4/4 [00:02<00:00,  1.62it/s]\n"
          ]
        },
        {
          "output_type": "stream",
          "name": "stdout",
          "text": [
            "ConditionalAutoEncoder(\n",
            "  (macro): Sequential(\n",
            "    (0): Linear(in_features=147, out_features=16, bias=True)\n",
            "    (1): SELU()\n",
            "    (2): LayerNorm((16,), eps=1e-05, elementwise_affine=True)\n",
            "    (3): Linear(in_features=16, out_features=8, bias=True)\n",
            "    (4): SELU()\n",
            "    (5): LayerNorm((8,), eps=1e-05, elementwise_affine=True)\n",
            "    (6): Linear(in_features=8, out_features=4, bias=True)\n",
            "  )\n",
            "  (macro_lstm): LSTM(4, 4, num_layers=2)\n",
            "  (lhs): Sequential(\n",
            "    (0): Linear(in_features=45, out_features=24, bias=True)\n",
            "    (1): SELU()\n",
            "    (2): LayerNorm((24,), eps=1e-05, elementwise_affine=True)\n",
            "    (3): Linear(in_features=24, out_features=12, bias=True)\n",
            "    (4): SELU()\n",
            "    (5): LayerNorm((12,), eps=1e-05, elementwise_affine=True)\n",
            "    (6): Linear(in_features=12, out_features=4, bias=True)\n",
            "  )\n",
            "  (rhs): Sequential(\n",
            "    (0): Linear(in_features=46, out_features=4, bias=True)\n",
            "  )\n",
            ")\n",
            "   12.33 s in test({'n_hidden_rhs': [], '..., ConditionalAutoEncoder..., cpu, <torch.utils.data.data..., MSELoss())\n",
            "    2.46 s in test({'n_hidden_rhs': [], '..., ConditionalAutoEncoder..., cpu, <torch.utils.data.data..., MSELoss())\n",
            "Pre-Train Train MSE: 0.07426746\n",
            "Pre-Train Valid MSE: 0.0116851255\n"
          ]
        },
        {
          "output_type": "stream",
          "name": "stderr",
          "text": [
            ""
          ]
        },
        {
          "output_type": "stream",
          "name": "stdout",
          "text": [
            "Epoch 1, total_loss=2.1979, reg_loss = 2.1433\n",
            "   13.42 s in train({'n_hidden_rhs': [], '..., ConditionalAutoEncoder..., cpu, <torch.utils.data.data..., AdamW ( Parameter Grou..., MSELoss(), 1, max_norm=1)\n",
            "   11.20 s in test({'n_hidden_rhs': [], '..., ConditionalAutoEncoder..., cpu, <torch.utils.data.data..., MSELoss())\n",
            "    2.36 s in test({'n_hidden_rhs': [], '..., ConditionalAutoEncoder..., cpu, <torch.utils.data.data..., MSELoss())\n",
            "Train MSE: 0.044386048\n",
            "Valid MSE: 0.011637735\n",
            "Next Learning Rate: 0.0005\n",
            "[0.07426746]\n",
            "[0.0116851255]\n"
          ]
        },
        {
          "output_type": "stream",
          "name": "stderr",
          "text": [
            ""
          ]
        },
        {
          "output_type": "stream",
          "name": "stdout",
          "text": [
            "Epoch 2, total_loss=2.0435, reg_loss = 2.0035\n",
            "   13.24 s in train({'n_hidden_rhs': [], '..., ConditionalAutoEncoder..., cpu, <torch.utils.data.data..., AdamW ( Parameter Grou..., MSELoss(), 2, max_norm=1)\n",
            "   11.00 s in test({'n_hidden_rhs': [], '..., ConditionalAutoEncoder..., cpu, <torch.utils.data.data..., MSELoss())\n",
            "    2.36 s in test({'n_hidden_rhs': [], '..., ConditionalAutoEncoder..., cpu, <torch.utils.data.data..., MSELoss())\n",
            "Train MSE: 0.036931414\n",
            "Valid MSE: 0.011617507\n",
            "Next Learning Rate: 0.0005\n",
            "[0.07426746, 0.044386048]\n",
            "[0.0116851255, 0.011637735]\n"
          ]
        },
        {
          "output_type": "stream",
          "name": "stderr",
          "text": [
            ""
          ]
        },
        {
          "output_type": "stream",
          "name": "stdout",
          "text": [
            "Epoch 3, total_loss=1.9035, reg_loss = 1.8686\n",
            "   13.81 s in train({'n_hidden_rhs': [], '..., ConditionalAutoEncoder..., cpu, <torch.utils.data.data..., AdamW ( Parameter Grou..., MSELoss(), 3, max_norm=1)\n",
            "   11.20 s in test({'n_hidden_rhs': [], '..., ConditionalAutoEncoder..., cpu, <torch.utils.data.data..., MSELoss())\n",
            "    2.34 s in test({'n_hidden_rhs': [], '..., ConditionalAutoEncoder..., cpu, <torch.utils.data.data..., MSELoss())\n",
            "Train MSE: 0.03425828\n",
            "Valid MSE: 0.011605038\n",
            "Next Learning Rate: 0.0005\n",
            "[0.07426746, 0.044386048, 0.036931414]\n",
            "[0.0116851255, 0.011637735, 0.011617507]\n"
          ]
        },
        {
          "output_type": "stream",
          "name": "stderr",
          "text": [
            ""
          ]
        },
        {
          "output_type": "stream",
          "name": "stdout",
          "text": [
            "Epoch 4, total_loss=1.7741, reg_loss = 1.7410\n",
            "   13.17 s in train({'n_hidden_rhs': [], '..., ConditionalAutoEncoder..., cpu, <torch.utils.data.data..., AdamW ( Parameter Grou..., MSELoss(), 4, max_norm=1)\n",
            "   11.23 s in test({'n_hidden_rhs': [], '..., ConditionalAutoEncoder..., cpu, <torch.utils.data.data..., MSELoss())\n",
            "    2.36 s in test({'n_hidden_rhs': [], '..., ConditionalAutoEncoder..., cpu, <torch.utils.data.data..., MSELoss())\n",
            "Train MSE: 0.032424316\n",
            "Valid MSE: 0.011596087\n",
            "Next Learning Rate: 0.0005\n",
            "[0.07426746, 0.044386048, 0.036931414, 0.03425828]\n",
            "[0.0116851255, 0.011637735, 0.011617507, 0.011605038]\n"
          ]
        },
        {
          "output_type": "stream",
          "name": "stderr",
          "text": [
            ""
          ]
        },
        {
          "output_type": "stream",
          "name": "stdout",
          "text": [
            "Epoch 5, total_loss=1.6534, reg_loss = 1.6212\n",
            "   13.14 s in train({'n_hidden_rhs': [], '..., ConditionalAutoEncoder..., cpu, <torch.utils.data.data..., AdamW ( Parameter Grou..., MSELoss(), 5, max_norm=1)\n",
            "   11.09 s in test({'n_hidden_rhs': [], '..., ConditionalAutoEncoder..., cpu, <torch.utils.data.data..., MSELoss())\n",
            "    2.39 s in test({'n_hidden_rhs': [], '..., ConditionalAutoEncoder..., cpu, <torch.utils.data.data..., MSELoss())\n",
            "Train MSE: 0.031258583\n",
            "Valid MSE: 0.011589285\n",
            "Next Learning Rate: 0.0005\n",
            "[0.07426746, 0.044386048, 0.036931414, 0.03425828, 0.032424316]\n",
            "[0.0116851255, 0.011637735, 0.011617507, 0.011605038, 0.011596087]\n"
          ]
        },
        {
          "output_type": "stream",
          "name": "stderr",
          "text": [
            ""
          ]
        },
        {
          "output_type": "stream",
          "name": "stdout",
          "text": [
            "Epoch 6, total_loss=1.5401, reg_loss = 1.5096\n",
            "   13.21 s in train({'n_hidden_rhs': [], '..., ConditionalAutoEncoder..., cpu, <torch.utils.data.data..., AdamW ( Parameter Grou..., MSELoss(), 6, max_norm=1)\n",
            "   11.05 s in test({'n_hidden_rhs': [], '..., ConditionalAutoEncoder..., cpu, <torch.utils.data.data..., MSELoss())\n",
            "    2.34 s in test({'n_hidden_rhs': [], '..., ConditionalAutoEncoder..., cpu, <torch.utils.data.data..., MSELoss())\n",
            "Train MSE: 0.030593649\n",
            "Valid MSE: 0.011584698\n",
            "Next Learning Rate: 0.0005\n",
            "[0.07426746, 0.044386048, 0.036931414, 0.03425828, 0.032424316, 0.031258583]\n",
            "[0.0116851255, 0.011637735, 0.011617507, 0.011605038, 0.011596087, 0.011589285]\n"
          ]
        },
        {
          "output_type": "stream",
          "name": "stderr",
          "text": [
            ""
          ]
        },
        {
          "output_type": "stream",
          "name": "stdout",
          "text": [
            "Epoch 7, total_loss=1.4378, reg_loss = 1.4069\n",
            "   13.09 s in train({'n_hidden_rhs': [], '..., ConditionalAutoEncoder..., cpu, <torch.utils.data.data..., AdamW ( Parameter Grou..., MSELoss(), 7, max_norm=1)\n",
            "   11.07 s in test({'n_hidden_rhs': [], '..., ConditionalAutoEncoder..., cpu, <torch.utils.data.data..., MSELoss())\n",
            "    2.33 s in test({'n_hidden_rhs': [], '..., ConditionalAutoEncoder..., cpu, <torch.utils.data.data..., MSELoss())\n",
            "Train MSE: 0.030020794\n",
            "Valid MSE: 0.011581217\n",
            "Next Learning Rate: 0.0005\n",
            "[0.07426746, 0.044386048, 0.036931414, 0.03425828, 0.032424316, 0.031258583, 0.030593649]\n",
            "[0.0116851255, 0.011637735, 0.011617507, 0.011605038, 0.011596087, 0.011589285, 0.011584698]\n"
          ]
        },
        {
          "output_type": "stream",
          "name": "stderr",
          "text": [
            ""
          ]
        },
        {
          "output_type": "stream",
          "name": "stdout",
          "text": [
            "Epoch 8, total_loss=1.3422, reg_loss = 1.3121\n",
            "   13.39 s in train({'n_hidden_rhs': [], '..., ConditionalAutoEncoder..., cpu, <torch.utils.data.data..., AdamW ( Parameter Grou..., MSELoss(), 8, max_norm=1)\n",
            "   11.00 s in test({'n_hidden_rhs': [], '..., ConditionalAutoEncoder..., cpu, <torch.utils.data.data..., MSELoss())\n",
            "    2.31 s in test({'n_hidden_rhs': [], '..., ConditionalAutoEncoder..., cpu, <torch.utils.data.data..., MSELoss())\n",
            "Train MSE: 0.029648634\n",
            "Valid MSE: 0.011578649\n",
            "Next Learning Rate: 0.0005\n",
            "[0.07426746, 0.044386048, 0.036931414, 0.03425828, 0.032424316, 0.031258583, 0.030593649, 0.030020794]\n",
            "[0.0116851255, 0.011637735, 0.011617507, 0.011605038, 0.011596087, 0.011589285, 0.011584698, 0.011581217]\n"
          ]
        },
        {
          "output_type": "stream",
          "name": "stderr",
          "text": [
            ""
          ]
        },
        {
          "output_type": "stream",
          "name": "stdout",
          "text": [
            "Epoch 9, total_loss=1.2537, reg_loss = 1.2243\n",
            "   13.02 s in train({'n_hidden_rhs': [], '..., ConditionalAutoEncoder..., cpu, <torch.utils.data.data..., AdamW ( Parameter Grou..., MSELoss(), 9, max_norm=1)\n",
            "   11.02 s in test({'n_hidden_rhs': [], '..., ConditionalAutoEncoder..., cpu, <torch.utils.data.data..., MSELoss())\n",
            "    2.38 s in test({'n_hidden_rhs': [], '..., ConditionalAutoEncoder..., cpu, <torch.utils.data.data..., MSELoss())\n",
            "Train MSE: 0.029414598\n",
            "Valid MSE: 0.011576485\n",
            "Next Learning Rate: 0.0005\n",
            "[0.07426746, 0.044386048, 0.036931414, 0.03425828, 0.032424316, 0.031258583, 0.030593649, 0.030020794, 0.029648634]\n",
            "[0.0116851255, 0.011637735, 0.011617507, 0.011605038, 0.011596087, 0.011589285, 0.011584698, 0.011581217, 0.011578649]\n"
          ]
        },
        {
          "output_type": "stream",
          "name": "stderr",
          "text": [
            ""
          ]
        },
        {
          "output_type": "stream",
          "name": "stdout",
          "text": [
            "Epoch 10, total_loss=1.1725, reg_loss = 1.1436\n",
            "   13.13 s in train({'n_hidden_rhs': [], '..., ConditionalAutoEncoder..., cpu, <torch.utils.data.data..., AdamW ( Parameter Grou..., MSELoss(), 10, max_norm=1)\n",
            "   10.98 s in test({'n_hidden_rhs': [], '..., ConditionalAutoEncoder..., cpu, <torch.utils.data.data..., MSELoss())\n",
            "    2.31 s in test({'n_hidden_rhs': [], '..., ConditionalAutoEncoder..., cpu, <torch.utils.data.data..., MSELoss())\n",
            "Train MSE: 0.029204596\n",
            "Valid MSE: 0.011575435\n",
            "Next Learning Rate: 0.0005\n",
            "[0.07426746, 0.044386048, 0.036931414, 0.03425828, 0.032424316, 0.031258583, 0.030593649, 0.030020794, 0.029648634, 0.029414598]\n",
            "[0.0116851255, 0.011637735, 0.011617507, 0.011605038, 0.011596087, 0.011589285, 0.011584698, 0.011581217, 0.011578649, 0.011576485]\n"
          ]
        },
        {
          "output_type": "stream",
          "name": "stderr",
          "text": [
            ""
          ]
        },
        {
          "output_type": "stream",
          "name": "stdout",
          "text": [
            "Epoch 11, total_loss=1.0986, reg_loss = 1.0694\n",
            "   13.15 s in train({'n_hidden_rhs': [], '..., ConditionalAutoEncoder..., cpu, <torch.utils.data.data..., AdamW ( Parameter Grou..., MSELoss(), 11, max_norm=1)\n",
            "   11.04 s in test({'n_hidden_rhs': [], '..., ConditionalAutoEncoder..., cpu, <torch.utils.data.data..., MSELoss())\n",
            "    2.42 s in test({'n_hidden_rhs': [], '..., ConditionalAutoEncoder..., cpu, <torch.utils.data.data..., MSELoss())\n",
            "Train MSE: 0.029043078\n",
            "Valid MSE: 0.011577015\n",
            "Next Learning Rate: 0.0005\n",
            "[0.07426746, 0.044386048, 0.036931414, 0.03425828, 0.032424316, 0.031258583, 0.030593649, 0.030020794, 0.029648634, 0.029414598, 0.029204596]\n",
            "[0.0116851255, 0.011637735, 0.011617507, 0.011605038, 0.011596087, 0.011589285, 0.011584698, 0.011581217, 0.011578649, 0.011576485, 0.011575435]\n"
          ]
        },
        {
          "output_type": "stream",
          "name": "stderr",
          "text": [
            ""
          ]
        },
        {
          "output_type": "stream",
          "name": "stdout",
          "text": [
            "Epoch 12, total_loss=1.0304, reg_loss = 1.0012\n",
            "   13.30 s in train({'n_hidden_rhs': [], '..., ConditionalAutoEncoder..., cpu, <torch.utils.data.data..., AdamW ( Parameter Grou..., MSELoss(), 12, max_norm=1)\n",
            "   11.17 s in test({'n_hidden_rhs': [], '..., ConditionalAutoEncoder..., cpu, <torch.utils.data.data..., MSELoss())\n",
            "    2.35 s in test({'n_hidden_rhs': [], '..., ConditionalAutoEncoder..., cpu, <torch.utils.data.data..., MSELoss())\n",
            "Train MSE: 0.028939715\n",
            "Valid MSE: 0.011579481\n",
            "Next Learning Rate: 0.0005\n",
            "[0.07426746, 0.044386048, 0.036931414, 0.03425828, 0.032424316, 0.031258583, 0.030593649, 0.030020794, 0.029648634, 0.029414598, 0.029204596, 0.029043078]\n",
            "[0.0116851255, 0.011637735, 0.011617507, 0.011605038, 0.011596087, 0.011589285, 0.011584698, 0.011581217, 0.011578649, 0.011576485, 0.011575435, 0.011577015]\n"
          ]
        },
        {
          "output_type": "stream",
          "name": "stderr",
          "text": [
            ""
          ]
        },
        {
          "output_type": "stream",
          "name": "stdout",
          "text": [
            "Epoch 13, total_loss=0.9673, reg_loss = 0.9385\n",
            "   13.15 s in train({'n_hidden_rhs': [], '..., ConditionalAutoEncoder..., cpu, <torch.utils.data.data..., AdamW ( Parameter Grou..., MSELoss(), 13, max_norm=1)\n",
            "   10.93 s in test({'n_hidden_rhs': [], '..., ConditionalAutoEncoder..., cpu, <torch.utils.data.data..., MSELoss())\n",
            "    2.30 s in test({'n_hidden_rhs': [], '..., ConditionalAutoEncoder..., cpu, <torch.utils.data.data..., MSELoss())\n",
            "Train MSE: 0.028693762\n",
            "Valid MSE: 0.011582594\n",
            "Next Learning Rate: 0.0005\n",
            "[0.07426746, 0.044386048, 0.036931414, 0.03425828, 0.032424316, 0.031258583, 0.030593649, 0.030020794, 0.029648634, 0.029414598, 0.029204596, 0.029043078, 0.028939715]\n",
            "[0.0116851255, 0.011637735, 0.011617507, 0.011605038, 0.011596087, 0.011589285, 0.011584698, 0.011581217, 0.011578649, 0.011576485, 0.011575435, 0.011577015, 0.011579481]\n",
            "Training done. Evaluating...\n"
          ]
        },
        {
          "output_type": "stream",
          "name": "stderr",
          "text": [
            "100%|██████████| 6/6 [00:03<00:00,  1.57it/s]\n",
            "100%|██████████| 4/4 [00:02<00:00,  1.66it/s]\n"
          ]
        },
        {
          "output_type": "stream",
          "name": "stdout",
          "text": [
            "ConditionalAutoEncoder(\n",
            "  (macro): Sequential(\n",
            "    (0): Linear(in_features=147, out_features=16, bias=True)\n",
            "    (1): SELU()\n",
            "    (2): LayerNorm((16,), eps=1e-05, elementwise_affine=True)\n",
            "    (3): Linear(in_features=16, out_features=8, bias=True)\n",
            "    (4): SELU()\n",
            "    (5): LayerNorm((8,), eps=1e-05, elementwise_affine=True)\n",
            "    (6): Linear(in_features=8, out_features=4, bias=True)\n",
            "  )\n",
            "  (macro_lstm): LSTM(4, 4, num_layers=2)\n",
            "  (lhs): Sequential(\n",
            "    (0): Linear(in_features=45, out_features=24, bias=True)\n",
            "    (1): SELU()\n",
            "    (2): LayerNorm((24,), eps=1e-05, elementwise_affine=True)\n",
            "    (3): Linear(in_features=24, out_features=12, bias=True)\n",
            "    (4): SELU()\n",
            "    (5): LayerNorm((12,), eps=1e-05, elementwise_affine=True)\n",
            "    (6): Linear(in_features=12, out_features=4, bias=True)\n",
            "  )\n",
            "  (rhs): Sequential(\n",
            "    (0): Linear(in_features=46, out_features=4, bias=True)\n",
            "  )\n",
            ")\n",
            "   10.93 s in test({'n_hidden_rhs': [], '..., ConditionalAutoEncoder..., cpu, <torch.utils.data.data..., MSELoss())\n",
            "    2.33 s in test({'n_hidden_rhs': [], '..., ConditionalAutoEncoder..., cpu, <torch.utils.data.data..., MSELoss())\n",
            "Pre-Train Train MSE: 0.32204935\n",
            "Pre-Train Valid MSE: 0.01173322\n"
          ]
        },
        {
          "output_type": "stream",
          "name": "stderr",
          "text": [
            ""
          ]
        },
        {
          "output_type": "stream",
          "name": "stdout",
          "text": [
            "Epoch 1, total_loss=2.3916, reg_loss = 2.1632\n",
            "   13.01 s in train({'n_hidden_rhs': [], '..., ConditionalAutoEncoder..., cpu, <torch.utils.data.data..., AdamW ( Parameter Grou..., MSELoss(), 1, max_norm=1)\n",
            "   11.15 s in test({'n_hidden_rhs': [], '..., ConditionalAutoEncoder..., cpu, <torch.utils.data.data..., MSELoss())\n",
            "    2.30 s in test({'n_hidden_rhs': [], '..., ConditionalAutoEncoder..., cpu, <torch.utils.data.data..., MSELoss())\n",
            "Train MSE: 0.15555252\n",
            "Valid MSE: 0.01166967\n",
            "Next Learning Rate: 0.0005\n",
            "[0.32204935]\n",
            "[0.01173322]\n"
          ]
        },
        {
          "output_type": "stream",
          "name": "stderr",
          "text": [
            ""
          ]
        },
        {
          "output_type": "stream",
          "name": "stdout",
          "text": [
            "Epoch 2, total_loss=2.1665, reg_loss = 2.0475\n",
            "   13.01 s in train({'n_hidden_rhs': [], '..., ConditionalAutoEncoder..., cpu, <torch.utils.data.data..., AdamW ( Parameter Grou..., MSELoss(), 2, max_norm=1)\n",
            "   11.16 s in test({'n_hidden_rhs': [], '..., ConditionalAutoEncoder..., cpu, <torch.utils.data.data..., MSELoss())\n",
            "    2.38 s in test({'n_hidden_rhs': [], '..., ConditionalAutoEncoder..., cpu, <torch.utils.data.data..., MSELoss())\n",
            "Train MSE: 0.09939816\n",
            "Valid MSE: 0.011643983\n",
            "Next Learning Rate: 0.0005\n",
            "[0.32204935, 0.15555252]\n",
            "[0.01173322, 0.01166967]\n"
          ]
        },
        {
          "output_type": "stream",
          "name": "stderr",
          "text": [
            ""
          ]
        },
        {
          "output_type": "stream",
          "name": "stdout",
          "text": [
            "Epoch 3, total_loss=2.0185, reg_loss = 1.9366\n",
            "   13.16 s in train({'n_hidden_rhs': [], '..., ConditionalAutoEncoder..., cpu, <torch.utils.data.data..., AdamW ( Parameter Grou..., MSELoss(), 3, max_norm=1)\n",
            "   10.88 s in test({'n_hidden_rhs': [], '..., ConditionalAutoEncoder..., cpu, <torch.utils.data.data..., MSELoss())\n",
            "    2.31 s in test({'n_hidden_rhs': [], '..., ConditionalAutoEncoder..., cpu, <torch.utils.data.data..., MSELoss())\n",
            "Train MSE: 0.07291972\n",
            "Valid MSE: 0.011633246\n",
            "Next Learning Rate: 0.0005\n",
            "[0.32204935, 0.15555252, 0.09939816]\n",
            "[0.01173322, 0.01166967, 0.011643983]\n"
          ]
        },
        {
          "output_type": "stream",
          "name": "stderr",
          "text": [
            ""
          ]
        },
        {
          "output_type": "stream",
          "name": "stdout",
          "text": [
            "Epoch 4, total_loss=1.9036, reg_loss = 1.8309\n",
            "   13.05 s in train({'n_hidden_rhs': [], '..., ConditionalAutoEncoder..., cpu, <torch.utils.data.data..., AdamW ( Parameter Grou..., MSELoss(), 4, max_norm=1)\n",
            "   11.04 s in test({'n_hidden_rhs': [], '..., ConditionalAutoEncoder..., cpu, <torch.utils.data.data..., MSELoss())\n",
            "    2.36 s in test({'n_hidden_rhs': [], '..., ConditionalAutoEncoder..., cpu, <torch.utils.data.data..., MSELoss())\n",
            "Train MSE: 0.059661787\n",
            "Valid MSE: 0.0116273\n",
            "Next Learning Rate: 0.0005\n",
            "[0.32204935, 0.15555252, 0.09939816, 0.07291972]\n",
            "[0.01173322, 0.01166967, 0.011643983, 0.011633246]\n"
          ]
        },
        {
          "output_type": "stream",
          "name": "stderr",
          "text": [
            ""
          ]
        },
        {
          "output_type": "stream",
          "name": "stdout",
          "text": [
            "Epoch 5, total_loss=1.7865, reg_loss = 1.7316\n",
            "   12.88 s in train({'n_hidden_rhs': [], '..., ConditionalAutoEncoder..., cpu, <torch.utils.data.data..., AdamW ( Parameter Grou..., MSELoss(), 5, max_norm=1)\n",
            "   11.02 s in test({'n_hidden_rhs': [], '..., ConditionalAutoEncoder..., cpu, <torch.utils.data.data..., MSELoss())\n",
            "    2.35 s in test({'n_hidden_rhs': [], '..., ConditionalAutoEncoder..., cpu, <torch.utils.data.data..., MSELoss())\n",
            "Train MSE: 0.050707284\n",
            "Valid MSE: 0.011624304\n",
            "Next Learning Rate: 0.0005\n",
            "[0.32204935, 0.15555252, 0.09939816, 0.07291972, 0.059661787]\n",
            "[0.01173322, 0.01166967, 0.011643983, 0.011633246, 0.0116273]\n"
          ]
        },
        {
          "output_type": "stream",
          "name": "stderr",
          "text": [
            ""
          ]
        },
        {
          "output_type": "stream",
          "name": "stdout",
          "text": [
            "Epoch 6, total_loss=1.6866, reg_loss = 1.6383\n",
            "   13.15 s in train({'n_hidden_rhs': [], '..., ConditionalAutoEncoder..., cpu, <torch.utils.data.data..., AdamW ( Parameter Grou..., MSELoss(), 6, max_norm=1)\n",
            "   11.03 s in test({'n_hidden_rhs': [], '..., ConditionalAutoEncoder..., cpu, <torch.utils.data.data..., MSELoss())\n",
            "    2.40 s in test({'n_hidden_rhs': [], '..., ConditionalAutoEncoder..., cpu, <torch.utils.data.data..., MSELoss())\n",
            "Train MSE: 0.046206262\n",
            "Valid MSE: 0.011624461\n",
            "Next Learning Rate: 0.0005\n",
            "[0.32204935, 0.15555252, 0.09939816, 0.07291972, 0.059661787, 0.050707284]\n",
            "[0.01173322, 0.01166967, 0.011643983, 0.011633246, 0.0116273, 0.011624304]\n"
          ]
        },
        {
          "output_type": "stream",
          "name": "stderr",
          "text": [
            ""
          ]
        },
        {
          "output_type": "stream",
          "name": "stdout",
          "text": [
            "Epoch 7, total_loss=1.5976, reg_loss = 1.5504\n",
            "   13.03 s in train({'n_hidden_rhs': [], '..., ConditionalAutoEncoder..., cpu, <torch.utils.data.data..., AdamW ( Parameter Grou..., MSELoss(), 7, max_norm=1)\n",
            "   10.91 s in test({'n_hidden_rhs': [], '..., ConditionalAutoEncoder..., cpu, <torch.utils.data.data..., MSELoss())\n",
            "    2.34 s in test({'n_hidden_rhs': [], '..., ConditionalAutoEncoder..., cpu, <torch.utils.data.data..., MSELoss())\n",
            "Train MSE: 0.04416752\n",
            "Valid MSE: 0.011626384\n",
            "Next Learning Rate: 0.0005\n",
            "[0.32204935, 0.15555252, 0.09939816, 0.07291972, 0.059661787, 0.050707284, 0.046206262]\n",
            "[0.01173322, 0.01166967, 0.011643983, 0.011633246, 0.0116273, 0.011624304, 0.011624461]\n"
          ]
        },
        {
          "output_type": "stream",
          "name": "stderr",
          "text": [
            ""
          ]
        },
        {
          "output_type": "stream",
          "name": "stdout",
          "text": [
            "Epoch 8, total_loss=1.5112, reg_loss = 1.4690\n",
            "   13.20 s in train({'n_hidden_rhs': [], '..., ConditionalAutoEncoder..., cpu, <torch.utils.data.data..., AdamW ( Parameter Grou..., MSELoss(), 8, max_norm=1)\n",
            "   10.96 s in test({'n_hidden_rhs': [], '..., ConditionalAutoEncoder..., cpu, <torch.utils.data.data..., MSELoss())\n",
            "    2.40 s in test({'n_hidden_rhs': [], '..., ConditionalAutoEncoder..., cpu, <torch.utils.data.data..., MSELoss())\n",
            "Train MSE: 0.041179486\n",
            "Valid MSE: 0.011629984\n",
            "Next Learning Rate: 0.0005\n",
            "[0.32204935, 0.15555252, 0.09939816, 0.07291972, 0.059661787, 0.050707284, 0.046206262, 0.04416752]\n",
            "[0.01173322, 0.01166967, 0.011643983, 0.011633246, 0.0116273, 0.011624304, 0.011624461, 0.011626384]\n"
          ]
        },
        {
          "output_type": "stream",
          "name": "stderr",
          "text": [
            ""
          ]
        },
        {
          "output_type": "stream",
          "name": "stdout",
          "text": [
            "Epoch 9, total_loss=1.4355, reg_loss = 1.3937\n",
            "   13.23 s in train({'n_hidden_rhs': [], '..., ConditionalAutoEncoder..., cpu, <torch.utils.data.data..., AdamW ( Parameter Grou..., MSELoss(), 9, max_norm=1)\n",
            "   11.14 s in test({'n_hidden_rhs': [], '..., ConditionalAutoEncoder..., cpu, <torch.utils.data.data..., MSELoss())\n",
            "    2.32 s in test({'n_hidden_rhs': [], '..., ConditionalAutoEncoder..., cpu, <torch.utils.data.data..., MSELoss())\n",
            "Train MSE: 0.039556336\n",
            "Valid MSE: 0.011634853\n",
            "Next Learning Rate: 0.0005\n",
            "[0.32204935, 0.15555252, 0.09939816, 0.07291972, 0.059661787, 0.050707284, 0.046206262, 0.04416752, 0.041179486]\n",
            "[0.01173322, 0.01166967, 0.011643983, 0.011633246, 0.0116273, 0.011624304, 0.011624461, 0.011626384, 0.011629984]\n",
            "Training done. Evaluating...\n"
          ]
        },
        {
          "output_type": "stream",
          "name": "stderr",
          "text": [
            "100%|██████████| 6/6 [00:03<00:00,  1.59it/s]\n",
            "100%|██████████| 4/4 [00:02<00:00,  1.73it/s]\n"
          ]
        },
        {
          "output_type": "stream",
          "name": "stdout",
          "text": [
            "ConditionalAutoEncoder(\n",
            "  (macro): Sequential(\n",
            "    (0): Linear(in_features=147, out_features=16, bias=True)\n",
            "    (1): SELU()\n",
            "    (2): LayerNorm((16,), eps=1e-05, elementwise_affine=True)\n",
            "    (3): Linear(in_features=16, out_features=8, bias=True)\n",
            "    (4): SELU()\n",
            "    (5): LayerNorm((8,), eps=1e-05, elementwise_affine=True)\n",
            "    (6): Linear(in_features=8, out_features=4, bias=True)\n",
            "  )\n",
            "  (macro_lstm): LSTM(4, 4, num_layers=2)\n",
            "  (lhs): Sequential(\n",
            "    (0): Linear(in_features=45, out_features=24, bias=True)\n",
            "    (1): SELU()\n",
            "    (2): LayerNorm((24,), eps=1e-05, elementwise_affine=True)\n",
            "    (3): Linear(in_features=24, out_features=12, bias=True)\n",
            "    (4): SELU()\n",
            "    (5): LayerNorm((12,), eps=1e-05, elementwise_affine=True)\n",
            "    (6): Linear(in_features=12, out_features=4, bias=True)\n",
            "  )\n",
            "  (rhs): Sequential(\n",
            "    (0): Linear(in_features=46, out_features=4, bias=True)\n",
            "  )\n",
            ")\n",
            "   11.08 s in test({'n_hidden_rhs': [], '..., ConditionalAutoEncoder..., cpu, <torch.utils.data.data..., MSELoss())\n",
            "    2.32 s in test({'n_hidden_rhs': [], '..., ConditionalAutoEncoder..., cpu, <torch.utils.data.data..., MSELoss())\n",
            "Pre-Train Train MSE: 0.63185495\n",
            "Pre-Train Valid MSE: 0.012110721\n"
          ]
        },
        {
          "output_type": "stream",
          "name": "stderr",
          "text": [
            ""
          ]
        },
        {
          "output_type": "stream",
          "name": "stdout",
          "text": [
            "Epoch 1, total_loss=2.4911, reg_loss = 2.1370\n",
            "   12.98 s in train({'n_hidden_rhs': [], '..., ConditionalAutoEncoder..., cpu, <torch.utils.data.data..., AdamW ( Parameter Grou..., MSELoss(), 1, max_norm=1)\n",
            "   10.89 s in test({'n_hidden_rhs': [], '..., ConditionalAutoEncoder..., cpu, <torch.utils.data.data..., MSELoss())\n",
            "    2.34 s in test({'n_hidden_rhs': [], '..., ConditionalAutoEncoder..., cpu, <torch.utils.data.data..., MSELoss())\n",
            "Train MSE: 0.21781914\n",
            "Valid MSE: 0.011799527\n",
            "Next Learning Rate: 0.0005\n",
            "[0.63185495]\n",
            "[0.012110721]\n"
          ]
        },
        {
          "output_type": "stream",
          "name": "stderr",
          "text": [
            ""
          ]
        },
        {
          "output_type": "stream",
          "name": "stdout",
          "text": [
            "Epoch 2, total_loss=2.1788, reg_loss = 2.0289\n",
            "   13.67 s in train({'n_hidden_rhs': [], '..., ConditionalAutoEncoder..., cpu, <torch.utils.data.data..., AdamW ( Parameter Grou..., MSELoss(), 2, max_norm=1)\n",
            "   11.10 s in test({'n_hidden_rhs': [], '..., ConditionalAutoEncoder..., cpu, <torch.utils.data.data..., MSELoss())\n",
            "    2.28 s in test({'n_hidden_rhs': [], '..., ConditionalAutoEncoder..., cpu, <torch.utils.data.data..., MSELoss())\n",
            "Train MSE: 0.1101173\n",
            "Valid MSE: 0.011704995\n",
            "Next Learning Rate: 0.0005\n",
            "[0.63185495, 0.21781914]\n",
            "[0.012110721, 0.011799527]\n"
          ]
        },
        {
          "output_type": "stream",
          "name": "stderr",
          "text": [
            ""
          ]
        },
        {
          "output_type": "stream",
          "name": "stdout",
          "text": [
            "Epoch 3, total_loss=2.0125, reg_loss = 1.9232\n",
            "   13.04 s in train({'n_hidden_rhs': [], '..., ConditionalAutoEncoder..., cpu, <torch.utils.data.data..., AdamW ( Parameter Grou..., MSELoss(), 3, max_norm=1)\n",
            "   10.99 s in test({'n_hidden_rhs': [], '..., ConditionalAutoEncoder..., cpu, <torch.utils.data.data..., MSELoss())\n",
            "    2.33 s in test({'n_hidden_rhs': [], '..., ConditionalAutoEncoder..., cpu, <torch.utils.data.data..., MSELoss())\n",
            "Train MSE: 0.07220239\n",
            "Valid MSE: 0.011673997\n",
            "Next Learning Rate: 0.0005\n",
            "[0.63185495, 0.21781914, 0.1101173]\n",
            "[0.012110721, 0.011799527, 0.011704995]\n"
          ]
        },
        {
          "output_type": "stream",
          "name": "stderr",
          "text": [
            ""
          ]
        },
        {
          "output_type": "stream",
          "name": "stdout",
          "text": [
            "Epoch 4, total_loss=1.8832, reg_loss = 1.8209\n",
            "   13.13 s in train({'n_hidden_rhs': [], '..., ConditionalAutoEncoder..., cpu, <torch.utils.data.data..., AdamW ( Parameter Grou..., MSELoss(), 4, max_norm=1)\n",
            "   11.23 s in test({'n_hidden_rhs': [], '..., ConditionalAutoEncoder..., cpu, <torch.utils.data.data..., MSELoss())\n",
            "    2.40 s in test({'n_hidden_rhs': [], '..., ConditionalAutoEncoder..., cpu, <torch.utils.data.data..., MSELoss())\n",
            "Train MSE: 0.055801727\n",
            "Valid MSE: 0.011661678\n",
            "Next Learning Rate: 0.0005\n",
            "[0.63185495, 0.21781914, 0.1101173, 0.07220239]\n",
            "[0.012110721, 0.011799527, 0.011704995, 0.011673997]\n"
          ]
        },
        {
          "output_type": "stream",
          "name": "stderr",
          "text": [
            ""
          ]
        },
        {
          "output_type": "stream",
          "name": "stdout",
          "text": [
            "Epoch 5, total_loss=1.7769, reg_loss = 1.7241\n",
            "   13.07 s in train({'n_hidden_rhs': [], '..., ConditionalAutoEncoder..., cpu, <torch.utils.data.data..., AdamW ( Parameter Grou..., MSELoss(), 5, max_norm=1)\n",
            "   11.10 s in test({'n_hidden_rhs': [], '..., ConditionalAutoEncoder..., cpu, <torch.utils.data.data..., MSELoss())\n",
            "    2.30 s in test({'n_hidden_rhs': [], '..., ConditionalAutoEncoder..., cpu, <torch.utils.data.data..., MSELoss())\n",
            "Train MSE: 0.047040436\n",
            "Valid MSE: 0.01164928\n",
            "Next Learning Rate: 0.0005\n",
            "[0.63185495, 0.21781914, 0.1101173, 0.07220239, 0.055801727]\n",
            "[0.012110721, 0.011799527, 0.011704995, 0.011673997, 0.011661678]\n"
          ]
        },
        {
          "output_type": "stream",
          "name": "stderr",
          "text": [
            ""
          ]
        },
        {
          "output_type": "stream",
          "name": "stdout",
          "text": [
            "Epoch 6, total_loss=1.6795, reg_loss = 1.6328\n",
            "   13.41 s in train({'n_hidden_rhs': [], '..., ConditionalAutoEncoder..., cpu, <torch.utils.data.data..., AdamW ( Parameter Grou..., MSELoss(), 6, max_norm=1)\n",
            "   11.05 s in test({'n_hidden_rhs': [], '..., ConditionalAutoEncoder..., cpu, <torch.utils.data.data..., MSELoss())\n",
            "    2.35 s in test({'n_hidden_rhs': [], '..., ConditionalAutoEncoder..., cpu, <torch.utils.data.data..., MSELoss())\n",
            "Train MSE: 0.04119068\n",
            "Valid MSE: 0.011642699\n",
            "Next Learning Rate: 0.0005\n",
            "[0.63185495, 0.21781914, 0.1101173, 0.07220239, 0.055801727, 0.047040436]\n",
            "[0.012110721, 0.011799527, 0.011704995, 0.011673997, 0.011661678, 0.01164928]\n"
          ]
        },
        {
          "output_type": "stream",
          "name": "stderr",
          "text": [
            ""
          ]
        },
        {
          "output_type": "stream",
          "name": "stdout",
          "text": [
            "Epoch 7, total_loss=1.5863, reg_loss = 1.5474\n",
            "   12.97 s in train({'n_hidden_rhs': [], '..., ConditionalAutoEncoder..., cpu, <torch.utils.data.data..., AdamW ( Parameter Grou..., MSELoss(), 7, max_norm=1)\n",
            "   10.89 s in test({'n_hidden_rhs': [], '..., ConditionalAutoEncoder..., cpu, <torch.utils.data.data..., MSELoss())\n",
            "    2.36 s in test({'n_hidden_rhs': [], '..., ConditionalAutoEncoder..., cpu, <torch.utils.data.data..., MSELoss())\n",
            "Train MSE: 0.038055774\n",
            "Valid MSE: 0.011639078\n",
            "Next Learning Rate: 0.0005\n",
            "[0.63185495, 0.21781914, 0.1101173, 0.07220239, 0.055801727, 0.047040436, 0.04119068]\n",
            "[0.012110721, 0.011799527, 0.011704995, 0.011673997, 0.011661678, 0.01164928, 0.011642699]\n"
          ]
        },
        {
          "output_type": "stream",
          "name": "stderr",
          "text": [
            ""
          ]
        },
        {
          "output_type": "stream",
          "name": "stdout",
          "text": [
            "Epoch 8, total_loss=1.5058, reg_loss = 1.4679\n",
            "   13.03 s in train({'n_hidden_rhs': [], '..., ConditionalAutoEncoder..., cpu, <torch.utils.data.data..., AdamW ( Parameter Grou..., MSELoss(), 8, max_norm=1)\n",
            "   11.15 s in test({'n_hidden_rhs': [], '..., ConditionalAutoEncoder..., cpu, <torch.utils.data.data..., MSELoss())\n",
            "    2.35 s in test({'n_hidden_rhs': [], '..., ConditionalAutoEncoder..., cpu, <torch.utils.data.data..., MSELoss())\n",
            "Train MSE: 0.03626106\n",
            "Valid MSE: 0.011637689\n",
            "Next Learning Rate: 0.0005\n",
            "[0.63185495, 0.21781914, 0.1101173, 0.07220239, 0.055801727, 0.047040436, 0.04119068, 0.038055774]\n",
            "[0.012110721, 0.011799527, 0.011704995, 0.011673997, 0.011661678, 0.01164928, 0.011642699, 0.011639078]\n"
          ]
        },
        {
          "output_type": "stream",
          "name": "stderr",
          "text": [
            ""
          ]
        },
        {
          "output_type": "stream",
          "name": "stdout",
          "text": [
            "Epoch 9, total_loss=1.4308, reg_loss = 1.3939\n",
            "   13.16 s in train({'n_hidden_rhs': [], '..., ConditionalAutoEncoder..., cpu, <torch.utils.data.data..., AdamW ( Parameter Grou..., MSELoss(), 9, max_norm=1)\n",
            "   10.96 s in test({'n_hidden_rhs': [], '..., ConditionalAutoEncoder..., cpu, <torch.utils.data.data..., MSELoss())\n",
            "    2.34 s in test({'n_hidden_rhs': [], '..., ConditionalAutoEncoder..., cpu, <torch.utils.data.data..., MSELoss())\n",
            "Train MSE: 0.035153355\n",
            "Valid MSE: 0.011634276\n",
            "Next Learning Rate: 0.0005\n",
            "[0.63185495, 0.21781914, 0.1101173, 0.07220239, 0.055801727, 0.047040436, 0.04119068, 0.038055774, 0.03626106]\n",
            "[0.012110721, 0.011799527, 0.011704995, 0.011673997, 0.011661678, 0.01164928, 0.011642699, 0.011639078, 0.011637689]\n"
          ]
        },
        {
          "output_type": "stream",
          "name": "stderr",
          "text": [
            ""
          ]
        },
        {
          "output_type": "stream",
          "name": "stdout",
          "text": [
            "Epoch 10, total_loss=1.3606, reg_loss = 1.3253\n",
            "   12.99 s in train({'n_hidden_rhs': [], '..., ConditionalAutoEncoder..., cpu, <torch.utils.data.data..., AdamW ( Parameter Grou..., MSELoss(), 10, max_norm=1)\n",
            "   11.05 s in test({'n_hidden_rhs': [], '..., ConditionalAutoEncoder..., cpu, <torch.utils.data.data..., MSELoss())\n",
            "    2.32 s in test({'n_hidden_rhs': [], '..., ConditionalAutoEncoder..., cpu, <torch.utils.data.data..., MSELoss())\n",
            "Train MSE: 0.033792302\n",
            "Valid MSE: 0.011627678\n",
            "Next Learning Rate: 0.0005\n",
            "[0.63185495, 0.21781914, 0.1101173, 0.07220239, 0.055801727, 0.047040436, 0.04119068, 0.038055774, 0.03626106, 0.035153355]\n",
            "[0.012110721, 0.011799527, 0.011704995, 0.011673997, 0.011661678, 0.01164928, 0.011642699, 0.011639078, 0.011637689, 0.011634276]\n"
          ]
        },
        {
          "output_type": "stream",
          "name": "stderr",
          "text": [
            ""
          ]
        },
        {
          "output_type": "stream",
          "name": "stdout",
          "text": [
            "Epoch 11, total_loss=1.2959, reg_loss = 1.2615\n",
            "   13.06 s in train({'n_hidden_rhs': [], '..., ConditionalAutoEncoder..., cpu, <torch.utils.data.data..., AdamW ( Parameter Grou..., MSELoss(), 11, max_norm=1)\n",
            "   10.92 s in test({'n_hidden_rhs': [], '..., ConditionalAutoEncoder..., cpu, <torch.utils.data.data..., MSELoss())\n",
            "    2.28 s in test({'n_hidden_rhs': [], '..., ConditionalAutoEncoder..., cpu, <torch.utils.data.data..., MSELoss())\n",
            "Train MSE: 0.032959074\n",
            "Valid MSE: 0.011625602\n",
            "Next Learning Rate: 0.0005\n",
            "[0.63185495, 0.21781914, 0.1101173, 0.07220239, 0.055801727, 0.047040436, 0.04119068, 0.038055774, 0.03626106, 0.035153355, 0.033792302]\n",
            "[0.012110721, 0.011799527, 0.011704995, 0.011673997, 0.011661678, 0.01164928, 0.011642699, 0.011639078, 0.011637689, 0.011634276, 0.011627678]\n"
          ]
        },
        {
          "output_type": "stream",
          "name": "stderr",
          "text": [
            ""
          ]
        },
        {
          "output_type": "stream",
          "name": "stdout",
          "text": [
            "Epoch 12, total_loss=1.2347, reg_loss = 1.2023\n",
            "   12.73 s in train({'n_hidden_rhs': [], '..., ConditionalAutoEncoder..., cpu, <torch.utils.data.data..., AdamW ( Parameter Grou..., MSELoss(), 12, max_norm=1)\n",
            "   10.74 s in test({'n_hidden_rhs': [], '..., ConditionalAutoEncoder..., cpu, <torch.utils.data.data..., MSELoss())\n",
            "    2.29 s in test({'n_hidden_rhs': [], '..., ConditionalAutoEncoder..., cpu, <torch.utils.data.data..., MSELoss())\n",
            "Train MSE: 0.03226572\n",
            "Valid MSE: 0.01162376\n",
            "Next Learning Rate: 0.0005\n",
            "[0.63185495, 0.21781914, 0.1101173, 0.07220239, 0.055801727, 0.047040436, 0.04119068, 0.038055774, 0.03626106, 0.035153355, 0.033792302, 0.032959074]\n",
            "[0.012110721, 0.011799527, 0.011704995, 0.011673997, 0.011661678, 0.01164928, 0.011642699, 0.011639078, 0.011637689, 0.011634276, 0.011627678, 0.011625602]\n"
          ]
        },
        {
          "output_type": "stream",
          "name": "stderr",
          "text": [
            ""
          ]
        },
        {
          "output_type": "stream",
          "name": "stdout",
          "text": [
            "Epoch 13, total_loss=1.1793, reg_loss = 1.1476\n",
            "   12.94 s in train({'n_hidden_rhs': [], '..., ConditionalAutoEncoder..., cpu, <torch.utils.data.data..., AdamW ( Parameter Grou..., MSELoss(), 13, max_norm=1)\n",
            "   10.80 s in test({'n_hidden_rhs': [], '..., ConditionalAutoEncoder..., cpu, <torch.utils.data.data..., MSELoss())\n",
            "    2.32 s in test({'n_hidden_rhs': [], '..., ConditionalAutoEncoder..., cpu, <torch.utils.data.data..., MSELoss())\n",
            "Train MSE: 0.031918023\n",
            "Valid MSE: 0.01162279\n",
            "Next Learning Rate: 0.0005\n",
            "[0.63185495, 0.21781914, 0.1101173, 0.07220239, 0.055801727, 0.047040436, 0.04119068, 0.038055774, 0.03626106, 0.035153355, 0.033792302, 0.032959074, 0.03226572]\n",
            "[0.012110721, 0.011799527, 0.011704995, 0.011673997, 0.011661678, 0.01164928, 0.011642699, 0.011639078, 0.011637689, 0.011634276, 0.011627678, 0.011625602, 0.01162376]\n"
          ]
        },
        {
          "output_type": "stream",
          "name": "stderr",
          "text": [
            ""
          ]
        },
        {
          "output_type": "stream",
          "name": "stdout",
          "text": [
            "Epoch 14, total_loss=1.1285, reg_loss = 1.0970\n",
            "   12.90 s in train({'n_hidden_rhs': [], '..., ConditionalAutoEncoder..., cpu, <torch.utils.data.data..., AdamW ( Parameter Grou..., MSELoss(), 14, max_norm=1)\n",
            "   10.76 s in test({'n_hidden_rhs': [], '..., ConditionalAutoEncoder..., cpu, <torch.utils.data.data..., MSELoss())\n",
            "    2.32 s in test({'n_hidden_rhs': [], '..., ConditionalAutoEncoder..., cpu, <torch.utils.data.data..., MSELoss())\n",
            "Train MSE: 0.031599913\n",
            "Valid MSE: 0.011622866\n",
            "Next Learning Rate: 0.0005\n",
            "[0.63185495, 0.21781914, 0.1101173, 0.07220239, 0.055801727, 0.047040436, 0.04119068, 0.038055774, 0.03626106, 0.035153355, 0.033792302, 0.032959074, 0.03226572, 0.031918023]\n",
            "[0.012110721, 0.011799527, 0.011704995, 0.011673997, 0.011661678, 0.01164928, 0.011642699, 0.011639078, 0.011637689, 0.011634276, 0.011627678, 0.011625602, 0.01162376, 0.01162279]\n"
          ]
        },
        {
          "output_type": "stream",
          "name": "stderr",
          "text": [
            ""
          ]
        },
        {
          "output_type": "stream",
          "name": "stdout",
          "text": [
            "Epoch 15, total_loss=1.0814, reg_loss = 1.0498\n",
            "   12.87 s in train({'n_hidden_rhs': [], '..., ConditionalAutoEncoder..., cpu, <torch.utils.data.data..., AdamW ( Parameter Grou..., MSELoss(), 15, max_norm=1)\n",
            "   10.77 s in test({'n_hidden_rhs': [], '..., ConditionalAutoEncoder..., cpu, <torch.utils.data.data..., MSELoss())\n",
            "    2.31 s in test({'n_hidden_rhs': [], '..., ConditionalAutoEncoder..., cpu, <torch.utils.data.data..., MSELoss())\n",
            "Train MSE: 0.03133635\n",
            "Valid MSE: 0.011625178\n",
            "Next Learning Rate: 0.00025\n",
            "[0.63185495, 0.21781914, 0.1101173, 0.07220239, 0.055801727, 0.047040436, 0.04119068, 0.038055774, 0.03626106, 0.035153355, 0.033792302, 0.032959074, 0.03226572, 0.031918023, 0.031599913]\n",
            "[0.012110721, 0.011799527, 0.011704995, 0.011673997, 0.011661678, 0.01164928, 0.011642699, 0.011639078, 0.011637689, 0.011634276, 0.011627678, 0.011625602, 0.01162376, 0.01162279, 0.011622866]\n"
          ]
        },
        {
          "output_type": "stream",
          "name": "stderr",
          "text": [
            ""
          ]
        },
        {
          "output_type": "stream",
          "name": "stdout",
          "text": [
            "Epoch 16, total_loss=1.0468, reg_loss = 1.0156\n",
            "   12.92 s in train({'n_hidden_rhs': [], '..., ConditionalAutoEncoder..., cpu, <torch.utils.data.data..., AdamW ( Parameter Grou..., MSELoss(), 16, max_norm=1)\n",
            "   10.87 s in test({'n_hidden_rhs': [], '..., ConditionalAutoEncoder..., cpu, <torch.utils.data.data..., MSELoss())\n",
            "    2.29 s in test({'n_hidden_rhs': [], '..., ConditionalAutoEncoder..., cpu, <torch.utils.data.data..., MSELoss())\n",
            "Train MSE: 0.031188702\n",
            "Valid MSE: 0.011625838\n",
            "Next Learning Rate: 0.00025\n",
            "[0.63185495, 0.21781914, 0.1101173, 0.07220239, 0.055801727, 0.047040436, 0.04119068, 0.038055774, 0.03626106, 0.035153355, 0.033792302, 0.032959074, 0.03226572, 0.031918023, 0.031599913, 0.03133635]\n",
            "[0.012110721, 0.011799527, 0.011704995, 0.011673997, 0.011661678, 0.01164928, 0.011642699, 0.011639078, 0.011637689, 0.011634276, 0.011627678, 0.011625602, 0.01162376, 0.01162279, 0.011622866, 0.011625178]\n"
          ]
        },
        {
          "output_type": "stream",
          "name": "stderr",
          "text": [
            ""
          ]
        },
        {
          "output_type": "stream",
          "name": "stdout",
          "text": [
            "Epoch 17, total_loss=1.0252, reg_loss = 0.9942\n",
            "   13.05 s in train({'n_hidden_rhs': [], '..., ConditionalAutoEncoder..., cpu, <torch.utils.data.data..., AdamW ( Parameter Grou..., MSELoss(), 17, max_norm=1)\n",
            "   10.79 s in test({'n_hidden_rhs': [], '..., ConditionalAutoEncoder..., cpu, <torch.utils.data.data..., MSELoss())\n",
            "    2.32 s in test({'n_hidden_rhs': [], '..., ConditionalAutoEncoder..., cpu, <torch.utils.data.data..., MSELoss())\n",
            "Train MSE: 0.031083345\n",
            "Valid MSE: 0.011628446\n",
            "Next Learning Rate: 0.00025\n",
            "[0.63185495, 0.21781914, 0.1101173, 0.07220239, 0.055801727, 0.047040436, 0.04119068, 0.038055774, 0.03626106, 0.035153355, 0.033792302, 0.032959074, 0.03226572, 0.031918023, 0.031599913, 0.03133635, 0.031188702]\n",
            "[0.012110721, 0.011799527, 0.011704995, 0.011673997, 0.011661678, 0.01164928, 0.011642699, 0.011639078, 0.011637689, 0.011634276, 0.011627678, 0.011625602, 0.01162376, 0.01162279, 0.011622866, 0.011625178, 0.011625838]\n",
            "Training done. Evaluating...\n"
          ]
        },
        {
          "output_type": "stream",
          "name": "stderr",
          "text": [
            "100%|██████████| 6/6 [00:03<00:00,  1.60it/s]\n",
            "100%|██████████| 4/4 [00:02<00:00,  1.71it/s]\n"
          ]
        },
        {
          "output_type": "stream",
          "name": "stdout",
          "text": [
            "ConditionalAutoEncoder(\n",
            "  (macro): Sequential(\n",
            "    (0): Linear(in_features=147, out_features=16, bias=True)\n",
            "    (1): SELU()\n",
            "    (2): LayerNorm((16,), eps=1e-05, elementwise_affine=True)\n",
            "    (3): Linear(in_features=16, out_features=8, bias=True)\n",
            "    (4): SELU()\n",
            "    (5): LayerNorm((8,), eps=1e-05, elementwise_affine=True)\n",
            "    (6): Linear(in_features=8, out_features=4, bias=True)\n",
            "  )\n",
            "  (macro_lstm): LSTM(4, 4, num_layers=2)\n",
            "  (lhs): Sequential(\n",
            "    (0): Linear(in_features=45, out_features=24, bias=True)\n",
            "    (1): SELU()\n",
            "    (2): LayerNorm((24,), eps=1e-05, elementwise_affine=True)\n",
            "    (3): Linear(in_features=24, out_features=12, bias=True)\n",
            "    (4): SELU()\n",
            "    (5): LayerNorm((12,), eps=1e-05, elementwise_affine=True)\n",
            "    (6): Linear(in_features=12, out_features=4, bias=True)\n",
            "  )\n",
            "  (rhs): Sequential(\n",
            "    (0): Linear(in_features=46, out_features=4, bias=True)\n",
            "  )\n",
            ")\n",
            "   11.19 s in test({'n_hidden_rhs': [], '..., ConditionalAutoEncoder..., cpu, <torch.utils.data.data..., MSELoss())\n",
            "    2.33 s in test({'n_hidden_rhs': [], '..., ConditionalAutoEncoder..., cpu, <torch.utils.data.data..., MSELoss())\n",
            "Pre-Train Train MSE: 0.07448197\n",
            "Pre-Train Valid MSE: 0.011578051\n"
          ]
        },
        {
          "output_type": "stream",
          "name": "stderr",
          "text": [
            ""
          ]
        },
        {
          "output_type": "stream",
          "name": "stdout",
          "text": [
            "Epoch 1, total_loss=2.1490, reg_loss = 2.0873\n",
            "   13.57 s in train({'n_hidden_rhs': [], '..., ConditionalAutoEncoder..., cpu, <torch.utils.data.data..., AdamW ( Parameter Grou..., MSELoss(), 1, max_norm=1)\n",
            "   14.28 s in test({'n_hidden_rhs': [], '..., ConditionalAutoEncoder..., cpu, <torch.utils.data.data..., MSELoss())\n",
            "    2.43 s in test({'n_hidden_rhs': [], '..., ConditionalAutoEncoder..., cpu, <torch.utils.data.data..., MSELoss())\n",
            "Train MSE: 0.04914654\n",
            "Valid MSE: 0.011564697\n",
            "Next Learning Rate: 0.0005\n",
            "[0.07448197]\n",
            "[0.011578051]\n"
          ]
        },
        {
          "output_type": "stream",
          "name": "stderr",
          "text": [
            ""
          ]
        },
        {
          "output_type": "stream",
          "name": "stdout",
          "text": [
            "Epoch 2, total_loss=1.9924, reg_loss = 1.9454\n",
            "   13.27 s in train({'n_hidden_rhs': [], '..., ConditionalAutoEncoder..., cpu, <torch.utils.data.data..., AdamW ( Parameter Grou..., MSELoss(), 2, max_norm=1)\n",
            "   11.14 s in test({'n_hidden_rhs': [], '..., ConditionalAutoEncoder..., cpu, <torch.utils.data.data..., MSELoss())\n",
            "    2.33 s in test({'n_hidden_rhs': [], '..., ConditionalAutoEncoder..., cpu, <torch.utils.data.data..., MSELoss())\n",
            "Train MSE: 0.041257348\n",
            "Valid MSE: 0.011564209\n",
            "Next Learning Rate: 0.0005\n",
            "[0.07448197, 0.04914654]\n",
            "[0.011578051, 0.011564697]\n"
          ]
        },
        {
          "output_type": "stream",
          "name": "stderr",
          "text": [
            ""
          ]
        },
        {
          "output_type": "stream",
          "name": "stdout",
          "text": [
            "Epoch 3, total_loss=1.8489, reg_loss = 1.8107\n",
            "   13.11 s in train({'n_hidden_rhs': [], '..., ConditionalAutoEncoder..., cpu, <torch.utils.data.data..., AdamW ( Parameter Grou..., MSELoss(), 3, max_norm=1)\n",
            "   10.86 s in test({'n_hidden_rhs': [], '..., ConditionalAutoEncoder..., cpu, <torch.utils.data.data..., MSELoss())\n",
            "    2.29 s in test({'n_hidden_rhs': [], '..., ConditionalAutoEncoder..., cpu, <torch.utils.data.data..., MSELoss())\n",
            "Train MSE: 0.03664234\n",
            "Valid MSE: 0.011566557\n",
            "Next Learning Rate: 0.0005\n",
            "[0.07448197, 0.04914654, 0.041257348]\n",
            "[0.011578051, 0.011564697, 0.011564209]\n"
          ]
        },
        {
          "output_type": "stream",
          "name": "stderr",
          "text": [
            ""
          ]
        },
        {
          "output_type": "stream",
          "name": "stdout",
          "text": [
            "Epoch 4, total_loss=1.7195, reg_loss = 1.6843\n",
            "   13.13 s in train({'n_hidden_rhs': [], '..., ConditionalAutoEncoder..., cpu, <torch.utils.data.data..., AdamW ( Parameter Grou..., MSELoss(), 4, max_norm=1)\n",
            "   10.91 s in test({'n_hidden_rhs': [], '..., ConditionalAutoEncoder..., cpu, <torch.utils.data.data..., MSELoss())\n",
            "    2.36 s in test({'n_hidden_rhs': [], '..., ConditionalAutoEncoder..., cpu, <torch.utils.data.data..., MSELoss())\n",
            "Train MSE: 0.033813994\n",
            "Valid MSE: 0.011570618\n",
            "Next Learning Rate: 0.0005\n",
            "[0.07448197, 0.04914654, 0.041257348, 0.03664234]\n",
            "[0.011578051, 0.011564697, 0.011564209, 0.011566557]\n"
          ]
        },
        {
          "output_type": "stream",
          "name": "stderr",
          "text": [
            ""
          ]
        },
        {
          "output_type": "stream",
          "name": "stdout",
          "text": [
            "Epoch 5, total_loss=1.6002, reg_loss = 1.5660\n",
            "   13.30 s in train({'n_hidden_rhs': [], '..., ConditionalAutoEncoder..., cpu, <torch.utils.data.data..., AdamW ( Parameter Grou..., MSELoss(), 5, max_norm=1)\n",
            "   11.14 s in test({'n_hidden_rhs': [], '..., ConditionalAutoEncoder..., cpu, <torch.utils.data.data..., MSELoss())\n",
            "    2.39 s in test({'n_hidden_rhs': [], '..., ConditionalAutoEncoder..., cpu, <torch.utils.data.data..., MSELoss())\n",
            "Train MSE: 0.03229253\n",
            "Valid MSE: 0.011574052\n",
            "Next Learning Rate: 0.0005\n",
            "[0.07448197, 0.04914654, 0.041257348, 0.03664234, 0.033813994]\n",
            "[0.011578051, 0.011564697, 0.011564209, 0.011566557, 0.011570618]\n"
          ]
        },
        {
          "output_type": "stream",
          "name": "stderr",
          "text": [
            ""
          ]
        },
        {
          "output_type": "stream",
          "name": "stdout",
          "text": [
            "Epoch 6, total_loss=1.4879, reg_loss = 1.4565\n",
            "   13.70 s in train({'n_hidden_rhs': [], '..., ConditionalAutoEncoder..., cpu, <torch.utils.data.data..., AdamW ( Parameter Grou..., MSELoss(), 6, max_norm=1)\n",
            "   11.12 s in test({'n_hidden_rhs': [], '..., ConditionalAutoEncoder..., cpu, <torch.utils.data.data..., MSELoss())\n",
            "    2.32 s in test({'n_hidden_rhs': [], '..., ConditionalAutoEncoder..., cpu, <torch.utils.data.data..., MSELoss())\n",
            "Train MSE: 0.030914446\n",
            "Valid MSE: 0.011577306\n",
            "Next Learning Rate: 0.0005\n",
            "[0.07448197, 0.04914654, 0.041257348, 0.03664234, 0.033813994, 0.03229253]\n",
            "[0.011578051, 0.011564697, 0.011564209, 0.011566557, 0.011570618, 0.011574052]\n"
          ]
        },
        {
          "output_type": "stream",
          "name": "stderr",
          "text": [
            ""
          ]
        },
        {
          "output_type": "stream",
          "name": "stdout",
          "text": [
            "Epoch 7, total_loss=1.3864, reg_loss = 1.3550\n",
            "   13.20 s in train({'n_hidden_rhs': [], '..., ConditionalAutoEncoder..., cpu, <torch.utils.data.data..., AdamW ( Parameter Grou..., MSELoss(), 7, max_norm=1)\n",
            "   10.85 s in test({'n_hidden_rhs': [], '..., ConditionalAutoEncoder..., cpu, <torch.utils.data.data..., MSELoss())\n",
            "    2.28 s in test({'n_hidden_rhs': [], '..., ConditionalAutoEncoder..., cpu, <torch.utils.data.data..., MSELoss())\n",
            "Train MSE: 0.03016009\n",
            "Valid MSE: 0.011580608\n",
            "Next Learning Rate: 0.00025\n",
            "[0.07448197, 0.04914654, 0.041257348, 0.03664234, 0.033813994, 0.03229253, 0.030914446]\n",
            "[0.011578051, 0.011564697, 0.011564209, 0.011566557, 0.011570618, 0.011574052, 0.011577306]\n",
            "Training done. Evaluating...\n"
          ]
        },
        {
          "output_type": "stream",
          "name": "stderr",
          "text": [
            "100%|██████████| 6/6 [00:03<00:00,  1.59it/s]\n",
            "100%|██████████| 4/4 [00:02<00:00,  1.69it/s]\n"
          ]
        },
        {
          "output_type": "stream",
          "name": "stdout",
          "text": [
            "ConditionalAutoEncoder(\n",
            "  (macro): Sequential(\n",
            "    (0): Linear(in_features=147, out_features=16, bias=True)\n",
            "    (1): SELU()\n",
            "    (2): LayerNorm((16,), eps=1e-05, elementwise_affine=True)\n",
            "    (3): Linear(in_features=16, out_features=8, bias=True)\n",
            "    (4): SELU()\n",
            "    (5): LayerNorm((8,), eps=1e-05, elementwise_affine=True)\n",
            "    (6): Linear(in_features=8, out_features=4, bias=True)\n",
            "  )\n",
            "  (macro_lstm): LSTM(4, 4, num_layers=2)\n",
            "  (lhs): Sequential(\n",
            "    (0): Linear(in_features=45, out_features=24, bias=True)\n",
            "    (1): SELU()\n",
            "    (2): LayerNorm((24,), eps=1e-05, elementwise_affine=True)\n",
            "    (3): Linear(in_features=24, out_features=12, bias=True)\n",
            "    (4): SELU()\n",
            "    (5): LayerNorm((12,), eps=1e-05, elementwise_affine=True)\n",
            "    (6): Linear(in_features=12, out_features=4, bias=True)\n",
            "  )\n",
            "  (rhs): Sequential(\n",
            "    (0): Linear(in_features=46, out_features=4, bias=True)\n",
            "  )\n",
            ")\n",
            "   10.93 s in test({'n_hidden_rhs': [], '..., ConditionalAutoEncoder..., cpu, <torch.utils.data.data..., MSELoss())\n",
            "    2.33 s in test({'n_hidden_rhs': [], '..., ConditionalAutoEncoder..., cpu, <torch.utils.data.data..., MSELoss())\n",
            "Pre-Train Train MSE: 0.4529304\n",
            "Pre-Train Valid MSE: 0.011758155\n"
          ]
        },
        {
          "output_type": "stream",
          "name": "stderr",
          "text": [
            ""
          ]
        },
        {
          "output_type": "stream",
          "name": "stdout",
          "text": [
            "Epoch 1, total_loss=2.3933, reg_loss = 2.1121\n",
            "   12.89 s in train({'n_hidden_rhs': [], '..., ConditionalAutoEncoder..., cpu, <torch.utils.data.data..., AdamW ( Parameter Grou..., MSELoss(), 1, max_norm=1)\n",
            "   10.89 s in test({'n_hidden_rhs': [], '..., ConditionalAutoEncoder..., cpu, <torch.utils.data.data..., MSELoss())\n",
            "    2.30 s in test({'n_hidden_rhs': [], '..., ConditionalAutoEncoder..., cpu, <torch.utils.data.data..., MSELoss())\n",
            "Train MSE: 0.16559307\n",
            "Valid MSE: 0.011743277\n",
            "Next Learning Rate: 0.0005\n",
            "[0.4529304]\n",
            "[0.011758155]\n"
          ]
        },
        {
          "output_type": "stream",
          "name": "stderr",
          "text": [
            ""
          ]
        },
        {
          "output_type": "stream",
          "name": "stdout",
          "text": [
            "Epoch 2, total_loss=2.1280, reg_loss = 2.0060\n",
            "   12.99 s in train({'n_hidden_rhs': [], '..., ConditionalAutoEncoder..., cpu, <torch.utils.data.data..., AdamW ( Parameter Grou..., MSELoss(), 2, max_norm=1)\n",
            "   10.94 s in test({'n_hidden_rhs': [], '..., ConditionalAutoEncoder..., cpu, <torch.utils.data.data..., MSELoss())\n",
            "    2.29 s in test({'n_hidden_rhs': [], '..., ConditionalAutoEncoder..., cpu, <torch.utils.data.data..., MSELoss())\n",
            "Train MSE: 0.08404425\n",
            "Valid MSE: 0.01172922\n",
            "Next Learning Rate: 0.0005\n",
            "[0.4529304, 0.16559307]\n",
            "[0.011758155, 0.011743277]\n"
          ]
        },
        {
          "output_type": "stream",
          "name": "stderr",
          "text": [
            ""
          ]
        },
        {
          "output_type": "stream",
          "name": "stdout",
          "text": [
            "Epoch 3, total_loss=1.9723, reg_loss = 1.9021\n",
            "   13.10 s in train({'n_hidden_rhs': [], '..., ConditionalAutoEncoder..., cpu, <torch.utils.data.data..., AdamW ( Parameter Grou..., MSELoss(), 3, max_norm=1)\n",
            "   10.85 s in test({'n_hidden_rhs': [], '..., ConditionalAutoEncoder..., cpu, <torch.utils.data.data..., MSELoss())\n",
            "    2.37 s in test({'n_hidden_rhs': [], '..., ConditionalAutoEncoder..., cpu, <torch.utils.data.data..., MSELoss())\n",
            "Train MSE: 0.061111383\n",
            "Valid MSE: 0.011710831\n",
            "Next Learning Rate: 0.0005\n",
            "[0.4529304, 0.16559307, 0.08404425]\n",
            "[0.011758155, 0.011743277, 0.01172922]\n"
          ]
        },
        {
          "output_type": "stream",
          "name": "stderr",
          "text": [
            ""
          ]
        },
        {
          "output_type": "stream",
          "name": "stdout",
          "text": [
            "Epoch 4, total_loss=1.8588, reg_loss = 1.8021\n",
            "   13.08 s in train({'n_hidden_rhs': [], '..., ConditionalAutoEncoder..., cpu, <torch.utils.data.data..., AdamW ( Parameter Grou..., MSELoss(), 4, max_norm=1)\n",
            "   11.23 s in test({'n_hidden_rhs': [], '..., ConditionalAutoEncoder..., cpu, <torch.utils.data.data..., MSELoss())\n",
            "    2.36 s in test({'n_hidden_rhs': [], '..., ConditionalAutoEncoder..., cpu, <torch.utils.data.data..., MSELoss())\n",
            "Train MSE: 0.050918654\n",
            "Valid MSE: 0.011691955\n",
            "Next Learning Rate: 0.0005\n",
            "[0.4529304, 0.16559307, 0.08404425, 0.061111383]\n",
            "[0.011758155, 0.011743277, 0.01172922, 0.011710831]\n"
          ]
        },
        {
          "output_type": "stream",
          "name": "stderr",
          "text": [
            ""
          ]
        },
        {
          "output_type": "stream",
          "name": "stdout",
          "text": [
            "Epoch 5, total_loss=1.7627, reg_loss = 1.7071\n",
            "   13.33 s in train({'n_hidden_rhs': [], '..., ConditionalAutoEncoder..., cpu, <torch.utils.data.data..., AdamW ( Parameter Grou..., MSELoss(), 5, max_norm=1)\n",
            "   11.10 s in test({'n_hidden_rhs': [], '..., ConditionalAutoEncoder..., cpu, <torch.utils.data.data..., MSELoss())\n",
            "    2.40 s in test({'n_hidden_rhs': [], '..., ConditionalAutoEncoder..., cpu, <torch.utils.data.data..., MSELoss())\n",
            "Train MSE: 0.045302257\n",
            "Valid MSE: 0.011673517\n",
            "Next Learning Rate: 0.0005\n",
            "[0.4529304, 0.16559307, 0.08404425, 0.061111383, 0.050918654]\n",
            "[0.011758155, 0.011743277, 0.01172922, 0.011710831, 0.011691955]\n"
          ]
        },
        {
          "output_type": "stream",
          "name": "stderr",
          "text": [
            ""
          ]
        },
        {
          "output_type": "stream",
          "name": "stdout",
          "text": [
            "Epoch 6, total_loss=1.6609, reg_loss = 1.6183\n",
            "   13.31 s in train({'n_hidden_rhs': [], '..., ConditionalAutoEncoder..., cpu, <torch.utils.data.data..., AdamW ( Parameter Grou..., MSELoss(), 6, max_norm=1)\n",
            "   11.37 s in test({'n_hidden_rhs': [], '..., ConditionalAutoEncoder..., cpu, <torch.utils.data.data..., MSELoss())\n",
            "    2.36 s in test({'n_hidden_rhs': [], '..., ConditionalAutoEncoder..., cpu, <torch.utils.data.data..., MSELoss())\n",
            "Train MSE: 0.04140868\n",
            "Valid MSE: 0.011653419\n",
            "Next Learning Rate: 0.0005\n",
            "[0.4529304, 0.16559307, 0.08404425, 0.061111383, 0.050918654, 0.045302257]\n",
            "[0.011758155, 0.011743277, 0.01172922, 0.011710831, 0.011691955, 0.011673517]\n"
          ]
        },
        {
          "output_type": "stream",
          "name": "stderr",
          "text": [
            ""
          ]
        },
        {
          "output_type": "stream",
          "name": "stdout",
          "text": [
            "Epoch 7, total_loss=1.5774, reg_loss = 1.5353\n",
            "   13.37 s in train({'n_hidden_rhs': [], '..., ConditionalAutoEncoder..., cpu, <torch.utils.data.data..., AdamW ( Parameter Grou..., MSELoss(), 7, max_norm=1)\n",
            "   11.41 s in test({'n_hidden_rhs': [], '..., ConditionalAutoEncoder..., cpu, <torch.utils.data.data..., MSELoss())\n",
            "    2.41 s in test({'n_hidden_rhs': [], '..., ConditionalAutoEncoder..., cpu, <torch.utils.data.data..., MSELoss())\n",
            "Train MSE: 0.03925662\n",
            "Valid MSE: 0.01163765\n",
            "Next Learning Rate: 0.0005\n",
            "[0.4529304, 0.16559307, 0.08404425, 0.061111383, 0.050918654, 0.045302257, 0.04140868]\n",
            "[0.011758155, 0.011743277, 0.01172922, 0.011710831, 0.011691955, 0.011673517, 0.011653419]\n"
          ]
        },
        {
          "output_type": "stream",
          "name": "stderr",
          "text": [
            ""
          ]
        },
        {
          "output_type": "stream",
          "name": "stdout",
          "text": [
            "Epoch 8, total_loss=1.4977, reg_loss = 1.4583\n",
            "   13.63 s in train({'n_hidden_rhs': [], '..., ConditionalAutoEncoder..., cpu, <torch.utils.data.data..., AdamW ( Parameter Grou..., MSELoss(), 8, max_norm=1)\n",
            "   11.52 s in test({'n_hidden_rhs': [], '..., ConditionalAutoEncoder..., cpu, <torch.utils.data.data..., MSELoss())\n",
            "    2.39 s in test({'n_hidden_rhs': [], '..., ConditionalAutoEncoder..., cpu, <torch.utils.data.data..., MSELoss())\n",
            "Train MSE: 0.037548237\n",
            "Valid MSE: 0.011622496\n",
            "Next Learning Rate: 0.0005\n",
            "[0.4529304, 0.16559307, 0.08404425, 0.061111383, 0.050918654, 0.045302257, 0.04140868, 0.03925662]\n",
            "[0.011758155, 0.011743277, 0.01172922, 0.011710831, 0.011691955, 0.011673517, 0.011653419, 0.01163765]\n"
          ]
        },
        {
          "output_type": "stream",
          "name": "stderr",
          "text": [
            ""
          ]
        },
        {
          "output_type": "stream",
          "name": "stdout",
          "text": [
            "Epoch 9, total_loss=1.4234, reg_loss = 1.3872\n",
            "   13.43 s in train({'n_hidden_rhs': [], '..., ConditionalAutoEncoder..., cpu, <torch.utils.data.data..., AdamW ( Parameter Grou..., MSELoss(), 9, max_norm=1)\n",
            "   11.45 s in test({'n_hidden_rhs': [], '..., ConditionalAutoEncoder..., cpu, <torch.utils.data.data..., MSELoss())\n",
            "    2.49 s in test({'n_hidden_rhs': [], '..., ConditionalAutoEncoder..., cpu, <torch.utils.data.data..., MSELoss())\n",
            "Train MSE: 0.03623722\n",
            "Valid MSE: 0.011612131\n",
            "Next Learning Rate: 0.0005\n",
            "[0.4529304, 0.16559307, 0.08404425, 0.061111383, 0.050918654, 0.045302257, 0.04140868, 0.03925662, 0.037548237]\n",
            "[0.011758155, 0.011743277, 0.01172922, 0.011710831, 0.011691955, 0.011673517, 0.011653419, 0.01163765, 0.011622496]\n"
          ]
        },
        {
          "output_type": "stream",
          "name": "stderr",
          "text": [
            ""
          ]
        },
        {
          "output_type": "stream",
          "name": "stdout",
          "text": [
            "Epoch 10, total_loss=1.3571, reg_loss = 1.3213\n",
            "   13.35 s in train({'n_hidden_rhs': [], '..., ConditionalAutoEncoder..., cpu, <torch.utils.data.data..., AdamW ( Parameter Grou..., MSELoss(), 10, max_norm=1)\n",
            "   11.33 s in test({'n_hidden_rhs': [], '..., ConditionalAutoEncoder..., cpu, <torch.utils.data.data..., MSELoss())\n",
            "    2.36 s in test({'n_hidden_rhs': [], '..., ConditionalAutoEncoder..., cpu, <torch.utils.data.data..., MSELoss())\n",
            "Train MSE: 0.03560613\n",
            "Valid MSE: 0.011611885\n",
            "Next Learning Rate: 0.0005\n",
            "[0.4529304, 0.16559307, 0.08404425, 0.061111383, 0.050918654, 0.045302257, 0.04140868, 0.03925662, 0.037548237, 0.03623722]\n",
            "[0.011758155, 0.011743277, 0.01172922, 0.011710831, 0.011691955, 0.011673517, 0.011653419, 0.01163765, 0.011622496, 0.011612131]\n"
          ]
        },
        {
          "output_type": "stream",
          "name": "stderr",
          "text": [
            ""
          ]
        },
        {
          "output_type": "stream",
          "name": "stdout",
          "text": [
            "Epoch 11, total_loss=1.2962, reg_loss = 1.2608\n",
            "   13.52 s in train({'n_hidden_rhs': [], '..., ConditionalAutoEncoder..., cpu, <torch.utils.data.data..., AdamW ( Parameter Grou..., MSELoss(), 11, max_norm=1)\n",
            "   11.20 s in test({'n_hidden_rhs': [], '..., ConditionalAutoEncoder..., cpu, <torch.utils.data.data..., MSELoss())\n",
            "    2.38 s in test({'n_hidden_rhs': [], '..., ConditionalAutoEncoder..., cpu, <torch.utils.data.data..., MSELoss())\n",
            "Train MSE: 0.03484409\n",
            "Valid MSE: 0.0116096055\n",
            "Next Learning Rate: 0.0005\n",
            "[0.4529304, 0.16559307, 0.08404425, 0.061111383, 0.050918654, 0.045302257, 0.04140868, 0.03925662, 0.037548237, 0.03623722, 0.03560613]\n",
            "[0.011758155, 0.011743277, 0.01172922, 0.011710831, 0.011691955, 0.011673517, 0.011653419, 0.01163765, 0.011622496, 0.011612131, 0.011611885]\n"
          ]
        },
        {
          "output_type": "stream",
          "name": "stderr",
          "text": [
            ""
          ]
        },
        {
          "output_type": "stream",
          "name": "stdout",
          "text": [
            "Epoch 12, total_loss=1.2388, reg_loss = 1.2047\n",
            "   13.38 s in train({'n_hidden_rhs': [], '..., ConditionalAutoEncoder..., cpu, <torch.utils.data.data..., AdamW ( Parameter Grou..., MSELoss(), 12, max_norm=1)\n",
            "   10.99 s in test({'n_hidden_rhs': [], '..., ConditionalAutoEncoder..., cpu, <torch.utils.data.data..., MSELoss())\n",
            "    2.33 s in test({'n_hidden_rhs': [], '..., ConditionalAutoEncoder..., cpu, <torch.utils.data.data..., MSELoss())\n",
            "Train MSE: 0.03419875\n",
            "Valid MSE: 0.011606922\n",
            "Next Learning Rate: 0.0005\n",
            "[0.4529304, 0.16559307, 0.08404425, 0.061111383, 0.050918654, 0.045302257, 0.04140868, 0.03925662, 0.037548237, 0.03623722, 0.03560613, 0.03484409]\n",
            "[0.011758155, 0.011743277, 0.01172922, 0.011710831, 0.011691955, 0.011673517, 0.011653419, 0.01163765, 0.011622496, 0.011612131, 0.011611885, 0.0116096055]\n"
          ]
        },
        {
          "output_type": "stream",
          "name": "stderr",
          "text": [
            ""
          ]
        },
        {
          "output_type": "stream",
          "name": "stdout",
          "text": [
            "Epoch 13, total_loss=1.1864, reg_loss = 1.1526\n",
            "   13.16 s in train({'n_hidden_rhs': [], '..., ConditionalAutoEncoder..., cpu, <torch.utils.data.data..., AdamW ( Parameter Grou..., MSELoss(), 13, max_norm=1)\n",
            "   11.03 s in test({'n_hidden_rhs': [], '..., ConditionalAutoEncoder..., cpu, <torch.utils.data.data..., MSELoss())\n",
            "    2.38 s in test({'n_hidden_rhs': [], '..., ConditionalAutoEncoder..., cpu, <torch.utils.data.data..., MSELoss())\n",
            "Train MSE: 0.0337113\n",
            "Valid MSE: 0.011605503\n",
            "Next Learning Rate: 0.0005\n",
            "[0.4529304, 0.16559307, 0.08404425, 0.061111383, 0.050918654, 0.045302257, 0.04140868, 0.03925662, 0.037548237, 0.03623722, 0.03560613, 0.03484409, 0.03419875]\n",
            "[0.011758155, 0.011743277, 0.01172922, 0.011710831, 0.011691955, 0.011673517, 0.011653419, 0.01163765, 0.011622496, 0.011612131, 0.011611885, 0.0116096055, 0.011606922]\n"
          ]
        },
        {
          "output_type": "stream",
          "name": "stderr",
          "text": [
            ""
          ]
        },
        {
          "output_type": "stream",
          "name": "stdout",
          "text": [
            "Epoch 14, total_loss=1.1372, reg_loss = 1.1042\n",
            "   13.35 s in train({'n_hidden_rhs': [], '..., ConditionalAutoEncoder..., cpu, <torch.utils.data.data..., AdamW ( Parameter Grou..., MSELoss(), 14, max_norm=1)\n",
            "   11.20 s in test({'n_hidden_rhs': [], '..., ConditionalAutoEncoder..., cpu, <torch.utils.data.data..., MSELoss())\n",
            "    2.40 s in test({'n_hidden_rhs': [], '..., ConditionalAutoEncoder..., cpu, <torch.utils.data.data..., MSELoss())\n",
            "Train MSE: 0.033230055\n",
            "Valid MSE: 0.011604639\n",
            "Next Learning Rate: 0.0005\n",
            "[0.4529304, 0.16559307, 0.08404425, 0.061111383, 0.050918654, 0.045302257, 0.04140868, 0.03925662, 0.037548237, 0.03623722, 0.03560613, 0.03484409, 0.03419875, 0.0337113]\n",
            "[0.011758155, 0.011743277, 0.01172922, 0.011710831, 0.011691955, 0.011673517, 0.011653419, 0.01163765, 0.011622496, 0.011612131, 0.011611885, 0.0116096055, 0.011606922, 0.011605503]\n"
          ]
        },
        {
          "output_type": "stream",
          "name": "stderr",
          "text": [
            ""
          ]
        },
        {
          "output_type": "stream",
          "name": "stdout",
          "text": [
            "Epoch 15, total_loss=1.0935, reg_loss = 1.0598\n",
            "   13.35 s in train({'n_hidden_rhs': [], '..., ConditionalAutoEncoder..., cpu, <torch.utils.data.data..., AdamW ( Parameter Grou..., MSELoss(), 15, max_norm=1)\n",
            "   11.04 s in test({'n_hidden_rhs': [], '..., ConditionalAutoEncoder..., cpu, <torch.utils.data.data..., MSELoss())\n",
            "    2.34 s in test({'n_hidden_rhs': [], '..., ConditionalAutoEncoder..., cpu, <torch.utils.data.data..., MSELoss())\n",
            "Train MSE: 0.032742992\n",
            "Valid MSE: 0.011604679\n",
            "Next Learning Rate: 0.0005\n",
            "[0.4529304, 0.16559307, 0.08404425, 0.061111383, 0.050918654, 0.045302257, 0.04140868, 0.03925662, 0.037548237, 0.03623722, 0.03560613, 0.03484409, 0.03419875, 0.0337113, 0.033230055]\n",
            "[0.011758155, 0.011743277, 0.01172922, 0.011710831, 0.011691955, 0.011673517, 0.011653419, 0.01163765, 0.011622496, 0.011612131, 0.011611885, 0.0116096055, 0.011606922, 0.011605503, 0.011604639]\n"
          ]
        },
        {
          "output_type": "stream",
          "name": "stderr",
          "text": [
            ""
          ]
        },
        {
          "output_type": "stream",
          "name": "stdout",
          "text": [
            "Epoch 16, total_loss=1.0504, reg_loss = 1.0185\n",
            "   13.26 s in train({'n_hidden_rhs': [], '..., ConditionalAutoEncoder..., cpu, <torch.utils.data.data..., AdamW ( Parameter Grou..., MSELoss(), 16, max_norm=1)\n",
            "   11.12 s in test({'n_hidden_rhs': [], '..., ConditionalAutoEncoder..., cpu, <torch.utils.data.data..., MSELoss())\n",
            "    2.40 s in test({'n_hidden_rhs': [], '..., ConditionalAutoEncoder..., cpu, <torch.utils.data.data..., MSELoss())\n",
            "Train MSE: 0.03233848\n",
            "Valid MSE: 0.011605198\n",
            "Next Learning Rate: 0.0005\n",
            "[0.4529304, 0.16559307, 0.08404425, 0.061111383, 0.050918654, 0.045302257, 0.04140868, 0.03925662, 0.037548237, 0.03623722, 0.03560613, 0.03484409, 0.03419875, 0.0337113, 0.033230055, 0.032742992]\n",
            "[0.011758155, 0.011743277, 0.01172922, 0.011710831, 0.011691955, 0.011673517, 0.011653419, 0.01163765, 0.011622496, 0.011612131, 0.011611885, 0.0116096055, 0.011606922, 0.011605503, 0.011604639, 0.011604679]\n"
          ]
        },
        {
          "output_type": "stream",
          "name": "stderr",
          "text": [
            ""
          ]
        },
        {
          "output_type": "stream",
          "name": "stdout",
          "text": [
            "Epoch 17, total_loss=1.0123, reg_loss = 0.9799\n",
            "   13.15 s in train({'n_hidden_rhs': [], '..., ConditionalAutoEncoder..., cpu, <torch.utils.data.data..., AdamW ( Parameter Grou..., MSELoss(), 17, max_norm=1)\n",
            "   11.13 s in test({'n_hidden_rhs': [], '..., ConditionalAutoEncoder..., cpu, <torch.utils.data.data..., MSELoss())\n",
            "    2.31 s in test({'n_hidden_rhs': [], '..., ConditionalAutoEncoder..., cpu, <torch.utils.data.data..., MSELoss())\n",
            "Train MSE: 0.03224404\n",
            "Valid MSE: 0.011603606\n",
            "Next Learning Rate: 0.00025\n",
            "[0.4529304, 0.16559307, 0.08404425, 0.061111383, 0.050918654, 0.045302257, 0.04140868, 0.03925662, 0.037548237, 0.03623722, 0.03560613, 0.03484409, 0.03419875, 0.0337113, 0.033230055, 0.032742992, 0.03233848]\n",
            "[0.011758155, 0.011743277, 0.01172922, 0.011710831, 0.011691955, 0.011673517, 0.011653419, 0.01163765, 0.011622496, 0.011612131, 0.011611885, 0.0116096055, 0.011606922, 0.011605503, 0.011604639, 0.011604679, 0.011605198]\n"
          ]
        },
        {
          "output_type": "stream",
          "name": "stderr",
          "text": [
            ""
          ]
        },
        {
          "output_type": "stream",
          "name": "stdout",
          "text": [
            "Epoch 18, total_loss=0.9833, reg_loss = 0.9517\n",
            "   13.28 s in train({'n_hidden_rhs': [], '..., ConditionalAutoEncoder..., cpu, <torch.utils.data.data..., AdamW ( Parameter Grou..., MSELoss(), 18, max_norm=1)\n",
            "   11.34 s in test({'n_hidden_rhs': [], '..., ConditionalAutoEncoder..., cpu, <torch.utils.data.data..., MSELoss())\n",
            "    2.37 s in test({'n_hidden_rhs': [], '..., ConditionalAutoEncoder..., cpu, <torch.utils.data.data..., MSELoss())\n",
            "Train MSE: 0.032043822\n",
            "Valid MSE: 0.011603078\n",
            "Next Learning Rate: 0.00025\n",
            "[0.4529304, 0.16559307, 0.08404425, 0.061111383, 0.050918654, 0.045302257, 0.04140868, 0.03925662, 0.037548237, 0.03623722, 0.03560613, 0.03484409, 0.03419875, 0.0337113, 0.033230055, 0.032742992, 0.03233848, 0.03224404]\n",
            "[0.011758155, 0.011743277, 0.01172922, 0.011710831, 0.011691955, 0.011673517, 0.011653419, 0.01163765, 0.011622496, 0.011612131, 0.011611885, 0.0116096055, 0.011606922, 0.011605503, 0.011604639, 0.011604679, 0.011605198, 0.011603606]\n"
          ]
        },
        {
          "output_type": "stream",
          "name": "stderr",
          "text": [
            ""
          ]
        },
        {
          "output_type": "stream",
          "name": "stdout",
          "text": [
            "Epoch 19, total_loss=0.9655, reg_loss = 0.9338\n",
            "   13.52 s in train({'n_hidden_rhs': [], '..., ConditionalAutoEncoder..., cpu, <torch.utils.data.data..., AdamW ( Parameter Grou..., MSELoss(), 19, max_norm=1)\n",
            "   11.36 s in test({'n_hidden_rhs': [], '..., ConditionalAutoEncoder..., cpu, <torch.utils.data.data..., MSELoss())\n",
            "    2.42 s in test({'n_hidden_rhs': [], '..., ConditionalAutoEncoder..., cpu, <torch.utils.data.data..., MSELoss())\n",
            "Train MSE: 0.031962592\n",
            "Valid MSE: 0.011602116\n",
            "Next Learning Rate: 0.00025\n",
            "[0.4529304, 0.16559307, 0.08404425, 0.061111383, 0.050918654, 0.045302257, 0.04140868, 0.03925662, 0.037548237, 0.03623722, 0.03560613, 0.03484409, 0.03419875, 0.0337113, 0.033230055, 0.032742992, 0.03233848, 0.03224404, 0.032043822]\n",
            "[0.011758155, 0.011743277, 0.01172922, 0.011710831, 0.011691955, 0.011673517, 0.011653419, 0.01163765, 0.011622496, 0.011612131, 0.011611885, 0.0116096055, 0.011606922, 0.011605503, 0.011604639, 0.011604679, 0.011605198, 0.011603606, 0.011603078]\n"
          ]
        },
        {
          "output_type": "stream",
          "name": "stderr",
          "text": [
            ""
          ]
        },
        {
          "output_type": "stream",
          "name": "stdout",
          "text": [
            "Epoch 20, total_loss=0.9479, reg_loss = 0.9166\n",
            "   13.51 s in train({'n_hidden_rhs': [], '..., ConditionalAutoEncoder..., cpu, <torch.utils.data.data..., AdamW ( Parameter Grou..., MSELoss(), 20, max_norm=1)\n",
            "   11.48 s in test({'n_hidden_rhs': [], '..., ConditionalAutoEncoder..., cpu, <torch.utils.data.data..., MSELoss())\n",
            "    2.40 s in test({'n_hidden_rhs': [], '..., ConditionalAutoEncoder..., cpu, <torch.utils.data.data..., MSELoss())\n",
            "Train MSE: 0.031889606\n",
            "Valid MSE: 0.011601338\n",
            "Next Learning Rate: 0.00025\n",
            "[0.4529304, 0.16559307, 0.08404425, 0.061111383, 0.050918654, 0.045302257, 0.04140868, 0.03925662, 0.037548237, 0.03623722, 0.03560613, 0.03484409, 0.03419875, 0.0337113, 0.033230055, 0.032742992, 0.03233848, 0.03224404, 0.032043822, 0.031962592]\n",
            "[0.011758155, 0.011743277, 0.01172922, 0.011710831, 0.011691955, 0.011673517, 0.011653419, 0.01163765, 0.011622496, 0.011612131, 0.011611885, 0.0116096055, 0.011606922, 0.011605503, 0.011604639, 0.011604679, 0.011605198, 0.011603606, 0.011603078, 0.011602116]\n"
          ]
        },
        {
          "output_type": "stream",
          "name": "stderr",
          "text": [
            ""
          ]
        },
        {
          "output_type": "stream",
          "name": "stdout",
          "text": [
            "Epoch 21, total_loss=0.9308, reg_loss = 0.8998\n",
            "   13.18 s in train({'n_hidden_rhs': [], '..., ConditionalAutoEncoder..., cpu, <torch.utils.data.data..., AdamW ( Parameter Grou..., MSELoss(), 21, max_norm=1)\n",
            "   11.16 s in test({'n_hidden_rhs': [], '..., ConditionalAutoEncoder..., cpu, <torch.utils.data.data..., MSELoss())\n",
            "    2.42 s in test({'n_hidden_rhs': [], '..., ConditionalAutoEncoder..., cpu, <torch.utils.data.data..., MSELoss())\n",
            "Train MSE: 0.031763382\n",
            "Valid MSE: 0.011600834\n",
            "Next Learning Rate: 0.00025\n",
            "[0.4529304, 0.16559307, 0.08404425, 0.061111383, 0.050918654, 0.045302257, 0.04140868, 0.03925662, 0.037548237, 0.03623722, 0.03560613, 0.03484409, 0.03419875, 0.0337113, 0.033230055, 0.032742992, 0.03233848, 0.03224404, 0.032043822, 0.031962592, 0.031889606]\n",
            "[0.011758155, 0.011743277, 0.01172922, 0.011710831, 0.011691955, 0.011673517, 0.011653419, 0.01163765, 0.011622496, 0.011612131, 0.011611885, 0.0116096055, 0.011606922, 0.011605503, 0.011604639, 0.011604679, 0.011605198, 0.011603606, 0.011603078, 0.011602116, 0.011601338]\n"
          ]
        },
        {
          "output_type": "stream",
          "name": "stderr",
          "text": [
            ""
          ]
        },
        {
          "output_type": "stream",
          "name": "stdout",
          "text": [
            "Epoch 22, total_loss=0.9146, reg_loss = 0.8833\n",
            "   13.07 s in train({'n_hidden_rhs': [], '..., ConditionalAutoEncoder..., cpu, <torch.utils.data.data..., AdamW ( Parameter Grou..., MSELoss(), 22, max_norm=1)\n",
            "   11.03 s in test({'n_hidden_rhs': [], '..., ConditionalAutoEncoder..., cpu, <torch.utils.data.data..., MSELoss())\n",
            "    2.37 s in test({'n_hidden_rhs': [], '..., ConditionalAutoEncoder..., cpu, <torch.utils.data.data..., MSELoss())\n",
            "Train MSE: 0.031623546\n",
            "Valid MSE: 0.0116005335\n",
            "Next Learning Rate: 0.00025\n",
            "[0.4529304, 0.16559307, 0.08404425, 0.061111383, 0.050918654, 0.045302257, 0.04140868, 0.03925662, 0.037548237, 0.03623722, 0.03560613, 0.03484409, 0.03419875, 0.0337113, 0.033230055, 0.032742992, 0.03233848, 0.03224404, 0.032043822, 0.031962592, 0.031889606, 0.031763382]\n",
            "[0.011758155, 0.011743277, 0.01172922, 0.011710831, 0.011691955, 0.011673517, 0.011653419, 0.01163765, 0.011622496, 0.011612131, 0.011611885, 0.0116096055, 0.011606922, 0.011605503, 0.011604639, 0.011604679, 0.011605198, 0.011603606, 0.011603078, 0.011602116, 0.011601338, 0.011600834]\n"
          ]
        },
        {
          "output_type": "stream",
          "name": "stderr",
          "text": [
            ""
          ]
        },
        {
          "output_type": "stream",
          "name": "stdout",
          "text": [
            "Epoch 23, total_loss=0.8983, reg_loss = 0.8672\n",
            "   13.10 s in train({'n_hidden_rhs': [], '..., ConditionalAutoEncoder..., cpu, <torch.utils.data.data..., AdamW ( Parameter Grou..., MSELoss(), 23, max_norm=1)\n",
            "   11.09 s in test({'n_hidden_rhs': [], '..., ConditionalAutoEncoder..., cpu, <torch.utils.data.data..., MSELoss())\n",
            "    2.31 s in test({'n_hidden_rhs': [], '..., ConditionalAutoEncoder..., cpu, <torch.utils.data.data..., MSELoss())\n",
            "Train MSE: 0.031538293\n",
            "Valid MSE: 0.011600169\n",
            "Next Learning Rate: 0.00025\n",
            "[0.4529304, 0.16559307, 0.08404425, 0.061111383, 0.050918654, 0.045302257, 0.04140868, 0.03925662, 0.037548237, 0.03623722, 0.03560613, 0.03484409, 0.03419875, 0.0337113, 0.033230055, 0.032742992, 0.03233848, 0.03224404, 0.032043822, 0.031962592, 0.031889606, 0.031763382, 0.031623546]\n",
            "[0.011758155, 0.011743277, 0.01172922, 0.011710831, 0.011691955, 0.011673517, 0.011653419, 0.01163765, 0.011622496, 0.011612131, 0.011611885, 0.0116096055, 0.011606922, 0.011605503, 0.011604639, 0.011604679, 0.011605198, 0.011603606, 0.011603078, 0.011602116, 0.011601338, 0.011600834, 0.0116005335]\n"
          ]
        },
        {
          "output_type": "stream",
          "name": "stderr",
          "text": [
            ""
          ]
        },
        {
          "output_type": "stream",
          "name": "stdout",
          "text": [
            "Epoch 24, total_loss=0.8832, reg_loss = 0.8513\n",
            "   13.13 s in train({'n_hidden_rhs': [], '..., ConditionalAutoEncoder..., cpu, <torch.utils.data.data..., AdamW ( Parameter Grou..., MSELoss(), 24, max_norm=1)\n",
            "   11.17 s in test({'n_hidden_rhs': [], '..., ConditionalAutoEncoder..., cpu, <torch.utils.data.data..., MSELoss())\n",
            "    2.41 s in test({'n_hidden_rhs': [], '..., ConditionalAutoEncoder..., cpu, <torch.utils.data.data..., MSELoss())\n",
            "Train MSE: 0.031461004\n",
            "Valid MSE: 0.011599866\n",
            "Next Learning Rate: 0.00025\n",
            "[0.4529304, 0.16559307, 0.08404425, 0.061111383, 0.050918654, 0.045302257, 0.04140868, 0.03925662, 0.037548237, 0.03623722, 0.03560613, 0.03484409, 0.03419875, 0.0337113, 0.033230055, 0.032742992, 0.03233848, 0.03224404, 0.032043822, 0.031962592, 0.031889606, 0.031763382, 0.031623546, 0.031538293]\n",
            "[0.011758155, 0.011743277, 0.01172922, 0.011710831, 0.011691955, 0.011673517, 0.011653419, 0.01163765, 0.011622496, 0.011612131, 0.011611885, 0.0116096055, 0.011606922, 0.011605503, 0.011604639, 0.011604679, 0.011605198, 0.011603606, 0.011603078, 0.011602116, 0.011601338, 0.011600834, 0.0116005335, 0.011600169]\n"
          ]
        },
        {
          "output_type": "stream",
          "name": "stderr",
          "text": [
            ""
          ]
        },
        {
          "output_type": "stream",
          "name": "stdout",
          "text": [
            "Epoch 25, total_loss=0.8683, reg_loss = 0.8360\n",
            "   13.34 s in train({'n_hidden_rhs': [], '..., ConditionalAutoEncoder..., cpu, <torch.utils.data.data..., AdamW ( Parameter Grou..., MSELoss(), 25, max_norm=1)\n",
            "   11.22 s in test({'n_hidden_rhs': [], '..., ConditionalAutoEncoder..., cpu, <torch.utils.data.data..., MSELoss())\n",
            "    2.42 s in test({'n_hidden_rhs': [], '..., ConditionalAutoEncoder..., cpu, <torch.utils.data.data..., MSELoss())\n",
            "Train MSE: 0.031277783\n",
            "Valid MSE: 0.011599683\n",
            "Next Learning Rate: 0.00025\n",
            "[0.4529304, 0.16559307, 0.08404425, 0.061111383, 0.050918654, 0.045302257, 0.04140868, 0.03925662, 0.037548237, 0.03623722, 0.03560613, 0.03484409, 0.03419875, 0.0337113, 0.033230055, 0.032742992, 0.03233848, 0.03224404, 0.032043822, 0.031962592, 0.031889606, 0.031763382, 0.031623546, 0.031538293, 0.031461004]\n",
            "[0.011758155, 0.011743277, 0.01172922, 0.011710831, 0.011691955, 0.011673517, 0.011653419, 0.01163765, 0.011622496, 0.011612131, 0.011611885, 0.0116096055, 0.011606922, 0.011605503, 0.011604639, 0.011604679, 0.011605198, 0.011603606, 0.011603078, 0.011602116, 0.011601338, 0.011600834, 0.0116005335, 0.011600169, 0.011599866]\n"
          ]
        },
        {
          "output_type": "stream",
          "name": "stderr",
          "text": [
            ""
          ]
        },
        {
          "output_type": "stream",
          "name": "stdout",
          "text": [
            "Epoch 26, total_loss=0.8529, reg_loss = 0.8209\n",
            "   13.20 s in train({'n_hidden_rhs': [], '..., ConditionalAutoEncoder..., cpu, <torch.utils.data.data..., AdamW ( Parameter Grou..., MSELoss(), 26, max_norm=1)\n",
            "   10.94 s in test({'n_hidden_rhs': [], '..., ConditionalAutoEncoder..., cpu, <torch.utils.data.data..., MSELoss())\n",
            "    2.35 s in test({'n_hidden_rhs': [], '..., ConditionalAutoEncoder..., cpu, <torch.utils.data.data..., MSELoss())\n",
            "Train MSE: 0.0311556\n",
            "Valid MSE: 0.011599567\n",
            "Next Learning Rate: 0.00025\n",
            "[0.4529304, 0.16559307, 0.08404425, 0.061111383, 0.050918654, 0.045302257, 0.04140868, 0.03925662, 0.037548237, 0.03623722, 0.03560613, 0.03484409, 0.03419875, 0.0337113, 0.033230055, 0.032742992, 0.03233848, 0.03224404, 0.032043822, 0.031962592, 0.031889606, 0.031763382, 0.031623546, 0.031538293, 0.031461004, 0.031277783]\n",
            "[0.011758155, 0.011743277, 0.01172922, 0.011710831, 0.011691955, 0.011673517, 0.011653419, 0.01163765, 0.011622496, 0.011612131, 0.011611885, 0.0116096055, 0.011606922, 0.011605503, 0.011604639, 0.011604679, 0.011605198, 0.011603606, 0.011603078, 0.011602116, 0.011601338, 0.011600834, 0.0116005335, 0.011600169, 0.011599866, 0.011599683]\n"
          ]
        },
        {
          "output_type": "stream",
          "name": "stderr",
          "text": [
            ""
          ]
        },
        {
          "output_type": "stream",
          "name": "stdout",
          "text": [
            "Epoch 27, total_loss=0.8368, reg_loss = 0.8062\n",
            "   13.24 s in train({'n_hidden_rhs': [], '..., ConditionalAutoEncoder..., cpu, <torch.utils.data.data..., AdamW ( Parameter Grou..., MSELoss(), 27, max_norm=1)\n",
            "   10.88 s in test({'n_hidden_rhs': [], '..., ConditionalAutoEncoder..., cpu, <torch.utils.data.data..., MSELoss())\n",
            "    2.33 s in test({'n_hidden_rhs': [], '..., ConditionalAutoEncoder..., cpu, <torch.utils.data.data..., MSELoss())\n",
            "Train MSE: 0.03095945\n",
            "Valid MSE: 0.011599439\n",
            "Next Learning Rate: 0.00025\n",
            "[0.4529304, 0.16559307, 0.08404425, 0.061111383, 0.050918654, 0.045302257, 0.04140868, 0.03925662, 0.037548237, 0.03623722, 0.03560613, 0.03484409, 0.03419875, 0.0337113, 0.033230055, 0.032742992, 0.03233848, 0.03224404, 0.032043822, 0.031962592, 0.031889606, 0.031763382, 0.031623546, 0.031538293, 0.031461004, 0.031277783, 0.0311556]\n",
            "[0.011758155, 0.011743277, 0.01172922, 0.011710831, 0.011691955, 0.011673517, 0.011653419, 0.01163765, 0.011622496, 0.011612131, 0.011611885, 0.0116096055, 0.011606922, 0.011605503, 0.011604639, 0.011604679, 0.011605198, 0.011603606, 0.011603078, 0.011602116, 0.011601338, 0.011600834, 0.0116005335, 0.011600169, 0.011599866, 0.011599683, 0.011599567]\n"
          ]
        },
        {
          "output_type": "stream",
          "name": "stderr",
          "text": [
            ""
          ]
        },
        {
          "output_type": "stream",
          "name": "stdout",
          "text": [
            "Epoch 28, total_loss=0.8229, reg_loss = 0.7916\n",
            "   13.21 s in train({'n_hidden_rhs': [], '..., ConditionalAutoEncoder..., cpu, <torch.utils.data.data..., AdamW ( Parameter Grou..., MSELoss(), 28, max_norm=1)\n",
            "   11.15 s in test({'n_hidden_rhs': [], '..., ConditionalAutoEncoder..., cpu, <torch.utils.data.data..., MSELoss())\n",
            "    2.34 s in test({'n_hidden_rhs': [], '..., ConditionalAutoEncoder..., cpu, <torch.utils.data.data..., MSELoss())\n",
            "Train MSE: 0.030830843\n",
            "Valid MSE: 0.011599522\n",
            "Next Learning Rate: 0.00025\n",
            "[0.4529304, 0.16559307, 0.08404425, 0.061111383, 0.050918654, 0.045302257, 0.04140868, 0.03925662, 0.037548237, 0.03623722, 0.03560613, 0.03484409, 0.03419875, 0.0337113, 0.033230055, 0.032742992, 0.03233848, 0.03224404, 0.032043822, 0.031962592, 0.031889606, 0.031763382, 0.031623546, 0.031538293, 0.031461004, 0.031277783, 0.0311556, 0.03095945]\n",
            "[0.011758155, 0.011743277, 0.01172922, 0.011710831, 0.011691955, 0.011673517, 0.011653419, 0.01163765, 0.011622496, 0.011612131, 0.011611885, 0.0116096055, 0.011606922, 0.011605503, 0.011604639, 0.011604679, 0.011605198, 0.011603606, 0.011603078, 0.011602116, 0.011601338, 0.011600834, 0.0116005335, 0.011600169, 0.011599866, 0.011599683, 0.011599567, 0.011599439]\n"
          ]
        },
        {
          "output_type": "stream",
          "name": "stderr",
          "text": [
            ""
          ]
        },
        {
          "output_type": "stream",
          "name": "stdout",
          "text": [
            "Epoch 29, total_loss=0.8081, reg_loss = 0.7773\n",
            "   13.04 s in train({'n_hidden_rhs': [], '..., ConditionalAutoEncoder..., cpu, <torch.utils.data.data..., AdamW ( Parameter Grou..., MSELoss(), 29, max_norm=1)\n",
            "   11.13 s in test({'n_hidden_rhs': [], '..., ConditionalAutoEncoder..., cpu, <torch.utils.data.data..., MSELoss())\n",
            "    2.46 s in test({'n_hidden_rhs': [], '..., ConditionalAutoEncoder..., cpu, <torch.utils.data.data..., MSELoss())\n",
            "Train MSE: 0.030696291\n",
            "Valid MSE: 0.011599471\n",
            "Next Learning Rate: 0.00025\n",
            "[0.4529304, 0.16559307, 0.08404425, 0.061111383, 0.050918654, 0.045302257, 0.04140868, 0.03925662, 0.037548237, 0.03623722, 0.03560613, 0.03484409, 0.03419875, 0.0337113, 0.033230055, 0.032742992, 0.03233848, 0.03224404, 0.032043822, 0.031962592, 0.031889606, 0.031763382, 0.031623546, 0.031538293, 0.031461004, 0.031277783, 0.0311556, 0.03095945, 0.030830843]\n",
            "[0.011758155, 0.011743277, 0.01172922, 0.011710831, 0.011691955, 0.011673517, 0.011653419, 0.01163765, 0.011622496, 0.011612131, 0.011611885, 0.0116096055, 0.011606922, 0.011605503, 0.011604639, 0.011604679, 0.011605198, 0.011603606, 0.011603078, 0.011602116, 0.011601338, 0.011600834, 0.0116005335, 0.011600169, 0.011599866, 0.011599683, 0.011599567, 0.011599439, 0.011599522]\n"
          ]
        },
        {
          "output_type": "stream",
          "name": "stderr",
          "text": [
            ""
          ]
        },
        {
          "output_type": "stream",
          "name": "stdout",
          "text": [
            "Epoch 30, total_loss=0.7938, reg_loss = 0.7633\n",
            "   13.28 s in train({'n_hidden_rhs': [], '..., ConditionalAutoEncoder..., cpu, <torch.utils.data.data..., AdamW ( Parameter Grou..., MSELoss(), 30, max_norm=1)\n",
            "   11.49 s in test({'n_hidden_rhs': [], '..., ConditionalAutoEncoder..., cpu, <torch.utils.data.data..., MSELoss())\n",
            "    2.32 s in test({'n_hidden_rhs': [], '..., ConditionalAutoEncoder..., cpu, <torch.utils.data.data..., MSELoss())\n",
            "Train MSE: 0.030624475\n",
            "Valid MSE: 0.011599491\n",
            "Next Learning Rate: 0.00025\n",
            "[0.4529304, 0.16559307, 0.08404425, 0.061111383, 0.050918654, 0.045302257, 0.04140868, 0.03925662, 0.037548237, 0.03623722, 0.03560613, 0.03484409, 0.03419875, 0.0337113, 0.033230055, 0.032742992, 0.03233848, 0.03224404, 0.032043822, 0.031962592, 0.031889606, 0.031763382, 0.031623546, 0.031538293, 0.031461004, 0.031277783, 0.0311556, 0.03095945, 0.030830843, 0.030696291]\n",
            "[0.011758155, 0.011743277, 0.01172922, 0.011710831, 0.011691955, 0.011673517, 0.011653419, 0.01163765, 0.011622496, 0.011612131, 0.011611885, 0.0116096055, 0.011606922, 0.011605503, 0.011604639, 0.011604679, 0.011605198, 0.011603606, 0.011603078, 0.011602116, 0.011601338, 0.011600834, 0.0116005335, 0.011600169, 0.011599866, 0.011599683, 0.011599567, 0.011599439, 0.011599522, 0.011599471]\n"
          ]
        },
        {
          "output_type": "stream",
          "name": "stderr",
          "text": [
            ""
          ]
        },
        {
          "output_type": "stream",
          "name": "stdout",
          "text": [
            "Epoch 31, total_loss=0.7807, reg_loss = 0.7495\n",
            "   13.04 s in train({'n_hidden_rhs': [], '..., ConditionalAutoEncoder..., cpu, <torch.utils.data.data..., AdamW ( Parameter Grou..., MSELoss(), 31, max_norm=1)\n",
            "   10.79 s in test({'n_hidden_rhs': [], '..., ConditionalAutoEncoder..., cpu, <torch.utils.data.data..., MSELoss())\n",
            "    2.34 s in test({'n_hidden_rhs': [], '..., ConditionalAutoEncoder..., cpu, <torch.utils.data.data..., MSELoss())\n",
            "Train MSE: 0.030550512\n",
            "Valid MSE: 0.0115995435\n",
            "Next Learning Rate: 0.00025\n",
            "[0.4529304, 0.16559307, 0.08404425, 0.061111383, 0.050918654, 0.045302257, 0.04140868, 0.03925662, 0.037548237, 0.03623722, 0.03560613, 0.03484409, 0.03419875, 0.0337113, 0.033230055, 0.032742992, 0.03233848, 0.03224404, 0.032043822, 0.031962592, 0.031889606, 0.031763382, 0.031623546, 0.031538293, 0.031461004, 0.031277783, 0.0311556, 0.03095945, 0.030830843, 0.030696291, 0.030624475]\n",
            "[0.011758155, 0.011743277, 0.01172922, 0.011710831, 0.011691955, 0.011673517, 0.011653419, 0.01163765, 0.011622496, 0.011612131, 0.011611885, 0.0116096055, 0.011606922, 0.011605503, 0.011604639, 0.011604679, 0.011605198, 0.011603606, 0.011603078, 0.011602116, 0.011601338, 0.011600834, 0.0116005335, 0.011600169, 0.011599866, 0.011599683, 0.011599567, 0.011599439, 0.011599522, 0.011599471, 0.011599491]\n"
          ]
        },
        {
          "output_type": "stream",
          "name": "stderr",
          "text": [
            ""
          ]
        },
        {
          "output_type": "stream",
          "name": "stdout",
          "text": [
            "Epoch 32, total_loss=0.7665, reg_loss = 0.7359\n",
            "   12.95 s in train({'n_hidden_rhs': [], '..., ConditionalAutoEncoder..., cpu, <torch.utils.data.data..., AdamW ( Parameter Grou..., MSELoss(), 32, max_norm=1)\n",
            "   11.03 s in test({'n_hidden_rhs': [], '..., ConditionalAutoEncoder..., cpu, <torch.utils.data.data..., MSELoss())\n",
            "    2.37 s in test({'n_hidden_rhs': [], '..., ConditionalAutoEncoder..., cpu, <torch.utils.data.data..., MSELoss())\n",
            "Train MSE: 0.030513784\n",
            "Valid MSE: 0.011599605\n",
            "Next Learning Rate: 0.00025\n",
            "[0.4529304, 0.16559307, 0.08404425, 0.061111383, 0.050918654, 0.045302257, 0.04140868, 0.03925662, 0.037548237, 0.03623722, 0.03560613, 0.03484409, 0.03419875, 0.0337113, 0.033230055, 0.032742992, 0.03233848, 0.03224404, 0.032043822, 0.031962592, 0.031889606, 0.031763382, 0.031623546, 0.031538293, 0.031461004, 0.031277783, 0.0311556, 0.03095945, 0.030830843, 0.030696291, 0.030624475, 0.030550512]\n",
            "[0.011758155, 0.011743277, 0.01172922, 0.011710831, 0.011691955, 0.011673517, 0.011653419, 0.01163765, 0.011622496, 0.011612131, 0.011611885, 0.0116096055, 0.011606922, 0.011605503, 0.011604639, 0.011604679, 0.011605198, 0.011603606, 0.011603078, 0.011602116, 0.011601338, 0.011600834, 0.0116005335, 0.011600169, 0.011599866, 0.011599683, 0.011599567, 0.011599439, 0.011599522, 0.011599471, 0.011599491, 0.0115995435]\n",
            "Training done. Evaluating...\n"
          ]
        },
        {
          "output_type": "stream",
          "name": "stderr",
          "text": [
            "100%|██████████| 6/6 [00:03<00:00,  1.58it/s]\n",
            "100%|██████████| 4/4 [00:02<00:00,  1.69it/s]\n"
          ]
        },
        {
          "output_type": "stream",
          "name": "stdout",
          "text": [
            "ConditionalAutoEncoder(\n",
            "  (macro): Sequential(\n",
            "    (0): Linear(in_features=147, out_features=16, bias=True)\n",
            "    (1): SELU()\n",
            "    (2): LayerNorm((16,), eps=1e-05, elementwise_affine=True)\n",
            "    (3): Linear(in_features=16, out_features=8, bias=True)\n",
            "    (4): SELU()\n",
            "    (5): LayerNorm((8,), eps=1e-05, elementwise_affine=True)\n",
            "    (6): Linear(in_features=8, out_features=4, bias=True)\n",
            "  )\n",
            "  (macro_lstm): LSTM(4, 4, num_layers=2)\n",
            "  (lhs): Sequential(\n",
            "    (0): Linear(in_features=45, out_features=24, bias=True)\n",
            "    (1): SELU()\n",
            "    (2): LayerNorm((24,), eps=1e-05, elementwise_affine=True)\n",
            "    (3): Linear(in_features=24, out_features=12, bias=True)\n",
            "    (4): SELU()\n",
            "    (5): LayerNorm((12,), eps=1e-05, elementwise_affine=True)\n",
            "    (6): Linear(in_features=12, out_features=4, bias=True)\n",
            "  )\n",
            "  (rhs): Sequential(\n",
            "    (0): Linear(in_features=46, out_features=4, bias=True)\n",
            "  )\n",
            ")\n",
            "   11.02 s in test({'n_hidden_rhs': [], '..., ConditionalAutoEncoder..., cpu, <torch.utils.data.data..., MSELoss())\n",
            "    2.37 s in test({'n_hidden_rhs': [], '..., ConditionalAutoEncoder..., cpu, <torch.utils.data.data..., MSELoss())\n",
            "Pre-Train Train MSE: 0.21701144\n",
            "Pre-Train Valid MSE: 0.011604551\n"
          ]
        },
        {
          "output_type": "stream",
          "name": "stderr",
          "text": [
            ""
          ]
        },
        {
          "output_type": "stream",
          "name": "stdout",
          "text": [
            "Epoch 1, total_loss=2.2778, reg_loss = 2.1175\n",
            "   13.16 s in train({'n_hidden_rhs': [], '..., ConditionalAutoEncoder..., cpu, <torch.utils.data.data..., AdamW ( Parameter Grou..., MSELoss(), 1, max_norm=1)\n",
            "   11.02 s in test({'n_hidden_rhs': [], '..., ConditionalAutoEncoder..., cpu, <torch.utils.data.data..., MSELoss())\n",
            "    2.36 s in test({'n_hidden_rhs': [], '..., ConditionalAutoEncoder..., cpu, <torch.utils.data.data..., MSELoss())\n",
            "Train MSE: 0.11103087\n",
            "Valid MSE: 0.011592902\n",
            "Next Learning Rate: 0.0005\n",
            "[0.21701144]\n",
            "[0.011604551]\n"
          ]
        },
        {
          "output_type": "stream",
          "name": "stderr",
          "text": [
            ""
          ]
        },
        {
          "output_type": "stream",
          "name": "stdout",
          "text": [
            "Epoch 2, total_loss=2.0902, reg_loss = 1.9942\n",
            "   13.28 s in train({'n_hidden_rhs': [], '..., ConditionalAutoEncoder..., cpu, <torch.utils.data.data..., AdamW ( Parameter Grou..., MSELoss(), 2, max_norm=1)\n",
            "   11.15 s in test({'n_hidden_rhs': [], '..., ConditionalAutoEncoder..., cpu, <torch.utils.data.data..., MSELoss())\n",
            "    2.38 s in test({'n_hidden_rhs': [], '..., ConditionalAutoEncoder..., cpu, <torch.utils.data.data..., MSELoss())\n",
            "Train MSE: 0.07301534\n",
            "Valid MSE: 0.011585325\n",
            "Next Learning Rate: 0.0005\n",
            "[0.21701144, 0.11103087]\n",
            "[0.011604551, 0.011592902]\n"
          ]
        },
        {
          "output_type": "stream",
          "name": "stderr",
          "text": [
            ""
          ]
        },
        {
          "output_type": "stream",
          "name": "stdout",
          "text": [
            "Epoch 3, total_loss=1.9374, reg_loss = 1.8758\n",
            "   13.35 s in train({'n_hidden_rhs': [], '..., ConditionalAutoEncoder..., cpu, <torch.utils.data.data..., AdamW ( Parameter Grou..., MSELoss(), 3, max_norm=1)\n",
            "   11.18 s in test({'n_hidden_rhs': [], '..., ConditionalAutoEncoder..., cpu, <torch.utils.data.data..., MSELoss())\n",
            "    2.39 s in test({'n_hidden_rhs': [], '..., ConditionalAutoEncoder..., cpu, <torch.utils.data.data..., MSELoss())\n",
            "Train MSE: 0.05401988\n",
            "Valid MSE: 0.011579525\n",
            "Next Learning Rate: 0.0005\n",
            "[0.21701144, 0.11103087, 0.07301534]\n",
            "[0.011604551, 0.011592902, 0.011585325]\n"
          ]
        },
        {
          "output_type": "stream",
          "name": "stderr",
          "text": [
            ""
          ]
        },
        {
          "output_type": "stream",
          "name": "stdout",
          "text": [
            "Epoch 4, total_loss=1.8145, reg_loss = 1.7634\n",
            "   13.51 s in train({'n_hidden_rhs': [], '..., ConditionalAutoEncoder..., cpu, <torch.utils.data.data..., AdamW ( Parameter Grou..., MSELoss(), 4, max_norm=1)\n",
            "   11.24 s in test({'n_hidden_rhs': [], '..., ConditionalAutoEncoder..., cpu, <torch.utils.data.data..., MSELoss())\n",
            "    2.41 s in test({'n_hidden_rhs': [], '..., ConditionalAutoEncoder..., cpu, <torch.utils.data.data..., MSELoss())\n",
            "Train MSE: 0.045870624\n",
            "Valid MSE: 0.011573872\n",
            "Next Learning Rate: 0.0005\n",
            "[0.21701144, 0.11103087, 0.07301534, 0.05401988]\n",
            "[0.011604551, 0.011592902, 0.011585325, 0.011579525]\n"
          ]
        },
        {
          "output_type": "stream",
          "name": "stderr",
          "text": [
            ""
          ]
        },
        {
          "output_type": "stream",
          "name": "stdout",
          "text": [
            "Epoch 5, total_loss=1.7023, reg_loss = 1.6572\n",
            "   13.24 s in train({'n_hidden_rhs': [], '..., ConditionalAutoEncoder..., cpu, <torch.utils.data.data..., AdamW ( Parameter Grou..., MSELoss(), 5, max_norm=1)\n",
            "   11.31 s in test({'n_hidden_rhs': [], '..., ConditionalAutoEncoder..., cpu, <torch.utils.data.data..., MSELoss())\n",
            "    2.44 s in test({'n_hidden_rhs': [], '..., ConditionalAutoEncoder..., cpu, <torch.utils.data.data..., MSELoss())\n",
            "Train MSE: 0.040804375\n",
            "Valid MSE: 0.011569286\n",
            "Next Learning Rate: 0.0005\n",
            "[0.21701144, 0.11103087, 0.07301534, 0.05401988, 0.045870624]\n",
            "[0.011604551, 0.011592902, 0.011585325, 0.011579525, 0.011573872]\n"
          ]
        },
        {
          "output_type": "stream",
          "name": "stderr",
          "text": [
            ""
          ]
        },
        {
          "output_type": "stream",
          "name": "stdout",
          "text": [
            "Epoch 6, total_loss=1.5966, reg_loss = 1.5576\n",
            "   13.38 s in train({'n_hidden_rhs': [], '..., ConditionalAutoEncoder..., cpu, <torch.utils.data.data..., AdamW ( Parameter Grou..., MSELoss(), 6, max_norm=1)\n",
            "   11.43 s in test({'n_hidden_rhs': [], '..., ConditionalAutoEncoder..., cpu, <torch.utils.data.data..., MSELoss())\n",
            "    2.38 s in test({'n_hidden_rhs': [], '..., ConditionalAutoEncoder..., cpu, <torch.utils.data.data..., MSELoss())\n",
            "Train MSE: 0.03733284\n",
            "Valid MSE: 0.01156552\n",
            "Next Learning Rate: 0.0005\n",
            "[0.21701144, 0.11103087, 0.07301534, 0.05401988, 0.045870624, 0.040804375]\n",
            "[0.011604551, 0.011592902, 0.011585325, 0.011579525, 0.011573872, 0.011569286]\n"
          ]
        },
        {
          "output_type": "stream",
          "name": "stderr",
          "text": [
            ""
          ]
        },
        {
          "output_type": "stream",
          "name": "stdout",
          "text": [
            "Epoch 7, total_loss=1.5019, reg_loss = 1.4644\n",
            "   13.61 s in train({'n_hidden_rhs': [], '..., ConditionalAutoEncoder..., cpu, <torch.utils.data.data..., AdamW ( Parameter Grou..., MSELoss(), 7, max_norm=1)\n",
            "   11.54 s in test({'n_hidden_rhs': [], '..., ConditionalAutoEncoder..., cpu, <torch.utils.data.data..., MSELoss())\n",
            "    2.55 s in test({'n_hidden_rhs': [], '..., ConditionalAutoEncoder..., cpu, <torch.utils.data.data..., MSELoss())\n",
            "Train MSE: 0.035722673\n",
            "Valid MSE: 0.011564767\n",
            "Next Learning Rate: 0.0005\n",
            "[0.21701144, 0.11103087, 0.07301534, 0.05401988, 0.045870624, 0.040804375, 0.03733284]\n",
            "[0.011604551, 0.011592902, 0.011585325, 0.011579525, 0.011573872, 0.011569286, 0.01156552]\n"
          ]
        },
        {
          "output_type": "stream",
          "name": "stderr",
          "text": [
            ""
          ]
        },
        {
          "output_type": "stream",
          "name": "stdout",
          "text": [
            "Epoch 8, total_loss=1.4129, reg_loss = 1.3779\n",
            "   13.43 s in train({'n_hidden_rhs': [], '..., ConditionalAutoEncoder..., cpu, <torch.utils.data.data..., AdamW ( Parameter Grou..., MSELoss(), 8, max_norm=1)\n",
            "   11.34 s in test({'n_hidden_rhs': [], '..., ConditionalAutoEncoder..., cpu, <torch.utils.data.data..., MSELoss())\n",
            "    2.41 s in test({'n_hidden_rhs': [], '..., ConditionalAutoEncoder..., cpu, <torch.utils.data.data..., MSELoss())\n",
            "Train MSE: 0.03465759\n",
            "Valid MSE: 0.011564435\n",
            "Next Learning Rate: 0.0005\n",
            "[0.21701144, 0.11103087, 0.07301534, 0.05401988, 0.045870624, 0.040804375, 0.03733284, 0.035722673]\n",
            "[0.011604551, 0.011592902, 0.011585325, 0.011579525, 0.011573872, 0.011569286, 0.01156552, 0.011564767]\n"
          ]
        },
        {
          "output_type": "stream",
          "name": "stderr",
          "text": [
            ""
          ]
        },
        {
          "output_type": "stream",
          "name": "stdout",
          "text": [
            "Epoch 9, total_loss=1.3324, reg_loss = 1.2979\n",
            "   13.62 s in train({'n_hidden_rhs': [], '..., ConditionalAutoEncoder..., cpu, <torch.utils.data.data..., AdamW ( Parameter Grou..., MSELoss(), 9, max_norm=1)\n",
            "   11.52 s in test({'n_hidden_rhs': [], '..., ConditionalAutoEncoder..., cpu, <torch.utils.data.data..., MSELoss())\n",
            "    2.50 s in test({'n_hidden_rhs': [], '..., ConditionalAutoEncoder..., cpu, <torch.utils.data.data..., MSELoss())\n",
            "Train MSE: 0.033768363\n",
            "Valid MSE: 0.011565249\n",
            "Next Learning Rate: 0.0005\n",
            "[0.21701144, 0.11103087, 0.07301534, 0.05401988, 0.045870624, 0.040804375, 0.03733284, 0.035722673, 0.03465759]\n",
            "[0.011604551, 0.011592902, 0.011585325, 0.011579525, 0.011573872, 0.011569286, 0.01156552, 0.011564767, 0.011564435]\n"
          ]
        },
        {
          "output_type": "stream",
          "name": "stderr",
          "text": [
            ""
          ]
        },
        {
          "output_type": "stream",
          "name": "stdout",
          "text": [
            "Epoch 10, total_loss=1.2580, reg_loss = 1.2243\n",
            "   13.69 s in train({'n_hidden_rhs': [], '..., ConditionalAutoEncoder..., cpu, <torch.utils.data.data..., AdamW ( Parameter Grou..., MSELoss(), 10, max_norm=1)\n",
            "   11.30 s in test({'n_hidden_rhs': [], '..., ConditionalAutoEncoder..., cpu, <torch.utils.data.data..., MSELoss())\n",
            "    2.33 s in test({'n_hidden_rhs': [], '..., ConditionalAutoEncoder..., cpu, <torch.utils.data.data..., MSELoss())\n",
            "Train MSE: 0.03293015\n",
            "Valid MSE: 0.011567389\n",
            "Next Learning Rate: 0.0005\n",
            "[0.21701144, 0.11103087, 0.07301534, 0.05401988, 0.045870624, 0.040804375, 0.03733284, 0.035722673, 0.03465759, 0.033768363]\n",
            "[0.011604551, 0.011592902, 0.011585325, 0.011579525, 0.011573872, 0.011569286, 0.01156552, 0.011564767, 0.011564435, 0.011565249]\n"
          ]
        },
        {
          "output_type": "stream",
          "name": "stderr",
          "text": [
            ""
          ]
        },
        {
          "output_type": "stream",
          "name": "stdout",
          "text": [
            "Epoch 11, total_loss=1.1885, reg_loss = 1.1560\n",
            "   13.32 s in train({'n_hidden_rhs': [], '..., ConditionalAutoEncoder..., cpu, <torch.utils.data.data..., AdamW ( Parameter Grou..., MSELoss(), 11, max_norm=1)\n",
            "   10.98 s in test({'n_hidden_rhs': [], '..., ConditionalAutoEncoder..., cpu, <torch.utils.data.data..., MSELoss())\n",
            "    2.35 s in test({'n_hidden_rhs': [], '..., ConditionalAutoEncoder..., cpu, <torch.utils.data.data..., MSELoss())\n",
            "Train MSE: 0.03214036\n",
            "Valid MSE: 0.011571184\n",
            "Next Learning Rate: 0.0005\n",
            "[0.21701144, 0.11103087, 0.07301534, 0.05401988, 0.045870624, 0.040804375, 0.03733284, 0.035722673, 0.03465759, 0.033768363, 0.03293015]\n",
            "[0.011604551, 0.011592902, 0.011585325, 0.011579525, 0.011573872, 0.011569286, 0.01156552, 0.011564767, 0.011564435, 0.011565249, 0.011567389]\n",
            "Training done. Evaluating...\n"
          ]
        },
        {
          "output_type": "stream",
          "name": "stderr",
          "text": [
            "100%|██████████| 6/6 [00:03<00:00,  1.59it/s]\n",
            "100%|██████████| 4/4 [00:02<00:00,  1.66it/s]\n"
          ]
        },
        {
          "output_type": "stream",
          "name": "stdout",
          "text": [
            "ConditionalAutoEncoder(\n",
            "  (macro): Sequential(\n",
            "    (0): Linear(in_features=147, out_features=16, bias=True)\n",
            "    (1): SELU()\n",
            "    (2): LayerNorm((16,), eps=1e-05, elementwise_affine=True)\n",
            "    (3): Linear(in_features=16, out_features=8, bias=True)\n",
            "    (4): SELU()\n",
            "    (5): LayerNorm((8,), eps=1e-05, elementwise_affine=True)\n",
            "    (6): Linear(in_features=8, out_features=4, bias=True)\n",
            "  )\n",
            "  (macro_lstm): LSTM(4, 4, num_layers=2)\n",
            "  (lhs): Sequential(\n",
            "    (0): Linear(in_features=45, out_features=24, bias=True)\n",
            "    (1): SELU()\n",
            "    (2): LayerNorm((24,), eps=1e-05, elementwise_affine=True)\n",
            "    (3): Linear(in_features=24, out_features=12, bias=True)\n",
            "    (4): SELU()\n",
            "    (5): LayerNorm((12,), eps=1e-05, elementwise_affine=True)\n",
            "    (6): Linear(in_features=12, out_features=4, bias=True)\n",
            "  )\n",
            "  (rhs): Sequential(\n",
            "    (0): Linear(in_features=46, out_features=4, bias=True)\n",
            "  )\n",
            ")\n",
            "   11.84 s in test({'n_hidden_rhs': [], '..., ConditionalAutoEncoder..., cpu, <torch.utils.data.data..., MSELoss())\n",
            "    4.17 s in test({'n_hidden_rhs': [], '..., ConditionalAutoEncoder..., cpu, <torch.utils.data.data..., MSELoss())\n",
            "Pre-Train Train MSE: 1.2856025\n",
            "Pre-Train Valid MSE: 0.011895817\n"
          ]
        },
        {
          "output_type": "stream",
          "name": "stderr",
          "text": [
            ""
          ]
        },
        {
          "output_type": "stream",
          "name": "stdout",
          "text": [
            "Epoch 1, total_loss=2.9237, reg_loss = 2.1099\n",
            "   13.42 s in train({'n_hidden_rhs': [], '..., ConditionalAutoEncoder..., cpu, <torch.utils.data.data..., AdamW ( Parameter Grou..., MSELoss(), 1, max_norm=1)\n",
            "   12.03 s in test({'n_hidden_rhs': [], '..., ConditionalAutoEncoder..., cpu, <torch.utils.data.data..., MSELoss())\n",
            "    2.32 s in test({'n_hidden_rhs': [], '..., ConditionalAutoEncoder..., cpu, <torch.utils.data.data..., MSELoss())\n",
            "Train MSE: 0.49462646\n",
            "Valid MSE: 0.01190917\n",
            "Next Learning Rate: 0.0005\n",
            "[1.2856025]\n",
            "[0.011895817]\n"
          ]
        },
        {
          "output_type": "stream",
          "name": "stderr",
          "text": [
            ""
          ]
        },
        {
          "output_type": "stream",
          "name": "stdout",
          "text": [
            "Epoch 2, total_loss=2.3611, reg_loss = 2.0151\n",
            "   13.05 s in train({'n_hidden_rhs': [], '..., ConditionalAutoEncoder..., cpu, <torch.utils.data.data..., AdamW ( Parameter Grou..., MSELoss(), 2, max_norm=1)\n",
            "   10.94 s in test({'n_hidden_rhs': [], '..., ConditionalAutoEncoder..., cpu, <torch.utils.data.data..., MSELoss())\n",
            "    2.31 s in test({'n_hidden_rhs': [], '..., ConditionalAutoEncoder..., cpu, <torch.utils.data.data..., MSELoss())\n",
            "Train MSE: 0.23046075\n",
            "Valid MSE: 0.011902466\n",
            "Next Learning Rate: 0.0005\n",
            "[1.2856025, 0.49462646]\n",
            "[0.011895817, 0.01190917]\n"
          ]
        },
        {
          "output_type": "stream",
          "name": "stderr",
          "text": [
            ""
          ]
        },
        {
          "output_type": "stream",
          "name": "stdout",
          "text": [
            "Epoch 3, total_loss=2.0949, reg_loss = 1.9249\n",
            "   13.10 s in train({'n_hidden_rhs': [], '..., ConditionalAutoEncoder..., cpu, <torch.utils.data.data..., AdamW ( Parameter Grou..., MSELoss(), 3, max_norm=1)\n",
            "   10.93 s in test({'n_hidden_rhs': [], '..., ConditionalAutoEncoder..., cpu, <torch.utils.data.data..., MSELoss())\n",
            "    2.35 s in test({'n_hidden_rhs': [], '..., ConditionalAutoEncoder..., cpu, <torch.utils.data.data..., MSELoss())\n",
            "Train MSE: 0.12003133\n",
            "Valid MSE: 0.011882766\n",
            "Next Learning Rate: 0.0005\n",
            "[1.2856025, 0.49462646, 0.23046075]\n",
            "[0.011895817, 0.01190917, 0.011902466]\n"
          ]
        },
        {
          "output_type": "stream",
          "name": "stderr",
          "text": [
            ""
          ]
        },
        {
          "output_type": "stream",
          "name": "stdout",
          "text": [
            "Epoch 4, total_loss=1.9362, reg_loss = 1.8386\n",
            "   13.13 s in train({'n_hidden_rhs': [], '..., ConditionalAutoEncoder..., cpu, <torch.utils.data.data..., AdamW ( Parameter Grou..., MSELoss(), 4, max_norm=1)\n",
            "   11.21 s in test({'n_hidden_rhs': [], '..., ConditionalAutoEncoder..., cpu, <torch.utils.data.data..., MSELoss())\n",
            "    2.29 s in test({'n_hidden_rhs': [], '..., ConditionalAutoEncoder..., cpu, <torch.utils.data.data..., MSELoss())\n",
            "Train MSE: 0.083263375\n",
            "Valid MSE: 0.011861782\n",
            "Next Learning Rate: 0.0005\n",
            "[1.2856025, 0.49462646, 0.23046075, 0.12003133]\n",
            "[0.011895817, 0.01190917, 0.011902466, 0.011882766]\n"
          ]
        },
        {
          "output_type": "stream",
          "name": "stderr",
          "text": [
            ""
          ]
        },
        {
          "output_type": "stream",
          "name": "stdout",
          "text": [
            "Epoch 5, total_loss=1.8349, reg_loss = 1.7574\n",
            "   13.38 s in train({'n_hidden_rhs': [], '..., ConditionalAutoEncoder..., cpu, <torch.utils.data.data..., AdamW ( Parameter Grou..., MSELoss(), 5, max_norm=1)\n",
            "   11.04 s in test({'n_hidden_rhs': [], '..., ConditionalAutoEncoder..., cpu, <torch.utils.data.data..., MSELoss())\n",
            "    2.37 s in test({'n_hidden_rhs': [], '..., ConditionalAutoEncoder..., cpu, <torch.utils.data.data..., MSELoss())\n",
            "Train MSE: 0.06203448\n",
            "Valid MSE: 0.011839756\n",
            "Next Learning Rate: 0.0005\n",
            "[1.2856025, 0.49462646, 0.23046075, 0.12003133, 0.083263375]\n",
            "[0.011895817, 0.01190917, 0.011902466, 0.011882766, 0.011861782]\n"
          ]
        },
        {
          "output_type": "stream",
          "name": "stderr",
          "text": [
            ""
          ]
        },
        {
          "output_type": "stream",
          "name": "stdout",
          "text": [
            "Epoch 6, total_loss=1.7380, reg_loss = 1.6819\n",
            "   13.31 s in train({'n_hidden_rhs': [], '..., ConditionalAutoEncoder..., cpu, <torch.utils.data.data..., AdamW ( Parameter Grou..., MSELoss(), 6, max_norm=1)\n",
            "   11.12 s in test({'n_hidden_rhs': [], '..., ConditionalAutoEncoder..., cpu, <torch.utils.data.data..., MSELoss())\n",
            "    2.42 s in test({'n_hidden_rhs': [], '..., ConditionalAutoEncoder..., cpu, <torch.utils.data.data..., MSELoss())\n",
            "Train MSE: 0.051371116\n",
            "Valid MSE: 0.011816554\n",
            "Next Learning Rate: 0.0005\n",
            "[1.2856025, 0.49462646, 0.23046075, 0.12003133, 0.083263375, 0.06203448]\n",
            "[0.011895817, 0.01190917, 0.011902466, 0.011882766, 0.011861782, 0.011839756]\n"
          ]
        },
        {
          "output_type": "stream",
          "name": "stderr",
          "text": [
            ""
          ]
        },
        {
          "output_type": "stream",
          "name": "stdout",
          "text": [
            "Epoch 7, total_loss=1.6596, reg_loss = 1.6113\n",
            "   13.36 s in train({'n_hidden_rhs': [], '..., ConditionalAutoEncoder..., cpu, <torch.utils.data.data..., AdamW ( Parameter Grou..., MSELoss(), 7, max_norm=1)\n",
            "   11.27 s in test({'n_hidden_rhs': [], '..., ConditionalAutoEncoder..., cpu, <torch.utils.data.data..., MSELoss())\n",
            "    2.33 s in test({'n_hidden_rhs': [], '..., ConditionalAutoEncoder..., cpu, <torch.utils.data.data..., MSELoss())\n",
            "Train MSE: 0.045057364\n",
            "Valid MSE: 0.011793043\n",
            "Next Learning Rate: 0.0005\n",
            "[1.2856025, 0.49462646, 0.23046075, 0.12003133, 0.083263375, 0.06203448, 0.051371116]\n",
            "[0.011895817, 0.01190917, 0.011902466, 0.011882766, 0.011861782, 0.011839756, 0.011816554]\n"
          ]
        },
        {
          "output_type": "stream",
          "name": "stderr",
          "text": [
            ""
          ]
        },
        {
          "output_type": "stream",
          "name": "stdout",
          "text": [
            "Epoch 8, total_loss=1.5902, reg_loss = 1.5464\n",
            "   13.08 s in train({'n_hidden_rhs': [], '..., ConditionalAutoEncoder..., cpu, <torch.utils.data.data..., AdamW ( Parameter Grou..., MSELoss(), 8, max_norm=1)\n",
            "   10.96 s in test({'n_hidden_rhs': [], '..., ConditionalAutoEncoder..., cpu, <torch.utils.data.data..., MSELoss())\n",
            "    2.34 s in test({'n_hidden_rhs': [], '..., ConditionalAutoEncoder..., cpu, <torch.utils.data.data..., MSELoss())\n",
            "Train MSE: 0.041577715\n",
            "Valid MSE: 0.011769815\n",
            "Next Learning Rate: 0.0005\n",
            "[1.2856025, 0.49462646, 0.23046075, 0.12003133, 0.083263375, 0.06203448, 0.051371116, 0.045057364]\n",
            "[0.011895817, 0.01190917, 0.011902466, 0.011882766, 0.011861782, 0.011839756, 0.011816554, 0.011793043]\n"
          ]
        },
        {
          "output_type": "stream",
          "name": "stderr",
          "text": [
            ""
          ]
        },
        {
          "output_type": "stream",
          "name": "stdout",
          "text": [
            "Epoch 9, total_loss=1.5264, reg_loss = 1.4865\n",
            "   13.61 s in train({'n_hidden_rhs': [], '..., ConditionalAutoEncoder..., cpu, <torch.utils.data.data..., AdamW ( Parameter Grou..., MSELoss(), 9, max_norm=1)\n",
            "   10.99 s in test({'n_hidden_rhs': [], '..., ConditionalAutoEncoder..., cpu, <torch.utils.data.data..., MSELoss())\n",
            "    2.31 s in test({'n_hidden_rhs': [], '..., ConditionalAutoEncoder..., cpu, <torch.utils.data.data..., MSELoss())\n",
            "Train MSE: 0.03921191\n",
            "Valid MSE: 0.0117460545\n",
            "Next Learning Rate: 0.0005\n",
            "[1.2856025, 0.49462646, 0.23046075, 0.12003133, 0.083263375, 0.06203448, 0.051371116, 0.045057364, 0.041577715]\n",
            "[0.011895817, 0.01190917, 0.011902466, 0.011882766, 0.011861782, 0.011839756, 0.011816554, 0.011793043, 0.011769815]\n"
          ]
        },
        {
          "output_type": "stream",
          "name": "stderr",
          "text": [
            ""
          ]
        },
        {
          "output_type": "stream",
          "name": "stdout",
          "text": [
            "Epoch 10, total_loss=1.4684, reg_loss = 1.4308\n",
            "   13.15 s in train({'n_hidden_rhs': [], '..., ConditionalAutoEncoder..., cpu, <torch.utils.data.data..., AdamW ( Parameter Grou..., MSELoss(), 10, max_norm=1)\n",
            "   10.93 s in test({'n_hidden_rhs': [], '..., ConditionalAutoEncoder..., cpu, <torch.utils.data.data..., MSELoss())\n",
            "    2.32 s in test({'n_hidden_rhs': [], '..., ConditionalAutoEncoder..., cpu, <torch.utils.data.data..., MSELoss())\n",
            "Train MSE: 0.037577305\n",
            "Valid MSE: 0.011725719\n",
            "Next Learning Rate: 0.0005\n",
            "[1.2856025, 0.49462646, 0.23046075, 0.12003133, 0.083263375, 0.06203448, 0.051371116, 0.045057364, 0.041577715, 0.03921191]\n",
            "[0.011895817, 0.01190917, 0.011902466, 0.011882766, 0.011861782, 0.011839756, 0.011816554, 0.011793043, 0.011769815, 0.0117460545]\n"
          ]
        },
        {
          "output_type": "stream",
          "name": "stderr",
          "text": [
            ""
          ]
        },
        {
          "output_type": "stream",
          "name": "stdout",
          "text": [
            "Epoch 11, total_loss=1.4162, reg_loss = 1.3794\n",
            "   13.15 s in train({'n_hidden_rhs': [], '..., ConditionalAutoEncoder..., cpu, <torch.utils.data.data..., AdamW ( Parameter Grou..., MSELoss(), 11, max_norm=1)\n",
            "   11.90 s in test({'n_hidden_rhs': [], '..., ConditionalAutoEncoder..., cpu, <torch.utils.data.data..., MSELoss())\n",
            "    2.33 s in test({'n_hidden_rhs': [], '..., ConditionalAutoEncoder..., cpu, <torch.utils.data.data..., MSELoss())\n",
            "Train MSE: 0.036180113\n",
            "Valid MSE: 0.011705716\n",
            "Next Learning Rate: 0.0005\n",
            "[1.2856025, 0.49462646, 0.23046075, 0.12003133, 0.083263375, 0.06203448, 0.051371116, 0.045057364, 0.041577715, 0.03921191, 0.037577305]\n",
            "[0.011895817, 0.01190917, 0.011902466, 0.011882766, 0.011861782, 0.011839756, 0.011816554, 0.011793043, 0.011769815, 0.0117460545, 0.011725719]\n"
          ]
        },
        {
          "output_type": "stream",
          "name": "stderr",
          "text": [
            ""
          ]
        },
        {
          "output_type": "stream",
          "name": "stdout",
          "text": [
            "Epoch 12, total_loss=1.3680, reg_loss = 1.3319\n",
            "   13.16 s in train({'n_hidden_rhs': [], '..., ConditionalAutoEncoder..., cpu, <torch.utils.data.data..., AdamW ( Parameter Grou..., MSELoss(), 12, max_norm=1)\n",
            "   10.96 s in test({'n_hidden_rhs': [], '..., ConditionalAutoEncoder..., cpu, <torch.utils.data.data..., MSELoss())\n",
            "    2.32 s in test({'n_hidden_rhs': [], '..., ConditionalAutoEncoder..., cpu, <torch.utils.data.data..., MSELoss())\n",
            "Train MSE: 0.03520896\n",
            "Valid MSE: 0.011686544\n",
            "Next Learning Rate: 0.0005\n",
            "[1.2856025, 0.49462646, 0.23046075, 0.12003133, 0.083263375, 0.06203448, 0.051371116, 0.045057364, 0.041577715, 0.03921191, 0.037577305, 0.036180113]\n",
            "[0.011895817, 0.01190917, 0.011902466, 0.011882766, 0.011861782, 0.011839756, 0.011816554, 0.011793043, 0.011769815, 0.0117460545, 0.011725719, 0.011705716]\n"
          ]
        },
        {
          "output_type": "stream",
          "name": "stderr",
          "text": [
            ""
          ]
        },
        {
          "output_type": "stream",
          "name": "stdout",
          "text": [
            "Epoch 13, total_loss=1.3228, reg_loss = 1.2879\n",
            "   13.15 s in train({'n_hidden_rhs': [], '..., ConditionalAutoEncoder..., cpu, <torch.utils.data.data..., AdamW ( Parameter Grou..., MSELoss(), 13, max_norm=1)\n",
            "   11.22 s in test({'n_hidden_rhs': [], '..., ConditionalAutoEncoder..., cpu, <torch.utils.data.data..., MSELoss())\n",
            "    2.42 s in test({'n_hidden_rhs': [], '..., ConditionalAutoEncoder..., cpu, <torch.utils.data.data..., MSELoss())\n",
            "Train MSE: 0.034470044\n",
            "Valid MSE: 0.011668989\n",
            "Next Learning Rate: 0.0005\n",
            "[1.2856025, 0.49462646, 0.23046075, 0.12003133, 0.083263375, 0.06203448, 0.051371116, 0.045057364, 0.041577715, 0.03921191, 0.037577305, 0.036180113, 0.03520896]\n",
            "[0.011895817, 0.01190917, 0.011902466, 0.011882766, 0.011861782, 0.011839756, 0.011816554, 0.011793043, 0.011769815, 0.0117460545, 0.011725719, 0.011705716, 0.011686544]\n"
          ]
        },
        {
          "output_type": "stream",
          "name": "stderr",
          "text": [
            ""
          ]
        },
        {
          "output_type": "stream",
          "name": "stdout",
          "text": [
            "Epoch 14, total_loss=1.2810, reg_loss = 1.2473\n",
            "   13.34 s in train({'n_hidden_rhs': [], '..., ConditionalAutoEncoder..., cpu, <torch.utils.data.data..., AdamW ( Parameter Grou..., MSELoss(), 14, max_norm=1)\n",
            "   11.05 s in test({'n_hidden_rhs': [], '..., ConditionalAutoEncoder..., cpu, <torch.utils.data.data..., MSELoss())\n",
            "    2.32 s in test({'n_hidden_rhs': [], '..., ConditionalAutoEncoder..., cpu, <torch.utils.data.data..., MSELoss())\n",
            "Train MSE: 0.033899955\n",
            "Valid MSE: 0.011651531\n",
            "Next Learning Rate: 0.0005\n",
            "[1.2856025, 0.49462646, 0.23046075, 0.12003133, 0.083263375, 0.06203448, 0.051371116, 0.045057364, 0.041577715, 0.03921191, 0.037577305, 0.036180113, 0.03520896, 0.034470044]\n",
            "[0.011895817, 0.01190917, 0.011902466, 0.011882766, 0.011861782, 0.011839756, 0.011816554, 0.011793043, 0.011769815, 0.0117460545, 0.011725719, 0.011705716, 0.011686544, 0.011668989]\n"
          ]
        },
        {
          "output_type": "stream",
          "name": "stderr",
          "text": [
            ""
          ]
        },
        {
          "output_type": "stream",
          "name": "stdout",
          "text": [
            "Epoch 15, total_loss=1.2432, reg_loss = 1.2098\n",
            "   13.19 s in train({'n_hidden_rhs': [], '..., ConditionalAutoEncoder..., cpu, <torch.utils.data.data..., AdamW ( Parameter Grou..., MSELoss(), 15, max_norm=1)\n",
            "   11.30 s in test({'n_hidden_rhs': [], '..., ConditionalAutoEncoder..., cpu, <torch.utils.data.data..., MSELoss())\n",
            "    2.43 s in test({'n_hidden_rhs': [], '..., ConditionalAutoEncoder..., cpu, <torch.utils.data.data..., MSELoss())\n",
            "Train MSE: 0.03348725\n",
            "Valid MSE: 0.011635062\n",
            "Next Learning Rate: 0.0005\n",
            "[1.2856025, 0.49462646, 0.23046075, 0.12003133, 0.083263375, 0.06203448, 0.051371116, 0.045057364, 0.041577715, 0.03921191, 0.037577305, 0.036180113, 0.03520896, 0.034470044, 0.033899955]\n",
            "[0.011895817, 0.01190917, 0.011902466, 0.011882766, 0.011861782, 0.011839756, 0.011816554, 0.011793043, 0.011769815, 0.0117460545, 0.011725719, 0.011705716, 0.011686544, 0.011668989, 0.011651531]\n"
          ]
        },
        {
          "output_type": "stream",
          "name": "stderr",
          "text": [
            ""
          ]
        },
        {
          "output_type": "stream",
          "name": "stdout",
          "text": [
            "Epoch 16, total_loss=1.2083, reg_loss = 1.1752\n",
            "   13.24 s in train({'n_hidden_rhs': [], '..., ConditionalAutoEncoder..., cpu, <torch.utils.data.data..., AdamW ( Parameter Grou..., MSELoss(), 16, max_norm=1)\n",
            "   11.00 s in test({'n_hidden_rhs': [], '..., ConditionalAutoEncoder..., cpu, <torch.utils.data.data..., MSELoss())\n",
            "    2.38 s in test({'n_hidden_rhs': [], '..., ConditionalAutoEncoder..., cpu, <torch.utils.data.data..., MSELoss())\n",
            "Train MSE: 0.03308229\n",
            "Valid MSE: 0.011620055\n",
            "Next Learning Rate: 0.0005\n",
            "[1.2856025, 0.49462646, 0.23046075, 0.12003133, 0.083263375, 0.06203448, 0.051371116, 0.045057364, 0.041577715, 0.03921191, 0.037577305, 0.036180113, 0.03520896, 0.034470044, 0.033899955, 0.03348725]\n",
            "[0.011895817, 0.01190917, 0.011902466, 0.011882766, 0.011861782, 0.011839756, 0.011816554, 0.011793043, 0.011769815, 0.0117460545, 0.011725719, 0.011705716, 0.011686544, 0.011668989, 0.011651531, 0.011635062]\n"
          ]
        },
        {
          "output_type": "stream",
          "name": "stderr",
          "text": [
            ""
          ]
        },
        {
          "output_type": "stream",
          "name": "stdout",
          "text": [
            "Epoch 17, total_loss=1.1755, reg_loss = 1.1430\n",
            "   13.43 s in train({'n_hidden_rhs': [], '..., ConditionalAutoEncoder..., cpu, <torch.utils.data.data..., AdamW ( Parameter Grou..., MSELoss(), 17, max_norm=1)\n",
            "   11.10 s in test({'n_hidden_rhs': [], '..., ConditionalAutoEncoder..., cpu, <torch.utils.data.data..., MSELoss())\n",
            "    2.39 s in test({'n_hidden_rhs': [], '..., ConditionalAutoEncoder..., cpu, <torch.utils.data.data..., MSELoss())\n",
            "Train MSE: 0.032799818\n",
            "Valid MSE: 0.011605948\n",
            "Next Learning Rate: 0.0005\n",
            "[1.2856025, 0.49462646, 0.23046075, 0.12003133, 0.083263375, 0.06203448, 0.051371116, 0.045057364, 0.041577715, 0.03921191, 0.037577305, 0.036180113, 0.03520896, 0.034470044, 0.033899955, 0.03348725, 0.03308229]\n",
            "[0.011895817, 0.01190917, 0.011902466, 0.011882766, 0.011861782, 0.011839756, 0.011816554, 0.011793043, 0.011769815, 0.0117460545, 0.011725719, 0.011705716, 0.011686544, 0.011668989, 0.011651531, 0.011635062, 0.011620055]\n"
          ]
        },
        {
          "output_type": "stream",
          "name": "stderr",
          "text": [
            ""
          ]
        },
        {
          "output_type": "stream",
          "name": "stdout",
          "text": [
            "Epoch 18, total_loss=1.1460, reg_loss = 1.1125\n",
            "   13.36 s in train({'n_hidden_rhs': [], '..., ConditionalAutoEncoder..., cpu, <torch.utils.data.data..., AdamW ( Parameter Grou..., MSELoss(), 18, max_norm=1)\n",
            "   11.29 s in test({'n_hidden_rhs': [], '..., ConditionalAutoEncoder..., cpu, <torch.utils.data.data..., MSELoss())\n",
            "    2.29 s in test({'n_hidden_rhs': [], '..., ConditionalAutoEncoder..., cpu, <torch.utils.data.data..., MSELoss())\n",
            "Train MSE: 0.032502178\n",
            "Valid MSE: 0.011593286\n",
            "Next Learning Rate: 0.0005\n",
            "[1.2856025, 0.49462646, 0.23046075, 0.12003133, 0.083263375, 0.06203448, 0.051371116, 0.045057364, 0.041577715, 0.03921191, 0.037577305, 0.036180113, 0.03520896, 0.034470044, 0.033899955, 0.03348725, 0.03308229, 0.032799818]\n",
            "[0.011895817, 0.01190917, 0.011902466, 0.011882766, 0.011861782, 0.011839756, 0.011816554, 0.011793043, 0.011769815, 0.0117460545, 0.011725719, 0.011705716, 0.011686544, 0.011668989, 0.011651531, 0.011635062, 0.011620055, 0.011605948]\n"
          ]
        },
        {
          "output_type": "stream",
          "name": "stderr",
          "text": [
            ""
          ]
        },
        {
          "output_type": "stream",
          "name": "stdout",
          "text": [
            "Epoch 19, total_loss=1.1161, reg_loss = 1.0836\n",
            "   13.42 s in train({'n_hidden_rhs': [], '..., ConditionalAutoEncoder..., cpu, <torch.utils.data.data..., AdamW ( Parameter Grou..., MSELoss(), 19, max_norm=1)\n",
            "   11.04 s in test({'n_hidden_rhs': [], '..., ConditionalAutoEncoder..., cpu, <torch.utils.data.data..., MSELoss())\n",
            "    2.31 s in test({'n_hidden_rhs': [], '..., ConditionalAutoEncoder..., cpu, <torch.utils.data.data..., MSELoss())\n",
            "Train MSE: 0.032189585\n",
            "Valid MSE: 0.01158182\n",
            "Next Learning Rate: 0.0005\n",
            "[1.2856025, 0.49462646, 0.23046075, 0.12003133, 0.083263375, 0.06203448, 0.051371116, 0.045057364, 0.041577715, 0.03921191, 0.037577305, 0.036180113, 0.03520896, 0.034470044, 0.033899955, 0.03348725, 0.03308229, 0.032799818, 0.032502178]\n",
            "[0.011895817, 0.01190917, 0.011902466, 0.011882766, 0.011861782, 0.011839756, 0.011816554, 0.011793043, 0.011769815, 0.0117460545, 0.011725719, 0.011705716, 0.011686544, 0.011668989, 0.011651531, 0.011635062, 0.011620055, 0.011605948, 0.011593286]\n"
          ]
        },
        {
          "output_type": "stream",
          "name": "stderr",
          "text": [
            ""
          ]
        },
        {
          "output_type": "stream",
          "name": "stdout",
          "text": [
            "Epoch 20, total_loss=1.0882, reg_loss = 1.0565\n",
            "   13.51 s in train({'n_hidden_rhs': [], '..., ConditionalAutoEncoder..., cpu, <torch.utils.data.data..., AdamW ( Parameter Grou..., MSELoss(), 20, max_norm=1)\n",
            "   11.04 s in test({'n_hidden_rhs': [], '..., ConditionalAutoEncoder..., cpu, <torch.utils.data.data..., MSELoss())\n",
            "    2.46 s in test({'n_hidden_rhs': [], '..., ConditionalAutoEncoder..., cpu, <torch.utils.data.data..., MSELoss())\n",
            "Train MSE: 0.031975586\n",
            "Valid MSE: 0.0115722865\n",
            "Next Learning Rate: 0.0005\n",
            "[1.2856025, 0.49462646, 0.23046075, 0.12003133, 0.083263375, 0.06203448, 0.051371116, 0.045057364, 0.041577715, 0.03921191, 0.037577305, 0.036180113, 0.03520896, 0.034470044, 0.033899955, 0.03348725, 0.03308229, 0.032799818, 0.032502178, 0.032189585]\n",
            "[0.011895817, 0.01190917, 0.011902466, 0.011882766, 0.011861782, 0.011839756, 0.011816554, 0.011793043, 0.011769815, 0.0117460545, 0.011725719, 0.011705716, 0.011686544, 0.011668989, 0.011651531, 0.011635062, 0.011620055, 0.011605948, 0.011593286, 0.01158182]\n"
          ]
        },
        {
          "output_type": "stream",
          "name": "stderr",
          "text": [
            ""
          ]
        },
        {
          "output_type": "stream",
          "name": "stdout",
          "text": [
            "Epoch 21, total_loss=1.0653, reg_loss = 1.0311\n",
            "   13.09 s in train({'n_hidden_rhs': [], '..., ConditionalAutoEncoder..., cpu, <torch.utils.data.data..., AdamW ( Parameter Grou..., MSELoss(), 21, max_norm=1)\n",
            "   11.18 s in test({'n_hidden_rhs': [], '..., ConditionalAutoEncoder..., cpu, <torch.utils.data.data..., MSELoss())\n",
            "    2.45 s in test({'n_hidden_rhs': [], '..., ConditionalAutoEncoder..., cpu, <torch.utils.data.data..., MSELoss())\n",
            "Train MSE: 0.031765215\n",
            "Valid MSE: 0.011563505\n",
            "Next Learning Rate: 0.0005\n",
            "[1.2856025, 0.49462646, 0.23046075, 0.12003133, 0.083263375, 0.06203448, 0.051371116, 0.045057364, 0.041577715, 0.03921191, 0.037577305, 0.036180113, 0.03520896, 0.034470044, 0.033899955, 0.03348725, 0.03308229, 0.032799818, 0.032502178, 0.032189585, 0.031975586]\n",
            "[0.011895817, 0.01190917, 0.011902466, 0.011882766, 0.011861782, 0.011839756, 0.011816554, 0.011793043, 0.011769815, 0.0117460545, 0.011725719, 0.011705716, 0.011686544, 0.011668989, 0.011651531, 0.011635062, 0.011620055, 0.011605948, 0.011593286, 0.01158182, 0.0115722865]\n"
          ]
        },
        {
          "output_type": "stream",
          "name": "stderr",
          "text": [
            ""
          ]
        },
        {
          "output_type": "stream",
          "name": "stdout",
          "text": [
            "Epoch 22, total_loss=1.0383, reg_loss = 1.0069\n",
            "   13.57 s in train({'n_hidden_rhs': [], '..., ConditionalAutoEncoder..., cpu, <torch.utils.data.data..., AdamW ( Parameter Grou..., MSELoss(), 22, max_norm=1)\n",
            "   11.64 s in test({'n_hidden_rhs': [], '..., ConditionalAutoEncoder..., cpu, <torch.utils.data.data..., MSELoss())\n",
            "    2.51 s in test({'n_hidden_rhs': [], '..., ConditionalAutoEncoder..., cpu, <torch.utils.data.data..., MSELoss())\n",
            "Train MSE: 0.031359892\n",
            "Valid MSE: 0.011554827\n",
            "Next Learning Rate: 0.0005\n",
            "[1.2856025, 0.49462646, 0.23046075, 0.12003133, 0.083263375, 0.06203448, 0.051371116, 0.045057364, 0.041577715, 0.03921191, 0.037577305, 0.036180113, 0.03520896, 0.034470044, 0.033899955, 0.03348725, 0.03308229, 0.032799818, 0.032502178, 0.032189585, 0.031975586, 0.031765215]\n",
            "[0.011895817, 0.01190917, 0.011902466, 0.011882766, 0.011861782, 0.011839756, 0.011816554, 0.011793043, 0.011769815, 0.0117460545, 0.011725719, 0.011705716, 0.011686544, 0.011668989, 0.011651531, 0.011635062, 0.011620055, 0.011605948, 0.011593286, 0.01158182, 0.0115722865, 0.011563505]\n"
          ]
        },
        {
          "output_type": "stream",
          "name": "stderr",
          "text": [
            ""
          ]
        },
        {
          "output_type": "stream",
          "name": "stdout",
          "text": [
            "Epoch 23, total_loss=1.0142, reg_loss = 0.9833\n",
            "   13.50 s in train({'n_hidden_rhs': [], '..., ConditionalAutoEncoder..., cpu, <torch.utils.data.data..., AdamW ( Parameter Grou..., MSELoss(), 23, max_norm=1)\n",
            "   11.03 s in test({'n_hidden_rhs': [], '..., ConditionalAutoEncoder..., cpu, <torch.utils.data.data..., MSELoss())\n",
            "    2.30 s in test({'n_hidden_rhs': [], '..., ConditionalAutoEncoder..., cpu, <torch.utils.data.data..., MSELoss())\n",
            "Train MSE: 0.031281907\n",
            "Valid MSE: 0.011547862\n",
            "Next Learning Rate: 0.0005\n",
            "[1.2856025, 0.49462646, 0.23046075, 0.12003133, 0.083263375, 0.06203448, 0.051371116, 0.045057364, 0.041577715, 0.03921191, 0.037577305, 0.036180113, 0.03520896, 0.034470044, 0.033899955, 0.03348725, 0.03308229, 0.032799818, 0.032502178, 0.032189585, 0.031975586, 0.031765215, 0.031359892]\n",
            "[0.011895817, 0.01190917, 0.011902466, 0.011882766, 0.011861782, 0.011839756, 0.011816554, 0.011793043, 0.011769815, 0.0117460545, 0.011725719, 0.011705716, 0.011686544, 0.011668989, 0.011651531, 0.011635062, 0.011620055, 0.011605948, 0.011593286, 0.01158182, 0.0115722865, 0.011563505, 0.011554827]\n"
          ]
        },
        {
          "output_type": "stream",
          "name": "stderr",
          "text": [
            ""
          ]
        },
        {
          "output_type": "stream",
          "name": "stdout",
          "text": [
            "Epoch 24, total_loss=0.9921, reg_loss = 0.9603\n",
            "   13.02 s in train({'n_hidden_rhs': [], '..., ConditionalAutoEncoder..., cpu, <torch.utils.data.data..., AdamW ( Parameter Grou..., MSELoss(), 24, max_norm=1)\n",
            "   11.06 s in test({'n_hidden_rhs': [], '..., ConditionalAutoEncoder..., cpu, <torch.utils.data.data..., MSELoss())\n",
            "    2.39 s in test({'n_hidden_rhs': [], '..., ConditionalAutoEncoder..., cpu, <torch.utils.data.data..., MSELoss())\n",
            "Train MSE: 0.031198084\n",
            "Valid MSE: 0.011542869\n",
            "Next Learning Rate: 0.0005\n",
            "[1.2856025, 0.49462646, 0.23046075, 0.12003133, 0.083263375, 0.06203448, 0.051371116, 0.045057364, 0.041577715, 0.03921191, 0.037577305, 0.036180113, 0.03520896, 0.034470044, 0.033899955, 0.03348725, 0.03308229, 0.032799818, 0.032502178, 0.032189585, 0.031975586, 0.031765215, 0.031359892, 0.031281907]\n",
            "[0.011895817, 0.01190917, 0.011902466, 0.011882766, 0.011861782, 0.011839756, 0.011816554, 0.011793043, 0.011769815, 0.0117460545, 0.011725719, 0.011705716, 0.011686544, 0.011668989, 0.011651531, 0.011635062, 0.011620055, 0.011605948, 0.011593286, 0.01158182, 0.0115722865, 0.011563505, 0.011554827, 0.011547862]\n"
          ]
        },
        {
          "output_type": "stream",
          "name": "stderr",
          "text": [
            ""
          ]
        },
        {
          "output_type": "stream",
          "name": "stdout",
          "text": [
            "Epoch 25, total_loss=0.9688, reg_loss = 0.9381\n",
            "   13.61 s in train({'n_hidden_rhs': [], '..., ConditionalAutoEncoder..., cpu, <torch.utils.data.data..., AdamW ( Parameter Grou..., MSELoss(), 25, max_norm=1)\n",
            "   11.47 s in test({'n_hidden_rhs': [], '..., ConditionalAutoEncoder..., cpu, <torch.utils.data.data..., MSELoss())\n",
            "    2.32 s in test({'n_hidden_rhs': [], '..., ConditionalAutoEncoder..., cpu, <torch.utils.data.data..., MSELoss())\n",
            "Train MSE: 0.031080214\n",
            "Valid MSE: 0.011538633\n",
            "Next Learning Rate: 0.0005\n",
            "[1.2856025, 0.49462646, 0.23046075, 0.12003133, 0.083263375, 0.06203448, 0.051371116, 0.045057364, 0.041577715, 0.03921191, 0.037577305, 0.036180113, 0.03520896, 0.034470044, 0.033899955, 0.03348725, 0.03308229, 0.032799818, 0.032502178, 0.032189585, 0.031975586, 0.031765215, 0.031359892, 0.031281907, 0.031198084]\n",
            "[0.011895817, 0.01190917, 0.011902466, 0.011882766, 0.011861782, 0.011839756, 0.011816554, 0.011793043, 0.011769815, 0.0117460545, 0.011725719, 0.011705716, 0.011686544, 0.011668989, 0.011651531, 0.011635062, 0.011620055, 0.011605948, 0.011593286, 0.01158182, 0.0115722865, 0.011563505, 0.011554827, 0.011547862, 0.011542869]\n"
          ]
        },
        {
          "output_type": "stream",
          "name": "stderr",
          "text": [
            ""
          ]
        },
        {
          "output_type": "stream",
          "name": "stdout",
          "text": [
            "Epoch 26, total_loss=0.9479, reg_loss = 0.9167\n",
            "   13.32 s in train({'n_hidden_rhs': [], '..., ConditionalAutoEncoder..., cpu, <torch.utils.data.data..., AdamW ( Parameter Grou..., MSELoss(), 26, max_norm=1)\n",
            "   11.40 s in test({'n_hidden_rhs': [], '..., ConditionalAutoEncoder..., cpu, <torch.utils.data.data..., MSELoss())\n",
            "    2.40 s in test({'n_hidden_rhs': [], '..., ConditionalAutoEncoder..., cpu, <torch.utils.data.data..., MSELoss())\n",
            "Train MSE: 0.030932546\n",
            "Valid MSE: 0.011539546\n",
            "Next Learning Rate: 0.0005\n",
            "[1.2856025, 0.49462646, 0.23046075, 0.12003133, 0.083263375, 0.06203448, 0.051371116, 0.045057364, 0.041577715, 0.03921191, 0.037577305, 0.036180113, 0.03520896, 0.034470044, 0.033899955, 0.03348725, 0.03308229, 0.032799818, 0.032502178, 0.032189585, 0.031975586, 0.031765215, 0.031359892, 0.031281907, 0.031198084, 0.031080214]\n",
            "[0.011895817, 0.01190917, 0.011902466, 0.011882766, 0.011861782, 0.011839756, 0.011816554, 0.011793043, 0.011769815, 0.0117460545, 0.011725719, 0.011705716, 0.011686544, 0.011668989, 0.011651531, 0.011635062, 0.011620055, 0.011605948, 0.011593286, 0.01158182, 0.0115722865, 0.011563505, 0.011554827, 0.011547862, 0.011542869, 0.011538633]\n"
          ]
        },
        {
          "output_type": "stream",
          "name": "stderr",
          "text": [
            ""
          ]
        },
        {
          "output_type": "stream",
          "name": "stdout",
          "text": [
            "Epoch 27, total_loss=0.9263, reg_loss = 0.8959\n",
            "   13.24 s in train({'n_hidden_rhs': [], '..., ConditionalAutoEncoder..., cpu, <torch.utils.data.data..., AdamW ( Parameter Grou..., MSELoss(), 27, max_norm=1)\n",
            "   11.27 s in test({'n_hidden_rhs': [], '..., ConditionalAutoEncoder..., cpu, <torch.utils.data.data..., MSELoss())\n",
            "    2.35 s in test({'n_hidden_rhs': [], '..., ConditionalAutoEncoder..., cpu, <torch.utils.data.data..., MSELoss())\n",
            "Train MSE: 0.030899195\n",
            "Valid MSE: 0.011540224\n",
            "Next Learning Rate: 0.0005\n",
            "[1.2856025, 0.49462646, 0.23046075, 0.12003133, 0.083263375, 0.06203448, 0.051371116, 0.045057364, 0.041577715, 0.03921191, 0.037577305, 0.036180113, 0.03520896, 0.034470044, 0.033899955, 0.03348725, 0.03308229, 0.032799818, 0.032502178, 0.032189585, 0.031975586, 0.031765215, 0.031359892, 0.031281907, 0.031198084, 0.031080214, 0.030932546]\n",
            "[0.011895817, 0.01190917, 0.011902466, 0.011882766, 0.011861782, 0.011839756, 0.011816554, 0.011793043, 0.011769815, 0.0117460545, 0.011725719, 0.011705716, 0.011686544, 0.011668989, 0.011651531, 0.011635062, 0.011620055, 0.011605948, 0.011593286, 0.01158182, 0.0115722865, 0.011563505, 0.011554827, 0.011547862, 0.011542869, 0.011538633, 0.011539546]\n"
          ]
        },
        {
          "output_type": "stream",
          "name": "stderr",
          "text": [
            ""
          ]
        },
        {
          "output_type": "stream",
          "name": "stdout",
          "text": [
            "Epoch 28, total_loss=0.9061, reg_loss = 0.8757\n",
            "   13.33 s in train({'n_hidden_rhs': [], '..., ConditionalAutoEncoder..., cpu, <torch.utils.data.data..., AdamW ( Parameter Grou..., MSELoss(), 28, max_norm=1)\n",
            "   11.01 s in test({'n_hidden_rhs': [], '..., ConditionalAutoEncoder..., cpu, <torch.utils.data.data..., MSELoss())\n",
            "    2.29 s in test({'n_hidden_rhs': [], '..., ConditionalAutoEncoder..., cpu, <torch.utils.data.data..., MSELoss())\n",
            "Train MSE: 0.030786067\n",
            "Valid MSE: 0.011541895\n",
            "Next Learning Rate: 0.0005\n",
            "[1.2856025, 0.49462646, 0.23046075, 0.12003133, 0.083263375, 0.06203448, 0.051371116, 0.045057364, 0.041577715, 0.03921191, 0.037577305, 0.036180113, 0.03520896, 0.034470044, 0.033899955, 0.03348725, 0.03308229, 0.032799818, 0.032502178, 0.032189585, 0.031975586, 0.031765215, 0.031359892, 0.031281907, 0.031198084, 0.031080214, 0.030932546, 0.030899195]\n",
            "[0.011895817, 0.01190917, 0.011902466, 0.011882766, 0.011861782, 0.011839756, 0.011816554, 0.011793043, 0.011769815, 0.0117460545, 0.011725719, 0.011705716, 0.011686544, 0.011668989, 0.011651531, 0.011635062, 0.011620055, 0.011605948, 0.011593286, 0.01158182, 0.0115722865, 0.011563505, 0.011554827, 0.011547862, 0.011542869, 0.011538633, 0.011539546, 0.011540224]\n"
          ]
        },
        {
          "output_type": "stream",
          "name": "stderr",
          "text": [
            ""
          ]
        },
        {
          "output_type": "stream",
          "name": "stdout",
          "text": [
            "Epoch 29, total_loss=0.8866, reg_loss = 0.8560\n",
            "   13.18 s in train({'n_hidden_rhs': [], '..., ConditionalAutoEncoder..., cpu, <torch.utils.data.data..., AdamW ( Parameter Grou..., MSELoss(), 29, max_norm=1)\n",
            "   11.12 s in test({'n_hidden_rhs': [], '..., ConditionalAutoEncoder..., cpu, <torch.utils.data.data..., MSELoss())\n",
            "    2.37 s in test({'n_hidden_rhs': [], '..., ConditionalAutoEncoder..., cpu, <torch.utils.data.data..., MSELoss())\n",
            "Train MSE: 0.030720418\n",
            "Valid MSE: 0.011544988\n",
            "Next Learning Rate: 0.0005\n",
            "[1.2856025, 0.49462646, 0.23046075, 0.12003133, 0.083263375, 0.06203448, 0.051371116, 0.045057364, 0.041577715, 0.03921191, 0.037577305, 0.036180113, 0.03520896, 0.034470044, 0.033899955, 0.03348725, 0.03308229, 0.032799818, 0.032502178, 0.032189585, 0.031975586, 0.031765215, 0.031359892, 0.031281907, 0.031198084, 0.031080214, 0.030932546, 0.030899195, 0.030786067]\n",
            "[0.011895817, 0.01190917, 0.011902466, 0.011882766, 0.011861782, 0.011839756, 0.011816554, 0.011793043, 0.011769815, 0.0117460545, 0.011725719, 0.011705716, 0.011686544, 0.011668989, 0.011651531, 0.011635062, 0.011620055, 0.011605948, 0.011593286, 0.01158182, 0.0115722865, 0.011563505, 0.011554827, 0.011547862, 0.011542869, 0.011538633, 0.011539546, 0.011540224, 0.011541895]\n"
          ]
        },
        {
          "output_type": "stream",
          "name": "stderr",
          "text": [
            ""
          ]
        },
        {
          "output_type": "stream",
          "name": "stdout",
          "text": [
            "Epoch 30, total_loss=0.8674, reg_loss = 0.8370\n",
            "   13.27 s in train({'n_hidden_rhs': [], '..., ConditionalAutoEncoder..., cpu, <torch.utils.data.data..., AdamW ( Parameter Grou..., MSELoss(), 30, max_norm=1)\n",
            "   10.95 s in test({'n_hidden_rhs': [], '..., ConditionalAutoEncoder..., cpu, <torch.utils.data.data..., MSELoss())\n",
            "    2.32 s in test({'n_hidden_rhs': [], '..., ConditionalAutoEncoder..., cpu, <torch.utils.data.data..., MSELoss())\n",
            "Train MSE: 0.030640434\n",
            "Valid MSE: 0.011548319\n",
            "Next Learning Rate: 0.00025\n",
            "[1.2856025, 0.49462646, 0.23046075, 0.12003133, 0.083263375, 0.06203448, 0.051371116, 0.045057364, 0.041577715, 0.03921191, 0.037577305, 0.036180113, 0.03520896, 0.034470044, 0.033899955, 0.03348725, 0.03308229, 0.032799818, 0.032502178, 0.032189585, 0.031975586, 0.031765215, 0.031359892, 0.031281907, 0.031198084, 0.031080214, 0.030932546, 0.030899195, 0.030786067, 0.030720418]\n",
            "[0.011895817, 0.01190917, 0.011902466, 0.011882766, 0.011861782, 0.011839756, 0.011816554, 0.011793043, 0.011769815, 0.0117460545, 0.011725719, 0.011705716, 0.011686544, 0.011668989, 0.011651531, 0.011635062, 0.011620055, 0.011605948, 0.011593286, 0.01158182, 0.0115722865, 0.011563505, 0.011554827, 0.011547862, 0.011542869, 0.011538633, 0.011539546, 0.011540224, 0.011541895, 0.011544988]\n",
            "Training done. Evaluating...\n"
          ]
        },
        {
          "output_type": "stream",
          "name": "stderr",
          "text": [
            "100%|██████████| 6/6 [00:03<00:00,  1.53it/s]\n",
            "100%|██████████| 4/4 [00:02<00:00,  1.61it/s]\n"
          ]
        },
        {
          "output_type": "stream",
          "name": "stdout",
          "text": [
            "ConditionalAutoEncoder(\n",
            "  (macro): Sequential(\n",
            "    (0): Linear(in_features=147, out_features=16, bias=True)\n",
            "    (1): SELU()\n",
            "    (2): LayerNorm((16,), eps=1e-05, elementwise_affine=True)\n",
            "    (3): Linear(in_features=16, out_features=8, bias=True)\n",
            "    (4): SELU()\n",
            "    (5): LayerNorm((8,), eps=1e-05, elementwise_affine=True)\n",
            "    (6): Linear(in_features=8, out_features=4, bias=True)\n",
            "  )\n",
            "  (macro_lstm): LSTM(4, 4, num_layers=2)\n",
            "  (lhs): Sequential(\n",
            "    (0): Linear(in_features=45, out_features=24, bias=True)\n",
            "    (1): SELU()\n",
            "    (2): LayerNorm((24,), eps=1e-05, elementwise_affine=True)\n",
            "    (3): Linear(in_features=24, out_features=12, bias=True)\n",
            "    (4): SELU()\n",
            "    (5): LayerNorm((12,), eps=1e-05, elementwise_affine=True)\n",
            "    (6): Linear(in_features=12, out_features=4, bias=True)\n",
            "  )\n",
            "  (rhs): Sequential(\n",
            "    (0): Linear(in_features=46, out_features=4, bias=True)\n",
            "  )\n",
            ")\n",
            "   11.22 s in test({'n_hidden_rhs': [], '..., ConditionalAutoEncoder..., cpu, <torch.utils.data.data..., MSELoss())\n",
            "    2.46 s in test({'n_hidden_rhs': [], '..., ConditionalAutoEncoder..., cpu, <torch.utils.data.data..., MSELoss())\n",
            "Pre-Train Train MSE: 2.0456345\n",
            "Pre-Train Valid MSE: 0.011740673\n"
          ]
        },
        {
          "output_type": "stream",
          "name": "stderr",
          "text": [
            ""
          ]
        },
        {
          "output_type": "stream",
          "name": "stdout",
          "text": [
            "Epoch 1, total_loss=3.6056, reg_loss = 2.1564\n",
            "   13.31 s in train({'n_hidden_rhs': [], '..., ConditionalAutoEncoder..., cpu, <torch.utils.data.data..., AdamW ( Parameter Grou..., MSELoss(), 1, max_norm=1)\n",
            "   11.31 s in test({'n_hidden_rhs': [], '..., ConditionalAutoEncoder..., cpu, <torch.utils.data.data..., MSELoss())\n",
            "    2.41 s in test({'n_hidden_rhs': [], '..., ConditionalAutoEncoder..., cpu, <torch.utils.data.data..., MSELoss())\n",
            "Train MSE: 0.846985\n",
            "Valid MSE: 0.011726798\n",
            "Next Learning Rate: 0.0005\n",
            "[2.0456345]\n",
            "[0.011740673]\n"
          ]
        },
        {
          "output_type": "stream",
          "name": "stderr",
          "text": [
            ""
          ]
        },
        {
          "output_type": "stream",
          "name": "stdout",
          "text": [
            "Epoch 2, total_loss=2.6867, reg_loss = 2.0648\n",
            "   13.37 s in train({'n_hidden_rhs': [], '..., ConditionalAutoEncoder..., cpu, <torch.utils.data.data..., AdamW ( Parameter Grou..., MSELoss(), 2, max_norm=1)\n",
            "   11.27 s in test({'n_hidden_rhs': [], '..., ConditionalAutoEncoder..., cpu, <torch.utils.data.data..., MSELoss())\n",
            "    2.35 s in test({'n_hidden_rhs': [], '..., ConditionalAutoEncoder..., cpu, <torch.utils.data.data..., MSELoss())\n",
            "Train MSE: 0.4315956\n",
            "Valid MSE: 0.01170926\n",
            "Next Learning Rate: 0.0005\n",
            "[2.0456345, 0.846985]\n",
            "[0.011740673, 0.011726798]\n"
          ]
        },
        {
          "output_type": "stream",
          "name": "stderr",
          "text": [
            ""
          ]
        },
        {
          "output_type": "stream",
          "name": "stdout",
          "text": [
            "Epoch 3, total_loss=2.3057, reg_loss = 1.9775\n",
            "   13.19 s in train({'n_hidden_rhs': [], '..., ConditionalAutoEncoder..., cpu, <torch.utils.data.data..., AdamW ( Parameter Grou..., MSELoss(), 3, max_norm=1)\n",
            "   10.93 s in test({'n_hidden_rhs': [], '..., ConditionalAutoEncoder..., cpu, <torch.utils.data.data..., MSELoss())\n",
            "    2.31 s in test({'n_hidden_rhs': [], '..., ConditionalAutoEncoder..., cpu, <torch.utils.data.data..., MSELoss())\n",
            "Train MSE: 0.23288171\n",
            "Valid MSE: 0.011690599\n",
            "Next Learning Rate: 0.0005\n",
            "[2.0456345, 0.846985, 0.4315956]\n",
            "[0.011740673, 0.011726798, 0.01170926]\n"
          ]
        },
        {
          "output_type": "stream",
          "name": "stderr",
          "text": [
            ""
          ]
        },
        {
          "output_type": "stream",
          "name": "stdout",
          "text": [
            "Epoch 4, total_loss=2.0843, reg_loss = 1.8954\n",
            "   13.17 s in train({'n_hidden_rhs': [], '..., ConditionalAutoEncoder..., cpu, <torch.utils.data.data..., AdamW ( Parameter Grou..., MSELoss(), 4, max_norm=1)\n",
            "   11.10 s in test({'n_hidden_rhs': [], '..., ConditionalAutoEncoder..., cpu, <torch.utils.data.data..., MSELoss())\n",
            "    2.37 s in test({'n_hidden_rhs': [], '..., ConditionalAutoEncoder..., cpu, <torch.utils.data.data..., MSELoss())\n",
            "Train MSE: 0.16177347\n",
            "Valid MSE: 0.01167568\n",
            "Next Learning Rate: 0.0005\n",
            "[2.0456345, 0.846985, 0.4315956, 0.23288171]\n",
            "[0.011740673, 0.011726798, 0.01170926, 0.011690599]\n"
          ]
        },
        {
          "output_type": "stream",
          "name": "stderr",
          "text": [
            ""
          ]
        },
        {
          "output_type": "stream",
          "name": "stdout",
          "text": [
            "Epoch 5, total_loss=1.9609, reg_loss = 1.8191\n",
            "   13.28 s in train({'n_hidden_rhs': [], '..., ConditionalAutoEncoder..., cpu, <torch.utils.data.data..., AdamW ( Parameter Grou..., MSELoss(), 5, max_norm=1)\n",
            "   11.13 s in test({'n_hidden_rhs': [], '..., ConditionalAutoEncoder..., cpu, <torch.utils.data.data..., MSELoss())\n",
            "    2.35 s in test({'n_hidden_rhs': [], '..., ConditionalAutoEncoder..., cpu, <torch.utils.data.data..., MSELoss())\n",
            "Train MSE: 0.120297275\n",
            "Valid MSE: 0.011664245\n",
            "Next Learning Rate: 0.0005\n",
            "[2.0456345, 0.846985, 0.4315956, 0.23288171, 0.16177347]\n",
            "[0.011740673, 0.011726798, 0.01170926, 0.011690599, 0.01167568]\n"
          ]
        },
        {
          "output_type": "stream",
          "name": "stderr",
          "text": [
            ""
          ]
        },
        {
          "output_type": "stream",
          "name": "stdout",
          "text": [
            "Epoch 6, total_loss=1.8525, reg_loss = 1.7490\n",
            "   13.15 s in train({'n_hidden_rhs': [], '..., ConditionalAutoEncoder..., cpu, <torch.utils.data.data..., AdamW ( Parameter Grou..., MSELoss(), 6, max_norm=1)\n",
            "   10.85 s in test({'n_hidden_rhs': [], '..., ConditionalAutoEncoder..., cpu, <torch.utils.data.data..., MSELoss())\n",
            "    2.34 s in test({'n_hidden_rhs': [], '..., ConditionalAutoEncoder..., cpu, <torch.utils.data.data..., MSELoss())\n",
            "Train MSE: 0.093507886\n",
            "Valid MSE: 0.011654528\n",
            "Next Learning Rate: 0.0005\n",
            "[2.0456345, 0.846985, 0.4315956, 0.23288171, 0.16177347, 0.120297275]\n",
            "[0.011740673, 0.011726798, 0.01170926, 0.011690599, 0.01167568, 0.011664245]\n"
          ]
        },
        {
          "output_type": "stream",
          "name": "stderr",
          "text": [
            ""
          ]
        },
        {
          "output_type": "stream",
          "name": "stdout",
          "text": [
            "Epoch 7, total_loss=1.7707, reg_loss = 1.6852\n",
            "   13.32 s in train({'n_hidden_rhs': [], '..., ConditionalAutoEncoder..., cpu, <torch.utils.data.data..., AdamW ( Parameter Grou..., MSELoss(), 7, max_norm=1)\n",
            "   11.35 s in test({'n_hidden_rhs': [], '..., ConditionalAutoEncoder..., cpu, <torch.utils.data.data..., MSELoss())\n",
            "    2.38 s in test({'n_hidden_rhs': [], '..., ConditionalAutoEncoder..., cpu, <torch.utils.data.data..., MSELoss())\n",
            "Train MSE: 0.07676\n",
            "Valid MSE: 0.011646961\n",
            "Next Learning Rate: 0.0005\n",
            "[2.0456345, 0.846985, 0.4315956, 0.23288171, 0.16177347, 0.120297275, 0.093507886]\n",
            "[0.011740673, 0.011726798, 0.01170926, 0.011690599, 0.01167568, 0.011664245, 0.011654528]\n"
          ]
        },
        {
          "output_type": "stream",
          "name": "stderr",
          "text": [
            ""
          ]
        },
        {
          "output_type": "stream",
          "name": "stdout",
          "text": [
            "Epoch 8, total_loss=1.6976, reg_loss = 1.6265\n",
            "   13.16 s in train({'n_hidden_rhs': [], '..., ConditionalAutoEncoder..., cpu, <torch.utils.data.data..., AdamW ( Parameter Grou..., MSELoss(), 8, max_norm=1)\n",
            "   11.02 s in test({'n_hidden_rhs': [], '..., ConditionalAutoEncoder..., cpu, <torch.utils.data.data..., MSELoss())\n",
            "    2.31 s in test({'n_hidden_rhs': [], '..., ConditionalAutoEncoder..., cpu, <torch.utils.data.data..., MSELoss())\n",
            "Train MSE: 0.06806979\n",
            "Valid MSE: 0.011640971\n",
            "Next Learning Rate: 0.0005\n",
            "[2.0456345, 0.846985, 0.4315956, 0.23288171, 0.16177347, 0.120297275, 0.093507886, 0.07676]\n",
            "[0.011740673, 0.011726798, 0.01170926, 0.011690599, 0.01167568, 0.011664245, 0.011654528, 0.011646961]\n"
          ]
        },
        {
          "output_type": "stream",
          "name": "stderr",
          "text": [
            ""
          ]
        },
        {
          "output_type": "stream",
          "name": "stdout",
          "text": [
            "Epoch 9, total_loss=1.6451, reg_loss = 1.5722\n",
            "   13.24 s in train({'n_hidden_rhs': [], '..., ConditionalAutoEncoder..., cpu, <torch.utils.data.data..., AdamW ( Parameter Grou..., MSELoss(), 9, max_norm=1)\n",
            "   11.03 s in test({'n_hidden_rhs': [], '..., ConditionalAutoEncoder..., cpu, <torch.utils.data.data..., MSELoss())\n",
            "    2.31 s in test({'n_hidden_rhs': [], '..., ConditionalAutoEncoder..., cpu, <torch.utils.data.data..., MSELoss())\n",
            "Train MSE: 0.061797142\n",
            "Valid MSE: 0.01163641\n",
            "Next Learning Rate: 0.0005\n",
            "[2.0456345, 0.846985, 0.4315956, 0.23288171, 0.16177347, 0.120297275, 0.093507886, 0.07676, 0.06806979]\n",
            "[0.011740673, 0.011726798, 0.01170926, 0.011690599, 0.01167568, 0.011664245, 0.011654528, 0.011646961, 0.011640971]\n"
          ]
        },
        {
          "output_type": "stream",
          "name": "stderr",
          "text": [
            ""
          ]
        },
        {
          "output_type": "stream",
          "name": "stdout",
          "text": [
            "Epoch 10, total_loss=1.5805, reg_loss = 1.5230\n",
            "   13.52 s in train({'n_hidden_rhs': [], '..., ConditionalAutoEncoder..., cpu, <torch.utils.data.data..., AdamW ( Parameter Grou..., MSELoss(), 10, max_norm=1)\n",
            "   11.08 s in test({'n_hidden_rhs': [], '..., ConditionalAutoEncoder..., cpu, <torch.utils.data.data..., MSELoss())\n",
            "    2.36 s in test({'n_hidden_rhs': [], '..., ConditionalAutoEncoder..., cpu, <torch.utils.data.data..., MSELoss())\n",
            "Train MSE: 0.056130655\n",
            "Valid MSE: 0.011632309\n",
            "Next Learning Rate: 0.0005\n",
            "[2.0456345, 0.846985, 0.4315956, 0.23288171, 0.16177347, 0.120297275, 0.093507886, 0.07676, 0.06806979, 0.061797142]\n",
            "[0.011740673, 0.011726798, 0.01170926, 0.011690599, 0.01167568, 0.011664245, 0.011654528, 0.011646961, 0.011640971, 0.01163641]\n"
          ]
        },
        {
          "output_type": "stream",
          "name": "stderr",
          "text": [
            ""
          ]
        },
        {
          "output_type": "stream",
          "name": "stdout",
          "text": [
            "Epoch 11, total_loss=1.5477, reg_loss = 1.4777\n",
            "   13.19 s in train({'n_hidden_rhs': [], '..., ConditionalAutoEncoder..., cpu, <torch.utils.data.data..., AdamW ( Parameter Grou..., MSELoss(), 11, max_norm=1)\n",
            "   11.85 s in test({'n_hidden_rhs': [], '..., ConditionalAutoEncoder..., cpu, <torch.utils.data.data..., MSELoss())\n",
            "    2.29 s in test({'n_hidden_rhs': [], '..., ConditionalAutoEncoder..., cpu, <torch.utils.data.data..., MSELoss())\n",
            "Train MSE: 0.052697513\n",
            "Valid MSE: 0.011627684\n",
            "Next Learning Rate: 0.0005\n",
            "[2.0456345, 0.846985, 0.4315956, 0.23288171, 0.16177347, 0.120297275, 0.093507886, 0.07676, 0.06806979, 0.061797142, 0.056130655]\n",
            "[0.011740673, 0.011726798, 0.01170926, 0.011690599, 0.01167568, 0.011664245, 0.011654528, 0.011646961, 0.011640971, 0.01163641, 0.011632309]\n"
          ]
        },
        {
          "output_type": "stream",
          "name": "stderr",
          "text": [
            ""
          ]
        },
        {
          "output_type": "stream",
          "name": "stdout",
          "text": [
            "Epoch 12, total_loss=1.4859, reg_loss = 1.4359\n",
            "   13.17 s in train({'n_hidden_rhs': [], '..., ConditionalAutoEncoder..., cpu, <torch.utils.data.data..., AdamW ( Parameter Grou..., MSELoss(), 12, max_norm=1)\n",
            "   11.07 s in test({'n_hidden_rhs': [], '..., ConditionalAutoEncoder..., cpu, <torch.utils.data.data..., MSELoss())\n",
            "    2.36 s in test({'n_hidden_rhs': [], '..., ConditionalAutoEncoder..., cpu, <torch.utils.data.data..., MSELoss())\n",
            "Train MSE: 0.048629258\n",
            "Valid MSE: 0.011623904\n",
            "Next Learning Rate: 0.0005\n",
            "[2.0456345, 0.846985, 0.4315956, 0.23288171, 0.16177347, 0.120297275, 0.093507886, 0.07676, 0.06806979, 0.061797142, 0.056130655, 0.052697513]\n",
            "[0.011740673, 0.011726798, 0.01170926, 0.011690599, 0.01167568, 0.011664245, 0.011654528, 0.011646961, 0.011640971, 0.01163641, 0.011632309, 0.011627684]\n"
          ]
        },
        {
          "output_type": "stream",
          "name": "stderr",
          "text": [
            ""
          ]
        },
        {
          "output_type": "stream",
          "name": "stdout",
          "text": [
            "Epoch 13, total_loss=1.4461, reg_loss = 1.3972\n",
            "   13.32 s in train({'n_hidden_rhs': [], '..., ConditionalAutoEncoder..., cpu, <torch.utils.data.data..., AdamW ( Parameter Grou..., MSELoss(), 13, max_norm=1)\n",
            "   11.34 s in test({'n_hidden_rhs': [], '..., ConditionalAutoEncoder..., cpu, <torch.utils.data.data..., MSELoss())\n",
            "    2.37 s in test({'n_hidden_rhs': [], '..., ConditionalAutoEncoder..., cpu, <torch.utils.data.data..., MSELoss())\n",
            "Train MSE: 0.04667526\n",
            "Valid MSE: 0.0116215795\n",
            "Next Learning Rate: 0.0005\n",
            "[2.0456345, 0.846985, 0.4315956, 0.23288171, 0.16177347, 0.120297275, 0.093507886, 0.07676, 0.06806979, 0.061797142, 0.056130655, 0.052697513, 0.048629258]\n",
            "[0.011740673, 0.011726798, 0.01170926, 0.011690599, 0.01167568, 0.011664245, 0.011654528, 0.011646961, 0.011640971, 0.01163641, 0.011632309, 0.011627684, 0.011623904]\n"
          ]
        },
        {
          "output_type": "stream",
          "name": "stderr",
          "text": [
            ""
          ]
        },
        {
          "output_type": "stream",
          "name": "stdout",
          "text": [
            "Epoch 14, total_loss=1.4093, reg_loss = 1.3615\n",
            "   13.25 s in train({'n_hidden_rhs': [], '..., ConditionalAutoEncoder..., cpu, <torch.utils.data.data..., AdamW ( Parameter Grou..., MSELoss(), 14, max_norm=1)\n",
            "   11.21 s in test({'n_hidden_rhs': [], '..., ConditionalAutoEncoder..., cpu, <torch.utils.data.data..., MSELoss())\n",
            "    2.36 s in test({'n_hidden_rhs': [], '..., ConditionalAutoEncoder..., cpu, <torch.utils.data.data..., MSELoss())\n",
            "Train MSE: 0.044938523\n",
            "Valid MSE: 0.011619608\n",
            "Next Learning Rate: 0.0005\n",
            "[2.0456345, 0.846985, 0.4315956, 0.23288171, 0.16177347, 0.120297275, 0.093507886, 0.07676, 0.06806979, 0.061797142, 0.056130655, 0.052697513, 0.048629258, 0.04667526]\n",
            "[0.011740673, 0.011726798, 0.01170926, 0.011690599, 0.01167568, 0.011664245, 0.011654528, 0.011646961, 0.011640971, 0.01163641, 0.011632309, 0.011627684, 0.011623904, 0.0116215795]\n"
          ]
        },
        {
          "output_type": "stream",
          "name": "stderr",
          "text": [
            ""
          ]
        },
        {
          "output_type": "stream",
          "name": "stdout",
          "text": [
            "Epoch 15, total_loss=1.3732, reg_loss = 1.3287\n",
            "   13.08 s in train({'n_hidden_rhs': [], '..., ConditionalAutoEncoder..., cpu, <torch.utils.data.data..., AdamW ( Parameter Grou..., MSELoss(), 15, max_norm=1)\n",
            "   11.08 s in test({'n_hidden_rhs': [], '..., ConditionalAutoEncoder..., cpu, <torch.utils.data.data..., MSELoss())\n",
            "    2.36 s in test({'n_hidden_rhs': [], '..., ConditionalAutoEncoder..., cpu, <torch.utils.data.data..., MSELoss())\n",
            "Train MSE: 0.043503355\n",
            "Valid MSE: 0.011617963\n",
            "Next Learning Rate: 0.0005\n",
            "[2.0456345, 0.846985, 0.4315956, 0.23288171, 0.16177347, 0.120297275, 0.093507886, 0.07676, 0.06806979, 0.061797142, 0.056130655, 0.052697513, 0.048629258, 0.04667526, 0.044938523]\n",
            "[0.011740673, 0.011726798, 0.01170926, 0.011690599, 0.01167568, 0.011664245, 0.011654528, 0.011646961, 0.011640971, 0.01163641, 0.011632309, 0.011627684, 0.011623904, 0.0116215795, 0.011619608]\n"
          ]
        },
        {
          "output_type": "stream",
          "name": "stderr",
          "text": [
            ""
          ]
        },
        {
          "output_type": "stream",
          "name": "stdout",
          "text": [
            "Epoch 16, total_loss=1.3404, reg_loss = 1.2983\n",
            "   13.13 s in train({'n_hidden_rhs': [], '..., ConditionalAutoEncoder..., cpu, <torch.utils.data.data..., AdamW ( Parameter Grou..., MSELoss(), 16, max_norm=1)\n",
            "   11.06 s in test({'n_hidden_rhs': [], '..., ConditionalAutoEncoder..., cpu, <torch.utils.data.data..., MSELoss())\n",
            "    2.34 s in test({'n_hidden_rhs': [], '..., ConditionalAutoEncoder..., cpu, <torch.utils.data.data..., MSELoss())\n",
            "Train MSE: 0.04236575\n",
            "Valid MSE: 0.011616273\n",
            "Next Learning Rate: 0.0005\n",
            "[2.0456345, 0.846985, 0.4315956, 0.23288171, 0.16177347, 0.120297275, 0.093507886, 0.07676, 0.06806979, 0.061797142, 0.056130655, 0.052697513, 0.048629258, 0.04667526, 0.044938523, 0.043503355]\n",
            "[0.011740673, 0.011726798, 0.01170926, 0.011690599, 0.01167568, 0.011664245, 0.011654528, 0.011646961, 0.011640971, 0.01163641, 0.011632309, 0.011627684, 0.011623904, 0.0116215795, 0.011619608, 0.011617963]\n"
          ]
        },
        {
          "output_type": "stream",
          "name": "stderr",
          "text": [
            ""
          ]
        },
        {
          "output_type": "stream",
          "name": "stdout",
          "text": [
            "Epoch 17, total_loss=1.3111, reg_loss = 1.2700\n",
            "   13.18 s in train({'n_hidden_rhs': [], '..., ConditionalAutoEncoder..., cpu, <torch.utils.data.data..., AdamW ( Parameter Grou..., MSELoss(), 17, max_norm=1)\n",
            "   10.92 s in test({'n_hidden_rhs': [], '..., ConditionalAutoEncoder..., cpu, <torch.utils.data.data..., MSELoss())\n",
            "    2.28 s in test({'n_hidden_rhs': [], '..., ConditionalAutoEncoder..., cpu, <torch.utils.data.data..., MSELoss())\n",
            "Train MSE: 0.041570958\n",
            "Valid MSE: 0.011614469\n",
            "Next Learning Rate: 0.0005\n",
            "[2.0456345, 0.846985, 0.4315956, 0.23288171, 0.16177347, 0.120297275, 0.093507886, 0.07676, 0.06806979, 0.061797142, 0.056130655, 0.052697513, 0.048629258, 0.04667526, 0.044938523, 0.043503355, 0.04236575]\n",
            "[0.011740673, 0.011726798, 0.01170926, 0.011690599, 0.01167568, 0.011664245, 0.011654528, 0.011646961, 0.011640971, 0.01163641, 0.011632309, 0.011627684, 0.011623904, 0.0116215795, 0.011619608, 0.011617963, 0.011616273]\n"
          ]
        },
        {
          "output_type": "stream",
          "name": "stderr",
          "text": [
            ""
          ]
        },
        {
          "output_type": "stream",
          "name": "stdout",
          "text": [
            "Epoch 18, total_loss=1.2873, reg_loss = 1.2436\n",
            "   13.18 s in train({'n_hidden_rhs': [], '..., ConditionalAutoEncoder..., cpu, <torch.utils.data.data..., AdamW ( Parameter Grou..., MSELoss(), 18, max_norm=1)\n",
            "   11.08 s in test({'n_hidden_rhs': [], '..., ConditionalAutoEncoder..., cpu, <torch.utils.data.data..., MSELoss())\n",
            "    2.35 s in test({'n_hidden_rhs': [], '..., ConditionalAutoEncoder..., cpu, <torch.utils.data.data..., MSELoss())\n",
            "Train MSE: 0.040749427\n",
            "Valid MSE: 0.011612108\n",
            "Next Learning Rate: 0.0005\n",
            "[2.0456345, 0.846985, 0.4315956, 0.23288171, 0.16177347, 0.120297275, 0.093507886, 0.07676, 0.06806979, 0.061797142, 0.056130655, 0.052697513, 0.048629258, 0.04667526, 0.044938523, 0.043503355, 0.04236575, 0.041570958]\n",
            "[0.011740673, 0.011726798, 0.01170926, 0.011690599, 0.01167568, 0.011664245, 0.011654528, 0.011646961, 0.011640971, 0.01163641, 0.011632309, 0.011627684, 0.011623904, 0.0116215795, 0.011619608, 0.011617963, 0.011616273, 0.011614469]\n"
          ]
        },
        {
          "output_type": "stream",
          "name": "stderr",
          "text": [
            ""
          ]
        },
        {
          "output_type": "stream",
          "name": "stdout",
          "text": [
            "Epoch 19, total_loss=1.2596, reg_loss = 1.2184\n",
            "   13.23 s in train({'n_hidden_rhs': [], '..., ConditionalAutoEncoder..., cpu, <torch.utils.data.data..., AdamW ( Parameter Grou..., MSELoss(), 19, max_norm=1)\n",
            "   10.89 s in test({'n_hidden_rhs': [], '..., ConditionalAutoEncoder..., cpu, <torch.utils.data.data..., MSELoss())\n",
            "    2.34 s in test({'n_hidden_rhs': [], '..., ConditionalAutoEncoder..., cpu, <torch.utils.data.data..., MSELoss())\n",
            "Train MSE: 0.039840046\n",
            "Valid MSE: 0.011610118\n",
            "Next Learning Rate: 0.0005\n",
            "[2.0456345, 0.846985, 0.4315956, 0.23288171, 0.16177347, 0.120297275, 0.093507886, 0.07676, 0.06806979, 0.061797142, 0.056130655, 0.052697513, 0.048629258, 0.04667526, 0.044938523, 0.043503355, 0.04236575, 0.041570958, 0.040749427]\n",
            "[0.011740673, 0.011726798, 0.01170926, 0.011690599, 0.01167568, 0.011664245, 0.011654528, 0.011646961, 0.011640971, 0.01163641, 0.011632309, 0.011627684, 0.011623904, 0.0116215795, 0.011619608, 0.011617963, 0.011616273, 0.011614469, 0.011612108]\n"
          ]
        },
        {
          "output_type": "stream",
          "name": "stderr",
          "text": [
            ""
          ]
        },
        {
          "output_type": "stream",
          "name": "stdout",
          "text": [
            "Epoch 20, total_loss=1.2341, reg_loss = 1.1946\n",
            "   12.97 s in train({'n_hidden_rhs': [], '..., ConditionalAutoEncoder..., cpu, <torch.utils.data.data..., AdamW ( Parameter Grou..., MSELoss(), 20, max_norm=1)\n",
            "   11.06 s in test({'n_hidden_rhs': [], '..., ConditionalAutoEncoder..., cpu, <torch.utils.data.data..., MSELoss())\n",
            "    2.36 s in test({'n_hidden_rhs': [], '..., ConditionalAutoEncoder..., cpu, <torch.utils.data.data..., MSELoss())\n",
            "Train MSE: 0.038987044\n",
            "Valid MSE: 0.0116083305\n",
            "Next Learning Rate: 0.0005\n",
            "[2.0456345, 0.846985, 0.4315956, 0.23288171, 0.16177347, 0.120297275, 0.093507886, 0.07676, 0.06806979, 0.061797142, 0.056130655, 0.052697513, 0.048629258, 0.04667526, 0.044938523, 0.043503355, 0.04236575, 0.041570958, 0.040749427, 0.039840046]\n",
            "[0.011740673, 0.011726798, 0.01170926, 0.011690599, 0.01167568, 0.011664245, 0.011654528, 0.011646961, 0.011640971, 0.01163641, 0.011632309, 0.011627684, 0.011623904, 0.0116215795, 0.011619608, 0.011617963, 0.011616273, 0.011614469, 0.011612108, 0.011610118]\n"
          ]
        },
        {
          "output_type": "stream",
          "name": "stderr",
          "text": [
            ""
          ]
        },
        {
          "output_type": "stream",
          "name": "stdout",
          "text": [
            "Epoch 21, total_loss=1.2109, reg_loss = 1.1718\n",
            "   13.25 s in train({'n_hidden_rhs': [], '..., ConditionalAutoEncoder..., cpu, <torch.utils.data.data..., AdamW ( Parameter Grou..., MSELoss(), 21, max_norm=1)\n",
            "   11.19 s in test({'n_hidden_rhs': [], '..., ConditionalAutoEncoder..., cpu, <torch.utils.data.data..., MSELoss())\n",
            "    2.32 s in test({'n_hidden_rhs': [], '..., ConditionalAutoEncoder..., cpu, <torch.utils.data.data..., MSELoss())\n",
            "Train MSE: 0.03840387\n",
            "Valid MSE: 0.01160682\n",
            "Next Learning Rate: 0.0005\n",
            "[2.0456345, 0.846985, 0.4315956, 0.23288171, 0.16177347, 0.120297275, 0.093507886, 0.07676, 0.06806979, 0.061797142, 0.056130655, 0.052697513, 0.048629258, 0.04667526, 0.044938523, 0.043503355, 0.04236575, 0.041570958, 0.040749427, 0.039840046, 0.038987044]\n",
            "[0.011740673, 0.011726798, 0.01170926, 0.011690599, 0.01167568, 0.011664245, 0.011654528, 0.011646961, 0.011640971, 0.01163641, 0.011632309, 0.011627684, 0.011623904, 0.0116215795, 0.011619608, 0.011617963, 0.011616273, 0.011614469, 0.011612108, 0.011610118, 0.0116083305]\n"
          ]
        },
        {
          "output_type": "stream",
          "name": "stderr",
          "text": [
            ""
          ]
        },
        {
          "output_type": "stream",
          "name": "stdout",
          "text": [
            "Epoch 22, total_loss=1.1889, reg_loss = 1.1497\n",
            "   13.23 s in train({'n_hidden_rhs': [], '..., ConditionalAutoEncoder..., cpu, <torch.utils.data.data..., AdamW ( Parameter Grou..., MSELoss(), 22, max_norm=1)\n",
            "   11.14 s in test({'n_hidden_rhs': [], '..., ConditionalAutoEncoder..., cpu, <torch.utils.data.data..., MSELoss())\n",
            "    2.32 s in test({'n_hidden_rhs': [], '..., ConditionalAutoEncoder..., cpu, <torch.utils.data.data..., MSELoss())\n",
            "Train MSE: 0.037973627\n",
            "Valid MSE: 0.011605706\n",
            "Next Learning Rate: 0.0005\n",
            "[2.0456345, 0.846985, 0.4315956, 0.23288171, 0.16177347, 0.120297275, 0.093507886, 0.07676, 0.06806979, 0.061797142, 0.056130655, 0.052697513, 0.048629258, 0.04667526, 0.044938523, 0.043503355, 0.04236575, 0.041570958, 0.040749427, 0.039840046, 0.038987044, 0.03840387]\n",
            "[0.011740673, 0.011726798, 0.01170926, 0.011690599, 0.01167568, 0.011664245, 0.011654528, 0.011646961, 0.011640971, 0.01163641, 0.011632309, 0.011627684, 0.011623904, 0.0116215795, 0.011619608, 0.011617963, 0.011616273, 0.011614469, 0.011612108, 0.011610118, 0.0116083305, 0.01160682]\n"
          ]
        },
        {
          "output_type": "stream",
          "name": "stderr",
          "text": [
            ""
          ]
        },
        {
          "output_type": "stream",
          "name": "stdout",
          "text": [
            "Epoch 23, total_loss=1.1656, reg_loss = 1.1285\n",
            "   13.02 s in train({'n_hidden_rhs': [], '..., ConditionalAutoEncoder..., cpu, <torch.utils.data.data..., AdamW ( Parameter Grou..., MSELoss(), 23, max_norm=1)\n",
            "   10.83 s in test({'n_hidden_rhs': [], '..., ConditionalAutoEncoder..., cpu, <torch.utils.data.data..., MSELoss())\n",
            "    2.29 s in test({'n_hidden_rhs': [], '..., ConditionalAutoEncoder..., cpu, <torch.utils.data.data..., MSELoss())\n",
            "Train MSE: 0.037338316\n",
            "Valid MSE: 0.011604822\n",
            "Next Learning Rate: 0.00025\n",
            "[2.0456345, 0.846985, 0.4315956, 0.23288171, 0.16177347, 0.120297275, 0.093507886, 0.07676, 0.06806979, 0.061797142, 0.056130655, 0.052697513, 0.048629258, 0.04667526, 0.044938523, 0.043503355, 0.04236575, 0.041570958, 0.040749427, 0.039840046, 0.038987044, 0.03840387, 0.037973627]\n",
            "[0.011740673, 0.011726798, 0.01170926, 0.011690599, 0.01167568, 0.011664245, 0.011654528, 0.011646961, 0.011640971, 0.01163641, 0.011632309, 0.011627684, 0.011623904, 0.0116215795, 0.011619608, 0.011617963, 0.011616273, 0.011614469, 0.011612108, 0.011610118, 0.0116083305, 0.01160682, 0.011605706]\n"
          ]
        },
        {
          "output_type": "stream",
          "name": "stderr",
          "text": [
            ""
          ]
        },
        {
          "output_type": "stream",
          "name": "stdout",
          "text": [
            "Epoch 24, total_loss=1.1493, reg_loss = 1.1126\n",
            "   13.05 s in train({'n_hidden_rhs': [], '..., ConditionalAutoEncoder..., cpu, <torch.utils.data.data..., AdamW ( Parameter Grou..., MSELoss(), 24, max_norm=1)\n",
            "   10.88 s in test({'n_hidden_rhs': [], '..., ConditionalAutoEncoder..., cpu, <torch.utils.data.data..., MSELoss())\n",
            "    2.31 s in test({'n_hidden_rhs': [], '..., ConditionalAutoEncoder..., cpu, <torch.utils.data.data..., MSELoss())\n",
            "Train MSE: 0.037142668\n",
            "Valid MSE: 0.011604574\n",
            "Next Learning Rate: 0.00025\n",
            "[2.0456345, 0.846985, 0.4315956, 0.23288171, 0.16177347, 0.120297275, 0.093507886, 0.07676, 0.06806979, 0.061797142, 0.056130655, 0.052697513, 0.048629258, 0.04667526, 0.044938523, 0.043503355, 0.04236575, 0.041570958, 0.040749427, 0.039840046, 0.038987044, 0.03840387, 0.037973627, 0.037338316]\n",
            "[0.011740673, 0.011726798, 0.01170926, 0.011690599, 0.01167568, 0.011664245, 0.011654528, 0.011646961, 0.011640971, 0.01163641, 0.011632309, 0.011627684, 0.011623904, 0.0116215795, 0.011619608, 0.011617963, 0.011616273, 0.011614469, 0.011612108, 0.011610118, 0.0116083305, 0.01160682, 0.011605706, 0.011604822]\n"
          ]
        },
        {
          "output_type": "stream",
          "name": "stderr",
          "text": [
            ""
          ]
        },
        {
          "output_type": "stream",
          "name": "stdout",
          "text": [
            "Epoch 25, total_loss=1.1392, reg_loss = 1.1024\n",
            "   13.05 s in train({'n_hidden_rhs': [], '..., ConditionalAutoEncoder..., cpu, <torch.utils.data.data..., AdamW ( Parameter Grou..., MSELoss(), 25, max_norm=1)\n",
            "   10.97 s in test({'n_hidden_rhs': [], '..., ConditionalAutoEncoder..., cpu, <torch.utils.data.data..., MSELoss())\n",
            "    2.25 s in test({'n_hidden_rhs': [], '..., ConditionalAutoEncoder..., cpu, <torch.utils.data.data..., MSELoss())\n",
            "Train MSE: 0.036952257\n",
            "Valid MSE: 0.011604169\n",
            "Next Learning Rate: 0.00025\n",
            "[2.0456345, 0.846985, 0.4315956, 0.23288171, 0.16177347, 0.120297275, 0.093507886, 0.07676, 0.06806979, 0.061797142, 0.056130655, 0.052697513, 0.048629258, 0.04667526, 0.044938523, 0.043503355, 0.04236575, 0.041570958, 0.040749427, 0.039840046, 0.038987044, 0.03840387, 0.037973627, 0.037338316, 0.037142668]\n",
            "[0.011740673, 0.011726798, 0.01170926, 0.011690599, 0.01167568, 0.011664245, 0.011654528, 0.011646961, 0.011640971, 0.01163641, 0.011632309, 0.011627684, 0.011623904, 0.0116215795, 0.011619608, 0.011617963, 0.011616273, 0.011614469, 0.011612108, 0.011610118, 0.0116083305, 0.01160682, 0.011605706, 0.011604822, 0.011604574]\n"
          ]
        },
        {
          "output_type": "stream",
          "name": "stderr",
          "text": [
            ""
          ]
        },
        {
          "output_type": "stream",
          "name": "stdout",
          "text": [
            "Epoch 26, total_loss=1.1314, reg_loss = 1.0925\n",
            "   12.94 s in train({'n_hidden_rhs': [], '..., ConditionalAutoEncoder..., cpu, <torch.utils.data.data..., AdamW ( Parameter Grou..., MSELoss(), 26, max_norm=1)\n",
            "   10.82 s in test({'n_hidden_rhs': [], '..., ConditionalAutoEncoder..., cpu, <torch.utils.data.data..., MSELoss())\n",
            "    2.30 s in test({'n_hidden_rhs': [], '..., ConditionalAutoEncoder..., cpu, <torch.utils.data.data..., MSELoss())\n",
            "Train MSE: 0.03677085\n",
            "Valid MSE: 0.0116038425\n",
            "Next Learning Rate: 0.00025\n",
            "[2.0456345, 0.846985, 0.4315956, 0.23288171, 0.16177347, 0.120297275, 0.093507886, 0.07676, 0.06806979, 0.061797142, 0.056130655, 0.052697513, 0.048629258, 0.04667526, 0.044938523, 0.043503355, 0.04236575, 0.041570958, 0.040749427, 0.039840046, 0.038987044, 0.03840387, 0.037973627, 0.037338316, 0.037142668, 0.036952257]\n",
            "[0.011740673, 0.011726798, 0.01170926, 0.011690599, 0.01167568, 0.011664245, 0.011654528, 0.011646961, 0.011640971, 0.01163641, 0.011632309, 0.011627684, 0.011623904, 0.0116215795, 0.011619608, 0.011617963, 0.011616273, 0.011614469, 0.011612108, 0.011610118, 0.0116083305, 0.01160682, 0.011605706, 0.011604822, 0.011604574, 0.011604169]\n"
          ]
        },
        {
          "output_type": "stream",
          "name": "stderr",
          "text": [
            ""
          ]
        },
        {
          "output_type": "stream",
          "name": "stdout",
          "text": [
            "Epoch 27, total_loss=1.1190, reg_loss = 1.0829\n",
            "   12.92 s in train({'n_hidden_rhs': [], '..., ConditionalAutoEncoder..., cpu, <torch.utils.data.data..., AdamW ( Parameter Grou..., MSELoss(), 27, max_norm=1)\n",
            "   10.78 s in test({'n_hidden_rhs': [], '..., ConditionalAutoEncoder..., cpu, <torch.utils.data.data..., MSELoss())\n",
            "    2.30 s in test({'n_hidden_rhs': [], '..., ConditionalAutoEncoder..., cpu, <torch.utils.data.data..., MSELoss())\n",
            "Train MSE: 0.036497686\n",
            "Valid MSE: 0.011603474\n",
            "Next Learning Rate: 0.00025\n",
            "[2.0456345, 0.846985, 0.4315956, 0.23288171, 0.16177347, 0.120297275, 0.093507886, 0.07676, 0.06806979, 0.061797142, 0.056130655, 0.052697513, 0.048629258, 0.04667526, 0.044938523, 0.043503355, 0.04236575, 0.041570958, 0.040749427, 0.039840046, 0.038987044, 0.03840387, 0.037973627, 0.037338316, 0.037142668, 0.036952257, 0.03677085]\n",
            "[0.011740673, 0.011726798, 0.01170926, 0.011690599, 0.01167568, 0.011664245, 0.011654528, 0.011646961, 0.011640971, 0.01163641, 0.011632309, 0.011627684, 0.011623904, 0.0116215795, 0.011619608, 0.011617963, 0.011616273, 0.011614469, 0.011612108, 0.011610118, 0.0116083305, 0.01160682, 0.011605706, 0.011604822, 0.011604574, 0.011604169, 0.0116038425]\n"
          ]
        },
        {
          "output_type": "stream",
          "name": "stderr",
          "text": [
            ""
          ]
        },
        {
          "output_type": "stream",
          "name": "stdout",
          "text": [
            "Epoch 28, total_loss=1.1096, reg_loss = 1.0733\n",
            "   12.99 s in train({'n_hidden_rhs': [], '..., ConditionalAutoEncoder..., cpu, <torch.utils.data.data..., AdamW ( Parameter Grou..., MSELoss(), 28, max_norm=1)\n",
            "   10.91 s in test({'n_hidden_rhs': [], '..., ConditionalAutoEncoder..., cpu, <torch.utils.data.data..., MSELoss())\n",
            "    2.28 s in test({'n_hidden_rhs': [], '..., ConditionalAutoEncoder..., cpu, <torch.utils.data.data..., MSELoss())\n",
            "Train MSE: 0.03629517\n",
            "Valid MSE: 0.011603182\n",
            "Next Learning Rate: 0.00025\n",
            "[2.0456345, 0.846985, 0.4315956, 0.23288171, 0.16177347, 0.120297275, 0.093507886, 0.07676, 0.06806979, 0.061797142, 0.056130655, 0.052697513, 0.048629258, 0.04667526, 0.044938523, 0.043503355, 0.04236575, 0.041570958, 0.040749427, 0.039840046, 0.038987044, 0.03840387, 0.037973627, 0.037338316, 0.037142668, 0.036952257, 0.03677085, 0.036497686]\n",
            "[0.011740673, 0.011726798, 0.01170926, 0.011690599, 0.01167568, 0.011664245, 0.011654528, 0.011646961, 0.011640971, 0.01163641, 0.011632309, 0.011627684, 0.011623904, 0.0116215795, 0.011619608, 0.011617963, 0.011616273, 0.011614469, 0.011612108, 0.011610118, 0.0116083305, 0.01160682, 0.011605706, 0.011604822, 0.011604574, 0.011604169, 0.0116038425, 0.011603474]\n"
          ]
        },
        {
          "output_type": "stream",
          "name": "stderr",
          "text": [
            ""
          ]
        },
        {
          "output_type": "stream",
          "name": "stdout",
          "text": [
            "Epoch 29, total_loss=1.1025, reg_loss = 1.0637\n",
            "   13.12 s in train({'n_hidden_rhs': [], '..., ConditionalAutoEncoder..., cpu, <torch.utils.data.data..., AdamW ( Parameter Grou..., MSELoss(), 29, max_norm=1)\n",
            "   10.87 s in test({'n_hidden_rhs': [], '..., ConditionalAutoEncoder..., cpu, <torch.utils.data.data..., MSELoss())\n",
            "    2.33 s in test({'n_hidden_rhs': [], '..., ConditionalAutoEncoder..., cpu, <torch.utils.data.data..., MSELoss())\n",
            "Train MSE: 0.036162987\n",
            "Valid MSE: 0.011603031\n",
            "Next Learning Rate: 0.00025\n",
            "[2.0456345, 0.846985, 0.4315956, 0.23288171, 0.16177347, 0.120297275, 0.093507886, 0.07676, 0.06806979, 0.061797142, 0.056130655, 0.052697513, 0.048629258, 0.04667526, 0.044938523, 0.043503355, 0.04236575, 0.041570958, 0.040749427, 0.039840046, 0.038987044, 0.03840387, 0.037973627, 0.037338316, 0.037142668, 0.036952257, 0.03677085, 0.036497686, 0.03629517]\n",
            "[0.011740673, 0.011726798, 0.01170926, 0.011690599, 0.01167568, 0.011664245, 0.011654528, 0.011646961, 0.011640971, 0.01163641, 0.011632309, 0.011627684, 0.011623904, 0.0116215795, 0.011619608, 0.011617963, 0.011616273, 0.011614469, 0.011612108, 0.011610118, 0.0116083305, 0.01160682, 0.011605706, 0.011604822, 0.011604574, 0.011604169, 0.0116038425, 0.011603474, 0.011603182]\n"
          ]
        },
        {
          "output_type": "stream",
          "name": "stderr",
          "text": [
            ""
          ]
        },
        {
          "output_type": "stream",
          "name": "stdout",
          "text": [
            "Epoch 30, total_loss=1.0897, reg_loss = 1.0544\n",
            "   13.05 s in train({'n_hidden_rhs': [], '..., ConditionalAutoEncoder..., cpu, <torch.utils.data.data..., AdamW ( Parameter Grou..., MSELoss(), 30, max_norm=1)\n",
            "   10.87 s in test({'n_hidden_rhs': [], '..., ConditionalAutoEncoder..., cpu, <torch.utils.data.data..., MSELoss())\n",
            "    2.41 s in test({'n_hidden_rhs': [], '..., ConditionalAutoEncoder..., cpu, <torch.utils.data.data..., MSELoss())\n",
            "Train MSE: 0.035797015\n",
            "Valid MSE: 0.01160298\n",
            "Next Learning Rate: 0.00025\n",
            "[2.0456345, 0.846985, 0.4315956, 0.23288171, 0.16177347, 0.120297275, 0.093507886, 0.07676, 0.06806979, 0.061797142, 0.056130655, 0.052697513, 0.048629258, 0.04667526, 0.044938523, 0.043503355, 0.04236575, 0.041570958, 0.040749427, 0.039840046, 0.038987044, 0.03840387, 0.037973627, 0.037338316, 0.037142668, 0.036952257, 0.03677085, 0.036497686, 0.03629517, 0.036162987]\n",
            "[0.011740673, 0.011726798, 0.01170926, 0.011690599, 0.01167568, 0.011664245, 0.011654528, 0.011646961, 0.011640971, 0.01163641, 0.011632309, 0.011627684, 0.011623904, 0.0116215795, 0.011619608, 0.011617963, 0.011616273, 0.011614469, 0.011612108, 0.011610118, 0.0116083305, 0.01160682, 0.011605706, 0.011604822, 0.011604574, 0.011604169, 0.0116038425, 0.011603474, 0.011603182, 0.011603031]\n"
          ]
        },
        {
          "output_type": "stream",
          "name": "stderr",
          "text": [
            ""
          ]
        },
        {
          "output_type": "stream",
          "name": "stdout",
          "text": [
            "Epoch 31, total_loss=1.0819, reg_loss = 1.0452\n",
            "   12.92 s in train({'n_hidden_rhs': [], '..., ConditionalAutoEncoder..., cpu, <torch.utils.data.data..., AdamW ( Parameter Grou..., MSELoss(), 31, max_norm=1)\n",
            "   11.13 s in test({'n_hidden_rhs': [], '..., ConditionalAutoEncoder..., cpu, <torch.utils.data.data..., MSELoss())\n",
            "    2.39 s in test({'n_hidden_rhs': [], '..., ConditionalAutoEncoder..., cpu, <torch.utils.data.data..., MSELoss())\n",
            "Train MSE: 0.035636555\n",
            "Valid MSE: 0.011602979\n",
            "Next Learning Rate: 0.00025\n",
            "[2.0456345, 0.846985, 0.4315956, 0.23288171, 0.16177347, 0.120297275, 0.093507886, 0.07676, 0.06806979, 0.061797142, 0.056130655, 0.052697513, 0.048629258, 0.04667526, 0.044938523, 0.043503355, 0.04236575, 0.041570958, 0.040749427, 0.039840046, 0.038987044, 0.03840387, 0.037973627, 0.037338316, 0.037142668, 0.036952257, 0.03677085, 0.036497686, 0.03629517, 0.036162987, 0.035797015]\n",
            "[0.011740673, 0.011726798, 0.01170926, 0.011690599, 0.01167568, 0.011664245, 0.011654528, 0.011646961, 0.011640971, 0.01163641, 0.011632309, 0.011627684, 0.011623904, 0.0116215795, 0.011619608, 0.011617963, 0.011616273, 0.011614469, 0.011612108, 0.011610118, 0.0116083305, 0.01160682, 0.011605706, 0.011604822, 0.011604574, 0.011604169, 0.0116038425, 0.011603474, 0.011603182, 0.011603031, 0.01160298]\n"
          ]
        },
        {
          "output_type": "stream",
          "name": "stderr",
          "text": [
            ""
          ]
        },
        {
          "output_type": "stream",
          "name": "stdout",
          "text": [
            "Epoch 32, total_loss=1.0715, reg_loss = 1.0360\n",
            "   13.47 s in train({'n_hidden_rhs': [], '..., ConditionalAutoEncoder..., cpu, <torch.utils.data.data..., AdamW ( Parameter Grou..., MSELoss(), 32, max_norm=1)\n",
            "   11.14 s in test({'n_hidden_rhs': [], '..., ConditionalAutoEncoder..., cpu, <torch.utils.data.data..., MSELoss())\n",
            "    2.39 s in test({'n_hidden_rhs': [], '..., ConditionalAutoEncoder..., cpu, <torch.utils.data.data..., MSELoss())\n",
            "Train MSE: 0.03540286\n",
            "Valid MSE: 0.011602879\n",
            "Next Learning Rate: 0.00025\n",
            "[2.0456345, 0.846985, 0.4315956, 0.23288171, 0.16177347, 0.120297275, 0.093507886, 0.07676, 0.06806979, 0.061797142, 0.056130655, 0.052697513, 0.048629258, 0.04667526, 0.044938523, 0.043503355, 0.04236575, 0.041570958, 0.040749427, 0.039840046, 0.038987044, 0.03840387, 0.037973627, 0.037338316, 0.037142668, 0.036952257, 0.03677085, 0.036497686, 0.03629517, 0.036162987, 0.035797015, 0.035636555]\n",
            "[0.011740673, 0.011726798, 0.01170926, 0.011690599, 0.01167568, 0.011664245, 0.011654528, 0.011646961, 0.011640971, 0.01163641, 0.011632309, 0.011627684, 0.011623904, 0.0116215795, 0.011619608, 0.011617963, 0.011616273, 0.011614469, 0.011612108, 0.011610118, 0.0116083305, 0.01160682, 0.011605706, 0.011604822, 0.011604574, 0.011604169, 0.0116038425, 0.011603474, 0.011603182, 0.011603031, 0.01160298, 0.011602979]\n"
          ]
        },
        {
          "output_type": "stream",
          "name": "stderr",
          "text": [
            ""
          ]
        },
        {
          "output_type": "stream",
          "name": "stdout",
          "text": [
            "Epoch 33, total_loss=1.0634, reg_loss = 1.0269\n",
            "   13.23 s in train({'n_hidden_rhs': [], '..., ConditionalAutoEncoder..., cpu, <torch.utils.data.data..., AdamW ( Parameter Grou..., MSELoss(), 33, max_norm=1)\n",
            "   10.76 s in test({'n_hidden_rhs': [], '..., ConditionalAutoEncoder..., cpu, <torch.utils.data.data..., MSELoss())\n",
            "    2.39 s in test({'n_hidden_rhs': [], '..., ConditionalAutoEncoder..., cpu, <torch.utils.data.data..., MSELoss())\n",
            "Train MSE: 0.03526243\n",
            "Valid MSE: 0.01160275\n",
            "Next Learning Rate: 0.00025\n",
            "[2.0456345, 0.846985, 0.4315956, 0.23288171, 0.16177347, 0.120297275, 0.093507886, 0.07676, 0.06806979, 0.061797142, 0.056130655, 0.052697513, 0.048629258, 0.04667526, 0.044938523, 0.043503355, 0.04236575, 0.041570958, 0.040749427, 0.039840046, 0.038987044, 0.03840387, 0.037973627, 0.037338316, 0.037142668, 0.036952257, 0.03677085, 0.036497686, 0.03629517, 0.036162987, 0.035797015, 0.035636555, 0.03540286]\n",
            "[0.011740673, 0.011726798, 0.01170926, 0.011690599, 0.01167568, 0.011664245, 0.011654528, 0.011646961, 0.011640971, 0.01163641, 0.011632309, 0.011627684, 0.011623904, 0.0116215795, 0.011619608, 0.011617963, 0.011616273, 0.011614469, 0.011612108, 0.011610118, 0.0116083305, 0.01160682, 0.011605706, 0.011604822, 0.011604574, 0.011604169, 0.0116038425, 0.011603474, 0.011603182, 0.011603031, 0.01160298, 0.011602979, 0.011602879]\n"
          ]
        },
        {
          "output_type": "stream",
          "name": "stderr",
          "text": [
            ""
          ]
        },
        {
          "output_type": "stream",
          "name": "stdout",
          "text": [
            "Epoch 34, total_loss=1.0527, reg_loss = 1.0179\n",
            "   13.11 s in train({'n_hidden_rhs': [], '..., ConditionalAutoEncoder..., cpu, <torch.utils.data.data..., AdamW ( Parameter Grou..., MSELoss(), 34, max_norm=1)\n",
            "   10.98 s in test({'n_hidden_rhs': [], '..., ConditionalAutoEncoder..., cpu, <torch.utils.data.data..., MSELoss())\n",
            "    2.25 s in test({'n_hidden_rhs': [], '..., ConditionalAutoEncoder..., cpu, <torch.utils.data.data..., MSELoss())\n",
            "Train MSE: 0.03506023\n",
            "Valid MSE: 0.011602697\n",
            "Next Learning Rate: 0.00025\n",
            "[2.0456345, 0.846985, 0.4315956, 0.23288171, 0.16177347, 0.120297275, 0.093507886, 0.07676, 0.06806979, 0.061797142, 0.056130655, 0.052697513, 0.048629258, 0.04667526, 0.044938523, 0.043503355, 0.04236575, 0.041570958, 0.040749427, 0.039840046, 0.038987044, 0.03840387, 0.037973627, 0.037338316, 0.037142668, 0.036952257, 0.03677085, 0.036497686, 0.03629517, 0.036162987, 0.035797015, 0.035636555, 0.03540286, 0.03526243]\n",
            "[0.011740673, 0.011726798, 0.01170926, 0.011690599, 0.01167568, 0.011664245, 0.011654528, 0.011646961, 0.011640971, 0.01163641, 0.011632309, 0.011627684, 0.011623904, 0.0116215795, 0.011619608, 0.011617963, 0.011616273, 0.011614469, 0.011612108, 0.011610118, 0.0116083305, 0.01160682, 0.011605706, 0.011604822, 0.011604574, 0.011604169, 0.0116038425, 0.011603474, 0.011603182, 0.011603031, 0.01160298, 0.011602979, 0.011602879, 0.01160275]\n"
          ]
        },
        {
          "output_type": "stream",
          "name": "stderr",
          "text": [
            ""
          ]
        },
        {
          "output_type": "stream",
          "name": "stdout",
          "text": [
            "Epoch 35, total_loss=1.0435, reg_loss = 1.0090\n",
            "   13.14 s in train({'n_hidden_rhs': [], '..., ConditionalAutoEncoder..., cpu, <torch.utils.data.data..., AdamW ( Parameter Grou..., MSELoss(), 35, max_norm=1)\n",
            "   10.87 s in test({'n_hidden_rhs': [], '..., ConditionalAutoEncoder..., cpu, <torch.utils.data.data..., MSELoss())\n",
            "    2.34 s in test({'n_hidden_rhs': [], '..., ConditionalAutoEncoder..., cpu, <torch.utils.data.data..., MSELoss())\n",
            "Train MSE: 0.034895208\n",
            "Valid MSE: 0.01160262\n",
            "Next Learning Rate: 0.00025\n",
            "[2.0456345, 0.846985, 0.4315956, 0.23288171, 0.16177347, 0.120297275, 0.093507886, 0.07676, 0.06806979, 0.061797142, 0.056130655, 0.052697513, 0.048629258, 0.04667526, 0.044938523, 0.043503355, 0.04236575, 0.041570958, 0.040749427, 0.039840046, 0.038987044, 0.03840387, 0.037973627, 0.037338316, 0.037142668, 0.036952257, 0.03677085, 0.036497686, 0.03629517, 0.036162987, 0.035797015, 0.035636555, 0.03540286, 0.03526243, 0.03506023]\n",
            "[0.011740673, 0.011726798, 0.01170926, 0.011690599, 0.01167568, 0.011664245, 0.011654528, 0.011646961, 0.011640971, 0.01163641, 0.011632309, 0.011627684, 0.011623904, 0.0116215795, 0.011619608, 0.011617963, 0.011616273, 0.011614469, 0.011612108, 0.011610118, 0.0116083305, 0.01160682, 0.011605706, 0.011604822, 0.011604574, 0.011604169, 0.0116038425, 0.011603474, 0.011603182, 0.011603031, 0.01160298, 0.011602979, 0.011602879, 0.01160275, 0.011602697]\n"
          ]
        },
        {
          "output_type": "stream",
          "name": "stderr",
          "text": [
            ""
          ]
        },
        {
          "output_type": "stream",
          "name": "stdout",
          "text": [
            "Epoch 36, total_loss=1.0343, reg_loss = 1.0002\n",
            "   13.04 s in train({'n_hidden_rhs': [], '..., ConditionalAutoEncoder..., cpu, <torch.utils.data.data..., AdamW ( Parameter Grou..., MSELoss(), 36, max_norm=1)\n",
            "   10.95 s in test({'n_hidden_rhs': [], '..., ConditionalAutoEncoder..., cpu, <torch.utils.data.data..., MSELoss())\n",
            "    2.34 s in test({'n_hidden_rhs': [], '..., ConditionalAutoEncoder..., cpu, <torch.utils.data.data..., MSELoss())\n",
            "Train MSE: 0.034734923\n",
            "Valid MSE: 0.011602199\n",
            "Next Learning Rate: 0.00025\n",
            "[2.0456345, 0.846985, 0.4315956, 0.23288171, 0.16177347, 0.120297275, 0.093507886, 0.07676, 0.06806979, 0.061797142, 0.056130655, 0.052697513, 0.048629258, 0.04667526, 0.044938523, 0.043503355, 0.04236575, 0.041570958, 0.040749427, 0.039840046, 0.038987044, 0.03840387, 0.037973627, 0.037338316, 0.037142668, 0.036952257, 0.03677085, 0.036497686, 0.03629517, 0.036162987, 0.035797015, 0.035636555, 0.03540286, 0.03526243, 0.03506023, 0.034895208]\n",
            "[0.011740673, 0.011726798, 0.01170926, 0.011690599, 0.01167568, 0.011664245, 0.011654528, 0.011646961, 0.011640971, 0.01163641, 0.011632309, 0.011627684, 0.011623904, 0.0116215795, 0.011619608, 0.011617963, 0.011616273, 0.011614469, 0.011612108, 0.011610118, 0.0116083305, 0.01160682, 0.011605706, 0.011604822, 0.011604574, 0.011604169, 0.0116038425, 0.011603474, 0.011603182, 0.011603031, 0.01160298, 0.011602979, 0.011602879, 0.01160275, 0.011602697, 0.01160262]\n"
          ]
        },
        {
          "output_type": "stream",
          "name": "stderr",
          "text": [
            ""
          ]
        },
        {
          "output_type": "stream",
          "name": "stdout",
          "text": [
            "Epoch 37, total_loss=1.0265, reg_loss = 0.9916\n",
            "   13.11 s in train({'n_hidden_rhs': [], '..., ConditionalAutoEncoder..., cpu, <torch.utils.data.data..., AdamW ( Parameter Grou..., MSELoss(), 37, max_norm=1)\n",
            "   10.99 s in test({'n_hidden_rhs': [], '..., ConditionalAutoEncoder..., cpu, <torch.utils.data.data..., MSELoss())\n",
            "    2.29 s in test({'n_hidden_rhs': [], '..., ConditionalAutoEncoder..., cpu, <torch.utils.data.data..., MSELoss())\n",
            "Train MSE: 0.03461987\n",
            "Valid MSE: 0.011601854\n",
            "Next Learning Rate: 0.00025\n",
            "[2.0456345, 0.846985, 0.4315956, 0.23288171, 0.16177347, 0.120297275, 0.093507886, 0.07676, 0.06806979, 0.061797142, 0.056130655, 0.052697513, 0.048629258, 0.04667526, 0.044938523, 0.043503355, 0.04236575, 0.041570958, 0.040749427, 0.039840046, 0.038987044, 0.03840387, 0.037973627, 0.037338316, 0.037142668, 0.036952257, 0.03677085, 0.036497686, 0.03629517, 0.036162987, 0.035797015, 0.035636555, 0.03540286, 0.03526243, 0.03506023, 0.034895208, 0.034734923]\n",
            "[0.011740673, 0.011726798, 0.01170926, 0.011690599, 0.01167568, 0.011664245, 0.011654528, 0.011646961, 0.011640971, 0.01163641, 0.011632309, 0.011627684, 0.011623904, 0.0116215795, 0.011619608, 0.011617963, 0.011616273, 0.011614469, 0.011612108, 0.011610118, 0.0116083305, 0.01160682, 0.011605706, 0.011604822, 0.011604574, 0.011604169, 0.0116038425, 0.011603474, 0.011603182, 0.011603031, 0.01160298, 0.011602979, 0.011602879, 0.01160275, 0.011602697, 0.01160262, 0.011602199]\n"
          ]
        },
        {
          "output_type": "stream",
          "name": "stderr",
          "text": [
            ""
          ]
        },
        {
          "output_type": "stream",
          "name": "stdout",
          "text": [
            "Epoch 38, total_loss=1.0182, reg_loss = 0.9830\n",
            "   13.01 s in train({'n_hidden_rhs': [], '..., ConditionalAutoEncoder..., cpu, <torch.utils.data.data..., AdamW ( Parameter Grou..., MSELoss(), 38, max_norm=1)\n",
            "   10.84 s in test({'n_hidden_rhs': [], '..., ConditionalAutoEncoder..., cpu, <torch.utils.data.data..., MSELoss())\n",
            "    2.31 s in test({'n_hidden_rhs': [], '..., ConditionalAutoEncoder..., cpu, <torch.utils.data.data..., MSELoss())\n",
            "Train MSE: 0.034484003\n",
            "Valid MSE: 0.0116015775\n",
            "Next Learning Rate: 0.00025\n",
            "[2.0456345, 0.846985, 0.4315956, 0.23288171, 0.16177347, 0.120297275, 0.093507886, 0.07676, 0.06806979, 0.061797142, 0.056130655, 0.052697513, 0.048629258, 0.04667526, 0.044938523, 0.043503355, 0.04236575, 0.041570958, 0.040749427, 0.039840046, 0.038987044, 0.03840387, 0.037973627, 0.037338316, 0.037142668, 0.036952257, 0.03677085, 0.036497686, 0.03629517, 0.036162987, 0.035797015, 0.035636555, 0.03540286, 0.03526243, 0.03506023, 0.034895208, 0.034734923, 0.03461987]\n",
            "[0.011740673, 0.011726798, 0.01170926, 0.011690599, 0.01167568, 0.011664245, 0.011654528, 0.011646961, 0.011640971, 0.01163641, 0.011632309, 0.011627684, 0.011623904, 0.0116215795, 0.011619608, 0.011617963, 0.011616273, 0.011614469, 0.011612108, 0.011610118, 0.0116083305, 0.01160682, 0.011605706, 0.011604822, 0.011604574, 0.011604169, 0.0116038425, 0.011603474, 0.011603182, 0.011603031, 0.01160298, 0.011602979, 0.011602879, 0.01160275, 0.011602697, 0.01160262, 0.011602199, 0.011601854]\n"
          ]
        },
        {
          "output_type": "stream",
          "name": "stderr",
          "text": [
            ""
          ]
        },
        {
          "output_type": "stream",
          "name": "stdout",
          "text": [
            "Epoch 39, total_loss=1.0103, reg_loss = 0.9747\n",
            "   12.93 s in train({'n_hidden_rhs': [], '..., ConditionalAutoEncoder..., cpu, <torch.utils.data.data..., AdamW ( Parameter Grou..., MSELoss(), 39, max_norm=1)\n",
            "   10.75 s in test({'n_hidden_rhs': [], '..., ConditionalAutoEncoder..., cpu, <torch.utils.data.data..., MSELoss())\n",
            "    2.35 s in test({'n_hidden_rhs': [], '..., ConditionalAutoEncoder..., cpu, <torch.utils.data.data..., MSELoss())\n",
            "Train MSE: 0.034339055\n",
            "Valid MSE: 0.011601156\n",
            "Next Learning Rate: 0.000125\n",
            "[2.0456345, 0.846985, 0.4315956, 0.23288171, 0.16177347, 0.120297275, 0.093507886, 0.07676, 0.06806979, 0.061797142, 0.056130655, 0.052697513, 0.048629258, 0.04667526, 0.044938523, 0.043503355, 0.04236575, 0.041570958, 0.040749427, 0.039840046, 0.038987044, 0.03840387, 0.037973627, 0.037338316, 0.037142668, 0.036952257, 0.03677085, 0.036497686, 0.03629517, 0.036162987, 0.035797015, 0.035636555, 0.03540286, 0.03526243, 0.03506023, 0.034895208, 0.034734923, 0.03461987, 0.034484003]\n",
            "[0.011740673, 0.011726798, 0.01170926, 0.011690599, 0.01167568, 0.011664245, 0.011654528, 0.011646961, 0.011640971, 0.01163641, 0.011632309, 0.011627684, 0.011623904, 0.0116215795, 0.011619608, 0.011617963, 0.011616273, 0.011614469, 0.011612108, 0.011610118, 0.0116083305, 0.01160682, 0.011605706, 0.011604822, 0.011604574, 0.011604169, 0.0116038425, 0.011603474, 0.011603182, 0.011603031, 0.01160298, 0.011602979, 0.011602879, 0.01160275, 0.011602697, 0.01160262, 0.011602199, 0.011601854, 0.0116015775]\n"
          ]
        },
        {
          "output_type": "stream",
          "name": "stderr",
          "text": [
            ""
          ]
        },
        {
          "output_type": "stream",
          "name": "stdout",
          "text": [
            "Epoch 40, total_loss=1.0022, reg_loss = 0.9683\n",
            "   13.04 s in train({'n_hidden_rhs': [], '..., ConditionalAutoEncoder..., cpu, <torch.utils.data.data..., AdamW ( Parameter Grou..., MSELoss(), 40, max_norm=1)\n",
            "   11.03 s in test({'n_hidden_rhs': [], '..., ConditionalAutoEncoder..., cpu, <torch.utils.data.data..., MSELoss())\n",
            "    2.28 s in test({'n_hidden_rhs': [], '..., ConditionalAutoEncoder..., cpu, <torch.utils.data.data..., MSELoss())\n",
            "Train MSE: 0.034222532\n",
            "Valid MSE: 0.0116010085\n",
            "Next Learning Rate: 0.000125\n",
            "[2.0456345, 0.846985, 0.4315956, 0.23288171, 0.16177347, 0.120297275, 0.093507886, 0.07676, 0.06806979, 0.061797142, 0.056130655, 0.052697513, 0.048629258, 0.04667526, 0.044938523, 0.043503355, 0.04236575, 0.041570958, 0.040749427, 0.039840046, 0.038987044, 0.03840387, 0.037973627, 0.037338316, 0.037142668, 0.036952257, 0.03677085, 0.036497686, 0.03629517, 0.036162987, 0.035797015, 0.035636555, 0.03540286, 0.03526243, 0.03506023, 0.034895208, 0.034734923, 0.03461987, 0.034484003, 0.034339055]\n",
            "[0.011740673, 0.011726798, 0.01170926, 0.011690599, 0.01167568, 0.011664245, 0.011654528, 0.011646961, 0.011640971, 0.01163641, 0.011632309, 0.011627684, 0.011623904, 0.0116215795, 0.011619608, 0.011617963, 0.011616273, 0.011614469, 0.011612108, 0.011610118, 0.0116083305, 0.01160682, 0.011605706, 0.011604822, 0.011604574, 0.011604169, 0.0116038425, 0.011603474, 0.011603182, 0.011603031, 0.01160298, 0.011602979, 0.011602879, 0.01160275, 0.011602697, 0.01160262, 0.011602199, 0.011601854, 0.0116015775, 0.011601156]\n"
          ]
        },
        {
          "output_type": "stream",
          "name": "stderr",
          "text": [
            ""
          ]
        },
        {
          "output_type": "stream",
          "name": "stdout",
          "text": [
            "Epoch 41, total_loss=0.9987, reg_loss = 0.9641\n",
            "   13.14 s in train({'n_hidden_rhs': [], '..., ConditionalAutoEncoder..., cpu, <torch.utils.data.data..., AdamW ( Parameter Grou..., MSELoss(), 41, max_norm=1)\n",
            "   10.91 s in test({'n_hidden_rhs': [], '..., ConditionalAutoEncoder..., cpu, <torch.utils.data.data..., MSELoss())\n",
            "    2.33 s in test({'n_hidden_rhs': [], '..., ConditionalAutoEncoder..., cpu, <torch.utils.data.data..., MSELoss())\n",
            "Train MSE: 0.034152284\n",
            "Valid MSE: 0.011601019\n",
            "Next Learning Rate: 0.000125\n",
            "[2.0456345, 0.846985, 0.4315956, 0.23288171, 0.16177347, 0.120297275, 0.093507886, 0.07676, 0.06806979, 0.061797142, 0.056130655, 0.052697513, 0.048629258, 0.04667526, 0.044938523, 0.043503355, 0.04236575, 0.041570958, 0.040749427, 0.039840046, 0.038987044, 0.03840387, 0.037973627, 0.037338316, 0.037142668, 0.036952257, 0.03677085, 0.036497686, 0.03629517, 0.036162987, 0.035797015, 0.035636555, 0.03540286, 0.03526243, 0.03506023, 0.034895208, 0.034734923, 0.03461987, 0.034484003, 0.034339055, 0.034222532]\n",
            "[0.011740673, 0.011726798, 0.01170926, 0.011690599, 0.01167568, 0.011664245, 0.011654528, 0.011646961, 0.011640971, 0.01163641, 0.011632309, 0.011627684, 0.011623904, 0.0116215795, 0.011619608, 0.011617963, 0.011616273, 0.011614469, 0.011612108, 0.011610118, 0.0116083305, 0.01160682, 0.011605706, 0.011604822, 0.011604574, 0.011604169, 0.0116038425, 0.011603474, 0.011603182, 0.011603031, 0.01160298, 0.011602979, 0.011602879, 0.01160275, 0.011602697, 0.01160262, 0.011602199, 0.011601854, 0.0116015775, 0.011601156, 0.0116010085]\n"
          ]
        },
        {
          "output_type": "stream",
          "name": "stderr",
          "text": [
            ""
          ]
        },
        {
          "output_type": "stream",
          "name": "stdout",
          "text": [
            "Epoch 42, total_loss=0.9933, reg_loss = 0.9600\n",
            "   13.27 s in train({'n_hidden_rhs': [], '..., ConditionalAutoEncoder..., cpu, <torch.utils.data.data..., AdamW ( Parameter Grou..., MSELoss(), 42, max_norm=1)\n",
            "   10.79 s in test({'n_hidden_rhs': [], '..., ConditionalAutoEncoder..., cpu, <torch.utils.data.data..., MSELoss())\n",
            "    2.32 s in test({'n_hidden_rhs': [], '..., ConditionalAutoEncoder..., cpu, <torch.utils.data.data..., MSELoss())\n",
            "Train MSE: 0.034064204\n",
            "Valid MSE: 0.011600979\n",
            "Next Learning Rate: 0.000125\n",
            "[2.0456345, 0.846985, 0.4315956, 0.23288171, 0.16177347, 0.120297275, 0.093507886, 0.07676, 0.06806979, 0.061797142, 0.056130655, 0.052697513, 0.048629258, 0.04667526, 0.044938523, 0.043503355, 0.04236575, 0.041570958, 0.040749427, 0.039840046, 0.038987044, 0.03840387, 0.037973627, 0.037338316, 0.037142668, 0.036952257, 0.03677085, 0.036497686, 0.03629517, 0.036162987, 0.035797015, 0.035636555, 0.03540286, 0.03526243, 0.03506023, 0.034895208, 0.034734923, 0.03461987, 0.034484003, 0.034339055, 0.034222532, 0.034152284]\n",
            "[0.011740673, 0.011726798, 0.01170926, 0.011690599, 0.01167568, 0.011664245, 0.011654528, 0.011646961, 0.011640971, 0.01163641, 0.011632309, 0.011627684, 0.011623904, 0.0116215795, 0.011619608, 0.011617963, 0.011616273, 0.011614469, 0.011612108, 0.011610118, 0.0116083305, 0.01160682, 0.011605706, 0.011604822, 0.011604574, 0.011604169, 0.0116038425, 0.011603474, 0.011603182, 0.011603031, 0.01160298, 0.011602979, 0.011602879, 0.01160275, 0.011602697, 0.01160262, 0.011602199, 0.011601854, 0.0116015775, 0.011601156, 0.0116010085, 0.011601019]\n"
          ]
        },
        {
          "output_type": "stream",
          "name": "stderr",
          "text": [
            ""
          ]
        },
        {
          "output_type": "stream",
          "name": "stdout",
          "text": [
            "Epoch 43, total_loss=0.9895, reg_loss = 0.9558\n",
            "   13.13 s in train({'n_hidden_rhs': [], '..., ConditionalAutoEncoder..., cpu, <torch.utils.data.data..., AdamW ( Parameter Grou..., MSELoss(), 43, max_norm=1)\n",
            "   10.88 s in test({'n_hidden_rhs': [], '..., ConditionalAutoEncoder..., cpu, <torch.utils.data.data..., MSELoss())\n",
            "    2.25 s in test({'n_hidden_rhs': [], '..., ConditionalAutoEncoder..., cpu, <torch.utils.data.data..., MSELoss())\n",
            "Train MSE: 0.03400839\n",
            "Valid MSE: 0.011600955\n",
            "Next Learning Rate: 0.000125\n",
            "[2.0456345, 0.846985, 0.4315956, 0.23288171, 0.16177347, 0.120297275, 0.093507886, 0.07676, 0.06806979, 0.061797142, 0.056130655, 0.052697513, 0.048629258, 0.04667526, 0.044938523, 0.043503355, 0.04236575, 0.041570958, 0.040749427, 0.039840046, 0.038987044, 0.03840387, 0.037973627, 0.037338316, 0.037142668, 0.036952257, 0.03677085, 0.036497686, 0.03629517, 0.036162987, 0.035797015, 0.035636555, 0.03540286, 0.03526243, 0.03506023, 0.034895208, 0.034734923, 0.03461987, 0.034484003, 0.034339055, 0.034222532, 0.034152284, 0.034064204]\n",
            "[0.011740673, 0.011726798, 0.01170926, 0.011690599, 0.01167568, 0.011664245, 0.011654528, 0.011646961, 0.011640971, 0.01163641, 0.011632309, 0.011627684, 0.011623904, 0.0116215795, 0.011619608, 0.011617963, 0.011616273, 0.011614469, 0.011612108, 0.011610118, 0.0116083305, 0.01160682, 0.011605706, 0.011604822, 0.011604574, 0.011604169, 0.0116038425, 0.011603474, 0.011603182, 0.011603031, 0.01160298, 0.011602979, 0.011602879, 0.01160275, 0.011602697, 0.01160262, 0.011602199, 0.011601854, 0.0116015775, 0.011601156, 0.0116010085, 0.011601019, 0.011600979]\n"
          ]
        },
        {
          "output_type": "stream",
          "name": "stderr",
          "text": [
            ""
          ]
        },
        {
          "output_type": "stream",
          "name": "stdout",
          "text": [
            "Epoch 44, total_loss=0.9855, reg_loss = 0.9517\n",
            "   12.98 s in train({'n_hidden_rhs': [], '..., ConditionalAutoEncoder..., cpu, <torch.utils.data.data..., AdamW ( Parameter Grou..., MSELoss(), 44, max_norm=1)\n",
            "   10.83 s in test({'n_hidden_rhs': [], '..., ConditionalAutoEncoder..., cpu, <torch.utils.data.data..., MSELoss())\n",
            "    2.30 s in test({'n_hidden_rhs': [], '..., ConditionalAutoEncoder..., cpu, <torch.utils.data.data..., MSELoss())\n",
            "Train MSE: 0.033965442\n",
            "Valid MSE: 0.011600933\n",
            "Next Learning Rate: 0.000125\n",
            "[2.0456345, 0.846985, 0.4315956, 0.23288171, 0.16177347, 0.120297275, 0.093507886, 0.07676, 0.06806979, 0.061797142, 0.056130655, 0.052697513, 0.048629258, 0.04667526, 0.044938523, 0.043503355, 0.04236575, 0.041570958, 0.040749427, 0.039840046, 0.038987044, 0.03840387, 0.037973627, 0.037338316, 0.037142668, 0.036952257, 0.03677085, 0.036497686, 0.03629517, 0.036162987, 0.035797015, 0.035636555, 0.03540286, 0.03526243, 0.03506023, 0.034895208, 0.034734923, 0.03461987, 0.034484003, 0.034339055, 0.034222532, 0.034152284, 0.034064204, 0.03400839]\n",
            "[0.011740673, 0.011726798, 0.01170926, 0.011690599, 0.01167568, 0.011664245, 0.011654528, 0.011646961, 0.011640971, 0.01163641, 0.011632309, 0.011627684, 0.011623904, 0.0116215795, 0.011619608, 0.011617963, 0.011616273, 0.011614469, 0.011612108, 0.011610118, 0.0116083305, 0.01160682, 0.011605706, 0.011604822, 0.011604574, 0.011604169, 0.0116038425, 0.011603474, 0.011603182, 0.011603031, 0.01160298, 0.011602979, 0.011602879, 0.01160275, 0.011602697, 0.01160262, 0.011602199, 0.011601854, 0.0116015775, 0.011601156, 0.0116010085, 0.011601019, 0.011600979, 0.011600955]\n"
          ]
        },
        {
          "output_type": "stream",
          "name": "stderr",
          "text": [
            ""
          ]
        },
        {
          "output_type": "stream",
          "name": "stdout",
          "text": [
            "Epoch 45, total_loss=0.9811, reg_loss = 0.9476\n",
            "   13.16 s in train({'n_hidden_rhs': [], '..., ConditionalAutoEncoder..., cpu, <torch.utils.data.data..., AdamW ( Parameter Grou..., MSELoss(), 45, max_norm=1)\n",
            "   11.00 s in test({'n_hidden_rhs': [], '..., ConditionalAutoEncoder..., cpu, <torch.utils.data.data..., MSELoss())\n",
            "    2.35 s in test({'n_hidden_rhs': [], '..., ConditionalAutoEncoder..., cpu, <torch.utils.data.data..., MSELoss())\n",
            "Train MSE: 0.033900592\n",
            "Valid MSE: 0.0116009\n",
            "Next Learning Rate: 0.000125\n",
            "[2.0456345, 0.846985, 0.4315956, 0.23288171, 0.16177347, 0.120297275, 0.093507886, 0.07676, 0.06806979, 0.061797142, 0.056130655, 0.052697513, 0.048629258, 0.04667526, 0.044938523, 0.043503355, 0.04236575, 0.041570958, 0.040749427, 0.039840046, 0.038987044, 0.03840387, 0.037973627, 0.037338316, 0.037142668, 0.036952257, 0.03677085, 0.036497686, 0.03629517, 0.036162987, 0.035797015, 0.035636555, 0.03540286, 0.03526243, 0.03506023, 0.034895208, 0.034734923, 0.03461987, 0.034484003, 0.034339055, 0.034222532, 0.034152284, 0.034064204, 0.03400839, 0.033965442]\n",
            "[0.011740673, 0.011726798, 0.01170926, 0.011690599, 0.01167568, 0.011664245, 0.011654528, 0.011646961, 0.011640971, 0.01163641, 0.011632309, 0.011627684, 0.011623904, 0.0116215795, 0.011619608, 0.011617963, 0.011616273, 0.011614469, 0.011612108, 0.011610118, 0.0116083305, 0.01160682, 0.011605706, 0.011604822, 0.011604574, 0.011604169, 0.0116038425, 0.011603474, 0.011603182, 0.011603031, 0.01160298, 0.011602979, 0.011602879, 0.01160275, 0.011602697, 0.01160262, 0.011602199, 0.011601854, 0.0116015775, 0.011601156, 0.0116010085, 0.011601019, 0.011600979, 0.011600955, 0.011600933]\n"
          ]
        },
        {
          "output_type": "stream",
          "name": "stderr",
          "text": [
            ""
          ]
        },
        {
          "output_type": "stream",
          "name": "stdout",
          "text": [
            "Epoch 46, total_loss=0.9770, reg_loss = 0.9435\n",
            "   13.15 s in train({'n_hidden_rhs': [], '..., ConditionalAutoEncoder..., cpu, <torch.utils.data.data..., AdamW ( Parameter Grou..., MSELoss(), 46, max_norm=1)\n",
            "   10.91 s in test({'n_hidden_rhs': [], '..., ConditionalAutoEncoder..., cpu, <torch.utils.data.data..., MSELoss())\n",
            "    2.31 s in test({'n_hidden_rhs': [], '..., ConditionalAutoEncoder..., cpu, <torch.utils.data.data..., MSELoss())\n",
            "Train MSE: 0.03382282\n",
            "Valid MSE: 0.01160087\n",
            "Next Learning Rate: 0.000125\n",
            "[2.0456345, 0.846985, 0.4315956, 0.23288171, 0.16177347, 0.120297275, 0.093507886, 0.07676, 0.06806979, 0.061797142, 0.056130655, 0.052697513, 0.048629258, 0.04667526, 0.044938523, 0.043503355, 0.04236575, 0.041570958, 0.040749427, 0.039840046, 0.038987044, 0.03840387, 0.037973627, 0.037338316, 0.037142668, 0.036952257, 0.03677085, 0.036497686, 0.03629517, 0.036162987, 0.035797015, 0.035636555, 0.03540286, 0.03526243, 0.03506023, 0.034895208, 0.034734923, 0.03461987, 0.034484003, 0.034339055, 0.034222532, 0.034152284, 0.034064204, 0.03400839, 0.033965442, 0.033900592]\n",
            "[0.011740673, 0.011726798, 0.01170926, 0.011690599, 0.01167568, 0.011664245, 0.011654528, 0.011646961, 0.011640971, 0.01163641, 0.011632309, 0.011627684, 0.011623904, 0.0116215795, 0.011619608, 0.011617963, 0.011616273, 0.011614469, 0.011612108, 0.011610118, 0.0116083305, 0.01160682, 0.011605706, 0.011604822, 0.011604574, 0.011604169, 0.0116038425, 0.011603474, 0.011603182, 0.011603031, 0.01160298, 0.011602979, 0.011602879, 0.01160275, 0.011602697, 0.01160262, 0.011602199, 0.011601854, 0.0116015775, 0.011601156, 0.0116010085, 0.011601019, 0.011600979, 0.011600955, 0.011600933, 0.0116009]\n"
          ]
        },
        {
          "output_type": "stream",
          "name": "stderr",
          "text": [
            ""
          ]
        },
        {
          "output_type": "stream",
          "name": "stdout",
          "text": [
            "Epoch 47, total_loss=0.9726, reg_loss = 0.9393\n",
            "   13.12 s in train({'n_hidden_rhs': [], '..., ConditionalAutoEncoder..., cpu, <torch.utils.data.data..., AdamW ( Parameter Grou..., MSELoss(), 47, max_norm=1)\n",
            "   11.19 s in test({'n_hidden_rhs': [], '..., ConditionalAutoEncoder..., cpu, <torch.utils.data.data..., MSELoss())\n",
            "    2.32 s in test({'n_hidden_rhs': [], '..., ConditionalAutoEncoder..., cpu, <torch.utils.data.data..., MSELoss())\n",
            "Train MSE: 0.03377851\n",
            "Valid MSE: 0.011600839\n",
            "Next Learning Rate: 0.000125\n",
            "[2.0456345, 0.846985, 0.4315956, 0.23288171, 0.16177347, 0.120297275, 0.093507886, 0.07676, 0.06806979, 0.061797142, 0.056130655, 0.052697513, 0.048629258, 0.04667526, 0.044938523, 0.043503355, 0.04236575, 0.041570958, 0.040749427, 0.039840046, 0.038987044, 0.03840387, 0.037973627, 0.037338316, 0.037142668, 0.036952257, 0.03677085, 0.036497686, 0.03629517, 0.036162987, 0.035797015, 0.035636555, 0.03540286, 0.03526243, 0.03506023, 0.034895208, 0.034734923, 0.03461987, 0.034484003, 0.034339055, 0.034222532, 0.034152284, 0.034064204, 0.03400839, 0.033965442, 0.033900592, 0.03382282]\n",
            "[0.011740673, 0.011726798, 0.01170926, 0.011690599, 0.01167568, 0.011664245, 0.011654528, 0.011646961, 0.011640971, 0.01163641, 0.011632309, 0.011627684, 0.011623904, 0.0116215795, 0.011619608, 0.011617963, 0.011616273, 0.011614469, 0.011612108, 0.011610118, 0.0116083305, 0.01160682, 0.011605706, 0.011604822, 0.011604574, 0.011604169, 0.0116038425, 0.011603474, 0.011603182, 0.011603031, 0.01160298, 0.011602979, 0.011602879, 0.01160275, 0.011602697, 0.01160262, 0.011602199, 0.011601854, 0.0116015775, 0.011601156, 0.0116010085, 0.011601019, 0.011600979, 0.011600955, 0.011600933, 0.0116009, 0.01160087]\n"
          ]
        },
        {
          "output_type": "stream",
          "name": "stderr",
          "text": [
            ""
          ]
        },
        {
          "output_type": "stream",
          "name": "stdout",
          "text": [
            "Epoch 48, total_loss=0.9689, reg_loss = 0.9352\n",
            "   13.16 s in train({'n_hidden_rhs': [], '..., ConditionalAutoEncoder..., cpu, <torch.utils.data.data..., AdamW ( Parameter Grou..., MSELoss(), 48, max_norm=1)\n",
            "   10.82 s in test({'n_hidden_rhs': [], '..., ConditionalAutoEncoder..., cpu, <torch.utils.data.data..., MSELoss())\n",
            "    2.29 s in test({'n_hidden_rhs': [], '..., ConditionalAutoEncoder..., cpu, <torch.utils.data.data..., MSELoss())\n",
            "Train MSE: 0.033691704\n",
            "Valid MSE: 0.01160081\n",
            "Next Learning Rate: 0.000125\n",
            "[2.0456345, 0.846985, 0.4315956, 0.23288171, 0.16177347, 0.120297275, 0.093507886, 0.07676, 0.06806979, 0.061797142, 0.056130655, 0.052697513, 0.048629258, 0.04667526, 0.044938523, 0.043503355, 0.04236575, 0.041570958, 0.040749427, 0.039840046, 0.038987044, 0.03840387, 0.037973627, 0.037338316, 0.037142668, 0.036952257, 0.03677085, 0.036497686, 0.03629517, 0.036162987, 0.035797015, 0.035636555, 0.03540286, 0.03526243, 0.03506023, 0.034895208, 0.034734923, 0.03461987, 0.034484003, 0.034339055, 0.034222532, 0.034152284, 0.034064204, 0.03400839, 0.033965442, 0.033900592, 0.03382282, 0.03377851]\n",
            "[0.011740673, 0.011726798, 0.01170926, 0.011690599, 0.01167568, 0.011664245, 0.011654528, 0.011646961, 0.011640971, 0.01163641, 0.011632309, 0.011627684, 0.011623904, 0.0116215795, 0.011619608, 0.011617963, 0.011616273, 0.011614469, 0.011612108, 0.011610118, 0.0116083305, 0.01160682, 0.011605706, 0.011604822, 0.011604574, 0.011604169, 0.0116038425, 0.011603474, 0.011603182, 0.011603031, 0.01160298, 0.011602979, 0.011602879, 0.01160275, 0.011602697, 0.01160262, 0.011602199, 0.011601854, 0.0116015775, 0.011601156, 0.0116010085, 0.011601019, 0.011600979, 0.011600955, 0.011600933, 0.0116009, 0.01160087, 0.011600839]\n"
          ]
        },
        {
          "output_type": "stream",
          "name": "stderr",
          "text": [
            ""
          ]
        },
        {
          "output_type": "stream",
          "name": "stdout",
          "text": [
            "Epoch 49, total_loss=0.9641, reg_loss = 0.9312\n",
            "   12.97 s in train({'n_hidden_rhs': [], '..., ConditionalAutoEncoder..., cpu, <torch.utils.data.data..., AdamW ( Parameter Grou..., MSELoss(), 49, max_norm=1)\n",
            "   10.99 s in test({'n_hidden_rhs': [], '..., ConditionalAutoEncoder..., cpu, <torch.utils.data.data..., MSELoss())\n",
            "    2.27 s in test({'n_hidden_rhs': [], '..., ConditionalAutoEncoder..., cpu, <torch.utils.data.data..., MSELoss())\n",
            "Train MSE: 0.033626948\n",
            "Valid MSE: 0.01160078\n",
            "Next Learning Rate: 0.000125\n",
            "[2.0456345, 0.846985, 0.4315956, 0.23288171, 0.16177347, 0.120297275, 0.093507886, 0.07676, 0.06806979, 0.061797142, 0.056130655, 0.052697513, 0.048629258, 0.04667526, 0.044938523, 0.043503355, 0.04236575, 0.041570958, 0.040749427, 0.039840046, 0.038987044, 0.03840387, 0.037973627, 0.037338316, 0.037142668, 0.036952257, 0.03677085, 0.036497686, 0.03629517, 0.036162987, 0.035797015, 0.035636555, 0.03540286, 0.03526243, 0.03506023, 0.034895208, 0.034734923, 0.03461987, 0.034484003, 0.034339055, 0.034222532, 0.034152284, 0.034064204, 0.03400839, 0.033965442, 0.033900592, 0.03382282, 0.03377851, 0.033691704]\n",
            "[0.011740673, 0.011726798, 0.01170926, 0.011690599, 0.01167568, 0.011664245, 0.011654528, 0.011646961, 0.011640971, 0.01163641, 0.011632309, 0.011627684, 0.011623904, 0.0116215795, 0.011619608, 0.011617963, 0.011616273, 0.011614469, 0.011612108, 0.011610118, 0.0116083305, 0.01160682, 0.011605706, 0.011604822, 0.011604574, 0.011604169, 0.0116038425, 0.011603474, 0.011603182, 0.011603031, 0.01160298, 0.011602979, 0.011602879, 0.01160275, 0.011602697, 0.01160262, 0.011602199, 0.011601854, 0.0116015775, 0.011601156, 0.0116010085, 0.011601019, 0.011600979, 0.011600955, 0.011600933, 0.0116009, 0.01160087, 0.011600839, 0.01160081]\n"
          ]
        },
        {
          "output_type": "stream",
          "name": "stderr",
          "text": [
            ""
          ]
        },
        {
          "output_type": "stream",
          "name": "stdout",
          "text": [
            "Epoch 50, total_loss=0.9610, reg_loss = 0.9271\n",
            "   13.02 s in train({'n_hidden_rhs': [], '..., ConditionalAutoEncoder..., cpu, <torch.utils.data.data..., AdamW ( Parameter Grou..., MSELoss(), 50, max_norm=1)\n",
            "   10.88 s in test({'n_hidden_rhs': [], '..., ConditionalAutoEncoder..., cpu, <torch.utils.data.data..., MSELoss())\n",
            "    2.29 s in test({'n_hidden_rhs': [], '..., ConditionalAutoEncoder..., cpu, <torch.utils.data.data..., MSELoss())\n",
            "Train MSE: 0.033568\n",
            "Valid MSE: 0.01160078\n",
            "Next Learning Rate: 0.000125\n",
            "[2.0456345, 0.846985, 0.4315956, 0.23288171, 0.16177347, 0.120297275, 0.093507886, 0.07676, 0.06806979, 0.061797142, 0.056130655, 0.052697513, 0.048629258, 0.04667526, 0.044938523, 0.043503355, 0.04236575, 0.041570958, 0.040749427, 0.039840046, 0.038987044, 0.03840387, 0.037973627, 0.037338316, 0.037142668, 0.036952257, 0.03677085, 0.036497686, 0.03629517, 0.036162987, 0.035797015, 0.035636555, 0.03540286, 0.03526243, 0.03506023, 0.034895208, 0.034734923, 0.03461987, 0.034484003, 0.034339055, 0.034222532, 0.034152284, 0.034064204, 0.03400839, 0.033965442, 0.033900592, 0.03382282, 0.03377851, 0.033691704, 0.033626948]\n",
            "[0.011740673, 0.011726798, 0.01170926, 0.011690599, 0.01167568, 0.011664245, 0.011654528, 0.011646961, 0.011640971, 0.01163641, 0.011632309, 0.011627684, 0.011623904, 0.0116215795, 0.011619608, 0.011617963, 0.011616273, 0.011614469, 0.011612108, 0.011610118, 0.0116083305, 0.01160682, 0.011605706, 0.011604822, 0.011604574, 0.011604169, 0.0116038425, 0.011603474, 0.011603182, 0.011603031, 0.01160298, 0.011602979, 0.011602879, 0.01160275, 0.011602697, 0.01160262, 0.011602199, 0.011601854, 0.0116015775, 0.011601156, 0.0116010085, 0.011601019, 0.011600979, 0.011600955, 0.011600933, 0.0116009, 0.01160087, 0.011600839, 0.01160081, 0.01160078]\n"
          ]
        },
        {
          "output_type": "stream",
          "name": "stderr",
          "text": [
            ""
          ]
        },
        {
          "output_type": "stream",
          "name": "stdout",
          "text": [
            "Epoch 51, total_loss=0.9561, reg_loss = 0.9230\n",
            "   13.08 s in train({'n_hidden_rhs': [], '..., ConditionalAutoEncoder..., cpu, <torch.utils.data.data..., AdamW ( Parameter Grou..., MSELoss(), 51, max_norm=1)\n",
            "   10.89 s in test({'n_hidden_rhs': [], '..., ConditionalAutoEncoder..., cpu, <torch.utils.data.data..., MSELoss())\n",
            "    2.31 s in test({'n_hidden_rhs': [], '..., ConditionalAutoEncoder..., cpu, <torch.utils.data.data..., MSELoss())\n",
            "Train MSE: 0.033470437\n",
            "Valid MSE: 0.0116007505\n",
            "Next Learning Rate: 0.000125\n",
            "[2.0456345, 0.846985, 0.4315956, 0.23288171, 0.16177347, 0.120297275, 0.093507886, 0.07676, 0.06806979, 0.061797142, 0.056130655, 0.052697513, 0.048629258, 0.04667526, 0.044938523, 0.043503355, 0.04236575, 0.041570958, 0.040749427, 0.039840046, 0.038987044, 0.03840387, 0.037973627, 0.037338316, 0.037142668, 0.036952257, 0.03677085, 0.036497686, 0.03629517, 0.036162987, 0.035797015, 0.035636555, 0.03540286, 0.03526243, 0.03506023, 0.034895208, 0.034734923, 0.03461987, 0.034484003, 0.034339055, 0.034222532, 0.034152284, 0.034064204, 0.03400839, 0.033965442, 0.033900592, 0.03382282, 0.03377851, 0.033691704, 0.033626948, 0.033568]\n",
            "[0.011740673, 0.011726798, 0.01170926, 0.011690599, 0.01167568, 0.011664245, 0.011654528, 0.011646961, 0.011640971, 0.01163641, 0.011632309, 0.011627684, 0.011623904, 0.0116215795, 0.011619608, 0.011617963, 0.011616273, 0.011614469, 0.011612108, 0.011610118, 0.0116083305, 0.01160682, 0.011605706, 0.011604822, 0.011604574, 0.011604169, 0.0116038425, 0.011603474, 0.011603182, 0.011603031, 0.01160298, 0.011602979, 0.011602879, 0.01160275, 0.011602697, 0.01160262, 0.011602199, 0.011601854, 0.0116015775, 0.011601156, 0.0116010085, 0.011601019, 0.011600979, 0.011600955, 0.011600933, 0.0116009, 0.01160087, 0.011600839, 0.01160081, 0.01160078, 0.01160078]\n"
          ]
        },
        {
          "output_type": "stream",
          "name": "stderr",
          "text": [
            ""
          ]
        },
        {
          "output_type": "stream",
          "name": "stdout",
          "text": [
            "Epoch 52, total_loss=0.9519, reg_loss = 0.9189\n",
            "   13.05 s in train({'n_hidden_rhs': [], '..., ConditionalAutoEncoder..., cpu, <torch.utils.data.data..., AdamW ( Parameter Grou..., MSELoss(), 52, max_norm=1)\n",
            "   10.84 s in test({'n_hidden_rhs': [], '..., ConditionalAutoEncoder..., cpu, <torch.utils.data.data..., MSELoss())\n",
            "    2.35 s in test({'n_hidden_rhs': [], '..., ConditionalAutoEncoder..., cpu, <torch.utils.data.data..., MSELoss())\n",
            "Train MSE: 0.033426404\n",
            "Valid MSE: 0.011600697\n",
            "Next Learning Rate: 0.000125\n",
            "[2.0456345, 0.846985, 0.4315956, 0.23288171, 0.16177347, 0.120297275, 0.093507886, 0.07676, 0.06806979, 0.061797142, 0.056130655, 0.052697513, 0.048629258, 0.04667526, 0.044938523, 0.043503355, 0.04236575, 0.041570958, 0.040749427, 0.039840046, 0.038987044, 0.03840387, 0.037973627, 0.037338316, 0.037142668, 0.036952257, 0.03677085, 0.036497686, 0.03629517, 0.036162987, 0.035797015, 0.035636555, 0.03540286, 0.03526243, 0.03506023, 0.034895208, 0.034734923, 0.03461987, 0.034484003, 0.034339055, 0.034222532, 0.034152284, 0.034064204, 0.03400839, 0.033965442, 0.033900592, 0.03382282, 0.03377851, 0.033691704, 0.033626948, 0.033568, 0.033470437]\n",
            "[0.011740673, 0.011726798, 0.01170926, 0.011690599, 0.01167568, 0.011664245, 0.011654528, 0.011646961, 0.011640971, 0.01163641, 0.011632309, 0.011627684, 0.011623904, 0.0116215795, 0.011619608, 0.011617963, 0.011616273, 0.011614469, 0.011612108, 0.011610118, 0.0116083305, 0.01160682, 0.011605706, 0.011604822, 0.011604574, 0.011604169, 0.0116038425, 0.011603474, 0.011603182, 0.011603031, 0.01160298, 0.011602979, 0.011602879, 0.01160275, 0.011602697, 0.01160262, 0.011602199, 0.011601854, 0.0116015775, 0.011601156, 0.0116010085, 0.011601019, 0.011600979, 0.011600955, 0.011600933, 0.0116009, 0.01160087, 0.011600839, 0.01160081, 0.01160078, 0.01160078, 0.0116007505]\n"
          ]
        },
        {
          "output_type": "stream",
          "name": "stderr",
          "text": [
            ""
          ]
        },
        {
          "output_type": "stream",
          "name": "stdout",
          "text": [
            "Epoch 53, total_loss=0.9477, reg_loss = 0.9149\n",
            "   13.32 s in train({'n_hidden_rhs': [], '..., ConditionalAutoEncoder..., cpu, <torch.utils.data.data..., AdamW ( Parameter Grou..., MSELoss(), 53, max_norm=1)\n",
            "   10.86 s in test({'n_hidden_rhs': [], '..., ConditionalAutoEncoder..., cpu, <torch.utils.data.data..., MSELoss())\n",
            "    2.30 s in test({'n_hidden_rhs': [], '..., ConditionalAutoEncoder..., cpu, <torch.utils.data.data..., MSELoss())\n",
            "Train MSE: 0.03334453\n",
            "Valid MSE: 0.011600671\n",
            "Next Learning Rate: 0.000125\n",
            "[2.0456345, 0.846985, 0.4315956, 0.23288171, 0.16177347, 0.120297275, 0.093507886, 0.07676, 0.06806979, 0.061797142, 0.056130655, 0.052697513, 0.048629258, 0.04667526, 0.044938523, 0.043503355, 0.04236575, 0.041570958, 0.040749427, 0.039840046, 0.038987044, 0.03840387, 0.037973627, 0.037338316, 0.037142668, 0.036952257, 0.03677085, 0.036497686, 0.03629517, 0.036162987, 0.035797015, 0.035636555, 0.03540286, 0.03526243, 0.03506023, 0.034895208, 0.034734923, 0.03461987, 0.034484003, 0.034339055, 0.034222532, 0.034152284, 0.034064204, 0.03400839, 0.033965442, 0.033900592, 0.03382282, 0.03377851, 0.033691704, 0.033626948, 0.033568, 0.033470437, 0.033426404]\n",
            "[0.011740673, 0.011726798, 0.01170926, 0.011690599, 0.01167568, 0.011664245, 0.011654528, 0.011646961, 0.011640971, 0.01163641, 0.011632309, 0.011627684, 0.011623904, 0.0116215795, 0.011619608, 0.011617963, 0.011616273, 0.011614469, 0.011612108, 0.011610118, 0.0116083305, 0.01160682, 0.011605706, 0.011604822, 0.011604574, 0.011604169, 0.0116038425, 0.011603474, 0.011603182, 0.011603031, 0.01160298, 0.011602979, 0.011602879, 0.01160275, 0.011602697, 0.01160262, 0.011602199, 0.011601854, 0.0116015775, 0.011601156, 0.0116010085, 0.011601019, 0.011600979, 0.011600955, 0.011600933, 0.0116009, 0.01160087, 0.011600839, 0.01160081, 0.01160078, 0.01160078, 0.0116007505, 0.011600697]\n"
          ]
        },
        {
          "output_type": "stream",
          "name": "stderr",
          "text": [
            ""
          ]
        },
        {
          "output_type": "stream",
          "name": "stdout",
          "text": [
            "Epoch 54, total_loss=0.9439, reg_loss = 0.9108\n",
            "   13.23 s in train({'n_hidden_rhs': [], '..., ConditionalAutoEncoder..., cpu, <torch.utils.data.data..., AdamW ( Parameter Grou..., MSELoss(), 54, max_norm=1)\n",
            "   10.83 s in test({'n_hidden_rhs': [], '..., ConditionalAutoEncoder..., cpu, <torch.utils.data.data..., MSELoss())\n",
            "    2.31 s in test({'n_hidden_rhs': [], '..., ConditionalAutoEncoder..., cpu, <torch.utils.data.data..., MSELoss())\n",
            "Train MSE: 0.03327491\n",
            "Valid MSE: 0.011600647\n",
            "Next Learning Rate: 0.000125\n",
            "[2.0456345, 0.846985, 0.4315956, 0.23288171, 0.16177347, 0.120297275, 0.093507886, 0.07676, 0.06806979, 0.061797142, 0.056130655, 0.052697513, 0.048629258, 0.04667526, 0.044938523, 0.043503355, 0.04236575, 0.041570958, 0.040749427, 0.039840046, 0.038987044, 0.03840387, 0.037973627, 0.037338316, 0.037142668, 0.036952257, 0.03677085, 0.036497686, 0.03629517, 0.036162987, 0.035797015, 0.035636555, 0.03540286, 0.03526243, 0.03506023, 0.034895208, 0.034734923, 0.03461987, 0.034484003, 0.034339055, 0.034222532, 0.034152284, 0.034064204, 0.03400839, 0.033965442, 0.033900592, 0.03382282, 0.03377851, 0.033691704, 0.033626948, 0.033568, 0.033470437, 0.033426404, 0.03334453]\n",
            "[0.011740673, 0.011726798, 0.01170926, 0.011690599, 0.01167568, 0.011664245, 0.011654528, 0.011646961, 0.011640971, 0.01163641, 0.011632309, 0.011627684, 0.011623904, 0.0116215795, 0.011619608, 0.011617963, 0.011616273, 0.011614469, 0.011612108, 0.011610118, 0.0116083305, 0.01160682, 0.011605706, 0.011604822, 0.011604574, 0.011604169, 0.0116038425, 0.011603474, 0.011603182, 0.011603031, 0.01160298, 0.011602979, 0.011602879, 0.01160275, 0.011602697, 0.01160262, 0.011602199, 0.011601854, 0.0116015775, 0.011601156, 0.0116010085, 0.011601019, 0.011600979, 0.011600955, 0.011600933, 0.0116009, 0.01160087, 0.011600839, 0.01160081, 0.01160078, 0.01160078, 0.0116007505, 0.011600697, 0.011600671]\n"
          ]
        },
        {
          "output_type": "stream",
          "name": "stderr",
          "text": [
            ""
          ]
        },
        {
          "output_type": "stream",
          "name": "stdout",
          "text": [
            "Epoch 55, total_loss=0.9395, reg_loss = 0.9068\n",
            "   13.15 s in train({'n_hidden_rhs': [], '..., ConditionalAutoEncoder..., cpu, <torch.utils.data.data..., AdamW ( Parameter Grou..., MSELoss(), 55, max_norm=1)\n",
            "   10.92 s in test({'n_hidden_rhs': [], '..., ConditionalAutoEncoder..., cpu, <torch.utils.data.data..., MSELoss())\n",
            "    2.27 s in test({'n_hidden_rhs': [], '..., ConditionalAutoEncoder..., cpu, <torch.utils.data.data..., MSELoss())\n",
            "Train MSE: 0.03321996\n",
            "Valid MSE: 0.011600621\n",
            "Next Learning Rate: 6.25e-05\n",
            "[2.0456345, 0.846985, 0.4315956, 0.23288171, 0.16177347, 0.120297275, 0.093507886, 0.07676, 0.06806979, 0.061797142, 0.056130655, 0.052697513, 0.048629258, 0.04667526, 0.044938523, 0.043503355, 0.04236575, 0.041570958, 0.040749427, 0.039840046, 0.038987044, 0.03840387, 0.037973627, 0.037338316, 0.037142668, 0.036952257, 0.03677085, 0.036497686, 0.03629517, 0.036162987, 0.035797015, 0.035636555, 0.03540286, 0.03526243, 0.03506023, 0.034895208, 0.034734923, 0.03461987, 0.034484003, 0.034339055, 0.034222532, 0.034152284, 0.034064204, 0.03400839, 0.033965442, 0.033900592, 0.03382282, 0.03377851, 0.033691704, 0.033626948, 0.033568, 0.033470437, 0.033426404, 0.03334453, 0.03327491]\n",
            "[0.011740673, 0.011726798, 0.01170926, 0.011690599, 0.01167568, 0.011664245, 0.011654528, 0.011646961, 0.011640971, 0.01163641, 0.011632309, 0.011627684, 0.011623904, 0.0116215795, 0.011619608, 0.011617963, 0.011616273, 0.011614469, 0.011612108, 0.011610118, 0.0116083305, 0.01160682, 0.011605706, 0.011604822, 0.011604574, 0.011604169, 0.0116038425, 0.011603474, 0.011603182, 0.011603031, 0.01160298, 0.011602979, 0.011602879, 0.01160275, 0.011602697, 0.01160262, 0.011602199, 0.011601854, 0.0116015775, 0.011601156, 0.0116010085, 0.011601019, 0.011600979, 0.011600955, 0.011600933, 0.0116009, 0.01160087, 0.011600839, 0.01160081, 0.01160078, 0.01160078, 0.0116007505, 0.011600697, 0.011600671, 0.011600647]\n"
          ]
        },
        {
          "output_type": "stream",
          "name": "stderr",
          "text": [
            ""
          ]
        },
        {
          "output_type": "stream",
          "name": "stdout",
          "text": [
            "Epoch 56, total_loss=0.9362, reg_loss = 0.9036\n",
            "   13.07 s in train({'n_hidden_rhs': [], '..., ConditionalAutoEncoder..., cpu, <torch.utils.data.data..., AdamW ( Parameter Grou..., MSELoss(), 56, max_norm=1)\n",
            "   11.02 s in test({'n_hidden_rhs': [], '..., ConditionalAutoEncoder..., cpu, <torch.utils.data.data..., MSELoss())\n",
            "    2.32 s in test({'n_hidden_rhs': [], '..., ConditionalAutoEncoder..., cpu, <torch.utils.data.data..., MSELoss())\n",
            "Train MSE: 0.033183046\n",
            "Valid MSE: 0.011600607\n",
            "Next Learning Rate: 6.25e-05\n",
            "[2.0456345, 0.846985, 0.4315956, 0.23288171, 0.16177347, 0.120297275, 0.093507886, 0.07676, 0.06806979, 0.061797142, 0.056130655, 0.052697513, 0.048629258, 0.04667526, 0.044938523, 0.043503355, 0.04236575, 0.041570958, 0.040749427, 0.039840046, 0.038987044, 0.03840387, 0.037973627, 0.037338316, 0.037142668, 0.036952257, 0.03677085, 0.036497686, 0.03629517, 0.036162987, 0.035797015, 0.035636555, 0.03540286, 0.03526243, 0.03506023, 0.034895208, 0.034734923, 0.03461987, 0.034484003, 0.034339055, 0.034222532, 0.034152284, 0.034064204, 0.03400839, 0.033965442, 0.033900592, 0.03382282, 0.03377851, 0.033691704, 0.033626948, 0.033568, 0.033470437, 0.033426404, 0.03334453, 0.03327491, 0.03321996]\n",
            "[0.011740673, 0.011726798, 0.01170926, 0.011690599, 0.01167568, 0.011664245, 0.011654528, 0.011646961, 0.011640971, 0.01163641, 0.011632309, 0.011627684, 0.011623904, 0.0116215795, 0.011619608, 0.011617963, 0.011616273, 0.011614469, 0.011612108, 0.011610118, 0.0116083305, 0.01160682, 0.011605706, 0.011604822, 0.011604574, 0.011604169, 0.0116038425, 0.011603474, 0.011603182, 0.011603031, 0.01160298, 0.011602979, 0.011602879, 0.01160275, 0.011602697, 0.01160262, 0.011602199, 0.011601854, 0.0116015775, 0.011601156, 0.0116010085, 0.011601019, 0.011600979, 0.011600955, 0.011600933, 0.0116009, 0.01160087, 0.011600839, 0.01160081, 0.01160078, 0.01160078, 0.0116007505, 0.011600697, 0.011600671, 0.011600647, 0.011600621]\n"
          ]
        },
        {
          "output_type": "stream",
          "name": "stderr",
          "text": [
            ""
          ]
        },
        {
          "output_type": "stream",
          "name": "stdout",
          "text": [
            "Epoch 57, total_loss=0.9345, reg_loss = 0.9016\n",
            "   13.10 s in train({'n_hidden_rhs': [], '..., ConditionalAutoEncoder..., cpu, <torch.utils.data.data..., AdamW ( Parameter Grou..., MSELoss(), 57, max_norm=1)\n",
            "   10.79 s in test({'n_hidden_rhs': [], '..., ConditionalAutoEncoder..., cpu, <torch.utils.data.data..., MSELoss())\n",
            "    2.30 s in test({'n_hidden_rhs': [], '..., ConditionalAutoEncoder..., cpu, <torch.utils.data.data..., MSELoss())\n",
            "Train MSE: 0.03315899\n",
            "Valid MSE: 0.011600588\n",
            "Next Learning Rate: 6.25e-05\n",
            "[2.0456345, 0.846985, 0.4315956, 0.23288171, 0.16177347, 0.120297275, 0.093507886, 0.07676, 0.06806979, 0.061797142, 0.056130655, 0.052697513, 0.048629258, 0.04667526, 0.044938523, 0.043503355, 0.04236575, 0.041570958, 0.040749427, 0.039840046, 0.038987044, 0.03840387, 0.037973627, 0.037338316, 0.037142668, 0.036952257, 0.03677085, 0.036497686, 0.03629517, 0.036162987, 0.035797015, 0.035636555, 0.03540286, 0.03526243, 0.03506023, 0.034895208, 0.034734923, 0.03461987, 0.034484003, 0.034339055, 0.034222532, 0.034152284, 0.034064204, 0.03400839, 0.033965442, 0.033900592, 0.03382282, 0.03377851, 0.033691704, 0.033626948, 0.033568, 0.033470437, 0.033426404, 0.03334453, 0.03327491, 0.03321996, 0.033183046]\n",
            "[0.011740673, 0.011726798, 0.01170926, 0.011690599, 0.01167568, 0.011664245, 0.011654528, 0.011646961, 0.011640971, 0.01163641, 0.011632309, 0.011627684, 0.011623904, 0.0116215795, 0.011619608, 0.011617963, 0.011616273, 0.011614469, 0.011612108, 0.011610118, 0.0116083305, 0.01160682, 0.011605706, 0.011604822, 0.011604574, 0.011604169, 0.0116038425, 0.011603474, 0.011603182, 0.011603031, 0.01160298, 0.011602979, 0.011602879, 0.01160275, 0.011602697, 0.01160262, 0.011602199, 0.011601854, 0.0116015775, 0.011601156, 0.0116010085, 0.011601019, 0.011600979, 0.011600955, 0.011600933, 0.0116009, 0.01160087, 0.011600839, 0.01160081, 0.01160078, 0.01160078, 0.0116007505, 0.011600697, 0.011600671, 0.011600647, 0.011600621, 0.011600607]\n"
          ]
        },
        {
          "output_type": "stream",
          "name": "stderr",
          "text": [
            ""
          ]
        },
        {
          "output_type": "stream",
          "name": "stdout",
          "text": [
            "Epoch 58, total_loss=0.9319, reg_loss = 0.8995\n",
            "   12.96 s in train({'n_hidden_rhs': [], '..., ConditionalAutoEncoder..., cpu, <torch.utils.data.data..., AdamW ( Parameter Grou..., MSELoss(), 58, max_norm=1)\n",
            "   10.86 s in test({'n_hidden_rhs': [], '..., ConditionalAutoEncoder..., cpu, <torch.utils.data.data..., MSELoss())\n",
            "    2.29 s in test({'n_hidden_rhs': [], '..., ConditionalAutoEncoder..., cpu, <torch.utils.data.data..., MSELoss())\n",
            "Train MSE: 0.03312748\n",
            "Valid MSE: 0.011600567\n",
            "Next Learning Rate: 6.25e-05\n",
            "[2.0456345, 0.846985, 0.4315956, 0.23288171, 0.16177347, 0.120297275, 0.093507886, 0.07676, 0.06806979, 0.061797142, 0.056130655, 0.052697513, 0.048629258, 0.04667526, 0.044938523, 0.043503355, 0.04236575, 0.041570958, 0.040749427, 0.039840046, 0.038987044, 0.03840387, 0.037973627, 0.037338316, 0.037142668, 0.036952257, 0.03677085, 0.036497686, 0.03629517, 0.036162987, 0.035797015, 0.035636555, 0.03540286, 0.03526243, 0.03506023, 0.034895208, 0.034734923, 0.03461987, 0.034484003, 0.034339055, 0.034222532, 0.034152284, 0.034064204, 0.03400839, 0.033965442, 0.033900592, 0.03382282, 0.03377851, 0.033691704, 0.033626948, 0.033568, 0.033470437, 0.033426404, 0.03334453, 0.03327491, 0.03321996, 0.033183046, 0.03315899]\n",
            "[0.011740673, 0.011726798, 0.01170926, 0.011690599, 0.01167568, 0.011664245, 0.011654528, 0.011646961, 0.011640971, 0.01163641, 0.011632309, 0.011627684, 0.011623904, 0.0116215795, 0.011619608, 0.011617963, 0.011616273, 0.011614469, 0.011612108, 0.011610118, 0.0116083305, 0.01160682, 0.011605706, 0.011604822, 0.011604574, 0.011604169, 0.0116038425, 0.011603474, 0.011603182, 0.011603031, 0.01160298, 0.011602979, 0.011602879, 0.01160275, 0.011602697, 0.01160262, 0.011602199, 0.011601854, 0.0116015775, 0.011601156, 0.0116010085, 0.011601019, 0.011600979, 0.011600955, 0.011600933, 0.0116009, 0.01160087, 0.011600839, 0.01160081, 0.01160078, 0.01160078, 0.0116007505, 0.011600697, 0.011600671, 0.011600647, 0.011600621, 0.011600607, 0.011600588]\n"
          ]
        },
        {
          "output_type": "stream",
          "name": "stderr",
          "text": [
            ""
          ]
        },
        {
          "output_type": "stream",
          "name": "stdout",
          "text": [
            "Epoch 59, total_loss=0.9341, reg_loss = 0.8975\n",
            "   12.98 s in train({'n_hidden_rhs': [], '..., ConditionalAutoEncoder..., cpu, <torch.utils.data.data..., AdamW ( Parameter Grou..., MSELoss(), 59, max_norm=1)\n",
            "   10.92 s in test({'n_hidden_rhs': [], '..., ConditionalAutoEncoder..., cpu, <torch.utils.data.data..., MSELoss())\n",
            "    2.32 s in test({'n_hidden_rhs': [], '..., ConditionalAutoEncoder..., cpu, <torch.utils.data.data..., MSELoss())\n",
            "Train MSE: 0.033101737\n",
            "Valid MSE: 0.011600555\n",
            "Next Learning Rate: 6.25e-05\n",
            "[2.0456345, 0.846985, 0.4315956, 0.23288171, 0.16177347, 0.120297275, 0.093507886, 0.07676, 0.06806979, 0.061797142, 0.056130655, 0.052697513, 0.048629258, 0.04667526, 0.044938523, 0.043503355, 0.04236575, 0.041570958, 0.040749427, 0.039840046, 0.038987044, 0.03840387, 0.037973627, 0.037338316, 0.037142668, 0.036952257, 0.03677085, 0.036497686, 0.03629517, 0.036162987, 0.035797015, 0.035636555, 0.03540286, 0.03526243, 0.03506023, 0.034895208, 0.034734923, 0.03461987, 0.034484003, 0.034339055, 0.034222532, 0.034152284, 0.034064204, 0.03400839, 0.033965442, 0.033900592, 0.03382282, 0.03377851, 0.033691704, 0.033626948, 0.033568, 0.033470437, 0.033426404, 0.03334453, 0.03327491, 0.03321996, 0.033183046, 0.03315899, 0.03312748]\n",
            "[0.011740673, 0.011726798, 0.01170926, 0.011690599, 0.01167568, 0.011664245, 0.011654528, 0.011646961, 0.011640971, 0.01163641, 0.011632309, 0.011627684, 0.011623904, 0.0116215795, 0.011619608, 0.011617963, 0.011616273, 0.011614469, 0.011612108, 0.011610118, 0.0116083305, 0.01160682, 0.011605706, 0.011604822, 0.011604574, 0.011604169, 0.0116038425, 0.011603474, 0.011603182, 0.011603031, 0.01160298, 0.011602979, 0.011602879, 0.01160275, 0.011602697, 0.01160262, 0.011602199, 0.011601854, 0.0116015775, 0.011601156, 0.0116010085, 0.011601019, 0.011600979, 0.011600955, 0.011600933, 0.0116009, 0.01160087, 0.011600839, 0.01160081, 0.01160078, 0.01160078, 0.0116007505, 0.011600697, 0.011600671, 0.011600647, 0.011600621, 0.011600607, 0.011600588, 0.011600567]\n"
          ]
        },
        {
          "output_type": "stream",
          "name": "stderr",
          "text": [
            ""
          ]
        },
        {
          "output_type": "stream",
          "name": "stdout",
          "text": [
            "Epoch 60, total_loss=0.9297, reg_loss = 0.8955\n",
            "   12.97 s in train({'n_hidden_rhs': [], '..., ConditionalAutoEncoder..., cpu, <torch.utils.data.data..., AdamW ( Parameter Grou..., MSELoss(), 60, max_norm=1)\n",
            "   11.06 s in test({'n_hidden_rhs': [], '..., ConditionalAutoEncoder..., cpu, <torch.utils.data.data..., MSELoss())\n",
            "    2.35 s in test({'n_hidden_rhs': [], '..., ConditionalAutoEncoder..., cpu, <torch.utils.data.data..., MSELoss())\n",
            "Train MSE: 0.03300928\n",
            "Valid MSE: 0.011600537\n",
            "Next Learning Rate: 6.25e-05\n",
            "[2.0456345, 0.846985, 0.4315956, 0.23288171, 0.16177347, 0.120297275, 0.093507886, 0.07676, 0.06806979, 0.061797142, 0.056130655, 0.052697513, 0.048629258, 0.04667526, 0.044938523, 0.043503355, 0.04236575, 0.041570958, 0.040749427, 0.039840046, 0.038987044, 0.03840387, 0.037973627, 0.037338316, 0.037142668, 0.036952257, 0.03677085, 0.036497686, 0.03629517, 0.036162987, 0.035797015, 0.035636555, 0.03540286, 0.03526243, 0.03506023, 0.034895208, 0.034734923, 0.03461987, 0.034484003, 0.034339055, 0.034222532, 0.034152284, 0.034064204, 0.03400839, 0.033965442, 0.033900592, 0.03382282, 0.03377851, 0.033691704, 0.033626948, 0.033568, 0.033470437, 0.033426404, 0.03334453, 0.03327491, 0.03321996, 0.033183046, 0.03315899, 0.03312748, 0.033101737]\n",
            "[0.011740673, 0.011726798, 0.01170926, 0.011690599, 0.01167568, 0.011664245, 0.011654528, 0.011646961, 0.011640971, 0.01163641, 0.011632309, 0.011627684, 0.011623904, 0.0116215795, 0.011619608, 0.011617963, 0.011616273, 0.011614469, 0.011612108, 0.011610118, 0.0116083305, 0.01160682, 0.011605706, 0.011604822, 0.011604574, 0.011604169, 0.0116038425, 0.011603474, 0.011603182, 0.011603031, 0.01160298, 0.011602979, 0.011602879, 0.01160275, 0.011602697, 0.01160262, 0.011602199, 0.011601854, 0.0116015775, 0.011601156, 0.0116010085, 0.011601019, 0.011600979, 0.011600955, 0.011600933, 0.0116009, 0.01160087, 0.011600839, 0.01160081, 0.01160078, 0.01160078, 0.0116007505, 0.011600697, 0.011600671, 0.011600647, 0.011600621, 0.011600607, 0.011600588, 0.011600567, 0.011600555]\n",
            "Training done. Evaluating...\n"
          ]
        },
        {
          "output_type": "stream",
          "name": "stderr",
          "text": [
            "100%|██████████| 6/6 [00:03<00:00,  1.54it/s]\n",
            "100%|██████████| 4/4 [00:02<00:00,  1.67it/s]\n"
          ]
        },
        {
          "output_type": "stream",
          "name": "stdout",
          "text": [
            "pred_spearman_corr 0.020398014895025875\n",
            "pred_r2 0.0005628117939748224\n",
            "total_spearman_corr 0.017212636559082267\n",
            "total_r2 0.0003911315020106226\n",
            "long_short_SR 0.09104973995586875\n",
            "long_short_returns 0.007898857074768912\n",
            "long_short_SD 0.10016261860638884\n",
            "long_SR 0.9835059982751657\n",
            "long_returns 0.14293288273043395\n",
            "long_SD 0.14801168956803107\n",
            "short_SR 0.8637201077627921\n",
            "short_returns 0.135034025655665\n",
            "short_SD 0.16369548983575213\n",
            "Params 1: (4, (24, 12), False, (16, 8), 4)\n",
            "ConditionalAutoEncoder(\n",
            "  (macro): Sequential(\n",
            "    (0): Linear(in_features=147, out_features=16, bias=True)\n",
            "    (1): SELU()\n",
            "    (2): LayerNorm((16,), eps=1e-05, elementwise_affine=True)\n",
            "    (3): Linear(in_features=16, out_features=8, bias=True)\n",
            "    (4): SELU()\n",
            "    (5): LayerNorm((8,), eps=1e-05, elementwise_affine=True)\n",
            "    (6): Linear(in_features=8, out_features=4, bias=True)\n",
            "  )\n",
            "  (macro_lstm): LSTM(4, 4, num_layers=4)\n",
            "  (lhs): Sequential(\n",
            "    (0): Linear(in_features=45, out_features=24, bias=True)\n",
            "    (1): SELU()\n",
            "    (2): LayerNorm((24,), eps=1e-05, elementwise_affine=True)\n",
            "    (3): Linear(in_features=24, out_features=12, bias=True)\n",
            "    (4): SELU()\n",
            "    (5): LayerNorm((12,), eps=1e-05, elementwise_affine=True)\n",
            "    (6): Linear(in_features=12, out_features=4, bias=True)\n",
            "  )\n",
            "  (rhs): Sequential(\n",
            "    (0): Linear(in_features=46, out_features=4, bias=True)\n",
            "  )\n",
            ")\n",
            "   11.37 s in test({'n_hidden_rhs': [], '..., ConditionalAutoEncoder..., cpu, <torch.utils.data.data..., MSELoss())\n",
            "    2.41 s in test({'n_hidden_rhs': [], '..., ConditionalAutoEncoder..., cpu, <torch.utils.data.data..., MSELoss())\n",
            "Pre-Train Train MSE: 0.20169818\n",
            "Pre-Train Valid MSE: 0.011643858\n"
          ]
        },
        {
          "output_type": "stream",
          "name": "stderr",
          "text": [
            ""
          ]
        },
        {
          "output_type": "stream",
          "name": "stdout",
          "text": [
            "Epoch 1, total_loss=2.6165, reg_loss = 2.4749\n",
            "   13.24 s in train({'n_hidden_rhs': [], '..., ConditionalAutoEncoder..., cpu, <torch.utils.data.data..., AdamW ( Parameter Grou..., MSELoss(), 1, max_norm=1)\n",
            "   10.87 s in test({'n_hidden_rhs': [], '..., ConditionalAutoEncoder..., cpu, <torch.utils.data.data..., MSELoss())\n",
            "    2.31 s in test({'n_hidden_rhs': [], '..., ConditionalAutoEncoder..., cpu, <torch.utils.data.data..., MSELoss())\n",
            "Train MSE: 0.101675324\n",
            "Valid MSE: 0.0116260145\n",
            "Next Learning Rate: 0.0005\n",
            "[0.20169818]\n",
            "[0.011643858]\n"
          ]
        },
        {
          "output_type": "stream",
          "name": "stderr",
          "text": [
            ""
          ]
        },
        {
          "output_type": "stream",
          "name": "stdout",
          "text": [
            "Epoch 2, total_loss=2.4121, reg_loss = 2.3345\n",
            "   13.26 s in train({'n_hidden_rhs': [], '..., ConditionalAutoEncoder..., cpu, <torch.utils.data.data..., AdamW ( Parameter Grou..., MSELoss(), 2, max_norm=1)\n",
            "   11.14 s in test({'n_hidden_rhs': [], '..., ConditionalAutoEncoder..., cpu, <torch.utils.data.data..., MSELoss())\n",
            "    2.40 s in test({'n_hidden_rhs': [], '..., ConditionalAutoEncoder..., cpu, <torch.utils.data.data..., MSELoss())\n",
            "Train MSE: 0.06439494\n",
            "Valid MSE: 0.011618859\n",
            "Next Learning Rate: 0.0005\n",
            "[0.20169818, 0.101675324]\n",
            "[0.011643858, 0.0116260145]\n"
          ]
        },
        {
          "output_type": "stream",
          "name": "stderr",
          "text": [
            ""
          ]
        },
        {
          "output_type": "stream",
          "name": "stdout",
          "text": [
            "Epoch 3, total_loss=2.2537, reg_loss = 2.2000\n",
            "   13.50 s in train({'n_hidden_rhs': [], '..., ConditionalAutoEncoder..., cpu, <torch.utils.data.data..., AdamW ( Parameter Grou..., MSELoss(), 3, max_norm=1)\n",
            "   11.17 s in test({'n_hidden_rhs': [], '..., ConditionalAutoEncoder..., cpu, <torch.utils.data.data..., MSELoss())\n",
            "    2.38 s in test({'n_hidden_rhs': [], '..., ConditionalAutoEncoder..., cpu, <torch.utils.data.data..., MSELoss())\n",
            "Train MSE: 0.046818417\n",
            "Valid MSE: 0.011616419\n",
            "Next Learning Rate: 0.0005\n",
            "[0.20169818, 0.101675324, 0.06439494]\n",
            "[0.011643858, 0.0116260145, 0.011618859]\n"
          ]
        },
        {
          "output_type": "stream",
          "name": "stderr",
          "text": [
            ""
          ]
        },
        {
          "output_type": "stream",
          "name": "stdout",
          "text": [
            "Epoch 4, total_loss=2.1162, reg_loss = 2.0716\n",
            "   13.26 s in train({'n_hidden_rhs': [], '..., ConditionalAutoEncoder..., cpu, <torch.utils.data.data..., AdamW ( Parameter Grou..., MSELoss(), 4, max_norm=1)\n",
            "   11.22 s in test({'n_hidden_rhs': [], '..., ConditionalAutoEncoder..., cpu, <torch.utils.data.data..., MSELoss())\n",
            "    2.38 s in test({'n_hidden_rhs': [], '..., ConditionalAutoEncoder..., cpu, <torch.utils.data.data..., MSELoss())\n",
            "Train MSE: 0.04076932\n",
            "Valid MSE: 0.011610207\n",
            "Next Learning Rate: 0.0005\n",
            "[0.20169818, 0.101675324, 0.06439494, 0.046818417]\n",
            "[0.011643858, 0.0116260145, 0.011618859, 0.011616419]\n"
          ]
        },
        {
          "output_type": "stream",
          "name": "stderr",
          "text": [
            ""
          ]
        },
        {
          "output_type": "stream",
          "name": "stdout",
          "text": [
            "Epoch 5, total_loss=1.9887, reg_loss = 1.9502\n",
            "   13.28 s in train({'n_hidden_rhs': [], '..., ConditionalAutoEncoder..., cpu, <torch.utils.data.data..., AdamW ( Parameter Grou..., MSELoss(), 5, max_norm=1)\n",
            "   11.09 s in test({'n_hidden_rhs': [], '..., ConditionalAutoEncoder..., cpu, <torch.utils.data.data..., MSELoss())\n",
            "    2.36 s in test({'n_hidden_rhs': [], '..., ConditionalAutoEncoder..., cpu, <torch.utils.data.data..., MSELoss())\n",
            "Train MSE: 0.037424825\n",
            "Valid MSE: 0.011603973\n",
            "Next Learning Rate: 0.0005\n",
            "[0.20169818, 0.101675324, 0.06439494, 0.046818417, 0.04076932]\n",
            "[0.011643858, 0.0116260145, 0.011618859, 0.011616419, 0.011610207]\n"
          ]
        },
        {
          "output_type": "stream",
          "name": "stderr",
          "text": [
            ""
          ]
        },
        {
          "output_type": "stream",
          "name": "stdout",
          "text": [
            "Epoch 6, total_loss=1.8728, reg_loss = 1.8365\n",
            "   13.36 s in train({'n_hidden_rhs': [], '..., ConditionalAutoEncoder..., cpu, <torch.utils.data.data..., AdamW ( Parameter Grou..., MSELoss(), 6, max_norm=1)\n",
            "   11.30 s in test({'n_hidden_rhs': [], '..., ConditionalAutoEncoder..., cpu, <torch.utils.data.data..., MSELoss())\n",
            "    2.38 s in test({'n_hidden_rhs': [], '..., ConditionalAutoEncoder..., cpu, <torch.utils.data.data..., MSELoss())\n",
            "Train MSE: 0.035590187\n",
            "Valid MSE: 0.011598359\n",
            "Next Learning Rate: 0.0005\n",
            "[0.20169818, 0.101675324, 0.06439494, 0.046818417, 0.04076932, 0.037424825]\n",
            "[0.011643858, 0.0116260145, 0.011618859, 0.011616419, 0.011610207, 0.011603973]\n"
          ]
        },
        {
          "output_type": "stream",
          "name": "stderr",
          "text": [
            ""
          ]
        },
        {
          "output_type": "stream",
          "name": "stdout",
          "text": [
            "Epoch 7, total_loss=1.7651, reg_loss = 1.7304\n",
            "   13.35 s in train({'n_hidden_rhs': [], '..., ConditionalAutoEncoder..., cpu, <torch.utils.data.data..., AdamW ( Parameter Grou..., MSELoss(), 7, max_norm=1)\n",
            "   11.18 s in test({'n_hidden_rhs': [], '..., ConditionalAutoEncoder..., cpu, <torch.utils.data.data..., MSELoss())\n",
            "    2.39 s in test({'n_hidden_rhs': [], '..., ConditionalAutoEncoder..., cpu, <torch.utils.data.data..., MSELoss())\n",
            "Train MSE: 0.03456321\n",
            "Valid MSE: 0.011594576\n",
            "Next Learning Rate: 0.0005\n",
            "[0.20169818, 0.101675324, 0.06439494, 0.046818417, 0.04076932, 0.037424825, 0.035590187]\n",
            "[0.011643858, 0.0116260145, 0.011618859, 0.011616419, 0.011610207, 0.011603973, 0.011598359]\n"
          ]
        },
        {
          "output_type": "stream",
          "name": "stderr",
          "text": [
            ""
          ]
        },
        {
          "output_type": "stream",
          "name": "stdout",
          "text": [
            "Epoch 8, total_loss=1.6667, reg_loss = 1.6317\n",
            "   13.37 s in train({'n_hidden_rhs': [], '..., ConditionalAutoEncoder..., cpu, <torch.utils.data.data..., AdamW ( Parameter Grou..., MSELoss(), 8, max_norm=1)\n",
            "   11.29 s in test({'n_hidden_rhs': [], '..., ConditionalAutoEncoder..., cpu, <torch.utils.data.data..., MSELoss())\n",
            "    2.33 s in test({'n_hidden_rhs': [], '..., ConditionalAutoEncoder..., cpu, <torch.utils.data.data..., MSELoss())\n",
            "Train MSE: 0.033316456\n",
            "Valid MSE: 0.011590703\n",
            "Next Learning Rate: 0.0005\n",
            "[0.20169818, 0.101675324, 0.06439494, 0.046818417, 0.04076932, 0.037424825, 0.035590187, 0.03456321]\n",
            "[0.011643858, 0.0116260145, 0.011618859, 0.011616419, 0.011610207, 0.011603973, 0.011598359, 0.011594576]\n"
          ]
        },
        {
          "output_type": "stream",
          "name": "stderr",
          "text": [
            ""
          ]
        },
        {
          "output_type": "stream",
          "name": "stdout",
          "text": [
            "Epoch 9, total_loss=1.5726, reg_loss = 1.5400\n",
            "   13.55 s in train({'n_hidden_rhs': [], '..., ConditionalAutoEncoder..., cpu, <torch.utils.data.data..., AdamW ( Parameter Grou..., MSELoss(), 9, max_norm=1)\n",
            "   11.29 s in test({'n_hidden_rhs': [], '..., ConditionalAutoEncoder..., cpu, <torch.utils.data.data..., MSELoss())\n",
            "    2.43 s in test({'n_hidden_rhs': [], '..., ConditionalAutoEncoder..., cpu, <torch.utils.data.data..., MSELoss())\n",
            "Train MSE: 0.032420788\n",
            "Valid MSE: 0.011587046\n",
            "Next Learning Rate: 0.0005\n",
            "[0.20169818, 0.101675324, 0.06439494, 0.046818417, 0.04076932, 0.037424825, 0.035590187, 0.03456321, 0.033316456]\n",
            "[0.011643858, 0.0116260145, 0.011618859, 0.011616419, 0.011610207, 0.011603973, 0.011598359, 0.011594576, 0.011590703]\n"
          ]
        },
        {
          "output_type": "stream",
          "name": "stderr",
          "text": [
            ""
          ]
        },
        {
          "output_type": "stream",
          "name": "stdout",
          "text": [
            "Epoch 10, total_loss=1.4866, reg_loss = 1.4551\n",
            "   13.38 s in train({'n_hidden_rhs': [], '..., ConditionalAutoEncoder..., cpu, <torch.utils.data.data..., AdamW ( Parameter Grou..., MSELoss(), 10, max_norm=1)\n",
            "   10.99 s in test({'n_hidden_rhs': [], '..., ConditionalAutoEncoder..., cpu, <torch.utils.data.data..., MSELoss())\n",
            "    2.33 s in test({'n_hidden_rhs': [], '..., ConditionalAutoEncoder..., cpu, <torch.utils.data.data..., MSELoss())\n",
            "Train MSE: 0.03181701\n",
            "Valid MSE: 0.011583185\n",
            "Next Learning Rate: 0.0005\n",
            "[0.20169818, 0.101675324, 0.06439494, 0.046818417, 0.04076932, 0.037424825, 0.035590187, 0.03456321, 0.033316456, 0.032420788]\n",
            "[0.011643858, 0.0116260145, 0.011618859, 0.011616419, 0.011610207, 0.011603973, 0.011598359, 0.011594576, 0.011590703, 0.011587046]\n"
          ]
        },
        {
          "output_type": "stream",
          "name": "stderr",
          "text": [
            ""
          ]
        },
        {
          "output_type": "stream",
          "name": "stdout",
          "text": [
            "Epoch 11, total_loss=1.4105, reg_loss = 1.3765\n",
            "   13.39 s in train({'n_hidden_rhs': [], '..., ConditionalAutoEncoder..., cpu, <torch.utils.data.data..., AdamW ( Parameter Grou..., MSELoss(), 11, max_norm=1)\n",
            "   11.26 s in test({'n_hidden_rhs': [], '..., ConditionalAutoEncoder..., cpu, <torch.utils.data.data..., MSELoss())\n",
            "    2.44 s in test({'n_hidden_rhs': [], '..., ConditionalAutoEncoder..., cpu, <torch.utils.data.data..., MSELoss())\n",
            "Train MSE: 0.03123241\n",
            "Valid MSE: 0.011581505\n",
            "Next Learning Rate: 0.0005\n",
            "[0.20169818, 0.101675324, 0.06439494, 0.046818417, 0.04076932, 0.037424825, 0.035590187, 0.03456321, 0.033316456, 0.032420788, 0.03181701]\n",
            "[0.011643858, 0.0116260145, 0.011618859, 0.011616419, 0.011610207, 0.011603973, 0.011598359, 0.011594576, 0.011590703, 0.011587046, 0.011583185]\n"
          ]
        },
        {
          "output_type": "stream",
          "name": "stderr",
          "text": [
            ""
          ]
        },
        {
          "output_type": "stream",
          "name": "stdout",
          "text": [
            "Epoch 12, total_loss=1.3351, reg_loss = 1.3041\n",
            "   13.40 s in train({'n_hidden_rhs': [], '..., ConditionalAutoEncoder..., cpu, <torch.utils.data.data..., AdamW ( Parameter Grou..., MSELoss(), 12, max_norm=1)\n",
            "   11.19 s in test({'n_hidden_rhs': [], '..., ConditionalAutoEncoder..., cpu, <torch.utils.data.data..., MSELoss())\n",
            "    2.31 s in test({'n_hidden_rhs': [], '..., ConditionalAutoEncoder..., cpu, <torch.utils.data.data..., MSELoss())\n",
            "Train MSE: 0.030696915\n",
            "Valid MSE: 0.011581994\n",
            "Next Learning Rate: 0.0005\n",
            "[0.20169818, 0.101675324, 0.06439494, 0.046818417, 0.04076932, 0.037424825, 0.035590187, 0.03456321, 0.033316456, 0.032420788, 0.03181701, 0.03123241]\n",
            "[0.011643858, 0.0116260145, 0.011618859, 0.011616419, 0.011610207, 0.011603973, 0.011598359, 0.011594576, 0.011590703, 0.011587046, 0.011583185, 0.011581505]\n"
          ]
        },
        {
          "output_type": "stream",
          "name": "stderr",
          "text": [
            ""
          ]
        },
        {
          "output_type": "stream",
          "name": "stdout",
          "text": [
            "Epoch 13, total_loss=1.2672, reg_loss = 1.2369\n",
            "   13.43 s in train({'n_hidden_rhs': [], '..., ConditionalAutoEncoder..., cpu, <torch.utils.data.data..., AdamW ( Parameter Grou..., MSELoss(), 13, max_norm=1)\n",
            "   11.18 s in test({'n_hidden_rhs': [], '..., ConditionalAutoEncoder..., cpu, <torch.utils.data.data..., MSELoss())\n",
            "    2.43 s in test({'n_hidden_rhs': [], '..., ConditionalAutoEncoder..., cpu, <torch.utils.data.data..., MSELoss())\n",
            "Train MSE: 0.030283308\n",
            "Valid MSE: 0.0115808435\n",
            "Next Learning Rate: 0.0005\n",
            "[0.20169818, 0.101675324, 0.06439494, 0.046818417, 0.04076932, 0.037424825, 0.035590187, 0.03456321, 0.033316456, 0.032420788, 0.03181701, 0.03123241, 0.030696915]\n",
            "[0.011643858, 0.0116260145, 0.011618859, 0.011616419, 0.011610207, 0.011603973, 0.011598359, 0.011594576, 0.011590703, 0.011587046, 0.011583185, 0.011581505, 0.011581994]\n"
          ]
        },
        {
          "output_type": "stream",
          "name": "stderr",
          "text": [
            ""
          ]
        },
        {
          "output_type": "stream",
          "name": "stdout",
          "text": [
            "Epoch 14, total_loss=1.2042, reg_loss = 1.1739\n",
            "   13.54 s in train({'n_hidden_rhs': [], '..., ConditionalAutoEncoder..., cpu, <torch.utils.data.data..., AdamW ( Parameter Grou..., MSELoss(), 14, max_norm=1)\n",
            "   11.19 s in test({'n_hidden_rhs': [], '..., ConditionalAutoEncoder..., cpu, <torch.utils.data.data..., MSELoss())\n",
            "    2.36 s in test({'n_hidden_rhs': [], '..., ConditionalAutoEncoder..., cpu, <torch.utils.data.data..., MSELoss())\n",
            "Train MSE: 0.030055456\n",
            "Valid MSE: 0.011583834\n",
            "Next Learning Rate: 0.0005\n",
            "[0.20169818, 0.101675324, 0.06439494, 0.046818417, 0.04076932, 0.037424825, 0.035590187, 0.03456321, 0.033316456, 0.032420788, 0.03181701, 0.03123241, 0.030696915, 0.030283308]\n",
            "[0.011643858, 0.0116260145, 0.011618859, 0.011616419, 0.011610207, 0.011603973, 0.011598359, 0.011594576, 0.011590703, 0.011587046, 0.011583185, 0.011581505, 0.011581994, 0.0115808435]\n"
          ]
        },
        {
          "output_type": "stream",
          "name": "stderr",
          "text": [
            ""
          ]
        },
        {
          "output_type": "stream",
          "name": "stdout",
          "text": [
            "Epoch 15, total_loss=1.1445, reg_loss = 1.1149\n",
            "   13.28 s in train({'n_hidden_rhs': [], '..., ConditionalAutoEncoder..., cpu, <torch.utils.data.data..., AdamW ( Parameter Grou..., MSELoss(), 15, max_norm=1)\n",
            "   11.30 s in test({'n_hidden_rhs': [], '..., ConditionalAutoEncoder..., cpu, <torch.utils.data.data..., MSELoss())\n",
            "    2.41 s in test({'n_hidden_rhs': [], '..., ConditionalAutoEncoder..., cpu, <torch.utils.data.data..., MSELoss())\n",
            "Train MSE: 0.029901408\n",
            "Valid MSE: 0.011586623\n",
            "Next Learning Rate: 0.0005\n",
            "[0.20169818, 0.101675324, 0.06439494, 0.046818417, 0.04076932, 0.037424825, 0.035590187, 0.03456321, 0.033316456, 0.032420788, 0.03181701, 0.03123241, 0.030696915, 0.030283308, 0.030055456]\n",
            "[0.011643858, 0.0116260145, 0.011618859, 0.011616419, 0.011610207, 0.011603973, 0.011598359, 0.011594576, 0.011590703, 0.011587046, 0.011583185, 0.011581505, 0.011581994, 0.0115808435, 0.011583834]\n"
          ]
        },
        {
          "output_type": "stream",
          "name": "stderr",
          "text": [
            ""
          ]
        },
        {
          "output_type": "stream",
          "name": "stdout",
          "text": [
            "Epoch 16, total_loss=1.0893, reg_loss = 1.0599\n",
            "   13.31 s in train({'n_hidden_rhs': [], '..., ConditionalAutoEncoder..., cpu, <torch.utils.data.data..., AdamW ( Parameter Grou..., MSELoss(), 16, max_norm=1)\n",
            "   11.38 s in test({'n_hidden_rhs': [], '..., ConditionalAutoEncoder..., cpu, <torch.utils.data.data..., MSELoss())\n",
            "    2.36 s in test({'n_hidden_rhs': [], '..., ConditionalAutoEncoder..., cpu, <torch.utils.data.data..., MSELoss())\n",
            "Train MSE: 0.029707287\n",
            "Valid MSE: 0.011590021\n",
            "Next Learning Rate: 0.00025\n",
            "[0.20169818, 0.101675324, 0.06439494, 0.046818417, 0.04076932, 0.037424825, 0.035590187, 0.03456321, 0.033316456, 0.032420788, 0.03181701, 0.03123241, 0.030696915, 0.030283308, 0.030055456, 0.029901408]\n",
            "[0.011643858, 0.0116260145, 0.011618859, 0.011616419, 0.011610207, 0.011603973, 0.011598359, 0.011594576, 0.011590703, 0.011587046, 0.011583185, 0.011581505, 0.011581994, 0.0115808435, 0.011583834, 0.011586623]\n",
            "Training done. Evaluating...\n"
          ]
        },
        {
          "output_type": "stream",
          "name": "stderr",
          "text": [
            "100%|██████████| 6/6 [00:03<00:00,  1.54it/s]\n",
            "100%|██████████| 4/4 [00:02<00:00,  1.64it/s]\n"
          ]
        },
        {
          "output_type": "stream",
          "name": "stdout",
          "text": [
            "ConditionalAutoEncoder(\n",
            "  (macro): Sequential(\n",
            "    (0): Linear(in_features=147, out_features=16, bias=True)\n",
            "    (1): SELU()\n",
            "    (2): LayerNorm((16,), eps=1e-05, elementwise_affine=True)\n",
            "    (3): Linear(in_features=16, out_features=8, bias=True)\n",
            "    (4): SELU()\n",
            "    (5): LayerNorm((8,), eps=1e-05, elementwise_affine=True)\n",
            "    (6): Linear(in_features=8, out_features=4, bias=True)\n",
            "  )\n",
            "  (macro_lstm): LSTM(4, 4, num_layers=4)\n",
            "  (lhs): Sequential(\n",
            "    (0): Linear(in_features=45, out_features=24, bias=True)\n",
            "    (1): SELU()\n",
            "    (2): LayerNorm((24,), eps=1e-05, elementwise_affine=True)\n",
            "    (3): Linear(in_features=24, out_features=12, bias=True)\n",
            "    (4): SELU()\n",
            "    (5): LayerNorm((12,), eps=1e-05, elementwise_affine=True)\n",
            "    (6): Linear(in_features=12, out_features=4, bias=True)\n",
            "  )\n",
            "  (rhs): Sequential(\n",
            "    (0): Linear(in_features=46, out_features=4, bias=True)\n",
            "  )\n",
            ")\n",
            "   11.19 s in test({'n_hidden_rhs': [], '..., ConditionalAutoEncoder..., cpu, <torch.utils.data.data..., MSELoss())\n",
            "    2.38 s in test({'n_hidden_rhs': [], '..., ConditionalAutoEncoder..., cpu, <torch.utils.data.data..., MSELoss())\n",
            "Pre-Train Train MSE: 0.1902319\n",
            "Pre-Train Valid MSE: 0.0123189725\n"
          ]
        },
        {
          "output_type": "stream",
          "name": "stderr",
          "text": [
            ""
          ]
        },
        {
          "output_type": "stream",
          "name": "stdout",
          "text": [
            "Epoch 1, total_loss=2.5909, reg_loss = 2.4627\n",
            "   13.57 s in train({'n_hidden_rhs': [], '..., ConditionalAutoEncoder..., cpu, <torch.utils.data.data..., AdamW ( Parameter Grou..., MSELoss(), 1, max_norm=1)\n",
            "   11.69 s in test({'n_hidden_rhs': [], '..., ConditionalAutoEncoder..., cpu, <torch.utils.data.data..., MSELoss())\n",
            "    2.34 s in test({'n_hidden_rhs': [], '..., ConditionalAutoEncoder..., cpu, <torch.utils.data.data..., MSELoss())\n",
            "Train MSE: 0.086933956\n",
            "Valid MSE: 0.012235103\n",
            "Next Learning Rate: 0.0005\n",
            "[0.1902319]\n",
            "[0.0123189725]\n"
          ]
        },
        {
          "output_type": "stream",
          "name": "stderr",
          "text": [
            ""
          ]
        },
        {
          "output_type": "stream",
          "name": "stdout",
          "text": [
            "Epoch 2, total_loss=2.3913, reg_loss = 2.3236\n",
            "   13.51 s in train({'n_hidden_rhs': [], '..., ConditionalAutoEncoder..., cpu, <torch.utils.data.data..., AdamW ( Parameter Grou..., MSELoss(), 2, max_norm=1)\n",
            "   11.16 s in test({'n_hidden_rhs': [], '..., ConditionalAutoEncoder..., cpu, <torch.utils.data.data..., MSELoss())\n",
            "    2.37 s in test({'n_hidden_rhs': [], '..., ConditionalAutoEncoder..., cpu, <torch.utils.data.data..., MSELoss())\n",
            "Train MSE: 0.054897595\n",
            "Valid MSE: 0.0121121695\n",
            "Next Learning Rate: 0.0005\n",
            "[0.1902319, 0.086933956]\n",
            "[0.0123189725, 0.012235103]\n"
          ]
        },
        {
          "output_type": "stream",
          "name": "stderr",
          "text": [
            ""
          ]
        },
        {
          "output_type": "stream",
          "name": "stdout",
          "text": [
            "Epoch 3, total_loss=2.2370, reg_loss = 2.1886\n",
            "   13.37 s in train({'n_hidden_rhs': [], '..., ConditionalAutoEncoder..., cpu, <torch.utils.data.data..., AdamW ( Parameter Grou..., MSELoss(), 3, max_norm=1)\n",
            "   11.14 s in test({'n_hidden_rhs': [], '..., ConditionalAutoEncoder..., cpu, <torch.utils.data.data..., MSELoss())\n",
            "    2.40 s in test({'n_hidden_rhs': [], '..., ConditionalAutoEncoder..., cpu, <torch.utils.data.data..., MSELoss())\n",
            "Train MSE: 0.043182846\n",
            "Valid MSE: 0.012008413\n",
            "Next Learning Rate: 0.0005\n",
            "[0.1902319, 0.086933956, 0.054897595]\n",
            "[0.0123189725, 0.012235103, 0.0121121695]\n"
          ]
        },
        {
          "output_type": "stream",
          "name": "stderr",
          "text": [
            ""
          ]
        },
        {
          "output_type": "stream",
          "name": "stdout",
          "text": [
            "Epoch 4, total_loss=2.1004, reg_loss = 2.0586\n",
            "   13.28 s in train({'n_hidden_rhs': [], '..., ConditionalAutoEncoder..., cpu, <torch.utils.data.data..., AdamW ( Parameter Grou..., MSELoss(), 4, max_norm=1)\n",
            "   11.17 s in test({'n_hidden_rhs': [], '..., ConditionalAutoEncoder..., cpu, <torch.utils.data.data..., MSELoss())\n",
            "    2.36 s in test({'n_hidden_rhs': [], '..., ConditionalAutoEncoder..., cpu, <torch.utils.data.data..., MSELoss())\n",
            "Train MSE: 0.039022468\n",
            "Valid MSE: 0.011934052\n",
            "Next Learning Rate: 0.0005\n",
            "[0.1902319, 0.086933956, 0.054897595, 0.043182846]\n",
            "[0.0123189725, 0.012235103, 0.0121121695, 0.012008413]\n"
          ]
        },
        {
          "output_type": "stream",
          "name": "stderr",
          "text": [
            ""
          ]
        },
        {
          "output_type": "stream",
          "name": "stdout",
          "text": [
            "Epoch 5, total_loss=1.9728, reg_loss = 1.9361\n",
            "   13.52 s in train({'n_hidden_rhs': [], '..., ConditionalAutoEncoder..., cpu, <torch.utils.data.data..., AdamW ( Parameter Grou..., MSELoss(), 5, max_norm=1)\n",
            "   11.36 s in test({'n_hidden_rhs': [], '..., ConditionalAutoEncoder..., cpu, <torch.utils.data.data..., MSELoss())\n",
            "    2.43 s in test({'n_hidden_rhs': [], '..., ConditionalAutoEncoder..., cpu, <torch.utils.data.data..., MSELoss())\n",
            "Train MSE: 0.03582476\n",
            "Valid MSE: 0.011866952\n",
            "Next Learning Rate: 0.0005\n",
            "[0.1902319, 0.086933956, 0.054897595, 0.043182846, 0.039022468]\n",
            "[0.0123189725, 0.012235103, 0.0121121695, 0.012008413, 0.011934052]\n"
          ]
        },
        {
          "output_type": "stream",
          "name": "stderr",
          "text": [
            ""
          ]
        },
        {
          "output_type": "stream",
          "name": "stdout",
          "text": [
            "Epoch 6, total_loss=1.8564, reg_loss = 1.8219\n",
            "   13.49 s in train({'n_hidden_rhs': [], '..., ConditionalAutoEncoder..., cpu, <torch.utils.data.data..., AdamW ( Parameter Grou..., MSELoss(), 6, max_norm=1)\n",
            "   11.21 s in test({'n_hidden_rhs': [], '..., ConditionalAutoEncoder..., cpu, <torch.utils.data.data..., MSELoss())\n",
            "    2.34 s in test({'n_hidden_rhs': [], '..., ConditionalAutoEncoder..., cpu, <torch.utils.data.data..., MSELoss())\n",
            "Train MSE: 0.034170117\n",
            "Valid MSE: 0.011808653\n",
            "Next Learning Rate: 0.0005\n",
            "[0.1902319, 0.086933956, 0.054897595, 0.043182846, 0.039022468, 0.03582476]\n",
            "[0.0123189725, 0.012235103, 0.0121121695, 0.012008413, 0.011934052, 0.011866952]\n"
          ]
        },
        {
          "output_type": "stream",
          "name": "stderr",
          "text": [
            ""
          ]
        },
        {
          "output_type": "stream",
          "name": "stdout",
          "text": [
            "Epoch 7, total_loss=1.7477, reg_loss = 1.7148\n",
            "   13.44 s in train({'n_hidden_rhs': [], '..., ConditionalAutoEncoder..., cpu, <torch.utils.data.data..., AdamW ( Parameter Grou..., MSELoss(), 7, max_norm=1)\n",
            "   11.51 s in test({'n_hidden_rhs': [], '..., ConditionalAutoEncoder..., cpu, <torch.utils.data.data..., MSELoss())\n",
            "    2.39 s in test({'n_hidden_rhs': [], '..., ConditionalAutoEncoder..., cpu, <torch.utils.data.data..., MSELoss())\n",
            "Train MSE: 0.03288255\n",
            "Valid MSE: 0.011760655\n",
            "Next Learning Rate: 0.0005\n",
            "[0.1902319, 0.086933956, 0.054897595, 0.043182846, 0.039022468, 0.03582476, 0.034170117]\n",
            "[0.0123189725, 0.012235103, 0.0121121695, 0.012008413, 0.011934052, 0.011866952, 0.011808653]\n"
          ]
        },
        {
          "output_type": "stream",
          "name": "stderr",
          "text": [
            ""
          ]
        },
        {
          "output_type": "stream",
          "name": "stdout",
          "text": [
            "Epoch 8, total_loss=1.6474, reg_loss = 1.6143\n",
            "   13.61 s in train({'n_hidden_rhs': [], '..., ConditionalAutoEncoder..., cpu, <torch.utils.data.data..., AdamW ( Parameter Grou..., MSELoss(), 8, max_norm=1)\n",
            "   11.24 s in test({'n_hidden_rhs': [], '..., ConditionalAutoEncoder..., cpu, <torch.utils.data.data..., MSELoss())\n",
            "    2.40 s in test({'n_hidden_rhs': [], '..., ConditionalAutoEncoder..., cpu, <torch.utils.data.data..., MSELoss())\n",
            "Train MSE: 0.032112982\n",
            "Valid MSE: 0.011718647\n",
            "Next Learning Rate: 0.0005\n",
            "[0.1902319, 0.086933956, 0.054897595, 0.043182846, 0.039022468, 0.03582476, 0.034170117, 0.03288255]\n",
            "[0.0123189725, 0.012235103, 0.0121121695, 0.012008413, 0.011934052, 0.011866952, 0.011808653, 0.011760655]\n"
          ]
        },
        {
          "output_type": "stream",
          "name": "stderr",
          "text": [
            ""
          ]
        },
        {
          "output_type": "stream",
          "name": "stdout",
          "text": [
            "Epoch 9, total_loss=1.5533, reg_loss = 1.5211\n",
            "   13.49 s in train({'n_hidden_rhs': [], '..., ConditionalAutoEncoder..., cpu, <torch.utils.data.data..., AdamW ( Parameter Grou..., MSELoss(), 9, max_norm=1)\n",
            "   11.27 s in test({'n_hidden_rhs': [], '..., ConditionalAutoEncoder..., cpu, <torch.utils.data.data..., MSELoss())\n",
            "    2.39 s in test({'n_hidden_rhs': [], '..., ConditionalAutoEncoder..., cpu, <torch.utils.data.data..., MSELoss())\n",
            "Train MSE: 0.031371113\n",
            "Valid MSE: 0.011684196\n",
            "Next Learning Rate: 0.0005\n",
            "[0.1902319, 0.086933956, 0.054897595, 0.043182846, 0.039022468, 0.03582476, 0.034170117, 0.03288255, 0.032112982]\n",
            "[0.0123189725, 0.012235103, 0.0121121695, 0.012008413, 0.011934052, 0.011866952, 0.011808653, 0.011760655, 0.011718647]\n"
          ]
        },
        {
          "output_type": "stream",
          "name": "stderr",
          "text": [
            ""
          ]
        },
        {
          "output_type": "stream",
          "name": "stdout",
          "text": [
            "Epoch 10, total_loss=1.4664, reg_loss = 1.4354\n",
            "   13.63 s in train({'n_hidden_rhs': [], '..., ConditionalAutoEncoder..., cpu, <torch.utils.data.data..., AdamW ( Parameter Grou..., MSELoss(), 10, max_norm=1)\n",
            "   11.41 s in test({'n_hidden_rhs': [], '..., ConditionalAutoEncoder..., cpu, <torch.utils.data.data..., MSELoss())\n",
            "    2.40 s in test({'n_hidden_rhs': [], '..., ConditionalAutoEncoder..., cpu, <torch.utils.data.data..., MSELoss())\n",
            "Train MSE: 0.030735862\n",
            "Valid MSE: 0.011654892\n",
            "Next Learning Rate: 0.0005\n",
            "[0.1902319, 0.086933956, 0.054897595, 0.043182846, 0.039022468, 0.03582476, 0.034170117, 0.03288255, 0.032112982, 0.031371113]\n",
            "[0.0123189725, 0.012235103, 0.0121121695, 0.012008413, 0.011934052, 0.011866952, 0.011808653, 0.011760655, 0.011718647, 0.011684196]\n"
          ]
        },
        {
          "output_type": "stream",
          "name": "stderr",
          "text": [
            ""
          ]
        },
        {
          "output_type": "stream",
          "name": "stdout",
          "text": [
            "Epoch 11, total_loss=1.3865, reg_loss = 1.3561\n",
            "   13.56 s in train({'n_hidden_rhs': [], '..., ConditionalAutoEncoder..., cpu, <torch.utils.data.data..., AdamW ( Parameter Grou..., MSELoss(), 11, max_norm=1)\n",
            "   11.27 s in test({'n_hidden_rhs': [], '..., ConditionalAutoEncoder..., cpu, <torch.utils.data.data..., MSELoss())\n",
            "    2.48 s in test({'n_hidden_rhs': [], '..., ConditionalAutoEncoder..., cpu, <torch.utils.data.data..., MSELoss())\n",
            "Train MSE: 0.030420695\n",
            "Valid MSE: 0.011629338\n",
            "Next Learning Rate: 0.0005\n",
            "[0.1902319, 0.086933956, 0.054897595, 0.043182846, 0.039022468, 0.03582476, 0.034170117, 0.03288255, 0.032112982, 0.031371113, 0.030735862]\n",
            "[0.0123189725, 0.012235103, 0.0121121695, 0.012008413, 0.011934052, 0.011866952, 0.011808653, 0.011760655, 0.011718647, 0.011684196, 0.011654892]\n"
          ]
        },
        {
          "output_type": "stream",
          "name": "stderr",
          "text": [
            ""
          ]
        },
        {
          "output_type": "stream",
          "name": "stdout",
          "text": [
            "Epoch 12, total_loss=1.3129, reg_loss = 1.2827\n",
            "   13.86 s in train({'n_hidden_rhs': [], '..., ConditionalAutoEncoder..., cpu, <torch.utils.data.data..., AdamW ( Parameter Grou..., MSELoss(), 12, max_norm=1)\n",
            "   11.56 s in test({'n_hidden_rhs': [], '..., ConditionalAutoEncoder..., cpu, <torch.utils.data.data..., MSELoss())\n",
            "    2.45 s in test({'n_hidden_rhs': [], '..., ConditionalAutoEncoder..., cpu, <torch.utils.data.data..., MSELoss())\n",
            "Train MSE: 0.030141097\n",
            "Valid MSE: 0.011611163\n",
            "Next Learning Rate: 0.0005\n",
            "[0.1902319, 0.086933956, 0.054897595, 0.043182846, 0.039022468, 0.03582476, 0.034170117, 0.03288255, 0.032112982, 0.031371113, 0.030735862, 0.030420695]\n",
            "[0.0123189725, 0.012235103, 0.0121121695, 0.012008413, 0.011934052, 0.011866952, 0.011808653, 0.011760655, 0.011718647, 0.011684196, 0.011654892, 0.011629338]\n"
          ]
        },
        {
          "output_type": "stream",
          "name": "stderr",
          "text": [
            ""
          ]
        },
        {
          "output_type": "stream",
          "name": "stdout",
          "text": [
            "Epoch 13, total_loss=1.2449, reg_loss = 1.2150\n",
            "   13.74 s in train({'n_hidden_rhs': [], '..., ConditionalAutoEncoder..., cpu, <torch.utils.data.data..., AdamW ( Parameter Grou..., MSELoss(), 13, max_norm=1)\n",
            "   11.34 s in test({'n_hidden_rhs': [], '..., ConditionalAutoEncoder..., cpu, <torch.utils.data.data..., MSELoss())\n",
            "    2.36 s in test({'n_hidden_rhs': [], '..., ConditionalAutoEncoder..., cpu, <torch.utils.data.data..., MSELoss())\n",
            "Train MSE: 0.029972272\n",
            "Valid MSE: 0.01159493\n",
            "Next Learning Rate: 0.0005\n",
            "[0.1902319, 0.086933956, 0.054897595, 0.043182846, 0.039022468, 0.03582476, 0.034170117, 0.03288255, 0.032112982, 0.031371113, 0.030735862, 0.030420695, 0.030141097]\n",
            "[0.0123189725, 0.012235103, 0.0121121695, 0.012008413, 0.011934052, 0.011866952, 0.011808653, 0.011760655, 0.011718647, 0.011684196, 0.011654892, 0.011629338, 0.011611163]\n"
          ]
        },
        {
          "output_type": "stream",
          "name": "stderr",
          "text": [
            ""
          ]
        },
        {
          "output_type": "stream",
          "name": "stdout",
          "text": [
            "Epoch 14, total_loss=1.1816, reg_loss = 1.1522\n",
            "   13.50 s in train({'n_hidden_rhs': [], '..., ConditionalAutoEncoder..., cpu, <torch.utils.data.data..., AdamW ( Parameter Grou..., MSELoss(), 14, max_norm=1)\n",
            "   11.17 s in test({'n_hidden_rhs': [], '..., ConditionalAutoEncoder..., cpu, <torch.utils.data.data..., MSELoss())\n",
            "    2.43 s in test({'n_hidden_rhs': [], '..., ConditionalAutoEncoder..., cpu, <torch.utils.data.data..., MSELoss())\n",
            "Train MSE: 0.029787162\n",
            "Valid MSE: 0.0115826\n",
            "Next Learning Rate: 0.0005\n",
            "[0.1902319, 0.086933956, 0.054897595, 0.043182846, 0.039022468, 0.03582476, 0.034170117, 0.03288255, 0.032112982, 0.031371113, 0.030735862, 0.030420695, 0.030141097, 0.029972272]\n",
            "[0.0123189725, 0.012235103, 0.0121121695, 0.012008413, 0.011934052, 0.011866952, 0.011808653, 0.011760655, 0.011718647, 0.011684196, 0.011654892, 0.011629338, 0.011611163, 0.01159493]\n"
          ]
        },
        {
          "output_type": "stream",
          "name": "stderr",
          "text": [
            ""
          ]
        },
        {
          "output_type": "stream",
          "name": "stdout",
          "text": [
            "Epoch 15, total_loss=1.1234, reg_loss = 1.0942\n",
            "   13.34 s in train({'n_hidden_rhs': [], '..., ConditionalAutoEncoder..., cpu, <torch.utils.data.data..., AdamW ( Parameter Grou..., MSELoss(), 15, max_norm=1)\n",
            "   11.21 s in test({'n_hidden_rhs': [], '..., ConditionalAutoEncoder..., cpu, <torch.utils.data.data..., MSELoss())\n",
            "    2.41 s in test({'n_hidden_rhs': [], '..., ConditionalAutoEncoder..., cpu, <torch.utils.data.data..., MSELoss())\n",
            "Train MSE: 0.029608246\n",
            "Valid MSE: 0.011582949\n",
            "Next Learning Rate: 0.0005\n",
            "[0.1902319, 0.086933956, 0.054897595, 0.043182846, 0.039022468, 0.03582476, 0.034170117, 0.03288255, 0.032112982, 0.031371113, 0.030735862, 0.030420695, 0.030141097, 0.029972272, 0.029787162]\n",
            "[0.0123189725, 0.012235103, 0.0121121695, 0.012008413, 0.011934052, 0.011866952, 0.011808653, 0.011760655, 0.011718647, 0.011684196, 0.011654892, 0.011629338, 0.011611163, 0.01159493, 0.0115826]\n"
          ]
        },
        {
          "output_type": "stream",
          "name": "stderr",
          "text": [
            ""
          ]
        },
        {
          "output_type": "stream",
          "name": "stdout",
          "text": [
            "Epoch 16, total_loss=1.0700, reg_loss = 1.0401\n",
            "   13.67 s in train({'n_hidden_rhs': [], '..., ConditionalAutoEncoder..., cpu, <torch.utils.data.data..., AdamW ( Parameter Grou..., MSELoss(), 16, max_norm=1)\n"
          ]
        }
      ]
    },
    {
      "cell_type": "code",
      "source": [
        "res_dict"
      ],
      "metadata": {
        "id": "Hkm86aHEkR1r"
      },
      "execution_count": null,
      "outputs": []
    }
  ]
}