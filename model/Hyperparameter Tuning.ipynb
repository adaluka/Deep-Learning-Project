{
 "cells": [
  {
   "cell_type": "code",
   "execution_count": 1,
   "id": "92d6558f",
   "metadata": {},
   "outputs": [
    {
     "name": "stderr",
     "output_type": "stream",
     "text": [
      "/opt/conda/envs/pytorch/lib/python3.9/site-packages/tqdm/auto.py:22: TqdmWarning: IProgress not found. Please update jupyter and ipywidgets. See https://ipywidgets.readthedocs.io/en/stable/user_install.html\n",
      "  from .autonotebook import tqdm as notebook_tqdm\n"
     ]
    },
    {
     "name": "stdout",
     "output_type": "stream",
     "text": [
      "Defaulting to user installation because normal site-packages is not writeable\n",
      "Collecting funcy\n",
      "  Downloading funcy-1.17-py2.py3-none-any.whl (33 kB)\n",
      "Installing collected packages: funcy\n",
      "Successfully installed funcy-1.17\n"
     ]
    }
   ],
   "source": [
    "import glob\n",
    "import csv\n",
    "import random\n",
    "import numpy as np\n",
    "import torch\n",
    "import torch.nn as nn\n",
    "import torch.optim as optim\n",
    "from sklearn.metrics import mean_squared_error\n",
    "from sklearn.model_selection import train_test_split\n",
    "!pip install funcy\n",
    "import funcy\n",
    "from funcy import print_durations\n",
    "import pandas as pd\n",
    "import matplotlib.pyplot as plt\n",
    "import seaborn as sns\n",
    "from tqdm import tqdm\n",
    "from torch.cuda.amp import GradScaler\n",
    "torch.backends.cudnn.benchmark = True\n",
    "import datetime\n",
    "import gc\n",
    "import pickle"
   ]
  },
  {
   "cell_type": "code",
   "execution_count": 2,
   "id": "5a150393",
   "metadata": {},
   "outputs": [],
   "source": [
    "start_date = '1980-01-01'"
   ]
  },
  {
   "cell_type": "code",
   "execution_count": 3,
   "id": "ae548f8d",
   "metadata": {},
   "outputs": [
    {
     "data": {
      "text/html": [
       "<div>\n",
       "<style scoped>\n",
       "    .dataframe tbody tr th:only-of-type {\n",
       "        vertical-align: middle;\n",
       "    }\n",
       "\n",
       "    .dataframe tbody tr th {\n",
       "        vertical-align: top;\n",
       "    }\n",
       "\n",
       "    .dataframe thead th {\n",
       "        text-align: right;\n",
       "    }\n",
       "</style>\n",
       "<table border=\"1\" class=\"dataframe\">\n",
       "  <thead>\n",
       "    <tr style=\"text-align: right;\">\n",
       "      <th></th>\n",
       "      <th>0081A</th>\n",
       "      <th>0091A</th>\n",
       "      <th>0099A</th>\n",
       "      <th>0127A</th>\n",
       "      <th>0138A</th>\n",
       "      <th>0146A</th>\n",
       "      <th>0153A</th>\n",
       "      <th>0183B</th>\n",
       "      <th>0223B</th>\n",
       "      <th>0230B</th>\n",
       "      <th>...</th>\n",
       "      <th>ZVXI</th>\n",
       "      <th>ZWRK</th>\n",
       "      <th>ZWS</th>\n",
       "      <th>ZXAIY</th>\n",
       "      <th>ZY</th>\n",
       "      <th>ZYME</th>\n",
       "      <th>ZYNE</th>\n",
       "      <th>ZYXI</th>\n",
       "      <th>ZZ</th>\n",
       "      <th>ZZ1</th>\n",
       "    </tr>\n",
       "    <tr>\n",
       "      <th>datadate</th>\n",
       "      <th></th>\n",
       "      <th></th>\n",
       "      <th></th>\n",
       "      <th></th>\n",
       "      <th></th>\n",
       "      <th></th>\n",
       "      <th></th>\n",
       "      <th></th>\n",
       "      <th></th>\n",
       "      <th></th>\n",
       "      <th></th>\n",
       "      <th></th>\n",
       "      <th></th>\n",
       "      <th></th>\n",
       "      <th></th>\n",
       "      <th></th>\n",
       "      <th></th>\n",
       "      <th></th>\n",
       "      <th></th>\n",
       "      <th></th>\n",
       "      <th></th>\n",
       "    </tr>\n",
       "  </thead>\n",
       "  <tbody>\n",
       "    <tr>\n",
       "      <th>1980-01-31</th>\n",
       "      <td>NaN</td>\n",
       "      <td>0.012579</td>\n",
       "      <td>NaN</td>\n",
       "      <td>0.068182</td>\n",
       "      <td>0.039548</td>\n",
       "      <td>NaN</td>\n",
       "      <td>NaN</td>\n",
       "      <td>NaN</td>\n",
       "      <td>0.007752</td>\n",
       "      <td>NaN</td>\n",
       "      <td>...</td>\n",
       "      <td>NaN</td>\n",
       "      <td>NaN</td>\n",
       "      <td>NaN</td>\n",
       "      <td>NaN</td>\n",
       "      <td>NaN</td>\n",
       "      <td>NaN</td>\n",
       "      <td>NaN</td>\n",
       "      <td>NaN</td>\n",
       "      <td>NaN</td>\n",
       "      <td>0.137500</td>\n",
       "    </tr>\n",
       "    <tr>\n",
       "      <th>1980-02-29</th>\n",
       "      <td>NaN</td>\n",
       "      <td>-0.006211</td>\n",
       "      <td>NaN</td>\n",
       "      <td>0.000000</td>\n",
       "      <td>NaN</td>\n",
       "      <td>NaN</td>\n",
       "      <td>NaN</td>\n",
       "      <td>NaN</td>\n",
       "      <td>-0.086462</td>\n",
       "      <td>NaN</td>\n",
       "      <td>...</td>\n",
       "      <td>NaN</td>\n",
       "      <td>NaN</td>\n",
       "      <td>NaN</td>\n",
       "      <td>NaN</td>\n",
       "      <td>NaN</td>\n",
       "      <td>NaN</td>\n",
       "      <td>NaN</td>\n",
       "      <td>NaN</td>\n",
       "      <td>NaN</td>\n",
       "      <td>-0.164835</td>\n",
       "    </tr>\n",
       "    <tr>\n",
       "      <th>1980-03-31</th>\n",
       "      <td>NaN</td>\n",
       "      <td>-0.306250</td>\n",
       "      <td>NaN</td>\n",
       "      <td>0.007092</td>\n",
       "      <td>NaN</td>\n",
       "      <td>NaN</td>\n",
       "      <td>NaN</td>\n",
       "      <td>NaN</td>\n",
       "      <td>0.000000</td>\n",
       "      <td>NaN</td>\n",
       "      <td>...</td>\n",
       "      <td>NaN</td>\n",
       "      <td>NaN</td>\n",
       "      <td>NaN</td>\n",
       "      <td>NaN</td>\n",
       "      <td>NaN</td>\n",
       "      <td>NaN</td>\n",
       "      <td>NaN</td>\n",
       "      <td>NaN</td>\n",
       "      <td>NaN</td>\n",
       "      <td>-0.118421</td>\n",
       "    </tr>\n",
       "    <tr>\n",
       "      <th>1980-04-30</th>\n",
       "      <td>NaN</td>\n",
       "      <td>0.252252</td>\n",
       "      <td>NaN</td>\n",
       "      <td>-0.126761</td>\n",
       "      <td>NaN</td>\n",
       "      <td>NaN</td>\n",
       "      <td>NaN</td>\n",
       "      <td>NaN</td>\n",
       "      <td>0.139130</td>\n",
       "      <td>NaN</td>\n",
       "      <td>...</td>\n",
       "      <td>NaN</td>\n",
       "      <td>NaN</td>\n",
       "      <td>NaN</td>\n",
       "      <td>NaN</td>\n",
       "      <td>NaN</td>\n",
       "      <td>NaN</td>\n",
       "      <td>NaN</td>\n",
       "      <td>NaN</td>\n",
       "      <td>NaN</td>\n",
       "      <td>-0.029851</td>\n",
       "    </tr>\n",
       "    <tr>\n",
       "      <th>1980-05-31</th>\n",
       "      <td>NaN</td>\n",
       "      <td>0.071942</td>\n",
       "      <td>NaN</td>\n",
       "      <td>0.177419</td>\n",
       "      <td>NaN</td>\n",
       "      <td>NaN</td>\n",
       "      <td>NaN</td>\n",
       "      <td>NaN</td>\n",
       "      <td>0.036336</td>\n",
       "      <td>NaN</td>\n",
       "      <td>...</td>\n",
       "      <td>NaN</td>\n",
       "      <td>NaN</td>\n",
       "      <td>NaN</td>\n",
       "      <td>NaN</td>\n",
       "      <td>NaN</td>\n",
       "      <td>NaN</td>\n",
       "      <td>NaN</td>\n",
       "      <td>NaN</td>\n",
       "      <td>NaN</td>\n",
       "      <td>0.123077</td>\n",
       "    </tr>\n",
       "    <tr>\n",
       "      <th>...</th>\n",
       "      <td>...</td>\n",
       "      <td>...</td>\n",
       "      <td>...</td>\n",
       "      <td>...</td>\n",
       "      <td>...</td>\n",
       "      <td>...</td>\n",
       "      <td>...</td>\n",
       "      <td>...</td>\n",
       "      <td>...</td>\n",
       "      <td>...</td>\n",
       "      <td>...</td>\n",
       "      <td>...</td>\n",
       "      <td>...</td>\n",
       "      <td>...</td>\n",
       "      <td>...</td>\n",
       "      <td>...</td>\n",
       "      <td>...</td>\n",
       "      <td>...</td>\n",
       "      <td>...</td>\n",
       "      <td>...</td>\n",
       "      <td>...</td>\n",
       "    </tr>\n",
       "    <tr>\n",
       "      <th>2021-11-30</th>\n",
       "      <td>NaN</td>\n",
       "      <td>NaN</td>\n",
       "      <td>NaN</td>\n",
       "      <td>NaN</td>\n",
       "      <td>NaN</td>\n",
       "      <td>NaN</td>\n",
       "      <td>NaN</td>\n",
       "      <td>NaN</td>\n",
       "      <td>NaN</td>\n",
       "      <td>NaN</td>\n",
       "      <td>...</td>\n",
       "      <td>NaN</td>\n",
       "      <td>-0.001025</td>\n",
       "      <td>-0.033076</td>\n",
       "      <td>0.001111</td>\n",
       "      <td>-0.145283</td>\n",
       "      <td>-0.096180</td>\n",
       "      <td>-0.096606</td>\n",
       "      <td>0.021548</td>\n",
       "      <td>NaN</td>\n",
       "      <td>NaN</td>\n",
       "    </tr>\n",
       "    <tr>\n",
       "      <th>2021-12-31</th>\n",
       "      <td>NaN</td>\n",
       "      <td>NaN</td>\n",
       "      <td>NaN</td>\n",
       "      <td>NaN</td>\n",
       "      <td>NaN</td>\n",
       "      <td>NaN</td>\n",
       "      <td>NaN</td>\n",
       "      <td>NaN</td>\n",
       "      <td>NaN</td>\n",
       "      <td>NaN</td>\n",
       "      <td>...</td>\n",
       "      <td>NaN</td>\n",
       "      <td>-0.001026</td>\n",
       "      <td>0.038516</td>\n",
       "      <td>0.054384</td>\n",
       "      <td>-0.261589</td>\n",
       "      <td>-0.184983</td>\n",
       "      <td>-0.167630</td>\n",
       "      <td>-0.221094</td>\n",
       "      <td>NaN</td>\n",
       "      <td>NaN</td>\n",
       "    </tr>\n",
       "    <tr>\n",
       "      <th>2022-01-31</th>\n",
       "      <td>NaN</td>\n",
       "      <td>NaN</td>\n",
       "      <td>NaN</td>\n",
       "      <td>NaN</td>\n",
       "      <td>NaN</td>\n",
       "      <td>NaN</td>\n",
       "      <td>NaN</td>\n",
       "      <td>NaN</td>\n",
       "      <td>NaN</td>\n",
       "      <td>NaN</td>\n",
       "      <td>...</td>\n",
       "      <td>NaN</td>\n",
       "      <td>-0.004620</td>\n",
       "      <td>-0.160989</td>\n",
       "      <td>0.084211</td>\n",
       "      <td>-0.222720</td>\n",
       "      <td>-0.456986</td>\n",
       "      <td>-0.093750</td>\n",
       "      <td>-0.115145</td>\n",
       "      <td>NaN</td>\n",
       "      <td>NaN</td>\n",
       "    </tr>\n",
       "    <tr>\n",
       "      <th>2022-02-28</th>\n",
       "      <td>NaN</td>\n",
       "      <td>NaN</td>\n",
       "      <td>NaN</td>\n",
       "      <td>NaN</td>\n",
       "      <td>NaN</td>\n",
       "      <td>NaN</td>\n",
       "      <td>NaN</td>\n",
       "      <td>NaN</td>\n",
       "      <td>NaN</td>\n",
       "      <td>NaN</td>\n",
       "      <td>...</td>\n",
       "      <td>NaN</td>\n",
       "      <td>0.003610</td>\n",
       "      <td>0.065815</td>\n",
       "      <td>0.000000</td>\n",
       "      <td>-0.263462</td>\n",
       "      <td>-0.186517</td>\n",
       "      <td>-0.134100</td>\n",
       "      <td>-0.205808</td>\n",
       "      <td>NaN</td>\n",
       "      <td>NaN</td>\n",
       "    </tr>\n",
       "    <tr>\n",
       "      <th>2022-03-31</th>\n",
       "      <td>NaN</td>\n",
       "      <td>NaN</td>\n",
       "      <td>NaN</td>\n",
       "      <td>NaN</td>\n",
       "      <td>NaN</td>\n",
       "      <td>NaN</td>\n",
       "      <td>NaN</td>\n",
       "      <td>NaN</td>\n",
       "      <td>NaN</td>\n",
       "      <td>NaN</td>\n",
       "      <td>...</td>\n",
       "      <td>NaN</td>\n",
       "      <td>NaN</td>\n",
       "      <td>NaN</td>\n",
       "      <td>NaN</td>\n",
       "      <td>NaN</td>\n",
       "      <td>NaN</td>\n",
       "      <td>NaN</td>\n",
       "      <td>NaN</td>\n",
       "      <td>NaN</td>\n",
       "      <td>NaN</td>\n",
       "    </tr>\n",
       "  </tbody>\n",
       "</table>\n",
       "<p>507 rows × 32354 columns</p>\n",
       "</div>"
      ],
      "text/plain": [
       "            0081A     0091A  0099A     0127A     0138A  0146A  0153A  0183B  \\\n",
       "datadate                                                                      \n",
       "1980-01-31    NaN  0.012579    NaN  0.068182  0.039548    NaN    NaN    NaN   \n",
       "1980-02-29    NaN -0.006211    NaN  0.000000       NaN    NaN    NaN    NaN   \n",
       "1980-03-31    NaN -0.306250    NaN  0.007092       NaN    NaN    NaN    NaN   \n",
       "1980-04-30    NaN  0.252252    NaN -0.126761       NaN    NaN    NaN    NaN   \n",
       "1980-05-31    NaN  0.071942    NaN  0.177419       NaN    NaN    NaN    NaN   \n",
       "...           ...       ...    ...       ...       ...    ...    ...    ...   \n",
       "2021-11-30    NaN       NaN    NaN       NaN       NaN    NaN    NaN    NaN   \n",
       "2021-12-31    NaN       NaN    NaN       NaN       NaN    NaN    NaN    NaN   \n",
       "2022-01-31    NaN       NaN    NaN       NaN       NaN    NaN    NaN    NaN   \n",
       "2022-02-28    NaN       NaN    NaN       NaN       NaN    NaN    NaN    NaN   \n",
       "2022-03-31    NaN       NaN    NaN       NaN       NaN    NaN    NaN    NaN   \n",
       "\n",
       "               0223B  0230B  ...  ZVXI      ZWRK       ZWS     ZXAIY  \\\n",
       "datadate                     ...                                       \n",
       "1980-01-31  0.007752    NaN  ...   NaN       NaN       NaN       NaN   \n",
       "1980-02-29 -0.086462    NaN  ...   NaN       NaN       NaN       NaN   \n",
       "1980-03-31  0.000000    NaN  ...   NaN       NaN       NaN       NaN   \n",
       "1980-04-30  0.139130    NaN  ...   NaN       NaN       NaN       NaN   \n",
       "1980-05-31  0.036336    NaN  ...   NaN       NaN       NaN       NaN   \n",
       "...              ...    ...  ...   ...       ...       ...       ...   \n",
       "2021-11-30       NaN    NaN  ...   NaN -0.001025 -0.033076  0.001111   \n",
       "2021-12-31       NaN    NaN  ...   NaN -0.001026  0.038516  0.054384   \n",
       "2022-01-31       NaN    NaN  ...   NaN -0.004620 -0.160989  0.084211   \n",
       "2022-02-28       NaN    NaN  ...   NaN  0.003610  0.065815  0.000000   \n",
       "2022-03-31       NaN    NaN  ...   NaN       NaN       NaN       NaN   \n",
       "\n",
       "                  ZY      ZYME      ZYNE      ZYXI  ZZ       ZZ1  \n",
       "datadate                                                          \n",
       "1980-01-31       NaN       NaN       NaN       NaN NaN  0.137500  \n",
       "1980-02-29       NaN       NaN       NaN       NaN NaN -0.164835  \n",
       "1980-03-31       NaN       NaN       NaN       NaN NaN -0.118421  \n",
       "1980-04-30       NaN       NaN       NaN       NaN NaN -0.029851  \n",
       "1980-05-31       NaN       NaN       NaN       NaN NaN  0.123077  \n",
       "...              ...       ...       ...       ...  ..       ...  \n",
       "2021-11-30 -0.145283 -0.096180 -0.096606  0.021548 NaN       NaN  \n",
       "2021-12-31 -0.261589 -0.184983 -0.167630 -0.221094 NaN       NaN  \n",
       "2022-01-31 -0.222720 -0.456986 -0.093750 -0.115145 NaN       NaN  \n",
       "2022-02-28 -0.263462 -0.186517 -0.134100 -0.205808 NaN       NaN  \n",
       "2022-03-31       NaN       NaN       NaN       NaN NaN       NaN  \n",
       "\n",
       "[507 rows x 32354 columns]"
      ]
     },
     "execution_count": 3,
     "metadata": {},
     "output_type": "execute_result"
    }
   ],
   "source": [
    "returns_df = pd.read_csv('returns.csv',index_col=0).loc[start_date:]\n",
    "# returns_df = returns_df.dropna(axis=0,thresh=500).dropna(axis=1,thresh=500)\n",
    "equity_idx = returns_df.columns\n",
    "date_idx = returns_df.index\n",
    "returns_df.clip(returns_df.quantile(0.01,axis=1),returns_df.quantile(0.99,axis=1),axis=0)\n",
    "returns_df"
   ]
  },
  {
   "cell_type": "code",
   "execution_count": 4,
   "id": "0e0c2309",
   "metadata": {},
   "outputs": [
    {
     "data": {
      "text/html": [
       "<div>\n",
       "<style scoped>\n",
       "    .dataframe tbody tr th:only-of-type {\n",
       "        vertical-align: middle;\n",
       "    }\n",
       "\n",
       "    .dataframe tbody tr th {\n",
       "        vertical-align: top;\n",
       "    }\n",
       "\n",
       "    .dataframe thead th {\n",
       "        text-align: right;\n",
       "    }\n",
       "</style>\n",
       "<table border=\"1\" class=\"dataframe\">\n",
       "  <thead>\n",
       "    <tr style=\"text-align: right;\">\n",
       "      <th></th>\n",
       "      <th></th>\n",
       "      <th>A2ME</th>\n",
       "      <th>AC</th>\n",
       "      <th>ATO</th>\n",
       "      <th>BEME</th>\n",
       "      <th>C</th>\n",
       "      <th>CF</th>\n",
       "      <th>CF2P</th>\n",
       "      <th>CTO</th>\n",
       "      <th>D2A</th>\n",
       "      <th>D2P</th>\n",
       "      <th>...</th>\n",
       "      <th>OP</th>\n",
       "      <th>PCM</th>\n",
       "      <th>PM</th>\n",
       "      <th>PROF</th>\n",
       "      <th>Q</th>\n",
       "      <th>RNA</th>\n",
       "      <th>ROA</th>\n",
       "      <th>ROE</th>\n",
       "      <th>S2P</th>\n",
       "      <th>SGA2S</th>\n",
       "    </tr>\n",
       "    <tr>\n",
       "      <th>tic</th>\n",
       "      <th>rdq</th>\n",
       "      <th></th>\n",
       "      <th></th>\n",
       "      <th></th>\n",
       "      <th></th>\n",
       "      <th></th>\n",
       "      <th></th>\n",
       "      <th></th>\n",
       "      <th></th>\n",
       "      <th></th>\n",
       "      <th></th>\n",
       "      <th></th>\n",
       "      <th></th>\n",
       "      <th></th>\n",
       "      <th></th>\n",
       "      <th></th>\n",
       "      <th></th>\n",
       "      <th></th>\n",
       "      <th></th>\n",
       "      <th></th>\n",
       "      <th></th>\n",
       "      <th></th>\n",
       "    </tr>\n",
       "  </thead>\n",
       "  <tbody>\n",
       "    <tr>\n",
       "      <th rowspan=\"5\" valign=\"top\">0015B</th>\n",
       "      <th>1984-01-16</th>\n",
       "      <td>0.381941</td>\n",
       "      <td>NaN</td>\n",
       "      <td>NaN</td>\n",
       "      <td>NaN</td>\n",
       "      <td>0.214994</td>\n",
       "      <td>NaN</td>\n",
       "      <td>NaN</td>\n",
       "      <td>NaN</td>\n",
       "      <td>NaN</td>\n",
       "      <td>NaN</td>\n",
       "      <td>...</td>\n",
       "      <td>NaN</td>\n",
       "      <td>NaN</td>\n",
       "      <td>NaN</td>\n",
       "      <td>NaN</td>\n",
       "      <td>NaN</td>\n",
       "      <td>NaN</td>\n",
       "      <td>NaN</td>\n",
       "      <td>NaN</td>\n",
       "      <td>NaN</td>\n",
       "      <td>NaN</td>\n",
       "    </tr>\n",
       "    <tr>\n",
       "      <th>1984-03-15</th>\n",
       "      <td>0.557109</td>\n",
       "      <td>NaN</td>\n",
       "      <td>NaN</td>\n",
       "      <td>NaN</td>\n",
       "      <td>0.274170</td>\n",
       "      <td>NaN</td>\n",
       "      <td>NaN</td>\n",
       "      <td>NaN</td>\n",
       "      <td>NaN</td>\n",
       "      <td>NaN</td>\n",
       "      <td>...</td>\n",
       "      <td>NaN</td>\n",
       "      <td>NaN</td>\n",
       "      <td>NaN</td>\n",
       "      <td>NaN</td>\n",
       "      <td>NaN</td>\n",
       "      <td>NaN</td>\n",
       "      <td>NaN</td>\n",
       "      <td>NaN</td>\n",
       "      <td>NaN</td>\n",
       "      <td>NaN</td>\n",
       "    </tr>\n",
       "    <tr>\n",
       "      <th>1984-05-25</th>\n",
       "      <td>0.590922</td>\n",
       "      <td>NaN</td>\n",
       "      <td>NaN</td>\n",
       "      <td>NaN</td>\n",
       "      <td>0.140065</td>\n",
       "      <td>NaN</td>\n",
       "      <td>NaN</td>\n",
       "      <td>NaN</td>\n",
       "      <td>NaN</td>\n",
       "      <td>NaN</td>\n",
       "      <td>...</td>\n",
       "      <td>NaN</td>\n",
       "      <td>NaN</td>\n",
       "      <td>NaN</td>\n",
       "      <td>NaN</td>\n",
       "      <td>NaN</td>\n",
       "      <td>NaN</td>\n",
       "      <td>NaN</td>\n",
       "      <td>NaN</td>\n",
       "      <td>NaN</td>\n",
       "      <td>NaN</td>\n",
       "    </tr>\n",
       "    <tr>\n",
       "      <th>1984-08-27</th>\n",
       "      <td>0.651735</td>\n",
       "      <td>NaN</td>\n",
       "      <td>NaN</td>\n",
       "      <td>NaN</td>\n",
       "      <td>0.009504</td>\n",
       "      <td>NaN</td>\n",
       "      <td>NaN</td>\n",
       "      <td>NaN</td>\n",
       "      <td>0.015213</td>\n",
       "      <td>0.000000</td>\n",
       "      <td>...</td>\n",
       "      <td>NaN</td>\n",
       "      <td>-0.968086</td>\n",
       "      <td>0.247569</td>\n",
       "      <td>NaN</td>\n",
       "      <td>NaN</td>\n",
       "      <td>NaN</td>\n",
       "      <td>NaN</td>\n",
       "      <td>NaN</td>\n",
       "      <td>1.418175</td>\n",
       "      <td>0.731681</td>\n",
       "    </tr>\n",
       "    <tr>\n",
       "      <th>1985-01-01</th>\n",
       "      <td>0.871765</td>\n",
       "      <td>NaN</td>\n",
       "      <td>0.760755</td>\n",
       "      <td>NaN</td>\n",
       "      <td>0.019574</td>\n",
       "      <td>NaN</td>\n",
       "      <td>NaN</td>\n",
       "      <td>0.778316</td>\n",
       "      <td>0.012021</td>\n",
       "      <td>0.000000</td>\n",
       "      <td>...</td>\n",
       "      <td>NaN</td>\n",
       "      <td>-0.950109</td>\n",
       "      <td>0.230870</td>\n",
       "      <td>NaN</td>\n",
       "      <td>NaN</td>\n",
       "      <td>0.175636</td>\n",
       "      <td>0.125346</td>\n",
       "      <td>NaN</td>\n",
       "      <td>1.499765</td>\n",
       "      <td>0.748516</td>\n",
       "    </tr>\n",
       "    <tr>\n",
       "      <th>...</th>\n",
       "      <th>...</th>\n",
       "      <td>...</td>\n",
       "      <td>...</td>\n",
       "      <td>...</td>\n",
       "      <td>...</td>\n",
       "      <td>...</td>\n",
       "      <td>...</td>\n",
       "      <td>...</td>\n",
       "      <td>...</td>\n",
       "      <td>...</td>\n",
       "      <td>...</td>\n",
       "      <td>...</td>\n",
       "      <td>...</td>\n",
       "      <td>...</td>\n",
       "      <td>...</td>\n",
       "      <td>...</td>\n",
       "      <td>...</td>\n",
       "      <td>...</td>\n",
       "      <td>...</td>\n",
       "      <td>...</td>\n",
       "      <td>...</td>\n",
       "      <td>...</td>\n",
       "    </tr>\n",
       "    <tr>\n",
       "      <th rowspan=\"5\" valign=\"top\">ZZZ1</th>\n",
       "      <th>2000-08-14</th>\n",
       "      <td>1.171566</td>\n",
       "      <td>NaN</td>\n",
       "      <td>0.073420</td>\n",
       "      <td>NaN</td>\n",
       "      <td>0.036884</td>\n",
       "      <td>NaN</td>\n",
       "      <td>NaN</td>\n",
       "      <td>0.067789</td>\n",
       "      <td>NaN</td>\n",
       "      <td>0.006326</td>\n",
       "      <td>...</td>\n",
       "      <td>NaN</td>\n",
       "      <td>0.523240</td>\n",
       "      <td>1.000000</td>\n",
       "      <td>NaN</td>\n",
       "      <td>NaN</td>\n",
       "      <td>0.073420</td>\n",
       "      <td>0.018000</td>\n",
       "      <td>NaN</td>\n",
       "      <td>0.098857</td>\n",
       "      <td>NaN</td>\n",
       "    </tr>\n",
       "    <tr>\n",
       "      <th>2000-11-13</th>\n",
       "      <td>1.185838</td>\n",
       "      <td>NaN</td>\n",
       "      <td>0.079706</td>\n",
       "      <td>NaN</td>\n",
       "      <td>0.029840</td>\n",
       "      <td>NaN</td>\n",
       "      <td>NaN</td>\n",
       "      <td>0.069810</td>\n",
       "      <td>NaN</td>\n",
       "      <td>0.004737</td>\n",
       "      <td>...</td>\n",
       "      <td>NaN</td>\n",
       "      <td>0.559099</td>\n",
       "      <td>1.000000</td>\n",
       "      <td>NaN</td>\n",
       "      <td>NaN</td>\n",
       "      <td>0.079706</td>\n",
       "      <td>0.021708</td>\n",
       "      <td>NaN</td>\n",
       "      <td>0.104211</td>\n",
       "      <td>NaN</td>\n",
       "    </tr>\n",
       "    <tr>\n",
       "      <th>2001-03-28</th>\n",
       "      <td>NaN</td>\n",
       "      <td>NaN</td>\n",
       "      <td>0.075438</td>\n",
       "      <td>NaN</td>\n",
       "      <td>0.041668</td>\n",
       "      <td>NaN</td>\n",
       "      <td>NaN</td>\n",
       "      <td>0.065717</td>\n",
       "      <td>NaN</td>\n",
       "      <td>NaN</td>\n",
       "      <td>...</td>\n",
       "      <td>NaN</td>\n",
       "      <td>0.540736</td>\n",
       "      <td>1.000000</td>\n",
       "      <td>NaN</td>\n",
       "      <td>NaN</td>\n",
       "      <td>0.075438</td>\n",
       "      <td>0.021779</td>\n",
       "      <td>NaN</td>\n",
       "      <td>NaN</td>\n",
       "      <td>NaN</td>\n",
       "    </tr>\n",
       "    <tr>\n",
       "      <th>2001-05-14</th>\n",
       "      <td>NaN</td>\n",
       "      <td>NaN</td>\n",
       "      <td>0.085226</td>\n",
       "      <td>NaN</td>\n",
       "      <td>0.029079</td>\n",
       "      <td>NaN</td>\n",
       "      <td>NaN</td>\n",
       "      <td>0.082268</td>\n",
       "      <td>NaN</td>\n",
       "      <td>NaN</td>\n",
       "      <td>...</td>\n",
       "      <td>NaN</td>\n",
       "      <td>0.622717</td>\n",
       "      <td>1.000000</td>\n",
       "      <td>NaN</td>\n",
       "      <td>NaN</td>\n",
       "      <td>0.085226</td>\n",
       "      <td>0.044324</td>\n",
       "      <td>NaN</td>\n",
       "      <td>NaN</td>\n",
       "      <td>NaN</td>\n",
       "    </tr>\n",
       "    <tr>\n",
       "      <th>2001-08-13</th>\n",
       "      <td>NaN</td>\n",
       "      <td>NaN</td>\n",
       "      <td>0.091314</td>\n",
       "      <td>NaN</td>\n",
       "      <td>0.040394</td>\n",
       "      <td>NaN</td>\n",
       "      <td>NaN</td>\n",
       "      <td>0.085981</td>\n",
       "      <td>NaN</td>\n",
       "      <td>NaN</td>\n",
       "      <td>...</td>\n",
       "      <td>NaN</td>\n",
       "      <td>0.653604</td>\n",
       "      <td>1.000000</td>\n",
       "      <td>NaN</td>\n",
       "      <td>NaN</td>\n",
       "      <td>0.091314</td>\n",
       "      <td>0.062878</td>\n",
       "      <td>NaN</td>\n",
       "      <td>NaN</td>\n",
       "      <td>NaN</td>\n",
       "    </tr>\n",
       "  </tbody>\n",
       "</table>\n",
       "<p>924199 rows × 29 columns</p>\n",
       "</div>"
      ],
      "text/plain": [
       "                      A2ME  AC       ATO  BEME         C  CF  CF2P       CTO  \\\n",
       "tic   rdq                                                                      \n",
       "0015B 1984-01-16  0.381941 NaN       NaN   NaN  0.214994 NaN   NaN       NaN   \n",
       "      1984-03-15  0.557109 NaN       NaN   NaN  0.274170 NaN   NaN       NaN   \n",
       "      1984-05-25  0.590922 NaN       NaN   NaN  0.140065 NaN   NaN       NaN   \n",
       "      1984-08-27  0.651735 NaN       NaN   NaN  0.009504 NaN   NaN       NaN   \n",
       "      1985-01-01  0.871765 NaN  0.760755   NaN  0.019574 NaN   NaN  0.778316   \n",
       "...                    ...  ..       ...   ...       ...  ..   ...       ...   \n",
       "ZZZ1  2000-08-14  1.171566 NaN  0.073420   NaN  0.036884 NaN   NaN  0.067789   \n",
       "      2000-11-13  1.185838 NaN  0.079706   NaN  0.029840 NaN   NaN  0.069810   \n",
       "      2001-03-28       NaN NaN  0.075438   NaN  0.041668 NaN   NaN  0.065717   \n",
       "      2001-05-14       NaN NaN  0.085226   NaN  0.029079 NaN   NaN  0.082268   \n",
       "      2001-08-13       NaN NaN  0.091314   NaN  0.040394 NaN   NaN  0.085981   \n",
       "\n",
       "                       D2A       D2P  ...  OP       PCM        PM  PROF   Q  \\\n",
       "tic   rdq                             ...                                     \n",
       "0015B 1984-01-16       NaN       NaN  ... NaN       NaN       NaN   NaN NaN   \n",
       "      1984-03-15       NaN       NaN  ... NaN       NaN       NaN   NaN NaN   \n",
       "      1984-05-25       NaN       NaN  ... NaN       NaN       NaN   NaN NaN   \n",
       "      1984-08-27  0.015213  0.000000  ... NaN -0.968086  0.247569   NaN NaN   \n",
       "      1985-01-01  0.012021  0.000000  ... NaN -0.950109  0.230870   NaN NaN   \n",
       "...                    ...       ...  ...  ..       ...       ...   ...  ..   \n",
       "ZZZ1  2000-08-14       NaN  0.006326  ... NaN  0.523240  1.000000   NaN NaN   \n",
       "      2000-11-13       NaN  0.004737  ... NaN  0.559099  1.000000   NaN NaN   \n",
       "      2001-03-28       NaN       NaN  ... NaN  0.540736  1.000000   NaN NaN   \n",
       "      2001-05-14       NaN       NaN  ... NaN  0.622717  1.000000   NaN NaN   \n",
       "      2001-08-13       NaN       NaN  ... NaN  0.653604  1.000000   NaN NaN   \n",
       "\n",
       "                       RNA       ROA  ROE       S2P     SGA2S  \n",
       "tic   rdq                                                      \n",
       "0015B 1984-01-16       NaN       NaN  NaN       NaN       NaN  \n",
       "      1984-03-15       NaN       NaN  NaN       NaN       NaN  \n",
       "      1984-05-25       NaN       NaN  NaN       NaN       NaN  \n",
       "      1984-08-27       NaN       NaN  NaN  1.418175  0.731681  \n",
       "      1985-01-01  0.175636  0.125346  NaN  1.499765  0.748516  \n",
       "...                    ...       ...  ...       ...       ...  \n",
       "ZZZ1  2000-08-14  0.073420  0.018000  NaN  0.098857       NaN  \n",
       "      2000-11-13  0.079706  0.021708  NaN  0.104211       NaN  \n",
       "      2001-03-28  0.075438  0.021779  NaN       NaN       NaN  \n",
       "      2001-05-14  0.085226  0.044324  NaN       NaN       NaN  \n",
       "      2001-08-13  0.091314  0.062878  NaN       NaN       NaN  \n",
       "\n",
       "[924199 rows x 29 columns]"
      ]
     },
     "execution_count": 4,
     "metadata": {},
     "output_type": "execute_result"
    }
   ],
   "source": [
    "feat_comb_df = pd.read_csv('features_combined.csv').set_index(['tic','rdq']).drop(['FYEARQ','FQTR'],axis=1)\n",
    "feat_comb_df = feat_comb_df[sorted(feat_comb_df.columns)]\n",
    "feat_comb_df"
   ]
  },
  {
   "cell_type": "code",
   "execution_count": 5,
   "id": "4e2c50a1",
   "metadata": {},
   "outputs": [
    {
     "name": "stderr",
     "output_type": "stream",
     "text": [
      "100%|███████████████████████████████████████████████████████████████████████████████████████████████████████████████████████████| 507/507 [02:01<00:00,  4.19it/s]\n"
     ]
    }
   ],
   "source": [
    "MIN_AVAILABLE_FEATURES = feat_comb_df.shape[1]//2\n",
    "\n",
    "full_df_lst = []\n",
    "for date in tqdm(date_idx):\n",
    "    sub = feat_comb_df.loc[feat_comb_df.index.get_level_values(1) < date]\n",
    "    sub = sub.groupby(sub.index.get_level_values('tic')).last(1)\n",
    "    sub = sub.transpose()\n",
    "    \n",
    "    sub = sub.rank(pct=True,axis=1)*2-1\n",
    "    idx = (sub.isna().sum(axis=0) >= MIN_AVAILABLE_FEATURES).index\n",
    "    sub = sub[idx].fillna(0)\n",
    "    \n",
    "#     sub = sub.fillna(sub.median(axis=1),axis=0)\n",
    "    \n",
    "    sub['date'] = date\n",
    "    sub =  sub.set_index(['date',sub.index])\n",
    "    \n",
    "    full_df_lst.append(sub)"
   ]
  },
  {
   "cell_type": "code",
   "execution_count": 6,
   "id": "d94bf341",
   "metadata": {},
   "outputs": [
    {
     "data": {
      "text/plain": [
       "0"
      ]
     },
     "execution_count": 6,
     "metadata": {},
     "output_type": "execute_result"
    }
   ],
   "source": [
    "gc.collect()"
   ]
  },
  {
   "cell_type": "code",
   "execution_count": null,
   "id": "e58eb717",
   "metadata": {},
   "outputs": [],
   "source": []
  },
  {
   "cell_type": "markdown",
   "id": "64e6791e",
   "metadata": {},
   "source": [
    "# Train Test Splits"
   ]
  },
  {
   "cell_type": "code",
   "execution_count": 7,
   "id": "5a5ea7aa",
   "metadata": {},
   "outputs": [],
   "source": [
    "orig = (48,360)\n",
    "valid = (360,420)\n",
    "test = (420,505)\n",
    "# Train: 1984 to 2010\n",
    "# Valid: 2010 to 2015\n",
    "# Test: 2015 to 2022"
   ]
  },
  {
   "cell_type": "code",
   "execution_count": 8,
   "id": "61b7aa93",
   "metadata": {},
   "outputs": [],
   "source": [
    "class AEDataSet(torch.utils.data.Dataset):\n",
    "    def __init__(self, full_df_lst, returns_df, date_idx, start_i, end_i, rhs_input_assets=False,lag=1):\n",
    "        self.full_df_lst = full_df_lst\n",
    "        self.returns_df = returns_df\n",
    "        self.date_idx = date_idx\n",
    "        self.start_i, self.end_i = start_i, end_i\n",
    "        self.rhs_input_assets = rhs_input_assets\n",
    "        self.epsilon=1e-5\n",
    "        self.lag=lag\n",
    "        \n",
    "        self.output_date_idx = date_idx[start_i+lag:end_i]\n",
    "        \n",
    "    def __len__(self):\n",
    "        return self.end_i - self.start_i - self.lag\n",
    "    def __getitem__(self, idx):\n",
    "        input_idx = idx\n",
    "        idx += self.start_i+self.lag\n",
    "        date = self.date_idx[idx] # returns date\n",
    "        \n",
    "        mask = ~np.isnan(self.returns_df.loc[date].to_numpy())\n",
    "        traded_assets_idx = self.returns_df.columns[mask]\n",
    "        \n",
    "        lhs = self.full_df_lst[idx - self.lag]\n",
    "        lhs_idx = lhs.columns\n",
    "        \n",
    "        comb_idx = traded_assets_idx.intersection(lhs_idx)\n",
    "        \n",
    "        lhs = lhs.reindex(comb_idx,axis=1,fill_value=0).to_numpy()\n",
    "        \n",
    "        rhs_tmp = self.returns_df.loc[date,comb_idx]\n",
    "#         rhs_tmp = rhs_tmp.clip(rhs_tmp.quantile(0.01),rhs_tmp.quantile(0.99))\n",
    "        output = rhs_tmp.to_numpy()\n",
    "\n",
    "        lhs_tmp = np.concatenate([lhs,np.expand_dims(np.ones(lhs.shape[1]),0)],axis=0)\n",
    "        \n",
    "        \n",
    "        if self.rhs_input_assets:\n",
    "            rhs = output\n",
    "        else:\n",
    "            try:\n",
    "                rhs = (np.linalg.inv(lhs_tmp @ lhs_tmp.T) @ lhs_tmp) @ rhs_tmp\n",
    "            except Exception as e:\n",
    "                print(\"idx:\",input_idx)\n",
    "                print(e)\n",
    "                raise e\n",
    "        return lhs,rhs,output,comb_idx\n",
    "        \n",
    "        \n",
    "def collate_fn(batch):\n",
    "\n",
    "    len_x = [len(output) for lhs,rhs,output,_ in batch]\n",
    "    full_size = max(len_x)\n",
    "    \n",
    "    batch_lhs = [nn.functional.pad(torch.Tensor(lhs),pad=(0,full_size-lhs.shape[1],0,0)) for lhs,rhs,output,_ in batch]\n",
    "    batch_rhs = [torch.Tensor(rhs) for lhs,rhs,output,_ in batch]\n",
    "    batch_output = [nn.functional.pad(torch.Tensor(output),pad=(0,full_size-len(output))) for lhs,rhs,output,_ in batch]\n",
    "    batch_assets = [idx for lhs,rhs,output,idx in batch]\n",
    "    \n",
    "    return torch.cat([x.unsqueeze(0) for x in batch_lhs]),\\\n",
    "        torch.cat([x.unsqueeze(0) for x in batch_rhs]),\\\n",
    "        torch.cat([x.unsqueeze(0) for x in batch_output]), torch.tensor(len_x), batch_assets"
   ]
  },
  {
   "cell_type": "markdown",
   "id": "bf095288",
   "metadata": {},
   "source": [
    "# Conditional Autoencoder"
   ]
  },
  {
   "cell_type": "code",
   "execution_count": 9,
   "id": "d629c046",
   "metadata": {},
   "outputs": [],
   "source": [
    "class ConditionalAutoEncoder(nn.Module):\n",
    "    def __init__(self, n_alphas, n_factors, n_hidden_lhs, n_hidden_rhs, \n",
    "                    batch_norm_lhs=True, batch_norm_rhs=False,\n",
    "                    dropout_p=0, initialization=True, rhs_input_assets = False, rhs_activation = True,\n",
    "                    bn_momentum=0.1, bn_track_running_stats = True):\n",
    "        # n_assets can be assets or portfolios:\n",
    "            # In both cases, we are interested in asset return or portfolio return on the RHS\n",
    "            # LHS is the original factor \n",
    "        super(ConditionalAutoEncoder, self).__init__()\n",
    "\n",
    "        self.n_alphas = n_alphas\n",
    "        self.n_factors = n_factors\n",
    "        self.n_hidden_lhs = list(n_hidden_lhs)\n",
    "        self.n_hidden_rhs = list(n_hidden_rhs)\n",
    "\n",
    "        self.lhs_lst = []\n",
    "\n",
    "        prev_lhs_layer_size = self.n_alphas\n",
    "        layer_lst = []\n",
    "        for i, v in enumerate(list(n_hidden_lhs)+[n_factors]):\n",
    "            if batch_norm_lhs and i<len(n_hidden_lhs):\n",
    "                # layer_lst.append(nn.BatchNorm1d(prev_lhs_layer_size,momentum=bn_momentum,\n",
    "                #         track_running_stats=bn_track_running_stats))\n",
    "                layer_lst.append(nn.LayerNorm(prev_lhs_layer_size))\n",
    "            if dropout_p:\n",
    "                layer_lst.append(nn.Dropout(dropout_p))\n",
    "            layer_lst.append(nn.Linear(prev_lhs_layer_size, v, bias=True))\n",
    "            if initialization:\n",
    "                nn.init.kaiming_normal_(layer_lst[-1].weight,mode='fan_in',nonlinearity='linear')\n",
    "            if i<len(n_hidden_lhs):\n",
    "                layer_lst.append(nn.SELU())\n",
    "            prev_lhs_layer_size = v\n",
    "#         layer_lst = layer_lst[:-1]\n",
    "        # if batch_norm_lhs:\n",
    "        #     layer_lst.append(nn.BatchNorm1d(prev_lhs_layer_size,momentum=bn_momentum,\n",
    "        #             track_running_stats=bn_track_running_stats))\n",
    "        #     # layer_lst.append(nn.LayerNorm(prev_lhs_layer_size))\n",
    "        # if dropout_p:\n",
    "        #     layer_lst.append(nn.Dropout(dropout_p))\n",
    "        # layer_lst.append(nn.Linear(prev_lhs_layer_size, self.n_factors, bias=True))\n",
    "        # if initialization:\n",
    "        #     nn.init.xavier_normal_(layer_lst[-1].weight)\n",
    "        self.lhs = nn.Sequential(*layer_lst)\n",
    "\n",
    "        # self.lhs_lst = nn.ModuleList(self.lhs_lst)\n",
    "\n",
    "        rhs_lst = []\n",
    "#         if rhs_input_assets:\n",
    "#             if batch_norm_rhs:\n",
    "#                 # rhs_lst.append(nn.BatchNorm1d(self.n_assets,momentum=bn_momentum,\n",
    "#                 #     track_running_stats=bn_track_running_stats))\n",
    "#                 rhs_lst.append(nn.LayerNorm(self.n_assets))\n",
    "#             if dropout_p:\n",
    "#                 rhs_lst.append(nn.Dropout(dropout_p))\n",
    "#             rhs_lst.append(nn.Linear(n_assets,n_alphas+1,bias=True))\n",
    "#             if initialization:\n",
    "#                 nn.init.kaiming_normal_(rhs_lst[-1].weight,mode='fan_in',nonlinearity='linear')\n",
    "#             if rhs_activation:\n",
    "#                 rhs_lst.append(nn.SELU())\n",
    "\n",
    "        prev_rhs_layer_size = self.n_alphas+1\n",
    "        for v in n_hidden_rhs+[n_factors]:\n",
    "            if batch_norm_rhs:\n",
    "              # rhs_lst.append(nn.BatchNorm1d(prev_rhs_layer_size,momentum=bn_momentum,\n",
    "              #         track_running_stats=bn_track_running_stats))\n",
    "                rhs_lst.append(nn.LayerNorm(prev_rhs_layer_size))\n",
    "            if dropout_p:\n",
    "                rhs_lst.append(nn.Dropout(dropout_p))\n",
    "            rhs_lst.append(nn.Linear(prev_rhs_layer_size,v,bias=True))\n",
    "            if initialization:\n",
    "                nn.init.kaiming_normal_(rhs_lst[-1].weight,mode='fan_in',nonlinearity='linear')\n",
    "            if rhs_activation:\n",
    "                rhs_lst.append(nn.SELU())\n",
    "            prev_rhs_layer_size = v\n",
    "        \n",
    "        self.rhs = nn.Sequential(*rhs_lst)\n",
    "\n",
    "#         self.final = nn.Linear(n_assets,n_assets,bias=True)\n",
    "\n",
    "    def forward(self, x_lhs, x_rhs):\n",
    "        # idx = 0\n",
    "        y_lhs_lst = []\n",
    "        for i in range(x_lhs.shape[2]):\n",
    "            # y_cur = self.lhs_lst[i](x_lhs[:,idx:idx+self.n_alphas])\n",
    "            y_cur = self.lhs(x_lhs[:,:,i])\n",
    "            y_cur = torch.unsqueeze(y_cur,2)\n",
    "            y_lhs_lst.append(y_cur)\n",
    "            # idx += self.n_alphas\n",
    "        y_lhs = torch.cat(y_lhs_lst,dim=2)\n",
    "\n",
    "        y_rhs = self.rhs(x_rhs).unsqueeze(dim=2)\n",
    "        self.last_rhs_factors = y_rhs\n",
    "        out = torch.bmm(y_lhs.transpose(1,2), y_rhs).squeeze(2)\n",
    "#         out = self.final(out)\n",
    "        return out, y_rhs\n",
    "\n",
    "    def forward_given_factors(self, x_lhs, factors):\n",
    "        y_lhs_lst = []\n",
    "        for i in range(x_lhs.shape[2]):\n",
    "            # y_cur = self.lhs_lst[i](x_lhs[:,idx:idx+self.n_alphas])\n",
    "            y_cur = self.lhs(x_lhs[:,:,i])\n",
    "            y_cur = torch.unsqueeze(y_cur,2)\n",
    "            y_lhs_lst.append(y_cur)\n",
    "            # idx += self.n_alphas\n",
    "        y_lhs = torch.cat(y_lhs_lst,dim=2)\n",
    "\n",
    "        y_rhs = factors\n",
    "        out = torch.bmm(y_lhs.transpose(1,2), y_rhs).squeeze(2)\n",
    "#         out = self.final(out)\n",
    "        return out"
   ]
  },
  {
   "cell_type": "markdown",
   "id": "21848353",
   "metadata": {},
   "source": [
    "# Hyperparameter Tuning"
   ]
  },
  {
   "cell_type": "code",
   "execution_count": 10,
   "id": "15bfca7b",
   "metadata": {},
   "outputs": [],
   "source": [
    "from sklearn.metrics import mean_squared_error\n",
    "@print_durations()\n",
    "def test(args,model,device,test_loader,criterion):\n",
    "    model.eval()\n",
    "        \n",
    "    output_lst = []\n",
    "    data_lst = []\n",
    "\n",
    "    for data_lhs, data_rhs, data_output, data_x_lens, data_assets in test_loader:\n",
    "        # print(\"Shapes:\",data_lhs.shape, data_rhs.shape, data_output.shape, data_mask.shape)\n",
    "        data_lhs = data_lhs.float().to(device)\n",
    "        data_rhs = data_rhs.float().to(device)\n",
    "        data_output = data_output.float().to(device)\n",
    "        data_x_lens = data_x_lens.int().to(device)\n",
    "        output,_ = model(x_lhs = data_lhs, x_rhs = data_rhs)\n",
    "\n",
    "        data_mask = torch.arange(data_lhs.shape[2])[None, :].to(device) < data_x_lens[:, None]\n",
    "        output_masked = torch.masked_select(output,data_mask)\n",
    "        data_output_masked = torch.masked_select(data_output,data_mask)\n",
    "        assert (len(output_masked) == torch.sum(data_x_lens))\n",
    "        # print(\"Loss Inside:\",criterion(output_masked,data_output_masked))\n",
    "\n",
    "        output_lst.append(output_masked)\n",
    "        data_lst.append(data_output_masked)\n",
    "    \n",
    "    full_output = torch.cat(output_lst,axis=0)\n",
    "    full_data = torch.cat(data_lst,axis=0)\n",
    "\n",
    "    return mean_squared_error(full_data.cpu().detach().numpy(), full_output.cpu().detach().numpy())\n",
    "\n",
    "@print_durations()\n",
    "def train(args, model, device, train_loader, optimizer, criterion, epoch, max_norm=None):\n",
    "    model.train()\n",
    "    \n",
    "    batch_bar = tqdm(total=len(train_loader), dynamic_ncols=True, leave=False, position=0, desc='Train') \n",
    "    \n",
    "    total_loss = 0\n",
    "    total_reg_loss=0\n",
    "    \n",
    "    N = len(train_loader)\n",
    "    \n",
    "    for batch_idx, (data_lhs, data_rhs, data_output, data_x_lens, data_assets) in enumerate(train_loader):\n",
    "\n",
    "        optimizer.zero_grad()\n",
    "        \n",
    "        data_lhs = data_lhs.float().to(device)\n",
    "        data_rhs = data_rhs.float().to(device)\n",
    "        data_output = data_output.float().to(device)\n",
    "        data_x_lens = data_x_lens.int().to(device)\n",
    "\n",
    "        if max_norm: torch.nn.utils.clip_grad_norm_(model.parameters(), max_norm)\n",
    "        output,_ = model(x_lhs = data_lhs, x_rhs = data_rhs)\n",
    "        \n",
    "        data_mask = torch.arange(data_lhs.shape[2])[None, :].to(device) < data_x_lens[:, None]\n",
    "\n",
    "        output_masked = torch.masked_select(output,data_mask)\n",
    "        data_output_masked = torch.masked_select(data_output,data_mask)\n",
    "\n",
    "        loss_tmp = criterion(output_masked, data_output_masked)\n",
    "\n",
    "        regularization_loss = 0\n",
    "        for p in model.parameters():\n",
    "            regularization_loss += torch.sum(abs(p))\n",
    "\n",
    "        loss = loss_tmp + args['l1_lambda'] * regularization_loss\n",
    "        \n",
    "        loss.backward()\n",
    "        total_loss += loss\n",
    "        total_reg_loss += regularization_loss * args['l1_lambda'] \n",
    "\n",
    "        # print(\"Gradient:\", loss.grad)\n",
    "        optimizer.step()\n",
    "\n",
    "        batch_bar.set_postfix(\n",
    "            total_loss=\"{:.04f}\".format(float(total_loss / (batch_idx + 1))),\n",
    "            reg_loss = \"{:.04f}\".format(float(total_reg_loss / (batch_idx + 1))),\n",
    "            lr=\"{:.04f}\".format(float(optimizer.param_groups[0]['lr'])))\n",
    "        batch_bar.update()\n",
    "        \n",
    "    print(f\"Epoch {epoch}, total_loss={float(total_loss / N):.04f}, reg_loss = {float(total_reg_loss / N):.04f}\")"
   ]
  },
  {
   "cell_type": "code",
   "execution_count": 11,
   "id": "c0fdbceb",
   "metadata": {},
   "outputs": [],
   "source": [
    "# train_data = AEDataSet(full_df_lst,returns_df,date_idx,48,360)\n",
    "# valid_data = AEDataSet(full_df_lst,returns_df,date_idx,360,420)\n",
    "# test_data= AEDataSet(full_df_lst,returns_df,date_idx,420,505)\n",
    "\n",
    "def run(args, n_alphas, full_df_lst, returns_df, date_idx, train_start,\n",
    "        train_end, valid_start, valid_end, n_window=36, batch_size=16, checkpoint_name=None):\n",
    "    device = torch.device(\"cuda\" if torch.cuda.is_available() else \"cpu\")\n",
    "    model = ConditionalAutoEncoder(\n",
    "        n_alphas = n_alphas,\n",
    "        n_factors = args['n_factors'],\n",
    "        n_hidden_lhs = args['n_hidden_lhs'],\n",
    "        n_hidden_rhs = args['n_hidden_rhs'],\n",
    "        batch_norm_lhs = args['batch_norm_lhs'],\n",
    "        batch_norm_rhs = args['batch_norm_rhs'],\n",
    "        dropout_p=args['dropout_p'],\n",
    "        initialization=args['initialization'],\n",
    "        rhs_input_assets=args['rhs_input_assets'],\n",
    "        rhs_activation = args['rhs_activation']\n",
    "    #     bn_track_running_stats=args['bn_track_running_stats'],\n",
    "    #     bn_momentum=args['bn_momentum']\n",
    "    )\n",
    "    \n",
    "    print(model)\n",
    "    \n",
    "    gc.collect()\n",
    "    torch.cuda.empty_cache()\n",
    "    \n",
    "    train_data = AEDataSet(full_df_lst,returns_df,date_idx,train_start,train_end)\n",
    "    valid_data = AEDataSet(full_df_lst,returns_df,date_idx,valid_start,valid_end)\n",
    "    extended_valid_data = AEDataSet(full_df_lst,returns_df,date_idx,valid_start-n_window,valid_end)\n",
    "\n",
    "    train_loader = torch.utils.data.DataLoader(\n",
    "        train_data,\n",
    "        batch_size = batch_size,\n",
    "        pin_memory=True,\n",
    "        num_workers=0,\n",
    "        shuffle=True,\n",
    "        collate_fn = collate_fn\n",
    "    )\n",
    "\n",
    "    valid_loader = torch.utils.data.DataLoader(\n",
    "        valid_data,\n",
    "        batch_size = batch_size,\n",
    "        pin_memory=True,\n",
    "        num_workers=0,\n",
    "        shuffle=False,\n",
    "        collate_fn = collate_fn\n",
    "    )\n",
    "    \n",
    "    extended_valid_loader = torch.utils.data.DataLoader(\n",
    "        extended_valid_data,\n",
    "        batch_size = batch_size,\n",
    "        pin_memory=True,\n",
    "        num_workers=0,\n",
    "        shuffle=False,\n",
    "        collate_fn = collate_fn\n",
    "    )\n",
    "    \n",
    "    \n",
    "    \n",
    "\n",
    "    model = model.to(device)\n",
    "    optimizer = optim.AdamW(model.parameters(), lr=args['lr'], weight_decay=args['l2_lambda'])\n",
    "    criterion = torch.nn.MSELoss()\n",
    "\n",
    "    train_mse = test(args,model,device,train_loader,criterion)\n",
    "    valid_mse = test(args,model,device,valid_loader,criterion)\n",
    "    train_mse_lst, valid_mse_lst = [train_mse], [valid_mse]\n",
    "\n",
    "    # scheduler = torch.optim.lr_scheduler.ExponentialLR(optimizer, gamma=args['gamma'])\n",
    "    scheduler = torch.optim.lr_scheduler.ReduceLROnPlateau(optimizer,'min',0.5,patience=5,threshold=1e-3,cooldown=10)\n",
    "    print(\"Pre-Train Train MSE:\", train_mse)\n",
    "    print(\"Pre-Train Valid MSE:\", valid_mse)\n",
    "\n",
    "    best_model = None\n",
    "    for epoch in range(1, args['epoch']+1):\n",
    "        log_dict = {}\n",
    "\n",
    "        gc.collect()\n",
    "        torch.cuda.empty_cache()\n",
    "\n",
    "        train(args,model,device,train_loader,optimizer,criterion,epoch,max_norm=args['max_norm'])\n",
    "        gc.collect()\n",
    "        torch.cuda.empty_cache()\n",
    "\n",
    "        log_dict['train_mse'] = test(args,model,device,train_loader,criterion)\n",
    "        log_dict['valid_mse'] = test(args,model,device,valid_loader,criterion)\n",
    "        log_dict['lr'] = scheduler.optimizer.state_dict()['param_groups'][0]['lr']\n",
    "\n",
    "        gc.collect()\n",
    "        torch.cuda.empty_cache()\n",
    "\n",
    "        print(\"Train MSE:\",log_dict['train_mse'])\n",
    "        print(\"Valid MSE:\",log_dict['valid_mse'])\n",
    "\n",
    "        scheduler.step(log_dict['valid_mse'])\n",
    "        print('Next Learning Rate:', scheduler.optimizer.state_dict()['param_groups'][0]['lr'])\n",
    "\n",
    "        print(train_mse_lst)\n",
    "        print(valid_mse_lst)\n",
    "        if log_dict['valid_mse'] < np.min(valid_mse_lst):\n",
    "            best_model = model\n",
    "            torch.save(best_model, './best_model.model')\n",
    "            # torch.save(model.state_dict(), args['MODEL_PATH']+\"/model_epoch_\"+str(epoch))\n",
    "\n",
    "        train_mse_lst.append(log_dict['train_mse'])\n",
    "        valid_mse_lst.append(log_dict['valid_mse'])\n",
    "\n",
    "        if len(valid_mse_lst)>args['patience'] and log_dict['valid_mse'] > \\\n",
    "            np.min(valid_mse_lst[:-args['patience']]):\n",
    "                break\n",
    "    \n",
    "    if checkpoint_name:\n",
    "        torch.save({\n",
    "#           'epoch': epoch,\n",
    "          'model_state_dict': model.state_dict(),\n",
    "          'optimizer_state_dict': optimizer.state_dict(),\n",
    "#           'scheduler_state_dict': scheduler.state_dict()\n",
    "          }, f'{checkpoint_name}.checkpoint')\n",
    "    \n",
    "    print(\"Training done. Evaluating...\")\n",
    "    \n",
    "    output_lst = []\n",
    "    data_lst = []\n",
    "    factors_lst = []\n",
    "\n",
    "    for data_lhs, data_rhs, data_output, data_x_lens, data_assets in tqdm(extended_valid_loader):\n",
    "        # print(\"Shapes:\",data_lhs.shape, data_rhs.shape, data_output.shape, data_mask.shape)\n",
    "        data_lhs = data_lhs.float().to(device)\n",
    "        data_rhs = data_rhs.float().to(device)\n",
    "        data_output = data_output.float().to(device)\n",
    "        data_x_lens = data_x_lens.int().to(device)\n",
    "        output, factors = best_model(x_lhs = data_lhs, x_rhs = data_rhs)\n",
    "\n",
    "        data_mask = torch.arange(data_lhs.shape[2])[None, :].to(device) < data_x_lens[:, None]\n",
    "        output_masked = torch.masked_select(output,data_mask)\n",
    "        data_output_masked = torch.masked_select(data_output,data_mask)\n",
    "        assert (len(output_masked) == torch.sum(data_x_lens))\n",
    "\n",
    "        indices = [0]+list(torch.cumsum(data_x_lens,axis=0).cpu().numpy())\n",
    "\n",
    "        for k,(i,j) in enumerate(zip(indices[:-1],indices[1:])):\n",
    "            output_lst.append(pd.Series(output_masked[i:j].cpu().detach().numpy(),index=data_assets[k]))\n",
    "            data_lst.append(pd.Series(data_output_masked[i:j].cpu().detach().numpy(),index=data_assets[k]))\n",
    "            factors_lst.append(pd.Series(factors[k].squeeze().cpu().detach().numpy()))\n",
    "\n",
    "    gc.collect()\n",
    "    torch.cuda.empty_cache()\n",
    "    \n",
    "    output_df = pd.DataFrame(output_lst,index=extended_valid_data.output_date_idx).iloc[n_window:]\n",
    "    data_output_df = pd.DataFrame(data_lst,index=extended_valid_data.output_date_idx).iloc[n_window:]\n",
    "    factors_df = pd.DataFrame(factors_lst,index=extended_valid_data.output_date_idx)\n",
    "    \n",
    "    predicted_factors = factors_df.rolling(n_window).mean()\n",
    "    factors_tensor = torch.tensor(predicted_factors.iloc[n_window:].to_numpy()).unsqueeze(2).float().to(device)\n",
    "    \n",
    "    \n",
    "    pred_output_lst = []\n",
    "    for i, (data_lhs, _, _, data_x_lens, data_assets) in tqdm(enumerate(valid_loader),total=len(valid_loader)):\n",
    "        data_lhs = data_lhs.float().to(device)\n",
    "        data_x_lens = data_x_lens.int().to(device)\n",
    "        output= best_model.forward_given_factors(x_lhs = data_lhs, factors = factors_tensor[i*batch_size:(i+1)*batch_size])\n",
    "\n",
    "        data_mask = torch.arange(data_lhs.shape[2])[None, :].to(device) < data_x_lens[:, None]\n",
    "        output_masked = torch.masked_select(output,data_mask)\n",
    "        assert (len(output_masked) == torch.sum(data_x_lens))\n",
    "\n",
    "        indices = [0]+list(torch.cumsum(data_x_lens,axis=0).cpu().numpy())\n",
    "\n",
    "        for k,(i,j) in enumerate(zip(indices[:-1],indices[1:])):\n",
    "            pred_output_lst.append(pd.Series(output_masked[i:j].cpu().detach().numpy(),index=data_assets[k]))\n",
    "    tm1_predicted_returns = pd.DataFrame(pred_output_lst,index=predicted_factors.iloc[n_window:].index)\n",
    "    predicted_returns = tm1_predicted_returns.shift(1).iloc[1:]\n",
    "    \n",
    "    gc.collect()\n",
    "    torch.cuda.empty_cache()\n",
    "    \n",
    "    log_dict = {}\n",
    "    \n",
    "#     log_dict['predicted_returns'] = predicted_returns\n",
    "    \n",
    "    # Predictive Stats:\n",
    "    # Spearman Corr\n",
    "    corr = predicted_returns.corrwith(returns_df.loc[predicted_returns.index,predicted_returns.columns],axis=1,method='spearman')\n",
    "    log_dict['pred_spearman_corr'] = corr.mean()\n",
    "    # R2\n",
    "    numer = (returns_df.loc[predicted_returns.index,predicted_returns.columns]-predicted_returns)\n",
    "    numer_mask = (~numer.isna()).astype(int)\n",
    "    denom = returns_df.loc[predicted_returns.index,predicted_returns.columns] * numer_mask\n",
    "    log_dict['pred_r2'] = (1 - ((numer**2).sum(axis=1))/(denom**2).sum(axis=1)).mean()\n",
    "    \n",
    "    # Attribution Stats:\n",
    "    # Spearman Corr\n",
    "    corr = output_df.corrwith(returns_df.loc[output_df.index,output_df.columns],axis=1,method='spearman')\n",
    "    log_dict['total_spearman_corr'] = corr.mean()\n",
    "    # R2\n",
    "    numer = (returns_df.loc[output_df.index,output_df.columns]-output_df)\n",
    "    numer_mask = (~numer.isna()).astype(int)\n",
    "    denom = returns_df.loc[output_df.index,output_df.columns] * numer_mask\n",
    "    log_dict['total_r2'] = (1 - ((numer**2).sum(axis=1))/(denom**2).sum(axis=1)).mean()\n",
    "    \n",
    "    # Trading Stats:\n",
    "    train_pred_rank = predicted_returns.rank(pct=True,axis=1,numeric_only=True,ascending=True)\n",
    "    long_port = ((train_pred_rank >= 0.9) & (train_pred_rank < 1)).astype(int)\n",
    "    long_port = long_port.divide(long_port.sum(axis=1),axis=0)\n",
    "    long_port_returns = (long_port*returns_df.loc[long_port.index]).sum(axis=1)\n",
    "    short_port = (train_pred_rank <= 0.1).astype(int)\n",
    "    short_port = short_port.divide(short_port.sum(axis=1),axis=0)\n",
    "    short_port_returns = (short_port*returns_df.loc[short_port.index]).sum(axis=1)\n",
    "    comb_port = long_port - short_port\n",
    "    comb_port_returns = (comb_port*returns_df.loc[comb_port.index]).sum(axis=1)\n",
    "    log_dict['long_short_SR'] = (comb_port_returns.mean()/comb_port_returns.std())*np.sqrt(12)\n",
    "    log_dict['long_short_returns'] = comb_port_returns.mean()*12\n",
    "    log_dict['long_short_SD'] = comb_port_returns.std()*np.sqrt(12)\n",
    "    \n",
    "    log_dict['long_SR'] = (long_port_returns.mean()/long_port_returns.std())*np.sqrt(12)\n",
    "    log_dict['long_returns'] = long_port_returns.mean()*12\n",
    "    log_dict['long_SD'] = long_port_returns.std()*np.sqrt(12)\n",
    "    \n",
    "    log_dict['short_SR'] = (short_port_returns.mean()/short_port_returns.std())*np.sqrt(12)\n",
    "    log_dict['short_returns'] = short_port_returns.mean()*12\n",
    "    log_dict['short_SD'] = short_port_returns.std()*np.sqrt(12)\n",
    "    \n",
    "    return log_dict"
   ]
  },
  {
   "cell_type": "code",
   "execution_count": 12,
   "id": "222ea8b2",
   "metadata": {},
   "outputs": [],
   "source": [
    "fixed_args = {\n",
    "#     'n_factors' : 5,\n",
    "#     'n_hidden_lhs':[16,8],\n",
    "    'n_hidden_rhs':[],\n",
    "    'batch_norm_lhs' : True,\n",
    "    'batch_norm_rhs' : False,\n",
    "#     'rhs_activation': True,\n",
    "    'dropout_p' : 0.0,\n",
    "    'max_norm' : 1,\n",
    "    'bn_momentum': 0.01,\n",
    "    'bn_track_running_stats': True,\n",
    "    'initialization' : False,\n",
    "    'rhs_input_assets' : False,\n",
    "    'lr' : 5e-4,\n",
    "    'gamma': 1/4,\n",
    "    'l2_lambda': 0,\n",
    "    'l1_lambda': 4e-3,\n",
    "    'batch_size': 32,\n",
    "    'log_interval': 1,\n",
    "    'epoch': 60,\n",
    "    'patience': 6\n",
    "}\n",
    "\n",
    "search_args = {\n",
    "    'n_factors': [2,4,6],\n",
    "#     'n_factors': [4],\n",
    "    'n_hidden_lhs': [(24,),(16,8),(16,8,4)],\n",
    "#     'n_hidden_lhs': [(16,8)],\n",
    "    'rhs_activation': [False]\n",
    "}\n",
    "\n",
    "# fixed_args = {\n",
    "# #     'n_factors' : 5,\n",
    "# #     'n_hidden_lhs':[16,8],\n",
    "#     'n_hidden_rhs':[],\n",
    "#     'batch_norm_lhs' : True,\n",
    "#     'batch_norm_rhs' : False,\n",
    "#     'rhs_activation': True,\n",
    "#     'dropout_p' : 0.0,\n",
    "#     'max_norm' : 1,\n",
    "#     'bn_momentum': 0.01,\n",
    "#     'bn_track_running_stats': True,\n",
    "#     'initialization' : False,\n",
    "# #     'rhs_input_assets' : False,\n",
    "#     'lr' : 5e-4,\n",
    "#     'gamma': 1/4,\n",
    "#     'l2_lambda': 0,\n",
    "#     'l1_lambda': 4e-3,\n",
    "#     'batch_size': 32,\n",
    "#     'log_interval': 1,\n",
    "#     'epoch': 3,\n",
    "#     'patience': 6\n",
    "# }\n",
    "\n",
    "# search_args = {\n",
    "#     'n_factors': [2],\n",
    "#     'n_hidden_lhs': [(8,)],\n",
    "#     'rhs_input_assets': [True]\n",
    "# }\n",
    "\n",
    "search_keys = list(search_args.keys())\n",
    "search_values = list(search_args.values())\n",
    "from itertools import product\n",
    "search_values = list(product(*search_values))\n"
   ]
  },
  {
   "cell_type": "code",
   "execution_count": 13,
   "id": "916fbf31",
   "metadata": {},
   "outputs": [
    {
     "data": {
      "text/plain": [
       "[(2, (24,), False),\n",
       " (2, (16, 8), False),\n",
       " (2, (16, 8, 4), False),\n",
       " (4, (24,), False),\n",
       " (4, (16, 8), False),\n",
       " (4, (16, 8, 4), False),\n",
       " (6, (24,), False),\n",
       " (6, (16, 8), False),\n",
       " (6, (16, 8, 4), False)]"
      ]
     },
     "execution_count": 13,
     "metadata": {},
     "output_type": "execute_result"
    }
   ],
   "source": [
    "search_values"
   ]
  },
  {
   "cell_type": "code",
   "execution_count": 14,
   "id": "657cfcea",
   "metadata": {
    "scrolled": true
   },
   "outputs": [
    {
     "name": "stdout",
     "output_type": "stream",
     "text": [
      "Params 0: (2, (24,), False)\n",
      "Params 1: (2, (16, 8), False)\n",
      "Params 2: (2, (16, 8, 4), False)\n",
      "Params 3: (4, (24,), False)\n",
      "Params 4: (4, (16, 8), False)\n",
      "Params 5: (4, (16, 8, 4), False)\n",
      "Params 6: (6, (24,), False)\n",
      "ConditionalAutoEncoder(\n",
      "  (lhs): Sequential(\n",
      "    (0): LayerNorm((29,), eps=1e-05, elementwise_affine=True)\n",
      "    (1): Linear(in_features=29, out_features=24, bias=True)\n",
      "    (2): SELU()\n",
      "    (3): Linear(in_features=24, out_features=6, bias=True)\n",
      "  )\n",
      "  (rhs): Sequential(\n",
      "    (0): Linear(in_features=30, out_features=6, bias=True)\n",
      "  )\n",
      ")\n",
      "   28.31 s in test({'n_hidden_rhs': [], '..., ConditionalAutoEncoder..., cuda, <torch.utils.data.data..., MSELoss())\n",
      "    4.03 s in test({'n_hidden_rhs': [], '..., ConditionalAutoEncoder..., cuda, <torch.utils.data.data..., MSELoss())\n",
      "Pre-Train Train MSE: 9.99128\n",
      "Pre-Train Valid MSE: 0.04731148\n"
     ]
    },
    {
     "name": "stderr",
     "output_type": "stream",
     "text": [
      "                                                                                                                                                                  \r"
     ]
    },
    {
     "name": "stdout",
     "output_type": "stream",
     "text": [
      "Epoch 1, total_loss=6.2788, reg_loss = 0.5139\n",
      "   55.19 s in train({'n_hidden_rhs': [], '..., ConditionalAutoEncoder..., cuda, <torch.utils.data.data..., AdamW ( Parameter Grou..., MSELoss(), 1, max_norm=1)\n",
      "   26.04 s in test({'n_hidden_rhs': [], '..., ConditionalAutoEncoder..., cuda, <torch.utils.data.data..., MSELoss())\n",
      "    3.86 s in test({'n_hidden_rhs': [], '..., ConditionalAutoEncoder..., cuda, <torch.utils.data.data..., MSELoss())\n",
      "Train MSE: 3.1923149\n",
      "Valid MSE: 0.04804948\n",
      "Next Learning Rate: 0.0005\n",
      "[9.99128]\n",
      "[0.04731148]\n"
     ]
    },
    {
     "name": "stderr",
     "output_type": "stream",
     "text": [
      "                                                                                                                                                                  \r"
     ]
    },
    {
     "name": "stdout",
     "output_type": "stream",
     "text": [
      "Epoch 2, total_loss=2.7231, reg_loss = 0.5079\n",
      "   54.07 s in train({'n_hidden_rhs': [], '..., ConditionalAutoEncoder..., cuda, <torch.utils.data.data..., AdamW ( Parameter Grou..., MSELoss(), 2, max_norm=1)\n",
      "   26.04 s in test({'n_hidden_rhs': [], '..., ConditionalAutoEncoder..., cuda, <torch.utils.data.data..., MSELoss())\n",
      "    3.73 s in test({'n_hidden_rhs': [], '..., ConditionalAutoEncoder..., cuda, <torch.utils.data.data..., MSELoss())\n",
      "Train MSE: 1.3553666\n",
      "Valid MSE: 0.047690954\n",
      "Next Learning Rate: 0.0005\n",
      "[9.99128, 3.1923149]\n",
      "[0.04731148, 0.04804948]\n"
     ]
    },
    {
     "name": "stderr",
     "output_type": "stream",
     "text": [
      "                                                                                                                                                                  \r"
     ]
    },
    {
     "name": "stdout",
     "output_type": "stream",
     "text": [
      "Epoch 3, total_loss=1.5458, reg_loss = 0.5012\n",
      "   54.85 s in train({'n_hidden_rhs': [], '..., ConditionalAutoEncoder..., cuda, <torch.utils.data.data..., AdamW ( Parameter Grou..., MSELoss(), 3, max_norm=1)\n",
      "   26.65 s in test({'n_hidden_rhs': [], '..., ConditionalAutoEncoder..., cuda, <torch.utils.data.data..., MSELoss())\n",
      "    3.76 s in test({'n_hidden_rhs': [], '..., ConditionalAutoEncoder..., cuda, <torch.utils.data.data..., MSELoss())\n",
      "Train MSE: 0.78882\n",
      "Valid MSE: 0.046349537\n",
      "Next Learning Rate: 0.0005\n",
      "[9.99128, 3.1923149, 1.3553666]\n",
      "[0.04731148, 0.04804948, 0.047690954]\n"
     ]
    },
    {
     "name": "stderr",
     "output_type": "stream",
     "text": [
      "                                                                                                                                                                  \r"
     ]
    },
    {
     "name": "stdout",
     "output_type": "stream",
     "text": [
      "Epoch 4, total_loss=1.1489, reg_loss = 0.4944\n",
      "   54.94 s in train({'n_hidden_rhs': [], '..., ConditionalAutoEncoder..., cuda, <torch.utils.data.data..., AdamW ( Parameter Grou..., MSELoss(), 4, max_norm=1)\n",
      "   26.58 s in test({'n_hidden_rhs': [], '..., ConditionalAutoEncoder..., cuda, <torch.utils.data.data..., MSELoss())\n",
      "    3.71 s in test({'n_hidden_rhs': [], '..., ConditionalAutoEncoder..., cuda, <torch.utils.data.data..., MSELoss())\n",
      "Train MSE: 0.5528462\n",
      "Valid MSE: 0.0445589\n",
      "Next Learning Rate: 0.0005\n",
      "[9.99128, 3.1923149, 1.3553666, 0.78882]\n",
      "[0.04731148, 0.04804948, 0.047690954, 0.046349537]\n"
     ]
    },
    {
     "name": "stderr",
     "output_type": "stream",
     "text": [
      "                                                                                                                                                                  \r"
     ]
    },
    {
     "name": "stdout",
     "output_type": "stream",
     "text": [
      "Epoch 5, total_loss=0.9719, reg_loss = 0.4879\n",
      "   54.83 s in train({'n_hidden_rhs': [], '..., ConditionalAutoEncoder..., cuda, <torch.utils.data.data..., AdamW ( Parameter Grou..., MSELoss(), 5, max_norm=1)\n",
      "   26.10 s in test({'n_hidden_rhs': [], '..., ConditionalAutoEncoder..., cuda, <torch.utils.data.data..., MSELoss())\n",
      "    3.76 s in test({'n_hidden_rhs': [], '..., ConditionalAutoEncoder..., cuda, <torch.utils.data.data..., MSELoss())\n",
      "Train MSE: 0.41524774\n",
      "Valid MSE: 0.042931113\n",
      "Next Learning Rate: 0.0005\n",
      "[9.99128, 3.1923149, 1.3553666, 0.78882, 0.5528462]\n",
      "[0.04731148, 0.04804948, 0.047690954, 0.046349537, 0.0445589]\n"
     ]
    },
    {
     "name": "stderr",
     "output_type": "stream",
     "text": [
      "                                                                                                                                                                  \r"
     ]
    },
    {
     "name": "stdout",
     "output_type": "stream",
     "text": [
      "Epoch 6, total_loss=0.8657, reg_loss = 0.4815\n",
      "   54.38 s in train({'n_hidden_rhs': [], '..., ConditionalAutoEncoder..., cuda, <torch.utils.data.data..., AdamW ( Parameter Grou..., MSELoss(), 6, max_norm=1)\n",
      "   26.10 s in test({'n_hidden_rhs': [], '..., ConditionalAutoEncoder..., cuda, <torch.utils.data.data..., MSELoss())\n",
      "    3.74 s in test({'n_hidden_rhs': [], '..., ConditionalAutoEncoder..., cuda, <torch.utils.data.data..., MSELoss())\n",
      "Train MSE: 0.34669366\n",
      "Valid MSE: 0.041535757\n",
      "Next Learning Rate: 0.0005\n",
      "[9.99128, 3.1923149, 1.3553666, 0.78882, 0.5528462, 0.41524774]\n",
      "[0.04731148, 0.04804948, 0.047690954, 0.046349537, 0.0445589, 0.042931113]\n"
     ]
    },
    {
     "name": "stderr",
     "output_type": "stream",
     "text": [
      "                                                                                                                                                                  \r"
     ]
    },
    {
     "name": "stdout",
     "output_type": "stream",
     "text": [
      "Epoch 7, total_loss=0.7903, reg_loss = 0.4753\n",
      "   54.31 s in train({'n_hidden_rhs': [], '..., ConditionalAutoEncoder..., cuda, <torch.utils.data.data..., AdamW ( Parameter Grou..., MSELoss(), 7, max_norm=1)\n",
      "   26.03 s in test({'n_hidden_rhs': [], '..., ConditionalAutoEncoder..., cuda, <torch.utils.data.data..., MSELoss())\n",
      "    3.83 s in test({'n_hidden_rhs': [], '..., ConditionalAutoEncoder..., cuda, <torch.utils.data.data..., MSELoss())\n",
      "Train MSE: 0.2902287\n",
      "Valid MSE: 0.04037306\n",
      "Next Learning Rate: 0.0005\n",
      "[9.99128, 3.1923149, 1.3553666, 0.78882, 0.5528462, 0.41524774, 0.34669366]\n",
      "[0.04731148, 0.04804948, 0.047690954, 0.046349537, 0.0445589, 0.042931113, 0.041535757]\n"
     ]
    },
    {
     "name": "stderr",
     "output_type": "stream",
     "text": [
      "                                                                                                                                                                  \r"
     ]
    },
    {
     "name": "stdout",
     "output_type": "stream",
     "text": [
      "Epoch 8, total_loss=0.7393, reg_loss = 0.4693\n",
      "   54.99 s in train({'n_hidden_rhs': [], '..., ConditionalAutoEncoder..., cuda, <torch.utils.data.data..., AdamW ( Parameter Grou..., MSELoss(), 8, max_norm=1)\n",
      "   26.28 s in test({'n_hidden_rhs': [], '..., ConditionalAutoEncoder..., cuda, <torch.utils.data.data..., MSELoss())\n",
      "    3.69 s in test({'n_hidden_rhs': [], '..., ConditionalAutoEncoder..., cuda, <torch.utils.data.data..., MSELoss())\n",
      "Train MSE: 0.26147377\n",
      "Valid MSE: 0.03941594\n",
      "Next Learning Rate: 0.0005\n",
      "[9.99128, 3.1923149, 1.3553666, 0.78882, 0.5528462, 0.41524774, 0.34669366, 0.2902287]\n",
      "[0.04731148, 0.04804948, 0.047690954, 0.046349537, 0.0445589, 0.042931113, 0.041535757, 0.04037306]\n"
     ]
    },
    {
     "name": "stderr",
     "output_type": "stream",
     "text": [
      "                                                                                                                                                                  \r"
     ]
    },
    {
     "name": "stdout",
     "output_type": "stream",
     "text": [
      "Epoch 9, total_loss=0.7125, reg_loss = 0.4634\n",
      "   54.80 s in train({'n_hidden_rhs': [], '..., ConditionalAutoEncoder..., cuda, <torch.utils.data.data..., AdamW ( Parameter Grou..., MSELoss(), 9, max_norm=1)\n",
      "   26.46 s in test({'n_hidden_rhs': [], '..., ConditionalAutoEncoder..., cuda, <torch.utils.data.data..., MSELoss())\n",
      "    3.94 s in test({'n_hidden_rhs': [], '..., ConditionalAutoEncoder..., cuda, <torch.utils.data.data..., MSELoss())\n",
      "Train MSE: 0.24430412\n",
      "Valid MSE: 0.03861267\n",
      "Next Learning Rate: 0.0005\n",
      "[9.99128, 3.1923149, 1.3553666, 0.78882, 0.5528462, 0.41524774, 0.34669366, 0.2902287, 0.26147377]\n",
      "[0.04731148, 0.04804948, 0.047690954, 0.046349537, 0.0445589, 0.042931113, 0.041535757, 0.04037306, 0.03941594]\n"
     ]
    },
    {
     "name": "stderr",
     "output_type": "stream",
     "text": [
      "                                                                                                                                                                  \r"
     ]
    },
    {
     "name": "stdout",
     "output_type": "stream",
     "text": [
      "Epoch 10, total_loss=0.6927, reg_loss = 0.4576\n",
      "   56.01 s in train({'n_hidden_rhs': [], '..., ConditionalAutoEncoder..., cuda, <torch.utils.data.data..., AdamW ( Parameter Grou..., MSELoss(), 10, max_norm=1)\n",
      "   26.41 s in test({'n_hidden_rhs': [], '..., ConditionalAutoEncoder..., cuda, <torch.utils.data.data..., MSELoss())\n",
      "    3.76 s in test({'n_hidden_rhs': [], '..., ConditionalAutoEncoder..., cuda, <torch.utils.data.data..., MSELoss())\n",
      "Train MSE: 0.23353109\n",
      "Valid MSE: 0.037963964\n",
      "Next Learning Rate: 0.0005\n",
      "[9.99128, 3.1923149, 1.3553666, 0.78882, 0.5528462, 0.41524774, 0.34669366, 0.2902287, 0.26147377, 0.24430412]\n",
      "[0.04731148, 0.04804948, 0.047690954, 0.046349537, 0.0445589, 0.042931113, 0.041535757, 0.04037306, 0.03941594, 0.03861267]\n"
     ]
    },
    {
     "name": "stderr",
     "output_type": "stream",
     "text": [
      "                                                                                                                                                                  \r"
     ]
    },
    {
     "name": "stdout",
     "output_type": "stream",
     "text": [
      "Epoch 11, total_loss=0.6795, reg_loss = 0.4519\n",
      "   55.32 s in train({'n_hidden_rhs': [], '..., ConditionalAutoEncoder..., cuda, <torch.utils.data.data..., AdamW ( Parameter Grou..., MSELoss(), 11, max_norm=1)\n",
      "   26.84 s in test({'n_hidden_rhs': [], '..., ConditionalAutoEncoder..., cuda, <torch.utils.data.data..., MSELoss())\n",
      "    3.71 s in test({'n_hidden_rhs': [], '..., ConditionalAutoEncoder..., cuda, <torch.utils.data.data..., MSELoss())\n",
      "Train MSE: 0.2260087\n",
      "Valid MSE: 0.037429936\n",
      "Next Learning Rate: 0.0005\n",
      "[9.99128, 3.1923149, 1.3553666, 0.78882, 0.5528462, 0.41524774, 0.34669366, 0.2902287, 0.26147377, 0.24430412, 0.23353109]\n",
      "[0.04731148, 0.04804948, 0.047690954, 0.046349537, 0.0445589, 0.042931113, 0.041535757, 0.04037306, 0.03941594, 0.03861267, 0.037963964]\n"
     ]
    },
    {
     "name": "stderr",
     "output_type": "stream",
     "text": [
      "                                                                                                                                                                  \r"
     ]
    },
    {
     "name": "stdout",
     "output_type": "stream",
     "text": [
      "Epoch 12, total_loss=0.6622, reg_loss = 0.4464\n",
      "   54.79 s in train({'n_hidden_rhs': [], '..., ConditionalAutoEncoder..., cuda, <torch.utils.data.data..., AdamW ( Parameter Grou..., MSELoss(), 12, max_norm=1)\n",
      "   26.21 s in test({'n_hidden_rhs': [], '..., ConditionalAutoEncoder..., cuda, <torch.utils.data.data..., MSELoss())\n",
      "    3.82 s in test({'n_hidden_rhs': [], '..., ConditionalAutoEncoder..., cuda, <torch.utils.data.data..., MSELoss())\n",
      "Train MSE: 0.22112988\n",
      "Valid MSE: 0.036994167\n",
      "Next Learning Rate: 0.0005\n",
      "[9.99128, 3.1923149, 1.3553666, 0.78882, 0.5528462, 0.41524774, 0.34669366, 0.2902287, 0.26147377, 0.24430412, 0.23353109, 0.2260087]\n",
      "[0.04731148, 0.04804948, 0.047690954, 0.046349537, 0.0445589, 0.042931113, 0.041535757, 0.04037306, 0.03941594, 0.03861267, 0.037963964, 0.037429936]\n"
     ]
    },
    {
     "name": "stderr",
     "output_type": "stream",
     "text": [
      "                                                                                                                                                                  \r"
     ]
    },
    {
     "name": "stdout",
     "output_type": "stream",
     "text": [
      "Epoch 13, total_loss=0.6542, reg_loss = 0.4411\n",
      "   55.26 s in train({'n_hidden_rhs': [], '..., ConditionalAutoEncoder..., cuda, <torch.utils.data.data..., AdamW ( Parameter Grou..., MSELoss(), 13, max_norm=1)\n",
      "   26.48 s in test({'n_hidden_rhs': [], '..., ConditionalAutoEncoder..., cuda, <torch.utils.data.data..., MSELoss())\n",
      "    3.76 s in test({'n_hidden_rhs': [], '..., ConditionalAutoEncoder..., cuda, <torch.utils.data.data..., MSELoss())\n",
      "Train MSE: 0.21714884\n",
      "Valid MSE: 0.03663167\n",
      "Next Learning Rate: 0.0005\n",
      "[9.99128, 3.1923149, 1.3553666, 0.78882, 0.5528462, 0.41524774, 0.34669366, 0.2902287, 0.26147377, 0.24430412, 0.23353109, 0.2260087, 0.22112988]\n",
      "[0.04731148, 0.04804948, 0.047690954, 0.046349537, 0.0445589, 0.042931113, 0.041535757, 0.04037306, 0.03941594, 0.03861267, 0.037963964, 0.037429936, 0.036994167]\n"
     ]
    },
    {
     "name": "stderr",
     "output_type": "stream",
     "text": [
      "                                                                                                                                                                  \r"
     ]
    },
    {
     "name": "stdout",
     "output_type": "stream",
     "text": [
      "Epoch 14, total_loss=0.6416, reg_loss = 0.4360\n",
      "   54.30 s in train({'n_hidden_rhs': [], '..., ConditionalAutoEncoder..., cuda, <torch.utils.data.data..., AdamW ( Parameter Grou..., MSELoss(), 14, max_norm=1)\n",
      "   26.45 s in test({'n_hidden_rhs': [], '..., ConditionalAutoEncoder..., cuda, <torch.utils.data.data..., MSELoss())\n",
      "    3.84 s in test({'n_hidden_rhs': [], '..., ConditionalAutoEncoder..., cuda, <torch.utils.data.data..., MSELoss())\n",
      "Train MSE: 0.21412197\n",
      "Valid MSE: 0.03636175\n",
      "Next Learning Rate: 0.0005\n",
      "[9.99128, 3.1923149, 1.3553666, 0.78882, 0.5528462, 0.41524774, 0.34669366, 0.2902287, 0.26147377, 0.24430412, 0.23353109, 0.2260087, 0.22112988, 0.21714884]\n",
      "[0.04731148, 0.04804948, 0.047690954, 0.046349537, 0.0445589, 0.042931113, 0.041535757, 0.04037306, 0.03941594, 0.03861267, 0.037963964, 0.037429936, 0.036994167, 0.03663167]\n"
     ]
    },
    {
     "name": "stderr",
     "output_type": "stream",
     "text": [
      "                                                                                                                                                                  \r"
     ]
    },
    {
     "name": "stdout",
     "output_type": "stream",
     "text": [
      "Epoch 15, total_loss=0.6420, reg_loss = 0.4313\n",
      "   55.29 s in train({'n_hidden_rhs': [], '..., ConditionalAutoEncoder..., cuda, <torch.utils.data.data..., AdamW ( Parameter Grou..., MSELoss(), 15, max_norm=1)\n",
      "   26.07 s in test({'n_hidden_rhs': [], '..., ConditionalAutoEncoder..., cuda, <torch.utils.data.data..., MSELoss())\n",
      "    3.75 s in test({'n_hidden_rhs': [], '..., ConditionalAutoEncoder..., cuda, <torch.utils.data.data..., MSELoss())\n",
      "Train MSE: 0.2117456\n",
      "Valid MSE: 0.03613312\n",
      "Next Learning Rate: 0.0005\n",
      "[9.99128, 3.1923149, 1.3553666, 0.78882, 0.5528462, 0.41524774, 0.34669366, 0.2902287, 0.26147377, 0.24430412, 0.23353109, 0.2260087, 0.22112988, 0.21714884, 0.21412197]\n",
      "[0.04731148, 0.04804948, 0.047690954, 0.046349537, 0.0445589, 0.042931113, 0.041535757, 0.04037306, 0.03941594, 0.03861267, 0.037963964, 0.037429936, 0.036994167, 0.03663167, 0.03636175]\n"
     ]
    },
    {
     "name": "stderr",
     "output_type": "stream",
     "text": [
      "                                                                                                                                                                  \r"
     ]
    },
    {
     "name": "stdout",
     "output_type": "stream",
     "text": [
      "Epoch 16, total_loss=0.6347, reg_loss = 0.4270\n",
      "   54.50 s in train({'n_hidden_rhs': [], '..., ConditionalAutoEncoder..., cuda, <torch.utils.data.data..., AdamW ( Parameter Grou..., MSELoss(), 16, max_norm=1)\n",
      "   26.50 s in test({'n_hidden_rhs': [], '..., ConditionalAutoEncoder..., cuda, <torch.utils.data.data..., MSELoss())\n",
      "    3.76 s in test({'n_hidden_rhs': [], '..., ConditionalAutoEncoder..., cuda, <torch.utils.data.data..., MSELoss())\n",
      "Train MSE: 0.20981286\n",
      "Valid MSE: 0.035941377\n",
      "Next Learning Rate: 0.0005\n",
      "[9.99128, 3.1923149, 1.3553666, 0.78882, 0.5528462, 0.41524774, 0.34669366, 0.2902287, 0.26147377, 0.24430412, 0.23353109, 0.2260087, 0.22112988, 0.21714884, 0.21412197, 0.2117456]\n",
      "[0.04731148, 0.04804948, 0.047690954, 0.046349537, 0.0445589, 0.042931113, 0.041535757, 0.04037306, 0.03941594, 0.03861267, 0.037963964, 0.037429936, 0.036994167, 0.03663167, 0.03636175, 0.03613312]\n"
     ]
    },
    {
     "name": "stderr",
     "output_type": "stream",
     "text": [
      "                                                                                                                                                                  \r"
     ]
    },
    {
     "name": "stdout",
     "output_type": "stream",
     "text": [
      "Epoch 17, total_loss=0.6305, reg_loss = 0.4229\n",
      "   54.23 s in train({'n_hidden_rhs': [], '..., ConditionalAutoEncoder..., cuda, <torch.utils.data.data..., AdamW ( Parameter Grou..., MSELoss(), 17, max_norm=1)\n",
      "   26.28 s in test({'n_hidden_rhs': [], '..., ConditionalAutoEncoder..., cuda, <torch.utils.data.data..., MSELoss())\n",
      "    3.74 s in test({'n_hidden_rhs': [], '..., ConditionalAutoEncoder..., cuda, <torch.utils.data.data..., MSELoss())\n",
      "Train MSE: 0.20799476\n",
      "Valid MSE: 0.035771884\n",
      "Next Learning Rate: 0.0005\n",
      "[9.99128, 3.1923149, 1.3553666, 0.78882, 0.5528462, 0.41524774, 0.34669366, 0.2902287, 0.26147377, 0.24430412, 0.23353109, 0.2260087, 0.22112988, 0.21714884, 0.21412197, 0.2117456, 0.20981286]\n",
      "[0.04731148, 0.04804948, 0.047690954, 0.046349537, 0.0445589, 0.042931113, 0.041535757, 0.04037306, 0.03941594, 0.03861267, 0.037963964, 0.037429936, 0.036994167, 0.03663167, 0.03636175, 0.03613312, 0.035941377]\n"
     ]
    },
    {
     "name": "stderr",
     "output_type": "stream",
     "text": [
      "                                                                                                                                                                  \r"
     ]
    },
    {
     "name": "stdout",
     "output_type": "stream",
     "text": [
      "Epoch 18, total_loss=0.6274, reg_loss = 0.4193\n",
      "   54.68 s in train({'n_hidden_rhs': [], '..., ConditionalAutoEncoder..., cuda, <torch.utils.data.data..., AdamW ( Parameter Grou..., MSELoss(), 18, max_norm=1)\n",
      "   26.06 s in test({'n_hidden_rhs': [], '..., ConditionalAutoEncoder..., cuda, <torch.utils.data.data..., MSELoss())\n",
      "    3.66 s in test({'n_hidden_rhs': [], '..., ConditionalAutoEncoder..., cuda, <torch.utils.data.data..., MSELoss())\n",
      "Train MSE: 0.2065868\n",
      "Valid MSE: 0.03561664\n",
      "Next Learning Rate: 0.0005\n",
      "[9.99128, 3.1923149, 1.3553666, 0.78882, 0.5528462, 0.41524774, 0.34669366, 0.2902287, 0.26147377, 0.24430412, 0.23353109, 0.2260087, 0.22112988, 0.21714884, 0.21412197, 0.2117456, 0.20981286, 0.20799476]\n",
      "[0.04731148, 0.04804948, 0.047690954, 0.046349537, 0.0445589, 0.042931113, 0.041535757, 0.04037306, 0.03941594, 0.03861267, 0.037963964, 0.037429936, 0.036994167, 0.03663167, 0.03636175, 0.03613312, 0.035941377, 0.035771884]\n"
     ]
    },
    {
     "name": "stderr",
     "output_type": "stream",
     "text": [
      "                                                                                                                                                                  \r"
     ]
    },
    {
     "name": "stdout",
     "output_type": "stream",
     "text": [
      "Epoch 19, total_loss=0.6162, reg_loss = 0.4160\n",
      "   54.42 s in train({'n_hidden_rhs': [], '..., ConditionalAutoEncoder..., cuda, <torch.utils.data.data..., AdamW ( Parameter Grou..., MSELoss(), 19, max_norm=1)\n",
      "   25.93 s in test({'n_hidden_rhs': [], '..., ConditionalAutoEncoder..., cuda, <torch.utils.data.data..., MSELoss())\n",
      "    3.73 s in test({'n_hidden_rhs': [], '..., ConditionalAutoEncoder..., cuda, <torch.utils.data.data..., MSELoss())\n",
      "Train MSE: 0.20531471\n",
      "Valid MSE: 0.035486963\n",
      "Next Learning Rate: 0.0005\n",
      "[9.99128, 3.1923149, 1.3553666, 0.78882, 0.5528462, 0.41524774, 0.34669366, 0.2902287, 0.26147377, 0.24430412, 0.23353109, 0.2260087, 0.22112988, 0.21714884, 0.21412197, 0.2117456, 0.20981286, 0.20799476, 0.2065868]\n",
      "[0.04731148, 0.04804948, 0.047690954, 0.046349537, 0.0445589, 0.042931113, 0.041535757, 0.04037306, 0.03941594, 0.03861267, 0.037963964, 0.037429936, 0.036994167, 0.03663167, 0.03636175, 0.03613312, 0.035941377, 0.035771884, 0.03561664]\n"
     ]
    },
    {
     "name": "stderr",
     "output_type": "stream",
     "text": [
      "                                                                                                                                                                  \r"
     ]
    },
    {
     "name": "stdout",
     "output_type": "stream",
     "text": [
      "Epoch 20, total_loss=0.6136, reg_loss = 0.4130\n",
      "   54.33 s in train({'n_hidden_rhs': [], '..., ConditionalAutoEncoder..., cuda, <torch.utils.data.data..., AdamW ( Parameter Grou..., MSELoss(), 20, max_norm=1)\n",
      "   26.10 s in test({'n_hidden_rhs': [], '..., ConditionalAutoEncoder..., cuda, <torch.utils.data.data..., MSELoss())\n",
      "    3.71 s in test({'n_hidden_rhs': [], '..., ConditionalAutoEncoder..., cuda, <torch.utils.data.data..., MSELoss())\n",
      "Train MSE: 0.20408735\n",
      "Valid MSE: 0.035363782\n",
      "Next Learning Rate: 0.0005\n",
      "[9.99128, 3.1923149, 1.3553666, 0.78882, 0.5528462, 0.41524774, 0.34669366, 0.2902287, 0.26147377, 0.24430412, 0.23353109, 0.2260087, 0.22112988, 0.21714884, 0.21412197, 0.2117456, 0.20981286, 0.20799476, 0.2065868, 0.20531471]\n",
      "[0.04731148, 0.04804948, 0.047690954, 0.046349537, 0.0445589, 0.042931113, 0.041535757, 0.04037306, 0.03941594, 0.03861267, 0.037963964, 0.037429936, 0.036994167, 0.03663167, 0.03636175, 0.03613312, 0.035941377, 0.035771884, 0.03561664, 0.035486963]\n"
     ]
    },
    {
     "name": "stderr",
     "output_type": "stream",
     "text": [
      "                                                                                                                                                                  \r"
     ]
    },
    {
     "name": "stdout",
     "output_type": "stream",
     "text": [
      "Epoch 21, total_loss=0.6058, reg_loss = 0.4101\n",
      "   54.20 s in train({'n_hidden_rhs': [], '..., ConditionalAutoEncoder..., cuda, <torch.utils.data.data..., AdamW ( Parameter Grou..., MSELoss(), 21, max_norm=1)\n",
      "   26.44 s in test({'n_hidden_rhs': [], '..., ConditionalAutoEncoder..., cuda, <torch.utils.data.data..., MSELoss())\n",
      "    3.77 s in test({'n_hidden_rhs': [], '..., ConditionalAutoEncoder..., cuda, <torch.utils.data.data..., MSELoss())\n",
      "Train MSE: 0.20293924\n",
      "Valid MSE: 0.03527113\n",
      "Next Learning Rate: 0.0005\n",
      "[9.99128, 3.1923149, 1.3553666, 0.78882, 0.5528462, 0.41524774, 0.34669366, 0.2902287, 0.26147377, 0.24430412, 0.23353109, 0.2260087, 0.22112988, 0.21714884, 0.21412197, 0.2117456, 0.20981286, 0.20799476, 0.2065868, 0.20531471, 0.20408735]\n",
      "[0.04731148, 0.04804948, 0.047690954, 0.046349537, 0.0445589, 0.042931113, 0.041535757, 0.04037306, 0.03941594, 0.03861267, 0.037963964, 0.037429936, 0.036994167, 0.03663167, 0.03636175, 0.03613312, 0.035941377, 0.035771884, 0.03561664, 0.035486963, 0.035363782]\n"
     ]
    },
    {
     "name": "stderr",
     "output_type": "stream",
     "text": [
      "                                                                                                                                                                  \r"
     ]
    },
    {
     "name": "stdout",
     "output_type": "stream",
     "text": [
      "Epoch 22, total_loss=0.6084, reg_loss = 0.4073\n",
      "   54.60 s in train({'n_hidden_rhs': [], '..., ConditionalAutoEncoder..., cuda, <torch.utils.data.data..., AdamW ( Parameter Grou..., MSELoss(), 22, max_norm=1)\n",
      "   25.67 s in test({'n_hidden_rhs': [], '..., ConditionalAutoEncoder..., cuda, <torch.utils.data.data..., MSELoss())\n",
      "    3.67 s in test({'n_hidden_rhs': [], '..., ConditionalAutoEncoder..., cuda, <torch.utils.data.data..., MSELoss())\n",
      "Train MSE: 0.20193568\n",
      "Valid MSE: 0.035183243\n",
      "Next Learning Rate: 0.0005\n",
      "[9.99128, 3.1923149, 1.3553666, 0.78882, 0.5528462, 0.41524774, 0.34669366, 0.2902287, 0.26147377, 0.24430412, 0.23353109, 0.2260087, 0.22112988, 0.21714884, 0.21412197, 0.2117456, 0.20981286, 0.20799476, 0.2065868, 0.20531471, 0.20408735, 0.20293924]\n",
      "[0.04731148, 0.04804948, 0.047690954, 0.046349537, 0.0445589, 0.042931113, 0.041535757, 0.04037306, 0.03941594, 0.03861267, 0.037963964, 0.037429936, 0.036994167, 0.03663167, 0.03636175, 0.03613312, 0.035941377, 0.035771884, 0.03561664, 0.035486963, 0.035363782, 0.03527113]\n"
     ]
    },
    {
     "name": "stderr",
     "output_type": "stream",
     "text": [
      "                                                                                                                                                                  \r"
     ]
    },
    {
     "name": "stdout",
     "output_type": "stream",
     "text": [
      "Epoch 23, total_loss=0.6139, reg_loss = 0.4046\n",
      "   54.61 s in train({'n_hidden_rhs': [], '..., ConditionalAutoEncoder..., cuda, <torch.utils.data.data..., AdamW ( Parameter Grou..., MSELoss(), 23, max_norm=1)\n",
      "   26.21 s in test({'n_hidden_rhs': [], '..., ConditionalAutoEncoder..., cuda, <torch.utils.data.data..., MSELoss())\n",
      "    3.70 s in test({'n_hidden_rhs': [], '..., ConditionalAutoEncoder..., cuda, <torch.utils.data.data..., MSELoss())\n",
      "Train MSE: 0.20103559\n",
      "Valid MSE: 0.035109464\n",
      "Next Learning Rate: 0.0005\n",
      "[9.99128, 3.1923149, 1.3553666, 0.78882, 0.5528462, 0.41524774, 0.34669366, 0.2902287, 0.26147377, 0.24430412, 0.23353109, 0.2260087, 0.22112988, 0.21714884, 0.21412197, 0.2117456, 0.20981286, 0.20799476, 0.2065868, 0.20531471, 0.20408735, 0.20293924, 0.20193568]\n",
      "[0.04731148, 0.04804948, 0.047690954, 0.046349537, 0.0445589, 0.042931113, 0.041535757, 0.04037306, 0.03941594, 0.03861267, 0.037963964, 0.037429936, 0.036994167, 0.03663167, 0.03636175, 0.03613312, 0.035941377, 0.035771884, 0.03561664, 0.035486963, 0.035363782, 0.03527113, 0.035183243]\n"
     ]
    },
    {
     "name": "stderr",
     "output_type": "stream",
     "text": [
      "                                                                                                                                                                  \r"
     ]
    },
    {
     "name": "stdout",
     "output_type": "stream",
     "text": [
      "Epoch 24, total_loss=0.5961, reg_loss = 0.4019\n",
      "   54.68 s in train({'n_hidden_rhs': [], '..., ConditionalAutoEncoder..., cuda, <torch.utils.data.data..., AdamW ( Parameter Grou..., MSELoss(), 24, max_norm=1)\n",
      "   26.06 s in test({'n_hidden_rhs': [], '..., ConditionalAutoEncoder..., cuda, <torch.utils.data.data..., MSELoss())\n",
      "    3.71 s in test({'n_hidden_rhs': [], '..., ConditionalAutoEncoder..., cuda, <torch.utils.data.data..., MSELoss())\n",
      "Train MSE: 0.20019247\n",
      "Valid MSE: 0.035045885\n",
      "Next Learning Rate: 0.0005\n",
      "[9.99128, 3.1923149, 1.3553666, 0.78882, 0.5528462, 0.41524774, 0.34669366, 0.2902287, 0.26147377, 0.24430412, 0.23353109, 0.2260087, 0.22112988, 0.21714884, 0.21412197, 0.2117456, 0.20981286, 0.20799476, 0.2065868, 0.20531471, 0.20408735, 0.20293924, 0.20193568, 0.20103559]\n",
      "[0.04731148, 0.04804948, 0.047690954, 0.046349537, 0.0445589, 0.042931113, 0.041535757, 0.04037306, 0.03941594, 0.03861267, 0.037963964, 0.037429936, 0.036994167, 0.03663167, 0.03636175, 0.03613312, 0.035941377, 0.035771884, 0.03561664, 0.035486963, 0.035363782, 0.03527113, 0.035183243, 0.035109464]\n"
     ]
    },
    {
     "name": "stderr",
     "output_type": "stream",
     "text": [
      "                                                                                                                                                                  \r"
     ]
    },
    {
     "name": "stdout",
     "output_type": "stream",
     "text": [
      "Epoch 25, total_loss=0.5989, reg_loss = 0.3992\n",
      "   54.03 s in train({'n_hidden_rhs': [], '..., ConditionalAutoEncoder..., cuda, <torch.utils.data.data..., AdamW ( Parameter Grou..., MSELoss(), 25, max_norm=1)\n",
      "   25.75 s in test({'n_hidden_rhs': [], '..., ConditionalAutoEncoder..., cuda, <torch.utils.data.data..., MSELoss())\n",
      "    3.65 s in test({'n_hidden_rhs': [], '..., ConditionalAutoEncoder..., cuda, <torch.utils.data.data..., MSELoss())\n",
      "Train MSE: 0.19942757\n",
      "Valid MSE: 0.034978487\n",
      "Next Learning Rate: 0.0005\n",
      "[9.99128, 3.1923149, 1.3553666, 0.78882, 0.5528462, 0.41524774, 0.34669366, 0.2902287, 0.26147377, 0.24430412, 0.23353109, 0.2260087, 0.22112988, 0.21714884, 0.21412197, 0.2117456, 0.20981286, 0.20799476, 0.2065868, 0.20531471, 0.20408735, 0.20293924, 0.20193568, 0.20103559, 0.20019247]\n",
      "[0.04731148, 0.04804948, 0.047690954, 0.046349537, 0.0445589, 0.042931113, 0.041535757, 0.04037306, 0.03941594, 0.03861267, 0.037963964, 0.037429936, 0.036994167, 0.03663167, 0.03636175, 0.03613312, 0.035941377, 0.035771884, 0.03561664, 0.035486963, 0.035363782, 0.03527113, 0.035183243, 0.035109464, 0.035045885]\n"
     ]
    },
    {
     "name": "stderr",
     "output_type": "stream",
     "text": [
      "                                                                                                                                                                  \r"
     ]
    },
    {
     "name": "stdout",
     "output_type": "stream",
     "text": [
      "Epoch 26, total_loss=0.5881, reg_loss = 0.3965\n",
      "   54.49 s in train({'n_hidden_rhs': [], '..., ConditionalAutoEncoder..., cuda, <torch.utils.data.data..., AdamW ( Parameter Grou..., MSELoss(), 26, max_norm=1)\n",
      "   26.16 s in test({'n_hidden_rhs': [], '..., ConditionalAutoEncoder..., cuda, <torch.utils.data.data..., MSELoss())\n",
      "    3.75 s in test({'n_hidden_rhs': [], '..., ConditionalAutoEncoder..., cuda, <torch.utils.data.data..., MSELoss())\n",
      "Train MSE: 0.19867106\n",
      "Valid MSE: 0.034920774\n",
      "Next Learning Rate: 0.0005\n",
      "[9.99128, 3.1923149, 1.3553666, 0.78882, 0.5528462, 0.41524774, 0.34669366, 0.2902287, 0.26147377, 0.24430412, 0.23353109, 0.2260087, 0.22112988, 0.21714884, 0.21412197, 0.2117456, 0.20981286, 0.20799476, 0.2065868, 0.20531471, 0.20408735, 0.20293924, 0.20193568, 0.20103559, 0.20019247, 0.19942757]\n",
      "[0.04731148, 0.04804948, 0.047690954, 0.046349537, 0.0445589, 0.042931113, 0.041535757, 0.04037306, 0.03941594, 0.03861267, 0.037963964, 0.037429936, 0.036994167, 0.03663167, 0.03636175, 0.03613312, 0.035941377, 0.035771884, 0.03561664, 0.035486963, 0.035363782, 0.03527113, 0.035183243, 0.035109464, 0.035045885, 0.034978487]\n"
     ]
    },
    {
     "name": "stderr",
     "output_type": "stream",
     "text": [
      "                                                                                                                                                                  \r"
     ]
    },
    {
     "name": "stdout",
     "output_type": "stream",
     "text": [
      "Epoch 27, total_loss=0.5899, reg_loss = 0.3938\n",
      "   55.02 s in train({'n_hidden_rhs': [], '..., ConditionalAutoEncoder..., cuda, <torch.utils.data.data..., AdamW ( Parameter Grou..., MSELoss(), 27, max_norm=1)\n",
      "   26.13 s in test({'n_hidden_rhs': [], '..., ConditionalAutoEncoder..., cuda, <torch.utils.data.data..., MSELoss())\n",
      "    3.75 s in test({'n_hidden_rhs': [], '..., ConditionalAutoEncoder..., cuda, <torch.utils.data.data..., MSELoss())\n",
      "Train MSE: 0.19797719\n",
      "Valid MSE: 0.03486619\n",
      "Next Learning Rate: 0.0005\n",
      "[9.99128, 3.1923149, 1.3553666, 0.78882, 0.5528462, 0.41524774, 0.34669366, 0.2902287, 0.26147377, 0.24430412, 0.23353109, 0.2260087, 0.22112988, 0.21714884, 0.21412197, 0.2117456, 0.20981286, 0.20799476, 0.2065868, 0.20531471, 0.20408735, 0.20293924, 0.20193568, 0.20103559, 0.20019247, 0.19942757, 0.19867106]\n",
      "[0.04731148, 0.04804948, 0.047690954, 0.046349537, 0.0445589, 0.042931113, 0.041535757, 0.04037306, 0.03941594, 0.03861267, 0.037963964, 0.037429936, 0.036994167, 0.03663167, 0.03636175, 0.03613312, 0.035941377, 0.035771884, 0.03561664, 0.035486963, 0.035363782, 0.03527113, 0.035183243, 0.035109464, 0.035045885, 0.034978487, 0.034920774]\n"
     ]
    },
    {
     "name": "stderr",
     "output_type": "stream",
     "text": [
      "                                                                                                                                                                  \r"
     ]
    },
    {
     "name": "stdout",
     "output_type": "stream",
     "text": [
      "Epoch 28, total_loss=0.6285, reg_loss = 0.3911\n",
      "   54.55 s in train({'n_hidden_rhs': [], '..., ConditionalAutoEncoder..., cuda, <torch.utils.data.data..., AdamW ( Parameter Grou..., MSELoss(), 28, max_norm=1)\n",
      "   26.33 s in test({'n_hidden_rhs': [], '..., ConditionalAutoEncoder..., cuda, <torch.utils.data.data..., MSELoss())\n",
      "    3.76 s in test({'n_hidden_rhs': [], '..., ConditionalAutoEncoder..., cuda, <torch.utils.data.data..., MSELoss())\n",
      "Train MSE: 0.19736831\n",
      "Valid MSE: 0.03481538\n",
      "Next Learning Rate: 0.0005\n",
      "[9.99128, 3.1923149, 1.3553666, 0.78882, 0.5528462, 0.41524774, 0.34669366, 0.2902287, 0.26147377, 0.24430412, 0.23353109, 0.2260087, 0.22112988, 0.21714884, 0.21412197, 0.2117456, 0.20981286, 0.20799476, 0.2065868, 0.20531471, 0.20408735, 0.20293924, 0.20193568, 0.20103559, 0.20019247, 0.19942757, 0.19867106, 0.19797719]\n",
      "[0.04731148, 0.04804948, 0.047690954, 0.046349537, 0.0445589, 0.042931113, 0.041535757, 0.04037306, 0.03941594, 0.03861267, 0.037963964, 0.037429936, 0.036994167, 0.03663167, 0.03636175, 0.03613312, 0.035941377, 0.035771884, 0.03561664, 0.035486963, 0.035363782, 0.03527113, 0.035183243, 0.035109464, 0.035045885, 0.034978487, 0.034920774, 0.03486619]\n"
     ]
    },
    {
     "name": "stderr",
     "output_type": "stream",
     "text": [
      "                                                                                                                                                                  \r"
     ]
    },
    {
     "name": "stdout",
     "output_type": "stream",
     "text": [
      "Epoch 29, total_loss=0.5853, reg_loss = 0.3884\n",
      "   54.88 s in train({'n_hidden_rhs': [], '..., ConditionalAutoEncoder..., cuda, <torch.utils.data.data..., AdamW ( Parameter Grou..., MSELoss(), 29, max_norm=1)\n",
      "   26.19 s in test({'n_hidden_rhs': [], '..., ConditionalAutoEncoder..., cuda, <torch.utils.data.data..., MSELoss())\n",
      "    3.75 s in test({'n_hidden_rhs': [], '..., ConditionalAutoEncoder..., cuda, <torch.utils.data.data..., MSELoss())\n",
      "Train MSE: 0.1967513\n",
      "Valid MSE: 0.034770917\n",
      "Next Learning Rate: 0.0005\n",
      "[9.99128, 3.1923149, 1.3553666, 0.78882, 0.5528462, 0.41524774, 0.34669366, 0.2902287, 0.26147377, 0.24430412, 0.23353109, 0.2260087, 0.22112988, 0.21714884, 0.21412197, 0.2117456, 0.20981286, 0.20799476, 0.2065868, 0.20531471, 0.20408735, 0.20293924, 0.20193568, 0.20103559, 0.20019247, 0.19942757, 0.19867106, 0.19797719, 0.19736831]\n",
      "[0.04731148, 0.04804948, 0.047690954, 0.046349537, 0.0445589, 0.042931113, 0.041535757, 0.04037306, 0.03941594, 0.03861267, 0.037963964, 0.037429936, 0.036994167, 0.03663167, 0.03636175, 0.03613312, 0.035941377, 0.035771884, 0.03561664, 0.035486963, 0.035363782, 0.03527113, 0.035183243, 0.035109464, 0.035045885, 0.034978487, 0.034920774, 0.03486619, 0.03481538]\n"
     ]
    },
    {
     "name": "stderr",
     "output_type": "stream",
     "text": [
      "                                                                                                                                                                  \r"
     ]
    },
    {
     "name": "stdout",
     "output_type": "stream",
     "text": [
      "Epoch 30, total_loss=0.5728, reg_loss = 0.3858\n",
      "   54.21 s in train({'n_hidden_rhs': [], '..., ConditionalAutoEncoder..., cuda, <torch.utils.data.data..., AdamW ( Parameter Grou..., MSELoss(), 30, max_norm=1)\n",
      "   26.15 s in test({'n_hidden_rhs': [], '..., ConditionalAutoEncoder..., cuda, <torch.utils.data.data..., MSELoss())\n",
      "    3.73 s in test({'n_hidden_rhs': [], '..., ConditionalAutoEncoder..., cuda, <torch.utils.data.data..., MSELoss())\n",
      "Train MSE: 0.19615825\n",
      "Valid MSE: 0.034730207\n",
      "Next Learning Rate: 0.0005\n",
      "[9.99128, 3.1923149, 1.3553666, 0.78882, 0.5528462, 0.41524774, 0.34669366, 0.2902287, 0.26147377, 0.24430412, 0.23353109, 0.2260087, 0.22112988, 0.21714884, 0.21412197, 0.2117456, 0.20981286, 0.20799476, 0.2065868, 0.20531471, 0.20408735, 0.20293924, 0.20193568, 0.20103559, 0.20019247, 0.19942757, 0.19867106, 0.19797719, 0.19736831, 0.1967513]\n",
      "[0.04731148, 0.04804948, 0.047690954, 0.046349537, 0.0445589, 0.042931113, 0.041535757, 0.04037306, 0.03941594, 0.03861267, 0.037963964, 0.037429936, 0.036994167, 0.03663167, 0.03636175, 0.03613312, 0.035941377, 0.035771884, 0.03561664, 0.035486963, 0.035363782, 0.03527113, 0.035183243, 0.035109464, 0.035045885, 0.034978487, 0.034920774, 0.03486619, 0.03481538, 0.034770917]\n"
     ]
    },
    {
     "name": "stderr",
     "output_type": "stream",
     "text": [
      "                                                                                                                                                                  \r"
     ]
    },
    {
     "name": "stdout",
     "output_type": "stream",
     "text": [
      "Epoch 31, total_loss=0.5815, reg_loss = 0.3831\n",
      "   54.81 s in train({'n_hidden_rhs': [], '..., ConditionalAutoEncoder..., cuda, <torch.utils.data.data..., AdamW ( Parameter Grou..., MSELoss(), 31, max_norm=1)\n",
      "   25.96 s in test({'n_hidden_rhs': [], '..., ConditionalAutoEncoder..., cuda, <torch.utils.data.data..., MSELoss())\n",
      "    3.62 s in test({'n_hidden_rhs': [], '..., ConditionalAutoEncoder..., cuda, <torch.utils.data.data..., MSELoss())\n",
      "Train MSE: 0.19562003\n",
      "Valid MSE: 0.03469225\n",
      "Next Learning Rate: 0.0005\n",
      "[9.99128, 3.1923149, 1.3553666, 0.78882, 0.5528462, 0.41524774, 0.34669366, 0.2902287, 0.26147377, 0.24430412, 0.23353109, 0.2260087, 0.22112988, 0.21714884, 0.21412197, 0.2117456, 0.20981286, 0.20799476, 0.2065868, 0.20531471, 0.20408735, 0.20293924, 0.20193568, 0.20103559, 0.20019247, 0.19942757, 0.19867106, 0.19797719, 0.19736831, 0.1967513, 0.19615825]\n",
      "[0.04731148, 0.04804948, 0.047690954, 0.046349537, 0.0445589, 0.042931113, 0.041535757, 0.04037306, 0.03941594, 0.03861267, 0.037963964, 0.037429936, 0.036994167, 0.03663167, 0.03636175, 0.03613312, 0.035941377, 0.035771884, 0.03561664, 0.035486963, 0.035363782, 0.03527113, 0.035183243, 0.035109464, 0.035045885, 0.034978487, 0.034920774, 0.03486619, 0.03481538, 0.034770917, 0.034730207]\n"
     ]
    },
    {
     "name": "stderr",
     "output_type": "stream",
     "text": [
      "                                                                                                                                                                  \r"
     ]
    },
    {
     "name": "stdout",
     "output_type": "stream",
     "text": [
      "Epoch 32, total_loss=0.5701, reg_loss = 0.3804\n",
      "   54.47 s in train({'n_hidden_rhs': [], '..., ConditionalAutoEncoder..., cuda, <torch.utils.data.data..., AdamW ( Parameter Grou..., MSELoss(), 32, max_norm=1)\n",
      "   26.01 s in test({'n_hidden_rhs': [], '..., ConditionalAutoEncoder..., cuda, <torch.utils.data.data..., MSELoss())\n",
      "    3.75 s in test({'n_hidden_rhs': [], '..., ConditionalAutoEncoder..., cuda, <torch.utils.data.data..., MSELoss())\n",
      "Train MSE: 0.19512244\n",
      "Valid MSE: 0.03465712\n",
      "Next Learning Rate: 0.0005\n",
      "[9.99128, 3.1923149, 1.3553666, 0.78882, 0.5528462, 0.41524774, 0.34669366, 0.2902287, 0.26147377, 0.24430412, 0.23353109, 0.2260087, 0.22112988, 0.21714884, 0.21412197, 0.2117456, 0.20981286, 0.20799476, 0.2065868, 0.20531471, 0.20408735, 0.20293924, 0.20193568, 0.20103559, 0.20019247, 0.19942757, 0.19867106, 0.19797719, 0.19736831, 0.1967513, 0.19615825, 0.19562003]\n",
      "[0.04731148, 0.04804948, 0.047690954, 0.046349537, 0.0445589, 0.042931113, 0.041535757, 0.04037306, 0.03941594, 0.03861267, 0.037963964, 0.037429936, 0.036994167, 0.03663167, 0.03636175, 0.03613312, 0.035941377, 0.035771884, 0.03561664, 0.035486963, 0.035363782, 0.03527113, 0.035183243, 0.035109464, 0.035045885, 0.034978487, 0.034920774, 0.03486619, 0.03481538, 0.034770917, 0.034730207, 0.03469225]\n"
     ]
    },
    {
     "name": "stderr",
     "output_type": "stream",
     "text": [
      "                                                                                                                                                                  \r"
     ]
    },
    {
     "name": "stdout",
     "output_type": "stream",
     "text": [
      "Epoch 33, total_loss=0.5677, reg_loss = 0.3777\n",
      "   54.11 s in train({'n_hidden_rhs': [], '..., ConditionalAutoEncoder..., cuda, <torch.utils.data.data..., AdamW ( Parameter Grou..., MSELoss(), 33, max_norm=1)\n",
      "   26.13 s in test({'n_hidden_rhs': [], '..., ConditionalAutoEncoder..., cuda, <torch.utils.data.data..., MSELoss())\n",
      "    3.72 s in test({'n_hidden_rhs': [], '..., ConditionalAutoEncoder..., cuda, <torch.utils.data.data..., MSELoss())\n",
      "Train MSE: 0.19464324\n",
      "Valid MSE: 0.034626\n",
      "Next Learning Rate: 0.0005\n",
      "[9.99128, 3.1923149, 1.3553666, 0.78882, 0.5528462, 0.41524774, 0.34669366, 0.2902287, 0.26147377, 0.24430412, 0.23353109, 0.2260087, 0.22112988, 0.21714884, 0.21412197, 0.2117456, 0.20981286, 0.20799476, 0.2065868, 0.20531471, 0.20408735, 0.20293924, 0.20193568, 0.20103559, 0.20019247, 0.19942757, 0.19867106, 0.19797719, 0.19736831, 0.1967513, 0.19615825, 0.19562003, 0.19512244]\n",
      "[0.04731148, 0.04804948, 0.047690954, 0.046349537, 0.0445589, 0.042931113, 0.041535757, 0.04037306, 0.03941594, 0.03861267, 0.037963964, 0.037429936, 0.036994167, 0.03663167, 0.03636175, 0.03613312, 0.035941377, 0.035771884, 0.03561664, 0.035486963, 0.035363782, 0.03527113, 0.035183243, 0.035109464, 0.035045885, 0.034978487, 0.034920774, 0.03486619, 0.03481538, 0.034770917, 0.034730207, 0.03469225, 0.03465712]\n"
     ]
    },
    {
     "name": "stderr",
     "output_type": "stream",
     "text": [
      "                                                                                                                                                                  \r"
     ]
    },
    {
     "name": "stdout",
     "output_type": "stream",
     "text": [
      "Epoch 34, total_loss=0.5615, reg_loss = 0.3751\n",
      "   54.53 s in train({'n_hidden_rhs': [], '..., ConditionalAutoEncoder..., cuda, <torch.utils.data.data..., AdamW ( Parameter Grou..., MSELoss(), 34, max_norm=1)\n",
      "   25.85 s in test({'n_hidden_rhs': [], '..., ConditionalAutoEncoder..., cuda, <torch.utils.data.data..., MSELoss())\n",
      "    3.67 s in test({'n_hidden_rhs': [], '..., ConditionalAutoEncoder..., cuda, <torch.utils.data.data..., MSELoss())\n",
      "Train MSE: 0.19421037\n",
      "Valid MSE: 0.03459902\n",
      "Next Learning Rate: 0.0005\n",
      "[9.99128, 3.1923149, 1.3553666, 0.78882, 0.5528462, 0.41524774, 0.34669366, 0.2902287, 0.26147377, 0.24430412, 0.23353109, 0.2260087, 0.22112988, 0.21714884, 0.21412197, 0.2117456, 0.20981286, 0.20799476, 0.2065868, 0.20531471, 0.20408735, 0.20293924, 0.20193568, 0.20103559, 0.20019247, 0.19942757, 0.19867106, 0.19797719, 0.19736831, 0.1967513, 0.19615825, 0.19562003, 0.19512244, 0.19464324]\n",
      "[0.04731148, 0.04804948, 0.047690954, 0.046349537, 0.0445589, 0.042931113, 0.041535757, 0.04037306, 0.03941594, 0.03861267, 0.037963964, 0.037429936, 0.036994167, 0.03663167, 0.03636175, 0.03613312, 0.035941377, 0.035771884, 0.03561664, 0.035486963, 0.035363782, 0.03527113, 0.035183243, 0.035109464, 0.035045885, 0.034978487, 0.034920774, 0.03486619, 0.03481538, 0.034770917, 0.034730207, 0.03469225, 0.03465712, 0.034626]\n"
     ]
    },
    {
     "name": "stderr",
     "output_type": "stream",
     "text": [
      "                                                                                                                                                                  \r"
     ]
    },
    {
     "name": "stdout",
     "output_type": "stream",
     "text": [
      "Epoch 35, total_loss=0.5637, reg_loss = 0.3724\n",
      "   53.72 s in train({'n_hidden_rhs': [], '..., ConditionalAutoEncoder..., cuda, <torch.utils.data.data..., AdamW ( Parameter Grou..., MSELoss(), 35, max_norm=1)\n",
      "   25.92 s in test({'n_hidden_rhs': [], '..., ConditionalAutoEncoder..., cuda, <torch.utils.data.data..., MSELoss())\n",
      "    3.68 s in test({'n_hidden_rhs': [], '..., ConditionalAutoEncoder..., cuda, <torch.utils.data.data..., MSELoss())\n",
      "Train MSE: 0.19378023\n",
      "Valid MSE: 0.034579527\n",
      "Next Learning Rate: 0.0005\n",
      "[9.99128, 3.1923149, 1.3553666, 0.78882, 0.5528462, 0.41524774, 0.34669366, 0.2902287, 0.26147377, 0.24430412, 0.23353109, 0.2260087, 0.22112988, 0.21714884, 0.21412197, 0.2117456, 0.20981286, 0.20799476, 0.2065868, 0.20531471, 0.20408735, 0.20293924, 0.20193568, 0.20103559, 0.20019247, 0.19942757, 0.19867106, 0.19797719, 0.19736831, 0.1967513, 0.19615825, 0.19562003, 0.19512244, 0.19464324, 0.19421037]\n",
      "[0.04731148, 0.04804948, 0.047690954, 0.046349537, 0.0445589, 0.042931113, 0.041535757, 0.04037306, 0.03941594, 0.03861267, 0.037963964, 0.037429936, 0.036994167, 0.03663167, 0.03636175, 0.03613312, 0.035941377, 0.035771884, 0.03561664, 0.035486963, 0.035363782, 0.03527113, 0.035183243, 0.035109464, 0.035045885, 0.034978487, 0.034920774, 0.03486619, 0.03481538, 0.034770917, 0.034730207, 0.03469225, 0.03465712, 0.034626, 0.03459902]\n"
     ]
    },
    {
     "name": "stderr",
     "output_type": "stream",
     "text": [
      "                                                                                                                                                                  \r"
     ]
    },
    {
     "name": "stdout",
     "output_type": "stream",
     "text": [
      "Epoch 36, total_loss=0.5570, reg_loss = 0.3697\n",
      "   54.53 s in train({'n_hidden_rhs': [], '..., ConditionalAutoEncoder..., cuda, <torch.utils.data.data..., AdamW ( Parameter Grou..., MSELoss(), 36, max_norm=1)\n",
      "   25.82 s in test({'n_hidden_rhs': [], '..., ConditionalAutoEncoder..., cuda, <torch.utils.data.data..., MSELoss())\n",
      "    3.70 s in test({'n_hidden_rhs': [], '..., ConditionalAutoEncoder..., cuda, <torch.utils.data.data..., MSELoss())\n",
      "Train MSE: 0.19336702\n",
      "Valid MSE: 0.034567367\n",
      "Next Learning Rate: 0.0005\n",
      "[9.99128, 3.1923149, 1.3553666, 0.78882, 0.5528462, 0.41524774, 0.34669366, 0.2902287, 0.26147377, 0.24430412, 0.23353109, 0.2260087, 0.22112988, 0.21714884, 0.21412197, 0.2117456, 0.20981286, 0.20799476, 0.2065868, 0.20531471, 0.20408735, 0.20293924, 0.20193568, 0.20103559, 0.20019247, 0.19942757, 0.19867106, 0.19797719, 0.19736831, 0.1967513, 0.19615825, 0.19562003, 0.19512244, 0.19464324, 0.19421037, 0.19378023]\n",
      "[0.04731148, 0.04804948, 0.047690954, 0.046349537, 0.0445589, 0.042931113, 0.041535757, 0.04037306, 0.03941594, 0.03861267, 0.037963964, 0.037429936, 0.036994167, 0.03663167, 0.03636175, 0.03613312, 0.035941377, 0.035771884, 0.03561664, 0.035486963, 0.035363782, 0.03527113, 0.035183243, 0.035109464, 0.035045885, 0.034978487, 0.034920774, 0.03486619, 0.03481538, 0.034770917, 0.034730207, 0.03469225, 0.03465712, 0.034626, 0.03459902, 0.034579527]\n"
     ]
    },
    {
     "name": "stderr",
     "output_type": "stream",
     "text": [
      "                                                                                                                                                                  \r"
     ]
    },
    {
     "name": "stdout",
     "output_type": "stream",
     "text": [
      "Epoch 37, total_loss=0.5564, reg_loss = 0.3671\n",
      "   54.09 s in train({'n_hidden_rhs': [], '..., ConditionalAutoEncoder..., cuda, <torch.utils.data.data..., AdamW ( Parameter Grou..., MSELoss(), 37, max_norm=1)\n",
      "   26.03 s in test({'n_hidden_rhs': [], '..., ConditionalAutoEncoder..., cuda, <torch.utils.data.data..., MSELoss())\n",
      "    3.71 s in test({'n_hidden_rhs': [], '..., ConditionalAutoEncoder..., cuda, <torch.utils.data.data..., MSELoss())\n",
      "Train MSE: 0.19290209\n",
      "Valid MSE: 0.034552876\n",
      "Next Learning Rate: 0.0005\n",
      "[9.99128, 3.1923149, 1.3553666, 0.78882, 0.5528462, 0.41524774, 0.34669366, 0.2902287, 0.26147377, 0.24430412, 0.23353109, 0.2260087, 0.22112988, 0.21714884, 0.21412197, 0.2117456, 0.20981286, 0.20799476, 0.2065868, 0.20531471, 0.20408735, 0.20293924, 0.20193568, 0.20103559, 0.20019247, 0.19942757, 0.19867106, 0.19797719, 0.19736831, 0.1967513, 0.19615825, 0.19562003, 0.19512244, 0.19464324, 0.19421037, 0.19378023, 0.19336702]\n",
      "[0.04731148, 0.04804948, 0.047690954, 0.046349537, 0.0445589, 0.042931113, 0.041535757, 0.04037306, 0.03941594, 0.03861267, 0.037963964, 0.037429936, 0.036994167, 0.03663167, 0.03636175, 0.03613312, 0.035941377, 0.035771884, 0.03561664, 0.035486963, 0.035363782, 0.03527113, 0.035183243, 0.035109464, 0.035045885, 0.034978487, 0.034920774, 0.03486619, 0.03481538, 0.034770917, 0.034730207, 0.03469225, 0.03465712, 0.034626, 0.03459902, 0.034579527, 0.034567367]\n"
     ]
    },
    {
     "name": "stderr",
     "output_type": "stream",
     "text": [
      "                                                                                                                                                                  \r"
     ]
    },
    {
     "name": "stdout",
     "output_type": "stream",
     "text": [
      "Epoch 38, total_loss=0.5539, reg_loss = 0.3644\n",
      "   54.47 s in train({'n_hidden_rhs': [], '..., ConditionalAutoEncoder..., cuda, <torch.utils.data.data..., AdamW ( Parameter Grou..., MSELoss(), 38, max_norm=1)\n",
      "   26.03 s in test({'n_hidden_rhs': [], '..., ConditionalAutoEncoder..., cuda, <torch.utils.data.data..., MSELoss())\n",
      "    3.74 s in test({'n_hidden_rhs': [], '..., ConditionalAutoEncoder..., cuda, <torch.utils.data.data..., MSELoss())\n",
      "Train MSE: 0.19250654\n",
      "Valid MSE: 0.0345377\n",
      "Next Learning Rate: 0.0005\n",
      "[9.99128, 3.1923149, 1.3553666, 0.78882, 0.5528462, 0.41524774, 0.34669366, 0.2902287, 0.26147377, 0.24430412, 0.23353109, 0.2260087, 0.22112988, 0.21714884, 0.21412197, 0.2117456, 0.20981286, 0.20799476, 0.2065868, 0.20531471, 0.20408735, 0.20293924, 0.20193568, 0.20103559, 0.20019247, 0.19942757, 0.19867106, 0.19797719, 0.19736831, 0.1967513, 0.19615825, 0.19562003, 0.19512244, 0.19464324, 0.19421037, 0.19378023, 0.19336702, 0.19290209]\n",
      "[0.04731148, 0.04804948, 0.047690954, 0.046349537, 0.0445589, 0.042931113, 0.041535757, 0.04037306, 0.03941594, 0.03861267, 0.037963964, 0.037429936, 0.036994167, 0.03663167, 0.03636175, 0.03613312, 0.035941377, 0.035771884, 0.03561664, 0.035486963, 0.035363782, 0.03527113, 0.035183243, 0.035109464, 0.035045885, 0.034978487, 0.034920774, 0.03486619, 0.03481538, 0.034770917, 0.034730207, 0.03469225, 0.03465712, 0.034626, 0.03459902, 0.034579527, 0.034567367, 0.034552876]\n"
     ]
    },
    {
     "name": "stderr",
     "output_type": "stream",
     "text": [
      "                                                                                                                                                                  \r"
     ]
    },
    {
     "name": "stdout",
     "output_type": "stream",
     "text": [
      "Epoch 39, total_loss=0.5527, reg_loss = 0.3618\n",
      "   54.12 s in train({'n_hidden_rhs': [], '..., ConditionalAutoEncoder..., cuda, <torch.utils.data.data..., AdamW ( Parameter Grou..., MSELoss(), 39, max_norm=1)\n",
      "   26.54 s in test({'n_hidden_rhs': [], '..., ConditionalAutoEncoder..., cuda, <torch.utils.data.data..., MSELoss())\n",
      "    3.72 s in test({'n_hidden_rhs': [], '..., ConditionalAutoEncoder..., cuda, <torch.utils.data.data..., MSELoss())\n",
      "Train MSE: 0.19212553\n",
      "Valid MSE: 0.03452282\n",
      "Next Learning Rate: 0.0005\n",
      "[9.99128, 3.1923149, 1.3553666, 0.78882, 0.5528462, 0.41524774, 0.34669366, 0.2902287, 0.26147377, 0.24430412, 0.23353109, 0.2260087, 0.22112988, 0.21714884, 0.21412197, 0.2117456, 0.20981286, 0.20799476, 0.2065868, 0.20531471, 0.20408735, 0.20293924, 0.20193568, 0.20103559, 0.20019247, 0.19942757, 0.19867106, 0.19797719, 0.19736831, 0.1967513, 0.19615825, 0.19562003, 0.19512244, 0.19464324, 0.19421037, 0.19378023, 0.19336702, 0.19290209, 0.19250654]\n",
      "[0.04731148, 0.04804948, 0.047690954, 0.046349537, 0.0445589, 0.042931113, 0.041535757, 0.04037306, 0.03941594, 0.03861267, 0.037963964, 0.037429936, 0.036994167, 0.03663167, 0.03636175, 0.03613312, 0.035941377, 0.035771884, 0.03561664, 0.035486963, 0.035363782, 0.03527113, 0.035183243, 0.035109464, 0.035045885, 0.034978487, 0.034920774, 0.03486619, 0.03481538, 0.034770917, 0.034730207, 0.03469225, 0.03465712, 0.034626, 0.03459902, 0.034579527, 0.034567367, 0.034552876, 0.0345377]\n"
     ]
    },
    {
     "name": "stderr",
     "output_type": "stream",
     "text": [
      "                                                                                                                                                                  \r"
     ]
    },
    {
     "name": "stdout",
     "output_type": "stream",
     "text": [
      "Epoch 40, total_loss=0.5960, reg_loss = 0.3591\n",
      "   54.40 s in train({'n_hidden_rhs': [], '..., ConditionalAutoEncoder..., cuda, <torch.utils.data.data..., AdamW ( Parameter Grou..., MSELoss(), 40, max_norm=1)\n",
      "   25.87 s in test({'n_hidden_rhs': [], '..., ConditionalAutoEncoder..., cuda, <torch.utils.data.data..., MSELoss())\n",
      "    3.69 s in test({'n_hidden_rhs': [], '..., ConditionalAutoEncoder..., cuda, <torch.utils.data.data..., MSELoss())\n",
      "Train MSE: 0.19178894\n",
      "Valid MSE: 0.034509823\n",
      "Next Learning Rate: 0.0005\n",
      "[9.99128, 3.1923149, 1.3553666, 0.78882, 0.5528462, 0.41524774, 0.34669366, 0.2902287, 0.26147377, 0.24430412, 0.23353109, 0.2260087, 0.22112988, 0.21714884, 0.21412197, 0.2117456, 0.20981286, 0.20799476, 0.2065868, 0.20531471, 0.20408735, 0.20293924, 0.20193568, 0.20103559, 0.20019247, 0.19942757, 0.19867106, 0.19797719, 0.19736831, 0.1967513, 0.19615825, 0.19562003, 0.19512244, 0.19464324, 0.19421037, 0.19378023, 0.19336702, 0.19290209, 0.19250654, 0.19212553]\n",
      "[0.04731148, 0.04804948, 0.047690954, 0.046349537, 0.0445589, 0.042931113, 0.041535757, 0.04037306, 0.03941594, 0.03861267, 0.037963964, 0.037429936, 0.036994167, 0.03663167, 0.03636175, 0.03613312, 0.035941377, 0.035771884, 0.03561664, 0.035486963, 0.035363782, 0.03527113, 0.035183243, 0.035109464, 0.035045885, 0.034978487, 0.034920774, 0.03486619, 0.03481538, 0.034770917, 0.034730207, 0.03469225, 0.03465712, 0.034626, 0.03459902, 0.034579527, 0.034567367, 0.034552876, 0.0345377, 0.03452282]\n"
     ]
    },
    {
     "name": "stderr",
     "output_type": "stream",
     "text": [
      "                                                                                                                                                                  \r"
     ]
    },
    {
     "name": "stdout",
     "output_type": "stream",
     "text": [
      "Epoch 41, total_loss=0.5462, reg_loss = 0.3565\n",
      "   54.70 s in train({'n_hidden_rhs': [], '..., ConditionalAutoEncoder..., cuda, <torch.utils.data.data..., AdamW ( Parameter Grou..., MSELoss(), 41, max_norm=1)\n",
      "   26.13 s in test({'n_hidden_rhs': [], '..., ConditionalAutoEncoder..., cuda, <torch.utils.data.data..., MSELoss())\n",
      "    3.70 s in test({'n_hidden_rhs': [], '..., ConditionalAutoEncoder..., cuda, <torch.utils.data.data..., MSELoss())\n",
      "Train MSE: 0.19146112\n",
      "Valid MSE: 0.034496367\n",
      "Next Learning Rate: 0.0005\n",
      "[9.99128, 3.1923149, 1.3553666, 0.78882, 0.5528462, 0.41524774, 0.34669366, 0.2902287, 0.26147377, 0.24430412, 0.23353109, 0.2260087, 0.22112988, 0.21714884, 0.21412197, 0.2117456, 0.20981286, 0.20799476, 0.2065868, 0.20531471, 0.20408735, 0.20293924, 0.20193568, 0.20103559, 0.20019247, 0.19942757, 0.19867106, 0.19797719, 0.19736831, 0.1967513, 0.19615825, 0.19562003, 0.19512244, 0.19464324, 0.19421037, 0.19378023, 0.19336702, 0.19290209, 0.19250654, 0.19212553, 0.19178894]\n",
      "[0.04731148, 0.04804948, 0.047690954, 0.046349537, 0.0445589, 0.042931113, 0.041535757, 0.04037306, 0.03941594, 0.03861267, 0.037963964, 0.037429936, 0.036994167, 0.03663167, 0.03636175, 0.03613312, 0.035941377, 0.035771884, 0.03561664, 0.035486963, 0.035363782, 0.03527113, 0.035183243, 0.035109464, 0.035045885, 0.034978487, 0.034920774, 0.03486619, 0.03481538, 0.034770917, 0.034730207, 0.03469225, 0.03465712, 0.034626, 0.03459902, 0.034579527, 0.034567367, 0.034552876, 0.0345377, 0.03452282, 0.034509823]\n"
     ]
    },
    {
     "name": "stderr",
     "output_type": "stream",
     "text": [
      "                                                                                                                                                                  \r"
     ]
    },
    {
     "name": "stdout",
     "output_type": "stream",
     "text": [
      "Epoch 42, total_loss=0.5441, reg_loss = 0.3539\n",
      "   54.62 s in train({'n_hidden_rhs': [], '..., ConditionalAutoEncoder..., cuda, <torch.utils.data.data..., AdamW ( Parameter Grou..., MSELoss(), 42, max_norm=1)\n",
      "   26.09 s in test({'n_hidden_rhs': [], '..., ConditionalAutoEncoder..., cuda, <torch.utils.data.data..., MSELoss())\n",
      "    3.74 s in test({'n_hidden_rhs': [], '..., ConditionalAutoEncoder..., cuda, <torch.utils.data.data..., MSELoss())\n",
      "Train MSE: 0.19113939\n",
      "Valid MSE: 0.03448311\n",
      "Next Learning Rate: 0.0005\n",
      "[9.99128, 3.1923149, 1.3553666, 0.78882, 0.5528462, 0.41524774, 0.34669366, 0.2902287, 0.26147377, 0.24430412, 0.23353109, 0.2260087, 0.22112988, 0.21714884, 0.21412197, 0.2117456, 0.20981286, 0.20799476, 0.2065868, 0.20531471, 0.20408735, 0.20293924, 0.20193568, 0.20103559, 0.20019247, 0.19942757, 0.19867106, 0.19797719, 0.19736831, 0.1967513, 0.19615825, 0.19562003, 0.19512244, 0.19464324, 0.19421037, 0.19378023, 0.19336702, 0.19290209, 0.19250654, 0.19212553, 0.19178894, 0.19146112]\n",
      "[0.04731148, 0.04804948, 0.047690954, 0.046349537, 0.0445589, 0.042931113, 0.041535757, 0.04037306, 0.03941594, 0.03861267, 0.037963964, 0.037429936, 0.036994167, 0.03663167, 0.03636175, 0.03613312, 0.035941377, 0.035771884, 0.03561664, 0.035486963, 0.035363782, 0.03527113, 0.035183243, 0.035109464, 0.035045885, 0.034978487, 0.034920774, 0.03486619, 0.03481538, 0.034770917, 0.034730207, 0.03469225, 0.03465712, 0.034626, 0.03459902, 0.034579527, 0.034567367, 0.034552876, 0.0345377, 0.03452282, 0.034509823, 0.034496367]\n"
     ]
    },
    {
     "name": "stderr",
     "output_type": "stream",
     "text": [
      "                                                                                                                                                                  \r"
     ]
    },
    {
     "name": "stdout",
     "output_type": "stream",
     "text": [
      "Epoch 43, total_loss=0.5379, reg_loss = 0.3513\n",
      "   54.62 s in train({'n_hidden_rhs': [], '..., ConditionalAutoEncoder..., cuda, <torch.utils.data.data..., AdamW ( Parameter Grou..., MSELoss(), 43, max_norm=1)\n",
      "   25.99 s in test({'n_hidden_rhs': [], '..., ConditionalAutoEncoder..., cuda, <torch.utils.data.data..., MSELoss())\n",
      "    3.74 s in test({'n_hidden_rhs': [], '..., ConditionalAutoEncoder..., cuda, <torch.utils.data.data..., MSELoss())\n",
      "Train MSE: 0.19081345\n",
      "Valid MSE: 0.03447038\n",
      "Next Learning Rate: 0.0005\n",
      "[9.99128, 3.1923149, 1.3553666, 0.78882, 0.5528462, 0.41524774, 0.34669366, 0.2902287, 0.26147377, 0.24430412, 0.23353109, 0.2260087, 0.22112988, 0.21714884, 0.21412197, 0.2117456, 0.20981286, 0.20799476, 0.2065868, 0.20531471, 0.20408735, 0.20293924, 0.20193568, 0.20103559, 0.20019247, 0.19942757, 0.19867106, 0.19797719, 0.19736831, 0.1967513, 0.19615825, 0.19562003, 0.19512244, 0.19464324, 0.19421037, 0.19378023, 0.19336702, 0.19290209, 0.19250654, 0.19212553, 0.19178894, 0.19146112, 0.19113939]\n",
      "[0.04731148, 0.04804948, 0.047690954, 0.046349537, 0.0445589, 0.042931113, 0.041535757, 0.04037306, 0.03941594, 0.03861267, 0.037963964, 0.037429936, 0.036994167, 0.03663167, 0.03636175, 0.03613312, 0.035941377, 0.035771884, 0.03561664, 0.035486963, 0.035363782, 0.03527113, 0.035183243, 0.035109464, 0.035045885, 0.034978487, 0.034920774, 0.03486619, 0.03481538, 0.034770917, 0.034730207, 0.03469225, 0.03465712, 0.034626, 0.03459902, 0.034579527, 0.034567367, 0.034552876, 0.0345377, 0.03452282, 0.034509823, 0.034496367, 0.03448311]\n"
     ]
    },
    {
     "name": "stderr",
     "output_type": "stream",
     "text": [
      "                                                                                                                                                                  \r"
     ]
    },
    {
     "name": "stdout",
     "output_type": "stream",
     "text": [
      "Epoch 44, total_loss=0.5323, reg_loss = 0.3488\n",
      "   54.39 s in train({'n_hidden_rhs': [], '..., ConditionalAutoEncoder..., cuda, <torch.utils.data.data..., AdamW ( Parameter Grou..., MSELoss(), 44, max_norm=1)\n",
      "   26.17 s in test({'n_hidden_rhs': [], '..., ConditionalAutoEncoder..., cuda, <torch.utils.data.data..., MSELoss())\n",
      "    3.76 s in test({'n_hidden_rhs': [], '..., ConditionalAutoEncoder..., cuda, <torch.utils.data.data..., MSELoss())\n",
      "Train MSE: 0.19051194\n",
      "Valid MSE: 0.034458324\n",
      "Next Learning Rate: 0.0005\n",
      "[9.99128, 3.1923149, 1.3553666, 0.78882, 0.5528462, 0.41524774, 0.34669366, 0.2902287, 0.26147377, 0.24430412, 0.23353109, 0.2260087, 0.22112988, 0.21714884, 0.21412197, 0.2117456, 0.20981286, 0.20799476, 0.2065868, 0.20531471, 0.20408735, 0.20293924, 0.20193568, 0.20103559, 0.20019247, 0.19942757, 0.19867106, 0.19797719, 0.19736831, 0.1967513, 0.19615825, 0.19562003, 0.19512244, 0.19464324, 0.19421037, 0.19378023, 0.19336702, 0.19290209, 0.19250654, 0.19212553, 0.19178894, 0.19146112, 0.19113939, 0.19081345]\n",
      "[0.04731148, 0.04804948, 0.047690954, 0.046349537, 0.0445589, 0.042931113, 0.041535757, 0.04037306, 0.03941594, 0.03861267, 0.037963964, 0.037429936, 0.036994167, 0.03663167, 0.03636175, 0.03613312, 0.035941377, 0.035771884, 0.03561664, 0.035486963, 0.035363782, 0.03527113, 0.035183243, 0.035109464, 0.035045885, 0.034978487, 0.034920774, 0.03486619, 0.03481538, 0.034770917, 0.034730207, 0.03469225, 0.03465712, 0.034626, 0.03459902, 0.034579527, 0.034567367, 0.034552876, 0.0345377, 0.03452282, 0.034509823, 0.034496367, 0.03448311, 0.03447038]\n"
     ]
    },
    {
     "name": "stderr",
     "output_type": "stream",
     "text": [
      "                                                                                                                                                                  \r"
     ]
    },
    {
     "name": "stdout",
     "output_type": "stream",
     "text": [
      "Epoch 45, total_loss=0.5401, reg_loss = 0.3462\n",
      "   54.87 s in train({'n_hidden_rhs': [], '..., ConditionalAutoEncoder..., cuda, <torch.utils.data.data..., AdamW ( Parameter Grou..., MSELoss(), 45, max_norm=1)\n",
      "   25.90 s in test({'n_hidden_rhs': [], '..., ConditionalAutoEncoder..., cuda, <torch.utils.data.data..., MSELoss())\n",
      "    3.71 s in test({'n_hidden_rhs': [], '..., ConditionalAutoEncoder..., cuda, <torch.utils.data.data..., MSELoss())\n",
      "Train MSE: 0.19023882\n",
      "Valid MSE: 0.034446128\n",
      "Next Learning Rate: 0.0005\n",
      "[9.99128, 3.1923149, 1.3553666, 0.78882, 0.5528462, 0.41524774, 0.34669366, 0.2902287, 0.26147377, 0.24430412, 0.23353109, 0.2260087, 0.22112988, 0.21714884, 0.21412197, 0.2117456, 0.20981286, 0.20799476, 0.2065868, 0.20531471, 0.20408735, 0.20293924, 0.20193568, 0.20103559, 0.20019247, 0.19942757, 0.19867106, 0.19797719, 0.19736831, 0.1967513, 0.19615825, 0.19562003, 0.19512244, 0.19464324, 0.19421037, 0.19378023, 0.19336702, 0.19290209, 0.19250654, 0.19212553, 0.19178894, 0.19146112, 0.19113939, 0.19081345, 0.19051194]\n",
      "[0.04731148, 0.04804948, 0.047690954, 0.046349537, 0.0445589, 0.042931113, 0.041535757, 0.04037306, 0.03941594, 0.03861267, 0.037963964, 0.037429936, 0.036994167, 0.03663167, 0.03636175, 0.03613312, 0.035941377, 0.035771884, 0.03561664, 0.035486963, 0.035363782, 0.03527113, 0.035183243, 0.035109464, 0.035045885, 0.034978487, 0.034920774, 0.03486619, 0.03481538, 0.034770917, 0.034730207, 0.03469225, 0.03465712, 0.034626, 0.03459902, 0.034579527, 0.034567367, 0.034552876, 0.0345377, 0.03452282, 0.034509823, 0.034496367, 0.03448311, 0.03447038, 0.034458324]\n"
     ]
    },
    {
     "name": "stderr",
     "output_type": "stream",
     "text": [
      "                                                                                                                                                                  \r"
     ]
    },
    {
     "name": "stdout",
     "output_type": "stream",
     "text": [
      "Epoch 46, total_loss=0.5278, reg_loss = 0.3436\n",
      "   54.60 s in train({'n_hidden_rhs': [], '..., ConditionalAutoEncoder..., cuda, <torch.utils.data.data..., AdamW ( Parameter Grou..., MSELoss(), 46, max_norm=1)\n",
      "   25.90 s in test({'n_hidden_rhs': [], '..., ConditionalAutoEncoder..., cuda, <torch.utils.data.data..., MSELoss())\n",
      "    3.66 s in test({'n_hidden_rhs': [], '..., ConditionalAutoEncoder..., cuda, <torch.utils.data.data..., MSELoss())\n",
      "Train MSE: 0.18997274\n",
      "Valid MSE: 0.034433994\n",
      "Next Learning Rate: 0.0005\n",
      "[9.99128, 3.1923149, 1.3553666, 0.78882, 0.5528462, 0.41524774, 0.34669366, 0.2902287, 0.26147377, 0.24430412, 0.23353109, 0.2260087, 0.22112988, 0.21714884, 0.21412197, 0.2117456, 0.20981286, 0.20799476, 0.2065868, 0.20531471, 0.20408735, 0.20293924, 0.20193568, 0.20103559, 0.20019247, 0.19942757, 0.19867106, 0.19797719, 0.19736831, 0.1967513, 0.19615825, 0.19562003, 0.19512244, 0.19464324, 0.19421037, 0.19378023, 0.19336702, 0.19290209, 0.19250654, 0.19212553, 0.19178894, 0.19146112, 0.19113939, 0.19081345, 0.19051194, 0.19023882]\n",
      "[0.04731148, 0.04804948, 0.047690954, 0.046349537, 0.0445589, 0.042931113, 0.041535757, 0.04037306, 0.03941594, 0.03861267, 0.037963964, 0.037429936, 0.036994167, 0.03663167, 0.03636175, 0.03613312, 0.035941377, 0.035771884, 0.03561664, 0.035486963, 0.035363782, 0.03527113, 0.035183243, 0.035109464, 0.035045885, 0.034978487, 0.034920774, 0.03486619, 0.03481538, 0.034770917, 0.034730207, 0.03469225, 0.03465712, 0.034626, 0.03459902, 0.034579527, 0.034567367, 0.034552876, 0.0345377, 0.03452282, 0.034509823, 0.034496367, 0.03448311, 0.03447038, 0.034458324, 0.034446128]\n"
     ]
    },
    {
     "name": "stderr",
     "output_type": "stream",
     "text": [
      "                                                                                                                                                                  \r"
     ]
    },
    {
     "name": "stdout",
     "output_type": "stream",
     "text": [
      "Epoch 47, total_loss=0.5257, reg_loss = 0.3411\n",
      "   54.91 s in train({'n_hidden_rhs': [], '..., ConditionalAutoEncoder..., cuda, <torch.utils.data.data..., AdamW ( Parameter Grou..., MSELoss(), 47, max_norm=1)\n",
      "   26.10 s in test({'n_hidden_rhs': [], '..., ConditionalAutoEncoder..., cuda, <torch.utils.data.data..., MSELoss())\n",
      "    3.70 s in test({'n_hidden_rhs': [], '..., ConditionalAutoEncoder..., cuda, <torch.utils.data.data..., MSELoss())\n",
      "Train MSE: 0.18971825\n",
      "Valid MSE: 0.034423914\n",
      "Next Learning Rate: 0.0005\n",
      "[9.99128, 3.1923149, 1.3553666, 0.78882, 0.5528462, 0.41524774, 0.34669366, 0.2902287, 0.26147377, 0.24430412, 0.23353109, 0.2260087, 0.22112988, 0.21714884, 0.21412197, 0.2117456, 0.20981286, 0.20799476, 0.2065868, 0.20531471, 0.20408735, 0.20293924, 0.20193568, 0.20103559, 0.20019247, 0.19942757, 0.19867106, 0.19797719, 0.19736831, 0.1967513, 0.19615825, 0.19562003, 0.19512244, 0.19464324, 0.19421037, 0.19378023, 0.19336702, 0.19290209, 0.19250654, 0.19212553, 0.19178894, 0.19146112, 0.19113939, 0.19081345, 0.19051194, 0.19023882, 0.18997274]\n",
      "[0.04731148, 0.04804948, 0.047690954, 0.046349537, 0.0445589, 0.042931113, 0.041535757, 0.04037306, 0.03941594, 0.03861267, 0.037963964, 0.037429936, 0.036994167, 0.03663167, 0.03636175, 0.03613312, 0.035941377, 0.035771884, 0.03561664, 0.035486963, 0.035363782, 0.03527113, 0.035183243, 0.035109464, 0.035045885, 0.034978487, 0.034920774, 0.03486619, 0.03481538, 0.034770917, 0.034730207, 0.03469225, 0.03465712, 0.034626, 0.03459902, 0.034579527, 0.034567367, 0.034552876, 0.0345377, 0.03452282, 0.034509823, 0.034496367, 0.03448311, 0.03447038, 0.034458324, 0.034446128, 0.034433994]\n"
     ]
    },
    {
     "name": "stderr",
     "output_type": "stream",
     "text": [
      "                                                                                                                                                                  \r"
     ]
    },
    {
     "name": "stdout",
     "output_type": "stream",
     "text": [
      "Epoch 48, total_loss=0.5260, reg_loss = 0.3387\n",
      "   54.69 s in train({'n_hidden_rhs': [], '..., ConditionalAutoEncoder..., cuda, <torch.utils.data.data..., AdamW ( Parameter Grou..., MSELoss(), 48, max_norm=1)\n",
      "   26.14 s in test({'n_hidden_rhs': [], '..., ConditionalAutoEncoder..., cuda, <torch.utils.data.data..., MSELoss())\n",
      "    3.74 s in test({'n_hidden_rhs': [], '..., ConditionalAutoEncoder..., cuda, <torch.utils.data.data..., MSELoss())\n",
      "Train MSE: 0.18944702\n",
      "Valid MSE: 0.034414325\n",
      "Next Learning Rate: 0.0005\n",
      "[9.99128, 3.1923149, 1.3553666, 0.78882, 0.5528462, 0.41524774, 0.34669366, 0.2902287, 0.26147377, 0.24430412, 0.23353109, 0.2260087, 0.22112988, 0.21714884, 0.21412197, 0.2117456, 0.20981286, 0.20799476, 0.2065868, 0.20531471, 0.20408735, 0.20293924, 0.20193568, 0.20103559, 0.20019247, 0.19942757, 0.19867106, 0.19797719, 0.19736831, 0.1967513, 0.19615825, 0.19562003, 0.19512244, 0.19464324, 0.19421037, 0.19378023, 0.19336702, 0.19290209, 0.19250654, 0.19212553, 0.19178894, 0.19146112, 0.19113939, 0.19081345, 0.19051194, 0.19023882, 0.18997274, 0.18971825]\n",
      "[0.04731148, 0.04804948, 0.047690954, 0.046349537, 0.0445589, 0.042931113, 0.041535757, 0.04037306, 0.03941594, 0.03861267, 0.037963964, 0.037429936, 0.036994167, 0.03663167, 0.03636175, 0.03613312, 0.035941377, 0.035771884, 0.03561664, 0.035486963, 0.035363782, 0.03527113, 0.035183243, 0.035109464, 0.035045885, 0.034978487, 0.034920774, 0.03486619, 0.03481538, 0.034770917, 0.034730207, 0.03469225, 0.03465712, 0.034626, 0.03459902, 0.034579527, 0.034567367, 0.034552876, 0.0345377, 0.03452282, 0.034509823, 0.034496367, 0.03448311, 0.03447038, 0.034458324, 0.034446128, 0.034433994, 0.034423914]\n"
     ]
    },
    {
     "name": "stderr",
     "output_type": "stream",
     "text": [
      "                                                                                                                                                                  \r"
     ]
    },
    {
     "name": "stdout",
     "output_type": "stream",
     "text": [
      "Epoch 49, total_loss=0.5288, reg_loss = 0.3362\n",
      "   54.77 s in train({'n_hidden_rhs': [], '..., ConditionalAutoEncoder..., cuda, <torch.utils.data.data..., AdamW ( Parameter Grou..., MSELoss(), 49, max_norm=1)\n",
      "   26.15 s in test({'n_hidden_rhs': [], '..., ConditionalAutoEncoder..., cuda, <torch.utils.data.data..., MSELoss())\n",
      "    3.75 s in test({'n_hidden_rhs': [], '..., ConditionalAutoEncoder..., cuda, <torch.utils.data.data..., MSELoss())\n",
      "Train MSE: 0.18918896\n",
      "Valid MSE: 0.034406047\n",
      "Next Learning Rate: 0.0005\n",
      "[9.99128, 3.1923149, 1.3553666, 0.78882, 0.5528462, 0.41524774, 0.34669366, 0.2902287, 0.26147377, 0.24430412, 0.23353109, 0.2260087, 0.22112988, 0.21714884, 0.21412197, 0.2117456, 0.20981286, 0.20799476, 0.2065868, 0.20531471, 0.20408735, 0.20293924, 0.20193568, 0.20103559, 0.20019247, 0.19942757, 0.19867106, 0.19797719, 0.19736831, 0.1967513, 0.19615825, 0.19562003, 0.19512244, 0.19464324, 0.19421037, 0.19378023, 0.19336702, 0.19290209, 0.19250654, 0.19212553, 0.19178894, 0.19146112, 0.19113939, 0.19081345, 0.19051194, 0.19023882, 0.18997274, 0.18971825, 0.18944702]\n",
      "[0.04731148, 0.04804948, 0.047690954, 0.046349537, 0.0445589, 0.042931113, 0.041535757, 0.04037306, 0.03941594, 0.03861267, 0.037963964, 0.037429936, 0.036994167, 0.03663167, 0.03636175, 0.03613312, 0.035941377, 0.035771884, 0.03561664, 0.035486963, 0.035363782, 0.03527113, 0.035183243, 0.035109464, 0.035045885, 0.034978487, 0.034920774, 0.03486619, 0.03481538, 0.034770917, 0.034730207, 0.03469225, 0.03465712, 0.034626, 0.03459902, 0.034579527, 0.034567367, 0.034552876, 0.0345377, 0.03452282, 0.034509823, 0.034496367, 0.03448311, 0.03447038, 0.034458324, 0.034446128, 0.034433994, 0.034423914, 0.034414325]\n"
     ]
    },
    {
     "name": "stderr",
     "output_type": "stream",
     "text": [
      "                                                                                                                                                                  \r"
     ]
    },
    {
     "name": "stdout",
     "output_type": "stream",
     "text": [
      "Epoch 50, total_loss=0.5199, reg_loss = 0.3338\n",
      "   54.69 s in train({'n_hidden_rhs': [], '..., ConditionalAutoEncoder..., cuda, <torch.utils.data.data..., AdamW ( Parameter Grou..., MSELoss(), 50, max_norm=1)\n",
      "   26.11 s in test({'n_hidden_rhs': [], '..., ConditionalAutoEncoder..., cuda, <torch.utils.data.data..., MSELoss())\n",
      "    3.72 s in test({'n_hidden_rhs': [], '..., ConditionalAutoEncoder..., cuda, <torch.utils.data.data..., MSELoss())\n",
      "Train MSE: 0.1889347\n",
      "Valid MSE: 0.03439663\n",
      "Next Learning Rate: 0.0005\n",
      "[9.99128, 3.1923149, 1.3553666, 0.78882, 0.5528462, 0.41524774, 0.34669366, 0.2902287, 0.26147377, 0.24430412, 0.23353109, 0.2260087, 0.22112988, 0.21714884, 0.21412197, 0.2117456, 0.20981286, 0.20799476, 0.2065868, 0.20531471, 0.20408735, 0.20293924, 0.20193568, 0.20103559, 0.20019247, 0.19942757, 0.19867106, 0.19797719, 0.19736831, 0.1967513, 0.19615825, 0.19562003, 0.19512244, 0.19464324, 0.19421037, 0.19378023, 0.19336702, 0.19290209, 0.19250654, 0.19212553, 0.19178894, 0.19146112, 0.19113939, 0.19081345, 0.19051194, 0.19023882, 0.18997274, 0.18971825, 0.18944702, 0.18918896]\n",
      "[0.04731148, 0.04804948, 0.047690954, 0.046349537, 0.0445589, 0.042931113, 0.041535757, 0.04037306, 0.03941594, 0.03861267, 0.037963964, 0.037429936, 0.036994167, 0.03663167, 0.03636175, 0.03613312, 0.035941377, 0.035771884, 0.03561664, 0.035486963, 0.035363782, 0.03527113, 0.035183243, 0.035109464, 0.035045885, 0.034978487, 0.034920774, 0.03486619, 0.03481538, 0.034770917, 0.034730207, 0.03469225, 0.03465712, 0.034626, 0.03459902, 0.034579527, 0.034567367, 0.034552876, 0.0345377, 0.03452282, 0.034509823, 0.034496367, 0.03448311, 0.03447038, 0.034458324, 0.034446128, 0.034433994, 0.034423914, 0.034414325, 0.034406047]\n"
     ]
    },
    {
     "name": "stderr",
     "output_type": "stream",
     "text": [
      "                                                                                                                                                                  \r"
     ]
    },
    {
     "name": "stdout",
     "output_type": "stream",
     "text": [
      "Epoch 51, total_loss=0.5169, reg_loss = 0.3313\n",
      "   54.83 s in train({'n_hidden_rhs': [], '..., ConditionalAutoEncoder..., cuda, <torch.utils.data.data..., AdamW ( Parameter Grou..., MSELoss(), 51, max_norm=1)\n",
      "   26.17 s in test({'n_hidden_rhs': [], '..., ConditionalAutoEncoder..., cuda, <torch.utils.data.data..., MSELoss())\n",
      "    3.70 s in test({'n_hidden_rhs': [], '..., ConditionalAutoEncoder..., cuda, <torch.utils.data.data..., MSELoss())\n",
      "Train MSE: 0.18873477\n",
      "Valid MSE: 0.034389634\n",
      "Next Learning Rate: 0.0005\n",
      "[9.99128, 3.1923149, 1.3553666, 0.78882, 0.5528462, 0.41524774, 0.34669366, 0.2902287, 0.26147377, 0.24430412, 0.23353109, 0.2260087, 0.22112988, 0.21714884, 0.21412197, 0.2117456, 0.20981286, 0.20799476, 0.2065868, 0.20531471, 0.20408735, 0.20293924, 0.20193568, 0.20103559, 0.20019247, 0.19942757, 0.19867106, 0.19797719, 0.19736831, 0.1967513, 0.19615825, 0.19562003, 0.19512244, 0.19464324, 0.19421037, 0.19378023, 0.19336702, 0.19290209, 0.19250654, 0.19212553, 0.19178894, 0.19146112, 0.19113939, 0.19081345, 0.19051194, 0.19023882, 0.18997274, 0.18971825, 0.18944702, 0.18918896, 0.1889347]\n",
      "[0.04731148, 0.04804948, 0.047690954, 0.046349537, 0.0445589, 0.042931113, 0.041535757, 0.04037306, 0.03941594, 0.03861267, 0.037963964, 0.037429936, 0.036994167, 0.03663167, 0.03636175, 0.03613312, 0.035941377, 0.035771884, 0.03561664, 0.035486963, 0.035363782, 0.03527113, 0.035183243, 0.035109464, 0.035045885, 0.034978487, 0.034920774, 0.03486619, 0.03481538, 0.034770917, 0.034730207, 0.03469225, 0.03465712, 0.034626, 0.03459902, 0.034579527, 0.034567367, 0.034552876, 0.0345377, 0.03452282, 0.034509823, 0.034496367, 0.03448311, 0.03447038, 0.034458324, 0.034446128, 0.034433994, 0.034423914, 0.034414325, 0.034406047, 0.03439663]\n"
     ]
    },
    {
     "name": "stderr",
     "output_type": "stream",
     "text": [
      "                                                                                                                                                                  \r"
     ]
    },
    {
     "name": "stdout",
     "output_type": "stream",
     "text": [
      "Epoch 52, total_loss=0.5963, reg_loss = 0.3289\n",
      "   54.38 s in train({'n_hidden_rhs': [], '..., ConditionalAutoEncoder..., cuda, <torch.utils.data.data..., AdamW ( Parameter Grou..., MSELoss(), 52, max_norm=1)\n",
      "   25.70 s in test({'n_hidden_rhs': [], '..., ConditionalAutoEncoder..., cuda, <torch.utils.data.data..., MSELoss())\n",
      "    3.70 s in test({'n_hidden_rhs': [], '..., ConditionalAutoEncoder..., cuda, <torch.utils.data.data..., MSELoss())\n",
      "Train MSE: 0.18851417\n",
      "Valid MSE: 0.03438188\n",
      "Next Learning Rate: 0.0005\n",
      "[9.99128, 3.1923149, 1.3553666, 0.78882, 0.5528462, 0.41524774, 0.34669366, 0.2902287, 0.26147377, 0.24430412, 0.23353109, 0.2260087, 0.22112988, 0.21714884, 0.21412197, 0.2117456, 0.20981286, 0.20799476, 0.2065868, 0.20531471, 0.20408735, 0.20293924, 0.20193568, 0.20103559, 0.20019247, 0.19942757, 0.19867106, 0.19797719, 0.19736831, 0.1967513, 0.19615825, 0.19562003, 0.19512244, 0.19464324, 0.19421037, 0.19378023, 0.19336702, 0.19290209, 0.19250654, 0.19212553, 0.19178894, 0.19146112, 0.19113939, 0.19081345, 0.19051194, 0.19023882, 0.18997274, 0.18971825, 0.18944702, 0.18918896, 0.1889347, 0.18873477]\n",
      "[0.04731148, 0.04804948, 0.047690954, 0.046349537, 0.0445589, 0.042931113, 0.041535757, 0.04037306, 0.03941594, 0.03861267, 0.037963964, 0.037429936, 0.036994167, 0.03663167, 0.03636175, 0.03613312, 0.035941377, 0.035771884, 0.03561664, 0.035486963, 0.035363782, 0.03527113, 0.035183243, 0.035109464, 0.035045885, 0.034978487, 0.034920774, 0.03486619, 0.03481538, 0.034770917, 0.034730207, 0.03469225, 0.03465712, 0.034626, 0.03459902, 0.034579527, 0.034567367, 0.034552876, 0.0345377, 0.03452282, 0.034509823, 0.034496367, 0.03448311, 0.03447038, 0.034458324, 0.034446128, 0.034433994, 0.034423914, 0.034414325, 0.034406047, 0.03439663, 0.034389634]\n"
     ]
    },
    {
     "name": "stderr",
     "output_type": "stream",
     "text": [
      "                                                                                                                                                                  \r"
     ]
    },
    {
     "name": "stdout",
     "output_type": "stream",
     "text": [
      "Epoch 53, total_loss=0.5088, reg_loss = 0.3265\n",
      "   53.99 s in train({'n_hidden_rhs': [], '..., ConditionalAutoEncoder..., cuda, <torch.utils.data.data..., AdamW ( Parameter Grou..., MSELoss(), 53, max_norm=1)\n",
      "   25.84 s in test({'n_hidden_rhs': [], '..., ConditionalAutoEncoder..., cuda, <torch.utils.data.data..., MSELoss())\n",
      "    3.69 s in test({'n_hidden_rhs': [], '..., ConditionalAutoEncoder..., cuda, <torch.utils.data.data..., MSELoss())\n",
      "Train MSE: 0.18831328\n",
      "Valid MSE: 0.03437548\n",
      "Next Learning Rate: 0.0005\n",
      "[9.99128, 3.1923149, 1.3553666, 0.78882, 0.5528462, 0.41524774, 0.34669366, 0.2902287, 0.26147377, 0.24430412, 0.23353109, 0.2260087, 0.22112988, 0.21714884, 0.21412197, 0.2117456, 0.20981286, 0.20799476, 0.2065868, 0.20531471, 0.20408735, 0.20293924, 0.20193568, 0.20103559, 0.20019247, 0.19942757, 0.19867106, 0.19797719, 0.19736831, 0.1967513, 0.19615825, 0.19562003, 0.19512244, 0.19464324, 0.19421037, 0.19378023, 0.19336702, 0.19290209, 0.19250654, 0.19212553, 0.19178894, 0.19146112, 0.19113939, 0.19081345, 0.19051194, 0.19023882, 0.18997274, 0.18971825, 0.18944702, 0.18918896, 0.1889347, 0.18873477, 0.18851417]\n",
      "[0.04731148, 0.04804948, 0.047690954, 0.046349537, 0.0445589, 0.042931113, 0.041535757, 0.04037306, 0.03941594, 0.03861267, 0.037963964, 0.037429936, 0.036994167, 0.03663167, 0.03636175, 0.03613312, 0.035941377, 0.035771884, 0.03561664, 0.035486963, 0.035363782, 0.03527113, 0.035183243, 0.035109464, 0.035045885, 0.034978487, 0.034920774, 0.03486619, 0.03481538, 0.034770917, 0.034730207, 0.03469225, 0.03465712, 0.034626, 0.03459902, 0.034579527, 0.034567367, 0.034552876, 0.0345377, 0.03452282, 0.034509823, 0.034496367, 0.03448311, 0.03447038, 0.034458324, 0.034446128, 0.034433994, 0.034423914, 0.034414325, 0.034406047, 0.03439663, 0.034389634, 0.03438188]\n"
     ]
    },
    {
     "name": "stderr",
     "output_type": "stream",
     "text": [
      "                                                                                                                                                                  \r"
     ]
    },
    {
     "name": "stdout",
     "output_type": "stream",
     "text": [
      "Epoch 54, total_loss=0.5152, reg_loss = 0.3241\n",
      "   54.23 s in train({'n_hidden_rhs': [], '..., ConditionalAutoEncoder..., cuda, <torch.utils.data.data..., AdamW ( Parameter Grou..., MSELoss(), 54, max_norm=1)\n",
      "   25.66 s in test({'n_hidden_rhs': [], '..., ConditionalAutoEncoder..., cuda, <torch.utils.data.data..., MSELoss())\n",
      "    3.64 s in test({'n_hidden_rhs': [], '..., ConditionalAutoEncoder..., cuda, <torch.utils.data.data..., MSELoss())\n",
      "Train MSE: 0.18808551\n",
      "Valid MSE: 0.034367487\n",
      "Next Learning Rate: 0.0005\n",
      "[9.99128, 3.1923149, 1.3553666, 0.78882, 0.5528462, 0.41524774, 0.34669366, 0.2902287, 0.26147377, 0.24430412, 0.23353109, 0.2260087, 0.22112988, 0.21714884, 0.21412197, 0.2117456, 0.20981286, 0.20799476, 0.2065868, 0.20531471, 0.20408735, 0.20293924, 0.20193568, 0.20103559, 0.20019247, 0.19942757, 0.19867106, 0.19797719, 0.19736831, 0.1967513, 0.19615825, 0.19562003, 0.19512244, 0.19464324, 0.19421037, 0.19378023, 0.19336702, 0.19290209, 0.19250654, 0.19212553, 0.19178894, 0.19146112, 0.19113939, 0.19081345, 0.19051194, 0.19023882, 0.18997274, 0.18971825, 0.18944702, 0.18918896, 0.1889347, 0.18873477, 0.18851417, 0.18831328]\n",
      "[0.04731148, 0.04804948, 0.047690954, 0.046349537, 0.0445589, 0.042931113, 0.041535757, 0.04037306, 0.03941594, 0.03861267, 0.037963964, 0.037429936, 0.036994167, 0.03663167, 0.03636175, 0.03613312, 0.035941377, 0.035771884, 0.03561664, 0.035486963, 0.035363782, 0.03527113, 0.035183243, 0.035109464, 0.035045885, 0.034978487, 0.034920774, 0.03486619, 0.03481538, 0.034770917, 0.034730207, 0.03469225, 0.03465712, 0.034626, 0.03459902, 0.034579527, 0.034567367, 0.034552876, 0.0345377, 0.03452282, 0.034509823, 0.034496367, 0.03448311, 0.03447038, 0.034458324, 0.034446128, 0.034433994, 0.034423914, 0.034414325, 0.034406047, 0.03439663, 0.034389634, 0.03438188, 0.03437548]\n"
     ]
    },
    {
     "name": "stderr",
     "output_type": "stream",
     "text": [
      "                                                                                                                                                                  \r"
     ]
    },
    {
     "name": "stdout",
     "output_type": "stream",
     "text": [
      "Epoch 55, total_loss=0.5031, reg_loss = 0.3217\n",
      "   54.08 s in train({'n_hidden_rhs': [], '..., ConditionalAutoEncoder..., cuda, <torch.utils.data.data..., AdamW ( Parameter Grou..., MSELoss(), 55, max_norm=1)\n",
      "   26.10 s in test({'n_hidden_rhs': [], '..., ConditionalAutoEncoder..., cuda, <torch.utils.data.data..., MSELoss())\n",
      "    3.67 s in test({'n_hidden_rhs': [], '..., ConditionalAutoEncoder..., cuda, <torch.utils.data.data..., MSELoss())\n",
      "Train MSE: 0.18790598\n",
      "Valid MSE: 0.034361087\n",
      "Next Learning Rate: 0.0005\n",
      "[9.99128, 3.1923149, 1.3553666, 0.78882, 0.5528462, 0.41524774, 0.34669366, 0.2902287, 0.26147377, 0.24430412, 0.23353109, 0.2260087, 0.22112988, 0.21714884, 0.21412197, 0.2117456, 0.20981286, 0.20799476, 0.2065868, 0.20531471, 0.20408735, 0.20293924, 0.20193568, 0.20103559, 0.20019247, 0.19942757, 0.19867106, 0.19797719, 0.19736831, 0.1967513, 0.19615825, 0.19562003, 0.19512244, 0.19464324, 0.19421037, 0.19378023, 0.19336702, 0.19290209, 0.19250654, 0.19212553, 0.19178894, 0.19146112, 0.19113939, 0.19081345, 0.19051194, 0.19023882, 0.18997274, 0.18971825, 0.18944702, 0.18918896, 0.1889347, 0.18873477, 0.18851417, 0.18831328, 0.18808551]\n",
      "[0.04731148, 0.04804948, 0.047690954, 0.046349537, 0.0445589, 0.042931113, 0.041535757, 0.04037306, 0.03941594, 0.03861267, 0.037963964, 0.037429936, 0.036994167, 0.03663167, 0.03636175, 0.03613312, 0.035941377, 0.035771884, 0.03561664, 0.035486963, 0.035363782, 0.03527113, 0.035183243, 0.035109464, 0.035045885, 0.034978487, 0.034920774, 0.03486619, 0.03481538, 0.034770917, 0.034730207, 0.03469225, 0.03465712, 0.034626, 0.03459902, 0.034579527, 0.034567367, 0.034552876, 0.0345377, 0.03452282, 0.034509823, 0.034496367, 0.03448311, 0.03447038, 0.034458324, 0.034446128, 0.034433994, 0.034423914, 0.034414325, 0.034406047, 0.03439663, 0.034389634, 0.03438188, 0.03437548, 0.034367487]\n"
     ]
    },
    {
     "name": "stderr",
     "output_type": "stream",
     "text": [
      "                                                                                                                                                                  \r"
     ]
    },
    {
     "name": "stdout",
     "output_type": "stream",
     "text": [
      "Epoch 56, total_loss=0.5028, reg_loss = 0.3194\n",
      "   53.94 s in train({'n_hidden_rhs': [], '..., ConditionalAutoEncoder..., cuda, <torch.utils.data.data..., AdamW ( Parameter Grou..., MSELoss(), 56, max_norm=1)\n",
      "   25.65 s in test({'n_hidden_rhs': [], '..., ConditionalAutoEncoder..., cuda, <torch.utils.data.data..., MSELoss())\n",
      "    3.67 s in test({'n_hidden_rhs': [], '..., ConditionalAutoEncoder..., cuda, <torch.utils.data.data..., MSELoss())\n",
      "Train MSE: 0.18769686\n",
      "Valid MSE: 0.0343507\n",
      "Next Learning Rate: 0.0005\n",
      "[9.99128, 3.1923149, 1.3553666, 0.78882, 0.5528462, 0.41524774, 0.34669366, 0.2902287, 0.26147377, 0.24430412, 0.23353109, 0.2260087, 0.22112988, 0.21714884, 0.21412197, 0.2117456, 0.20981286, 0.20799476, 0.2065868, 0.20531471, 0.20408735, 0.20293924, 0.20193568, 0.20103559, 0.20019247, 0.19942757, 0.19867106, 0.19797719, 0.19736831, 0.1967513, 0.19615825, 0.19562003, 0.19512244, 0.19464324, 0.19421037, 0.19378023, 0.19336702, 0.19290209, 0.19250654, 0.19212553, 0.19178894, 0.19146112, 0.19113939, 0.19081345, 0.19051194, 0.19023882, 0.18997274, 0.18971825, 0.18944702, 0.18918896, 0.1889347, 0.18873477, 0.18851417, 0.18831328, 0.18808551, 0.18790598]\n",
      "[0.04731148, 0.04804948, 0.047690954, 0.046349537, 0.0445589, 0.042931113, 0.041535757, 0.04037306, 0.03941594, 0.03861267, 0.037963964, 0.037429936, 0.036994167, 0.03663167, 0.03636175, 0.03613312, 0.035941377, 0.035771884, 0.03561664, 0.035486963, 0.035363782, 0.03527113, 0.035183243, 0.035109464, 0.035045885, 0.034978487, 0.034920774, 0.03486619, 0.03481538, 0.034770917, 0.034730207, 0.03469225, 0.03465712, 0.034626, 0.03459902, 0.034579527, 0.034567367, 0.034552876, 0.0345377, 0.03452282, 0.034509823, 0.034496367, 0.03448311, 0.03447038, 0.034458324, 0.034446128, 0.034433994, 0.034423914, 0.034414325, 0.034406047, 0.03439663, 0.034389634, 0.03438188, 0.03437548, 0.034367487, 0.034361087]\n"
     ]
    },
    {
     "name": "stderr",
     "output_type": "stream",
     "text": [
      "                                                                                                                                                                  \r"
     ]
    },
    {
     "name": "stdout",
     "output_type": "stream",
     "text": [
      "Epoch 57, total_loss=0.5784, reg_loss = 0.3171\n",
      "   53.70 s in train({'n_hidden_rhs': [], '..., ConditionalAutoEncoder..., cuda, <torch.utils.data.data..., AdamW ( Parameter Grou..., MSELoss(), 57, max_norm=1)\n",
      "   26.06 s in test({'n_hidden_rhs': [], '..., ConditionalAutoEncoder..., cuda, <torch.utils.data.data..., MSELoss())\n",
      "    3.68 s in test({'n_hidden_rhs': [], '..., ConditionalAutoEncoder..., cuda, <torch.utils.data.data..., MSELoss())\n",
      "Train MSE: 0.1875211\n",
      "Valid MSE: 0.034342222\n",
      "Next Learning Rate: 0.0005\n",
      "[9.99128, 3.1923149, 1.3553666, 0.78882, 0.5528462, 0.41524774, 0.34669366, 0.2902287, 0.26147377, 0.24430412, 0.23353109, 0.2260087, 0.22112988, 0.21714884, 0.21412197, 0.2117456, 0.20981286, 0.20799476, 0.2065868, 0.20531471, 0.20408735, 0.20293924, 0.20193568, 0.20103559, 0.20019247, 0.19942757, 0.19867106, 0.19797719, 0.19736831, 0.1967513, 0.19615825, 0.19562003, 0.19512244, 0.19464324, 0.19421037, 0.19378023, 0.19336702, 0.19290209, 0.19250654, 0.19212553, 0.19178894, 0.19146112, 0.19113939, 0.19081345, 0.19051194, 0.19023882, 0.18997274, 0.18971825, 0.18944702, 0.18918896, 0.1889347, 0.18873477, 0.18851417, 0.18831328, 0.18808551, 0.18790598, 0.18769686]\n",
      "[0.04731148, 0.04804948, 0.047690954, 0.046349537, 0.0445589, 0.042931113, 0.041535757, 0.04037306, 0.03941594, 0.03861267, 0.037963964, 0.037429936, 0.036994167, 0.03663167, 0.03636175, 0.03613312, 0.035941377, 0.035771884, 0.03561664, 0.035486963, 0.035363782, 0.03527113, 0.035183243, 0.035109464, 0.035045885, 0.034978487, 0.034920774, 0.03486619, 0.03481538, 0.034770917, 0.034730207, 0.03469225, 0.03465712, 0.034626, 0.03459902, 0.034579527, 0.034567367, 0.034552876, 0.0345377, 0.03452282, 0.034509823, 0.034496367, 0.03448311, 0.03447038, 0.034458324, 0.034446128, 0.034433994, 0.034423914, 0.034414325, 0.034406047, 0.03439663, 0.034389634, 0.03438188, 0.03437548, 0.034367487, 0.034361087, 0.0343507]\n"
     ]
    },
    {
     "name": "stderr",
     "output_type": "stream",
     "text": [
      "                                                                                                                                                                  \r"
     ]
    },
    {
     "name": "stdout",
     "output_type": "stream",
     "text": [
      "Epoch 58, total_loss=0.4966, reg_loss = 0.3148\n",
      "   53.56 s in train({'n_hidden_rhs': [], '..., ConditionalAutoEncoder..., cuda, <torch.utils.data.data..., AdamW ( Parameter Grou..., MSELoss(), 58, max_norm=1)\n",
      "   26.00 s in test({'n_hidden_rhs': [], '..., ConditionalAutoEncoder..., cuda, <torch.utils.data.data..., MSELoss())\n",
      "    3.74 s in test({'n_hidden_rhs': [], '..., ConditionalAutoEncoder..., cuda, <torch.utils.data.data..., MSELoss())\n",
      "Train MSE: 0.1873438\n",
      "Valid MSE: 0.03433435\n",
      "Next Learning Rate: 0.0005\n",
      "[9.99128, 3.1923149, 1.3553666, 0.78882, 0.5528462, 0.41524774, 0.34669366, 0.2902287, 0.26147377, 0.24430412, 0.23353109, 0.2260087, 0.22112988, 0.21714884, 0.21412197, 0.2117456, 0.20981286, 0.20799476, 0.2065868, 0.20531471, 0.20408735, 0.20293924, 0.20193568, 0.20103559, 0.20019247, 0.19942757, 0.19867106, 0.19797719, 0.19736831, 0.1967513, 0.19615825, 0.19562003, 0.19512244, 0.19464324, 0.19421037, 0.19378023, 0.19336702, 0.19290209, 0.19250654, 0.19212553, 0.19178894, 0.19146112, 0.19113939, 0.19081345, 0.19051194, 0.19023882, 0.18997274, 0.18971825, 0.18944702, 0.18918896, 0.1889347, 0.18873477, 0.18851417, 0.18831328, 0.18808551, 0.18790598, 0.18769686, 0.1875211]\n",
      "[0.04731148, 0.04804948, 0.047690954, 0.046349537, 0.0445589, 0.042931113, 0.041535757, 0.04037306, 0.03941594, 0.03861267, 0.037963964, 0.037429936, 0.036994167, 0.03663167, 0.03636175, 0.03613312, 0.035941377, 0.035771884, 0.03561664, 0.035486963, 0.035363782, 0.03527113, 0.035183243, 0.035109464, 0.035045885, 0.034978487, 0.034920774, 0.03486619, 0.03481538, 0.034770917, 0.034730207, 0.03469225, 0.03465712, 0.034626, 0.03459902, 0.034579527, 0.034567367, 0.034552876, 0.0345377, 0.03452282, 0.034509823, 0.034496367, 0.03448311, 0.03447038, 0.034458324, 0.034446128, 0.034433994, 0.034423914, 0.034414325, 0.034406047, 0.03439663, 0.034389634, 0.03438188, 0.03437548, 0.034367487, 0.034361087, 0.0343507, 0.034342222]\n"
     ]
    },
    {
     "name": "stderr",
     "output_type": "stream",
     "text": [
      "                                                                                                                                                                  \r"
     ]
    },
    {
     "name": "stdout",
     "output_type": "stream",
     "text": [
      "Epoch 59, total_loss=0.4956, reg_loss = 0.3125\n",
      "   54.46 s in train({'n_hidden_rhs': [], '..., ConditionalAutoEncoder..., cuda, <torch.utils.data.data..., AdamW ( Parameter Grou..., MSELoss(), 59, max_norm=1)\n",
      "   26.06 s in test({'n_hidden_rhs': [], '..., ConditionalAutoEncoder..., cuda, <torch.utils.data.data..., MSELoss())\n",
      "    3.68 s in test({'n_hidden_rhs': [], '..., ConditionalAutoEncoder..., cuda, <torch.utils.data.data..., MSELoss())\n",
      "Train MSE: 0.18717472\n",
      "Valid MSE: 0.034326103\n",
      "Next Learning Rate: 0.0005\n",
      "[9.99128, 3.1923149, 1.3553666, 0.78882, 0.5528462, 0.41524774, 0.34669366, 0.2902287, 0.26147377, 0.24430412, 0.23353109, 0.2260087, 0.22112988, 0.21714884, 0.21412197, 0.2117456, 0.20981286, 0.20799476, 0.2065868, 0.20531471, 0.20408735, 0.20293924, 0.20193568, 0.20103559, 0.20019247, 0.19942757, 0.19867106, 0.19797719, 0.19736831, 0.1967513, 0.19615825, 0.19562003, 0.19512244, 0.19464324, 0.19421037, 0.19378023, 0.19336702, 0.19290209, 0.19250654, 0.19212553, 0.19178894, 0.19146112, 0.19113939, 0.19081345, 0.19051194, 0.19023882, 0.18997274, 0.18971825, 0.18944702, 0.18918896, 0.1889347, 0.18873477, 0.18851417, 0.18831328, 0.18808551, 0.18790598, 0.18769686, 0.1875211, 0.1873438]\n",
      "[0.04731148, 0.04804948, 0.047690954, 0.046349537, 0.0445589, 0.042931113, 0.041535757, 0.04037306, 0.03941594, 0.03861267, 0.037963964, 0.037429936, 0.036994167, 0.03663167, 0.03636175, 0.03613312, 0.035941377, 0.035771884, 0.03561664, 0.035486963, 0.035363782, 0.03527113, 0.035183243, 0.035109464, 0.035045885, 0.034978487, 0.034920774, 0.03486619, 0.03481538, 0.034770917, 0.034730207, 0.03469225, 0.03465712, 0.034626, 0.03459902, 0.034579527, 0.034567367, 0.034552876, 0.0345377, 0.03452282, 0.034509823, 0.034496367, 0.03448311, 0.03447038, 0.034458324, 0.034446128, 0.034433994, 0.034423914, 0.034414325, 0.034406047, 0.03439663, 0.034389634, 0.03438188, 0.03437548, 0.034367487, 0.034361087, 0.0343507, 0.034342222, 0.03433435]\n"
     ]
    },
    {
     "name": "stderr",
     "output_type": "stream",
     "text": [
      "                                                                                                                                                                  \r"
     ]
    },
    {
     "name": "stdout",
     "output_type": "stream",
     "text": [
      "Epoch 60, total_loss=0.5021, reg_loss = 0.3102\n",
      "   54.67 s in train({'n_hidden_rhs': [], '..., ConditionalAutoEncoder..., cuda, <torch.utils.data.data..., AdamW ( Parameter Grou..., MSELoss(), 60, max_norm=1)\n",
      "   25.90 s in test({'n_hidden_rhs': [], '..., ConditionalAutoEncoder..., cuda, <torch.utils.data.data..., MSELoss())\n",
      "    3.71 s in test({'n_hidden_rhs': [], '..., ConditionalAutoEncoder..., cuda, <torch.utils.data.data..., MSELoss())\n",
      "Train MSE: 0.18700202\n",
      "Valid MSE: 0.03431866\n",
      "Next Learning Rate: 0.0005\n",
      "[9.99128, 3.1923149, 1.3553666, 0.78882, 0.5528462, 0.41524774, 0.34669366, 0.2902287, 0.26147377, 0.24430412, 0.23353109, 0.2260087, 0.22112988, 0.21714884, 0.21412197, 0.2117456, 0.20981286, 0.20799476, 0.2065868, 0.20531471, 0.20408735, 0.20293924, 0.20193568, 0.20103559, 0.20019247, 0.19942757, 0.19867106, 0.19797719, 0.19736831, 0.1967513, 0.19615825, 0.19562003, 0.19512244, 0.19464324, 0.19421037, 0.19378023, 0.19336702, 0.19290209, 0.19250654, 0.19212553, 0.19178894, 0.19146112, 0.19113939, 0.19081345, 0.19051194, 0.19023882, 0.18997274, 0.18971825, 0.18944702, 0.18918896, 0.1889347, 0.18873477, 0.18851417, 0.18831328, 0.18808551, 0.18790598, 0.18769686, 0.1875211, 0.1873438, 0.18717472]\n",
      "[0.04731148, 0.04804948, 0.047690954, 0.046349537, 0.0445589, 0.042931113, 0.041535757, 0.04037306, 0.03941594, 0.03861267, 0.037963964, 0.037429936, 0.036994167, 0.03663167, 0.03636175, 0.03613312, 0.035941377, 0.035771884, 0.03561664, 0.035486963, 0.035363782, 0.03527113, 0.035183243, 0.035109464, 0.035045885, 0.034978487, 0.034920774, 0.03486619, 0.03481538, 0.034770917, 0.034730207, 0.03469225, 0.03465712, 0.034626, 0.03459902, 0.034579527, 0.034567367, 0.034552876, 0.0345377, 0.03452282, 0.034509823, 0.034496367, 0.03448311, 0.03447038, 0.034458324, 0.034446128, 0.034433994, 0.034423914, 0.034414325, 0.034406047, 0.03439663, 0.034389634, 0.03438188, 0.03437548, 0.034367487, 0.034361087, 0.0343507, 0.034342222, 0.03433435, 0.034326103]\n",
      "Training done. Evaluating...\n"
     ]
    },
    {
     "name": "stderr",
     "output_type": "stream",
     "text": [
      "100%|███████████████████████████████████████████████████████████████████████████████████████████████████████████████████████████████| 6/6 [00:05<00:00,  1.00it/s]\n",
      "100%|███████████████████████████████████████████████████████████████████████████████████████████████████████████████████████████████| 4/4 [00:04<00:00,  1.04s/it]\n"
     ]
    },
    {
     "name": "stdout",
     "output_type": "stream",
     "text": [
      "Params 7: (6, (16, 8), False)\n",
      "ConditionalAutoEncoder(\n",
      "  (lhs): Sequential(\n",
      "    (0): LayerNorm((29,), eps=1e-05, elementwise_affine=True)\n",
      "    (1): Linear(in_features=29, out_features=16, bias=True)\n",
      "    (2): SELU()\n",
      "    (3): LayerNorm((16,), eps=1e-05, elementwise_affine=True)\n",
      "    (4): Linear(in_features=16, out_features=8, bias=True)\n",
      "    (5): SELU()\n",
      "    (6): Linear(in_features=8, out_features=6, bias=True)\n",
      "  )\n",
      "  (rhs): Sequential(\n",
      "    (0): Linear(in_features=30, out_features=6, bias=True)\n",
      "  )\n",
      ")\n",
      "   37.97 s in test({'n_hidden_rhs': [], '..., ConditionalAutoEncoder..., cuda, <torch.utils.data.data..., MSELoss())\n",
      "    5.01 s in test({'n_hidden_rhs': [], '..., ConditionalAutoEncoder..., cuda, <torch.utils.data.data..., MSELoss())\n",
      "Pre-Train Train MSE: 2.9236553\n",
      "Pre-Train Valid MSE: 0.043052133\n"
     ]
    },
    {
     "name": "stderr",
     "output_type": "stream",
     "text": [
      "                                                                                                                                                                  \r"
     ]
    },
    {
     "name": "stdout",
     "output_type": "stream",
     "text": [
      "Epoch 1, total_loss=2.3522, reg_loss = 0.5339\n",
      "   82.00 s in train({'n_hidden_rhs': [], '..., ConditionalAutoEncoder..., cuda, <torch.utils.data.data..., AdamW ( Parameter Grou..., MSELoss(), 1, max_norm=1)\n",
      "   37.46 s in test({'n_hidden_rhs': [], '..., ConditionalAutoEncoder..., cuda, <torch.utils.data.data..., MSELoss())\n",
      "    4.98 s in test({'n_hidden_rhs': [], '..., ConditionalAutoEncoder..., cuda, <torch.utils.data.data..., MSELoss())\n",
      "Train MSE: 0.90267\n",
      "Valid MSE: 0.04099645\n",
      "Next Learning Rate: 0.0005\n",
      "[2.9236553]\n",
      "[0.043052133]\n"
     ]
    },
    {
     "name": "stderr",
     "output_type": "stream",
     "text": [
      "                                                                                                                                                                  \r"
     ]
    },
    {
     "name": "stdout",
     "output_type": "stream",
     "text": [
      "Epoch 2, total_loss=1.1698, reg_loss = 0.5286\n",
      "   83.14 s in train({'n_hidden_rhs': [], '..., ConditionalAutoEncoder..., cuda, <torch.utils.data.data..., AdamW ( Parameter Grou..., MSELoss(), 2, max_norm=1)\n",
      "   36.97 s in test({'n_hidden_rhs': [], '..., ConditionalAutoEncoder..., cuda, <torch.utils.data.data..., MSELoss())\n",
      "    5.02 s in test({'n_hidden_rhs': [], '..., ConditionalAutoEncoder..., cuda, <torch.utils.data.data..., MSELoss())\n",
      "Train MSE: 0.453315\n",
      "Valid MSE: 0.0392219\n",
      "Next Learning Rate: 0.0005\n",
      "[2.9236553, 0.90267]\n",
      "[0.043052133, 0.04099645]\n"
     ]
    },
    {
     "name": "stderr",
     "output_type": "stream",
     "text": [
      "                                                                                                                                                                  \r"
     ]
    },
    {
     "name": "stdout",
     "output_type": "stream",
     "text": [
      "Epoch 3, total_loss=0.8872, reg_loss = 0.5226\n",
      "   82.33 s in train({'n_hidden_rhs': [], '..., ConditionalAutoEncoder..., cuda, <torch.utils.data.data..., AdamW ( Parameter Grou..., MSELoss(), 3, max_norm=1)\n",
      "   36.91 s in test({'n_hidden_rhs': [], '..., ConditionalAutoEncoder..., cuda, <torch.utils.data.data..., MSELoss())\n",
      "    5.01 s in test({'n_hidden_rhs': [], '..., ConditionalAutoEncoder..., cuda, <torch.utils.data.data..., MSELoss())\n",
      "Train MSE: 0.2978265\n",
      "Valid MSE: 0.03825157\n",
      "Next Learning Rate: 0.0005\n",
      "[2.9236553, 0.90267, 0.453315]\n",
      "[0.043052133, 0.04099645, 0.0392219]\n"
     ]
    },
    {
     "name": "stderr",
     "output_type": "stream",
     "text": [
      "                                                                                                                                                                  \r"
     ]
    },
    {
     "name": "stdout",
     "output_type": "stream",
     "text": [
      "Epoch 4, total_loss=0.7896, reg_loss = 0.5160\n",
      "   83.41 s in train({'n_hidden_rhs': [], '..., ConditionalAutoEncoder..., cuda, <torch.utils.data.data..., AdamW ( Parameter Grou..., MSELoss(), 4, max_norm=1)\n",
      "   36.63 s in test({'n_hidden_rhs': [], '..., ConditionalAutoEncoder..., cuda, <torch.utils.data.data..., MSELoss())\n",
      "    4.99 s in test({'n_hidden_rhs': [], '..., ConditionalAutoEncoder..., cuda, <torch.utils.data.data..., MSELoss())\n",
      "Train MSE: 0.25305912\n",
      "Valid MSE: 0.03770478\n",
      "Next Learning Rate: 0.0005\n",
      "[2.9236553, 0.90267, 0.453315, 0.2978265]\n",
      "[0.043052133, 0.04099645, 0.0392219, 0.03825157]\n"
     ]
    },
    {
     "name": "stderr",
     "output_type": "stream",
     "text": [
      "                                                                                                                                                                  \r"
     ]
    },
    {
     "name": "stdout",
     "output_type": "stream",
     "text": [
      "Epoch 5, total_loss=0.7436, reg_loss = 0.5089\n",
      "   82.48 s in train({'n_hidden_rhs': [], '..., ConditionalAutoEncoder..., cuda, <torch.utils.data.data..., AdamW ( Parameter Grou..., MSELoss(), 5, max_norm=1)\n",
      "   37.10 s in test({'n_hidden_rhs': [], '..., ConditionalAutoEncoder..., cuda, <torch.utils.data.data..., MSELoss())\n",
      "    5.04 s in test({'n_hidden_rhs': [], '..., ConditionalAutoEncoder..., cuda, <torch.utils.data.data..., MSELoss())\n",
      "Train MSE: 0.23346151\n",
      "Valid MSE: 0.037370935\n",
      "Next Learning Rate: 0.0005\n",
      "[2.9236553, 0.90267, 0.453315, 0.2978265, 0.25305912]\n",
      "[0.043052133, 0.04099645, 0.0392219, 0.03825157, 0.03770478]\n"
     ]
    },
    {
     "name": "stderr",
     "output_type": "stream",
     "text": [
      "                                                                                                                                                                  \r"
     ]
    },
    {
     "name": "stdout",
     "output_type": "stream",
     "text": [
      "Epoch 6, total_loss=0.7257, reg_loss = 0.5017\n",
      "   82.59 s in train({'n_hidden_rhs': [], '..., ConditionalAutoEncoder..., cuda, <torch.utils.data.data..., AdamW ( Parameter Grou..., MSELoss(), 6, max_norm=1)\n",
      "   36.89 s in test({'n_hidden_rhs': [], '..., ConditionalAutoEncoder..., cuda, <torch.utils.data.data..., MSELoss())\n",
      "    5.05 s in test({'n_hidden_rhs': [], '..., ConditionalAutoEncoder..., cuda, <torch.utils.data.data..., MSELoss())\n",
      "Train MSE: 0.22109304\n",
      "Valid MSE: 0.03711661\n",
      "Next Learning Rate: 0.0005\n",
      "[2.9236553, 0.90267, 0.453315, 0.2978265, 0.25305912, 0.23346151]\n",
      "[0.043052133, 0.04099645, 0.0392219, 0.03825157, 0.03770478, 0.037370935]\n"
     ]
    },
    {
     "name": "stderr",
     "output_type": "stream",
     "text": [
      "                                                                                                                                                                  \r"
     ]
    },
    {
     "name": "stdout",
     "output_type": "stream",
     "text": [
      "Epoch 7, total_loss=0.7091, reg_loss = 0.4948\n",
      "   83.43 s in train({'n_hidden_rhs': [], '..., ConditionalAutoEncoder..., cuda, <torch.utils.data.data..., AdamW ( Parameter Grou..., MSELoss(), 7, max_norm=1)\n",
      "   36.78 s in test({'n_hidden_rhs': [], '..., ConditionalAutoEncoder..., cuda, <torch.utils.data.data..., MSELoss())\n",
      "    5.03 s in test({'n_hidden_rhs': [], '..., ConditionalAutoEncoder..., cuda, <torch.utils.data.data..., MSELoss())\n",
      "Train MSE: 0.2126\n",
      "Valid MSE: 0.036898755\n",
      "Next Learning Rate: 0.0005\n",
      "[2.9236553, 0.90267, 0.453315, 0.2978265, 0.25305912, 0.23346151, 0.22109304]\n",
      "[0.043052133, 0.04099645, 0.0392219, 0.03825157, 0.03770478, 0.037370935, 0.03711661]\n"
     ]
    },
    {
     "name": "stderr",
     "output_type": "stream",
     "text": [
      "                                                                                                                                                                  \r"
     ]
    },
    {
     "name": "stdout",
     "output_type": "stream",
     "text": [
      "Epoch 8, total_loss=0.6930, reg_loss = 0.4881\n",
      "   82.17 s in train({'n_hidden_rhs': [], '..., ConditionalAutoEncoder..., cuda, <torch.utils.data.data..., AdamW ( Parameter Grou..., MSELoss(), 8, max_norm=1)\n",
      "   37.07 s in test({'n_hidden_rhs': [], '..., ConditionalAutoEncoder..., cuda, <torch.utils.data.data..., MSELoss())\n",
      "    5.02 s in test({'n_hidden_rhs': [], '..., ConditionalAutoEncoder..., cuda, <torch.utils.data.data..., MSELoss())\n",
      "Train MSE: 0.20779876\n",
      "Valid MSE: 0.036698718\n",
      "Next Learning Rate: 0.0005\n",
      "[2.9236553, 0.90267, 0.453315, 0.2978265, 0.25305912, 0.23346151, 0.22109304, 0.2126]\n",
      "[0.043052133, 0.04099645, 0.0392219, 0.03825157, 0.03770478, 0.037370935, 0.03711661, 0.036898755]\n"
     ]
    },
    {
     "name": "stderr",
     "output_type": "stream",
     "text": [
      "                                                                                                                                                                  \r"
     ]
    },
    {
     "name": "stdout",
     "output_type": "stream",
     "text": [
      "Epoch 9, total_loss=0.6795, reg_loss = 0.4816\n",
      "   83.45 s in train({'n_hidden_rhs': [], '..., ConditionalAutoEncoder..., cuda, <torch.utils.data.data..., AdamW ( Parameter Grou..., MSELoss(), 9, max_norm=1)\n",
      "   37.20 s in test({'n_hidden_rhs': [], '..., ConditionalAutoEncoder..., cuda, <torch.utils.data.data..., MSELoss())\n",
      "    5.07 s in test({'n_hidden_rhs': [], '..., ConditionalAutoEncoder..., cuda, <torch.utils.data.data..., MSELoss())\n",
      "Train MSE: 0.20434815\n",
      "Valid MSE: 0.036500417\n",
      "Next Learning Rate: 0.0005\n",
      "[2.9236553, 0.90267, 0.453315, 0.2978265, 0.25305912, 0.23346151, 0.22109304, 0.2126, 0.20779876]\n",
      "[0.043052133, 0.04099645, 0.0392219, 0.03825157, 0.03770478, 0.037370935, 0.03711661, 0.036898755, 0.036698718]\n"
     ]
    },
    {
     "name": "stderr",
     "output_type": "stream",
     "text": [
      "                                                                                                                                                                  \r"
     ]
    },
    {
     "name": "stdout",
     "output_type": "stream",
     "text": [
      "Epoch 10, total_loss=0.6736, reg_loss = 0.4753\n",
      "   83.29 s in train({'n_hidden_rhs': [], '..., ConditionalAutoEncoder..., cuda, <torch.utils.data.data..., AdamW ( Parameter Grou..., MSELoss(), 10, max_norm=1)\n",
      "   37.03 s in test({'n_hidden_rhs': [], '..., ConditionalAutoEncoder..., cuda, <torch.utils.data.data..., MSELoss())\n",
      "    5.05 s in test({'n_hidden_rhs': [], '..., ConditionalAutoEncoder..., cuda, <torch.utils.data.data..., MSELoss())\n",
      "Train MSE: 0.2012357\n",
      "Valid MSE: 0.036304124\n",
      "Next Learning Rate: 0.0005\n",
      "[2.9236553, 0.90267, 0.453315, 0.2978265, 0.25305912, 0.23346151, 0.22109304, 0.2126, 0.20779876, 0.20434815]\n",
      "[0.043052133, 0.04099645, 0.0392219, 0.03825157, 0.03770478, 0.037370935, 0.03711661, 0.036898755, 0.036698718, 0.036500417]\n"
     ]
    },
    {
     "name": "stderr",
     "output_type": "stream",
     "text": [
      "                                                                                                                                                                  \r"
     ]
    },
    {
     "name": "stdout",
     "output_type": "stream",
     "text": [
      "Epoch 11, total_loss=0.6701, reg_loss = 0.4691\n",
      "   82.59 s in train({'n_hidden_rhs': [], '..., ConditionalAutoEncoder..., cuda, <torch.utils.data.data..., AdamW ( Parameter Grou..., MSELoss(), 11, max_norm=1)\n",
      "   37.24 s in test({'n_hidden_rhs': [], '..., ConditionalAutoEncoder..., cuda, <torch.utils.data.data..., MSELoss())\n",
      "    5.14 s in test({'n_hidden_rhs': [], '..., ConditionalAutoEncoder..., cuda, <torch.utils.data.data..., MSELoss())\n",
      "Train MSE: 0.19915748\n",
      "Valid MSE: 0.03610717\n",
      "Next Learning Rate: 0.0005\n",
      "[2.9236553, 0.90267, 0.453315, 0.2978265, 0.25305912, 0.23346151, 0.22109304, 0.2126, 0.20779876, 0.20434815, 0.2012357]\n",
      "[0.043052133, 0.04099645, 0.0392219, 0.03825157, 0.03770478, 0.037370935, 0.03711661, 0.036898755, 0.036698718, 0.036500417, 0.036304124]\n"
     ]
    },
    {
     "name": "stderr",
     "output_type": "stream",
     "text": [
      "                                                                                                                                                                  \r"
     ]
    },
    {
     "name": "stdout",
     "output_type": "stream",
     "text": [
      "Epoch 12, total_loss=0.6562, reg_loss = 0.4631\n",
      "   81.57 s in train({'n_hidden_rhs': [], '..., ConditionalAutoEncoder..., cuda, <torch.utils.data.data..., AdamW ( Parameter Grou..., MSELoss(), 12, max_norm=1)\n",
      "   35.79 s in test({'n_hidden_rhs': [], '..., ConditionalAutoEncoder..., cuda, <torch.utils.data.data..., MSELoss())\n",
      "    4.85 s in test({'n_hidden_rhs': [], '..., ConditionalAutoEncoder..., cuda, <torch.utils.data.data..., MSELoss())\n",
      "Train MSE: 0.19717103\n",
      "Valid MSE: 0.035927758\n",
      "Next Learning Rate: 0.0005\n",
      "[2.9236553, 0.90267, 0.453315, 0.2978265, 0.25305912, 0.23346151, 0.22109304, 0.2126, 0.20779876, 0.20434815, 0.2012357, 0.19915748]\n",
      "[0.043052133, 0.04099645, 0.0392219, 0.03825157, 0.03770478, 0.037370935, 0.03711661, 0.036898755, 0.036698718, 0.036500417, 0.036304124, 0.03610717]\n"
     ]
    },
    {
     "name": "stderr",
     "output_type": "stream",
     "text": [
      "                                                                                                                                                                  \r"
     ]
    },
    {
     "name": "stdout",
     "output_type": "stream",
     "text": [
      "Epoch 13, total_loss=0.6540, reg_loss = 0.4573\n",
      "   82.03 s in train({'n_hidden_rhs': [], '..., ConditionalAutoEncoder..., cuda, <torch.utils.data.data..., AdamW ( Parameter Grou..., MSELoss(), 13, max_norm=1)\n",
      "   35.72 s in test({'n_hidden_rhs': [], '..., ConditionalAutoEncoder..., cuda, <torch.utils.data.data..., MSELoss())\n",
      "    4.85 s in test({'n_hidden_rhs': [], '..., ConditionalAutoEncoder..., cuda, <torch.utils.data.data..., MSELoss())\n",
      "Train MSE: 0.19563426\n",
      "Valid MSE: 0.03575541\n",
      "Next Learning Rate: 0.0005\n",
      "[2.9236553, 0.90267, 0.453315, 0.2978265, 0.25305912, 0.23346151, 0.22109304, 0.2126, 0.20779876, 0.20434815, 0.2012357, 0.19915748, 0.19717103]\n",
      "[0.043052133, 0.04099645, 0.0392219, 0.03825157, 0.03770478, 0.037370935, 0.03711661, 0.036898755, 0.036698718, 0.036500417, 0.036304124, 0.03610717, 0.035927758]\n"
     ]
    },
    {
     "name": "stderr",
     "output_type": "stream",
     "text": [
      "                                                                                                                                                                  \r"
     ]
    },
    {
     "name": "stdout",
     "output_type": "stream",
     "text": [
      "Epoch 14, total_loss=0.6391, reg_loss = 0.4517\n",
      "   81.12 s in train({'n_hidden_rhs': [], '..., ConditionalAutoEncoder..., cuda, <torch.utils.data.data..., AdamW ( Parameter Grou..., MSELoss(), 14, max_norm=1)\n",
      "   35.57 s in test({'n_hidden_rhs': [], '..., ConditionalAutoEncoder..., cuda, <torch.utils.data.data..., MSELoss())\n",
      "    5.07 s in test({'n_hidden_rhs': [], '..., ConditionalAutoEncoder..., cuda, <torch.utils.data.data..., MSELoss())\n",
      "Train MSE: 0.19447687\n",
      "Valid MSE: 0.035601176\n",
      "Next Learning Rate: 0.0005\n",
      "[2.9236553, 0.90267, 0.453315, 0.2978265, 0.25305912, 0.23346151, 0.22109304, 0.2126, 0.20779876, 0.20434815, 0.2012357, 0.19915748, 0.19717103, 0.19563426]\n",
      "[0.043052133, 0.04099645, 0.0392219, 0.03825157, 0.03770478, 0.037370935, 0.03711661, 0.036898755, 0.036698718, 0.036500417, 0.036304124, 0.03610717, 0.035927758, 0.03575541]\n"
     ]
    },
    {
     "name": "stderr",
     "output_type": "stream",
     "text": [
      "                                                                                                                                                                  \r"
     ]
    },
    {
     "name": "stdout",
     "output_type": "stream",
     "text": [
      "Epoch 15, total_loss=0.6469, reg_loss = 0.4465\n",
      "   81.23 s in train({'n_hidden_rhs': [], '..., ConditionalAutoEncoder..., cuda, <torch.utils.data.data..., AdamW ( Parameter Grou..., MSELoss(), 15, max_norm=1)\n",
      "   35.79 s in test({'n_hidden_rhs': [], '..., ConditionalAutoEncoder..., cuda, <torch.utils.data.data..., MSELoss())\n",
      "    4.86 s in test({'n_hidden_rhs': [], '..., ConditionalAutoEncoder..., cuda, <torch.utils.data.data..., MSELoss())\n",
      "Train MSE: 0.19339901\n",
      "Valid MSE: 0.03543721\n",
      "Next Learning Rate: 0.0005\n",
      "[2.9236553, 0.90267, 0.453315, 0.2978265, 0.25305912, 0.23346151, 0.22109304, 0.2126, 0.20779876, 0.20434815, 0.2012357, 0.19915748, 0.19717103, 0.19563426, 0.19447687]\n",
      "[0.043052133, 0.04099645, 0.0392219, 0.03825157, 0.03770478, 0.037370935, 0.03711661, 0.036898755, 0.036698718, 0.036500417, 0.036304124, 0.03610717, 0.035927758, 0.03575541, 0.035601176]\n"
     ]
    },
    {
     "name": "stderr",
     "output_type": "stream",
     "text": [
      "                                                                                                                                                                  \r"
     ]
    },
    {
     "name": "stdout",
     "output_type": "stream",
     "text": [
      "Epoch 16, total_loss=0.6322, reg_loss = 0.4415\n",
      "   81.40 s in train({'n_hidden_rhs': [], '..., ConditionalAutoEncoder..., cuda, <torch.utils.data.data..., AdamW ( Parameter Grou..., MSELoss(), 16, max_norm=1)\n",
      "   36.00 s in test({'n_hidden_rhs': [], '..., ConditionalAutoEncoder..., cuda, <torch.utils.data.data..., MSELoss())\n",
      "    4.83 s in test({'n_hidden_rhs': [], '..., ConditionalAutoEncoder..., cuda, <torch.utils.data.data..., MSELoss())\n",
      "Train MSE: 0.19237477\n",
      "Valid MSE: 0.035280723\n",
      "Next Learning Rate: 0.0005\n",
      "[2.9236553, 0.90267, 0.453315, 0.2978265, 0.25305912, 0.23346151, 0.22109304, 0.2126, 0.20779876, 0.20434815, 0.2012357, 0.19915748, 0.19717103, 0.19563426, 0.19447687, 0.19339901]\n",
      "[0.043052133, 0.04099645, 0.0392219, 0.03825157, 0.03770478, 0.037370935, 0.03711661, 0.036898755, 0.036698718, 0.036500417, 0.036304124, 0.03610717, 0.035927758, 0.03575541, 0.035601176, 0.03543721]\n"
     ]
    },
    {
     "name": "stderr",
     "output_type": "stream",
     "text": [
      "                                                                                                                                                                  \r"
     ]
    },
    {
     "name": "stdout",
     "output_type": "stream",
     "text": [
      "Epoch 17, total_loss=0.6224, reg_loss = 0.4370\n",
      "   80.85 s in train({'n_hidden_rhs': [], '..., ConditionalAutoEncoder..., cuda, <torch.utils.data.data..., AdamW ( Parameter Grou..., MSELoss(), 17, max_norm=1)\n",
      "   35.62 s in test({'n_hidden_rhs': [], '..., ConditionalAutoEncoder..., cuda, <torch.utils.data.data..., MSELoss())\n",
      "    4.79 s in test({'n_hidden_rhs': [], '..., ConditionalAutoEncoder..., cuda, <torch.utils.data.data..., MSELoss())\n",
      "Train MSE: 0.19152379\n",
      "Valid MSE: 0.035136107\n",
      "Next Learning Rate: 0.0005\n",
      "[2.9236553, 0.90267, 0.453315, 0.2978265, 0.25305912, 0.23346151, 0.22109304, 0.2126, 0.20779876, 0.20434815, 0.2012357, 0.19915748, 0.19717103, 0.19563426, 0.19447687, 0.19339901, 0.19237477]\n",
      "[0.043052133, 0.04099645, 0.0392219, 0.03825157, 0.03770478, 0.037370935, 0.03711661, 0.036898755, 0.036698718, 0.036500417, 0.036304124, 0.03610717, 0.035927758, 0.03575541, 0.035601176, 0.03543721, 0.035280723]\n"
     ]
    },
    {
     "name": "stderr",
     "output_type": "stream",
     "text": [
      "                                                                                                                                                                  \r"
     ]
    },
    {
     "name": "stdout",
     "output_type": "stream",
     "text": [
      "Epoch 18, total_loss=0.6244, reg_loss = 0.4328\n",
      "   81.03 s in train({'n_hidden_rhs': [], '..., ConditionalAutoEncoder..., cuda, <torch.utils.data.data..., AdamW ( Parameter Grou..., MSELoss(), 18, max_norm=1)\n",
      "   35.63 s in test({'n_hidden_rhs': [], '..., ConditionalAutoEncoder..., cuda, <torch.utils.data.data..., MSELoss())\n",
      "    4.78 s in test({'n_hidden_rhs': [], '..., ConditionalAutoEncoder..., cuda, <torch.utils.data.data..., MSELoss())\n",
      "Train MSE: 0.19073085\n",
      "Valid MSE: 0.03499003\n",
      "Next Learning Rate: 0.0005\n",
      "[2.9236553, 0.90267, 0.453315, 0.2978265, 0.25305912, 0.23346151, 0.22109304, 0.2126, 0.20779876, 0.20434815, 0.2012357, 0.19915748, 0.19717103, 0.19563426, 0.19447687, 0.19339901, 0.19237477, 0.19152379]\n",
      "[0.043052133, 0.04099645, 0.0392219, 0.03825157, 0.03770478, 0.037370935, 0.03711661, 0.036898755, 0.036698718, 0.036500417, 0.036304124, 0.03610717, 0.035927758, 0.03575541, 0.035601176, 0.03543721, 0.035280723, 0.035136107]\n"
     ]
    },
    {
     "name": "stderr",
     "output_type": "stream",
     "text": [
      "                                                                                                                                                                  \r"
     ]
    },
    {
     "name": "stdout",
     "output_type": "stream",
     "text": [
      "Epoch 19, total_loss=0.6174, reg_loss = 0.4289\n",
      "   81.23 s in train({'n_hidden_rhs': [], '..., ConditionalAutoEncoder..., cuda, <torch.utils.data.data..., AdamW ( Parameter Grou..., MSELoss(), 19, max_norm=1)\n",
      "   35.93 s in test({'n_hidden_rhs': [], '..., ConditionalAutoEncoder..., cuda, <torch.utils.data.data..., MSELoss())\n",
      "    4.91 s in test({'n_hidden_rhs': [], '..., ConditionalAutoEncoder..., cuda, <torch.utils.data.data..., MSELoss())\n",
      "Train MSE: 0.19006969\n",
      "Valid MSE: 0.034870062\n",
      "Next Learning Rate: 0.0005\n",
      "[2.9236553, 0.90267, 0.453315, 0.2978265, 0.25305912, 0.23346151, 0.22109304, 0.2126, 0.20779876, 0.20434815, 0.2012357, 0.19915748, 0.19717103, 0.19563426, 0.19447687, 0.19339901, 0.19237477, 0.19152379, 0.19073085]\n",
      "[0.043052133, 0.04099645, 0.0392219, 0.03825157, 0.03770478, 0.037370935, 0.03711661, 0.036898755, 0.036698718, 0.036500417, 0.036304124, 0.03610717, 0.035927758, 0.03575541, 0.035601176, 0.03543721, 0.035280723, 0.035136107, 0.03499003]\n"
     ]
    },
    {
     "name": "stderr",
     "output_type": "stream",
     "text": [
      "                                                                                                                                                                  \r"
     ]
    },
    {
     "name": "stdout",
     "output_type": "stream",
     "text": [
      "Epoch 20, total_loss=0.6118, reg_loss = 0.4255\n",
      "   81.30 s in train({'n_hidden_rhs': [], '..., ConditionalAutoEncoder..., cuda, <torch.utils.data.data..., AdamW ( Parameter Grou..., MSELoss(), 20, max_norm=1)\n",
      "   36.04 s in test({'n_hidden_rhs': [], '..., ConditionalAutoEncoder..., cuda, <torch.utils.data.data..., MSELoss())\n",
      "    4.92 s in test({'n_hidden_rhs': [], '..., ConditionalAutoEncoder..., cuda, <torch.utils.data.data..., MSELoss())\n",
      "Train MSE: 0.1893706\n",
      "Valid MSE: 0.034776762\n",
      "Next Learning Rate: 0.0005\n",
      "[2.9236553, 0.90267, 0.453315, 0.2978265, 0.25305912, 0.23346151, 0.22109304, 0.2126, 0.20779876, 0.20434815, 0.2012357, 0.19915748, 0.19717103, 0.19563426, 0.19447687, 0.19339901, 0.19237477, 0.19152379, 0.19073085, 0.19006969]\n",
      "[0.043052133, 0.04099645, 0.0392219, 0.03825157, 0.03770478, 0.037370935, 0.03711661, 0.036898755, 0.036698718, 0.036500417, 0.036304124, 0.03610717, 0.035927758, 0.03575541, 0.035601176, 0.03543721, 0.035280723, 0.035136107, 0.03499003, 0.034870062]\n"
     ]
    },
    {
     "name": "stderr",
     "output_type": "stream",
     "text": [
      "                                                                                                                                                                  \r"
     ]
    },
    {
     "name": "stdout",
     "output_type": "stream",
     "text": [
      "Epoch 21, total_loss=0.6183, reg_loss = 0.4221\n",
      "   81.65 s in train({'n_hidden_rhs': [], '..., ConditionalAutoEncoder..., cuda, <torch.utils.data.data..., AdamW ( Parameter Grou..., MSELoss(), 21, max_norm=1)\n",
      "   36.63 s in test({'n_hidden_rhs': [], '..., ConditionalAutoEncoder..., cuda, <torch.utils.data.data..., MSELoss())\n",
      "    4.95 s in test({'n_hidden_rhs': [], '..., ConditionalAutoEncoder..., cuda, <torch.utils.data.data..., MSELoss())\n",
      "Train MSE: 0.1889382\n",
      "Valid MSE: 0.03470557\n",
      "Next Learning Rate: 0.0005\n",
      "[2.9236553, 0.90267, 0.453315, 0.2978265, 0.25305912, 0.23346151, 0.22109304, 0.2126, 0.20779876, 0.20434815, 0.2012357, 0.19915748, 0.19717103, 0.19563426, 0.19447687, 0.19339901, 0.19237477, 0.19152379, 0.19073085, 0.19006969, 0.1893706]\n",
      "[0.043052133, 0.04099645, 0.0392219, 0.03825157, 0.03770478, 0.037370935, 0.03711661, 0.036898755, 0.036698718, 0.036500417, 0.036304124, 0.03610717, 0.035927758, 0.03575541, 0.035601176, 0.03543721, 0.035280723, 0.035136107, 0.03499003, 0.034870062, 0.034776762]\n"
     ]
    },
    {
     "name": "stderr",
     "output_type": "stream",
     "text": [
      "                                                                                                                                                                  \r"
     ]
    },
    {
     "name": "stdout",
     "output_type": "stream",
     "text": [
      "Epoch 22, total_loss=0.6079, reg_loss = 0.4188\n",
      "   82.28 s in train({'n_hidden_rhs': [], '..., ConditionalAutoEncoder..., cuda, <torch.utils.data.data..., AdamW ( Parameter Grou..., MSELoss(), 22, max_norm=1)\n",
      "   36.43 s in test({'n_hidden_rhs': [], '..., ConditionalAutoEncoder..., cuda, <torch.utils.data.data..., MSELoss())\n",
      "    4.90 s in test({'n_hidden_rhs': [], '..., ConditionalAutoEncoder..., cuda, <torch.utils.data.data..., MSELoss())\n",
      "Train MSE: 0.1883792\n",
      "Valid MSE: 0.034642387\n",
      "Next Learning Rate: 0.0005\n",
      "[2.9236553, 0.90267, 0.453315, 0.2978265, 0.25305912, 0.23346151, 0.22109304, 0.2126, 0.20779876, 0.20434815, 0.2012357, 0.19915748, 0.19717103, 0.19563426, 0.19447687, 0.19339901, 0.19237477, 0.19152379, 0.19073085, 0.19006969, 0.1893706, 0.1889382]\n",
      "[0.043052133, 0.04099645, 0.0392219, 0.03825157, 0.03770478, 0.037370935, 0.03711661, 0.036898755, 0.036698718, 0.036500417, 0.036304124, 0.03610717, 0.035927758, 0.03575541, 0.035601176, 0.03543721, 0.035280723, 0.035136107, 0.03499003, 0.034870062, 0.034776762, 0.03470557]\n"
     ]
    },
    {
     "name": "stderr",
     "output_type": "stream",
     "text": [
      "                                                                                                                                                                  \r"
     ]
    },
    {
     "name": "stdout",
     "output_type": "stream",
     "text": [
      "Epoch 23, total_loss=0.5985, reg_loss = 0.4155\n",
      "   82.07 s in train({'n_hidden_rhs': [], '..., ConditionalAutoEncoder..., cuda, <torch.utils.data.data..., AdamW ( Parameter Grou..., MSELoss(), 23, max_norm=1)\n",
      "   36.28 s in test({'n_hidden_rhs': [], '..., ConditionalAutoEncoder..., cuda, <torch.utils.data.data..., MSELoss())\n",
      "    4.96 s in test({'n_hidden_rhs': [], '..., ConditionalAutoEncoder..., cuda, <torch.utils.data.data..., MSELoss())\n",
      "Train MSE: 0.18785718\n",
      "Valid MSE: 0.0345853\n",
      "Next Learning Rate: 0.0005\n",
      "[2.9236553, 0.90267, 0.453315, 0.2978265, 0.25305912, 0.23346151, 0.22109304, 0.2126, 0.20779876, 0.20434815, 0.2012357, 0.19915748, 0.19717103, 0.19563426, 0.19447687, 0.19339901, 0.19237477, 0.19152379, 0.19073085, 0.19006969, 0.1893706, 0.1889382, 0.1883792]\n",
      "[0.043052133, 0.04099645, 0.0392219, 0.03825157, 0.03770478, 0.037370935, 0.03711661, 0.036898755, 0.036698718, 0.036500417, 0.036304124, 0.03610717, 0.035927758, 0.03575541, 0.035601176, 0.03543721, 0.035280723, 0.035136107, 0.03499003, 0.034870062, 0.034776762, 0.03470557, 0.034642387]\n"
     ]
    },
    {
     "name": "stderr",
     "output_type": "stream",
     "text": [
      "                                                                                                                                                                  \r"
     ]
    },
    {
     "name": "stdout",
     "output_type": "stream",
     "text": [
      "Epoch 24, total_loss=0.5988, reg_loss = 0.4123\n",
      "   82.69 s in train({'n_hidden_rhs': [], '..., ConditionalAutoEncoder..., cuda, <torch.utils.data.data..., AdamW ( Parameter Grou..., MSELoss(), 24, max_norm=1)\n",
      "   36.21 s in test({'n_hidden_rhs': [], '..., ConditionalAutoEncoder..., cuda, <torch.utils.data.data..., MSELoss())\n",
      "    4.89 s in test({'n_hidden_rhs': [], '..., ConditionalAutoEncoder..., cuda, <torch.utils.data.data..., MSELoss())\n",
      "Train MSE: 0.18746872\n",
      "Valid MSE: 0.034537114\n",
      "Next Learning Rate: 0.0005\n",
      "[2.9236553, 0.90267, 0.453315, 0.2978265, 0.25305912, 0.23346151, 0.22109304, 0.2126, 0.20779876, 0.20434815, 0.2012357, 0.19915748, 0.19717103, 0.19563426, 0.19447687, 0.19339901, 0.19237477, 0.19152379, 0.19073085, 0.19006969, 0.1893706, 0.1889382, 0.1883792, 0.18785718]\n",
      "[0.043052133, 0.04099645, 0.0392219, 0.03825157, 0.03770478, 0.037370935, 0.03711661, 0.036898755, 0.036698718, 0.036500417, 0.036304124, 0.03610717, 0.035927758, 0.03575541, 0.035601176, 0.03543721, 0.035280723, 0.035136107, 0.03499003, 0.034870062, 0.034776762, 0.03470557, 0.034642387, 0.0345853]\n"
     ]
    },
    {
     "name": "stderr",
     "output_type": "stream",
     "text": [
      "                                                                                                                                                                  \r"
     ]
    },
    {
     "name": "stdout",
     "output_type": "stream",
     "text": [
      "Epoch 25, total_loss=0.6012, reg_loss = 0.4090\n",
      "   81.76 s in train({'n_hidden_rhs': [], '..., ConditionalAutoEncoder..., cuda, <torch.utils.data.data..., AdamW ( Parameter Grou..., MSELoss(), 25, max_norm=1)\n",
      "   36.47 s in test({'n_hidden_rhs': [], '..., ConditionalAutoEncoder..., cuda, <torch.utils.data.data..., MSELoss())\n",
      "    4.97 s in test({'n_hidden_rhs': [], '..., ConditionalAutoEncoder..., cuda, <torch.utils.data.data..., MSELoss())\n",
      "Train MSE: 0.18707822\n",
      "Valid MSE: 0.03449272\n",
      "Next Learning Rate: 0.0005\n",
      "[2.9236553, 0.90267, 0.453315, 0.2978265, 0.25305912, 0.23346151, 0.22109304, 0.2126, 0.20779876, 0.20434815, 0.2012357, 0.19915748, 0.19717103, 0.19563426, 0.19447687, 0.19339901, 0.19237477, 0.19152379, 0.19073085, 0.19006969, 0.1893706, 0.1889382, 0.1883792, 0.18785718, 0.18746872]\n",
      "[0.043052133, 0.04099645, 0.0392219, 0.03825157, 0.03770478, 0.037370935, 0.03711661, 0.036898755, 0.036698718, 0.036500417, 0.036304124, 0.03610717, 0.035927758, 0.03575541, 0.035601176, 0.03543721, 0.035280723, 0.035136107, 0.03499003, 0.034870062, 0.034776762, 0.03470557, 0.034642387, 0.0345853, 0.034537114]\n"
     ]
    },
    {
     "name": "stderr",
     "output_type": "stream",
     "text": [
      "                                                                                                                                                                  \r"
     ]
    },
    {
     "name": "stdout",
     "output_type": "stream",
     "text": [
      "Epoch 26, total_loss=0.5845, reg_loss = 0.4058\n",
      "   82.30 s in train({'n_hidden_rhs': [], '..., ConditionalAutoEncoder..., cuda, <torch.utils.data.data..., AdamW ( Parameter Grou..., MSELoss(), 26, max_norm=1)\n",
      "   37.28 s in test({'n_hidden_rhs': [], '..., ConditionalAutoEncoder..., cuda, <torch.utils.data.data..., MSELoss())\n",
      "    4.98 s in test({'n_hidden_rhs': [], '..., ConditionalAutoEncoder..., cuda, <torch.utils.data.data..., MSELoss())\n",
      "Train MSE: 0.18674718\n",
      "Valid MSE: 0.034455348\n",
      "Next Learning Rate: 0.0005\n",
      "[2.9236553, 0.90267, 0.453315, 0.2978265, 0.25305912, 0.23346151, 0.22109304, 0.2126, 0.20779876, 0.20434815, 0.2012357, 0.19915748, 0.19717103, 0.19563426, 0.19447687, 0.19339901, 0.19237477, 0.19152379, 0.19073085, 0.19006969, 0.1893706, 0.1889382, 0.1883792, 0.18785718, 0.18746872, 0.18707822]\n",
      "[0.043052133, 0.04099645, 0.0392219, 0.03825157, 0.03770478, 0.037370935, 0.03711661, 0.036898755, 0.036698718, 0.036500417, 0.036304124, 0.03610717, 0.035927758, 0.03575541, 0.035601176, 0.03543721, 0.035280723, 0.035136107, 0.03499003, 0.034870062, 0.034776762, 0.03470557, 0.034642387, 0.0345853, 0.034537114, 0.03449272]\n"
     ]
    },
    {
     "name": "stderr",
     "output_type": "stream",
     "text": [
      "                                                                                                                                                                  \r"
     ]
    },
    {
     "name": "stdout",
     "output_type": "stream",
     "text": [
      "Epoch 27, total_loss=0.5867, reg_loss = 0.4026\n",
      "   82.23 s in train({'n_hidden_rhs': [], '..., ConditionalAutoEncoder..., cuda, <torch.utils.data.data..., AdamW ( Parameter Grou..., MSELoss(), 27, max_norm=1)\n",
      "   36.81 s in test({'n_hidden_rhs': [], '..., ConditionalAutoEncoder..., cuda, <torch.utils.data.data..., MSELoss())\n",
      "    4.92 s in test({'n_hidden_rhs': [], '..., ConditionalAutoEncoder..., cuda, <torch.utils.data.data..., MSELoss())\n",
      "Train MSE: 0.18639447\n",
      "Valid MSE: 0.034419555\n",
      "Next Learning Rate: 0.0005\n",
      "[2.9236553, 0.90267, 0.453315, 0.2978265, 0.25305912, 0.23346151, 0.22109304, 0.2126, 0.20779876, 0.20434815, 0.2012357, 0.19915748, 0.19717103, 0.19563426, 0.19447687, 0.19339901, 0.19237477, 0.19152379, 0.19073085, 0.19006969, 0.1893706, 0.1889382, 0.1883792, 0.18785718, 0.18746872, 0.18707822, 0.18674718]\n",
      "[0.043052133, 0.04099645, 0.0392219, 0.03825157, 0.03770478, 0.037370935, 0.03711661, 0.036898755, 0.036698718, 0.036500417, 0.036304124, 0.03610717, 0.035927758, 0.03575541, 0.035601176, 0.03543721, 0.035280723, 0.035136107, 0.03499003, 0.034870062, 0.034776762, 0.03470557, 0.034642387, 0.0345853, 0.034537114, 0.03449272, 0.034455348]\n"
     ]
    },
    {
     "name": "stderr",
     "output_type": "stream",
     "text": [
      "                                                                                                                                                                  \r"
     ]
    },
    {
     "name": "stdout",
     "output_type": "stream",
     "text": [
      "Epoch 28, total_loss=0.5756, reg_loss = 0.3994\n",
      "   82.53 s in train({'n_hidden_rhs': [], '..., ConditionalAutoEncoder..., cuda, <torch.utils.data.data..., AdamW ( Parameter Grou..., MSELoss(), 28, max_norm=1)\n",
      "   36.83 s in test({'n_hidden_rhs': [], '..., ConditionalAutoEncoder..., cuda, <torch.utils.data.data..., MSELoss())\n",
      "    5.17 s in test({'n_hidden_rhs': [], '..., ConditionalAutoEncoder..., cuda, <torch.utils.data.data..., MSELoss())\n",
      "Train MSE: 0.18604164\n",
      "Valid MSE: 0.034392327\n",
      "Next Learning Rate: 0.0005\n",
      "[2.9236553, 0.90267, 0.453315, 0.2978265, 0.25305912, 0.23346151, 0.22109304, 0.2126, 0.20779876, 0.20434815, 0.2012357, 0.19915748, 0.19717103, 0.19563426, 0.19447687, 0.19339901, 0.19237477, 0.19152379, 0.19073085, 0.19006969, 0.1893706, 0.1889382, 0.1883792, 0.18785718, 0.18746872, 0.18707822, 0.18674718, 0.18639447]\n",
      "[0.043052133, 0.04099645, 0.0392219, 0.03825157, 0.03770478, 0.037370935, 0.03711661, 0.036898755, 0.036698718, 0.036500417, 0.036304124, 0.03610717, 0.035927758, 0.03575541, 0.035601176, 0.03543721, 0.035280723, 0.035136107, 0.03499003, 0.034870062, 0.034776762, 0.03470557, 0.034642387, 0.0345853, 0.034537114, 0.03449272, 0.034455348, 0.034419555]\n"
     ]
    },
    {
     "name": "stderr",
     "output_type": "stream",
     "text": [
      "                                                                                                                                                                  \r"
     ]
    },
    {
     "name": "stdout",
     "output_type": "stream",
     "text": [
      "Epoch 29, total_loss=0.5790, reg_loss = 0.3962\n",
      "   81.80 s in train({'n_hidden_rhs': [], '..., ConditionalAutoEncoder..., cuda, <torch.utils.data.data..., AdamW ( Parameter Grou..., MSELoss(), 29, max_norm=1)\n",
      "   36.82 s in test({'n_hidden_rhs': [], '..., ConditionalAutoEncoder..., cuda, <torch.utils.data.data..., MSELoss())\n",
      "    4.96 s in test({'n_hidden_rhs': [], '..., ConditionalAutoEncoder..., cuda, <torch.utils.data.data..., MSELoss())\n",
      "Train MSE: 0.18573804\n",
      "Valid MSE: 0.034364443\n",
      "Next Learning Rate: 0.0005\n",
      "[2.9236553, 0.90267, 0.453315, 0.2978265, 0.25305912, 0.23346151, 0.22109304, 0.2126, 0.20779876, 0.20434815, 0.2012357, 0.19915748, 0.19717103, 0.19563426, 0.19447687, 0.19339901, 0.19237477, 0.19152379, 0.19073085, 0.19006969, 0.1893706, 0.1889382, 0.1883792, 0.18785718, 0.18746872, 0.18707822, 0.18674718, 0.18639447, 0.18604164]\n",
      "[0.043052133, 0.04099645, 0.0392219, 0.03825157, 0.03770478, 0.037370935, 0.03711661, 0.036898755, 0.036698718, 0.036500417, 0.036304124, 0.03610717, 0.035927758, 0.03575541, 0.035601176, 0.03543721, 0.035280723, 0.035136107, 0.03499003, 0.034870062, 0.034776762, 0.03470557, 0.034642387, 0.0345853, 0.034537114, 0.03449272, 0.034455348, 0.034419555, 0.034392327]\n"
     ]
    },
    {
     "name": "stderr",
     "output_type": "stream",
     "text": [
      "                                                                                                                                                                  \r"
     ]
    },
    {
     "name": "stdout",
     "output_type": "stream",
     "text": [
      "Epoch 30, total_loss=0.5782, reg_loss = 0.3930\n",
      "   82.09 s in train({'n_hidden_rhs': [], '..., ConditionalAutoEncoder..., cuda, <torch.utils.data.data..., AdamW ( Parameter Grou..., MSELoss(), 30, max_norm=1)\n",
      "   36.83 s in test({'n_hidden_rhs': [], '..., ConditionalAutoEncoder..., cuda, <torch.utils.data.data..., MSELoss())\n",
      "    4.97 s in test({'n_hidden_rhs': [], '..., ConditionalAutoEncoder..., cuda, <torch.utils.data.data..., MSELoss())\n",
      "Train MSE: 0.18549363\n",
      "Valid MSE: 0.03434412\n",
      "Next Learning Rate: 0.0005\n",
      "[2.9236553, 0.90267, 0.453315, 0.2978265, 0.25305912, 0.23346151, 0.22109304, 0.2126, 0.20779876, 0.20434815, 0.2012357, 0.19915748, 0.19717103, 0.19563426, 0.19447687, 0.19339901, 0.19237477, 0.19152379, 0.19073085, 0.19006969, 0.1893706, 0.1889382, 0.1883792, 0.18785718, 0.18746872, 0.18707822, 0.18674718, 0.18639447, 0.18604164, 0.18573804]\n",
      "[0.043052133, 0.04099645, 0.0392219, 0.03825157, 0.03770478, 0.037370935, 0.03711661, 0.036898755, 0.036698718, 0.036500417, 0.036304124, 0.03610717, 0.035927758, 0.03575541, 0.035601176, 0.03543721, 0.035280723, 0.035136107, 0.03499003, 0.034870062, 0.034776762, 0.03470557, 0.034642387, 0.0345853, 0.034537114, 0.03449272, 0.034455348, 0.034419555, 0.034392327, 0.034364443]\n"
     ]
    },
    {
     "name": "stderr",
     "output_type": "stream",
     "text": [
      "                                                                                                                                                                  \r"
     ]
    },
    {
     "name": "stdout",
     "output_type": "stream",
     "text": [
      "Epoch 31, total_loss=0.5700, reg_loss = 0.3899\n",
      "   82.67 s in train({'n_hidden_rhs': [], '..., ConditionalAutoEncoder..., cuda, <torch.utils.data.data..., AdamW ( Parameter Grou..., MSELoss(), 31, max_norm=1)\n",
      "   36.75 s in test({'n_hidden_rhs': [], '..., ConditionalAutoEncoder..., cuda, <torch.utils.data.data..., MSELoss())\n",
      "    5.14 s in test({'n_hidden_rhs': [], '..., ConditionalAutoEncoder..., cuda, <torch.utils.data.data..., MSELoss())\n",
      "Train MSE: 0.18522325\n",
      "Valid MSE: 0.034313094\n",
      "Next Learning Rate: 0.0005\n",
      "[2.9236553, 0.90267, 0.453315, 0.2978265, 0.25305912, 0.23346151, 0.22109304, 0.2126, 0.20779876, 0.20434815, 0.2012357, 0.19915748, 0.19717103, 0.19563426, 0.19447687, 0.19339901, 0.19237477, 0.19152379, 0.19073085, 0.19006969, 0.1893706, 0.1889382, 0.1883792, 0.18785718, 0.18746872, 0.18707822, 0.18674718, 0.18639447, 0.18604164, 0.18573804, 0.18549363]\n",
      "[0.043052133, 0.04099645, 0.0392219, 0.03825157, 0.03770478, 0.037370935, 0.03711661, 0.036898755, 0.036698718, 0.036500417, 0.036304124, 0.03610717, 0.035927758, 0.03575541, 0.035601176, 0.03543721, 0.035280723, 0.035136107, 0.03499003, 0.034870062, 0.034776762, 0.03470557, 0.034642387, 0.0345853, 0.034537114, 0.03449272, 0.034455348, 0.034419555, 0.034392327, 0.034364443, 0.03434412]\n"
     ]
    },
    {
     "name": "stderr",
     "output_type": "stream",
     "text": [
      "                                                                                                                                                                  \r"
     ]
    },
    {
     "name": "stdout",
     "output_type": "stream",
     "text": [
      "Epoch 32, total_loss=0.5699, reg_loss = 0.3868\n",
      "   81.70 s in train({'n_hidden_rhs': [], '..., ConditionalAutoEncoder..., cuda, <torch.utils.data.data..., AdamW ( Parameter Grou..., MSELoss(), 32, max_norm=1)\n",
      "   36.47 s in test({'n_hidden_rhs': [], '..., ConditionalAutoEncoder..., cuda, <torch.utils.data.data..., MSELoss())\n",
      "    4.91 s in test({'n_hidden_rhs': [], '..., ConditionalAutoEncoder..., cuda, <torch.utils.data.data..., MSELoss())\n",
      "Train MSE: 0.18491815\n",
      "Valid MSE: 0.03429265\n",
      "Next Learning Rate: 0.0005\n",
      "[2.9236553, 0.90267, 0.453315, 0.2978265, 0.25305912, 0.23346151, 0.22109304, 0.2126, 0.20779876, 0.20434815, 0.2012357, 0.19915748, 0.19717103, 0.19563426, 0.19447687, 0.19339901, 0.19237477, 0.19152379, 0.19073085, 0.19006969, 0.1893706, 0.1889382, 0.1883792, 0.18785718, 0.18746872, 0.18707822, 0.18674718, 0.18639447, 0.18604164, 0.18573804, 0.18549363, 0.18522325]\n",
      "[0.043052133, 0.04099645, 0.0392219, 0.03825157, 0.03770478, 0.037370935, 0.03711661, 0.036898755, 0.036698718, 0.036500417, 0.036304124, 0.03610717, 0.035927758, 0.03575541, 0.035601176, 0.03543721, 0.035280723, 0.035136107, 0.03499003, 0.034870062, 0.034776762, 0.03470557, 0.034642387, 0.0345853, 0.034537114, 0.03449272, 0.034455348, 0.034419555, 0.034392327, 0.034364443, 0.03434412, 0.034313094]\n"
     ]
    },
    {
     "name": "stderr",
     "output_type": "stream",
     "text": [
      "                                                                                                                                                                  \r"
     ]
    },
    {
     "name": "stdout",
     "output_type": "stream",
     "text": [
      "Epoch 33, total_loss=0.5613, reg_loss = 0.3836\n",
      "   80.70 s in train({'n_hidden_rhs': [], '..., ConditionalAutoEncoder..., cuda, <torch.utils.data.data..., AdamW ( Parameter Grou..., MSELoss(), 33, max_norm=1)\n",
      "   35.96 s in test({'n_hidden_rhs': [], '..., ConditionalAutoEncoder..., cuda, <torch.utils.data.data..., MSELoss())\n",
      "    4.84 s in test({'n_hidden_rhs': [], '..., ConditionalAutoEncoder..., cuda, <torch.utils.data.data..., MSELoss())\n",
      "Train MSE: 0.18465678\n",
      "Valid MSE: 0.03427013\n",
      "Next Learning Rate: 0.0005\n",
      "[2.9236553, 0.90267, 0.453315, 0.2978265, 0.25305912, 0.23346151, 0.22109304, 0.2126, 0.20779876, 0.20434815, 0.2012357, 0.19915748, 0.19717103, 0.19563426, 0.19447687, 0.19339901, 0.19237477, 0.19152379, 0.19073085, 0.19006969, 0.1893706, 0.1889382, 0.1883792, 0.18785718, 0.18746872, 0.18707822, 0.18674718, 0.18639447, 0.18604164, 0.18573804, 0.18549363, 0.18522325, 0.18491815]\n",
      "[0.043052133, 0.04099645, 0.0392219, 0.03825157, 0.03770478, 0.037370935, 0.03711661, 0.036898755, 0.036698718, 0.036500417, 0.036304124, 0.03610717, 0.035927758, 0.03575541, 0.035601176, 0.03543721, 0.035280723, 0.035136107, 0.03499003, 0.034870062, 0.034776762, 0.03470557, 0.034642387, 0.0345853, 0.034537114, 0.03449272, 0.034455348, 0.034419555, 0.034392327, 0.034364443, 0.03434412, 0.034313094, 0.03429265]\n"
     ]
    },
    {
     "name": "stderr",
     "output_type": "stream",
     "text": [
      "                                                                                                                                                                  \r"
     ]
    },
    {
     "name": "stdout",
     "output_type": "stream",
     "text": [
      "Epoch 34, total_loss=0.5587, reg_loss = 0.3805\n",
      "   80.99 s in train({'n_hidden_rhs': [], '..., ConditionalAutoEncoder..., cuda, <torch.utils.data.data..., AdamW ( Parameter Grou..., MSELoss(), 34, max_norm=1)\n",
      "   36.28 s in test({'n_hidden_rhs': [], '..., ConditionalAutoEncoder..., cuda, <torch.utils.data.data..., MSELoss())\n",
      "    4.90 s in test({'n_hidden_rhs': [], '..., ConditionalAutoEncoder..., cuda, <torch.utils.data.data..., MSELoss())\n",
      "Train MSE: 0.18441463\n",
      "Valid MSE: 0.034254458\n",
      "Next Learning Rate: 0.0005\n",
      "[2.9236553, 0.90267, 0.453315, 0.2978265, 0.25305912, 0.23346151, 0.22109304, 0.2126, 0.20779876, 0.20434815, 0.2012357, 0.19915748, 0.19717103, 0.19563426, 0.19447687, 0.19339901, 0.19237477, 0.19152379, 0.19073085, 0.19006969, 0.1893706, 0.1889382, 0.1883792, 0.18785718, 0.18746872, 0.18707822, 0.18674718, 0.18639447, 0.18604164, 0.18573804, 0.18549363, 0.18522325, 0.18491815, 0.18465678]\n",
      "[0.043052133, 0.04099645, 0.0392219, 0.03825157, 0.03770478, 0.037370935, 0.03711661, 0.036898755, 0.036698718, 0.036500417, 0.036304124, 0.03610717, 0.035927758, 0.03575541, 0.035601176, 0.03543721, 0.035280723, 0.035136107, 0.03499003, 0.034870062, 0.034776762, 0.03470557, 0.034642387, 0.0345853, 0.034537114, 0.03449272, 0.034455348, 0.034419555, 0.034392327, 0.034364443, 0.03434412, 0.034313094, 0.03429265, 0.03427013]\n"
     ]
    },
    {
     "name": "stderr",
     "output_type": "stream",
     "text": [
      "                                                                                                                                                                  \r"
     ]
    },
    {
     "name": "stdout",
     "output_type": "stream",
     "text": [
      "Epoch 35, total_loss=0.5627, reg_loss = 0.3773\n",
      "   80.31 s in train({'n_hidden_rhs': [], '..., ConditionalAutoEncoder..., cuda, <torch.utils.data.data..., AdamW ( Parameter Grou..., MSELoss(), 35, max_norm=1)\n",
      "   35.74 s in test({'n_hidden_rhs': [], '..., ConditionalAutoEncoder..., cuda, <torch.utils.data.data..., MSELoss())\n",
      "    4.85 s in test({'n_hidden_rhs': [], '..., ConditionalAutoEncoder..., cuda, <torch.utils.data.data..., MSELoss())\n",
      "Train MSE: 0.18423526\n",
      "Valid MSE: 0.034242842\n",
      "Next Learning Rate: 0.0005\n",
      "[2.9236553, 0.90267, 0.453315, 0.2978265, 0.25305912, 0.23346151, 0.22109304, 0.2126, 0.20779876, 0.20434815, 0.2012357, 0.19915748, 0.19717103, 0.19563426, 0.19447687, 0.19339901, 0.19237477, 0.19152379, 0.19073085, 0.19006969, 0.1893706, 0.1889382, 0.1883792, 0.18785718, 0.18746872, 0.18707822, 0.18674718, 0.18639447, 0.18604164, 0.18573804, 0.18549363, 0.18522325, 0.18491815, 0.18465678, 0.18441463]\n",
      "[0.043052133, 0.04099645, 0.0392219, 0.03825157, 0.03770478, 0.037370935, 0.03711661, 0.036898755, 0.036698718, 0.036500417, 0.036304124, 0.03610717, 0.035927758, 0.03575541, 0.035601176, 0.03543721, 0.035280723, 0.035136107, 0.03499003, 0.034870062, 0.034776762, 0.03470557, 0.034642387, 0.0345853, 0.034537114, 0.03449272, 0.034455348, 0.034419555, 0.034392327, 0.034364443, 0.03434412, 0.034313094, 0.03429265, 0.03427013, 0.034254458]\n"
     ]
    },
    {
     "name": "stderr",
     "output_type": "stream",
     "text": [
      "                                                                                                                                                                  \r"
     ]
    },
    {
     "name": "stdout",
     "output_type": "stream",
     "text": [
      "Epoch 36, total_loss=0.5523, reg_loss = 0.3742\n",
      "   81.88 s in train({'n_hidden_rhs': [], '..., ConditionalAutoEncoder..., cuda, <torch.utils.data.data..., AdamW ( Parameter Grou..., MSELoss(), 36, max_norm=1)\n",
      "   36.06 s in test({'n_hidden_rhs': [], '..., ConditionalAutoEncoder..., cuda, <torch.utils.data.data..., MSELoss())\n",
      "    4.82 s in test({'n_hidden_rhs': [], '..., ConditionalAutoEncoder..., cuda, <torch.utils.data.data..., MSELoss())\n",
      "Train MSE: 0.18403576\n",
      "Valid MSE: 0.03422336\n",
      "Next Learning Rate: 0.0005\n",
      "[2.9236553, 0.90267, 0.453315, 0.2978265, 0.25305912, 0.23346151, 0.22109304, 0.2126, 0.20779876, 0.20434815, 0.2012357, 0.19915748, 0.19717103, 0.19563426, 0.19447687, 0.19339901, 0.19237477, 0.19152379, 0.19073085, 0.19006969, 0.1893706, 0.1889382, 0.1883792, 0.18785718, 0.18746872, 0.18707822, 0.18674718, 0.18639447, 0.18604164, 0.18573804, 0.18549363, 0.18522325, 0.18491815, 0.18465678, 0.18441463, 0.18423526]\n",
      "[0.043052133, 0.04099645, 0.0392219, 0.03825157, 0.03770478, 0.037370935, 0.03711661, 0.036898755, 0.036698718, 0.036500417, 0.036304124, 0.03610717, 0.035927758, 0.03575541, 0.035601176, 0.03543721, 0.035280723, 0.035136107, 0.03499003, 0.034870062, 0.034776762, 0.03470557, 0.034642387, 0.0345853, 0.034537114, 0.03449272, 0.034455348, 0.034419555, 0.034392327, 0.034364443, 0.03434412, 0.034313094, 0.03429265, 0.03427013, 0.034254458, 0.034242842]\n"
     ]
    },
    {
     "name": "stderr",
     "output_type": "stream",
     "text": [
      "                                                                                                                                                                  \r"
     ]
    },
    {
     "name": "stdout",
     "output_type": "stream",
     "text": [
      "Epoch 37, total_loss=0.5552, reg_loss = 0.3711\n",
      "   81.60 s in train({'n_hidden_rhs': [], '..., ConditionalAutoEncoder..., cuda, <torch.utils.data.data..., AdamW ( Parameter Grou..., MSELoss(), 37, max_norm=1)\n",
      "   36.21 s in test({'n_hidden_rhs': [], '..., ConditionalAutoEncoder..., cuda, <torch.utils.data.data..., MSELoss())\n",
      "    4.85 s in test({'n_hidden_rhs': [], '..., ConditionalAutoEncoder..., cuda, <torch.utils.data.data..., MSELoss())\n",
      "Train MSE: 0.18375202\n",
      "Valid MSE: 0.03421207\n",
      "Next Learning Rate: 0.0005\n",
      "[2.9236553, 0.90267, 0.453315, 0.2978265, 0.25305912, 0.23346151, 0.22109304, 0.2126, 0.20779876, 0.20434815, 0.2012357, 0.19915748, 0.19717103, 0.19563426, 0.19447687, 0.19339901, 0.19237477, 0.19152379, 0.19073085, 0.19006969, 0.1893706, 0.1889382, 0.1883792, 0.18785718, 0.18746872, 0.18707822, 0.18674718, 0.18639447, 0.18604164, 0.18573804, 0.18549363, 0.18522325, 0.18491815, 0.18465678, 0.18441463, 0.18423526, 0.18403576]\n",
      "[0.043052133, 0.04099645, 0.0392219, 0.03825157, 0.03770478, 0.037370935, 0.03711661, 0.036898755, 0.036698718, 0.036500417, 0.036304124, 0.03610717, 0.035927758, 0.03575541, 0.035601176, 0.03543721, 0.035280723, 0.035136107, 0.03499003, 0.034870062, 0.034776762, 0.03470557, 0.034642387, 0.0345853, 0.034537114, 0.03449272, 0.034455348, 0.034419555, 0.034392327, 0.034364443, 0.03434412, 0.034313094, 0.03429265, 0.03427013, 0.034254458, 0.034242842, 0.03422336]\n"
     ]
    },
    {
     "name": "stderr",
     "output_type": "stream",
     "text": [
      "                                                                                                                                                                  \r"
     ]
    },
    {
     "name": "stdout",
     "output_type": "stream",
     "text": [
      "Epoch 38, total_loss=0.5499, reg_loss = 0.3681\n",
      "   81.83 s in train({'n_hidden_rhs': [], '..., ConditionalAutoEncoder..., cuda, <torch.utils.data.data..., AdamW ( Parameter Grou..., MSELoss(), 38, max_norm=1)\n",
      "   36.11 s in test({'n_hidden_rhs': [], '..., ConditionalAutoEncoder..., cuda, <torch.utils.data.data..., MSELoss())\n",
      "    4.94 s in test({'n_hidden_rhs': [], '..., ConditionalAutoEncoder..., cuda, <torch.utils.data.data..., MSELoss())\n",
      "Train MSE: 0.18369849\n",
      "Valid MSE: 0.03420089\n",
      "Next Learning Rate: 0.0005\n",
      "[2.9236553, 0.90267, 0.453315, 0.2978265, 0.25305912, 0.23346151, 0.22109304, 0.2126, 0.20779876, 0.20434815, 0.2012357, 0.19915748, 0.19717103, 0.19563426, 0.19447687, 0.19339901, 0.19237477, 0.19152379, 0.19073085, 0.19006969, 0.1893706, 0.1889382, 0.1883792, 0.18785718, 0.18746872, 0.18707822, 0.18674718, 0.18639447, 0.18604164, 0.18573804, 0.18549363, 0.18522325, 0.18491815, 0.18465678, 0.18441463, 0.18423526, 0.18403576, 0.18375202]\n",
      "[0.043052133, 0.04099645, 0.0392219, 0.03825157, 0.03770478, 0.037370935, 0.03711661, 0.036898755, 0.036698718, 0.036500417, 0.036304124, 0.03610717, 0.035927758, 0.03575541, 0.035601176, 0.03543721, 0.035280723, 0.035136107, 0.03499003, 0.034870062, 0.034776762, 0.03470557, 0.034642387, 0.0345853, 0.034537114, 0.03449272, 0.034455348, 0.034419555, 0.034392327, 0.034364443, 0.03434412, 0.034313094, 0.03429265, 0.03427013, 0.034254458, 0.034242842, 0.03422336, 0.03421207]\n"
     ]
    },
    {
     "name": "stderr",
     "output_type": "stream",
     "text": [
      "                                                                                                                                                                  \r"
     ]
    },
    {
     "name": "stdout",
     "output_type": "stream",
     "text": [
      "Epoch 39, total_loss=0.5456, reg_loss = 0.3651\n",
      "   81.84 s in train({'n_hidden_rhs': [], '..., ConditionalAutoEncoder..., cuda, <torch.utils.data.data..., AdamW ( Parameter Grou..., MSELoss(), 39, max_norm=1)\n",
      "   36.15 s in test({'n_hidden_rhs': [], '..., ConditionalAutoEncoder..., cuda, <torch.utils.data.data..., MSELoss())\n",
      "    4.90 s in test({'n_hidden_rhs': [], '..., ConditionalAutoEncoder..., cuda, <torch.utils.data.data..., MSELoss())\n",
      "Train MSE: 0.18338494\n",
      "Valid MSE: 0.034191024\n",
      "Next Learning Rate: 0.0005\n",
      "[2.9236553, 0.90267, 0.453315, 0.2978265, 0.25305912, 0.23346151, 0.22109304, 0.2126, 0.20779876, 0.20434815, 0.2012357, 0.19915748, 0.19717103, 0.19563426, 0.19447687, 0.19339901, 0.19237477, 0.19152379, 0.19073085, 0.19006969, 0.1893706, 0.1889382, 0.1883792, 0.18785718, 0.18746872, 0.18707822, 0.18674718, 0.18639447, 0.18604164, 0.18573804, 0.18549363, 0.18522325, 0.18491815, 0.18465678, 0.18441463, 0.18423526, 0.18403576, 0.18375202, 0.18369849]\n",
      "[0.043052133, 0.04099645, 0.0392219, 0.03825157, 0.03770478, 0.037370935, 0.03711661, 0.036898755, 0.036698718, 0.036500417, 0.036304124, 0.03610717, 0.035927758, 0.03575541, 0.035601176, 0.03543721, 0.035280723, 0.035136107, 0.03499003, 0.034870062, 0.034776762, 0.03470557, 0.034642387, 0.0345853, 0.034537114, 0.03449272, 0.034455348, 0.034419555, 0.034392327, 0.034364443, 0.03434412, 0.034313094, 0.03429265, 0.03427013, 0.034254458, 0.034242842, 0.03422336, 0.03421207, 0.03420089]\n"
     ]
    },
    {
     "name": "stderr",
     "output_type": "stream",
     "text": [
      "                                                                                                                                                                  \r"
     ]
    },
    {
     "name": "stdout",
     "output_type": "stream",
     "text": [
      "Epoch 40, total_loss=0.5421, reg_loss = 0.3622\n",
      "   82.34 s in train({'n_hidden_rhs': [], '..., ConditionalAutoEncoder..., cuda, <torch.utils.data.data..., AdamW ( Parameter Grou..., MSELoss(), 40, max_norm=1)\n",
      "   36.34 s in test({'n_hidden_rhs': [], '..., ConditionalAutoEncoder..., cuda, <torch.utils.data.data..., MSELoss())\n",
      "    4.97 s in test({'n_hidden_rhs': [], '..., ConditionalAutoEncoder..., cuda, <torch.utils.data.data..., MSELoss())\n",
      "Train MSE: 0.18323447\n",
      "Valid MSE: 0.03418394\n",
      "Next Learning Rate: 0.0005\n",
      "[2.9236553, 0.90267, 0.453315, 0.2978265, 0.25305912, 0.23346151, 0.22109304, 0.2126, 0.20779876, 0.20434815, 0.2012357, 0.19915748, 0.19717103, 0.19563426, 0.19447687, 0.19339901, 0.19237477, 0.19152379, 0.19073085, 0.19006969, 0.1893706, 0.1889382, 0.1883792, 0.18785718, 0.18746872, 0.18707822, 0.18674718, 0.18639447, 0.18604164, 0.18573804, 0.18549363, 0.18522325, 0.18491815, 0.18465678, 0.18441463, 0.18423526, 0.18403576, 0.18375202, 0.18369849, 0.18338494]\n",
      "[0.043052133, 0.04099645, 0.0392219, 0.03825157, 0.03770478, 0.037370935, 0.03711661, 0.036898755, 0.036698718, 0.036500417, 0.036304124, 0.03610717, 0.035927758, 0.03575541, 0.035601176, 0.03543721, 0.035280723, 0.035136107, 0.03499003, 0.034870062, 0.034776762, 0.03470557, 0.034642387, 0.0345853, 0.034537114, 0.03449272, 0.034455348, 0.034419555, 0.034392327, 0.034364443, 0.03434412, 0.034313094, 0.03429265, 0.03427013, 0.034254458, 0.034242842, 0.03422336, 0.03421207, 0.03420089, 0.034191024]\n"
     ]
    },
    {
     "name": "stderr",
     "output_type": "stream",
     "text": [
      "                                                                                                                                                                  \r"
     ]
    },
    {
     "name": "stdout",
     "output_type": "stream",
     "text": [
      "Epoch 41, total_loss=0.5534, reg_loss = 0.3592\n",
      "   81.96 s in train({'n_hidden_rhs': [], '..., ConditionalAutoEncoder..., cuda, <torch.utils.data.data..., AdamW ( Parameter Grou..., MSELoss(), 41, max_norm=1)\n",
      "   37.18 s in test({'n_hidden_rhs': [], '..., ConditionalAutoEncoder..., cuda, <torch.utils.data.data..., MSELoss())\n",
      "    5.01 s in test({'n_hidden_rhs': [], '..., ConditionalAutoEncoder..., cuda, <torch.utils.data.data..., MSELoss())\n",
      "Train MSE: 0.18308152\n",
      "Valid MSE: 0.034178466\n",
      "Next Learning Rate: 0.0005\n",
      "[2.9236553, 0.90267, 0.453315, 0.2978265, 0.25305912, 0.23346151, 0.22109304, 0.2126, 0.20779876, 0.20434815, 0.2012357, 0.19915748, 0.19717103, 0.19563426, 0.19447687, 0.19339901, 0.19237477, 0.19152379, 0.19073085, 0.19006969, 0.1893706, 0.1889382, 0.1883792, 0.18785718, 0.18746872, 0.18707822, 0.18674718, 0.18639447, 0.18604164, 0.18573804, 0.18549363, 0.18522325, 0.18491815, 0.18465678, 0.18441463, 0.18423526, 0.18403576, 0.18375202, 0.18369849, 0.18338494, 0.18323447]\n",
      "[0.043052133, 0.04099645, 0.0392219, 0.03825157, 0.03770478, 0.037370935, 0.03711661, 0.036898755, 0.036698718, 0.036500417, 0.036304124, 0.03610717, 0.035927758, 0.03575541, 0.035601176, 0.03543721, 0.035280723, 0.035136107, 0.03499003, 0.034870062, 0.034776762, 0.03470557, 0.034642387, 0.0345853, 0.034537114, 0.03449272, 0.034455348, 0.034419555, 0.034392327, 0.034364443, 0.03434412, 0.034313094, 0.03429265, 0.03427013, 0.034254458, 0.034242842, 0.03422336, 0.03421207, 0.03420089, 0.034191024, 0.03418394]\n"
     ]
    },
    {
     "name": "stderr",
     "output_type": "stream",
     "text": [
      "                                                                                                                                                                  \r"
     ]
    },
    {
     "name": "stdout",
     "output_type": "stream",
     "text": [
      "Epoch 42, total_loss=0.5377, reg_loss = 0.3563\n",
      "   82.98 s in train({'n_hidden_rhs': [], '..., ConditionalAutoEncoder..., cuda, <torch.utils.data.data..., AdamW ( Parameter Grou..., MSELoss(), 42, max_norm=1)\n",
      "   36.99 s in test({'n_hidden_rhs': [], '..., ConditionalAutoEncoder..., cuda, <torch.utils.data.data..., MSELoss())\n",
      "    5.07 s in test({'n_hidden_rhs': [], '..., ConditionalAutoEncoder..., cuda, <torch.utils.data.data..., MSELoss())\n",
      "Train MSE: 0.18296598\n",
      "Valid MSE: 0.034171395\n",
      "Next Learning Rate: 0.0005\n",
      "[2.9236553, 0.90267, 0.453315, 0.2978265, 0.25305912, 0.23346151, 0.22109304, 0.2126, 0.20779876, 0.20434815, 0.2012357, 0.19915748, 0.19717103, 0.19563426, 0.19447687, 0.19339901, 0.19237477, 0.19152379, 0.19073085, 0.19006969, 0.1893706, 0.1889382, 0.1883792, 0.18785718, 0.18746872, 0.18707822, 0.18674718, 0.18639447, 0.18604164, 0.18573804, 0.18549363, 0.18522325, 0.18491815, 0.18465678, 0.18441463, 0.18423526, 0.18403576, 0.18375202, 0.18369849, 0.18338494, 0.18323447, 0.18308152]\n",
      "[0.043052133, 0.04099645, 0.0392219, 0.03825157, 0.03770478, 0.037370935, 0.03711661, 0.036898755, 0.036698718, 0.036500417, 0.036304124, 0.03610717, 0.035927758, 0.03575541, 0.035601176, 0.03543721, 0.035280723, 0.035136107, 0.03499003, 0.034870062, 0.034776762, 0.03470557, 0.034642387, 0.0345853, 0.034537114, 0.03449272, 0.034455348, 0.034419555, 0.034392327, 0.034364443, 0.03434412, 0.034313094, 0.03429265, 0.03427013, 0.034254458, 0.034242842, 0.03422336, 0.03421207, 0.03420089, 0.034191024, 0.03418394, 0.034178466]\n"
     ]
    },
    {
     "name": "stderr",
     "output_type": "stream",
     "text": [
      "                                                                                                                                                                  \r"
     ]
    },
    {
     "name": "stdout",
     "output_type": "stream",
     "text": [
      "Epoch 43, total_loss=0.5349, reg_loss = 0.3535\n",
      "   82.66 s in train({'n_hidden_rhs': [], '..., ConditionalAutoEncoder..., cuda, <torch.utils.data.data..., AdamW ( Parameter Grou..., MSELoss(), 43, max_norm=1)\n",
      "   36.61 s in test({'n_hidden_rhs': [], '..., ConditionalAutoEncoder..., cuda, <torch.utils.data.data..., MSELoss())\n",
      "    4.97 s in test({'n_hidden_rhs': [], '..., ConditionalAutoEncoder..., cuda, <torch.utils.data.data..., MSELoss())\n",
      "Train MSE: 0.18285133\n",
      "Valid MSE: 0.034166753\n",
      "Next Learning Rate: 0.0005\n",
      "[2.9236553, 0.90267, 0.453315, 0.2978265, 0.25305912, 0.23346151, 0.22109304, 0.2126, 0.20779876, 0.20434815, 0.2012357, 0.19915748, 0.19717103, 0.19563426, 0.19447687, 0.19339901, 0.19237477, 0.19152379, 0.19073085, 0.19006969, 0.1893706, 0.1889382, 0.1883792, 0.18785718, 0.18746872, 0.18707822, 0.18674718, 0.18639447, 0.18604164, 0.18573804, 0.18549363, 0.18522325, 0.18491815, 0.18465678, 0.18441463, 0.18423526, 0.18403576, 0.18375202, 0.18369849, 0.18338494, 0.18323447, 0.18308152, 0.18296598]\n",
      "[0.043052133, 0.04099645, 0.0392219, 0.03825157, 0.03770478, 0.037370935, 0.03711661, 0.036898755, 0.036698718, 0.036500417, 0.036304124, 0.03610717, 0.035927758, 0.03575541, 0.035601176, 0.03543721, 0.035280723, 0.035136107, 0.03499003, 0.034870062, 0.034776762, 0.03470557, 0.034642387, 0.0345853, 0.034537114, 0.03449272, 0.034455348, 0.034419555, 0.034392327, 0.034364443, 0.03434412, 0.034313094, 0.03429265, 0.03427013, 0.034254458, 0.034242842, 0.03422336, 0.03421207, 0.03420089, 0.034191024, 0.03418394, 0.034178466, 0.034171395]\n"
     ]
    },
    {
     "name": "stderr",
     "output_type": "stream",
     "text": [
      "                                                                                                                                                                  \r"
     ]
    },
    {
     "name": "stdout",
     "output_type": "stream",
     "text": [
      "Epoch 44, total_loss=0.5283, reg_loss = 0.3507\n",
      "   82.67 s in train({'n_hidden_rhs': [], '..., ConditionalAutoEncoder..., cuda, <torch.utils.data.data..., AdamW ( Parameter Grou..., MSELoss(), 44, max_norm=1)\n",
      "   36.43 s in test({'n_hidden_rhs': [], '..., ConditionalAutoEncoder..., cuda, <torch.utils.data.data..., MSELoss())\n",
      "    4.99 s in test({'n_hidden_rhs': [], '..., ConditionalAutoEncoder..., cuda, <torch.utils.data.data..., MSELoss())\n",
      "Train MSE: 0.18269093\n",
      "Valid MSE: 0.03416353\n",
      "Next Learning Rate: 0.0005\n",
      "[2.9236553, 0.90267, 0.453315, 0.2978265, 0.25305912, 0.23346151, 0.22109304, 0.2126, 0.20779876, 0.20434815, 0.2012357, 0.19915748, 0.19717103, 0.19563426, 0.19447687, 0.19339901, 0.19237477, 0.19152379, 0.19073085, 0.19006969, 0.1893706, 0.1889382, 0.1883792, 0.18785718, 0.18746872, 0.18707822, 0.18674718, 0.18639447, 0.18604164, 0.18573804, 0.18549363, 0.18522325, 0.18491815, 0.18465678, 0.18441463, 0.18423526, 0.18403576, 0.18375202, 0.18369849, 0.18338494, 0.18323447, 0.18308152, 0.18296598, 0.18285133]\n",
      "[0.043052133, 0.04099645, 0.0392219, 0.03825157, 0.03770478, 0.037370935, 0.03711661, 0.036898755, 0.036698718, 0.036500417, 0.036304124, 0.03610717, 0.035927758, 0.03575541, 0.035601176, 0.03543721, 0.035280723, 0.035136107, 0.03499003, 0.034870062, 0.034776762, 0.03470557, 0.034642387, 0.0345853, 0.034537114, 0.03449272, 0.034455348, 0.034419555, 0.034392327, 0.034364443, 0.03434412, 0.034313094, 0.03429265, 0.03427013, 0.034254458, 0.034242842, 0.03422336, 0.03421207, 0.03420089, 0.034191024, 0.03418394, 0.034178466, 0.034171395, 0.034166753]\n"
     ]
    },
    {
     "name": "stderr",
     "output_type": "stream",
     "text": [
      "                                                                                                                                                                  \r"
     ]
    },
    {
     "name": "stdout",
     "output_type": "stream",
     "text": [
      "Epoch 45, total_loss=0.5260, reg_loss = 0.3479\n",
      "   82.64 s in train({'n_hidden_rhs': [], '..., ConditionalAutoEncoder..., cuda, <torch.utils.data.data..., AdamW ( Parameter Grou..., MSELoss(), 45, max_norm=1)\n",
      "   36.71 s in test({'n_hidden_rhs': [], '..., ConditionalAutoEncoder..., cuda, <torch.utils.data.data..., MSELoss())\n",
      "    4.92 s in test({'n_hidden_rhs': [], '..., ConditionalAutoEncoder..., cuda, <torch.utils.data.data..., MSELoss())\n",
      "Train MSE: 0.1827588\n",
      "Valid MSE: 0.034156986\n",
      "Next Learning Rate: 0.0005\n",
      "[2.9236553, 0.90267, 0.453315, 0.2978265, 0.25305912, 0.23346151, 0.22109304, 0.2126, 0.20779876, 0.20434815, 0.2012357, 0.19915748, 0.19717103, 0.19563426, 0.19447687, 0.19339901, 0.19237477, 0.19152379, 0.19073085, 0.19006969, 0.1893706, 0.1889382, 0.1883792, 0.18785718, 0.18746872, 0.18707822, 0.18674718, 0.18639447, 0.18604164, 0.18573804, 0.18549363, 0.18522325, 0.18491815, 0.18465678, 0.18441463, 0.18423526, 0.18403576, 0.18375202, 0.18369849, 0.18338494, 0.18323447, 0.18308152, 0.18296598, 0.18285133, 0.18269093]\n",
      "[0.043052133, 0.04099645, 0.0392219, 0.03825157, 0.03770478, 0.037370935, 0.03711661, 0.036898755, 0.036698718, 0.036500417, 0.036304124, 0.03610717, 0.035927758, 0.03575541, 0.035601176, 0.03543721, 0.035280723, 0.035136107, 0.03499003, 0.034870062, 0.034776762, 0.03470557, 0.034642387, 0.0345853, 0.034537114, 0.03449272, 0.034455348, 0.034419555, 0.034392327, 0.034364443, 0.03434412, 0.034313094, 0.03429265, 0.03427013, 0.034254458, 0.034242842, 0.03422336, 0.03421207, 0.03420089, 0.034191024, 0.03418394, 0.034178466, 0.034171395, 0.034166753, 0.03416353]\n"
     ]
    },
    {
     "name": "stderr",
     "output_type": "stream",
     "text": [
      "                                                                                                                                                                  \r"
     ]
    },
    {
     "name": "stdout",
     "output_type": "stream",
     "text": [
      "Epoch 46, total_loss=0.5248, reg_loss = 0.3452\n",
      "   81.72 s in train({'n_hidden_rhs': [], '..., ConditionalAutoEncoder..., cuda, <torch.utils.data.data..., AdamW ( Parameter Grou..., MSELoss(), 46, max_norm=1)\n",
      "   36.66 s in test({'n_hidden_rhs': [], '..., ConditionalAutoEncoder..., cuda, <torch.utils.data.data..., MSELoss())\n",
      "    5.00 s in test({'n_hidden_rhs': [], '..., ConditionalAutoEncoder..., cuda, <torch.utils.data.data..., MSELoss())\n",
      "Train MSE: 0.18284279\n",
      "Valid MSE: 0.03415276\n",
      "Next Learning Rate: 0.00025\n",
      "[2.9236553, 0.90267, 0.453315, 0.2978265, 0.25305912, 0.23346151, 0.22109304, 0.2126, 0.20779876, 0.20434815, 0.2012357, 0.19915748, 0.19717103, 0.19563426, 0.19447687, 0.19339901, 0.19237477, 0.19152379, 0.19073085, 0.19006969, 0.1893706, 0.1889382, 0.1883792, 0.18785718, 0.18746872, 0.18707822, 0.18674718, 0.18639447, 0.18604164, 0.18573804, 0.18549363, 0.18522325, 0.18491815, 0.18465678, 0.18441463, 0.18423526, 0.18403576, 0.18375202, 0.18369849, 0.18338494, 0.18323447, 0.18308152, 0.18296598, 0.18285133, 0.18269093, 0.1827588]\n",
      "[0.043052133, 0.04099645, 0.0392219, 0.03825157, 0.03770478, 0.037370935, 0.03711661, 0.036898755, 0.036698718, 0.036500417, 0.036304124, 0.03610717, 0.035927758, 0.03575541, 0.035601176, 0.03543721, 0.035280723, 0.035136107, 0.03499003, 0.034870062, 0.034776762, 0.03470557, 0.034642387, 0.0345853, 0.034537114, 0.03449272, 0.034455348, 0.034419555, 0.034392327, 0.034364443, 0.03434412, 0.034313094, 0.03429265, 0.03427013, 0.034254458, 0.034242842, 0.03422336, 0.03421207, 0.03420089, 0.034191024, 0.03418394, 0.034178466, 0.034171395, 0.034166753, 0.03416353, 0.034156986]\n"
     ]
    },
    {
     "name": "stderr",
     "output_type": "stream",
     "text": [
      "                                                                                                                                                                  \r"
     ]
    },
    {
     "name": "stdout",
     "output_type": "stream",
     "text": [
      "Epoch 47, total_loss=0.5222, reg_loss = 0.3431\n",
      "   82.29 s in train({'n_hidden_rhs': [], '..., ConditionalAutoEncoder..., cuda, <torch.utils.data.data..., AdamW ( Parameter Grou..., MSELoss(), 47, max_norm=1)\n",
      "   36.58 s in test({'n_hidden_rhs': [], '..., ConditionalAutoEncoder..., cuda, <torch.utils.data.data..., MSELoss())\n",
      "    4.93 s in test({'n_hidden_rhs': [], '..., ConditionalAutoEncoder..., cuda, <torch.utils.data.data..., MSELoss())\n",
      "Train MSE: 0.18245386\n",
      "Valid MSE: 0.034151807\n",
      "Next Learning Rate: 0.00025\n",
      "[2.9236553, 0.90267, 0.453315, 0.2978265, 0.25305912, 0.23346151, 0.22109304, 0.2126, 0.20779876, 0.20434815, 0.2012357, 0.19915748, 0.19717103, 0.19563426, 0.19447687, 0.19339901, 0.19237477, 0.19152379, 0.19073085, 0.19006969, 0.1893706, 0.1889382, 0.1883792, 0.18785718, 0.18746872, 0.18707822, 0.18674718, 0.18639447, 0.18604164, 0.18573804, 0.18549363, 0.18522325, 0.18491815, 0.18465678, 0.18441463, 0.18423526, 0.18403576, 0.18375202, 0.18369849, 0.18338494, 0.18323447, 0.18308152, 0.18296598, 0.18285133, 0.18269093, 0.1827588, 0.18284279]\n",
      "[0.043052133, 0.04099645, 0.0392219, 0.03825157, 0.03770478, 0.037370935, 0.03711661, 0.036898755, 0.036698718, 0.036500417, 0.036304124, 0.03610717, 0.035927758, 0.03575541, 0.035601176, 0.03543721, 0.035280723, 0.035136107, 0.03499003, 0.034870062, 0.034776762, 0.03470557, 0.034642387, 0.0345853, 0.034537114, 0.03449272, 0.034455348, 0.034419555, 0.034392327, 0.034364443, 0.03434412, 0.034313094, 0.03429265, 0.03427013, 0.034254458, 0.034242842, 0.03422336, 0.03421207, 0.03420089, 0.034191024, 0.03418394, 0.034178466, 0.034171395, 0.034166753, 0.03416353, 0.034156986, 0.03415276]\n"
     ]
    },
    {
     "name": "stderr",
     "output_type": "stream",
     "text": [
      "                                                                                                                                                                  \r"
     ]
    },
    {
     "name": "stdout",
     "output_type": "stream",
     "text": [
      "Epoch 48, total_loss=0.5203, reg_loss = 0.3418\n",
      "   82.83 s in train({'n_hidden_rhs': [], '..., ConditionalAutoEncoder..., cuda, <torch.utils.data.data..., AdamW ( Parameter Grou..., MSELoss(), 48, max_norm=1)\n",
      "   36.22 s in test({'n_hidden_rhs': [], '..., ConditionalAutoEncoder..., cuda, <torch.utils.data.data..., MSELoss())\n",
      "    4.94 s in test({'n_hidden_rhs': [], '..., ConditionalAutoEncoder..., cuda, <torch.utils.data.data..., MSELoss())\n",
      "Train MSE: 0.1823906\n",
      "Valid MSE: 0.034151375\n",
      "Next Learning Rate: 0.00025\n",
      "[2.9236553, 0.90267, 0.453315, 0.2978265, 0.25305912, 0.23346151, 0.22109304, 0.2126, 0.20779876, 0.20434815, 0.2012357, 0.19915748, 0.19717103, 0.19563426, 0.19447687, 0.19339901, 0.19237477, 0.19152379, 0.19073085, 0.19006969, 0.1893706, 0.1889382, 0.1883792, 0.18785718, 0.18746872, 0.18707822, 0.18674718, 0.18639447, 0.18604164, 0.18573804, 0.18549363, 0.18522325, 0.18491815, 0.18465678, 0.18441463, 0.18423526, 0.18403576, 0.18375202, 0.18369849, 0.18338494, 0.18323447, 0.18308152, 0.18296598, 0.18285133, 0.18269093, 0.1827588, 0.18284279, 0.18245386]\n",
      "[0.043052133, 0.04099645, 0.0392219, 0.03825157, 0.03770478, 0.037370935, 0.03711661, 0.036898755, 0.036698718, 0.036500417, 0.036304124, 0.03610717, 0.035927758, 0.03575541, 0.035601176, 0.03543721, 0.035280723, 0.035136107, 0.03499003, 0.034870062, 0.034776762, 0.03470557, 0.034642387, 0.0345853, 0.034537114, 0.03449272, 0.034455348, 0.034419555, 0.034392327, 0.034364443, 0.03434412, 0.034313094, 0.03429265, 0.03427013, 0.034254458, 0.034242842, 0.03422336, 0.03421207, 0.03420089, 0.034191024, 0.03418394, 0.034178466, 0.034171395, 0.034166753, 0.03416353, 0.034156986, 0.03415276, 0.034151807]\n"
     ]
    },
    {
     "name": "stderr",
     "output_type": "stream",
     "text": [
      "                                                                                                                                                                  \r"
     ]
    },
    {
     "name": "stdout",
     "output_type": "stream",
     "text": [
      "Epoch 49, total_loss=0.5215, reg_loss = 0.3404\n",
      "   81.81 s in train({'n_hidden_rhs': [], '..., ConditionalAutoEncoder..., cuda, <torch.utils.data.data..., AdamW ( Parameter Grou..., MSELoss(), 49, max_norm=1)\n",
      "   36.42 s in test({'n_hidden_rhs': [], '..., ConditionalAutoEncoder..., cuda, <torch.utils.data.data..., MSELoss())\n",
      "    5.04 s in test({'n_hidden_rhs': [], '..., ConditionalAutoEncoder..., cuda, <torch.utils.data.data..., MSELoss())\n",
      "Train MSE: 0.18234615\n",
      "Valid MSE: 0.034151845\n",
      "Next Learning Rate: 0.00025\n",
      "[2.9236553, 0.90267, 0.453315, 0.2978265, 0.25305912, 0.23346151, 0.22109304, 0.2126, 0.20779876, 0.20434815, 0.2012357, 0.19915748, 0.19717103, 0.19563426, 0.19447687, 0.19339901, 0.19237477, 0.19152379, 0.19073085, 0.19006969, 0.1893706, 0.1889382, 0.1883792, 0.18785718, 0.18746872, 0.18707822, 0.18674718, 0.18639447, 0.18604164, 0.18573804, 0.18549363, 0.18522325, 0.18491815, 0.18465678, 0.18441463, 0.18423526, 0.18403576, 0.18375202, 0.18369849, 0.18338494, 0.18323447, 0.18308152, 0.18296598, 0.18285133, 0.18269093, 0.1827588, 0.18284279, 0.18245386, 0.1823906]\n",
      "[0.043052133, 0.04099645, 0.0392219, 0.03825157, 0.03770478, 0.037370935, 0.03711661, 0.036898755, 0.036698718, 0.036500417, 0.036304124, 0.03610717, 0.035927758, 0.03575541, 0.035601176, 0.03543721, 0.035280723, 0.035136107, 0.03499003, 0.034870062, 0.034776762, 0.03470557, 0.034642387, 0.0345853, 0.034537114, 0.03449272, 0.034455348, 0.034419555, 0.034392327, 0.034364443, 0.03434412, 0.034313094, 0.03429265, 0.03427013, 0.034254458, 0.034242842, 0.03422336, 0.03421207, 0.03420089, 0.034191024, 0.03418394, 0.034178466, 0.034171395, 0.034166753, 0.03416353, 0.034156986, 0.03415276, 0.034151807, 0.034151375]\n"
     ]
    },
    {
     "name": "stderr",
     "output_type": "stream",
     "text": [
      "                                                                                                                                                                  \r"
     ]
    },
    {
     "name": "stdout",
     "output_type": "stream",
     "text": [
      "Epoch 50, total_loss=0.5188, reg_loss = 0.3391\n",
      "   83.09 s in train({'n_hidden_rhs': [], '..., ConditionalAutoEncoder..., cuda, <torch.utils.data.data..., AdamW ( Parameter Grou..., MSELoss(), 50, max_norm=1)\n",
      "   36.58 s in test({'n_hidden_rhs': [], '..., ConditionalAutoEncoder..., cuda, <torch.utils.data.data..., MSELoss())\n",
      "    5.01 s in test({'n_hidden_rhs': [], '..., ConditionalAutoEncoder..., cuda, <torch.utils.data.data..., MSELoss())\n",
      "Train MSE: 0.1822979\n",
      "Valid MSE: 0.034152016\n",
      "Next Learning Rate: 0.00025\n",
      "[2.9236553, 0.90267, 0.453315, 0.2978265, 0.25305912, 0.23346151, 0.22109304, 0.2126, 0.20779876, 0.20434815, 0.2012357, 0.19915748, 0.19717103, 0.19563426, 0.19447687, 0.19339901, 0.19237477, 0.19152379, 0.19073085, 0.19006969, 0.1893706, 0.1889382, 0.1883792, 0.18785718, 0.18746872, 0.18707822, 0.18674718, 0.18639447, 0.18604164, 0.18573804, 0.18549363, 0.18522325, 0.18491815, 0.18465678, 0.18441463, 0.18423526, 0.18403576, 0.18375202, 0.18369849, 0.18338494, 0.18323447, 0.18308152, 0.18296598, 0.18285133, 0.18269093, 0.1827588, 0.18284279, 0.18245386, 0.1823906, 0.18234615]\n",
      "[0.043052133, 0.04099645, 0.0392219, 0.03825157, 0.03770478, 0.037370935, 0.03711661, 0.036898755, 0.036698718, 0.036500417, 0.036304124, 0.03610717, 0.035927758, 0.03575541, 0.035601176, 0.03543721, 0.035280723, 0.035136107, 0.03499003, 0.034870062, 0.034776762, 0.03470557, 0.034642387, 0.0345853, 0.034537114, 0.03449272, 0.034455348, 0.034419555, 0.034392327, 0.034364443, 0.03434412, 0.034313094, 0.03429265, 0.03427013, 0.034254458, 0.034242842, 0.03422336, 0.03421207, 0.03420089, 0.034191024, 0.03418394, 0.034178466, 0.034171395, 0.034166753, 0.03416353, 0.034156986, 0.03415276, 0.034151807, 0.034151375, 0.034151845]\n"
     ]
    },
    {
     "name": "stderr",
     "output_type": "stream",
     "text": [
      "                                                                                                                                                                  \r"
     ]
    },
    {
     "name": "stdout",
     "output_type": "stream",
     "text": [
      "Epoch 51, total_loss=0.5200, reg_loss = 0.3377\n",
      "   82.57 s in train({'n_hidden_rhs': [], '..., ConditionalAutoEncoder..., cuda, <torch.utils.data.data..., AdamW ( Parameter Grou..., MSELoss(), 51, max_norm=1)\n",
      "   36.89 s in test({'n_hidden_rhs': [], '..., ConditionalAutoEncoder..., cuda, <torch.utils.data.data..., MSELoss())\n",
      "    4.96 s in test({'n_hidden_rhs': [], '..., ConditionalAutoEncoder..., cuda, <torch.utils.data.data..., MSELoss())\n",
      "Train MSE: 0.18229257\n",
      "Valid MSE: 0.03415393\n",
      "Next Learning Rate: 0.00025\n",
      "[2.9236553, 0.90267, 0.453315, 0.2978265, 0.25305912, 0.23346151, 0.22109304, 0.2126, 0.20779876, 0.20434815, 0.2012357, 0.19915748, 0.19717103, 0.19563426, 0.19447687, 0.19339901, 0.19237477, 0.19152379, 0.19073085, 0.19006969, 0.1893706, 0.1889382, 0.1883792, 0.18785718, 0.18746872, 0.18707822, 0.18674718, 0.18639447, 0.18604164, 0.18573804, 0.18549363, 0.18522325, 0.18491815, 0.18465678, 0.18441463, 0.18423526, 0.18403576, 0.18375202, 0.18369849, 0.18338494, 0.18323447, 0.18308152, 0.18296598, 0.18285133, 0.18269093, 0.1827588, 0.18284279, 0.18245386, 0.1823906, 0.18234615, 0.1822979]\n",
      "[0.043052133, 0.04099645, 0.0392219, 0.03825157, 0.03770478, 0.037370935, 0.03711661, 0.036898755, 0.036698718, 0.036500417, 0.036304124, 0.03610717, 0.035927758, 0.03575541, 0.035601176, 0.03543721, 0.035280723, 0.035136107, 0.03499003, 0.034870062, 0.034776762, 0.03470557, 0.034642387, 0.0345853, 0.034537114, 0.03449272, 0.034455348, 0.034419555, 0.034392327, 0.034364443, 0.03434412, 0.034313094, 0.03429265, 0.03427013, 0.034254458, 0.034242842, 0.03422336, 0.03421207, 0.03420089, 0.034191024, 0.03418394, 0.034178466, 0.034171395, 0.034166753, 0.03416353, 0.034156986, 0.03415276, 0.034151807, 0.034151375, 0.034151845, 0.034152016]\n"
     ]
    },
    {
     "name": "stderr",
     "output_type": "stream",
     "text": [
      "                                                                                                                                                                  \r"
     ]
    },
    {
     "name": "stdout",
     "output_type": "stream",
     "text": [
      "Epoch 52, total_loss=0.5163, reg_loss = 0.3364\n",
      "   82.64 s in train({'n_hidden_rhs': [], '..., ConditionalAutoEncoder..., cuda, <torch.utils.data.data..., AdamW ( Parameter Grou..., MSELoss(), 52, max_norm=1)\n",
      "   36.81 s in test({'n_hidden_rhs': [], '..., ConditionalAutoEncoder..., cuda, <torch.utils.data.data..., MSELoss())\n",
      "    5.00 s in test({'n_hidden_rhs': [], '..., ConditionalAutoEncoder..., cuda, <torch.utils.data.data..., MSELoss())\n",
      "Train MSE: 0.18226503\n",
      "Valid MSE: 0.03415684\n",
      "Next Learning Rate: 0.00025\n",
      "[2.9236553, 0.90267, 0.453315, 0.2978265, 0.25305912, 0.23346151, 0.22109304, 0.2126, 0.20779876, 0.20434815, 0.2012357, 0.19915748, 0.19717103, 0.19563426, 0.19447687, 0.19339901, 0.19237477, 0.19152379, 0.19073085, 0.19006969, 0.1893706, 0.1889382, 0.1883792, 0.18785718, 0.18746872, 0.18707822, 0.18674718, 0.18639447, 0.18604164, 0.18573804, 0.18549363, 0.18522325, 0.18491815, 0.18465678, 0.18441463, 0.18423526, 0.18403576, 0.18375202, 0.18369849, 0.18338494, 0.18323447, 0.18308152, 0.18296598, 0.18285133, 0.18269093, 0.1827588, 0.18284279, 0.18245386, 0.1823906, 0.18234615, 0.1822979, 0.18229257]\n",
      "[0.043052133, 0.04099645, 0.0392219, 0.03825157, 0.03770478, 0.037370935, 0.03711661, 0.036898755, 0.036698718, 0.036500417, 0.036304124, 0.03610717, 0.035927758, 0.03575541, 0.035601176, 0.03543721, 0.035280723, 0.035136107, 0.03499003, 0.034870062, 0.034776762, 0.03470557, 0.034642387, 0.0345853, 0.034537114, 0.03449272, 0.034455348, 0.034419555, 0.034392327, 0.034364443, 0.03434412, 0.034313094, 0.03429265, 0.03427013, 0.034254458, 0.034242842, 0.03422336, 0.03421207, 0.03420089, 0.034191024, 0.03418394, 0.034178466, 0.034171395, 0.034166753, 0.03416353, 0.034156986, 0.03415276, 0.034151807, 0.034151375, 0.034151845, 0.034152016, 0.03415393]\n",
      "Training done. Evaluating...\n"
     ]
    },
    {
     "name": "stderr",
     "output_type": "stream",
     "text": [
      "100%|███████████████████████████████████████████████████████████████████████████████████████████████████████████████████████████████| 6/6 [00:08<00:00,  1.36s/it]\n",
      "100%|███████████████████████████████████████████████████████████████████████████████████████████████████████████████████████████████| 4/4 [00:05<00:00,  1.43s/it]\n"
     ]
    },
    {
     "name": "stdout",
     "output_type": "stream",
     "text": [
      "Params 8: (6, (16, 8, 4), False)\n",
      "ConditionalAutoEncoder(\n",
      "  (lhs): Sequential(\n",
      "    (0): LayerNorm((29,), eps=1e-05, elementwise_affine=True)\n",
      "    (1): Linear(in_features=29, out_features=16, bias=True)\n",
      "    (2): SELU()\n",
      "    (3): LayerNorm((16,), eps=1e-05, elementwise_affine=True)\n",
      "    (4): Linear(in_features=16, out_features=8, bias=True)\n",
      "    (5): SELU()\n",
      "    (6): LayerNorm((8,), eps=1e-05, elementwise_affine=True)\n",
      "    (7): Linear(in_features=8, out_features=4, bias=True)\n",
      "    (8): SELU()\n",
      "    (9): Linear(in_features=4, out_features=6, bias=True)\n",
      "  )\n",
      "  (rhs): Sequential(\n",
      "    (0): Linear(in_features=30, out_features=6, bias=True)\n",
      "  )\n",
      ")\n",
      "   49.13 s in test({'n_hidden_rhs': [], '..., ConditionalAutoEncoder..., cuda, <torch.utils.data.data..., MSELoss())\n",
      "    6.29 s in test({'n_hidden_rhs': [], '..., ConditionalAutoEncoder..., cuda, <torch.utils.data.data..., MSELoss())\n",
      "Pre-Train Train MSE: 2.3782287\n",
      "Pre-Train Valid MSE: 0.044722207\n"
     ]
    },
    {
     "name": "stderr",
     "output_type": "stream",
     "text": [
      "                                                                                                                                                                  \r"
     ]
    },
    {
     "name": "stdout",
     "output_type": "stream",
     "text": [
      "Epoch 1, total_loss=2.0603, reg_loss = 0.5767\n",
      "  111.22 s in train({'n_hidden_rhs': [], '..., ConditionalAutoEncoder..., cuda, <torch.utils.data.data..., AdamW ( Parameter Grou..., MSELoss(), 1, max_norm=1)\n",
      "   47.50 s in test({'n_hidden_rhs': [], '..., ConditionalAutoEncoder..., cuda, <torch.utils.data.data..., MSELoss())\n",
      "    6.41 s in test({'n_hidden_rhs': [], '..., ConditionalAutoEncoder..., cuda, <torch.utils.data.data..., MSELoss())\n",
      "Train MSE: 0.7950086\n",
      "Valid MSE: 0.04354419\n",
      "Next Learning Rate: 0.0005\n",
      "[2.3782287]\n",
      "[0.044722207]\n"
     ]
    },
    {
     "name": "stderr",
     "output_type": "stream",
     "text": [
      "                                                                                                                                                                  \r"
     ]
    },
    {
     "name": "stdout",
     "output_type": "stream",
     "text": [
      "Epoch 2, total_loss=1.1120, reg_loss = 0.5699\n",
      "  111.43 s in train({'n_hidden_rhs': [], '..., ConditionalAutoEncoder..., cuda, <torch.utils.data.data..., AdamW ( Parameter Grou..., MSELoss(), 2, max_norm=1)\n",
      "   48.18 s in test({'n_hidden_rhs': [], '..., ConditionalAutoEncoder..., cuda, <torch.utils.data.data..., MSELoss())\n",
      "    6.55 s in test({'n_hidden_rhs': [], '..., ConditionalAutoEncoder..., cuda, <torch.utils.data.data..., MSELoss())\n",
      "Train MSE: 0.35786057\n",
      "Valid MSE: 0.042299516\n",
      "Next Learning Rate: 0.0005\n",
      "[2.3782287, 0.7950086]\n",
      "[0.044722207, 0.04354419]\n"
     ]
    },
    {
     "name": "stderr",
     "output_type": "stream",
     "text": [
      "                                                                                                                                                                  \r"
     ]
    },
    {
     "name": "stdout",
     "output_type": "stream",
     "text": [
      "Epoch 3, total_loss=0.8591, reg_loss = 0.5619\n",
      "  111.97 s in train({'n_hidden_rhs': [], '..., ConditionalAutoEncoder..., cuda, <torch.utils.data.data..., AdamW ( Parameter Grou..., MSELoss(), 3, max_norm=1)\n",
      "   47.43 s in test({'n_hidden_rhs': [], '..., ConditionalAutoEncoder..., cuda, <torch.utils.data.data..., MSELoss())\n",
      "    6.28 s in test({'n_hidden_rhs': [], '..., ConditionalAutoEncoder..., cuda, <torch.utils.data.data..., MSELoss())\n",
      "Train MSE: 0.2447466\n",
      "Valid MSE: 0.0408212\n",
      "Next Learning Rate: 0.0005\n",
      "[2.3782287, 0.7950086, 0.35786057]\n",
      "[0.044722207, 0.04354419, 0.042299516]\n"
     ]
    },
    {
     "name": "stderr",
     "output_type": "stream",
     "text": [
      "                                                                                                                                                                  \r"
     ]
    },
    {
     "name": "stdout",
     "output_type": "stream",
     "text": [
      "Epoch 4, total_loss=0.7866, reg_loss = 0.5531\n",
      "  111.64 s in train({'n_hidden_rhs': [], '..., ConditionalAutoEncoder..., cuda, <torch.utils.data.data..., AdamW ( Parameter Grou..., MSELoss(), 4, max_norm=1)\n",
      "   46.66 s in test({'n_hidden_rhs': [], '..., ConditionalAutoEncoder..., cuda, <torch.utils.data.data..., MSELoss())\n",
      "    6.37 s in test({'n_hidden_rhs': [], '..., ConditionalAutoEncoder..., cuda, <torch.utils.data.data..., MSELoss())\n",
      "Train MSE: 0.2167174\n",
      "Valid MSE: 0.039347395\n",
      "Next Learning Rate: 0.0005\n",
      "[2.3782287, 0.7950086, 0.35786057, 0.2447466]\n",
      "[0.044722207, 0.04354419, 0.042299516, 0.0408212]\n"
     ]
    },
    {
     "name": "stderr",
     "output_type": "stream",
     "text": [
      "                                                                                                                                                                  \r"
     ]
    },
    {
     "name": "stdout",
     "output_type": "stream",
     "text": [
      "Epoch 5, total_loss=0.7518, reg_loss = 0.5438\n",
      "  110.43 s in train({'n_hidden_rhs': [], '..., ConditionalAutoEncoder..., cuda, <torch.utils.data.data..., AdamW ( Parameter Grou..., MSELoss(), 5, max_norm=1)\n",
      "   47.84 s in test({'n_hidden_rhs': [], '..., ConditionalAutoEncoder..., cuda, <torch.utils.data.data..., MSELoss())\n",
      "    6.29 s in test({'n_hidden_rhs': [], '..., ConditionalAutoEncoder..., cuda, <torch.utils.data.data..., MSELoss())\n",
      "Train MSE: 0.20529981\n",
      "Valid MSE: 0.038200196\n",
      "Next Learning Rate: 0.0005\n",
      "[2.3782287, 0.7950086, 0.35786057, 0.2447466, 0.2167174]\n",
      "[0.044722207, 0.04354419, 0.042299516, 0.0408212, 0.039347395]\n"
     ]
    },
    {
     "name": "stderr",
     "output_type": "stream",
     "text": [
      "                                                                                                                                                                  \r"
     ]
    },
    {
     "name": "stdout",
     "output_type": "stream",
     "text": [
      "Epoch 6, total_loss=0.7295, reg_loss = 0.5344\n",
      "  111.36 s in train({'n_hidden_rhs': [], '..., ConditionalAutoEncoder..., cuda, <torch.utils.data.data..., AdamW ( Parameter Grou..., MSELoss(), 6, max_norm=1)\n",
      "   48.06 s in test({'n_hidden_rhs': [], '..., ConditionalAutoEncoder..., cuda, <torch.utils.data.data..., MSELoss())\n",
      "    6.32 s in test({'n_hidden_rhs': [], '..., ConditionalAutoEncoder..., cuda, <torch.utils.data.data..., MSELoss())\n",
      "Train MSE: 0.19954538\n",
      "Valid MSE: 0.037338488\n",
      "Next Learning Rate: 0.0005\n",
      "[2.3782287, 0.7950086, 0.35786057, 0.2447466, 0.2167174, 0.20529981]\n",
      "[0.044722207, 0.04354419, 0.042299516, 0.0408212, 0.039347395, 0.038200196]\n"
     ]
    },
    {
     "name": "stderr",
     "output_type": "stream",
     "text": [
      "                                                                                                                                                                  \r"
     ]
    },
    {
     "name": "stdout",
     "output_type": "stream",
     "text": [
      "Epoch 7, total_loss=0.7221, reg_loss = 0.5249\n",
      "  111.58 s in train({'n_hidden_rhs': [], '..., ConditionalAutoEncoder..., cuda, <torch.utils.data.data..., AdamW ( Parameter Grou..., MSELoss(), 7, max_norm=1)\n",
      "   46.84 s in test({'n_hidden_rhs': [], '..., ConditionalAutoEncoder..., cuda, <torch.utils.data.data..., MSELoss())\n",
      "    6.31 s in test({'n_hidden_rhs': [], '..., ConditionalAutoEncoder..., cuda, <torch.utils.data.data..., MSELoss())\n",
      "Train MSE: 0.19615844\n",
      "Valid MSE: 0.03668665\n",
      "Next Learning Rate: 0.0005\n",
      "[2.3782287, 0.7950086, 0.35786057, 0.2447466, 0.2167174, 0.20529981, 0.19954538]\n",
      "[0.044722207, 0.04354419, 0.042299516, 0.0408212, 0.039347395, 0.038200196, 0.037338488]\n"
     ]
    },
    {
     "name": "stderr",
     "output_type": "stream",
     "text": [
      "                                                                                                                                                                  \r"
     ]
    },
    {
     "name": "stdout",
     "output_type": "stream",
     "text": [
      "Epoch 8, total_loss=0.7047, reg_loss = 0.5155\n",
      "  111.22 s in train({'n_hidden_rhs': [], '..., ConditionalAutoEncoder..., cuda, <torch.utils.data.data..., AdamW ( Parameter Grou..., MSELoss(), 8, max_norm=1)\n",
      "   47.63 s in test({'n_hidden_rhs': [], '..., ConditionalAutoEncoder..., cuda, <torch.utils.data.data..., MSELoss())\n",
      "    6.49 s in test({'n_hidden_rhs': [], '..., ConditionalAutoEncoder..., cuda, <torch.utils.data.data..., MSELoss())\n",
      "Train MSE: 0.1937069\n",
      "Valid MSE: 0.036197264\n",
      "Next Learning Rate: 0.0005\n",
      "[2.3782287, 0.7950086, 0.35786057, 0.2447466, 0.2167174, 0.20529981, 0.19954538, 0.19615844]\n",
      "[0.044722207, 0.04354419, 0.042299516, 0.0408212, 0.039347395, 0.038200196, 0.037338488, 0.03668665]\n"
     ]
    },
    {
     "name": "stderr",
     "output_type": "stream",
     "text": [
      "                                                                                                                                                                  \r"
     ]
    },
    {
     "name": "stdout",
     "output_type": "stream",
     "text": [
      "Epoch 9, total_loss=0.6955, reg_loss = 0.5062\n",
      "  111.99 s in train({'n_hidden_rhs': [], '..., ConditionalAutoEncoder..., cuda, <torch.utils.data.data..., AdamW ( Parameter Grou..., MSELoss(), 9, max_norm=1)\n",
      "   47.25 s in test({'n_hidden_rhs': [], '..., ConditionalAutoEncoder..., cuda, <torch.utils.data.data..., MSELoss())\n",
      "    6.37 s in test({'n_hidden_rhs': [], '..., ConditionalAutoEncoder..., cuda, <torch.utils.data.data..., MSELoss())\n",
      "Train MSE: 0.19180797\n",
      "Valid MSE: 0.03584042\n",
      "Next Learning Rate: 0.0005\n",
      "[2.3782287, 0.7950086, 0.35786057, 0.2447466, 0.2167174, 0.20529981, 0.19954538, 0.19615844, 0.1937069]\n",
      "[0.044722207, 0.04354419, 0.042299516, 0.0408212, 0.039347395, 0.038200196, 0.037338488, 0.03668665, 0.036197264]\n"
     ]
    },
    {
     "name": "stderr",
     "output_type": "stream",
     "text": [
      "                                                                                                                                                                  \r"
     ]
    },
    {
     "name": "stdout",
     "output_type": "stream",
     "text": [
      "Epoch 10, total_loss=0.7167, reg_loss = 0.4971\n",
      "  110.58 s in train({'n_hidden_rhs': [], '..., ConditionalAutoEncoder..., cuda, <torch.utils.data.data..., AdamW ( Parameter Grou..., MSELoss(), 10, max_norm=1)\n",
      "   47.20 s in test({'n_hidden_rhs': [], '..., ConditionalAutoEncoder..., cuda, <torch.utils.data.data..., MSELoss())\n",
      "    6.29 s in test({'n_hidden_rhs': [], '..., ConditionalAutoEncoder..., cuda, <torch.utils.data.data..., MSELoss())\n",
      "Train MSE: 0.19013254\n",
      "Valid MSE: 0.035536814\n",
      "Next Learning Rate: 0.0005\n",
      "[2.3782287, 0.7950086, 0.35786057, 0.2447466, 0.2167174, 0.20529981, 0.19954538, 0.19615844, 0.1937069, 0.19180797]\n",
      "[0.044722207, 0.04354419, 0.042299516, 0.0408212, 0.039347395, 0.038200196, 0.037338488, 0.03668665, 0.036197264, 0.03584042]\n"
     ]
    },
    {
     "name": "stderr",
     "output_type": "stream",
     "text": [
      "                                                                                                                                                                  \r"
     ]
    },
    {
     "name": "stdout",
     "output_type": "stream",
     "text": [
      "Epoch 11, total_loss=0.6752, reg_loss = 0.4882\n",
      "  110.18 s in train({'n_hidden_rhs': [], '..., ConditionalAutoEncoder..., cuda, <torch.utils.data.data..., AdamW ( Parameter Grou..., MSELoss(), 11, max_norm=1)\n",
      "   46.63 s in test({'n_hidden_rhs': [], '..., ConditionalAutoEncoder..., cuda, <torch.utils.data.data..., MSELoss())\n",
      "    6.28 s in test({'n_hidden_rhs': [], '..., ConditionalAutoEncoder..., cuda, <torch.utils.data.data..., MSELoss())\n",
      "Train MSE: 0.18884797\n",
      "Valid MSE: 0.035282157\n",
      "Next Learning Rate: 0.0005\n",
      "[2.3782287, 0.7950086, 0.35786057, 0.2447466, 0.2167174, 0.20529981, 0.19954538, 0.19615844, 0.1937069, 0.19180797, 0.19013254]\n",
      "[0.044722207, 0.04354419, 0.042299516, 0.0408212, 0.039347395, 0.038200196, 0.037338488, 0.03668665, 0.036197264, 0.03584042, 0.035536814]\n"
     ]
    },
    {
     "name": "stderr",
     "output_type": "stream",
     "text": [
      "                                                                                                                                                                  \r"
     ]
    },
    {
     "name": "stdout",
     "output_type": "stream",
     "text": [
      "Epoch 12, total_loss=0.6636, reg_loss = 0.4795\n",
      "  110.72 s in train({'n_hidden_rhs': [], '..., ConditionalAutoEncoder..., cuda, <torch.utils.data.data..., AdamW ( Parameter Grou..., MSELoss(), 12, max_norm=1)\n",
      "   46.70 s in test({'n_hidden_rhs': [], '..., ConditionalAutoEncoder..., cuda, <torch.utils.data.data..., MSELoss())\n",
      "    6.19 s in test({'n_hidden_rhs': [], '..., ConditionalAutoEncoder..., cuda, <torch.utils.data.data..., MSELoss())\n",
      "Train MSE: 0.18788813\n",
      "Valid MSE: 0.035078086\n",
      "Next Learning Rate: 0.0005\n",
      "[2.3782287, 0.7950086, 0.35786057, 0.2447466, 0.2167174, 0.20529981, 0.19954538, 0.19615844, 0.1937069, 0.19180797, 0.19013254, 0.18884797]\n",
      "[0.044722207, 0.04354419, 0.042299516, 0.0408212, 0.039347395, 0.038200196, 0.037338488, 0.03668665, 0.036197264, 0.03584042, 0.035536814, 0.035282157]\n"
     ]
    },
    {
     "name": "stderr",
     "output_type": "stream",
     "text": [
      "                                                                                                                                                                  \r"
     ]
    },
    {
     "name": "stdout",
     "output_type": "stream",
     "text": [
      "Epoch 13, total_loss=0.6499, reg_loss = 0.4711\n",
      "  110.72 s in train({'n_hidden_rhs': [], '..., ConditionalAutoEncoder..., cuda, <torch.utils.data.data..., AdamW ( Parameter Grou..., MSELoss(), 13, max_norm=1)\n",
      "   46.71 s in test({'n_hidden_rhs': [], '..., ConditionalAutoEncoder..., cuda, <torch.utils.data.data..., MSELoss())\n",
      "    6.26 s in test({'n_hidden_rhs': [], '..., ConditionalAutoEncoder..., cuda, <torch.utils.data.data..., MSELoss())\n",
      "Train MSE: 0.18694536\n",
      "Valid MSE: 0.034904663\n",
      "Next Learning Rate: 0.0005\n",
      "[2.3782287, 0.7950086, 0.35786057, 0.2447466, 0.2167174, 0.20529981, 0.19954538, 0.19615844, 0.1937069, 0.19180797, 0.19013254, 0.18884797, 0.18788813]\n",
      "[0.044722207, 0.04354419, 0.042299516, 0.0408212, 0.039347395, 0.038200196, 0.037338488, 0.03668665, 0.036197264, 0.03584042, 0.035536814, 0.035282157, 0.035078086]\n"
     ]
    },
    {
     "name": "stderr",
     "output_type": "stream",
     "text": [
      "                                                                                                                                                                  \r"
     ]
    },
    {
     "name": "stdout",
     "output_type": "stream",
     "text": [
      "Epoch 14, total_loss=0.6435, reg_loss = 0.4631\n",
      "  109.74 s in train({'n_hidden_rhs': [], '..., ConditionalAutoEncoder..., cuda, <torch.utils.data.data..., AdamW ( Parameter Grou..., MSELoss(), 14, max_norm=1)\n",
      "   46.51 s in test({'n_hidden_rhs': [], '..., ConditionalAutoEncoder..., cuda, <torch.utils.data.data..., MSELoss())\n",
      "    6.23 s in test({'n_hidden_rhs': [], '..., ConditionalAutoEncoder..., cuda, <torch.utils.data.data..., MSELoss())\n",
      "Train MSE: 0.18621361\n",
      "Valid MSE: 0.034745\n",
      "Next Learning Rate: 0.0005\n",
      "[2.3782287, 0.7950086, 0.35786057, 0.2447466, 0.2167174, 0.20529981, 0.19954538, 0.19615844, 0.1937069, 0.19180797, 0.19013254, 0.18884797, 0.18788813, 0.18694536]\n",
      "[0.044722207, 0.04354419, 0.042299516, 0.0408212, 0.039347395, 0.038200196, 0.037338488, 0.03668665, 0.036197264, 0.03584042, 0.035536814, 0.035282157, 0.035078086, 0.034904663]\n"
     ]
    },
    {
     "name": "stderr",
     "output_type": "stream",
     "text": [
      "                                                                                                                                                                  \r"
     ]
    },
    {
     "name": "stdout",
     "output_type": "stream",
     "text": [
      "Epoch 15, total_loss=0.6399, reg_loss = 0.4554\n",
      "  109.76 s in train({'n_hidden_rhs': [], '..., ConditionalAutoEncoder..., cuda, <torch.utils.data.data..., AdamW ( Parameter Grou..., MSELoss(), 15, max_norm=1)\n",
      "   46.41 s in test({'n_hidden_rhs': [], '..., ConditionalAutoEncoder..., cuda, <torch.utils.data.data..., MSELoss())\n",
      "    6.20 s in test({'n_hidden_rhs': [], '..., ConditionalAutoEncoder..., cuda, <torch.utils.data.data..., MSELoss())\n",
      "Train MSE: 0.1854996\n",
      "Valid MSE: 0.034616485\n",
      "Next Learning Rate: 0.0005\n",
      "[2.3782287, 0.7950086, 0.35786057, 0.2447466, 0.2167174, 0.20529981, 0.19954538, 0.19615844, 0.1937069, 0.19180797, 0.19013254, 0.18884797, 0.18788813, 0.18694536, 0.18621361]\n",
      "[0.044722207, 0.04354419, 0.042299516, 0.0408212, 0.039347395, 0.038200196, 0.037338488, 0.03668665, 0.036197264, 0.03584042, 0.035536814, 0.035282157, 0.035078086, 0.034904663, 0.034745]\n"
     ]
    },
    {
     "name": "stderr",
     "output_type": "stream",
     "text": [
      "                                                                                                                                                                  \r"
     ]
    },
    {
     "name": "stdout",
     "output_type": "stream",
     "text": [
      "Epoch 16, total_loss=0.6276, reg_loss = 0.4481\n",
      "  109.00 s in train({'n_hidden_rhs': [], '..., ConditionalAutoEncoder..., cuda, <torch.utils.data.data..., AdamW ( Parameter Grou..., MSELoss(), 16, max_norm=1)\n",
      "   45.85 s in test({'n_hidden_rhs': [], '..., ConditionalAutoEncoder..., cuda, <torch.utils.data.data..., MSELoss())\n",
      "    6.17 s in test({'n_hidden_rhs': [], '..., ConditionalAutoEncoder..., cuda, <torch.utils.data.data..., MSELoss())\n",
      "Train MSE: 0.18498105\n",
      "Valid MSE: 0.034522302\n",
      "Next Learning Rate: 0.0005\n",
      "[2.3782287, 0.7950086, 0.35786057, 0.2447466, 0.2167174, 0.20529981, 0.19954538, 0.19615844, 0.1937069, 0.19180797, 0.19013254, 0.18884797, 0.18788813, 0.18694536, 0.18621361, 0.1854996]\n",
      "[0.044722207, 0.04354419, 0.042299516, 0.0408212, 0.039347395, 0.038200196, 0.037338488, 0.03668665, 0.036197264, 0.03584042, 0.035536814, 0.035282157, 0.035078086, 0.034904663, 0.034745, 0.034616485]\n"
     ]
    },
    {
     "name": "stderr",
     "output_type": "stream",
     "text": [
      "                                                                                                                                                                  \r"
     ]
    },
    {
     "name": "stdout",
     "output_type": "stream",
     "text": [
      "Epoch 17, total_loss=0.6228, reg_loss = 0.4412\n",
      "  109.59 s in train({'n_hidden_rhs': [], '..., ConditionalAutoEncoder..., cuda, <torch.utils.data.data..., AdamW ( Parameter Grou..., MSELoss(), 17, max_norm=1)\n",
      "   46.84 s in test({'n_hidden_rhs': [], '..., ConditionalAutoEncoder..., cuda, <torch.utils.data.data..., MSELoss())\n",
      "    6.28 s in test({'n_hidden_rhs': [], '..., ConditionalAutoEncoder..., cuda, <torch.utils.data.data..., MSELoss())\n",
      "Train MSE: 0.184461\n",
      "Valid MSE: 0.034459796\n",
      "Next Learning Rate: 0.0005\n",
      "[2.3782287, 0.7950086, 0.35786057, 0.2447466, 0.2167174, 0.20529981, 0.19954538, 0.19615844, 0.1937069, 0.19180797, 0.19013254, 0.18884797, 0.18788813, 0.18694536, 0.18621361, 0.1854996, 0.18498105]\n",
      "[0.044722207, 0.04354419, 0.042299516, 0.0408212, 0.039347395, 0.038200196, 0.037338488, 0.03668665, 0.036197264, 0.03584042, 0.035536814, 0.035282157, 0.035078086, 0.034904663, 0.034745, 0.034616485, 0.034522302]\n"
     ]
    },
    {
     "name": "stderr",
     "output_type": "stream",
     "text": [
      "                                                                                                                                                                  \r"
     ]
    },
    {
     "name": "stdout",
     "output_type": "stream",
     "text": [
      "Epoch 18, total_loss=0.6169, reg_loss = 0.4346\n",
      "  109.11 s in train({'n_hidden_rhs': [], '..., ConditionalAutoEncoder..., cuda, <torch.utils.data.data..., AdamW ( Parameter Grou..., MSELoss(), 18, max_norm=1)\n",
      "   46.42 s in test({'n_hidden_rhs': [], '..., ConditionalAutoEncoder..., cuda, <torch.utils.data.data..., MSELoss())\n",
      "    6.28 s in test({'n_hidden_rhs': [], '..., ConditionalAutoEncoder..., cuda, <torch.utils.data.data..., MSELoss())\n",
      "Train MSE: 0.18402763\n",
      "Valid MSE: 0.034397516\n",
      "Next Learning Rate: 0.0005\n",
      "[2.3782287, 0.7950086, 0.35786057, 0.2447466, 0.2167174, 0.20529981, 0.19954538, 0.19615844, 0.1937069, 0.19180797, 0.19013254, 0.18884797, 0.18788813, 0.18694536, 0.18621361, 0.1854996, 0.18498105, 0.184461]\n",
      "[0.044722207, 0.04354419, 0.042299516, 0.0408212, 0.039347395, 0.038200196, 0.037338488, 0.03668665, 0.036197264, 0.03584042, 0.035536814, 0.035282157, 0.035078086, 0.034904663, 0.034745, 0.034616485, 0.034522302, 0.034459796]\n"
     ]
    },
    {
     "name": "stderr",
     "output_type": "stream",
     "text": [
      "                                                                                                                                                                  \r"
     ]
    },
    {
     "name": "stdout",
     "output_type": "stream",
     "text": [
      "Epoch 19, total_loss=0.7018, reg_loss = 0.4283\n",
      "  110.02 s in train({'n_hidden_rhs': [], '..., ConditionalAutoEncoder..., cuda, <torch.utils.data.data..., AdamW ( Parameter Grou..., MSELoss(), 19, max_norm=1)\n",
      "   46.61 s in test({'n_hidden_rhs': [], '..., ConditionalAutoEncoder..., cuda, <torch.utils.data.data..., MSELoss())\n",
      "    6.18 s in test({'n_hidden_rhs': [], '..., ConditionalAutoEncoder..., cuda, <torch.utils.data.data..., MSELoss())\n",
      "Train MSE: 0.183599\n",
      "Valid MSE: 0.034350973\n",
      "Next Learning Rate: 0.0005\n",
      "[2.3782287, 0.7950086, 0.35786057, 0.2447466, 0.2167174, 0.20529981, 0.19954538, 0.19615844, 0.1937069, 0.19180797, 0.19013254, 0.18884797, 0.18788813, 0.18694536, 0.18621361, 0.1854996, 0.18498105, 0.184461, 0.18402763]\n",
      "[0.044722207, 0.04354419, 0.042299516, 0.0408212, 0.039347395, 0.038200196, 0.037338488, 0.03668665, 0.036197264, 0.03584042, 0.035536814, 0.035282157, 0.035078086, 0.034904663, 0.034745, 0.034616485, 0.034522302, 0.034459796, 0.034397516]\n"
     ]
    },
    {
     "name": "stderr",
     "output_type": "stream",
     "text": [
      "                                                                                                                                                                  \r"
     ]
    },
    {
     "name": "stdout",
     "output_type": "stream",
     "text": [
      "Epoch 20, total_loss=0.6012, reg_loss = 0.4223\n",
      "  109.48 s in train({'n_hidden_rhs': [], '..., ConditionalAutoEncoder..., cuda, <torch.utils.data.data..., AdamW ( Parameter Grou..., MSELoss(), 20, max_norm=1)\n",
      "   47.03 s in test({'n_hidden_rhs': [], '..., ConditionalAutoEncoder..., cuda, <torch.utils.data.data..., MSELoss())\n",
      "    6.35 s in test({'n_hidden_rhs': [], '..., ConditionalAutoEncoder..., cuda, <torch.utils.data.data..., MSELoss())\n",
      "Train MSE: 0.18330263\n",
      "Valid MSE: 0.034322836\n",
      "Next Learning Rate: 0.0005\n",
      "[2.3782287, 0.7950086, 0.35786057, 0.2447466, 0.2167174, 0.20529981, 0.19954538, 0.19615844, 0.1937069, 0.19180797, 0.19013254, 0.18884797, 0.18788813, 0.18694536, 0.18621361, 0.1854996, 0.18498105, 0.184461, 0.18402763, 0.183599]\n",
      "[0.044722207, 0.04354419, 0.042299516, 0.0408212, 0.039347395, 0.038200196, 0.037338488, 0.03668665, 0.036197264, 0.03584042, 0.035536814, 0.035282157, 0.035078086, 0.034904663, 0.034745, 0.034616485, 0.034522302, 0.034459796, 0.034397516, 0.034350973]\n"
     ]
    },
    {
     "name": "stderr",
     "output_type": "stream",
     "text": [
      "                                                                                                                                                                  \r"
     ]
    },
    {
     "name": "stdout",
     "output_type": "stream",
     "text": [
      "Epoch 21, total_loss=0.5928, reg_loss = 0.4164\n",
      "  109.52 s in train({'n_hidden_rhs': [], '..., ConditionalAutoEncoder..., cuda, <torch.utils.data.data..., AdamW ( Parameter Grou..., MSELoss(), 21, max_norm=1)\n",
      "   46.05 s in test({'n_hidden_rhs': [], '..., ConditionalAutoEncoder..., cuda, <torch.utils.data.data..., MSELoss())\n",
      "    6.28 s in test({'n_hidden_rhs': [], '..., ConditionalAutoEncoder..., cuda, <torch.utils.data.data..., MSELoss())\n",
      "Train MSE: 0.18300827\n",
      "Valid MSE: 0.034297332\n",
      "Next Learning Rate: 0.0005\n",
      "[2.3782287, 0.7950086, 0.35786057, 0.2447466, 0.2167174, 0.20529981, 0.19954538, 0.19615844, 0.1937069, 0.19180797, 0.19013254, 0.18884797, 0.18788813, 0.18694536, 0.18621361, 0.1854996, 0.18498105, 0.184461, 0.18402763, 0.183599, 0.18330263]\n",
      "[0.044722207, 0.04354419, 0.042299516, 0.0408212, 0.039347395, 0.038200196, 0.037338488, 0.03668665, 0.036197264, 0.03584042, 0.035536814, 0.035282157, 0.035078086, 0.034904663, 0.034745, 0.034616485, 0.034522302, 0.034459796, 0.034397516, 0.034350973, 0.034322836]\n"
     ]
    },
    {
     "name": "stderr",
     "output_type": "stream",
     "text": [
      "                                                                                                                                                                  \r"
     ]
    },
    {
     "name": "stdout",
     "output_type": "stream",
     "text": [
      "Epoch 22, total_loss=0.5898, reg_loss = 0.4107\n",
      "  109.53 s in train({'n_hidden_rhs': [], '..., ConditionalAutoEncoder..., cuda, <torch.utils.data.data..., AdamW ( Parameter Grou..., MSELoss(), 22, max_norm=1)\n",
      "   46.69 s in test({'n_hidden_rhs': [], '..., ConditionalAutoEncoder..., cuda, <torch.utils.data.data..., MSELoss())\n",
      "    6.22 s in test({'n_hidden_rhs': [], '..., ConditionalAutoEncoder..., cuda, <torch.utils.data.data..., MSELoss())\n",
      "Train MSE: 0.18277481\n",
      "Valid MSE: 0.034274198\n",
      "Next Learning Rate: 0.0005\n",
      "[2.3782287, 0.7950086, 0.35786057, 0.2447466, 0.2167174, 0.20529981, 0.19954538, 0.19615844, 0.1937069, 0.19180797, 0.19013254, 0.18884797, 0.18788813, 0.18694536, 0.18621361, 0.1854996, 0.18498105, 0.184461, 0.18402763, 0.183599, 0.18330263, 0.18300827]\n",
      "[0.044722207, 0.04354419, 0.042299516, 0.0408212, 0.039347395, 0.038200196, 0.037338488, 0.03668665, 0.036197264, 0.03584042, 0.035536814, 0.035282157, 0.035078086, 0.034904663, 0.034745, 0.034616485, 0.034522302, 0.034459796, 0.034397516, 0.034350973, 0.034322836, 0.034297332]\n"
     ]
    },
    {
     "name": "stderr",
     "output_type": "stream",
     "text": [
      "                                                                                                                                                                  \r"
     ]
    },
    {
     "name": "stdout",
     "output_type": "stream",
     "text": [
      "Epoch 23, total_loss=0.5921, reg_loss = 0.4052\n",
      "  110.07 s in train({'n_hidden_rhs': [], '..., ConditionalAutoEncoder..., cuda, <torch.utils.data.data..., AdamW ( Parameter Grou..., MSELoss(), 23, max_norm=1)\n",
      "   46.65 s in test({'n_hidden_rhs': [], '..., ConditionalAutoEncoder..., cuda, <torch.utils.data.data..., MSELoss())\n",
      "    6.28 s in test({'n_hidden_rhs': [], '..., ConditionalAutoEncoder..., cuda, <torch.utils.data.data..., MSELoss())\n",
      "Train MSE: 0.18251938\n",
      "Valid MSE: 0.03425855\n",
      "Next Learning Rate: 0.0005\n",
      "[2.3782287, 0.7950086, 0.35786057, 0.2447466, 0.2167174, 0.20529981, 0.19954538, 0.19615844, 0.1937069, 0.19180797, 0.19013254, 0.18884797, 0.18788813, 0.18694536, 0.18621361, 0.1854996, 0.18498105, 0.184461, 0.18402763, 0.183599, 0.18330263, 0.18300827, 0.18277481]\n",
      "[0.044722207, 0.04354419, 0.042299516, 0.0408212, 0.039347395, 0.038200196, 0.037338488, 0.03668665, 0.036197264, 0.03584042, 0.035536814, 0.035282157, 0.035078086, 0.034904663, 0.034745, 0.034616485, 0.034522302, 0.034459796, 0.034397516, 0.034350973, 0.034322836, 0.034297332, 0.034274198]\n"
     ]
    },
    {
     "name": "stderr",
     "output_type": "stream",
     "text": [
      "                                                                                                                                                                  \r"
     ]
    },
    {
     "name": "stdout",
     "output_type": "stream",
     "text": [
      "Epoch 24, total_loss=0.5822, reg_loss = 0.3998\n",
      "  109.92 s in train({'n_hidden_rhs': [], '..., ConditionalAutoEncoder..., cuda, <torch.utils.data.data..., AdamW ( Parameter Grou..., MSELoss(), 24, max_norm=1)\n",
      "   46.70 s in test({'n_hidden_rhs': [], '..., ConditionalAutoEncoder..., cuda, <torch.utils.data.data..., MSELoss())\n",
      "    6.28 s in test({'n_hidden_rhs': [], '..., ConditionalAutoEncoder..., cuda, <torch.utils.data.data..., MSELoss())\n",
      "Train MSE: 0.18233174\n",
      "Valid MSE: 0.034239635\n",
      "Next Learning Rate: 0.0005\n",
      "[2.3782287, 0.7950086, 0.35786057, 0.2447466, 0.2167174, 0.20529981, 0.19954538, 0.19615844, 0.1937069, 0.19180797, 0.19013254, 0.18884797, 0.18788813, 0.18694536, 0.18621361, 0.1854996, 0.18498105, 0.184461, 0.18402763, 0.183599, 0.18330263, 0.18300827, 0.18277481, 0.18251938]\n",
      "[0.044722207, 0.04354419, 0.042299516, 0.0408212, 0.039347395, 0.038200196, 0.037338488, 0.03668665, 0.036197264, 0.03584042, 0.035536814, 0.035282157, 0.035078086, 0.034904663, 0.034745, 0.034616485, 0.034522302, 0.034459796, 0.034397516, 0.034350973, 0.034322836, 0.034297332, 0.034274198, 0.03425855]\n"
     ]
    },
    {
     "name": "stderr",
     "output_type": "stream",
     "text": [
      "                                                                                                                                                                  \r"
     ]
    },
    {
     "name": "stdout",
     "output_type": "stream",
     "text": [
      "Epoch 25, total_loss=0.5719, reg_loss = 0.3946\n",
      "  110.09 s in train({'n_hidden_rhs': [], '..., ConditionalAutoEncoder..., cuda, <torch.utils.data.data..., AdamW ( Parameter Grou..., MSELoss(), 25, max_norm=1)\n",
      "   47.17 s in test({'n_hidden_rhs': [], '..., ConditionalAutoEncoder..., cuda, <torch.utils.data.data..., MSELoss())\n",
      "    6.27 s in test({'n_hidden_rhs': [], '..., ConditionalAutoEncoder..., cuda, <torch.utils.data.data..., MSELoss())\n",
      "Train MSE: 0.18214868\n",
      "Valid MSE: 0.03422601\n",
      "Next Learning Rate: 0.0005\n",
      "[2.3782287, 0.7950086, 0.35786057, 0.2447466, 0.2167174, 0.20529981, 0.19954538, 0.19615844, 0.1937069, 0.19180797, 0.19013254, 0.18884797, 0.18788813, 0.18694536, 0.18621361, 0.1854996, 0.18498105, 0.184461, 0.18402763, 0.183599, 0.18330263, 0.18300827, 0.18277481, 0.18251938, 0.18233174]\n",
      "[0.044722207, 0.04354419, 0.042299516, 0.0408212, 0.039347395, 0.038200196, 0.037338488, 0.03668665, 0.036197264, 0.03584042, 0.035536814, 0.035282157, 0.035078086, 0.034904663, 0.034745, 0.034616485, 0.034522302, 0.034459796, 0.034397516, 0.034350973, 0.034322836, 0.034297332, 0.034274198, 0.03425855, 0.034239635]\n"
     ]
    },
    {
     "name": "stderr",
     "output_type": "stream",
     "text": [
      "                                                                                                                                                                  \r"
     ]
    },
    {
     "name": "stdout",
     "output_type": "stream",
     "text": [
      "Epoch 26, total_loss=0.5666, reg_loss = 0.3895\n",
      "  110.18 s in train({'n_hidden_rhs': [], '..., ConditionalAutoEncoder..., cuda, <torch.utils.data.data..., AdamW ( Parameter Grou..., MSELoss(), 26, max_norm=1)\n",
      "   46.87 s in test({'n_hidden_rhs': [], '..., ConditionalAutoEncoder..., cuda, <torch.utils.data.data..., MSELoss())\n",
      "    6.21 s in test({'n_hidden_rhs': [], '..., ConditionalAutoEncoder..., cuda, <torch.utils.data.data..., MSELoss())\n",
      "Train MSE: 0.1819795\n",
      "Valid MSE: 0.034211833\n",
      "Next Learning Rate: 0.0005\n",
      "[2.3782287, 0.7950086, 0.35786057, 0.2447466, 0.2167174, 0.20529981, 0.19954538, 0.19615844, 0.1937069, 0.19180797, 0.19013254, 0.18884797, 0.18788813, 0.18694536, 0.18621361, 0.1854996, 0.18498105, 0.184461, 0.18402763, 0.183599, 0.18330263, 0.18300827, 0.18277481, 0.18251938, 0.18233174, 0.18214868]\n",
      "[0.044722207, 0.04354419, 0.042299516, 0.0408212, 0.039347395, 0.038200196, 0.037338488, 0.03668665, 0.036197264, 0.03584042, 0.035536814, 0.035282157, 0.035078086, 0.034904663, 0.034745, 0.034616485, 0.034522302, 0.034459796, 0.034397516, 0.034350973, 0.034322836, 0.034297332, 0.034274198, 0.03425855, 0.034239635, 0.03422601]\n"
     ]
    },
    {
     "name": "stderr",
     "output_type": "stream",
     "text": [
      "                                                                                                                                                                  \r"
     ]
    },
    {
     "name": "stdout",
     "output_type": "stream",
     "text": [
      "Epoch 27, total_loss=0.5678, reg_loss = 0.3845\n",
      "  109.79 s in train({'n_hidden_rhs': [], '..., ConditionalAutoEncoder..., cuda, <torch.utils.data.data..., AdamW ( Parameter Grou..., MSELoss(), 27, max_norm=1)\n",
      "   47.12 s in test({'n_hidden_rhs': [], '..., ConditionalAutoEncoder..., cuda, <torch.utils.data.data..., MSELoss())\n",
      "    6.25 s in test({'n_hidden_rhs': [], '..., ConditionalAutoEncoder..., cuda, <torch.utils.data.data..., MSELoss())\n",
      "Train MSE: 0.18187442\n",
      "Valid MSE: 0.034203485\n",
      "Next Learning Rate: 0.0005\n",
      "[2.3782287, 0.7950086, 0.35786057, 0.2447466, 0.2167174, 0.20529981, 0.19954538, 0.19615844, 0.1937069, 0.19180797, 0.19013254, 0.18884797, 0.18788813, 0.18694536, 0.18621361, 0.1854996, 0.18498105, 0.184461, 0.18402763, 0.183599, 0.18330263, 0.18300827, 0.18277481, 0.18251938, 0.18233174, 0.18214868, 0.1819795]\n",
      "[0.044722207, 0.04354419, 0.042299516, 0.0408212, 0.039347395, 0.038200196, 0.037338488, 0.03668665, 0.036197264, 0.03584042, 0.035536814, 0.035282157, 0.035078086, 0.034904663, 0.034745, 0.034616485, 0.034522302, 0.034459796, 0.034397516, 0.034350973, 0.034322836, 0.034297332, 0.034274198, 0.03425855, 0.034239635, 0.03422601, 0.034211833]\n"
     ]
    },
    {
     "name": "stderr",
     "output_type": "stream",
     "text": [
      "                                                                                                                                                                  \r"
     ]
    },
    {
     "name": "stdout",
     "output_type": "stream",
     "text": [
      "Epoch 28, total_loss=0.5557, reg_loss = 0.3797\n",
      "  109.19 s in train({'n_hidden_rhs': [], '..., ConditionalAutoEncoder..., cuda, <torch.utils.data.data..., AdamW ( Parameter Grou..., MSELoss(), 28, max_norm=1)\n",
      "   47.24 s in test({'n_hidden_rhs': [], '..., ConditionalAutoEncoder..., cuda, <torch.utils.data.data..., MSELoss())\n",
      "    6.23 s in test({'n_hidden_rhs': [], '..., ConditionalAutoEncoder..., cuda, <torch.utils.data.data..., MSELoss())\n",
      "Train MSE: 0.18178234\n",
      "Valid MSE: 0.03419772\n",
      "Next Learning Rate: 0.0005\n",
      "[2.3782287, 0.7950086, 0.35786057, 0.2447466, 0.2167174, 0.20529981, 0.19954538, 0.19615844, 0.1937069, 0.19180797, 0.19013254, 0.18884797, 0.18788813, 0.18694536, 0.18621361, 0.1854996, 0.18498105, 0.184461, 0.18402763, 0.183599, 0.18330263, 0.18300827, 0.18277481, 0.18251938, 0.18233174, 0.18214868, 0.1819795, 0.18187442]\n",
      "[0.044722207, 0.04354419, 0.042299516, 0.0408212, 0.039347395, 0.038200196, 0.037338488, 0.03668665, 0.036197264, 0.03584042, 0.035536814, 0.035282157, 0.035078086, 0.034904663, 0.034745, 0.034616485, 0.034522302, 0.034459796, 0.034397516, 0.034350973, 0.034322836, 0.034297332, 0.034274198, 0.03425855, 0.034239635, 0.03422601, 0.034211833, 0.034203485]\n"
     ]
    },
    {
     "name": "stderr",
     "output_type": "stream",
     "text": [
      "                                                                                                                                                                  \r"
     ]
    },
    {
     "name": "stdout",
     "output_type": "stream",
     "text": [
      "Epoch 29, total_loss=0.5685, reg_loss = 0.3750\n",
      "  109.50 s in train({'n_hidden_rhs': [], '..., ConditionalAutoEncoder..., cuda, <torch.utils.data.data..., AdamW ( Parameter Grou..., MSELoss(), 29, max_norm=1)\n",
      "   46.73 s in test({'n_hidden_rhs': [], '..., ConditionalAutoEncoder..., cuda, <torch.utils.data.data..., MSELoss())\n",
      "    6.32 s in test({'n_hidden_rhs': [], '..., ConditionalAutoEncoder..., cuda, <torch.utils.data.data..., MSELoss())\n",
      "Train MSE: 0.18165587\n",
      "Valid MSE: 0.034194287\n",
      "Next Learning Rate: 0.0005\n",
      "[2.3782287, 0.7950086, 0.35786057, 0.2447466, 0.2167174, 0.20529981, 0.19954538, 0.19615844, 0.1937069, 0.19180797, 0.19013254, 0.18884797, 0.18788813, 0.18694536, 0.18621361, 0.1854996, 0.18498105, 0.184461, 0.18402763, 0.183599, 0.18330263, 0.18300827, 0.18277481, 0.18251938, 0.18233174, 0.18214868, 0.1819795, 0.18187442, 0.18178234]\n",
      "[0.044722207, 0.04354419, 0.042299516, 0.0408212, 0.039347395, 0.038200196, 0.037338488, 0.03668665, 0.036197264, 0.03584042, 0.035536814, 0.035282157, 0.035078086, 0.034904663, 0.034745, 0.034616485, 0.034522302, 0.034459796, 0.034397516, 0.034350973, 0.034322836, 0.034297332, 0.034274198, 0.03425855, 0.034239635, 0.03422601, 0.034211833, 0.034203485, 0.03419772]\n"
     ]
    },
    {
     "name": "stderr",
     "output_type": "stream",
     "text": [
      "                                                                                                                                                                  \r"
     ]
    },
    {
     "name": "stdout",
     "output_type": "stream",
     "text": [
      "Epoch 30, total_loss=0.5484, reg_loss = 0.3704\n",
      "  111.49 s in train({'n_hidden_rhs': [], '..., ConditionalAutoEncoder..., cuda, <torch.utils.data.data..., AdamW ( Parameter Grou..., MSELoss(), 30, max_norm=1)\n",
      "   46.90 s in test({'n_hidden_rhs': [], '..., ConditionalAutoEncoder..., cuda, <torch.utils.data.data..., MSELoss())\n",
      "    6.28 s in test({'n_hidden_rhs': [], '..., ConditionalAutoEncoder..., cuda, <torch.utils.data.data..., MSELoss())\n",
      "Train MSE: 0.18158476\n",
      "Valid MSE: 0.03418952\n",
      "Next Learning Rate: 0.0005\n",
      "[2.3782287, 0.7950086, 0.35786057, 0.2447466, 0.2167174, 0.20529981, 0.19954538, 0.19615844, 0.1937069, 0.19180797, 0.19013254, 0.18884797, 0.18788813, 0.18694536, 0.18621361, 0.1854996, 0.18498105, 0.184461, 0.18402763, 0.183599, 0.18330263, 0.18300827, 0.18277481, 0.18251938, 0.18233174, 0.18214868, 0.1819795, 0.18187442, 0.18178234, 0.18165587]\n",
      "[0.044722207, 0.04354419, 0.042299516, 0.0408212, 0.039347395, 0.038200196, 0.037338488, 0.03668665, 0.036197264, 0.03584042, 0.035536814, 0.035282157, 0.035078086, 0.034904663, 0.034745, 0.034616485, 0.034522302, 0.034459796, 0.034397516, 0.034350973, 0.034322836, 0.034297332, 0.034274198, 0.03425855, 0.034239635, 0.03422601, 0.034211833, 0.034203485, 0.03419772, 0.034194287]\n"
     ]
    },
    {
     "name": "stderr",
     "output_type": "stream",
     "text": [
      "                                                                                                                                                                  \r"
     ]
    },
    {
     "name": "stdout",
     "output_type": "stream",
     "text": [
      "Epoch 31, total_loss=0.5381, reg_loss = 0.3658\n",
      "  110.13 s in train({'n_hidden_rhs': [], '..., ConditionalAutoEncoder..., cuda, <torch.utils.data.data..., AdamW ( Parameter Grou..., MSELoss(), 31, max_norm=1)\n",
      "   47.01 s in test({'n_hidden_rhs': [], '..., ConditionalAutoEncoder..., cuda, <torch.utils.data.data..., MSELoss())\n",
      "    6.33 s in test({'n_hidden_rhs': [], '..., ConditionalAutoEncoder..., cuda, <torch.utils.data.data..., MSELoss())\n",
      "Train MSE: 0.18146335\n",
      "Valid MSE: 0.034179788\n",
      "Next Learning Rate: 0.0005\n",
      "[2.3782287, 0.7950086, 0.35786057, 0.2447466, 0.2167174, 0.20529981, 0.19954538, 0.19615844, 0.1937069, 0.19180797, 0.19013254, 0.18884797, 0.18788813, 0.18694536, 0.18621361, 0.1854996, 0.18498105, 0.184461, 0.18402763, 0.183599, 0.18330263, 0.18300827, 0.18277481, 0.18251938, 0.18233174, 0.18214868, 0.1819795, 0.18187442, 0.18178234, 0.18165587, 0.18158476]\n",
      "[0.044722207, 0.04354419, 0.042299516, 0.0408212, 0.039347395, 0.038200196, 0.037338488, 0.03668665, 0.036197264, 0.03584042, 0.035536814, 0.035282157, 0.035078086, 0.034904663, 0.034745, 0.034616485, 0.034522302, 0.034459796, 0.034397516, 0.034350973, 0.034322836, 0.034297332, 0.034274198, 0.03425855, 0.034239635, 0.03422601, 0.034211833, 0.034203485, 0.03419772, 0.034194287, 0.03418952]\n"
     ]
    },
    {
     "name": "stderr",
     "output_type": "stream",
     "text": [
      "                                                                                                                                                                  \r"
     ]
    },
    {
     "name": "stdout",
     "output_type": "stream",
     "text": [
      "Epoch 32, total_loss=0.5417, reg_loss = 0.3613\n",
      "  111.97 s in train({'n_hidden_rhs': [], '..., ConditionalAutoEncoder..., cuda, <torch.utils.data.data..., AdamW ( Parameter Grou..., MSELoss(), 32, max_norm=1)\n",
      "   47.49 s in test({'n_hidden_rhs': [], '..., ConditionalAutoEncoder..., cuda, <torch.utils.data.data..., MSELoss())\n",
      "    6.31 s in test({'n_hidden_rhs': [], '..., ConditionalAutoEncoder..., cuda, <torch.utils.data.data..., MSELoss())\n",
      "Train MSE: 0.18140522\n",
      "Valid MSE: 0.034180295\n",
      "Next Learning Rate: 0.00025\n",
      "[2.3782287, 0.7950086, 0.35786057, 0.2447466, 0.2167174, 0.20529981, 0.19954538, 0.19615844, 0.1937069, 0.19180797, 0.19013254, 0.18884797, 0.18788813, 0.18694536, 0.18621361, 0.1854996, 0.18498105, 0.184461, 0.18402763, 0.183599, 0.18330263, 0.18300827, 0.18277481, 0.18251938, 0.18233174, 0.18214868, 0.1819795, 0.18187442, 0.18178234, 0.18165587, 0.18158476, 0.18146335]\n",
      "[0.044722207, 0.04354419, 0.042299516, 0.0408212, 0.039347395, 0.038200196, 0.037338488, 0.03668665, 0.036197264, 0.03584042, 0.035536814, 0.035282157, 0.035078086, 0.034904663, 0.034745, 0.034616485, 0.034522302, 0.034459796, 0.034397516, 0.034350973, 0.034322836, 0.034297332, 0.034274198, 0.03425855, 0.034239635, 0.03422601, 0.034211833, 0.034203485, 0.03419772, 0.034194287, 0.03418952, 0.034179788]\n"
     ]
    },
    {
     "name": "stderr",
     "output_type": "stream",
     "text": [
      "                                                                                                                                                                  \r"
     ]
    },
    {
     "name": "stdout",
     "output_type": "stream",
     "text": [
      "Epoch 33, total_loss=0.5445, reg_loss = 0.3580\n",
      "  111.32 s in train({'n_hidden_rhs': [], '..., ConditionalAutoEncoder..., cuda, <torch.utils.data.data..., AdamW ( Parameter Grou..., MSELoss(), 33, max_norm=1)\n",
      "   47.27 s in test({'n_hidden_rhs': [], '..., ConditionalAutoEncoder..., cuda, <torch.utils.data.data..., MSELoss())\n",
      "    6.30 s in test({'n_hidden_rhs': [], '..., ConditionalAutoEncoder..., cuda, <torch.utils.data.data..., MSELoss())\n",
      "Train MSE: 0.18133263\n",
      "Valid MSE: 0.034178045\n",
      "Next Learning Rate: 0.00025\n",
      "[2.3782287, 0.7950086, 0.35786057, 0.2447466, 0.2167174, 0.20529981, 0.19954538, 0.19615844, 0.1937069, 0.19180797, 0.19013254, 0.18884797, 0.18788813, 0.18694536, 0.18621361, 0.1854996, 0.18498105, 0.184461, 0.18402763, 0.183599, 0.18330263, 0.18300827, 0.18277481, 0.18251938, 0.18233174, 0.18214868, 0.1819795, 0.18187442, 0.18178234, 0.18165587, 0.18158476, 0.18146335, 0.18140522]\n",
      "[0.044722207, 0.04354419, 0.042299516, 0.0408212, 0.039347395, 0.038200196, 0.037338488, 0.03668665, 0.036197264, 0.03584042, 0.035536814, 0.035282157, 0.035078086, 0.034904663, 0.034745, 0.034616485, 0.034522302, 0.034459796, 0.034397516, 0.034350973, 0.034322836, 0.034297332, 0.034274198, 0.03425855, 0.034239635, 0.03422601, 0.034211833, 0.034203485, 0.03419772, 0.034194287, 0.03418952, 0.034179788, 0.034180295]\n"
     ]
    },
    {
     "name": "stderr",
     "output_type": "stream",
     "text": [
      "                                                                                                                                                                  \r"
     ]
    },
    {
     "name": "stdout",
     "output_type": "stream",
     "text": [
      "Epoch 34, total_loss=0.5314, reg_loss = 0.3558\n",
      "  111.15 s in train({'n_hidden_rhs': [], '..., ConditionalAutoEncoder..., cuda, <torch.utils.data.data..., AdamW ( Parameter Grou..., MSELoss(), 34, max_norm=1)\n",
      "   47.40 s in test({'n_hidden_rhs': [], '..., ConditionalAutoEncoder..., cuda, <torch.utils.data.data..., MSELoss())\n",
      "    6.38 s in test({'n_hidden_rhs': [], '..., ConditionalAutoEncoder..., cuda, <torch.utils.data.data..., MSELoss())\n",
      "Train MSE: 0.18129501\n",
      "Valid MSE: 0.034174915\n",
      "Next Learning Rate: 0.00025\n",
      "[2.3782287, 0.7950086, 0.35786057, 0.2447466, 0.2167174, 0.20529981, 0.19954538, 0.19615844, 0.1937069, 0.19180797, 0.19013254, 0.18884797, 0.18788813, 0.18694536, 0.18621361, 0.1854996, 0.18498105, 0.184461, 0.18402763, 0.183599, 0.18330263, 0.18300827, 0.18277481, 0.18251938, 0.18233174, 0.18214868, 0.1819795, 0.18187442, 0.18178234, 0.18165587, 0.18158476, 0.18146335, 0.18140522, 0.18133263]\n",
      "[0.044722207, 0.04354419, 0.042299516, 0.0408212, 0.039347395, 0.038200196, 0.037338488, 0.03668665, 0.036197264, 0.03584042, 0.035536814, 0.035282157, 0.035078086, 0.034904663, 0.034745, 0.034616485, 0.034522302, 0.034459796, 0.034397516, 0.034350973, 0.034322836, 0.034297332, 0.034274198, 0.03425855, 0.034239635, 0.03422601, 0.034211833, 0.034203485, 0.03419772, 0.034194287, 0.03418952, 0.034179788, 0.034180295, 0.034178045]\n"
     ]
    },
    {
     "name": "stderr",
     "output_type": "stream",
     "text": [
      "                                                                                                                                                                  \r"
     ]
    },
    {
     "name": "stdout",
     "output_type": "stream",
     "text": [
      "Epoch 35, total_loss=0.5343, reg_loss = 0.3536\n",
      "  111.89 s in train({'n_hidden_rhs': [], '..., ConditionalAutoEncoder..., cuda, <torch.utils.data.data..., AdamW ( Parameter Grou..., MSELoss(), 35, max_norm=1)\n",
      "   47.09 s in test({'n_hidden_rhs': [], '..., ConditionalAutoEncoder..., cuda, <torch.utils.data.data..., MSELoss())\n",
      "    6.34 s in test({'n_hidden_rhs': [], '..., ConditionalAutoEncoder..., cuda, <torch.utils.data.data..., MSELoss())\n",
      "Train MSE: 0.18125676\n",
      "Valid MSE: 0.034172714\n",
      "Next Learning Rate: 0.00025\n",
      "[2.3782287, 0.7950086, 0.35786057, 0.2447466, 0.2167174, 0.20529981, 0.19954538, 0.19615844, 0.1937069, 0.19180797, 0.19013254, 0.18884797, 0.18788813, 0.18694536, 0.18621361, 0.1854996, 0.18498105, 0.184461, 0.18402763, 0.183599, 0.18330263, 0.18300827, 0.18277481, 0.18251938, 0.18233174, 0.18214868, 0.1819795, 0.18187442, 0.18178234, 0.18165587, 0.18158476, 0.18146335, 0.18140522, 0.18133263, 0.18129501]\n",
      "[0.044722207, 0.04354419, 0.042299516, 0.0408212, 0.039347395, 0.038200196, 0.037338488, 0.03668665, 0.036197264, 0.03584042, 0.035536814, 0.035282157, 0.035078086, 0.034904663, 0.034745, 0.034616485, 0.034522302, 0.034459796, 0.034397516, 0.034350973, 0.034322836, 0.034297332, 0.034274198, 0.03425855, 0.034239635, 0.03422601, 0.034211833, 0.034203485, 0.03419772, 0.034194287, 0.03418952, 0.034179788, 0.034180295, 0.034178045, 0.034174915]\n"
     ]
    },
    {
     "name": "stderr",
     "output_type": "stream",
     "text": [
      "                                                                                                                                                                  \r"
     ]
    },
    {
     "name": "stdout",
     "output_type": "stream",
     "text": [
      "Epoch 36, total_loss=0.5242, reg_loss = 0.3514\n",
      "  111.39 s in train({'n_hidden_rhs': [], '..., ConditionalAutoEncoder..., cuda, <torch.utils.data.data..., AdamW ( Parameter Grou..., MSELoss(), 36, max_norm=1)\n",
      "   47.16 s in test({'n_hidden_rhs': [], '..., ConditionalAutoEncoder..., cuda, <torch.utils.data.data..., MSELoss())\n",
      "    6.33 s in test({'n_hidden_rhs': [], '..., ConditionalAutoEncoder..., cuda, <torch.utils.data.data..., MSELoss())\n",
      "Train MSE: 0.18122332\n",
      "Valid MSE: 0.034173083\n",
      "Next Learning Rate: 0.00025\n",
      "[2.3782287, 0.7950086, 0.35786057, 0.2447466, 0.2167174, 0.20529981, 0.19954538, 0.19615844, 0.1937069, 0.19180797, 0.19013254, 0.18884797, 0.18788813, 0.18694536, 0.18621361, 0.1854996, 0.18498105, 0.184461, 0.18402763, 0.183599, 0.18330263, 0.18300827, 0.18277481, 0.18251938, 0.18233174, 0.18214868, 0.1819795, 0.18187442, 0.18178234, 0.18165587, 0.18158476, 0.18146335, 0.18140522, 0.18133263, 0.18129501, 0.18125676]\n",
      "[0.044722207, 0.04354419, 0.042299516, 0.0408212, 0.039347395, 0.038200196, 0.037338488, 0.03668665, 0.036197264, 0.03584042, 0.035536814, 0.035282157, 0.035078086, 0.034904663, 0.034745, 0.034616485, 0.034522302, 0.034459796, 0.034397516, 0.034350973, 0.034322836, 0.034297332, 0.034274198, 0.03425855, 0.034239635, 0.03422601, 0.034211833, 0.034203485, 0.03419772, 0.034194287, 0.03418952, 0.034179788, 0.034180295, 0.034178045, 0.034174915, 0.034172714]\n"
     ]
    },
    {
     "name": "stderr",
     "output_type": "stream",
     "text": [
      "                                                                                                                                                                  \r"
     ]
    },
    {
     "name": "stdout",
     "output_type": "stream",
     "text": [
      "Epoch 37, total_loss=0.5288, reg_loss = 0.3492\n",
      "  111.19 s in train({'n_hidden_rhs': [], '..., ConditionalAutoEncoder..., cuda, <torch.utils.data.data..., AdamW ( Parameter Grou..., MSELoss(), 37, max_norm=1)\n",
      "   47.05 s in test({'n_hidden_rhs': [], '..., ConditionalAutoEncoder..., cuda, <torch.utils.data.data..., MSELoss())\n",
      "    6.31 s in test({'n_hidden_rhs': [], '..., ConditionalAutoEncoder..., cuda, <torch.utils.data.data..., MSELoss())\n",
      "Train MSE: 0.18117924\n",
      "Valid MSE: 0.034171727\n",
      "Next Learning Rate: 0.00025\n",
      "[2.3782287, 0.7950086, 0.35786057, 0.2447466, 0.2167174, 0.20529981, 0.19954538, 0.19615844, 0.1937069, 0.19180797, 0.19013254, 0.18884797, 0.18788813, 0.18694536, 0.18621361, 0.1854996, 0.18498105, 0.184461, 0.18402763, 0.183599, 0.18330263, 0.18300827, 0.18277481, 0.18251938, 0.18233174, 0.18214868, 0.1819795, 0.18187442, 0.18178234, 0.18165587, 0.18158476, 0.18146335, 0.18140522, 0.18133263, 0.18129501, 0.18125676, 0.18122332]\n",
      "[0.044722207, 0.04354419, 0.042299516, 0.0408212, 0.039347395, 0.038200196, 0.037338488, 0.03668665, 0.036197264, 0.03584042, 0.035536814, 0.035282157, 0.035078086, 0.034904663, 0.034745, 0.034616485, 0.034522302, 0.034459796, 0.034397516, 0.034350973, 0.034322836, 0.034297332, 0.034274198, 0.03425855, 0.034239635, 0.03422601, 0.034211833, 0.034203485, 0.03419772, 0.034194287, 0.03418952, 0.034179788, 0.034180295, 0.034178045, 0.034174915, 0.034172714, 0.034173083]\n"
     ]
    },
    {
     "name": "stderr",
     "output_type": "stream",
     "text": [
      "                                                                                                                                                                  \r"
     ]
    },
    {
     "name": "stdout",
     "output_type": "stream",
     "text": [
      "Epoch 38, total_loss=0.5242, reg_loss = 0.3470\n",
      "  111.20 s in train({'n_hidden_rhs': [], '..., ConditionalAutoEncoder..., cuda, <torch.utils.data.data..., AdamW ( Parameter Grou..., MSELoss(), 38, max_norm=1)\n",
      "   46.71 s in test({'n_hidden_rhs': [], '..., ConditionalAutoEncoder..., cuda, <torch.utils.data.data..., MSELoss())\n",
      "    6.24 s in test({'n_hidden_rhs': [], '..., ConditionalAutoEncoder..., cuda, <torch.utils.data.data..., MSELoss())\n",
      "Train MSE: 0.18114445\n",
      "Valid MSE: 0.034171745\n",
      "Next Learning Rate: 0.00025\n",
      "[2.3782287, 0.7950086, 0.35786057, 0.2447466, 0.2167174, 0.20529981, 0.19954538, 0.19615844, 0.1937069, 0.19180797, 0.19013254, 0.18884797, 0.18788813, 0.18694536, 0.18621361, 0.1854996, 0.18498105, 0.184461, 0.18402763, 0.183599, 0.18330263, 0.18300827, 0.18277481, 0.18251938, 0.18233174, 0.18214868, 0.1819795, 0.18187442, 0.18178234, 0.18165587, 0.18158476, 0.18146335, 0.18140522, 0.18133263, 0.18129501, 0.18125676, 0.18122332, 0.18117924]\n",
      "[0.044722207, 0.04354419, 0.042299516, 0.0408212, 0.039347395, 0.038200196, 0.037338488, 0.03668665, 0.036197264, 0.03584042, 0.035536814, 0.035282157, 0.035078086, 0.034904663, 0.034745, 0.034616485, 0.034522302, 0.034459796, 0.034397516, 0.034350973, 0.034322836, 0.034297332, 0.034274198, 0.03425855, 0.034239635, 0.03422601, 0.034211833, 0.034203485, 0.03419772, 0.034194287, 0.03418952, 0.034179788, 0.034180295, 0.034178045, 0.034174915, 0.034172714, 0.034173083, 0.034171727]\n"
     ]
    },
    {
     "name": "stderr",
     "output_type": "stream",
     "text": [
      "                                                                                                                                                                  \r"
     ]
    },
    {
     "name": "stdout",
     "output_type": "stream",
     "text": [
      "Epoch 39, total_loss=0.5280, reg_loss = 0.3448\n",
      "  108.52 s in train({'n_hidden_rhs': [], '..., ConditionalAutoEncoder..., cuda, <torch.utils.data.data..., AdamW ( Parameter Grou..., MSELoss(), 39, max_norm=1)\n",
      "   46.75 s in test({'n_hidden_rhs': [], '..., ConditionalAutoEncoder..., cuda, <torch.utils.data.data..., MSELoss())\n",
      "    6.26 s in test({'n_hidden_rhs': [], '..., ConditionalAutoEncoder..., cuda, <torch.utils.data.data..., MSELoss())\n",
      "Train MSE: 0.1811184\n",
      "Valid MSE: 0.03417211\n",
      "Next Learning Rate: 0.00025\n",
      "[2.3782287, 0.7950086, 0.35786057, 0.2447466, 0.2167174, 0.20529981, 0.19954538, 0.19615844, 0.1937069, 0.19180797, 0.19013254, 0.18884797, 0.18788813, 0.18694536, 0.18621361, 0.1854996, 0.18498105, 0.184461, 0.18402763, 0.183599, 0.18330263, 0.18300827, 0.18277481, 0.18251938, 0.18233174, 0.18214868, 0.1819795, 0.18187442, 0.18178234, 0.18165587, 0.18158476, 0.18146335, 0.18140522, 0.18133263, 0.18129501, 0.18125676, 0.18122332, 0.18117924, 0.18114445]\n",
      "[0.044722207, 0.04354419, 0.042299516, 0.0408212, 0.039347395, 0.038200196, 0.037338488, 0.03668665, 0.036197264, 0.03584042, 0.035536814, 0.035282157, 0.035078086, 0.034904663, 0.034745, 0.034616485, 0.034522302, 0.034459796, 0.034397516, 0.034350973, 0.034322836, 0.034297332, 0.034274198, 0.03425855, 0.034239635, 0.03422601, 0.034211833, 0.034203485, 0.03419772, 0.034194287, 0.03418952, 0.034179788, 0.034180295, 0.034178045, 0.034174915, 0.034172714, 0.034173083, 0.034171727, 0.034171745]\n"
     ]
    },
    {
     "name": "stderr",
     "output_type": "stream",
     "text": [
      "                                                                                                                                                                  \r"
     ]
    },
    {
     "name": "stdout",
     "output_type": "stream",
     "text": [
      "Epoch 40, total_loss=0.5297, reg_loss = 0.3427\n",
      "  109.36 s in train({'n_hidden_rhs': [], '..., ConditionalAutoEncoder..., cuda, <torch.utils.data.data..., AdamW ( Parameter Grou..., MSELoss(), 40, max_norm=1)\n",
      "   46.72 s in test({'n_hidden_rhs': [], '..., ConditionalAutoEncoder..., cuda, <torch.utils.data.data..., MSELoss())\n",
      "    6.41 s in test({'n_hidden_rhs': [], '..., ConditionalAutoEncoder..., cuda, <torch.utils.data.data..., MSELoss())\n",
      "Train MSE: 0.18108326\n",
      "Valid MSE: 0.03417132\n",
      "Next Learning Rate: 0.00025\n",
      "[2.3782287, 0.7950086, 0.35786057, 0.2447466, 0.2167174, 0.20529981, 0.19954538, 0.19615844, 0.1937069, 0.19180797, 0.19013254, 0.18884797, 0.18788813, 0.18694536, 0.18621361, 0.1854996, 0.18498105, 0.184461, 0.18402763, 0.183599, 0.18330263, 0.18300827, 0.18277481, 0.18251938, 0.18233174, 0.18214868, 0.1819795, 0.18187442, 0.18178234, 0.18165587, 0.18158476, 0.18146335, 0.18140522, 0.18133263, 0.18129501, 0.18125676, 0.18122332, 0.18117924, 0.18114445, 0.1811184]\n",
      "[0.044722207, 0.04354419, 0.042299516, 0.0408212, 0.039347395, 0.038200196, 0.037338488, 0.03668665, 0.036197264, 0.03584042, 0.035536814, 0.035282157, 0.035078086, 0.034904663, 0.034745, 0.034616485, 0.034522302, 0.034459796, 0.034397516, 0.034350973, 0.034322836, 0.034297332, 0.034274198, 0.03425855, 0.034239635, 0.03422601, 0.034211833, 0.034203485, 0.03419772, 0.034194287, 0.03418952, 0.034179788, 0.034180295, 0.034178045, 0.034174915, 0.034172714, 0.034173083, 0.034171727, 0.034171745, 0.03417211]\n"
     ]
    },
    {
     "name": "stderr",
     "output_type": "stream",
     "text": [
      "                                                                                                                                                                  \r"
     ]
    },
    {
     "name": "stdout",
     "output_type": "stream",
     "text": [
      "Epoch 41, total_loss=0.5221, reg_loss = 0.3405\n",
      "  109.43 s in train({'n_hidden_rhs': [], '..., ConditionalAutoEncoder..., cuda, <torch.utils.data.data..., AdamW ( Parameter Grou..., MSELoss(), 41, max_norm=1)\n",
      "   46.80 s in test({'n_hidden_rhs': [], '..., ConditionalAutoEncoder..., cuda, <torch.utils.data.data..., MSELoss())\n",
      "    6.45 s in test({'n_hidden_rhs': [], '..., ConditionalAutoEncoder..., cuda, <torch.utils.data.data..., MSELoss())\n",
      "Train MSE: 0.18104905\n",
      "Valid MSE: 0.03416855\n",
      "Next Learning Rate: 0.00025\n",
      "[2.3782287, 0.7950086, 0.35786057, 0.2447466, 0.2167174, 0.20529981, 0.19954538, 0.19615844, 0.1937069, 0.19180797, 0.19013254, 0.18884797, 0.18788813, 0.18694536, 0.18621361, 0.1854996, 0.18498105, 0.184461, 0.18402763, 0.183599, 0.18330263, 0.18300827, 0.18277481, 0.18251938, 0.18233174, 0.18214868, 0.1819795, 0.18187442, 0.18178234, 0.18165587, 0.18158476, 0.18146335, 0.18140522, 0.18133263, 0.18129501, 0.18125676, 0.18122332, 0.18117924, 0.18114445, 0.1811184, 0.18108326]\n",
      "[0.044722207, 0.04354419, 0.042299516, 0.0408212, 0.039347395, 0.038200196, 0.037338488, 0.03668665, 0.036197264, 0.03584042, 0.035536814, 0.035282157, 0.035078086, 0.034904663, 0.034745, 0.034616485, 0.034522302, 0.034459796, 0.034397516, 0.034350973, 0.034322836, 0.034297332, 0.034274198, 0.03425855, 0.034239635, 0.03422601, 0.034211833, 0.034203485, 0.03419772, 0.034194287, 0.03418952, 0.034179788, 0.034180295, 0.034178045, 0.034174915, 0.034172714, 0.034173083, 0.034171727, 0.034171745, 0.03417211, 0.03417132]\n"
     ]
    },
    {
     "name": "stderr",
     "output_type": "stream",
     "text": [
      "                                                                                                                                                                  \r"
     ]
    },
    {
     "name": "stdout",
     "output_type": "stream",
     "text": [
      "Epoch 42, total_loss=0.5129, reg_loss = 0.3383\n",
      "  108.43 s in train({'n_hidden_rhs': [], '..., ConditionalAutoEncoder..., cuda, <torch.utils.data.data..., AdamW ( Parameter Grou..., MSELoss(), 42, max_norm=1)\n",
      "   47.01 s in test({'n_hidden_rhs': [], '..., ConditionalAutoEncoder..., cuda, <torch.utils.data.data..., MSELoss())\n",
      "    6.25 s in test({'n_hidden_rhs': [], '..., ConditionalAutoEncoder..., cuda, <torch.utils.data.data..., MSELoss())\n",
      "Train MSE: 0.18101172\n",
      "Valid MSE: 0.034168858\n",
      "Next Learning Rate: 0.00025\n",
      "[2.3782287, 0.7950086, 0.35786057, 0.2447466, 0.2167174, 0.20529981, 0.19954538, 0.19615844, 0.1937069, 0.19180797, 0.19013254, 0.18884797, 0.18788813, 0.18694536, 0.18621361, 0.1854996, 0.18498105, 0.184461, 0.18402763, 0.183599, 0.18330263, 0.18300827, 0.18277481, 0.18251938, 0.18233174, 0.18214868, 0.1819795, 0.18187442, 0.18178234, 0.18165587, 0.18158476, 0.18146335, 0.18140522, 0.18133263, 0.18129501, 0.18125676, 0.18122332, 0.18117924, 0.18114445, 0.1811184, 0.18108326, 0.18104905]\n",
      "[0.044722207, 0.04354419, 0.042299516, 0.0408212, 0.039347395, 0.038200196, 0.037338488, 0.03668665, 0.036197264, 0.03584042, 0.035536814, 0.035282157, 0.035078086, 0.034904663, 0.034745, 0.034616485, 0.034522302, 0.034459796, 0.034397516, 0.034350973, 0.034322836, 0.034297332, 0.034274198, 0.03425855, 0.034239635, 0.03422601, 0.034211833, 0.034203485, 0.03419772, 0.034194287, 0.03418952, 0.034179788, 0.034180295, 0.034178045, 0.034174915, 0.034172714, 0.034173083, 0.034171727, 0.034171745, 0.03417211, 0.03417132, 0.03416855]\n"
     ]
    },
    {
     "name": "stderr",
     "output_type": "stream",
     "text": [
      "                                                                                                                                                                  \r"
     ]
    },
    {
     "name": "stdout",
     "output_type": "stream",
     "text": [
      "Epoch 43, total_loss=0.5166, reg_loss = 0.3361\n",
      "  109.84 s in train({'n_hidden_rhs': [], '..., ConditionalAutoEncoder..., cuda, <torch.utils.data.data..., AdamW ( Parameter Grou..., MSELoss(), 43, max_norm=1)\n",
      "   46.75 s in test({'n_hidden_rhs': [], '..., ConditionalAutoEncoder..., cuda, <torch.utils.data.data..., MSELoss())\n",
      "    6.21 s in test({'n_hidden_rhs': [], '..., ConditionalAutoEncoder..., cuda, <torch.utils.data.data..., MSELoss())\n",
      "Train MSE: 0.18097655\n",
      "Valid MSE: 0.034167185\n",
      "Next Learning Rate: 0.00025\n",
      "[2.3782287, 0.7950086, 0.35786057, 0.2447466, 0.2167174, 0.20529981, 0.19954538, 0.19615844, 0.1937069, 0.19180797, 0.19013254, 0.18884797, 0.18788813, 0.18694536, 0.18621361, 0.1854996, 0.18498105, 0.184461, 0.18402763, 0.183599, 0.18330263, 0.18300827, 0.18277481, 0.18251938, 0.18233174, 0.18214868, 0.1819795, 0.18187442, 0.18178234, 0.18165587, 0.18158476, 0.18146335, 0.18140522, 0.18133263, 0.18129501, 0.18125676, 0.18122332, 0.18117924, 0.18114445, 0.1811184, 0.18108326, 0.18104905, 0.18101172]\n",
      "[0.044722207, 0.04354419, 0.042299516, 0.0408212, 0.039347395, 0.038200196, 0.037338488, 0.03668665, 0.036197264, 0.03584042, 0.035536814, 0.035282157, 0.035078086, 0.034904663, 0.034745, 0.034616485, 0.034522302, 0.034459796, 0.034397516, 0.034350973, 0.034322836, 0.034297332, 0.034274198, 0.03425855, 0.034239635, 0.03422601, 0.034211833, 0.034203485, 0.03419772, 0.034194287, 0.03418952, 0.034179788, 0.034180295, 0.034178045, 0.034174915, 0.034172714, 0.034173083, 0.034171727, 0.034171745, 0.03417211, 0.03417132, 0.03416855, 0.034168858]\n"
     ]
    },
    {
     "name": "stderr",
     "output_type": "stream",
     "text": [
      "                                                                                                                                                                  \r"
     ]
    },
    {
     "name": "stdout",
     "output_type": "stream",
     "text": [
      "Epoch 44, total_loss=0.5089, reg_loss = 0.3340\n",
      "  108.43 s in train({'n_hidden_rhs': [], '..., ConditionalAutoEncoder..., cuda, <torch.utils.data.data..., AdamW ( Parameter Grou..., MSELoss(), 44, max_norm=1)\n",
      "   46.51 s in test({'n_hidden_rhs': [], '..., ConditionalAutoEncoder..., cuda, <torch.utils.data.data..., MSELoss())\n",
      "    6.18 s in test({'n_hidden_rhs': [], '..., ConditionalAutoEncoder..., cuda, <torch.utils.data.data..., MSELoss())\n",
      "Train MSE: 0.18094715\n",
      "Valid MSE: 0.0341679\n",
      "Next Learning Rate: 0.00025\n",
      "[2.3782287, 0.7950086, 0.35786057, 0.2447466, 0.2167174, 0.20529981, 0.19954538, 0.19615844, 0.1937069, 0.19180797, 0.19013254, 0.18884797, 0.18788813, 0.18694536, 0.18621361, 0.1854996, 0.18498105, 0.184461, 0.18402763, 0.183599, 0.18330263, 0.18300827, 0.18277481, 0.18251938, 0.18233174, 0.18214868, 0.1819795, 0.18187442, 0.18178234, 0.18165587, 0.18158476, 0.18146335, 0.18140522, 0.18133263, 0.18129501, 0.18125676, 0.18122332, 0.18117924, 0.18114445, 0.1811184, 0.18108326, 0.18104905, 0.18101172, 0.18097655]\n",
      "[0.044722207, 0.04354419, 0.042299516, 0.0408212, 0.039347395, 0.038200196, 0.037338488, 0.03668665, 0.036197264, 0.03584042, 0.035536814, 0.035282157, 0.035078086, 0.034904663, 0.034745, 0.034616485, 0.034522302, 0.034459796, 0.034397516, 0.034350973, 0.034322836, 0.034297332, 0.034274198, 0.03425855, 0.034239635, 0.03422601, 0.034211833, 0.034203485, 0.03419772, 0.034194287, 0.03418952, 0.034179788, 0.034180295, 0.034178045, 0.034174915, 0.034172714, 0.034173083, 0.034171727, 0.034171745, 0.03417211, 0.03417132, 0.03416855, 0.034168858, 0.034167185]\n"
     ]
    },
    {
     "name": "stderr",
     "output_type": "stream",
     "text": [
      "                                                                                                                                                                  \r"
     ]
    },
    {
     "name": "stdout",
     "output_type": "stream",
     "text": [
      "Epoch 45, total_loss=0.5059, reg_loss = 0.3318\n",
      "  109.08 s in train({'n_hidden_rhs': [], '..., ConditionalAutoEncoder..., cuda, <torch.utils.data.data..., AdamW ( Parameter Grou..., MSELoss(), 45, max_norm=1)\n",
      "   46.47 s in test({'n_hidden_rhs': [], '..., ConditionalAutoEncoder..., cuda, <torch.utils.data.data..., MSELoss())\n",
      "    6.18 s in test({'n_hidden_rhs': [], '..., ConditionalAutoEncoder..., cuda, <torch.utils.data.data..., MSELoss())\n",
      "Train MSE: 0.18090883\n",
      "Valid MSE: 0.034164548\n",
      "Next Learning Rate: 0.00025\n",
      "[2.3782287, 0.7950086, 0.35786057, 0.2447466, 0.2167174, 0.20529981, 0.19954538, 0.19615844, 0.1937069, 0.19180797, 0.19013254, 0.18884797, 0.18788813, 0.18694536, 0.18621361, 0.1854996, 0.18498105, 0.184461, 0.18402763, 0.183599, 0.18330263, 0.18300827, 0.18277481, 0.18251938, 0.18233174, 0.18214868, 0.1819795, 0.18187442, 0.18178234, 0.18165587, 0.18158476, 0.18146335, 0.18140522, 0.18133263, 0.18129501, 0.18125676, 0.18122332, 0.18117924, 0.18114445, 0.1811184, 0.18108326, 0.18104905, 0.18101172, 0.18097655, 0.18094715]\n",
      "[0.044722207, 0.04354419, 0.042299516, 0.0408212, 0.039347395, 0.038200196, 0.037338488, 0.03668665, 0.036197264, 0.03584042, 0.035536814, 0.035282157, 0.035078086, 0.034904663, 0.034745, 0.034616485, 0.034522302, 0.034459796, 0.034397516, 0.034350973, 0.034322836, 0.034297332, 0.034274198, 0.03425855, 0.034239635, 0.03422601, 0.034211833, 0.034203485, 0.03419772, 0.034194287, 0.03418952, 0.034179788, 0.034180295, 0.034178045, 0.034174915, 0.034172714, 0.034173083, 0.034171727, 0.034171745, 0.03417211, 0.03417132, 0.03416855, 0.034168858, 0.034167185, 0.0341679]\n"
     ]
    },
    {
     "name": "stderr",
     "output_type": "stream",
     "text": [
      "                                                                                                                                                                  \r"
     ]
    },
    {
     "name": "stdout",
     "output_type": "stream",
     "text": [
      "Epoch 46, total_loss=0.5066, reg_loss = 0.3296\n",
      "  109.26 s in train({'n_hidden_rhs': [], '..., ConditionalAutoEncoder..., cuda, <torch.utils.data.data..., AdamW ( Parameter Grou..., MSELoss(), 46, max_norm=1)\n",
      "   46.89 s in test({'n_hidden_rhs': [], '..., ConditionalAutoEncoder..., cuda, <torch.utils.data.data..., MSELoss())\n",
      "    6.23 s in test({'n_hidden_rhs': [], '..., ConditionalAutoEncoder..., cuda, <torch.utils.data.data..., MSELoss())\n",
      "Train MSE: 0.18087007\n",
      "Valid MSE: 0.034163363\n",
      "Next Learning Rate: 0.00025\n",
      "[2.3782287, 0.7950086, 0.35786057, 0.2447466, 0.2167174, 0.20529981, 0.19954538, 0.19615844, 0.1937069, 0.19180797, 0.19013254, 0.18884797, 0.18788813, 0.18694536, 0.18621361, 0.1854996, 0.18498105, 0.184461, 0.18402763, 0.183599, 0.18330263, 0.18300827, 0.18277481, 0.18251938, 0.18233174, 0.18214868, 0.1819795, 0.18187442, 0.18178234, 0.18165587, 0.18158476, 0.18146335, 0.18140522, 0.18133263, 0.18129501, 0.18125676, 0.18122332, 0.18117924, 0.18114445, 0.1811184, 0.18108326, 0.18104905, 0.18101172, 0.18097655, 0.18094715, 0.18090883]\n",
      "[0.044722207, 0.04354419, 0.042299516, 0.0408212, 0.039347395, 0.038200196, 0.037338488, 0.03668665, 0.036197264, 0.03584042, 0.035536814, 0.035282157, 0.035078086, 0.034904663, 0.034745, 0.034616485, 0.034522302, 0.034459796, 0.034397516, 0.034350973, 0.034322836, 0.034297332, 0.034274198, 0.03425855, 0.034239635, 0.03422601, 0.034211833, 0.034203485, 0.03419772, 0.034194287, 0.03418952, 0.034179788, 0.034180295, 0.034178045, 0.034174915, 0.034172714, 0.034173083, 0.034171727, 0.034171745, 0.03417211, 0.03417132, 0.03416855, 0.034168858, 0.034167185, 0.0341679, 0.034164548]\n"
     ]
    },
    {
     "name": "stderr",
     "output_type": "stream",
     "text": [
      "                                                                                                                                                                  \r"
     ]
    },
    {
     "name": "stdout",
     "output_type": "stream",
     "text": [
      "Epoch 47, total_loss=0.5062, reg_loss = 0.3274\n",
      "  109.54 s in train({'n_hidden_rhs': [], '..., ConditionalAutoEncoder..., cuda, <torch.utils.data.data..., AdamW ( Parameter Grou..., MSELoss(), 47, max_norm=1)\n",
      "   46.96 s in test({'n_hidden_rhs': [], '..., ConditionalAutoEncoder..., cuda, <torch.utils.data.data..., MSELoss())\n",
      "    6.29 s in test({'n_hidden_rhs': [], '..., ConditionalAutoEncoder..., cuda, <torch.utils.data.data..., MSELoss())\n",
      "Train MSE: 0.18084884\n",
      "Valid MSE: 0.034163326\n",
      "Next Learning Rate: 0.00025\n",
      "[2.3782287, 0.7950086, 0.35786057, 0.2447466, 0.2167174, 0.20529981, 0.19954538, 0.19615844, 0.1937069, 0.19180797, 0.19013254, 0.18884797, 0.18788813, 0.18694536, 0.18621361, 0.1854996, 0.18498105, 0.184461, 0.18402763, 0.183599, 0.18330263, 0.18300827, 0.18277481, 0.18251938, 0.18233174, 0.18214868, 0.1819795, 0.18187442, 0.18178234, 0.18165587, 0.18158476, 0.18146335, 0.18140522, 0.18133263, 0.18129501, 0.18125676, 0.18122332, 0.18117924, 0.18114445, 0.1811184, 0.18108326, 0.18104905, 0.18101172, 0.18097655, 0.18094715, 0.18090883, 0.18087007]\n",
      "[0.044722207, 0.04354419, 0.042299516, 0.0408212, 0.039347395, 0.038200196, 0.037338488, 0.03668665, 0.036197264, 0.03584042, 0.035536814, 0.035282157, 0.035078086, 0.034904663, 0.034745, 0.034616485, 0.034522302, 0.034459796, 0.034397516, 0.034350973, 0.034322836, 0.034297332, 0.034274198, 0.03425855, 0.034239635, 0.03422601, 0.034211833, 0.034203485, 0.03419772, 0.034194287, 0.03418952, 0.034179788, 0.034180295, 0.034178045, 0.034174915, 0.034172714, 0.034173083, 0.034171727, 0.034171745, 0.03417211, 0.03417132, 0.03416855, 0.034168858, 0.034167185, 0.0341679, 0.034164548, 0.034163363]\n"
     ]
    },
    {
     "name": "stderr",
     "output_type": "stream",
     "text": [
      "                                                                                                                                                                  \r"
     ]
    },
    {
     "name": "stdout",
     "output_type": "stream",
     "text": [
      "Epoch 48, total_loss=0.5006, reg_loss = 0.3252\n",
      "  109.86 s in train({'n_hidden_rhs': [], '..., ConditionalAutoEncoder..., cuda, <torch.utils.data.data..., AdamW ( Parameter Grou..., MSELoss(), 48, max_norm=1)\n",
      "   46.78 s in test({'n_hidden_rhs': [], '..., ConditionalAutoEncoder..., cuda, <torch.utils.data.data..., MSELoss())\n",
      "    6.23 s in test({'n_hidden_rhs': [], '..., ConditionalAutoEncoder..., cuda, <torch.utils.data.data..., MSELoss())\n",
      "Train MSE: 0.18080966\n",
      "Valid MSE: 0.03415849\n",
      "Next Learning Rate: 0.000125\n",
      "[2.3782287, 0.7950086, 0.35786057, 0.2447466, 0.2167174, 0.20529981, 0.19954538, 0.19615844, 0.1937069, 0.19180797, 0.19013254, 0.18884797, 0.18788813, 0.18694536, 0.18621361, 0.1854996, 0.18498105, 0.184461, 0.18402763, 0.183599, 0.18330263, 0.18300827, 0.18277481, 0.18251938, 0.18233174, 0.18214868, 0.1819795, 0.18187442, 0.18178234, 0.18165587, 0.18158476, 0.18146335, 0.18140522, 0.18133263, 0.18129501, 0.18125676, 0.18122332, 0.18117924, 0.18114445, 0.1811184, 0.18108326, 0.18104905, 0.18101172, 0.18097655, 0.18094715, 0.18090883, 0.18087007, 0.18084884]\n",
      "[0.044722207, 0.04354419, 0.042299516, 0.0408212, 0.039347395, 0.038200196, 0.037338488, 0.03668665, 0.036197264, 0.03584042, 0.035536814, 0.035282157, 0.035078086, 0.034904663, 0.034745, 0.034616485, 0.034522302, 0.034459796, 0.034397516, 0.034350973, 0.034322836, 0.034297332, 0.034274198, 0.03425855, 0.034239635, 0.03422601, 0.034211833, 0.034203485, 0.03419772, 0.034194287, 0.03418952, 0.034179788, 0.034180295, 0.034178045, 0.034174915, 0.034172714, 0.034173083, 0.034171727, 0.034171745, 0.03417211, 0.03417132, 0.03416855, 0.034168858, 0.034167185, 0.0341679, 0.034164548, 0.034163363, 0.034163326]\n"
     ]
    },
    {
     "name": "stderr",
     "output_type": "stream",
     "text": [
      "                                                                                                                                                                  \r"
     ]
    },
    {
     "name": "stdout",
     "output_type": "stream",
     "text": [
      "Epoch 49, total_loss=0.5021, reg_loss = 0.3235\n",
      "  108.70 s in train({'n_hidden_rhs': [], '..., ConditionalAutoEncoder..., cuda, <torch.utils.data.data..., AdamW ( Parameter Grou..., MSELoss(), 49, max_norm=1)\n",
      "   46.80 s in test({'n_hidden_rhs': [], '..., ConditionalAutoEncoder..., cuda, <torch.utils.data.data..., MSELoss())\n",
      "    6.21 s in test({'n_hidden_rhs': [], '..., ConditionalAutoEncoder..., cuda, <torch.utils.data.data..., MSELoss())\n",
      "Train MSE: 0.18080327\n",
      "Valid MSE: 0.034158975\n",
      "Next Learning Rate: 0.000125\n",
      "[2.3782287, 0.7950086, 0.35786057, 0.2447466, 0.2167174, 0.20529981, 0.19954538, 0.19615844, 0.1937069, 0.19180797, 0.19013254, 0.18884797, 0.18788813, 0.18694536, 0.18621361, 0.1854996, 0.18498105, 0.184461, 0.18402763, 0.183599, 0.18330263, 0.18300827, 0.18277481, 0.18251938, 0.18233174, 0.18214868, 0.1819795, 0.18187442, 0.18178234, 0.18165587, 0.18158476, 0.18146335, 0.18140522, 0.18133263, 0.18129501, 0.18125676, 0.18122332, 0.18117924, 0.18114445, 0.1811184, 0.18108326, 0.18104905, 0.18101172, 0.18097655, 0.18094715, 0.18090883, 0.18087007, 0.18084884, 0.18080966]\n",
      "[0.044722207, 0.04354419, 0.042299516, 0.0408212, 0.039347395, 0.038200196, 0.037338488, 0.03668665, 0.036197264, 0.03584042, 0.035536814, 0.035282157, 0.035078086, 0.034904663, 0.034745, 0.034616485, 0.034522302, 0.034459796, 0.034397516, 0.034350973, 0.034322836, 0.034297332, 0.034274198, 0.03425855, 0.034239635, 0.03422601, 0.034211833, 0.034203485, 0.03419772, 0.034194287, 0.03418952, 0.034179788, 0.034180295, 0.034178045, 0.034174915, 0.034172714, 0.034173083, 0.034171727, 0.034171745, 0.03417211, 0.03417132, 0.03416855, 0.034168858, 0.034167185, 0.0341679, 0.034164548, 0.034163363, 0.034163326, 0.03415849]\n"
     ]
    },
    {
     "name": "stderr",
     "output_type": "stream",
     "text": [
      "                                                                                                                                                                  \r"
     ]
    },
    {
     "name": "stdout",
     "output_type": "stream",
     "text": [
      "Epoch 50, total_loss=0.4999, reg_loss = 0.3224\n",
      "  109.00 s in train({'n_hidden_rhs': [], '..., ConditionalAutoEncoder..., cuda, <torch.utils.data.data..., AdamW ( Parameter Grou..., MSELoss(), 50, max_norm=1)\n",
      "   46.52 s in test({'n_hidden_rhs': [], '..., ConditionalAutoEncoder..., cuda, <torch.utils.data.data..., MSELoss())\n",
      "    6.19 s in test({'n_hidden_rhs': [], '..., ConditionalAutoEncoder..., cuda, <torch.utils.data.data..., MSELoss())\n",
      "Train MSE: 0.18078855\n",
      "Valid MSE: 0.034160003\n",
      "Next Learning Rate: 0.000125\n",
      "[2.3782287, 0.7950086, 0.35786057, 0.2447466, 0.2167174, 0.20529981, 0.19954538, 0.19615844, 0.1937069, 0.19180797, 0.19013254, 0.18884797, 0.18788813, 0.18694536, 0.18621361, 0.1854996, 0.18498105, 0.184461, 0.18402763, 0.183599, 0.18330263, 0.18300827, 0.18277481, 0.18251938, 0.18233174, 0.18214868, 0.1819795, 0.18187442, 0.18178234, 0.18165587, 0.18158476, 0.18146335, 0.18140522, 0.18133263, 0.18129501, 0.18125676, 0.18122332, 0.18117924, 0.18114445, 0.1811184, 0.18108326, 0.18104905, 0.18101172, 0.18097655, 0.18094715, 0.18090883, 0.18087007, 0.18084884, 0.18080966, 0.18080327]\n",
      "[0.044722207, 0.04354419, 0.042299516, 0.0408212, 0.039347395, 0.038200196, 0.037338488, 0.03668665, 0.036197264, 0.03584042, 0.035536814, 0.035282157, 0.035078086, 0.034904663, 0.034745, 0.034616485, 0.034522302, 0.034459796, 0.034397516, 0.034350973, 0.034322836, 0.034297332, 0.034274198, 0.03425855, 0.034239635, 0.03422601, 0.034211833, 0.034203485, 0.03419772, 0.034194287, 0.03418952, 0.034179788, 0.034180295, 0.034178045, 0.034174915, 0.034172714, 0.034173083, 0.034171727, 0.034171745, 0.03417211, 0.03417132, 0.03416855, 0.034168858, 0.034167185, 0.0341679, 0.034164548, 0.034163363, 0.034163326, 0.03415849, 0.034158975]\n"
     ]
    },
    {
     "name": "stderr",
     "output_type": "stream",
     "text": [
      "                                                                                                                                                                  \r"
     ]
    },
    {
     "name": "stdout",
     "output_type": "stream",
     "text": [
      "Epoch 51, total_loss=0.4994, reg_loss = 0.3213\n",
      "  110.67 s in train({'n_hidden_rhs': [], '..., ConditionalAutoEncoder..., cuda, <torch.utils.data.data..., AdamW ( Parameter Grou..., MSELoss(), 51, max_norm=1)\n",
      "   46.84 s in test({'n_hidden_rhs': [], '..., ConditionalAutoEncoder..., cuda, <torch.utils.data.data..., MSELoss())\n",
      "    6.33 s in test({'n_hidden_rhs': [], '..., ConditionalAutoEncoder..., cuda, <torch.utils.data.data..., MSELoss())\n",
      "Train MSE: 0.18076843\n",
      "Valid MSE: 0.034158505\n",
      "Next Learning Rate: 0.000125\n",
      "[2.3782287, 0.7950086, 0.35786057, 0.2447466, 0.2167174, 0.20529981, 0.19954538, 0.19615844, 0.1937069, 0.19180797, 0.19013254, 0.18884797, 0.18788813, 0.18694536, 0.18621361, 0.1854996, 0.18498105, 0.184461, 0.18402763, 0.183599, 0.18330263, 0.18300827, 0.18277481, 0.18251938, 0.18233174, 0.18214868, 0.1819795, 0.18187442, 0.18178234, 0.18165587, 0.18158476, 0.18146335, 0.18140522, 0.18133263, 0.18129501, 0.18125676, 0.18122332, 0.18117924, 0.18114445, 0.1811184, 0.18108326, 0.18104905, 0.18101172, 0.18097655, 0.18094715, 0.18090883, 0.18087007, 0.18084884, 0.18080966, 0.18080327, 0.18078855]\n",
      "[0.044722207, 0.04354419, 0.042299516, 0.0408212, 0.039347395, 0.038200196, 0.037338488, 0.03668665, 0.036197264, 0.03584042, 0.035536814, 0.035282157, 0.035078086, 0.034904663, 0.034745, 0.034616485, 0.034522302, 0.034459796, 0.034397516, 0.034350973, 0.034322836, 0.034297332, 0.034274198, 0.03425855, 0.034239635, 0.03422601, 0.034211833, 0.034203485, 0.03419772, 0.034194287, 0.03418952, 0.034179788, 0.034180295, 0.034178045, 0.034174915, 0.034172714, 0.034173083, 0.034171727, 0.034171745, 0.03417211, 0.03417132, 0.03416855, 0.034168858, 0.034167185, 0.0341679, 0.034164548, 0.034163363, 0.034163326, 0.03415849, 0.034158975, 0.034160003]\n"
     ]
    },
    {
     "name": "stderr",
     "output_type": "stream",
     "text": [
      "                                                                                                                                                                  \r"
     ]
    },
    {
     "name": "stdout",
     "output_type": "stream",
     "text": [
      "Epoch 52, total_loss=0.4995, reg_loss = 0.3202\n",
      "  109.68 s in train({'n_hidden_rhs': [], '..., ConditionalAutoEncoder..., cuda, <torch.utils.data.data..., AdamW ( Parameter Grou..., MSELoss(), 52, max_norm=1)\n",
      "   47.32 s in test({'n_hidden_rhs': [], '..., ConditionalAutoEncoder..., cuda, <torch.utils.data.data..., MSELoss())\n",
      "    6.19 s in test({'n_hidden_rhs': [], '..., ConditionalAutoEncoder..., cuda, <torch.utils.data.data..., MSELoss())\n",
      "Train MSE: 0.18075284\n",
      "Valid MSE: 0.034158956\n",
      "Next Learning Rate: 0.000125\n",
      "[2.3782287, 0.7950086, 0.35786057, 0.2447466, 0.2167174, 0.20529981, 0.19954538, 0.19615844, 0.1937069, 0.19180797, 0.19013254, 0.18884797, 0.18788813, 0.18694536, 0.18621361, 0.1854996, 0.18498105, 0.184461, 0.18402763, 0.183599, 0.18330263, 0.18300827, 0.18277481, 0.18251938, 0.18233174, 0.18214868, 0.1819795, 0.18187442, 0.18178234, 0.18165587, 0.18158476, 0.18146335, 0.18140522, 0.18133263, 0.18129501, 0.18125676, 0.18122332, 0.18117924, 0.18114445, 0.1811184, 0.18108326, 0.18104905, 0.18101172, 0.18097655, 0.18094715, 0.18090883, 0.18087007, 0.18084884, 0.18080966, 0.18080327, 0.18078855, 0.18076843]\n",
      "[0.044722207, 0.04354419, 0.042299516, 0.0408212, 0.039347395, 0.038200196, 0.037338488, 0.03668665, 0.036197264, 0.03584042, 0.035536814, 0.035282157, 0.035078086, 0.034904663, 0.034745, 0.034616485, 0.034522302, 0.034459796, 0.034397516, 0.034350973, 0.034322836, 0.034297332, 0.034274198, 0.03425855, 0.034239635, 0.03422601, 0.034211833, 0.034203485, 0.03419772, 0.034194287, 0.03418952, 0.034179788, 0.034180295, 0.034178045, 0.034174915, 0.034172714, 0.034173083, 0.034171727, 0.034171745, 0.03417211, 0.03417132, 0.03416855, 0.034168858, 0.034167185, 0.0341679, 0.034164548, 0.034163363, 0.034163326, 0.03415849, 0.034158975, 0.034160003, 0.034158505]\n"
     ]
    },
    {
     "name": "stderr",
     "output_type": "stream",
     "text": [
      "                                                                                                                                                                  \r"
     ]
    },
    {
     "name": "stdout",
     "output_type": "stream",
     "text": [
      "Epoch 53, total_loss=0.4979, reg_loss = 0.3191\n",
      "  109.38 s in train({'n_hidden_rhs': [], '..., ConditionalAutoEncoder..., cuda, <torch.utils.data.data..., AdamW ( Parameter Grou..., MSELoss(), 53, max_norm=1)\n",
      "   46.96 s in test({'n_hidden_rhs': [], '..., ConditionalAutoEncoder..., cuda, <torch.utils.data.data..., MSELoss())\n",
      "    6.42 s in test({'n_hidden_rhs': [], '..., ConditionalAutoEncoder..., cuda, <torch.utils.data.data..., MSELoss())\n",
      "Train MSE: 0.18073566\n",
      "Valid MSE: 0.034156438\n",
      "Next Learning Rate: 0.000125\n",
      "[2.3782287, 0.7950086, 0.35786057, 0.2447466, 0.2167174, 0.20529981, 0.19954538, 0.19615844, 0.1937069, 0.19180797, 0.19013254, 0.18884797, 0.18788813, 0.18694536, 0.18621361, 0.1854996, 0.18498105, 0.184461, 0.18402763, 0.183599, 0.18330263, 0.18300827, 0.18277481, 0.18251938, 0.18233174, 0.18214868, 0.1819795, 0.18187442, 0.18178234, 0.18165587, 0.18158476, 0.18146335, 0.18140522, 0.18133263, 0.18129501, 0.18125676, 0.18122332, 0.18117924, 0.18114445, 0.1811184, 0.18108326, 0.18104905, 0.18101172, 0.18097655, 0.18094715, 0.18090883, 0.18087007, 0.18084884, 0.18080966, 0.18080327, 0.18078855, 0.18076843, 0.18075284]\n",
      "[0.044722207, 0.04354419, 0.042299516, 0.0408212, 0.039347395, 0.038200196, 0.037338488, 0.03668665, 0.036197264, 0.03584042, 0.035536814, 0.035282157, 0.035078086, 0.034904663, 0.034745, 0.034616485, 0.034522302, 0.034459796, 0.034397516, 0.034350973, 0.034322836, 0.034297332, 0.034274198, 0.03425855, 0.034239635, 0.03422601, 0.034211833, 0.034203485, 0.03419772, 0.034194287, 0.03418952, 0.034179788, 0.034180295, 0.034178045, 0.034174915, 0.034172714, 0.034173083, 0.034171727, 0.034171745, 0.03417211, 0.03417132, 0.03416855, 0.034168858, 0.034167185, 0.0341679, 0.034164548, 0.034163363, 0.034163326, 0.03415849, 0.034158975, 0.034160003, 0.034158505, 0.034158956]\n"
     ]
    },
    {
     "name": "stderr",
     "output_type": "stream",
     "text": [
      "                                                                                                                                                                  \r"
     ]
    },
    {
     "name": "stdout",
     "output_type": "stream",
     "text": [
      "Epoch 54, total_loss=0.5070, reg_loss = 0.3180\n",
      "  108.39 s in train({'n_hidden_rhs': [], '..., ConditionalAutoEncoder..., cuda, <torch.utils.data.data..., AdamW ( Parameter Grou..., MSELoss(), 54, max_norm=1)\n",
      "   46.70 s in test({'n_hidden_rhs': [], '..., ConditionalAutoEncoder..., cuda, <torch.utils.data.data..., MSELoss())\n",
      "    6.25 s in test({'n_hidden_rhs': [], '..., ConditionalAutoEncoder..., cuda, <torch.utils.data.data..., MSELoss())\n",
      "Train MSE: 0.1807192\n",
      "Valid MSE: 0.03415626\n",
      "Next Learning Rate: 0.000125\n",
      "[2.3782287, 0.7950086, 0.35786057, 0.2447466, 0.2167174, 0.20529981, 0.19954538, 0.19615844, 0.1937069, 0.19180797, 0.19013254, 0.18884797, 0.18788813, 0.18694536, 0.18621361, 0.1854996, 0.18498105, 0.184461, 0.18402763, 0.183599, 0.18330263, 0.18300827, 0.18277481, 0.18251938, 0.18233174, 0.18214868, 0.1819795, 0.18187442, 0.18178234, 0.18165587, 0.18158476, 0.18146335, 0.18140522, 0.18133263, 0.18129501, 0.18125676, 0.18122332, 0.18117924, 0.18114445, 0.1811184, 0.18108326, 0.18104905, 0.18101172, 0.18097655, 0.18094715, 0.18090883, 0.18087007, 0.18084884, 0.18080966, 0.18080327, 0.18078855, 0.18076843, 0.18075284, 0.18073566]\n",
      "[0.044722207, 0.04354419, 0.042299516, 0.0408212, 0.039347395, 0.038200196, 0.037338488, 0.03668665, 0.036197264, 0.03584042, 0.035536814, 0.035282157, 0.035078086, 0.034904663, 0.034745, 0.034616485, 0.034522302, 0.034459796, 0.034397516, 0.034350973, 0.034322836, 0.034297332, 0.034274198, 0.03425855, 0.034239635, 0.03422601, 0.034211833, 0.034203485, 0.03419772, 0.034194287, 0.03418952, 0.034179788, 0.034180295, 0.034178045, 0.034174915, 0.034172714, 0.034173083, 0.034171727, 0.034171745, 0.03417211, 0.03417132, 0.03416855, 0.034168858, 0.034167185, 0.0341679, 0.034164548, 0.034163363, 0.034163326, 0.03415849, 0.034158975, 0.034160003, 0.034158505, 0.034158956, 0.034156438]\n"
     ]
    },
    {
     "name": "stderr",
     "output_type": "stream",
     "text": [
      "                                                                                                                                                                  \r"
     ]
    },
    {
     "name": "stdout",
     "output_type": "stream",
     "text": [
      "Epoch 55, total_loss=0.4864, reg_loss = 0.3169\n",
      "  110.86 s in train({'n_hidden_rhs': [], '..., ConditionalAutoEncoder..., cuda, <torch.utils.data.data..., AdamW ( Parameter Grou..., MSELoss(), 55, max_norm=1)\n",
      "   46.92 s in test({'n_hidden_rhs': [], '..., ConditionalAutoEncoder..., cuda, <torch.utils.data.data..., MSELoss())\n",
      "    6.32 s in test({'n_hidden_rhs': [], '..., ConditionalAutoEncoder..., cuda, <torch.utils.data.data..., MSELoss())\n",
      "Train MSE: 0.18070611\n",
      "Valid MSE: 0.034155138\n",
      "Next Learning Rate: 0.000125\n",
      "[2.3782287, 0.7950086, 0.35786057, 0.2447466, 0.2167174, 0.20529981, 0.19954538, 0.19615844, 0.1937069, 0.19180797, 0.19013254, 0.18884797, 0.18788813, 0.18694536, 0.18621361, 0.1854996, 0.18498105, 0.184461, 0.18402763, 0.183599, 0.18330263, 0.18300827, 0.18277481, 0.18251938, 0.18233174, 0.18214868, 0.1819795, 0.18187442, 0.18178234, 0.18165587, 0.18158476, 0.18146335, 0.18140522, 0.18133263, 0.18129501, 0.18125676, 0.18122332, 0.18117924, 0.18114445, 0.1811184, 0.18108326, 0.18104905, 0.18101172, 0.18097655, 0.18094715, 0.18090883, 0.18087007, 0.18084884, 0.18080966, 0.18080327, 0.18078855, 0.18076843, 0.18075284, 0.18073566, 0.1807192]\n",
      "[0.044722207, 0.04354419, 0.042299516, 0.0408212, 0.039347395, 0.038200196, 0.037338488, 0.03668665, 0.036197264, 0.03584042, 0.035536814, 0.035282157, 0.035078086, 0.034904663, 0.034745, 0.034616485, 0.034522302, 0.034459796, 0.034397516, 0.034350973, 0.034322836, 0.034297332, 0.034274198, 0.03425855, 0.034239635, 0.03422601, 0.034211833, 0.034203485, 0.03419772, 0.034194287, 0.03418952, 0.034179788, 0.034180295, 0.034178045, 0.034174915, 0.034172714, 0.034173083, 0.034171727, 0.034171745, 0.03417211, 0.03417132, 0.03416855, 0.034168858, 0.034167185, 0.0341679, 0.034164548, 0.034163363, 0.034163326, 0.03415849, 0.034158975, 0.034160003, 0.034158505, 0.034158956, 0.034156438, 0.03415626]\n"
     ]
    },
    {
     "name": "stderr",
     "output_type": "stream",
     "text": [
      "                                                                                                                                                                  \r"
     ]
    },
    {
     "name": "stdout",
     "output_type": "stream",
     "text": [
      "Epoch 56, total_loss=0.4904, reg_loss = 0.3158\n",
      "  109.85 s in train({'n_hidden_rhs': [], '..., ConditionalAutoEncoder..., cuda, <torch.utils.data.data..., AdamW ( Parameter Grou..., MSELoss(), 56, max_norm=1)\n",
      "   46.93 s in test({'n_hidden_rhs': [], '..., ConditionalAutoEncoder..., cuda, <torch.utils.data.data..., MSELoss())\n",
      "    6.28 s in test({'n_hidden_rhs': [], '..., ConditionalAutoEncoder..., cuda, <torch.utils.data.data..., MSELoss())\n",
      "Train MSE: 0.18069142\n",
      "Valid MSE: 0.03415617\n",
      "Next Learning Rate: 0.000125\n",
      "[2.3782287, 0.7950086, 0.35786057, 0.2447466, 0.2167174, 0.20529981, 0.19954538, 0.19615844, 0.1937069, 0.19180797, 0.19013254, 0.18884797, 0.18788813, 0.18694536, 0.18621361, 0.1854996, 0.18498105, 0.184461, 0.18402763, 0.183599, 0.18330263, 0.18300827, 0.18277481, 0.18251938, 0.18233174, 0.18214868, 0.1819795, 0.18187442, 0.18178234, 0.18165587, 0.18158476, 0.18146335, 0.18140522, 0.18133263, 0.18129501, 0.18125676, 0.18122332, 0.18117924, 0.18114445, 0.1811184, 0.18108326, 0.18104905, 0.18101172, 0.18097655, 0.18094715, 0.18090883, 0.18087007, 0.18084884, 0.18080966, 0.18080327, 0.18078855, 0.18076843, 0.18075284, 0.18073566, 0.1807192, 0.18070611]\n",
      "[0.044722207, 0.04354419, 0.042299516, 0.0408212, 0.039347395, 0.038200196, 0.037338488, 0.03668665, 0.036197264, 0.03584042, 0.035536814, 0.035282157, 0.035078086, 0.034904663, 0.034745, 0.034616485, 0.034522302, 0.034459796, 0.034397516, 0.034350973, 0.034322836, 0.034297332, 0.034274198, 0.03425855, 0.034239635, 0.03422601, 0.034211833, 0.034203485, 0.03419772, 0.034194287, 0.03418952, 0.034179788, 0.034180295, 0.034178045, 0.034174915, 0.034172714, 0.034173083, 0.034171727, 0.034171745, 0.03417211, 0.03417132, 0.03416855, 0.034168858, 0.034167185, 0.0341679, 0.034164548, 0.034163363, 0.034163326, 0.03415849, 0.034158975, 0.034160003, 0.034158505, 0.034158956, 0.034156438, 0.03415626, 0.034155138]\n"
     ]
    },
    {
     "name": "stderr",
     "output_type": "stream",
     "text": [
      "                                                                                                                                                                  \r"
     ]
    },
    {
     "name": "stdout",
     "output_type": "stream",
     "text": [
      "Epoch 57, total_loss=0.4929, reg_loss = 0.3147\n",
      "  110.33 s in train({'n_hidden_rhs': [], '..., ConditionalAutoEncoder..., cuda, <torch.utils.data.data..., AdamW ( Parameter Grou..., MSELoss(), 57, max_norm=1)\n",
      "   47.20 s in test({'n_hidden_rhs': [], '..., ConditionalAutoEncoder..., cuda, <torch.utils.data.data..., MSELoss())\n",
      "    6.28 s in test({'n_hidden_rhs': [], '..., ConditionalAutoEncoder..., cuda, <torch.utils.data.data..., MSELoss())\n",
      "Train MSE: 0.180677\n",
      "Valid MSE: 0.034155842\n",
      "Next Learning Rate: 0.000125\n",
      "[2.3782287, 0.7950086, 0.35786057, 0.2447466, 0.2167174, 0.20529981, 0.19954538, 0.19615844, 0.1937069, 0.19180797, 0.19013254, 0.18884797, 0.18788813, 0.18694536, 0.18621361, 0.1854996, 0.18498105, 0.184461, 0.18402763, 0.183599, 0.18330263, 0.18300827, 0.18277481, 0.18251938, 0.18233174, 0.18214868, 0.1819795, 0.18187442, 0.18178234, 0.18165587, 0.18158476, 0.18146335, 0.18140522, 0.18133263, 0.18129501, 0.18125676, 0.18122332, 0.18117924, 0.18114445, 0.1811184, 0.18108326, 0.18104905, 0.18101172, 0.18097655, 0.18094715, 0.18090883, 0.18087007, 0.18084884, 0.18080966, 0.18080327, 0.18078855, 0.18076843, 0.18075284, 0.18073566, 0.1807192, 0.18070611, 0.18069142]\n",
      "[0.044722207, 0.04354419, 0.042299516, 0.0408212, 0.039347395, 0.038200196, 0.037338488, 0.03668665, 0.036197264, 0.03584042, 0.035536814, 0.035282157, 0.035078086, 0.034904663, 0.034745, 0.034616485, 0.034522302, 0.034459796, 0.034397516, 0.034350973, 0.034322836, 0.034297332, 0.034274198, 0.03425855, 0.034239635, 0.03422601, 0.034211833, 0.034203485, 0.03419772, 0.034194287, 0.03418952, 0.034179788, 0.034180295, 0.034178045, 0.034174915, 0.034172714, 0.034173083, 0.034171727, 0.034171745, 0.03417211, 0.03417132, 0.03416855, 0.034168858, 0.034167185, 0.0341679, 0.034164548, 0.034163363, 0.034163326, 0.03415849, 0.034158975, 0.034160003, 0.034158505, 0.034158956, 0.034156438, 0.03415626, 0.034155138, 0.03415617]\n"
     ]
    },
    {
     "name": "stderr",
     "output_type": "stream",
     "text": [
      "                                                                                                                                                                  \r"
     ]
    },
    {
     "name": "stdout",
     "output_type": "stream",
     "text": [
      "Epoch 58, total_loss=0.4857, reg_loss = 0.3135\n",
      "  110.25 s in train({'n_hidden_rhs': [], '..., ConditionalAutoEncoder..., cuda, <torch.utils.data.data..., AdamW ( Parameter Grou..., MSELoss(), 58, max_norm=1)\n",
      "   47.16 s in test({'n_hidden_rhs': [], '..., ConditionalAutoEncoder..., cuda, <torch.utils.data.data..., MSELoss())\n",
      "    6.27 s in test({'n_hidden_rhs': [], '..., ConditionalAutoEncoder..., cuda, <torch.utils.data.data..., MSELoss())\n",
      "Train MSE: 0.18066666\n",
      "Valid MSE: 0.03415574\n",
      "Next Learning Rate: 0.000125\n",
      "[2.3782287, 0.7950086, 0.35786057, 0.2447466, 0.2167174, 0.20529981, 0.19954538, 0.19615844, 0.1937069, 0.19180797, 0.19013254, 0.18884797, 0.18788813, 0.18694536, 0.18621361, 0.1854996, 0.18498105, 0.184461, 0.18402763, 0.183599, 0.18330263, 0.18300827, 0.18277481, 0.18251938, 0.18233174, 0.18214868, 0.1819795, 0.18187442, 0.18178234, 0.18165587, 0.18158476, 0.18146335, 0.18140522, 0.18133263, 0.18129501, 0.18125676, 0.18122332, 0.18117924, 0.18114445, 0.1811184, 0.18108326, 0.18104905, 0.18101172, 0.18097655, 0.18094715, 0.18090883, 0.18087007, 0.18084884, 0.18080966, 0.18080327, 0.18078855, 0.18076843, 0.18075284, 0.18073566, 0.1807192, 0.18070611, 0.18069142, 0.180677]\n",
      "[0.044722207, 0.04354419, 0.042299516, 0.0408212, 0.039347395, 0.038200196, 0.037338488, 0.03668665, 0.036197264, 0.03584042, 0.035536814, 0.035282157, 0.035078086, 0.034904663, 0.034745, 0.034616485, 0.034522302, 0.034459796, 0.034397516, 0.034350973, 0.034322836, 0.034297332, 0.034274198, 0.03425855, 0.034239635, 0.03422601, 0.034211833, 0.034203485, 0.03419772, 0.034194287, 0.03418952, 0.034179788, 0.034180295, 0.034178045, 0.034174915, 0.034172714, 0.034173083, 0.034171727, 0.034171745, 0.03417211, 0.03417132, 0.03416855, 0.034168858, 0.034167185, 0.0341679, 0.034164548, 0.034163363, 0.034163326, 0.03415849, 0.034158975, 0.034160003, 0.034158505, 0.034158956, 0.034156438, 0.03415626, 0.034155138, 0.03415617, 0.034155842]\n"
     ]
    },
    {
     "name": "stderr",
     "output_type": "stream",
     "text": [
      "                                                                                                                                                                  \r"
     ]
    },
    {
     "name": "stdout",
     "output_type": "stream",
     "text": [
      "Epoch 59, total_loss=0.4848, reg_loss = 0.3124\n",
      "  110.88 s in train({'n_hidden_rhs': [], '..., ConditionalAutoEncoder..., cuda, <torch.utils.data.data..., AdamW ( Parameter Grou..., MSELoss(), 59, max_norm=1)\n",
      "   47.43 s in test({'n_hidden_rhs': [], '..., ConditionalAutoEncoder..., cuda, <torch.utils.data.data..., MSELoss())\n",
      "    6.37 s in test({'n_hidden_rhs': [], '..., ConditionalAutoEncoder..., cuda, <torch.utils.data.data..., MSELoss())\n",
      "Train MSE: 0.1806464\n",
      "Valid MSE: 0.034154505\n",
      "Next Learning Rate: 0.000125\n",
      "[2.3782287, 0.7950086, 0.35786057, 0.2447466, 0.2167174, 0.20529981, 0.19954538, 0.19615844, 0.1937069, 0.19180797, 0.19013254, 0.18884797, 0.18788813, 0.18694536, 0.18621361, 0.1854996, 0.18498105, 0.184461, 0.18402763, 0.183599, 0.18330263, 0.18300827, 0.18277481, 0.18251938, 0.18233174, 0.18214868, 0.1819795, 0.18187442, 0.18178234, 0.18165587, 0.18158476, 0.18146335, 0.18140522, 0.18133263, 0.18129501, 0.18125676, 0.18122332, 0.18117924, 0.18114445, 0.1811184, 0.18108326, 0.18104905, 0.18101172, 0.18097655, 0.18094715, 0.18090883, 0.18087007, 0.18084884, 0.18080966, 0.18080327, 0.18078855, 0.18076843, 0.18075284, 0.18073566, 0.1807192, 0.18070611, 0.18069142, 0.180677, 0.18066666]\n",
      "[0.044722207, 0.04354419, 0.042299516, 0.0408212, 0.039347395, 0.038200196, 0.037338488, 0.03668665, 0.036197264, 0.03584042, 0.035536814, 0.035282157, 0.035078086, 0.034904663, 0.034745, 0.034616485, 0.034522302, 0.034459796, 0.034397516, 0.034350973, 0.034322836, 0.034297332, 0.034274198, 0.03425855, 0.034239635, 0.03422601, 0.034211833, 0.034203485, 0.03419772, 0.034194287, 0.03418952, 0.034179788, 0.034180295, 0.034178045, 0.034174915, 0.034172714, 0.034173083, 0.034171727, 0.034171745, 0.03417211, 0.03417132, 0.03416855, 0.034168858, 0.034167185, 0.0341679, 0.034164548, 0.034163363, 0.034163326, 0.03415849, 0.034158975, 0.034160003, 0.034158505, 0.034158956, 0.034156438, 0.03415626, 0.034155138, 0.03415617, 0.034155842, 0.03415574]\n"
     ]
    },
    {
     "name": "stderr",
     "output_type": "stream",
     "text": [
      "                                                                                                                                                                  \r"
     ]
    },
    {
     "name": "stdout",
     "output_type": "stream",
     "text": [
      "Epoch 60, total_loss=0.4878, reg_loss = 0.3113\n",
      "  111.27 s in train({'n_hidden_rhs': [], '..., ConditionalAutoEncoder..., cuda, <torch.utils.data.data..., AdamW ( Parameter Grou..., MSELoss(), 60, max_norm=1)\n",
      "   46.63 s in test({'n_hidden_rhs': [], '..., ConditionalAutoEncoder..., cuda, <torch.utils.data.data..., MSELoss())\n",
      "    6.28 s in test({'n_hidden_rhs': [], '..., ConditionalAutoEncoder..., cuda, <torch.utils.data.data..., MSELoss())\n",
      "Train MSE: 0.18063319\n",
      "Valid MSE: 0.034152985\n",
      "Next Learning Rate: 0.000125\n",
      "[2.3782287, 0.7950086, 0.35786057, 0.2447466, 0.2167174, 0.20529981, 0.19954538, 0.19615844, 0.1937069, 0.19180797, 0.19013254, 0.18884797, 0.18788813, 0.18694536, 0.18621361, 0.1854996, 0.18498105, 0.184461, 0.18402763, 0.183599, 0.18330263, 0.18300827, 0.18277481, 0.18251938, 0.18233174, 0.18214868, 0.1819795, 0.18187442, 0.18178234, 0.18165587, 0.18158476, 0.18146335, 0.18140522, 0.18133263, 0.18129501, 0.18125676, 0.18122332, 0.18117924, 0.18114445, 0.1811184, 0.18108326, 0.18104905, 0.18101172, 0.18097655, 0.18094715, 0.18090883, 0.18087007, 0.18084884, 0.18080966, 0.18080327, 0.18078855, 0.18076843, 0.18075284, 0.18073566, 0.1807192, 0.18070611, 0.18069142, 0.180677, 0.18066666, 0.1806464]\n",
      "[0.044722207, 0.04354419, 0.042299516, 0.0408212, 0.039347395, 0.038200196, 0.037338488, 0.03668665, 0.036197264, 0.03584042, 0.035536814, 0.035282157, 0.035078086, 0.034904663, 0.034745, 0.034616485, 0.034522302, 0.034459796, 0.034397516, 0.034350973, 0.034322836, 0.034297332, 0.034274198, 0.03425855, 0.034239635, 0.03422601, 0.034211833, 0.034203485, 0.03419772, 0.034194287, 0.03418952, 0.034179788, 0.034180295, 0.034178045, 0.034174915, 0.034172714, 0.034173083, 0.034171727, 0.034171745, 0.03417211, 0.03417132, 0.03416855, 0.034168858, 0.034167185, 0.0341679, 0.034164548, 0.034163363, 0.034163326, 0.03415849, 0.034158975, 0.034160003, 0.034158505, 0.034158956, 0.034156438, 0.03415626, 0.034155138, 0.03415617, 0.034155842, 0.03415574, 0.034154505]\n",
      "Training done. Evaluating...\n"
     ]
    },
    {
     "name": "stderr",
     "output_type": "stream",
     "text": [
      "100%|███████████████████████████████████████████████████████████████████████████████████████████████████████████████████████████████| 6/6 [00:10<00:00,  1.72s/it]\n",
      "100%|███████████████████████████████████████████████████████████████████████████████████████████████████████████████████████████████| 4/4 [00:07<00:00,  1.76s/it]\n"
     ]
    }
   ],
   "source": [
    "res_dict = {}\n",
    "\n",
    "with open('res_dict_midterm_corrected.pickle', 'rb') as handle:\n",
    "    res_dict = pickle.load(handle)\n",
    "\n",
    "for i,tpl in enumerate(search_values):\n",
    "    print(f\"Params {i}:\", tpl)\n",
    "    if i < len(res_dict):\n",
    "        continue\n",
    "    args = fixed_args.copy()\n",
    "    for k,v in zip(search_keys,tpl):\n",
    "        args[k] = v\n",
    "        \n",
    "    str_tpl = [str(tpl[0]),\"_\".join(list(map(str,tpl[1]))),\"activation\" if tpl[2] else \"noactivation\"]\n",
    "\n",
    "    log_dict = run(args,n_alphas=29, full_df_lst=full_df_lst, returns_df=returns_df, date_idx=date_idx, \n",
    "                   train_start=48, train_end=360, valid_start=360, valid_end=420, \n",
    "                   n_window=36, batch_size=16,\n",
    "                    checkpoint_name=f'midterm_corrected_layers{str_tpl[0]}_hidden_{str_tpl[1]}_{str_tpl[2]}'\n",
    "#                    checkpoint_name=f'midterm_corrected/layers{str_tpl[0]}_hidden_{str_tpl[1]}_{str_tpl[2]}'\n",
    "                  )\n",
    "    \n",
    "    gc.collect()\n",
    "    torch.cuda.empty_cache()\n",
    "    \n",
    "    res_dict[tpl] = log_dict\n",
    "    \n",
    "    with open('res_dict_midterm_corrected.pickle', 'wb') as handle:\n",
    "        pickle.dump(res_dict, handle, protocol=pickle.HIGHEST_PROTOCOL)\n",
    "    !cp * ../efs/project"
   ]
  },
  {
   "cell_type": "code",
   "execution_count": null,
   "id": "e59fd564",
   "metadata": {},
   "outputs": [],
   "source": [
    "res_dict"
   ]
  },
  {
   "cell_type": "code",
   "execution_count": null,
   "id": "3e919bfe",
   "metadata": {},
   "outputs": [],
   "source": []
  }
 ],
 "metadata": {
  "kernelspec": {
   "display_name": "Python 3 (ipykernel)",
   "language": "python",
   "name": "python3"
  },
  "language_info": {
   "codemirror_mode": {
    "name": "ipython",
    "version": 3
   },
   "file_extension": ".py",
   "mimetype": "text/x-python",
   "name": "python",
   "nbconvert_exporter": "python",
   "pygments_lexer": "ipython3",
   "version": "3.9.12"
  }
 },
 "nbformat": 4,
 "nbformat_minor": 5
}
