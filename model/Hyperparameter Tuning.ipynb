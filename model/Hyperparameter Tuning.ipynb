{
 "cells": [
  {
   "cell_type": "code",
   "execution_count": 1,
   "id": "92d6558f",
   "metadata": {},
   "outputs": [
    {
     "name": "stderr",
     "output_type": "stream",
     "text": [
      "/opt/conda/envs/pytorch/lib/python3.9/site-packages/tqdm/auto.py:22: TqdmWarning: IProgress not found. Please update jupyter and ipywidgets. See https://ipywidgets.readthedocs.io/en/stable/user_install.html\n",
      "  from .autonotebook import tqdm as notebook_tqdm\n"
     ]
    },
    {
     "name": "stdout",
     "output_type": "stream",
     "text": [
      "Defaulting to user installation because normal site-packages is not writeable\n",
      "Requirement already satisfied: funcy in ./.local/lib/python3.9/site-packages (1.17)\n"
     ]
    }
   ],
   "source": [
    "import glob\n",
    "import csv\n",
    "import random\n",
    "import numpy as np\n",
    "import torch\n",
    "import torch.nn as nn\n",
    "import torch.optim as optim\n",
    "from sklearn.metrics import mean_squared_error\n",
    "from sklearn.model_selection import train_test_split\n",
    "!pip install funcy\n",
    "import funcy\n",
    "from funcy import print_durations\n",
    "import pandas as pd\n",
    "import matplotlib.pyplot as plt\n",
    "import seaborn as sns\n",
    "from tqdm import tqdm\n",
    "from torch.cuda.amp import GradScaler\n",
    "torch.backends.cudnn.benchmark = True\n",
    "import datetime\n",
    "import gc\n",
    "import pickle"
   ]
  },
  {
   "cell_type": "code",
   "execution_count": 2,
   "id": "5a150393",
   "metadata": {},
   "outputs": [],
   "source": [
    "start_date = '1980-01-01'"
   ]
  },
  {
   "cell_type": "code",
   "execution_count": 3,
   "id": "ae548f8d",
   "metadata": {},
   "outputs": [
    {
     "data": {
      "text/html": [
       "<div>\n",
       "<style scoped>\n",
       "    .dataframe tbody tr th:only-of-type {\n",
       "        vertical-align: middle;\n",
       "    }\n",
       "\n",
       "    .dataframe tbody tr th {\n",
       "        vertical-align: top;\n",
       "    }\n",
       "\n",
       "    .dataframe thead th {\n",
       "        text-align: right;\n",
       "    }\n",
       "</style>\n",
       "<table border=\"1\" class=\"dataframe\">\n",
       "  <thead>\n",
       "    <tr style=\"text-align: right;\">\n",
       "      <th></th>\n",
       "      <th>0081A</th>\n",
       "      <th>0091A</th>\n",
       "      <th>0099A</th>\n",
       "      <th>0127A</th>\n",
       "      <th>0138A</th>\n",
       "      <th>0146A</th>\n",
       "      <th>0153A</th>\n",
       "      <th>0183B</th>\n",
       "      <th>0223B</th>\n",
       "      <th>0230B</th>\n",
       "      <th>...</th>\n",
       "      <th>ZVXI</th>\n",
       "      <th>ZWRK</th>\n",
       "      <th>ZWS</th>\n",
       "      <th>ZXAIY</th>\n",
       "      <th>ZY</th>\n",
       "      <th>ZYME</th>\n",
       "      <th>ZYNE</th>\n",
       "      <th>ZYXI</th>\n",
       "      <th>ZZ</th>\n",
       "      <th>ZZ1</th>\n",
       "    </tr>\n",
       "    <tr>\n",
       "      <th>datadate</th>\n",
       "      <th></th>\n",
       "      <th></th>\n",
       "      <th></th>\n",
       "      <th></th>\n",
       "      <th></th>\n",
       "      <th></th>\n",
       "      <th></th>\n",
       "      <th></th>\n",
       "      <th></th>\n",
       "      <th></th>\n",
       "      <th></th>\n",
       "      <th></th>\n",
       "      <th></th>\n",
       "      <th></th>\n",
       "      <th></th>\n",
       "      <th></th>\n",
       "      <th></th>\n",
       "      <th></th>\n",
       "      <th></th>\n",
       "      <th></th>\n",
       "      <th></th>\n",
       "    </tr>\n",
       "  </thead>\n",
       "  <tbody>\n",
       "    <tr>\n",
       "      <th>1980-01-31</th>\n",
       "      <td>NaN</td>\n",
       "      <td>0.012579</td>\n",
       "      <td>NaN</td>\n",
       "      <td>0.068182</td>\n",
       "      <td>0.039548</td>\n",
       "      <td>NaN</td>\n",
       "      <td>NaN</td>\n",
       "      <td>NaN</td>\n",
       "      <td>0.007752</td>\n",
       "      <td>NaN</td>\n",
       "      <td>...</td>\n",
       "      <td>NaN</td>\n",
       "      <td>NaN</td>\n",
       "      <td>NaN</td>\n",
       "      <td>NaN</td>\n",
       "      <td>NaN</td>\n",
       "      <td>NaN</td>\n",
       "      <td>NaN</td>\n",
       "      <td>NaN</td>\n",
       "      <td>NaN</td>\n",
       "      <td>0.137500</td>\n",
       "    </tr>\n",
       "    <tr>\n",
       "      <th>1980-02-29</th>\n",
       "      <td>NaN</td>\n",
       "      <td>-0.006211</td>\n",
       "      <td>NaN</td>\n",
       "      <td>0.000000</td>\n",
       "      <td>NaN</td>\n",
       "      <td>NaN</td>\n",
       "      <td>NaN</td>\n",
       "      <td>NaN</td>\n",
       "      <td>-0.086462</td>\n",
       "      <td>NaN</td>\n",
       "      <td>...</td>\n",
       "      <td>NaN</td>\n",
       "      <td>NaN</td>\n",
       "      <td>NaN</td>\n",
       "      <td>NaN</td>\n",
       "      <td>NaN</td>\n",
       "      <td>NaN</td>\n",
       "      <td>NaN</td>\n",
       "      <td>NaN</td>\n",
       "      <td>NaN</td>\n",
       "      <td>-0.164835</td>\n",
       "    </tr>\n",
       "    <tr>\n",
       "      <th>1980-03-31</th>\n",
       "      <td>NaN</td>\n",
       "      <td>-0.306250</td>\n",
       "      <td>NaN</td>\n",
       "      <td>0.007092</td>\n",
       "      <td>NaN</td>\n",
       "      <td>NaN</td>\n",
       "      <td>NaN</td>\n",
       "      <td>NaN</td>\n",
       "      <td>0.000000</td>\n",
       "      <td>NaN</td>\n",
       "      <td>...</td>\n",
       "      <td>NaN</td>\n",
       "      <td>NaN</td>\n",
       "      <td>NaN</td>\n",
       "      <td>NaN</td>\n",
       "      <td>NaN</td>\n",
       "      <td>NaN</td>\n",
       "      <td>NaN</td>\n",
       "      <td>NaN</td>\n",
       "      <td>NaN</td>\n",
       "      <td>-0.118421</td>\n",
       "    </tr>\n",
       "    <tr>\n",
       "      <th>1980-04-30</th>\n",
       "      <td>NaN</td>\n",
       "      <td>0.252252</td>\n",
       "      <td>NaN</td>\n",
       "      <td>-0.126761</td>\n",
       "      <td>NaN</td>\n",
       "      <td>NaN</td>\n",
       "      <td>NaN</td>\n",
       "      <td>NaN</td>\n",
       "      <td>0.139130</td>\n",
       "      <td>NaN</td>\n",
       "      <td>...</td>\n",
       "      <td>NaN</td>\n",
       "      <td>NaN</td>\n",
       "      <td>NaN</td>\n",
       "      <td>NaN</td>\n",
       "      <td>NaN</td>\n",
       "      <td>NaN</td>\n",
       "      <td>NaN</td>\n",
       "      <td>NaN</td>\n",
       "      <td>NaN</td>\n",
       "      <td>-0.029851</td>\n",
       "    </tr>\n",
       "    <tr>\n",
       "      <th>1980-05-31</th>\n",
       "      <td>NaN</td>\n",
       "      <td>0.071942</td>\n",
       "      <td>NaN</td>\n",
       "      <td>0.177419</td>\n",
       "      <td>NaN</td>\n",
       "      <td>NaN</td>\n",
       "      <td>NaN</td>\n",
       "      <td>NaN</td>\n",
       "      <td>0.036336</td>\n",
       "      <td>NaN</td>\n",
       "      <td>...</td>\n",
       "      <td>NaN</td>\n",
       "      <td>NaN</td>\n",
       "      <td>NaN</td>\n",
       "      <td>NaN</td>\n",
       "      <td>NaN</td>\n",
       "      <td>NaN</td>\n",
       "      <td>NaN</td>\n",
       "      <td>NaN</td>\n",
       "      <td>NaN</td>\n",
       "      <td>0.123077</td>\n",
       "    </tr>\n",
       "    <tr>\n",
       "      <th>...</th>\n",
       "      <td>...</td>\n",
       "      <td>...</td>\n",
       "      <td>...</td>\n",
       "      <td>...</td>\n",
       "      <td>...</td>\n",
       "      <td>...</td>\n",
       "      <td>...</td>\n",
       "      <td>...</td>\n",
       "      <td>...</td>\n",
       "      <td>...</td>\n",
       "      <td>...</td>\n",
       "      <td>...</td>\n",
       "      <td>...</td>\n",
       "      <td>...</td>\n",
       "      <td>...</td>\n",
       "      <td>...</td>\n",
       "      <td>...</td>\n",
       "      <td>...</td>\n",
       "      <td>...</td>\n",
       "      <td>...</td>\n",
       "      <td>...</td>\n",
       "    </tr>\n",
       "    <tr>\n",
       "      <th>2021-11-30</th>\n",
       "      <td>NaN</td>\n",
       "      <td>NaN</td>\n",
       "      <td>NaN</td>\n",
       "      <td>NaN</td>\n",
       "      <td>NaN</td>\n",
       "      <td>NaN</td>\n",
       "      <td>NaN</td>\n",
       "      <td>NaN</td>\n",
       "      <td>NaN</td>\n",
       "      <td>NaN</td>\n",
       "      <td>...</td>\n",
       "      <td>NaN</td>\n",
       "      <td>-0.001025</td>\n",
       "      <td>-0.033076</td>\n",
       "      <td>0.001111</td>\n",
       "      <td>-0.145283</td>\n",
       "      <td>-0.096180</td>\n",
       "      <td>-0.096606</td>\n",
       "      <td>0.021548</td>\n",
       "      <td>NaN</td>\n",
       "      <td>NaN</td>\n",
       "    </tr>\n",
       "    <tr>\n",
       "      <th>2021-12-31</th>\n",
       "      <td>NaN</td>\n",
       "      <td>NaN</td>\n",
       "      <td>NaN</td>\n",
       "      <td>NaN</td>\n",
       "      <td>NaN</td>\n",
       "      <td>NaN</td>\n",
       "      <td>NaN</td>\n",
       "      <td>NaN</td>\n",
       "      <td>NaN</td>\n",
       "      <td>NaN</td>\n",
       "      <td>...</td>\n",
       "      <td>NaN</td>\n",
       "      <td>-0.001026</td>\n",
       "      <td>0.038516</td>\n",
       "      <td>0.054384</td>\n",
       "      <td>-0.261589</td>\n",
       "      <td>-0.184983</td>\n",
       "      <td>-0.167630</td>\n",
       "      <td>-0.221094</td>\n",
       "      <td>NaN</td>\n",
       "      <td>NaN</td>\n",
       "    </tr>\n",
       "    <tr>\n",
       "      <th>2022-01-31</th>\n",
       "      <td>NaN</td>\n",
       "      <td>NaN</td>\n",
       "      <td>NaN</td>\n",
       "      <td>NaN</td>\n",
       "      <td>NaN</td>\n",
       "      <td>NaN</td>\n",
       "      <td>NaN</td>\n",
       "      <td>NaN</td>\n",
       "      <td>NaN</td>\n",
       "      <td>NaN</td>\n",
       "      <td>...</td>\n",
       "      <td>NaN</td>\n",
       "      <td>-0.004620</td>\n",
       "      <td>-0.160989</td>\n",
       "      <td>0.084211</td>\n",
       "      <td>-0.222720</td>\n",
       "      <td>-0.456986</td>\n",
       "      <td>-0.093750</td>\n",
       "      <td>-0.115145</td>\n",
       "      <td>NaN</td>\n",
       "      <td>NaN</td>\n",
       "    </tr>\n",
       "    <tr>\n",
       "      <th>2022-02-28</th>\n",
       "      <td>NaN</td>\n",
       "      <td>NaN</td>\n",
       "      <td>NaN</td>\n",
       "      <td>NaN</td>\n",
       "      <td>NaN</td>\n",
       "      <td>NaN</td>\n",
       "      <td>NaN</td>\n",
       "      <td>NaN</td>\n",
       "      <td>NaN</td>\n",
       "      <td>NaN</td>\n",
       "      <td>...</td>\n",
       "      <td>NaN</td>\n",
       "      <td>0.003610</td>\n",
       "      <td>0.065815</td>\n",
       "      <td>0.000000</td>\n",
       "      <td>-0.263462</td>\n",
       "      <td>-0.186517</td>\n",
       "      <td>-0.134100</td>\n",
       "      <td>-0.205808</td>\n",
       "      <td>NaN</td>\n",
       "      <td>NaN</td>\n",
       "    </tr>\n",
       "    <tr>\n",
       "      <th>2022-03-31</th>\n",
       "      <td>NaN</td>\n",
       "      <td>NaN</td>\n",
       "      <td>NaN</td>\n",
       "      <td>NaN</td>\n",
       "      <td>NaN</td>\n",
       "      <td>NaN</td>\n",
       "      <td>NaN</td>\n",
       "      <td>NaN</td>\n",
       "      <td>NaN</td>\n",
       "      <td>NaN</td>\n",
       "      <td>...</td>\n",
       "      <td>NaN</td>\n",
       "      <td>NaN</td>\n",
       "      <td>NaN</td>\n",
       "      <td>NaN</td>\n",
       "      <td>NaN</td>\n",
       "      <td>NaN</td>\n",
       "      <td>NaN</td>\n",
       "      <td>NaN</td>\n",
       "      <td>NaN</td>\n",
       "      <td>NaN</td>\n",
       "    </tr>\n",
       "  </tbody>\n",
       "</table>\n",
       "<p>507 rows × 32354 columns</p>\n",
       "</div>"
      ],
      "text/plain": [
       "            0081A     0091A  0099A     0127A     0138A  0146A  0153A  0183B  \\\n",
       "datadate                                                                      \n",
       "1980-01-31    NaN  0.012579    NaN  0.068182  0.039548    NaN    NaN    NaN   \n",
       "1980-02-29    NaN -0.006211    NaN  0.000000       NaN    NaN    NaN    NaN   \n",
       "1980-03-31    NaN -0.306250    NaN  0.007092       NaN    NaN    NaN    NaN   \n",
       "1980-04-30    NaN  0.252252    NaN -0.126761       NaN    NaN    NaN    NaN   \n",
       "1980-05-31    NaN  0.071942    NaN  0.177419       NaN    NaN    NaN    NaN   \n",
       "...           ...       ...    ...       ...       ...    ...    ...    ...   \n",
       "2021-11-30    NaN       NaN    NaN       NaN       NaN    NaN    NaN    NaN   \n",
       "2021-12-31    NaN       NaN    NaN       NaN       NaN    NaN    NaN    NaN   \n",
       "2022-01-31    NaN       NaN    NaN       NaN       NaN    NaN    NaN    NaN   \n",
       "2022-02-28    NaN       NaN    NaN       NaN       NaN    NaN    NaN    NaN   \n",
       "2022-03-31    NaN       NaN    NaN       NaN       NaN    NaN    NaN    NaN   \n",
       "\n",
       "               0223B  0230B  ...  ZVXI      ZWRK       ZWS     ZXAIY  \\\n",
       "datadate                     ...                                       \n",
       "1980-01-31  0.007752    NaN  ...   NaN       NaN       NaN       NaN   \n",
       "1980-02-29 -0.086462    NaN  ...   NaN       NaN       NaN       NaN   \n",
       "1980-03-31  0.000000    NaN  ...   NaN       NaN       NaN       NaN   \n",
       "1980-04-30  0.139130    NaN  ...   NaN       NaN       NaN       NaN   \n",
       "1980-05-31  0.036336    NaN  ...   NaN       NaN       NaN       NaN   \n",
       "...              ...    ...  ...   ...       ...       ...       ...   \n",
       "2021-11-30       NaN    NaN  ...   NaN -0.001025 -0.033076  0.001111   \n",
       "2021-12-31       NaN    NaN  ...   NaN -0.001026  0.038516  0.054384   \n",
       "2022-01-31       NaN    NaN  ...   NaN -0.004620 -0.160989  0.084211   \n",
       "2022-02-28       NaN    NaN  ...   NaN  0.003610  0.065815  0.000000   \n",
       "2022-03-31       NaN    NaN  ...   NaN       NaN       NaN       NaN   \n",
       "\n",
       "                  ZY      ZYME      ZYNE      ZYXI  ZZ       ZZ1  \n",
       "datadate                                                          \n",
       "1980-01-31       NaN       NaN       NaN       NaN NaN  0.137500  \n",
       "1980-02-29       NaN       NaN       NaN       NaN NaN -0.164835  \n",
       "1980-03-31       NaN       NaN       NaN       NaN NaN -0.118421  \n",
       "1980-04-30       NaN       NaN       NaN       NaN NaN -0.029851  \n",
       "1980-05-31       NaN       NaN       NaN       NaN NaN  0.123077  \n",
       "...              ...       ...       ...       ...  ..       ...  \n",
       "2021-11-30 -0.145283 -0.096180 -0.096606  0.021548 NaN       NaN  \n",
       "2021-12-31 -0.261589 -0.184983 -0.167630 -0.221094 NaN       NaN  \n",
       "2022-01-31 -0.222720 -0.456986 -0.093750 -0.115145 NaN       NaN  \n",
       "2022-02-28 -0.263462 -0.186517 -0.134100 -0.205808 NaN       NaN  \n",
       "2022-03-31       NaN       NaN       NaN       NaN NaN       NaN  \n",
       "\n",
       "[507 rows x 32354 columns]"
      ]
     },
     "execution_count": 3,
     "metadata": {},
     "output_type": "execute_result"
    }
   ],
   "source": [
    "returns_df = pd.read_csv('returns.csv',index_col=0).loc[start_date:]\n",
    "# returns_df = returns_df.dropna(axis=0,thresh=500).dropna(axis=1,thresh=500)\n",
    "equity_idx = returns_df.columns\n",
    "date_idx = returns_df.index\n",
    "returns_df.clip(returns_df.quantile(0.01,axis=1),returns_df.quantile(0.99,axis=1),axis=0)\n",
    "returns_df"
   ]
  },
  {
   "cell_type": "code",
   "execution_count": 4,
   "id": "0e0c2309",
   "metadata": {},
   "outputs": [
    {
     "data": {
      "text/html": [
       "<div>\n",
       "<style scoped>\n",
       "    .dataframe tbody tr th:only-of-type {\n",
       "        vertical-align: middle;\n",
       "    }\n",
       "\n",
       "    .dataframe tbody tr th {\n",
       "        vertical-align: top;\n",
       "    }\n",
       "\n",
       "    .dataframe thead th {\n",
       "        text-align: right;\n",
       "    }\n",
       "</style>\n",
       "<table border=\"1\" class=\"dataframe\">\n",
       "  <thead>\n",
       "    <tr style=\"text-align: right;\">\n",
       "      <th></th>\n",
       "      <th></th>\n",
       "      <th>A2ME</th>\n",
       "      <th>AC</th>\n",
       "      <th>AT</th>\n",
       "      <th>ATO</th>\n",
       "      <th>BEME</th>\n",
       "      <th>BETA</th>\n",
       "      <th>C</th>\n",
       "      <th>CF</th>\n",
       "      <th>CF2P</th>\n",
       "      <th>CTO</th>\n",
       "      <th>...</th>\n",
       "      <th>REL2HIGH</th>\n",
       "      <th>RESID_VAR</th>\n",
       "      <th>RNA</th>\n",
       "      <th>ROA</th>\n",
       "      <th>ROE</th>\n",
       "      <th>S2P</th>\n",
       "      <th>SGA2S</th>\n",
       "      <th>ST_REV</th>\n",
       "      <th>SUV</th>\n",
       "      <th>VARIANCE</th>\n",
       "    </tr>\n",
       "    <tr>\n",
       "      <th>tic</th>\n",
       "      <th>rdq</th>\n",
       "      <th></th>\n",
       "      <th></th>\n",
       "      <th></th>\n",
       "      <th></th>\n",
       "      <th></th>\n",
       "      <th></th>\n",
       "      <th></th>\n",
       "      <th></th>\n",
       "      <th></th>\n",
       "      <th></th>\n",
       "      <th></th>\n",
       "      <th></th>\n",
       "      <th></th>\n",
       "      <th></th>\n",
       "      <th></th>\n",
       "      <th></th>\n",
       "      <th></th>\n",
       "      <th></th>\n",
       "      <th></th>\n",
       "      <th></th>\n",
       "      <th></th>\n",
       "    </tr>\n",
       "  </thead>\n",
       "  <tbody>\n",
       "    <tr>\n",
       "      <th rowspan=\"5\" valign=\"top\">0081A</th>\n",
       "      <th>1996-12-31</th>\n",
       "      <td>NaN</td>\n",
       "      <td>NaN</td>\n",
       "      <td>NaN</td>\n",
       "      <td>NaN</td>\n",
       "      <td>NaN</td>\n",
       "      <td>NaN</td>\n",
       "      <td>NaN</td>\n",
       "      <td>NaN</td>\n",
       "      <td>NaN</td>\n",
       "      <td>NaN</td>\n",
       "      <td>...</td>\n",
       "      <td>NaN</td>\n",
       "      <td>NaN</td>\n",
       "      <td>NaN</td>\n",
       "      <td>NaN</td>\n",
       "      <td>NaN</td>\n",
       "      <td>NaN</td>\n",
       "      <td>NaN</td>\n",
       "      <td>NaN</td>\n",
       "      <td>NaN</td>\n",
       "      <td>NaN</td>\n",
       "    </tr>\n",
       "    <tr>\n",
       "      <th>1997-01-31</th>\n",
       "      <td>NaN</td>\n",
       "      <td>NaN</td>\n",
       "      <td>NaN</td>\n",
       "      <td>NaN</td>\n",
       "      <td>NaN</td>\n",
       "      <td>NaN</td>\n",
       "      <td>NaN</td>\n",
       "      <td>NaN</td>\n",
       "      <td>NaN</td>\n",
       "      <td>NaN</td>\n",
       "      <td>...</td>\n",
       "      <td>NaN</td>\n",
       "      <td>NaN</td>\n",
       "      <td>NaN</td>\n",
       "      <td>NaN</td>\n",
       "      <td>NaN</td>\n",
       "      <td>NaN</td>\n",
       "      <td>NaN</td>\n",
       "      <td>NaN</td>\n",
       "      <td>NaN</td>\n",
       "      <td>NaN</td>\n",
       "    </tr>\n",
       "    <tr>\n",
       "      <th>1997-02-28</th>\n",
       "      <td>0.564765</td>\n",
       "      <td>NaN</td>\n",
       "      <td>140.274</td>\n",
       "      <td>NaN</td>\n",
       "      <td>NaN</td>\n",
       "      <td>NaN</td>\n",
       "      <td>0.011328</td>\n",
       "      <td>NaN</td>\n",
       "      <td>NaN</td>\n",
       "      <td>NaN</td>\n",
       "      <td>...</td>\n",
       "      <td>NaN</td>\n",
       "      <td>1.896184</td>\n",
       "      <td>NaN</td>\n",
       "      <td>NaN</td>\n",
       "      <td>NaN</td>\n",
       "      <td>NaN</td>\n",
       "      <td>NaN</td>\n",
       "      <td>1.5583</td>\n",
       "      <td>NaN</td>\n",
       "      <td>4.225542</td>\n",
       "    </tr>\n",
       "    <tr>\n",
       "      <th>1997-03-31</th>\n",
       "      <td>0.564765</td>\n",
       "      <td>NaN</td>\n",
       "      <td>140.274</td>\n",
       "      <td>NaN</td>\n",
       "      <td>NaN</td>\n",
       "      <td>NaN</td>\n",
       "      <td>0.011328</td>\n",
       "      <td>NaN</td>\n",
       "      <td>NaN</td>\n",
       "      <td>NaN</td>\n",
       "      <td>...</td>\n",
       "      <td>NaN</td>\n",
       "      <td>2.542292</td>\n",
       "      <td>NaN</td>\n",
       "      <td>NaN</td>\n",
       "      <td>NaN</td>\n",
       "      <td>NaN</td>\n",
       "      <td>NaN</td>\n",
       "      <td>10.7738</td>\n",
       "      <td>NaN</td>\n",
       "      <td>6.975184</td>\n",
       "    </tr>\n",
       "    <tr>\n",
       "      <th>1997-04-30</th>\n",
       "      <td>0.529462</td>\n",
       "      <td>NaN</td>\n",
       "      <td>146.767</td>\n",
       "      <td>NaN</td>\n",
       "      <td>NaN</td>\n",
       "      <td>NaN</td>\n",
       "      <td>0.014431</td>\n",
       "      <td>NaN</td>\n",
       "      <td>NaN</td>\n",
       "      <td>NaN</td>\n",
       "      <td>...</td>\n",
       "      <td>NaN</td>\n",
       "      <td>2.653953</td>\n",
       "      <td>NaN</td>\n",
       "      <td>NaN</td>\n",
       "      <td>NaN</td>\n",
       "      <td>NaN</td>\n",
       "      <td>NaN</td>\n",
       "      <td>-2.7778</td>\n",
       "      <td>NaN</td>\n",
       "      <td>7.456677</td>\n",
       "    </tr>\n",
       "    <tr>\n",
       "      <th>...</th>\n",
       "      <th>...</th>\n",
       "      <td>...</td>\n",
       "      <td>...</td>\n",
       "      <td>...</td>\n",
       "      <td>...</td>\n",
       "      <td>...</td>\n",
       "      <td>...</td>\n",
       "      <td>...</td>\n",
       "      <td>...</td>\n",
       "      <td>...</td>\n",
       "      <td>...</td>\n",
       "      <td>...</td>\n",
       "      <td>...</td>\n",
       "      <td>...</td>\n",
       "      <td>...</td>\n",
       "      <td>...</td>\n",
       "      <td>...</td>\n",
       "      <td>...</td>\n",
       "      <td>...</td>\n",
       "      <td>...</td>\n",
       "      <td>...</td>\n",
       "      <td>...</td>\n",
       "    </tr>\n",
       "    <tr>\n",
       "      <th rowspan=\"5\" valign=\"top\">ZZ</th>\n",
       "      <th>2012-10-31</th>\n",
       "      <td>5.840417</td>\n",
       "      <td>0.377852</td>\n",
       "      <td>971.509</td>\n",
       "      <td>0.888069</td>\n",
       "      <td>-0.316438</td>\n",
       "      <td>0.503049</td>\n",
       "      <td>0.091438</td>\n",
       "      <td>NaN</td>\n",
       "      <td>-0.015174</td>\n",
       "      <td>0.549053</td>\n",
       "      <td>...</td>\n",
       "      <td>0.910204</td>\n",
       "      <td>1.851362</td>\n",
       "      <td>0.118627</td>\n",
       "      <td>-0.009920</td>\n",
       "      <td>0.167075</td>\n",
       "      <td>7.568810</td>\n",
       "      <td>0.818410</td>\n",
       "      <td>36.2500</td>\n",
       "      <td>0.669890</td>\n",
       "      <td>4.256721</td>\n",
       "    </tr>\n",
       "    <tr>\n",
       "      <th>2012-11-30</th>\n",
       "      <td>5.840417</td>\n",
       "      <td>0.377852</td>\n",
       "      <td>971.509</td>\n",
       "      <td>0.888069</td>\n",
       "      <td>-0.316438</td>\n",
       "      <td>0.503035</td>\n",
       "      <td>0.091438</td>\n",
       "      <td>NaN</td>\n",
       "      <td>-0.015174</td>\n",
       "      <td>0.549053</td>\n",
       "      <td>...</td>\n",
       "      <td>0.885714</td>\n",
       "      <td>0.619041</td>\n",
       "      <td>0.118627</td>\n",
       "      <td>-0.009920</td>\n",
       "      <td>0.167075</td>\n",
       "      <td>7.568810</td>\n",
       "      <td>0.818410</td>\n",
       "      <td>2.2936</td>\n",
       "      <td>-0.125130</td>\n",
       "      <td>0.458271</td>\n",
       "    </tr>\n",
       "    <tr>\n",
       "      <th>2012-12-31</th>\n",
       "      <td>5.840417</td>\n",
       "      <td>0.377852</td>\n",
       "      <td>971.509</td>\n",
       "      <td>0.888069</td>\n",
       "      <td>-0.316438</td>\n",
       "      <td>0.500307</td>\n",
       "      <td>0.091438</td>\n",
       "      <td>NaN</td>\n",
       "      <td>-0.015174</td>\n",
       "      <td>0.549053</td>\n",
       "      <td>...</td>\n",
       "      <td>0.885714</td>\n",
       "      <td>0.598993</td>\n",
       "      <td>0.118627</td>\n",
       "      <td>-0.009920</td>\n",
       "      <td>0.167075</td>\n",
       "      <td>7.568810</td>\n",
       "      <td>0.818410</td>\n",
       "      <td>-2.6906</td>\n",
       "      <td>0.062727</td>\n",
       "      <td>0.420686</td>\n",
       "    </tr>\n",
       "    <tr>\n",
       "      <th>2013-01-31</th>\n",
       "      <td>4.440987</td>\n",
       "      <td>0.489857</td>\n",
       "      <td>1005.345</td>\n",
       "      <td>1.081163</td>\n",
       "      <td>-0.253677</td>\n",
       "      <td>0.501021</td>\n",
       "      <td>0.127473</td>\n",
       "      <td>NaN</td>\n",
       "      <td>0.042809</td>\n",
       "      <td>0.614895</td>\n",
       "      <td>...</td>\n",
       "      <td>0.881633</td>\n",
       "      <td>0.542592</td>\n",
       "      <td>0.167337</td>\n",
       "      <td>0.002145</td>\n",
       "      <td>-0.024645</td>\n",
       "      <td>5.954049</td>\n",
       "      <td>0.798554</td>\n",
       "      <td>0.0000</td>\n",
       "      <td>-1.501970</td>\n",
       "      <td>0.311550</td>\n",
       "    </tr>\n",
       "    <tr>\n",
       "      <th>2013-02-28</th>\n",
       "      <td>4.440987</td>\n",
       "      <td>0.489857</td>\n",
       "      <td>1005.345</td>\n",
       "      <td>1.081163</td>\n",
       "      <td>-0.253677</td>\n",
       "      <td>0.500922</td>\n",
       "      <td>0.127473</td>\n",
       "      <td>NaN</td>\n",
       "      <td>0.042809</td>\n",
       "      <td>0.614895</td>\n",
       "      <td>...</td>\n",
       "      <td>0.889796</td>\n",
       "      <td>0.429795</td>\n",
       "      <td>0.167337</td>\n",
       "      <td>0.002145</td>\n",
       "      <td>-0.024645</td>\n",
       "      <td>5.954049</td>\n",
       "      <td>0.798554</td>\n",
       "      <td>-0.4608</td>\n",
       "      <td>-0.227316</td>\n",
       "      <td>0.230933</td>\n",
       "    </tr>\n",
       "  </tbody>\n",
       "</table>\n",
       "<p>3692558 rows × 45 columns</p>\n",
       "</div>"
      ],
      "text/plain": [
       "                      A2ME        AC        AT       ATO      BEME      BETA  \\\n",
       "tic   rdq                                                                      \n",
       "0081A 1996-12-31       NaN       NaN       NaN       NaN       NaN       NaN   \n",
       "      1997-01-31       NaN       NaN       NaN       NaN       NaN       NaN   \n",
       "      1997-02-28  0.564765       NaN   140.274       NaN       NaN       NaN   \n",
       "      1997-03-31  0.564765       NaN   140.274       NaN       NaN       NaN   \n",
       "      1997-04-30  0.529462       NaN   146.767       NaN       NaN       NaN   \n",
       "...                    ...       ...       ...       ...       ...       ...   \n",
       "ZZ    2012-10-31  5.840417  0.377852   971.509  0.888069 -0.316438  0.503049   \n",
       "      2012-11-30  5.840417  0.377852   971.509  0.888069 -0.316438  0.503035   \n",
       "      2012-12-31  5.840417  0.377852   971.509  0.888069 -0.316438  0.500307   \n",
       "      2013-01-31  4.440987  0.489857  1005.345  1.081163 -0.253677  0.501021   \n",
       "      2013-02-28  4.440987  0.489857  1005.345  1.081163 -0.253677  0.500922   \n",
       "\n",
       "                         C  CF      CF2P       CTO  ...  REL2HIGH  RESID_VAR  \\\n",
       "tic   rdq                                           ...                        \n",
       "0081A 1996-12-31       NaN NaN       NaN       NaN  ...       NaN        NaN   \n",
       "      1997-01-31       NaN NaN       NaN       NaN  ...       NaN        NaN   \n",
       "      1997-02-28  0.011328 NaN       NaN       NaN  ...       NaN   1.896184   \n",
       "      1997-03-31  0.011328 NaN       NaN       NaN  ...       NaN   2.542292   \n",
       "      1997-04-30  0.014431 NaN       NaN       NaN  ...       NaN   2.653953   \n",
       "...                    ...  ..       ...       ...  ...       ...        ...   \n",
       "ZZ    2012-10-31  0.091438 NaN -0.015174  0.549053  ...  0.910204   1.851362   \n",
       "      2012-11-30  0.091438 NaN -0.015174  0.549053  ...  0.885714   0.619041   \n",
       "      2012-12-31  0.091438 NaN -0.015174  0.549053  ...  0.885714   0.598993   \n",
       "      2013-01-31  0.127473 NaN  0.042809  0.614895  ...  0.881633   0.542592   \n",
       "      2013-02-28  0.127473 NaN  0.042809  0.614895  ...  0.889796   0.429795   \n",
       "\n",
       "                       RNA       ROA       ROE       S2P     SGA2S   ST_REV  \\\n",
       "tic   rdq                                                                     \n",
       "0081A 1996-12-31       NaN       NaN       NaN       NaN       NaN      NaN   \n",
       "      1997-01-31       NaN       NaN       NaN       NaN       NaN      NaN   \n",
       "      1997-02-28       NaN       NaN       NaN       NaN       NaN   1.5583   \n",
       "      1997-03-31       NaN       NaN       NaN       NaN       NaN  10.7738   \n",
       "      1997-04-30       NaN       NaN       NaN       NaN       NaN  -2.7778   \n",
       "...                    ...       ...       ...       ...       ...      ...   \n",
       "ZZ    2012-10-31  0.118627 -0.009920  0.167075  7.568810  0.818410  36.2500   \n",
       "      2012-11-30  0.118627 -0.009920  0.167075  7.568810  0.818410   2.2936   \n",
       "      2012-12-31  0.118627 -0.009920  0.167075  7.568810  0.818410  -2.6906   \n",
       "      2013-01-31  0.167337  0.002145 -0.024645  5.954049  0.798554   0.0000   \n",
       "      2013-02-28  0.167337  0.002145 -0.024645  5.954049  0.798554  -0.4608   \n",
       "\n",
       "                       SUV  VARIANCE  \n",
       "tic   rdq                             \n",
       "0081A 1996-12-31       NaN       NaN  \n",
       "      1997-01-31       NaN       NaN  \n",
       "      1997-02-28       NaN  4.225542  \n",
       "      1997-03-31       NaN  6.975184  \n",
       "      1997-04-30       NaN  7.456677  \n",
       "...                    ...       ...  \n",
       "ZZ    2012-10-31  0.669890  4.256721  \n",
       "      2012-11-30 -0.125130  0.458271  \n",
       "      2012-12-31  0.062727  0.420686  \n",
       "      2013-01-31 -1.501970  0.311550  \n",
       "      2013-02-28 -0.227316  0.230933  \n",
       "\n",
       "[3692558 rows x 45 columns]"
      ]
     },
     "execution_count": 4,
     "metadata": {},
     "output_type": "execute_result"
    }
   ],
   "source": [
    "feat_comb_df = pd.read_csv('features_full_final.csv').set_index(['tic','rdq']).drop(['FYEARQ','FQTR'],axis=1)\n",
    "feat_comb_df = feat_comb_df[sorted(feat_comb_df.columns)]\n",
    "feat_comb_df"
   ]
  },
  {
   "cell_type": "code",
   "execution_count": 7,
   "id": "4e2c50a1",
   "metadata": {},
   "outputs": [
    {
     "name": "stderr",
     "output_type": "stream",
     "text": [
      "100%|███████████████████████████████████████████████████████████████████████████████████████████████████████████████████████████████████████| 507/507 [09:42<00:00,  1.15s/it]\n"
     ]
    }
   ],
   "source": [
    "MIN_AVAILABLE_FEATURES = feat_comb_df.shape[1]//2\n",
    "\n",
    "full_df_lst = []\n",
    "for date in tqdm(date_idx):\n",
    "    sub = feat_comb_df.loc[feat_comb_df.index.get_level_values(1) <= date]\n",
    "    sub = sub.groupby(sub.index.get_level_values('tic')).last(1)\n",
    "    sub = sub.transpose()\n",
    "    \n",
    "    sub = sub.rank(pct=True,axis=1)*2-1\n",
    "    idx = (sub.isna().sum(axis=0) >= MIN_AVAILABLE_FEATURES).index\n",
    "    sub = sub[idx].fillna(0)\n",
    "    \n",
    "#     sub = sub.fillna(sub.median(axis=1),axis=0)\n",
    "    \n",
    "    sub['date'] = date\n",
    "    sub =  sub.set_index(['date',sub.index])\n",
    "    \n",
    "    full_df_lst.append(sub)"
   ]
  },
  {
   "cell_type": "code",
   "execution_count": 8,
   "id": "d94bf341",
   "metadata": {},
   "outputs": [
    {
     "data": {
      "text/plain": [
       "271"
      ]
     },
     "execution_count": 8,
     "metadata": {},
     "output_type": "execute_result"
    }
   ],
   "source": [
    "gc.collect()"
   ]
  },
  {
   "cell_type": "markdown",
   "id": "64e6791e",
   "metadata": {},
   "source": [
    "# Train Test Splits"
   ]
  },
  {
   "cell_type": "code",
   "execution_count": 9,
   "id": "5a5ea7aa",
   "metadata": {},
   "outputs": [],
   "source": [
    "orig = (83,360)\n",
    "valid = (360,420)\n",
    "test = (420,505)\n",
    "# Train: 1984 to 2010\n",
    "# Valid: 2010 to 2015\n",
    "# Test: 2015 to 2022"
   ]
  },
  {
   "cell_type": "code",
   "execution_count": 10,
   "id": "83264b9c",
   "metadata": {},
   "outputs": [],
   "source": [
    "class AEDataSet(torch.utils.data.Dataset):\n",
    "    def __init__(self, full_df_lst, returns_df, date_idx, start_i, end_i, rhs_input_assets=False,lag=1):\n",
    "        self.full_df_lst = full_df_lst\n",
    "        self.returns_df = returns_df\n",
    "        self.date_idx = date_idx\n",
    "        self.start_i, self.end_i = start_i, end_i\n",
    "        self.rhs_input_assets = rhs_input_assets\n",
    "        self.epsilon=1e-5\n",
    "        self.lag=lag\n",
    "        \n",
    "        self.output_date_idx = date_idx[start_i+lag:end_i]\n",
    "        \n",
    "    def __len__(self):\n",
    "        return self.end_i - self.start_i - self.lag\n",
    "    def __getitem__(self, idx):\n",
    "        input_idx = idx\n",
    "        idx += self.start_i+self.lag\n",
    "        date = self.date_idx[idx] # returns date\n",
    "        \n",
    "        mask = ~np.isnan(self.returns_df.loc[date].to_numpy())\n",
    "        traded_assets_idx = self.returns_df.columns[mask]\n",
    "        \n",
    "        lhs = self.full_df_lst[idx - self.lag]\n",
    "        lhs_idx = lhs.columns\n",
    "        \n",
    "        comb_idx = traded_assets_idx.intersection(lhs_idx)\n",
    "        \n",
    "        lhs = lhs.reindex(comb_idx,axis=1,fill_value=0).to_numpy()\n",
    "        \n",
    "        rhs_tmp = self.returns_df.loc[date,comb_idx]\n",
    "#         rhs_tmp = rhs_tmp.clip(rhs_tmp.quantile(0.01),rhs_tmp.quantile(0.99))\n",
    "        output = rhs_tmp.to_numpy()\n",
    "\n",
    "        lhs_tmp = np.concatenate([lhs,np.expand_dims(np.ones(lhs.shape[1]),0)],axis=0)\n",
    "        \n",
    "        \n",
    "        if self.rhs_input_assets:\n",
    "            rhs = output\n",
    "        else:\n",
    "            try:\n",
    "                rhs = (np.linalg.inv(lhs_tmp @ lhs_tmp.T) @ lhs_tmp) @ rhs_tmp\n",
    "            except Exception as e:\n",
    "                print(\"idx:\",input_idx)\n",
    "                print(e)\n",
    "                raise e\n",
    "        return lhs,rhs,output,comb_idx\n",
    "        \n",
    "        \n",
    "def collate_fn(batch):\n",
    "\n",
    "    len_x = [len(output) for lhs,rhs,output,_ in batch]\n",
    "    full_size = max(len_x)\n",
    "    \n",
    "    batch_lhs = [nn.functional.pad(torch.Tensor(lhs),pad=(0,full_size-lhs.shape[1],0,0)) for lhs,rhs,output,_ in batch]\n",
    "    batch_rhs = [torch.Tensor(rhs) for lhs,rhs,output,_ in batch]\n",
    "    batch_output = [nn.functional.pad(torch.Tensor(output),pad=(0,full_size-len(output))) for lhs,rhs,output,_ in batch]\n",
    "    batch_assets = [idx for lhs,rhs,output,idx in batch]\n",
    "    \n",
    "    return torch.cat([x.unsqueeze(0) for x in batch_lhs]),\\\n",
    "        torch.cat([x.unsqueeze(0) for x in batch_rhs]),\\\n",
    "        torch.cat([x.unsqueeze(0) for x in batch_output]), torch.tensor(len_x), batch_assets"
   ]
  },
  {
   "cell_type": "code",
   "execution_count": 11,
   "id": "61b7aa93",
   "metadata": {},
   "outputs": [],
   "source": [
    "class AEDataSet(torch.utils.data.Dataset):\n",
    "    def __init__(self, full_df_lst, returns_df, date_idx, start_i, end_i, rhs_input_assets=False,lag=1):\n",
    "        self.full_df_lst = full_df_lst\n",
    "        self.returns_df = returns_df\n",
    "        self.date_idx = date_idx\n",
    "        self.start_i, self.end_i = start_i, end_i\n",
    "        self.rhs_input_assets = rhs_input_assets\n",
    "        self.epsilon=1e-5\n",
    "        self.lag=lag\n",
    "        \n",
    "        self.output_date_idx = date_idx[start_i+lag:end_i]\n",
    "        \n",
    "    def __len__(self):\n",
    "        return self.end_i - self.start_i - self.lag\n",
    "    def __getitem__(self, idx):\n",
    "        input_idx = idx\n",
    "        idx += self.start_i+self.lag\n",
    "        date = self.date_idx[idx] # returns date\n",
    "        \n",
    "        mask = ~np.isnan(self.returns_df.loc[date].to_numpy())\n",
    "        traded_assets_idx = self.returns_df.columns[mask]\n",
    "        \n",
    "        lhs = self.full_df_lst[idx - self.lag]\n",
    "        lhs_idx = lhs.columns\n",
    "        \n",
    "        comb_idx = traded_assets_idx.intersection(lhs_idx)\n",
    "        \n",
    "        lhs = lhs.reindex(comb_idx,axis=1,fill_value=0).to_numpy()\n",
    "        \n",
    "        rhs_tmp = self.returns_df.loc[date,comb_idx]\n",
    "#         rhs_tmp = rhs_tmp.clip(rhs_tmp.quantile(0.01),rhs_tmp.quantile(0.99))\n",
    "        output = rhs_tmp.to_numpy()\n",
    "\n",
    "        lhs_tmp = np.concatenate([lhs,np.expand_dims(np.ones(lhs.shape[1]),0)],axis=0)\n",
    "        \n",
    "        \n",
    "        if self.rhs_input_assets:\n",
    "            rhs = output\n",
    "        else:\n",
    "            try:\n",
    "                rhs = (np.linalg.inv(lhs_tmp @ lhs_tmp.T) @ lhs_tmp) @ rhs_tmp\n",
    "            except Exception as e:\n",
    "                print(\"idx:\",input_idx)\n",
    "#                 lhs_tmp = pd.DataFrame(lhs_tmp)\n",
    "#                 alpha_corr_count = lhs_tmp.T.corr().melt(value_vars=lhs_tmp.index,ignore_index=False).reset_index()\n",
    "#                 alpha_corr_count = alpha_corr_count[alpha_corr_count['index']<alpha_corr_count['variable']].sort_values(by='value',ascending=False)\n",
    "#                 print(alpha_corr_count.set_index('variable').isna().groupby('variable').sum())\n",
    "                print(e)\n",
    "                raise e\n",
    "        return lhs,rhs,output,comb_idx\n",
    "        \n",
    "        \n",
    "def collate_fn(batch):\n",
    "\n",
    "    len_x = [len(output) for lhs,rhs,output,_ in batch]\n",
    "    full_size = max(len_x)\n",
    "    \n",
    "    batch_lhs = [nn.functional.pad(torch.Tensor(lhs),pad=(0,full_size-lhs.shape[1],0,0)) for lhs,rhs,output,_ in batch]\n",
    "    batch_rhs = [torch.Tensor(rhs) for lhs,rhs,output,_ in batch]\n",
    "    batch_output = [nn.functional.pad(torch.Tensor(output),pad=(0,full_size-len(output))) for lhs,rhs,output,_ in batch]\n",
    "    batch_assets = [idx for lhs,rhs,output,idx in batch]\n",
    "    \n",
    "    return torch.cat([x.unsqueeze(0) for x in batch_lhs]),\\\n",
    "        torch.cat([x.unsqueeze(0) for x in batch_rhs]),\\\n",
    "        torch.cat([x.unsqueeze(0) for x in batch_output]), torch.tensor(len_x), batch_assets"
   ]
  },
  {
   "cell_type": "markdown",
   "id": "bf095288",
   "metadata": {},
   "source": [
    "# Conditional Autoencoder"
   ]
  },
  {
   "cell_type": "code",
   "execution_count": 12,
   "id": "d629c046",
   "metadata": {},
   "outputs": [],
   "source": [
    "class ConditionalAutoEncoder(nn.Module):\n",
    "    def __init__(self, n_alphas, n_factors, n_hidden_lhs, n_hidden_rhs, \n",
    "                    batch_norm_lhs=True, batch_norm_rhs=False,\n",
    "                    dropout_p=0, initialization=True, rhs_input_assets = False, rhs_activation = True,\n",
    "                    bn_momentum=0.1, bn_track_running_stats = True):\n",
    "        # n_assets can be assets or portfolios:\n",
    "            # In both cases, we are interested in asset return or portfolio return on the RHS\n",
    "            # LHS is the original factor \n",
    "        super(ConditionalAutoEncoder, self).__init__()\n",
    "\n",
    "        self.n_alphas = n_alphas\n",
    "        self.n_factors = n_factors\n",
    "        self.n_hidden_lhs = list(n_hidden_lhs)\n",
    "        self.n_hidden_rhs = list(n_hidden_rhs)\n",
    "\n",
    "        self.lhs_lst = []\n",
    "\n",
    "        prev_lhs_layer_size = self.n_alphas\n",
    "        layer_lst = []\n",
    "        for i, v in enumerate(list(n_hidden_lhs)+[n_factors]):\n",
    "            if batch_norm_lhs and i<len(n_hidden_lhs):\n",
    "                # layer_lst.append(nn.BatchNorm1d(prev_lhs_layer_size,momentum=bn_momentum,\n",
    "                #         track_running_stats=bn_track_running_stats))\n",
    "                layer_lst.append(nn.LayerNorm(prev_lhs_layer_size))\n",
    "            if dropout_p:\n",
    "                layer_lst.append(nn.Dropout(dropout_p))\n",
    "            layer_lst.append(nn.Linear(prev_lhs_layer_size, v, bias=True))\n",
    "            if initialization:\n",
    "                nn.init.kaiming_normal_(layer_lst[-1].weight,mode='fan_in',nonlinearity='linear')\n",
    "            if i<len(n_hidden_lhs):\n",
    "                layer_lst.append(nn.SELU())\n",
    "            prev_lhs_layer_size = v\n",
    "#         layer_lst = layer_lst[:-1]\n",
    "        # if batch_norm_lhs:\n",
    "        #     layer_lst.append(nn.BatchNorm1d(prev_lhs_layer_size,momentum=bn_momentum,\n",
    "        #             track_running_stats=bn_track_running_stats))\n",
    "        #     # layer_lst.append(nn.LayerNorm(prev_lhs_layer_size))\n",
    "        # if dropout_p:\n",
    "        #     layer_lst.append(nn.Dropout(dropout_p))\n",
    "        # layer_lst.append(nn.Linear(prev_lhs_layer_size, self.n_factors, bias=True))\n",
    "        # if initialization:\n",
    "        #     nn.init.xavier_normal_(layer_lst[-1].weight)\n",
    "        self.lhs = nn.Sequential(*layer_lst)\n",
    "\n",
    "        # self.lhs_lst = nn.ModuleList(self.lhs_lst)\n",
    "\n",
    "        rhs_lst = []\n",
    "#         if rhs_input_assets:\n",
    "#             if batch_norm_rhs:\n",
    "#                 # rhs_lst.append(nn.BatchNorm1d(self.n_assets,momentum=bn_momentum,\n",
    "#                 #     track_running_stats=bn_track_running_stats))\n",
    "#                 rhs_lst.append(nn.LayerNorm(self.n_assets))\n",
    "#             if dropout_p:\n",
    "#                 rhs_lst.append(nn.Dropout(dropout_p))\n",
    "#             rhs_lst.append(nn.Linear(n_assets,n_alphas+1,bias=True))\n",
    "#             if initialization:\n",
    "#                 nn.init.kaiming_normal_(rhs_lst[-1].weight,mode='fan_in',nonlinearity='linear')\n",
    "#             if rhs_activation:\n",
    "#                 rhs_lst.append(nn.SELU())\n",
    "\n",
    "        prev_rhs_layer_size = self.n_alphas+1\n",
    "        for v in n_hidden_rhs+[n_factors]:\n",
    "            if batch_norm_rhs:\n",
    "              # rhs_lst.append(nn.BatchNorm1d(prev_rhs_layer_size,momentum=bn_momentum,\n",
    "              #         track_running_stats=bn_track_running_stats))\n",
    "                rhs_lst.append(nn.LayerNorm(prev_rhs_layer_size))\n",
    "            if dropout_p:\n",
    "                rhs_lst.append(nn.Dropout(dropout_p))\n",
    "            rhs_lst.append(nn.Linear(prev_rhs_layer_size,v,bias=True))\n",
    "            if initialization:\n",
    "                nn.init.kaiming_normal_(rhs_lst[-1].weight,mode='fan_in',nonlinearity='linear')\n",
    "            if rhs_activation:\n",
    "                rhs_lst.append(nn.SELU())\n",
    "            prev_rhs_layer_size = v\n",
    "        \n",
    "        self.rhs = nn.Sequential(*rhs_lst)\n",
    "\n",
    "#         self.final = nn.Linear(n_assets,n_assets,bias=True)\n",
    "\n",
    "    def forward(self, x_lhs, x_rhs):\n",
    "        # idx = 0\n",
    "        y_lhs_lst = []\n",
    "        for i in range(x_lhs.shape[2]):\n",
    "            # y_cur = self.lhs_lst[i](x_lhs[:,idx:idx+self.n_alphas])\n",
    "            y_cur = self.lhs(x_lhs[:,:,i])\n",
    "            y_cur = torch.unsqueeze(y_cur,2)\n",
    "            y_lhs_lst.append(y_cur)\n",
    "            # idx += self.n_alphas\n",
    "        y_lhs = torch.cat(y_lhs_lst,dim=2)\n",
    "\n",
    "        y_rhs = self.rhs(x_rhs).unsqueeze(dim=2)\n",
    "        self.last_rhs_factors = y_rhs\n",
    "        out = torch.bmm(y_lhs.transpose(1,2), y_rhs).squeeze(2)\n",
    "#         out = self.final(out)\n",
    "        return out, y_rhs\n",
    "\n",
    "    def forward_given_factors(self, x_lhs, factors):\n",
    "        y_lhs_lst = []\n",
    "        for i in range(x_lhs.shape[2]):\n",
    "            # y_cur = self.lhs_lst[i](x_lhs[:,idx:idx+self.n_alphas])\n",
    "            y_cur = self.lhs(x_lhs[:,:,i])\n",
    "            y_cur = torch.unsqueeze(y_cur,2)\n",
    "            y_lhs_lst.append(y_cur)\n",
    "            # idx += self.n_alphas\n",
    "        y_lhs = torch.cat(y_lhs_lst,dim=2)\n",
    "\n",
    "        y_rhs = factors\n",
    "        out = torch.bmm(y_lhs.transpose(1,2), y_rhs).squeeze(2)\n",
    "#         out = self.final(out)\n",
    "        return out"
   ]
  },
  {
   "cell_type": "markdown",
   "id": "21848353",
   "metadata": {},
   "source": [
    "# Hyperparameter Tuning"
   ]
  },
  {
   "cell_type": "code",
   "execution_count": 13,
   "id": "15bfca7b",
   "metadata": {},
   "outputs": [],
   "source": [
    "from sklearn.metrics import mean_squared_error\n",
    "@print_durations()\n",
    "def test(args,model,device,test_loader,criterion):\n",
    "    model.eval()\n",
    "        \n",
    "    output_lst = []\n",
    "    data_lst = []\n",
    "\n",
    "    for data_lhs, data_rhs, data_output, data_x_lens, data_assets in test_loader:\n",
    "        # print(\"Shapes:\",data_lhs.shape, data_rhs.shape, data_output.shape, data_mask.shape)\n",
    "        data_lhs = data_lhs.float().to(device)\n",
    "        data_rhs = data_rhs.float().to(device)\n",
    "        data_output = data_output.float().to(device)\n",
    "        data_x_lens = data_x_lens.int().to(device)\n",
    "        output,_ = model(x_lhs = data_lhs, x_rhs = data_rhs)\n",
    "\n",
    "        data_mask = torch.arange(data_lhs.shape[2])[None, :].to(device) < data_x_lens[:, None]\n",
    "        output_masked = torch.masked_select(output,data_mask)\n",
    "        data_output_masked = torch.masked_select(data_output,data_mask)\n",
    "        assert (len(output_masked) == torch.sum(data_x_lens))\n",
    "        # print(\"Loss Inside:\",criterion(output_masked,data_output_masked))\n",
    "\n",
    "        output_lst.append(output_masked)\n",
    "        data_lst.append(data_output_masked)\n",
    "    \n",
    "    full_output = torch.cat(output_lst,axis=0)\n",
    "    full_data = torch.cat(data_lst,axis=0)\n",
    "\n",
    "    return mean_squared_error(full_data.cpu().detach().numpy(), full_output.cpu().detach().numpy())\n",
    "\n",
    "@print_durations()\n",
    "def train(args, model, device, train_loader, optimizer, criterion, epoch, max_norm=None):\n",
    "    model.train()\n",
    "    \n",
    "    batch_bar = tqdm(total=len(train_loader), dynamic_ncols=True, leave=False, position=0, desc='Train') \n",
    "    \n",
    "    total_loss = 0\n",
    "    total_reg_loss=0\n",
    "    \n",
    "    N = len(train_loader)\n",
    "    \n",
    "    for batch_idx, (data_lhs, data_rhs, data_output, data_x_lens, data_assets) in enumerate(train_loader):\n",
    "\n",
    "        optimizer.zero_grad()\n",
    "        \n",
    "        data_lhs = data_lhs.float().to(device)\n",
    "        data_rhs = data_rhs.float().to(device)\n",
    "        data_output = data_output.float().to(device)\n",
    "        data_x_lens = data_x_lens.int().to(device)\n",
    "\n",
    "        if max_norm: torch.nn.utils.clip_grad_norm_(model.parameters(), max_norm)\n",
    "        output,_ = model(x_lhs = data_lhs, x_rhs = data_rhs)\n",
    "        \n",
    "        data_mask = torch.arange(data_lhs.shape[2])[None, :].to(device) < data_x_lens[:, None]\n",
    "\n",
    "        output_masked = torch.masked_select(output,data_mask)\n",
    "        data_output_masked = torch.masked_select(data_output,data_mask)\n",
    "\n",
    "        loss_tmp = criterion(output_masked, data_output_masked)\n",
    "\n",
    "        regularization_loss = 0\n",
    "        for p in model.parameters():\n",
    "            regularization_loss += torch.sum(abs(p))\n",
    "\n",
    "        loss = loss_tmp + args['l1_lambda'] * regularization_loss\n",
    "        \n",
    "        loss.backward()\n",
    "        total_loss += loss\n",
    "        total_reg_loss += regularization_loss * args['l1_lambda'] \n",
    "\n",
    "        # print(\"Gradient:\", loss.grad)\n",
    "        optimizer.step()\n",
    "\n",
    "        batch_bar.set_postfix(\n",
    "            total_loss=\"{:.04f}\".format(float(total_loss / (batch_idx + 1))),\n",
    "            reg_loss = \"{:.04f}\".format(float(total_reg_loss / (batch_idx + 1))),\n",
    "            lr=\"{:.04f}\".format(float(optimizer.param_groups[0]['lr'])))\n",
    "        batch_bar.update()\n",
    "        \n",
    "    print(f\"Epoch {epoch}, total_loss={float(total_loss / N):.04f}, reg_loss = {float(total_reg_loss / N):.04f}\")"
   ]
  },
  {
   "cell_type": "code",
   "execution_count": 14,
   "id": "c0fdbceb",
   "metadata": {},
   "outputs": [],
   "source": [
    "# train_data = AEDataSet(full_df_lst,returns_df,date_idx,48,360)\n",
    "# valid_data = AEDataSet(full_df_lst,returns_df,date_idx,360,420)\n",
    "# test_data= AEDataSet(full_df_lst,returns_df,date_idx,420,505)\n",
    "\n",
    "def run(args, n_alphas, full_df_lst, returns_df, date_idx, train_start,\n",
    "        train_end, valid_start, valid_end, n_window=36, batch_size=16, checkpoint_name=None):\n",
    "    device = torch.device(\"cuda\" if torch.cuda.is_available() else \"cpu\")\n",
    "    model = ConditionalAutoEncoder(\n",
    "        n_alphas = n_alphas,\n",
    "        n_factors = args['n_factors'],\n",
    "        n_hidden_lhs = args['n_hidden_lhs'],\n",
    "        n_hidden_rhs = args['n_hidden_rhs'],\n",
    "        batch_norm_lhs = args['batch_norm_lhs'],\n",
    "        batch_norm_rhs = args['batch_norm_rhs'],\n",
    "        dropout_p=args['dropout_p'],\n",
    "        initialization=args['initialization'],\n",
    "        rhs_input_assets=args['rhs_input_assets'],\n",
    "        rhs_activation = args['rhs_activation']\n",
    "    #     bn_track_running_stats=args['bn_track_running_stats'],\n",
    "    #     bn_momentum=args['bn_momentum']\n",
    "    )\n",
    "    \n",
    "    print(model)\n",
    "    \n",
    "    gc.collect()\n",
    "    torch.cuda.empty_cache()\n",
    "    \n",
    "    train_data = AEDataSet(full_df_lst,returns_df,date_idx,train_start,train_end)\n",
    "    valid_data = AEDataSet(full_df_lst,returns_df,date_idx,valid_start,valid_end)\n",
    "    extended_valid_data = AEDataSet(full_df_lst,returns_df,date_idx,valid_start-n_window,valid_end)\n",
    "\n",
    "    train_loader = torch.utils.data.DataLoader(\n",
    "        train_data,\n",
    "        batch_size = batch_size,\n",
    "        pin_memory=True,\n",
    "        num_workers=2,\n",
    "        shuffle=True,\n",
    "        collate_fn = collate_fn\n",
    "    )\n",
    "\n",
    "    valid_loader = torch.utils.data.DataLoader(\n",
    "        valid_data,\n",
    "        batch_size = batch_size,\n",
    "        pin_memory=True,\n",
    "        num_workers=2,\n",
    "        shuffle=False,\n",
    "        collate_fn = collate_fn\n",
    "    )\n",
    "    \n",
    "    extended_valid_loader = torch.utils.data.DataLoader(\n",
    "        extended_valid_data,\n",
    "        batch_size = batch_size,\n",
    "        pin_memory=True,\n",
    "        num_workers=2,\n",
    "        shuffle=False,\n",
    "        collate_fn = collate_fn\n",
    "    )\n",
    "    \n",
    "    \n",
    "    \n",
    "\n",
    "    model = model.to(device)\n",
    "    optimizer = optim.AdamW(model.parameters(), lr=args['lr'], weight_decay=args['l2_lambda'])\n",
    "    criterion = torch.nn.MSELoss()\n",
    "\n",
    "    train_mse = test(args,model,device,train_loader,criterion)\n",
    "    valid_mse = test(args,model,device,valid_loader,criterion)\n",
    "    train_mse_lst, valid_mse_lst = [train_mse], [valid_mse]\n",
    "\n",
    "    # scheduler = torch.optim.lr_scheduler.ExponentialLR(optimizer, gamma=args['gamma'])\n",
    "    scheduler = torch.optim.lr_scheduler.ReduceLROnPlateau(optimizer,'min',0.5,patience=5,threshold=1e-3,cooldown=10)\n",
    "    print(\"Pre-Train Train MSE:\", train_mse)\n",
    "    print(\"Pre-Train Valid MSE:\", valid_mse)\n",
    "\n",
    "    best_model = None\n",
    "    for epoch in range(1, args['epoch']+1):\n",
    "        log_dict = {}\n",
    "\n",
    "        gc.collect()\n",
    "        torch.cuda.empty_cache()\n",
    "\n",
    "        train(args,model,device,train_loader,optimizer,criterion,epoch,max_norm=args['max_norm'])\n",
    "        gc.collect()\n",
    "        torch.cuda.empty_cache()\n",
    "\n",
    "        log_dict['train_mse'] = test(args,model,device,train_loader,criterion)\n",
    "        log_dict['valid_mse'] = test(args,model,device,valid_loader,criterion)\n",
    "        log_dict['lr'] = scheduler.optimizer.state_dict()['param_groups'][0]['lr']\n",
    "\n",
    "        gc.collect()\n",
    "        torch.cuda.empty_cache()\n",
    "\n",
    "        print(\"Train MSE:\",log_dict['train_mse'])\n",
    "        print(\"Valid MSE:\",log_dict['valid_mse'])\n",
    "\n",
    "        scheduler.step(log_dict['valid_mse'])\n",
    "        print('Next Learning Rate:', scheduler.optimizer.state_dict()['param_groups'][0]['lr'])\n",
    "\n",
    "        print(train_mse_lst)\n",
    "        print(valid_mse_lst)\n",
    "        if log_dict['valid_mse'] < np.min(valid_mse_lst):\n",
    "            best_model = model\n",
    "            torch.save(best_model, './best_model.model')\n",
    "            # torch.save(model.state_dict(), args['MODEL_PATH']+\"/model_epoch_\"+str(epoch))\n",
    "\n",
    "        train_mse_lst.append(log_dict['train_mse'])\n",
    "        valid_mse_lst.append(log_dict['valid_mse'])\n",
    "\n",
    "        if len(valid_mse_lst)>args['patience'] and log_dict['valid_mse'] > \\\n",
    "            np.min(valid_mse_lst[:-args['patience']]):\n",
    "                break\n",
    "    \n",
    "    if checkpoint_name:\n",
    "        torch.save({\n",
    "#           'epoch': epoch,\n",
    "          'model_state_dict': model.state_dict(),\n",
    "          'optimizer_state_dict': optimizer.state_dict(),\n",
    "#           'scheduler_state_dict': scheduler.state_dict()\n",
    "          }, f'{checkpoint_name}.checkpoint')\n",
    "    \n",
    "    print(\"Training done. Evaluating...\")\n",
    "    \n",
    "    output_lst = []\n",
    "    data_lst = []\n",
    "    factors_lst = []\n",
    "\n",
    "    for data_lhs, data_rhs, data_output, data_x_lens, data_assets in tqdm(extended_valid_loader):\n",
    "        # print(\"Shapes:\",data_lhs.shape, data_rhs.shape, data_output.shape, data_mask.shape)\n",
    "        data_lhs = data_lhs.float().to(device)\n",
    "        data_rhs = data_rhs.float().to(device)\n",
    "        data_output = data_output.float().to(device)\n",
    "        data_x_lens = data_x_lens.int().to(device)\n",
    "        output, factors = best_model(x_lhs = data_lhs, x_rhs = data_rhs)\n",
    "\n",
    "        data_mask = torch.arange(data_lhs.shape[2])[None, :].to(device) < data_x_lens[:, None]\n",
    "        output_masked = torch.masked_select(output,data_mask)\n",
    "        data_output_masked = torch.masked_select(data_output,data_mask)\n",
    "        assert (len(output_masked) == torch.sum(data_x_lens))\n",
    "\n",
    "        indices = [0]+list(torch.cumsum(data_x_lens,axis=0).cpu().numpy())\n",
    "\n",
    "        for k,(i,j) in enumerate(zip(indices[:-1],indices[1:])):\n",
    "            output_lst.append(pd.Series(output_masked[i:j].cpu().detach().numpy(),index=data_assets[k]))\n",
    "            data_lst.append(pd.Series(data_output_masked[i:j].cpu().detach().numpy(),index=data_assets[k]))\n",
    "            factors_lst.append(pd.Series(factors[k].squeeze().cpu().detach().numpy()))\n",
    "\n",
    "    gc.collect()\n",
    "    torch.cuda.empty_cache()\n",
    "    \n",
    "    output_df = pd.DataFrame(output_lst,index=extended_valid_data.output_date_idx).iloc[n_window:]\n",
    "    data_output_df = pd.DataFrame(data_lst,index=extended_valid_data.output_date_idx).iloc[n_window:]\n",
    "    factors_df = pd.DataFrame(factors_lst,index=extended_valid_data.output_date_idx)\n",
    "    \n",
    "    predicted_factors = factors_df.rolling(n_window).mean()\n",
    "    factors_tensor = torch.tensor(predicted_factors.iloc[n_window:].to_numpy()).unsqueeze(2).float().to(device)\n",
    "    \n",
    "    \n",
    "    pred_output_lst = []\n",
    "    for i, (data_lhs, _, _, data_x_lens, data_assets) in tqdm(enumerate(valid_loader),total=len(valid_loader)):\n",
    "        data_lhs = data_lhs.float().to(device)\n",
    "        data_x_lens = data_x_lens.int().to(device)\n",
    "        output= best_model.forward_given_factors(x_lhs = data_lhs, factors = factors_tensor[i*batch_size:(i+1)*batch_size])\n",
    "\n",
    "        data_mask = torch.arange(data_lhs.shape[2])[None, :].to(device) < data_x_lens[:, None]\n",
    "        output_masked = torch.masked_select(output,data_mask)\n",
    "        assert (len(output_masked) == torch.sum(data_x_lens))\n",
    "\n",
    "        indices = [0]+list(torch.cumsum(data_x_lens,axis=0).cpu().numpy())\n",
    "\n",
    "        for k,(i,j) in enumerate(zip(indices[:-1],indices[1:])):\n",
    "            pred_output_lst.append(pd.Series(output_masked[i:j].cpu().detach().numpy(),index=data_assets[k]))\n",
    "    tm1_predicted_returns = pd.DataFrame(pred_output_lst,index=predicted_factors.iloc[n_window:].index)\n",
    "    predicted_returns = tm1_predicted_returns.shift(1).iloc[1:]\n",
    "    \n",
    "    gc.collect()\n",
    "    torch.cuda.empty_cache()\n",
    "    \n",
    "    log_dict = {}\n",
    "    \n",
    "#     log_dict['predicted_returns'] = predicted_returns\n",
    "    \n",
    "    # Predictive Stats:\n",
    "    # Spearman Corr\n",
    "    corr = predicted_returns.corrwith(returns_df.loc[predicted_returns.index,predicted_returns.columns],axis=1,method='spearman')\n",
    "    log_dict['pred_spearman_corr'] = corr.mean()\n",
    "    # R2\n",
    "    numer = (returns_df.loc[predicted_returns.index,predicted_returns.columns]-predicted_returns)\n",
    "    numer_mask = (~numer.isna()).astype(int)\n",
    "    denom = returns_df.loc[predicted_returns.index,predicted_returns.columns] * numer_mask\n",
    "    log_dict['pred_r2'] = (1 - ((numer**2).sum(axis=1))/(denom**2).sum(axis=1)).mean()\n",
    "    \n",
    "    # Attribution Stats:\n",
    "    # Spearman Corr\n",
    "    corr = output_df.corrwith(returns_df.loc[output_df.index,output_df.columns],axis=1,method='spearman')\n",
    "    log_dict['total_spearman_corr'] = corr.mean()\n",
    "    # R2\n",
    "    numer = (returns_df.loc[output_df.index,output_df.columns]-output_df)\n",
    "    numer_mask = (~numer.isna()).astype(int)\n",
    "    denom = returns_df.loc[output_df.index,output_df.columns] * numer_mask\n",
    "    log_dict['total_r2'] = (1 - ((numer**2).sum(axis=1))/(denom**2).sum(axis=1)).mean()\n",
    "    \n",
    "    # Trading Stats:\n",
    "    train_pred_rank = predicted_returns.rank(pct=True,axis=1,numeric_only=True,ascending=True)\n",
    "    long_port = ((train_pred_rank >= 0.9) & (train_pred_rank < 1)).astype(int)\n",
    "    long_port = long_port.divide(long_port.sum(axis=1),axis=0)\n",
    "    long_port_returns = (long_port*returns_df.loc[long_port.index]).sum(axis=1)\n",
    "    short_port = (train_pred_rank <= 0.1).astype(int)\n",
    "    short_port = short_port.divide(short_port.sum(axis=1),axis=0)\n",
    "    short_port_returns = (short_port*returns_df.loc[short_port.index]).sum(axis=1)\n",
    "    comb_port = long_port - short_port\n",
    "    comb_port_returns = (comb_port*returns_df.loc[comb_port.index]).sum(axis=1)\n",
    "    log_dict['long_short_SR'] = (comb_port_returns.mean()/comb_port_returns.std())*np.sqrt(12)\n",
    "    log_dict['long_short_returns'] = comb_port_returns.mean()*12\n",
    "    log_dict['long_short_SD'] = comb_port_returns.std()*np.sqrt(12)\n",
    "    \n",
    "    log_dict['long_SR'] = (long_port_returns.mean()/long_port_returns.std())*np.sqrt(12)\n",
    "    log_dict['long_returns'] = long_port_returns.mean()*12\n",
    "    log_dict['long_SD'] = long_port_returns.std()*np.sqrt(12)\n",
    "    \n",
    "    log_dict['short_SR'] = (short_port_returns.mean()/short_port_returns.std())*np.sqrt(12)\n",
    "    log_dict['short_returns'] = short_port_returns.mean()*12\n",
    "    log_dict['short_SD'] = short_port_returns.std()*np.sqrt(12)\n",
    "    \n",
    "    gc.collect()\n",
    "    torch.cuda.empty_cache()\n",
    "    \n",
    "    return log_dict"
   ]
  },
  {
   "cell_type": "code",
   "execution_count": 15,
   "id": "222ea8b2",
   "metadata": {},
   "outputs": [],
   "source": [
    "fixed_args = {\n",
    "#     'n_factors' : 5,\n",
    "#     'n_hidden_lhs':[16,8],\n",
    "    'n_hidden_rhs':[],\n",
    "    'batch_norm_lhs' : True,\n",
    "    'batch_norm_rhs' : False,\n",
    "#     'rhs_activation': True,\n",
    "    'dropout_p' : 0.0,\n",
    "    'max_norm' : 100,\n",
    "    'bn_momentum': 0.01,\n",
    "    'bn_track_running_stats': True,\n",
    "    'initialization' : False,\n",
    "    'rhs_input_assets' : False,\n",
    "    'lr' : 1e-3,\n",
    "    'gamma': 1/4,\n",
    "    'l2_lambda': 0,\n",
    "    'l1_lambda': 4e-4,\n",
    "    'batch_size': 16,\n",
    "    'log_interval': 1,\n",
    "    'epoch': 60,\n",
    "    'patience': 6\n",
    "}\n",
    "\n",
    "search_args = {\n",
    "    'n_factors': [8],\n",
    "#     'n_hidden_lhs': [(24,12),(24,12,6)],\n",
    "    'n_hidden_lhs': [(24,12)],\n",
    "    'runs':[1,2,3,4,5,6,7,8,9,10],\n",
    "    'rhs_activation': [False]\n",
    "}\n",
    "\n",
    "# fixed_args = {\n",
    "# #     'n_factors' : 5,\n",
    "# #     'n_hidden_lhs':[16,8],\n",
    "#     'n_hidden_rhs':[],\n",
    "#     'batch_norm_lhs' : True,\n",
    "#     'batch_norm_rhs' : False,\n",
    "#     'rhs_activation': True,\n",
    "#     'dropout_p' : 0.0,\n",
    "#     'max_norm' : 1,\n",
    "#     'bn_momentum': 0.01,\n",
    "#     'bn_track_running_stats': True,\n",
    "#     'initialization' : False,\n",
    "# #     'rhs_input_assets' : False,\n",
    "#     'lr' : 5e-4,\n",
    "#     'gamma': 1/4,\n",
    "#     'l2_lambda': 0,\n",
    "#     'l1_lambda': 4e-3,\n",
    "#     'batch_size': 32,\n",
    "#     'log_interval': 1,\n",
    "#     'epoch': 3,\n",
    "#     'patience': 6\n",
    "# }\n",
    "\n",
    "# search_args = {\n",
    "#     'n_factors': [2],\n",
    "#     'n_hidden_lhs': [(8,)],\n",
    "#     'rhs_input_assets': [True]\n",
    "# }\n",
    "\n",
    "search_keys = list(search_args.keys())\n",
    "search_values = list(search_args.values())\n",
    "from itertools import product\n",
    "search_values = list(product(*search_values))\n"
   ]
  },
  {
   "cell_type": "code",
   "execution_count": 16,
   "id": "916fbf31",
   "metadata": {},
   "outputs": [
    {
     "data": {
      "text/plain": [
       "[(8, (24, 12), 1, False),\n",
       " (8, (24, 12), 2, False),\n",
       " (8, (24, 12), 3, False),\n",
       " (8, (24, 12), 4, False),\n",
       " (8, (24, 12), 5, False),\n",
       " (8, (24, 12), 6, False),\n",
       " (8, (24, 12), 7, False),\n",
       " (8, (24, 12), 8, False),\n",
       " (8, (24, 12), 9, False),\n",
       " (8, (24, 12), 10, False)]"
      ]
     },
     "execution_count": 16,
     "metadata": {},
     "output_type": "execute_result"
    }
   ],
   "source": [
    "search_values"
   ]
  },
  {
   "cell_type": "code",
   "execution_count": 17,
   "id": "657cfcea",
   "metadata": {
    "scrolled": true
   },
   "outputs": [
    {
     "name": "stdout",
     "output_type": "stream",
     "text": [
      "Params 0: (8, (24, 12), 1, False)\n",
      "Params 1: (8, (24, 12), 2, False)\n",
      "Params 2: (8, (24, 12), 3, False)\n",
      "Params 3: (8, (24, 12), 4, False)\n",
      "Params 4: (8, (24, 12), 5, False)\n",
      "ConditionalAutoEncoder(\n",
      "  (lhs): Sequential(\n",
      "    (0): LayerNorm((45,), eps=1e-05, elementwise_affine=True)\n",
      "    (1): Linear(in_features=45, out_features=24, bias=True)\n",
      "    (2): SELU()\n",
      "    (3): LayerNorm((24,), eps=1e-05, elementwise_affine=True)\n",
      "    (4): Linear(in_features=24, out_features=12, bias=True)\n",
      "    (5): SELU()\n",
      "    (6): Linear(in_features=12, out_features=8, bias=True)\n",
      "  )\n",
      "  (rhs): Sequential(\n",
      "    (0): Linear(in_features=46, out_features=8, bias=True)\n",
      "  )\n",
      ")\n",
      "   41.46 s in test({'n_hidden_rhs': [], '..., ConditionalAutoEncoder..., cuda, <torch.utils.data.data..., MSELoss())\n",
      "    8.91 s in test({'n_hidden_rhs': [], '..., ConditionalAutoEncoder..., cuda, <torch.utils.data.data..., MSELoss())\n",
      "Pre-Train Train MSE: 4.9585233\n",
      "Pre-Train Valid MSE: 0.06647518\n"
     ]
    },
    {
     "name": "stderr",
     "output_type": "stream",
     "text": [
      "                                                                                                                                                                              \r"
     ]
    },
    {
     "name": "stdout",
     "output_type": "stream",
     "text": [
      "Epoch 1, total_loss=1.7718, reg_loss = 0.0914\n",
      "   87.19 s in train({'n_hidden_rhs': [], '..., ConditionalAutoEncoder..., cuda, <torch.utils.data.data..., AdamW ( Parameter Grou..., MSELoss(), 1, max_norm=100)\n",
      "   42.47 s in test({'n_hidden_rhs': [], '..., ConditionalAutoEncoder..., cuda, <torch.utils.data.data..., MSELoss())\n",
      "    8.61 s in test({'n_hidden_rhs': [], '..., ConditionalAutoEncoder..., cuda, <torch.utils.data.data..., MSELoss())\n",
      "Train MSE: 0.6025753\n",
      "Valid MSE: 0.047824554\n",
      "Next Learning Rate: 0.001\n",
      "[4.9585233]\n",
      "[0.06647518]\n"
     ]
    },
    {
     "name": "stderr",
     "output_type": "stream",
     "text": [
      "                                                                                                                                                                              \r"
     ]
    },
    {
     "name": "stdout",
     "output_type": "stream",
     "text": [
      "Epoch 2, total_loss=0.5090, reg_loss = 0.0910\n",
      "   89.74 s in train({'n_hidden_rhs': [], '..., ConditionalAutoEncoder..., cuda, <torch.utils.data.data..., AdamW ( Parameter Grou..., MSELoss(), 2, max_norm=100)\n",
      "   42.21 s in test({'n_hidden_rhs': [], '..., ConditionalAutoEncoder..., cuda, <torch.utils.data.data..., MSELoss())\n",
      "    9.09 s in test({'n_hidden_rhs': [], '..., ConditionalAutoEncoder..., cuda, <torch.utils.data.data..., MSELoss())\n",
      "Train MSE: 0.2731393\n",
      "Valid MSE: 0.038166456\n",
      "Next Learning Rate: 0.001\n",
      "[4.9585233, 0.6025753]\n",
      "[0.06647518, 0.047824554]\n"
     ]
    },
    {
     "name": "stderr",
     "output_type": "stream",
     "text": [
      "                                                                                                                                                                              \r"
     ]
    },
    {
     "name": "stdout",
     "output_type": "stream",
     "text": [
      "Epoch 3, total_loss=0.3316, reg_loss = 0.0901\n",
      "   89.68 s in train({'n_hidden_rhs': [], '..., ConditionalAutoEncoder..., cuda, <torch.utils.data.data..., AdamW ( Parameter Grou..., MSELoss(), 3, max_norm=100)\n",
      "   42.61 s in test({'n_hidden_rhs': [], '..., ConditionalAutoEncoder..., cuda, <torch.utils.data.data..., MSELoss())\n",
      "    8.54 s in test({'n_hidden_rhs': [], '..., ConditionalAutoEncoder..., cuda, <torch.utils.data.data..., MSELoss())\n",
      "Train MSE: 0.2253138\n",
      "Valid MSE: 0.032112647\n",
      "Next Learning Rate: 0.001\n",
      "[4.9585233, 0.6025753, 0.2731393]\n",
      "[0.06647518, 0.047824554, 0.038166456]\n"
     ]
    },
    {
     "name": "stderr",
     "output_type": "stream",
     "text": [
      "                                                                                                                                                                              \r"
     ]
    },
    {
     "name": "stdout",
     "output_type": "stream",
     "text": [
      "Epoch 4, total_loss=0.2967, reg_loss = 0.0891\n",
      "   88.68 s in train({'n_hidden_rhs': [], '..., ConditionalAutoEncoder..., cuda, <torch.utils.data.data..., AdamW ( Parameter Grou..., MSELoss(), 4, max_norm=100)\n",
      "   42.34 s in test({'n_hidden_rhs': [], '..., ConditionalAutoEncoder..., cuda, <torch.utils.data.data..., MSELoss())\n",
      "   10.14 s in test({'n_hidden_rhs': [], '..., ConditionalAutoEncoder..., cuda, <torch.utils.data.data..., MSELoss())\n",
      "Train MSE: 0.20889215\n",
      "Valid MSE: 0.029338434\n",
      "Next Learning Rate: 0.001\n",
      "[4.9585233, 0.6025753, 0.2731393, 0.2253138]\n",
      "[0.06647518, 0.047824554, 0.038166456, 0.032112647]\n"
     ]
    },
    {
     "name": "stderr",
     "output_type": "stream",
     "text": [
      "                                                                                                                                                                              \r"
     ]
    },
    {
     "name": "stdout",
     "output_type": "stream",
     "text": [
      "Epoch 5, total_loss=0.2894, reg_loss = 0.0881\n",
      "   89.10 s in train({'n_hidden_rhs': [], '..., ConditionalAutoEncoder..., cuda, <torch.utils.data.data..., AdamW ( Parameter Grou..., MSELoss(), 5, max_norm=100)\n",
      "   42.02 s in test({'n_hidden_rhs': [], '..., ConditionalAutoEncoder..., cuda, <torch.utils.data.data..., MSELoss())\n",
      "    8.93 s in test({'n_hidden_rhs': [], '..., ConditionalAutoEncoder..., cuda, <torch.utils.data.data..., MSELoss())\n",
      "Train MSE: 0.20253527\n",
      "Valid MSE: 0.028097345\n",
      "Next Learning Rate: 0.001\n",
      "[4.9585233, 0.6025753, 0.2731393, 0.2253138, 0.20889215]\n",
      "[0.06647518, 0.047824554, 0.038166456, 0.032112647, 0.029338434]\n"
     ]
    },
    {
     "name": "stderr",
     "output_type": "stream",
     "text": [
      "                                                                                                                                                                              \r"
     ]
    },
    {
     "name": "stdout",
     "output_type": "stream",
     "text": [
      "Epoch 6, total_loss=0.2804, reg_loss = 0.0870\n",
      "   87.54 s in train({'n_hidden_rhs': [], '..., ConditionalAutoEncoder..., cuda, <torch.utils.data.data..., AdamW ( Parameter Grou..., MSELoss(), 6, max_norm=100)\n",
      "   42.41 s in test({'n_hidden_rhs': [], '..., ConditionalAutoEncoder..., cuda, <torch.utils.data.data..., MSELoss())\n",
      "    9.62 s in test({'n_hidden_rhs': [], '..., ConditionalAutoEncoder..., cuda, <torch.utils.data.data..., MSELoss())\n",
      "Train MSE: 0.19739534\n",
      "Valid MSE: 0.02744802\n",
      "Next Learning Rate: 0.001\n",
      "[4.9585233, 0.6025753, 0.2731393, 0.2253138, 0.20889215, 0.20253527]\n",
      "[0.06647518, 0.047824554, 0.038166456, 0.032112647, 0.029338434, 0.028097345]\n"
     ]
    },
    {
     "name": "stderr",
     "output_type": "stream",
     "text": [
      "                                                                                                                                                                              \r"
     ]
    },
    {
     "name": "stdout",
     "output_type": "stream",
     "text": [
      "Epoch 7, total_loss=0.2816, reg_loss = 0.0860\n",
      "   87.64 s in train({'n_hidden_rhs': [], '..., ConditionalAutoEncoder..., cuda, <torch.utils.data.data..., AdamW ( Parameter Grou..., MSELoss(), 7, max_norm=100)\n",
      "   43.06 s in test({'n_hidden_rhs': [], '..., ConditionalAutoEncoder..., cuda, <torch.utils.data.data..., MSELoss())\n",
      "    8.96 s in test({'n_hidden_rhs': [], '..., ConditionalAutoEncoder..., cuda, <torch.utils.data.data..., MSELoss())\n",
      "Train MSE: 0.19304794\n",
      "Valid MSE: 0.02703014\n",
      "Next Learning Rate: 0.001\n",
      "[4.9585233, 0.6025753, 0.2731393, 0.2253138, 0.20889215, 0.20253527, 0.19739534]\n",
      "[0.06647518, 0.047824554, 0.038166456, 0.032112647, 0.029338434, 0.028097345, 0.02744802]\n"
     ]
    },
    {
     "name": "stderr",
     "output_type": "stream",
     "text": [
      "                                                                                                                                                                              \r"
     ]
    },
    {
     "name": "stdout",
     "output_type": "stream",
     "text": [
      "Epoch 8, total_loss=0.2695, reg_loss = 0.0851\n",
      "   87.20 s in train({'n_hidden_rhs': [], '..., ConditionalAutoEncoder..., cuda, <torch.utils.data.data..., AdamW ( Parameter Grou..., MSELoss(), 8, max_norm=100)\n",
      "   41.60 s in test({'n_hidden_rhs': [], '..., ConditionalAutoEncoder..., cuda, <torch.utils.data.data..., MSELoss())\n",
      "    9.65 s in test({'n_hidden_rhs': [], '..., ConditionalAutoEncoder..., cuda, <torch.utils.data.data..., MSELoss())\n",
      "Train MSE: 0.18998389\n",
      "Valid MSE: 0.026720058\n",
      "Next Learning Rate: 0.001\n",
      "[4.9585233, 0.6025753, 0.2731393, 0.2253138, 0.20889215, 0.20253527, 0.19739534, 0.19304794]\n",
      "[0.06647518, 0.047824554, 0.038166456, 0.032112647, 0.029338434, 0.028097345, 0.02744802, 0.02703014]\n"
     ]
    },
    {
     "name": "stderr",
     "output_type": "stream",
     "text": [
      "                                                                                                                                                                              \r"
     ]
    },
    {
     "name": "stdout",
     "output_type": "stream",
     "text": [
      "Epoch 9, total_loss=0.2699, reg_loss = 0.0842\n",
      "   88.05 s in train({'n_hidden_rhs': [], '..., ConditionalAutoEncoder..., cuda, <torch.utils.data.data..., AdamW ( Parameter Grou..., MSELoss(), 9, max_norm=100)\n",
      "   42.17 s in test({'n_hidden_rhs': [], '..., ConditionalAutoEncoder..., cuda, <torch.utils.data.data..., MSELoss())\n",
      "    8.68 s in test({'n_hidden_rhs': [], '..., ConditionalAutoEncoder..., cuda, <torch.utils.data.data..., MSELoss())\n",
      "Train MSE: 0.18780456\n",
      "Valid MSE: 0.026498025\n",
      "Next Learning Rate: 0.001\n",
      "[4.9585233, 0.6025753, 0.2731393, 0.2253138, 0.20889215, 0.20253527, 0.19739534, 0.19304794, 0.18998389]\n",
      "[0.06647518, 0.047824554, 0.038166456, 0.032112647, 0.029338434, 0.028097345, 0.02744802, 0.02703014, 0.026720058]\n"
     ]
    },
    {
     "name": "stderr",
     "output_type": "stream",
     "text": [
      "                                                                                                                                                                              \r"
     ]
    },
    {
     "name": "stdout",
     "output_type": "stream",
     "text": [
      "Epoch 10, total_loss=0.2656, reg_loss = 0.0834\n",
      "   87.09 s in train({'n_hidden_rhs': [], '..., ConditionalAutoEncoder..., cuda, <torch.utils.data.data..., AdamW ( Parameter Grou..., MSELoss(), 10, max_norm=100)\n",
      "   42.49 s in test({'n_hidden_rhs': [], '..., ConditionalAutoEncoder..., cuda, <torch.utils.data.data..., MSELoss())\n",
      "    9.47 s in test({'n_hidden_rhs': [], '..., ConditionalAutoEncoder..., cuda, <torch.utils.data.data..., MSELoss())\n",
      "Train MSE: 0.18668926\n",
      "Valid MSE: 0.026305651\n",
      "Next Learning Rate: 0.001\n",
      "[4.9585233, 0.6025753, 0.2731393, 0.2253138, 0.20889215, 0.20253527, 0.19739534, 0.19304794, 0.18998389, 0.18780456]\n",
      "[0.06647518, 0.047824554, 0.038166456, 0.032112647, 0.029338434, 0.028097345, 0.02744802, 0.02703014, 0.026720058, 0.026498025]\n"
     ]
    },
    {
     "name": "stderr",
     "output_type": "stream",
     "text": [
      "                                                                                                                                                                              \r"
     ]
    },
    {
     "name": "stdout",
     "output_type": "stream",
     "text": [
      "Epoch 11, total_loss=0.2626, reg_loss = 0.0827\n",
      "   86.52 s in train({'n_hidden_rhs': [], '..., ConditionalAutoEncoder..., cuda, <torch.utils.data.data..., AdamW ( Parameter Grou..., MSELoss(), 11, max_norm=100)\n",
      "   43.57 s in test({'n_hidden_rhs': [], '..., ConditionalAutoEncoder..., cuda, <torch.utils.data.data..., MSELoss())\n",
      "    9.61 s in test({'n_hidden_rhs': [], '..., ConditionalAutoEncoder..., cuda, <torch.utils.data.data..., MSELoss())\n",
      "Train MSE: 0.18410712\n",
      "Valid MSE: 0.026132302\n",
      "Next Learning Rate: 0.001\n",
      "[4.9585233, 0.6025753, 0.2731393, 0.2253138, 0.20889215, 0.20253527, 0.19739534, 0.19304794, 0.18998389, 0.18780456, 0.18668926]\n",
      "[0.06647518, 0.047824554, 0.038166456, 0.032112647, 0.029338434, 0.028097345, 0.02744802, 0.02703014, 0.026720058, 0.026498025, 0.026305651]\n"
     ]
    },
    {
     "name": "stderr",
     "output_type": "stream",
     "text": [
      "                                                                                                                                                                              \r"
     ]
    },
    {
     "name": "stdout",
     "output_type": "stream",
     "text": [
      "Epoch 12, total_loss=0.2607, reg_loss = 0.0820\n",
      "   86.80 s in train({'n_hidden_rhs': [], '..., ConditionalAutoEncoder..., cuda, <torch.utils.data.data..., AdamW ( Parameter Grou..., MSELoss(), 12, max_norm=100)\n",
      "   41.09 s in test({'n_hidden_rhs': [], '..., ConditionalAutoEncoder..., cuda, <torch.utils.data.data..., MSELoss())\n",
      "    9.36 s in test({'n_hidden_rhs': [], '..., ConditionalAutoEncoder..., cuda, <torch.utils.data.data..., MSELoss())\n",
      "Train MSE: 0.18264413\n",
      "Valid MSE: 0.02596709\n",
      "Next Learning Rate: 0.001\n",
      "[4.9585233, 0.6025753, 0.2731393, 0.2253138, 0.20889215, 0.20253527, 0.19739534, 0.19304794, 0.18998389, 0.18780456, 0.18668926, 0.18410712]\n",
      "[0.06647518, 0.047824554, 0.038166456, 0.032112647, 0.029338434, 0.028097345, 0.02744802, 0.02703014, 0.026720058, 0.026498025, 0.026305651, 0.026132302]\n"
     ]
    },
    {
     "name": "stderr",
     "output_type": "stream",
     "text": [
      "                                                                                                                                                                              \r"
     ]
    },
    {
     "name": "stdout",
     "output_type": "stream",
     "text": [
      "Epoch 13, total_loss=0.2559, reg_loss = 0.0814\n",
      "   85.57 s in train({'n_hidden_rhs': [], '..., ConditionalAutoEncoder..., cuda, <torch.utils.data.data..., AdamW ( Parameter Grou..., MSELoss(), 13, max_norm=100)\n",
      "   41.67 s in test({'n_hidden_rhs': [], '..., ConditionalAutoEncoder..., cuda, <torch.utils.data.data..., MSELoss())\n",
      "    8.76 s in test({'n_hidden_rhs': [], '..., ConditionalAutoEncoder..., cuda, <torch.utils.data.data..., MSELoss())\n",
      "Train MSE: 0.18184876\n",
      "Valid MSE: 0.025875827\n",
      "Next Learning Rate: 0.001\n",
      "[4.9585233, 0.6025753, 0.2731393, 0.2253138, 0.20889215, 0.20253527, 0.19739534, 0.19304794, 0.18998389, 0.18780456, 0.18668926, 0.18410712, 0.18264413]\n",
      "[0.06647518, 0.047824554, 0.038166456, 0.032112647, 0.029338434, 0.028097345, 0.02744802, 0.02703014, 0.026720058, 0.026498025, 0.026305651, 0.026132302, 0.02596709]\n"
     ]
    },
    {
     "name": "stderr",
     "output_type": "stream",
     "text": [
      "                                                                                                                                                                              \r"
     ]
    },
    {
     "name": "stdout",
     "output_type": "stream",
     "text": [
      "Epoch 14, total_loss=0.2571, reg_loss = 0.0808\n",
      "   85.12 s in train({'n_hidden_rhs': [], '..., ConditionalAutoEncoder..., cuda, <torch.utils.data.data..., AdamW ( Parameter Grou..., MSELoss(), 14, max_norm=100)\n",
      "   41.25 s in test({'n_hidden_rhs': [], '..., ConditionalAutoEncoder..., cuda, <torch.utils.data.data..., MSELoss())\n",
      "    8.42 s in test({'n_hidden_rhs': [], '..., ConditionalAutoEncoder..., cuda, <torch.utils.data.data..., MSELoss())\n",
      "Train MSE: 0.18077081\n",
      "Valid MSE: 0.025766283\n",
      "Next Learning Rate: 0.001\n",
      "[4.9585233, 0.6025753, 0.2731393, 0.2253138, 0.20889215, 0.20253527, 0.19739534, 0.19304794, 0.18998389, 0.18780456, 0.18668926, 0.18410712, 0.18264413, 0.18184876]\n",
      "[0.06647518, 0.047824554, 0.038166456, 0.032112647, 0.029338434, 0.028097345, 0.02744802, 0.02703014, 0.026720058, 0.026498025, 0.026305651, 0.026132302, 0.02596709, 0.025875827]\n"
     ]
    },
    {
     "name": "stderr",
     "output_type": "stream",
     "text": [
      "                                                                                                                                                                              \r"
     ]
    },
    {
     "name": "stdout",
     "output_type": "stream",
     "text": [
      "Epoch 15, total_loss=0.2528, reg_loss = 0.0803\n",
      "   86.94 s in train({'n_hidden_rhs': [], '..., ConditionalAutoEncoder..., cuda, <torch.utils.data.data..., AdamW ( Parameter Grou..., MSELoss(), 15, max_norm=100)\n",
      "   42.14 s in test({'n_hidden_rhs': [], '..., ConditionalAutoEncoder..., cuda, <torch.utils.data.data..., MSELoss())\n",
      "    8.98 s in test({'n_hidden_rhs': [], '..., ConditionalAutoEncoder..., cuda, <torch.utils.data.data..., MSELoss())\n",
      "Train MSE: 0.17931794\n",
      "Valid MSE: 0.02568637\n",
      "Next Learning Rate: 0.001\n",
      "[4.9585233, 0.6025753, 0.2731393, 0.2253138, 0.20889215, 0.20253527, 0.19739534, 0.19304794, 0.18998389, 0.18780456, 0.18668926, 0.18410712, 0.18264413, 0.18184876, 0.18077081]\n",
      "[0.06647518, 0.047824554, 0.038166456, 0.032112647, 0.029338434, 0.028097345, 0.02744802, 0.02703014, 0.026720058, 0.026498025, 0.026305651, 0.026132302, 0.02596709, 0.025875827, 0.025766283]\n"
     ]
    },
    {
     "name": "stderr",
     "output_type": "stream",
     "text": [
      "                                                                                                                                                                              \r"
     ]
    },
    {
     "name": "stdout",
     "output_type": "stream",
     "text": [
      "Epoch 16, total_loss=0.2530, reg_loss = 0.0798\n",
      "   86.27 s in train({'n_hidden_rhs': [], '..., ConditionalAutoEncoder..., cuda, <torch.utils.data.data..., AdamW ( Parameter Grou..., MSELoss(), 16, max_norm=100)\n",
      "   42.12 s in test({'n_hidden_rhs': [], '..., ConditionalAutoEncoder..., cuda, <torch.utils.data.data..., MSELoss())\n",
      "    8.55 s in test({'n_hidden_rhs': [], '..., ConditionalAutoEncoder..., cuda, <torch.utils.data.data..., MSELoss())\n",
      "Train MSE: 0.17856078\n",
      "Valid MSE: 0.025627038\n",
      "Next Learning Rate: 0.001\n",
      "[4.9585233, 0.6025753, 0.2731393, 0.2253138, 0.20889215, 0.20253527, 0.19739534, 0.19304794, 0.18998389, 0.18780456, 0.18668926, 0.18410712, 0.18264413, 0.18184876, 0.18077081, 0.17931794]\n",
      "[0.06647518, 0.047824554, 0.038166456, 0.032112647, 0.029338434, 0.028097345, 0.02744802, 0.02703014, 0.026720058, 0.026498025, 0.026305651, 0.026132302, 0.02596709, 0.025875827, 0.025766283, 0.02568637]\n"
     ]
    },
    {
     "name": "stderr",
     "output_type": "stream",
     "text": [
      "                                                                                                                                                                              \r"
     ]
    },
    {
     "name": "stdout",
     "output_type": "stream",
     "text": [
      "Epoch 17, total_loss=0.2547, reg_loss = 0.0794\n",
      "   85.17 s in train({'n_hidden_rhs': [], '..., ConditionalAutoEncoder..., cuda, <torch.utils.data.data..., AdamW ( Parameter Grou..., MSELoss(), 17, max_norm=100)\n",
      "   41.12 s in test({'n_hidden_rhs': [], '..., ConditionalAutoEncoder..., cuda, <torch.utils.data.data..., MSELoss())\n",
      "    9.12 s in test({'n_hidden_rhs': [], '..., ConditionalAutoEncoder..., cuda, <torch.utils.data.data..., MSELoss())\n",
      "Train MSE: 0.17795481\n",
      "Valid MSE: 0.025557017\n",
      "Next Learning Rate: 0.001\n",
      "[4.9585233, 0.6025753, 0.2731393, 0.2253138, 0.20889215, 0.20253527, 0.19739534, 0.19304794, 0.18998389, 0.18780456, 0.18668926, 0.18410712, 0.18264413, 0.18184876, 0.18077081, 0.17931794, 0.17856078]\n",
      "[0.06647518, 0.047824554, 0.038166456, 0.032112647, 0.029338434, 0.028097345, 0.02744802, 0.02703014, 0.026720058, 0.026498025, 0.026305651, 0.026132302, 0.02596709, 0.025875827, 0.025766283, 0.02568637, 0.025627038]\n"
     ]
    },
    {
     "name": "stderr",
     "output_type": "stream",
     "text": [
      "                                                                                                                                                                              \r"
     ]
    },
    {
     "name": "stdout",
     "output_type": "stream",
     "text": [
      "Epoch 18, total_loss=0.2498, reg_loss = 0.0789\n",
      "   86.07 s in train({'n_hidden_rhs': [], '..., ConditionalAutoEncoder..., cuda, <torch.utils.data.data..., AdamW ( Parameter Grou..., MSELoss(), 18, max_norm=100)\n",
      "   41.21 s in test({'n_hidden_rhs': [], '..., ConditionalAutoEncoder..., cuda, <torch.utils.data.data..., MSELoss())\n",
      "    8.67 s in test({'n_hidden_rhs': [], '..., ConditionalAutoEncoder..., cuda, <torch.utils.data.data..., MSELoss())\n",
      "Train MSE: 0.1772498\n",
      "Valid MSE: 0.025487574\n",
      "Next Learning Rate: 0.001\n",
      "[4.9585233, 0.6025753, 0.2731393, 0.2253138, 0.20889215, 0.20253527, 0.19739534, 0.19304794, 0.18998389, 0.18780456, 0.18668926, 0.18410712, 0.18264413, 0.18184876, 0.18077081, 0.17931794, 0.17856078, 0.17795481]\n",
      "[0.06647518, 0.047824554, 0.038166456, 0.032112647, 0.029338434, 0.028097345, 0.02744802, 0.02703014, 0.026720058, 0.026498025, 0.026305651, 0.026132302, 0.02596709, 0.025875827, 0.025766283, 0.02568637, 0.025627038, 0.025557017]\n"
     ]
    },
    {
     "name": "stderr",
     "output_type": "stream",
     "text": [
      "                                                                                                                                                                              \r"
     ]
    },
    {
     "name": "stdout",
     "output_type": "stream",
     "text": [
      "Epoch 19, total_loss=0.2507, reg_loss = 0.0785\n",
      "   87.23 s in train({'n_hidden_rhs': [], '..., ConditionalAutoEncoder..., cuda, <torch.utils.data.data..., AdamW ( Parameter Grou..., MSELoss(), 19, max_norm=100)\n",
      "   40.56 s in test({'n_hidden_rhs': [], '..., ConditionalAutoEncoder..., cuda, <torch.utils.data.data..., MSELoss())\n",
      "    8.69 s in test({'n_hidden_rhs': [], '..., ConditionalAutoEncoder..., cuda, <torch.utils.data.data..., MSELoss())\n",
      "Train MSE: 0.17623015\n",
      "Valid MSE: 0.025434142\n",
      "Next Learning Rate: 0.001\n",
      "[4.9585233, 0.6025753, 0.2731393, 0.2253138, 0.20889215, 0.20253527, 0.19739534, 0.19304794, 0.18998389, 0.18780456, 0.18668926, 0.18410712, 0.18264413, 0.18184876, 0.18077081, 0.17931794, 0.17856078, 0.17795481, 0.1772498]\n",
      "[0.06647518, 0.047824554, 0.038166456, 0.032112647, 0.029338434, 0.028097345, 0.02744802, 0.02703014, 0.026720058, 0.026498025, 0.026305651, 0.026132302, 0.02596709, 0.025875827, 0.025766283, 0.02568637, 0.025627038, 0.025557017, 0.025487574]\n"
     ]
    },
    {
     "name": "stderr",
     "output_type": "stream",
     "text": [
      "                                                                                                                                                                              \r"
     ]
    },
    {
     "name": "stdout",
     "output_type": "stream",
     "text": [
      "Epoch 20, total_loss=0.3292, reg_loss = 0.0781\n",
      "   86.29 s in train({'n_hidden_rhs': [], '..., ConditionalAutoEncoder..., cuda, <torch.utils.data.data..., AdamW ( Parameter Grou..., MSELoss(), 20, max_norm=100)\n",
      "   42.09 s in test({'n_hidden_rhs': [], '..., ConditionalAutoEncoder..., cuda, <torch.utils.data.data..., MSELoss())\n",
      "    8.58 s in test({'n_hidden_rhs': [], '..., ConditionalAutoEncoder..., cuda, <torch.utils.data.data..., MSELoss())\n",
      "Train MSE: 0.175812\n",
      "Valid MSE: 0.025381021\n",
      "Next Learning Rate: 0.001\n",
      "[4.9585233, 0.6025753, 0.2731393, 0.2253138, 0.20889215, 0.20253527, 0.19739534, 0.19304794, 0.18998389, 0.18780456, 0.18668926, 0.18410712, 0.18264413, 0.18184876, 0.18077081, 0.17931794, 0.17856078, 0.17795481, 0.1772498, 0.17623015]\n",
      "[0.06647518, 0.047824554, 0.038166456, 0.032112647, 0.029338434, 0.028097345, 0.02744802, 0.02703014, 0.026720058, 0.026498025, 0.026305651, 0.026132302, 0.02596709, 0.025875827, 0.025766283, 0.02568637, 0.025627038, 0.025557017, 0.025487574, 0.025434142]\n"
     ]
    },
    {
     "name": "stderr",
     "output_type": "stream",
     "text": [
      "                                                                                                                                                                              \r"
     ]
    },
    {
     "name": "stdout",
     "output_type": "stream",
     "text": [
      "Epoch 21, total_loss=0.2466, reg_loss = 0.0777\n",
      "   86.12 s in train({'n_hidden_rhs': [], '..., ConditionalAutoEncoder..., cuda, <torch.utils.data.data..., AdamW ( Parameter Grou..., MSELoss(), 21, max_norm=100)\n",
      "   41.17 s in test({'n_hidden_rhs': [], '..., ConditionalAutoEncoder..., cuda, <torch.utils.data.data..., MSELoss())\n",
      "    8.58 s in test({'n_hidden_rhs': [], '..., ConditionalAutoEncoder..., cuda, <torch.utils.data.data..., MSELoss())\n",
      "Train MSE: 0.1750677\n",
      "Valid MSE: 0.025331087\n",
      "Next Learning Rate: 0.001\n",
      "[4.9585233, 0.6025753, 0.2731393, 0.2253138, 0.20889215, 0.20253527, 0.19739534, 0.19304794, 0.18998389, 0.18780456, 0.18668926, 0.18410712, 0.18264413, 0.18184876, 0.18077081, 0.17931794, 0.17856078, 0.17795481, 0.1772498, 0.17623015, 0.175812]\n",
      "[0.06647518, 0.047824554, 0.038166456, 0.032112647, 0.029338434, 0.028097345, 0.02744802, 0.02703014, 0.026720058, 0.026498025, 0.026305651, 0.026132302, 0.02596709, 0.025875827, 0.025766283, 0.02568637, 0.025627038, 0.025557017, 0.025487574, 0.025434142, 0.025381021]\n"
     ]
    },
    {
     "name": "stderr",
     "output_type": "stream",
     "text": [
      "                                                                                                                                                                              \r"
     ]
    },
    {
     "name": "stdout",
     "output_type": "stream",
     "text": [
      "Epoch 22, total_loss=0.2491, reg_loss = 0.0774\n",
      "   86.78 s in train({'n_hidden_rhs': [], '..., ConditionalAutoEncoder..., cuda, <torch.utils.data.data..., AdamW ( Parameter Grou..., MSELoss(), 22, max_norm=100)\n",
      "   41.60 s in test({'n_hidden_rhs': [], '..., ConditionalAutoEncoder..., cuda, <torch.utils.data.data..., MSELoss())\n",
      "    8.54 s in test({'n_hidden_rhs': [], '..., ConditionalAutoEncoder..., cuda, <torch.utils.data.data..., MSELoss())\n",
      "Train MSE: 0.17438579\n",
      "Valid MSE: 0.025260575\n",
      "Next Learning Rate: 0.001\n",
      "[4.9585233, 0.6025753, 0.2731393, 0.2253138, 0.20889215, 0.20253527, 0.19739534, 0.19304794, 0.18998389, 0.18780456, 0.18668926, 0.18410712, 0.18264413, 0.18184876, 0.18077081, 0.17931794, 0.17856078, 0.17795481, 0.1772498, 0.17623015, 0.175812, 0.1750677]\n",
      "[0.06647518, 0.047824554, 0.038166456, 0.032112647, 0.029338434, 0.028097345, 0.02744802, 0.02703014, 0.026720058, 0.026498025, 0.026305651, 0.026132302, 0.02596709, 0.025875827, 0.025766283, 0.02568637, 0.025627038, 0.025557017, 0.025487574, 0.025434142, 0.025381021, 0.025331087]\n"
     ]
    },
    {
     "name": "stderr",
     "output_type": "stream",
     "text": [
      "                                                                                                                                                                              \r"
     ]
    },
    {
     "name": "stdout",
     "output_type": "stream",
     "text": [
      "Epoch 23, total_loss=0.2501, reg_loss = 0.0770\n",
      "   85.62 s in train({'n_hidden_rhs': [], '..., ConditionalAutoEncoder..., cuda, <torch.utils.data.data..., AdamW ( Parameter Grou..., MSELoss(), 23, max_norm=100)\n",
      "   40.58 s in test({'n_hidden_rhs': [], '..., ConditionalAutoEncoder..., cuda, <torch.utils.data.data..., MSELoss())\n",
      "    8.47 s in test({'n_hidden_rhs': [], '..., ConditionalAutoEncoder..., cuda, <torch.utils.data.data..., MSELoss())\n",
      "Train MSE: 0.17404611\n",
      "Valid MSE: 0.025220675\n",
      "Next Learning Rate: 0.001\n",
      "[4.9585233, 0.6025753, 0.2731393, 0.2253138, 0.20889215, 0.20253527, 0.19739534, 0.19304794, 0.18998389, 0.18780456, 0.18668926, 0.18410712, 0.18264413, 0.18184876, 0.18077081, 0.17931794, 0.17856078, 0.17795481, 0.1772498, 0.17623015, 0.175812, 0.1750677, 0.17438579]\n",
      "[0.06647518, 0.047824554, 0.038166456, 0.032112647, 0.029338434, 0.028097345, 0.02744802, 0.02703014, 0.026720058, 0.026498025, 0.026305651, 0.026132302, 0.02596709, 0.025875827, 0.025766283, 0.02568637, 0.025627038, 0.025557017, 0.025487574, 0.025434142, 0.025381021, 0.025331087, 0.025260575]\n"
     ]
    },
    {
     "name": "stderr",
     "output_type": "stream",
     "text": [
      "                                                                                                                                                                              \r"
     ]
    },
    {
     "name": "stdout",
     "output_type": "stream",
     "text": [
      "Epoch 24, total_loss=0.2714, reg_loss = 0.0767\n",
      "   85.26 s in train({'n_hidden_rhs': [], '..., ConditionalAutoEncoder..., cuda, <torch.utils.data.data..., AdamW ( Parameter Grou..., MSELoss(), 24, max_norm=100)\n",
      "   41.85 s in test({'n_hidden_rhs': [], '..., ConditionalAutoEncoder..., cuda, <torch.utils.data.data..., MSELoss())\n",
      "    8.71 s in test({'n_hidden_rhs': [], '..., ConditionalAutoEncoder..., cuda, <torch.utils.data.data..., MSELoss())\n",
      "Train MSE: 0.17351681\n",
      "Valid MSE: 0.025184188\n",
      "Next Learning Rate: 0.001\n",
      "[4.9585233, 0.6025753, 0.2731393, 0.2253138, 0.20889215, 0.20253527, 0.19739534, 0.19304794, 0.18998389, 0.18780456, 0.18668926, 0.18410712, 0.18264413, 0.18184876, 0.18077081, 0.17931794, 0.17856078, 0.17795481, 0.1772498, 0.17623015, 0.175812, 0.1750677, 0.17438579, 0.17404611]\n",
      "[0.06647518, 0.047824554, 0.038166456, 0.032112647, 0.029338434, 0.028097345, 0.02744802, 0.02703014, 0.026720058, 0.026498025, 0.026305651, 0.026132302, 0.02596709, 0.025875827, 0.025766283, 0.02568637, 0.025627038, 0.025557017, 0.025487574, 0.025434142, 0.025381021, 0.025331087, 0.025260575, 0.025220675]\n"
     ]
    },
    {
     "name": "stderr",
     "output_type": "stream",
     "text": [
      "                                                                                                                                                                              \r"
     ]
    },
    {
     "name": "stdout",
     "output_type": "stream",
     "text": [
      "Epoch 25, total_loss=0.2498, reg_loss = 0.0763\n",
      "   84.50 s in train({'n_hidden_rhs': [], '..., ConditionalAutoEncoder..., cuda, <torch.utils.data.data..., AdamW ( Parameter Grou..., MSELoss(), 25, max_norm=100)\n",
      "   40.73 s in test({'n_hidden_rhs': [], '..., ConditionalAutoEncoder..., cuda, <torch.utils.data.data..., MSELoss())\n",
      "    9.44 s in test({'n_hidden_rhs': [], '..., ConditionalAutoEncoder..., cuda, <torch.utils.data.data..., MSELoss())\n",
      "Train MSE: 0.17312568\n",
      "Valid MSE: 0.025134321\n",
      "Next Learning Rate: 0.001\n",
      "[4.9585233, 0.6025753, 0.2731393, 0.2253138, 0.20889215, 0.20253527, 0.19739534, 0.19304794, 0.18998389, 0.18780456, 0.18668926, 0.18410712, 0.18264413, 0.18184876, 0.18077081, 0.17931794, 0.17856078, 0.17795481, 0.1772498, 0.17623015, 0.175812, 0.1750677, 0.17438579, 0.17404611, 0.17351681]\n",
      "[0.06647518, 0.047824554, 0.038166456, 0.032112647, 0.029338434, 0.028097345, 0.02744802, 0.02703014, 0.026720058, 0.026498025, 0.026305651, 0.026132302, 0.02596709, 0.025875827, 0.025766283, 0.02568637, 0.025627038, 0.025557017, 0.025487574, 0.025434142, 0.025381021, 0.025331087, 0.025260575, 0.025220675, 0.025184188]\n"
     ]
    },
    {
     "name": "stderr",
     "output_type": "stream",
     "text": [
      "                                                                                                                                                                              \r"
     ]
    },
    {
     "name": "stdout",
     "output_type": "stream",
     "text": [
      "Epoch 26, total_loss=0.2411, reg_loss = 0.0760\n",
      "   85.61 s in train({'n_hidden_rhs': [], '..., ConditionalAutoEncoder..., cuda, <torch.utils.data.data..., AdamW ( Parameter Grou..., MSELoss(), 26, max_norm=100)\n",
      "   42.00 s in test({'n_hidden_rhs': [], '..., ConditionalAutoEncoder..., cuda, <torch.utils.data.data..., MSELoss())\n",
      "    9.00 s in test({'n_hidden_rhs': [], '..., ConditionalAutoEncoder..., cuda, <torch.utils.data.data..., MSELoss())\n",
      "Train MSE: 0.17260924\n",
      "Valid MSE: 0.025115946\n",
      "Next Learning Rate: 0.001\n",
      "[4.9585233, 0.6025753, 0.2731393, 0.2253138, 0.20889215, 0.20253527, 0.19739534, 0.19304794, 0.18998389, 0.18780456, 0.18668926, 0.18410712, 0.18264413, 0.18184876, 0.18077081, 0.17931794, 0.17856078, 0.17795481, 0.1772498, 0.17623015, 0.175812, 0.1750677, 0.17438579, 0.17404611, 0.17351681, 0.17312568]\n",
      "[0.06647518, 0.047824554, 0.038166456, 0.032112647, 0.029338434, 0.028097345, 0.02744802, 0.02703014, 0.026720058, 0.026498025, 0.026305651, 0.026132302, 0.02596709, 0.025875827, 0.025766283, 0.02568637, 0.025627038, 0.025557017, 0.025487574, 0.025434142, 0.025381021, 0.025331087, 0.025260575, 0.025220675, 0.025184188, 0.025134321]\n"
     ]
    },
    {
     "name": "stderr",
     "output_type": "stream",
     "text": [
      "                                                                                                                                                                              \r"
     ]
    },
    {
     "name": "stdout",
     "output_type": "stream",
     "text": [
      "Epoch 27, total_loss=0.2422, reg_loss = 0.0756\n",
      "   85.86 s in train({'n_hidden_rhs': [], '..., ConditionalAutoEncoder..., cuda, <torch.utils.data.data..., AdamW ( Parameter Grou..., MSELoss(), 27, max_norm=100)\n",
      "   40.98 s in test({'n_hidden_rhs': [], '..., ConditionalAutoEncoder..., cuda, <torch.utils.data.data..., MSELoss())\n",
      "    9.07 s in test({'n_hidden_rhs': [], '..., ConditionalAutoEncoder..., cuda, <torch.utils.data.data..., MSELoss())\n",
      "Train MSE: 0.17253783\n",
      "Valid MSE: 0.025083382\n",
      "Next Learning Rate: 0.001\n",
      "[4.9585233, 0.6025753, 0.2731393, 0.2253138, 0.20889215, 0.20253527, 0.19739534, 0.19304794, 0.18998389, 0.18780456, 0.18668926, 0.18410712, 0.18264413, 0.18184876, 0.18077081, 0.17931794, 0.17856078, 0.17795481, 0.1772498, 0.17623015, 0.175812, 0.1750677, 0.17438579, 0.17404611, 0.17351681, 0.17312568, 0.17260924]\n",
      "[0.06647518, 0.047824554, 0.038166456, 0.032112647, 0.029338434, 0.028097345, 0.02744802, 0.02703014, 0.026720058, 0.026498025, 0.026305651, 0.026132302, 0.02596709, 0.025875827, 0.025766283, 0.02568637, 0.025627038, 0.025557017, 0.025487574, 0.025434142, 0.025381021, 0.025331087, 0.025260575, 0.025220675, 0.025184188, 0.025134321, 0.025115946]\n"
     ]
    },
    {
     "name": "stderr",
     "output_type": "stream",
     "text": [
      "                                                                                                                                                                              \r"
     ]
    },
    {
     "name": "stdout",
     "output_type": "stream",
     "text": [
      "Epoch 28, total_loss=0.2445, reg_loss = 0.0753\n",
      "   85.25 s in train({'n_hidden_rhs': [], '..., ConditionalAutoEncoder..., cuda, <torch.utils.data.data..., AdamW ( Parameter Grou..., MSELoss(), 28, max_norm=100)\n",
      "   41.77 s in test({'n_hidden_rhs': [], '..., ConditionalAutoEncoder..., cuda, <torch.utils.data.data..., MSELoss())\n",
      "    9.29 s in test({'n_hidden_rhs': [], '..., ConditionalAutoEncoder..., cuda, <torch.utils.data.data..., MSELoss())\n",
      "Train MSE: 0.17187785\n",
      "Valid MSE: 0.025038114\n",
      "Next Learning Rate: 0.001\n",
      "[4.9585233, 0.6025753, 0.2731393, 0.2253138, 0.20889215, 0.20253527, 0.19739534, 0.19304794, 0.18998389, 0.18780456, 0.18668926, 0.18410712, 0.18264413, 0.18184876, 0.18077081, 0.17931794, 0.17856078, 0.17795481, 0.1772498, 0.17623015, 0.175812, 0.1750677, 0.17438579, 0.17404611, 0.17351681, 0.17312568, 0.17260924, 0.17253783]\n",
      "[0.06647518, 0.047824554, 0.038166456, 0.032112647, 0.029338434, 0.028097345, 0.02744802, 0.02703014, 0.026720058, 0.026498025, 0.026305651, 0.026132302, 0.02596709, 0.025875827, 0.025766283, 0.02568637, 0.025627038, 0.025557017, 0.025487574, 0.025434142, 0.025381021, 0.025331087, 0.025260575, 0.025220675, 0.025184188, 0.025134321, 0.025115946, 0.025083382]\n"
     ]
    },
    {
     "name": "stderr",
     "output_type": "stream",
     "text": [
      "                                                                                                                                                                              \r"
     ]
    },
    {
     "name": "stdout",
     "output_type": "stream",
     "text": [
      "Epoch 29, total_loss=0.2406, reg_loss = 0.0749\n",
      "   86.92 s in train({'n_hidden_rhs': [], '..., ConditionalAutoEncoder..., cuda, <torch.utils.data.data..., AdamW ( Parameter Grou..., MSELoss(), 29, max_norm=100)\n",
      "   41.98 s in test({'n_hidden_rhs': [], '..., ConditionalAutoEncoder..., cuda, <torch.utils.data.data..., MSELoss())\n",
      "    8.71 s in test({'n_hidden_rhs': [], '..., ConditionalAutoEncoder..., cuda, <torch.utils.data.data..., MSELoss())\n",
      "Train MSE: 0.17156394\n",
      "Valid MSE: 0.02500461\n",
      "Next Learning Rate: 0.001\n",
      "[4.9585233, 0.6025753, 0.2731393, 0.2253138, 0.20889215, 0.20253527, 0.19739534, 0.19304794, 0.18998389, 0.18780456, 0.18668926, 0.18410712, 0.18264413, 0.18184876, 0.18077081, 0.17931794, 0.17856078, 0.17795481, 0.1772498, 0.17623015, 0.175812, 0.1750677, 0.17438579, 0.17404611, 0.17351681, 0.17312568, 0.17260924, 0.17253783, 0.17187785]\n",
      "[0.06647518, 0.047824554, 0.038166456, 0.032112647, 0.029338434, 0.028097345, 0.02744802, 0.02703014, 0.026720058, 0.026498025, 0.026305651, 0.026132302, 0.02596709, 0.025875827, 0.025766283, 0.02568637, 0.025627038, 0.025557017, 0.025487574, 0.025434142, 0.025381021, 0.025331087, 0.025260575, 0.025220675, 0.025184188, 0.025134321, 0.025115946, 0.025083382, 0.025038114]\n"
     ]
    },
    {
     "name": "stderr",
     "output_type": "stream",
     "text": [
      "                                                                                                                                                                              \r"
     ]
    },
    {
     "name": "stdout",
     "output_type": "stream",
     "text": [
      "Epoch 30, total_loss=0.2426, reg_loss = 0.0746\n",
      "   86.25 s in train({'n_hidden_rhs': [], '..., ConditionalAutoEncoder..., cuda, <torch.utils.data.data..., AdamW ( Parameter Grou..., MSELoss(), 30, max_norm=100)\n",
      "   40.93 s in test({'n_hidden_rhs': [], '..., ConditionalAutoEncoder..., cuda, <torch.utils.data.data..., MSELoss())\n",
      "    9.77 s in test({'n_hidden_rhs': [], '..., ConditionalAutoEncoder..., cuda, <torch.utils.data.data..., MSELoss())\n",
      "Train MSE: 0.17122754\n",
      "Valid MSE: 0.024986126\n",
      "Next Learning Rate: 0.001\n",
      "[4.9585233, 0.6025753, 0.2731393, 0.2253138, 0.20889215, 0.20253527, 0.19739534, 0.19304794, 0.18998389, 0.18780456, 0.18668926, 0.18410712, 0.18264413, 0.18184876, 0.18077081, 0.17931794, 0.17856078, 0.17795481, 0.1772498, 0.17623015, 0.175812, 0.1750677, 0.17438579, 0.17404611, 0.17351681, 0.17312568, 0.17260924, 0.17253783, 0.17187785, 0.17156394]\n",
      "[0.06647518, 0.047824554, 0.038166456, 0.032112647, 0.029338434, 0.028097345, 0.02744802, 0.02703014, 0.026720058, 0.026498025, 0.026305651, 0.026132302, 0.02596709, 0.025875827, 0.025766283, 0.02568637, 0.025627038, 0.025557017, 0.025487574, 0.025434142, 0.025381021, 0.025331087, 0.025260575, 0.025220675, 0.025184188, 0.025134321, 0.025115946, 0.025083382, 0.025038114, 0.02500461]\n"
     ]
    },
    {
     "name": "stderr",
     "output_type": "stream",
     "text": [
      "                                                                                                                                                                              \r"
     ]
    },
    {
     "name": "stdout",
     "output_type": "stream",
     "text": [
      "Epoch 31, total_loss=0.2408, reg_loss = 0.0742\n",
      "   87.46 s in train({'n_hidden_rhs': [], '..., ConditionalAutoEncoder..., cuda, <torch.utils.data.data..., AdamW ( Parameter Grou..., MSELoss(), 31, max_norm=100)\n",
      "   41.73 s in test({'n_hidden_rhs': [], '..., ConditionalAutoEncoder..., cuda, <torch.utils.data.data..., MSELoss())\n",
      "    8.88 s in test({'n_hidden_rhs': [], '..., ConditionalAutoEncoder..., cuda, <torch.utils.data.data..., MSELoss())\n",
      "Train MSE: 0.17107588\n",
      "Valid MSE: 0.024944842\n",
      "Next Learning Rate: 0.001\n",
      "[4.9585233, 0.6025753, 0.2731393, 0.2253138, 0.20889215, 0.20253527, 0.19739534, 0.19304794, 0.18998389, 0.18780456, 0.18668926, 0.18410712, 0.18264413, 0.18184876, 0.18077081, 0.17931794, 0.17856078, 0.17795481, 0.1772498, 0.17623015, 0.175812, 0.1750677, 0.17438579, 0.17404611, 0.17351681, 0.17312568, 0.17260924, 0.17253783, 0.17187785, 0.17156394, 0.17122754]\n",
      "[0.06647518, 0.047824554, 0.038166456, 0.032112647, 0.029338434, 0.028097345, 0.02744802, 0.02703014, 0.026720058, 0.026498025, 0.026305651, 0.026132302, 0.02596709, 0.025875827, 0.025766283, 0.02568637, 0.025627038, 0.025557017, 0.025487574, 0.025434142, 0.025381021, 0.025331087, 0.025260575, 0.025220675, 0.025184188, 0.025134321, 0.025115946, 0.025083382, 0.025038114, 0.02500461, 0.024986126]\n"
     ]
    },
    {
     "name": "stderr",
     "output_type": "stream",
     "text": [
      "                                                                                                                                                                              \r"
     ]
    },
    {
     "name": "stdout",
     "output_type": "stream",
     "text": [
      "Epoch 32, total_loss=0.2416, reg_loss = 0.0739\n",
      "   86.90 s in train({'n_hidden_rhs': [], '..., ConditionalAutoEncoder..., cuda, <torch.utils.data.data..., AdamW ( Parameter Grou..., MSELoss(), 32, max_norm=100)\n",
      "   41.77 s in test({'n_hidden_rhs': [], '..., ConditionalAutoEncoder..., cuda, <torch.utils.data.data..., MSELoss())\n",
      "    9.34 s in test({'n_hidden_rhs': [], '..., ConditionalAutoEncoder..., cuda, <torch.utils.data.data..., MSELoss())\n",
      "Train MSE: 0.17083728\n",
      "Valid MSE: 0.024924997\n",
      "Next Learning Rate: 0.001\n",
      "[4.9585233, 0.6025753, 0.2731393, 0.2253138, 0.20889215, 0.20253527, 0.19739534, 0.19304794, 0.18998389, 0.18780456, 0.18668926, 0.18410712, 0.18264413, 0.18184876, 0.18077081, 0.17931794, 0.17856078, 0.17795481, 0.1772498, 0.17623015, 0.175812, 0.1750677, 0.17438579, 0.17404611, 0.17351681, 0.17312568, 0.17260924, 0.17253783, 0.17187785, 0.17156394, 0.17122754, 0.17107588]\n",
      "[0.06647518, 0.047824554, 0.038166456, 0.032112647, 0.029338434, 0.028097345, 0.02744802, 0.02703014, 0.026720058, 0.026498025, 0.026305651, 0.026132302, 0.02596709, 0.025875827, 0.025766283, 0.02568637, 0.025627038, 0.025557017, 0.025487574, 0.025434142, 0.025381021, 0.025331087, 0.025260575, 0.025220675, 0.025184188, 0.025134321, 0.025115946, 0.025083382, 0.025038114, 0.02500461, 0.024986126, 0.024944842]\n"
     ]
    },
    {
     "name": "stderr",
     "output_type": "stream",
     "text": [
      "                                                                                                                                                                              \r"
     ]
    },
    {
     "name": "stdout",
     "output_type": "stream",
     "text": [
      "Epoch 33, total_loss=0.2419, reg_loss = 0.0736\n",
      "   86.18 s in train({'n_hidden_rhs': [], '..., ConditionalAutoEncoder..., cuda, <torch.utils.data.data..., AdamW ( Parameter Grou..., MSELoss(), 33, max_norm=100)\n",
      "   41.83 s in test({'n_hidden_rhs': [], '..., ConditionalAutoEncoder..., cuda, <torch.utils.data.data..., MSELoss())\n",
      "    8.78 s in test({'n_hidden_rhs': [], '..., ConditionalAutoEncoder..., cuda, <torch.utils.data.data..., MSELoss())\n",
      "Train MSE: 0.17041312\n",
      "Valid MSE: 0.024906756\n",
      "Next Learning Rate: 0.001\n",
      "[4.9585233, 0.6025753, 0.2731393, 0.2253138, 0.20889215, 0.20253527, 0.19739534, 0.19304794, 0.18998389, 0.18780456, 0.18668926, 0.18410712, 0.18264413, 0.18184876, 0.18077081, 0.17931794, 0.17856078, 0.17795481, 0.1772498, 0.17623015, 0.175812, 0.1750677, 0.17438579, 0.17404611, 0.17351681, 0.17312568, 0.17260924, 0.17253783, 0.17187785, 0.17156394, 0.17122754, 0.17107588, 0.17083728]\n",
      "[0.06647518, 0.047824554, 0.038166456, 0.032112647, 0.029338434, 0.028097345, 0.02744802, 0.02703014, 0.026720058, 0.026498025, 0.026305651, 0.026132302, 0.02596709, 0.025875827, 0.025766283, 0.02568637, 0.025627038, 0.025557017, 0.025487574, 0.025434142, 0.025381021, 0.025331087, 0.025260575, 0.025220675, 0.025184188, 0.025134321, 0.025115946, 0.025083382, 0.025038114, 0.02500461, 0.024986126, 0.024944842, 0.024924997]\n"
     ]
    },
    {
     "name": "stderr",
     "output_type": "stream",
     "text": [
      "                                                                                                                                                                              \r"
     ]
    },
    {
     "name": "stdout",
     "output_type": "stream",
     "text": [
      "Epoch 34, total_loss=0.2408, reg_loss = 0.0732\n",
      "   87.06 s in train({'n_hidden_rhs': [], '..., ConditionalAutoEncoder..., cuda, <torch.utils.data.data..., AdamW ( Parameter Grou..., MSELoss(), 34, max_norm=100)\n",
      "   42.24 s in test({'n_hidden_rhs': [], '..., ConditionalAutoEncoder..., cuda, <torch.utils.data.data..., MSELoss())\n",
      "    8.74 s in test({'n_hidden_rhs': [], '..., ConditionalAutoEncoder..., cuda, <torch.utils.data.data..., MSELoss())\n",
      "Train MSE: 0.17019206\n",
      "Valid MSE: 0.02486868\n",
      "Next Learning Rate: 0.001\n",
      "[4.9585233, 0.6025753, 0.2731393, 0.2253138, 0.20889215, 0.20253527, 0.19739534, 0.19304794, 0.18998389, 0.18780456, 0.18668926, 0.18410712, 0.18264413, 0.18184876, 0.18077081, 0.17931794, 0.17856078, 0.17795481, 0.1772498, 0.17623015, 0.175812, 0.1750677, 0.17438579, 0.17404611, 0.17351681, 0.17312568, 0.17260924, 0.17253783, 0.17187785, 0.17156394, 0.17122754, 0.17107588, 0.17083728, 0.17041312]\n",
      "[0.06647518, 0.047824554, 0.038166456, 0.032112647, 0.029338434, 0.028097345, 0.02744802, 0.02703014, 0.026720058, 0.026498025, 0.026305651, 0.026132302, 0.02596709, 0.025875827, 0.025766283, 0.02568637, 0.025627038, 0.025557017, 0.025487574, 0.025434142, 0.025381021, 0.025331087, 0.025260575, 0.025220675, 0.025184188, 0.025134321, 0.025115946, 0.025083382, 0.025038114, 0.02500461, 0.024986126, 0.024944842, 0.024924997, 0.024906756]\n"
     ]
    },
    {
     "name": "stderr",
     "output_type": "stream",
     "text": [
      "                                                                                                                                                                              \r"
     ]
    },
    {
     "name": "stdout",
     "output_type": "stream",
     "text": [
      "Epoch 35, total_loss=0.2360, reg_loss = 0.0729\n",
      "   86.14 s in train({'n_hidden_rhs': [], '..., ConditionalAutoEncoder..., cuda, <torch.utils.data.data..., AdamW ( Parameter Grou..., MSELoss(), 35, max_norm=100)\n",
      "   41.48 s in test({'n_hidden_rhs': [], '..., ConditionalAutoEncoder..., cuda, <torch.utils.data.data..., MSELoss())\n",
      "    9.41 s in test({'n_hidden_rhs': [], '..., ConditionalAutoEncoder..., cuda, <torch.utils.data.data..., MSELoss())\n",
      "Train MSE: 0.17007072\n",
      "Valid MSE: 0.024854556\n",
      "Next Learning Rate: 0.001\n",
      "[4.9585233, 0.6025753, 0.2731393, 0.2253138, 0.20889215, 0.20253527, 0.19739534, 0.19304794, 0.18998389, 0.18780456, 0.18668926, 0.18410712, 0.18264413, 0.18184876, 0.18077081, 0.17931794, 0.17856078, 0.17795481, 0.1772498, 0.17623015, 0.175812, 0.1750677, 0.17438579, 0.17404611, 0.17351681, 0.17312568, 0.17260924, 0.17253783, 0.17187785, 0.17156394, 0.17122754, 0.17107588, 0.17083728, 0.17041312, 0.17019206]\n",
      "[0.06647518, 0.047824554, 0.038166456, 0.032112647, 0.029338434, 0.028097345, 0.02744802, 0.02703014, 0.026720058, 0.026498025, 0.026305651, 0.026132302, 0.02596709, 0.025875827, 0.025766283, 0.02568637, 0.025627038, 0.025557017, 0.025487574, 0.025434142, 0.025381021, 0.025331087, 0.025260575, 0.025220675, 0.025184188, 0.025134321, 0.025115946, 0.025083382, 0.025038114, 0.02500461, 0.024986126, 0.024944842, 0.024924997, 0.024906756, 0.02486868]\n"
     ]
    },
    {
     "name": "stderr",
     "output_type": "stream",
     "text": [
      "                                                                                                                                                                              \r"
     ]
    },
    {
     "name": "stdout",
     "output_type": "stream",
     "text": [
      "Epoch 36, total_loss=0.2379, reg_loss = 0.0726\n",
      "   87.46 s in train({'n_hidden_rhs': [], '..., ConditionalAutoEncoder..., cuda, <torch.utils.data.data..., AdamW ( Parameter Grou..., MSELoss(), 36, max_norm=100)\n",
      "   42.57 s in test({'n_hidden_rhs': [], '..., ConditionalAutoEncoder..., cuda, <torch.utils.data.data..., MSELoss())\n",
      "    8.69 s in test({'n_hidden_rhs': [], '..., ConditionalAutoEncoder..., cuda, <torch.utils.data.data..., MSELoss())\n",
      "Train MSE: 0.16977063\n",
      "Valid MSE: 0.024834177\n",
      "Next Learning Rate: 0.001\n",
      "[4.9585233, 0.6025753, 0.2731393, 0.2253138, 0.20889215, 0.20253527, 0.19739534, 0.19304794, 0.18998389, 0.18780456, 0.18668926, 0.18410712, 0.18264413, 0.18184876, 0.18077081, 0.17931794, 0.17856078, 0.17795481, 0.1772498, 0.17623015, 0.175812, 0.1750677, 0.17438579, 0.17404611, 0.17351681, 0.17312568, 0.17260924, 0.17253783, 0.17187785, 0.17156394, 0.17122754, 0.17107588, 0.17083728, 0.17041312, 0.17019206, 0.17007072]\n",
      "[0.06647518, 0.047824554, 0.038166456, 0.032112647, 0.029338434, 0.028097345, 0.02744802, 0.02703014, 0.026720058, 0.026498025, 0.026305651, 0.026132302, 0.02596709, 0.025875827, 0.025766283, 0.02568637, 0.025627038, 0.025557017, 0.025487574, 0.025434142, 0.025381021, 0.025331087, 0.025260575, 0.025220675, 0.025184188, 0.025134321, 0.025115946, 0.025083382, 0.025038114, 0.02500461, 0.024986126, 0.024944842, 0.024924997, 0.024906756, 0.02486868, 0.024854556]\n"
     ]
    },
    {
     "name": "stderr",
     "output_type": "stream",
     "text": [
      "                                                                                                                                                                              \r"
     ]
    },
    {
     "name": "stdout",
     "output_type": "stream",
     "text": [
      "Epoch 37, total_loss=0.2359, reg_loss = 0.0722\n",
      "   86.27 s in train({'n_hidden_rhs': [], '..., ConditionalAutoEncoder..., cuda, <torch.utils.data.data..., AdamW ( Parameter Grou..., MSELoss(), 37, max_norm=100)\n",
      "   41.00 s in test({'n_hidden_rhs': [], '..., ConditionalAutoEncoder..., cuda, <torch.utils.data.data..., MSELoss())\n",
      "    8.86 s in test({'n_hidden_rhs': [], '..., ConditionalAutoEncoder..., cuda, <torch.utils.data.data..., MSELoss())\n",
      "Train MSE: 0.16963333\n",
      "Valid MSE: 0.024807896\n",
      "Next Learning Rate: 0.001\n",
      "[4.9585233, 0.6025753, 0.2731393, 0.2253138, 0.20889215, 0.20253527, 0.19739534, 0.19304794, 0.18998389, 0.18780456, 0.18668926, 0.18410712, 0.18264413, 0.18184876, 0.18077081, 0.17931794, 0.17856078, 0.17795481, 0.1772498, 0.17623015, 0.175812, 0.1750677, 0.17438579, 0.17404611, 0.17351681, 0.17312568, 0.17260924, 0.17253783, 0.17187785, 0.17156394, 0.17122754, 0.17107588, 0.17083728, 0.17041312, 0.17019206, 0.17007072, 0.16977063]\n",
      "[0.06647518, 0.047824554, 0.038166456, 0.032112647, 0.029338434, 0.028097345, 0.02744802, 0.02703014, 0.026720058, 0.026498025, 0.026305651, 0.026132302, 0.02596709, 0.025875827, 0.025766283, 0.02568637, 0.025627038, 0.025557017, 0.025487574, 0.025434142, 0.025381021, 0.025331087, 0.025260575, 0.025220675, 0.025184188, 0.025134321, 0.025115946, 0.025083382, 0.025038114, 0.02500461, 0.024986126, 0.024944842, 0.024924997, 0.024906756, 0.02486868, 0.024854556, 0.024834177]\n"
     ]
    },
    {
     "name": "stderr",
     "output_type": "stream",
     "text": [
      "                                                                                                                                                                              \r"
     ]
    },
    {
     "name": "stdout",
     "output_type": "stream",
     "text": [
      "Epoch 38, total_loss=0.2363, reg_loss = 0.0719\n",
      "   85.85 s in train({'n_hidden_rhs': [], '..., ConditionalAutoEncoder..., cuda, <torch.utils.data.data..., AdamW ( Parameter Grou..., MSELoss(), 38, max_norm=100)\n",
      "   41.09 s in test({'n_hidden_rhs': [], '..., ConditionalAutoEncoder..., cuda, <torch.utils.data.data..., MSELoss())\n",
      "    8.66 s in test({'n_hidden_rhs': [], '..., ConditionalAutoEncoder..., cuda, <torch.utils.data.data..., MSELoss())\n",
      "Train MSE: 0.1693772\n",
      "Valid MSE: 0.024786763\n",
      "Next Learning Rate: 0.001\n",
      "[4.9585233, 0.6025753, 0.2731393, 0.2253138, 0.20889215, 0.20253527, 0.19739534, 0.19304794, 0.18998389, 0.18780456, 0.18668926, 0.18410712, 0.18264413, 0.18184876, 0.18077081, 0.17931794, 0.17856078, 0.17795481, 0.1772498, 0.17623015, 0.175812, 0.1750677, 0.17438579, 0.17404611, 0.17351681, 0.17312568, 0.17260924, 0.17253783, 0.17187785, 0.17156394, 0.17122754, 0.17107588, 0.17083728, 0.17041312, 0.17019206, 0.17007072, 0.16977063, 0.16963333]\n",
      "[0.06647518, 0.047824554, 0.038166456, 0.032112647, 0.029338434, 0.028097345, 0.02744802, 0.02703014, 0.026720058, 0.026498025, 0.026305651, 0.026132302, 0.02596709, 0.025875827, 0.025766283, 0.02568637, 0.025627038, 0.025557017, 0.025487574, 0.025434142, 0.025381021, 0.025331087, 0.025260575, 0.025220675, 0.025184188, 0.025134321, 0.025115946, 0.025083382, 0.025038114, 0.02500461, 0.024986126, 0.024944842, 0.024924997, 0.024906756, 0.02486868, 0.024854556, 0.024834177, 0.024807896]\n"
     ]
    },
    {
     "name": "stderr",
     "output_type": "stream",
     "text": [
      "                                                                                                                                                                              \r"
     ]
    },
    {
     "name": "stdout",
     "output_type": "stream",
     "text": [
      "Epoch 39, total_loss=0.2370, reg_loss = 0.0716\n",
      "   88.00 s in train({'n_hidden_rhs': [], '..., ConditionalAutoEncoder..., cuda, <torch.utils.data.data..., AdamW ( Parameter Grou..., MSELoss(), 39, max_norm=100)\n",
      "   42.37 s in test({'n_hidden_rhs': [], '..., ConditionalAutoEncoder..., cuda, <torch.utils.data.data..., MSELoss())\n",
      "    9.70 s in test({'n_hidden_rhs': [], '..., ConditionalAutoEncoder..., cuda, <torch.utils.data.data..., MSELoss())\n",
      "Train MSE: 0.16929683\n",
      "Valid MSE: 0.024771083\n",
      "Next Learning Rate: 0.001\n",
      "[4.9585233, 0.6025753, 0.2731393, 0.2253138, 0.20889215, 0.20253527, 0.19739534, 0.19304794, 0.18998389, 0.18780456, 0.18668926, 0.18410712, 0.18264413, 0.18184876, 0.18077081, 0.17931794, 0.17856078, 0.17795481, 0.1772498, 0.17623015, 0.175812, 0.1750677, 0.17438579, 0.17404611, 0.17351681, 0.17312568, 0.17260924, 0.17253783, 0.17187785, 0.17156394, 0.17122754, 0.17107588, 0.17083728, 0.17041312, 0.17019206, 0.17007072, 0.16977063, 0.16963333, 0.1693772]\n",
      "[0.06647518, 0.047824554, 0.038166456, 0.032112647, 0.029338434, 0.028097345, 0.02744802, 0.02703014, 0.026720058, 0.026498025, 0.026305651, 0.026132302, 0.02596709, 0.025875827, 0.025766283, 0.02568637, 0.025627038, 0.025557017, 0.025487574, 0.025434142, 0.025381021, 0.025331087, 0.025260575, 0.025220675, 0.025184188, 0.025134321, 0.025115946, 0.025083382, 0.025038114, 0.02500461, 0.024986126, 0.024944842, 0.024924997, 0.024906756, 0.02486868, 0.024854556, 0.024834177, 0.024807896, 0.024786763]\n"
     ]
    },
    {
     "name": "stderr",
     "output_type": "stream",
     "text": [
      "                                                                                                                                                                              \r"
     ]
    },
    {
     "name": "stdout",
     "output_type": "stream",
     "text": [
      "Epoch 40, total_loss=0.2375, reg_loss = 0.0712\n",
      "   89.16 s in train({'n_hidden_rhs': [], '..., ConditionalAutoEncoder..., cuda, <torch.utils.data.data..., AdamW ( Parameter Grou..., MSELoss(), 40, max_norm=100)\n",
      "   42.21 s in test({'n_hidden_rhs': [], '..., ConditionalAutoEncoder..., cuda, <torch.utils.data.data..., MSELoss())\n",
      "    9.12 s in test({'n_hidden_rhs': [], '..., ConditionalAutoEncoder..., cuda, <torch.utils.data.data..., MSELoss())\n",
      "Train MSE: 0.16904171\n",
      "Valid MSE: 0.024748446\n",
      "Next Learning Rate: 0.001\n",
      "[4.9585233, 0.6025753, 0.2731393, 0.2253138, 0.20889215, 0.20253527, 0.19739534, 0.19304794, 0.18998389, 0.18780456, 0.18668926, 0.18410712, 0.18264413, 0.18184876, 0.18077081, 0.17931794, 0.17856078, 0.17795481, 0.1772498, 0.17623015, 0.175812, 0.1750677, 0.17438579, 0.17404611, 0.17351681, 0.17312568, 0.17260924, 0.17253783, 0.17187785, 0.17156394, 0.17122754, 0.17107588, 0.17083728, 0.17041312, 0.17019206, 0.17007072, 0.16977063, 0.16963333, 0.1693772, 0.16929683]\n",
      "[0.06647518, 0.047824554, 0.038166456, 0.032112647, 0.029338434, 0.028097345, 0.02744802, 0.02703014, 0.026720058, 0.026498025, 0.026305651, 0.026132302, 0.02596709, 0.025875827, 0.025766283, 0.02568637, 0.025627038, 0.025557017, 0.025487574, 0.025434142, 0.025381021, 0.025331087, 0.025260575, 0.025220675, 0.025184188, 0.025134321, 0.025115946, 0.025083382, 0.025038114, 0.02500461, 0.024986126, 0.024944842, 0.024924997, 0.024906756, 0.02486868, 0.024854556, 0.024834177, 0.024807896, 0.024786763, 0.024771083]\n"
     ]
    },
    {
     "name": "stderr",
     "output_type": "stream",
     "text": [
      "                                                                                                                                                                              \r"
     ]
    },
    {
     "name": "stdout",
     "output_type": "stream",
     "text": [
      "Epoch 41, total_loss=0.2344, reg_loss = 0.0709\n",
      "   87.03 s in train({'n_hidden_rhs': [], '..., ConditionalAutoEncoder..., cuda, <torch.utils.data.data..., AdamW ( Parameter Grou..., MSELoss(), 41, max_norm=100)\n",
      "   41.78 s in test({'n_hidden_rhs': [], '..., ConditionalAutoEncoder..., cuda, <torch.utils.data.data..., MSELoss())\n",
      "    8.89 s in test({'n_hidden_rhs': [], '..., ConditionalAutoEncoder..., cuda, <torch.utils.data.data..., MSELoss())\n",
      "Train MSE: 0.16885537\n",
      "Valid MSE: 0.02473649\n",
      "Next Learning Rate: 0.001\n",
      "[4.9585233, 0.6025753, 0.2731393, 0.2253138, 0.20889215, 0.20253527, 0.19739534, 0.19304794, 0.18998389, 0.18780456, 0.18668926, 0.18410712, 0.18264413, 0.18184876, 0.18077081, 0.17931794, 0.17856078, 0.17795481, 0.1772498, 0.17623015, 0.175812, 0.1750677, 0.17438579, 0.17404611, 0.17351681, 0.17312568, 0.17260924, 0.17253783, 0.17187785, 0.17156394, 0.17122754, 0.17107588, 0.17083728, 0.17041312, 0.17019206, 0.17007072, 0.16977063, 0.16963333, 0.1693772, 0.16929683, 0.16904171]\n",
      "[0.06647518, 0.047824554, 0.038166456, 0.032112647, 0.029338434, 0.028097345, 0.02744802, 0.02703014, 0.026720058, 0.026498025, 0.026305651, 0.026132302, 0.02596709, 0.025875827, 0.025766283, 0.02568637, 0.025627038, 0.025557017, 0.025487574, 0.025434142, 0.025381021, 0.025331087, 0.025260575, 0.025220675, 0.025184188, 0.025134321, 0.025115946, 0.025083382, 0.025038114, 0.02500461, 0.024986126, 0.024944842, 0.024924997, 0.024906756, 0.02486868, 0.024854556, 0.024834177, 0.024807896, 0.024786763, 0.024771083, 0.024748446]\n"
     ]
    },
    {
     "name": "stderr",
     "output_type": "stream",
     "text": [
      "                                                                                                                                                                              \r"
     ]
    },
    {
     "name": "stdout",
     "output_type": "stream",
     "text": [
      "Epoch 42, total_loss=0.2442, reg_loss = 0.0706\n",
      "   87.68 s in train({'n_hidden_rhs': [], '..., ConditionalAutoEncoder..., cuda, <torch.utils.data.data..., AdamW ( Parameter Grou..., MSELoss(), 42, max_norm=100)\n",
      "   41.69 s in test({'n_hidden_rhs': [], '..., ConditionalAutoEncoder..., cuda, <torch.utils.data.data..., MSELoss())\n",
      "    8.81 s in test({'n_hidden_rhs': [], '..., ConditionalAutoEncoder..., cuda, <torch.utils.data.data..., MSELoss())\n",
      "Train MSE: 0.16885298\n",
      "Valid MSE: 0.024719434\n",
      "Next Learning Rate: 0.001\n",
      "[4.9585233, 0.6025753, 0.2731393, 0.2253138, 0.20889215, 0.20253527, 0.19739534, 0.19304794, 0.18998389, 0.18780456, 0.18668926, 0.18410712, 0.18264413, 0.18184876, 0.18077081, 0.17931794, 0.17856078, 0.17795481, 0.1772498, 0.17623015, 0.175812, 0.1750677, 0.17438579, 0.17404611, 0.17351681, 0.17312568, 0.17260924, 0.17253783, 0.17187785, 0.17156394, 0.17122754, 0.17107588, 0.17083728, 0.17041312, 0.17019206, 0.17007072, 0.16977063, 0.16963333, 0.1693772, 0.16929683, 0.16904171, 0.16885537]\n",
      "[0.06647518, 0.047824554, 0.038166456, 0.032112647, 0.029338434, 0.028097345, 0.02744802, 0.02703014, 0.026720058, 0.026498025, 0.026305651, 0.026132302, 0.02596709, 0.025875827, 0.025766283, 0.02568637, 0.025627038, 0.025557017, 0.025487574, 0.025434142, 0.025381021, 0.025331087, 0.025260575, 0.025220675, 0.025184188, 0.025134321, 0.025115946, 0.025083382, 0.025038114, 0.02500461, 0.024986126, 0.024944842, 0.024924997, 0.024906756, 0.02486868, 0.024854556, 0.024834177, 0.024807896, 0.024786763, 0.024771083, 0.024748446, 0.02473649]\n"
     ]
    },
    {
     "name": "stderr",
     "output_type": "stream",
     "text": [
      "                                                                                                                                                                              \r"
     ]
    },
    {
     "name": "stdout",
     "output_type": "stream",
     "text": [
      "Epoch 43, total_loss=0.2320, reg_loss = 0.0702\n",
      "   87.47 s in train({'n_hidden_rhs': [], '..., ConditionalAutoEncoder..., cuda, <torch.utils.data.data..., AdamW ( Parameter Grou..., MSELoss(), 43, max_norm=100)\n",
      "   41.83 s in test({'n_hidden_rhs': [], '..., ConditionalAutoEncoder..., cuda, <torch.utils.data.data..., MSELoss())\n",
      "    8.90 s in test({'n_hidden_rhs': [], '..., ConditionalAutoEncoder..., cuda, <torch.utils.data.data..., MSELoss())\n",
      "Train MSE: 0.16856696\n",
      "Valid MSE: 0.024712298\n",
      "Next Learning Rate: 0.001\n",
      "[4.9585233, 0.6025753, 0.2731393, 0.2253138, 0.20889215, 0.20253527, 0.19739534, 0.19304794, 0.18998389, 0.18780456, 0.18668926, 0.18410712, 0.18264413, 0.18184876, 0.18077081, 0.17931794, 0.17856078, 0.17795481, 0.1772498, 0.17623015, 0.175812, 0.1750677, 0.17438579, 0.17404611, 0.17351681, 0.17312568, 0.17260924, 0.17253783, 0.17187785, 0.17156394, 0.17122754, 0.17107588, 0.17083728, 0.17041312, 0.17019206, 0.17007072, 0.16977063, 0.16963333, 0.1693772, 0.16929683, 0.16904171, 0.16885537, 0.16885298]\n",
      "[0.06647518, 0.047824554, 0.038166456, 0.032112647, 0.029338434, 0.028097345, 0.02744802, 0.02703014, 0.026720058, 0.026498025, 0.026305651, 0.026132302, 0.02596709, 0.025875827, 0.025766283, 0.02568637, 0.025627038, 0.025557017, 0.025487574, 0.025434142, 0.025381021, 0.025331087, 0.025260575, 0.025220675, 0.025184188, 0.025134321, 0.025115946, 0.025083382, 0.025038114, 0.02500461, 0.024986126, 0.024944842, 0.024924997, 0.024906756, 0.02486868, 0.024854556, 0.024834177, 0.024807896, 0.024786763, 0.024771083, 0.024748446, 0.02473649, 0.024719434]\n"
     ]
    },
    {
     "name": "stderr",
     "output_type": "stream",
     "text": [
      "                                                                                                                                                                              \r"
     ]
    },
    {
     "name": "stdout",
     "output_type": "stream",
     "text": [
      "Epoch 44, total_loss=0.3119, reg_loss = 0.0699\n",
      "   87.90 s in train({'n_hidden_rhs': [], '..., ConditionalAutoEncoder..., cuda, <torch.utils.data.data..., AdamW ( Parameter Grou..., MSELoss(), 44, max_norm=100)\n",
      "   43.50 s in test({'n_hidden_rhs': [], '..., ConditionalAutoEncoder..., cuda, <torch.utils.data.data..., MSELoss())\n",
      "    9.14 s in test({'n_hidden_rhs': [], '..., ConditionalAutoEncoder..., cuda, <torch.utils.data.data..., MSELoss())\n",
      "Train MSE: 0.16840187\n",
      "Valid MSE: 0.024691027\n",
      "Next Learning Rate: 0.001\n",
      "[4.9585233, 0.6025753, 0.2731393, 0.2253138, 0.20889215, 0.20253527, 0.19739534, 0.19304794, 0.18998389, 0.18780456, 0.18668926, 0.18410712, 0.18264413, 0.18184876, 0.18077081, 0.17931794, 0.17856078, 0.17795481, 0.1772498, 0.17623015, 0.175812, 0.1750677, 0.17438579, 0.17404611, 0.17351681, 0.17312568, 0.17260924, 0.17253783, 0.17187785, 0.17156394, 0.17122754, 0.17107588, 0.17083728, 0.17041312, 0.17019206, 0.17007072, 0.16977063, 0.16963333, 0.1693772, 0.16929683, 0.16904171, 0.16885537, 0.16885298, 0.16856696]\n",
      "[0.06647518, 0.047824554, 0.038166456, 0.032112647, 0.029338434, 0.028097345, 0.02744802, 0.02703014, 0.026720058, 0.026498025, 0.026305651, 0.026132302, 0.02596709, 0.025875827, 0.025766283, 0.02568637, 0.025627038, 0.025557017, 0.025487574, 0.025434142, 0.025381021, 0.025331087, 0.025260575, 0.025220675, 0.025184188, 0.025134321, 0.025115946, 0.025083382, 0.025038114, 0.02500461, 0.024986126, 0.024944842, 0.024924997, 0.024906756, 0.02486868, 0.024854556, 0.024834177, 0.024807896, 0.024786763, 0.024771083, 0.024748446, 0.02473649, 0.024719434, 0.024712298]\n"
     ]
    },
    {
     "name": "stderr",
     "output_type": "stream",
     "text": [
      "                                                                                                                                                                              \r"
     ]
    },
    {
     "name": "stdout",
     "output_type": "stream",
     "text": [
      "Epoch 45, total_loss=0.2348, reg_loss = 0.0697\n",
      "   87.77 s in train({'n_hidden_rhs': [], '..., ConditionalAutoEncoder..., cuda, <torch.utils.data.data..., AdamW ( Parameter Grou..., MSELoss(), 45, max_norm=100)\n",
      "   41.56 s in test({'n_hidden_rhs': [], '..., ConditionalAutoEncoder..., cuda, <torch.utils.data.data..., MSELoss())\n",
      "    9.17 s in test({'n_hidden_rhs': [], '..., ConditionalAutoEncoder..., cuda, <torch.utils.data.data..., MSELoss())\n",
      "Train MSE: 0.16828105\n",
      "Valid MSE: 0.024680145\n",
      "Next Learning Rate: 0.001\n",
      "[4.9585233, 0.6025753, 0.2731393, 0.2253138, 0.20889215, 0.20253527, 0.19739534, 0.19304794, 0.18998389, 0.18780456, 0.18668926, 0.18410712, 0.18264413, 0.18184876, 0.18077081, 0.17931794, 0.17856078, 0.17795481, 0.1772498, 0.17623015, 0.175812, 0.1750677, 0.17438579, 0.17404611, 0.17351681, 0.17312568, 0.17260924, 0.17253783, 0.17187785, 0.17156394, 0.17122754, 0.17107588, 0.17083728, 0.17041312, 0.17019206, 0.17007072, 0.16977063, 0.16963333, 0.1693772, 0.16929683, 0.16904171, 0.16885537, 0.16885298, 0.16856696, 0.16840187]\n",
      "[0.06647518, 0.047824554, 0.038166456, 0.032112647, 0.029338434, 0.028097345, 0.02744802, 0.02703014, 0.026720058, 0.026498025, 0.026305651, 0.026132302, 0.02596709, 0.025875827, 0.025766283, 0.02568637, 0.025627038, 0.025557017, 0.025487574, 0.025434142, 0.025381021, 0.025331087, 0.025260575, 0.025220675, 0.025184188, 0.025134321, 0.025115946, 0.025083382, 0.025038114, 0.02500461, 0.024986126, 0.024944842, 0.024924997, 0.024906756, 0.02486868, 0.024854556, 0.024834177, 0.024807896, 0.024786763, 0.024771083, 0.024748446, 0.02473649, 0.024719434, 0.024712298, 0.024691027]\n"
     ]
    },
    {
     "name": "stderr",
     "output_type": "stream",
     "text": [
      "                                                                                                                                                                              \r"
     ]
    },
    {
     "name": "stdout",
     "output_type": "stream",
     "text": [
      "Epoch 46, total_loss=0.2480, reg_loss = 0.0693\n",
      "   88.88 s in train({'n_hidden_rhs': [], '..., ConditionalAutoEncoder..., cuda, <torch.utils.data.data..., AdamW ( Parameter Grou..., MSELoss(), 46, max_norm=100)\n",
      "   41.97 s in test({'n_hidden_rhs': [], '..., ConditionalAutoEncoder..., cuda, <torch.utils.data.data..., MSELoss())\n",
      "    8.90 s in test({'n_hidden_rhs': [], '..., ConditionalAutoEncoder..., cuda, <torch.utils.data.data..., MSELoss())\n",
      "Train MSE: 0.16815771\n",
      "Valid MSE: 0.024668012\n",
      "Next Learning Rate: 0.001\n",
      "[4.9585233, 0.6025753, 0.2731393, 0.2253138, 0.20889215, 0.20253527, 0.19739534, 0.19304794, 0.18998389, 0.18780456, 0.18668926, 0.18410712, 0.18264413, 0.18184876, 0.18077081, 0.17931794, 0.17856078, 0.17795481, 0.1772498, 0.17623015, 0.175812, 0.1750677, 0.17438579, 0.17404611, 0.17351681, 0.17312568, 0.17260924, 0.17253783, 0.17187785, 0.17156394, 0.17122754, 0.17107588, 0.17083728, 0.17041312, 0.17019206, 0.17007072, 0.16977063, 0.16963333, 0.1693772, 0.16929683, 0.16904171, 0.16885537, 0.16885298, 0.16856696, 0.16840187, 0.16828105]\n",
      "[0.06647518, 0.047824554, 0.038166456, 0.032112647, 0.029338434, 0.028097345, 0.02744802, 0.02703014, 0.026720058, 0.026498025, 0.026305651, 0.026132302, 0.02596709, 0.025875827, 0.025766283, 0.02568637, 0.025627038, 0.025557017, 0.025487574, 0.025434142, 0.025381021, 0.025331087, 0.025260575, 0.025220675, 0.025184188, 0.025134321, 0.025115946, 0.025083382, 0.025038114, 0.02500461, 0.024986126, 0.024944842, 0.024924997, 0.024906756, 0.02486868, 0.024854556, 0.024834177, 0.024807896, 0.024786763, 0.024771083, 0.024748446, 0.02473649, 0.024719434, 0.024712298, 0.024691027, 0.024680145]\n"
     ]
    },
    {
     "name": "stderr",
     "output_type": "stream",
     "text": [
      "Train:  22%|██████████████████▋                                                                 | 4/18 [00:22<01:13,  5.22s/it, lr=0.0010, reg_loss=0.0690, total_loss=0.1409]"
     ]
    },
    {
     "name": "stdout",
     "output_type": "stream",
     "text": [
      "   42.25 s in test({'n_hidden_rhs': [], '..., ConditionalAutoEncoder..., cuda, <torch.utils.data.data..., MSELoss())\n",
      "    8.94 s in test({'n_hidden_rhs': [], '..., ConditionalAutoEncoder..., cuda, <torch.utils.data.data..., MSELoss())\n",
      "Train MSE: 0.16811354\n",
      "Valid MSE: 0.024677237\n",
      "Next Learning Rate: 0.001\n",
      "[4.9585233, 0.6025753, 0.2731393, 0.2253138, 0.20889215, 0.20253527, 0.19739534, 0.19304794, 0.18998389, 0.18780456, 0.18668926, 0.18410712, 0.18264413, 0.18184876, 0.18077081, 0.17931794, 0.17856078, 0.17795481, 0.1772498, 0.17623015, 0.175812, 0.1750677, 0.17438579, 0.17404611, 0.17351681, 0.17312568, 0.17260924, 0.17253783, 0.17187785, 0.17156394, 0.17122754, 0.17107588, 0.17083728, 0.17041312, 0.17019206, 0.17007072, 0.16977063, 0.16963333, 0.1693772, 0.16929683, 0.16904171, 0.16885537, 0.16885298, 0.16856696, 0.16840187, 0.16828105, 0.16815771]\n",
      "[0.06647518, 0.047824554, 0.038166456, 0.032112647, 0.029338434, 0.028097345, 0.02744802, 0.02703014, 0.026720058, 0.026498025, 0.026305651, 0.026132302, 0.02596709, 0.025875827, 0.025766283, 0.02568637, 0.025627038, 0.025557017, 0.025487574, 0.025434142, 0.025381021, 0.025331087, 0.025260575, 0.025220675, 0.025184188, 0.025134321, 0.025115946, 0.025083382, 0.025038114, 0.02500461, 0.024986126, 0.024944842, 0.024924997, 0.024906756, 0.02486868, 0.024854556, 0.024834177, 0.024807896, 0.024786763, 0.024771083, 0.024748446, 0.02473649, 0.024719434, 0.024712298, 0.024691027, 0.024680145, 0.024668012]\n"
     ]
    },
    {
     "name": "stderr",
     "output_type": "stream",
     "text": [
      "                                                                                                                                                                              \r"
     ]
    },
    {
     "name": "stdout",
     "output_type": "stream",
     "text": [
      "Epoch 48, total_loss=0.2333, reg_loss = 0.0686\n",
      "   89.06 s in train({'n_hidden_rhs': [], '..., ConditionalAutoEncoder..., cuda, <torch.utils.data.data..., AdamW ( Parameter Grou..., MSELoss(), 48, max_norm=100)\n",
      "   41.24 s in test({'n_hidden_rhs': [], '..., ConditionalAutoEncoder..., cuda, <torch.utils.data.data..., MSELoss())\n",
      "    9.45 s in test({'n_hidden_rhs': [], '..., ConditionalAutoEncoder..., cuda, <torch.utils.data.data..., MSELoss())\n",
      "Train MSE: 0.16794768\n",
      "Valid MSE: 0.024644684\n",
      "Next Learning Rate: 0.001\n",
      "[4.9585233, 0.6025753, 0.2731393, 0.2253138, 0.20889215, 0.20253527, 0.19739534, 0.19304794, 0.18998389, 0.18780456, 0.18668926, 0.18410712, 0.18264413, 0.18184876, 0.18077081, 0.17931794, 0.17856078, 0.17795481, 0.1772498, 0.17623015, 0.175812, 0.1750677, 0.17438579, 0.17404611, 0.17351681, 0.17312568, 0.17260924, 0.17253783, 0.17187785, 0.17156394, 0.17122754, 0.17107588, 0.17083728, 0.17041312, 0.17019206, 0.17007072, 0.16977063, 0.16963333, 0.1693772, 0.16929683, 0.16904171, 0.16885537, 0.16885298, 0.16856696, 0.16840187, 0.16828105, 0.16815771, 0.16811354]\n",
      "[0.06647518, 0.047824554, 0.038166456, 0.032112647, 0.029338434, 0.028097345, 0.02744802, 0.02703014, 0.026720058, 0.026498025, 0.026305651, 0.026132302, 0.02596709, 0.025875827, 0.025766283, 0.02568637, 0.025627038, 0.025557017, 0.025487574, 0.025434142, 0.025381021, 0.025331087, 0.025260575, 0.025220675, 0.025184188, 0.025134321, 0.025115946, 0.025083382, 0.025038114, 0.02500461, 0.024986126, 0.024944842, 0.024924997, 0.024906756, 0.02486868, 0.024854556, 0.024834177, 0.024807896, 0.024786763, 0.024771083, 0.024748446, 0.02473649, 0.024719434, 0.024712298, 0.024691027, 0.024680145, 0.024668012, 0.024677237]\n"
     ]
    },
    {
     "name": "stderr",
     "output_type": "stream",
     "text": [
      "                                                                                                                                                                              \r"
     ]
    },
    {
     "name": "stdout",
     "output_type": "stream",
     "text": [
      "Epoch 49, total_loss=0.2328, reg_loss = 0.0682\n",
      "   87.86 s in train({'n_hidden_rhs': [], '..., ConditionalAutoEncoder..., cuda, <torch.utils.data.data..., AdamW ( Parameter Grou..., MSELoss(), 49, max_norm=100)\n",
      "   42.59 s in test({'n_hidden_rhs': [], '..., ConditionalAutoEncoder..., cuda, <torch.utils.data.data..., MSELoss())\n",
      "    9.31 s in test({'n_hidden_rhs': [], '..., ConditionalAutoEncoder..., cuda, <torch.utils.data.data..., MSELoss())\n",
      "Train MSE: 0.16785613\n",
      "Valid MSE: 0.024639212\n",
      "Next Learning Rate: 0.001\n",
      "[4.9585233, 0.6025753, 0.2731393, 0.2253138, 0.20889215, 0.20253527, 0.19739534, 0.19304794, 0.18998389, 0.18780456, 0.18668926, 0.18410712, 0.18264413, 0.18184876, 0.18077081, 0.17931794, 0.17856078, 0.17795481, 0.1772498, 0.17623015, 0.175812, 0.1750677, 0.17438579, 0.17404611, 0.17351681, 0.17312568, 0.17260924, 0.17253783, 0.17187785, 0.17156394, 0.17122754, 0.17107588, 0.17083728, 0.17041312, 0.17019206, 0.17007072, 0.16977063, 0.16963333, 0.1693772, 0.16929683, 0.16904171, 0.16885537, 0.16885298, 0.16856696, 0.16840187, 0.16828105, 0.16815771, 0.16811354, 0.16794768]\n",
      "[0.06647518, 0.047824554, 0.038166456, 0.032112647, 0.029338434, 0.028097345, 0.02744802, 0.02703014, 0.026720058, 0.026498025, 0.026305651, 0.026132302, 0.02596709, 0.025875827, 0.025766283, 0.02568637, 0.025627038, 0.025557017, 0.025487574, 0.025434142, 0.025381021, 0.025331087, 0.025260575, 0.025220675, 0.025184188, 0.025134321, 0.025115946, 0.025083382, 0.025038114, 0.02500461, 0.024986126, 0.024944842, 0.024924997, 0.024906756, 0.02486868, 0.024854556, 0.024834177, 0.024807896, 0.024786763, 0.024771083, 0.024748446, 0.02473649, 0.024719434, 0.024712298, 0.024691027, 0.024680145, 0.024668012, 0.024677237, 0.024644684]\n"
     ]
    },
    {
     "name": "stderr",
     "output_type": "stream",
     "text": [
      "                                                                                                                                                                              \r"
     ]
    },
    {
     "name": "stdout",
     "output_type": "stream",
     "text": [
      "Epoch 50, total_loss=0.2325, reg_loss = 0.0679\n",
      "   89.94 s in train({'n_hidden_rhs': [], '..., ConditionalAutoEncoder..., cuda, <torch.utils.data.data..., AdamW ( Parameter Grou..., MSELoss(), 50, max_norm=100)\n",
      "   42.53 s in test({'n_hidden_rhs': [], '..., ConditionalAutoEncoder..., cuda, <torch.utils.data.data..., MSELoss())\n",
      "    8.95 s in test({'n_hidden_rhs': [], '..., ConditionalAutoEncoder..., cuda, <torch.utils.data.data..., MSELoss())\n",
      "Train MSE: 0.16803959\n",
      "Valid MSE: 0.024628833\n",
      "Next Learning Rate: 0.001\n",
      "[4.9585233, 0.6025753, 0.2731393, 0.2253138, 0.20889215, 0.20253527, 0.19739534, 0.19304794, 0.18998389, 0.18780456, 0.18668926, 0.18410712, 0.18264413, 0.18184876, 0.18077081, 0.17931794, 0.17856078, 0.17795481, 0.1772498, 0.17623015, 0.175812, 0.1750677, 0.17438579, 0.17404611, 0.17351681, 0.17312568, 0.17260924, 0.17253783, 0.17187785, 0.17156394, 0.17122754, 0.17107588, 0.17083728, 0.17041312, 0.17019206, 0.17007072, 0.16977063, 0.16963333, 0.1693772, 0.16929683, 0.16904171, 0.16885537, 0.16885298, 0.16856696, 0.16840187, 0.16828105, 0.16815771, 0.16811354, 0.16794768, 0.16785613]\n",
      "[0.06647518, 0.047824554, 0.038166456, 0.032112647, 0.029338434, 0.028097345, 0.02744802, 0.02703014, 0.026720058, 0.026498025, 0.026305651, 0.026132302, 0.02596709, 0.025875827, 0.025766283, 0.02568637, 0.025627038, 0.025557017, 0.025487574, 0.025434142, 0.025381021, 0.025331087, 0.025260575, 0.025220675, 0.025184188, 0.025134321, 0.025115946, 0.025083382, 0.025038114, 0.02500461, 0.024986126, 0.024944842, 0.024924997, 0.024906756, 0.02486868, 0.024854556, 0.024834177, 0.024807896, 0.024786763, 0.024771083, 0.024748446, 0.02473649, 0.024719434, 0.024712298, 0.024691027, 0.024680145, 0.024668012, 0.024677237, 0.024644684, 0.024639212]\n"
     ]
    },
    {
     "name": "stderr",
     "output_type": "stream",
     "text": [
      "                                                                                                                                                                              \r"
     ]
    },
    {
     "name": "stdout",
     "output_type": "stream",
     "text": [
      "Epoch 51, total_loss=0.2299, reg_loss = 0.0676\n",
      "   88.33 s in train({'n_hidden_rhs': [], '..., ConditionalAutoEncoder..., cuda, <torch.utils.data.data..., AdamW ( Parameter Grou..., MSELoss(), 51, max_norm=100)\n",
      "   42.08 s in test({'n_hidden_rhs': [], '..., ConditionalAutoEncoder..., cuda, <torch.utils.data.data..., MSELoss())\n",
      "    9.43 s in test({'n_hidden_rhs': [], '..., ConditionalAutoEncoder..., cuda, <torch.utils.data.data..., MSELoss())\n",
      "Train MSE: 0.16767019\n",
      "Valid MSE: 0.024617631\n",
      "Next Learning Rate: 0.001\n",
      "[4.9585233, 0.6025753, 0.2731393, 0.2253138, 0.20889215, 0.20253527, 0.19739534, 0.19304794, 0.18998389, 0.18780456, 0.18668926, 0.18410712, 0.18264413, 0.18184876, 0.18077081, 0.17931794, 0.17856078, 0.17795481, 0.1772498, 0.17623015, 0.175812, 0.1750677, 0.17438579, 0.17404611, 0.17351681, 0.17312568, 0.17260924, 0.17253783, 0.17187785, 0.17156394, 0.17122754, 0.17107588, 0.17083728, 0.17041312, 0.17019206, 0.17007072, 0.16977063, 0.16963333, 0.1693772, 0.16929683, 0.16904171, 0.16885537, 0.16885298, 0.16856696, 0.16840187, 0.16828105, 0.16815771, 0.16811354, 0.16794768, 0.16785613, 0.16803959]\n",
      "[0.06647518, 0.047824554, 0.038166456, 0.032112647, 0.029338434, 0.028097345, 0.02744802, 0.02703014, 0.026720058, 0.026498025, 0.026305651, 0.026132302, 0.02596709, 0.025875827, 0.025766283, 0.02568637, 0.025627038, 0.025557017, 0.025487574, 0.025434142, 0.025381021, 0.025331087, 0.025260575, 0.025220675, 0.025184188, 0.025134321, 0.025115946, 0.025083382, 0.025038114, 0.02500461, 0.024986126, 0.024944842, 0.024924997, 0.024906756, 0.02486868, 0.024854556, 0.024834177, 0.024807896, 0.024786763, 0.024771083, 0.024748446, 0.02473649, 0.024719434, 0.024712298, 0.024691027, 0.024680145, 0.024668012, 0.024677237, 0.024644684, 0.024639212, 0.024628833]\n"
     ]
    },
    {
     "name": "stderr",
     "output_type": "stream",
     "text": [
      "                                                                                                                                                                              \r"
     ]
    },
    {
     "name": "stdout",
     "output_type": "stream",
     "text": [
      "Epoch 52, total_loss=0.2340, reg_loss = 0.0672\n",
      "   88.37 s in train({'n_hidden_rhs': [], '..., ConditionalAutoEncoder..., cuda, <torch.utils.data.data..., AdamW ( Parameter Grou..., MSELoss(), 52, max_norm=100)\n",
      "   42.63 s in test({'n_hidden_rhs': [], '..., ConditionalAutoEncoder..., cuda, <torch.utils.data.data..., MSELoss())\n",
      "    8.87 s in test({'n_hidden_rhs': [], '..., ConditionalAutoEncoder..., cuda, <torch.utils.data.data..., MSELoss())\n",
      "Train MSE: 0.16758697\n",
      "Valid MSE: 0.024613455\n",
      "Next Learning Rate: 0.001\n",
      "[4.9585233, 0.6025753, 0.2731393, 0.2253138, 0.20889215, 0.20253527, 0.19739534, 0.19304794, 0.18998389, 0.18780456, 0.18668926, 0.18410712, 0.18264413, 0.18184876, 0.18077081, 0.17931794, 0.17856078, 0.17795481, 0.1772498, 0.17623015, 0.175812, 0.1750677, 0.17438579, 0.17404611, 0.17351681, 0.17312568, 0.17260924, 0.17253783, 0.17187785, 0.17156394, 0.17122754, 0.17107588, 0.17083728, 0.17041312, 0.17019206, 0.17007072, 0.16977063, 0.16963333, 0.1693772, 0.16929683, 0.16904171, 0.16885537, 0.16885298, 0.16856696, 0.16840187, 0.16828105, 0.16815771, 0.16811354, 0.16794768, 0.16785613, 0.16803959, 0.16767019]\n",
      "[0.06647518, 0.047824554, 0.038166456, 0.032112647, 0.029338434, 0.028097345, 0.02744802, 0.02703014, 0.026720058, 0.026498025, 0.026305651, 0.026132302, 0.02596709, 0.025875827, 0.025766283, 0.02568637, 0.025627038, 0.025557017, 0.025487574, 0.025434142, 0.025381021, 0.025331087, 0.025260575, 0.025220675, 0.025184188, 0.025134321, 0.025115946, 0.025083382, 0.025038114, 0.02500461, 0.024986126, 0.024944842, 0.024924997, 0.024906756, 0.02486868, 0.024854556, 0.024834177, 0.024807896, 0.024786763, 0.024771083, 0.024748446, 0.02473649, 0.024719434, 0.024712298, 0.024691027, 0.024680145, 0.024668012, 0.024677237, 0.024644684, 0.024639212, 0.024628833, 0.024617631]\n"
     ]
    },
    {
     "name": "stderr",
     "output_type": "stream",
     "text": [
      "                                                                                                                                                                              \r"
     ]
    },
    {
     "name": "stdout",
     "output_type": "stream",
     "text": [
      "Epoch 53, total_loss=0.2275, reg_loss = 0.0669\n",
      "   87.26 s in train({'n_hidden_rhs': [], '..., ConditionalAutoEncoder..., cuda, <torch.utils.data.data..., AdamW ( Parameter Grou..., MSELoss(), 53, max_norm=100)\n",
      "   42.46 s in test({'n_hidden_rhs': [], '..., ConditionalAutoEncoder..., cuda, <torch.utils.data.data..., MSELoss())\n",
      "    8.88 s in test({'n_hidden_rhs': [], '..., ConditionalAutoEncoder..., cuda, <torch.utils.data.data..., MSELoss())\n",
      "Train MSE: 0.16748433\n",
      "Valid MSE: 0.024602285\n",
      "Next Learning Rate: 0.001\n",
      "[4.9585233, 0.6025753, 0.2731393, 0.2253138, 0.20889215, 0.20253527, 0.19739534, 0.19304794, 0.18998389, 0.18780456, 0.18668926, 0.18410712, 0.18264413, 0.18184876, 0.18077081, 0.17931794, 0.17856078, 0.17795481, 0.1772498, 0.17623015, 0.175812, 0.1750677, 0.17438579, 0.17404611, 0.17351681, 0.17312568, 0.17260924, 0.17253783, 0.17187785, 0.17156394, 0.17122754, 0.17107588, 0.17083728, 0.17041312, 0.17019206, 0.17007072, 0.16977063, 0.16963333, 0.1693772, 0.16929683, 0.16904171, 0.16885537, 0.16885298, 0.16856696, 0.16840187, 0.16828105, 0.16815771, 0.16811354, 0.16794768, 0.16785613, 0.16803959, 0.16767019, 0.16758697]\n",
      "[0.06647518, 0.047824554, 0.038166456, 0.032112647, 0.029338434, 0.028097345, 0.02744802, 0.02703014, 0.026720058, 0.026498025, 0.026305651, 0.026132302, 0.02596709, 0.025875827, 0.025766283, 0.02568637, 0.025627038, 0.025557017, 0.025487574, 0.025434142, 0.025381021, 0.025331087, 0.025260575, 0.025220675, 0.025184188, 0.025134321, 0.025115946, 0.025083382, 0.025038114, 0.02500461, 0.024986126, 0.024944842, 0.024924997, 0.024906756, 0.02486868, 0.024854556, 0.024834177, 0.024807896, 0.024786763, 0.024771083, 0.024748446, 0.02473649, 0.024719434, 0.024712298, 0.024691027, 0.024680145, 0.024668012, 0.024677237, 0.024644684, 0.024639212, 0.024628833, 0.024617631, 0.024613455]\n"
     ]
    },
    {
     "name": "stderr",
     "output_type": "stream",
     "text": [
      "                                                                                                                                                                              \r"
     ]
    },
    {
     "name": "stdout",
     "output_type": "stream",
     "text": [
      "Epoch 54, total_loss=0.2287, reg_loss = 0.0666\n",
      "   88.23 s in train({'n_hidden_rhs': [], '..., ConditionalAutoEncoder..., cuda, <torch.utils.data.data..., AdamW ( Parameter Grou..., MSELoss(), 54, max_norm=100)\n",
      "   42.27 s in test({'n_hidden_rhs': [], '..., ConditionalAutoEncoder..., cuda, <torch.utils.data.data..., MSELoss())\n",
      "    9.06 s in test({'n_hidden_rhs': [], '..., ConditionalAutoEncoder..., cuda, <torch.utils.data.data..., MSELoss())\n",
      "Train MSE: 0.16742449\n",
      "Valid MSE: 0.024598021\n",
      "Next Learning Rate: 0.001\n",
      "[4.9585233, 0.6025753, 0.2731393, 0.2253138, 0.20889215, 0.20253527, 0.19739534, 0.19304794, 0.18998389, 0.18780456, 0.18668926, 0.18410712, 0.18264413, 0.18184876, 0.18077081, 0.17931794, 0.17856078, 0.17795481, 0.1772498, 0.17623015, 0.175812, 0.1750677, 0.17438579, 0.17404611, 0.17351681, 0.17312568, 0.17260924, 0.17253783, 0.17187785, 0.17156394, 0.17122754, 0.17107588, 0.17083728, 0.17041312, 0.17019206, 0.17007072, 0.16977063, 0.16963333, 0.1693772, 0.16929683, 0.16904171, 0.16885537, 0.16885298, 0.16856696, 0.16840187, 0.16828105, 0.16815771, 0.16811354, 0.16794768, 0.16785613, 0.16803959, 0.16767019, 0.16758697, 0.16748433]\n",
      "[0.06647518, 0.047824554, 0.038166456, 0.032112647, 0.029338434, 0.028097345, 0.02744802, 0.02703014, 0.026720058, 0.026498025, 0.026305651, 0.026132302, 0.02596709, 0.025875827, 0.025766283, 0.02568637, 0.025627038, 0.025557017, 0.025487574, 0.025434142, 0.025381021, 0.025331087, 0.025260575, 0.025220675, 0.025184188, 0.025134321, 0.025115946, 0.025083382, 0.025038114, 0.02500461, 0.024986126, 0.024944842, 0.024924997, 0.024906756, 0.02486868, 0.024854556, 0.024834177, 0.024807896, 0.024786763, 0.024771083, 0.024748446, 0.02473649, 0.024719434, 0.024712298, 0.024691027, 0.024680145, 0.024668012, 0.024677237, 0.024644684, 0.024639212, 0.024628833, 0.024617631, 0.024613455, 0.024602285]\n"
     ]
    },
    {
     "name": "stderr",
     "output_type": "stream",
     "text": [
      "                                                                                                                                                                              \r"
     ]
    },
    {
     "name": "stdout",
     "output_type": "stream",
     "text": [
      "Epoch 55, total_loss=0.2290, reg_loss = 0.0663\n",
      "   87.99 s in train({'n_hidden_rhs': [], '..., ConditionalAutoEncoder..., cuda, <torch.utils.data.data..., AdamW ( Parameter Grou..., MSELoss(), 55, max_norm=100)\n",
      "   42.16 s in test({'n_hidden_rhs': [], '..., ConditionalAutoEncoder..., cuda, <torch.utils.data.data..., MSELoss())\n",
      "    9.41 s in test({'n_hidden_rhs': [], '..., ConditionalAutoEncoder..., cuda, <torch.utils.data.data..., MSELoss())\n",
      "Train MSE: 0.16844313\n",
      "Valid MSE: 0.024582047\n",
      "Next Learning Rate: 0.001\n",
      "[4.9585233, 0.6025753, 0.2731393, 0.2253138, 0.20889215, 0.20253527, 0.19739534, 0.19304794, 0.18998389, 0.18780456, 0.18668926, 0.18410712, 0.18264413, 0.18184876, 0.18077081, 0.17931794, 0.17856078, 0.17795481, 0.1772498, 0.17623015, 0.175812, 0.1750677, 0.17438579, 0.17404611, 0.17351681, 0.17312568, 0.17260924, 0.17253783, 0.17187785, 0.17156394, 0.17122754, 0.17107588, 0.17083728, 0.17041312, 0.17019206, 0.17007072, 0.16977063, 0.16963333, 0.1693772, 0.16929683, 0.16904171, 0.16885537, 0.16885298, 0.16856696, 0.16840187, 0.16828105, 0.16815771, 0.16811354, 0.16794768, 0.16785613, 0.16803959, 0.16767019, 0.16758697, 0.16748433, 0.16742449]\n",
      "[0.06647518, 0.047824554, 0.038166456, 0.032112647, 0.029338434, 0.028097345, 0.02744802, 0.02703014, 0.026720058, 0.026498025, 0.026305651, 0.026132302, 0.02596709, 0.025875827, 0.025766283, 0.02568637, 0.025627038, 0.025557017, 0.025487574, 0.025434142, 0.025381021, 0.025331087, 0.025260575, 0.025220675, 0.025184188, 0.025134321, 0.025115946, 0.025083382, 0.025038114, 0.02500461, 0.024986126, 0.024944842, 0.024924997, 0.024906756, 0.02486868, 0.024854556, 0.024834177, 0.024807896, 0.024786763, 0.024771083, 0.024748446, 0.02473649, 0.024719434, 0.024712298, 0.024691027, 0.024680145, 0.024668012, 0.024677237, 0.024644684, 0.024639212, 0.024628833, 0.024617631, 0.024613455, 0.024602285, 0.024598021]\n"
     ]
    },
    {
     "name": "stderr",
     "output_type": "stream",
     "text": [
      "                                                                                                                                                                              \r"
     ]
    },
    {
     "name": "stdout",
     "output_type": "stream",
     "text": [
      "Epoch 56, total_loss=0.2317, reg_loss = 0.0660\n",
      "   87.83 s in train({'n_hidden_rhs': [], '..., ConditionalAutoEncoder..., cuda, <torch.utils.data.data..., AdamW ( Parameter Grou..., MSELoss(), 56, max_norm=100)\n",
      "   42.19 s in test({'n_hidden_rhs': [], '..., ConditionalAutoEncoder..., cuda, <torch.utils.data.data..., MSELoss())\n",
      "    8.91 s in test({'n_hidden_rhs': [], '..., ConditionalAutoEncoder..., cuda, <torch.utils.data.data..., MSELoss())\n",
      "Train MSE: 0.17171498\n",
      "Valid MSE: 0.024562625\n",
      "Next Learning Rate: 0.001\n",
      "[4.9585233, 0.6025753, 0.2731393, 0.2253138, 0.20889215, 0.20253527, 0.19739534, 0.19304794, 0.18998389, 0.18780456, 0.18668926, 0.18410712, 0.18264413, 0.18184876, 0.18077081, 0.17931794, 0.17856078, 0.17795481, 0.1772498, 0.17623015, 0.175812, 0.1750677, 0.17438579, 0.17404611, 0.17351681, 0.17312568, 0.17260924, 0.17253783, 0.17187785, 0.17156394, 0.17122754, 0.17107588, 0.17083728, 0.17041312, 0.17019206, 0.17007072, 0.16977063, 0.16963333, 0.1693772, 0.16929683, 0.16904171, 0.16885537, 0.16885298, 0.16856696, 0.16840187, 0.16828105, 0.16815771, 0.16811354, 0.16794768, 0.16785613, 0.16803959, 0.16767019, 0.16758697, 0.16748433, 0.16742449, 0.16844313]\n",
      "[0.06647518, 0.047824554, 0.038166456, 0.032112647, 0.029338434, 0.028097345, 0.02744802, 0.02703014, 0.026720058, 0.026498025, 0.026305651, 0.026132302, 0.02596709, 0.025875827, 0.025766283, 0.02568637, 0.025627038, 0.025557017, 0.025487574, 0.025434142, 0.025381021, 0.025331087, 0.025260575, 0.025220675, 0.025184188, 0.025134321, 0.025115946, 0.025083382, 0.025038114, 0.02500461, 0.024986126, 0.024944842, 0.024924997, 0.024906756, 0.02486868, 0.024854556, 0.024834177, 0.024807896, 0.024786763, 0.024771083, 0.024748446, 0.02473649, 0.024719434, 0.024712298, 0.024691027, 0.024680145, 0.024668012, 0.024677237, 0.024644684, 0.024639212, 0.024628833, 0.024617631, 0.024613455, 0.024602285, 0.024598021, 0.024582047]\n"
     ]
    },
    {
     "name": "stderr",
     "output_type": "stream",
     "text": [
      "                                                                                                                                                                              \r"
     ]
    },
    {
     "name": "stdout",
     "output_type": "stream",
     "text": [
      "Epoch 57, total_loss=0.2274, reg_loss = 0.0657\n",
      "   88.06 s in train({'n_hidden_rhs': [], '..., ConditionalAutoEncoder..., cuda, <torch.utils.data.data..., AdamW ( Parameter Grou..., MSELoss(), 57, max_norm=100)\n",
      "   41.70 s in test({'n_hidden_rhs': [], '..., ConditionalAutoEncoder..., cuda, <torch.utils.data.data..., MSELoss())\n",
      "    8.73 s in test({'n_hidden_rhs': [], '..., ConditionalAutoEncoder..., cuda, <torch.utils.data.data..., MSELoss())\n",
      "Train MSE: 0.17150825\n",
      "Valid MSE: 0.02455749\n",
      "Next Learning Rate: 0.001\n",
      "[4.9585233, 0.6025753, 0.2731393, 0.2253138, 0.20889215, 0.20253527, 0.19739534, 0.19304794, 0.18998389, 0.18780456, 0.18668926, 0.18410712, 0.18264413, 0.18184876, 0.18077081, 0.17931794, 0.17856078, 0.17795481, 0.1772498, 0.17623015, 0.175812, 0.1750677, 0.17438579, 0.17404611, 0.17351681, 0.17312568, 0.17260924, 0.17253783, 0.17187785, 0.17156394, 0.17122754, 0.17107588, 0.17083728, 0.17041312, 0.17019206, 0.17007072, 0.16977063, 0.16963333, 0.1693772, 0.16929683, 0.16904171, 0.16885537, 0.16885298, 0.16856696, 0.16840187, 0.16828105, 0.16815771, 0.16811354, 0.16794768, 0.16785613, 0.16803959, 0.16767019, 0.16758697, 0.16748433, 0.16742449, 0.16844313, 0.17171498]\n",
      "[0.06647518, 0.047824554, 0.038166456, 0.032112647, 0.029338434, 0.028097345, 0.02744802, 0.02703014, 0.026720058, 0.026498025, 0.026305651, 0.026132302, 0.02596709, 0.025875827, 0.025766283, 0.02568637, 0.025627038, 0.025557017, 0.025487574, 0.025434142, 0.025381021, 0.025331087, 0.025260575, 0.025220675, 0.025184188, 0.025134321, 0.025115946, 0.025083382, 0.025038114, 0.02500461, 0.024986126, 0.024944842, 0.024924997, 0.024906756, 0.02486868, 0.024854556, 0.024834177, 0.024807896, 0.024786763, 0.024771083, 0.024748446, 0.02473649, 0.024719434, 0.024712298, 0.024691027, 0.024680145, 0.024668012, 0.024677237, 0.024644684, 0.024639212, 0.024628833, 0.024617631, 0.024613455, 0.024602285, 0.024598021, 0.024582047, 0.024562625]\n"
     ]
    },
    {
     "name": "stderr",
     "output_type": "stream",
     "text": [
      "                                                                                                                                                                              \r"
     ]
    },
    {
     "name": "stdout",
     "output_type": "stream",
     "text": [
      "Epoch 58, total_loss=0.2411, reg_loss = 0.0653\n",
      "   89.83 s in train({'n_hidden_rhs': [], '..., ConditionalAutoEncoder..., cuda, <torch.utils.data.data..., AdamW ( Parameter Grou..., MSELoss(), 58, max_norm=100)\n",
      "   42.68 s in test({'n_hidden_rhs': [], '..., ConditionalAutoEncoder..., cuda, <torch.utils.data.data..., MSELoss())\n",
      "    9.13 s in test({'n_hidden_rhs': [], '..., ConditionalAutoEncoder..., cuda, <torch.utils.data.data..., MSELoss())\n",
      "Train MSE: 0.16759242\n",
      "Valid MSE: 0.024555704\n",
      "Next Learning Rate: 0.001\n",
      "[4.9585233, 0.6025753, 0.2731393, 0.2253138, 0.20889215, 0.20253527, 0.19739534, 0.19304794, 0.18998389, 0.18780456, 0.18668926, 0.18410712, 0.18264413, 0.18184876, 0.18077081, 0.17931794, 0.17856078, 0.17795481, 0.1772498, 0.17623015, 0.175812, 0.1750677, 0.17438579, 0.17404611, 0.17351681, 0.17312568, 0.17260924, 0.17253783, 0.17187785, 0.17156394, 0.17122754, 0.17107588, 0.17083728, 0.17041312, 0.17019206, 0.17007072, 0.16977063, 0.16963333, 0.1693772, 0.16929683, 0.16904171, 0.16885537, 0.16885298, 0.16856696, 0.16840187, 0.16828105, 0.16815771, 0.16811354, 0.16794768, 0.16785613, 0.16803959, 0.16767019, 0.16758697, 0.16748433, 0.16742449, 0.16844313, 0.17171498, 0.17150825]\n",
      "[0.06647518, 0.047824554, 0.038166456, 0.032112647, 0.029338434, 0.028097345, 0.02744802, 0.02703014, 0.026720058, 0.026498025, 0.026305651, 0.026132302, 0.02596709, 0.025875827, 0.025766283, 0.02568637, 0.025627038, 0.025557017, 0.025487574, 0.025434142, 0.025381021, 0.025331087, 0.025260575, 0.025220675, 0.025184188, 0.025134321, 0.025115946, 0.025083382, 0.025038114, 0.02500461, 0.024986126, 0.024944842, 0.024924997, 0.024906756, 0.02486868, 0.024854556, 0.024834177, 0.024807896, 0.024786763, 0.024771083, 0.024748446, 0.02473649, 0.024719434, 0.024712298, 0.024691027, 0.024680145, 0.024668012, 0.024677237, 0.024644684, 0.024639212, 0.024628833, 0.024617631, 0.024613455, 0.024602285, 0.024598021, 0.024582047, 0.024562625, 0.02455749]\n"
     ]
    },
    {
     "name": "stderr",
     "output_type": "stream",
     "text": [
      "                                                                                                                                                                              \r"
     ]
    },
    {
     "name": "stdout",
     "output_type": "stream",
     "text": [
      "Epoch 59, total_loss=0.2259, reg_loss = 0.0650\n",
      "   87.29 s in train({'n_hidden_rhs': [], '..., ConditionalAutoEncoder..., cuda, <torch.utils.data.data..., AdamW ( Parameter Grou..., MSELoss(), 59, max_norm=100)\n",
      "   42.31 s in test({'n_hidden_rhs': [], '..., ConditionalAutoEncoder..., cuda, <torch.utils.data.data..., MSELoss())\n",
      "    9.11 s in test({'n_hidden_rhs': [], '..., ConditionalAutoEncoder..., cuda, <torch.utils.data.data..., MSELoss())\n",
      "Train MSE: 0.16836461\n",
      "Valid MSE: 0.024539625\n",
      "Next Learning Rate: 0.001\n",
      "[4.9585233, 0.6025753, 0.2731393, 0.2253138, 0.20889215, 0.20253527, 0.19739534, 0.19304794, 0.18998389, 0.18780456, 0.18668926, 0.18410712, 0.18264413, 0.18184876, 0.18077081, 0.17931794, 0.17856078, 0.17795481, 0.1772498, 0.17623015, 0.175812, 0.1750677, 0.17438579, 0.17404611, 0.17351681, 0.17312568, 0.17260924, 0.17253783, 0.17187785, 0.17156394, 0.17122754, 0.17107588, 0.17083728, 0.17041312, 0.17019206, 0.17007072, 0.16977063, 0.16963333, 0.1693772, 0.16929683, 0.16904171, 0.16885537, 0.16885298, 0.16856696, 0.16840187, 0.16828105, 0.16815771, 0.16811354, 0.16794768, 0.16785613, 0.16803959, 0.16767019, 0.16758697, 0.16748433, 0.16742449, 0.16844313, 0.17171498, 0.17150825, 0.16759242]\n",
      "[0.06647518, 0.047824554, 0.038166456, 0.032112647, 0.029338434, 0.028097345, 0.02744802, 0.02703014, 0.026720058, 0.026498025, 0.026305651, 0.026132302, 0.02596709, 0.025875827, 0.025766283, 0.02568637, 0.025627038, 0.025557017, 0.025487574, 0.025434142, 0.025381021, 0.025331087, 0.025260575, 0.025220675, 0.025184188, 0.025134321, 0.025115946, 0.025083382, 0.025038114, 0.02500461, 0.024986126, 0.024944842, 0.024924997, 0.024906756, 0.02486868, 0.024854556, 0.024834177, 0.024807896, 0.024786763, 0.024771083, 0.024748446, 0.02473649, 0.024719434, 0.024712298, 0.024691027, 0.024680145, 0.024668012, 0.024677237, 0.024644684, 0.024639212, 0.024628833, 0.024617631, 0.024613455, 0.024602285, 0.024598021, 0.024582047, 0.024562625, 0.02455749, 0.024555704]\n"
     ]
    },
    {
     "name": "stderr",
     "output_type": "stream",
     "text": [
      "                                                                                                                                                                              \r"
     ]
    },
    {
     "name": "stdout",
     "output_type": "stream",
     "text": [
      "Epoch 60, total_loss=0.2368, reg_loss = 0.0647\n",
      "   86.28 s in train({'n_hidden_rhs': [], '..., ConditionalAutoEncoder..., cuda, <torch.utils.data.data..., AdamW ( Parameter Grou..., MSELoss(), 60, max_norm=100)\n",
      "   42.05 s in test({'n_hidden_rhs': [], '..., ConditionalAutoEncoder..., cuda, <torch.utils.data.data..., MSELoss())\n",
      "    8.49 s in test({'n_hidden_rhs': [], '..., ConditionalAutoEncoder..., cuda, <torch.utils.data.data..., MSELoss())\n",
      "Train MSE: 0.16746137\n",
      "Valid MSE: 0.024527092\n",
      "Next Learning Rate: 0.001\n",
      "[4.9585233, 0.6025753, 0.2731393, 0.2253138, 0.20889215, 0.20253527, 0.19739534, 0.19304794, 0.18998389, 0.18780456, 0.18668926, 0.18410712, 0.18264413, 0.18184876, 0.18077081, 0.17931794, 0.17856078, 0.17795481, 0.1772498, 0.17623015, 0.175812, 0.1750677, 0.17438579, 0.17404611, 0.17351681, 0.17312568, 0.17260924, 0.17253783, 0.17187785, 0.17156394, 0.17122754, 0.17107588, 0.17083728, 0.17041312, 0.17019206, 0.17007072, 0.16977063, 0.16963333, 0.1693772, 0.16929683, 0.16904171, 0.16885537, 0.16885298, 0.16856696, 0.16840187, 0.16828105, 0.16815771, 0.16811354, 0.16794768, 0.16785613, 0.16803959, 0.16767019, 0.16758697, 0.16748433, 0.16742449, 0.16844313, 0.17171498, 0.17150825, 0.16759242, 0.16836461]\n",
      "[0.06647518, 0.047824554, 0.038166456, 0.032112647, 0.029338434, 0.028097345, 0.02744802, 0.02703014, 0.026720058, 0.026498025, 0.026305651, 0.026132302, 0.02596709, 0.025875827, 0.025766283, 0.02568637, 0.025627038, 0.025557017, 0.025487574, 0.025434142, 0.025381021, 0.025331087, 0.025260575, 0.025220675, 0.025184188, 0.025134321, 0.025115946, 0.025083382, 0.025038114, 0.02500461, 0.024986126, 0.024944842, 0.024924997, 0.024906756, 0.02486868, 0.024854556, 0.024834177, 0.024807896, 0.024786763, 0.024771083, 0.024748446, 0.02473649, 0.024719434, 0.024712298, 0.024691027, 0.024680145, 0.024668012, 0.024677237, 0.024644684, 0.024639212, 0.024628833, 0.024617631, 0.024613455, 0.024602285, 0.024598021, 0.024582047, 0.024562625, 0.02455749, 0.024555704, 0.024539625]\n",
      "Training done. Evaluating...\n"
     ]
    },
    {
     "name": "stderr",
     "output_type": "stream",
     "text": [
      "100%|███████████████████████████████████████████████████████████████████████████████████████████████████████████████████████████████████████████| 6/6 [00:12<00:00,  2.16s/it]\n",
      "100%|███████████████████████████████████████████████████████████████████████████████████████████████████████████████████████████████████████████| 4/4 [00:09<00:00,  2.26s/it]\n"
     ]
    },
    {
     "name": "stdout",
     "output_type": "stream",
     "text": [
      "Params 5: (8, (24, 12), 6, False)\n",
      "ConditionalAutoEncoder(\n",
      "  (lhs): Sequential(\n",
      "    (0): LayerNorm((45,), eps=1e-05, elementwise_affine=True)\n",
      "    (1): Linear(in_features=45, out_features=24, bias=True)\n",
      "    (2): SELU()\n",
      "    (3): LayerNorm((24,), eps=1e-05, elementwise_affine=True)\n",
      "    (4): Linear(in_features=24, out_features=12, bias=True)\n",
      "    (5): SELU()\n",
      "    (6): Linear(in_features=12, out_features=8, bias=True)\n",
      "  )\n",
      "  (rhs): Sequential(\n",
      "    (0): Linear(in_features=46, out_features=8, bias=True)\n",
      "  )\n",
      ")\n",
      "   42.38 s in test({'n_hidden_rhs': [], '..., ConditionalAutoEncoder..., cuda, <torch.utils.data.data..., MSELoss())\n",
      "    8.97 s in test({'n_hidden_rhs': [], '..., ConditionalAutoEncoder..., cuda, <torch.utils.data.data..., MSELoss())\n",
      "Pre-Train Train MSE: 1.484394\n",
      "Pre-Train Valid MSE: 0.033079445\n"
     ]
    },
    {
     "name": "stderr",
     "output_type": "stream",
     "text": [
      "                                                                                                                                                                              \r"
     ]
    },
    {
     "name": "stdout",
     "output_type": "stream",
     "text": [
      "Epoch 1, total_loss=0.6751, reg_loss = 0.0887\n",
      "   89.01 s in train({'n_hidden_rhs': [], '..., ConditionalAutoEncoder..., cuda, <torch.utils.data.data..., AdamW ( Parameter Grou..., MSELoss(), 1, max_norm=100)\n",
      "   41.93 s in test({'n_hidden_rhs': [], '..., ConditionalAutoEncoder..., cuda, <torch.utils.data.data..., MSELoss())\n",
      "    8.77 s in test({'n_hidden_rhs': [], '..., ConditionalAutoEncoder..., cuda, <torch.utils.data.data..., MSELoss())\n",
      "Train MSE: 0.2521785\n",
      "Valid MSE: 0.03080565\n",
      "Next Learning Rate: 0.001\n",
      "[1.484394]\n",
      "[0.033079445]\n"
     ]
    },
    {
     "name": "stderr",
     "output_type": "stream",
     "text": [
      "                                                                                                                                                                              \r"
     ]
    },
    {
     "name": "stdout",
     "output_type": "stream",
     "text": [
      "Epoch 2, total_loss=0.3127, reg_loss = 0.0876\n",
      "   88.40 s in train({'n_hidden_rhs': [], '..., ConditionalAutoEncoder..., cuda, <torch.utils.data.data..., AdamW ( Parameter Grou..., MSELoss(), 2, max_norm=100)\n",
      "   43.01 s in test({'n_hidden_rhs': [], '..., ConditionalAutoEncoder..., cuda, <torch.utils.data.data..., MSELoss())\n",
      "    8.89 s in test({'n_hidden_rhs': [], '..., ConditionalAutoEncoder..., cuda, <torch.utils.data.data..., MSELoss())\n",
      "Train MSE: 0.19993508\n",
      "Valid MSE: 0.028959764\n",
      "Next Learning Rate: 0.001\n",
      "[1.484394, 0.2521785]\n",
      "[0.033079445, 0.03080565]\n"
     ]
    },
    {
     "name": "stderr",
     "output_type": "stream",
     "text": [
      "                                                                                                                                                                              \r"
     ]
    },
    {
     "name": "stdout",
     "output_type": "stream",
     "text": [
      "Epoch 3, total_loss=0.2848, reg_loss = 0.0861\n",
      "   86.97 s in train({'n_hidden_rhs': [], '..., ConditionalAutoEncoder..., cuda, <torch.utils.data.data..., AdamW ( Parameter Grou..., MSELoss(), 3, max_norm=100)\n",
      "   41.51 s in test({'n_hidden_rhs': [], '..., ConditionalAutoEncoder..., cuda, <torch.utils.data.data..., MSELoss())\n",
      "    9.25 s in test({'n_hidden_rhs': [], '..., ConditionalAutoEncoder..., cuda, <torch.utils.data.data..., MSELoss())\n",
      "Train MSE: 0.18778132\n",
      "Valid MSE: 0.027886746\n",
      "Next Learning Rate: 0.001\n",
      "[1.484394, 0.2521785, 0.19993508]\n",
      "[0.033079445, 0.03080565, 0.028959764]\n"
     ]
    },
    {
     "name": "stderr",
     "output_type": "stream",
     "text": [
      "                                                                                                                                                                              \r"
     ]
    },
    {
     "name": "stdout",
     "output_type": "stream",
     "text": [
      "Epoch 4, total_loss=0.2654, reg_loss = 0.0845\n",
      "   87.53 s in train({'n_hidden_rhs': [], '..., ConditionalAutoEncoder..., cuda, <torch.utils.data.data..., AdamW ( Parameter Grou..., MSELoss(), 4, max_norm=100)\n",
      "   41.28 s in test({'n_hidden_rhs': [], '..., ConditionalAutoEncoder..., cuda, <torch.utils.data.data..., MSELoss())\n",
      "    8.34 s in test({'n_hidden_rhs': [], '..., ConditionalAutoEncoder..., cuda, <torch.utils.data.data..., MSELoss())\n",
      "Train MSE: 0.18268776\n",
      "Valid MSE: 0.027230678\n",
      "Next Learning Rate: 0.001\n",
      "[1.484394, 0.2521785, 0.19993508, 0.18778132]\n",
      "[0.033079445, 0.03080565, 0.028959764, 0.027886746]\n"
     ]
    },
    {
     "name": "stderr",
     "output_type": "stream",
     "text": [
      "                                                                                                                                                                              \r"
     ]
    },
    {
     "name": "stdout",
     "output_type": "stream",
     "text": [
      "Epoch 5, total_loss=0.2581, reg_loss = 0.0830\n",
      "   87.65 s in train({'n_hidden_rhs': [], '..., ConditionalAutoEncoder..., cuda, <torch.utils.data.data..., AdamW ( Parameter Grou..., MSELoss(), 5, max_norm=100)\n",
      "   42.31 s in test({'n_hidden_rhs': [], '..., ConditionalAutoEncoder..., cuda, <torch.utils.data.data..., MSELoss())\n",
      "    9.22 s in test({'n_hidden_rhs': [], '..., ConditionalAutoEncoder..., cuda, <torch.utils.data.data..., MSELoss())\n",
      "Train MSE: 0.18006349\n",
      "Valid MSE: 0.02678755\n",
      "Next Learning Rate: 0.001\n",
      "[1.484394, 0.2521785, 0.19993508, 0.18778132, 0.18268776]\n",
      "[0.033079445, 0.03080565, 0.028959764, 0.027886746, 0.027230678]\n"
     ]
    },
    {
     "name": "stderr",
     "output_type": "stream",
     "text": [
      "                                                                                                                                                                              \r"
     ]
    },
    {
     "name": "stdout",
     "output_type": "stream",
     "text": [
      "Epoch 6, total_loss=0.2585, reg_loss = 0.0817\n",
      "   88.31 s in train({'n_hidden_rhs': [], '..., ConditionalAutoEncoder..., cuda, <torch.utils.data.data..., AdamW ( Parameter Grou..., MSELoss(), 6, max_norm=100)\n",
      "   42.15 s in test({'n_hidden_rhs': [], '..., ConditionalAutoEncoder..., cuda, <torch.utils.data.data..., MSELoss())\n",
      "    8.59 s in test({'n_hidden_rhs': [], '..., ConditionalAutoEncoder..., cuda, <torch.utils.data.data..., MSELoss())\n",
      "Train MSE: 0.1779581\n",
      "Valid MSE: 0.026491346\n",
      "Next Learning Rate: 0.001\n",
      "[1.484394, 0.2521785, 0.19993508, 0.18778132, 0.18268776, 0.18006349]\n",
      "[0.033079445, 0.03080565, 0.028959764, 0.027886746, 0.027230678, 0.02678755]\n"
     ]
    },
    {
     "name": "stderr",
     "output_type": "stream",
     "text": [
      "                                                                                                                                                                              \r"
     ]
    },
    {
     "name": "stdout",
     "output_type": "stream",
     "text": [
      "Epoch 7, total_loss=0.2516, reg_loss = 0.0804\n",
      "   88.58 s in train({'n_hidden_rhs': [], '..., ConditionalAutoEncoder..., cuda, <torch.utils.data.data..., AdamW ( Parameter Grou..., MSELoss(), 7, max_norm=100)\n",
      "   43.30 s in test({'n_hidden_rhs': [], '..., ConditionalAutoEncoder..., cuda, <torch.utils.data.data..., MSELoss())\n",
      "    8.86 s in test({'n_hidden_rhs': [], '..., ConditionalAutoEncoder..., cuda, <torch.utils.data.data..., MSELoss())\n",
      "Train MSE: 0.17649195\n",
      "Valid MSE: 0.026285855\n",
      "Next Learning Rate: 0.001\n",
      "[1.484394, 0.2521785, 0.19993508, 0.18778132, 0.18268776, 0.18006349, 0.1779581]\n",
      "[0.033079445, 0.03080565, 0.028959764, 0.027886746, 0.027230678, 0.02678755, 0.026491346]\n"
     ]
    },
    {
     "name": "stderr",
     "output_type": "stream",
     "text": [
      "                                                                                                                                                                              \r"
     ]
    },
    {
     "name": "stdout",
     "output_type": "stream",
     "text": [
      "Epoch 8, total_loss=0.2520, reg_loss = 0.0793\n",
      "   88.19 s in train({'n_hidden_rhs': [], '..., ConditionalAutoEncoder..., cuda, <torch.utils.data.data..., AdamW ( Parameter Grou..., MSELoss(), 8, max_norm=100)\n",
      "   42.95 s in test({'n_hidden_rhs': [], '..., ConditionalAutoEncoder..., cuda, <torch.utils.data.data..., MSELoss())\n",
      "    9.11 s in test({'n_hidden_rhs': [], '..., ConditionalAutoEncoder..., cuda, <torch.utils.data.data..., MSELoss())\n",
      "Train MSE: 0.17539655\n",
      "Valid MSE: 0.026138421\n",
      "Next Learning Rate: 0.001\n",
      "[1.484394, 0.2521785, 0.19993508, 0.18778132, 0.18268776, 0.18006349, 0.1779581, 0.17649195]\n",
      "[0.033079445, 0.03080565, 0.028959764, 0.027886746, 0.027230678, 0.02678755, 0.026491346, 0.026285855]\n"
     ]
    },
    {
     "name": "stderr",
     "output_type": "stream",
     "text": [
      "                                                                                                                                                                              \r"
     ]
    },
    {
     "name": "stdout",
     "output_type": "stream",
     "text": [
      "Epoch 9, total_loss=0.2483, reg_loss = 0.0783\n",
      "   87.47 s in train({'n_hidden_rhs': [], '..., ConditionalAutoEncoder..., cuda, <torch.utils.data.data..., AdamW ( Parameter Grou..., MSELoss(), 9, max_norm=100)\n",
      "   42.37 s in test({'n_hidden_rhs': [], '..., ConditionalAutoEncoder..., cuda, <torch.utils.data.data..., MSELoss())\n",
      "    8.90 s in test({'n_hidden_rhs': [], '..., ConditionalAutoEncoder..., cuda, <torch.utils.data.data..., MSELoss())\n",
      "Train MSE: 0.17447181\n",
      "Valid MSE: 0.02602833\n",
      "Next Learning Rate: 0.001\n",
      "[1.484394, 0.2521785, 0.19993508, 0.18778132, 0.18268776, 0.18006349, 0.1779581, 0.17649195, 0.17539655]\n",
      "[0.033079445, 0.03080565, 0.028959764, 0.027886746, 0.027230678, 0.02678755, 0.026491346, 0.026285855, 0.026138421]\n"
     ]
    },
    {
     "name": "stderr",
     "output_type": "stream",
     "text": [
      "                                                                                                                                                                              \r"
     ]
    },
    {
     "name": "stdout",
     "output_type": "stream",
     "text": [
      "Epoch 10, total_loss=0.2598, reg_loss = 0.0775\n",
      "   88.36 s in train({'n_hidden_rhs': [], '..., ConditionalAutoEncoder..., cuda, <torch.utils.data.data..., AdamW ( Parameter Grou..., MSELoss(), 10, max_norm=100)\n",
      "   41.54 s in test({'n_hidden_rhs': [], '..., ConditionalAutoEncoder..., cuda, <torch.utils.data.data..., MSELoss())\n",
      "    8.91 s in test({'n_hidden_rhs': [], '..., ConditionalAutoEncoder..., cuda, <torch.utils.data.data..., MSELoss())\n",
      "Train MSE: 0.17376675\n",
      "Valid MSE: 0.025942344\n",
      "Next Learning Rate: 0.001\n",
      "[1.484394, 0.2521785, 0.19993508, 0.18778132, 0.18268776, 0.18006349, 0.1779581, 0.17649195, 0.17539655, 0.17447181]\n",
      "[0.033079445, 0.03080565, 0.028959764, 0.027886746, 0.027230678, 0.02678755, 0.026491346, 0.026285855, 0.026138421, 0.02602833]\n"
     ]
    },
    {
     "name": "stderr",
     "output_type": "stream",
     "text": [
      "                                                                                                                                                                              \r"
     ]
    },
    {
     "name": "stdout",
     "output_type": "stream",
     "text": [
      "Epoch 11, total_loss=0.2435, reg_loss = 0.0768\n",
      "   87.72 s in train({'n_hidden_rhs': [], '..., ConditionalAutoEncoder..., cuda, <torch.utils.data.data..., AdamW ( Parameter Grou..., MSELoss(), 11, max_norm=100)\n",
      "   42.97 s in test({'n_hidden_rhs': [], '..., ConditionalAutoEncoder..., cuda, <torch.utils.data.data..., MSELoss())\n",
      "    8.85 s in test({'n_hidden_rhs': [], '..., ConditionalAutoEncoder..., cuda, <torch.utils.data.data..., MSELoss())\n",
      "Train MSE: 0.17316854\n",
      "Valid MSE: 0.025879791\n",
      "Next Learning Rate: 0.001\n",
      "[1.484394, 0.2521785, 0.19993508, 0.18778132, 0.18268776, 0.18006349, 0.1779581, 0.17649195, 0.17539655, 0.17447181, 0.17376675]\n",
      "[0.033079445, 0.03080565, 0.028959764, 0.027886746, 0.027230678, 0.02678755, 0.026491346, 0.026285855, 0.026138421, 0.02602833, 0.025942344]\n"
     ]
    },
    {
     "name": "stderr",
     "output_type": "stream",
     "text": [
      "                                                                                                                                                                              \r"
     ]
    },
    {
     "name": "stdout",
     "output_type": "stream",
     "text": [
      "Epoch 12, total_loss=0.2465, reg_loss = 0.0762\n",
      "   87.44 s in train({'n_hidden_rhs': [], '..., ConditionalAutoEncoder..., cuda, <torch.utils.data.data..., AdamW ( Parameter Grou..., MSELoss(), 12, max_norm=100)\n",
      "   43.28 s in test({'n_hidden_rhs': [], '..., ConditionalAutoEncoder..., cuda, <torch.utils.data.data..., MSELoss())\n",
      "    9.25 s in test({'n_hidden_rhs': [], '..., ConditionalAutoEncoder..., cuda, <torch.utils.data.data..., MSELoss())\n",
      "Train MSE: 0.17267063\n",
      "Valid MSE: 0.025826149\n",
      "Next Learning Rate: 0.001\n",
      "[1.484394, 0.2521785, 0.19993508, 0.18778132, 0.18268776, 0.18006349, 0.1779581, 0.17649195, 0.17539655, 0.17447181, 0.17376675, 0.17316854]\n",
      "[0.033079445, 0.03080565, 0.028959764, 0.027886746, 0.027230678, 0.02678755, 0.026491346, 0.026285855, 0.026138421, 0.02602833, 0.025942344, 0.025879791]\n"
     ]
    },
    {
     "name": "stderr",
     "output_type": "stream",
     "text": [
      "                                                                                                                                                                              \r"
     ]
    },
    {
     "name": "stdout",
     "output_type": "stream",
     "text": [
      "Epoch 13, total_loss=0.2527, reg_loss = 0.0755\n",
      "   88.03 s in train({'n_hidden_rhs': [], '..., ConditionalAutoEncoder..., cuda, <torch.utils.data.data..., AdamW ( Parameter Grou..., MSELoss(), 13, max_norm=100)\n",
      "   42.03 s in test({'n_hidden_rhs': [], '..., ConditionalAutoEncoder..., cuda, <torch.utils.data.data..., MSELoss())\n",
      "    8.43 s in test({'n_hidden_rhs': [], '..., ConditionalAutoEncoder..., cuda, <torch.utils.data.data..., MSELoss())\n",
      "Train MSE: 0.17223434\n",
      "Valid MSE: 0.025779616\n",
      "Next Learning Rate: 0.001\n",
      "[1.484394, 0.2521785, 0.19993508, 0.18778132, 0.18268776, 0.18006349, 0.1779581, 0.17649195, 0.17539655, 0.17447181, 0.17376675, 0.17316854, 0.17267063]\n",
      "[0.033079445, 0.03080565, 0.028959764, 0.027886746, 0.027230678, 0.02678755, 0.026491346, 0.026285855, 0.026138421, 0.02602833, 0.025942344, 0.025879791, 0.025826149]\n"
     ]
    },
    {
     "name": "stderr",
     "output_type": "stream",
     "text": [
      "                                                                                                                                                                              \r"
     ]
    },
    {
     "name": "stdout",
     "output_type": "stream",
     "text": [
      "Epoch 14, total_loss=0.2435, reg_loss = 0.0749\n",
      "   88.33 s in train({'n_hidden_rhs': [], '..., ConditionalAutoEncoder..., cuda, <torch.utils.data.data..., AdamW ( Parameter Grou..., MSELoss(), 14, max_norm=100)\n",
      "   41.99 s in test({'n_hidden_rhs': [], '..., ConditionalAutoEncoder..., cuda, <torch.utils.data.data..., MSELoss())\n",
      "    9.83 s in test({'n_hidden_rhs': [], '..., ConditionalAutoEncoder..., cuda, <torch.utils.data.data..., MSELoss())\n",
      "Train MSE: 0.17188199\n",
      "Valid MSE: 0.025749147\n",
      "Next Learning Rate: 0.001\n",
      "[1.484394, 0.2521785, 0.19993508, 0.18778132, 0.18268776, 0.18006349, 0.1779581, 0.17649195, 0.17539655, 0.17447181, 0.17376675, 0.17316854, 0.17267063, 0.17223434]\n",
      "[0.033079445, 0.03080565, 0.028959764, 0.027886746, 0.027230678, 0.02678755, 0.026491346, 0.026285855, 0.026138421, 0.02602833, 0.025942344, 0.025879791, 0.025826149, 0.025779616]\n"
     ]
    },
    {
     "name": "stderr",
     "output_type": "stream",
     "text": [
      "                                                                                                                                                                              \r"
     ]
    },
    {
     "name": "stdout",
     "output_type": "stream",
     "text": [
      "Epoch 15, total_loss=0.2422, reg_loss = 0.0743\n",
      "   88.58 s in train({'n_hidden_rhs': [], '..., ConditionalAutoEncoder..., cuda, <torch.utils.data.data..., AdamW ( Parameter Grou..., MSELoss(), 15, max_norm=100)\n",
      "   42.62 s in test({'n_hidden_rhs': [], '..., ConditionalAutoEncoder..., cuda, <torch.utils.data.data..., MSELoss())\n",
      "    9.29 s in test({'n_hidden_rhs': [], '..., ConditionalAutoEncoder..., cuda, <torch.utils.data.data..., MSELoss())\n",
      "Train MSE: 0.17162134\n",
      "Valid MSE: 0.025706422\n",
      "Next Learning Rate: 0.001\n",
      "[1.484394, 0.2521785, 0.19993508, 0.18778132, 0.18268776, 0.18006349, 0.1779581, 0.17649195, 0.17539655, 0.17447181, 0.17376675, 0.17316854, 0.17267063, 0.17223434, 0.17188199]\n",
      "[0.033079445, 0.03080565, 0.028959764, 0.027886746, 0.027230678, 0.02678755, 0.026491346, 0.026285855, 0.026138421, 0.02602833, 0.025942344, 0.025879791, 0.025826149, 0.025779616, 0.025749147]\n"
     ]
    },
    {
     "name": "stderr",
     "output_type": "stream",
     "text": [
      "                                                                                                                                                                              \r"
     ]
    },
    {
     "name": "stdout",
     "output_type": "stream",
     "text": [
      "Epoch 16, total_loss=0.2390, reg_loss = 0.0738\n",
      "   89.71 s in train({'n_hidden_rhs': [], '..., ConditionalAutoEncoder..., cuda, <torch.utils.data.data..., AdamW ( Parameter Grou..., MSELoss(), 16, max_norm=100)\n",
      "   42.51 s in test({'n_hidden_rhs': [], '..., ConditionalAutoEncoder..., cuda, <torch.utils.data.data..., MSELoss())\n",
      "    9.52 s in test({'n_hidden_rhs': [], '..., ConditionalAutoEncoder..., cuda, <torch.utils.data.data..., MSELoss())\n",
      "Train MSE: 0.17121106\n",
      "Valid MSE: 0.02567753\n",
      "Next Learning Rate: 0.001\n",
      "[1.484394, 0.2521785, 0.19993508, 0.18778132, 0.18268776, 0.18006349, 0.1779581, 0.17649195, 0.17539655, 0.17447181, 0.17376675, 0.17316854, 0.17267063, 0.17223434, 0.17188199, 0.17162134]\n",
      "[0.033079445, 0.03080565, 0.028959764, 0.027886746, 0.027230678, 0.02678755, 0.026491346, 0.026285855, 0.026138421, 0.02602833, 0.025942344, 0.025879791, 0.025826149, 0.025779616, 0.025749147, 0.025706422]\n"
     ]
    },
    {
     "name": "stderr",
     "output_type": "stream",
     "text": [
      "                                                                                                                                                                              \r"
     ]
    },
    {
     "name": "stdout",
     "output_type": "stream",
     "text": [
      "Epoch 17, total_loss=0.2404, reg_loss = 0.0732\n",
      "   88.10 s in train({'n_hidden_rhs': [], '..., ConditionalAutoEncoder..., cuda, <torch.utils.data.data..., AdamW ( Parameter Grou..., MSELoss(), 17, max_norm=100)\n",
      "   42.15 s in test({'n_hidden_rhs': [], '..., ConditionalAutoEncoder..., cuda, <torch.utils.data.data..., MSELoss())\n",
      "    9.22 s in test({'n_hidden_rhs': [], '..., ConditionalAutoEncoder..., cuda, <torch.utils.data.data..., MSELoss())\n",
      "Train MSE: 0.17094573\n",
      "Valid MSE: 0.025656423\n",
      "Next Learning Rate: 0.001\n",
      "[1.484394, 0.2521785, 0.19993508, 0.18778132, 0.18268776, 0.18006349, 0.1779581, 0.17649195, 0.17539655, 0.17447181, 0.17376675, 0.17316854, 0.17267063, 0.17223434, 0.17188199, 0.17162134, 0.17121106]\n",
      "[0.033079445, 0.03080565, 0.028959764, 0.027886746, 0.027230678, 0.02678755, 0.026491346, 0.026285855, 0.026138421, 0.02602833, 0.025942344, 0.025879791, 0.025826149, 0.025779616, 0.025749147, 0.025706422, 0.02567753]\n"
     ]
    },
    {
     "name": "stderr",
     "output_type": "stream",
     "text": [
      "                                                                                                                                                                              \r"
     ]
    },
    {
     "name": "stdout",
     "output_type": "stream",
     "text": [
      "Epoch 18, total_loss=0.2364, reg_loss = 0.0726\n",
      "   87.27 s in train({'n_hidden_rhs': [], '..., ConditionalAutoEncoder..., cuda, <torch.utils.data.data..., AdamW ( Parameter Grou..., MSELoss(), 18, max_norm=100)\n",
      "   42.32 s in test({'n_hidden_rhs': [], '..., ConditionalAutoEncoder..., cuda, <torch.utils.data.data..., MSELoss())\n",
      "    8.66 s in test({'n_hidden_rhs': [], '..., ConditionalAutoEncoder..., cuda, <torch.utils.data.data..., MSELoss())\n",
      "Train MSE: 0.17067406\n",
      "Valid MSE: 0.02563027\n",
      "Next Learning Rate: 0.001\n",
      "[1.484394, 0.2521785, 0.19993508, 0.18778132, 0.18268776, 0.18006349, 0.1779581, 0.17649195, 0.17539655, 0.17447181, 0.17376675, 0.17316854, 0.17267063, 0.17223434, 0.17188199, 0.17162134, 0.17121106, 0.17094573]\n",
      "[0.033079445, 0.03080565, 0.028959764, 0.027886746, 0.027230678, 0.02678755, 0.026491346, 0.026285855, 0.026138421, 0.02602833, 0.025942344, 0.025879791, 0.025826149, 0.025779616, 0.025749147, 0.025706422, 0.02567753, 0.025656423]\n"
     ]
    },
    {
     "name": "stderr",
     "output_type": "stream",
     "text": [
      "                                                                                                                                                                              \r"
     ]
    },
    {
     "name": "stdout",
     "output_type": "stream",
     "text": [
      "Epoch 19, total_loss=0.2618, reg_loss = 0.0721\n",
      "   88.40 s in train({'n_hidden_rhs': [], '..., ConditionalAutoEncoder..., cuda, <torch.utils.data.data..., AdamW ( Parameter Grou..., MSELoss(), 19, max_norm=100)\n",
      "   41.57 s in test({'n_hidden_rhs': [], '..., ConditionalAutoEncoder..., cuda, <torch.utils.data.data..., MSELoss())\n",
      "    8.26 s in test({'n_hidden_rhs': [], '..., ConditionalAutoEncoder..., cuda, <torch.utils.data.data..., MSELoss())\n",
      "Train MSE: 0.17046398\n",
      "Valid MSE: 0.02559529\n",
      "Next Learning Rate: 0.001\n",
      "[1.484394, 0.2521785, 0.19993508, 0.18778132, 0.18268776, 0.18006349, 0.1779581, 0.17649195, 0.17539655, 0.17447181, 0.17376675, 0.17316854, 0.17267063, 0.17223434, 0.17188199, 0.17162134, 0.17121106, 0.17094573, 0.17067406]\n",
      "[0.033079445, 0.03080565, 0.028959764, 0.027886746, 0.027230678, 0.02678755, 0.026491346, 0.026285855, 0.026138421, 0.02602833, 0.025942344, 0.025879791, 0.025826149, 0.025779616, 0.025749147, 0.025706422, 0.02567753, 0.025656423, 0.02563027]\n"
     ]
    },
    {
     "name": "stderr",
     "output_type": "stream",
     "text": [
      "                                                                                                                                                                              \r"
     ]
    },
    {
     "name": "stdout",
     "output_type": "stream",
     "text": [
      "Epoch 20, total_loss=0.2371, reg_loss = 0.0716\n",
      "   88.39 s in train({'n_hidden_rhs': [], '..., ConditionalAutoEncoder..., cuda, <torch.utils.data.data..., AdamW ( Parameter Grou..., MSELoss(), 20, max_norm=100)\n",
      "   42.33 s in test({'n_hidden_rhs': [], '..., ConditionalAutoEncoder..., cuda, <torch.utils.data.data..., MSELoss())\n",
      "    9.88 s in test({'n_hidden_rhs': [], '..., ConditionalAutoEncoder..., cuda, <torch.utils.data.data..., MSELoss())\n",
      "Train MSE: 0.17032638\n",
      "Valid MSE: 0.025572503\n",
      "Next Learning Rate: 0.001\n",
      "[1.484394, 0.2521785, 0.19993508, 0.18778132, 0.18268776, 0.18006349, 0.1779581, 0.17649195, 0.17539655, 0.17447181, 0.17376675, 0.17316854, 0.17267063, 0.17223434, 0.17188199, 0.17162134, 0.17121106, 0.17094573, 0.17067406, 0.17046398]\n",
      "[0.033079445, 0.03080565, 0.028959764, 0.027886746, 0.027230678, 0.02678755, 0.026491346, 0.026285855, 0.026138421, 0.02602833, 0.025942344, 0.025879791, 0.025826149, 0.025779616, 0.025749147, 0.025706422, 0.02567753, 0.025656423, 0.02563027, 0.02559529]\n"
     ]
    },
    {
     "name": "stderr",
     "output_type": "stream",
     "text": [
      "                                                                                                                                                                              \r"
     ]
    },
    {
     "name": "stdout",
     "output_type": "stream",
     "text": [
      "Epoch 21, total_loss=0.2357, reg_loss = 0.0710\n",
      "   89.29 s in train({'n_hidden_rhs': [], '..., ConditionalAutoEncoder..., cuda, <torch.utils.data.data..., AdamW ( Parameter Grou..., MSELoss(), 21, max_norm=100)\n",
      "   42.06 s in test({'n_hidden_rhs': [], '..., ConditionalAutoEncoder..., cuda, <torch.utils.data.data..., MSELoss())\n",
      "    9.68 s in test({'n_hidden_rhs': [], '..., ConditionalAutoEncoder..., cuda, <torch.utils.data.data..., MSELoss())\n",
      "Train MSE: 0.17012265\n",
      "Valid MSE: 0.025547335\n",
      "Next Learning Rate: 0.001\n",
      "[1.484394, 0.2521785, 0.19993508, 0.18778132, 0.18268776, 0.18006349, 0.1779581, 0.17649195, 0.17539655, 0.17447181, 0.17376675, 0.17316854, 0.17267063, 0.17223434, 0.17188199, 0.17162134, 0.17121106, 0.17094573, 0.17067406, 0.17046398, 0.17032638]\n",
      "[0.033079445, 0.03080565, 0.028959764, 0.027886746, 0.027230678, 0.02678755, 0.026491346, 0.026285855, 0.026138421, 0.02602833, 0.025942344, 0.025879791, 0.025826149, 0.025779616, 0.025749147, 0.025706422, 0.02567753, 0.025656423, 0.02563027, 0.02559529, 0.025572503]\n"
     ]
    },
    {
     "name": "stderr",
     "output_type": "stream",
     "text": [
      "                                                                                                                                                                              \r"
     ]
    },
    {
     "name": "stdout",
     "output_type": "stream",
     "text": [
      "Epoch 22, total_loss=0.2353, reg_loss = 0.0705\n",
      "   87.18 s in train({'n_hidden_rhs': [], '..., ConditionalAutoEncoder..., cuda, <torch.utils.data.data..., AdamW ( Parameter Grou..., MSELoss(), 22, max_norm=100)\n",
      "   41.53 s in test({'n_hidden_rhs': [], '..., ConditionalAutoEncoder..., cuda, <torch.utils.data.data..., MSELoss())\n",
      "    8.90 s in test({'n_hidden_rhs': [], '..., ConditionalAutoEncoder..., cuda, <torch.utils.data.data..., MSELoss())\n",
      "Train MSE: 0.16984275\n",
      "Valid MSE: 0.025519706\n",
      "Next Learning Rate: 0.001\n",
      "[1.484394, 0.2521785, 0.19993508, 0.18778132, 0.18268776, 0.18006349, 0.1779581, 0.17649195, 0.17539655, 0.17447181, 0.17376675, 0.17316854, 0.17267063, 0.17223434, 0.17188199, 0.17162134, 0.17121106, 0.17094573, 0.17067406, 0.17046398, 0.17032638, 0.17012265]\n",
      "[0.033079445, 0.03080565, 0.028959764, 0.027886746, 0.027230678, 0.02678755, 0.026491346, 0.026285855, 0.026138421, 0.02602833, 0.025942344, 0.025879791, 0.025826149, 0.025779616, 0.025749147, 0.025706422, 0.02567753, 0.025656423, 0.02563027, 0.02559529, 0.025572503, 0.025547335]\n"
     ]
    },
    {
     "name": "stderr",
     "output_type": "stream",
     "text": [
      "                                                                                                                                                                              \r"
     ]
    },
    {
     "name": "stdout",
     "output_type": "stream",
     "text": [
      "Epoch 23, total_loss=0.2306, reg_loss = 0.0699\n",
      "   88.00 s in train({'n_hidden_rhs': [], '..., ConditionalAutoEncoder..., cuda, <torch.utils.data.data..., AdamW ( Parameter Grou..., MSELoss(), 23, max_norm=100)\n",
      "   41.97 s in test({'n_hidden_rhs': [], '..., ConditionalAutoEncoder..., cuda, <torch.utils.data.data..., MSELoss())\n",
      "    9.54 s in test({'n_hidden_rhs': [], '..., ConditionalAutoEncoder..., cuda, <torch.utils.data.data..., MSELoss())\n",
      "Train MSE: 0.1696687\n",
      "Valid MSE: 0.025491921\n",
      "Next Learning Rate: 0.001\n",
      "[1.484394, 0.2521785, 0.19993508, 0.18778132, 0.18268776, 0.18006349, 0.1779581, 0.17649195, 0.17539655, 0.17447181, 0.17376675, 0.17316854, 0.17267063, 0.17223434, 0.17188199, 0.17162134, 0.17121106, 0.17094573, 0.17067406, 0.17046398, 0.17032638, 0.17012265, 0.16984275]\n",
      "[0.033079445, 0.03080565, 0.028959764, 0.027886746, 0.027230678, 0.02678755, 0.026491346, 0.026285855, 0.026138421, 0.02602833, 0.025942344, 0.025879791, 0.025826149, 0.025779616, 0.025749147, 0.025706422, 0.02567753, 0.025656423, 0.02563027, 0.02559529, 0.025572503, 0.025547335, 0.025519706]\n"
     ]
    },
    {
     "name": "stderr",
     "output_type": "stream",
     "text": [
      "                                                                                                                                                                              \r"
     ]
    },
    {
     "name": "stdout",
     "output_type": "stream",
     "text": [
      "Epoch 24, total_loss=0.2329, reg_loss = 0.0694\n",
      "   88.94 s in train({'n_hidden_rhs': [], '..., ConditionalAutoEncoder..., cuda, <torch.utils.data.data..., AdamW ( Parameter Grou..., MSELoss(), 24, max_norm=100)\n",
      "   42.50 s in test({'n_hidden_rhs': [], '..., ConditionalAutoEncoder..., cuda, <torch.utils.data.data..., MSELoss())\n",
      "    9.24 s in test({'n_hidden_rhs': [], '..., ConditionalAutoEncoder..., cuda, <torch.utils.data.data..., MSELoss())\n",
      "Train MSE: 0.16946816\n",
      "Valid MSE: 0.025459046\n",
      "Next Learning Rate: 0.001\n",
      "[1.484394, 0.2521785, 0.19993508, 0.18778132, 0.18268776, 0.18006349, 0.1779581, 0.17649195, 0.17539655, 0.17447181, 0.17376675, 0.17316854, 0.17267063, 0.17223434, 0.17188199, 0.17162134, 0.17121106, 0.17094573, 0.17067406, 0.17046398, 0.17032638, 0.17012265, 0.16984275, 0.1696687]\n",
      "[0.033079445, 0.03080565, 0.028959764, 0.027886746, 0.027230678, 0.02678755, 0.026491346, 0.026285855, 0.026138421, 0.02602833, 0.025942344, 0.025879791, 0.025826149, 0.025779616, 0.025749147, 0.025706422, 0.02567753, 0.025656423, 0.02563027, 0.02559529, 0.025572503, 0.025547335, 0.025519706, 0.025491921]\n"
     ]
    },
    {
     "name": "stderr",
     "output_type": "stream",
     "text": [
      "                                                                                                                                                                              \r"
     ]
    },
    {
     "name": "stdout",
     "output_type": "stream",
     "text": [
      "Epoch 25, total_loss=0.2330, reg_loss = 0.0689\n",
      "   87.52 s in train({'n_hidden_rhs': [], '..., ConditionalAutoEncoder..., cuda, <torch.utils.data.data..., AdamW ( Parameter Grou..., MSELoss(), 25, max_norm=100)\n",
      "   41.82 s in test({'n_hidden_rhs': [], '..., ConditionalAutoEncoder..., cuda, <torch.utils.data.data..., MSELoss())\n",
      "    8.39 s in test({'n_hidden_rhs': [], '..., ConditionalAutoEncoder..., cuda, <torch.utils.data.data..., MSELoss())\n",
      "Train MSE: 0.16937165\n",
      "Valid MSE: 0.025452668\n",
      "Next Learning Rate: 0.001\n",
      "[1.484394, 0.2521785, 0.19993508, 0.18778132, 0.18268776, 0.18006349, 0.1779581, 0.17649195, 0.17539655, 0.17447181, 0.17376675, 0.17316854, 0.17267063, 0.17223434, 0.17188199, 0.17162134, 0.17121106, 0.17094573, 0.17067406, 0.17046398, 0.17032638, 0.17012265, 0.16984275, 0.1696687, 0.16946816]\n",
      "[0.033079445, 0.03080565, 0.028959764, 0.027886746, 0.027230678, 0.02678755, 0.026491346, 0.026285855, 0.026138421, 0.02602833, 0.025942344, 0.025879791, 0.025826149, 0.025779616, 0.025749147, 0.025706422, 0.02567753, 0.025656423, 0.02563027, 0.02559529, 0.025572503, 0.025547335, 0.025519706, 0.025491921, 0.025459046]\n"
     ]
    },
    {
     "name": "stderr",
     "output_type": "stream",
     "text": [
      "                                                                                                                                                                              \r"
     ]
    },
    {
     "name": "stdout",
     "output_type": "stream",
     "text": [
      "Epoch 26, total_loss=0.2331, reg_loss = 0.0684\n",
      "   88.23 s in train({'n_hidden_rhs': [], '..., ConditionalAutoEncoder..., cuda, <torch.utils.data.data..., AdamW ( Parameter Grou..., MSELoss(), 26, max_norm=100)\n",
      "   43.13 s in test({'n_hidden_rhs': [], '..., ConditionalAutoEncoder..., cuda, <torch.utils.data.data..., MSELoss())\n",
      "    8.85 s in test({'n_hidden_rhs': [], '..., ConditionalAutoEncoder..., cuda, <torch.utils.data.data..., MSELoss())\n",
      "Train MSE: 0.16930214\n",
      "Valid MSE: 0.025398742\n",
      "Next Learning Rate: 0.001\n",
      "[1.484394, 0.2521785, 0.19993508, 0.18778132, 0.18268776, 0.18006349, 0.1779581, 0.17649195, 0.17539655, 0.17447181, 0.17376675, 0.17316854, 0.17267063, 0.17223434, 0.17188199, 0.17162134, 0.17121106, 0.17094573, 0.17067406, 0.17046398, 0.17032638, 0.17012265, 0.16984275, 0.1696687, 0.16946816, 0.16937165]\n",
      "[0.033079445, 0.03080565, 0.028959764, 0.027886746, 0.027230678, 0.02678755, 0.026491346, 0.026285855, 0.026138421, 0.02602833, 0.025942344, 0.025879791, 0.025826149, 0.025779616, 0.025749147, 0.025706422, 0.02567753, 0.025656423, 0.02563027, 0.02559529, 0.025572503, 0.025547335, 0.025519706, 0.025491921, 0.025459046, 0.025452668]\n"
     ]
    },
    {
     "name": "stderr",
     "output_type": "stream",
     "text": [
      "                                                                                                                                                                              \r"
     ]
    },
    {
     "name": "stdout",
     "output_type": "stream",
     "text": [
      "Epoch 27, total_loss=0.2353, reg_loss = 0.0678\n",
      "   86.70 s in train({'n_hidden_rhs': [], '..., ConditionalAutoEncoder..., cuda, <torch.utils.data.data..., AdamW ( Parameter Grou..., MSELoss(), 27, max_norm=100)\n",
      "   41.77 s in test({'n_hidden_rhs': [], '..., ConditionalAutoEncoder..., cuda, <torch.utils.data.data..., MSELoss())\n",
      "    8.94 s in test({'n_hidden_rhs': [], '..., ConditionalAutoEncoder..., cuda, <torch.utils.data.data..., MSELoss())\n",
      "Train MSE: 0.16905698\n",
      "Valid MSE: 0.025384735\n",
      "Next Learning Rate: 0.001\n",
      "[1.484394, 0.2521785, 0.19993508, 0.18778132, 0.18268776, 0.18006349, 0.1779581, 0.17649195, 0.17539655, 0.17447181, 0.17376675, 0.17316854, 0.17267063, 0.17223434, 0.17188199, 0.17162134, 0.17121106, 0.17094573, 0.17067406, 0.17046398, 0.17032638, 0.17012265, 0.16984275, 0.1696687, 0.16946816, 0.16937165, 0.16930214]\n",
      "[0.033079445, 0.03080565, 0.028959764, 0.027886746, 0.027230678, 0.02678755, 0.026491346, 0.026285855, 0.026138421, 0.02602833, 0.025942344, 0.025879791, 0.025826149, 0.025779616, 0.025749147, 0.025706422, 0.02567753, 0.025656423, 0.02563027, 0.02559529, 0.025572503, 0.025547335, 0.025519706, 0.025491921, 0.025459046, 0.025452668, 0.025398742]\n"
     ]
    },
    {
     "name": "stderr",
     "output_type": "stream",
     "text": [
      "                                                                                                                                                                              \r"
     ]
    },
    {
     "name": "stdout",
     "output_type": "stream",
     "text": [
      "Epoch 28, total_loss=0.2472, reg_loss = 0.0673\n",
      "   87.90 s in train({'n_hidden_rhs': [], '..., ConditionalAutoEncoder..., cuda, <torch.utils.data.data..., AdamW ( Parameter Grou..., MSELoss(), 28, max_norm=100)\n",
      "   42.52 s in test({'n_hidden_rhs': [], '..., ConditionalAutoEncoder..., cuda, <torch.utils.data.data..., MSELoss())\n",
      "    9.07 s in test({'n_hidden_rhs': [], '..., ConditionalAutoEncoder..., cuda, <torch.utils.data.data..., MSELoss())\n",
      "Train MSE: 0.16890725\n",
      "Valid MSE: 0.025355807\n",
      "Next Learning Rate: 0.001\n",
      "[1.484394, 0.2521785, 0.19993508, 0.18778132, 0.18268776, 0.18006349, 0.1779581, 0.17649195, 0.17539655, 0.17447181, 0.17376675, 0.17316854, 0.17267063, 0.17223434, 0.17188199, 0.17162134, 0.17121106, 0.17094573, 0.17067406, 0.17046398, 0.17032638, 0.17012265, 0.16984275, 0.1696687, 0.16946816, 0.16937165, 0.16930214, 0.16905698]\n",
      "[0.033079445, 0.03080565, 0.028959764, 0.027886746, 0.027230678, 0.02678755, 0.026491346, 0.026285855, 0.026138421, 0.02602833, 0.025942344, 0.025879791, 0.025826149, 0.025779616, 0.025749147, 0.025706422, 0.02567753, 0.025656423, 0.02563027, 0.02559529, 0.025572503, 0.025547335, 0.025519706, 0.025491921, 0.025459046, 0.025452668, 0.025398742, 0.025384735]\n"
     ]
    },
    {
     "name": "stderr",
     "output_type": "stream",
     "text": [
      "                                                                                                                                                                              \r"
     ]
    },
    {
     "name": "stdout",
     "output_type": "stream",
     "text": [
      "Epoch 29, total_loss=0.2291, reg_loss = 0.0668\n",
      "   88.35 s in train({'n_hidden_rhs': [], '..., ConditionalAutoEncoder..., cuda, <torch.utils.data.data..., AdamW ( Parameter Grou..., MSELoss(), 29, max_norm=100)\n",
      "   42.10 s in test({'n_hidden_rhs': [], '..., ConditionalAutoEncoder..., cuda, <torch.utils.data.data..., MSELoss())\n",
      "    8.92 s in test({'n_hidden_rhs': [], '..., ConditionalAutoEncoder..., cuda, <torch.utils.data.data..., MSELoss())\n",
      "Train MSE: 0.16872375\n",
      "Valid MSE: 0.025319604\n",
      "Next Learning Rate: 0.001\n",
      "[1.484394, 0.2521785, 0.19993508, 0.18778132, 0.18268776, 0.18006349, 0.1779581, 0.17649195, 0.17539655, 0.17447181, 0.17376675, 0.17316854, 0.17267063, 0.17223434, 0.17188199, 0.17162134, 0.17121106, 0.17094573, 0.17067406, 0.17046398, 0.17032638, 0.17012265, 0.16984275, 0.1696687, 0.16946816, 0.16937165, 0.16930214, 0.16905698, 0.16890725]\n",
      "[0.033079445, 0.03080565, 0.028959764, 0.027886746, 0.027230678, 0.02678755, 0.026491346, 0.026285855, 0.026138421, 0.02602833, 0.025942344, 0.025879791, 0.025826149, 0.025779616, 0.025749147, 0.025706422, 0.02567753, 0.025656423, 0.02563027, 0.02559529, 0.025572503, 0.025547335, 0.025519706, 0.025491921, 0.025459046, 0.025452668, 0.025398742, 0.025384735, 0.025355807]\n"
     ]
    },
    {
     "name": "stderr",
     "output_type": "stream",
     "text": [
      "                                                                                                                                                                              \r"
     ]
    },
    {
     "name": "stdout",
     "output_type": "stream",
     "text": [
      "Epoch 30, total_loss=0.2290, reg_loss = 0.0663\n",
      "   87.69 s in train({'n_hidden_rhs': [], '..., ConditionalAutoEncoder..., cuda, <torch.utils.data.data..., AdamW ( Parameter Grou..., MSELoss(), 30, max_norm=100)\n",
      "   41.27 s in test({'n_hidden_rhs': [], '..., ConditionalAutoEncoder..., cuda, <torch.utils.data.data..., MSELoss())\n",
      "    8.70 s in test({'n_hidden_rhs': [], '..., ConditionalAutoEncoder..., cuda, <torch.utils.data.data..., MSELoss())\n",
      "Train MSE: 0.16881016\n",
      "Valid MSE: 0.02530059\n",
      "Next Learning Rate: 0.001\n",
      "[1.484394, 0.2521785, 0.19993508, 0.18778132, 0.18268776, 0.18006349, 0.1779581, 0.17649195, 0.17539655, 0.17447181, 0.17376675, 0.17316854, 0.17267063, 0.17223434, 0.17188199, 0.17162134, 0.17121106, 0.17094573, 0.17067406, 0.17046398, 0.17032638, 0.17012265, 0.16984275, 0.1696687, 0.16946816, 0.16937165, 0.16930214, 0.16905698, 0.16890725, 0.16872375]\n",
      "[0.033079445, 0.03080565, 0.028959764, 0.027886746, 0.027230678, 0.02678755, 0.026491346, 0.026285855, 0.026138421, 0.02602833, 0.025942344, 0.025879791, 0.025826149, 0.025779616, 0.025749147, 0.025706422, 0.02567753, 0.025656423, 0.02563027, 0.02559529, 0.025572503, 0.025547335, 0.025519706, 0.025491921, 0.025459046, 0.025452668, 0.025398742, 0.025384735, 0.025355807, 0.025319604]\n"
     ]
    },
    {
     "name": "stderr",
     "output_type": "stream",
     "text": [
      "                                                                                                                                                                              \r"
     ]
    },
    {
     "name": "stdout",
     "output_type": "stream",
     "text": [
      "Epoch 31, total_loss=0.2295, reg_loss = 0.0657\n",
      "   88.42 s in train({'n_hidden_rhs': [], '..., ConditionalAutoEncoder..., cuda, <torch.utils.data.data..., AdamW ( Parameter Grou..., MSELoss(), 31, max_norm=100)\n",
      "   42.73 s in test({'n_hidden_rhs': [], '..., ConditionalAutoEncoder..., cuda, <torch.utils.data.data..., MSELoss())\n",
      "    9.32 s in test({'n_hidden_rhs': [], '..., ConditionalAutoEncoder..., cuda, <torch.utils.data.data..., MSELoss())\n",
      "Train MSE: 0.16933437\n",
      "Valid MSE: 0.025275512\n",
      "Next Learning Rate: 0.001\n",
      "[1.484394, 0.2521785, 0.19993508, 0.18778132, 0.18268776, 0.18006349, 0.1779581, 0.17649195, 0.17539655, 0.17447181, 0.17376675, 0.17316854, 0.17267063, 0.17223434, 0.17188199, 0.17162134, 0.17121106, 0.17094573, 0.17067406, 0.17046398, 0.17032638, 0.17012265, 0.16984275, 0.1696687, 0.16946816, 0.16937165, 0.16930214, 0.16905698, 0.16890725, 0.16872375, 0.16881016]\n",
      "[0.033079445, 0.03080565, 0.028959764, 0.027886746, 0.027230678, 0.02678755, 0.026491346, 0.026285855, 0.026138421, 0.02602833, 0.025942344, 0.025879791, 0.025826149, 0.025779616, 0.025749147, 0.025706422, 0.02567753, 0.025656423, 0.02563027, 0.02559529, 0.025572503, 0.025547335, 0.025519706, 0.025491921, 0.025459046, 0.025452668, 0.025398742, 0.025384735, 0.025355807, 0.025319604, 0.02530059]\n"
     ]
    },
    {
     "name": "stderr",
     "output_type": "stream",
     "text": [
      "                                                                                                                                                                              \r"
     ]
    },
    {
     "name": "stdout",
     "output_type": "stream",
     "text": [
      "Epoch 32, total_loss=0.2426, reg_loss = 0.0652\n",
      "   88.31 s in train({'n_hidden_rhs': [], '..., ConditionalAutoEncoder..., cuda, <torch.utils.data.data..., AdamW ( Parameter Grou..., MSELoss(), 32, max_norm=100)\n",
      "   42.24 s in test({'n_hidden_rhs': [], '..., ConditionalAutoEncoder..., cuda, <torch.utils.data.data..., MSELoss())\n",
      "    9.13 s in test({'n_hidden_rhs': [], '..., ConditionalAutoEncoder..., cuda, <torch.utils.data.data..., MSELoss())\n",
      "Train MSE: 0.16832358\n",
      "Valid MSE: 0.025241528\n",
      "Next Learning Rate: 0.001\n",
      "[1.484394, 0.2521785, 0.19993508, 0.18778132, 0.18268776, 0.18006349, 0.1779581, 0.17649195, 0.17539655, 0.17447181, 0.17376675, 0.17316854, 0.17267063, 0.17223434, 0.17188199, 0.17162134, 0.17121106, 0.17094573, 0.17067406, 0.17046398, 0.17032638, 0.17012265, 0.16984275, 0.1696687, 0.16946816, 0.16937165, 0.16930214, 0.16905698, 0.16890725, 0.16872375, 0.16881016, 0.16933437]\n",
      "[0.033079445, 0.03080565, 0.028959764, 0.027886746, 0.027230678, 0.02678755, 0.026491346, 0.026285855, 0.026138421, 0.02602833, 0.025942344, 0.025879791, 0.025826149, 0.025779616, 0.025749147, 0.025706422, 0.02567753, 0.025656423, 0.02563027, 0.02559529, 0.025572503, 0.025547335, 0.025519706, 0.025491921, 0.025459046, 0.025452668, 0.025398742, 0.025384735, 0.025355807, 0.025319604, 0.02530059, 0.025275512]\n"
     ]
    },
    {
     "name": "stderr",
     "output_type": "stream",
     "text": [
      "                                                                                                                                                                              \r"
     ]
    },
    {
     "name": "stdout",
     "output_type": "stream",
     "text": [
      "Epoch 33, total_loss=0.2287, reg_loss = 0.0647\n",
      "   88.81 s in train({'n_hidden_rhs': [], '..., ConditionalAutoEncoder..., cuda, <torch.utils.data.data..., AdamW ( Parameter Grou..., MSELoss(), 33, max_norm=100)\n",
      "   42.87 s in test({'n_hidden_rhs': [], '..., ConditionalAutoEncoder..., cuda, <torch.utils.data.data..., MSELoss())\n",
      "    8.44 s in test({'n_hidden_rhs': [], '..., ConditionalAutoEncoder..., cuda, <torch.utils.data.data..., MSELoss())\n",
      "Train MSE: 0.16983472\n",
      "Valid MSE: 0.025210863\n",
      "Next Learning Rate: 0.001\n",
      "[1.484394, 0.2521785, 0.19993508, 0.18778132, 0.18268776, 0.18006349, 0.1779581, 0.17649195, 0.17539655, 0.17447181, 0.17376675, 0.17316854, 0.17267063, 0.17223434, 0.17188199, 0.17162134, 0.17121106, 0.17094573, 0.17067406, 0.17046398, 0.17032638, 0.17012265, 0.16984275, 0.1696687, 0.16946816, 0.16937165, 0.16930214, 0.16905698, 0.16890725, 0.16872375, 0.16881016, 0.16933437, 0.16832358]\n",
      "[0.033079445, 0.03080565, 0.028959764, 0.027886746, 0.027230678, 0.02678755, 0.026491346, 0.026285855, 0.026138421, 0.02602833, 0.025942344, 0.025879791, 0.025826149, 0.025779616, 0.025749147, 0.025706422, 0.02567753, 0.025656423, 0.02563027, 0.02559529, 0.025572503, 0.025547335, 0.025519706, 0.025491921, 0.025459046, 0.025452668, 0.025398742, 0.025384735, 0.025355807, 0.025319604, 0.02530059, 0.025275512, 0.025241528]\n"
     ]
    },
    {
     "name": "stderr",
     "output_type": "stream",
     "text": [
      "                                                                                                                                                                              \r"
     ]
    },
    {
     "name": "stdout",
     "output_type": "stream",
     "text": [
      "Epoch 34, total_loss=0.2273, reg_loss = 0.0642\n",
      "   87.92 s in train({'n_hidden_rhs': [], '..., ConditionalAutoEncoder..., cuda, <torch.utils.data.data..., AdamW ( Parameter Grou..., MSELoss(), 34, max_norm=100)\n",
      "   43.05 s in test({'n_hidden_rhs': [], '..., ConditionalAutoEncoder..., cuda, <torch.utils.data.data..., MSELoss())\n",
      "    8.83 s in test({'n_hidden_rhs': [], '..., ConditionalAutoEncoder..., cuda, <torch.utils.data.data..., MSELoss())\n",
      "Train MSE: 0.16800195\n",
      "Valid MSE: 0.025175173\n",
      "Next Learning Rate: 0.001\n",
      "[1.484394, 0.2521785, 0.19993508, 0.18778132, 0.18268776, 0.18006349, 0.1779581, 0.17649195, 0.17539655, 0.17447181, 0.17376675, 0.17316854, 0.17267063, 0.17223434, 0.17188199, 0.17162134, 0.17121106, 0.17094573, 0.17067406, 0.17046398, 0.17032638, 0.17012265, 0.16984275, 0.1696687, 0.16946816, 0.16937165, 0.16930214, 0.16905698, 0.16890725, 0.16872375, 0.16881016, 0.16933437, 0.16832358, 0.16983472]\n",
      "[0.033079445, 0.03080565, 0.028959764, 0.027886746, 0.027230678, 0.02678755, 0.026491346, 0.026285855, 0.026138421, 0.02602833, 0.025942344, 0.025879791, 0.025826149, 0.025779616, 0.025749147, 0.025706422, 0.02567753, 0.025656423, 0.02563027, 0.02559529, 0.025572503, 0.025547335, 0.025519706, 0.025491921, 0.025459046, 0.025452668, 0.025398742, 0.025384735, 0.025355807, 0.025319604, 0.02530059, 0.025275512, 0.025241528, 0.025210863]\n"
     ]
    },
    {
     "name": "stderr",
     "output_type": "stream",
     "text": [
      "                                                                                                                                                                              \r"
     ]
    },
    {
     "name": "stdout",
     "output_type": "stream",
     "text": [
      "Epoch 35, total_loss=0.2276, reg_loss = 0.0636\n",
      "   87.43 s in train({'n_hidden_rhs': [], '..., ConditionalAutoEncoder..., cuda, <torch.utils.data.data..., AdamW ( Parameter Grou..., MSELoss(), 35, max_norm=100)\n",
      "   41.10 s in test({'n_hidden_rhs': [], '..., ConditionalAutoEncoder..., cuda, <torch.utils.data.data..., MSELoss())\n",
      "    9.42 s in test({'n_hidden_rhs': [], '..., ConditionalAutoEncoder..., cuda, <torch.utils.data.data..., MSELoss())\n",
      "Train MSE: 0.16796102\n",
      "Valid MSE: 0.025141267\n",
      "Next Learning Rate: 0.001\n",
      "[1.484394, 0.2521785, 0.19993508, 0.18778132, 0.18268776, 0.18006349, 0.1779581, 0.17649195, 0.17539655, 0.17447181, 0.17376675, 0.17316854, 0.17267063, 0.17223434, 0.17188199, 0.17162134, 0.17121106, 0.17094573, 0.17067406, 0.17046398, 0.17032638, 0.17012265, 0.16984275, 0.1696687, 0.16946816, 0.16937165, 0.16930214, 0.16905698, 0.16890725, 0.16872375, 0.16881016, 0.16933437, 0.16832358, 0.16983472, 0.16800195]\n",
      "[0.033079445, 0.03080565, 0.028959764, 0.027886746, 0.027230678, 0.02678755, 0.026491346, 0.026285855, 0.026138421, 0.02602833, 0.025942344, 0.025879791, 0.025826149, 0.025779616, 0.025749147, 0.025706422, 0.02567753, 0.025656423, 0.02563027, 0.02559529, 0.025572503, 0.025547335, 0.025519706, 0.025491921, 0.025459046, 0.025452668, 0.025398742, 0.025384735, 0.025355807, 0.025319604, 0.02530059, 0.025275512, 0.025241528, 0.025210863, 0.025175173]\n"
     ]
    },
    {
     "name": "stderr",
     "output_type": "stream",
     "text": [
      "                                                                                                                                                                              \r"
     ]
    },
    {
     "name": "stdout",
     "output_type": "stream",
     "text": [
      "Epoch 36, total_loss=0.2304, reg_loss = 0.0631\n",
      "   87.13 s in train({'n_hidden_rhs': [], '..., ConditionalAutoEncoder..., cuda, <torch.utils.data.data..., AdamW ( Parameter Grou..., MSELoss(), 36, max_norm=100)\n",
      "   42.69 s in test({'n_hidden_rhs': [], '..., ConditionalAutoEncoder..., cuda, <torch.utils.data.data..., MSELoss())\n",
      "    9.37 s in test({'n_hidden_rhs': [], '..., ConditionalAutoEncoder..., cuda, <torch.utils.data.data..., MSELoss())\n",
      "Train MSE: 0.16777138\n",
      "Valid MSE: 0.025110772\n",
      "Next Learning Rate: 0.001\n",
      "[1.484394, 0.2521785, 0.19993508, 0.18778132, 0.18268776, 0.18006349, 0.1779581, 0.17649195, 0.17539655, 0.17447181, 0.17376675, 0.17316854, 0.17267063, 0.17223434, 0.17188199, 0.17162134, 0.17121106, 0.17094573, 0.17067406, 0.17046398, 0.17032638, 0.17012265, 0.16984275, 0.1696687, 0.16946816, 0.16937165, 0.16930214, 0.16905698, 0.16890725, 0.16872375, 0.16881016, 0.16933437, 0.16832358, 0.16983472, 0.16800195, 0.16796102]\n",
      "[0.033079445, 0.03080565, 0.028959764, 0.027886746, 0.027230678, 0.02678755, 0.026491346, 0.026285855, 0.026138421, 0.02602833, 0.025942344, 0.025879791, 0.025826149, 0.025779616, 0.025749147, 0.025706422, 0.02567753, 0.025656423, 0.02563027, 0.02559529, 0.025572503, 0.025547335, 0.025519706, 0.025491921, 0.025459046, 0.025452668, 0.025398742, 0.025384735, 0.025355807, 0.025319604, 0.02530059, 0.025275512, 0.025241528, 0.025210863, 0.025175173, 0.025141267]\n"
     ]
    },
    {
     "name": "stderr",
     "output_type": "stream",
     "text": [
      "                                                                                                                                                                              \r"
     ]
    },
    {
     "name": "stdout",
     "output_type": "stream",
     "text": [
      "Epoch 37, total_loss=0.2236, reg_loss = 0.0626\n",
      "   87.88 s in train({'n_hidden_rhs': [], '..., ConditionalAutoEncoder..., cuda, <torch.utils.data.data..., AdamW ( Parameter Grou..., MSELoss(), 37, max_norm=100)\n",
      "   41.41 s in test({'n_hidden_rhs': [], '..., ConditionalAutoEncoder..., cuda, <torch.utils.data.data..., MSELoss())\n",
      "    8.80 s in test({'n_hidden_rhs': [], '..., ConditionalAutoEncoder..., cuda, <torch.utils.data.data..., MSELoss())\n",
      "Train MSE: 0.167685\n",
      "Valid MSE: 0.025057193\n",
      "Next Learning Rate: 0.001\n",
      "[1.484394, 0.2521785, 0.19993508, 0.18778132, 0.18268776, 0.18006349, 0.1779581, 0.17649195, 0.17539655, 0.17447181, 0.17376675, 0.17316854, 0.17267063, 0.17223434, 0.17188199, 0.17162134, 0.17121106, 0.17094573, 0.17067406, 0.17046398, 0.17032638, 0.17012265, 0.16984275, 0.1696687, 0.16946816, 0.16937165, 0.16930214, 0.16905698, 0.16890725, 0.16872375, 0.16881016, 0.16933437, 0.16832358, 0.16983472, 0.16800195, 0.16796102, 0.16777138]\n",
      "[0.033079445, 0.03080565, 0.028959764, 0.027886746, 0.027230678, 0.02678755, 0.026491346, 0.026285855, 0.026138421, 0.02602833, 0.025942344, 0.025879791, 0.025826149, 0.025779616, 0.025749147, 0.025706422, 0.02567753, 0.025656423, 0.02563027, 0.02559529, 0.025572503, 0.025547335, 0.025519706, 0.025491921, 0.025459046, 0.025452668, 0.025398742, 0.025384735, 0.025355807, 0.025319604, 0.02530059, 0.025275512, 0.025241528, 0.025210863, 0.025175173, 0.025141267, 0.025110772]\n"
     ]
    },
    {
     "name": "stderr",
     "output_type": "stream",
     "text": [
      "                                                                                                                                                                              \r"
     ]
    },
    {
     "name": "stdout",
     "output_type": "stream",
     "text": [
      "Epoch 38, total_loss=0.2262, reg_loss = 0.0621\n",
      "   86.46 s in train({'n_hidden_rhs': [], '..., ConditionalAutoEncoder..., cuda, <torch.utils.data.data..., AdamW ( Parameter Grou..., MSELoss(), 38, max_norm=100)\n",
      "   41.74 s in test({'n_hidden_rhs': [], '..., ConditionalAutoEncoder..., cuda, <torch.utils.data.data..., MSELoss())\n",
      "    9.66 s in test({'n_hidden_rhs': [], '..., ConditionalAutoEncoder..., cuda, <torch.utils.data.data..., MSELoss())\n",
      "Train MSE: 0.16869667\n",
      "Valid MSE: 0.025035322\n",
      "Next Learning Rate: 0.001\n",
      "[1.484394, 0.2521785, 0.19993508, 0.18778132, 0.18268776, 0.18006349, 0.1779581, 0.17649195, 0.17539655, 0.17447181, 0.17376675, 0.17316854, 0.17267063, 0.17223434, 0.17188199, 0.17162134, 0.17121106, 0.17094573, 0.17067406, 0.17046398, 0.17032638, 0.17012265, 0.16984275, 0.1696687, 0.16946816, 0.16937165, 0.16930214, 0.16905698, 0.16890725, 0.16872375, 0.16881016, 0.16933437, 0.16832358, 0.16983472, 0.16800195, 0.16796102, 0.16777138, 0.167685]\n",
      "[0.033079445, 0.03080565, 0.028959764, 0.027886746, 0.027230678, 0.02678755, 0.026491346, 0.026285855, 0.026138421, 0.02602833, 0.025942344, 0.025879791, 0.025826149, 0.025779616, 0.025749147, 0.025706422, 0.02567753, 0.025656423, 0.02563027, 0.02559529, 0.025572503, 0.025547335, 0.025519706, 0.025491921, 0.025459046, 0.025452668, 0.025398742, 0.025384735, 0.025355807, 0.025319604, 0.02530059, 0.025275512, 0.025241528, 0.025210863, 0.025175173, 0.025141267, 0.025110772, 0.025057193]\n"
     ]
    },
    {
     "name": "stderr",
     "output_type": "stream",
     "text": [
      "                                                                                                                                                                              \r"
     ]
    },
    {
     "name": "stdout",
     "output_type": "stream",
     "text": [
      "Epoch 39, total_loss=0.2226, reg_loss = 0.0616\n",
      "   87.08 s in train({'n_hidden_rhs': [], '..., ConditionalAutoEncoder..., cuda, <torch.utils.data.data..., AdamW ( Parameter Grou..., MSELoss(), 39, max_norm=100)\n",
      "   42.12 s in test({'n_hidden_rhs': [], '..., ConditionalAutoEncoder..., cuda, <torch.utils.data.data..., MSELoss())\n",
      "    8.34 s in test({'n_hidden_rhs': [], '..., ConditionalAutoEncoder..., cuda, <torch.utils.data.data..., MSELoss())\n",
      "Train MSE: 0.16742626\n",
      "Valid MSE: 0.025011966\n",
      "Next Learning Rate: 0.001\n",
      "[1.484394, 0.2521785, 0.19993508, 0.18778132, 0.18268776, 0.18006349, 0.1779581, 0.17649195, 0.17539655, 0.17447181, 0.17376675, 0.17316854, 0.17267063, 0.17223434, 0.17188199, 0.17162134, 0.17121106, 0.17094573, 0.17067406, 0.17046398, 0.17032638, 0.17012265, 0.16984275, 0.1696687, 0.16946816, 0.16937165, 0.16930214, 0.16905698, 0.16890725, 0.16872375, 0.16881016, 0.16933437, 0.16832358, 0.16983472, 0.16800195, 0.16796102, 0.16777138, 0.167685, 0.16869667]\n",
      "[0.033079445, 0.03080565, 0.028959764, 0.027886746, 0.027230678, 0.02678755, 0.026491346, 0.026285855, 0.026138421, 0.02602833, 0.025942344, 0.025879791, 0.025826149, 0.025779616, 0.025749147, 0.025706422, 0.02567753, 0.025656423, 0.02563027, 0.02559529, 0.025572503, 0.025547335, 0.025519706, 0.025491921, 0.025459046, 0.025452668, 0.025398742, 0.025384735, 0.025355807, 0.025319604, 0.02530059, 0.025275512, 0.025241528, 0.025210863, 0.025175173, 0.025141267, 0.025110772, 0.025057193, 0.025035322]\n"
     ]
    },
    {
     "name": "stderr",
     "output_type": "stream",
     "text": [
      "                                                                                                                                                                              \r"
     ]
    },
    {
     "name": "stdout",
     "output_type": "stream",
     "text": [
      "Epoch 40, total_loss=0.2280, reg_loss = 0.0611\n",
      "   86.79 s in train({'n_hidden_rhs': [], '..., ConditionalAutoEncoder..., cuda, <torch.utils.data.data..., AdamW ( Parameter Grou..., MSELoss(), 40, max_norm=100)\n",
      "   41.91 s in test({'n_hidden_rhs': [], '..., ConditionalAutoEncoder..., cuda, <torch.utils.data.data..., MSELoss())\n",
      "    9.34 s in test({'n_hidden_rhs': [], '..., ConditionalAutoEncoder..., cuda, <torch.utils.data.data..., MSELoss())\n",
      "Train MSE: 0.1673066\n",
      "Valid MSE: 0.024967829\n",
      "Next Learning Rate: 0.001\n",
      "[1.484394, 0.2521785, 0.19993508, 0.18778132, 0.18268776, 0.18006349, 0.1779581, 0.17649195, 0.17539655, 0.17447181, 0.17376675, 0.17316854, 0.17267063, 0.17223434, 0.17188199, 0.17162134, 0.17121106, 0.17094573, 0.17067406, 0.17046398, 0.17032638, 0.17012265, 0.16984275, 0.1696687, 0.16946816, 0.16937165, 0.16930214, 0.16905698, 0.16890725, 0.16872375, 0.16881016, 0.16933437, 0.16832358, 0.16983472, 0.16800195, 0.16796102, 0.16777138, 0.167685, 0.16869667, 0.16742626]\n",
      "[0.033079445, 0.03080565, 0.028959764, 0.027886746, 0.027230678, 0.02678755, 0.026491346, 0.026285855, 0.026138421, 0.02602833, 0.025942344, 0.025879791, 0.025826149, 0.025779616, 0.025749147, 0.025706422, 0.02567753, 0.025656423, 0.02563027, 0.02559529, 0.025572503, 0.025547335, 0.025519706, 0.025491921, 0.025459046, 0.025452668, 0.025398742, 0.025384735, 0.025355807, 0.025319604, 0.02530059, 0.025275512, 0.025241528, 0.025210863, 0.025175173, 0.025141267, 0.025110772, 0.025057193, 0.025035322, 0.025011966]\n"
     ]
    },
    {
     "name": "stderr",
     "output_type": "stream",
     "text": [
      "                                                                                                                                                                              \r"
     ]
    },
    {
     "name": "stdout",
     "output_type": "stream",
     "text": [
      "Epoch 41, total_loss=0.2240, reg_loss = 0.0606\n",
      "   86.14 s in train({'n_hidden_rhs': [], '..., ConditionalAutoEncoder..., cuda, <torch.utils.data.data..., AdamW ( Parameter Grou..., MSELoss(), 41, max_norm=100)\n",
      "   41.16 s in test({'n_hidden_rhs': [], '..., ConditionalAutoEncoder..., cuda, <torch.utils.data.data..., MSELoss())\n",
      "    9.55 s in test({'n_hidden_rhs': [], '..., ConditionalAutoEncoder..., cuda, <torch.utils.data.data..., MSELoss())\n",
      "Train MSE: 0.16718775\n",
      "Valid MSE: 0.024950972\n",
      "Next Learning Rate: 0.001\n",
      "[1.484394, 0.2521785, 0.19993508, 0.18778132, 0.18268776, 0.18006349, 0.1779581, 0.17649195, 0.17539655, 0.17447181, 0.17376675, 0.17316854, 0.17267063, 0.17223434, 0.17188199, 0.17162134, 0.17121106, 0.17094573, 0.17067406, 0.17046398, 0.17032638, 0.17012265, 0.16984275, 0.1696687, 0.16946816, 0.16937165, 0.16930214, 0.16905698, 0.16890725, 0.16872375, 0.16881016, 0.16933437, 0.16832358, 0.16983472, 0.16800195, 0.16796102, 0.16777138, 0.167685, 0.16869667, 0.16742626, 0.1673066]\n",
      "[0.033079445, 0.03080565, 0.028959764, 0.027886746, 0.027230678, 0.02678755, 0.026491346, 0.026285855, 0.026138421, 0.02602833, 0.025942344, 0.025879791, 0.025826149, 0.025779616, 0.025749147, 0.025706422, 0.02567753, 0.025656423, 0.02563027, 0.02559529, 0.025572503, 0.025547335, 0.025519706, 0.025491921, 0.025459046, 0.025452668, 0.025398742, 0.025384735, 0.025355807, 0.025319604, 0.02530059, 0.025275512, 0.025241528, 0.025210863, 0.025175173, 0.025141267, 0.025110772, 0.025057193, 0.025035322, 0.025011966, 0.024967829]\n"
     ]
    },
    {
     "name": "stderr",
     "output_type": "stream",
     "text": [
      "                                                                                                                                                                              \r"
     ]
    },
    {
     "name": "stdout",
     "output_type": "stream",
     "text": [
      "Epoch 42, total_loss=0.2256, reg_loss = 0.0601\n",
      "   87.11 s in train({'n_hidden_rhs': [], '..., ConditionalAutoEncoder..., cuda, <torch.utils.data.data..., AdamW ( Parameter Grou..., MSELoss(), 42, max_norm=100)\n",
      "   41.42 s in test({'n_hidden_rhs': [], '..., ConditionalAutoEncoder..., cuda, <torch.utils.data.data..., MSELoss())\n",
      "    9.32 s in test({'n_hidden_rhs': [], '..., ConditionalAutoEncoder..., cuda, <torch.utils.data.data..., MSELoss())\n",
      "Train MSE: 0.16727623\n",
      "Valid MSE: 0.02492984\n",
      "Next Learning Rate: 0.001\n",
      "[1.484394, 0.2521785, 0.19993508, 0.18778132, 0.18268776, 0.18006349, 0.1779581, 0.17649195, 0.17539655, 0.17447181, 0.17376675, 0.17316854, 0.17267063, 0.17223434, 0.17188199, 0.17162134, 0.17121106, 0.17094573, 0.17067406, 0.17046398, 0.17032638, 0.17012265, 0.16984275, 0.1696687, 0.16946816, 0.16937165, 0.16930214, 0.16905698, 0.16890725, 0.16872375, 0.16881016, 0.16933437, 0.16832358, 0.16983472, 0.16800195, 0.16796102, 0.16777138, 0.167685, 0.16869667, 0.16742626, 0.1673066, 0.16718775]\n",
      "[0.033079445, 0.03080565, 0.028959764, 0.027886746, 0.027230678, 0.02678755, 0.026491346, 0.026285855, 0.026138421, 0.02602833, 0.025942344, 0.025879791, 0.025826149, 0.025779616, 0.025749147, 0.025706422, 0.02567753, 0.025656423, 0.02563027, 0.02559529, 0.025572503, 0.025547335, 0.025519706, 0.025491921, 0.025459046, 0.025452668, 0.025398742, 0.025384735, 0.025355807, 0.025319604, 0.02530059, 0.025275512, 0.025241528, 0.025210863, 0.025175173, 0.025141267, 0.025110772, 0.025057193, 0.025035322, 0.025011966, 0.024967829, 0.024950972]\n"
     ]
    },
    {
     "name": "stderr",
     "output_type": "stream",
     "text": [
      "                                                                                                                                                                              \r"
     ]
    },
    {
     "name": "stdout",
     "output_type": "stream",
     "text": [
      "Epoch 43, total_loss=0.2353, reg_loss = 0.0595\n",
      "   87.31 s in train({'n_hidden_rhs': [], '..., ConditionalAutoEncoder..., cuda, <torch.utils.data.data..., AdamW ( Parameter Grou..., MSELoss(), 43, max_norm=100)\n",
      "   41.57 s in test({'n_hidden_rhs': [], '..., ConditionalAutoEncoder..., cuda, <torch.utils.data.data..., MSELoss())\n",
      "    9.01 s in test({'n_hidden_rhs': [], '..., ConditionalAutoEncoder..., cuda, <torch.utils.data.data..., MSELoss())\n",
      "Train MSE: 0.16697332\n",
      "Valid MSE: 0.024881547\n",
      "Next Learning Rate: 0.001\n",
      "[1.484394, 0.2521785, 0.19993508, 0.18778132, 0.18268776, 0.18006349, 0.1779581, 0.17649195, 0.17539655, 0.17447181, 0.17376675, 0.17316854, 0.17267063, 0.17223434, 0.17188199, 0.17162134, 0.17121106, 0.17094573, 0.17067406, 0.17046398, 0.17032638, 0.17012265, 0.16984275, 0.1696687, 0.16946816, 0.16937165, 0.16930214, 0.16905698, 0.16890725, 0.16872375, 0.16881016, 0.16933437, 0.16832358, 0.16983472, 0.16800195, 0.16796102, 0.16777138, 0.167685, 0.16869667, 0.16742626, 0.1673066, 0.16718775, 0.16727623]\n",
      "[0.033079445, 0.03080565, 0.028959764, 0.027886746, 0.027230678, 0.02678755, 0.026491346, 0.026285855, 0.026138421, 0.02602833, 0.025942344, 0.025879791, 0.025826149, 0.025779616, 0.025749147, 0.025706422, 0.02567753, 0.025656423, 0.02563027, 0.02559529, 0.025572503, 0.025547335, 0.025519706, 0.025491921, 0.025459046, 0.025452668, 0.025398742, 0.025384735, 0.025355807, 0.025319604, 0.02530059, 0.025275512, 0.025241528, 0.025210863, 0.025175173, 0.025141267, 0.025110772, 0.025057193, 0.025035322, 0.025011966, 0.024967829, 0.024950972, 0.02492984]\n"
     ]
    },
    {
     "name": "stderr",
     "output_type": "stream",
     "text": [
      "                                                                                                                                                                              \r"
     ]
    },
    {
     "name": "stdout",
     "output_type": "stream",
     "text": [
      "Epoch 44, total_loss=0.2213, reg_loss = 0.0590\n",
      "   86.92 s in train({'n_hidden_rhs': [], '..., ConditionalAutoEncoder..., cuda, <torch.utils.data.data..., AdamW ( Parameter Grou..., MSELoss(), 44, max_norm=100)\n",
      "   43.10 s in test({'n_hidden_rhs': [], '..., ConditionalAutoEncoder..., cuda, <torch.utils.data.data..., MSELoss())\n",
      "    8.80 s in test({'n_hidden_rhs': [], '..., ConditionalAutoEncoder..., cuda, <torch.utils.data.data..., MSELoss())\n",
      "Train MSE: 0.1669053\n",
      "Valid MSE: 0.024858028\n",
      "Next Learning Rate: 0.001\n",
      "[1.484394, 0.2521785, 0.19993508, 0.18778132, 0.18268776, 0.18006349, 0.1779581, 0.17649195, 0.17539655, 0.17447181, 0.17376675, 0.17316854, 0.17267063, 0.17223434, 0.17188199, 0.17162134, 0.17121106, 0.17094573, 0.17067406, 0.17046398, 0.17032638, 0.17012265, 0.16984275, 0.1696687, 0.16946816, 0.16937165, 0.16930214, 0.16905698, 0.16890725, 0.16872375, 0.16881016, 0.16933437, 0.16832358, 0.16983472, 0.16800195, 0.16796102, 0.16777138, 0.167685, 0.16869667, 0.16742626, 0.1673066, 0.16718775, 0.16727623, 0.16697332]\n",
      "[0.033079445, 0.03080565, 0.028959764, 0.027886746, 0.027230678, 0.02678755, 0.026491346, 0.026285855, 0.026138421, 0.02602833, 0.025942344, 0.025879791, 0.025826149, 0.025779616, 0.025749147, 0.025706422, 0.02567753, 0.025656423, 0.02563027, 0.02559529, 0.025572503, 0.025547335, 0.025519706, 0.025491921, 0.025459046, 0.025452668, 0.025398742, 0.025384735, 0.025355807, 0.025319604, 0.02530059, 0.025275512, 0.025241528, 0.025210863, 0.025175173, 0.025141267, 0.025110772, 0.025057193, 0.025035322, 0.025011966, 0.024967829, 0.024950972, 0.02492984, 0.024881547]\n"
     ]
    },
    {
     "name": "stderr",
     "output_type": "stream",
     "text": [
      "                                                                                                                                                                              \r"
     ]
    },
    {
     "name": "stdout",
     "output_type": "stream",
     "text": [
      "Epoch 45, total_loss=0.2173, reg_loss = 0.0585\n",
      "   87.60 s in train({'n_hidden_rhs': [], '..., ConditionalAutoEncoder..., cuda, <torch.utils.data.data..., AdamW ( Parameter Grou..., MSELoss(), 45, max_norm=100)\n",
      "   41.78 s in test({'n_hidden_rhs': [], '..., ConditionalAutoEncoder..., cuda, <torch.utils.data.data..., MSELoss())\n",
      "    9.05 s in test({'n_hidden_rhs': [], '..., ConditionalAutoEncoder..., cuda, <torch.utils.data.data..., MSELoss())\n",
      "Train MSE: 0.16678753\n",
      "Valid MSE: 0.024825417\n",
      "Next Learning Rate: 0.001\n",
      "[1.484394, 0.2521785, 0.19993508, 0.18778132, 0.18268776, 0.18006349, 0.1779581, 0.17649195, 0.17539655, 0.17447181, 0.17376675, 0.17316854, 0.17267063, 0.17223434, 0.17188199, 0.17162134, 0.17121106, 0.17094573, 0.17067406, 0.17046398, 0.17032638, 0.17012265, 0.16984275, 0.1696687, 0.16946816, 0.16937165, 0.16930214, 0.16905698, 0.16890725, 0.16872375, 0.16881016, 0.16933437, 0.16832358, 0.16983472, 0.16800195, 0.16796102, 0.16777138, 0.167685, 0.16869667, 0.16742626, 0.1673066, 0.16718775, 0.16727623, 0.16697332, 0.1669053]\n",
      "[0.033079445, 0.03080565, 0.028959764, 0.027886746, 0.027230678, 0.02678755, 0.026491346, 0.026285855, 0.026138421, 0.02602833, 0.025942344, 0.025879791, 0.025826149, 0.025779616, 0.025749147, 0.025706422, 0.02567753, 0.025656423, 0.02563027, 0.02559529, 0.025572503, 0.025547335, 0.025519706, 0.025491921, 0.025459046, 0.025452668, 0.025398742, 0.025384735, 0.025355807, 0.025319604, 0.02530059, 0.025275512, 0.025241528, 0.025210863, 0.025175173, 0.025141267, 0.025110772, 0.025057193, 0.025035322, 0.025011966, 0.024967829, 0.024950972, 0.02492984, 0.024881547, 0.024858028]\n"
     ]
    },
    {
     "name": "stderr",
     "output_type": "stream",
     "text": [
      "                                                                                                                                                                              \r"
     ]
    },
    {
     "name": "stdout",
     "output_type": "stream",
     "text": [
      "Epoch 46, total_loss=0.2176, reg_loss = 0.0580\n",
      "   87.53 s in train({'n_hidden_rhs': [], '..., ConditionalAutoEncoder..., cuda, <torch.utils.data.data..., AdamW ( Parameter Grou..., MSELoss(), 46, max_norm=100)\n",
      "   42.47 s in test({'n_hidden_rhs': [], '..., ConditionalAutoEncoder..., cuda, <torch.utils.data.data..., MSELoss())\n",
      "    9.58 s in test({'n_hidden_rhs': [], '..., ConditionalAutoEncoder..., cuda, <torch.utils.data.data..., MSELoss())\n",
      "Train MSE: 0.16671824\n",
      "Valid MSE: 0.024805166\n",
      "Next Learning Rate: 0.001\n",
      "[1.484394, 0.2521785, 0.19993508, 0.18778132, 0.18268776, 0.18006349, 0.1779581, 0.17649195, 0.17539655, 0.17447181, 0.17376675, 0.17316854, 0.17267063, 0.17223434, 0.17188199, 0.17162134, 0.17121106, 0.17094573, 0.17067406, 0.17046398, 0.17032638, 0.17012265, 0.16984275, 0.1696687, 0.16946816, 0.16937165, 0.16930214, 0.16905698, 0.16890725, 0.16872375, 0.16881016, 0.16933437, 0.16832358, 0.16983472, 0.16800195, 0.16796102, 0.16777138, 0.167685, 0.16869667, 0.16742626, 0.1673066, 0.16718775, 0.16727623, 0.16697332, 0.1669053, 0.16678753]\n",
      "[0.033079445, 0.03080565, 0.028959764, 0.027886746, 0.027230678, 0.02678755, 0.026491346, 0.026285855, 0.026138421, 0.02602833, 0.025942344, 0.025879791, 0.025826149, 0.025779616, 0.025749147, 0.025706422, 0.02567753, 0.025656423, 0.02563027, 0.02559529, 0.025572503, 0.025547335, 0.025519706, 0.025491921, 0.025459046, 0.025452668, 0.025398742, 0.025384735, 0.025355807, 0.025319604, 0.02530059, 0.025275512, 0.025241528, 0.025210863, 0.025175173, 0.025141267, 0.025110772, 0.025057193, 0.025035322, 0.025011966, 0.024967829, 0.024950972, 0.02492984, 0.024881547, 0.024858028, 0.024825417]\n"
     ]
    },
    {
     "name": "stderr",
     "output_type": "stream",
     "text": [
      "                                                                                                                                                                              \r"
     ]
    },
    {
     "name": "stdout",
     "output_type": "stream",
     "text": [
      "Epoch 47, total_loss=0.2176, reg_loss = 0.0575\n",
      "   88.40 s in train({'n_hidden_rhs': [], '..., ConditionalAutoEncoder..., cuda, <torch.utils.data.data..., AdamW ( Parameter Grou..., MSELoss(), 47, max_norm=100)\n",
      "   41.89 s in test({'n_hidden_rhs': [], '..., ConditionalAutoEncoder..., cuda, <torch.utils.data.data..., MSELoss())\n",
      "    8.86 s in test({'n_hidden_rhs': [], '..., ConditionalAutoEncoder..., cuda, <torch.utils.data.data..., MSELoss())\n",
      "Train MSE: 0.16660742\n",
      "Valid MSE: 0.024786063\n",
      "Next Learning Rate: 0.001\n",
      "[1.484394, 0.2521785, 0.19993508, 0.18778132, 0.18268776, 0.18006349, 0.1779581, 0.17649195, 0.17539655, 0.17447181, 0.17376675, 0.17316854, 0.17267063, 0.17223434, 0.17188199, 0.17162134, 0.17121106, 0.17094573, 0.17067406, 0.17046398, 0.17032638, 0.17012265, 0.16984275, 0.1696687, 0.16946816, 0.16937165, 0.16930214, 0.16905698, 0.16890725, 0.16872375, 0.16881016, 0.16933437, 0.16832358, 0.16983472, 0.16800195, 0.16796102, 0.16777138, 0.167685, 0.16869667, 0.16742626, 0.1673066, 0.16718775, 0.16727623, 0.16697332, 0.1669053, 0.16678753, 0.16671824]\n",
      "[0.033079445, 0.03080565, 0.028959764, 0.027886746, 0.027230678, 0.02678755, 0.026491346, 0.026285855, 0.026138421, 0.02602833, 0.025942344, 0.025879791, 0.025826149, 0.025779616, 0.025749147, 0.025706422, 0.02567753, 0.025656423, 0.02563027, 0.02559529, 0.025572503, 0.025547335, 0.025519706, 0.025491921, 0.025459046, 0.025452668, 0.025398742, 0.025384735, 0.025355807, 0.025319604, 0.02530059, 0.025275512, 0.025241528, 0.025210863, 0.025175173, 0.025141267, 0.025110772, 0.025057193, 0.025035322, 0.025011966, 0.024967829, 0.024950972, 0.02492984, 0.024881547, 0.024858028, 0.024825417, 0.024805166]\n"
     ]
    },
    {
     "name": "stderr",
     "output_type": "stream",
     "text": [
      "                                                                                                                                                                              \r"
     ]
    },
    {
     "name": "stdout",
     "output_type": "stream",
     "text": [
      "Epoch 48, total_loss=0.2237, reg_loss = 0.0571\n",
      "   88.70 s in train({'n_hidden_rhs': [], '..., ConditionalAutoEncoder..., cuda, <torch.utils.data.data..., AdamW ( Parameter Grou..., MSELoss(), 48, max_norm=100)\n",
      "   42.42 s in test({'n_hidden_rhs': [], '..., ConditionalAutoEncoder..., cuda, <torch.utils.data.data..., MSELoss())\n",
      "    8.70 s in test({'n_hidden_rhs': [], '..., ConditionalAutoEncoder..., cuda, <torch.utils.data.data..., MSELoss())\n",
      "Train MSE: 0.16658604\n",
      "Valid MSE: 0.024750134\n",
      "Next Learning Rate: 0.001\n",
      "[1.484394, 0.2521785, 0.19993508, 0.18778132, 0.18268776, 0.18006349, 0.1779581, 0.17649195, 0.17539655, 0.17447181, 0.17376675, 0.17316854, 0.17267063, 0.17223434, 0.17188199, 0.17162134, 0.17121106, 0.17094573, 0.17067406, 0.17046398, 0.17032638, 0.17012265, 0.16984275, 0.1696687, 0.16946816, 0.16937165, 0.16930214, 0.16905698, 0.16890725, 0.16872375, 0.16881016, 0.16933437, 0.16832358, 0.16983472, 0.16800195, 0.16796102, 0.16777138, 0.167685, 0.16869667, 0.16742626, 0.1673066, 0.16718775, 0.16727623, 0.16697332, 0.1669053, 0.16678753, 0.16671824, 0.16660742]\n",
      "[0.033079445, 0.03080565, 0.028959764, 0.027886746, 0.027230678, 0.02678755, 0.026491346, 0.026285855, 0.026138421, 0.02602833, 0.025942344, 0.025879791, 0.025826149, 0.025779616, 0.025749147, 0.025706422, 0.02567753, 0.025656423, 0.02563027, 0.02559529, 0.025572503, 0.025547335, 0.025519706, 0.025491921, 0.025459046, 0.025452668, 0.025398742, 0.025384735, 0.025355807, 0.025319604, 0.02530059, 0.025275512, 0.025241528, 0.025210863, 0.025175173, 0.025141267, 0.025110772, 0.025057193, 0.025035322, 0.025011966, 0.024967829, 0.024950972, 0.02492984, 0.024881547, 0.024858028, 0.024825417, 0.024805166, 0.024786063]\n"
     ]
    },
    {
     "name": "stderr",
     "output_type": "stream",
     "text": [
      "                                                                                                                                                                              \r"
     ]
    },
    {
     "name": "stdout",
     "output_type": "stream",
     "text": [
      "Epoch 49, total_loss=0.2152, reg_loss = 0.0566\n",
      "   86.57 s in train({'n_hidden_rhs': [], '..., ConditionalAutoEncoder..., cuda, <torch.utils.data.data..., AdamW ( Parameter Grou..., MSELoss(), 49, max_norm=100)\n",
      "   42.31 s in test({'n_hidden_rhs': [], '..., ConditionalAutoEncoder..., cuda, <torch.utils.data.data..., MSELoss())\n",
      "    9.33 s in test({'n_hidden_rhs': [], '..., ConditionalAutoEncoder..., cuda, <torch.utils.data.data..., MSELoss())\n",
      "Train MSE: 0.16650146\n",
      "Valid MSE: 0.02472427\n",
      "Next Learning Rate: 0.001\n",
      "[1.484394, 0.2521785, 0.19993508, 0.18778132, 0.18268776, 0.18006349, 0.1779581, 0.17649195, 0.17539655, 0.17447181, 0.17376675, 0.17316854, 0.17267063, 0.17223434, 0.17188199, 0.17162134, 0.17121106, 0.17094573, 0.17067406, 0.17046398, 0.17032638, 0.17012265, 0.16984275, 0.1696687, 0.16946816, 0.16937165, 0.16930214, 0.16905698, 0.16890725, 0.16872375, 0.16881016, 0.16933437, 0.16832358, 0.16983472, 0.16800195, 0.16796102, 0.16777138, 0.167685, 0.16869667, 0.16742626, 0.1673066, 0.16718775, 0.16727623, 0.16697332, 0.1669053, 0.16678753, 0.16671824, 0.16660742, 0.16658604]\n",
      "[0.033079445, 0.03080565, 0.028959764, 0.027886746, 0.027230678, 0.02678755, 0.026491346, 0.026285855, 0.026138421, 0.02602833, 0.025942344, 0.025879791, 0.025826149, 0.025779616, 0.025749147, 0.025706422, 0.02567753, 0.025656423, 0.02563027, 0.02559529, 0.025572503, 0.025547335, 0.025519706, 0.025491921, 0.025459046, 0.025452668, 0.025398742, 0.025384735, 0.025355807, 0.025319604, 0.02530059, 0.025275512, 0.025241528, 0.025210863, 0.025175173, 0.025141267, 0.025110772, 0.025057193, 0.025035322, 0.025011966, 0.024967829, 0.024950972, 0.02492984, 0.024881547, 0.024858028, 0.024825417, 0.024805166, 0.024786063, 0.024750134]\n"
     ]
    },
    {
     "name": "stderr",
     "output_type": "stream",
     "text": [
      "                                                                                                                                                                              \r"
     ]
    },
    {
     "name": "stdout",
     "output_type": "stream",
     "text": [
      "Epoch 50, total_loss=0.2179, reg_loss = 0.0561\n",
      "   86.77 s in train({'n_hidden_rhs': [], '..., ConditionalAutoEncoder..., cuda, <torch.utils.data.data..., AdamW ( Parameter Grou..., MSELoss(), 50, max_norm=100)\n",
      "   42.15 s in test({'n_hidden_rhs': [], '..., ConditionalAutoEncoder..., cuda, <torch.utils.data.data..., MSELoss())\n",
      "    8.56 s in test({'n_hidden_rhs': [], '..., ConditionalAutoEncoder..., cuda, <torch.utils.data.data..., MSELoss())\n",
      "Train MSE: 0.16637175\n",
      "Valid MSE: 0.024719972\n",
      "Next Learning Rate: 0.001\n",
      "[1.484394, 0.2521785, 0.19993508, 0.18778132, 0.18268776, 0.18006349, 0.1779581, 0.17649195, 0.17539655, 0.17447181, 0.17376675, 0.17316854, 0.17267063, 0.17223434, 0.17188199, 0.17162134, 0.17121106, 0.17094573, 0.17067406, 0.17046398, 0.17032638, 0.17012265, 0.16984275, 0.1696687, 0.16946816, 0.16937165, 0.16930214, 0.16905698, 0.16890725, 0.16872375, 0.16881016, 0.16933437, 0.16832358, 0.16983472, 0.16800195, 0.16796102, 0.16777138, 0.167685, 0.16869667, 0.16742626, 0.1673066, 0.16718775, 0.16727623, 0.16697332, 0.1669053, 0.16678753, 0.16671824, 0.16660742, 0.16658604, 0.16650146]\n",
      "[0.033079445, 0.03080565, 0.028959764, 0.027886746, 0.027230678, 0.02678755, 0.026491346, 0.026285855, 0.026138421, 0.02602833, 0.025942344, 0.025879791, 0.025826149, 0.025779616, 0.025749147, 0.025706422, 0.02567753, 0.025656423, 0.02563027, 0.02559529, 0.025572503, 0.025547335, 0.025519706, 0.025491921, 0.025459046, 0.025452668, 0.025398742, 0.025384735, 0.025355807, 0.025319604, 0.02530059, 0.025275512, 0.025241528, 0.025210863, 0.025175173, 0.025141267, 0.025110772, 0.025057193, 0.025035322, 0.025011966, 0.024967829, 0.024950972, 0.02492984, 0.024881547, 0.024858028, 0.024825417, 0.024805166, 0.024786063, 0.024750134, 0.02472427]\n"
     ]
    },
    {
     "name": "stderr",
     "output_type": "stream",
     "text": [
      "                                                                                                                                                                              \r"
     ]
    },
    {
     "name": "stdout",
     "output_type": "stream",
     "text": [
      "Epoch 51, total_loss=0.2163, reg_loss = 0.0556\n",
      "   87.84 s in train({'n_hidden_rhs': [], '..., ConditionalAutoEncoder..., cuda, <torch.utils.data.data..., AdamW ( Parameter Grou..., MSELoss(), 51, max_norm=100)\n",
      "   41.81 s in test({'n_hidden_rhs': [], '..., ConditionalAutoEncoder..., cuda, <torch.utils.data.data..., MSELoss())\n",
      "    9.00 s in test({'n_hidden_rhs': [], '..., ConditionalAutoEncoder..., cuda, <torch.utils.data.data..., MSELoss())\n",
      "Train MSE: 0.16647018\n",
      "Valid MSE: 0.024686523\n",
      "Next Learning Rate: 0.001\n",
      "[1.484394, 0.2521785, 0.19993508, 0.18778132, 0.18268776, 0.18006349, 0.1779581, 0.17649195, 0.17539655, 0.17447181, 0.17376675, 0.17316854, 0.17267063, 0.17223434, 0.17188199, 0.17162134, 0.17121106, 0.17094573, 0.17067406, 0.17046398, 0.17032638, 0.17012265, 0.16984275, 0.1696687, 0.16946816, 0.16937165, 0.16930214, 0.16905698, 0.16890725, 0.16872375, 0.16881016, 0.16933437, 0.16832358, 0.16983472, 0.16800195, 0.16796102, 0.16777138, 0.167685, 0.16869667, 0.16742626, 0.1673066, 0.16718775, 0.16727623, 0.16697332, 0.1669053, 0.16678753, 0.16671824, 0.16660742, 0.16658604, 0.16650146, 0.16637175]\n",
      "[0.033079445, 0.03080565, 0.028959764, 0.027886746, 0.027230678, 0.02678755, 0.026491346, 0.026285855, 0.026138421, 0.02602833, 0.025942344, 0.025879791, 0.025826149, 0.025779616, 0.025749147, 0.025706422, 0.02567753, 0.025656423, 0.02563027, 0.02559529, 0.025572503, 0.025547335, 0.025519706, 0.025491921, 0.025459046, 0.025452668, 0.025398742, 0.025384735, 0.025355807, 0.025319604, 0.02530059, 0.025275512, 0.025241528, 0.025210863, 0.025175173, 0.025141267, 0.025110772, 0.025057193, 0.025035322, 0.025011966, 0.024967829, 0.024950972, 0.02492984, 0.024881547, 0.024858028, 0.024825417, 0.024805166, 0.024786063, 0.024750134, 0.02472427, 0.024719972]\n"
     ]
    },
    {
     "name": "stderr",
     "output_type": "stream",
     "text": [
      "                                                                                                                                                                              \r"
     ]
    },
    {
     "name": "stdout",
     "output_type": "stream",
     "text": [
      "Epoch 52, total_loss=0.2173, reg_loss = 0.0551\n",
      "   87.08 s in train({'n_hidden_rhs': [], '..., ConditionalAutoEncoder..., cuda, <torch.utils.data.data..., AdamW ( Parameter Grou..., MSELoss(), 52, max_norm=100)\n",
      "   42.17 s in test({'n_hidden_rhs': [], '..., ConditionalAutoEncoder..., cuda, <torch.utils.data.data..., MSELoss())\n",
      "    9.04 s in test({'n_hidden_rhs': [], '..., ConditionalAutoEncoder..., cuda, <torch.utils.data.data..., MSELoss())\n",
      "Train MSE: 0.16623473\n",
      "Valid MSE: 0.024661742\n",
      "Next Learning Rate: 0.001\n",
      "[1.484394, 0.2521785, 0.19993508, 0.18778132, 0.18268776, 0.18006349, 0.1779581, 0.17649195, 0.17539655, 0.17447181, 0.17376675, 0.17316854, 0.17267063, 0.17223434, 0.17188199, 0.17162134, 0.17121106, 0.17094573, 0.17067406, 0.17046398, 0.17032638, 0.17012265, 0.16984275, 0.1696687, 0.16946816, 0.16937165, 0.16930214, 0.16905698, 0.16890725, 0.16872375, 0.16881016, 0.16933437, 0.16832358, 0.16983472, 0.16800195, 0.16796102, 0.16777138, 0.167685, 0.16869667, 0.16742626, 0.1673066, 0.16718775, 0.16727623, 0.16697332, 0.1669053, 0.16678753, 0.16671824, 0.16660742, 0.16658604, 0.16650146, 0.16637175, 0.16647018]\n",
      "[0.033079445, 0.03080565, 0.028959764, 0.027886746, 0.027230678, 0.02678755, 0.026491346, 0.026285855, 0.026138421, 0.02602833, 0.025942344, 0.025879791, 0.025826149, 0.025779616, 0.025749147, 0.025706422, 0.02567753, 0.025656423, 0.02563027, 0.02559529, 0.025572503, 0.025547335, 0.025519706, 0.025491921, 0.025459046, 0.025452668, 0.025398742, 0.025384735, 0.025355807, 0.025319604, 0.02530059, 0.025275512, 0.025241528, 0.025210863, 0.025175173, 0.025141267, 0.025110772, 0.025057193, 0.025035322, 0.025011966, 0.024967829, 0.024950972, 0.02492984, 0.024881547, 0.024858028, 0.024825417, 0.024805166, 0.024786063, 0.024750134, 0.02472427, 0.024719972, 0.024686523]\n"
     ]
    },
    {
     "name": "stderr",
     "output_type": "stream",
     "text": [
      "                                                                                                                                                                              \r"
     ]
    },
    {
     "name": "stdout",
     "output_type": "stream",
     "text": [
      "Epoch 53, total_loss=0.2157, reg_loss = 0.0546\n",
      "   87.01 s in train({'n_hidden_rhs': [], '..., ConditionalAutoEncoder..., cuda, <torch.utils.data.data..., AdamW ( Parameter Grou..., MSELoss(), 53, max_norm=100)\n",
      "   40.86 s in test({'n_hidden_rhs': [], '..., ConditionalAutoEncoder..., cuda, <torch.utils.data.data..., MSELoss())\n",
      "    9.45 s in test({'n_hidden_rhs': [], '..., ConditionalAutoEncoder..., cuda, <torch.utils.data.data..., MSELoss())\n",
      "Train MSE: 0.16631131\n",
      "Valid MSE: 0.024643678\n",
      "Next Learning Rate: 0.001\n",
      "[1.484394, 0.2521785, 0.19993508, 0.18778132, 0.18268776, 0.18006349, 0.1779581, 0.17649195, 0.17539655, 0.17447181, 0.17376675, 0.17316854, 0.17267063, 0.17223434, 0.17188199, 0.17162134, 0.17121106, 0.17094573, 0.17067406, 0.17046398, 0.17032638, 0.17012265, 0.16984275, 0.1696687, 0.16946816, 0.16937165, 0.16930214, 0.16905698, 0.16890725, 0.16872375, 0.16881016, 0.16933437, 0.16832358, 0.16983472, 0.16800195, 0.16796102, 0.16777138, 0.167685, 0.16869667, 0.16742626, 0.1673066, 0.16718775, 0.16727623, 0.16697332, 0.1669053, 0.16678753, 0.16671824, 0.16660742, 0.16658604, 0.16650146, 0.16637175, 0.16647018, 0.16623473]\n",
      "[0.033079445, 0.03080565, 0.028959764, 0.027886746, 0.027230678, 0.02678755, 0.026491346, 0.026285855, 0.026138421, 0.02602833, 0.025942344, 0.025879791, 0.025826149, 0.025779616, 0.025749147, 0.025706422, 0.02567753, 0.025656423, 0.02563027, 0.02559529, 0.025572503, 0.025547335, 0.025519706, 0.025491921, 0.025459046, 0.025452668, 0.025398742, 0.025384735, 0.025355807, 0.025319604, 0.02530059, 0.025275512, 0.025241528, 0.025210863, 0.025175173, 0.025141267, 0.025110772, 0.025057193, 0.025035322, 0.025011966, 0.024967829, 0.024950972, 0.02492984, 0.024881547, 0.024858028, 0.024825417, 0.024805166, 0.024786063, 0.024750134, 0.02472427, 0.024719972, 0.024686523, 0.024661742]\n"
     ]
    },
    {
     "name": "stderr",
     "output_type": "stream",
     "text": [
      "                                                                                                                                                                              \r"
     ]
    },
    {
     "name": "stdout",
     "output_type": "stream",
     "text": [
      "Epoch 54, total_loss=0.3975, reg_loss = 0.0542\n",
      "   87.16 s in train({'n_hidden_rhs': [], '..., ConditionalAutoEncoder..., cuda, <torch.utils.data.data..., AdamW ( Parameter Grou..., MSELoss(), 54, max_norm=100)\n",
      "   42.07 s in test({'n_hidden_rhs': [], '..., ConditionalAutoEncoder..., cuda, <torch.utils.data.data..., MSELoss())\n",
      "    9.10 s in test({'n_hidden_rhs': [], '..., ConditionalAutoEncoder..., cuda, <torch.utils.data.data..., MSELoss())\n",
      "Train MSE: 0.1662679\n",
      "Valid MSE: 0.024636235\n",
      "Next Learning Rate: 0.001\n",
      "[1.484394, 0.2521785, 0.19993508, 0.18778132, 0.18268776, 0.18006349, 0.1779581, 0.17649195, 0.17539655, 0.17447181, 0.17376675, 0.17316854, 0.17267063, 0.17223434, 0.17188199, 0.17162134, 0.17121106, 0.17094573, 0.17067406, 0.17046398, 0.17032638, 0.17012265, 0.16984275, 0.1696687, 0.16946816, 0.16937165, 0.16930214, 0.16905698, 0.16890725, 0.16872375, 0.16881016, 0.16933437, 0.16832358, 0.16983472, 0.16800195, 0.16796102, 0.16777138, 0.167685, 0.16869667, 0.16742626, 0.1673066, 0.16718775, 0.16727623, 0.16697332, 0.1669053, 0.16678753, 0.16671824, 0.16660742, 0.16658604, 0.16650146, 0.16637175, 0.16647018, 0.16623473, 0.16631131]\n",
      "[0.033079445, 0.03080565, 0.028959764, 0.027886746, 0.027230678, 0.02678755, 0.026491346, 0.026285855, 0.026138421, 0.02602833, 0.025942344, 0.025879791, 0.025826149, 0.025779616, 0.025749147, 0.025706422, 0.02567753, 0.025656423, 0.02563027, 0.02559529, 0.025572503, 0.025547335, 0.025519706, 0.025491921, 0.025459046, 0.025452668, 0.025398742, 0.025384735, 0.025355807, 0.025319604, 0.02530059, 0.025275512, 0.025241528, 0.025210863, 0.025175173, 0.025141267, 0.025110772, 0.025057193, 0.025035322, 0.025011966, 0.024967829, 0.024950972, 0.02492984, 0.024881547, 0.024858028, 0.024825417, 0.024805166, 0.024786063, 0.024750134, 0.02472427, 0.024719972, 0.024686523, 0.024661742, 0.024643678]\n"
     ]
    },
    {
     "name": "stderr",
     "output_type": "stream",
     "text": [
      "                                                                                                                                                                              \r"
     ]
    },
    {
     "name": "stdout",
     "output_type": "stream",
     "text": [
      "Epoch 55, total_loss=0.2161, reg_loss = 0.0537\n",
      "   87.69 s in train({'n_hidden_rhs': [], '..., ConditionalAutoEncoder..., cuda, <torch.utils.data.data..., AdamW ( Parameter Grou..., MSELoss(), 55, max_norm=100)\n",
      "   42.02 s in test({'n_hidden_rhs': [], '..., ConditionalAutoEncoder..., cuda, <torch.utils.data.data..., MSELoss())\n",
      "    9.45 s in test({'n_hidden_rhs': [], '..., ConditionalAutoEncoder..., cuda, <torch.utils.data.data..., MSELoss())\n",
      "Train MSE: 0.16629098\n",
      "Valid MSE: 0.024614556\n",
      "Next Learning Rate: 0.001\n",
      "[1.484394, 0.2521785, 0.19993508, 0.18778132, 0.18268776, 0.18006349, 0.1779581, 0.17649195, 0.17539655, 0.17447181, 0.17376675, 0.17316854, 0.17267063, 0.17223434, 0.17188199, 0.17162134, 0.17121106, 0.17094573, 0.17067406, 0.17046398, 0.17032638, 0.17012265, 0.16984275, 0.1696687, 0.16946816, 0.16937165, 0.16930214, 0.16905698, 0.16890725, 0.16872375, 0.16881016, 0.16933437, 0.16832358, 0.16983472, 0.16800195, 0.16796102, 0.16777138, 0.167685, 0.16869667, 0.16742626, 0.1673066, 0.16718775, 0.16727623, 0.16697332, 0.1669053, 0.16678753, 0.16671824, 0.16660742, 0.16658604, 0.16650146, 0.16637175, 0.16647018, 0.16623473, 0.16631131, 0.1662679]\n",
      "[0.033079445, 0.03080565, 0.028959764, 0.027886746, 0.027230678, 0.02678755, 0.026491346, 0.026285855, 0.026138421, 0.02602833, 0.025942344, 0.025879791, 0.025826149, 0.025779616, 0.025749147, 0.025706422, 0.02567753, 0.025656423, 0.02563027, 0.02559529, 0.025572503, 0.025547335, 0.025519706, 0.025491921, 0.025459046, 0.025452668, 0.025398742, 0.025384735, 0.025355807, 0.025319604, 0.02530059, 0.025275512, 0.025241528, 0.025210863, 0.025175173, 0.025141267, 0.025110772, 0.025057193, 0.025035322, 0.025011966, 0.024967829, 0.024950972, 0.02492984, 0.024881547, 0.024858028, 0.024825417, 0.024805166, 0.024786063, 0.024750134, 0.02472427, 0.024719972, 0.024686523, 0.024661742, 0.024643678, 0.024636235]\n"
     ]
    },
    {
     "name": "stderr",
     "output_type": "stream",
     "text": [
      "                                                                                                                                                                              \r"
     ]
    },
    {
     "name": "stdout",
     "output_type": "stream",
     "text": [
      "Epoch 56, total_loss=0.2155, reg_loss = 0.0532\n",
      "   87.68 s in train({'n_hidden_rhs': [], '..., ConditionalAutoEncoder..., cuda, <torch.utils.data.data..., AdamW ( Parameter Grou..., MSELoss(), 56, max_norm=100)\n",
      "   41.51 s in test({'n_hidden_rhs': [], '..., ConditionalAutoEncoder..., cuda, <torch.utils.data.data..., MSELoss())\n",
      "    9.09 s in test({'n_hidden_rhs': [], '..., ConditionalAutoEncoder..., cuda, <torch.utils.data.data..., MSELoss())\n",
      "Train MSE: 0.16601889\n",
      "Valid MSE: 0.024587218\n",
      "Next Learning Rate: 0.001\n",
      "[1.484394, 0.2521785, 0.19993508, 0.18778132, 0.18268776, 0.18006349, 0.1779581, 0.17649195, 0.17539655, 0.17447181, 0.17376675, 0.17316854, 0.17267063, 0.17223434, 0.17188199, 0.17162134, 0.17121106, 0.17094573, 0.17067406, 0.17046398, 0.17032638, 0.17012265, 0.16984275, 0.1696687, 0.16946816, 0.16937165, 0.16930214, 0.16905698, 0.16890725, 0.16872375, 0.16881016, 0.16933437, 0.16832358, 0.16983472, 0.16800195, 0.16796102, 0.16777138, 0.167685, 0.16869667, 0.16742626, 0.1673066, 0.16718775, 0.16727623, 0.16697332, 0.1669053, 0.16678753, 0.16671824, 0.16660742, 0.16658604, 0.16650146, 0.16637175, 0.16647018, 0.16623473, 0.16631131, 0.1662679, 0.16629098]\n",
      "[0.033079445, 0.03080565, 0.028959764, 0.027886746, 0.027230678, 0.02678755, 0.026491346, 0.026285855, 0.026138421, 0.02602833, 0.025942344, 0.025879791, 0.025826149, 0.025779616, 0.025749147, 0.025706422, 0.02567753, 0.025656423, 0.02563027, 0.02559529, 0.025572503, 0.025547335, 0.025519706, 0.025491921, 0.025459046, 0.025452668, 0.025398742, 0.025384735, 0.025355807, 0.025319604, 0.02530059, 0.025275512, 0.025241528, 0.025210863, 0.025175173, 0.025141267, 0.025110772, 0.025057193, 0.025035322, 0.025011966, 0.024967829, 0.024950972, 0.02492984, 0.024881547, 0.024858028, 0.024825417, 0.024805166, 0.024786063, 0.024750134, 0.02472427, 0.024719972, 0.024686523, 0.024661742, 0.024643678, 0.024636235, 0.024614556]\n"
     ]
    },
    {
     "name": "stderr",
     "output_type": "stream",
     "text": [
      "                                                                                                                                                                              \r"
     ]
    },
    {
     "name": "stdout",
     "output_type": "stream",
     "text": [
      "Epoch 57, total_loss=0.2131, reg_loss = 0.0528\n",
      "   86.53 s in train({'n_hidden_rhs': [], '..., ConditionalAutoEncoder..., cuda, <torch.utils.data.data..., AdamW ( Parameter Grou..., MSELoss(), 57, max_norm=100)\n",
      "   41.84 s in test({'n_hidden_rhs': [], '..., ConditionalAutoEncoder..., cuda, <torch.utils.data.data..., MSELoss())\n",
      "    9.18 s in test({'n_hidden_rhs': [], '..., ConditionalAutoEncoder..., cuda, <torch.utils.data.data..., MSELoss())\n",
      "Train MSE: 0.16599947\n",
      "Valid MSE: 0.02458065\n",
      "Next Learning Rate: 0.001\n",
      "[1.484394, 0.2521785, 0.19993508, 0.18778132, 0.18268776, 0.18006349, 0.1779581, 0.17649195, 0.17539655, 0.17447181, 0.17376675, 0.17316854, 0.17267063, 0.17223434, 0.17188199, 0.17162134, 0.17121106, 0.17094573, 0.17067406, 0.17046398, 0.17032638, 0.17012265, 0.16984275, 0.1696687, 0.16946816, 0.16937165, 0.16930214, 0.16905698, 0.16890725, 0.16872375, 0.16881016, 0.16933437, 0.16832358, 0.16983472, 0.16800195, 0.16796102, 0.16777138, 0.167685, 0.16869667, 0.16742626, 0.1673066, 0.16718775, 0.16727623, 0.16697332, 0.1669053, 0.16678753, 0.16671824, 0.16660742, 0.16658604, 0.16650146, 0.16637175, 0.16647018, 0.16623473, 0.16631131, 0.1662679, 0.16629098, 0.16601889]\n",
      "[0.033079445, 0.03080565, 0.028959764, 0.027886746, 0.027230678, 0.02678755, 0.026491346, 0.026285855, 0.026138421, 0.02602833, 0.025942344, 0.025879791, 0.025826149, 0.025779616, 0.025749147, 0.025706422, 0.02567753, 0.025656423, 0.02563027, 0.02559529, 0.025572503, 0.025547335, 0.025519706, 0.025491921, 0.025459046, 0.025452668, 0.025398742, 0.025384735, 0.025355807, 0.025319604, 0.02530059, 0.025275512, 0.025241528, 0.025210863, 0.025175173, 0.025141267, 0.025110772, 0.025057193, 0.025035322, 0.025011966, 0.024967829, 0.024950972, 0.02492984, 0.024881547, 0.024858028, 0.024825417, 0.024805166, 0.024786063, 0.024750134, 0.02472427, 0.024719972, 0.024686523, 0.024661742, 0.024643678, 0.024636235, 0.024614556, 0.024587218]\n"
     ]
    },
    {
     "name": "stderr",
     "output_type": "stream",
     "text": [
      "                                                                                                                                                                              \r"
     ]
    },
    {
     "name": "stdout",
     "output_type": "stream",
     "text": [
      "Epoch 58, total_loss=0.2143, reg_loss = 0.0523\n",
      "   87.19 s in train({'n_hidden_rhs': [], '..., ConditionalAutoEncoder..., cuda, <torch.utils.data.data..., AdamW ( Parameter Grou..., MSELoss(), 58, max_norm=100)\n",
      "   42.35 s in test({'n_hidden_rhs': [], '..., ConditionalAutoEncoder..., cuda, <torch.utils.data.data..., MSELoss())\n",
      "    8.93 s in test({'n_hidden_rhs': [], '..., ConditionalAutoEncoder..., cuda, <torch.utils.data.data..., MSELoss())\n",
      "Train MSE: 0.16599384\n",
      "Valid MSE: 0.024570346\n",
      "Next Learning Rate: 0.001\n",
      "[1.484394, 0.2521785, 0.19993508, 0.18778132, 0.18268776, 0.18006349, 0.1779581, 0.17649195, 0.17539655, 0.17447181, 0.17376675, 0.17316854, 0.17267063, 0.17223434, 0.17188199, 0.17162134, 0.17121106, 0.17094573, 0.17067406, 0.17046398, 0.17032638, 0.17012265, 0.16984275, 0.1696687, 0.16946816, 0.16937165, 0.16930214, 0.16905698, 0.16890725, 0.16872375, 0.16881016, 0.16933437, 0.16832358, 0.16983472, 0.16800195, 0.16796102, 0.16777138, 0.167685, 0.16869667, 0.16742626, 0.1673066, 0.16718775, 0.16727623, 0.16697332, 0.1669053, 0.16678753, 0.16671824, 0.16660742, 0.16658604, 0.16650146, 0.16637175, 0.16647018, 0.16623473, 0.16631131, 0.1662679, 0.16629098, 0.16601889, 0.16599947]\n",
      "[0.033079445, 0.03080565, 0.028959764, 0.027886746, 0.027230678, 0.02678755, 0.026491346, 0.026285855, 0.026138421, 0.02602833, 0.025942344, 0.025879791, 0.025826149, 0.025779616, 0.025749147, 0.025706422, 0.02567753, 0.025656423, 0.02563027, 0.02559529, 0.025572503, 0.025547335, 0.025519706, 0.025491921, 0.025459046, 0.025452668, 0.025398742, 0.025384735, 0.025355807, 0.025319604, 0.02530059, 0.025275512, 0.025241528, 0.025210863, 0.025175173, 0.025141267, 0.025110772, 0.025057193, 0.025035322, 0.025011966, 0.024967829, 0.024950972, 0.02492984, 0.024881547, 0.024858028, 0.024825417, 0.024805166, 0.024786063, 0.024750134, 0.02472427, 0.024719972, 0.024686523, 0.024661742, 0.024643678, 0.024636235, 0.024614556, 0.024587218, 0.02458065]\n"
     ]
    },
    {
     "name": "stderr",
     "output_type": "stream",
     "text": [
      "                                                                                                                                                                              \r"
     ]
    },
    {
     "name": "stdout",
     "output_type": "stream",
     "text": [
      "Epoch 59, total_loss=0.2366, reg_loss = 0.0519\n",
      "   88.37 s in train({'n_hidden_rhs': [], '..., ConditionalAutoEncoder..., cuda, <torch.utils.data.data..., AdamW ( Parameter Grou..., MSELoss(), 59, max_norm=100)\n",
      "   41.82 s in test({'n_hidden_rhs': [], '..., ConditionalAutoEncoder..., cuda, <torch.utils.data.data..., MSELoss())\n",
      "    9.04 s in test({'n_hidden_rhs': [], '..., ConditionalAutoEncoder..., cuda, <torch.utils.data.data..., MSELoss())\n",
      "Train MSE: 0.16587992\n",
      "Valid MSE: 0.024545284\n",
      "Next Learning Rate: 0.001\n",
      "[1.484394, 0.2521785, 0.19993508, 0.18778132, 0.18268776, 0.18006349, 0.1779581, 0.17649195, 0.17539655, 0.17447181, 0.17376675, 0.17316854, 0.17267063, 0.17223434, 0.17188199, 0.17162134, 0.17121106, 0.17094573, 0.17067406, 0.17046398, 0.17032638, 0.17012265, 0.16984275, 0.1696687, 0.16946816, 0.16937165, 0.16930214, 0.16905698, 0.16890725, 0.16872375, 0.16881016, 0.16933437, 0.16832358, 0.16983472, 0.16800195, 0.16796102, 0.16777138, 0.167685, 0.16869667, 0.16742626, 0.1673066, 0.16718775, 0.16727623, 0.16697332, 0.1669053, 0.16678753, 0.16671824, 0.16660742, 0.16658604, 0.16650146, 0.16637175, 0.16647018, 0.16623473, 0.16631131, 0.1662679, 0.16629098, 0.16601889, 0.16599947, 0.16599384]\n",
      "[0.033079445, 0.03080565, 0.028959764, 0.027886746, 0.027230678, 0.02678755, 0.026491346, 0.026285855, 0.026138421, 0.02602833, 0.025942344, 0.025879791, 0.025826149, 0.025779616, 0.025749147, 0.025706422, 0.02567753, 0.025656423, 0.02563027, 0.02559529, 0.025572503, 0.025547335, 0.025519706, 0.025491921, 0.025459046, 0.025452668, 0.025398742, 0.025384735, 0.025355807, 0.025319604, 0.02530059, 0.025275512, 0.025241528, 0.025210863, 0.025175173, 0.025141267, 0.025110772, 0.025057193, 0.025035322, 0.025011966, 0.024967829, 0.024950972, 0.02492984, 0.024881547, 0.024858028, 0.024825417, 0.024805166, 0.024786063, 0.024750134, 0.02472427, 0.024719972, 0.024686523, 0.024661742, 0.024643678, 0.024636235, 0.024614556, 0.024587218, 0.02458065, 0.024570346]\n"
     ]
    },
    {
     "name": "stderr",
     "output_type": "stream",
     "text": [
      "                                                                                                                                                                              \r"
     ]
    },
    {
     "name": "stdout",
     "output_type": "stream",
     "text": [
      "Epoch 60, total_loss=0.2124, reg_loss = 0.0514\n",
      "   86.49 s in train({'n_hidden_rhs': [], '..., ConditionalAutoEncoder..., cuda, <torch.utils.data.data..., AdamW ( Parameter Grou..., MSELoss(), 60, max_norm=100)\n",
      "   42.22 s in test({'n_hidden_rhs': [], '..., ConditionalAutoEncoder..., cuda, <torch.utils.data.data..., MSELoss())\n",
      "    8.85 s in test({'n_hidden_rhs': [], '..., ConditionalAutoEncoder..., cuda, <torch.utils.data.data..., MSELoss())\n",
      "Train MSE: 0.16597569\n",
      "Valid MSE: 0.024527483\n",
      "Next Learning Rate: 0.001\n",
      "[1.484394, 0.2521785, 0.19993508, 0.18778132, 0.18268776, 0.18006349, 0.1779581, 0.17649195, 0.17539655, 0.17447181, 0.17376675, 0.17316854, 0.17267063, 0.17223434, 0.17188199, 0.17162134, 0.17121106, 0.17094573, 0.17067406, 0.17046398, 0.17032638, 0.17012265, 0.16984275, 0.1696687, 0.16946816, 0.16937165, 0.16930214, 0.16905698, 0.16890725, 0.16872375, 0.16881016, 0.16933437, 0.16832358, 0.16983472, 0.16800195, 0.16796102, 0.16777138, 0.167685, 0.16869667, 0.16742626, 0.1673066, 0.16718775, 0.16727623, 0.16697332, 0.1669053, 0.16678753, 0.16671824, 0.16660742, 0.16658604, 0.16650146, 0.16637175, 0.16647018, 0.16623473, 0.16631131, 0.1662679, 0.16629098, 0.16601889, 0.16599947, 0.16599384, 0.16587992]\n",
      "[0.033079445, 0.03080565, 0.028959764, 0.027886746, 0.027230678, 0.02678755, 0.026491346, 0.026285855, 0.026138421, 0.02602833, 0.025942344, 0.025879791, 0.025826149, 0.025779616, 0.025749147, 0.025706422, 0.02567753, 0.025656423, 0.02563027, 0.02559529, 0.025572503, 0.025547335, 0.025519706, 0.025491921, 0.025459046, 0.025452668, 0.025398742, 0.025384735, 0.025355807, 0.025319604, 0.02530059, 0.025275512, 0.025241528, 0.025210863, 0.025175173, 0.025141267, 0.025110772, 0.025057193, 0.025035322, 0.025011966, 0.024967829, 0.024950972, 0.02492984, 0.024881547, 0.024858028, 0.024825417, 0.024805166, 0.024786063, 0.024750134, 0.02472427, 0.024719972, 0.024686523, 0.024661742, 0.024643678, 0.024636235, 0.024614556, 0.024587218, 0.02458065, 0.024570346, 0.024545284]\n",
      "Training done. Evaluating...\n"
     ]
    },
    {
     "name": "stderr",
     "output_type": "stream",
     "text": [
      "100%|███████████████████████████████████████████████████████████████████████████████████████████████████████████████████████████████████████████| 6/6 [00:13<00:00,  2.20s/it]\n",
      "100%|███████████████████████████████████████████████████████████████████████████████████████████████████████████████████████████████████████████| 4/4 [00:09<00:00,  2.46s/it]\n"
     ]
    },
    {
     "name": "stdout",
     "output_type": "stream",
     "text": [
      "Params 6: (8, (24, 12), 7, False)\n",
      "ConditionalAutoEncoder(\n",
      "  (lhs): Sequential(\n",
      "    (0): LayerNorm((45,), eps=1e-05, elementwise_affine=True)\n",
      "    (1): Linear(in_features=45, out_features=24, bias=True)\n",
      "    (2): SELU()\n",
      "    (3): LayerNorm((24,), eps=1e-05, elementwise_affine=True)\n",
      "    (4): Linear(in_features=24, out_features=12, bias=True)\n",
      "    (5): SELU()\n",
      "    (6): Linear(in_features=12, out_features=8, bias=True)\n",
      "  )\n",
      "  (rhs): Sequential(\n",
      "    (0): Linear(in_features=46, out_features=8, bias=True)\n",
      "  )\n",
      ")\n",
      "   42.11 s in test({'n_hidden_rhs': [], '..., ConditionalAutoEncoder..., cuda, <torch.utils.data.data..., MSELoss())\n",
      "    9.87 s in test({'n_hidden_rhs': [], '..., ConditionalAutoEncoder..., cuda, <torch.utils.data.data..., MSELoss())\n",
      "Pre-Train Train MSE: 2.5926778\n",
      "Pre-Train Valid MSE: 0.04265558\n"
     ]
    },
    {
     "name": "stderr",
     "output_type": "stream",
     "text": [
      "                                                                                                                                                                              \r"
     ]
    },
    {
     "name": "stdout",
     "output_type": "stream",
     "text": [
      "Epoch 1, total_loss=1.0993, reg_loss = 0.0907\n",
      "   86.58 s in train({'n_hidden_rhs': [], '..., ConditionalAutoEncoder..., cuda, <torch.utils.data.data..., AdamW ( Parameter Grou..., MSELoss(), 1, max_norm=100)\n",
      "   41.14 s in test({'n_hidden_rhs': [], '..., ConditionalAutoEncoder..., cuda, <torch.utils.data.data..., MSELoss())\n",
      "    8.60 s in test({'n_hidden_rhs': [], '..., ConditionalAutoEncoder..., cuda, <torch.utils.data.data..., MSELoss())\n",
      "Train MSE: 0.37244833\n",
      "Valid MSE: 0.03604025\n",
      "Next Learning Rate: 0.001\n",
      "[2.5926778]\n",
      "[0.04265558]\n"
     ]
    },
    {
     "name": "stderr",
     "output_type": "stream",
     "text": [
      "                                                                                                                                                                              \r"
     ]
    },
    {
     "name": "stdout",
     "output_type": "stream",
     "text": [
      "Epoch 2, total_loss=0.3662, reg_loss = 0.0898\n",
      "   87.32 s in train({'n_hidden_rhs': [], '..., ConditionalAutoEncoder..., cuda, <torch.utils.data.data..., AdamW ( Parameter Grou..., MSELoss(), 2, max_norm=100)\n",
      "   41.48 s in test({'n_hidden_rhs': [], '..., ConditionalAutoEncoder..., cuda, <torch.utils.data.data..., MSELoss())\n",
      "    8.31 s in test({'n_hidden_rhs': [], '..., ConditionalAutoEncoder..., cuda, <torch.utils.data.data..., MSELoss())\n",
      "Train MSE: 0.23017246\n",
      "Valid MSE: 0.032059874\n",
      "Next Learning Rate: 0.001\n",
      "[2.5926778, 0.37244833]\n",
      "[0.04265558, 0.03604025]\n"
     ]
    },
    {
     "name": "stderr",
     "output_type": "stream",
     "text": [
      "                                                                                                                                                                              \r"
     ]
    },
    {
     "name": "stdout",
     "output_type": "stream",
     "text": [
      "Epoch 3, total_loss=0.2985, reg_loss = 0.0886\n",
      "   86.22 s in train({'n_hidden_rhs': [], '..., ConditionalAutoEncoder..., cuda, <torch.utils.data.data..., AdamW ( Parameter Grou..., MSELoss(), 3, max_norm=100)\n",
      "   41.87 s in test({'n_hidden_rhs': [], '..., ConditionalAutoEncoder..., cuda, <torch.utils.data.data..., MSELoss())\n",
      "    9.53 s in test({'n_hidden_rhs': [], '..., ConditionalAutoEncoder..., cuda, <torch.utils.data.data..., MSELoss())\n",
      "Train MSE: 0.20276253\n",
      "Valid MSE: 0.029849654\n",
      "Next Learning Rate: 0.001\n",
      "[2.5926778, 0.37244833, 0.23017246]\n",
      "[0.04265558, 0.03604025, 0.032059874]\n"
     ]
    },
    {
     "name": "stderr",
     "output_type": "stream",
     "text": [
      "                                                                                                                                                                              \r"
     ]
    },
    {
     "name": "stdout",
     "output_type": "stream",
     "text": [
      "Epoch 4, total_loss=0.4388, reg_loss = 0.0873\n",
      "   87.29 s in train({'n_hidden_rhs': [], '..., ConditionalAutoEncoder..., cuda, <torch.utils.data.data..., AdamW ( Parameter Grou..., MSELoss(), 4, max_norm=100)\n",
      "   41.07 s in test({'n_hidden_rhs': [], '..., ConditionalAutoEncoder..., cuda, <torch.utils.data.data..., MSELoss())\n",
      "    9.90 s in test({'n_hidden_rhs': [], '..., ConditionalAutoEncoder..., cuda, <torch.utils.data.data..., MSELoss())\n",
      "Train MSE: 0.19263256\n",
      "Valid MSE: 0.028544204\n",
      "Next Learning Rate: 0.001\n",
      "[2.5926778, 0.37244833, 0.23017246, 0.20276253]\n",
      "[0.04265558, 0.03604025, 0.032059874, 0.029849654]\n"
     ]
    },
    {
     "name": "stderr",
     "output_type": "stream",
     "text": [
      "                                                                                                                                                                              \r"
     ]
    },
    {
     "name": "stdout",
     "output_type": "stream",
     "text": [
      "Epoch 5, total_loss=0.2760, reg_loss = 0.0860\n",
      "   86.29 s in train({'n_hidden_rhs': [], '..., ConditionalAutoEncoder..., cuda, <torch.utils.data.data..., AdamW ( Parameter Grou..., MSELoss(), 5, max_norm=100)\n",
      "   41.90 s in test({'n_hidden_rhs': [], '..., ConditionalAutoEncoder..., cuda, <torch.utils.data.data..., MSELoss())\n",
      "    9.41 s in test({'n_hidden_rhs': [], '..., ConditionalAutoEncoder..., cuda, <torch.utils.data.data..., MSELoss())\n",
      "Train MSE: 0.18811467\n",
      "Valid MSE: 0.0277217\n",
      "Next Learning Rate: 0.001\n",
      "[2.5926778, 0.37244833, 0.23017246, 0.20276253, 0.19263256]\n",
      "[0.04265558, 0.03604025, 0.032059874, 0.029849654, 0.028544204]\n"
     ]
    },
    {
     "name": "stderr",
     "output_type": "stream",
     "text": [
      "                                                                                                                                                                              \r"
     ]
    },
    {
     "name": "stdout",
     "output_type": "stream",
     "text": [
      "Epoch 6, total_loss=0.2667, reg_loss = 0.0847\n",
      "   88.73 s in train({'n_hidden_rhs': [], '..., ConditionalAutoEncoder..., cuda, <torch.utils.data.data..., AdamW ( Parameter Grou..., MSELoss(), 6, max_norm=100)\n",
      "   41.86 s in test({'n_hidden_rhs': [], '..., ConditionalAutoEncoder..., cuda, <torch.utils.data.data..., MSELoss())\n",
      "    8.97 s in test({'n_hidden_rhs': [], '..., ConditionalAutoEncoder..., cuda, <torch.utils.data.data..., MSELoss())\n",
      "Train MSE: 0.18479882\n",
      "Valid MSE: 0.027195299\n",
      "Next Learning Rate: 0.001\n",
      "[2.5926778, 0.37244833, 0.23017246, 0.20276253, 0.19263256, 0.18811467]\n",
      "[0.04265558, 0.03604025, 0.032059874, 0.029849654, 0.028544204, 0.0277217]\n"
     ]
    },
    {
     "name": "stderr",
     "output_type": "stream",
     "text": [
      "                                                                                                                                                                              \r"
     ]
    },
    {
     "name": "stdout",
     "output_type": "stream",
     "text": [
      "Epoch 7, total_loss=0.2588, reg_loss = 0.0836\n",
      "   87.33 s in train({'n_hidden_rhs': [], '..., ConditionalAutoEncoder..., cuda, <torch.utils.data.data..., AdamW ( Parameter Grou..., MSELoss(), 7, max_norm=100)\n",
      "   42.39 s in test({'n_hidden_rhs': [], '..., ConditionalAutoEncoder..., cuda, <torch.utils.data.data..., MSELoss())\n",
      "    9.72 s in test({'n_hidden_rhs': [], '..., ConditionalAutoEncoder..., cuda, <torch.utils.data.data..., MSELoss())\n",
      "Train MSE: 0.1824884\n",
      "Valid MSE: 0.026814854\n",
      "Next Learning Rate: 0.001\n",
      "[2.5926778, 0.37244833, 0.23017246, 0.20276253, 0.19263256, 0.18811467, 0.18479882]\n",
      "[0.04265558, 0.03604025, 0.032059874, 0.029849654, 0.028544204, 0.0277217, 0.027195299]\n"
     ]
    },
    {
     "name": "stderr",
     "output_type": "stream",
     "text": [
      "                                                                                                                                                                              \r"
     ]
    },
    {
     "name": "stdout",
     "output_type": "stream",
     "text": [
      "Epoch 8, total_loss=0.2624, reg_loss = 0.0825\n",
      "   88.54 s in train({'n_hidden_rhs': [], '..., ConditionalAutoEncoder..., cuda, <torch.utils.data.data..., AdamW ( Parameter Grou..., MSELoss(), 8, max_norm=100)\n",
      "   41.89 s in test({'n_hidden_rhs': [], '..., ConditionalAutoEncoder..., cuda, <torch.utils.data.data..., MSELoss())\n",
      "    8.72 s in test({'n_hidden_rhs': [], '..., ConditionalAutoEncoder..., cuda, <torch.utils.data.data..., MSELoss())\n",
      "Train MSE: 0.18108593\n",
      "Valid MSE: 0.02654779\n",
      "Next Learning Rate: 0.001\n",
      "[2.5926778, 0.37244833, 0.23017246, 0.20276253, 0.19263256, 0.18811467, 0.18479882, 0.1824884]\n",
      "[0.04265558, 0.03604025, 0.032059874, 0.029849654, 0.028544204, 0.0277217, 0.027195299, 0.026814854]\n"
     ]
    },
    {
     "name": "stderr",
     "output_type": "stream",
     "text": [
      "                                                                                                                                                                              \r"
     ]
    },
    {
     "name": "stdout",
     "output_type": "stream",
     "text": [
      "Epoch 9, total_loss=0.2641, reg_loss = 0.0815\n",
      "   88.38 s in train({'n_hidden_rhs': [], '..., ConditionalAutoEncoder..., cuda, <torch.utils.data.data..., AdamW ( Parameter Grou..., MSELoss(), 9, max_norm=100)\n",
      "   42.81 s in test({'n_hidden_rhs': [], '..., ConditionalAutoEncoder..., cuda, <torch.utils.data.data..., MSELoss())\n",
      "    9.39 s in test({'n_hidden_rhs': [], '..., ConditionalAutoEncoder..., cuda, <torch.utils.data.data..., MSELoss())\n",
      "Train MSE: 0.17961578\n",
      "Valid MSE: 0.026334891\n",
      "Next Learning Rate: 0.001\n",
      "[2.5926778, 0.37244833, 0.23017246, 0.20276253, 0.19263256, 0.18811467, 0.18479882, 0.1824884, 0.18108593]\n",
      "[0.04265558, 0.03604025, 0.032059874, 0.029849654, 0.028544204, 0.0277217, 0.027195299, 0.026814854, 0.02654779]\n"
     ]
    },
    {
     "name": "stderr",
     "output_type": "stream",
     "text": [
      "                                                                                                                                                                              \r"
     ]
    },
    {
     "name": "stdout",
     "output_type": "stream",
     "text": [
      "Epoch 10, total_loss=0.2569, reg_loss = 0.0807\n",
      "   89.51 s in train({'n_hidden_rhs': [], '..., ConditionalAutoEncoder..., cuda, <torch.utils.data.data..., AdamW ( Parameter Grou..., MSELoss(), 10, max_norm=100)\n",
      "   42.37 s in test({'n_hidden_rhs': [], '..., ConditionalAutoEncoder..., cuda, <torch.utils.data.data..., MSELoss())\n",
      "    8.97 s in test({'n_hidden_rhs': [], '..., ConditionalAutoEncoder..., cuda, <torch.utils.data.data..., MSELoss())\n",
      "Train MSE: 0.17826554\n",
      "Valid MSE: 0.026174916\n",
      "Next Learning Rate: 0.001\n",
      "[2.5926778, 0.37244833, 0.23017246, 0.20276253, 0.19263256, 0.18811467, 0.18479882, 0.1824884, 0.18108593, 0.17961578]\n",
      "[0.04265558, 0.03604025, 0.032059874, 0.029849654, 0.028544204, 0.0277217, 0.027195299, 0.026814854, 0.02654779, 0.026334891]\n"
     ]
    },
    {
     "name": "stderr",
     "output_type": "stream",
     "text": [
      "                                                                                                                                                                              \r"
     ]
    },
    {
     "name": "stdout",
     "output_type": "stream",
     "text": [
      "Epoch 11, total_loss=0.2514, reg_loss = 0.0800\n",
      "   88.67 s in train({'n_hidden_rhs': [], '..., ConditionalAutoEncoder..., cuda, <torch.utils.data.data..., AdamW ( Parameter Grou..., MSELoss(), 11, max_norm=100)\n",
      "   41.85 s in test({'n_hidden_rhs': [], '..., ConditionalAutoEncoder..., cuda, <torch.utils.data.data..., MSELoss())\n",
      "    9.30 s in test({'n_hidden_rhs': [], '..., ConditionalAutoEncoder..., cuda, <torch.utils.data.data..., MSELoss())\n",
      "Train MSE: 0.17742711\n",
      "Valid MSE: 0.026035534\n",
      "Next Learning Rate: 0.001\n",
      "[2.5926778, 0.37244833, 0.23017246, 0.20276253, 0.19263256, 0.18811467, 0.18479882, 0.1824884, 0.18108593, 0.17961578, 0.17826554]\n",
      "[0.04265558, 0.03604025, 0.032059874, 0.029849654, 0.028544204, 0.0277217, 0.027195299, 0.026814854, 0.02654779, 0.026334891, 0.026174916]\n"
     ]
    },
    {
     "name": "stderr",
     "output_type": "stream",
     "text": [
      "                                                                                                                                                                              \r"
     ]
    },
    {
     "name": "stdout",
     "output_type": "stream",
     "text": [
      "Epoch 12, total_loss=0.2513, reg_loss = 0.0793\n",
      "   88.29 s in train({'n_hidden_rhs': [], '..., ConditionalAutoEncoder..., cuda, <torch.utils.data.data..., AdamW ( Parameter Grou..., MSELoss(), 12, max_norm=100)\n",
      "   42.68 s in test({'n_hidden_rhs': [], '..., ConditionalAutoEncoder..., cuda, <torch.utils.data.data..., MSELoss())\n",
      "    8.56 s in test({'n_hidden_rhs': [], '..., ConditionalAutoEncoder..., cuda, <torch.utils.data.data..., MSELoss())\n",
      "Train MSE: 0.1766121\n",
      "Valid MSE: 0.025936034\n",
      "Next Learning Rate: 0.001\n",
      "[2.5926778, 0.37244833, 0.23017246, 0.20276253, 0.19263256, 0.18811467, 0.18479882, 0.1824884, 0.18108593, 0.17961578, 0.17826554, 0.17742711]\n",
      "[0.04265558, 0.03604025, 0.032059874, 0.029849654, 0.028544204, 0.0277217, 0.027195299, 0.026814854, 0.02654779, 0.026334891, 0.026174916, 0.026035534]\n"
     ]
    },
    {
     "name": "stderr",
     "output_type": "stream",
     "text": [
      "                                                                                                                                                                              \r"
     ]
    },
    {
     "name": "stdout",
     "output_type": "stream",
     "text": [
      "Epoch 13, total_loss=0.2500, reg_loss = 0.0787\n",
      "   89.30 s in train({'n_hidden_rhs': [], '..., ConditionalAutoEncoder..., cuda, <torch.utils.data.data..., AdamW ( Parameter Grou..., MSELoss(), 13, max_norm=100)\n",
      "   42.51 s in test({'n_hidden_rhs': [], '..., ConditionalAutoEncoder..., cuda, <torch.utils.data.data..., MSELoss())\n",
      "    9.14 s in test({'n_hidden_rhs': [], '..., ConditionalAutoEncoder..., cuda, <torch.utils.data.data..., MSELoss())\n",
      "Train MSE: 0.17583261\n",
      "Valid MSE: 0.025857825\n",
      "Next Learning Rate: 0.001\n",
      "[2.5926778, 0.37244833, 0.23017246, 0.20276253, 0.19263256, 0.18811467, 0.18479882, 0.1824884, 0.18108593, 0.17961578, 0.17826554, 0.17742711, 0.1766121]\n",
      "[0.04265558, 0.03604025, 0.032059874, 0.029849654, 0.028544204, 0.0277217, 0.027195299, 0.026814854, 0.02654779, 0.026334891, 0.026174916, 0.026035534, 0.025936034]\n"
     ]
    },
    {
     "name": "stderr",
     "output_type": "stream",
     "text": [
      "                                                                                                                                                                              \r"
     ]
    },
    {
     "name": "stdout",
     "output_type": "stream",
     "text": [
      "Epoch 14, total_loss=0.2495, reg_loss = 0.0781\n",
      "   88.57 s in train({'n_hidden_rhs': [], '..., ConditionalAutoEncoder..., cuda, <torch.utils.data.data..., AdamW ( Parameter Grou..., MSELoss(), 14, max_norm=100)\n",
      "   41.61 s in test({'n_hidden_rhs': [], '..., ConditionalAutoEncoder..., cuda, <torch.utils.data.data..., MSELoss())\n",
      "    8.59 s in test({'n_hidden_rhs': [], '..., ConditionalAutoEncoder..., cuda, <torch.utils.data.data..., MSELoss())\n",
      "Train MSE: 0.17518213\n",
      "Valid MSE: 0.02579945\n",
      "Next Learning Rate: 0.001\n",
      "[2.5926778, 0.37244833, 0.23017246, 0.20276253, 0.19263256, 0.18811467, 0.18479882, 0.1824884, 0.18108593, 0.17961578, 0.17826554, 0.17742711, 0.1766121, 0.17583261]\n",
      "[0.04265558, 0.03604025, 0.032059874, 0.029849654, 0.028544204, 0.0277217, 0.027195299, 0.026814854, 0.02654779, 0.026334891, 0.026174916, 0.026035534, 0.025936034, 0.025857825]\n"
     ]
    },
    {
     "name": "stderr",
     "output_type": "stream",
     "text": [
      "                                                                                                                                                                              \r"
     ]
    },
    {
     "name": "stdout",
     "output_type": "stream",
     "text": [
      "Epoch 15, total_loss=0.2447, reg_loss = 0.0776\n",
      "   87.73 s in train({'n_hidden_rhs': [], '..., ConditionalAutoEncoder..., cuda, <torch.utils.data.data..., AdamW ( Parameter Grou..., MSELoss(), 15, max_norm=100)\n",
      "   42.85 s in test({'n_hidden_rhs': [], '..., ConditionalAutoEncoder..., cuda, <torch.utils.data.data..., MSELoss())\n",
      "    9.59 s in test({'n_hidden_rhs': [], '..., ConditionalAutoEncoder..., cuda, <torch.utils.data.data..., MSELoss())\n",
      "Train MSE: 0.17510386\n",
      "Valid MSE: 0.025734369\n",
      "Next Learning Rate: 0.001\n",
      "[2.5926778, 0.37244833, 0.23017246, 0.20276253, 0.19263256, 0.18811467, 0.18479882, 0.1824884, 0.18108593, 0.17961578, 0.17826554, 0.17742711, 0.1766121, 0.17583261, 0.17518213]\n",
      "[0.04265558, 0.03604025, 0.032059874, 0.029849654, 0.028544204, 0.0277217, 0.027195299, 0.026814854, 0.02654779, 0.026334891, 0.026174916, 0.026035534, 0.025936034, 0.025857825, 0.02579945]\n"
     ]
    },
    {
     "name": "stderr",
     "output_type": "stream",
     "text": [
      "                                                                                                                                                                              \r"
     ]
    },
    {
     "name": "stdout",
     "output_type": "stream",
     "text": [
      "Epoch 16, total_loss=0.2590, reg_loss = 0.0770\n",
      "   87.71 s in train({'n_hidden_rhs': [], '..., ConditionalAutoEncoder..., cuda, <torch.utils.data.data..., AdamW ( Parameter Grou..., MSELoss(), 16, max_norm=100)\n",
      "   43.17 s in test({'n_hidden_rhs': [], '..., ConditionalAutoEncoder..., cuda, <torch.utils.data.data..., MSELoss())\n",
      "    8.80 s in test({'n_hidden_rhs': [], '..., ConditionalAutoEncoder..., cuda, <torch.utils.data.data..., MSELoss())\n",
      "Train MSE: 0.17407326\n",
      "Valid MSE: 0.025669765\n",
      "Next Learning Rate: 0.001\n",
      "[2.5926778, 0.37244833, 0.23017246, 0.20276253, 0.19263256, 0.18811467, 0.18479882, 0.1824884, 0.18108593, 0.17961578, 0.17826554, 0.17742711, 0.1766121, 0.17583261, 0.17518213, 0.17510386]\n",
      "[0.04265558, 0.03604025, 0.032059874, 0.029849654, 0.028544204, 0.0277217, 0.027195299, 0.026814854, 0.02654779, 0.026334891, 0.026174916, 0.026035534, 0.025936034, 0.025857825, 0.02579945, 0.025734369]\n"
     ]
    },
    {
     "name": "stderr",
     "output_type": "stream",
     "text": [
      "                                                                                                                                                                              \r"
     ]
    },
    {
     "name": "stdout",
     "output_type": "stream",
     "text": [
      "Epoch 17, total_loss=0.2498, reg_loss = 0.0766\n",
      "   89.42 s in train({'n_hidden_rhs': [], '..., ConditionalAutoEncoder..., cuda, <torch.utils.data.data..., AdamW ( Parameter Grou..., MSELoss(), 17, max_norm=100)\n",
      "   41.90 s in test({'n_hidden_rhs': [], '..., ConditionalAutoEncoder..., cuda, <torch.utils.data.data..., MSELoss())\n",
      "    9.38 s in test({'n_hidden_rhs': [], '..., ConditionalAutoEncoder..., cuda, <torch.utils.data.data..., MSELoss())\n",
      "Train MSE: 0.17348826\n",
      "Valid MSE: 0.025620813\n",
      "Next Learning Rate: 0.001\n",
      "[2.5926778, 0.37244833, 0.23017246, 0.20276253, 0.19263256, 0.18811467, 0.18479882, 0.1824884, 0.18108593, 0.17961578, 0.17826554, 0.17742711, 0.1766121, 0.17583261, 0.17518213, 0.17510386, 0.17407326]\n",
      "[0.04265558, 0.03604025, 0.032059874, 0.029849654, 0.028544204, 0.0277217, 0.027195299, 0.026814854, 0.02654779, 0.026334891, 0.026174916, 0.026035534, 0.025936034, 0.025857825, 0.02579945, 0.025734369, 0.025669765]\n"
     ]
    },
    {
     "name": "stderr",
     "output_type": "stream",
     "text": [
      "                                                                                                                                                                              \r"
     ]
    },
    {
     "name": "stdout",
     "output_type": "stream",
     "text": [
      "Epoch 18, total_loss=0.2432, reg_loss = 0.0761\n",
      "   88.00 s in train({'n_hidden_rhs': [], '..., ConditionalAutoEncoder..., cuda, <torch.utils.data.data..., AdamW ( Parameter Grou..., MSELoss(), 18, max_norm=100)\n",
      "   42.57 s in test({'n_hidden_rhs': [], '..., ConditionalAutoEncoder..., cuda, <torch.utils.data.data..., MSELoss())\n",
      "    9.75 s in test({'n_hidden_rhs': [], '..., ConditionalAutoEncoder..., cuda, <torch.utils.data.data..., MSELoss())\n",
      "Train MSE: 0.1729948\n",
      "Valid MSE: 0.025576187\n",
      "Next Learning Rate: 0.001\n",
      "[2.5926778, 0.37244833, 0.23017246, 0.20276253, 0.19263256, 0.18811467, 0.18479882, 0.1824884, 0.18108593, 0.17961578, 0.17826554, 0.17742711, 0.1766121, 0.17583261, 0.17518213, 0.17510386, 0.17407326, 0.17348826]\n",
      "[0.04265558, 0.03604025, 0.032059874, 0.029849654, 0.028544204, 0.0277217, 0.027195299, 0.026814854, 0.02654779, 0.026334891, 0.026174916, 0.026035534, 0.025936034, 0.025857825, 0.02579945, 0.025734369, 0.025669765, 0.025620813]\n"
     ]
    },
    {
     "name": "stderr",
     "output_type": "stream",
     "text": [
      "                                                                                                                                                                              \r"
     ]
    },
    {
     "name": "stdout",
     "output_type": "stream",
     "text": [
      "Epoch 19, total_loss=0.2453, reg_loss = 0.0756\n",
      "   88.86 s in train({'n_hidden_rhs': [], '..., ConditionalAutoEncoder..., cuda, <torch.utils.data.data..., AdamW ( Parameter Grou..., MSELoss(), 19, max_norm=100)\n",
      "   40.93 s in test({'n_hidden_rhs': [], '..., ConditionalAutoEncoder..., cuda, <torch.utils.data.data..., MSELoss())\n",
      "    9.07 s in test({'n_hidden_rhs': [], '..., ConditionalAutoEncoder..., cuda, <torch.utils.data.data..., MSELoss())\n",
      "Train MSE: 0.17265652\n",
      "Valid MSE: 0.025525212\n",
      "Next Learning Rate: 0.001\n",
      "[2.5926778, 0.37244833, 0.23017246, 0.20276253, 0.19263256, 0.18811467, 0.18479882, 0.1824884, 0.18108593, 0.17961578, 0.17826554, 0.17742711, 0.1766121, 0.17583261, 0.17518213, 0.17510386, 0.17407326, 0.17348826, 0.1729948]\n",
      "[0.04265558, 0.03604025, 0.032059874, 0.029849654, 0.028544204, 0.0277217, 0.027195299, 0.026814854, 0.02654779, 0.026334891, 0.026174916, 0.026035534, 0.025936034, 0.025857825, 0.02579945, 0.025734369, 0.025669765, 0.025620813, 0.025576187]\n"
     ]
    },
    {
     "name": "stderr",
     "output_type": "stream",
     "text": [
      "                                                                                                                                                                              \r"
     ]
    },
    {
     "name": "stdout",
     "output_type": "stream",
     "text": [
      "Epoch 20, total_loss=0.2447, reg_loss = 0.0752\n",
      "   87.19 s in train({'n_hidden_rhs': [], '..., ConditionalAutoEncoder..., cuda, <torch.utils.data.data..., AdamW ( Parameter Grou..., MSELoss(), 20, max_norm=100)\n",
      "   42.77 s in test({'n_hidden_rhs': [], '..., ConditionalAutoEncoder..., cuda, <torch.utils.data.data..., MSELoss())\n",
      "    8.34 s in test({'n_hidden_rhs': [], '..., ConditionalAutoEncoder..., cuda, <torch.utils.data.data..., MSELoss())\n",
      "Train MSE: 0.17316428\n",
      "Valid MSE: 0.025483787\n",
      "Next Learning Rate: 0.001\n",
      "[2.5926778, 0.37244833, 0.23017246, 0.20276253, 0.19263256, 0.18811467, 0.18479882, 0.1824884, 0.18108593, 0.17961578, 0.17826554, 0.17742711, 0.1766121, 0.17583261, 0.17518213, 0.17510386, 0.17407326, 0.17348826, 0.1729948, 0.17265652]\n",
      "[0.04265558, 0.03604025, 0.032059874, 0.029849654, 0.028544204, 0.0277217, 0.027195299, 0.026814854, 0.02654779, 0.026334891, 0.026174916, 0.026035534, 0.025936034, 0.025857825, 0.02579945, 0.025734369, 0.025669765, 0.025620813, 0.025576187, 0.025525212]\n"
     ]
    },
    {
     "name": "stderr",
     "output_type": "stream",
     "text": [
      "                                                                                                                                                                              \r"
     ]
    },
    {
     "name": "stdout",
     "output_type": "stream",
     "text": [
      "Epoch 21, total_loss=0.2461, reg_loss = 0.0748\n",
      "   87.07 s in train({'n_hidden_rhs': [], '..., ConditionalAutoEncoder..., cuda, <torch.utils.data.data..., AdamW ( Parameter Grou..., MSELoss(), 21, max_norm=100)\n",
      "   41.15 s in test({'n_hidden_rhs': [], '..., ConditionalAutoEncoder..., cuda, <torch.utils.data.data..., MSELoss())\n",
      "    9.30 s in test({'n_hidden_rhs': [], '..., ConditionalAutoEncoder..., cuda, <torch.utils.data.data..., MSELoss())\n",
      "Train MSE: 0.17202209\n",
      "Valid MSE: 0.025435444\n",
      "Next Learning Rate: 0.001\n",
      "[2.5926778, 0.37244833, 0.23017246, 0.20276253, 0.19263256, 0.18811467, 0.18479882, 0.1824884, 0.18108593, 0.17961578, 0.17826554, 0.17742711, 0.1766121, 0.17583261, 0.17518213, 0.17510386, 0.17407326, 0.17348826, 0.1729948, 0.17265652, 0.17316428]\n",
      "[0.04265558, 0.03604025, 0.032059874, 0.029849654, 0.028544204, 0.0277217, 0.027195299, 0.026814854, 0.02654779, 0.026334891, 0.026174916, 0.026035534, 0.025936034, 0.025857825, 0.02579945, 0.025734369, 0.025669765, 0.025620813, 0.025576187, 0.025525212, 0.025483787]\n"
     ]
    },
    {
     "name": "stderr",
     "output_type": "stream",
     "text": [
      "                                                                                                                                                                              \r"
     ]
    },
    {
     "name": "stdout",
     "output_type": "stream",
     "text": [
      "Epoch 22, total_loss=0.2435, reg_loss = 0.0744\n",
      "   87.04 s in train({'n_hidden_rhs': [], '..., ConditionalAutoEncoder..., cuda, <torch.utils.data.data..., AdamW ( Parameter Grou..., MSELoss(), 22, max_norm=100)\n",
      "   41.95 s in test({'n_hidden_rhs': [], '..., ConditionalAutoEncoder..., cuda, <torch.utils.data.data..., MSELoss())\n",
      "    9.40 s in test({'n_hidden_rhs': [], '..., ConditionalAutoEncoder..., cuda, <torch.utils.data.data..., MSELoss())\n",
      "Train MSE: 0.17274374\n",
      "Valid MSE: 0.025410354\n",
      "Next Learning Rate: 0.001\n",
      "[2.5926778, 0.37244833, 0.23017246, 0.20276253, 0.19263256, 0.18811467, 0.18479882, 0.1824884, 0.18108593, 0.17961578, 0.17826554, 0.17742711, 0.1766121, 0.17583261, 0.17518213, 0.17510386, 0.17407326, 0.17348826, 0.1729948, 0.17265652, 0.17316428, 0.17202209]\n",
      "[0.04265558, 0.03604025, 0.032059874, 0.029849654, 0.028544204, 0.0277217, 0.027195299, 0.026814854, 0.02654779, 0.026334891, 0.026174916, 0.026035534, 0.025936034, 0.025857825, 0.02579945, 0.025734369, 0.025669765, 0.025620813, 0.025576187, 0.025525212, 0.025483787, 0.025435444]\n"
     ]
    },
    {
     "name": "stderr",
     "output_type": "stream",
     "text": [
      "                                                                                                                                                                              \r"
     ]
    },
    {
     "name": "stdout",
     "output_type": "stream",
     "text": [
      "Epoch 23, total_loss=0.2384, reg_loss = 0.0739\n",
      "   87.06 s in train({'n_hidden_rhs': [], '..., ConditionalAutoEncoder..., cuda, <torch.utils.data.data..., AdamW ( Parameter Grou..., MSELoss(), 23, max_norm=100)\n",
      "   41.89 s in test({'n_hidden_rhs': [], '..., ConditionalAutoEncoder..., cuda, <torch.utils.data.data..., MSELoss())\n",
      "    8.83 s in test({'n_hidden_rhs': [], '..., ConditionalAutoEncoder..., cuda, <torch.utils.data.data..., MSELoss())\n",
      "Train MSE: 0.17195682\n",
      "Valid MSE: 0.025373105\n",
      "Next Learning Rate: 0.001\n",
      "[2.5926778, 0.37244833, 0.23017246, 0.20276253, 0.19263256, 0.18811467, 0.18479882, 0.1824884, 0.18108593, 0.17961578, 0.17826554, 0.17742711, 0.1766121, 0.17583261, 0.17518213, 0.17510386, 0.17407326, 0.17348826, 0.1729948, 0.17265652, 0.17316428, 0.17202209, 0.17274374]\n",
      "[0.04265558, 0.03604025, 0.032059874, 0.029849654, 0.028544204, 0.0277217, 0.027195299, 0.026814854, 0.02654779, 0.026334891, 0.026174916, 0.026035534, 0.025936034, 0.025857825, 0.02579945, 0.025734369, 0.025669765, 0.025620813, 0.025576187, 0.025525212, 0.025483787, 0.025435444, 0.025410354]\n"
     ]
    },
    {
     "name": "stderr",
     "output_type": "stream",
     "text": [
      "                                                                                                                                                                              \r"
     ]
    },
    {
     "name": "stdout",
     "output_type": "stream",
     "text": [
      "Epoch 24, total_loss=0.2375, reg_loss = 0.0735\n",
      "   87.63 s in train({'n_hidden_rhs': [], '..., ConditionalAutoEncoder..., cuda, <torch.utils.data.data..., AdamW ( Parameter Grou..., MSELoss(), 24, max_norm=100)\n",
      "   42.18 s in test({'n_hidden_rhs': [], '..., ConditionalAutoEncoder..., cuda, <torch.utils.data.data..., MSELoss())\n",
      "    9.57 s in test({'n_hidden_rhs': [], '..., ConditionalAutoEncoder..., cuda, <torch.utils.data.data..., MSELoss())\n",
      "Train MSE: 0.17088893\n",
      "Valid MSE: 0.02534322\n",
      "Next Learning Rate: 0.001\n",
      "[2.5926778, 0.37244833, 0.23017246, 0.20276253, 0.19263256, 0.18811467, 0.18479882, 0.1824884, 0.18108593, 0.17961578, 0.17826554, 0.17742711, 0.1766121, 0.17583261, 0.17518213, 0.17510386, 0.17407326, 0.17348826, 0.1729948, 0.17265652, 0.17316428, 0.17202209, 0.17274374, 0.17195682]\n",
      "[0.04265558, 0.03604025, 0.032059874, 0.029849654, 0.028544204, 0.0277217, 0.027195299, 0.026814854, 0.02654779, 0.026334891, 0.026174916, 0.026035534, 0.025936034, 0.025857825, 0.02579945, 0.025734369, 0.025669765, 0.025620813, 0.025576187, 0.025525212, 0.025483787, 0.025435444, 0.025410354, 0.025373105]\n"
     ]
    },
    {
     "name": "stderr",
     "output_type": "stream",
     "text": [
      "                                                                                                                                                                              \r"
     ]
    },
    {
     "name": "stdout",
     "output_type": "stream",
     "text": [
      "Epoch 25, total_loss=0.2392, reg_loss = 0.0731\n",
      "   87.19 s in train({'n_hidden_rhs': [], '..., ConditionalAutoEncoder..., cuda, <torch.utils.data.data..., AdamW ( Parameter Grou..., MSELoss(), 25, max_norm=100)\n",
      "   42.62 s in test({'n_hidden_rhs': [], '..., ConditionalAutoEncoder..., cuda, <torch.utils.data.data..., MSELoss())\n",
      "    9.05 s in test({'n_hidden_rhs': [], '..., ConditionalAutoEncoder..., cuda, <torch.utils.data.data..., MSELoss())\n",
      "Train MSE: 0.17055175\n",
      "Valid MSE: 0.025296254\n",
      "Next Learning Rate: 0.001\n",
      "[2.5926778, 0.37244833, 0.23017246, 0.20276253, 0.19263256, 0.18811467, 0.18479882, 0.1824884, 0.18108593, 0.17961578, 0.17826554, 0.17742711, 0.1766121, 0.17583261, 0.17518213, 0.17510386, 0.17407326, 0.17348826, 0.1729948, 0.17265652, 0.17316428, 0.17202209, 0.17274374, 0.17195682, 0.17088893]\n",
      "[0.04265558, 0.03604025, 0.032059874, 0.029849654, 0.028544204, 0.0277217, 0.027195299, 0.026814854, 0.02654779, 0.026334891, 0.026174916, 0.026035534, 0.025936034, 0.025857825, 0.02579945, 0.025734369, 0.025669765, 0.025620813, 0.025576187, 0.025525212, 0.025483787, 0.025435444, 0.025410354, 0.025373105, 0.02534322]\n"
     ]
    },
    {
     "name": "stderr",
     "output_type": "stream",
     "text": [
      "                                                                                                                                                                              \r"
     ]
    },
    {
     "name": "stdout",
     "output_type": "stream",
     "text": [
      "Epoch 26, total_loss=0.2365, reg_loss = 0.0727\n",
      "   86.88 s in train({'n_hidden_rhs': [], '..., ConditionalAutoEncoder..., cuda, <torch.utils.data.data..., AdamW ( Parameter Grou..., MSELoss(), 26, max_norm=100)\n",
      "   42.54 s in test({'n_hidden_rhs': [], '..., ConditionalAutoEncoder..., cuda, <torch.utils.data.data..., MSELoss())\n",
      "    9.75 s in test({'n_hidden_rhs': [], '..., ConditionalAutoEncoder..., cuda, <torch.utils.data.data..., MSELoss())\n",
      "Train MSE: 0.17024349\n",
      "Valid MSE: 0.025262358\n",
      "Next Learning Rate: 0.001\n",
      "[2.5926778, 0.37244833, 0.23017246, 0.20276253, 0.19263256, 0.18811467, 0.18479882, 0.1824884, 0.18108593, 0.17961578, 0.17826554, 0.17742711, 0.1766121, 0.17583261, 0.17518213, 0.17510386, 0.17407326, 0.17348826, 0.1729948, 0.17265652, 0.17316428, 0.17202209, 0.17274374, 0.17195682, 0.17088893, 0.17055175]\n",
      "[0.04265558, 0.03604025, 0.032059874, 0.029849654, 0.028544204, 0.0277217, 0.027195299, 0.026814854, 0.02654779, 0.026334891, 0.026174916, 0.026035534, 0.025936034, 0.025857825, 0.02579945, 0.025734369, 0.025669765, 0.025620813, 0.025576187, 0.025525212, 0.025483787, 0.025435444, 0.025410354, 0.025373105, 0.02534322, 0.025296254]\n"
     ]
    },
    {
     "name": "stderr",
     "output_type": "stream",
     "text": [
      "                                                                                                                                                                              \r"
     ]
    },
    {
     "name": "stdout",
     "output_type": "stream",
     "text": [
      "Epoch 27, total_loss=0.2372, reg_loss = 0.0723\n",
      "   86.14 s in train({'n_hidden_rhs': [], '..., ConditionalAutoEncoder..., cuda, <torch.utils.data.data..., AdamW ( Parameter Grou..., MSELoss(), 27, max_norm=100)\n",
      "   42.05 s in test({'n_hidden_rhs': [], '..., ConditionalAutoEncoder..., cuda, <torch.utils.data.data..., MSELoss())\n",
      "    8.79 s in test({'n_hidden_rhs': [], '..., ConditionalAutoEncoder..., cuda, <torch.utils.data.data..., MSELoss())\n",
      "Train MSE: 0.17023127\n",
      "Valid MSE: 0.025245244\n",
      "Next Learning Rate: 0.001\n",
      "[2.5926778, 0.37244833, 0.23017246, 0.20276253, 0.19263256, 0.18811467, 0.18479882, 0.1824884, 0.18108593, 0.17961578, 0.17826554, 0.17742711, 0.1766121, 0.17583261, 0.17518213, 0.17510386, 0.17407326, 0.17348826, 0.1729948, 0.17265652, 0.17316428, 0.17202209, 0.17274374, 0.17195682, 0.17088893, 0.17055175, 0.17024349]\n",
      "[0.04265558, 0.03604025, 0.032059874, 0.029849654, 0.028544204, 0.0277217, 0.027195299, 0.026814854, 0.02654779, 0.026334891, 0.026174916, 0.026035534, 0.025936034, 0.025857825, 0.02579945, 0.025734369, 0.025669765, 0.025620813, 0.025576187, 0.025525212, 0.025483787, 0.025435444, 0.025410354, 0.025373105, 0.02534322, 0.025296254, 0.025262358]\n"
     ]
    },
    {
     "name": "stderr",
     "output_type": "stream",
     "text": [
      "                                                                                                                                                                              \r"
     ]
    },
    {
     "name": "stdout",
     "output_type": "stream",
     "text": [
      "Epoch 28, total_loss=0.2368, reg_loss = 0.0719\n",
      "   87.98 s in train({'n_hidden_rhs': [], '..., ConditionalAutoEncoder..., cuda, <torch.utils.data.data..., AdamW ( Parameter Grou..., MSELoss(), 28, max_norm=100)\n",
      "   41.32 s in test({'n_hidden_rhs': [], '..., ConditionalAutoEncoder..., cuda, <torch.utils.data.data..., MSELoss())\n",
      "    9.63 s in test({'n_hidden_rhs': [], '..., ConditionalAutoEncoder..., cuda, <torch.utils.data.data..., MSELoss())\n",
      "Train MSE: 0.17006283\n",
      "Valid MSE: 0.025203653\n",
      "Next Learning Rate: 0.001\n",
      "[2.5926778, 0.37244833, 0.23017246, 0.20276253, 0.19263256, 0.18811467, 0.18479882, 0.1824884, 0.18108593, 0.17961578, 0.17826554, 0.17742711, 0.1766121, 0.17583261, 0.17518213, 0.17510386, 0.17407326, 0.17348826, 0.1729948, 0.17265652, 0.17316428, 0.17202209, 0.17274374, 0.17195682, 0.17088893, 0.17055175, 0.17024349, 0.17023127]\n",
      "[0.04265558, 0.03604025, 0.032059874, 0.029849654, 0.028544204, 0.0277217, 0.027195299, 0.026814854, 0.02654779, 0.026334891, 0.026174916, 0.026035534, 0.025936034, 0.025857825, 0.02579945, 0.025734369, 0.025669765, 0.025620813, 0.025576187, 0.025525212, 0.025483787, 0.025435444, 0.025410354, 0.025373105, 0.02534322, 0.025296254, 0.025262358, 0.025245244]\n"
     ]
    },
    {
     "name": "stderr",
     "output_type": "stream",
     "text": [
      "                                                                                                                                                                              \r"
     ]
    },
    {
     "name": "stdout",
     "output_type": "stream",
     "text": [
      "Epoch 29, total_loss=0.2341, reg_loss = 0.0715\n",
      "   87.41 s in train({'n_hidden_rhs': [], '..., ConditionalAutoEncoder..., cuda, <torch.utils.data.data..., AdamW ( Parameter Grou..., MSELoss(), 29, max_norm=100)\n",
      "   42.43 s in test({'n_hidden_rhs': [], '..., ConditionalAutoEncoder..., cuda, <torch.utils.data.data..., MSELoss())\n",
      "    8.79 s in test({'n_hidden_rhs': [], '..., ConditionalAutoEncoder..., cuda, <torch.utils.data.data..., MSELoss())\n",
      "Train MSE: 0.1696679\n",
      "Valid MSE: 0.025173727\n",
      "Next Learning Rate: 0.001\n",
      "[2.5926778, 0.37244833, 0.23017246, 0.20276253, 0.19263256, 0.18811467, 0.18479882, 0.1824884, 0.18108593, 0.17961578, 0.17826554, 0.17742711, 0.1766121, 0.17583261, 0.17518213, 0.17510386, 0.17407326, 0.17348826, 0.1729948, 0.17265652, 0.17316428, 0.17202209, 0.17274374, 0.17195682, 0.17088893, 0.17055175, 0.17024349, 0.17023127, 0.17006283]\n",
      "[0.04265558, 0.03604025, 0.032059874, 0.029849654, 0.028544204, 0.0277217, 0.027195299, 0.026814854, 0.02654779, 0.026334891, 0.026174916, 0.026035534, 0.025936034, 0.025857825, 0.02579945, 0.025734369, 0.025669765, 0.025620813, 0.025576187, 0.025525212, 0.025483787, 0.025435444, 0.025410354, 0.025373105, 0.02534322, 0.025296254, 0.025262358, 0.025245244, 0.025203653]\n"
     ]
    },
    {
     "name": "stderr",
     "output_type": "stream",
     "text": [
      "                                                                                                                                                                              \r"
     ]
    },
    {
     "name": "stdout",
     "output_type": "stream",
     "text": [
      "Epoch 30, total_loss=0.2377, reg_loss = 0.0710\n",
      "   86.84 s in train({'n_hidden_rhs': [], '..., ConditionalAutoEncoder..., cuda, <torch.utils.data.data..., AdamW ( Parameter Grou..., MSELoss(), 30, max_norm=100)\n",
      "   41.97 s in test({'n_hidden_rhs': [], '..., ConditionalAutoEncoder..., cuda, <torch.utils.data.data..., MSELoss())\n",
      "    9.05 s in test({'n_hidden_rhs': [], '..., ConditionalAutoEncoder..., cuda, <torch.utils.data.data..., MSELoss())\n",
      "Train MSE: 0.16940491\n",
      "Valid MSE: 0.025141738\n",
      "Next Learning Rate: 0.001\n",
      "[2.5926778, 0.37244833, 0.23017246, 0.20276253, 0.19263256, 0.18811467, 0.18479882, 0.1824884, 0.18108593, 0.17961578, 0.17826554, 0.17742711, 0.1766121, 0.17583261, 0.17518213, 0.17510386, 0.17407326, 0.17348826, 0.1729948, 0.17265652, 0.17316428, 0.17202209, 0.17274374, 0.17195682, 0.17088893, 0.17055175, 0.17024349, 0.17023127, 0.17006283, 0.1696679]\n",
      "[0.04265558, 0.03604025, 0.032059874, 0.029849654, 0.028544204, 0.0277217, 0.027195299, 0.026814854, 0.02654779, 0.026334891, 0.026174916, 0.026035534, 0.025936034, 0.025857825, 0.02579945, 0.025734369, 0.025669765, 0.025620813, 0.025576187, 0.025525212, 0.025483787, 0.025435444, 0.025410354, 0.025373105, 0.02534322, 0.025296254, 0.025262358, 0.025245244, 0.025203653, 0.025173727]\n"
     ]
    },
    {
     "name": "stderr",
     "output_type": "stream",
     "text": [
      "                                                                                                                                                                              \r"
     ]
    },
    {
     "name": "stdout",
     "output_type": "stream",
     "text": [
      "Epoch 31, total_loss=0.2320, reg_loss = 0.0706\n",
      "   87.87 s in train({'n_hidden_rhs': [], '..., ConditionalAutoEncoder..., cuda, <torch.utils.data.data..., AdamW ( Parameter Grou..., MSELoss(), 31, max_norm=100)\n",
      "   41.49 s in test({'n_hidden_rhs': [], '..., ConditionalAutoEncoder..., cuda, <torch.utils.data.data..., MSELoss())\n",
      "    8.95 s in test({'n_hidden_rhs': [], '..., ConditionalAutoEncoder..., cuda, <torch.utils.data.data..., MSELoss())\n",
      "Train MSE: 0.16915867\n",
      "Valid MSE: 0.02511366\n",
      "Next Learning Rate: 0.001\n",
      "[2.5926778, 0.37244833, 0.23017246, 0.20276253, 0.19263256, 0.18811467, 0.18479882, 0.1824884, 0.18108593, 0.17961578, 0.17826554, 0.17742711, 0.1766121, 0.17583261, 0.17518213, 0.17510386, 0.17407326, 0.17348826, 0.1729948, 0.17265652, 0.17316428, 0.17202209, 0.17274374, 0.17195682, 0.17088893, 0.17055175, 0.17024349, 0.17023127, 0.17006283, 0.1696679, 0.16940491]\n",
      "[0.04265558, 0.03604025, 0.032059874, 0.029849654, 0.028544204, 0.0277217, 0.027195299, 0.026814854, 0.02654779, 0.026334891, 0.026174916, 0.026035534, 0.025936034, 0.025857825, 0.02579945, 0.025734369, 0.025669765, 0.025620813, 0.025576187, 0.025525212, 0.025483787, 0.025435444, 0.025410354, 0.025373105, 0.02534322, 0.025296254, 0.025262358, 0.025245244, 0.025203653, 0.025173727, 0.025141738]\n"
     ]
    },
    {
     "name": "stderr",
     "output_type": "stream",
     "text": [
      "                                                                                                                                                                              \r"
     ]
    },
    {
     "name": "stdout",
     "output_type": "stream",
     "text": [
      "Epoch 32, total_loss=0.2339, reg_loss = 0.0703\n",
      "   87.17 s in train({'n_hidden_rhs': [], '..., ConditionalAutoEncoder..., cuda, <torch.utils.data.data..., AdamW ( Parameter Grou..., MSELoss(), 32, max_norm=100)\n",
      "   42.60 s in test({'n_hidden_rhs': [], '..., ConditionalAutoEncoder..., cuda, <torch.utils.data.data..., MSELoss())\n",
      "    9.08 s in test({'n_hidden_rhs': [], '..., ConditionalAutoEncoder..., cuda, <torch.utils.data.data..., MSELoss())\n",
      "Train MSE: 0.16888408\n",
      "Valid MSE: 0.025083318\n",
      "Next Learning Rate: 0.001\n",
      "[2.5926778, 0.37244833, 0.23017246, 0.20276253, 0.19263256, 0.18811467, 0.18479882, 0.1824884, 0.18108593, 0.17961578, 0.17826554, 0.17742711, 0.1766121, 0.17583261, 0.17518213, 0.17510386, 0.17407326, 0.17348826, 0.1729948, 0.17265652, 0.17316428, 0.17202209, 0.17274374, 0.17195682, 0.17088893, 0.17055175, 0.17024349, 0.17023127, 0.17006283, 0.1696679, 0.16940491, 0.16915867]\n",
      "[0.04265558, 0.03604025, 0.032059874, 0.029849654, 0.028544204, 0.0277217, 0.027195299, 0.026814854, 0.02654779, 0.026334891, 0.026174916, 0.026035534, 0.025936034, 0.025857825, 0.02579945, 0.025734369, 0.025669765, 0.025620813, 0.025576187, 0.025525212, 0.025483787, 0.025435444, 0.025410354, 0.025373105, 0.02534322, 0.025296254, 0.025262358, 0.025245244, 0.025203653, 0.025173727, 0.025141738, 0.02511366]\n"
     ]
    },
    {
     "name": "stderr",
     "output_type": "stream",
     "text": [
      "                                                                                                                                                                              \r"
     ]
    },
    {
     "name": "stdout",
     "output_type": "stream",
     "text": [
      "Epoch 33, total_loss=0.2372, reg_loss = 0.0699\n",
      "   88.26 s in train({'n_hidden_rhs': [], '..., ConditionalAutoEncoder..., cuda, <torch.utils.data.data..., AdamW ( Parameter Grou..., MSELoss(), 33, max_norm=100)\n",
      "   41.47 s in test({'n_hidden_rhs': [], '..., ConditionalAutoEncoder..., cuda, <torch.utils.data.data..., MSELoss())\n",
      "    8.91 s in test({'n_hidden_rhs': [], '..., ConditionalAutoEncoder..., cuda, <torch.utils.data.data..., MSELoss())\n",
      "Train MSE: 0.1687755\n",
      "Valid MSE: 0.025055343\n",
      "Next Learning Rate: 0.001\n",
      "[2.5926778, 0.37244833, 0.23017246, 0.20276253, 0.19263256, 0.18811467, 0.18479882, 0.1824884, 0.18108593, 0.17961578, 0.17826554, 0.17742711, 0.1766121, 0.17583261, 0.17518213, 0.17510386, 0.17407326, 0.17348826, 0.1729948, 0.17265652, 0.17316428, 0.17202209, 0.17274374, 0.17195682, 0.17088893, 0.17055175, 0.17024349, 0.17023127, 0.17006283, 0.1696679, 0.16940491, 0.16915867, 0.16888408]\n",
      "[0.04265558, 0.03604025, 0.032059874, 0.029849654, 0.028544204, 0.0277217, 0.027195299, 0.026814854, 0.02654779, 0.026334891, 0.026174916, 0.026035534, 0.025936034, 0.025857825, 0.02579945, 0.025734369, 0.025669765, 0.025620813, 0.025576187, 0.025525212, 0.025483787, 0.025435444, 0.025410354, 0.025373105, 0.02534322, 0.025296254, 0.025262358, 0.025245244, 0.025203653, 0.025173727, 0.025141738, 0.02511366, 0.025083318]\n"
     ]
    },
    {
     "name": "stderr",
     "output_type": "stream",
     "text": [
      "                                                                                                                                                                              \r"
     ]
    },
    {
     "name": "stdout",
     "output_type": "stream",
     "text": [
      "Epoch 34, total_loss=0.2332, reg_loss = 0.0695\n",
      "   86.63 s in train({'n_hidden_rhs': [], '..., ConditionalAutoEncoder..., cuda, <torch.utils.data.data..., AdamW ( Parameter Grou..., MSELoss(), 34, max_norm=100)\n",
      "   42.77 s in test({'n_hidden_rhs': [], '..., ConditionalAutoEncoder..., cuda, <torch.utils.data.data..., MSELoss())\n",
      "    9.10 s in test({'n_hidden_rhs': [], '..., ConditionalAutoEncoder..., cuda, <torch.utils.data.data..., MSELoss())\n",
      "Train MSE: 0.16850176\n",
      "Valid MSE: 0.02502211\n",
      "Next Learning Rate: 0.001\n",
      "[2.5926778, 0.37244833, 0.23017246, 0.20276253, 0.19263256, 0.18811467, 0.18479882, 0.1824884, 0.18108593, 0.17961578, 0.17826554, 0.17742711, 0.1766121, 0.17583261, 0.17518213, 0.17510386, 0.17407326, 0.17348826, 0.1729948, 0.17265652, 0.17316428, 0.17202209, 0.17274374, 0.17195682, 0.17088893, 0.17055175, 0.17024349, 0.17023127, 0.17006283, 0.1696679, 0.16940491, 0.16915867, 0.16888408, 0.1687755]\n",
      "[0.04265558, 0.03604025, 0.032059874, 0.029849654, 0.028544204, 0.0277217, 0.027195299, 0.026814854, 0.02654779, 0.026334891, 0.026174916, 0.026035534, 0.025936034, 0.025857825, 0.02579945, 0.025734369, 0.025669765, 0.025620813, 0.025576187, 0.025525212, 0.025483787, 0.025435444, 0.025410354, 0.025373105, 0.02534322, 0.025296254, 0.025262358, 0.025245244, 0.025203653, 0.025173727, 0.025141738, 0.02511366, 0.025083318, 0.025055343]\n"
     ]
    },
    {
     "name": "stderr",
     "output_type": "stream",
     "text": [
      "                                                                                                                                                                              \r"
     ]
    },
    {
     "name": "stdout",
     "output_type": "stream",
     "text": [
      "Epoch 35, total_loss=0.2349, reg_loss = 0.0691\n",
      "   87.39 s in train({'n_hidden_rhs': [], '..., ConditionalAutoEncoder..., cuda, <torch.utils.data.data..., AdamW ( Parameter Grou..., MSELoss(), 35, max_norm=100)\n",
      "   42.08 s in test({'n_hidden_rhs': [], '..., ConditionalAutoEncoder..., cuda, <torch.utils.data.data..., MSELoss())\n",
      "    8.35 s in test({'n_hidden_rhs': [], '..., ConditionalAutoEncoder..., cuda, <torch.utils.data.data..., MSELoss())\n",
      "Train MSE: 0.16907807\n",
      "Valid MSE: 0.025013106\n",
      "Next Learning Rate: 0.001\n",
      "[2.5926778, 0.37244833, 0.23017246, 0.20276253, 0.19263256, 0.18811467, 0.18479882, 0.1824884, 0.18108593, 0.17961578, 0.17826554, 0.17742711, 0.1766121, 0.17583261, 0.17518213, 0.17510386, 0.17407326, 0.17348826, 0.1729948, 0.17265652, 0.17316428, 0.17202209, 0.17274374, 0.17195682, 0.17088893, 0.17055175, 0.17024349, 0.17023127, 0.17006283, 0.1696679, 0.16940491, 0.16915867, 0.16888408, 0.1687755, 0.16850176]\n",
      "[0.04265558, 0.03604025, 0.032059874, 0.029849654, 0.028544204, 0.0277217, 0.027195299, 0.026814854, 0.02654779, 0.026334891, 0.026174916, 0.026035534, 0.025936034, 0.025857825, 0.02579945, 0.025734369, 0.025669765, 0.025620813, 0.025576187, 0.025525212, 0.025483787, 0.025435444, 0.025410354, 0.025373105, 0.02534322, 0.025296254, 0.025262358, 0.025245244, 0.025203653, 0.025173727, 0.025141738, 0.02511366, 0.025083318, 0.025055343, 0.02502211]\n"
     ]
    },
    {
     "name": "stderr",
     "output_type": "stream",
     "text": [
      "                                                                                                                                                                              \r"
     ]
    },
    {
     "name": "stdout",
     "output_type": "stream",
     "text": [
      "Epoch 36, total_loss=0.2344, reg_loss = 0.0687\n",
      "   87.19 s in train({'n_hidden_rhs': [], '..., ConditionalAutoEncoder..., cuda, <torch.utils.data.data..., AdamW ( Parameter Grou..., MSELoss(), 36, max_norm=100)\n",
      "   41.05 s in test({'n_hidden_rhs': [], '..., ConditionalAutoEncoder..., cuda, <torch.utils.data.data..., MSELoss())\n",
      "    8.61 s in test({'n_hidden_rhs': [], '..., ConditionalAutoEncoder..., cuda, <torch.utils.data.data..., MSELoss())\n",
      "Train MSE: 0.16815664\n",
      "Valid MSE: 0.024970574\n",
      "Next Learning Rate: 0.001\n",
      "[2.5926778, 0.37244833, 0.23017246, 0.20276253, 0.19263256, 0.18811467, 0.18479882, 0.1824884, 0.18108593, 0.17961578, 0.17826554, 0.17742711, 0.1766121, 0.17583261, 0.17518213, 0.17510386, 0.17407326, 0.17348826, 0.1729948, 0.17265652, 0.17316428, 0.17202209, 0.17274374, 0.17195682, 0.17088893, 0.17055175, 0.17024349, 0.17023127, 0.17006283, 0.1696679, 0.16940491, 0.16915867, 0.16888408, 0.1687755, 0.16850176, 0.16907807]\n",
      "[0.04265558, 0.03604025, 0.032059874, 0.029849654, 0.028544204, 0.0277217, 0.027195299, 0.026814854, 0.02654779, 0.026334891, 0.026174916, 0.026035534, 0.025936034, 0.025857825, 0.02579945, 0.025734369, 0.025669765, 0.025620813, 0.025576187, 0.025525212, 0.025483787, 0.025435444, 0.025410354, 0.025373105, 0.02534322, 0.025296254, 0.025262358, 0.025245244, 0.025203653, 0.025173727, 0.025141738, 0.02511366, 0.025083318, 0.025055343, 0.02502211, 0.025013106]\n"
     ]
    },
    {
     "name": "stderr",
     "output_type": "stream",
     "text": [
      "                                                                                                                                                                              \r"
     ]
    },
    {
     "name": "stdout",
     "output_type": "stream",
     "text": [
      "Epoch 37, total_loss=0.2280, reg_loss = 0.0683\n",
      "   87.94 s in train({'n_hidden_rhs': [], '..., ConditionalAutoEncoder..., cuda, <torch.utils.data.data..., AdamW ( Parameter Grou..., MSELoss(), 37, max_norm=100)\n",
      "   42.62 s in test({'n_hidden_rhs': [], '..., ConditionalAutoEncoder..., cuda, <torch.utils.data.data..., MSELoss())\n",
      "    8.70 s in test({'n_hidden_rhs': [], '..., ConditionalAutoEncoder..., cuda, <torch.utils.data.data..., MSELoss())\n",
      "Train MSE: 0.16816042\n",
      "Valid MSE: 0.024942594\n",
      "Next Learning Rate: 0.001\n",
      "[2.5926778, 0.37244833, 0.23017246, 0.20276253, 0.19263256, 0.18811467, 0.18479882, 0.1824884, 0.18108593, 0.17961578, 0.17826554, 0.17742711, 0.1766121, 0.17583261, 0.17518213, 0.17510386, 0.17407326, 0.17348826, 0.1729948, 0.17265652, 0.17316428, 0.17202209, 0.17274374, 0.17195682, 0.17088893, 0.17055175, 0.17024349, 0.17023127, 0.17006283, 0.1696679, 0.16940491, 0.16915867, 0.16888408, 0.1687755, 0.16850176, 0.16907807, 0.16815664]\n",
      "[0.04265558, 0.03604025, 0.032059874, 0.029849654, 0.028544204, 0.0277217, 0.027195299, 0.026814854, 0.02654779, 0.026334891, 0.026174916, 0.026035534, 0.025936034, 0.025857825, 0.02579945, 0.025734369, 0.025669765, 0.025620813, 0.025576187, 0.025525212, 0.025483787, 0.025435444, 0.025410354, 0.025373105, 0.02534322, 0.025296254, 0.025262358, 0.025245244, 0.025203653, 0.025173727, 0.025141738, 0.02511366, 0.025083318, 0.025055343, 0.02502211, 0.025013106, 0.024970574]\n"
     ]
    },
    {
     "name": "stderr",
     "output_type": "stream",
     "text": [
      "                                                                                                                                                                              \r"
     ]
    },
    {
     "name": "stdout",
     "output_type": "stream",
     "text": [
      "Epoch 38, total_loss=0.2285, reg_loss = 0.0679\n",
      "   86.11 s in train({'n_hidden_rhs': [], '..., ConditionalAutoEncoder..., cuda, <torch.utils.data.data..., AdamW ( Parameter Grou..., MSELoss(), 38, max_norm=100)\n",
      "   41.38 s in test({'n_hidden_rhs': [], '..., ConditionalAutoEncoder..., cuda, <torch.utils.data.data..., MSELoss())\n",
      "    8.39 s in test({'n_hidden_rhs': [], '..., ConditionalAutoEncoder..., cuda, <torch.utils.data.data..., MSELoss())\n",
      "Train MSE: 0.16789965\n",
      "Valid MSE: 0.024920389\n",
      "Next Learning Rate: 0.001\n",
      "[2.5926778, 0.37244833, 0.23017246, 0.20276253, 0.19263256, 0.18811467, 0.18479882, 0.1824884, 0.18108593, 0.17961578, 0.17826554, 0.17742711, 0.1766121, 0.17583261, 0.17518213, 0.17510386, 0.17407326, 0.17348826, 0.1729948, 0.17265652, 0.17316428, 0.17202209, 0.17274374, 0.17195682, 0.17088893, 0.17055175, 0.17024349, 0.17023127, 0.17006283, 0.1696679, 0.16940491, 0.16915867, 0.16888408, 0.1687755, 0.16850176, 0.16907807, 0.16815664, 0.16816042]\n",
      "[0.04265558, 0.03604025, 0.032059874, 0.029849654, 0.028544204, 0.0277217, 0.027195299, 0.026814854, 0.02654779, 0.026334891, 0.026174916, 0.026035534, 0.025936034, 0.025857825, 0.02579945, 0.025734369, 0.025669765, 0.025620813, 0.025576187, 0.025525212, 0.025483787, 0.025435444, 0.025410354, 0.025373105, 0.02534322, 0.025296254, 0.025262358, 0.025245244, 0.025203653, 0.025173727, 0.025141738, 0.02511366, 0.025083318, 0.025055343, 0.02502211, 0.025013106, 0.024970574, 0.024942594]\n"
     ]
    },
    {
     "name": "stderr",
     "output_type": "stream",
     "text": [
      "                                                                                                                                                                              \r"
     ]
    },
    {
     "name": "stdout",
     "output_type": "stream",
     "text": [
      "Epoch 39, total_loss=0.2312, reg_loss = 0.0675\n",
      "   87.35 s in train({'n_hidden_rhs': [], '..., ConditionalAutoEncoder..., cuda, <torch.utils.data.data..., AdamW ( Parameter Grou..., MSELoss(), 39, max_norm=100)\n",
      "   41.28 s in test({'n_hidden_rhs': [], '..., ConditionalAutoEncoder..., cuda, <torch.utils.data.data..., MSELoss())\n",
      "    8.86 s in test({'n_hidden_rhs': [], '..., ConditionalAutoEncoder..., cuda, <torch.utils.data.data..., MSELoss())\n",
      "Train MSE: 0.1677537\n",
      "Valid MSE: 0.024915528\n",
      "Next Learning Rate: 0.001\n",
      "[2.5926778, 0.37244833, 0.23017246, 0.20276253, 0.19263256, 0.18811467, 0.18479882, 0.1824884, 0.18108593, 0.17961578, 0.17826554, 0.17742711, 0.1766121, 0.17583261, 0.17518213, 0.17510386, 0.17407326, 0.17348826, 0.1729948, 0.17265652, 0.17316428, 0.17202209, 0.17274374, 0.17195682, 0.17088893, 0.17055175, 0.17024349, 0.17023127, 0.17006283, 0.1696679, 0.16940491, 0.16915867, 0.16888408, 0.1687755, 0.16850176, 0.16907807, 0.16815664, 0.16816042, 0.16789965]\n",
      "[0.04265558, 0.03604025, 0.032059874, 0.029849654, 0.028544204, 0.0277217, 0.027195299, 0.026814854, 0.02654779, 0.026334891, 0.026174916, 0.026035534, 0.025936034, 0.025857825, 0.02579945, 0.025734369, 0.025669765, 0.025620813, 0.025576187, 0.025525212, 0.025483787, 0.025435444, 0.025410354, 0.025373105, 0.02534322, 0.025296254, 0.025262358, 0.025245244, 0.025203653, 0.025173727, 0.025141738, 0.02511366, 0.025083318, 0.025055343, 0.02502211, 0.025013106, 0.024970574, 0.024942594, 0.024920389]\n"
     ]
    },
    {
     "name": "stderr",
     "output_type": "stream",
     "text": [
      "                                                                                                                                                                              \r"
     ]
    },
    {
     "name": "stdout",
     "output_type": "stream",
     "text": [
      "Epoch 40, total_loss=0.2328, reg_loss = 0.0671\n",
      "   86.37 s in train({'n_hidden_rhs': [], '..., ConditionalAutoEncoder..., cuda, <torch.utils.data.data..., AdamW ( Parameter Grou..., MSELoss(), 40, max_norm=100)\n",
      "   41.79 s in test({'n_hidden_rhs': [], '..., ConditionalAutoEncoder..., cuda, <torch.utils.data.data..., MSELoss())\n",
      "    8.89 s in test({'n_hidden_rhs': [], '..., ConditionalAutoEncoder..., cuda, <torch.utils.data.data..., MSELoss())\n",
      "Train MSE: 0.16761078\n",
      "Valid MSE: 0.024882952\n",
      "Next Learning Rate: 0.001\n",
      "[2.5926778, 0.37244833, 0.23017246, 0.20276253, 0.19263256, 0.18811467, 0.18479882, 0.1824884, 0.18108593, 0.17961578, 0.17826554, 0.17742711, 0.1766121, 0.17583261, 0.17518213, 0.17510386, 0.17407326, 0.17348826, 0.1729948, 0.17265652, 0.17316428, 0.17202209, 0.17274374, 0.17195682, 0.17088893, 0.17055175, 0.17024349, 0.17023127, 0.17006283, 0.1696679, 0.16940491, 0.16915867, 0.16888408, 0.1687755, 0.16850176, 0.16907807, 0.16815664, 0.16816042, 0.16789965, 0.1677537]\n",
      "[0.04265558, 0.03604025, 0.032059874, 0.029849654, 0.028544204, 0.0277217, 0.027195299, 0.026814854, 0.02654779, 0.026334891, 0.026174916, 0.026035534, 0.025936034, 0.025857825, 0.02579945, 0.025734369, 0.025669765, 0.025620813, 0.025576187, 0.025525212, 0.025483787, 0.025435444, 0.025410354, 0.025373105, 0.02534322, 0.025296254, 0.025262358, 0.025245244, 0.025203653, 0.025173727, 0.025141738, 0.02511366, 0.025083318, 0.025055343, 0.02502211, 0.025013106, 0.024970574, 0.024942594, 0.024920389, 0.024915528]\n"
     ]
    },
    {
     "name": "stderr",
     "output_type": "stream",
     "text": [
      "                                                                                                                                                                              \r"
     ]
    },
    {
     "name": "stdout",
     "output_type": "stream",
     "text": [
      "Epoch 41, total_loss=0.2272, reg_loss = 0.0667\n",
      "   88.66 s in train({'n_hidden_rhs': [], '..., ConditionalAutoEncoder..., cuda, <torch.utils.data.data..., AdamW ( Parameter Grou..., MSELoss(), 41, max_norm=100)\n",
      "   41.65 s in test({'n_hidden_rhs': [], '..., ConditionalAutoEncoder..., cuda, <torch.utils.data.data..., MSELoss())\n",
      "    9.63 s in test({'n_hidden_rhs': [], '..., ConditionalAutoEncoder..., cuda, <torch.utils.data.data..., MSELoss())\n",
      "Train MSE: 0.16749582\n",
      "Valid MSE: 0.024859237\n",
      "Next Learning Rate: 0.001\n",
      "[2.5926778, 0.37244833, 0.23017246, 0.20276253, 0.19263256, 0.18811467, 0.18479882, 0.1824884, 0.18108593, 0.17961578, 0.17826554, 0.17742711, 0.1766121, 0.17583261, 0.17518213, 0.17510386, 0.17407326, 0.17348826, 0.1729948, 0.17265652, 0.17316428, 0.17202209, 0.17274374, 0.17195682, 0.17088893, 0.17055175, 0.17024349, 0.17023127, 0.17006283, 0.1696679, 0.16940491, 0.16915867, 0.16888408, 0.1687755, 0.16850176, 0.16907807, 0.16815664, 0.16816042, 0.16789965, 0.1677537, 0.16761078]\n",
      "[0.04265558, 0.03604025, 0.032059874, 0.029849654, 0.028544204, 0.0277217, 0.027195299, 0.026814854, 0.02654779, 0.026334891, 0.026174916, 0.026035534, 0.025936034, 0.025857825, 0.02579945, 0.025734369, 0.025669765, 0.025620813, 0.025576187, 0.025525212, 0.025483787, 0.025435444, 0.025410354, 0.025373105, 0.02534322, 0.025296254, 0.025262358, 0.025245244, 0.025203653, 0.025173727, 0.025141738, 0.02511366, 0.025083318, 0.025055343, 0.02502211, 0.025013106, 0.024970574, 0.024942594, 0.024920389, 0.024915528, 0.024882952]\n"
     ]
    },
    {
     "name": "stderr",
     "output_type": "stream",
     "text": [
      "                                                                                                                                                                              \r"
     ]
    },
    {
     "name": "stdout",
     "output_type": "stream",
     "text": [
      "Epoch 42, total_loss=0.2287, reg_loss = 0.0663\n",
      "   87.25 s in train({'n_hidden_rhs': [], '..., ConditionalAutoEncoder..., cuda, <torch.utils.data.data..., AdamW ( Parameter Grou..., MSELoss(), 42, max_norm=100)\n",
      "   41.60 s in test({'n_hidden_rhs': [], '..., ConditionalAutoEncoder..., cuda, <torch.utils.data.data..., MSELoss())\n",
      "    8.50 s in test({'n_hidden_rhs': [], '..., ConditionalAutoEncoder..., cuda, <torch.utils.data.data..., MSELoss())\n",
      "Train MSE: 0.16763149\n",
      "Valid MSE: 0.02483645\n",
      "Next Learning Rate: 0.001\n",
      "[2.5926778, 0.37244833, 0.23017246, 0.20276253, 0.19263256, 0.18811467, 0.18479882, 0.1824884, 0.18108593, 0.17961578, 0.17826554, 0.17742711, 0.1766121, 0.17583261, 0.17518213, 0.17510386, 0.17407326, 0.17348826, 0.1729948, 0.17265652, 0.17316428, 0.17202209, 0.17274374, 0.17195682, 0.17088893, 0.17055175, 0.17024349, 0.17023127, 0.17006283, 0.1696679, 0.16940491, 0.16915867, 0.16888408, 0.1687755, 0.16850176, 0.16907807, 0.16815664, 0.16816042, 0.16789965, 0.1677537, 0.16761078, 0.16749582]\n",
      "[0.04265558, 0.03604025, 0.032059874, 0.029849654, 0.028544204, 0.0277217, 0.027195299, 0.026814854, 0.02654779, 0.026334891, 0.026174916, 0.026035534, 0.025936034, 0.025857825, 0.02579945, 0.025734369, 0.025669765, 0.025620813, 0.025576187, 0.025525212, 0.025483787, 0.025435444, 0.025410354, 0.025373105, 0.02534322, 0.025296254, 0.025262358, 0.025245244, 0.025203653, 0.025173727, 0.025141738, 0.02511366, 0.025083318, 0.025055343, 0.02502211, 0.025013106, 0.024970574, 0.024942594, 0.024920389, 0.024915528, 0.024882952, 0.024859237]\n"
     ]
    },
    {
     "name": "stderr",
     "output_type": "stream",
     "text": [
      "                                                                                                                                                                              \r"
     ]
    },
    {
     "name": "stdout",
     "output_type": "stream",
     "text": [
      "Epoch 43, total_loss=0.2270, reg_loss = 0.0660\n",
      "   86.57 s in train({'n_hidden_rhs': [], '..., ConditionalAutoEncoder..., cuda, <torch.utils.data.data..., AdamW ( Parameter Grou..., MSELoss(), 43, max_norm=100)\n",
      "   42.18 s in test({'n_hidden_rhs': [], '..., ConditionalAutoEncoder..., cuda, <torch.utils.data.data..., MSELoss())\n",
      "    9.21 s in test({'n_hidden_rhs': [], '..., ConditionalAutoEncoder..., cuda, <torch.utils.data.data..., MSELoss())\n",
      "Train MSE: 0.1672898\n",
      "Valid MSE: 0.024829926\n",
      "Next Learning Rate: 0.001\n",
      "[2.5926778, 0.37244833, 0.23017246, 0.20276253, 0.19263256, 0.18811467, 0.18479882, 0.1824884, 0.18108593, 0.17961578, 0.17826554, 0.17742711, 0.1766121, 0.17583261, 0.17518213, 0.17510386, 0.17407326, 0.17348826, 0.1729948, 0.17265652, 0.17316428, 0.17202209, 0.17274374, 0.17195682, 0.17088893, 0.17055175, 0.17024349, 0.17023127, 0.17006283, 0.1696679, 0.16940491, 0.16915867, 0.16888408, 0.1687755, 0.16850176, 0.16907807, 0.16815664, 0.16816042, 0.16789965, 0.1677537, 0.16761078, 0.16749582, 0.16763149]\n",
      "[0.04265558, 0.03604025, 0.032059874, 0.029849654, 0.028544204, 0.0277217, 0.027195299, 0.026814854, 0.02654779, 0.026334891, 0.026174916, 0.026035534, 0.025936034, 0.025857825, 0.02579945, 0.025734369, 0.025669765, 0.025620813, 0.025576187, 0.025525212, 0.025483787, 0.025435444, 0.025410354, 0.025373105, 0.02534322, 0.025296254, 0.025262358, 0.025245244, 0.025203653, 0.025173727, 0.025141738, 0.02511366, 0.025083318, 0.025055343, 0.02502211, 0.025013106, 0.024970574, 0.024942594, 0.024920389, 0.024915528, 0.024882952, 0.024859237, 0.02483645]\n"
     ]
    },
    {
     "name": "stderr",
     "output_type": "stream",
     "text": [
      "                                                                                                                                                                              \r"
     ]
    },
    {
     "name": "stdout",
     "output_type": "stream",
     "text": [
      "Epoch 44, total_loss=0.3204, reg_loss = 0.0656\n",
      "   87.54 s in train({'n_hidden_rhs': [], '..., ConditionalAutoEncoder..., cuda, <torch.utils.data.data..., AdamW ( Parameter Grou..., MSELoss(), 44, max_norm=100)\n",
      "   41.88 s in test({'n_hidden_rhs': [], '..., ConditionalAutoEncoder..., cuda, <torch.utils.data.data..., MSELoss())\n",
      "    9.01 s in test({'n_hidden_rhs': [], '..., ConditionalAutoEncoder..., cuda, <torch.utils.data.data..., MSELoss())\n",
      "Train MSE: 0.16731104\n",
      "Valid MSE: 0.02480335\n",
      "Next Learning Rate: 0.001\n",
      "[2.5926778, 0.37244833, 0.23017246, 0.20276253, 0.19263256, 0.18811467, 0.18479882, 0.1824884, 0.18108593, 0.17961578, 0.17826554, 0.17742711, 0.1766121, 0.17583261, 0.17518213, 0.17510386, 0.17407326, 0.17348826, 0.1729948, 0.17265652, 0.17316428, 0.17202209, 0.17274374, 0.17195682, 0.17088893, 0.17055175, 0.17024349, 0.17023127, 0.17006283, 0.1696679, 0.16940491, 0.16915867, 0.16888408, 0.1687755, 0.16850176, 0.16907807, 0.16815664, 0.16816042, 0.16789965, 0.1677537, 0.16761078, 0.16749582, 0.16763149, 0.1672898]\n",
      "[0.04265558, 0.03604025, 0.032059874, 0.029849654, 0.028544204, 0.0277217, 0.027195299, 0.026814854, 0.02654779, 0.026334891, 0.026174916, 0.026035534, 0.025936034, 0.025857825, 0.02579945, 0.025734369, 0.025669765, 0.025620813, 0.025576187, 0.025525212, 0.025483787, 0.025435444, 0.025410354, 0.025373105, 0.02534322, 0.025296254, 0.025262358, 0.025245244, 0.025203653, 0.025173727, 0.025141738, 0.02511366, 0.025083318, 0.025055343, 0.02502211, 0.025013106, 0.024970574, 0.024942594, 0.024920389, 0.024915528, 0.024882952, 0.024859237, 0.02483645, 0.024829926]\n"
     ]
    },
    {
     "name": "stderr",
     "output_type": "stream",
     "text": [
      "                                                                                                                                                                              \r"
     ]
    },
    {
     "name": "stdout",
     "output_type": "stream",
     "text": [
      "Epoch 45, total_loss=0.2245, reg_loss = 0.0654\n",
      "   86.74 s in train({'n_hidden_rhs': [], '..., ConditionalAutoEncoder..., cuda, <torch.utils.data.data..., AdamW ( Parameter Grou..., MSELoss(), 45, max_norm=100)\n",
      "   41.82 s in test({'n_hidden_rhs': [], '..., ConditionalAutoEncoder..., cuda, <torch.utils.data.data..., MSELoss())\n",
      "    8.85 s in test({'n_hidden_rhs': [], '..., ConditionalAutoEncoder..., cuda, <torch.utils.data.data..., MSELoss())\n",
      "Train MSE: 0.16709438\n",
      "Valid MSE: 0.02480911\n",
      "Next Learning Rate: 0.001\n",
      "[2.5926778, 0.37244833, 0.23017246, 0.20276253, 0.19263256, 0.18811467, 0.18479882, 0.1824884, 0.18108593, 0.17961578, 0.17826554, 0.17742711, 0.1766121, 0.17583261, 0.17518213, 0.17510386, 0.17407326, 0.17348826, 0.1729948, 0.17265652, 0.17316428, 0.17202209, 0.17274374, 0.17195682, 0.17088893, 0.17055175, 0.17024349, 0.17023127, 0.17006283, 0.1696679, 0.16940491, 0.16915867, 0.16888408, 0.1687755, 0.16850176, 0.16907807, 0.16815664, 0.16816042, 0.16789965, 0.1677537, 0.16761078, 0.16749582, 0.16763149, 0.1672898, 0.16731104]\n",
      "[0.04265558, 0.03604025, 0.032059874, 0.029849654, 0.028544204, 0.0277217, 0.027195299, 0.026814854, 0.02654779, 0.026334891, 0.026174916, 0.026035534, 0.025936034, 0.025857825, 0.02579945, 0.025734369, 0.025669765, 0.025620813, 0.025576187, 0.025525212, 0.025483787, 0.025435444, 0.025410354, 0.025373105, 0.02534322, 0.025296254, 0.025262358, 0.025245244, 0.025203653, 0.025173727, 0.025141738, 0.02511366, 0.025083318, 0.025055343, 0.02502211, 0.025013106, 0.024970574, 0.024942594, 0.024920389, 0.024915528, 0.024882952, 0.024859237, 0.02483645, 0.024829926, 0.02480335]\n"
     ]
    },
    {
     "name": "stderr",
     "output_type": "stream",
     "text": [
      "                                                                                                                                                                              \r"
     ]
    },
    {
     "name": "stdout",
     "output_type": "stream",
     "text": [
      "Epoch 46, total_loss=0.2266, reg_loss = 0.0649\n",
      "   88.09 s in train({'n_hidden_rhs': [], '..., ConditionalAutoEncoder..., cuda, <torch.utils.data.data..., AdamW ( Parameter Grou..., MSELoss(), 46, max_norm=100)\n",
      "   42.43 s in test({'n_hidden_rhs': [], '..., ConditionalAutoEncoder..., cuda, <torch.utils.data.data..., MSELoss())\n",
      "    8.78 s in test({'n_hidden_rhs': [], '..., ConditionalAutoEncoder..., cuda, <torch.utils.data.data..., MSELoss())\n",
      "Train MSE: 0.16714007\n",
      "Valid MSE: 0.02477\n",
      "Next Learning Rate: 0.001\n",
      "[2.5926778, 0.37244833, 0.23017246, 0.20276253, 0.19263256, 0.18811467, 0.18479882, 0.1824884, 0.18108593, 0.17961578, 0.17826554, 0.17742711, 0.1766121, 0.17583261, 0.17518213, 0.17510386, 0.17407326, 0.17348826, 0.1729948, 0.17265652, 0.17316428, 0.17202209, 0.17274374, 0.17195682, 0.17088893, 0.17055175, 0.17024349, 0.17023127, 0.17006283, 0.1696679, 0.16940491, 0.16915867, 0.16888408, 0.1687755, 0.16850176, 0.16907807, 0.16815664, 0.16816042, 0.16789965, 0.1677537, 0.16761078, 0.16749582, 0.16763149, 0.1672898, 0.16731104, 0.16709438]\n",
      "[0.04265558, 0.03604025, 0.032059874, 0.029849654, 0.028544204, 0.0277217, 0.027195299, 0.026814854, 0.02654779, 0.026334891, 0.026174916, 0.026035534, 0.025936034, 0.025857825, 0.02579945, 0.025734369, 0.025669765, 0.025620813, 0.025576187, 0.025525212, 0.025483787, 0.025435444, 0.025410354, 0.025373105, 0.02534322, 0.025296254, 0.025262358, 0.025245244, 0.025203653, 0.025173727, 0.025141738, 0.02511366, 0.025083318, 0.025055343, 0.02502211, 0.025013106, 0.024970574, 0.024942594, 0.024920389, 0.024915528, 0.024882952, 0.024859237, 0.02483645, 0.024829926, 0.02480335, 0.02480911]\n"
     ]
    },
    {
     "name": "stderr",
     "output_type": "stream",
     "text": [
      "                                                                                                                                                                              \r"
     ]
    },
    {
     "name": "stdout",
     "output_type": "stream",
     "text": [
      "Epoch 47, total_loss=0.2279, reg_loss = 0.0644\n",
      "   87.19 s in train({'n_hidden_rhs': [], '..., ConditionalAutoEncoder..., cuda, <torch.utils.data.data..., AdamW ( Parameter Grou..., MSELoss(), 47, max_norm=100)\n",
      "   42.37 s in test({'n_hidden_rhs': [], '..., ConditionalAutoEncoder..., cuda, <torch.utils.data.data..., MSELoss())\n",
      "    8.44 s in test({'n_hidden_rhs': [], '..., ConditionalAutoEncoder..., cuda, <torch.utils.data.data..., MSELoss())\n",
      "Train MSE: 0.16692887\n",
      "Valid MSE: 0.02476917\n",
      "Next Learning Rate: 0.001\n",
      "[2.5926778, 0.37244833, 0.23017246, 0.20276253, 0.19263256, 0.18811467, 0.18479882, 0.1824884, 0.18108593, 0.17961578, 0.17826554, 0.17742711, 0.1766121, 0.17583261, 0.17518213, 0.17510386, 0.17407326, 0.17348826, 0.1729948, 0.17265652, 0.17316428, 0.17202209, 0.17274374, 0.17195682, 0.17088893, 0.17055175, 0.17024349, 0.17023127, 0.17006283, 0.1696679, 0.16940491, 0.16915867, 0.16888408, 0.1687755, 0.16850176, 0.16907807, 0.16815664, 0.16816042, 0.16789965, 0.1677537, 0.16761078, 0.16749582, 0.16763149, 0.1672898, 0.16731104, 0.16709438, 0.16714007]\n",
      "[0.04265558, 0.03604025, 0.032059874, 0.029849654, 0.028544204, 0.0277217, 0.027195299, 0.026814854, 0.02654779, 0.026334891, 0.026174916, 0.026035534, 0.025936034, 0.025857825, 0.02579945, 0.025734369, 0.025669765, 0.025620813, 0.025576187, 0.025525212, 0.025483787, 0.025435444, 0.025410354, 0.025373105, 0.02534322, 0.025296254, 0.025262358, 0.025245244, 0.025203653, 0.025173727, 0.025141738, 0.02511366, 0.025083318, 0.025055343, 0.02502211, 0.025013106, 0.024970574, 0.024942594, 0.024920389, 0.024915528, 0.024882952, 0.024859237, 0.02483645, 0.024829926, 0.02480335, 0.02480911, 0.02477]\n"
     ]
    },
    {
     "name": "stderr",
     "output_type": "stream",
     "text": [
      "                                                                                                                                                                              \r"
     ]
    },
    {
     "name": "stdout",
     "output_type": "stream",
     "text": [
      "Epoch 48, total_loss=0.2253, reg_loss = 0.0640\n",
      "   88.17 s in train({'n_hidden_rhs': [], '..., ConditionalAutoEncoder..., cuda, <torch.utils.data.data..., AdamW ( Parameter Grou..., MSELoss(), 48, max_norm=100)\n",
      "   42.40 s in test({'n_hidden_rhs': [], '..., ConditionalAutoEncoder..., cuda, <torch.utils.data.data..., MSELoss())\n",
      "    8.97 s in test({'n_hidden_rhs': [], '..., ConditionalAutoEncoder..., cuda, <torch.utils.data.data..., MSELoss())\n",
      "Train MSE: 0.16686656\n",
      "Valid MSE: 0.024747228\n",
      "Next Learning Rate: 0.001\n",
      "[2.5926778, 0.37244833, 0.23017246, 0.20276253, 0.19263256, 0.18811467, 0.18479882, 0.1824884, 0.18108593, 0.17961578, 0.17826554, 0.17742711, 0.1766121, 0.17583261, 0.17518213, 0.17510386, 0.17407326, 0.17348826, 0.1729948, 0.17265652, 0.17316428, 0.17202209, 0.17274374, 0.17195682, 0.17088893, 0.17055175, 0.17024349, 0.17023127, 0.17006283, 0.1696679, 0.16940491, 0.16915867, 0.16888408, 0.1687755, 0.16850176, 0.16907807, 0.16815664, 0.16816042, 0.16789965, 0.1677537, 0.16761078, 0.16749582, 0.16763149, 0.1672898, 0.16731104, 0.16709438, 0.16714007, 0.16692887]\n",
      "[0.04265558, 0.03604025, 0.032059874, 0.029849654, 0.028544204, 0.0277217, 0.027195299, 0.026814854, 0.02654779, 0.026334891, 0.026174916, 0.026035534, 0.025936034, 0.025857825, 0.02579945, 0.025734369, 0.025669765, 0.025620813, 0.025576187, 0.025525212, 0.025483787, 0.025435444, 0.025410354, 0.025373105, 0.02534322, 0.025296254, 0.025262358, 0.025245244, 0.025203653, 0.025173727, 0.025141738, 0.02511366, 0.025083318, 0.025055343, 0.02502211, 0.025013106, 0.024970574, 0.024942594, 0.024920389, 0.024915528, 0.024882952, 0.024859237, 0.02483645, 0.024829926, 0.02480335, 0.02480911, 0.02477, 0.02476917]\n"
     ]
    },
    {
     "name": "stderr",
     "output_type": "stream",
     "text": [
      "                                                                                                                                                                              \r"
     ]
    },
    {
     "name": "stdout",
     "output_type": "stream",
     "text": [
      "Epoch 49, total_loss=0.2234, reg_loss = 0.0636\n",
      "   85.93 s in train({'n_hidden_rhs': [], '..., ConditionalAutoEncoder..., cuda, <torch.utils.data.data..., AdamW ( Parameter Grou..., MSELoss(), 49, max_norm=100)\n",
      "   41.20 s in test({'n_hidden_rhs': [], '..., ConditionalAutoEncoder..., cuda, <torch.utils.data.data..., MSELoss())\n",
      "    9.51 s in test({'n_hidden_rhs': [], '..., ConditionalAutoEncoder..., cuda, <torch.utils.data.data..., MSELoss())\n",
      "Train MSE: 0.16675751\n",
      "Valid MSE: 0.024725957\n",
      "Next Learning Rate: 0.001\n",
      "[2.5926778, 0.37244833, 0.23017246, 0.20276253, 0.19263256, 0.18811467, 0.18479882, 0.1824884, 0.18108593, 0.17961578, 0.17826554, 0.17742711, 0.1766121, 0.17583261, 0.17518213, 0.17510386, 0.17407326, 0.17348826, 0.1729948, 0.17265652, 0.17316428, 0.17202209, 0.17274374, 0.17195682, 0.17088893, 0.17055175, 0.17024349, 0.17023127, 0.17006283, 0.1696679, 0.16940491, 0.16915867, 0.16888408, 0.1687755, 0.16850176, 0.16907807, 0.16815664, 0.16816042, 0.16789965, 0.1677537, 0.16761078, 0.16749582, 0.16763149, 0.1672898, 0.16731104, 0.16709438, 0.16714007, 0.16692887, 0.16686656]\n",
      "[0.04265558, 0.03604025, 0.032059874, 0.029849654, 0.028544204, 0.0277217, 0.027195299, 0.026814854, 0.02654779, 0.026334891, 0.026174916, 0.026035534, 0.025936034, 0.025857825, 0.02579945, 0.025734369, 0.025669765, 0.025620813, 0.025576187, 0.025525212, 0.025483787, 0.025435444, 0.025410354, 0.025373105, 0.02534322, 0.025296254, 0.025262358, 0.025245244, 0.025203653, 0.025173727, 0.025141738, 0.02511366, 0.025083318, 0.025055343, 0.02502211, 0.025013106, 0.024970574, 0.024942594, 0.024920389, 0.024915528, 0.024882952, 0.024859237, 0.02483645, 0.024829926, 0.02480335, 0.02480911, 0.02477, 0.02476917, 0.024747228]\n"
     ]
    },
    {
     "name": "stderr",
     "output_type": "stream",
     "text": [
      "                                                                                                                                                                              \r"
     ]
    },
    {
     "name": "stdout",
     "output_type": "stream",
     "text": [
      "Epoch 50, total_loss=0.2236, reg_loss = 0.0632\n",
      "   87.78 s in train({'n_hidden_rhs': [], '..., ConditionalAutoEncoder..., cuda, <torch.utils.data.data..., AdamW ( Parameter Grou..., MSELoss(), 50, max_norm=100)\n",
      "   41.88 s in test({'n_hidden_rhs': [], '..., ConditionalAutoEncoder..., cuda, <torch.utils.data.data..., MSELoss())\n",
      "    8.99 s in test({'n_hidden_rhs': [], '..., ConditionalAutoEncoder..., cuda, <torch.utils.data.data..., MSELoss())\n",
      "Train MSE: 0.16686328\n",
      "Valid MSE: 0.024719413\n",
      "Next Learning Rate: 0.001\n",
      "[2.5926778, 0.37244833, 0.23017246, 0.20276253, 0.19263256, 0.18811467, 0.18479882, 0.1824884, 0.18108593, 0.17961578, 0.17826554, 0.17742711, 0.1766121, 0.17583261, 0.17518213, 0.17510386, 0.17407326, 0.17348826, 0.1729948, 0.17265652, 0.17316428, 0.17202209, 0.17274374, 0.17195682, 0.17088893, 0.17055175, 0.17024349, 0.17023127, 0.17006283, 0.1696679, 0.16940491, 0.16915867, 0.16888408, 0.1687755, 0.16850176, 0.16907807, 0.16815664, 0.16816042, 0.16789965, 0.1677537, 0.16761078, 0.16749582, 0.16763149, 0.1672898, 0.16731104, 0.16709438, 0.16714007, 0.16692887, 0.16686656, 0.16675751]\n",
      "[0.04265558, 0.03604025, 0.032059874, 0.029849654, 0.028544204, 0.0277217, 0.027195299, 0.026814854, 0.02654779, 0.026334891, 0.026174916, 0.026035534, 0.025936034, 0.025857825, 0.02579945, 0.025734369, 0.025669765, 0.025620813, 0.025576187, 0.025525212, 0.025483787, 0.025435444, 0.025410354, 0.025373105, 0.02534322, 0.025296254, 0.025262358, 0.025245244, 0.025203653, 0.025173727, 0.025141738, 0.02511366, 0.025083318, 0.025055343, 0.02502211, 0.025013106, 0.024970574, 0.024942594, 0.024920389, 0.024915528, 0.024882952, 0.024859237, 0.02483645, 0.024829926, 0.02480335, 0.02480911, 0.02477, 0.02476917, 0.024747228, 0.024725957]\n"
     ]
    },
    {
     "name": "stderr",
     "output_type": "stream",
     "text": [
      "                                                                                                                                                                              \r"
     ]
    },
    {
     "name": "stdout",
     "output_type": "stream",
     "text": [
      "Epoch 51, total_loss=0.2420, reg_loss = 0.0628\n",
      "   85.86 s in train({'n_hidden_rhs': [], '..., ConditionalAutoEncoder..., cuda, <torch.utils.data.data..., AdamW ( Parameter Grou..., MSELoss(), 51, max_norm=100)\n",
      "   41.99 s in test({'n_hidden_rhs': [], '..., ConditionalAutoEncoder..., cuda, <torch.utils.data.data..., MSELoss())\n",
      "    9.07 s in test({'n_hidden_rhs': [], '..., ConditionalAutoEncoder..., cuda, <torch.utils.data.data..., MSELoss())\n",
      "Train MSE: 0.16679579\n",
      "Valid MSE: 0.024695639\n",
      "Next Learning Rate: 0.001\n",
      "[2.5926778, 0.37244833, 0.23017246, 0.20276253, 0.19263256, 0.18811467, 0.18479882, 0.1824884, 0.18108593, 0.17961578, 0.17826554, 0.17742711, 0.1766121, 0.17583261, 0.17518213, 0.17510386, 0.17407326, 0.17348826, 0.1729948, 0.17265652, 0.17316428, 0.17202209, 0.17274374, 0.17195682, 0.17088893, 0.17055175, 0.17024349, 0.17023127, 0.17006283, 0.1696679, 0.16940491, 0.16915867, 0.16888408, 0.1687755, 0.16850176, 0.16907807, 0.16815664, 0.16816042, 0.16789965, 0.1677537, 0.16761078, 0.16749582, 0.16763149, 0.1672898, 0.16731104, 0.16709438, 0.16714007, 0.16692887, 0.16686656, 0.16675751, 0.16686328]\n",
      "[0.04265558, 0.03604025, 0.032059874, 0.029849654, 0.028544204, 0.0277217, 0.027195299, 0.026814854, 0.02654779, 0.026334891, 0.026174916, 0.026035534, 0.025936034, 0.025857825, 0.02579945, 0.025734369, 0.025669765, 0.025620813, 0.025576187, 0.025525212, 0.025483787, 0.025435444, 0.025410354, 0.025373105, 0.02534322, 0.025296254, 0.025262358, 0.025245244, 0.025203653, 0.025173727, 0.025141738, 0.02511366, 0.025083318, 0.025055343, 0.02502211, 0.025013106, 0.024970574, 0.024942594, 0.024920389, 0.024915528, 0.024882952, 0.024859237, 0.02483645, 0.024829926, 0.02480335, 0.02480911, 0.02477, 0.02476917, 0.024747228, 0.024725957, 0.024719413]\n"
     ]
    },
    {
     "name": "stderr",
     "output_type": "stream",
     "text": [
      "                                                                                                                                                                              \r"
     ]
    },
    {
     "name": "stdout",
     "output_type": "stream",
     "text": [
      "Epoch 52, total_loss=0.2250, reg_loss = 0.0625\n",
      "   88.51 s in train({'n_hidden_rhs': [], '..., ConditionalAutoEncoder..., cuda, <torch.utils.data.data..., AdamW ( Parameter Grou..., MSELoss(), 52, max_norm=100)\n",
      "   42.54 s in test({'n_hidden_rhs': [], '..., ConditionalAutoEncoder..., cuda, <torch.utils.data.data..., MSELoss())\n",
      "    8.79 s in test({'n_hidden_rhs': [], '..., ConditionalAutoEncoder..., cuda, <torch.utils.data.data..., MSELoss())\n",
      "Train MSE: 0.16785778\n",
      "Valid MSE: 0.024672695\n",
      "Next Learning Rate: 0.001\n",
      "[2.5926778, 0.37244833, 0.23017246, 0.20276253, 0.19263256, 0.18811467, 0.18479882, 0.1824884, 0.18108593, 0.17961578, 0.17826554, 0.17742711, 0.1766121, 0.17583261, 0.17518213, 0.17510386, 0.17407326, 0.17348826, 0.1729948, 0.17265652, 0.17316428, 0.17202209, 0.17274374, 0.17195682, 0.17088893, 0.17055175, 0.17024349, 0.17023127, 0.17006283, 0.1696679, 0.16940491, 0.16915867, 0.16888408, 0.1687755, 0.16850176, 0.16907807, 0.16815664, 0.16816042, 0.16789965, 0.1677537, 0.16761078, 0.16749582, 0.16763149, 0.1672898, 0.16731104, 0.16709438, 0.16714007, 0.16692887, 0.16686656, 0.16675751, 0.16686328, 0.16679579]\n",
      "[0.04265558, 0.03604025, 0.032059874, 0.029849654, 0.028544204, 0.0277217, 0.027195299, 0.026814854, 0.02654779, 0.026334891, 0.026174916, 0.026035534, 0.025936034, 0.025857825, 0.02579945, 0.025734369, 0.025669765, 0.025620813, 0.025576187, 0.025525212, 0.025483787, 0.025435444, 0.025410354, 0.025373105, 0.02534322, 0.025296254, 0.025262358, 0.025245244, 0.025203653, 0.025173727, 0.025141738, 0.02511366, 0.025083318, 0.025055343, 0.02502211, 0.025013106, 0.024970574, 0.024942594, 0.024920389, 0.024915528, 0.024882952, 0.024859237, 0.02483645, 0.024829926, 0.02480335, 0.02480911, 0.02477, 0.02476917, 0.024747228, 0.024725957, 0.024719413, 0.024695639]\n"
     ]
    },
    {
     "name": "stderr",
     "output_type": "stream",
     "text": [
      "                                                                                                                                                                              \r"
     ]
    },
    {
     "name": "stdout",
     "output_type": "stream",
     "text": [
      "Epoch 53, total_loss=0.2224, reg_loss = 0.0621\n",
      "   88.33 s in train({'n_hidden_rhs': [], '..., ConditionalAutoEncoder..., cuda, <torch.utils.data.data..., AdamW ( Parameter Grou..., MSELoss(), 53, max_norm=100)\n",
      "   42.48 s in test({'n_hidden_rhs': [], '..., ConditionalAutoEncoder..., cuda, <torch.utils.data.data..., MSELoss())\n",
      "    8.84 s in test({'n_hidden_rhs': [], '..., ConditionalAutoEncoder..., cuda, <torch.utils.data.data..., MSELoss())\n",
      "Train MSE: 0.16753465\n",
      "Valid MSE: 0.02465045\n",
      "Next Learning Rate: 0.001\n",
      "[2.5926778, 0.37244833, 0.23017246, 0.20276253, 0.19263256, 0.18811467, 0.18479882, 0.1824884, 0.18108593, 0.17961578, 0.17826554, 0.17742711, 0.1766121, 0.17583261, 0.17518213, 0.17510386, 0.17407326, 0.17348826, 0.1729948, 0.17265652, 0.17316428, 0.17202209, 0.17274374, 0.17195682, 0.17088893, 0.17055175, 0.17024349, 0.17023127, 0.17006283, 0.1696679, 0.16940491, 0.16915867, 0.16888408, 0.1687755, 0.16850176, 0.16907807, 0.16815664, 0.16816042, 0.16789965, 0.1677537, 0.16761078, 0.16749582, 0.16763149, 0.1672898, 0.16731104, 0.16709438, 0.16714007, 0.16692887, 0.16686656, 0.16675751, 0.16686328, 0.16679579, 0.16785778]\n",
      "[0.04265558, 0.03604025, 0.032059874, 0.029849654, 0.028544204, 0.0277217, 0.027195299, 0.026814854, 0.02654779, 0.026334891, 0.026174916, 0.026035534, 0.025936034, 0.025857825, 0.02579945, 0.025734369, 0.025669765, 0.025620813, 0.025576187, 0.025525212, 0.025483787, 0.025435444, 0.025410354, 0.025373105, 0.02534322, 0.025296254, 0.025262358, 0.025245244, 0.025203653, 0.025173727, 0.025141738, 0.02511366, 0.025083318, 0.025055343, 0.02502211, 0.025013106, 0.024970574, 0.024942594, 0.024920389, 0.024915528, 0.024882952, 0.024859237, 0.02483645, 0.024829926, 0.02480335, 0.02480911, 0.02477, 0.02476917, 0.024747228, 0.024725957, 0.024719413, 0.024695639, 0.024672695]\n"
     ]
    },
    {
     "name": "stderr",
     "output_type": "stream",
     "text": [
      "                                                                                                                                                                              \r"
     ]
    },
    {
     "name": "stdout",
     "output_type": "stream",
     "text": [
      "Epoch 54, total_loss=0.2227, reg_loss = 0.0617\n",
      "   87.13 s in train({'n_hidden_rhs': [], '..., ConditionalAutoEncoder..., cuda, <torch.utils.data.data..., AdamW ( Parameter Grou..., MSELoss(), 54, max_norm=100)\n",
      "   42.03 s in test({'n_hidden_rhs': [], '..., ConditionalAutoEncoder..., cuda, <torch.utils.data.data..., MSELoss())\n",
      "    8.85 s in test({'n_hidden_rhs': [], '..., ConditionalAutoEncoder..., cuda, <torch.utils.data.data..., MSELoss())\n",
      "Train MSE: 0.16721845\n",
      "Valid MSE: 0.024654226\n",
      "Next Learning Rate: 0.001\n",
      "[2.5926778, 0.37244833, 0.23017246, 0.20276253, 0.19263256, 0.18811467, 0.18479882, 0.1824884, 0.18108593, 0.17961578, 0.17826554, 0.17742711, 0.1766121, 0.17583261, 0.17518213, 0.17510386, 0.17407326, 0.17348826, 0.1729948, 0.17265652, 0.17316428, 0.17202209, 0.17274374, 0.17195682, 0.17088893, 0.17055175, 0.17024349, 0.17023127, 0.17006283, 0.1696679, 0.16940491, 0.16915867, 0.16888408, 0.1687755, 0.16850176, 0.16907807, 0.16815664, 0.16816042, 0.16789965, 0.1677537, 0.16761078, 0.16749582, 0.16763149, 0.1672898, 0.16731104, 0.16709438, 0.16714007, 0.16692887, 0.16686656, 0.16675751, 0.16686328, 0.16679579, 0.16785778, 0.16753465]\n",
      "[0.04265558, 0.03604025, 0.032059874, 0.029849654, 0.028544204, 0.0277217, 0.027195299, 0.026814854, 0.02654779, 0.026334891, 0.026174916, 0.026035534, 0.025936034, 0.025857825, 0.02579945, 0.025734369, 0.025669765, 0.025620813, 0.025576187, 0.025525212, 0.025483787, 0.025435444, 0.025410354, 0.025373105, 0.02534322, 0.025296254, 0.025262358, 0.025245244, 0.025203653, 0.025173727, 0.025141738, 0.02511366, 0.025083318, 0.025055343, 0.02502211, 0.025013106, 0.024970574, 0.024942594, 0.024920389, 0.024915528, 0.024882952, 0.024859237, 0.02483645, 0.024829926, 0.02480335, 0.02480911, 0.02477, 0.02476917, 0.024747228, 0.024725957, 0.024719413, 0.024695639, 0.024672695, 0.02465045]\n"
     ]
    },
    {
     "name": "stderr",
     "output_type": "stream",
     "text": [
      "                                                                                                                                                                              \r"
     ]
    },
    {
     "name": "stdout",
     "output_type": "stream",
     "text": [
      "Epoch 55, total_loss=0.3121, reg_loss = 0.0613\n",
      "   88.07 s in train({'n_hidden_rhs': [], '..., ConditionalAutoEncoder..., cuda, <torch.utils.data.data..., AdamW ( Parameter Grou..., MSELoss(), 55, max_norm=100)\n",
      "   42.74 s in test({'n_hidden_rhs': [], '..., ConditionalAutoEncoder..., cuda, <torch.utils.data.data..., MSELoss())\n",
      "    8.76 s in test({'n_hidden_rhs': [], '..., ConditionalAutoEncoder..., cuda, <torch.utils.data.data..., MSELoss())\n",
      "Train MSE: 0.1669915\n",
      "Valid MSE: 0.024649223\n",
      "Next Learning Rate: 0.001\n",
      "[2.5926778, 0.37244833, 0.23017246, 0.20276253, 0.19263256, 0.18811467, 0.18479882, 0.1824884, 0.18108593, 0.17961578, 0.17826554, 0.17742711, 0.1766121, 0.17583261, 0.17518213, 0.17510386, 0.17407326, 0.17348826, 0.1729948, 0.17265652, 0.17316428, 0.17202209, 0.17274374, 0.17195682, 0.17088893, 0.17055175, 0.17024349, 0.17023127, 0.17006283, 0.1696679, 0.16940491, 0.16915867, 0.16888408, 0.1687755, 0.16850176, 0.16907807, 0.16815664, 0.16816042, 0.16789965, 0.1677537, 0.16761078, 0.16749582, 0.16763149, 0.1672898, 0.16731104, 0.16709438, 0.16714007, 0.16692887, 0.16686656, 0.16675751, 0.16686328, 0.16679579, 0.16785778, 0.16753465, 0.16721845]\n",
      "[0.04265558, 0.03604025, 0.032059874, 0.029849654, 0.028544204, 0.0277217, 0.027195299, 0.026814854, 0.02654779, 0.026334891, 0.026174916, 0.026035534, 0.025936034, 0.025857825, 0.02579945, 0.025734369, 0.025669765, 0.025620813, 0.025576187, 0.025525212, 0.025483787, 0.025435444, 0.025410354, 0.025373105, 0.02534322, 0.025296254, 0.025262358, 0.025245244, 0.025203653, 0.025173727, 0.025141738, 0.02511366, 0.025083318, 0.025055343, 0.02502211, 0.025013106, 0.024970574, 0.024942594, 0.024920389, 0.024915528, 0.024882952, 0.024859237, 0.02483645, 0.024829926, 0.02480335, 0.02480911, 0.02477, 0.02476917, 0.024747228, 0.024725957, 0.024719413, 0.024695639, 0.024672695, 0.02465045, 0.024654226]\n"
     ]
    },
    {
     "name": "stderr",
     "output_type": "stream",
     "text": [
      "                                                                                                                                                                              \r"
     ]
    },
    {
     "name": "stdout",
     "output_type": "stream",
     "text": [
      "Epoch 56, total_loss=0.2261, reg_loss = 0.0610\n",
      "   88.10 s in train({'n_hidden_rhs': [], '..., ConditionalAutoEncoder..., cuda, <torch.utils.data.data..., AdamW ( Parameter Grou..., MSELoss(), 56, max_norm=100)\n",
      "   42.21 s in test({'n_hidden_rhs': [], '..., ConditionalAutoEncoder..., cuda, <torch.utils.data.data..., MSELoss())\n",
      "    9.32 s in test({'n_hidden_rhs': [], '..., ConditionalAutoEncoder..., cuda, <torch.utils.data.data..., MSELoss())\n",
      "Train MSE: 0.16634557\n",
      "Valid MSE: 0.024647836\n",
      "Next Learning Rate: 0.001\n",
      "[2.5926778, 0.37244833, 0.23017246, 0.20276253, 0.19263256, 0.18811467, 0.18479882, 0.1824884, 0.18108593, 0.17961578, 0.17826554, 0.17742711, 0.1766121, 0.17583261, 0.17518213, 0.17510386, 0.17407326, 0.17348826, 0.1729948, 0.17265652, 0.17316428, 0.17202209, 0.17274374, 0.17195682, 0.17088893, 0.17055175, 0.17024349, 0.17023127, 0.17006283, 0.1696679, 0.16940491, 0.16915867, 0.16888408, 0.1687755, 0.16850176, 0.16907807, 0.16815664, 0.16816042, 0.16789965, 0.1677537, 0.16761078, 0.16749582, 0.16763149, 0.1672898, 0.16731104, 0.16709438, 0.16714007, 0.16692887, 0.16686656, 0.16675751, 0.16686328, 0.16679579, 0.16785778, 0.16753465, 0.16721845, 0.1669915]\n",
      "[0.04265558, 0.03604025, 0.032059874, 0.029849654, 0.028544204, 0.0277217, 0.027195299, 0.026814854, 0.02654779, 0.026334891, 0.026174916, 0.026035534, 0.025936034, 0.025857825, 0.02579945, 0.025734369, 0.025669765, 0.025620813, 0.025576187, 0.025525212, 0.025483787, 0.025435444, 0.025410354, 0.025373105, 0.02534322, 0.025296254, 0.025262358, 0.025245244, 0.025203653, 0.025173727, 0.025141738, 0.02511366, 0.025083318, 0.025055343, 0.02502211, 0.025013106, 0.024970574, 0.024942594, 0.024920389, 0.024915528, 0.024882952, 0.024859237, 0.02483645, 0.024829926, 0.02480335, 0.02480911, 0.02477, 0.02476917, 0.024747228, 0.024725957, 0.024719413, 0.024695639, 0.024672695, 0.02465045, 0.024654226, 0.024649223]\n"
     ]
    },
    {
     "name": "stderr",
     "output_type": "stream",
     "text": [
      "                                                                                                                                                                              \r"
     ]
    },
    {
     "name": "stdout",
     "output_type": "stream",
     "text": [
      "Epoch 57, total_loss=0.2231, reg_loss = 0.0606\n",
      "   87.86 s in train({'n_hidden_rhs': [], '..., ConditionalAutoEncoder..., cuda, <torch.utils.data.data..., AdamW ( Parameter Grou..., MSELoss(), 57, max_norm=100)\n",
      "   41.80 s in test({'n_hidden_rhs': [], '..., ConditionalAutoEncoder..., cuda, <torch.utils.data.data..., MSELoss())\n",
      "    9.30 s in test({'n_hidden_rhs': [], '..., ConditionalAutoEncoder..., cuda, <torch.utils.data.data..., MSELoss())\n",
      "Train MSE: 0.16630612\n",
      "Valid MSE: 0.02462261\n",
      "Next Learning Rate: 0.001\n",
      "[2.5926778, 0.37244833, 0.23017246, 0.20276253, 0.19263256, 0.18811467, 0.18479882, 0.1824884, 0.18108593, 0.17961578, 0.17826554, 0.17742711, 0.1766121, 0.17583261, 0.17518213, 0.17510386, 0.17407326, 0.17348826, 0.1729948, 0.17265652, 0.17316428, 0.17202209, 0.17274374, 0.17195682, 0.17088893, 0.17055175, 0.17024349, 0.17023127, 0.17006283, 0.1696679, 0.16940491, 0.16915867, 0.16888408, 0.1687755, 0.16850176, 0.16907807, 0.16815664, 0.16816042, 0.16789965, 0.1677537, 0.16761078, 0.16749582, 0.16763149, 0.1672898, 0.16731104, 0.16709438, 0.16714007, 0.16692887, 0.16686656, 0.16675751, 0.16686328, 0.16679579, 0.16785778, 0.16753465, 0.16721845, 0.1669915, 0.16634557]\n",
      "[0.04265558, 0.03604025, 0.032059874, 0.029849654, 0.028544204, 0.0277217, 0.027195299, 0.026814854, 0.02654779, 0.026334891, 0.026174916, 0.026035534, 0.025936034, 0.025857825, 0.02579945, 0.025734369, 0.025669765, 0.025620813, 0.025576187, 0.025525212, 0.025483787, 0.025435444, 0.025410354, 0.025373105, 0.02534322, 0.025296254, 0.025262358, 0.025245244, 0.025203653, 0.025173727, 0.025141738, 0.02511366, 0.025083318, 0.025055343, 0.02502211, 0.025013106, 0.024970574, 0.024942594, 0.024920389, 0.024915528, 0.024882952, 0.024859237, 0.02483645, 0.024829926, 0.02480335, 0.02480911, 0.02477, 0.02476917, 0.024747228, 0.024725957, 0.024719413, 0.024695639, 0.024672695, 0.02465045, 0.024654226, 0.024649223, 0.024647836]\n"
     ]
    },
    {
     "name": "stderr",
     "output_type": "stream",
     "text": [
      "                                                                                                                                                                              \r"
     ]
    },
    {
     "name": "stdout",
     "output_type": "stream",
     "text": [
      "Epoch 58, total_loss=0.2197, reg_loss = 0.0602\n",
      "   86.85 s in train({'n_hidden_rhs': [], '..., ConditionalAutoEncoder..., cuda, <torch.utils.data.data..., AdamW ( Parameter Grou..., MSELoss(), 58, max_norm=100)\n",
      "   42.80 s in test({'n_hidden_rhs': [], '..., ConditionalAutoEncoder..., cuda, <torch.utils.data.data..., MSELoss())\n",
      "    8.47 s in test({'n_hidden_rhs': [], '..., ConditionalAutoEncoder..., cuda, <torch.utils.data.data..., MSELoss())\n",
      "Train MSE: 0.16637018\n",
      "Valid MSE: 0.024625944\n",
      "Next Learning Rate: 0.001\n",
      "[2.5926778, 0.37244833, 0.23017246, 0.20276253, 0.19263256, 0.18811467, 0.18479882, 0.1824884, 0.18108593, 0.17961578, 0.17826554, 0.17742711, 0.1766121, 0.17583261, 0.17518213, 0.17510386, 0.17407326, 0.17348826, 0.1729948, 0.17265652, 0.17316428, 0.17202209, 0.17274374, 0.17195682, 0.17088893, 0.17055175, 0.17024349, 0.17023127, 0.17006283, 0.1696679, 0.16940491, 0.16915867, 0.16888408, 0.1687755, 0.16850176, 0.16907807, 0.16815664, 0.16816042, 0.16789965, 0.1677537, 0.16761078, 0.16749582, 0.16763149, 0.1672898, 0.16731104, 0.16709438, 0.16714007, 0.16692887, 0.16686656, 0.16675751, 0.16686328, 0.16679579, 0.16785778, 0.16753465, 0.16721845, 0.1669915, 0.16634557, 0.16630612]\n",
      "[0.04265558, 0.03604025, 0.032059874, 0.029849654, 0.028544204, 0.0277217, 0.027195299, 0.026814854, 0.02654779, 0.026334891, 0.026174916, 0.026035534, 0.025936034, 0.025857825, 0.02579945, 0.025734369, 0.025669765, 0.025620813, 0.025576187, 0.025525212, 0.025483787, 0.025435444, 0.025410354, 0.025373105, 0.02534322, 0.025296254, 0.025262358, 0.025245244, 0.025203653, 0.025173727, 0.025141738, 0.02511366, 0.025083318, 0.025055343, 0.02502211, 0.025013106, 0.024970574, 0.024942594, 0.024920389, 0.024915528, 0.024882952, 0.024859237, 0.02483645, 0.024829926, 0.02480335, 0.02480911, 0.02477, 0.02476917, 0.024747228, 0.024725957, 0.024719413, 0.024695639, 0.024672695, 0.02465045, 0.024654226, 0.024649223, 0.024647836, 0.02462261]\n"
     ]
    },
    {
     "name": "stderr",
     "output_type": "stream",
     "text": [
      "                                                                                                                                                                              \r"
     ]
    },
    {
     "name": "stdout",
     "output_type": "stream",
     "text": [
      "Epoch 59, total_loss=0.2243, reg_loss = 0.0598\n",
      "   87.83 s in train({'n_hidden_rhs': [], '..., ConditionalAutoEncoder..., cuda, <torch.utils.data.data..., AdamW ( Parameter Grou..., MSELoss(), 59, max_norm=100)\n",
      "   42.09 s in test({'n_hidden_rhs': [], '..., ConditionalAutoEncoder..., cuda, <torch.utils.data.data..., MSELoss())\n",
      "    8.72 s in test({'n_hidden_rhs': [], '..., ConditionalAutoEncoder..., cuda, <torch.utils.data.data..., MSELoss())\n",
      "Train MSE: 0.16619681\n",
      "Valid MSE: 0.024609284\n",
      "Next Learning Rate: 0.001\n",
      "[2.5926778, 0.37244833, 0.23017246, 0.20276253, 0.19263256, 0.18811467, 0.18479882, 0.1824884, 0.18108593, 0.17961578, 0.17826554, 0.17742711, 0.1766121, 0.17583261, 0.17518213, 0.17510386, 0.17407326, 0.17348826, 0.1729948, 0.17265652, 0.17316428, 0.17202209, 0.17274374, 0.17195682, 0.17088893, 0.17055175, 0.17024349, 0.17023127, 0.17006283, 0.1696679, 0.16940491, 0.16915867, 0.16888408, 0.1687755, 0.16850176, 0.16907807, 0.16815664, 0.16816042, 0.16789965, 0.1677537, 0.16761078, 0.16749582, 0.16763149, 0.1672898, 0.16731104, 0.16709438, 0.16714007, 0.16692887, 0.16686656, 0.16675751, 0.16686328, 0.16679579, 0.16785778, 0.16753465, 0.16721845, 0.1669915, 0.16634557, 0.16630612, 0.16637018]\n",
      "[0.04265558, 0.03604025, 0.032059874, 0.029849654, 0.028544204, 0.0277217, 0.027195299, 0.026814854, 0.02654779, 0.026334891, 0.026174916, 0.026035534, 0.025936034, 0.025857825, 0.02579945, 0.025734369, 0.025669765, 0.025620813, 0.025576187, 0.025525212, 0.025483787, 0.025435444, 0.025410354, 0.025373105, 0.02534322, 0.025296254, 0.025262358, 0.025245244, 0.025203653, 0.025173727, 0.025141738, 0.02511366, 0.025083318, 0.025055343, 0.02502211, 0.025013106, 0.024970574, 0.024942594, 0.024920389, 0.024915528, 0.024882952, 0.024859237, 0.02483645, 0.024829926, 0.02480335, 0.02480911, 0.02477, 0.02476917, 0.024747228, 0.024725957, 0.024719413, 0.024695639, 0.024672695, 0.02465045, 0.024654226, 0.024649223, 0.024647836, 0.02462261, 0.024625944]\n"
     ]
    },
    {
     "name": "stderr",
     "output_type": "stream",
     "text": [
      "                                                                                                                                                                              \r"
     ]
    },
    {
     "name": "stdout",
     "output_type": "stream",
     "text": [
      "Epoch 60, total_loss=0.2255, reg_loss = 0.0594\n",
      "   87.47 s in train({'n_hidden_rhs': [], '..., ConditionalAutoEncoder..., cuda, <torch.utils.data.data..., AdamW ( Parameter Grou..., MSELoss(), 60, max_norm=100)\n",
      "   41.39 s in test({'n_hidden_rhs': [], '..., ConditionalAutoEncoder..., cuda, <torch.utils.data.data..., MSELoss())\n",
      "    9.08 s in test({'n_hidden_rhs': [], '..., ConditionalAutoEncoder..., cuda, <torch.utils.data.data..., MSELoss())\n",
      "Train MSE: 0.16619253\n",
      "Valid MSE: 0.0245825\n",
      "Next Learning Rate: 0.001\n",
      "[2.5926778, 0.37244833, 0.23017246, 0.20276253, 0.19263256, 0.18811467, 0.18479882, 0.1824884, 0.18108593, 0.17961578, 0.17826554, 0.17742711, 0.1766121, 0.17583261, 0.17518213, 0.17510386, 0.17407326, 0.17348826, 0.1729948, 0.17265652, 0.17316428, 0.17202209, 0.17274374, 0.17195682, 0.17088893, 0.17055175, 0.17024349, 0.17023127, 0.17006283, 0.1696679, 0.16940491, 0.16915867, 0.16888408, 0.1687755, 0.16850176, 0.16907807, 0.16815664, 0.16816042, 0.16789965, 0.1677537, 0.16761078, 0.16749582, 0.16763149, 0.1672898, 0.16731104, 0.16709438, 0.16714007, 0.16692887, 0.16686656, 0.16675751, 0.16686328, 0.16679579, 0.16785778, 0.16753465, 0.16721845, 0.1669915, 0.16634557, 0.16630612, 0.16637018, 0.16619681]\n",
      "[0.04265558, 0.03604025, 0.032059874, 0.029849654, 0.028544204, 0.0277217, 0.027195299, 0.026814854, 0.02654779, 0.026334891, 0.026174916, 0.026035534, 0.025936034, 0.025857825, 0.02579945, 0.025734369, 0.025669765, 0.025620813, 0.025576187, 0.025525212, 0.025483787, 0.025435444, 0.025410354, 0.025373105, 0.02534322, 0.025296254, 0.025262358, 0.025245244, 0.025203653, 0.025173727, 0.025141738, 0.02511366, 0.025083318, 0.025055343, 0.02502211, 0.025013106, 0.024970574, 0.024942594, 0.024920389, 0.024915528, 0.024882952, 0.024859237, 0.02483645, 0.024829926, 0.02480335, 0.02480911, 0.02477, 0.02476917, 0.024747228, 0.024725957, 0.024719413, 0.024695639, 0.024672695, 0.02465045, 0.024654226, 0.024649223, 0.024647836, 0.02462261, 0.024625944, 0.024609284]\n",
      "Training done. Evaluating...\n"
     ]
    },
    {
     "name": "stderr",
     "output_type": "stream",
     "text": [
      "100%|███████████████████████████████████████████████████████████████████████████████████████████████████████████████████████████████████████████| 6/6 [00:12<00:00,  2.01s/it]\n",
      "100%|███████████████████████████████████████████████████████████████████████████████████████████████████████████████████████████████████████████| 4/4 [00:10<00:00,  2.57s/it]\n"
     ]
    },
    {
     "name": "stdout",
     "output_type": "stream",
     "text": [
      "Params 7: (8, (24, 12), 8, False)\n",
      "ConditionalAutoEncoder(\n",
      "  (lhs): Sequential(\n",
      "    (0): LayerNorm((45,), eps=1e-05, elementwise_affine=True)\n",
      "    (1): Linear(in_features=45, out_features=24, bias=True)\n",
      "    (2): SELU()\n",
      "    (3): LayerNorm((24,), eps=1e-05, elementwise_affine=True)\n",
      "    (4): Linear(in_features=24, out_features=12, bias=True)\n",
      "    (5): SELU()\n",
      "    (6): Linear(in_features=12, out_features=8, bias=True)\n",
      "  )\n",
      "  (rhs): Sequential(\n",
      "    (0): Linear(in_features=46, out_features=8, bias=True)\n",
      "  )\n",
      ")\n",
      "   41.36 s in test({'n_hidden_rhs': [], '..., ConditionalAutoEncoder..., cuda, <torch.utils.data.data..., MSELoss())\n",
      "    8.48 s in test({'n_hidden_rhs': [], '..., ConditionalAutoEncoder..., cuda, <torch.utils.data.data..., MSELoss())\n",
      "Pre-Train Train MSE: 5.9497395\n",
      "Pre-Train Valid MSE: 0.03050546\n"
     ]
    },
    {
     "name": "stderr",
     "output_type": "stream",
     "text": [
      "                                                                                                                                                                              \r"
     ]
    },
    {
     "name": "stdout",
     "output_type": "stream",
     "text": [
      "Epoch 1, total_loss=2.1823, reg_loss = 0.0892\n",
      "   87.14 s in train({'n_hidden_rhs': [], '..., ConditionalAutoEncoder..., cuda, <torch.utils.data.data..., AdamW ( Parameter Grou..., MSELoss(), 1, max_norm=100)\n",
      "   41.98 s in test({'n_hidden_rhs': [], '..., ConditionalAutoEncoder..., cuda, <torch.utils.data.data..., MSELoss())\n",
      "    9.34 s in test({'n_hidden_rhs': [], '..., ConditionalAutoEncoder..., cuda, <torch.utils.data.data..., MSELoss())\n",
      "Train MSE: 0.4663079\n",
      "Valid MSE: 0.029520234\n",
      "Next Learning Rate: 0.001\n",
      "[5.9497395]\n",
      "[0.03050546]\n"
     ]
    },
    {
     "name": "stderr",
     "output_type": "stream",
     "text": [
      "                                                                                                                                                                              \r"
     ]
    },
    {
     "name": "stdout",
     "output_type": "stream",
     "text": [
      "Epoch 2, total_loss=0.4397, reg_loss = 0.0886\n",
      "   87.11 s in train({'n_hidden_rhs': [], '..., ConditionalAutoEncoder..., cuda, <torch.utils.data.data..., AdamW ( Parameter Grou..., MSELoss(), 2, max_norm=100)\n",
      "   41.80 s in test({'n_hidden_rhs': [], '..., ConditionalAutoEncoder..., cuda, <torch.utils.data.data..., MSELoss())\n",
      "    9.18 s in test({'n_hidden_rhs': [], '..., ConditionalAutoEncoder..., cuda, <torch.utils.data.data..., MSELoss())\n",
      "Train MSE: 0.27324829\n",
      "Valid MSE: 0.028763458\n",
      "Next Learning Rate: 0.001\n",
      "[5.9497395, 0.4663079]\n",
      "[0.03050546, 0.029520234]\n"
     ]
    },
    {
     "name": "stderr",
     "output_type": "stream",
     "text": [
      "                                                                                                                                                                              \r"
     ]
    },
    {
     "name": "stdout",
     "output_type": "stream",
     "text": [
      "Epoch 3, total_loss=0.3496, reg_loss = 0.0876\n",
      "   87.94 s in train({'n_hidden_rhs': [], '..., ConditionalAutoEncoder..., cuda, <torch.utils.data.data..., AdamW ( Parameter Grou..., MSELoss(), 3, max_norm=100)\n",
      "   42.80 s in test({'n_hidden_rhs': [], '..., ConditionalAutoEncoder..., cuda, <torch.utils.data.data..., MSELoss())\n",
      "    9.39 s in test({'n_hidden_rhs': [], '..., ConditionalAutoEncoder..., cuda, <torch.utils.data.data..., MSELoss())\n",
      "Train MSE: 0.23761722\n",
      "Valid MSE: 0.028295934\n",
      "Next Learning Rate: 0.001\n",
      "[5.9497395, 0.4663079, 0.27324829]\n",
      "[0.03050546, 0.029520234, 0.028763458]\n"
     ]
    },
    {
     "name": "stderr",
     "output_type": "stream",
     "text": [
      "                                                                                                                                                                              \r"
     ]
    },
    {
     "name": "stdout",
     "output_type": "stream",
     "text": [
      "Epoch 4, total_loss=0.3118, reg_loss = 0.0865\n",
      "   87.24 s in train({'n_hidden_rhs': [], '..., ConditionalAutoEncoder..., cuda, <torch.utils.data.data..., AdamW ( Parameter Grou..., MSELoss(), 4, max_norm=100)\n",
      "   41.98 s in test({'n_hidden_rhs': [], '..., ConditionalAutoEncoder..., cuda, <torch.utils.data.data..., MSELoss())\n",
      "    9.77 s in test({'n_hidden_rhs': [], '..., ConditionalAutoEncoder..., cuda, <torch.utils.data.data..., MSELoss())\n",
      "Train MSE: 0.22265078\n",
      "Valid MSE: 0.027895287\n",
      "Next Learning Rate: 0.001\n",
      "[5.9497395, 0.4663079, 0.27324829, 0.23761722]\n",
      "[0.03050546, 0.029520234, 0.028763458, 0.028295934]\n"
     ]
    },
    {
     "name": "stderr",
     "output_type": "stream",
     "text": [
      "                                                                                                                                                                              \r"
     ]
    },
    {
     "name": "stdout",
     "output_type": "stream",
     "text": [
      "Epoch 5, total_loss=0.2962, reg_loss = 0.0854\n",
      "   87.10 s in train({'n_hidden_rhs': [], '..., ConditionalAutoEncoder..., cuda, <torch.utils.data.data..., AdamW ( Parameter Grou..., MSELoss(), 5, max_norm=100)\n",
      "   42.21 s in test({'n_hidden_rhs': [], '..., ConditionalAutoEncoder..., cuda, <torch.utils.data.data..., MSELoss())\n",
      "    8.97 s in test({'n_hidden_rhs': [], '..., ConditionalAutoEncoder..., cuda, <torch.utils.data.data..., MSELoss())\n",
      "Train MSE: 0.21405658\n",
      "Valid MSE: 0.027613347\n",
      "Next Learning Rate: 0.001\n",
      "[5.9497395, 0.4663079, 0.27324829, 0.23761722, 0.22265078]\n",
      "[0.03050546, 0.029520234, 0.028763458, 0.028295934, 0.027895287]\n"
     ]
    },
    {
     "name": "stderr",
     "output_type": "stream",
     "text": [
      "                                                                                                                                                                              \r"
     ]
    },
    {
     "name": "stdout",
     "output_type": "stream",
     "text": [
      "Epoch 6, total_loss=0.3047, reg_loss = 0.0844\n",
      "   87.05 s in train({'n_hidden_rhs': [], '..., ConditionalAutoEncoder..., cuda, <torch.utils.data.data..., AdamW ( Parameter Grou..., MSELoss(), 6, max_norm=100)\n",
      "   42.98 s in test({'n_hidden_rhs': [], '..., ConditionalAutoEncoder..., cuda, <torch.utils.data.data..., MSELoss())\n",
      "    8.89 s in test({'n_hidden_rhs': [], '..., ConditionalAutoEncoder..., cuda, <torch.utils.data.data..., MSELoss())\n",
      "Train MSE: 0.2067666\n",
      "Valid MSE: 0.027325809\n",
      "Next Learning Rate: 0.001\n",
      "[5.9497395, 0.4663079, 0.27324829, 0.23761722, 0.22265078, 0.21405658]\n",
      "[0.03050546, 0.029520234, 0.028763458, 0.028295934, 0.027895287, 0.027613347]\n"
     ]
    },
    {
     "name": "stderr",
     "output_type": "stream",
     "text": [
      "                                                                                                                                                                              \r"
     ]
    },
    {
     "name": "stdout",
     "output_type": "stream",
     "text": [
      "Epoch 7, total_loss=0.2798, reg_loss = 0.0834\n",
      "   86.95 s in train({'n_hidden_rhs': [], '..., ConditionalAutoEncoder..., cuda, <torch.utils.data.data..., AdamW ( Parameter Grou..., MSELoss(), 7, max_norm=100)\n",
      "   42.05 s in test({'n_hidden_rhs': [], '..., ConditionalAutoEncoder..., cuda, <torch.utils.data.data..., MSELoss())\n",
      "    9.20 s in test({'n_hidden_rhs': [], '..., ConditionalAutoEncoder..., cuda, <torch.utils.data.data..., MSELoss())\n",
      "Train MSE: 0.20023379\n",
      "Valid MSE: 0.027047822\n",
      "Next Learning Rate: 0.001\n",
      "[5.9497395, 0.4663079, 0.27324829, 0.23761722, 0.22265078, 0.21405658, 0.2067666]\n",
      "[0.03050546, 0.029520234, 0.028763458, 0.028295934, 0.027895287, 0.027613347, 0.027325809]\n"
     ]
    },
    {
     "name": "stderr",
     "output_type": "stream",
     "text": [
      "                                                                                                                                                                              \r"
     ]
    },
    {
     "name": "stdout",
     "output_type": "stream",
     "text": [
      "Epoch 8, total_loss=0.2844, reg_loss = 0.0825\n",
      "   85.98 s in train({'n_hidden_rhs': [], '..., ConditionalAutoEncoder..., cuda, <torch.utils.data.data..., AdamW ( Parameter Grou..., MSELoss(), 8, max_norm=100)\n",
      "   41.41 s in test({'n_hidden_rhs': [], '..., ConditionalAutoEncoder..., cuda, <torch.utils.data.data..., MSELoss())\n",
      "    9.21 s in test({'n_hidden_rhs': [], '..., ConditionalAutoEncoder..., cuda, <torch.utils.data.data..., MSELoss())\n",
      "Train MSE: 0.19551153\n",
      "Valid MSE: 0.026818119\n",
      "Next Learning Rate: 0.001\n",
      "[5.9497395, 0.4663079, 0.27324829, 0.23761722, 0.22265078, 0.21405658, 0.2067666, 0.20023379]\n",
      "[0.03050546, 0.029520234, 0.028763458, 0.028295934, 0.027895287, 0.027613347, 0.027325809, 0.027047822]\n"
     ]
    },
    {
     "name": "stderr",
     "output_type": "stream",
     "text": [
      "                                                                                                                                                                              \r"
     ]
    },
    {
     "name": "stdout",
     "output_type": "stream",
     "text": [
      "Epoch 9, total_loss=0.2703, reg_loss = 0.0818\n",
      "   85.32 s in train({'n_hidden_rhs': [], '..., ConditionalAutoEncoder..., cuda, <torch.utils.data.data..., AdamW ( Parameter Grou..., MSELoss(), 9, max_norm=100)\n",
      "   41.75 s in test({'n_hidden_rhs': [], '..., ConditionalAutoEncoder..., cuda, <torch.utils.data.data..., MSELoss())\n",
      "    8.70 s in test({'n_hidden_rhs': [], '..., ConditionalAutoEncoder..., cuda, <torch.utils.data.data..., MSELoss())\n",
      "Train MSE: 0.19202085\n",
      "Valid MSE: 0.026617194\n",
      "Next Learning Rate: 0.001\n",
      "[5.9497395, 0.4663079, 0.27324829, 0.23761722, 0.22265078, 0.21405658, 0.2067666, 0.20023379, 0.19551153]\n",
      "[0.03050546, 0.029520234, 0.028763458, 0.028295934, 0.027895287, 0.027613347, 0.027325809, 0.027047822, 0.026818119]\n"
     ]
    },
    {
     "name": "stderr",
     "output_type": "stream",
     "text": [
      "                                                                                                                                                                              \r"
     ]
    },
    {
     "name": "stdout",
     "output_type": "stream",
     "text": [
      "Epoch 10, total_loss=0.2691, reg_loss = 0.0811\n",
      "   87.76 s in train({'n_hidden_rhs': [], '..., ConditionalAutoEncoder..., cuda, <torch.utils.data.data..., AdamW ( Parameter Grou..., MSELoss(), 10, max_norm=100)\n",
      "   41.94 s in test({'n_hidden_rhs': [], '..., ConditionalAutoEncoder..., cuda, <torch.utils.data.data..., MSELoss())\n",
      "    8.88 s in test({'n_hidden_rhs': [], '..., ConditionalAutoEncoder..., cuda, <torch.utils.data.data..., MSELoss())\n",
      "Train MSE: 0.18922949\n",
      "Valid MSE: 0.026408661\n",
      "Next Learning Rate: 0.001\n",
      "[5.9497395, 0.4663079, 0.27324829, 0.23761722, 0.22265078, 0.21405658, 0.2067666, 0.20023379, 0.19551153, 0.19202085]\n",
      "[0.03050546, 0.029520234, 0.028763458, 0.028295934, 0.027895287, 0.027613347, 0.027325809, 0.027047822, 0.026818119, 0.026617194]\n"
     ]
    },
    {
     "name": "stderr",
     "output_type": "stream",
     "text": [
      "                                                                                                                                                                              \r"
     ]
    },
    {
     "name": "stdout",
     "output_type": "stream",
     "text": [
      "Epoch 11, total_loss=0.2670, reg_loss = 0.0806\n",
      "   86.21 s in train({'n_hidden_rhs': [], '..., ConditionalAutoEncoder..., cuda, <torch.utils.data.data..., AdamW ( Parameter Grou..., MSELoss(), 11, max_norm=100)\n",
      "   42.46 s in test({'n_hidden_rhs': [], '..., ConditionalAutoEncoder..., cuda, <torch.utils.data.data..., MSELoss())\n",
      "    9.63 s in test({'n_hidden_rhs': [], '..., ConditionalAutoEncoder..., cuda, <torch.utils.data.data..., MSELoss())\n",
      "Train MSE: 0.18692555\n",
      "Valid MSE: 0.02625409\n",
      "Next Learning Rate: 0.001\n",
      "[5.9497395, 0.4663079, 0.27324829, 0.23761722, 0.22265078, 0.21405658, 0.2067666, 0.20023379, 0.19551153, 0.19202085, 0.18922949]\n",
      "[0.03050546, 0.029520234, 0.028763458, 0.028295934, 0.027895287, 0.027613347, 0.027325809, 0.027047822, 0.026818119, 0.026617194, 0.026408661]\n"
     ]
    },
    {
     "name": "stderr",
     "output_type": "stream",
     "text": [
      "                                                                                                                                                                              \r"
     ]
    },
    {
     "name": "stdout",
     "output_type": "stream",
     "text": [
      "Epoch 12, total_loss=0.2614, reg_loss = 0.0802\n",
      "   86.87 s in train({'n_hidden_rhs': [], '..., ConditionalAutoEncoder..., cuda, <torch.utils.data.data..., AdamW ( Parameter Grou..., MSELoss(), 12, max_norm=100)\n",
      "   42.98 s in test({'n_hidden_rhs': [], '..., ConditionalAutoEncoder..., cuda, <torch.utils.data.data..., MSELoss())\n",
      "    9.11 s in test({'n_hidden_rhs': [], '..., ConditionalAutoEncoder..., cuda, <torch.utils.data.data..., MSELoss())\n",
      "Train MSE: 0.18536656\n",
      "Valid MSE: 0.026100112\n",
      "Next Learning Rate: 0.001\n",
      "[5.9497395, 0.4663079, 0.27324829, 0.23761722, 0.22265078, 0.21405658, 0.2067666, 0.20023379, 0.19551153, 0.19202085, 0.18922949, 0.18692555]\n",
      "[0.03050546, 0.029520234, 0.028763458, 0.028295934, 0.027895287, 0.027613347, 0.027325809, 0.027047822, 0.026818119, 0.026617194, 0.026408661, 0.02625409]\n"
     ]
    },
    {
     "name": "stderr",
     "output_type": "stream",
     "text": [
      "                                                                                                                                                                              \r"
     ]
    },
    {
     "name": "stdout",
     "output_type": "stream",
     "text": [
      "Epoch 13, total_loss=0.2598, reg_loss = 0.0799\n",
      "   86.88 s in train({'n_hidden_rhs': [], '..., ConditionalAutoEncoder..., cuda, <torch.utils.data.data..., AdamW ( Parameter Grou..., MSELoss(), 13, max_norm=100)\n",
      "   41.54 s in test({'n_hidden_rhs': [], '..., ConditionalAutoEncoder..., cuda, <torch.utils.data.data..., MSELoss())\n",
      "    9.08 s in test({'n_hidden_rhs': [], '..., ConditionalAutoEncoder..., cuda, <torch.utils.data.data..., MSELoss())\n",
      "Train MSE: 0.18429478\n",
      "Valid MSE: 0.026000237\n",
      "Next Learning Rate: 0.001\n",
      "[5.9497395, 0.4663079, 0.27324829, 0.23761722, 0.22265078, 0.21405658, 0.2067666, 0.20023379, 0.19551153, 0.19202085, 0.18922949, 0.18692555, 0.18536656]\n",
      "[0.03050546, 0.029520234, 0.028763458, 0.028295934, 0.027895287, 0.027613347, 0.027325809, 0.027047822, 0.026818119, 0.026617194, 0.026408661, 0.02625409, 0.026100112]\n"
     ]
    },
    {
     "name": "stderr",
     "output_type": "stream",
     "text": [
      "                                                                                                                                                                              \r"
     ]
    },
    {
     "name": "stdout",
     "output_type": "stream",
     "text": [
      "Epoch 14, total_loss=0.2590, reg_loss = 0.0795\n",
      "   87.14 s in train({'n_hidden_rhs': [], '..., ConditionalAutoEncoder..., cuda, <torch.utils.data.data..., AdamW ( Parameter Grou..., MSELoss(), 14, max_norm=100)\n",
      "   42.44 s in test({'n_hidden_rhs': [], '..., ConditionalAutoEncoder..., cuda, <torch.utils.data.data..., MSELoss())\n",
      "    8.64 s in test({'n_hidden_rhs': [], '..., ConditionalAutoEncoder..., cuda, <torch.utils.data.data..., MSELoss())\n",
      "Train MSE: 0.18229212\n",
      "Valid MSE: 0.025880951\n",
      "Next Learning Rate: 0.001\n",
      "[5.9497395, 0.4663079, 0.27324829, 0.23761722, 0.22265078, 0.21405658, 0.2067666, 0.20023379, 0.19551153, 0.19202085, 0.18922949, 0.18692555, 0.18536656, 0.18429478]\n",
      "[0.03050546, 0.029520234, 0.028763458, 0.028295934, 0.027895287, 0.027613347, 0.027325809, 0.027047822, 0.026818119, 0.026617194, 0.026408661, 0.02625409, 0.026100112, 0.026000237]\n"
     ]
    },
    {
     "name": "stderr",
     "output_type": "stream",
     "text": [
      "                                                                                                                                                                              \r"
     ]
    },
    {
     "name": "stdout",
     "output_type": "stream",
     "text": [
      "Epoch 15, total_loss=0.2568, reg_loss = 0.0793\n",
      "   85.77 s in train({'n_hidden_rhs': [], '..., ConditionalAutoEncoder..., cuda, <torch.utils.data.data..., AdamW ( Parameter Grou..., MSELoss(), 15, max_norm=100)\n",
      "   41.87 s in test({'n_hidden_rhs': [], '..., ConditionalAutoEncoder..., cuda, <torch.utils.data.data..., MSELoss())\n",
      "    8.91 s in test({'n_hidden_rhs': [], '..., ConditionalAutoEncoder..., cuda, <torch.utils.data.data..., MSELoss())\n",
      "Train MSE: 0.1811862\n",
      "Valid MSE: 0.025795083\n",
      "Next Learning Rate: 0.001\n",
      "[5.9497395, 0.4663079, 0.27324829, 0.23761722, 0.22265078, 0.21405658, 0.2067666, 0.20023379, 0.19551153, 0.19202085, 0.18922949, 0.18692555, 0.18536656, 0.18429478, 0.18229212]\n",
      "[0.03050546, 0.029520234, 0.028763458, 0.028295934, 0.027895287, 0.027613347, 0.027325809, 0.027047822, 0.026818119, 0.026617194, 0.026408661, 0.02625409, 0.026100112, 0.026000237, 0.025880951]\n"
     ]
    },
    {
     "name": "stderr",
     "output_type": "stream",
     "text": [
      "                                                                                                                                                                              \r"
     ]
    },
    {
     "name": "stdout",
     "output_type": "stream",
     "text": [
      "Epoch 16, total_loss=0.2491, reg_loss = 0.0790\n",
      "   85.63 s in train({'n_hidden_rhs': [], '..., ConditionalAutoEncoder..., cuda, <torch.utils.data.data..., AdamW ( Parameter Grou..., MSELoss(), 16, max_norm=100)\n",
      "   41.59 s in test({'n_hidden_rhs': [], '..., ConditionalAutoEncoder..., cuda, <torch.utils.data.data..., MSELoss())\n",
      "    9.22 s in test({'n_hidden_rhs': [], '..., ConditionalAutoEncoder..., cuda, <torch.utils.data.data..., MSELoss())\n",
      "Train MSE: 0.1798716\n",
      "Valid MSE: 0.025714178\n",
      "Next Learning Rate: 0.001\n",
      "[5.9497395, 0.4663079, 0.27324829, 0.23761722, 0.22265078, 0.21405658, 0.2067666, 0.20023379, 0.19551153, 0.19202085, 0.18922949, 0.18692555, 0.18536656, 0.18429478, 0.18229212, 0.1811862]\n",
      "[0.03050546, 0.029520234, 0.028763458, 0.028295934, 0.027895287, 0.027613347, 0.027325809, 0.027047822, 0.026818119, 0.026617194, 0.026408661, 0.02625409, 0.026100112, 0.026000237, 0.025880951, 0.025795083]\n"
     ]
    },
    {
     "name": "stderr",
     "output_type": "stream",
     "text": [
      "                                                                                                                                                                              \r"
     ]
    },
    {
     "name": "stdout",
     "output_type": "stream",
     "text": [
      "Epoch 17, total_loss=0.2516, reg_loss = 0.0788\n",
      "   87.02 s in train({'n_hidden_rhs': [], '..., ConditionalAutoEncoder..., cuda, <torch.utils.data.data..., AdamW ( Parameter Grou..., MSELoss(), 17, max_norm=100)\n",
      "   42.14 s in test({'n_hidden_rhs': [], '..., ConditionalAutoEncoder..., cuda, <torch.utils.data.data..., MSELoss())\n",
      "    8.67 s in test({'n_hidden_rhs': [], '..., ConditionalAutoEncoder..., cuda, <torch.utils.data.data..., MSELoss())\n",
      "Train MSE: 0.17918344\n",
      "Valid MSE: 0.02564267\n",
      "Next Learning Rate: 0.001\n",
      "[5.9497395, 0.4663079, 0.27324829, 0.23761722, 0.22265078, 0.21405658, 0.2067666, 0.20023379, 0.19551153, 0.19202085, 0.18922949, 0.18692555, 0.18536656, 0.18429478, 0.18229212, 0.1811862, 0.1798716]\n",
      "[0.03050546, 0.029520234, 0.028763458, 0.028295934, 0.027895287, 0.027613347, 0.027325809, 0.027047822, 0.026818119, 0.026617194, 0.026408661, 0.02625409, 0.026100112, 0.026000237, 0.025880951, 0.025795083, 0.025714178]\n"
     ]
    },
    {
     "name": "stderr",
     "output_type": "stream",
     "text": [
      "                                                                                                                                                                              \r"
     ]
    },
    {
     "name": "stdout",
     "output_type": "stream",
     "text": [
      "Epoch 18, total_loss=0.2645, reg_loss = 0.0786\n",
      "   86.49 s in train({'n_hidden_rhs': [], '..., ConditionalAutoEncoder..., cuda, <torch.utils.data.data..., AdamW ( Parameter Grou..., MSELoss(), 18, max_norm=100)\n",
      "   42.19 s in test({'n_hidden_rhs': [], '..., ConditionalAutoEncoder..., cuda, <torch.utils.data.data..., MSELoss())\n",
      "    8.45 s in test({'n_hidden_rhs': [], '..., ConditionalAutoEncoder..., cuda, <torch.utils.data.data..., MSELoss())\n",
      "Train MSE: 0.1783194\n",
      "Valid MSE: 0.025570665\n",
      "Next Learning Rate: 0.001\n",
      "[5.9497395, 0.4663079, 0.27324829, 0.23761722, 0.22265078, 0.21405658, 0.2067666, 0.20023379, 0.19551153, 0.19202085, 0.18922949, 0.18692555, 0.18536656, 0.18429478, 0.18229212, 0.1811862, 0.1798716, 0.17918344]\n",
      "[0.03050546, 0.029520234, 0.028763458, 0.028295934, 0.027895287, 0.027613347, 0.027325809, 0.027047822, 0.026818119, 0.026617194, 0.026408661, 0.02625409, 0.026100112, 0.026000237, 0.025880951, 0.025795083, 0.025714178, 0.02564267]\n"
     ]
    },
    {
     "name": "stderr",
     "output_type": "stream",
     "text": [
      "                                                                                                                                                                              \r"
     ]
    },
    {
     "name": "stdout",
     "output_type": "stream",
     "text": [
      "Epoch 19, total_loss=0.2502, reg_loss = 0.0784\n",
      "   87.38 s in train({'n_hidden_rhs': [], '..., ConditionalAutoEncoder..., cuda, <torch.utils.data.data..., AdamW ( Parameter Grou..., MSELoss(), 19, max_norm=100)\n",
      "   41.64 s in test({'n_hidden_rhs': [], '..., ConditionalAutoEncoder..., cuda, <torch.utils.data.data..., MSELoss())\n",
      "    9.07 s in test({'n_hidden_rhs': [], '..., ConditionalAutoEncoder..., cuda, <torch.utils.data.data..., MSELoss())\n",
      "Train MSE: 0.17767783\n",
      "Valid MSE: 0.025522698\n",
      "Next Learning Rate: 0.001\n",
      "[5.9497395, 0.4663079, 0.27324829, 0.23761722, 0.22265078, 0.21405658, 0.2067666, 0.20023379, 0.19551153, 0.19202085, 0.18922949, 0.18692555, 0.18536656, 0.18429478, 0.18229212, 0.1811862, 0.1798716, 0.17918344, 0.1783194]\n",
      "[0.03050546, 0.029520234, 0.028763458, 0.028295934, 0.027895287, 0.027613347, 0.027325809, 0.027047822, 0.026818119, 0.026617194, 0.026408661, 0.02625409, 0.026100112, 0.026000237, 0.025880951, 0.025795083, 0.025714178, 0.02564267, 0.025570665]\n"
     ]
    },
    {
     "name": "stderr",
     "output_type": "stream",
     "text": [
      "                                                                                                                                                                              \r"
     ]
    },
    {
     "name": "stdout",
     "output_type": "stream",
     "text": [
      "Epoch 20, total_loss=0.2494, reg_loss = 0.0782\n",
      "   87.35 s in train({'n_hidden_rhs': [], '..., ConditionalAutoEncoder..., cuda, <torch.utils.data.data..., AdamW ( Parameter Grou..., MSELoss(), 20, max_norm=100)\n",
      "   42.73 s in test({'n_hidden_rhs': [], '..., ConditionalAutoEncoder..., cuda, <torch.utils.data.data..., MSELoss())\n",
      "    9.12 s in test({'n_hidden_rhs': [], '..., ConditionalAutoEncoder..., cuda, <torch.utils.data.data..., MSELoss())\n",
      "Train MSE: 0.17681535\n",
      "Valid MSE: 0.02547939\n",
      "Next Learning Rate: 0.001\n",
      "[5.9497395, 0.4663079, 0.27324829, 0.23761722, 0.22265078, 0.21405658, 0.2067666, 0.20023379, 0.19551153, 0.19202085, 0.18922949, 0.18692555, 0.18536656, 0.18429478, 0.18229212, 0.1811862, 0.1798716, 0.17918344, 0.1783194, 0.17767783]\n",
      "[0.03050546, 0.029520234, 0.028763458, 0.028295934, 0.027895287, 0.027613347, 0.027325809, 0.027047822, 0.026818119, 0.026617194, 0.026408661, 0.02625409, 0.026100112, 0.026000237, 0.025880951, 0.025795083, 0.025714178, 0.02564267, 0.025570665, 0.025522698]\n"
     ]
    },
    {
     "name": "stderr",
     "output_type": "stream",
     "text": [
      "                                                                                                                                                                              \r"
     ]
    },
    {
     "name": "stdout",
     "output_type": "stream",
     "text": [
      "Epoch 21, total_loss=0.2484, reg_loss = 0.0781\n",
      "   88.03 s in train({'n_hidden_rhs': [], '..., ConditionalAutoEncoder..., cuda, <torch.utils.data.data..., AdamW ( Parameter Grou..., MSELoss(), 21, max_norm=100)\n",
      "   42.23 s in test({'n_hidden_rhs': [], '..., ConditionalAutoEncoder..., cuda, <torch.utils.data.data..., MSELoss())\n",
      "    9.18 s in test({'n_hidden_rhs': [], '..., ConditionalAutoEncoder..., cuda, <torch.utils.data.data..., MSELoss())\n",
      "Train MSE: 0.1763149\n",
      "Valid MSE: 0.025423326\n",
      "Next Learning Rate: 0.001\n",
      "[5.9497395, 0.4663079, 0.27324829, 0.23761722, 0.22265078, 0.21405658, 0.2067666, 0.20023379, 0.19551153, 0.19202085, 0.18922949, 0.18692555, 0.18536656, 0.18429478, 0.18229212, 0.1811862, 0.1798716, 0.17918344, 0.1783194, 0.17767783, 0.17681535]\n",
      "[0.03050546, 0.029520234, 0.028763458, 0.028295934, 0.027895287, 0.027613347, 0.027325809, 0.027047822, 0.026818119, 0.026617194, 0.026408661, 0.02625409, 0.026100112, 0.026000237, 0.025880951, 0.025795083, 0.025714178, 0.02564267, 0.025570665, 0.025522698, 0.02547939]\n"
     ]
    },
    {
     "name": "stderr",
     "output_type": "stream",
     "text": [
      "                                                                                                                                                                              \r"
     ]
    },
    {
     "name": "stdout",
     "output_type": "stream",
     "text": [
      "Epoch 22, total_loss=0.2500, reg_loss = 0.0779\n",
      "   87.55 s in train({'n_hidden_rhs': [], '..., ConditionalAutoEncoder..., cuda, <torch.utils.data.data..., AdamW ( Parameter Grou..., MSELoss(), 22, max_norm=100)\n",
      "   42.11 s in test({'n_hidden_rhs': [], '..., ConditionalAutoEncoder..., cuda, <torch.utils.data.data..., MSELoss())\n",
      "    9.58 s in test({'n_hidden_rhs': [], '..., ConditionalAutoEncoder..., cuda, <torch.utils.data.data..., MSELoss())\n",
      "Train MSE: 0.17789583\n",
      "Valid MSE: 0.02539442\n",
      "Next Learning Rate: 0.001\n",
      "[5.9497395, 0.4663079, 0.27324829, 0.23761722, 0.22265078, 0.21405658, 0.2067666, 0.20023379, 0.19551153, 0.19202085, 0.18922949, 0.18692555, 0.18536656, 0.18429478, 0.18229212, 0.1811862, 0.1798716, 0.17918344, 0.1783194, 0.17767783, 0.17681535, 0.1763149]\n",
      "[0.03050546, 0.029520234, 0.028763458, 0.028295934, 0.027895287, 0.027613347, 0.027325809, 0.027047822, 0.026818119, 0.026617194, 0.026408661, 0.02625409, 0.026100112, 0.026000237, 0.025880951, 0.025795083, 0.025714178, 0.02564267, 0.025570665, 0.025522698, 0.02547939, 0.025423326]\n"
     ]
    },
    {
     "name": "stderr",
     "output_type": "stream",
     "text": [
      "                                                                                                                                                                              \r"
     ]
    },
    {
     "name": "stdout",
     "output_type": "stream",
     "text": [
      "Epoch 23, total_loss=0.2478, reg_loss = 0.0777\n",
      "   87.29 s in train({'n_hidden_rhs': [], '..., ConditionalAutoEncoder..., cuda, <torch.utils.data.data..., AdamW ( Parameter Grou..., MSELoss(), 23, max_norm=100)\n",
      "   41.85 s in test({'n_hidden_rhs': [], '..., ConditionalAutoEncoder..., cuda, <torch.utils.data.data..., MSELoss())\n",
      "   10.47 s in test({'n_hidden_rhs': [], '..., ConditionalAutoEncoder..., cuda, <torch.utils.data.data..., MSELoss())\n",
      "Train MSE: 0.17652988\n",
      "Valid MSE: 0.02537742\n",
      "Next Learning Rate: 0.001\n",
      "[5.9497395, 0.4663079, 0.27324829, 0.23761722, 0.22265078, 0.21405658, 0.2067666, 0.20023379, 0.19551153, 0.19202085, 0.18922949, 0.18692555, 0.18536656, 0.18429478, 0.18229212, 0.1811862, 0.1798716, 0.17918344, 0.1783194, 0.17767783, 0.17681535, 0.1763149, 0.17789583]\n",
      "[0.03050546, 0.029520234, 0.028763458, 0.028295934, 0.027895287, 0.027613347, 0.027325809, 0.027047822, 0.026818119, 0.026617194, 0.026408661, 0.02625409, 0.026100112, 0.026000237, 0.025880951, 0.025795083, 0.025714178, 0.02564267, 0.025570665, 0.025522698, 0.02547939, 0.025423326, 0.02539442]\n"
     ]
    },
    {
     "name": "stderr",
     "output_type": "stream",
     "text": [
      "                                                                                                                                                                              \r"
     ]
    },
    {
     "name": "stdout",
     "output_type": "stream",
     "text": [
      "Epoch 24, total_loss=0.2504, reg_loss = 0.0776\n",
      "   87.11 s in train({'n_hidden_rhs': [], '..., ConditionalAutoEncoder..., cuda, <torch.utils.data.data..., AdamW ( Parameter Grou..., MSELoss(), 24, max_norm=100)\n",
      "   41.94 s in test({'n_hidden_rhs': [], '..., ConditionalAutoEncoder..., cuda, <torch.utils.data.data..., MSELoss())\n",
      "    8.28 s in test({'n_hidden_rhs': [], '..., ConditionalAutoEncoder..., cuda, <torch.utils.data.data..., MSELoss())\n",
      "Train MSE: 0.17451353\n",
      "Valid MSE: 0.025339888\n",
      "Next Learning Rate: 0.001\n",
      "[5.9497395, 0.4663079, 0.27324829, 0.23761722, 0.22265078, 0.21405658, 0.2067666, 0.20023379, 0.19551153, 0.19202085, 0.18922949, 0.18692555, 0.18536656, 0.18429478, 0.18229212, 0.1811862, 0.1798716, 0.17918344, 0.1783194, 0.17767783, 0.17681535, 0.1763149, 0.17789583, 0.17652988]\n",
      "[0.03050546, 0.029520234, 0.028763458, 0.028295934, 0.027895287, 0.027613347, 0.027325809, 0.027047822, 0.026818119, 0.026617194, 0.026408661, 0.02625409, 0.026100112, 0.026000237, 0.025880951, 0.025795083, 0.025714178, 0.02564267, 0.025570665, 0.025522698, 0.02547939, 0.025423326, 0.02539442, 0.02537742]\n"
     ]
    },
    {
     "name": "stderr",
     "output_type": "stream",
     "text": [
      "                                                                                                                                                                              \r"
     ]
    },
    {
     "name": "stdout",
     "output_type": "stream",
     "text": [
      "Epoch 25, total_loss=0.2462, reg_loss = 0.0774\n",
      "   86.79 s in train({'n_hidden_rhs': [], '..., ConditionalAutoEncoder..., cuda, <torch.utils.data.data..., AdamW ( Parameter Grou..., MSELoss(), 25, max_norm=100)\n",
      "   41.27 s in test({'n_hidden_rhs': [], '..., ConditionalAutoEncoder..., cuda, <torch.utils.data.data..., MSELoss())\n",
      "    9.10 s in test({'n_hidden_rhs': [], '..., ConditionalAutoEncoder..., cuda, <torch.utils.data.data..., MSELoss())\n",
      "Train MSE: 0.17448354\n",
      "Valid MSE: 0.02530091\n",
      "Next Learning Rate: 0.001\n",
      "[5.9497395, 0.4663079, 0.27324829, 0.23761722, 0.22265078, 0.21405658, 0.2067666, 0.20023379, 0.19551153, 0.19202085, 0.18922949, 0.18692555, 0.18536656, 0.18429478, 0.18229212, 0.1811862, 0.1798716, 0.17918344, 0.1783194, 0.17767783, 0.17681535, 0.1763149, 0.17789583, 0.17652988, 0.17451353]\n",
      "[0.03050546, 0.029520234, 0.028763458, 0.028295934, 0.027895287, 0.027613347, 0.027325809, 0.027047822, 0.026818119, 0.026617194, 0.026408661, 0.02625409, 0.026100112, 0.026000237, 0.025880951, 0.025795083, 0.025714178, 0.02564267, 0.025570665, 0.025522698, 0.02547939, 0.025423326, 0.02539442, 0.02537742, 0.025339888]\n"
     ]
    },
    {
     "name": "stderr",
     "output_type": "stream",
     "text": [
      "                                                                                                                                                                              \r"
     ]
    },
    {
     "name": "stdout",
     "output_type": "stream",
     "text": [
      "Epoch 26, total_loss=0.2631, reg_loss = 0.0772\n",
      "   87.30 s in train({'n_hidden_rhs': [], '..., ConditionalAutoEncoder..., cuda, <torch.utils.data.data..., AdamW ( Parameter Grou..., MSELoss(), 26, max_norm=100)\n",
      "   43.04 s in test({'n_hidden_rhs': [], '..., ConditionalAutoEncoder..., cuda, <torch.utils.data.data..., MSELoss())\n",
      "    9.06 s in test({'n_hidden_rhs': [], '..., ConditionalAutoEncoder..., cuda, <torch.utils.data.data..., MSELoss())\n",
      "Train MSE: 0.17372775\n",
      "Valid MSE: 0.025253026\n",
      "Next Learning Rate: 0.001\n",
      "[5.9497395, 0.4663079, 0.27324829, 0.23761722, 0.22265078, 0.21405658, 0.2067666, 0.20023379, 0.19551153, 0.19202085, 0.18922949, 0.18692555, 0.18536656, 0.18429478, 0.18229212, 0.1811862, 0.1798716, 0.17918344, 0.1783194, 0.17767783, 0.17681535, 0.1763149, 0.17789583, 0.17652988, 0.17451353, 0.17448354]\n",
      "[0.03050546, 0.029520234, 0.028763458, 0.028295934, 0.027895287, 0.027613347, 0.027325809, 0.027047822, 0.026818119, 0.026617194, 0.026408661, 0.02625409, 0.026100112, 0.026000237, 0.025880951, 0.025795083, 0.025714178, 0.02564267, 0.025570665, 0.025522698, 0.02547939, 0.025423326, 0.02539442, 0.02537742, 0.025339888, 0.02530091]\n"
     ]
    },
    {
     "name": "stderr",
     "output_type": "stream",
     "text": [
      "                                                                                                                                                                              \r"
     ]
    },
    {
     "name": "stdout",
     "output_type": "stream",
     "text": [
      "Epoch 27, total_loss=0.2470, reg_loss = 0.0771\n",
      "   87.49 s in train({'n_hidden_rhs': [], '..., ConditionalAutoEncoder..., cuda, <torch.utils.data.data..., AdamW ( Parameter Grou..., MSELoss(), 27, max_norm=100)\n",
      "   42.55 s in test({'n_hidden_rhs': [], '..., ConditionalAutoEncoder..., cuda, <torch.utils.data.data..., MSELoss())\n",
      "    8.63 s in test({'n_hidden_rhs': [], '..., ConditionalAutoEncoder..., cuda, <torch.utils.data.data..., MSELoss())\n",
      "Train MSE: 0.17397916\n",
      "Valid MSE: 0.025212537\n",
      "Next Learning Rate: 0.001\n",
      "[5.9497395, 0.4663079, 0.27324829, 0.23761722, 0.22265078, 0.21405658, 0.2067666, 0.20023379, 0.19551153, 0.19202085, 0.18922949, 0.18692555, 0.18536656, 0.18429478, 0.18229212, 0.1811862, 0.1798716, 0.17918344, 0.1783194, 0.17767783, 0.17681535, 0.1763149, 0.17789583, 0.17652988, 0.17451353, 0.17448354, 0.17372775]\n",
      "[0.03050546, 0.029520234, 0.028763458, 0.028295934, 0.027895287, 0.027613347, 0.027325809, 0.027047822, 0.026818119, 0.026617194, 0.026408661, 0.02625409, 0.026100112, 0.026000237, 0.025880951, 0.025795083, 0.025714178, 0.02564267, 0.025570665, 0.025522698, 0.02547939, 0.025423326, 0.02539442, 0.02537742, 0.025339888, 0.02530091, 0.025253026]\n"
     ]
    },
    {
     "name": "stderr",
     "output_type": "stream",
     "text": [
      "                                                                                                                                                                              \r"
     ]
    },
    {
     "name": "stdout",
     "output_type": "stream",
     "text": [
      "Epoch 28, total_loss=0.2479, reg_loss = 0.0769\n",
      "   86.88 s in train({'n_hidden_rhs': [], '..., ConditionalAutoEncoder..., cuda, <torch.utils.data.data..., AdamW ( Parameter Grou..., MSELoss(), 28, max_norm=100)\n",
      "   42.39 s in test({'n_hidden_rhs': [], '..., ConditionalAutoEncoder..., cuda, <torch.utils.data.data..., MSELoss())\n",
      "    9.29 s in test({'n_hidden_rhs': [], '..., ConditionalAutoEncoder..., cuda, <torch.utils.data.data..., MSELoss())\n",
      "Train MSE: 0.17366673\n",
      "Valid MSE: 0.025217209\n",
      "Next Learning Rate: 0.001\n",
      "[5.9497395, 0.4663079, 0.27324829, 0.23761722, 0.22265078, 0.21405658, 0.2067666, 0.20023379, 0.19551153, 0.19202085, 0.18922949, 0.18692555, 0.18536656, 0.18429478, 0.18229212, 0.1811862, 0.1798716, 0.17918344, 0.1783194, 0.17767783, 0.17681535, 0.1763149, 0.17789583, 0.17652988, 0.17451353, 0.17448354, 0.17372775, 0.17397916]\n",
      "[0.03050546, 0.029520234, 0.028763458, 0.028295934, 0.027895287, 0.027613347, 0.027325809, 0.027047822, 0.026818119, 0.026617194, 0.026408661, 0.02625409, 0.026100112, 0.026000237, 0.025880951, 0.025795083, 0.025714178, 0.02564267, 0.025570665, 0.025522698, 0.02547939, 0.025423326, 0.02539442, 0.02537742, 0.025339888, 0.02530091, 0.025253026, 0.025212537]\n"
     ]
    },
    {
     "name": "stderr",
     "output_type": "stream",
     "text": [
      "                                                                                                                                                                              \r"
     ]
    },
    {
     "name": "stdout",
     "output_type": "stream",
     "text": [
      "Epoch 29, total_loss=0.2449, reg_loss = 0.0768\n",
      "   86.91 s in train({'n_hidden_rhs': [], '..., ConditionalAutoEncoder..., cuda, <torch.utils.data.data..., AdamW ( Parameter Grou..., MSELoss(), 29, max_norm=100)\n",
      "   42.76 s in test({'n_hidden_rhs': [], '..., ConditionalAutoEncoder..., cuda, <torch.utils.data.data..., MSELoss())\n",
      "    8.74 s in test({'n_hidden_rhs': [], '..., ConditionalAutoEncoder..., cuda, <torch.utils.data.data..., MSELoss())\n",
      "Train MSE: 0.17264035\n",
      "Valid MSE: 0.02520181\n",
      "Next Learning Rate: 0.001\n",
      "[5.9497395, 0.4663079, 0.27324829, 0.23761722, 0.22265078, 0.21405658, 0.2067666, 0.20023379, 0.19551153, 0.19202085, 0.18922949, 0.18692555, 0.18536656, 0.18429478, 0.18229212, 0.1811862, 0.1798716, 0.17918344, 0.1783194, 0.17767783, 0.17681535, 0.1763149, 0.17789583, 0.17652988, 0.17451353, 0.17448354, 0.17372775, 0.17397916, 0.17366673]\n",
      "[0.03050546, 0.029520234, 0.028763458, 0.028295934, 0.027895287, 0.027613347, 0.027325809, 0.027047822, 0.026818119, 0.026617194, 0.026408661, 0.02625409, 0.026100112, 0.026000237, 0.025880951, 0.025795083, 0.025714178, 0.02564267, 0.025570665, 0.025522698, 0.02547939, 0.025423326, 0.02539442, 0.02537742, 0.025339888, 0.02530091, 0.025253026, 0.025212537, 0.025217209]\n"
     ]
    },
    {
     "name": "stderr",
     "output_type": "stream",
     "text": [
      "                                                                                                                                                                              \r"
     ]
    },
    {
     "name": "stdout",
     "output_type": "stream",
     "text": [
      "Epoch 30, total_loss=0.2447, reg_loss = 0.0766\n",
      "   86.03 s in train({'n_hidden_rhs': [], '..., ConditionalAutoEncoder..., cuda, <torch.utils.data.data..., AdamW ( Parameter Grou..., MSELoss(), 30, max_norm=100)\n",
      "   42.71 s in test({'n_hidden_rhs': [], '..., ConditionalAutoEncoder..., cuda, <torch.utils.data.data..., MSELoss())\n",
      "    9.02 s in test({'n_hidden_rhs': [], '..., ConditionalAutoEncoder..., cuda, <torch.utils.data.data..., MSELoss())\n",
      "Train MSE: 0.17232579\n",
      "Valid MSE: 0.025168076\n",
      "Next Learning Rate: 0.001\n",
      "[5.9497395, 0.4663079, 0.27324829, 0.23761722, 0.22265078, 0.21405658, 0.2067666, 0.20023379, 0.19551153, 0.19202085, 0.18922949, 0.18692555, 0.18536656, 0.18429478, 0.18229212, 0.1811862, 0.1798716, 0.17918344, 0.1783194, 0.17767783, 0.17681535, 0.1763149, 0.17789583, 0.17652988, 0.17451353, 0.17448354, 0.17372775, 0.17397916, 0.17366673, 0.17264035]\n",
      "[0.03050546, 0.029520234, 0.028763458, 0.028295934, 0.027895287, 0.027613347, 0.027325809, 0.027047822, 0.026818119, 0.026617194, 0.026408661, 0.02625409, 0.026100112, 0.026000237, 0.025880951, 0.025795083, 0.025714178, 0.02564267, 0.025570665, 0.025522698, 0.02547939, 0.025423326, 0.02539442, 0.02537742, 0.025339888, 0.02530091, 0.025253026, 0.025212537, 0.025217209, 0.02520181]\n"
     ]
    },
    {
     "name": "stderr",
     "output_type": "stream",
     "text": [
      "                                                                                                                                                                              \r"
     ]
    },
    {
     "name": "stdout",
     "output_type": "stream",
     "text": [
      "Epoch 31, total_loss=0.2480, reg_loss = 0.0764\n",
      "   86.68 s in train({'n_hidden_rhs': [], '..., ConditionalAutoEncoder..., cuda, <torch.utils.data.data..., AdamW ( Parameter Grou..., MSELoss(), 31, max_norm=100)\n",
      "   41.43 s in test({'n_hidden_rhs': [], '..., ConditionalAutoEncoder..., cuda, <torch.utils.data.data..., MSELoss())\n",
      "    9.17 s in test({'n_hidden_rhs': [], '..., ConditionalAutoEncoder..., cuda, <torch.utils.data.data..., MSELoss())\n",
      "Train MSE: 0.17195684\n",
      "Valid MSE: 0.025151202\n",
      "Next Learning Rate: 0.001\n",
      "[5.9497395, 0.4663079, 0.27324829, 0.23761722, 0.22265078, 0.21405658, 0.2067666, 0.20023379, 0.19551153, 0.19202085, 0.18922949, 0.18692555, 0.18536656, 0.18429478, 0.18229212, 0.1811862, 0.1798716, 0.17918344, 0.1783194, 0.17767783, 0.17681535, 0.1763149, 0.17789583, 0.17652988, 0.17451353, 0.17448354, 0.17372775, 0.17397916, 0.17366673, 0.17264035, 0.17232579]\n",
      "[0.03050546, 0.029520234, 0.028763458, 0.028295934, 0.027895287, 0.027613347, 0.027325809, 0.027047822, 0.026818119, 0.026617194, 0.026408661, 0.02625409, 0.026100112, 0.026000237, 0.025880951, 0.025795083, 0.025714178, 0.02564267, 0.025570665, 0.025522698, 0.02547939, 0.025423326, 0.02539442, 0.02537742, 0.025339888, 0.02530091, 0.025253026, 0.025212537, 0.025217209, 0.02520181, 0.025168076]\n"
     ]
    },
    {
     "name": "stderr",
     "output_type": "stream",
     "text": [
      "                                                                                                                                                                              \r"
     ]
    },
    {
     "name": "stdout",
     "output_type": "stream",
     "text": [
      "Epoch 32, total_loss=0.2392, reg_loss = 0.0762\n",
      "   87.56 s in train({'n_hidden_rhs': [], '..., ConditionalAutoEncoder..., cuda, <torch.utils.data.data..., AdamW ( Parameter Grou..., MSELoss(), 32, max_norm=100)\n",
      "   41.12 s in test({'n_hidden_rhs': [], '..., ConditionalAutoEncoder..., cuda, <torch.utils.data.data..., MSELoss())\n",
      "    9.36 s in test({'n_hidden_rhs': [], '..., ConditionalAutoEncoder..., cuda, <torch.utils.data.data..., MSELoss())\n",
      "Train MSE: 0.17178741\n",
      "Valid MSE: 0.025137322\n",
      "Next Learning Rate: 0.001\n",
      "[5.9497395, 0.4663079, 0.27324829, 0.23761722, 0.22265078, 0.21405658, 0.2067666, 0.20023379, 0.19551153, 0.19202085, 0.18922949, 0.18692555, 0.18536656, 0.18429478, 0.18229212, 0.1811862, 0.1798716, 0.17918344, 0.1783194, 0.17767783, 0.17681535, 0.1763149, 0.17789583, 0.17652988, 0.17451353, 0.17448354, 0.17372775, 0.17397916, 0.17366673, 0.17264035, 0.17232579, 0.17195684]\n",
      "[0.03050546, 0.029520234, 0.028763458, 0.028295934, 0.027895287, 0.027613347, 0.027325809, 0.027047822, 0.026818119, 0.026617194, 0.026408661, 0.02625409, 0.026100112, 0.026000237, 0.025880951, 0.025795083, 0.025714178, 0.02564267, 0.025570665, 0.025522698, 0.02547939, 0.025423326, 0.02539442, 0.02537742, 0.025339888, 0.02530091, 0.025253026, 0.025212537, 0.025217209, 0.02520181, 0.025168076, 0.025151202]\n"
     ]
    },
    {
     "name": "stderr",
     "output_type": "stream",
     "text": [
      "                                                                                                                                                                              \r"
     ]
    },
    {
     "name": "stdout",
     "output_type": "stream",
     "text": [
      "Epoch 33, total_loss=0.2461, reg_loss = 0.0760\n",
      "   86.99 s in train({'n_hidden_rhs': [], '..., ConditionalAutoEncoder..., cuda, <torch.utils.data.data..., AdamW ( Parameter Grou..., MSELoss(), 33, max_norm=100)\n",
      "   41.85 s in test({'n_hidden_rhs': [], '..., ConditionalAutoEncoder..., cuda, <torch.utils.data.data..., MSELoss())\n",
      "    8.58 s in test({'n_hidden_rhs': [], '..., ConditionalAutoEncoder..., cuda, <torch.utils.data.data..., MSELoss())\n",
      "Train MSE: 0.1717287\n",
      "Valid MSE: 0.025099186\n",
      "Next Learning Rate: 0.001\n",
      "[5.9497395, 0.4663079, 0.27324829, 0.23761722, 0.22265078, 0.21405658, 0.2067666, 0.20023379, 0.19551153, 0.19202085, 0.18922949, 0.18692555, 0.18536656, 0.18429478, 0.18229212, 0.1811862, 0.1798716, 0.17918344, 0.1783194, 0.17767783, 0.17681535, 0.1763149, 0.17789583, 0.17652988, 0.17451353, 0.17448354, 0.17372775, 0.17397916, 0.17366673, 0.17264035, 0.17232579, 0.17195684, 0.17178741]\n",
      "[0.03050546, 0.029520234, 0.028763458, 0.028295934, 0.027895287, 0.027613347, 0.027325809, 0.027047822, 0.026818119, 0.026617194, 0.026408661, 0.02625409, 0.026100112, 0.026000237, 0.025880951, 0.025795083, 0.025714178, 0.02564267, 0.025570665, 0.025522698, 0.02547939, 0.025423326, 0.02539442, 0.02537742, 0.025339888, 0.02530091, 0.025253026, 0.025212537, 0.025217209, 0.02520181, 0.025168076, 0.025151202, 0.025137322]\n"
     ]
    },
    {
     "name": "stderr",
     "output_type": "stream",
     "text": [
      "                                                                                                                                                                              \r"
     ]
    },
    {
     "name": "stdout",
     "output_type": "stream",
     "text": [
      "Epoch 34, total_loss=0.2419, reg_loss = 0.0759\n",
      "   87.72 s in train({'n_hidden_rhs': [], '..., ConditionalAutoEncoder..., cuda, <torch.utils.data.data..., AdamW ( Parameter Grou..., MSELoss(), 34, max_norm=100)\n",
      "   41.56 s in test({'n_hidden_rhs': [], '..., ConditionalAutoEncoder..., cuda, <torch.utils.data.data..., MSELoss())\n",
      "    8.59 s in test({'n_hidden_rhs': [], '..., ConditionalAutoEncoder..., cuda, <torch.utils.data.data..., MSELoss())\n",
      "Train MSE: 0.17289521\n",
      "Valid MSE: 0.025115209\n",
      "Next Learning Rate: 0.001\n",
      "[5.9497395, 0.4663079, 0.27324829, 0.23761722, 0.22265078, 0.21405658, 0.2067666, 0.20023379, 0.19551153, 0.19202085, 0.18922949, 0.18692555, 0.18536656, 0.18429478, 0.18229212, 0.1811862, 0.1798716, 0.17918344, 0.1783194, 0.17767783, 0.17681535, 0.1763149, 0.17789583, 0.17652988, 0.17451353, 0.17448354, 0.17372775, 0.17397916, 0.17366673, 0.17264035, 0.17232579, 0.17195684, 0.17178741, 0.1717287]\n",
      "[0.03050546, 0.029520234, 0.028763458, 0.028295934, 0.027895287, 0.027613347, 0.027325809, 0.027047822, 0.026818119, 0.026617194, 0.026408661, 0.02625409, 0.026100112, 0.026000237, 0.025880951, 0.025795083, 0.025714178, 0.02564267, 0.025570665, 0.025522698, 0.02547939, 0.025423326, 0.02539442, 0.02537742, 0.025339888, 0.02530091, 0.025253026, 0.025212537, 0.025217209, 0.02520181, 0.025168076, 0.025151202, 0.025137322, 0.025099186]\n"
     ]
    },
    {
     "name": "stderr",
     "output_type": "stream",
     "text": [
      "                                                                                                                                                                              \r"
     ]
    },
    {
     "name": "stdout",
     "output_type": "stream",
     "text": [
      "Epoch 35, total_loss=0.2443, reg_loss = 0.0757\n",
      "   87.26 s in train({'n_hidden_rhs': [], '..., ConditionalAutoEncoder..., cuda, <torch.utils.data.data..., AdamW ( Parameter Grou..., MSELoss(), 35, max_norm=100)\n",
      "   42.45 s in test({'n_hidden_rhs': [], '..., ConditionalAutoEncoder..., cuda, <torch.utils.data.data..., MSELoss())\n",
      "    9.42 s in test({'n_hidden_rhs': [], '..., ConditionalAutoEncoder..., cuda, <torch.utils.data.data..., MSELoss())\n",
      "Train MSE: 0.17415072\n",
      "Valid MSE: 0.025077622\n",
      "Next Learning Rate: 0.001\n",
      "[5.9497395, 0.4663079, 0.27324829, 0.23761722, 0.22265078, 0.21405658, 0.2067666, 0.20023379, 0.19551153, 0.19202085, 0.18922949, 0.18692555, 0.18536656, 0.18429478, 0.18229212, 0.1811862, 0.1798716, 0.17918344, 0.1783194, 0.17767783, 0.17681535, 0.1763149, 0.17789583, 0.17652988, 0.17451353, 0.17448354, 0.17372775, 0.17397916, 0.17366673, 0.17264035, 0.17232579, 0.17195684, 0.17178741, 0.1717287, 0.17289521]\n",
      "[0.03050546, 0.029520234, 0.028763458, 0.028295934, 0.027895287, 0.027613347, 0.027325809, 0.027047822, 0.026818119, 0.026617194, 0.026408661, 0.02625409, 0.026100112, 0.026000237, 0.025880951, 0.025795083, 0.025714178, 0.02564267, 0.025570665, 0.025522698, 0.02547939, 0.025423326, 0.02539442, 0.02537742, 0.025339888, 0.02530091, 0.025253026, 0.025212537, 0.025217209, 0.02520181, 0.025168076, 0.025151202, 0.025137322, 0.025099186, 0.025115209]\n"
     ]
    },
    {
     "name": "stderr",
     "output_type": "stream",
     "text": [
      "                                                                                                                                                                              \r"
     ]
    },
    {
     "name": "stdout",
     "output_type": "stream",
     "text": [
      "Epoch 36, total_loss=0.4424, reg_loss = 0.0755\n",
      "   85.94 s in train({'n_hidden_rhs': [], '..., ConditionalAutoEncoder..., cuda, <torch.utils.data.data..., AdamW ( Parameter Grou..., MSELoss(), 36, max_norm=100)\n",
      "   42.13 s in test({'n_hidden_rhs': [], '..., ConditionalAutoEncoder..., cuda, <torch.utils.data.data..., MSELoss())\n",
      "    9.28 s in test({'n_hidden_rhs': [], '..., ConditionalAutoEncoder..., cuda, <torch.utils.data.data..., MSELoss())\n",
      "Train MSE: 0.1711022\n",
      "Valid MSE: 0.025072638\n",
      "Next Learning Rate: 0.001\n",
      "[5.9497395, 0.4663079, 0.27324829, 0.23761722, 0.22265078, 0.21405658, 0.2067666, 0.20023379, 0.19551153, 0.19202085, 0.18922949, 0.18692555, 0.18536656, 0.18429478, 0.18229212, 0.1811862, 0.1798716, 0.17918344, 0.1783194, 0.17767783, 0.17681535, 0.1763149, 0.17789583, 0.17652988, 0.17451353, 0.17448354, 0.17372775, 0.17397916, 0.17366673, 0.17264035, 0.17232579, 0.17195684, 0.17178741, 0.1717287, 0.17289521, 0.17415072]\n",
      "[0.03050546, 0.029520234, 0.028763458, 0.028295934, 0.027895287, 0.027613347, 0.027325809, 0.027047822, 0.026818119, 0.026617194, 0.026408661, 0.02625409, 0.026100112, 0.026000237, 0.025880951, 0.025795083, 0.025714178, 0.02564267, 0.025570665, 0.025522698, 0.02547939, 0.025423326, 0.02539442, 0.02537742, 0.025339888, 0.02530091, 0.025253026, 0.025212537, 0.025217209, 0.02520181, 0.025168076, 0.025151202, 0.025137322, 0.025099186, 0.025115209, 0.025077622]\n"
     ]
    },
    {
     "name": "stderr",
     "output_type": "stream",
     "text": [
      "                                                                                                                                                                              \r"
     ]
    },
    {
     "name": "stdout",
     "output_type": "stream",
     "text": [
      "Epoch 37, total_loss=0.2471, reg_loss = 0.0754\n",
      "   88.38 s in train({'n_hidden_rhs': [], '..., ConditionalAutoEncoder..., cuda, <torch.utils.data.data..., AdamW ( Parameter Grou..., MSELoss(), 37, max_norm=100)\n",
      "   41.16 s in test({'n_hidden_rhs': [], '..., ConditionalAutoEncoder..., cuda, <torch.utils.data.data..., MSELoss())\n",
      "    8.77 s in test({'n_hidden_rhs': [], '..., ConditionalAutoEncoder..., cuda, <torch.utils.data.data..., MSELoss())\n",
      "Train MSE: 0.17307429\n",
      "Valid MSE: 0.025042977\n",
      "Next Learning Rate: 0.001\n",
      "[5.9497395, 0.4663079, 0.27324829, 0.23761722, 0.22265078, 0.21405658, 0.2067666, 0.20023379, 0.19551153, 0.19202085, 0.18922949, 0.18692555, 0.18536656, 0.18429478, 0.18229212, 0.1811862, 0.1798716, 0.17918344, 0.1783194, 0.17767783, 0.17681535, 0.1763149, 0.17789583, 0.17652988, 0.17451353, 0.17448354, 0.17372775, 0.17397916, 0.17366673, 0.17264035, 0.17232579, 0.17195684, 0.17178741, 0.1717287, 0.17289521, 0.17415072, 0.1711022]\n",
      "[0.03050546, 0.029520234, 0.028763458, 0.028295934, 0.027895287, 0.027613347, 0.027325809, 0.027047822, 0.026818119, 0.026617194, 0.026408661, 0.02625409, 0.026100112, 0.026000237, 0.025880951, 0.025795083, 0.025714178, 0.02564267, 0.025570665, 0.025522698, 0.02547939, 0.025423326, 0.02539442, 0.02537742, 0.025339888, 0.02530091, 0.025253026, 0.025212537, 0.025217209, 0.02520181, 0.025168076, 0.025151202, 0.025137322, 0.025099186, 0.025115209, 0.025077622, 0.025072638]\n"
     ]
    },
    {
     "name": "stderr",
     "output_type": "stream",
     "text": [
      "                                                                                                                                                                              \r"
     ]
    },
    {
     "name": "stdout",
     "output_type": "stream",
     "text": [
      "Epoch 38, total_loss=0.2428, reg_loss = 0.0752\n",
      "   87.78 s in train({'n_hidden_rhs': [], '..., ConditionalAutoEncoder..., cuda, <torch.utils.data.data..., AdamW ( Parameter Grou..., MSELoss(), 38, max_norm=100)\n",
      "   41.67 s in test({'n_hidden_rhs': [], '..., ConditionalAutoEncoder..., cuda, <torch.utils.data.data..., MSELoss())\n",
      "    8.22 s in test({'n_hidden_rhs': [], '..., ConditionalAutoEncoder..., cuda, <torch.utils.data.data..., MSELoss())\n",
      "Train MSE: 0.18211745\n",
      "Valid MSE: 0.025046976\n",
      "Next Learning Rate: 0.001\n",
      "[5.9497395, 0.4663079, 0.27324829, 0.23761722, 0.22265078, 0.21405658, 0.2067666, 0.20023379, 0.19551153, 0.19202085, 0.18922949, 0.18692555, 0.18536656, 0.18429478, 0.18229212, 0.1811862, 0.1798716, 0.17918344, 0.1783194, 0.17767783, 0.17681535, 0.1763149, 0.17789583, 0.17652988, 0.17451353, 0.17448354, 0.17372775, 0.17397916, 0.17366673, 0.17264035, 0.17232579, 0.17195684, 0.17178741, 0.1717287, 0.17289521, 0.17415072, 0.1711022, 0.17307429]\n",
      "[0.03050546, 0.029520234, 0.028763458, 0.028295934, 0.027895287, 0.027613347, 0.027325809, 0.027047822, 0.026818119, 0.026617194, 0.026408661, 0.02625409, 0.026100112, 0.026000237, 0.025880951, 0.025795083, 0.025714178, 0.02564267, 0.025570665, 0.025522698, 0.02547939, 0.025423326, 0.02539442, 0.02537742, 0.025339888, 0.02530091, 0.025253026, 0.025212537, 0.025217209, 0.02520181, 0.025168076, 0.025151202, 0.025137322, 0.025099186, 0.025115209, 0.025077622, 0.025072638, 0.025042977]\n"
     ]
    },
    {
     "name": "stderr",
     "output_type": "stream",
     "text": [
      "                                                                                                                                                                              \r"
     ]
    },
    {
     "name": "stdout",
     "output_type": "stream",
     "text": [
      "Epoch 39, total_loss=0.2672, reg_loss = 0.0750\n",
      "   86.90 s in train({'n_hidden_rhs': [], '..., ConditionalAutoEncoder..., cuda, <torch.utils.data.data..., AdamW ( Parameter Grou..., MSELoss(), 39, max_norm=100)\n",
      "   42.12 s in test({'n_hidden_rhs': [], '..., ConditionalAutoEncoder..., cuda, <torch.utils.data.data..., MSELoss())\n",
      "    8.73 s in test({'n_hidden_rhs': [], '..., ConditionalAutoEncoder..., cuda, <torch.utils.data.data..., MSELoss())\n",
      "Train MSE: 0.17366037\n",
      "Valid MSE: 0.025060833\n",
      "Next Learning Rate: 0.001\n",
      "[5.9497395, 0.4663079, 0.27324829, 0.23761722, 0.22265078, 0.21405658, 0.2067666, 0.20023379, 0.19551153, 0.19202085, 0.18922949, 0.18692555, 0.18536656, 0.18429478, 0.18229212, 0.1811862, 0.1798716, 0.17918344, 0.1783194, 0.17767783, 0.17681535, 0.1763149, 0.17789583, 0.17652988, 0.17451353, 0.17448354, 0.17372775, 0.17397916, 0.17366673, 0.17264035, 0.17232579, 0.17195684, 0.17178741, 0.1717287, 0.17289521, 0.17415072, 0.1711022, 0.17307429, 0.18211745]\n",
      "[0.03050546, 0.029520234, 0.028763458, 0.028295934, 0.027895287, 0.027613347, 0.027325809, 0.027047822, 0.026818119, 0.026617194, 0.026408661, 0.02625409, 0.026100112, 0.026000237, 0.025880951, 0.025795083, 0.025714178, 0.02564267, 0.025570665, 0.025522698, 0.02547939, 0.025423326, 0.02539442, 0.02537742, 0.025339888, 0.02530091, 0.025253026, 0.025212537, 0.025217209, 0.02520181, 0.025168076, 0.025151202, 0.025137322, 0.025099186, 0.025115209, 0.025077622, 0.025072638, 0.025042977, 0.025046976]\n"
     ]
    },
    {
     "name": "stderr",
     "output_type": "stream",
     "text": [
      "                                                                                                                                                                              \r"
     ]
    },
    {
     "name": "stdout",
     "output_type": "stream",
     "text": [
      "Epoch 40, total_loss=0.2433, reg_loss = 0.0748\n",
      "   87.11 s in train({'n_hidden_rhs': [], '..., ConditionalAutoEncoder..., cuda, <torch.utils.data.data..., AdamW ( Parameter Grou..., MSELoss(), 40, max_norm=100)\n",
      "   42.23 s in test({'n_hidden_rhs': [], '..., ConditionalAutoEncoder..., cuda, <torch.utils.data.data..., MSELoss())\n",
      "    8.49 s in test({'n_hidden_rhs': [], '..., ConditionalAutoEncoder..., cuda, <torch.utils.data.data..., MSELoss())\n",
      "Train MSE: 0.17008074\n",
      "Valid MSE: 0.025102586\n",
      "Next Learning Rate: 0.001\n",
      "[5.9497395, 0.4663079, 0.27324829, 0.23761722, 0.22265078, 0.21405658, 0.2067666, 0.20023379, 0.19551153, 0.19202085, 0.18922949, 0.18692555, 0.18536656, 0.18429478, 0.18229212, 0.1811862, 0.1798716, 0.17918344, 0.1783194, 0.17767783, 0.17681535, 0.1763149, 0.17789583, 0.17652988, 0.17451353, 0.17448354, 0.17372775, 0.17397916, 0.17366673, 0.17264035, 0.17232579, 0.17195684, 0.17178741, 0.1717287, 0.17289521, 0.17415072, 0.1711022, 0.17307429, 0.18211745, 0.17366037]\n",
      "[0.03050546, 0.029520234, 0.028763458, 0.028295934, 0.027895287, 0.027613347, 0.027325809, 0.027047822, 0.026818119, 0.026617194, 0.026408661, 0.02625409, 0.026100112, 0.026000237, 0.025880951, 0.025795083, 0.025714178, 0.02564267, 0.025570665, 0.025522698, 0.02547939, 0.025423326, 0.02539442, 0.02537742, 0.025339888, 0.02530091, 0.025253026, 0.025212537, 0.025217209, 0.02520181, 0.025168076, 0.025151202, 0.025137322, 0.025099186, 0.025115209, 0.025077622, 0.025072638, 0.025042977, 0.025046976, 0.025060833]\n",
      "Training done. Evaluating...\n"
     ]
    },
    {
     "name": "stderr",
     "output_type": "stream",
     "text": [
      "100%|███████████████████████████████████████████████████████████████████████████████████████████████████████████████████████████████████████████| 6/6 [00:12<00:00,  2.06s/it]\n",
      "100%|███████████████████████████████████████████████████████████████████████████████████████████████████████████████████████████████████████████| 4/4 [00:09<00:00,  2.48s/it]\n"
     ]
    },
    {
     "name": "stdout",
     "output_type": "stream",
     "text": [
      "Params 8: (8, (24, 12), 9, False)\n",
      "ConditionalAutoEncoder(\n",
      "  (lhs): Sequential(\n",
      "    (0): LayerNorm((45,), eps=1e-05, elementwise_affine=True)\n",
      "    (1): Linear(in_features=45, out_features=24, bias=True)\n",
      "    (2): SELU()\n",
      "    (3): LayerNorm((24,), eps=1e-05, elementwise_affine=True)\n",
      "    (4): Linear(in_features=24, out_features=12, bias=True)\n",
      "    (5): SELU()\n",
      "    (6): Linear(in_features=12, out_features=8, bias=True)\n",
      "  )\n",
      "  (rhs): Sequential(\n",
      "    (0): Linear(in_features=46, out_features=8, bias=True)\n",
      "  )\n",
      ")\n",
      "   41.42 s in test({'n_hidden_rhs': [], '..., ConditionalAutoEncoder..., cuda, <torch.utils.data.data..., MSELoss())\n",
      "    8.53 s in test({'n_hidden_rhs': [], '..., ConditionalAutoEncoder..., cuda, <torch.utils.data.data..., MSELoss())\n",
      "Pre-Train Train MSE: 5.7759023\n",
      "Pre-Train Valid MSE: 0.03535536\n"
     ]
    },
    {
     "name": "stderr",
     "output_type": "stream",
     "text": [
      "                                                                                                                                                                              \r"
     ]
    },
    {
     "name": "stdout",
     "output_type": "stream",
     "text": [
      "Epoch 1, total_loss=2.5093, reg_loss = 0.0908\n",
      "   87.76 s in train({'n_hidden_rhs': [], '..., ConditionalAutoEncoder..., cuda, <torch.utils.data.data..., AdamW ( Parameter Grou..., MSELoss(), 1, max_norm=100)\n",
      "   43.11 s in test({'n_hidden_rhs': [], '..., ConditionalAutoEncoder..., cuda, <torch.utils.data.data..., MSELoss())\n",
      "    9.33 s in test({'n_hidden_rhs': [], '..., ConditionalAutoEncoder..., cuda, <torch.utils.data.data..., MSELoss())\n",
      "Train MSE: 0.66950125\n",
      "Valid MSE: 0.03590945\n",
      "Next Learning Rate: 0.001\n",
      "[5.7759023]\n",
      "[0.03535536]\n"
     ]
    },
    {
     "name": "stderr",
     "output_type": "stream",
     "text": [
      "                                                                                                                                                                              \r"
     ]
    },
    {
     "name": "stdout",
     "output_type": "stream",
     "text": [
      "Epoch 2, total_loss=0.5021, reg_loss = 0.0905\n",
      "   86.41 s in train({'n_hidden_rhs': [], '..., ConditionalAutoEncoder..., cuda, <torch.utils.data.data..., AdamW ( Parameter Grou..., MSELoss(), 2, max_norm=100)\n",
      "   41.95 s in test({'n_hidden_rhs': [], '..., ConditionalAutoEncoder..., cuda, <torch.utils.data.data..., MSELoss())\n",
      "    9.30 s in test({'n_hidden_rhs': [], '..., ConditionalAutoEncoder..., cuda, <torch.utils.data.data..., MSELoss())\n",
      "Train MSE: 0.30034906\n",
      "Valid MSE: 0.034041025\n",
      "Next Learning Rate: 0.001\n",
      "[5.7759023, 0.66950125]\n",
      "[0.03535536, 0.03590945]\n"
     ]
    },
    {
     "name": "stderr",
     "output_type": "stream",
     "text": [
      "                                                                                                                                                                              \r"
     ]
    },
    {
     "name": "stdout",
     "output_type": "stream",
     "text": [
      "Epoch 3, total_loss=0.3397, reg_loss = 0.0898\n",
      "   87.67 s in train({'n_hidden_rhs': [], '..., ConditionalAutoEncoder..., cuda, <torch.utils.data.data..., AdamW ( Parameter Grou..., MSELoss(), 3, max_norm=100)\n",
      "   42.52 s in test({'n_hidden_rhs': [], '..., ConditionalAutoEncoder..., cuda, <torch.utils.data.data..., MSELoss())\n",
      "    8.56 s in test({'n_hidden_rhs': [], '..., ConditionalAutoEncoder..., cuda, <torch.utils.data.data..., MSELoss())\n",
      "Train MSE: 0.23309559\n",
      "Valid MSE: 0.031801328\n",
      "Next Learning Rate: 0.001\n",
      "[5.7759023, 0.66950125, 0.30034906]\n",
      "[0.03535536, 0.03590945, 0.034041025]\n"
     ]
    },
    {
     "name": "stderr",
     "output_type": "stream",
     "text": [
      "                                                                                                                                                                              \r"
     ]
    },
    {
     "name": "stdout",
     "output_type": "stream",
     "text": [
      "Epoch 4, total_loss=0.3075, reg_loss = 0.0888\n",
      "   87.83 s in train({'n_hidden_rhs': [], '..., ConditionalAutoEncoder..., cuda, <torch.utils.data.data..., AdamW ( Parameter Grou..., MSELoss(), 4, max_norm=100)\n",
      "   42.11 s in test({'n_hidden_rhs': [], '..., ConditionalAutoEncoder..., cuda, <torch.utils.data.data..., MSELoss())\n",
      "    9.46 s in test({'n_hidden_rhs': [], '..., ConditionalAutoEncoder..., cuda, <torch.utils.data.data..., MSELoss())\n",
      "Train MSE: 0.21502145\n",
      "Valid MSE: 0.030017802\n",
      "Next Learning Rate: 0.001\n",
      "[5.7759023, 0.66950125, 0.30034906, 0.23309559]\n",
      "[0.03535536, 0.03590945, 0.034041025, 0.031801328]\n"
     ]
    },
    {
     "name": "stderr",
     "output_type": "stream",
     "text": [
      "                                                                                                                                                                              \r"
     ]
    },
    {
     "name": "stdout",
     "output_type": "stream",
     "text": [
      "Epoch 5, total_loss=0.3743, reg_loss = 0.0879\n",
      "   88.59 s in train({'n_hidden_rhs': [], '..., ConditionalAutoEncoder..., cuda, <torch.utils.data.data..., AdamW ( Parameter Grou..., MSELoss(), 5, max_norm=100)\n",
      "   42.15 s in test({'n_hidden_rhs': [], '..., ConditionalAutoEncoder..., cuda, <torch.utils.data.data..., MSELoss())\n",
      "    8.83 s in test({'n_hidden_rhs': [], '..., ConditionalAutoEncoder..., cuda, <torch.utils.data.data..., MSELoss())\n",
      "Train MSE: 0.20495963\n",
      "Valid MSE: 0.028818453\n",
      "Next Learning Rate: 0.001\n",
      "[5.7759023, 0.66950125, 0.30034906, 0.23309559, 0.21502145]\n",
      "[0.03535536, 0.03590945, 0.034041025, 0.031801328, 0.030017802]\n"
     ]
    },
    {
     "name": "stderr",
     "output_type": "stream",
     "text": [
      "                                                                                                                                                                              \r"
     ]
    },
    {
     "name": "stdout",
     "output_type": "stream",
     "text": [
      "Epoch 6, total_loss=0.2839, reg_loss = 0.0870\n",
      "   87.11 s in train({'n_hidden_rhs': [], '..., ConditionalAutoEncoder..., cuda, <torch.utils.data.data..., AdamW ( Parameter Grou..., MSELoss(), 6, max_norm=100)\n",
      "   41.92 s in test({'n_hidden_rhs': [], '..., ConditionalAutoEncoder..., cuda, <torch.utils.data.data..., MSELoss())\n",
      "    9.57 s in test({'n_hidden_rhs': [], '..., ConditionalAutoEncoder..., cuda, <torch.utils.data.data..., MSELoss())\n",
      "Train MSE: 0.1994291\n",
      "Valid MSE: 0.027894648\n",
      "Next Learning Rate: 0.001\n",
      "[5.7759023, 0.66950125, 0.30034906, 0.23309559, 0.21502145, 0.20495963]\n",
      "[0.03535536, 0.03590945, 0.034041025, 0.031801328, 0.030017802, 0.028818453]\n"
     ]
    },
    {
     "name": "stderr",
     "output_type": "stream",
     "text": [
      "                                                                                                                                                                              \r"
     ]
    },
    {
     "name": "stdout",
     "output_type": "stream",
     "text": [
      "Epoch 7, total_loss=0.2977, reg_loss = 0.0862\n",
      "   87.22 s in train({'n_hidden_rhs': [], '..., ConditionalAutoEncoder..., cuda, <torch.utils.data.data..., AdamW ( Parameter Grou..., MSELoss(), 7, max_norm=100)\n",
      "   41.37 s in test({'n_hidden_rhs': [], '..., ConditionalAutoEncoder..., cuda, <torch.utils.data.data..., MSELoss())\n",
      "    9.07 s in test({'n_hidden_rhs': [], '..., ConditionalAutoEncoder..., cuda, <torch.utils.data.data..., MSELoss())\n",
      "Train MSE: 0.19516139\n",
      "Valid MSE: 0.027268313\n",
      "Next Learning Rate: 0.001\n",
      "[5.7759023, 0.66950125, 0.30034906, 0.23309559, 0.21502145, 0.20495963, 0.1994291]\n",
      "[0.03535536, 0.03590945, 0.034041025, 0.031801328, 0.030017802, 0.028818453, 0.027894648]\n"
     ]
    },
    {
     "name": "stderr",
     "output_type": "stream",
     "text": [
      "                                                                                                                                                                              \r"
     ]
    },
    {
     "name": "stdout",
     "output_type": "stream",
     "text": [
      "Epoch 8, total_loss=0.2726, reg_loss = 0.0854\n",
      "   87.25 s in train({'n_hidden_rhs': [], '..., ConditionalAutoEncoder..., cuda, <torch.utils.data.data..., AdamW ( Parameter Grou..., MSELoss(), 8, max_norm=100)\n",
      "   41.02 s in test({'n_hidden_rhs': [], '..., ConditionalAutoEncoder..., cuda, <torch.utils.data.data..., MSELoss())\n",
      "    8.39 s in test({'n_hidden_rhs': [], '..., ConditionalAutoEncoder..., cuda, <torch.utils.data.data..., MSELoss())\n",
      "Train MSE: 0.1914698\n",
      "Valid MSE: 0.026791668\n",
      "Next Learning Rate: 0.001\n",
      "[5.7759023, 0.66950125, 0.30034906, 0.23309559, 0.21502145, 0.20495963, 0.1994291, 0.19516139]\n",
      "[0.03535536, 0.03590945, 0.034041025, 0.031801328, 0.030017802, 0.028818453, 0.027894648, 0.027268313]\n"
     ]
    },
    {
     "name": "stderr",
     "output_type": "stream",
     "text": [
      "                                                                                                                                                                              \r"
     ]
    },
    {
     "name": "stdout",
     "output_type": "stream",
     "text": [
      "Epoch 9, total_loss=0.2722, reg_loss = 0.0846\n",
      "   86.51 s in train({'n_hidden_rhs': [], '..., ConditionalAutoEncoder..., cuda, <torch.utils.data.data..., AdamW ( Parameter Grou..., MSELoss(), 9, max_norm=100)\n",
      "   41.16 s in test({'n_hidden_rhs': [], '..., ConditionalAutoEncoder..., cuda, <torch.utils.data.data..., MSELoss())\n",
      "    9.14 s in test({'n_hidden_rhs': [], '..., ConditionalAutoEncoder..., cuda, <torch.utils.data.data..., MSELoss())\n",
      "Train MSE: 0.1887009\n",
      "Valid MSE: 0.026456432\n",
      "Next Learning Rate: 0.001\n",
      "[5.7759023, 0.66950125, 0.30034906, 0.23309559, 0.21502145, 0.20495963, 0.1994291, 0.19516139, 0.1914698]\n",
      "[0.03535536, 0.03590945, 0.034041025, 0.031801328, 0.030017802, 0.028818453, 0.027894648, 0.027268313, 0.026791668]\n"
     ]
    },
    {
     "name": "stderr",
     "output_type": "stream",
     "text": [
      "                                                                                                                                                                              \r"
     ]
    },
    {
     "name": "stdout",
     "output_type": "stream",
     "text": [
      "Epoch 10, total_loss=0.2673, reg_loss = 0.0838\n",
      "   86.93 s in train({'n_hidden_rhs': [], '..., ConditionalAutoEncoder..., cuda, <torch.utils.data.data..., AdamW ( Parameter Grou..., MSELoss(), 10, max_norm=100)\n",
      "   42.15 s in test({'n_hidden_rhs': [], '..., ConditionalAutoEncoder..., cuda, <torch.utils.data.data..., MSELoss())\n",
      "    9.28 s in test({'n_hidden_rhs': [], '..., ConditionalAutoEncoder..., cuda, <torch.utils.data.data..., MSELoss())\n",
      "Train MSE: 0.18672821\n",
      "Valid MSE: 0.026212718\n",
      "Next Learning Rate: 0.001\n",
      "[5.7759023, 0.66950125, 0.30034906, 0.23309559, 0.21502145, 0.20495963, 0.1994291, 0.19516139, 0.1914698, 0.1887009]\n",
      "[0.03535536, 0.03590945, 0.034041025, 0.031801328, 0.030017802, 0.028818453, 0.027894648, 0.027268313, 0.026791668, 0.026456432]\n"
     ]
    },
    {
     "name": "stderr",
     "output_type": "stream",
     "text": [
      "                                                                                                                                                                              \r"
     ]
    },
    {
     "name": "stdout",
     "output_type": "stream",
     "text": [
      "Epoch 11, total_loss=0.2644, reg_loss = 0.0832\n",
      "   86.91 s in train({'n_hidden_rhs': [], '..., ConditionalAutoEncoder..., cuda, <torch.utils.data.data..., AdamW ( Parameter Grou..., MSELoss(), 11, max_norm=100)\n",
      "   42.38 s in test({'n_hidden_rhs': [], '..., ConditionalAutoEncoder..., cuda, <torch.utils.data.data..., MSELoss())\n",
      "    8.78 s in test({'n_hidden_rhs': [], '..., ConditionalAutoEncoder..., cuda, <torch.utils.data.data..., MSELoss())\n",
      "Train MSE: 0.18467619\n",
      "Valid MSE: 0.026032187\n",
      "Next Learning Rate: 0.001\n",
      "[5.7759023, 0.66950125, 0.30034906, 0.23309559, 0.21502145, 0.20495963, 0.1994291, 0.19516139, 0.1914698, 0.1887009, 0.18672821]\n",
      "[0.03535536, 0.03590945, 0.034041025, 0.031801328, 0.030017802, 0.028818453, 0.027894648, 0.027268313, 0.026791668, 0.026456432, 0.026212718]\n"
     ]
    },
    {
     "name": "stderr",
     "output_type": "stream",
     "text": [
      "                                                                                                                                                                              \r"
     ]
    },
    {
     "name": "stdout",
     "output_type": "stream",
     "text": [
      "Epoch 12, total_loss=0.2634, reg_loss = 0.0825\n",
      "   86.66 s in train({'n_hidden_rhs': [], '..., ConditionalAutoEncoder..., cuda, <torch.utils.data.data..., AdamW ( Parameter Grou..., MSELoss(), 12, max_norm=100)\n",
      "   42.17 s in test({'n_hidden_rhs': [], '..., ConditionalAutoEncoder..., cuda, <torch.utils.data.data..., MSELoss())\n",
      "    8.90 s in test({'n_hidden_rhs': [], '..., ConditionalAutoEncoder..., cuda, <torch.utils.data.data..., MSELoss())\n",
      "Train MSE: 0.18306026\n",
      "Valid MSE: 0.025893852\n",
      "Next Learning Rate: 0.001\n",
      "[5.7759023, 0.66950125, 0.30034906, 0.23309559, 0.21502145, 0.20495963, 0.1994291, 0.19516139, 0.1914698, 0.1887009, 0.18672821, 0.18467619]\n",
      "[0.03535536, 0.03590945, 0.034041025, 0.031801328, 0.030017802, 0.028818453, 0.027894648, 0.027268313, 0.026791668, 0.026456432, 0.026212718, 0.026032187]\n"
     ]
    },
    {
     "name": "stderr",
     "output_type": "stream",
     "text": [
      "                                                                                                                                                                              \r"
     ]
    },
    {
     "name": "stdout",
     "output_type": "stream",
     "text": [
      "Epoch 13, total_loss=0.2575, reg_loss = 0.0819\n",
      "   88.14 s in train({'n_hidden_rhs': [], '..., ConditionalAutoEncoder..., cuda, <torch.utils.data.data..., AdamW ( Parameter Grou..., MSELoss(), 13, max_norm=100)\n",
      "   41.82 s in test({'n_hidden_rhs': [], '..., ConditionalAutoEncoder..., cuda, <torch.utils.data.data..., MSELoss())\n",
      "    9.70 s in test({'n_hidden_rhs': [], '..., ConditionalAutoEncoder..., cuda, <torch.utils.data.data..., MSELoss())\n",
      "Train MSE: 0.1813689\n",
      "Valid MSE: 0.025776729\n",
      "Next Learning Rate: 0.001\n",
      "[5.7759023, 0.66950125, 0.30034906, 0.23309559, 0.21502145, 0.20495963, 0.1994291, 0.19516139, 0.1914698, 0.1887009, 0.18672821, 0.18467619, 0.18306026]\n",
      "[0.03535536, 0.03590945, 0.034041025, 0.031801328, 0.030017802, 0.028818453, 0.027894648, 0.027268313, 0.026791668, 0.026456432, 0.026212718, 0.026032187, 0.025893852]\n"
     ]
    },
    {
     "name": "stderr",
     "output_type": "stream",
     "text": [
      "                                                                                                                                                                              \r"
     ]
    },
    {
     "name": "stdout",
     "output_type": "stream",
     "text": [
      "Epoch 14, total_loss=0.2575, reg_loss = 0.0814\n",
      "   85.25 s in train({'n_hidden_rhs': [], '..., ConditionalAutoEncoder..., cuda, <torch.utils.data.data..., AdamW ( Parameter Grou..., MSELoss(), 14, max_norm=100)\n",
      "   41.69 s in test({'n_hidden_rhs': [], '..., ConditionalAutoEncoder..., cuda, <torch.utils.data.data..., MSELoss())\n",
      "    8.59 s in test({'n_hidden_rhs': [], '..., ConditionalAutoEncoder..., cuda, <torch.utils.data.data..., MSELoss())\n",
      "Train MSE: 0.18016517\n",
      "Valid MSE: 0.025686312\n",
      "Next Learning Rate: 0.001\n",
      "[5.7759023, 0.66950125, 0.30034906, 0.23309559, 0.21502145, 0.20495963, 0.1994291, 0.19516139, 0.1914698, 0.1887009, 0.18672821, 0.18467619, 0.18306026, 0.1813689]\n",
      "[0.03535536, 0.03590945, 0.034041025, 0.031801328, 0.030017802, 0.028818453, 0.027894648, 0.027268313, 0.026791668, 0.026456432, 0.026212718, 0.026032187, 0.025893852, 0.025776729]\n"
     ]
    },
    {
     "name": "stderr",
     "output_type": "stream",
     "text": [
      "                                                                                                                                                                              \r"
     ]
    },
    {
     "name": "stdout",
     "output_type": "stream",
     "text": [
      "Epoch 15, total_loss=0.2554, reg_loss = 0.0809\n",
      "   87.86 s in train({'n_hidden_rhs': [], '..., ConditionalAutoEncoder..., cuda, <torch.utils.data.data..., AdamW ( Parameter Grou..., MSELoss(), 15, max_norm=100)\n",
      "   41.83 s in test({'n_hidden_rhs': [], '..., ConditionalAutoEncoder..., cuda, <torch.utils.data.data..., MSELoss())\n",
      "    8.87 s in test({'n_hidden_rhs': [], '..., ConditionalAutoEncoder..., cuda, <torch.utils.data.data..., MSELoss())\n",
      "Train MSE: 0.17894255\n",
      "Valid MSE: 0.025611341\n",
      "Next Learning Rate: 0.001\n",
      "[5.7759023, 0.66950125, 0.30034906, 0.23309559, 0.21502145, 0.20495963, 0.1994291, 0.19516139, 0.1914698, 0.1887009, 0.18672821, 0.18467619, 0.18306026, 0.1813689, 0.18016517]\n",
      "[0.03535536, 0.03590945, 0.034041025, 0.031801328, 0.030017802, 0.028818453, 0.027894648, 0.027268313, 0.026791668, 0.026456432, 0.026212718, 0.026032187, 0.025893852, 0.025776729, 0.025686312]\n"
     ]
    },
    {
     "name": "stderr",
     "output_type": "stream",
     "text": [
      "                                                                                                                                                                              \r"
     ]
    },
    {
     "name": "stdout",
     "output_type": "stream",
     "text": [
      "Epoch 16, total_loss=0.2541, reg_loss = 0.0804\n",
      "   87.18 s in train({'n_hidden_rhs': [], '..., ConditionalAutoEncoder..., cuda, <torch.utils.data.data..., AdamW ( Parameter Grou..., MSELoss(), 16, max_norm=100)\n",
      "   41.46 s in test({'n_hidden_rhs': [], '..., ConditionalAutoEncoder..., cuda, <torch.utils.data.data..., MSELoss())\n",
      "    8.98 s in test({'n_hidden_rhs': [], '..., ConditionalAutoEncoder..., cuda, <torch.utils.data.data..., MSELoss())\n",
      "Train MSE: 0.17799595\n",
      "Valid MSE: 0.025545146\n",
      "Next Learning Rate: 0.001\n",
      "[5.7759023, 0.66950125, 0.30034906, 0.23309559, 0.21502145, 0.20495963, 0.1994291, 0.19516139, 0.1914698, 0.1887009, 0.18672821, 0.18467619, 0.18306026, 0.1813689, 0.18016517, 0.17894255]\n",
      "[0.03535536, 0.03590945, 0.034041025, 0.031801328, 0.030017802, 0.028818453, 0.027894648, 0.027268313, 0.026791668, 0.026456432, 0.026212718, 0.026032187, 0.025893852, 0.025776729, 0.025686312, 0.025611341]\n"
     ]
    },
    {
     "name": "stderr",
     "output_type": "stream",
     "text": [
      "                                                                                                                                                                              \r"
     ]
    },
    {
     "name": "stdout",
     "output_type": "stream",
     "text": [
      "Epoch 17, total_loss=0.2536, reg_loss = 0.0800\n",
      "   87.09 s in train({'n_hidden_rhs': [], '..., ConditionalAutoEncoder..., cuda, <torch.utils.data.data..., AdamW ( Parameter Grou..., MSELoss(), 17, max_norm=100)\n",
      "   41.00 s in test({'n_hidden_rhs': [], '..., ConditionalAutoEncoder..., cuda, <torch.utils.data.data..., MSELoss())\n",
      "    9.02 s in test({'n_hidden_rhs': [], '..., ConditionalAutoEncoder..., cuda, <torch.utils.data.data..., MSELoss())\n",
      "Train MSE: 0.17693076\n",
      "Valid MSE: 0.025483679\n",
      "Next Learning Rate: 0.001\n",
      "[5.7759023, 0.66950125, 0.30034906, 0.23309559, 0.21502145, 0.20495963, 0.1994291, 0.19516139, 0.1914698, 0.1887009, 0.18672821, 0.18467619, 0.18306026, 0.1813689, 0.18016517, 0.17894255, 0.17799595]\n",
      "[0.03535536, 0.03590945, 0.034041025, 0.031801328, 0.030017802, 0.028818453, 0.027894648, 0.027268313, 0.026791668, 0.026456432, 0.026212718, 0.026032187, 0.025893852, 0.025776729, 0.025686312, 0.025611341, 0.025545146]\n"
     ]
    },
    {
     "name": "stderr",
     "output_type": "stream",
     "text": [
      "                                                                                                                                                                              \r"
     ]
    },
    {
     "name": "stdout",
     "output_type": "stream",
     "text": [
      "Epoch 18, total_loss=0.2515, reg_loss = 0.0796\n",
      "   85.91 s in train({'n_hidden_rhs': [], '..., ConditionalAutoEncoder..., cuda, <torch.utils.data.data..., AdamW ( Parameter Grou..., MSELoss(), 18, max_norm=100)\n",
      "   41.33 s in test({'n_hidden_rhs': [], '..., ConditionalAutoEncoder..., cuda, <torch.utils.data.data..., MSELoss())\n",
      "    9.06 s in test({'n_hidden_rhs': [], '..., ConditionalAutoEncoder..., cuda, <torch.utils.data.data..., MSELoss())\n",
      "Train MSE: 0.17605063\n",
      "Valid MSE: 0.025436787\n",
      "Next Learning Rate: 0.001\n",
      "[5.7759023, 0.66950125, 0.30034906, 0.23309559, 0.21502145, 0.20495963, 0.1994291, 0.19516139, 0.1914698, 0.1887009, 0.18672821, 0.18467619, 0.18306026, 0.1813689, 0.18016517, 0.17894255, 0.17799595, 0.17693076]\n",
      "[0.03535536, 0.03590945, 0.034041025, 0.031801328, 0.030017802, 0.028818453, 0.027894648, 0.027268313, 0.026791668, 0.026456432, 0.026212718, 0.026032187, 0.025893852, 0.025776729, 0.025686312, 0.025611341, 0.025545146, 0.025483679]\n"
     ]
    },
    {
     "name": "stderr",
     "output_type": "stream",
     "text": [
      "                                                                                                                                                                              \r"
     ]
    },
    {
     "name": "stdout",
     "output_type": "stream",
     "text": [
      "Epoch 19, total_loss=0.2655, reg_loss = 0.0792\n",
      "   88.51 s in train({'n_hidden_rhs': [], '..., ConditionalAutoEncoder..., cuda, <torch.utils.data.data..., AdamW ( Parameter Grou..., MSELoss(), 19, max_norm=100)\n",
      "   42.18 s in test({'n_hidden_rhs': [], '..., ConditionalAutoEncoder..., cuda, <torch.utils.data.data..., MSELoss())\n",
      "    8.91 s in test({'n_hidden_rhs': [], '..., ConditionalAutoEncoder..., cuda, <torch.utils.data.data..., MSELoss())\n",
      "Train MSE: 0.17512263\n",
      "Valid MSE: 0.025389545\n",
      "Next Learning Rate: 0.001\n",
      "[5.7759023, 0.66950125, 0.30034906, 0.23309559, 0.21502145, 0.20495963, 0.1994291, 0.19516139, 0.1914698, 0.1887009, 0.18672821, 0.18467619, 0.18306026, 0.1813689, 0.18016517, 0.17894255, 0.17799595, 0.17693076, 0.17605063]\n",
      "[0.03535536, 0.03590945, 0.034041025, 0.031801328, 0.030017802, 0.028818453, 0.027894648, 0.027268313, 0.026791668, 0.026456432, 0.026212718, 0.026032187, 0.025893852, 0.025776729, 0.025686312, 0.025611341, 0.025545146, 0.025483679, 0.025436787]\n"
     ]
    },
    {
     "name": "stderr",
     "output_type": "stream",
     "text": [
      "                                                                                                                                                                              \r"
     ]
    },
    {
     "name": "stdout",
     "output_type": "stream",
     "text": [
      "Epoch 20, total_loss=0.2492, reg_loss = 0.0788\n",
      "   86.29 s in train({'n_hidden_rhs': [], '..., ConditionalAutoEncoder..., cuda, <torch.utils.data.data..., AdamW ( Parameter Grou..., MSELoss(), 20, max_norm=100)\n",
      "   42.30 s in test({'n_hidden_rhs': [], '..., ConditionalAutoEncoder..., cuda, <torch.utils.data.data..., MSELoss())\n",
      "    9.92 s in test({'n_hidden_rhs': [], '..., ConditionalAutoEncoder..., cuda, <torch.utils.data.data..., MSELoss())\n",
      "Train MSE: 0.17445585\n",
      "Valid MSE: 0.025361003\n",
      "Next Learning Rate: 0.001\n",
      "[5.7759023, 0.66950125, 0.30034906, 0.23309559, 0.21502145, 0.20495963, 0.1994291, 0.19516139, 0.1914698, 0.1887009, 0.18672821, 0.18467619, 0.18306026, 0.1813689, 0.18016517, 0.17894255, 0.17799595, 0.17693076, 0.17605063, 0.17512263]\n",
      "[0.03535536, 0.03590945, 0.034041025, 0.031801328, 0.030017802, 0.028818453, 0.027894648, 0.027268313, 0.026791668, 0.026456432, 0.026212718, 0.026032187, 0.025893852, 0.025776729, 0.025686312, 0.025611341, 0.025545146, 0.025483679, 0.025436787, 0.025389545]\n"
     ]
    },
    {
     "name": "stderr",
     "output_type": "stream",
     "text": [
      "                                                                                                                                                                              \r"
     ]
    },
    {
     "name": "stdout",
     "output_type": "stream",
     "text": [
      "Epoch 21, total_loss=0.2528, reg_loss = 0.0784\n",
      "   87.83 s in train({'n_hidden_rhs': [], '..., ConditionalAutoEncoder..., cuda, <torch.utils.data.data..., AdamW ( Parameter Grou..., MSELoss(), 21, max_norm=100)\n",
      "   41.68 s in test({'n_hidden_rhs': [], '..., ConditionalAutoEncoder..., cuda, <torch.utils.data.data..., MSELoss())\n",
      "    9.32 s in test({'n_hidden_rhs': [], '..., ConditionalAutoEncoder..., cuda, <torch.utils.data.data..., MSELoss())\n",
      "Train MSE: 0.17389204\n",
      "Valid MSE: 0.025324479\n",
      "Next Learning Rate: 0.001\n",
      "[5.7759023, 0.66950125, 0.30034906, 0.23309559, 0.21502145, 0.20495963, 0.1994291, 0.19516139, 0.1914698, 0.1887009, 0.18672821, 0.18467619, 0.18306026, 0.1813689, 0.18016517, 0.17894255, 0.17799595, 0.17693076, 0.17605063, 0.17512263, 0.17445585]\n",
      "[0.03535536, 0.03590945, 0.034041025, 0.031801328, 0.030017802, 0.028818453, 0.027894648, 0.027268313, 0.026791668, 0.026456432, 0.026212718, 0.026032187, 0.025893852, 0.025776729, 0.025686312, 0.025611341, 0.025545146, 0.025483679, 0.025436787, 0.025389545, 0.025361003]\n"
     ]
    },
    {
     "name": "stderr",
     "output_type": "stream",
     "text": [
      "                                                                                                                                                                              \r"
     ]
    },
    {
     "name": "stdout",
     "output_type": "stream",
     "text": [
      "Epoch 22, total_loss=0.2474, reg_loss = 0.0781\n",
      "   87.64 s in train({'n_hidden_rhs': [], '..., ConditionalAutoEncoder..., cuda, <torch.utils.data.data..., AdamW ( Parameter Grou..., MSELoss(), 22, max_norm=100)\n",
      "   42.16 s in test({'n_hidden_rhs': [], '..., ConditionalAutoEncoder..., cuda, <torch.utils.data.data..., MSELoss())\n",
      "    8.88 s in test({'n_hidden_rhs': [], '..., ConditionalAutoEncoder..., cuda, <torch.utils.data.data..., MSELoss())\n",
      "Train MSE: 0.17335266\n",
      "Valid MSE: 0.025292456\n",
      "Next Learning Rate: 0.001\n",
      "[5.7759023, 0.66950125, 0.30034906, 0.23309559, 0.21502145, 0.20495963, 0.1994291, 0.19516139, 0.1914698, 0.1887009, 0.18672821, 0.18467619, 0.18306026, 0.1813689, 0.18016517, 0.17894255, 0.17799595, 0.17693076, 0.17605063, 0.17512263, 0.17445585, 0.17389204]\n",
      "[0.03535536, 0.03590945, 0.034041025, 0.031801328, 0.030017802, 0.028818453, 0.027894648, 0.027268313, 0.026791668, 0.026456432, 0.026212718, 0.026032187, 0.025893852, 0.025776729, 0.025686312, 0.025611341, 0.025545146, 0.025483679, 0.025436787, 0.025389545, 0.025361003, 0.025324479]\n"
     ]
    },
    {
     "name": "stderr",
     "output_type": "stream",
     "text": [
      "                                                                                                                                                                              \r"
     ]
    },
    {
     "name": "stdout",
     "output_type": "stream",
     "text": [
      "Epoch 23, total_loss=0.2460, reg_loss = 0.0777\n",
      "   86.59 s in train({'n_hidden_rhs': [], '..., ConditionalAutoEncoder..., cuda, <torch.utils.data.data..., AdamW ( Parameter Grou..., MSELoss(), 23, max_norm=100)\n",
      "   40.67 s in test({'n_hidden_rhs': [], '..., ConditionalAutoEncoder..., cuda, <torch.utils.data.data..., MSELoss())\n",
      "    9.00 s in test({'n_hidden_rhs': [], '..., ConditionalAutoEncoder..., cuda, <torch.utils.data.data..., MSELoss())\n",
      "Train MSE: 0.17287573\n",
      "Valid MSE: 0.025268398\n",
      "Next Learning Rate: 0.001\n",
      "[5.7759023, 0.66950125, 0.30034906, 0.23309559, 0.21502145, 0.20495963, 0.1994291, 0.19516139, 0.1914698, 0.1887009, 0.18672821, 0.18467619, 0.18306026, 0.1813689, 0.18016517, 0.17894255, 0.17799595, 0.17693076, 0.17605063, 0.17512263, 0.17445585, 0.17389204, 0.17335266]\n",
      "[0.03535536, 0.03590945, 0.034041025, 0.031801328, 0.030017802, 0.028818453, 0.027894648, 0.027268313, 0.026791668, 0.026456432, 0.026212718, 0.026032187, 0.025893852, 0.025776729, 0.025686312, 0.025611341, 0.025545146, 0.025483679, 0.025436787, 0.025389545, 0.025361003, 0.025324479, 0.025292456]\n"
     ]
    },
    {
     "name": "stderr",
     "output_type": "stream",
     "text": [
      "                                                                                                                                                                              \r"
     ]
    },
    {
     "name": "stdout",
     "output_type": "stream",
     "text": [
      "Epoch 24, total_loss=0.2515, reg_loss = 0.0774\n",
      "   87.08 s in train({'n_hidden_rhs': [], '..., ConditionalAutoEncoder..., cuda, <torch.utils.data.data..., AdamW ( Parameter Grou..., MSELoss(), 24, max_norm=100)\n",
      "   42.09 s in test({'n_hidden_rhs': [], '..., ConditionalAutoEncoder..., cuda, <torch.utils.data.data..., MSELoss())\n",
      "    9.78 s in test({'n_hidden_rhs': [], '..., ConditionalAutoEncoder..., cuda, <torch.utils.data.data..., MSELoss())\n",
      "Train MSE: 0.1725936\n",
      "Valid MSE: 0.025242856\n",
      "Next Learning Rate: 0.001\n",
      "[5.7759023, 0.66950125, 0.30034906, 0.23309559, 0.21502145, 0.20495963, 0.1994291, 0.19516139, 0.1914698, 0.1887009, 0.18672821, 0.18467619, 0.18306026, 0.1813689, 0.18016517, 0.17894255, 0.17799595, 0.17693076, 0.17605063, 0.17512263, 0.17445585, 0.17389204, 0.17335266, 0.17287573]\n",
      "[0.03535536, 0.03590945, 0.034041025, 0.031801328, 0.030017802, 0.028818453, 0.027894648, 0.027268313, 0.026791668, 0.026456432, 0.026212718, 0.026032187, 0.025893852, 0.025776729, 0.025686312, 0.025611341, 0.025545146, 0.025483679, 0.025436787, 0.025389545, 0.025361003, 0.025324479, 0.025292456, 0.025268398]\n"
     ]
    },
    {
     "name": "stderr",
     "output_type": "stream",
     "text": [
      "                                                                                                                                                                              \r"
     ]
    },
    {
     "name": "stdout",
     "output_type": "stream",
     "text": [
      "Epoch 25, total_loss=0.2483, reg_loss = 0.0771\n",
      "   87.31 s in train({'n_hidden_rhs': [], '..., ConditionalAutoEncoder..., cuda, <torch.utils.data.data..., AdamW ( Parameter Grou..., MSELoss(), 25, max_norm=100)\n",
      "   41.91 s in test({'n_hidden_rhs': [], '..., ConditionalAutoEncoder..., cuda, <torch.utils.data.data..., MSELoss())\n",
      "    8.73 s in test({'n_hidden_rhs': [], '..., ConditionalAutoEncoder..., cuda, <torch.utils.data.data..., MSELoss())\n",
      "Train MSE: 0.17213425\n",
      "Valid MSE: 0.025195602\n",
      "Next Learning Rate: 0.001\n",
      "[5.7759023, 0.66950125, 0.30034906, 0.23309559, 0.21502145, 0.20495963, 0.1994291, 0.19516139, 0.1914698, 0.1887009, 0.18672821, 0.18467619, 0.18306026, 0.1813689, 0.18016517, 0.17894255, 0.17799595, 0.17693076, 0.17605063, 0.17512263, 0.17445585, 0.17389204, 0.17335266, 0.17287573, 0.1725936]\n",
      "[0.03535536, 0.03590945, 0.034041025, 0.031801328, 0.030017802, 0.028818453, 0.027894648, 0.027268313, 0.026791668, 0.026456432, 0.026212718, 0.026032187, 0.025893852, 0.025776729, 0.025686312, 0.025611341, 0.025545146, 0.025483679, 0.025436787, 0.025389545, 0.025361003, 0.025324479, 0.025292456, 0.025268398, 0.025242856]\n"
     ]
    },
    {
     "name": "stderr",
     "output_type": "stream",
     "text": [
      "                                                                                                                                                                              \r"
     ]
    },
    {
     "name": "stdout",
     "output_type": "stream",
     "text": [
      "Epoch 26, total_loss=0.2412, reg_loss = 0.0768\n",
      "   87.13 s in train({'n_hidden_rhs': [], '..., ConditionalAutoEncoder..., cuda, <torch.utils.data.data..., AdamW ( Parameter Grou..., MSELoss(), 26, max_norm=100)\n",
      "   41.31 s in test({'n_hidden_rhs': [], '..., ConditionalAutoEncoder..., cuda, <torch.utils.data.data..., MSELoss())\n",
      "    8.39 s in test({'n_hidden_rhs': [], '..., ConditionalAutoEncoder..., cuda, <torch.utils.data.data..., MSELoss())\n",
      "Train MSE: 0.17201039\n",
      "Valid MSE: 0.025168149\n",
      "Next Learning Rate: 0.001\n",
      "[5.7759023, 0.66950125, 0.30034906, 0.23309559, 0.21502145, 0.20495963, 0.1994291, 0.19516139, 0.1914698, 0.1887009, 0.18672821, 0.18467619, 0.18306026, 0.1813689, 0.18016517, 0.17894255, 0.17799595, 0.17693076, 0.17605063, 0.17512263, 0.17445585, 0.17389204, 0.17335266, 0.17287573, 0.1725936, 0.17213425]\n",
      "[0.03535536, 0.03590945, 0.034041025, 0.031801328, 0.030017802, 0.028818453, 0.027894648, 0.027268313, 0.026791668, 0.026456432, 0.026212718, 0.026032187, 0.025893852, 0.025776729, 0.025686312, 0.025611341, 0.025545146, 0.025483679, 0.025436787, 0.025389545, 0.025361003, 0.025324479, 0.025292456, 0.025268398, 0.025242856, 0.025195602]\n"
     ]
    },
    {
     "name": "stderr",
     "output_type": "stream",
     "text": [
      "                                                                                                                                                                              \r"
     ]
    },
    {
     "name": "stdout",
     "output_type": "stream",
     "text": [
      "Epoch 27, total_loss=0.2479, reg_loss = 0.0764\n",
      "   86.46 s in train({'n_hidden_rhs': [], '..., ConditionalAutoEncoder..., cuda, <torch.utils.data.data..., AdamW ( Parameter Grou..., MSELoss(), 27, max_norm=100)\n",
      "   41.26 s in test({'n_hidden_rhs': [], '..., ConditionalAutoEncoder..., cuda, <torch.utils.data.data..., MSELoss())\n",
      "    8.73 s in test({'n_hidden_rhs': [], '..., ConditionalAutoEncoder..., cuda, <torch.utils.data.data..., MSELoss())\n",
      "Train MSE: 0.17726612\n",
      "Valid MSE: 0.02515516\n",
      "Next Learning Rate: 0.001\n",
      "[5.7759023, 0.66950125, 0.30034906, 0.23309559, 0.21502145, 0.20495963, 0.1994291, 0.19516139, 0.1914698, 0.1887009, 0.18672821, 0.18467619, 0.18306026, 0.1813689, 0.18016517, 0.17894255, 0.17799595, 0.17693076, 0.17605063, 0.17512263, 0.17445585, 0.17389204, 0.17335266, 0.17287573, 0.1725936, 0.17213425, 0.17201039]\n",
      "[0.03535536, 0.03590945, 0.034041025, 0.031801328, 0.030017802, 0.028818453, 0.027894648, 0.027268313, 0.026791668, 0.026456432, 0.026212718, 0.026032187, 0.025893852, 0.025776729, 0.025686312, 0.025611341, 0.025545146, 0.025483679, 0.025436787, 0.025389545, 0.025361003, 0.025324479, 0.025292456, 0.025268398, 0.025242856, 0.025195602, 0.025168149]\n"
     ]
    },
    {
     "name": "stderr",
     "output_type": "stream",
     "text": [
      "                                                                                                                                                                              \r"
     ]
    },
    {
     "name": "stdout",
     "output_type": "stream",
     "text": [
      "Epoch 28, total_loss=0.2426, reg_loss = 0.0761\n",
      "   86.11 s in train({'n_hidden_rhs': [], '..., ConditionalAutoEncoder..., cuda, <torch.utils.data.data..., AdamW ( Parameter Grou..., MSELoss(), 28, max_norm=100)\n",
      "   42.36 s in test({'n_hidden_rhs': [], '..., ConditionalAutoEncoder..., cuda, <torch.utils.data.data..., MSELoss())\n",
      "    9.12 s in test({'n_hidden_rhs': [], '..., ConditionalAutoEncoder..., cuda, <torch.utils.data.data..., MSELoss())\n",
      "Train MSE: 0.17673789\n",
      "Valid MSE: 0.025141723\n",
      "Next Learning Rate: 0.001\n",
      "[5.7759023, 0.66950125, 0.30034906, 0.23309559, 0.21502145, 0.20495963, 0.1994291, 0.19516139, 0.1914698, 0.1887009, 0.18672821, 0.18467619, 0.18306026, 0.1813689, 0.18016517, 0.17894255, 0.17799595, 0.17693076, 0.17605063, 0.17512263, 0.17445585, 0.17389204, 0.17335266, 0.17287573, 0.1725936, 0.17213425, 0.17201039, 0.17726612]\n",
      "[0.03535536, 0.03590945, 0.034041025, 0.031801328, 0.030017802, 0.028818453, 0.027894648, 0.027268313, 0.026791668, 0.026456432, 0.026212718, 0.026032187, 0.025893852, 0.025776729, 0.025686312, 0.025611341, 0.025545146, 0.025483679, 0.025436787, 0.025389545, 0.025361003, 0.025324479, 0.025292456, 0.025268398, 0.025242856, 0.025195602, 0.025168149, 0.02515516]\n"
     ]
    },
    {
     "name": "stderr",
     "output_type": "stream",
     "text": [
      "                                                                                                                                                                              \r"
     ]
    },
    {
     "name": "stdout",
     "output_type": "stream",
     "text": [
      "Epoch 29, total_loss=0.2399, reg_loss = 0.0758\n",
      "   85.95 s in train({'n_hidden_rhs': [], '..., ConditionalAutoEncoder..., cuda, <torch.utils.data.data..., AdamW ( Parameter Grou..., MSELoss(), 29, max_norm=100)\n",
      "   41.87 s in test({'n_hidden_rhs': [], '..., ConditionalAutoEncoder..., cuda, <torch.utils.data.data..., MSELoss())\n",
      "    9.22 s in test({'n_hidden_rhs': [], '..., ConditionalAutoEncoder..., cuda, <torch.utils.data.data..., MSELoss())\n",
      "Train MSE: 0.17527142\n",
      "Valid MSE: 0.025120063\n",
      "Next Learning Rate: 0.001\n",
      "[5.7759023, 0.66950125, 0.30034906, 0.23309559, 0.21502145, 0.20495963, 0.1994291, 0.19516139, 0.1914698, 0.1887009, 0.18672821, 0.18467619, 0.18306026, 0.1813689, 0.18016517, 0.17894255, 0.17799595, 0.17693076, 0.17605063, 0.17512263, 0.17445585, 0.17389204, 0.17335266, 0.17287573, 0.1725936, 0.17213425, 0.17201039, 0.17726612, 0.17673789]\n",
      "[0.03535536, 0.03590945, 0.034041025, 0.031801328, 0.030017802, 0.028818453, 0.027894648, 0.027268313, 0.026791668, 0.026456432, 0.026212718, 0.026032187, 0.025893852, 0.025776729, 0.025686312, 0.025611341, 0.025545146, 0.025483679, 0.025436787, 0.025389545, 0.025361003, 0.025324479, 0.025292456, 0.025268398, 0.025242856, 0.025195602, 0.025168149, 0.02515516, 0.025141723]\n"
     ]
    },
    {
     "name": "stderr",
     "output_type": "stream",
     "text": [
      "                                                                                                                                                                              \r"
     ]
    },
    {
     "name": "stdout",
     "output_type": "stream",
     "text": [
      "Epoch 30, total_loss=0.2415, reg_loss = 0.0755\n",
      "   85.95 s in train({'n_hidden_rhs': [], '..., ConditionalAutoEncoder..., cuda, <torch.utils.data.data..., AdamW ( Parameter Grou..., MSELoss(), 30, max_norm=100)\n",
      "   41.31 s in test({'n_hidden_rhs': [], '..., ConditionalAutoEncoder..., cuda, <torch.utils.data.data..., MSELoss())\n",
      "    9.51 s in test({'n_hidden_rhs': [], '..., ConditionalAutoEncoder..., cuda, <torch.utils.data.data..., MSELoss())\n",
      "Train MSE: 0.17084406\n",
      "Valid MSE: 0.02509781\n",
      "Next Learning Rate: 0.001\n",
      "[5.7759023, 0.66950125, 0.30034906, 0.23309559, 0.21502145, 0.20495963, 0.1994291, 0.19516139, 0.1914698, 0.1887009, 0.18672821, 0.18467619, 0.18306026, 0.1813689, 0.18016517, 0.17894255, 0.17799595, 0.17693076, 0.17605063, 0.17512263, 0.17445585, 0.17389204, 0.17335266, 0.17287573, 0.1725936, 0.17213425, 0.17201039, 0.17726612, 0.17673789, 0.17527142]\n",
      "[0.03535536, 0.03590945, 0.034041025, 0.031801328, 0.030017802, 0.028818453, 0.027894648, 0.027268313, 0.026791668, 0.026456432, 0.026212718, 0.026032187, 0.025893852, 0.025776729, 0.025686312, 0.025611341, 0.025545146, 0.025483679, 0.025436787, 0.025389545, 0.025361003, 0.025324479, 0.025292456, 0.025268398, 0.025242856, 0.025195602, 0.025168149, 0.02515516, 0.025141723, 0.025120063]\n"
     ]
    },
    {
     "name": "stderr",
     "output_type": "stream",
     "text": [
      "                                                                                                                                                                              \r"
     ]
    },
    {
     "name": "stdout",
     "output_type": "stream",
     "text": [
      "Epoch 31, total_loss=0.2436, reg_loss = 0.0752\n",
      "   86.56 s in train({'n_hidden_rhs': [], '..., ConditionalAutoEncoder..., cuda, <torch.utils.data.data..., AdamW ( Parameter Grou..., MSELoss(), 31, max_norm=100)\n",
      "   41.99 s in test({'n_hidden_rhs': [], '..., ConditionalAutoEncoder..., cuda, <torch.utils.data.data..., MSELoss())\n",
      "    9.20 s in test({'n_hidden_rhs': [], '..., ConditionalAutoEncoder..., cuda, <torch.utils.data.data..., MSELoss())\n",
      "Train MSE: 0.17337725\n",
      "Valid MSE: 0.025072018\n",
      "Next Learning Rate: 0.001\n",
      "[5.7759023, 0.66950125, 0.30034906, 0.23309559, 0.21502145, 0.20495963, 0.1994291, 0.19516139, 0.1914698, 0.1887009, 0.18672821, 0.18467619, 0.18306026, 0.1813689, 0.18016517, 0.17894255, 0.17799595, 0.17693076, 0.17605063, 0.17512263, 0.17445585, 0.17389204, 0.17335266, 0.17287573, 0.1725936, 0.17213425, 0.17201039, 0.17726612, 0.17673789, 0.17527142, 0.17084406]\n",
      "[0.03535536, 0.03590945, 0.034041025, 0.031801328, 0.030017802, 0.028818453, 0.027894648, 0.027268313, 0.026791668, 0.026456432, 0.026212718, 0.026032187, 0.025893852, 0.025776729, 0.025686312, 0.025611341, 0.025545146, 0.025483679, 0.025436787, 0.025389545, 0.025361003, 0.025324479, 0.025292456, 0.025268398, 0.025242856, 0.025195602, 0.025168149, 0.02515516, 0.025141723, 0.025120063, 0.02509781]\n"
     ]
    },
    {
     "name": "stderr",
     "output_type": "stream",
     "text": [
      "                                                                                                                                                                              \r"
     ]
    },
    {
     "name": "stdout",
     "output_type": "stream",
     "text": [
      "Epoch 32, total_loss=0.2495, reg_loss = 0.0749\n",
      "   86.81 s in train({'n_hidden_rhs': [], '..., ConditionalAutoEncoder..., cuda, <torch.utils.data.data..., AdamW ( Parameter Grou..., MSELoss(), 32, max_norm=100)\n",
      "   42.23 s in test({'n_hidden_rhs': [], '..., ConditionalAutoEncoder..., cuda, <torch.utils.data.data..., MSELoss())\n",
      "    9.34 s in test({'n_hidden_rhs': [], '..., ConditionalAutoEncoder..., cuda, <torch.utils.data.data..., MSELoss())\n",
      "Train MSE: 0.17372167\n",
      "Valid MSE: 0.025045762\n",
      "Next Learning Rate: 0.001\n",
      "[5.7759023, 0.66950125, 0.30034906, 0.23309559, 0.21502145, 0.20495963, 0.1994291, 0.19516139, 0.1914698, 0.1887009, 0.18672821, 0.18467619, 0.18306026, 0.1813689, 0.18016517, 0.17894255, 0.17799595, 0.17693076, 0.17605063, 0.17512263, 0.17445585, 0.17389204, 0.17335266, 0.17287573, 0.1725936, 0.17213425, 0.17201039, 0.17726612, 0.17673789, 0.17527142, 0.17084406, 0.17337725]\n",
      "[0.03535536, 0.03590945, 0.034041025, 0.031801328, 0.030017802, 0.028818453, 0.027894648, 0.027268313, 0.026791668, 0.026456432, 0.026212718, 0.026032187, 0.025893852, 0.025776729, 0.025686312, 0.025611341, 0.025545146, 0.025483679, 0.025436787, 0.025389545, 0.025361003, 0.025324479, 0.025292456, 0.025268398, 0.025242856, 0.025195602, 0.025168149, 0.02515516, 0.025141723, 0.025120063, 0.02509781, 0.025072018]\n"
     ]
    },
    {
     "name": "stderr",
     "output_type": "stream",
     "text": [
      "                                                                                                                                                                              \r"
     ]
    },
    {
     "name": "stdout",
     "output_type": "stream",
     "text": [
      "Epoch 33, total_loss=0.2416, reg_loss = 0.0746\n",
      "   86.99 s in train({'n_hidden_rhs': [], '..., ConditionalAutoEncoder..., cuda, <torch.utils.data.data..., AdamW ( Parameter Grou..., MSELoss(), 33, max_norm=100)\n",
      "   42.24 s in test({'n_hidden_rhs': [], '..., ConditionalAutoEncoder..., cuda, <torch.utils.data.data..., MSELoss())\n",
      "    9.15 s in test({'n_hidden_rhs': [], '..., ConditionalAutoEncoder..., cuda, <torch.utils.data.data..., MSELoss())\n",
      "Train MSE: 0.17040133\n",
      "Valid MSE: 0.025035782\n",
      "Next Learning Rate: 0.001\n",
      "[5.7759023, 0.66950125, 0.30034906, 0.23309559, 0.21502145, 0.20495963, 0.1994291, 0.19516139, 0.1914698, 0.1887009, 0.18672821, 0.18467619, 0.18306026, 0.1813689, 0.18016517, 0.17894255, 0.17799595, 0.17693076, 0.17605063, 0.17512263, 0.17445585, 0.17389204, 0.17335266, 0.17287573, 0.1725936, 0.17213425, 0.17201039, 0.17726612, 0.17673789, 0.17527142, 0.17084406, 0.17337725, 0.17372167]\n",
      "[0.03535536, 0.03590945, 0.034041025, 0.031801328, 0.030017802, 0.028818453, 0.027894648, 0.027268313, 0.026791668, 0.026456432, 0.026212718, 0.026032187, 0.025893852, 0.025776729, 0.025686312, 0.025611341, 0.025545146, 0.025483679, 0.025436787, 0.025389545, 0.025361003, 0.025324479, 0.025292456, 0.025268398, 0.025242856, 0.025195602, 0.025168149, 0.02515516, 0.025141723, 0.025120063, 0.02509781, 0.025072018, 0.025045762]\n"
     ]
    },
    {
     "name": "stderr",
     "output_type": "stream",
     "text": [
      "                                                                                                                                                                              \r"
     ]
    },
    {
     "name": "stdout",
     "output_type": "stream",
     "text": [
      "Epoch 34, total_loss=0.2403, reg_loss = 0.0743\n",
      "   87.68 s in train({'n_hidden_rhs': [], '..., ConditionalAutoEncoder..., cuda, <torch.utils.data.data..., AdamW ( Parameter Grou..., MSELoss(), 34, max_norm=100)\n",
      "   41.11 s in test({'n_hidden_rhs': [], '..., ConditionalAutoEncoder..., cuda, <torch.utils.data.data..., MSELoss())\n",
      "    9.85 s in test({'n_hidden_rhs': [], '..., ConditionalAutoEncoder..., cuda, <torch.utils.data.data..., MSELoss())\n",
      "Train MSE: 0.16964854\n",
      "Valid MSE: 0.025012296\n",
      "Next Learning Rate: 0.001\n",
      "[5.7759023, 0.66950125, 0.30034906, 0.23309559, 0.21502145, 0.20495963, 0.1994291, 0.19516139, 0.1914698, 0.1887009, 0.18672821, 0.18467619, 0.18306026, 0.1813689, 0.18016517, 0.17894255, 0.17799595, 0.17693076, 0.17605063, 0.17512263, 0.17445585, 0.17389204, 0.17335266, 0.17287573, 0.1725936, 0.17213425, 0.17201039, 0.17726612, 0.17673789, 0.17527142, 0.17084406, 0.17337725, 0.17372167, 0.17040133]\n",
      "[0.03535536, 0.03590945, 0.034041025, 0.031801328, 0.030017802, 0.028818453, 0.027894648, 0.027268313, 0.026791668, 0.026456432, 0.026212718, 0.026032187, 0.025893852, 0.025776729, 0.025686312, 0.025611341, 0.025545146, 0.025483679, 0.025436787, 0.025389545, 0.025361003, 0.025324479, 0.025292456, 0.025268398, 0.025242856, 0.025195602, 0.025168149, 0.02515516, 0.025141723, 0.025120063, 0.02509781, 0.025072018, 0.025045762, 0.025035782]\n"
     ]
    },
    {
     "name": "stderr",
     "output_type": "stream",
     "text": [
      "                                                                                                                                                                              \r"
     ]
    },
    {
     "name": "stdout",
     "output_type": "stream",
     "text": [
      "Epoch 35, total_loss=0.2503, reg_loss = 0.0740\n",
      "   87.95 s in train({'n_hidden_rhs': [], '..., ConditionalAutoEncoder..., cuda, <torch.utils.data.data..., AdamW ( Parameter Grou..., MSELoss(), 35, max_norm=100)\n",
      "   42.69 s in test({'n_hidden_rhs': [], '..., ConditionalAutoEncoder..., cuda, <torch.utils.data.data..., MSELoss())\n",
      "    9.52 s in test({'n_hidden_rhs': [], '..., ConditionalAutoEncoder..., cuda, <torch.utils.data.data..., MSELoss())\n",
      "Train MSE: 0.1694504\n",
      "Valid MSE: 0.024995778\n",
      "Next Learning Rate: 0.001\n",
      "[5.7759023, 0.66950125, 0.30034906, 0.23309559, 0.21502145, 0.20495963, 0.1994291, 0.19516139, 0.1914698, 0.1887009, 0.18672821, 0.18467619, 0.18306026, 0.1813689, 0.18016517, 0.17894255, 0.17799595, 0.17693076, 0.17605063, 0.17512263, 0.17445585, 0.17389204, 0.17335266, 0.17287573, 0.1725936, 0.17213425, 0.17201039, 0.17726612, 0.17673789, 0.17527142, 0.17084406, 0.17337725, 0.17372167, 0.17040133, 0.16964854]\n",
      "[0.03535536, 0.03590945, 0.034041025, 0.031801328, 0.030017802, 0.028818453, 0.027894648, 0.027268313, 0.026791668, 0.026456432, 0.026212718, 0.026032187, 0.025893852, 0.025776729, 0.025686312, 0.025611341, 0.025545146, 0.025483679, 0.025436787, 0.025389545, 0.025361003, 0.025324479, 0.025292456, 0.025268398, 0.025242856, 0.025195602, 0.025168149, 0.02515516, 0.025141723, 0.025120063, 0.02509781, 0.025072018, 0.025045762, 0.025035782, 0.025012296]\n"
     ]
    },
    {
     "name": "stderr",
     "output_type": "stream",
     "text": [
      "                                                                                                                                                                              \r"
     ]
    },
    {
     "name": "stdout",
     "output_type": "stream",
     "text": [
      "Epoch 36, total_loss=0.2417, reg_loss = 0.0737\n",
      "   86.21 s in train({'n_hidden_rhs': [], '..., ConditionalAutoEncoder..., cuda, <torch.utils.data.data..., AdamW ( Parameter Grou..., MSELoss(), 36, max_norm=100)\n",
      "   41.51 s in test({'n_hidden_rhs': [], '..., ConditionalAutoEncoder..., cuda, <torch.utils.data.data..., MSELoss())\n",
      "    9.41 s in test({'n_hidden_rhs': [], '..., ConditionalAutoEncoder..., cuda, <torch.utils.data.data..., MSELoss())\n",
      "Train MSE: 0.16960505\n",
      "Valid MSE: 0.024981705\n",
      "Next Learning Rate: 0.001\n",
      "[5.7759023, 0.66950125, 0.30034906, 0.23309559, 0.21502145, 0.20495963, 0.1994291, 0.19516139, 0.1914698, 0.1887009, 0.18672821, 0.18467619, 0.18306026, 0.1813689, 0.18016517, 0.17894255, 0.17799595, 0.17693076, 0.17605063, 0.17512263, 0.17445585, 0.17389204, 0.17335266, 0.17287573, 0.1725936, 0.17213425, 0.17201039, 0.17726612, 0.17673789, 0.17527142, 0.17084406, 0.17337725, 0.17372167, 0.17040133, 0.16964854, 0.1694504]\n",
      "[0.03535536, 0.03590945, 0.034041025, 0.031801328, 0.030017802, 0.028818453, 0.027894648, 0.027268313, 0.026791668, 0.026456432, 0.026212718, 0.026032187, 0.025893852, 0.025776729, 0.025686312, 0.025611341, 0.025545146, 0.025483679, 0.025436787, 0.025389545, 0.025361003, 0.025324479, 0.025292456, 0.025268398, 0.025242856, 0.025195602, 0.025168149, 0.02515516, 0.025141723, 0.025120063, 0.02509781, 0.025072018, 0.025045762, 0.025035782, 0.025012296, 0.024995778]\n"
     ]
    },
    {
     "name": "stderr",
     "output_type": "stream",
     "text": [
      "                                                                                                                                                                              \r"
     ]
    },
    {
     "name": "stdout",
     "output_type": "stream",
     "text": [
      "Epoch 37, total_loss=0.2375, reg_loss = 0.0734\n",
      "   87.60 s in train({'n_hidden_rhs': [], '..., ConditionalAutoEncoder..., cuda, <torch.utils.data.data..., AdamW ( Parameter Grou..., MSELoss(), 37, max_norm=100)\n",
      "   41.60 s in test({'n_hidden_rhs': [], '..., ConditionalAutoEncoder..., cuda, <torch.utils.data.data..., MSELoss())\n",
      "    8.73 s in test({'n_hidden_rhs': [], '..., ConditionalAutoEncoder..., cuda, <torch.utils.data.data..., MSELoss())\n",
      "Train MSE: 0.16913131\n",
      "Valid MSE: 0.02495966\n",
      "Next Learning Rate: 0.001\n",
      "[5.7759023, 0.66950125, 0.30034906, 0.23309559, 0.21502145, 0.20495963, 0.1994291, 0.19516139, 0.1914698, 0.1887009, 0.18672821, 0.18467619, 0.18306026, 0.1813689, 0.18016517, 0.17894255, 0.17799595, 0.17693076, 0.17605063, 0.17512263, 0.17445585, 0.17389204, 0.17335266, 0.17287573, 0.1725936, 0.17213425, 0.17201039, 0.17726612, 0.17673789, 0.17527142, 0.17084406, 0.17337725, 0.17372167, 0.17040133, 0.16964854, 0.1694504, 0.16960505]\n",
      "[0.03535536, 0.03590945, 0.034041025, 0.031801328, 0.030017802, 0.028818453, 0.027894648, 0.027268313, 0.026791668, 0.026456432, 0.026212718, 0.026032187, 0.025893852, 0.025776729, 0.025686312, 0.025611341, 0.025545146, 0.025483679, 0.025436787, 0.025389545, 0.025361003, 0.025324479, 0.025292456, 0.025268398, 0.025242856, 0.025195602, 0.025168149, 0.02515516, 0.025141723, 0.025120063, 0.02509781, 0.025072018, 0.025045762, 0.025035782, 0.025012296, 0.024995778, 0.024981705]\n"
     ]
    },
    {
     "name": "stderr",
     "output_type": "stream",
     "text": [
      "                                                                                                                                                                              \r"
     ]
    },
    {
     "name": "stdout",
     "output_type": "stream",
     "text": [
      "Epoch 38, total_loss=0.2366, reg_loss = 0.0731\n",
      "   87.64 s in train({'n_hidden_rhs': [], '..., ConditionalAutoEncoder..., cuda, <torch.utils.data.data..., AdamW ( Parameter Grou..., MSELoss(), 38, max_norm=100)\n",
      "   42.43 s in test({'n_hidden_rhs': [], '..., ConditionalAutoEncoder..., cuda, <torch.utils.data.data..., MSELoss())\n",
      "    8.60 s in test({'n_hidden_rhs': [], '..., ConditionalAutoEncoder..., cuda, <torch.utils.data.data..., MSELoss())\n",
      "Train MSE: 0.16909681\n",
      "Valid MSE: 0.0249516\n",
      "Next Learning Rate: 0.001\n",
      "[5.7759023, 0.66950125, 0.30034906, 0.23309559, 0.21502145, 0.20495963, 0.1994291, 0.19516139, 0.1914698, 0.1887009, 0.18672821, 0.18467619, 0.18306026, 0.1813689, 0.18016517, 0.17894255, 0.17799595, 0.17693076, 0.17605063, 0.17512263, 0.17445585, 0.17389204, 0.17335266, 0.17287573, 0.1725936, 0.17213425, 0.17201039, 0.17726612, 0.17673789, 0.17527142, 0.17084406, 0.17337725, 0.17372167, 0.17040133, 0.16964854, 0.1694504, 0.16960505, 0.16913131]\n",
      "[0.03535536, 0.03590945, 0.034041025, 0.031801328, 0.030017802, 0.028818453, 0.027894648, 0.027268313, 0.026791668, 0.026456432, 0.026212718, 0.026032187, 0.025893852, 0.025776729, 0.025686312, 0.025611341, 0.025545146, 0.025483679, 0.025436787, 0.025389545, 0.025361003, 0.025324479, 0.025292456, 0.025268398, 0.025242856, 0.025195602, 0.025168149, 0.02515516, 0.025141723, 0.025120063, 0.02509781, 0.025072018, 0.025045762, 0.025035782, 0.025012296, 0.024995778, 0.024981705, 0.02495966]\n"
     ]
    },
    {
     "name": "stderr",
     "output_type": "stream",
     "text": [
      "                                                                                                                                                                              \r"
     ]
    },
    {
     "name": "stdout",
     "output_type": "stream",
     "text": [
      "Epoch 39, total_loss=0.2379, reg_loss = 0.0728\n",
      "   88.33 s in train({'n_hidden_rhs': [], '..., ConditionalAutoEncoder..., cuda, <torch.utils.data.data..., AdamW ( Parameter Grou..., MSELoss(), 39, max_norm=100)\n",
      "   41.53 s in test({'n_hidden_rhs': [], '..., ConditionalAutoEncoder..., cuda, <torch.utils.data.data..., MSELoss())\n",
      "    9.07 s in test({'n_hidden_rhs': [], '..., ConditionalAutoEncoder..., cuda, <torch.utils.data.data..., MSELoss())\n",
      "Train MSE: 0.16889352\n",
      "Valid MSE: 0.024949005\n",
      "Next Learning Rate: 0.001\n",
      "[5.7759023, 0.66950125, 0.30034906, 0.23309559, 0.21502145, 0.20495963, 0.1994291, 0.19516139, 0.1914698, 0.1887009, 0.18672821, 0.18467619, 0.18306026, 0.1813689, 0.18016517, 0.17894255, 0.17799595, 0.17693076, 0.17605063, 0.17512263, 0.17445585, 0.17389204, 0.17335266, 0.17287573, 0.1725936, 0.17213425, 0.17201039, 0.17726612, 0.17673789, 0.17527142, 0.17084406, 0.17337725, 0.17372167, 0.17040133, 0.16964854, 0.1694504, 0.16960505, 0.16913131, 0.16909681]\n",
      "[0.03535536, 0.03590945, 0.034041025, 0.031801328, 0.030017802, 0.028818453, 0.027894648, 0.027268313, 0.026791668, 0.026456432, 0.026212718, 0.026032187, 0.025893852, 0.025776729, 0.025686312, 0.025611341, 0.025545146, 0.025483679, 0.025436787, 0.025389545, 0.025361003, 0.025324479, 0.025292456, 0.025268398, 0.025242856, 0.025195602, 0.025168149, 0.02515516, 0.025141723, 0.025120063, 0.02509781, 0.025072018, 0.025045762, 0.025035782, 0.025012296, 0.024995778, 0.024981705, 0.02495966, 0.0249516]\n"
     ]
    },
    {
     "name": "stderr",
     "output_type": "stream",
     "text": [
      "                                                                                                                                                                              \r"
     ]
    },
    {
     "name": "stdout",
     "output_type": "stream",
     "text": [
      "Epoch 40, total_loss=0.2366, reg_loss = 0.0725\n",
      "   87.46 s in train({'n_hidden_rhs': [], '..., ConditionalAutoEncoder..., cuda, <torch.utils.data.data..., AdamW ( Parameter Grou..., MSELoss(), 40, max_norm=100)\n",
      "   40.57 s in test({'n_hidden_rhs': [], '..., ConditionalAutoEncoder..., cuda, <torch.utils.data.data..., MSELoss())\n",
      "    9.26 s in test({'n_hidden_rhs': [], '..., ConditionalAutoEncoder..., cuda, <torch.utils.data.data..., MSELoss())\n",
      "Train MSE: 0.16872862\n",
      "Valid MSE: 0.024929773\n",
      "Next Learning Rate: 0.001\n",
      "[5.7759023, 0.66950125, 0.30034906, 0.23309559, 0.21502145, 0.20495963, 0.1994291, 0.19516139, 0.1914698, 0.1887009, 0.18672821, 0.18467619, 0.18306026, 0.1813689, 0.18016517, 0.17894255, 0.17799595, 0.17693076, 0.17605063, 0.17512263, 0.17445585, 0.17389204, 0.17335266, 0.17287573, 0.1725936, 0.17213425, 0.17201039, 0.17726612, 0.17673789, 0.17527142, 0.17084406, 0.17337725, 0.17372167, 0.17040133, 0.16964854, 0.1694504, 0.16960505, 0.16913131, 0.16909681, 0.16889352]\n",
      "[0.03535536, 0.03590945, 0.034041025, 0.031801328, 0.030017802, 0.028818453, 0.027894648, 0.027268313, 0.026791668, 0.026456432, 0.026212718, 0.026032187, 0.025893852, 0.025776729, 0.025686312, 0.025611341, 0.025545146, 0.025483679, 0.025436787, 0.025389545, 0.025361003, 0.025324479, 0.025292456, 0.025268398, 0.025242856, 0.025195602, 0.025168149, 0.02515516, 0.025141723, 0.025120063, 0.02509781, 0.025072018, 0.025045762, 0.025035782, 0.025012296, 0.024995778, 0.024981705, 0.02495966, 0.0249516, 0.024949005]\n"
     ]
    },
    {
     "name": "stderr",
     "output_type": "stream",
     "text": [
      "                                                                                                                                                                              \r"
     ]
    },
    {
     "name": "stdout",
     "output_type": "stream",
     "text": [
      "Epoch 41, total_loss=0.2334, reg_loss = 0.0722\n",
      "   86.73 s in train({'n_hidden_rhs': [], '..., ConditionalAutoEncoder..., cuda, <torch.utils.data.data..., AdamW ( Parameter Grou..., MSELoss(), 41, max_norm=100)\n",
      "   42.15 s in test({'n_hidden_rhs': [], '..., ConditionalAutoEncoder..., cuda, <torch.utils.data.data..., MSELoss())\n",
      "    9.84 s in test({'n_hidden_rhs': [], '..., ConditionalAutoEncoder..., cuda, <torch.utils.data.data..., MSELoss())\n",
      "Train MSE: 0.16875465\n",
      "Valid MSE: 0.0249226\n",
      "Next Learning Rate: 0.001\n",
      "[5.7759023, 0.66950125, 0.30034906, 0.23309559, 0.21502145, 0.20495963, 0.1994291, 0.19516139, 0.1914698, 0.1887009, 0.18672821, 0.18467619, 0.18306026, 0.1813689, 0.18016517, 0.17894255, 0.17799595, 0.17693076, 0.17605063, 0.17512263, 0.17445585, 0.17389204, 0.17335266, 0.17287573, 0.1725936, 0.17213425, 0.17201039, 0.17726612, 0.17673789, 0.17527142, 0.17084406, 0.17337725, 0.17372167, 0.17040133, 0.16964854, 0.1694504, 0.16960505, 0.16913131, 0.16909681, 0.16889352, 0.16872862]\n",
      "[0.03535536, 0.03590945, 0.034041025, 0.031801328, 0.030017802, 0.028818453, 0.027894648, 0.027268313, 0.026791668, 0.026456432, 0.026212718, 0.026032187, 0.025893852, 0.025776729, 0.025686312, 0.025611341, 0.025545146, 0.025483679, 0.025436787, 0.025389545, 0.025361003, 0.025324479, 0.025292456, 0.025268398, 0.025242856, 0.025195602, 0.025168149, 0.02515516, 0.025141723, 0.025120063, 0.02509781, 0.025072018, 0.025045762, 0.025035782, 0.025012296, 0.024995778, 0.024981705, 0.02495966, 0.0249516, 0.024949005, 0.024929773]\n"
     ]
    },
    {
     "name": "stderr",
     "output_type": "stream",
     "text": [
      "                                                                                                                                                                              \r"
     ]
    },
    {
     "name": "stdout",
     "output_type": "stream",
     "text": [
      "Epoch 42, total_loss=0.2357, reg_loss = 0.0719\n",
      "   87.29 s in train({'n_hidden_rhs': [], '..., ConditionalAutoEncoder..., cuda, <torch.utils.data.data..., AdamW ( Parameter Grou..., MSELoss(), 42, max_norm=100)\n",
      "   41.68 s in test({'n_hidden_rhs': [], '..., ConditionalAutoEncoder..., cuda, <torch.utils.data.data..., MSELoss())\n",
      "   10.07 s in test({'n_hidden_rhs': [], '..., ConditionalAutoEncoder..., cuda, <torch.utils.data.data..., MSELoss())\n",
      "Train MSE: 0.16892314\n",
      "Valid MSE: 0.0249031\n",
      "Next Learning Rate: 0.001\n",
      "[5.7759023, 0.66950125, 0.30034906, 0.23309559, 0.21502145, 0.20495963, 0.1994291, 0.19516139, 0.1914698, 0.1887009, 0.18672821, 0.18467619, 0.18306026, 0.1813689, 0.18016517, 0.17894255, 0.17799595, 0.17693076, 0.17605063, 0.17512263, 0.17445585, 0.17389204, 0.17335266, 0.17287573, 0.1725936, 0.17213425, 0.17201039, 0.17726612, 0.17673789, 0.17527142, 0.17084406, 0.17337725, 0.17372167, 0.17040133, 0.16964854, 0.1694504, 0.16960505, 0.16913131, 0.16909681, 0.16889352, 0.16872862, 0.16875465]\n",
      "[0.03535536, 0.03590945, 0.034041025, 0.031801328, 0.030017802, 0.028818453, 0.027894648, 0.027268313, 0.026791668, 0.026456432, 0.026212718, 0.026032187, 0.025893852, 0.025776729, 0.025686312, 0.025611341, 0.025545146, 0.025483679, 0.025436787, 0.025389545, 0.025361003, 0.025324479, 0.025292456, 0.025268398, 0.025242856, 0.025195602, 0.025168149, 0.02515516, 0.025141723, 0.025120063, 0.02509781, 0.025072018, 0.025045762, 0.025035782, 0.025012296, 0.024995778, 0.024981705, 0.02495966, 0.0249516, 0.024949005, 0.024929773, 0.0249226]\n"
     ]
    },
    {
     "name": "stderr",
     "output_type": "stream",
     "text": [
      "                                                                                                                                                                              \r"
     ]
    },
    {
     "name": "stdout",
     "output_type": "stream",
     "text": [
      "Epoch 43, total_loss=0.2374, reg_loss = 0.0716\n",
      "   87.89 s in train({'n_hidden_rhs': [], '..., ConditionalAutoEncoder..., cuda, <torch.utils.data.data..., AdamW ( Parameter Grou..., MSELoss(), 43, max_norm=100)\n",
      "   41.76 s in test({'n_hidden_rhs': [], '..., ConditionalAutoEncoder..., cuda, <torch.utils.data.data..., MSELoss())\n",
      "    9.76 s in test({'n_hidden_rhs': [], '..., ConditionalAutoEncoder..., cuda, <torch.utils.data.data..., MSELoss())\n",
      "Train MSE: 0.16838285\n",
      "Valid MSE: 0.02489025\n",
      "Next Learning Rate: 0.001\n",
      "[5.7759023, 0.66950125, 0.30034906, 0.23309559, 0.21502145, 0.20495963, 0.1994291, 0.19516139, 0.1914698, 0.1887009, 0.18672821, 0.18467619, 0.18306026, 0.1813689, 0.18016517, 0.17894255, 0.17799595, 0.17693076, 0.17605063, 0.17512263, 0.17445585, 0.17389204, 0.17335266, 0.17287573, 0.1725936, 0.17213425, 0.17201039, 0.17726612, 0.17673789, 0.17527142, 0.17084406, 0.17337725, 0.17372167, 0.17040133, 0.16964854, 0.1694504, 0.16960505, 0.16913131, 0.16909681, 0.16889352, 0.16872862, 0.16875465, 0.16892314]\n",
      "[0.03535536, 0.03590945, 0.034041025, 0.031801328, 0.030017802, 0.028818453, 0.027894648, 0.027268313, 0.026791668, 0.026456432, 0.026212718, 0.026032187, 0.025893852, 0.025776729, 0.025686312, 0.025611341, 0.025545146, 0.025483679, 0.025436787, 0.025389545, 0.025361003, 0.025324479, 0.025292456, 0.025268398, 0.025242856, 0.025195602, 0.025168149, 0.02515516, 0.025141723, 0.025120063, 0.02509781, 0.025072018, 0.025045762, 0.025035782, 0.025012296, 0.024995778, 0.024981705, 0.02495966, 0.0249516, 0.024949005, 0.024929773, 0.0249226, 0.0249031]\n"
     ]
    },
    {
     "name": "stderr",
     "output_type": "stream",
     "text": [
      "                                                                                                                                                                              \r"
     ]
    },
    {
     "name": "stdout",
     "output_type": "stream",
     "text": [
      "Epoch 44, total_loss=0.2405, reg_loss = 0.0713\n",
      "   88.15 s in train({'n_hidden_rhs': [], '..., ConditionalAutoEncoder..., cuda, <torch.utils.data.data..., AdamW ( Parameter Grou..., MSELoss(), 44, max_norm=100)\n",
      "   41.97 s in test({'n_hidden_rhs': [], '..., ConditionalAutoEncoder..., cuda, <torch.utils.data.data..., MSELoss())\n",
      "    8.70 s in test({'n_hidden_rhs': [], '..., ConditionalAutoEncoder..., cuda, <torch.utils.data.data..., MSELoss())\n",
      "Train MSE: 0.16827352\n",
      "Valid MSE: 0.024884922\n",
      "Next Learning Rate: 0.001\n",
      "[5.7759023, 0.66950125, 0.30034906, 0.23309559, 0.21502145, 0.20495963, 0.1994291, 0.19516139, 0.1914698, 0.1887009, 0.18672821, 0.18467619, 0.18306026, 0.1813689, 0.18016517, 0.17894255, 0.17799595, 0.17693076, 0.17605063, 0.17512263, 0.17445585, 0.17389204, 0.17335266, 0.17287573, 0.1725936, 0.17213425, 0.17201039, 0.17726612, 0.17673789, 0.17527142, 0.17084406, 0.17337725, 0.17372167, 0.17040133, 0.16964854, 0.1694504, 0.16960505, 0.16913131, 0.16909681, 0.16889352, 0.16872862, 0.16875465, 0.16892314, 0.16838285]\n",
      "[0.03535536, 0.03590945, 0.034041025, 0.031801328, 0.030017802, 0.028818453, 0.027894648, 0.027268313, 0.026791668, 0.026456432, 0.026212718, 0.026032187, 0.025893852, 0.025776729, 0.025686312, 0.025611341, 0.025545146, 0.025483679, 0.025436787, 0.025389545, 0.025361003, 0.025324479, 0.025292456, 0.025268398, 0.025242856, 0.025195602, 0.025168149, 0.02515516, 0.025141723, 0.025120063, 0.02509781, 0.025072018, 0.025045762, 0.025035782, 0.025012296, 0.024995778, 0.024981705, 0.02495966, 0.0249516, 0.024949005, 0.024929773, 0.0249226, 0.0249031, 0.02489025]\n"
     ]
    },
    {
     "name": "stderr",
     "output_type": "stream",
     "text": [
      "                                                                                                                                                                              \r"
     ]
    },
    {
     "name": "stdout",
     "output_type": "stream",
     "text": [
      "Epoch 45, total_loss=0.2289, reg_loss = 0.0710\n",
      "   86.98 s in train({'n_hidden_rhs': [], '..., ConditionalAutoEncoder..., cuda, <torch.utils.data.data..., AdamW ( Parameter Grou..., MSELoss(), 45, max_norm=100)\n",
      "   40.44 s in test({'n_hidden_rhs': [], '..., ConditionalAutoEncoder..., cuda, <torch.utils.data.data..., MSELoss())\n",
      "    9.57 s in test({'n_hidden_rhs': [], '..., ConditionalAutoEncoder..., cuda, <torch.utils.data.data..., MSELoss())\n",
      "Train MSE: 0.16822724\n",
      "Valid MSE: 0.024877047\n",
      "Next Learning Rate: 0.001\n",
      "[5.7759023, 0.66950125, 0.30034906, 0.23309559, 0.21502145, 0.20495963, 0.1994291, 0.19516139, 0.1914698, 0.1887009, 0.18672821, 0.18467619, 0.18306026, 0.1813689, 0.18016517, 0.17894255, 0.17799595, 0.17693076, 0.17605063, 0.17512263, 0.17445585, 0.17389204, 0.17335266, 0.17287573, 0.1725936, 0.17213425, 0.17201039, 0.17726612, 0.17673789, 0.17527142, 0.17084406, 0.17337725, 0.17372167, 0.17040133, 0.16964854, 0.1694504, 0.16960505, 0.16913131, 0.16909681, 0.16889352, 0.16872862, 0.16875465, 0.16892314, 0.16838285, 0.16827352]\n",
      "[0.03535536, 0.03590945, 0.034041025, 0.031801328, 0.030017802, 0.028818453, 0.027894648, 0.027268313, 0.026791668, 0.026456432, 0.026212718, 0.026032187, 0.025893852, 0.025776729, 0.025686312, 0.025611341, 0.025545146, 0.025483679, 0.025436787, 0.025389545, 0.025361003, 0.025324479, 0.025292456, 0.025268398, 0.025242856, 0.025195602, 0.025168149, 0.02515516, 0.025141723, 0.025120063, 0.02509781, 0.025072018, 0.025045762, 0.025035782, 0.025012296, 0.024995778, 0.024981705, 0.02495966, 0.0249516, 0.024949005, 0.024929773, 0.0249226, 0.0249031, 0.02489025, 0.024884922]\n"
     ]
    },
    {
     "name": "stderr",
     "output_type": "stream",
     "text": [
      "                                                                                                                                                                              \r"
     ]
    },
    {
     "name": "stdout",
     "output_type": "stream",
     "text": [
      "Epoch 46, total_loss=0.2341, reg_loss = 0.0707\n",
      "   87.86 s in train({'n_hidden_rhs': [], '..., ConditionalAutoEncoder..., cuda, <torch.utils.data.data..., AdamW ( Parameter Grou..., MSELoss(), 46, max_norm=100)\n",
      "   41.77 s in test({'n_hidden_rhs': [], '..., ConditionalAutoEncoder..., cuda, <torch.utils.data.data..., MSELoss())\n",
      "    8.76 s in test({'n_hidden_rhs': [], '..., ConditionalAutoEncoder..., cuda, <torch.utils.data.data..., MSELoss())\n",
      "Train MSE: 0.16811338\n",
      "Valid MSE: 0.024865758\n",
      "Next Learning Rate: 0.001\n",
      "[5.7759023, 0.66950125, 0.30034906, 0.23309559, 0.21502145, 0.20495963, 0.1994291, 0.19516139, 0.1914698, 0.1887009, 0.18672821, 0.18467619, 0.18306026, 0.1813689, 0.18016517, 0.17894255, 0.17799595, 0.17693076, 0.17605063, 0.17512263, 0.17445585, 0.17389204, 0.17335266, 0.17287573, 0.1725936, 0.17213425, 0.17201039, 0.17726612, 0.17673789, 0.17527142, 0.17084406, 0.17337725, 0.17372167, 0.17040133, 0.16964854, 0.1694504, 0.16960505, 0.16913131, 0.16909681, 0.16889352, 0.16872862, 0.16875465, 0.16892314, 0.16838285, 0.16827352, 0.16822724]\n",
      "[0.03535536, 0.03590945, 0.034041025, 0.031801328, 0.030017802, 0.028818453, 0.027894648, 0.027268313, 0.026791668, 0.026456432, 0.026212718, 0.026032187, 0.025893852, 0.025776729, 0.025686312, 0.025611341, 0.025545146, 0.025483679, 0.025436787, 0.025389545, 0.025361003, 0.025324479, 0.025292456, 0.025268398, 0.025242856, 0.025195602, 0.025168149, 0.02515516, 0.025141723, 0.025120063, 0.02509781, 0.025072018, 0.025045762, 0.025035782, 0.025012296, 0.024995778, 0.024981705, 0.02495966, 0.0249516, 0.024949005, 0.024929773, 0.0249226, 0.0249031, 0.02489025, 0.024884922, 0.024877047]\n"
     ]
    },
    {
     "name": "stderr",
     "output_type": "stream",
     "text": [
      "                                                                                                                                                                              \r"
     ]
    },
    {
     "name": "stdout",
     "output_type": "stream",
     "text": [
      "Epoch 47, total_loss=0.2335, reg_loss = 0.0704\n",
      "   86.01 s in train({'n_hidden_rhs': [], '..., ConditionalAutoEncoder..., cuda, <torch.utils.data.data..., AdamW ( Parameter Grou..., MSELoss(), 47, max_norm=100)\n",
      "   41.11 s in test({'n_hidden_rhs': [], '..., ConditionalAutoEncoder..., cuda, <torch.utils.data.data..., MSELoss())\n",
      "    8.85 s in test({'n_hidden_rhs': [], '..., ConditionalAutoEncoder..., cuda, <torch.utils.data.data..., MSELoss())\n",
      "Train MSE: 0.16803914\n",
      "Valid MSE: 0.024858858\n",
      "Next Learning Rate: 0.001\n",
      "[5.7759023, 0.66950125, 0.30034906, 0.23309559, 0.21502145, 0.20495963, 0.1994291, 0.19516139, 0.1914698, 0.1887009, 0.18672821, 0.18467619, 0.18306026, 0.1813689, 0.18016517, 0.17894255, 0.17799595, 0.17693076, 0.17605063, 0.17512263, 0.17445585, 0.17389204, 0.17335266, 0.17287573, 0.1725936, 0.17213425, 0.17201039, 0.17726612, 0.17673789, 0.17527142, 0.17084406, 0.17337725, 0.17372167, 0.17040133, 0.16964854, 0.1694504, 0.16960505, 0.16913131, 0.16909681, 0.16889352, 0.16872862, 0.16875465, 0.16892314, 0.16838285, 0.16827352, 0.16822724, 0.16811338]\n",
      "[0.03535536, 0.03590945, 0.034041025, 0.031801328, 0.030017802, 0.028818453, 0.027894648, 0.027268313, 0.026791668, 0.026456432, 0.026212718, 0.026032187, 0.025893852, 0.025776729, 0.025686312, 0.025611341, 0.025545146, 0.025483679, 0.025436787, 0.025389545, 0.025361003, 0.025324479, 0.025292456, 0.025268398, 0.025242856, 0.025195602, 0.025168149, 0.02515516, 0.025141723, 0.025120063, 0.02509781, 0.025072018, 0.025045762, 0.025035782, 0.025012296, 0.024995778, 0.024981705, 0.02495966, 0.0249516, 0.024949005, 0.024929773, 0.0249226, 0.0249031, 0.02489025, 0.024884922, 0.024877047, 0.024865758]\n"
     ]
    },
    {
     "name": "stderr",
     "output_type": "stream",
     "text": [
      "                                                                                                                                                                              \r"
     ]
    },
    {
     "name": "stdout",
     "output_type": "stream",
     "text": [
      "Epoch 48, total_loss=0.2336, reg_loss = 0.0701\n",
      "   87.47 s in train({'n_hidden_rhs': [], '..., ConditionalAutoEncoder..., cuda, <torch.utils.data.data..., AdamW ( Parameter Grou..., MSELoss(), 48, max_norm=100)\n",
      "   41.87 s in test({'n_hidden_rhs': [], '..., ConditionalAutoEncoder..., cuda, <torch.utils.data.data..., MSELoss())\n",
      "    8.36 s in test({'n_hidden_rhs': [], '..., ConditionalAutoEncoder..., cuda, <torch.utils.data.data..., MSELoss())\n",
      "Train MSE: 0.16792396\n",
      "Valid MSE: 0.024855312\n",
      "Next Learning Rate: 0.001\n",
      "[5.7759023, 0.66950125, 0.30034906, 0.23309559, 0.21502145, 0.20495963, 0.1994291, 0.19516139, 0.1914698, 0.1887009, 0.18672821, 0.18467619, 0.18306026, 0.1813689, 0.18016517, 0.17894255, 0.17799595, 0.17693076, 0.17605063, 0.17512263, 0.17445585, 0.17389204, 0.17335266, 0.17287573, 0.1725936, 0.17213425, 0.17201039, 0.17726612, 0.17673789, 0.17527142, 0.17084406, 0.17337725, 0.17372167, 0.17040133, 0.16964854, 0.1694504, 0.16960505, 0.16913131, 0.16909681, 0.16889352, 0.16872862, 0.16875465, 0.16892314, 0.16838285, 0.16827352, 0.16822724, 0.16811338, 0.16803914]\n",
      "[0.03535536, 0.03590945, 0.034041025, 0.031801328, 0.030017802, 0.028818453, 0.027894648, 0.027268313, 0.026791668, 0.026456432, 0.026212718, 0.026032187, 0.025893852, 0.025776729, 0.025686312, 0.025611341, 0.025545146, 0.025483679, 0.025436787, 0.025389545, 0.025361003, 0.025324479, 0.025292456, 0.025268398, 0.025242856, 0.025195602, 0.025168149, 0.02515516, 0.025141723, 0.025120063, 0.02509781, 0.025072018, 0.025045762, 0.025035782, 0.025012296, 0.024995778, 0.024981705, 0.02495966, 0.0249516, 0.024949005, 0.024929773, 0.0249226, 0.0249031, 0.02489025, 0.024884922, 0.024877047, 0.024865758, 0.024858858]\n"
     ]
    },
    {
     "name": "stderr",
     "output_type": "stream",
     "text": [
      "                                                                                                                                                                              \r"
     ]
    },
    {
     "name": "stdout",
     "output_type": "stream",
     "text": [
      "Epoch 49, total_loss=0.2387, reg_loss = 0.0698\n",
      "   87.65 s in train({'n_hidden_rhs': [], '..., ConditionalAutoEncoder..., cuda, <torch.utils.data.data..., AdamW ( Parameter Grou..., MSELoss(), 49, max_norm=100)\n",
      "   42.21 s in test({'n_hidden_rhs': [], '..., ConditionalAutoEncoder..., cuda, <torch.utils.data.data..., MSELoss())\n",
      "    9.26 s in test({'n_hidden_rhs': [], '..., ConditionalAutoEncoder..., cuda, <torch.utils.data.data..., MSELoss())\n",
      "Train MSE: 0.16785859\n",
      "Valid MSE: 0.024833243\n",
      "Next Learning Rate: 0.001\n",
      "[5.7759023, 0.66950125, 0.30034906, 0.23309559, 0.21502145, 0.20495963, 0.1994291, 0.19516139, 0.1914698, 0.1887009, 0.18672821, 0.18467619, 0.18306026, 0.1813689, 0.18016517, 0.17894255, 0.17799595, 0.17693076, 0.17605063, 0.17512263, 0.17445585, 0.17389204, 0.17335266, 0.17287573, 0.1725936, 0.17213425, 0.17201039, 0.17726612, 0.17673789, 0.17527142, 0.17084406, 0.17337725, 0.17372167, 0.17040133, 0.16964854, 0.1694504, 0.16960505, 0.16913131, 0.16909681, 0.16889352, 0.16872862, 0.16875465, 0.16892314, 0.16838285, 0.16827352, 0.16822724, 0.16811338, 0.16803914, 0.16792396]\n",
      "[0.03535536, 0.03590945, 0.034041025, 0.031801328, 0.030017802, 0.028818453, 0.027894648, 0.027268313, 0.026791668, 0.026456432, 0.026212718, 0.026032187, 0.025893852, 0.025776729, 0.025686312, 0.025611341, 0.025545146, 0.025483679, 0.025436787, 0.025389545, 0.025361003, 0.025324479, 0.025292456, 0.025268398, 0.025242856, 0.025195602, 0.025168149, 0.02515516, 0.025141723, 0.025120063, 0.02509781, 0.025072018, 0.025045762, 0.025035782, 0.025012296, 0.024995778, 0.024981705, 0.02495966, 0.0249516, 0.024949005, 0.024929773, 0.0249226, 0.0249031, 0.02489025, 0.024884922, 0.024877047, 0.024865758, 0.024858858, 0.024855312]\n"
     ]
    },
    {
     "name": "stderr",
     "output_type": "stream",
     "text": [
      "                                                                                                                                                                              \r"
     ]
    },
    {
     "name": "stdout",
     "output_type": "stream",
     "text": [
      "Epoch 50, total_loss=0.2327, reg_loss = 0.0695\n",
      "   87.21 s in train({'n_hidden_rhs': [], '..., ConditionalAutoEncoder..., cuda, <torch.utils.data.data..., AdamW ( Parameter Grou..., MSELoss(), 50, max_norm=100)\n",
      "   41.06 s in test({'n_hidden_rhs': [], '..., ConditionalAutoEncoder..., cuda, <torch.utils.data.data..., MSELoss())\n",
      "    8.90 s in test({'n_hidden_rhs': [], '..., ConditionalAutoEncoder..., cuda, <torch.utils.data.data..., MSELoss())\n",
      "Train MSE: 0.1677966\n",
      "Valid MSE: 0.024832666\n",
      "Next Learning Rate: 0.001\n",
      "[5.7759023, 0.66950125, 0.30034906, 0.23309559, 0.21502145, 0.20495963, 0.1994291, 0.19516139, 0.1914698, 0.1887009, 0.18672821, 0.18467619, 0.18306026, 0.1813689, 0.18016517, 0.17894255, 0.17799595, 0.17693076, 0.17605063, 0.17512263, 0.17445585, 0.17389204, 0.17335266, 0.17287573, 0.1725936, 0.17213425, 0.17201039, 0.17726612, 0.17673789, 0.17527142, 0.17084406, 0.17337725, 0.17372167, 0.17040133, 0.16964854, 0.1694504, 0.16960505, 0.16913131, 0.16909681, 0.16889352, 0.16872862, 0.16875465, 0.16892314, 0.16838285, 0.16827352, 0.16822724, 0.16811338, 0.16803914, 0.16792396, 0.16785859]\n",
      "[0.03535536, 0.03590945, 0.034041025, 0.031801328, 0.030017802, 0.028818453, 0.027894648, 0.027268313, 0.026791668, 0.026456432, 0.026212718, 0.026032187, 0.025893852, 0.025776729, 0.025686312, 0.025611341, 0.025545146, 0.025483679, 0.025436787, 0.025389545, 0.025361003, 0.025324479, 0.025292456, 0.025268398, 0.025242856, 0.025195602, 0.025168149, 0.02515516, 0.025141723, 0.025120063, 0.02509781, 0.025072018, 0.025045762, 0.025035782, 0.025012296, 0.024995778, 0.024981705, 0.02495966, 0.0249516, 0.024949005, 0.024929773, 0.0249226, 0.0249031, 0.02489025, 0.024884922, 0.024877047, 0.024865758, 0.024858858, 0.024855312, 0.024833243]\n"
     ]
    },
    {
     "name": "stderr",
     "output_type": "stream",
     "text": [
      "                                                                                                                                                                              \r"
     ]
    },
    {
     "name": "stdout",
     "output_type": "stream",
     "text": [
      "Epoch 51, total_loss=0.2337, reg_loss = 0.0692\n",
      "   86.04 s in train({'n_hidden_rhs': [], '..., ConditionalAutoEncoder..., cuda, <torch.utils.data.data..., AdamW ( Parameter Grou..., MSELoss(), 51, max_norm=100)\n",
      "   41.57 s in test({'n_hidden_rhs': [], '..., ConditionalAutoEncoder..., cuda, <torch.utils.data.data..., MSELoss())\n",
      "    8.73 s in test({'n_hidden_rhs': [], '..., ConditionalAutoEncoder..., cuda, <torch.utils.data.data..., MSELoss())\n",
      "Train MSE: 0.16768785\n",
      "Valid MSE: 0.024826292\n",
      "Next Learning Rate: 0.001\n",
      "[5.7759023, 0.66950125, 0.30034906, 0.23309559, 0.21502145, 0.20495963, 0.1994291, 0.19516139, 0.1914698, 0.1887009, 0.18672821, 0.18467619, 0.18306026, 0.1813689, 0.18016517, 0.17894255, 0.17799595, 0.17693076, 0.17605063, 0.17512263, 0.17445585, 0.17389204, 0.17335266, 0.17287573, 0.1725936, 0.17213425, 0.17201039, 0.17726612, 0.17673789, 0.17527142, 0.17084406, 0.17337725, 0.17372167, 0.17040133, 0.16964854, 0.1694504, 0.16960505, 0.16913131, 0.16909681, 0.16889352, 0.16872862, 0.16875465, 0.16892314, 0.16838285, 0.16827352, 0.16822724, 0.16811338, 0.16803914, 0.16792396, 0.16785859, 0.1677966]\n",
      "[0.03535536, 0.03590945, 0.034041025, 0.031801328, 0.030017802, 0.028818453, 0.027894648, 0.027268313, 0.026791668, 0.026456432, 0.026212718, 0.026032187, 0.025893852, 0.025776729, 0.025686312, 0.025611341, 0.025545146, 0.025483679, 0.025436787, 0.025389545, 0.025361003, 0.025324479, 0.025292456, 0.025268398, 0.025242856, 0.025195602, 0.025168149, 0.02515516, 0.025141723, 0.025120063, 0.02509781, 0.025072018, 0.025045762, 0.025035782, 0.025012296, 0.024995778, 0.024981705, 0.02495966, 0.0249516, 0.024949005, 0.024929773, 0.0249226, 0.0249031, 0.02489025, 0.024884922, 0.024877047, 0.024865758, 0.024858858, 0.024855312, 0.024833243, 0.024832666]\n"
     ]
    },
    {
     "name": "stderr",
     "output_type": "stream",
     "text": [
      "                                                                                                                                                                              \r"
     ]
    },
    {
     "name": "stdout",
     "output_type": "stream",
     "text": [
      "Epoch 52, total_loss=0.2284, reg_loss = 0.0689\n",
      "   86.76 s in train({'n_hidden_rhs': [], '..., ConditionalAutoEncoder..., cuda, <torch.utils.data.data..., AdamW ( Parameter Grou..., MSELoss(), 52, max_norm=100)\n",
      "   42.05 s in test({'n_hidden_rhs': [], '..., ConditionalAutoEncoder..., cuda, <torch.utils.data.data..., MSELoss())\n",
      "    8.86 s in test({'n_hidden_rhs': [], '..., ConditionalAutoEncoder..., cuda, <torch.utils.data.data..., MSELoss())\n",
      "Train MSE: 0.16761298\n",
      "Valid MSE: 0.024812257\n",
      "Next Learning Rate: 0.001\n",
      "[5.7759023, 0.66950125, 0.30034906, 0.23309559, 0.21502145, 0.20495963, 0.1994291, 0.19516139, 0.1914698, 0.1887009, 0.18672821, 0.18467619, 0.18306026, 0.1813689, 0.18016517, 0.17894255, 0.17799595, 0.17693076, 0.17605063, 0.17512263, 0.17445585, 0.17389204, 0.17335266, 0.17287573, 0.1725936, 0.17213425, 0.17201039, 0.17726612, 0.17673789, 0.17527142, 0.17084406, 0.17337725, 0.17372167, 0.17040133, 0.16964854, 0.1694504, 0.16960505, 0.16913131, 0.16909681, 0.16889352, 0.16872862, 0.16875465, 0.16892314, 0.16838285, 0.16827352, 0.16822724, 0.16811338, 0.16803914, 0.16792396, 0.16785859, 0.1677966, 0.16768785]\n",
      "[0.03535536, 0.03590945, 0.034041025, 0.031801328, 0.030017802, 0.028818453, 0.027894648, 0.027268313, 0.026791668, 0.026456432, 0.026212718, 0.026032187, 0.025893852, 0.025776729, 0.025686312, 0.025611341, 0.025545146, 0.025483679, 0.025436787, 0.025389545, 0.025361003, 0.025324479, 0.025292456, 0.025268398, 0.025242856, 0.025195602, 0.025168149, 0.02515516, 0.025141723, 0.025120063, 0.02509781, 0.025072018, 0.025045762, 0.025035782, 0.025012296, 0.024995778, 0.024981705, 0.02495966, 0.0249516, 0.024949005, 0.024929773, 0.0249226, 0.0249031, 0.02489025, 0.024884922, 0.024877047, 0.024865758, 0.024858858, 0.024855312, 0.024833243, 0.024832666, 0.024826292]\n"
     ]
    },
    {
     "name": "stderr",
     "output_type": "stream",
     "text": [
      "                                                                                                                                                                              \r"
     ]
    },
    {
     "name": "stdout",
     "output_type": "stream",
     "text": [
      "Epoch 53, total_loss=0.2314, reg_loss = 0.0686\n",
      "   87.64 s in train({'n_hidden_rhs': [], '..., ConditionalAutoEncoder..., cuda, <torch.utils.data.data..., AdamW ( Parameter Grou..., MSELoss(), 53, max_norm=100)\n",
      "   42.44 s in test({'n_hidden_rhs': [], '..., ConditionalAutoEncoder..., cuda, <torch.utils.data.data..., MSELoss())\n",
      "    8.86 s in test({'n_hidden_rhs': [], '..., ConditionalAutoEncoder..., cuda, <torch.utils.data.data..., MSELoss())\n",
      "Train MSE: 0.16758312\n",
      "Valid MSE: 0.024799597\n",
      "Next Learning Rate: 0.001\n",
      "[5.7759023, 0.66950125, 0.30034906, 0.23309559, 0.21502145, 0.20495963, 0.1994291, 0.19516139, 0.1914698, 0.1887009, 0.18672821, 0.18467619, 0.18306026, 0.1813689, 0.18016517, 0.17894255, 0.17799595, 0.17693076, 0.17605063, 0.17512263, 0.17445585, 0.17389204, 0.17335266, 0.17287573, 0.1725936, 0.17213425, 0.17201039, 0.17726612, 0.17673789, 0.17527142, 0.17084406, 0.17337725, 0.17372167, 0.17040133, 0.16964854, 0.1694504, 0.16960505, 0.16913131, 0.16909681, 0.16889352, 0.16872862, 0.16875465, 0.16892314, 0.16838285, 0.16827352, 0.16822724, 0.16811338, 0.16803914, 0.16792396, 0.16785859, 0.1677966, 0.16768785, 0.16761298]\n",
      "[0.03535536, 0.03590945, 0.034041025, 0.031801328, 0.030017802, 0.028818453, 0.027894648, 0.027268313, 0.026791668, 0.026456432, 0.026212718, 0.026032187, 0.025893852, 0.025776729, 0.025686312, 0.025611341, 0.025545146, 0.025483679, 0.025436787, 0.025389545, 0.025361003, 0.025324479, 0.025292456, 0.025268398, 0.025242856, 0.025195602, 0.025168149, 0.02515516, 0.025141723, 0.025120063, 0.02509781, 0.025072018, 0.025045762, 0.025035782, 0.025012296, 0.024995778, 0.024981705, 0.02495966, 0.0249516, 0.024949005, 0.024929773, 0.0249226, 0.0249031, 0.02489025, 0.024884922, 0.024877047, 0.024865758, 0.024858858, 0.024855312, 0.024833243, 0.024832666, 0.024826292, 0.024812257]\n"
     ]
    },
    {
     "name": "stderr",
     "output_type": "stream",
     "text": [
      "                                                                                                                                                                              \r"
     ]
    },
    {
     "name": "stdout",
     "output_type": "stream",
     "text": [
      "Epoch 54, total_loss=0.2287, reg_loss = 0.0683\n",
      "   87.01 s in train({'n_hidden_rhs': [], '..., ConditionalAutoEncoder..., cuda, <torch.utils.data.data..., AdamW ( Parameter Grou..., MSELoss(), 54, max_norm=100)\n",
      "   41.06 s in test({'n_hidden_rhs': [], '..., ConditionalAutoEncoder..., cuda, <torch.utils.data.data..., MSELoss())\n",
      "    8.96 s in test({'n_hidden_rhs': [], '..., ConditionalAutoEncoder..., cuda, <torch.utils.data.data..., MSELoss())\n",
      "Train MSE: 0.16747884\n",
      "Valid MSE: 0.024804678\n",
      "Next Learning Rate: 0.001\n",
      "[5.7759023, 0.66950125, 0.30034906, 0.23309559, 0.21502145, 0.20495963, 0.1994291, 0.19516139, 0.1914698, 0.1887009, 0.18672821, 0.18467619, 0.18306026, 0.1813689, 0.18016517, 0.17894255, 0.17799595, 0.17693076, 0.17605063, 0.17512263, 0.17445585, 0.17389204, 0.17335266, 0.17287573, 0.1725936, 0.17213425, 0.17201039, 0.17726612, 0.17673789, 0.17527142, 0.17084406, 0.17337725, 0.17372167, 0.17040133, 0.16964854, 0.1694504, 0.16960505, 0.16913131, 0.16909681, 0.16889352, 0.16872862, 0.16875465, 0.16892314, 0.16838285, 0.16827352, 0.16822724, 0.16811338, 0.16803914, 0.16792396, 0.16785859, 0.1677966, 0.16768785, 0.16761298, 0.16758312]\n",
      "[0.03535536, 0.03590945, 0.034041025, 0.031801328, 0.030017802, 0.028818453, 0.027894648, 0.027268313, 0.026791668, 0.026456432, 0.026212718, 0.026032187, 0.025893852, 0.025776729, 0.025686312, 0.025611341, 0.025545146, 0.025483679, 0.025436787, 0.025389545, 0.025361003, 0.025324479, 0.025292456, 0.025268398, 0.025242856, 0.025195602, 0.025168149, 0.02515516, 0.025141723, 0.025120063, 0.02509781, 0.025072018, 0.025045762, 0.025035782, 0.025012296, 0.024995778, 0.024981705, 0.02495966, 0.0249516, 0.024949005, 0.024929773, 0.0249226, 0.0249031, 0.02489025, 0.024884922, 0.024877047, 0.024865758, 0.024858858, 0.024855312, 0.024833243, 0.024832666, 0.024826292, 0.024812257, 0.024799597]\n"
     ]
    },
    {
     "name": "stderr",
     "output_type": "stream",
     "text": [
      "                                                                                                                                                                              \r"
     ]
    },
    {
     "name": "stdout",
     "output_type": "stream",
     "text": [
      "Epoch 55, total_loss=0.2285, reg_loss = 0.0679\n",
      "   88.67 s in train({'n_hidden_rhs': [], '..., ConditionalAutoEncoder..., cuda, <torch.utils.data.data..., AdamW ( Parameter Grou..., MSELoss(), 55, max_norm=100)\n",
      "   41.33 s in test({'n_hidden_rhs': [], '..., ConditionalAutoEncoder..., cuda, <torch.utils.data.data..., MSELoss())\n",
      "    9.04 s in test({'n_hidden_rhs': [], '..., ConditionalAutoEncoder..., cuda, <torch.utils.data.data..., MSELoss())\n",
      "Train MSE: 0.16742678\n",
      "Valid MSE: 0.02479687\n",
      "Next Learning Rate: 0.001\n",
      "[5.7759023, 0.66950125, 0.30034906, 0.23309559, 0.21502145, 0.20495963, 0.1994291, 0.19516139, 0.1914698, 0.1887009, 0.18672821, 0.18467619, 0.18306026, 0.1813689, 0.18016517, 0.17894255, 0.17799595, 0.17693076, 0.17605063, 0.17512263, 0.17445585, 0.17389204, 0.17335266, 0.17287573, 0.1725936, 0.17213425, 0.17201039, 0.17726612, 0.17673789, 0.17527142, 0.17084406, 0.17337725, 0.17372167, 0.17040133, 0.16964854, 0.1694504, 0.16960505, 0.16913131, 0.16909681, 0.16889352, 0.16872862, 0.16875465, 0.16892314, 0.16838285, 0.16827352, 0.16822724, 0.16811338, 0.16803914, 0.16792396, 0.16785859, 0.1677966, 0.16768785, 0.16761298, 0.16758312, 0.16747884]\n",
      "[0.03535536, 0.03590945, 0.034041025, 0.031801328, 0.030017802, 0.028818453, 0.027894648, 0.027268313, 0.026791668, 0.026456432, 0.026212718, 0.026032187, 0.025893852, 0.025776729, 0.025686312, 0.025611341, 0.025545146, 0.025483679, 0.025436787, 0.025389545, 0.025361003, 0.025324479, 0.025292456, 0.025268398, 0.025242856, 0.025195602, 0.025168149, 0.02515516, 0.025141723, 0.025120063, 0.02509781, 0.025072018, 0.025045762, 0.025035782, 0.025012296, 0.024995778, 0.024981705, 0.02495966, 0.0249516, 0.024949005, 0.024929773, 0.0249226, 0.0249031, 0.02489025, 0.024884922, 0.024877047, 0.024865758, 0.024858858, 0.024855312, 0.024833243, 0.024832666, 0.024826292, 0.024812257, 0.024799597, 0.024804678]\n"
     ]
    },
    {
     "name": "stderr",
     "output_type": "stream",
     "text": [
      "                                                                                                                                                                              \r"
     ]
    },
    {
     "name": "stdout",
     "output_type": "stream",
     "text": [
      "Epoch 56, total_loss=0.2371, reg_loss = 0.0676\n",
      "   86.28 s in train({'n_hidden_rhs': [], '..., ConditionalAutoEncoder..., cuda, <torch.utils.data.data..., AdamW ( Parameter Grou..., MSELoss(), 56, max_norm=100)\n",
      "   42.04 s in test({'n_hidden_rhs': [], '..., ConditionalAutoEncoder..., cuda, <torch.utils.data.data..., MSELoss())\n",
      "    8.77 s in test({'n_hidden_rhs': [], '..., ConditionalAutoEncoder..., cuda, <torch.utils.data.data..., MSELoss())\n",
      "Train MSE: 0.16775908\n",
      "Valid MSE: 0.024789847\n",
      "Next Learning Rate: 0.001\n",
      "[5.7759023, 0.66950125, 0.30034906, 0.23309559, 0.21502145, 0.20495963, 0.1994291, 0.19516139, 0.1914698, 0.1887009, 0.18672821, 0.18467619, 0.18306026, 0.1813689, 0.18016517, 0.17894255, 0.17799595, 0.17693076, 0.17605063, 0.17512263, 0.17445585, 0.17389204, 0.17335266, 0.17287573, 0.1725936, 0.17213425, 0.17201039, 0.17726612, 0.17673789, 0.17527142, 0.17084406, 0.17337725, 0.17372167, 0.17040133, 0.16964854, 0.1694504, 0.16960505, 0.16913131, 0.16909681, 0.16889352, 0.16872862, 0.16875465, 0.16892314, 0.16838285, 0.16827352, 0.16822724, 0.16811338, 0.16803914, 0.16792396, 0.16785859, 0.1677966, 0.16768785, 0.16761298, 0.16758312, 0.16747884, 0.16742678]\n",
      "[0.03535536, 0.03590945, 0.034041025, 0.031801328, 0.030017802, 0.028818453, 0.027894648, 0.027268313, 0.026791668, 0.026456432, 0.026212718, 0.026032187, 0.025893852, 0.025776729, 0.025686312, 0.025611341, 0.025545146, 0.025483679, 0.025436787, 0.025389545, 0.025361003, 0.025324479, 0.025292456, 0.025268398, 0.025242856, 0.025195602, 0.025168149, 0.02515516, 0.025141723, 0.025120063, 0.02509781, 0.025072018, 0.025045762, 0.025035782, 0.025012296, 0.024995778, 0.024981705, 0.02495966, 0.0249516, 0.024949005, 0.024929773, 0.0249226, 0.0249031, 0.02489025, 0.024884922, 0.024877047, 0.024865758, 0.024858858, 0.024855312, 0.024833243, 0.024832666, 0.024826292, 0.024812257, 0.024799597, 0.024804678, 0.02479687]\n"
     ]
    },
    {
     "name": "stderr",
     "output_type": "stream",
     "text": [
      "                                                                                                                                                                              \r"
     ]
    },
    {
     "name": "stdout",
     "output_type": "stream",
     "text": [
      "Epoch 57, total_loss=0.2344, reg_loss = 0.0673\n",
      "   86.81 s in train({'n_hidden_rhs': [], '..., ConditionalAutoEncoder..., cuda, <torch.utils.data.data..., AdamW ( Parameter Grou..., MSELoss(), 57, max_norm=100)\n",
      "   41.40 s in test({'n_hidden_rhs': [], '..., ConditionalAutoEncoder..., cuda, <torch.utils.data.data..., MSELoss())\n",
      "    8.77 s in test({'n_hidden_rhs': [], '..., ConditionalAutoEncoder..., cuda, <torch.utils.data.data..., MSELoss())\n",
      "Train MSE: 0.16766296\n",
      "Valid MSE: 0.024787761\n",
      "Next Learning Rate: 0.001\n",
      "[5.7759023, 0.66950125, 0.30034906, 0.23309559, 0.21502145, 0.20495963, 0.1994291, 0.19516139, 0.1914698, 0.1887009, 0.18672821, 0.18467619, 0.18306026, 0.1813689, 0.18016517, 0.17894255, 0.17799595, 0.17693076, 0.17605063, 0.17512263, 0.17445585, 0.17389204, 0.17335266, 0.17287573, 0.1725936, 0.17213425, 0.17201039, 0.17726612, 0.17673789, 0.17527142, 0.17084406, 0.17337725, 0.17372167, 0.17040133, 0.16964854, 0.1694504, 0.16960505, 0.16913131, 0.16909681, 0.16889352, 0.16872862, 0.16875465, 0.16892314, 0.16838285, 0.16827352, 0.16822724, 0.16811338, 0.16803914, 0.16792396, 0.16785859, 0.1677966, 0.16768785, 0.16761298, 0.16758312, 0.16747884, 0.16742678, 0.16775908]\n",
      "[0.03535536, 0.03590945, 0.034041025, 0.031801328, 0.030017802, 0.028818453, 0.027894648, 0.027268313, 0.026791668, 0.026456432, 0.026212718, 0.026032187, 0.025893852, 0.025776729, 0.025686312, 0.025611341, 0.025545146, 0.025483679, 0.025436787, 0.025389545, 0.025361003, 0.025324479, 0.025292456, 0.025268398, 0.025242856, 0.025195602, 0.025168149, 0.02515516, 0.025141723, 0.025120063, 0.02509781, 0.025072018, 0.025045762, 0.025035782, 0.025012296, 0.024995778, 0.024981705, 0.02495966, 0.0249516, 0.024949005, 0.024929773, 0.0249226, 0.0249031, 0.02489025, 0.024884922, 0.024877047, 0.024865758, 0.024858858, 0.024855312, 0.024833243, 0.024832666, 0.024826292, 0.024812257, 0.024799597, 0.024804678, 0.02479687, 0.024789847]\n"
     ]
    },
    {
     "name": "stderr",
     "output_type": "stream",
     "text": [
      "                                                                                                                                                                              \r"
     ]
    },
    {
     "name": "stdout",
     "output_type": "stream",
     "text": [
      "Epoch 58, total_loss=0.2303, reg_loss = 0.0670\n",
      "   86.81 s in train({'n_hidden_rhs': [], '..., ConditionalAutoEncoder..., cuda, <torch.utils.data.data..., AdamW ( Parameter Grou..., MSELoss(), 58, max_norm=100)\n",
      "   41.41 s in test({'n_hidden_rhs': [], '..., ConditionalAutoEncoder..., cuda, <torch.utils.data.data..., MSELoss())\n",
      "    9.60 s in test({'n_hidden_rhs': [], '..., ConditionalAutoEncoder..., cuda, <torch.utils.data.data..., MSELoss())\n",
      "Train MSE: 0.16757882\n",
      "Valid MSE: 0.0247709\n",
      "Next Learning Rate: 0.001\n",
      "[5.7759023, 0.66950125, 0.30034906, 0.23309559, 0.21502145, 0.20495963, 0.1994291, 0.19516139, 0.1914698, 0.1887009, 0.18672821, 0.18467619, 0.18306026, 0.1813689, 0.18016517, 0.17894255, 0.17799595, 0.17693076, 0.17605063, 0.17512263, 0.17445585, 0.17389204, 0.17335266, 0.17287573, 0.1725936, 0.17213425, 0.17201039, 0.17726612, 0.17673789, 0.17527142, 0.17084406, 0.17337725, 0.17372167, 0.17040133, 0.16964854, 0.1694504, 0.16960505, 0.16913131, 0.16909681, 0.16889352, 0.16872862, 0.16875465, 0.16892314, 0.16838285, 0.16827352, 0.16822724, 0.16811338, 0.16803914, 0.16792396, 0.16785859, 0.1677966, 0.16768785, 0.16761298, 0.16758312, 0.16747884, 0.16742678, 0.16775908, 0.16766296]\n",
      "[0.03535536, 0.03590945, 0.034041025, 0.031801328, 0.030017802, 0.028818453, 0.027894648, 0.027268313, 0.026791668, 0.026456432, 0.026212718, 0.026032187, 0.025893852, 0.025776729, 0.025686312, 0.025611341, 0.025545146, 0.025483679, 0.025436787, 0.025389545, 0.025361003, 0.025324479, 0.025292456, 0.025268398, 0.025242856, 0.025195602, 0.025168149, 0.02515516, 0.025141723, 0.025120063, 0.02509781, 0.025072018, 0.025045762, 0.025035782, 0.025012296, 0.024995778, 0.024981705, 0.02495966, 0.0249516, 0.024949005, 0.024929773, 0.0249226, 0.0249031, 0.02489025, 0.024884922, 0.024877047, 0.024865758, 0.024858858, 0.024855312, 0.024833243, 0.024832666, 0.024826292, 0.024812257, 0.024799597, 0.024804678, 0.02479687, 0.024789847, 0.024787761]\n"
     ]
    },
    {
     "name": "stderr",
     "output_type": "stream",
     "text": [
      "                                                                                                                                                                              \r"
     ]
    },
    {
     "name": "stdout",
     "output_type": "stream",
     "text": [
      "Epoch 59, total_loss=0.2312, reg_loss = 0.0667\n",
      "   87.36 s in train({'n_hidden_rhs': [], '..., ConditionalAutoEncoder..., cuda, <torch.utils.data.data..., AdamW ( Parameter Grou..., MSELoss(), 59, max_norm=100)\n",
      "   42.30 s in test({'n_hidden_rhs': [], '..., ConditionalAutoEncoder..., cuda, <torch.utils.data.data..., MSELoss())\n",
      "    8.87 s in test({'n_hidden_rhs': [], '..., ConditionalAutoEncoder..., cuda, <torch.utils.data.data..., MSELoss())\n",
      "Train MSE: 0.16719925\n",
      "Valid MSE: 0.024772888\n",
      "Next Learning Rate: 0.001\n",
      "[5.7759023, 0.66950125, 0.30034906, 0.23309559, 0.21502145, 0.20495963, 0.1994291, 0.19516139, 0.1914698, 0.1887009, 0.18672821, 0.18467619, 0.18306026, 0.1813689, 0.18016517, 0.17894255, 0.17799595, 0.17693076, 0.17605063, 0.17512263, 0.17445585, 0.17389204, 0.17335266, 0.17287573, 0.1725936, 0.17213425, 0.17201039, 0.17726612, 0.17673789, 0.17527142, 0.17084406, 0.17337725, 0.17372167, 0.17040133, 0.16964854, 0.1694504, 0.16960505, 0.16913131, 0.16909681, 0.16889352, 0.16872862, 0.16875465, 0.16892314, 0.16838285, 0.16827352, 0.16822724, 0.16811338, 0.16803914, 0.16792396, 0.16785859, 0.1677966, 0.16768785, 0.16761298, 0.16758312, 0.16747884, 0.16742678, 0.16775908, 0.16766296, 0.16757882]\n",
      "[0.03535536, 0.03590945, 0.034041025, 0.031801328, 0.030017802, 0.028818453, 0.027894648, 0.027268313, 0.026791668, 0.026456432, 0.026212718, 0.026032187, 0.025893852, 0.025776729, 0.025686312, 0.025611341, 0.025545146, 0.025483679, 0.025436787, 0.025389545, 0.025361003, 0.025324479, 0.025292456, 0.025268398, 0.025242856, 0.025195602, 0.025168149, 0.02515516, 0.025141723, 0.025120063, 0.02509781, 0.025072018, 0.025045762, 0.025035782, 0.025012296, 0.024995778, 0.024981705, 0.02495966, 0.0249516, 0.024949005, 0.024929773, 0.0249226, 0.0249031, 0.02489025, 0.024884922, 0.024877047, 0.024865758, 0.024858858, 0.024855312, 0.024833243, 0.024832666, 0.024826292, 0.024812257, 0.024799597, 0.024804678, 0.02479687, 0.024789847, 0.024787761, 0.0247709]\n"
     ]
    },
    {
     "name": "stderr",
     "output_type": "stream",
     "text": [
      "                                                                                                                                                                              \r"
     ]
    },
    {
     "name": "stdout",
     "output_type": "stream",
     "text": [
      "Epoch 60, total_loss=0.2259, reg_loss = 0.0664\n",
      "   87.08 s in train({'n_hidden_rhs': [], '..., ConditionalAutoEncoder..., cuda, <torch.utils.data.data..., AdamW ( Parameter Grou..., MSELoss(), 60, max_norm=100)\n",
      "   42.20 s in test({'n_hidden_rhs': [], '..., ConditionalAutoEncoder..., cuda, <torch.utils.data.data..., MSELoss())\n",
      "    8.83 s in test({'n_hidden_rhs': [], '..., ConditionalAutoEncoder..., cuda, <torch.utils.data.data..., MSELoss())\n",
      "Train MSE: 0.1671431\n",
      "Valid MSE: 0.024757652\n",
      "Next Learning Rate: 0.001\n",
      "[5.7759023, 0.66950125, 0.30034906, 0.23309559, 0.21502145, 0.20495963, 0.1994291, 0.19516139, 0.1914698, 0.1887009, 0.18672821, 0.18467619, 0.18306026, 0.1813689, 0.18016517, 0.17894255, 0.17799595, 0.17693076, 0.17605063, 0.17512263, 0.17445585, 0.17389204, 0.17335266, 0.17287573, 0.1725936, 0.17213425, 0.17201039, 0.17726612, 0.17673789, 0.17527142, 0.17084406, 0.17337725, 0.17372167, 0.17040133, 0.16964854, 0.1694504, 0.16960505, 0.16913131, 0.16909681, 0.16889352, 0.16872862, 0.16875465, 0.16892314, 0.16838285, 0.16827352, 0.16822724, 0.16811338, 0.16803914, 0.16792396, 0.16785859, 0.1677966, 0.16768785, 0.16761298, 0.16758312, 0.16747884, 0.16742678, 0.16775908, 0.16766296, 0.16757882, 0.16719925]\n",
      "[0.03535536, 0.03590945, 0.034041025, 0.031801328, 0.030017802, 0.028818453, 0.027894648, 0.027268313, 0.026791668, 0.026456432, 0.026212718, 0.026032187, 0.025893852, 0.025776729, 0.025686312, 0.025611341, 0.025545146, 0.025483679, 0.025436787, 0.025389545, 0.025361003, 0.025324479, 0.025292456, 0.025268398, 0.025242856, 0.025195602, 0.025168149, 0.02515516, 0.025141723, 0.025120063, 0.02509781, 0.025072018, 0.025045762, 0.025035782, 0.025012296, 0.024995778, 0.024981705, 0.02495966, 0.0249516, 0.024949005, 0.024929773, 0.0249226, 0.0249031, 0.02489025, 0.024884922, 0.024877047, 0.024865758, 0.024858858, 0.024855312, 0.024833243, 0.024832666, 0.024826292, 0.024812257, 0.024799597, 0.024804678, 0.02479687, 0.024789847, 0.024787761, 0.0247709, 0.024772888]\n",
      "Training done. Evaluating...\n"
     ]
    },
    {
     "name": "stderr",
     "output_type": "stream",
     "text": [
      "100%|███████████████████████████████████████████████████████████████████████████████████████████████████████████████████████████████████████████| 6/6 [00:13<00:00,  2.19s/it]\n",
      "100%|███████████████████████████████████████████████████████████████████████████████████████████████████████████████████████████████████████████| 4/4 [00:10<00:00,  2.61s/it]\n"
     ]
    },
    {
     "name": "stdout",
     "output_type": "stream",
     "text": [
      "Params 9: (8, (24, 12), 10, False)\n",
      "ConditionalAutoEncoder(\n",
      "  (lhs): Sequential(\n",
      "    (0): LayerNorm((45,), eps=1e-05, elementwise_affine=True)\n",
      "    (1): Linear(in_features=45, out_features=24, bias=True)\n",
      "    (2): SELU()\n",
      "    (3): LayerNorm((24,), eps=1e-05, elementwise_affine=True)\n",
      "    (4): Linear(in_features=24, out_features=12, bias=True)\n",
      "    (5): SELU()\n",
      "    (6): Linear(in_features=12, out_features=8, bias=True)\n",
      "  )\n",
      "  (rhs): Sequential(\n",
      "    (0): Linear(in_features=46, out_features=8, bias=True)\n",
      "  )\n",
      ")\n",
      "   41.63 s in test({'n_hidden_rhs': [], '..., ConditionalAutoEncoder..., cuda, <torch.utils.data.data..., MSELoss())\n",
      "    9.18 s in test({'n_hidden_rhs': [], '..., ConditionalAutoEncoder..., cuda, <torch.utils.data.data..., MSELoss())\n",
      "Pre-Train Train MSE: 4.705526\n",
      "Pre-Train Valid MSE: 0.027921457\n"
     ]
    },
    {
     "name": "stderr",
     "output_type": "stream",
     "text": [
      "                                                                                                                                                                              \r"
     ]
    },
    {
     "name": "stdout",
     "output_type": "stream",
     "text": [
      "Epoch 1, total_loss=2.0524, reg_loss = 0.0892\n",
      "   87.10 s in train({'n_hidden_rhs': [], '..., ConditionalAutoEncoder..., cuda, <torch.utils.data.data..., AdamW ( Parameter Grou..., MSELoss(), 1, max_norm=100)\n",
      "   41.54 s in test({'n_hidden_rhs': [], '..., ConditionalAutoEncoder..., cuda, <torch.utils.data.data..., MSELoss())\n",
      "    8.96 s in test({'n_hidden_rhs': [], '..., ConditionalAutoEncoder..., cuda, <torch.utils.data.data..., MSELoss())\n",
      "Train MSE: 0.5553778\n",
      "Valid MSE: 0.027582001\n",
      "Next Learning Rate: 0.001\n",
      "[4.705526]\n",
      "[0.027921457]\n"
     ]
    },
    {
     "name": "stderr",
     "output_type": "stream",
     "text": [
      "                                                                                                                                                                              \r"
     ]
    },
    {
     "name": "stdout",
     "output_type": "stream",
     "text": [
      "Epoch 2, total_loss=0.4923, reg_loss = 0.0886\n",
      "   87.33 s in train({'n_hidden_rhs': [], '..., ConditionalAutoEncoder..., cuda, <torch.utils.data.data..., AdamW ( Parameter Grou..., MSELoss(), 2, max_norm=100)\n",
      "   41.63 s in test({'n_hidden_rhs': [], '..., ConditionalAutoEncoder..., cuda, <torch.utils.data.data..., MSELoss())\n",
      "    8.94 s in test({'n_hidden_rhs': [], '..., ConditionalAutoEncoder..., cuda, <torch.utils.data.data..., MSELoss())\n",
      "Train MSE: 0.30084786\n",
      "Valid MSE: 0.02740372\n",
      "Next Learning Rate: 0.001\n",
      "[4.705526, 0.5553778]\n",
      "[0.027921457, 0.027582001]\n"
     ]
    },
    {
     "name": "stderr",
     "output_type": "stream",
     "text": [
      "                                                                                                                                                                              \r"
     ]
    },
    {
     "name": "stdout",
     "output_type": "stream",
     "text": [
      "Epoch 3, total_loss=0.3593, reg_loss = 0.0876\n",
      "   87.46 s in train({'n_hidden_rhs': [], '..., ConditionalAutoEncoder..., cuda, <torch.utils.data.data..., AdamW ( Parameter Grou..., MSELoss(), 3, max_norm=100)\n",
      "   42.51 s in test({'n_hidden_rhs': [], '..., ConditionalAutoEncoder..., cuda, <torch.utils.data.data..., MSELoss())\n",
      "    8.83 s in test({'n_hidden_rhs': [], '..., ConditionalAutoEncoder..., cuda, <torch.utils.data.data..., MSELoss())\n",
      "Train MSE: 0.2520422\n",
      "Valid MSE: 0.027104314\n",
      "Next Learning Rate: 0.001\n",
      "[4.705526, 0.5553778, 0.30084786]\n",
      "[0.027921457, 0.027582001, 0.02740372]\n"
     ]
    },
    {
     "name": "stderr",
     "output_type": "stream",
     "text": [
      "                                                                                                                                                                              \r"
     ]
    },
    {
     "name": "stdout",
     "output_type": "stream",
     "text": [
      "Epoch 4, total_loss=0.3240, reg_loss = 0.0866\n",
      "   87.70 s in train({'n_hidden_rhs': [], '..., ConditionalAutoEncoder..., cuda, <torch.utils.data.data..., AdamW ( Parameter Grou..., MSELoss(), 4, max_norm=100)\n",
      "   41.03 s in test({'n_hidden_rhs': [], '..., ConditionalAutoEncoder..., cuda, <torch.utils.data.data..., MSELoss())\n",
      "    9.04 s in test({'n_hidden_rhs': [], '..., ConditionalAutoEncoder..., cuda, <torch.utils.data.data..., MSELoss())\n",
      "Train MSE: 0.23350568\n",
      "Valid MSE: 0.026749931\n",
      "Next Learning Rate: 0.001\n",
      "[4.705526, 0.5553778, 0.30084786, 0.2520422]\n",
      "[0.027921457, 0.027582001, 0.02740372, 0.027104314]\n"
     ]
    },
    {
     "name": "stderr",
     "output_type": "stream",
     "text": [
      "                                                                                                                                                                              \r"
     ]
    },
    {
     "name": "stdout",
     "output_type": "stream",
     "text": [
      "Epoch 5, total_loss=0.3073, reg_loss = 0.0856\n",
      "   87.55 s in train({'n_hidden_rhs': [], '..., ConditionalAutoEncoder..., cuda, <torch.utils.data.data..., AdamW ( Parameter Grou..., MSELoss(), 5, max_norm=100)\n",
      "   42.31 s in test({'n_hidden_rhs': [], '..., ConditionalAutoEncoder..., cuda, <torch.utils.data.data..., MSELoss())\n",
      "    9.68 s in test({'n_hidden_rhs': [], '..., ConditionalAutoEncoder..., cuda, <torch.utils.data.data..., MSELoss())\n",
      "Train MSE: 0.22178644\n",
      "Valid MSE: 0.026493577\n",
      "Next Learning Rate: 0.001\n",
      "[4.705526, 0.5553778, 0.30084786, 0.2520422, 0.23350568]\n",
      "[0.027921457, 0.027582001, 0.02740372, 0.027104314, 0.026749931]\n"
     ]
    },
    {
     "name": "stderr",
     "output_type": "stream",
     "text": [
      "                                                                                                                                                                              \r"
     ]
    },
    {
     "name": "stdout",
     "output_type": "stream",
     "text": [
      "Epoch 6, total_loss=0.3109, reg_loss = 0.0846\n",
      "   87.89 s in train({'n_hidden_rhs': [], '..., ConditionalAutoEncoder..., cuda, <torch.utils.data.data..., AdamW ( Parameter Grou..., MSELoss(), 6, max_norm=100)\n",
      "   41.33 s in test({'n_hidden_rhs': [], '..., ConditionalAutoEncoder..., cuda, <torch.utils.data.data..., MSELoss())\n",
      "    8.85 s in test({'n_hidden_rhs': [], '..., ConditionalAutoEncoder..., cuda, <torch.utils.data.data..., MSELoss())\n",
      "Train MSE: 0.21297133\n",
      "Valid MSE: 0.0262918\n",
      "Next Learning Rate: 0.001\n",
      "[4.705526, 0.5553778, 0.30084786, 0.2520422, 0.23350568, 0.22178644]\n",
      "[0.027921457, 0.027582001, 0.02740372, 0.027104314, 0.026749931, 0.026493577]\n"
     ]
    },
    {
     "name": "stderr",
     "output_type": "stream",
     "text": [
      "                                                                                                                                                                              \r"
     ]
    },
    {
     "name": "stdout",
     "output_type": "stream",
     "text": [
      "Epoch 7, total_loss=0.3732, reg_loss = 0.0837\n",
      "   86.79 s in train({'n_hidden_rhs': [], '..., ConditionalAutoEncoder..., cuda, <torch.utils.data.data..., AdamW ( Parameter Grou..., MSELoss(), 7, max_norm=100)\n",
      "   41.29 s in test({'n_hidden_rhs': [], '..., ConditionalAutoEncoder..., cuda, <torch.utils.data.data..., MSELoss())\n",
      "    8.67 s in test({'n_hidden_rhs': [], '..., ConditionalAutoEncoder..., cuda, <torch.utils.data.data..., MSELoss())\n",
      "Train MSE: 0.20657296\n",
      "Valid MSE: 0.0261162\n",
      "Next Learning Rate: 0.001\n",
      "[4.705526, 0.5553778, 0.30084786, 0.2520422, 0.23350568, 0.22178644, 0.21297133]\n",
      "[0.027921457, 0.027582001, 0.02740372, 0.027104314, 0.026749931, 0.026493577, 0.0262918]\n"
     ]
    },
    {
     "name": "stderr",
     "output_type": "stream",
     "text": [
      "                                                                                                                                                                              \r"
     ]
    },
    {
     "name": "stdout",
     "output_type": "stream",
     "text": [
      "Epoch 8, total_loss=0.2839, reg_loss = 0.0829\n",
      "   86.80 s in train({'n_hidden_rhs': [], '..., ConditionalAutoEncoder..., cuda, <torch.utils.data.data..., AdamW ( Parameter Grou..., MSELoss(), 8, max_norm=100)\n",
      "   41.87 s in test({'n_hidden_rhs': [], '..., ConditionalAutoEncoder..., cuda, <torch.utils.data.data..., MSELoss())\n",
      "   10.20 s in test({'n_hidden_rhs': [], '..., ConditionalAutoEncoder..., cuda, <torch.utils.data.data..., MSELoss())\n",
      "Train MSE: 0.20128615\n",
      "Valid MSE: 0.026001034\n",
      "Next Learning Rate: 0.001\n",
      "[4.705526, 0.5553778, 0.30084786, 0.2520422, 0.23350568, 0.22178644, 0.21297133, 0.20657296]\n",
      "[0.027921457, 0.027582001, 0.02740372, 0.027104314, 0.026749931, 0.026493577, 0.0262918, 0.0261162]\n"
     ]
    },
    {
     "name": "stderr",
     "output_type": "stream",
     "text": [
      "                                                                                                                                                                              \r"
     ]
    },
    {
     "name": "stdout",
     "output_type": "stream",
     "text": [
      "Epoch 9, total_loss=0.2896, reg_loss = 0.0821\n",
      "   86.80 s in train({'n_hidden_rhs': [], '..., ConditionalAutoEncoder..., cuda, <torch.utils.data.data..., AdamW ( Parameter Grou..., MSELoss(), 9, max_norm=100)\n",
      "   42.10 s in test({'n_hidden_rhs': [], '..., ConditionalAutoEncoder..., cuda, <torch.utils.data.data..., MSELoss())\n",
      "    9.14 s in test({'n_hidden_rhs': [], '..., ConditionalAutoEncoder..., cuda, <torch.utils.data.data..., MSELoss())\n",
      "Train MSE: 0.19685602\n",
      "Valid MSE: 0.025879305\n",
      "Next Learning Rate: 0.001\n",
      "[4.705526, 0.5553778, 0.30084786, 0.2520422, 0.23350568, 0.22178644, 0.21297133, 0.20657296, 0.20128615]\n",
      "[0.027921457, 0.027582001, 0.02740372, 0.027104314, 0.026749931, 0.026493577, 0.0262918, 0.0261162, 0.026001034]\n"
     ]
    },
    {
     "name": "stderr",
     "output_type": "stream",
     "text": [
      "                                                                                                                                                                              \r"
     ]
    },
    {
     "name": "stdout",
     "output_type": "stream",
     "text": [
      "Epoch 10, total_loss=0.2696, reg_loss = 0.0815\n",
      "   86.75 s in train({'n_hidden_rhs': [], '..., ConditionalAutoEncoder..., cuda, <torch.utils.data.data..., AdamW ( Parameter Grou..., MSELoss(), 10, max_norm=100)\n",
      "   42.45 s in test({'n_hidden_rhs': [], '..., ConditionalAutoEncoder..., cuda, <torch.utils.data.data..., MSELoss())\n",
      "    8.59 s in test({'n_hidden_rhs': [], '..., ConditionalAutoEncoder..., cuda, <torch.utils.data.data..., MSELoss())\n",
      "Train MSE: 0.19369496\n",
      "Valid MSE: 0.025750345\n",
      "Next Learning Rate: 0.001\n",
      "[4.705526, 0.5553778, 0.30084786, 0.2520422, 0.23350568, 0.22178644, 0.21297133, 0.20657296, 0.20128615, 0.19685602]\n",
      "[0.027921457, 0.027582001, 0.02740372, 0.027104314, 0.026749931, 0.026493577, 0.0262918, 0.0261162, 0.026001034, 0.025879305]\n"
     ]
    },
    {
     "name": "stderr",
     "output_type": "stream",
     "text": [
      "                                                                                                                                                                              \r"
     ]
    },
    {
     "name": "stdout",
     "output_type": "stream",
     "text": [
      "Epoch 11, total_loss=0.2678, reg_loss = 0.0809\n",
      "   87.29 s in train({'n_hidden_rhs': [], '..., ConditionalAutoEncoder..., cuda, <torch.utils.data.data..., AdamW ( Parameter Grou..., MSELoss(), 11, max_norm=100)\n",
      "   42.40 s in test({'n_hidden_rhs': [], '..., ConditionalAutoEncoder..., cuda, <torch.utils.data.data..., MSELoss())\n",
      "    9.20 s in test({'n_hidden_rhs': [], '..., ConditionalAutoEncoder..., cuda, <torch.utils.data.data..., MSELoss())\n",
      "Train MSE: 0.19091627\n",
      "Valid MSE: 0.025667513\n",
      "Next Learning Rate: 0.001\n",
      "[4.705526, 0.5553778, 0.30084786, 0.2520422, 0.23350568, 0.22178644, 0.21297133, 0.20657296, 0.20128615, 0.19685602, 0.19369496]\n",
      "[0.027921457, 0.027582001, 0.02740372, 0.027104314, 0.026749931, 0.026493577, 0.0262918, 0.0261162, 0.026001034, 0.025879305, 0.025750345]\n"
     ]
    },
    {
     "name": "stderr",
     "output_type": "stream",
     "text": [
      "                                                                                                                                                                              \r"
     ]
    },
    {
     "name": "stdout",
     "output_type": "stream",
     "text": [
      "Epoch 12, total_loss=0.2726, reg_loss = 0.0804\n",
      "   87.46 s in train({'n_hidden_rhs': [], '..., ConditionalAutoEncoder..., cuda, <torch.utils.data.data..., AdamW ( Parameter Grou..., MSELoss(), 12, max_norm=100)\n",
      "   41.53 s in test({'n_hidden_rhs': [], '..., ConditionalAutoEncoder..., cuda, <torch.utils.data.data..., MSELoss())\n",
      "    9.26 s in test({'n_hidden_rhs': [], '..., ConditionalAutoEncoder..., cuda, <torch.utils.data.data..., MSELoss())\n",
      "Train MSE: 0.18821137\n",
      "Valid MSE: 0.025594415\n",
      "Next Learning Rate: 0.001\n",
      "[4.705526, 0.5553778, 0.30084786, 0.2520422, 0.23350568, 0.22178644, 0.21297133, 0.20657296, 0.20128615, 0.19685602, 0.19369496, 0.19091627]\n",
      "[0.027921457, 0.027582001, 0.02740372, 0.027104314, 0.026749931, 0.026493577, 0.0262918, 0.0261162, 0.026001034, 0.025879305, 0.025750345, 0.025667513]\n"
     ]
    },
    {
     "name": "stderr",
     "output_type": "stream",
     "text": [
      "                                                                                                                                                                              \r"
     ]
    },
    {
     "name": "stdout",
     "output_type": "stream",
     "text": [
      "Epoch 13, total_loss=0.2774, reg_loss = 0.0799\n",
      "   86.22 s in train({'n_hidden_rhs': [], '..., ConditionalAutoEncoder..., cuda, <torch.utils.data.data..., AdamW ( Parameter Grou..., MSELoss(), 13, max_norm=100)\n",
      "   41.99 s in test({'n_hidden_rhs': [], '..., ConditionalAutoEncoder..., cuda, <torch.utils.data.data..., MSELoss())\n",
      "    9.43 s in test({'n_hidden_rhs': [], '..., ConditionalAutoEncoder..., cuda, <torch.utils.data.data..., MSELoss())\n",
      "Train MSE: 0.18617025\n",
      "Valid MSE: 0.02553885\n",
      "Next Learning Rate: 0.001\n",
      "[4.705526, 0.5553778, 0.30084786, 0.2520422, 0.23350568, 0.22178644, 0.21297133, 0.20657296, 0.20128615, 0.19685602, 0.19369496, 0.19091627, 0.18821137]\n",
      "[0.027921457, 0.027582001, 0.02740372, 0.027104314, 0.026749931, 0.026493577, 0.0262918, 0.0261162, 0.026001034, 0.025879305, 0.025750345, 0.025667513, 0.025594415]\n"
     ]
    },
    {
     "name": "stderr",
     "output_type": "stream",
     "text": [
      "                                                                                                                                                                              \r"
     ]
    },
    {
     "name": "stdout",
     "output_type": "stream",
     "text": [
      "Epoch 14, total_loss=0.2606, reg_loss = 0.0795\n",
      "   86.59 s in train({'n_hidden_rhs': [], '..., ConditionalAutoEncoder..., cuda, <torch.utils.data.data..., AdamW ( Parameter Grou..., MSELoss(), 14, max_norm=100)\n",
      "   42.52 s in test({'n_hidden_rhs': [], '..., ConditionalAutoEncoder..., cuda, <torch.utils.data.data..., MSELoss())\n",
      "    8.93 s in test({'n_hidden_rhs': [], '..., ConditionalAutoEncoder..., cuda, <torch.utils.data.data..., MSELoss())\n",
      "Train MSE: 0.18436481\n",
      "Valid MSE: 0.025469895\n",
      "Next Learning Rate: 0.001\n",
      "[4.705526, 0.5553778, 0.30084786, 0.2520422, 0.23350568, 0.22178644, 0.21297133, 0.20657296, 0.20128615, 0.19685602, 0.19369496, 0.19091627, 0.18821137, 0.18617025]\n",
      "[0.027921457, 0.027582001, 0.02740372, 0.027104314, 0.026749931, 0.026493577, 0.0262918, 0.0261162, 0.026001034, 0.025879305, 0.025750345, 0.025667513, 0.025594415, 0.02553885]\n"
     ]
    },
    {
     "name": "stderr",
     "output_type": "stream",
     "text": [
      "                                                                                                                                                                              \r"
     ]
    },
    {
     "name": "stdout",
     "output_type": "stream",
     "text": [
      "Epoch 15, total_loss=0.4306, reg_loss = 0.0791\n",
      "   87.77 s in train({'n_hidden_rhs': [], '..., ConditionalAutoEncoder..., cuda, <torch.utils.data.data..., AdamW ( Parameter Grou..., MSELoss(), 15, max_norm=100)\n",
      "   41.81 s in test({'n_hidden_rhs': [], '..., ConditionalAutoEncoder..., cuda, <torch.utils.data.data..., MSELoss())\n",
      "    8.45 s in test({'n_hidden_rhs': [], '..., ConditionalAutoEncoder..., cuda, <torch.utils.data.data..., MSELoss())\n",
      "Train MSE: 0.18282084\n",
      "Valid MSE: 0.025429683\n",
      "Next Learning Rate: 0.001\n",
      "[4.705526, 0.5553778, 0.30084786, 0.2520422, 0.23350568, 0.22178644, 0.21297133, 0.20657296, 0.20128615, 0.19685602, 0.19369496, 0.19091627, 0.18821137, 0.18617025, 0.18436481]\n",
      "[0.027921457, 0.027582001, 0.02740372, 0.027104314, 0.026749931, 0.026493577, 0.0262918, 0.0261162, 0.026001034, 0.025879305, 0.025750345, 0.025667513, 0.025594415, 0.02553885, 0.025469895]\n"
     ]
    },
    {
     "name": "stderr",
     "output_type": "stream",
     "text": [
      "                                                                                                                                                                              \r"
     ]
    },
    {
     "name": "stdout",
     "output_type": "stream",
     "text": [
      "Epoch 16, total_loss=0.2555, reg_loss = 0.0787\n",
      "   87.60 s in train({'n_hidden_rhs': [], '..., ConditionalAutoEncoder..., cuda, <torch.utils.data.data..., AdamW ( Parameter Grou..., MSELoss(), 16, max_norm=100)\n",
      "   41.26 s in test({'n_hidden_rhs': [], '..., ConditionalAutoEncoder..., cuda, <torch.utils.data.data..., MSELoss())\n",
      "    9.31 s in test({'n_hidden_rhs': [], '..., ConditionalAutoEncoder..., cuda, <torch.utils.data.data..., MSELoss())\n",
      "Train MSE: 0.18164688\n",
      "Valid MSE: 0.025395403\n",
      "Next Learning Rate: 0.001\n",
      "[4.705526, 0.5553778, 0.30084786, 0.2520422, 0.23350568, 0.22178644, 0.21297133, 0.20657296, 0.20128615, 0.19685602, 0.19369496, 0.19091627, 0.18821137, 0.18617025, 0.18436481, 0.18282084]\n",
      "[0.027921457, 0.027582001, 0.02740372, 0.027104314, 0.026749931, 0.026493577, 0.0262918, 0.0261162, 0.026001034, 0.025879305, 0.025750345, 0.025667513, 0.025594415, 0.02553885, 0.025469895, 0.025429683]\n"
     ]
    },
    {
     "name": "stderr",
     "output_type": "stream",
     "text": [
      "                                                                                                                                                                              \r"
     ]
    },
    {
     "name": "stdout",
     "output_type": "stream",
     "text": [
      "Epoch 17, total_loss=0.2549, reg_loss = 0.0783\n",
      "   86.43 s in train({'n_hidden_rhs': [], '..., ConditionalAutoEncoder..., cuda, <torch.utils.data.data..., AdamW ( Parameter Grou..., MSELoss(), 17, max_norm=100)\n",
      "   42.00 s in test({'n_hidden_rhs': [], '..., ConditionalAutoEncoder..., cuda, <torch.utils.data.data..., MSELoss())\n",
      "    9.05 s in test({'n_hidden_rhs': [], '..., ConditionalAutoEncoder..., cuda, <torch.utils.data.data..., MSELoss())\n",
      "Train MSE: 0.18063882\n",
      "Valid MSE: 0.025348425\n",
      "Next Learning Rate: 0.001\n",
      "[4.705526, 0.5553778, 0.30084786, 0.2520422, 0.23350568, 0.22178644, 0.21297133, 0.20657296, 0.20128615, 0.19685602, 0.19369496, 0.19091627, 0.18821137, 0.18617025, 0.18436481, 0.18282084, 0.18164688]\n",
      "[0.027921457, 0.027582001, 0.02740372, 0.027104314, 0.026749931, 0.026493577, 0.0262918, 0.0261162, 0.026001034, 0.025879305, 0.025750345, 0.025667513, 0.025594415, 0.02553885, 0.025469895, 0.025429683, 0.025395403]\n"
     ]
    },
    {
     "name": "stderr",
     "output_type": "stream",
     "text": [
      "                                                                                                                                                                              \r"
     ]
    },
    {
     "name": "stdout",
     "output_type": "stream",
     "text": [
      "Epoch 18, total_loss=0.2543, reg_loss = 0.0780\n",
      "   87.81 s in train({'n_hidden_rhs': [], '..., ConditionalAutoEncoder..., cuda, <torch.utils.data.data..., AdamW ( Parameter Grou..., MSELoss(), 18, max_norm=100)\n",
      "   41.18 s in test({'n_hidden_rhs': [], '..., ConditionalAutoEncoder..., cuda, <torch.utils.data.data..., MSELoss())\n",
      "    9.06 s in test({'n_hidden_rhs': [], '..., ConditionalAutoEncoder..., cuda, <torch.utils.data.data..., MSELoss())\n",
      "Train MSE: 0.17940082\n",
      "Valid MSE: 0.025304137\n",
      "Next Learning Rate: 0.001\n",
      "[4.705526, 0.5553778, 0.30084786, 0.2520422, 0.23350568, 0.22178644, 0.21297133, 0.20657296, 0.20128615, 0.19685602, 0.19369496, 0.19091627, 0.18821137, 0.18617025, 0.18436481, 0.18282084, 0.18164688, 0.18063882]\n",
      "[0.027921457, 0.027582001, 0.02740372, 0.027104314, 0.026749931, 0.026493577, 0.0262918, 0.0261162, 0.026001034, 0.025879305, 0.025750345, 0.025667513, 0.025594415, 0.02553885, 0.025469895, 0.025429683, 0.025395403, 0.025348425]\n"
     ]
    },
    {
     "name": "stderr",
     "output_type": "stream",
     "text": [
      "                                                                                                                                                                              \r"
     ]
    },
    {
     "name": "stdout",
     "output_type": "stream",
     "text": [
      "Epoch 19, total_loss=0.2528, reg_loss = 0.0776\n",
      "   87.45 s in train({'n_hidden_rhs': [], '..., ConditionalAutoEncoder..., cuda, <torch.utils.data.data..., AdamW ( Parameter Grou..., MSELoss(), 19, max_norm=100)\n",
      "   42.06 s in test({'n_hidden_rhs': [], '..., ConditionalAutoEncoder..., cuda, <torch.utils.data.data..., MSELoss())\n",
      "    8.36 s in test({'n_hidden_rhs': [], '..., ConditionalAutoEncoder..., cuda, <torch.utils.data.data..., MSELoss())\n",
      "Train MSE: 0.17855816\n",
      "Valid MSE: 0.025273623\n",
      "Next Learning Rate: 0.001\n",
      "[4.705526, 0.5553778, 0.30084786, 0.2520422, 0.23350568, 0.22178644, 0.21297133, 0.20657296, 0.20128615, 0.19685602, 0.19369496, 0.19091627, 0.18821137, 0.18617025, 0.18436481, 0.18282084, 0.18164688, 0.18063882, 0.17940082]\n",
      "[0.027921457, 0.027582001, 0.02740372, 0.027104314, 0.026749931, 0.026493577, 0.0262918, 0.0261162, 0.026001034, 0.025879305, 0.025750345, 0.025667513, 0.025594415, 0.02553885, 0.025469895, 0.025429683, 0.025395403, 0.025348425, 0.025304137]\n"
     ]
    },
    {
     "name": "stderr",
     "output_type": "stream",
     "text": [
      "                                                                                                                                                                              \r"
     ]
    },
    {
     "name": "stdout",
     "output_type": "stream",
     "text": [
      "Epoch 20, total_loss=0.2508, reg_loss = 0.0773\n",
      "   86.64 s in train({'n_hidden_rhs': [], '..., ConditionalAutoEncoder..., cuda, <torch.utils.data.data..., AdamW ( Parameter Grou..., MSELoss(), 20, max_norm=100)\n",
      "   41.90 s in test({'n_hidden_rhs': [], '..., ConditionalAutoEncoder..., cuda, <torch.utils.data.data..., MSELoss())\n",
      "    9.18 s in test({'n_hidden_rhs': [], '..., ConditionalAutoEncoder..., cuda, <torch.utils.data.data..., MSELoss())\n",
      "Train MSE: 0.17765516\n",
      "Valid MSE: 0.025251215\n",
      "Next Learning Rate: 0.001\n",
      "[4.705526, 0.5553778, 0.30084786, 0.2520422, 0.23350568, 0.22178644, 0.21297133, 0.20657296, 0.20128615, 0.19685602, 0.19369496, 0.19091627, 0.18821137, 0.18617025, 0.18436481, 0.18282084, 0.18164688, 0.18063882, 0.17940082, 0.17855816]\n",
      "[0.027921457, 0.027582001, 0.02740372, 0.027104314, 0.026749931, 0.026493577, 0.0262918, 0.0261162, 0.026001034, 0.025879305, 0.025750345, 0.025667513, 0.025594415, 0.02553885, 0.025469895, 0.025429683, 0.025395403, 0.025348425, 0.025304137, 0.025273623]\n"
     ]
    },
    {
     "name": "stderr",
     "output_type": "stream",
     "text": [
      "                                                                                                                                                                              \r"
     ]
    },
    {
     "name": "stdout",
     "output_type": "stream",
     "text": [
      "Epoch 21, total_loss=0.2522, reg_loss = 0.0770\n",
      "   87.59 s in train({'n_hidden_rhs': [], '..., ConditionalAutoEncoder..., cuda, <torch.utils.data.data..., AdamW ( Parameter Grou..., MSELoss(), 21, max_norm=100)\n",
      "   42.68 s in test({'n_hidden_rhs': [], '..., ConditionalAutoEncoder..., cuda, <torch.utils.data.data..., MSELoss())\n",
      "    8.90 s in test({'n_hidden_rhs': [], '..., ConditionalAutoEncoder..., cuda, <torch.utils.data.data..., MSELoss())\n",
      "Train MSE: 0.17706874\n",
      "Valid MSE: 0.025233207\n",
      "Next Learning Rate: 0.001\n",
      "[4.705526, 0.5553778, 0.30084786, 0.2520422, 0.23350568, 0.22178644, 0.21297133, 0.20657296, 0.20128615, 0.19685602, 0.19369496, 0.19091627, 0.18821137, 0.18617025, 0.18436481, 0.18282084, 0.18164688, 0.18063882, 0.17940082, 0.17855816, 0.17765516]\n",
      "[0.027921457, 0.027582001, 0.02740372, 0.027104314, 0.026749931, 0.026493577, 0.0262918, 0.0261162, 0.026001034, 0.025879305, 0.025750345, 0.025667513, 0.025594415, 0.02553885, 0.025469895, 0.025429683, 0.025395403, 0.025348425, 0.025304137, 0.025273623, 0.025251215]\n"
     ]
    },
    {
     "name": "stderr",
     "output_type": "stream",
     "text": [
      "                                                                                                                                                                              \r"
     ]
    },
    {
     "name": "stdout",
     "output_type": "stream",
     "text": [
      "Epoch 22, total_loss=0.2470, reg_loss = 0.0767\n",
      "   87.39 s in train({'n_hidden_rhs': [], '..., ConditionalAutoEncoder..., cuda, <torch.utils.data.data..., AdamW ( Parameter Grou..., MSELoss(), 22, max_norm=100)\n",
      "   41.01 s in test({'n_hidden_rhs': [], '..., ConditionalAutoEncoder..., cuda, <torch.utils.data.data..., MSELoss())\n",
      "    9.09 s in test({'n_hidden_rhs': [], '..., ConditionalAutoEncoder..., cuda, <torch.utils.data.data..., MSELoss())\n",
      "Train MSE: 0.17615645\n",
      "Valid MSE: 0.025212321\n",
      "Next Learning Rate: 0.001\n",
      "[4.705526, 0.5553778, 0.30084786, 0.2520422, 0.23350568, 0.22178644, 0.21297133, 0.20657296, 0.20128615, 0.19685602, 0.19369496, 0.19091627, 0.18821137, 0.18617025, 0.18436481, 0.18282084, 0.18164688, 0.18063882, 0.17940082, 0.17855816, 0.17765516, 0.17706874]\n",
      "[0.027921457, 0.027582001, 0.02740372, 0.027104314, 0.026749931, 0.026493577, 0.0262918, 0.0261162, 0.026001034, 0.025879305, 0.025750345, 0.025667513, 0.025594415, 0.02553885, 0.025469895, 0.025429683, 0.025395403, 0.025348425, 0.025304137, 0.025273623, 0.025251215, 0.025233207]\n"
     ]
    },
    {
     "name": "stderr",
     "output_type": "stream",
     "text": [
      "                                                                                                                                                                              \r"
     ]
    },
    {
     "name": "stdout",
     "output_type": "stream",
     "text": [
      "Epoch 23, total_loss=0.2490, reg_loss = 0.0764\n",
      "   87.59 s in train({'n_hidden_rhs': [], '..., ConditionalAutoEncoder..., cuda, <torch.utils.data.data..., AdamW ( Parameter Grou..., MSELoss(), 23, max_norm=100)\n",
      "   41.35 s in test({'n_hidden_rhs': [], '..., ConditionalAutoEncoder..., cuda, <torch.utils.data.data..., MSELoss())\n",
      "    9.01 s in test({'n_hidden_rhs': [], '..., ConditionalAutoEncoder..., cuda, <torch.utils.data.data..., MSELoss())\n",
      "Train MSE: 0.17544416\n",
      "Valid MSE: 0.025171805\n",
      "Next Learning Rate: 0.001\n",
      "[4.705526, 0.5553778, 0.30084786, 0.2520422, 0.23350568, 0.22178644, 0.21297133, 0.20657296, 0.20128615, 0.19685602, 0.19369496, 0.19091627, 0.18821137, 0.18617025, 0.18436481, 0.18282084, 0.18164688, 0.18063882, 0.17940082, 0.17855816, 0.17765516, 0.17706874, 0.17615645]\n",
      "[0.027921457, 0.027582001, 0.02740372, 0.027104314, 0.026749931, 0.026493577, 0.0262918, 0.0261162, 0.026001034, 0.025879305, 0.025750345, 0.025667513, 0.025594415, 0.02553885, 0.025469895, 0.025429683, 0.025395403, 0.025348425, 0.025304137, 0.025273623, 0.025251215, 0.025233207, 0.025212321]\n"
     ]
    },
    {
     "name": "stderr",
     "output_type": "stream",
     "text": [
      "                                                                                                                                                                              \r"
     ]
    },
    {
     "name": "stdout",
     "output_type": "stream",
     "text": [
      "Epoch 24, total_loss=0.2422, reg_loss = 0.0761\n",
      "   88.25 s in train({'n_hidden_rhs': [], '..., ConditionalAutoEncoder..., cuda, <torch.utils.data.data..., AdamW ( Parameter Grou..., MSELoss(), 24, max_norm=100)\n",
      "   40.97 s in test({'n_hidden_rhs': [], '..., ConditionalAutoEncoder..., cuda, <torch.utils.data.data..., MSELoss())\n",
      "    9.63 s in test({'n_hidden_rhs': [], '..., ConditionalAutoEncoder..., cuda, <torch.utils.data.data..., MSELoss())\n",
      "Train MSE: 0.17502637\n",
      "Valid MSE: 0.025166368\n",
      "Next Learning Rate: 0.001\n",
      "[4.705526, 0.5553778, 0.30084786, 0.2520422, 0.23350568, 0.22178644, 0.21297133, 0.20657296, 0.20128615, 0.19685602, 0.19369496, 0.19091627, 0.18821137, 0.18617025, 0.18436481, 0.18282084, 0.18164688, 0.18063882, 0.17940082, 0.17855816, 0.17765516, 0.17706874, 0.17615645, 0.17544416]\n",
      "[0.027921457, 0.027582001, 0.02740372, 0.027104314, 0.026749931, 0.026493577, 0.0262918, 0.0261162, 0.026001034, 0.025879305, 0.025750345, 0.025667513, 0.025594415, 0.02553885, 0.025469895, 0.025429683, 0.025395403, 0.025348425, 0.025304137, 0.025273623, 0.025251215, 0.025233207, 0.025212321, 0.025171805]\n"
     ]
    },
    {
     "name": "stderr",
     "output_type": "stream",
     "text": [
      "                                                                                                                                                                              \r"
     ]
    },
    {
     "name": "stdout",
     "output_type": "stream",
     "text": [
      "Epoch 25, total_loss=0.2663, reg_loss = 0.0758\n",
      "   86.58 s in train({'n_hidden_rhs': [], '..., ConditionalAutoEncoder..., cuda, <torch.utils.data.data..., AdamW ( Parameter Grou..., MSELoss(), 25, max_norm=100)\n",
      "   41.52 s in test({'n_hidden_rhs': [], '..., ConditionalAutoEncoder..., cuda, <torch.utils.data.data..., MSELoss())\n",
      "    9.44 s in test({'n_hidden_rhs': [], '..., ConditionalAutoEncoder..., cuda, <torch.utils.data.data..., MSELoss())\n",
      "Train MSE: 0.1743124\n",
      "Valid MSE: 0.025147596\n",
      "Next Learning Rate: 0.001\n",
      "[4.705526, 0.5553778, 0.30084786, 0.2520422, 0.23350568, 0.22178644, 0.21297133, 0.20657296, 0.20128615, 0.19685602, 0.19369496, 0.19091627, 0.18821137, 0.18617025, 0.18436481, 0.18282084, 0.18164688, 0.18063882, 0.17940082, 0.17855816, 0.17765516, 0.17706874, 0.17615645, 0.17544416, 0.17502637]\n",
      "[0.027921457, 0.027582001, 0.02740372, 0.027104314, 0.026749931, 0.026493577, 0.0262918, 0.0261162, 0.026001034, 0.025879305, 0.025750345, 0.025667513, 0.025594415, 0.02553885, 0.025469895, 0.025429683, 0.025395403, 0.025348425, 0.025304137, 0.025273623, 0.025251215, 0.025233207, 0.025212321, 0.025171805, 0.025166368]\n"
     ]
    },
    {
     "name": "stderr",
     "output_type": "stream",
     "text": [
      "                                                                                                                                                                              \r"
     ]
    },
    {
     "name": "stdout",
     "output_type": "stream",
     "text": [
      "Epoch 26, total_loss=0.2468, reg_loss = 0.0756\n",
      "   87.81 s in train({'n_hidden_rhs': [], '..., ConditionalAutoEncoder..., cuda, <torch.utils.data.data..., AdamW ( Parameter Grou..., MSELoss(), 26, max_norm=100)\n",
      "   41.37 s in test({'n_hidden_rhs': [], '..., ConditionalAutoEncoder..., cuda, <torch.utils.data.data..., MSELoss())\n",
      "    9.60 s in test({'n_hidden_rhs': [], '..., ConditionalAutoEncoder..., cuda, <torch.utils.data.data..., MSELoss())\n",
      "Train MSE: 0.1738201\n",
      "Valid MSE: 0.02514106\n",
      "Next Learning Rate: 0.001\n",
      "[4.705526, 0.5553778, 0.30084786, 0.2520422, 0.23350568, 0.22178644, 0.21297133, 0.20657296, 0.20128615, 0.19685602, 0.19369496, 0.19091627, 0.18821137, 0.18617025, 0.18436481, 0.18282084, 0.18164688, 0.18063882, 0.17940082, 0.17855816, 0.17765516, 0.17706874, 0.17615645, 0.17544416, 0.17502637, 0.1743124]\n",
      "[0.027921457, 0.027582001, 0.02740372, 0.027104314, 0.026749931, 0.026493577, 0.0262918, 0.0261162, 0.026001034, 0.025879305, 0.025750345, 0.025667513, 0.025594415, 0.02553885, 0.025469895, 0.025429683, 0.025395403, 0.025348425, 0.025304137, 0.025273623, 0.025251215, 0.025233207, 0.025212321, 0.025171805, 0.025166368, 0.025147596]\n"
     ]
    },
    {
     "name": "stderr",
     "output_type": "stream",
     "text": [
      "                                                                                                                                                                              \r"
     ]
    },
    {
     "name": "stdout",
     "output_type": "stream",
     "text": [
      "Epoch 27, total_loss=0.2419, reg_loss = 0.0753\n",
      "   88.37 s in train({'n_hidden_rhs': [], '..., ConditionalAutoEncoder..., cuda, <torch.utils.data.data..., AdamW ( Parameter Grou..., MSELoss(), 27, max_norm=100)\n",
      "   41.10 s in test({'n_hidden_rhs': [], '..., ConditionalAutoEncoder..., cuda, <torch.utils.data.data..., MSELoss())\n",
      "    9.47 s in test({'n_hidden_rhs': [], '..., ConditionalAutoEncoder..., cuda, <torch.utils.data.data..., MSELoss())\n",
      "Train MSE: 0.17340168\n",
      "Valid MSE: 0.025109563\n",
      "Next Learning Rate: 0.001\n",
      "[4.705526, 0.5553778, 0.30084786, 0.2520422, 0.23350568, 0.22178644, 0.21297133, 0.20657296, 0.20128615, 0.19685602, 0.19369496, 0.19091627, 0.18821137, 0.18617025, 0.18436481, 0.18282084, 0.18164688, 0.18063882, 0.17940082, 0.17855816, 0.17765516, 0.17706874, 0.17615645, 0.17544416, 0.17502637, 0.1743124, 0.1738201]\n",
      "[0.027921457, 0.027582001, 0.02740372, 0.027104314, 0.026749931, 0.026493577, 0.0262918, 0.0261162, 0.026001034, 0.025879305, 0.025750345, 0.025667513, 0.025594415, 0.02553885, 0.025469895, 0.025429683, 0.025395403, 0.025348425, 0.025304137, 0.025273623, 0.025251215, 0.025233207, 0.025212321, 0.025171805, 0.025166368, 0.025147596, 0.02514106]\n"
     ]
    },
    {
     "name": "stderr",
     "output_type": "stream",
     "text": [
      "Train:  28%|███████████████████████▎                                                            | 5/18 [00:25<01:01,  4.75s/it, lr=0.0010, reg_loss=0.0751, total_loss=0.3711]"
     ]
    },
    {
     "name": "stdout",
     "output_type": "stream",
     "text": [
      "   41.40 s in test({'n_hidden_rhs': [], '..., ConditionalAutoEncoder..., cuda, <torch.utils.data.data..., MSELoss())\n",
      "    9.26 s in test({'n_hidden_rhs': [], '..., ConditionalAutoEncoder..., cuda, <torch.utils.data.data..., MSELoss())\n",
      "Train MSE: 0.1730286\n",
      "Valid MSE: 0.025085667\n",
      "Next Learning Rate: 0.001\n",
      "[4.705526, 0.5553778, 0.30084786, 0.2520422, 0.23350568, 0.22178644, 0.21297133, 0.20657296, 0.20128615, 0.19685602, 0.19369496, 0.19091627, 0.18821137, 0.18617025, 0.18436481, 0.18282084, 0.18164688, 0.18063882, 0.17940082, 0.17855816, 0.17765516, 0.17706874, 0.17615645, 0.17544416, 0.17502637, 0.1743124, 0.1738201, 0.17340168]\n",
      "[0.027921457, 0.027582001, 0.02740372, 0.027104314, 0.026749931, 0.026493577, 0.0262918, 0.0261162, 0.026001034, 0.025879305, 0.025750345, 0.025667513, 0.025594415, 0.02553885, 0.025469895, 0.025429683, 0.025395403, 0.025348425, 0.025304137, 0.025273623, 0.025251215, 0.025233207, 0.025212321, 0.025171805, 0.025166368, 0.025147596, 0.02514106, 0.025109563]\n"
     ]
    },
    {
     "name": "stderr",
     "output_type": "stream",
     "text": [
      "                                                                                                                                                                              \r"
     ]
    },
    {
     "name": "stdout",
     "output_type": "stream",
     "text": [
      "Epoch 29, total_loss=0.2431, reg_loss = 0.0747\n",
      "   86.92 s in train({'n_hidden_rhs': [], '..., ConditionalAutoEncoder..., cuda, <torch.utils.data.data..., AdamW ( Parameter Grou..., MSELoss(), 29, max_norm=100)\n",
      "   41.05 s in test({'n_hidden_rhs': [], '..., ConditionalAutoEncoder..., cuda, <torch.utils.data.data..., MSELoss())\n",
      "    8.44 s in test({'n_hidden_rhs': [], '..., ConditionalAutoEncoder..., cuda, <torch.utils.data.data..., MSELoss())\n",
      "Train MSE: 0.17269807\n",
      "Valid MSE: 0.025075257\n",
      "Next Learning Rate: 0.001\n",
      "[4.705526, 0.5553778, 0.30084786, 0.2520422, 0.23350568, 0.22178644, 0.21297133, 0.20657296, 0.20128615, 0.19685602, 0.19369496, 0.19091627, 0.18821137, 0.18617025, 0.18436481, 0.18282084, 0.18164688, 0.18063882, 0.17940082, 0.17855816, 0.17765516, 0.17706874, 0.17615645, 0.17544416, 0.17502637, 0.1743124, 0.1738201, 0.17340168, 0.1730286]\n",
      "[0.027921457, 0.027582001, 0.02740372, 0.027104314, 0.026749931, 0.026493577, 0.0262918, 0.0261162, 0.026001034, 0.025879305, 0.025750345, 0.025667513, 0.025594415, 0.02553885, 0.025469895, 0.025429683, 0.025395403, 0.025348425, 0.025304137, 0.025273623, 0.025251215, 0.025233207, 0.025212321, 0.025171805, 0.025166368, 0.025147596, 0.02514106, 0.025109563, 0.025085667]\n"
     ]
    },
    {
     "name": "stderr",
     "output_type": "stream",
     "text": [
      "                                                                                                                                                                              \r"
     ]
    },
    {
     "name": "stdout",
     "output_type": "stream",
     "text": [
      "Epoch 30, total_loss=0.2434, reg_loss = 0.0744\n",
      "   86.82 s in train({'n_hidden_rhs': [], '..., ConditionalAutoEncoder..., cuda, <torch.utils.data.data..., AdamW ( Parameter Grou..., MSELoss(), 30, max_norm=100)\n",
      "   42.40 s in test({'n_hidden_rhs': [], '..., ConditionalAutoEncoder..., cuda, <torch.utils.data.data..., MSELoss())\n",
      "    9.03 s in test({'n_hidden_rhs': [], '..., ConditionalAutoEncoder..., cuda, <torch.utils.data.data..., MSELoss())\n",
      "Train MSE: 0.17236184\n",
      "Valid MSE: 0.025046257\n",
      "Next Learning Rate: 0.001\n",
      "[4.705526, 0.5553778, 0.30084786, 0.2520422, 0.23350568, 0.22178644, 0.21297133, 0.20657296, 0.20128615, 0.19685602, 0.19369496, 0.19091627, 0.18821137, 0.18617025, 0.18436481, 0.18282084, 0.18164688, 0.18063882, 0.17940082, 0.17855816, 0.17765516, 0.17706874, 0.17615645, 0.17544416, 0.17502637, 0.1743124, 0.1738201, 0.17340168, 0.1730286, 0.17269807]\n",
      "[0.027921457, 0.027582001, 0.02740372, 0.027104314, 0.026749931, 0.026493577, 0.0262918, 0.0261162, 0.026001034, 0.025879305, 0.025750345, 0.025667513, 0.025594415, 0.02553885, 0.025469895, 0.025429683, 0.025395403, 0.025348425, 0.025304137, 0.025273623, 0.025251215, 0.025233207, 0.025212321, 0.025171805, 0.025166368, 0.025147596, 0.02514106, 0.025109563, 0.025085667, 0.025075257]\n"
     ]
    },
    {
     "name": "stderr",
     "output_type": "stream",
     "text": [
      "                                                                                                                                                                              \r"
     ]
    },
    {
     "name": "stdout",
     "output_type": "stream",
     "text": [
      "Epoch 31, total_loss=0.2403, reg_loss = 0.0741\n",
      "   87.29 s in train({'n_hidden_rhs': [], '..., ConditionalAutoEncoder..., cuda, <torch.utils.data.data..., AdamW ( Parameter Grou..., MSELoss(), 31, max_norm=100)\n",
      "   42.63 s in test({'n_hidden_rhs': [], '..., ConditionalAutoEncoder..., cuda, <torch.utils.data.data..., MSELoss())\n",
      "    8.91 s in test({'n_hidden_rhs': [], '..., ConditionalAutoEncoder..., cuda, <torch.utils.data.data..., MSELoss())\n",
      "Train MSE: 0.17195539\n",
      "Valid MSE: 0.02502526\n",
      "Next Learning Rate: 0.001\n",
      "[4.705526, 0.5553778, 0.30084786, 0.2520422, 0.23350568, 0.22178644, 0.21297133, 0.20657296, 0.20128615, 0.19685602, 0.19369496, 0.19091627, 0.18821137, 0.18617025, 0.18436481, 0.18282084, 0.18164688, 0.18063882, 0.17940082, 0.17855816, 0.17765516, 0.17706874, 0.17615645, 0.17544416, 0.17502637, 0.1743124, 0.1738201, 0.17340168, 0.1730286, 0.17269807, 0.17236184]\n",
      "[0.027921457, 0.027582001, 0.02740372, 0.027104314, 0.026749931, 0.026493577, 0.0262918, 0.0261162, 0.026001034, 0.025879305, 0.025750345, 0.025667513, 0.025594415, 0.02553885, 0.025469895, 0.025429683, 0.025395403, 0.025348425, 0.025304137, 0.025273623, 0.025251215, 0.025233207, 0.025212321, 0.025171805, 0.025166368, 0.025147596, 0.02514106, 0.025109563, 0.025085667, 0.025075257, 0.025046257]\n"
     ]
    },
    {
     "name": "stderr",
     "output_type": "stream",
     "text": [
      "                                                                                                                                                                              \r"
     ]
    },
    {
     "name": "stdout",
     "output_type": "stream",
     "text": [
      "Epoch 32, total_loss=0.2414, reg_loss = 0.0738\n",
      "   86.61 s in train({'n_hidden_rhs': [], '..., ConditionalAutoEncoder..., cuda, <torch.utils.data.data..., AdamW ( Parameter Grou..., MSELoss(), 32, max_norm=100)\n",
      "   41.06 s in test({'n_hidden_rhs': [], '..., ConditionalAutoEncoder..., cuda, <torch.utils.data.data..., MSELoss())\n",
      "    9.22 s in test({'n_hidden_rhs': [], '..., ConditionalAutoEncoder..., cuda, <torch.utils.data.data..., MSELoss())\n",
      "Train MSE: 0.17220947\n",
      "Valid MSE: 0.025023831\n",
      "Next Learning Rate: 0.001\n",
      "[4.705526, 0.5553778, 0.30084786, 0.2520422, 0.23350568, 0.22178644, 0.21297133, 0.20657296, 0.20128615, 0.19685602, 0.19369496, 0.19091627, 0.18821137, 0.18617025, 0.18436481, 0.18282084, 0.18164688, 0.18063882, 0.17940082, 0.17855816, 0.17765516, 0.17706874, 0.17615645, 0.17544416, 0.17502637, 0.1743124, 0.1738201, 0.17340168, 0.1730286, 0.17269807, 0.17236184, 0.17195539]\n",
      "[0.027921457, 0.027582001, 0.02740372, 0.027104314, 0.026749931, 0.026493577, 0.0262918, 0.0261162, 0.026001034, 0.025879305, 0.025750345, 0.025667513, 0.025594415, 0.02553885, 0.025469895, 0.025429683, 0.025395403, 0.025348425, 0.025304137, 0.025273623, 0.025251215, 0.025233207, 0.025212321, 0.025171805, 0.025166368, 0.025147596, 0.02514106, 0.025109563, 0.025085667, 0.025075257, 0.025046257, 0.02502526]\n"
     ]
    },
    {
     "name": "stderr",
     "output_type": "stream",
     "text": [
      "                                                                                                                                                                              \r"
     ]
    },
    {
     "name": "stdout",
     "output_type": "stream",
     "text": [
      "Epoch 33, total_loss=0.2649, reg_loss = 0.0735\n",
      "   87.40 s in train({'n_hidden_rhs': [], '..., ConditionalAutoEncoder..., cuda, <torch.utils.data.data..., AdamW ( Parameter Grou..., MSELoss(), 33, max_norm=100)\n",
      "   41.78 s in test({'n_hidden_rhs': [], '..., ConditionalAutoEncoder..., cuda, <torch.utils.data.data..., MSELoss())\n",
      "    8.77 s in test({'n_hidden_rhs': [], '..., ConditionalAutoEncoder..., cuda, <torch.utils.data.data..., MSELoss())\n",
      "Train MSE: 0.1715986\n",
      "Valid MSE: 0.02499818\n",
      "Next Learning Rate: 0.001\n",
      "[4.705526, 0.5553778, 0.30084786, 0.2520422, 0.23350568, 0.22178644, 0.21297133, 0.20657296, 0.20128615, 0.19685602, 0.19369496, 0.19091627, 0.18821137, 0.18617025, 0.18436481, 0.18282084, 0.18164688, 0.18063882, 0.17940082, 0.17855816, 0.17765516, 0.17706874, 0.17615645, 0.17544416, 0.17502637, 0.1743124, 0.1738201, 0.17340168, 0.1730286, 0.17269807, 0.17236184, 0.17195539, 0.17220947]\n",
      "[0.027921457, 0.027582001, 0.02740372, 0.027104314, 0.026749931, 0.026493577, 0.0262918, 0.0261162, 0.026001034, 0.025879305, 0.025750345, 0.025667513, 0.025594415, 0.02553885, 0.025469895, 0.025429683, 0.025395403, 0.025348425, 0.025304137, 0.025273623, 0.025251215, 0.025233207, 0.025212321, 0.025171805, 0.025166368, 0.025147596, 0.02514106, 0.025109563, 0.025085667, 0.025075257, 0.025046257, 0.02502526, 0.025023831]\n"
     ]
    },
    {
     "name": "stderr",
     "output_type": "stream",
     "text": [
      "                                                                                                                                                                              \r"
     ]
    },
    {
     "name": "stdout",
     "output_type": "stream",
     "text": [
      "Epoch 34, total_loss=0.2404, reg_loss = 0.0733\n",
      "   86.36 s in train({'n_hidden_rhs': [], '..., ConditionalAutoEncoder..., cuda, <torch.utils.data.data..., AdamW ( Parameter Grou..., MSELoss(), 34, max_norm=100)\n",
      "   42.44 s in test({'n_hidden_rhs': [], '..., ConditionalAutoEncoder..., cuda, <torch.utils.data.data..., MSELoss())\n",
      "    9.24 s in test({'n_hidden_rhs': [], '..., ConditionalAutoEncoder..., cuda, <torch.utils.data.data..., MSELoss())\n",
      "Train MSE: 0.17113341\n",
      "Valid MSE: 0.024978664\n",
      "Next Learning Rate: 0.001\n",
      "[4.705526, 0.5553778, 0.30084786, 0.2520422, 0.23350568, 0.22178644, 0.21297133, 0.20657296, 0.20128615, 0.19685602, 0.19369496, 0.19091627, 0.18821137, 0.18617025, 0.18436481, 0.18282084, 0.18164688, 0.18063882, 0.17940082, 0.17855816, 0.17765516, 0.17706874, 0.17615645, 0.17544416, 0.17502637, 0.1743124, 0.1738201, 0.17340168, 0.1730286, 0.17269807, 0.17236184, 0.17195539, 0.17220947, 0.1715986]\n",
      "[0.027921457, 0.027582001, 0.02740372, 0.027104314, 0.026749931, 0.026493577, 0.0262918, 0.0261162, 0.026001034, 0.025879305, 0.025750345, 0.025667513, 0.025594415, 0.02553885, 0.025469895, 0.025429683, 0.025395403, 0.025348425, 0.025304137, 0.025273623, 0.025251215, 0.025233207, 0.025212321, 0.025171805, 0.025166368, 0.025147596, 0.02514106, 0.025109563, 0.025085667, 0.025075257, 0.025046257, 0.02502526, 0.025023831, 0.02499818]\n"
     ]
    },
    {
     "name": "stderr",
     "output_type": "stream",
     "text": [
      "                                                                                                                                                                              \r"
     ]
    },
    {
     "name": "stdout",
     "output_type": "stream",
     "text": [
      "Epoch 35, total_loss=0.2392, reg_loss = 0.0730\n",
      "   86.18 s in train({'n_hidden_rhs': [], '..., ConditionalAutoEncoder..., cuda, <torch.utils.data.data..., AdamW ( Parameter Grou..., MSELoss(), 35, max_norm=100)\n",
      "   41.30 s in test({'n_hidden_rhs': [], '..., ConditionalAutoEncoder..., cuda, <torch.utils.data.data..., MSELoss())\n",
      "    9.06 s in test({'n_hidden_rhs': [], '..., ConditionalAutoEncoder..., cuda, <torch.utils.data.data..., MSELoss())\n",
      "Train MSE: 0.17081967\n",
      "Valid MSE: 0.024962502\n",
      "Next Learning Rate: 0.001\n",
      "[4.705526, 0.5553778, 0.30084786, 0.2520422, 0.23350568, 0.22178644, 0.21297133, 0.20657296, 0.20128615, 0.19685602, 0.19369496, 0.19091627, 0.18821137, 0.18617025, 0.18436481, 0.18282084, 0.18164688, 0.18063882, 0.17940082, 0.17855816, 0.17765516, 0.17706874, 0.17615645, 0.17544416, 0.17502637, 0.1743124, 0.1738201, 0.17340168, 0.1730286, 0.17269807, 0.17236184, 0.17195539, 0.17220947, 0.1715986, 0.17113341]\n",
      "[0.027921457, 0.027582001, 0.02740372, 0.027104314, 0.026749931, 0.026493577, 0.0262918, 0.0261162, 0.026001034, 0.025879305, 0.025750345, 0.025667513, 0.025594415, 0.02553885, 0.025469895, 0.025429683, 0.025395403, 0.025348425, 0.025304137, 0.025273623, 0.025251215, 0.025233207, 0.025212321, 0.025171805, 0.025166368, 0.025147596, 0.02514106, 0.025109563, 0.025085667, 0.025075257, 0.025046257, 0.02502526, 0.025023831, 0.02499818, 0.024978664]\n"
     ]
    },
    {
     "name": "stderr",
     "output_type": "stream",
     "text": [
      "                                                                                                                                                                              \r"
     ]
    },
    {
     "name": "stdout",
     "output_type": "stream",
     "text": [
      "Epoch 36, total_loss=0.2404, reg_loss = 0.0727\n",
      "   86.74 s in train({'n_hidden_rhs': [], '..., ConditionalAutoEncoder..., cuda, <torch.utils.data.data..., AdamW ( Parameter Grou..., MSELoss(), 36, max_norm=100)\n",
      "   41.79 s in test({'n_hidden_rhs': [], '..., ConditionalAutoEncoder..., cuda, <torch.utils.data.data..., MSELoss())\n",
      "    9.60 s in test({'n_hidden_rhs': [], '..., ConditionalAutoEncoder..., cuda, <torch.utils.data.data..., MSELoss())\n",
      "Train MSE: 0.17060843\n",
      "Valid MSE: 0.024943724\n",
      "Next Learning Rate: 0.001\n",
      "[4.705526, 0.5553778, 0.30084786, 0.2520422, 0.23350568, 0.22178644, 0.21297133, 0.20657296, 0.20128615, 0.19685602, 0.19369496, 0.19091627, 0.18821137, 0.18617025, 0.18436481, 0.18282084, 0.18164688, 0.18063882, 0.17940082, 0.17855816, 0.17765516, 0.17706874, 0.17615645, 0.17544416, 0.17502637, 0.1743124, 0.1738201, 0.17340168, 0.1730286, 0.17269807, 0.17236184, 0.17195539, 0.17220947, 0.1715986, 0.17113341, 0.17081967]\n",
      "[0.027921457, 0.027582001, 0.02740372, 0.027104314, 0.026749931, 0.026493577, 0.0262918, 0.0261162, 0.026001034, 0.025879305, 0.025750345, 0.025667513, 0.025594415, 0.02553885, 0.025469895, 0.025429683, 0.025395403, 0.025348425, 0.025304137, 0.025273623, 0.025251215, 0.025233207, 0.025212321, 0.025171805, 0.025166368, 0.025147596, 0.02514106, 0.025109563, 0.025085667, 0.025075257, 0.025046257, 0.02502526, 0.025023831, 0.02499818, 0.024978664, 0.024962502]\n"
     ]
    },
    {
     "name": "stderr",
     "output_type": "stream",
     "text": [
      "                                                                                                                                                                              \r"
     ]
    },
    {
     "name": "stdout",
     "output_type": "stream",
     "text": [
      "Epoch 37, total_loss=0.2488, reg_loss = 0.0724\n",
      "   87.82 s in train({'n_hidden_rhs': [], '..., ConditionalAutoEncoder..., cuda, <torch.utils.data.data..., AdamW ( Parameter Grou..., MSELoss(), 37, max_norm=100)\n",
      "   41.87 s in test({'n_hidden_rhs': [], '..., ConditionalAutoEncoder..., cuda, <torch.utils.data.data..., MSELoss())\n",
      "    9.39 s in test({'n_hidden_rhs': [], '..., ConditionalAutoEncoder..., cuda, <torch.utils.data.data..., MSELoss())\n",
      "Train MSE: 0.17033364\n",
      "Valid MSE: 0.024935214\n",
      "Next Learning Rate: 0.001\n",
      "[4.705526, 0.5553778, 0.30084786, 0.2520422, 0.23350568, 0.22178644, 0.21297133, 0.20657296, 0.20128615, 0.19685602, 0.19369496, 0.19091627, 0.18821137, 0.18617025, 0.18436481, 0.18282084, 0.18164688, 0.18063882, 0.17940082, 0.17855816, 0.17765516, 0.17706874, 0.17615645, 0.17544416, 0.17502637, 0.1743124, 0.1738201, 0.17340168, 0.1730286, 0.17269807, 0.17236184, 0.17195539, 0.17220947, 0.1715986, 0.17113341, 0.17081967, 0.17060843]\n",
      "[0.027921457, 0.027582001, 0.02740372, 0.027104314, 0.026749931, 0.026493577, 0.0262918, 0.0261162, 0.026001034, 0.025879305, 0.025750345, 0.025667513, 0.025594415, 0.02553885, 0.025469895, 0.025429683, 0.025395403, 0.025348425, 0.025304137, 0.025273623, 0.025251215, 0.025233207, 0.025212321, 0.025171805, 0.025166368, 0.025147596, 0.02514106, 0.025109563, 0.025085667, 0.025075257, 0.025046257, 0.02502526, 0.025023831, 0.02499818, 0.024978664, 0.024962502, 0.024943724]\n"
     ]
    },
    {
     "name": "stderr",
     "output_type": "stream",
     "text": [
      "                                                                                                                                                                              \r"
     ]
    },
    {
     "name": "stdout",
     "output_type": "stream",
     "text": [
      "Epoch 38, total_loss=0.2361, reg_loss = 0.0721\n",
      "   86.48 s in train({'n_hidden_rhs': [], '..., ConditionalAutoEncoder..., cuda, <torch.utils.data.data..., AdamW ( Parameter Grou..., MSELoss(), 38, max_norm=100)\n",
      "   42.56 s in test({'n_hidden_rhs': [], '..., ConditionalAutoEncoder..., cuda, <torch.utils.data.data..., MSELoss())\n",
      "    9.36 s in test({'n_hidden_rhs': [], '..., ConditionalAutoEncoder..., cuda, <torch.utils.data.data..., MSELoss())\n",
      "Train MSE: 0.17012298\n",
      "Valid MSE: 0.024919365\n",
      "Next Learning Rate: 0.001\n",
      "[4.705526, 0.5553778, 0.30084786, 0.2520422, 0.23350568, 0.22178644, 0.21297133, 0.20657296, 0.20128615, 0.19685602, 0.19369496, 0.19091627, 0.18821137, 0.18617025, 0.18436481, 0.18282084, 0.18164688, 0.18063882, 0.17940082, 0.17855816, 0.17765516, 0.17706874, 0.17615645, 0.17544416, 0.17502637, 0.1743124, 0.1738201, 0.17340168, 0.1730286, 0.17269807, 0.17236184, 0.17195539, 0.17220947, 0.1715986, 0.17113341, 0.17081967, 0.17060843, 0.17033364]\n",
      "[0.027921457, 0.027582001, 0.02740372, 0.027104314, 0.026749931, 0.026493577, 0.0262918, 0.0261162, 0.026001034, 0.025879305, 0.025750345, 0.025667513, 0.025594415, 0.02553885, 0.025469895, 0.025429683, 0.025395403, 0.025348425, 0.025304137, 0.025273623, 0.025251215, 0.025233207, 0.025212321, 0.025171805, 0.025166368, 0.025147596, 0.02514106, 0.025109563, 0.025085667, 0.025075257, 0.025046257, 0.02502526, 0.025023831, 0.02499818, 0.024978664, 0.024962502, 0.024943724, 0.024935214]\n"
     ]
    },
    {
     "name": "stderr",
     "output_type": "stream",
     "text": [
      "                                                                                                                                                                              \r"
     ]
    },
    {
     "name": "stdout",
     "output_type": "stream",
     "text": [
      "Epoch 39, total_loss=0.2322, reg_loss = 0.0718\n",
      "   87.26 s in train({'n_hidden_rhs': [], '..., ConditionalAutoEncoder..., cuda, <torch.utils.data.data..., AdamW ( Parameter Grou..., MSELoss(), 39, max_norm=100)\n",
      "   41.63 s in test({'n_hidden_rhs': [], '..., ConditionalAutoEncoder..., cuda, <torch.utils.data.data..., MSELoss())\n",
      "    9.31 s in test({'n_hidden_rhs': [], '..., ConditionalAutoEncoder..., cuda, <torch.utils.data.data..., MSELoss())\n",
      "Train MSE: 0.16996475\n",
      "Valid MSE: 0.024914978\n",
      "Next Learning Rate: 0.001\n",
      "[4.705526, 0.5553778, 0.30084786, 0.2520422, 0.23350568, 0.22178644, 0.21297133, 0.20657296, 0.20128615, 0.19685602, 0.19369496, 0.19091627, 0.18821137, 0.18617025, 0.18436481, 0.18282084, 0.18164688, 0.18063882, 0.17940082, 0.17855816, 0.17765516, 0.17706874, 0.17615645, 0.17544416, 0.17502637, 0.1743124, 0.1738201, 0.17340168, 0.1730286, 0.17269807, 0.17236184, 0.17195539, 0.17220947, 0.1715986, 0.17113341, 0.17081967, 0.17060843, 0.17033364, 0.17012298]\n",
      "[0.027921457, 0.027582001, 0.02740372, 0.027104314, 0.026749931, 0.026493577, 0.0262918, 0.0261162, 0.026001034, 0.025879305, 0.025750345, 0.025667513, 0.025594415, 0.02553885, 0.025469895, 0.025429683, 0.025395403, 0.025348425, 0.025304137, 0.025273623, 0.025251215, 0.025233207, 0.025212321, 0.025171805, 0.025166368, 0.025147596, 0.02514106, 0.025109563, 0.025085667, 0.025075257, 0.025046257, 0.02502526, 0.025023831, 0.02499818, 0.024978664, 0.024962502, 0.024943724, 0.024935214, 0.024919365]\n"
     ]
    },
    {
     "name": "stderr",
     "output_type": "stream",
     "text": [
      "                                                                                                                                                                              \r"
     ]
    },
    {
     "name": "stdout",
     "output_type": "stream",
     "text": [
      "Epoch 40, total_loss=0.2383, reg_loss = 0.0714\n",
      "   86.97 s in train({'n_hidden_rhs': [], '..., ConditionalAutoEncoder..., cuda, <torch.utils.data.data..., AdamW ( Parameter Grou..., MSELoss(), 40, max_norm=100)\n",
      "   42.49 s in test({'n_hidden_rhs': [], '..., ConditionalAutoEncoder..., cuda, <torch.utils.data.data..., MSELoss())\n",
      "    9.32 s in test({'n_hidden_rhs': [], '..., ConditionalAutoEncoder..., cuda, <torch.utils.data.data..., MSELoss())\n",
      "Train MSE: 0.16975059\n",
      "Valid MSE: 0.024901055\n",
      "Next Learning Rate: 0.001\n",
      "[4.705526, 0.5553778, 0.30084786, 0.2520422, 0.23350568, 0.22178644, 0.21297133, 0.20657296, 0.20128615, 0.19685602, 0.19369496, 0.19091627, 0.18821137, 0.18617025, 0.18436481, 0.18282084, 0.18164688, 0.18063882, 0.17940082, 0.17855816, 0.17765516, 0.17706874, 0.17615645, 0.17544416, 0.17502637, 0.1743124, 0.1738201, 0.17340168, 0.1730286, 0.17269807, 0.17236184, 0.17195539, 0.17220947, 0.1715986, 0.17113341, 0.17081967, 0.17060843, 0.17033364, 0.17012298, 0.16996475]\n",
      "[0.027921457, 0.027582001, 0.02740372, 0.027104314, 0.026749931, 0.026493577, 0.0262918, 0.0261162, 0.026001034, 0.025879305, 0.025750345, 0.025667513, 0.025594415, 0.02553885, 0.025469895, 0.025429683, 0.025395403, 0.025348425, 0.025304137, 0.025273623, 0.025251215, 0.025233207, 0.025212321, 0.025171805, 0.025166368, 0.025147596, 0.02514106, 0.025109563, 0.025085667, 0.025075257, 0.025046257, 0.02502526, 0.025023831, 0.02499818, 0.024978664, 0.024962502, 0.024943724, 0.024935214, 0.024919365, 0.024914978]\n"
     ]
    },
    {
     "name": "stderr",
     "output_type": "stream",
     "text": [
      "                                                                                                                                                                              \r"
     ]
    },
    {
     "name": "stdout",
     "output_type": "stream",
     "text": [
      "Epoch 41, total_loss=0.2374, reg_loss = 0.0712\n",
      "   87.97 s in train({'n_hidden_rhs': [], '..., ConditionalAutoEncoder..., cuda, <torch.utils.data.data..., AdamW ( Parameter Grou..., MSELoss(), 41, max_norm=100)\n",
      "   41.25 s in test({'n_hidden_rhs': [], '..., ConditionalAutoEncoder..., cuda, <torch.utils.data.data..., MSELoss())\n",
      "    8.94 s in test({'n_hidden_rhs': [], '..., ConditionalAutoEncoder..., cuda, <torch.utils.data.data..., MSELoss())\n",
      "Train MSE: 0.16994648\n",
      "Valid MSE: 0.024883758\n",
      "Next Learning Rate: 0.001\n",
      "[4.705526, 0.5553778, 0.30084786, 0.2520422, 0.23350568, 0.22178644, 0.21297133, 0.20657296, 0.20128615, 0.19685602, 0.19369496, 0.19091627, 0.18821137, 0.18617025, 0.18436481, 0.18282084, 0.18164688, 0.18063882, 0.17940082, 0.17855816, 0.17765516, 0.17706874, 0.17615645, 0.17544416, 0.17502637, 0.1743124, 0.1738201, 0.17340168, 0.1730286, 0.17269807, 0.17236184, 0.17195539, 0.17220947, 0.1715986, 0.17113341, 0.17081967, 0.17060843, 0.17033364, 0.17012298, 0.16996475, 0.16975059]\n",
      "[0.027921457, 0.027582001, 0.02740372, 0.027104314, 0.026749931, 0.026493577, 0.0262918, 0.0261162, 0.026001034, 0.025879305, 0.025750345, 0.025667513, 0.025594415, 0.02553885, 0.025469895, 0.025429683, 0.025395403, 0.025348425, 0.025304137, 0.025273623, 0.025251215, 0.025233207, 0.025212321, 0.025171805, 0.025166368, 0.025147596, 0.02514106, 0.025109563, 0.025085667, 0.025075257, 0.025046257, 0.02502526, 0.025023831, 0.02499818, 0.024978664, 0.024962502, 0.024943724, 0.024935214, 0.024919365, 0.024914978, 0.024901055]\n"
     ]
    },
    {
     "name": "stderr",
     "output_type": "stream",
     "text": [
      "                                                                                                                                                                              \r"
     ]
    },
    {
     "name": "stdout",
     "output_type": "stream",
     "text": [
      "Epoch 42, total_loss=0.2351, reg_loss = 0.0708\n",
      "   87.35 s in train({'n_hidden_rhs': [], '..., ConditionalAutoEncoder..., cuda, <torch.utils.data.data..., AdamW ( Parameter Grou..., MSELoss(), 42, max_norm=100)\n",
      "   40.93 s in test({'n_hidden_rhs': [], '..., ConditionalAutoEncoder..., cuda, <torch.utils.data.data..., MSELoss())\n",
      "    9.13 s in test({'n_hidden_rhs': [], '..., ConditionalAutoEncoder..., cuda, <torch.utils.data.data..., MSELoss())\n",
      "Train MSE: 0.16961749\n",
      "Valid MSE: 0.02487011\n",
      "Next Learning Rate: 0.001\n",
      "[4.705526, 0.5553778, 0.30084786, 0.2520422, 0.23350568, 0.22178644, 0.21297133, 0.20657296, 0.20128615, 0.19685602, 0.19369496, 0.19091627, 0.18821137, 0.18617025, 0.18436481, 0.18282084, 0.18164688, 0.18063882, 0.17940082, 0.17855816, 0.17765516, 0.17706874, 0.17615645, 0.17544416, 0.17502637, 0.1743124, 0.1738201, 0.17340168, 0.1730286, 0.17269807, 0.17236184, 0.17195539, 0.17220947, 0.1715986, 0.17113341, 0.17081967, 0.17060843, 0.17033364, 0.17012298, 0.16996475, 0.16975059, 0.16994648]\n",
      "[0.027921457, 0.027582001, 0.02740372, 0.027104314, 0.026749931, 0.026493577, 0.0262918, 0.0261162, 0.026001034, 0.025879305, 0.025750345, 0.025667513, 0.025594415, 0.02553885, 0.025469895, 0.025429683, 0.025395403, 0.025348425, 0.025304137, 0.025273623, 0.025251215, 0.025233207, 0.025212321, 0.025171805, 0.025166368, 0.025147596, 0.02514106, 0.025109563, 0.025085667, 0.025075257, 0.025046257, 0.02502526, 0.025023831, 0.02499818, 0.024978664, 0.024962502, 0.024943724, 0.024935214, 0.024919365, 0.024914978, 0.024901055, 0.024883758]\n"
     ]
    },
    {
     "name": "stderr",
     "output_type": "stream",
     "text": [
      "                                                                                                                                                                              \r"
     ]
    },
    {
     "name": "stdout",
     "output_type": "stream",
     "text": [
      "Epoch 43, total_loss=0.2349, reg_loss = 0.0705\n",
      "   86.07 s in train({'n_hidden_rhs': [], '..., ConditionalAutoEncoder..., cuda, <torch.utils.data.data..., AdamW ( Parameter Grou..., MSELoss(), 43, max_norm=100)\n",
      "   42.41 s in test({'n_hidden_rhs': [], '..., ConditionalAutoEncoder..., cuda, <torch.utils.data.data..., MSELoss())\n",
      "    9.24 s in test({'n_hidden_rhs': [], '..., ConditionalAutoEncoder..., cuda, <torch.utils.data.data..., MSELoss())\n",
      "Train MSE: 0.16943279\n",
      "Valid MSE: 0.02486446\n",
      "Next Learning Rate: 0.001\n",
      "[4.705526, 0.5553778, 0.30084786, 0.2520422, 0.23350568, 0.22178644, 0.21297133, 0.20657296, 0.20128615, 0.19685602, 0.19369496, 0.19091627, 0.18821137, 0.18617025, 0.18436481, 0.18282084, 0.18164688, 0.18063882, 0.17940082, 0.17855816, 0.17765516, 0.17706874, 0.17615645, 0.17544416, 0.17502637, 0.1743124, 0.1738201, 0.17340168, 0.1730286, 0.17269807, 0.17236184, 0.17195539, 0.17220947, 0.1715986, 0.17113341, 0.17081967, 0.17060843, 0.17033364, 0.17012298, 0.16996475, 0.16975059, 0.16994648, 0.16961749]\n",
      "[0.027921457, 0.027582001, 0.02740372, 0.027104314, 0.026749931, 0.026493577, 0.0262918, 0.0261162, 0.026001034, 0.025879305, 0.025750345, 0.025667513, 0.025594415, 0.02553885, 0.025469895, 0.025429683, 0.025395403, 0.025348425, 0.025304137, 0.025273623, 0.025251215, 0.025233207, 0.025212321, 0.025171805, 0.025166368, 0.025147596, 0.02514106, 0.025109563, 0.025085667, 0.025075257, 0.025046257, 0.02502526, 0.025023831, 0.02499818, 0.024978664, 0.024962502, 0.024943724, 0.024935214, 0.024919365, 0.024914978, 0.024901055, 0.024883758, 0.02487011]\n"
     ]
    },
    {
     "name": "stderr",
     "output_type": "stream",
     "text": [
      "                                                                                                                                                                              \r"
     ]
    },
    {
     "name": "stdout",
     "output_type": "stream",
     "text": [
      "Epoch 44, total_loss=0.2355, reg_loss = 0.0702\n",
      "   87.59 s in train({'n_hidden_rhs': [], '..., ConditionalAutoEncoder..., cuda, <torch.utils.data.data..., AdamW ( Parameter Grou..., MSELoss(), 44, max_norm=100)\n",
      "   41.87 s in test({'n_hidden_rhs': [], '..., ConditionalAutoEncoder..., cuda, <torch.utils.data.data..., MSELoss())\n",
      "    9.91 s in test({'n_hidden_rhs': [], '..., ConditionalAutoEncoder..., cuda, <torch.utils.data.data..., MSELoss())\n",
      "Train MSE: 0.16912955\n",
      "Valid MSE: 0.024862083\n",
      "Next Learning Rate: 0.001\n",
      "[4.705526, 0.5553778, 0.30084786, 0.2520422, 0.23350568, 0.22178644, 0.21297133, 0.20657296, 0.20128615, 0.19685602, 0.19369496, 0.19091627, 0.18821137, 0.18617025, 0.18436481, 0.18282084, 0.18164688, 0.18063882, 0.17940082, 0.17855816, 0.17765516, 0.17706874, 0.17615645, 0.17544416, 0.17502637, 0.1743124, 0.1738201, 0.17340168, 0.1730286, 0.17269807, 0.17236184, 0.17195539, 0.17220947, 0.1715986, 0.17113341, 0.17081967, 0.17060843, 0.17033364, 0.17012298, 0.16996475, 0.16975059, 0.16994648, 0.16961749, 0.16943279]\n",
      "[0.027921457, 0.027582001, 0.02740372, 0.027104314, 0.026749931, 0.026493577, 0.0262918, 0.0261162, 0.026001034, 0.025879305, 0.025750345, 0.025667513, 0.025594415, 0.02553885, 0.025469895, 0.025429683, 0.025395403, 0.025348425, 0.025304137, 0.025273623, 0.025251215, 0.025233207, 0.025212321, 0.025171805, 0.025166368, 0.025147596, 0.02514106, 0.025109563, 0.025085667, 0.025075257, 0.025046257, 0.02502526, 0.025023831, 0.02499818, 0.024978664, 0.024962502, 0.024943724, 0.024935214, 0.024919365, 0.024914978, 0.024901055, 0.024883758, 0.02487011, 0.02486446]\n"
     ]
    },
    {
     "name": "stderr",
     "output_type": "stream",
     "text": [
      "                                                                                                                                                                              \r"
     ]
    },
    {
     "name": "stdout",
     "output_type": "stream",
     "text": [
      "Epoch 45, total_loss=0.2341, reg_loss = 0.0699\n",
      "   87.56 s in train({'n_hidden_rhs': [], '..., ConditionalAutoEncoder..., cuda, <torch.utils.data.data..., AdamW ( Parameter Grou..., MSELoss(), 45, max_norm=100)\n",
      "   41.52 s in test({'n_hidden_rhs': [], '..., ConditionalAutoEncoder..., cuda, <torch.utils.data.data..., MSELoss())\n",
      "    8.96 s in test({'n_hidden_rhs': [], '..., ConditionalAutoEncoder..., cuda, <torch.utils.data.data..., MSELoss())\n",
      "Train MSE: 0.1689406\n",
      "Valid MSE: 0.024851466\n",
      "Next Learning Rate: 0.001\n",
      "[4.705526, 0.5553778, 0.30084786, 0.2520422, 0.23350568, 0.22178644, 0.21297133, 0.20657296, 0.20128615, 0.19685602, 0.19369496, 0.19091627, 0.18821137, 0.18617025, 0.18436481, 0.18282084, 0.18164688, 0.18063882, 0.17940082, 0.17855816, 0.17765516, 0.17706874, 0.17615645, 0.17544416, 0.17502637, 0.1743124, 0.1738201, 0.17340168, 0.1730286, 0.17269807, 0.17236184, 0.17195539, 0.17220947, 0.1715986, 0.17113341, 0.17081967, 0.17060843, 0.17033364, 0.17012298, 0.16996475, 0.16975059, 0.16994648, 0.16961749, 0.16943279, 0.16912955]\n",
      "[0.027921457, 0.027582001, 0.02740372, 0.027104314, 0.026749931, 0.026493577, 0.0262918, 0.0261162, 0.026001034, 0.025879305, 0.025750345, 0.025667513, 0.025594415, 0.02553885, 0.025469895, 0.025429683, 0.025395403, 0.025348425, 0.025304137, 0.025273623, 0.025251215, 0.025233207, 0.025212321, 0.025171805, 0.025166368, 0.025147596, 0.02514106, 0.025109563, 0.025085667, 0.025075257, 0.025046257, 0.02502526, 0.025023831, 0.02499818, 0.024978664, 0.024962502, 0.024943724, 0.024935214, 0.024919365, 0.024914978, 0.024901055, 0.024883758, 0.02487011, 0.02486446, 0.024862083]\n"
     ]
    },
    {
     "name": "stderr",
     "output_type": "stream",
     "text": [
      "                                                                                                                                                                              \r"
     ]
    },
    {
     "name": "stdout",
     "output_type": "stream",
     "text": [
      "Epoch 46, total_loss=0.2355, reg_loss = 0.0696\n",
      "   86.54 s in train({'n_hidden_rhs': [], '..., ConditionalAutoEncoder..., cuda, <torch.utils.data.data..., AdamW ( Parameter Grou..., MSELoss(), 46, max_norm=100)\n",
      "   41.28 s in test({'n_hidden_rhs': [], '..., ConditionalAutoEncoder..., cuda, <torch.utils.data.data..., MSELoss())\n",
      "    9.07 s in test({'n_hidden_rhs': [], '..., ConditionalAutoEncoder..., cuda, <torch.utils.data.data..., MSELoss())\n",
      "Train MSE: 0.16879079\n",
      "Valid MSE: 0.024837036\n",
      "Next Learning Rate: 0.001\n",
      "[4.705526, 0.5553778, 0.30084786, 0.2520422, 0.23350568, 0.22178644, 0.21297133, 0.20657296, 0.20128615, 0.19685602, 0.19369496, 0.19091627, 0.18821137, 0.18617025, 0.18436481, 0.18282084, 0.18164688, 0.18063882, 0.17940082, 0.17855816, 0.17765516, 0.17706874, 0.17615645, 0.17544416, 0.17502637, 0.1743124, 0.1738201, 0.17340168, 0.1730286, 0.17269807, 0.17236184, 0.17195539, 0.17220947, 0.1715986, 0.17113341, 0.17081967, 0.17060843, 0.17033364, 0.17012298, 0.16996475, 0.16975059, 0.16994648, 0.16961749, 0.16943279, 0.16912955, 0.1689406]\n",
      "[0.027921457, 0.027582001, 0.02740372, 0.027104314, 0.026749931, 0.026493577, 0.0262918, 0.0261162, 0.026001034, 0.025879305, 0.025750345, 0.025667513, 0.025594415, 0.02553885, 0.025469895, 0.025429683, 0.025395403, 0.025348425, 0.025304137, 0.025273623, 0.025251215, 0.025233207, 0.025212321, 0.025171805, 0.025166368, 0.025147596, 0.02514106, 0.025109563, 0.025085667, 0.025075257, 0.025046257, 0.02502526, 0.025023831, 0.02499818, 0.024978664, 0.024962502, 0.024943724, 0.024935214, 0.024919365, 0.024914978, 0.024901055, 0.024883758, 0.02487011, 0.02486446, 0.024862083, 0.024851466]\n"
     ]
    },
    {
     "name": "stderr",
     "output_type": "stream",
     "text": [
      "                                                                                                                                                                              \r"
     ]
    },
    {
     "name": "stdout",
     "output_type": "stream",
     "text": [
      "Epoch 47, total_loss=0.2312, reg_loss = 0.0693\n",
      "   86.84 s in train({'n_hidden_rhs': [], '..., ConditionalAutoEncoder..., cuda, <torch.utils.data.data..., AdamW ( Parameter Grou..., MSELoss(), 47, max_norm=100)\n",
      "   41.78 s in test({'n_hidden_rhs': [], '..., ConditionalAutoEncoder..., cuda, <torch.utils.data.data..., MSELoss())\n",
      "    9.68 s in test({'n_hidden_rhs': [], '..., ConditionalAutoEncoder..., cuda, <torch.utils.data.data..., MSELoss())\n",
      "Train MSE: 0.16874988\n",
      "Valid MSE: 0.024833387\n",
      "Next Learning Rate: 0.001\n",
      "[4.705526, 0.5553778, 0.30084786, 0.2520422, 0.23350568, 0.22178644, 0.21297133, 0.20657296, 0.20128615, 0.19685602, 0.19369496, 0.19091627, 0.18821137, 0.18617025, 0.18436481, 0.18282084, 0.18164688, 0.18063882, 0.17940082, 0.17855816, 0.17765516, 0.17706874, 0.17615645, 0.17544416, 0.17502637, 0.1743124, 0.1738201, 0.17340168, 0.1730286, 0.17269807, 0.17236184, 0.17195539, 0.17220947, 0.1715986, 0.17113341, 0.17081967, 0.17060843, 0.17033364, 0.17012298, 0.16996475, 0.16975059, 0.16994648, 0.16961749, 0.16943279, 0.16912955, 0.1689406, 0.16879079]\n",
      "[0.027921457, 0.027582001, 0.02740372, 0.027104314, 0.026749931, 0.026493577, 0.0262918, 0.0261162, 0.026001034, 0.025879305, 0.025750345, 0.025667513, 0.025594415, 0.02553885, 0.025469895, 0.025429683, 0.025395403, 0.025348425, 0.025304137, 0.025273623, 0.025251215, 0.025233207, 0.025212321, 0.025171805, 0.025166368, 0.025147596, 0.02514106, 0.025109563, 0.025085667, 0.025075257, 0.025046257, 0.02502526, 0.025023831, 0.02499818, 0.024978664, 0.024962502, 0.024943724, 0.024935214, 0.024919365, 0.024914978, 0.024901055, 0.024883758, 0.02487011, 0.02486446, 0.024862083, 0.024851466, 0.024837036]\n"
     ]
    },
    {
     "name": "stderr",
     "output_type": "stream",
     "text": [
      "                                                                                                                                                                              \r"
     ]
    },
    {
     "name": "stdout",
     "output_type": "stream",
     "text": [
      "Epoch 48, total_loss=0.2589, reg_loss = 0.0690\n",
      "   86.89 s in train({'n_hidden_rhs': [], '..., ConditionalAutoEncoder..., cuda, <torch.utils.data.data..., AdamW ( Parameter Grou..., MSELoss(), 48, max_norm=100)\n",
      "   41.51 s in test({'n_hidden_rhs': [], '..., ConditionalAutoEncoder..., cuda, <torch.utils.data.data..., MSELoss())\n",
      "    8.77 s in test({'n_hidden_rhs': [], '..., ConditionalAutoEncoder..., cuda, <torch.utils.data.data..., MSELoss())\n",
      "Train MSE: 0.16875245\n",
      "Valid MSE: 0.024820067\n",
      "Next Learning Rate: 0.001\n",
      "[4.705526, 0.5553778, 0.30084786, 0.2520422, 0.23350568, 0.22178644, 0.21297133, 0.20657296, 0.20128615, 0.19685602, 0.19369496, 0.19091627, 0.18821137, 0.18617025, 0.18436481, 0.18282084, 0.18164688, 0.18063882, 0.17940082, 0.17855816, 0.17765516, 0.17706874, 0.17615645, 0.17544416, 0.17502637, 0.1743124, 0.1738201, 0.17340168, 0.1730286, 0.17269807, 0.17236184, 0.17195539, 0.17220947, 0.1715986, 0.17113341, 0.17081967, 0.17060843, 0.17033364, 0.17012298, 0.16996475, 0.16975059, 0.16994648, 0.16961749, 0.16943279, 0.16912955, 0.1689406, 0.16879079, 0.16874988]\n",
      "[0.027921457, 0.027582001, 0.02740372, 0.027104314, 0.026749931, 0.026493577, 0.0262918, 0.0261162, 0.026001034, 0.025879305, 0.025750345, 0.025667513, 0.025594415, 0.02553885, 0.025469895, 0.025429683, 0.025395403, 0.025348425, 0.025304137, 0.025273623, 0.025251215, 0.025233207, 0.025212321, 0.025171805, 0.025166368, 0.025147596, 0.02514106, 0.025109563, 0.025085667, 0.025075257, 0.025046257, 0.02502526, 0.025023831, 0.02499818, 0.024978664, 0.024962502, 0.024943724, 0.024935214, 0.024919365, 0.024914978, 0.024901055, 0.024883758, 0.02487011, 0.02486446, 0.024862083, 0.024851466, 0.024837036, 0.024833387]\n"
     ]
    },
    {
     "name": "stderr",
     "output_type": "stream",
     "text": [
      "                                                                                                                                                                              \r"
     ]
    },
    {
     "name": "stdout",
     "output_type": "stream",
     "text": [
      "Epoch 49, total_loss=0.2325, reg_loss = 0.0687\n",
      "   87.07 s in train({'n_hidden_rhs': [], '..., ConditionalAutoEncoder..., cuda, <torch.utils.data.data..., AdamW ( Parameter Grou..., MSELoss(), 49, max_norm=100)\n",
      "   41.54 s in test({'n_hidden_rhs': [], '..., ConditionalAutoEncoder..., cuda, <torch.utils.data.data..., MSELoss())\n",
      "    9.25 s in test({'n_hidden_rhs': [], '..., ConditionalAutoEncoder..., cuda, <torch.utils.data.data..., MSELoss())\n",
      "Train MSE: 0.16843772\n",
      "Valid MSE: 0.024823565\n",
      "Next Learning Rate: 0.001\n",
      "[4.705526, 0.5553778, 0.30084786, 0.2520422, 0.23350568, 0.22178644, 0.21297133, 0.20657296, 0.20128615, 0.19685602, 0.19369496, 0.19091627, 0.18821137, 0.18617025, 0.18436481, 0.18282084, 0.18164688, 0.18063882, 0.17940082, 0.17855816, 0.17765516, 0.17706874, 0.17615645, 0.17544416, 0.17502637, 0.1743124, 0.1738201, 0.17340168, 0.1730286, 0.17269807, 0.17236184, 0.17195539, 0.17220947, 0.1715986, 0.17113341, 0.17081967, 0.17060843, 0.17033364, 0.17012298, 0.16996475, 0.16975059, 0.16994648, 0.16961749, 0.16943279, 0.16912955, 0.1689406, 0.16879079, 0.16874988, 0.16875245]\n",
      "[0.027921457, 0.027582001, 0.02740372, 0.027104314, 0.026749931, 0.026493577, 0.0262918, 0.0261162, 0.026001034, 0.025879305, 0.025750345, 0.025667513, 0.025594415, 0.02553885, 0.025469895, 0.025429683, 0.025395403, 0.025348425, 0.025304137, 0.025273623, 0.025251215, 0.025233207, 0.025212321, 0.025171805, 0.025166368, 0.025147596, 0.02514106, 0.025109563, 0.025085667, 0.025075257, 0.025046257, 0.02502526, 0.025023831, 0.02499818, 0.024978664, 0.024962502, 0.024943724, 0.024935214, 0.024919365, 0.024914978, 0.024901055, 0.024883758, 0.02487011, 0.02486446, 0.024862083, 0.024851466, 0.024837036, 0.024833387, 0.024820067]\n"
     ]
    },
    {
     "name": "stderr",
     "output_type": "stream",
     "text": [
      "                                                                                                                                                                              \r"
     ]
    },
    {
     "name": "stdout",
     "output_type": "stream",
     "text": [
      "Epoch 50, total_loss=0.2339, reg_loss = 0.0684\n",
      "   87.18 s in train({'n_hidden_rhs': [], '..., ConditionalAutoEncoder..., cuda, <torch.utils.data.data..., AdamW ( Parameter Grou..., MSELoss(), 50, max_norm=100)\n",
      "   41.27 s in test({'n_hidden_rhs': [], '..., ConditionalAutoEncoder..., cuda, <torch.utils.data.data..., MSELoss())\n",
      "    8.99 s in test({'n_hidden_rhs': [], '..., ConditionalAutoEncoder..., cuda, <torch.utils.data.data..., MSELoss())\n",
      "Train MSE: 0.1707741\n",
      "Valid MSE: 0.024797224\n",
      "Next Learning Rate: 0.001\n",
      "[4.705526, 0.5553778, 0.30084786, 0.2520422, 0.23350568, 0.22178644, 0.21297133, 0.20657296, 0.20128615, 0.19685602, 0.19369496, 0.19091627, 0.18821137, 0.18617025, 0.18436481, 0.18282084, 0.18164688, 0.18063882, 0.17940082, 0.17855816, 0.17765516, 0.17706874, 0.17615645, 0.17544416, 0.17502637, 0.1743124, 0.1738201, 0.17340168, 0.1730286, 0.17269807, 0.17236184, 0.17195539, 0.17220947, 0.1715986, 0.17113341, 0.17081967, 0.17060843, 0.17033364, 0.17012298, 0.16996475, 0.16975059, 0.16994648, 0.16961749, 0.16943279, 0.16912955, 0.1689406, 0.16879079, 0.16874988, 0.16875245, 0.16843772]\n",
      "[0.027921457, 0.027582001, 0.02740372, 0.027104314, 0.026749931, 0.026493577, 0.0262918, 0.0261162, 0.026001034, 0.025879305, 0.025750345, 0.025667513, 0.025594415, 0.02553885, 0.025469895, 0.025429683, 0.025395403, 0.025348425, 0.025304137, 0.025273623, 0.025251215, 0.025233207, 0.025212321, 0.025171805, 0.025166368, 0.025147596, 0.02514106, 0.025109563, 0.025085667, 0.025075257, 0.025046257, 0.02502526, 0.025023831, 0.02499818, 0.024978664, 0.024962502, 0.024943724, 0.024935214, 0.024919365, 0.024914978, 0.024901055, 0.024883758, 0.02487011, 0.02486446, 0.024862083, 0.024851466, 0.024837036, 0.024833387, 0.024820067, 0.024823565]\n"
     ]
    },
    {
     "name": "stderr",
     "output_type": "stream",
     "text": [
      "                                                                                                                                                                              \r"
     ]
    },
    {
     "name": "stdout",
     "output_type": "stream",
     "text": [
      "Epoch 51, total_loss=0.2341, reg_loss = 0.0682\n",
      "   86.54 s in train({'n_hidden_rhs': [], '..., ConditionalAutoEncoder..., cuda, <torch.utils.data.data..., AdamW ( Parameter Grou..., MSELoss(), 51, max_norm=100)\n",
      "   42.46 s in test({'n_hidden_rhs': [], '..., ConditionalAutoEncoder..., cuda, <torch.utils.data.data..., MSELoss())\n",
      "    8.72 s in test({'n_hidden_rhs': [], '..., ConditionalAutoEncoder..., cuda, <torch.utils.data.data..., MSELoss())\n",
      "Train MSE: 0.18649083\n",
      "Valid MSE: 0.02478424\n",
      "Next Learning Rate: 0.001\n",
      "[4.705526, 0.5553778, 0.30084786, 0.2520422, 0.23350568, 0.22178644, 0.21297133, 0.20657296, 0.20128615, 0.19685602, 0.19369496, 0.19091627, 0.18821137, 0.18617025, 0.18436481, 0.18282084, 0.18164688, 0.18063882, 0.17940082, 0.17855816, 0.17765516, 0.17706874, 0.17615645, 0.17544416, 0.17502637, 0.1743124, 0.1738201, 0.17340168, 0.1730286, 0.17269807, 0.17236184, 0.17195539, 0.17220947, 0.1715986, 0.17113341, 0.17081967, 0.17060843, 0.17033364, 0.17012298, 0.16996475, 0.16975059, 0.16994648, 0.16961749, 0.16943279, 0.16912955, 0.1689406, 0.16879079, 0.16874988, 0.16875245, 0.16843772, 0.1707741]\n",
      "[0.027921457, 0.027582001, 0.02740372, 0.027104314, 0.026749931, 0.026493577, 0.0262918, 0.0261162, 0.026001034, 0.025879305, 0.025750345, 0.025667513, 0.025594415, 0.02553885, 0.025469895, 0.025429683, 0.025395403, 0.025348425, 0.025304137, 0.025273623, 0.025251215, 0.025233207, 0.025212321, 0.025171805, 0.025166368, 0.025147596, 0.02514106, 0.025109563, 0.025085667, 0.025075257, 0.025046257, 0.02502526, 0.025023831, 0.02499818, 0.024978664, 0.024962502, 0.024943724, 0.024935214, 0.024919365, 0.024914978, 0.024901055, 0.024883758, 0.02487011, 0.02486446, 0.024862083, 0.024851466, 0.024837036, 0.024833387, 0.024820067, 0.024823565, 0.024797224]\n"
     ]
    },
    {
     "name": "stderr",
     "output_type": "stream",
     "text": [
      "                                                                                                                                                                              \r"
     ]
    },
    {
     "name": "stdout",
     "output_type": "stream",
     "text": [
      "Epoch 52, total_loss=0.2455, reg_loss = 0.0679\n",
      "   86.84 s in train({'n_hidden_rhs': [], '..., ConditionalAutoEncoder..., cuda, <torch.utils.data.data..., AdamW ( Parameter Grou..., MSELoss(), 52, max_norm=100)\n",
      "   41.18 s in test({'n_hidden_rhs': [], '..., ConditionalAutoEncoder..., cuda, <torch.utils.data.data..., MSELoss())\n",
      "    9.45 s in test({'n_hidden_rhs': [], '..., ConditionalAutoEncoder..., cuda, <torch.utils.data.data..., MSELoss())\n",
      "Train MSE: 0.1797708\n",
      "Valid MSE: 0.024780054\n",
      "Next Learning Rate: 0.001\n",
      "[4.705526, 0.5553778, 0.30084786, 0.2520422, 0.23350568, 0.22178644, 0.21297133, 0.20657296, 0.20128615, 0.19685602, 0.19369496, 0.19091627, 0.18821137, 0.18617025, 0.18436481, 0.18282084, 0.18164688, 0.18063882, 0.17940082, 0.17855816, 0.17765516, 0.17706874, 0.17615645, 0.17544416, 0.17502637, 0.1743124, 0.1738201, 0.17340168, 0.1730286, 0.17269807, 0.17236184, 0.17195539, 0.17220947, 0.1715986, 0.17113341, 0.17081967, 0.17060843, 0.17033364, 0.17012298, 0.16996475, 0.16975059, 0.16994648, 0.16961749, 0.16943279, 0.16912955, 0.1689406, 0.16879079, 0.16874988, 0.16875245, 0.16843772, 0.1707741, 0.18649083]\n",
      "[0.027921457, 0.027582001, 0.02740372, 0.027104314, 0.026749931, 0.026493577, 0.0262918, 0.0261162, 0.026001034, 0.025879305, 0.025750345, 0.025667513, 0.025594415, 0.02553885, 0.025469895, 0.025429683, 0.025395403, 0.025348425, 0.025304137, 0.025273623, 0.025251215, 0.025233207, 0.025212321, 0.025171805, 0.025166368, 0.025147596, 0.02514106, 0.025109563, 0.025085667, 0.025075257, 0.025046257, 0.02502526, 0.025023831, 0.02499818, 0.024978664, 0.024962502, 0.024943724, 0.024935214, 0.024919365, 0.024914978, 0.024901055, 0.024883758, 0.02487011, 0.02486446, 0.024862083, 0.024851466, 0.024837036, 0.024833387, 0.024820067, 0.024823565, 0.024797224, 0.02478424]\n"
     ]
    },
    {
     "name": "stderr",
     "output_type": "stream",
     "text": [
      "                                                                                                                                                                              \r"
     ]
    },
    {
     "name": "stdout",
     "output_type": "stream",
     "text": [
      "Epoch 53, total_loss=0.2431, reg_loss = 0.0676\n",
      "   87.44 s in train({'n_hidden_rhs': [], '..., ConditionalAutoEncoder..., cuda, <torch.utils.data.data..., AdamW ( Parameter Grou..., MSELoss(), 53, max_norm=100)\n",
      "   41.25 s in test({'n_hidden_rhs': [], '..., ConditionalAutoEncoder..., cuda, <torch.utils.data.data..., MSELoss())\n",
      "    9.46 s in test({'n_hidden_rhs': [], '..., ConditionalAutoEncoder..., cuda, <torch.utils.data.data..., MSELoss())\n",
      "Train MSE: 0.17301807\n",
      "Valid MSE: 0.024771133\n",
      "Next Learning Rate: 0.001\n",
      "[4.705526, 0.5553778, 0.30084786, 0.2520422, 0.23350568, 0.22178644, 0.21297133, 0.20657296, 0.20128615, 0.19685602, 0.19369496, 0.19091627, 0.18821137, 0.18617025, 0.18436481, 0.18282084, 0.18164688, 0.18063882, 0.17940082, 0.17855816, 0.17765516, 0.17706874, 0.17615645, 0.17544416, 0.17502637, 0.1743124, 0.1738201, 0.17340168, 0.1730286, 0.17269807, 0.17236184, 0.17195539, 0.17220947, 0.1715986, 0.17113341, 0.17081967, 0.17060843, 0.17033364, 0.17012298, 0.16996475, 0.16975059, 0.16994648, 0.16961749, 0.16943279, 0.16912955, 0.1689406, 0.16879079, 0.16874988, 0.16875245, 0.16843772, 0.1707741, 0.18649083, 0.1797708]\n",
      "[0.027921457, 0.027582001, 0.02740372, 0.027104314, 0.026749931, 0.026493577, 0.0262918, 0.0261162, 0.026001034, 0.025879305, 0.025750345, 0.025667513, 0.025594415, 0.02553885, 0.025469895, 0.025429683, 0.025395403, 0.025348425, 0.025304137, 0.025273623, 0.025251215, 0.025233207, 0.025212321, 0.025171805, 0.025166368, 0.025147596, 0.02514106, 0.025109563, 0.025085667, 0.025075257, 0.025046257, 0.02502526, 0.025023831, 0.02499818, 0.024978664, 0.024962502, 0.024943724, 0.024935214, 0.024919365, 0.024914978, 0.024901055, 0.024883758, 0.02487011, 0.02486446, 0.024862083, 0.024851466, 0.024837036, 0.024833387, 0.024820067, 0.024823565, 0.024797224, 0.02478424, 0.024780054]\n"
     ]
    },
    {
     "name": "stderr",
     "output_type": "stream",
     "text": [
      "                                                                                                                                                                              \r"
     ]
    },
    {
     "name": "stdout",
     "output_type": "stream",
     "text": [
      "Epoch 54, total_loss=0.2326, reg_loss = 0.0673\n",
      "   86.87 s in train({'n_hidden_rhs': [], '..., ConditionalAutoEncoder..., cuda, <torch.utils.data.data..., AdamW ( Parameter Grou..., MSELoss(), 54, max_norm=100)\n",
      "   41.07 s in test({'n_hidden_rhs': [], '..., ConditionalAutoEncoder..., cuda, <torch.utils.data.data..., MSELoss())\n",
      "    9.04 s in test({'n_hidden_rhs': [], '..., ConditionalAutoEncoder..., cuda, <torch.utils.data.data..., MSELoss())\n",
      "Train MSE: 0.1679662\n",
      "Valid MSE: 0.02477094\n",
      "Next Learning Rate: 0.001\n",
      "[4.705526, 0.5553778, 0.30084786, 0.2520422, 0.23350568, 0.22178644, 0.21297133, 0.20657296, 0.20128615, 0.19685602, 0.19369496, 0.19091627, 0.18821137, 0.18617025, 0.18436481, 0.18282084, 0.18164688, 0.18063882, 0.17940082, 0.17855816, 0.17765516, 0.17706874, 0.17615645, 0.17544416, 0.17502637, 0.1743124, 0.1738201, 0.17340168, 0.1730286, 0.17269807, 0.17236184, 0.17195539, 0.17220947, 0.1715986, 0.17113341, 0.17081967, 0.17060843, 0.17033364, 0.17012298, 0.16996475, 0.16975059, 0.16994648, 0.16961749, 0.16943279, 0.16912955, 0.1689406, 0.16879079, 0.16874988, 0.16875245, 0.16843772, 0.1707741, 0.18649083, 0.1797708, 0.17301807]\n",
      "[0.027921457, 0.027582001, 0.02740372, 0.027104314, 0.026749931, 0.026493577, 0.0262918, 0.0261162, 0.026001034, 0.025879305, 0.025750345, 0.025667513, 0.025594415, 0.02553885, 0.025469895, 0.025429683, 0.025395403, 0.025348425, 0.025304137, 0.025273623, 0.025251215, 0.025233207, 0.025212321, 0.025171805, 0.025166368, 0.025147596, 0.02514106, 0.025109563, 0.025085667, 0.025075257, 0.025046257, 0.02502526, 0.025023831, 0.02499818, 0.024978664, 0.024962502, 0.024943724, 0.024935214, 0.024919365, 0.024914978, 0.024901055, 0.024883758, 0.02487011, 0.02486446, 0.024862083, 0.024851466, 0.024837036, 0.024833387, 0.024820067, 0.024823565, 0.024797224, 0.02478424, 0.024780054, 0.024771133]\n"
     ]
    },
    {
     "name": "stderr",
     "output_type": "stream",
     "text": [
      "                                                                                                                                                                              \r"
     ]
    },
    {
     "name": "stdout",
     "output_type": "stream",
     "text": [
      "Epoch 55, total_loss=0.2342, reg_loss = 0.0669\n",
      "   86.28 s in train({'n_hidden_rhs': [], '..., ConditionalAutoEncoder..., cuda, <torch.utils.data.data..., AdamW ( Parameter Grou..., MSELoss(), 55, max_norm=100)\n",
      "   41.85 s in test({'n_hidden_rhs': [], '..., ConditionalAutoEncoder..., cuda, <torch.utils.data.data..., MSELoss())\n",
      "    8.89 s in test({'n_hidden_rhs': [], '..., ConditionalAutoEncoder..., cuda, <torch.utils.data.data..., MSELoss())\n",
      "Train MSE: 0.16790055\n",
      "Valid MSE: 0.02476342\n",
      "Next Learning Rate: 0.001\n",
      "[4.705526, 0.5553778, 0.30084786, 0.2520422, 0.23350568, 0.22178644, 0.21297133, 0.20657296, 0.20128615, 0.19685602, 0.19369496, 0.19091627, 0.18821137, 0.18617025, 0.18436481, 0.18282084, 0.18164688, 0.18063882, 0.17940082, 0.17855816, 0.17765516, 0.17706874, 0.17615645, 0.17544416, 0.17502637, 0.1743124, 0.1738201, 0.17340168, 0.1730286, 0.17269807, 0.17236184, 0.17195539, 0.17220947, 0.1715986, 0.17113341, 0.17081967, 0.17060843, 0.17033364, 0.17012298, 0.16996475, 0.16975059, 0.16994648, 0.16961749, 0.16943279, 0.16912955, 0.1689406, 0.16879079, 0.16874988, 0.16875245, 0.16843772, 0.1707741, 0.18649083, 0.1797708, 0.17301807, 0.1679662]\n",
      "[0.027921457, 0.027582001, 0.02740372, 0.027104314, 0.026749931, 0.026493577, 0.0262918, 0.0261162, 0.026001034, 0.025879305, 0.025750345, 0.025667513, 0.025594415, 0.02553885, 0.025469895, 0.025429683, 0.025395403, 0.025348425, 0.025304137, 0.025273623, 0.025251215, 0.025233207, 0.025212321, 0.025171805, 0.025166368, 0.025147596, 0.02514106, 0.025109563, 0.025085667, 0.025075257, 0.025046257, 0.02502526, 0.025023831, 0.02499818, 0.024978664, 0.024962502, 0.024943724, 0.024935214, 0.024919365, 0.024914978, 0.024901055, 0.024883758, 0.02487011, 0.02486446, 0.024862083, 0.024851466, 0.024837036, 0.024833387, 0.024820067, 0.024823565, 0.024797224, 0.02478424, 0.024780054, 0.024771133, 0.02477094]\n"
     ]
    },
    {
     "name": "stderr",
     "output_type": "stream",
     "text": [
      "                                                                                                                                                                              \r"
     ]
    },
    {
     "name": "stdout",
     "output_type": "stream",
     "text": [
      "Epoch 56, total_loss=0.2274, reg_loss = 0.0666\n",
      "   84.88 s in train({'n_hidden_rhs': [], '..., ConditionalAutoEncoder..., cuda, <torch.utils.data.data..., AdamW ( Parameter Grou..., MSELoss(), 56, max_norm=100)\n",
      "   41.77 s in test({'n_hidden_rhs': [], '..., ConditionalAutoEncoder..., cuda, <torch.utils.data.data..., MSELoss())\n",
      "    8.25 s in test({'n_hidden_rhs': [], '..., ConditionalAutoEncoder..., cuda, <torch.utils.data.data..., MSELoss())\n",
      "Train MSE: 0.16775505\n",
      "Valid MSE: 0.024764292\n",
      "Next Learning Rate: 0.001\n",
      "[4.705526, 0.5553778, 0.30084786, 0.2520422, 0.23350568, 0.22178644, 0.21297133, 0.20657296, 0.20128615, 0.19685602, 0.19369496, 0.19091627, 0.18821137, 0.18617025, 0.18436481, 0.18282084, 0.18164688, 0.18063882, 0.17940082, 0.17855816, 0.17765516, 0.17706874, 0.17615645, 0.17544416, 0.17502637, 0.1743124, 0.1738201, 0.17340168, 0.1730286, 0.17269807, 0.17236184, 0.17195539, 0.17220947, 0.1715986, 0.17113341, 0.17081967, 0.17060843, 0.17033364, 0.17012298, 0.16996475, 0.16975059, 0.16994648, 0.16961749, 0.16943279, 0.16912955, 0.1689406, 0.16879079, 0.16874988, 0.16875245, 0.16843772, 0.1707741, 0.18649083, 0.1797708, 0.17301807, 0.1679662, 0.16790055]\n",
      "[0.027921457, 0.027582001, 0.02740372, 0.027104314, 0.026749931, 0.026493577, 0.0262918, 0.0261162, 0.026001034, 0.025879305, 0.025750345, 0.025667513, 0.025594415, 0.02553885, 0.025469895, 0.025429683, 0.025395403, 0.025348425, 0.025304137, 0.025273623, 0.025251215, 0.025233207, 0.025212321, 0.025171805, 0.025166368, 0.025147596, 0.02514106, 0.025109563, 0.025085667, 0.025075257, 0.025046257, 0.02502526, 0.025023831, 0.02499818, 0.024978664, 0.024962502, 0.024943724, 0.024935214, 0.024919365, 0.024914978, 0.024901055, 0.024883758, 0.02487011, 0.02486446, 0.024862083, 0.024851466, 0.024837036, 0.024833387, 0.024820067, 0.024823565, 0.024797224, 0.02478424, 0.024780054, 0.024771133, 0.02477094, 0.02476342]\n"
     ]
    },
    {
     "name": "stderr",
     "output_type": "stream",
     "text": [
      "                                                                                                                                                                              \r"
     ]
    },
    {
     "name": "stdout",
     "output_type": "stream",
     "text": [
      "Epoch 57, total_loss=0.2283, reg_loss = 0.0663\n",
      "   86.83 s in train({'n_hidden_rhs': [], '..., ConditionalAutoEncoder..., cuda, <torch.utils.data.data..., AdamW ( Parameter Grou..., MSELoss(), 57, max_norm=100)\n",
      "   41.26 s in test({'n_hidden_rhs': [], '..., ConditionalAutoEncoder..., cuda, <torch.utils.data.data..., MSELoss())\n",
      "    8.41 s in test({'n_hidden_rhs': [], '..., ConditionalAutoEncoder..., cuda, <torch.utils.data.data..., MSELoss())\n",
      "Train MSE: 0.16793202\n",
      "Valid MSE: 0.024757782\n",
      "Next Learning Rate: 0.001\n",
      "[4.705526, 0.5553778, 0.30084786, 0.2520422, 0.23350568, 0.22178644, 0.21297133, 0.20657296, 0.20128615, 0.19685602, 0.19369496, 0.19091627, 0.18821137, 0.18617025, 0.18436481, 0.18282084, 0.18164688, 0.18063882, 0.17940082, 0.17855816, 0.17765516, 0.17706874, 0.17615645, 0.17544416, 0.17502637, 0.1743124, 0.1738201, 0.17340168, 0.1730286, 0.17269807, 0.17236184, 0.17195539, 0.17220947, 0.1715986, 0.17113341, 0.17081967, 0.17060843, 0.17033364, 0.17012298, 0.16996475, 0.16975059, 0.16994648, 0.16961749, 0.16943279, 0.16912955, 0.1689406, 0.16879079, 0.16874988, 0.16875245, 0.16843772, 0.1707741, 0.18649083, 0.1797708, 0.17301807, 0.1679662, 0.16790055, 0.16775505]\n",
      "[0.027921457, 0.027582001, 0.02740372, 0.027104314, 0.026749931, 0.026493577, 0.0262918, 0.0261162, 0.026001034, 0.025879305, 0.025750345, 0.025667513, 0.025594415, 0.02553885, 0.025469895, 0.025429683, 0.025395403, 0.025348425, 0.025304137, 0.025273623, 0.025251215, 0.025233207, 0.025212321, 0.025171805, 0.025166368, 0.025147596, 0.02514106, 0.025109563, 0.025085667, 0.025075257, 0.025046257, 0.02502526, 0.025023831, 0.02499818, 0.024978664, 0.024962502, 0.024943724, 0.024935214, 0.024919365, 0.024914978, 0.024901055, 0.024883758, 0.02487011, 0.02486446, 0.024862083, 0.024851466, 0.024837036, 0.024833387, 0.024820067, 0.024823565, 0.024797224, 0.02478424, 0.024780054, 0.024771133, 0.02477094, 0.02476342, 0.024764292]\n"
     ]
    },
    {
     "name": "stderr",
     "output_type": "stream",
     "text": [
      "                                                                                                                                                                              \r"
     ]
    },
    {
     "name": "stdout",
     "output_type": "stream",
     "text": [
      "Epoch 58, total_loss=0.2255, reg_loss = 0.0660\n",
      "   86.11 s in train({'n_hidden_rhs': [], '..., ConditionalAutoEncoder..., cuda, <torch.utils.data.data..., AdamW ( Parameter Grou..., MSELoss(), 58, max_norm=100)\n",
      "   41.68 s in test({'n_hidden_rhs': [], '..., ConditionalAutoEncoder..., cuda, <torch.utils.data.data..., MSELoss())\n",
      "    8.61 s in test({'n_hidden_rhs': [], '..., ConditionalAutoEncoder..., cuda, <torch.utils.data.data..., MSELoss())\n",
      "Train MSE: 0.1676192\n",
      "Valid MSE: 0.02475058\n",
      "Next Learning Rate: 0.001\n",
      "[4.705526, 0.5553778, 0.30084786, 0.2520422, 0.23350568, 0.22178644, 0.21297133, 0.20657296, 0.20128615, 0.19685602, 0.19369496, 0.19091627, 0.18821137, 0.18617025, 0.18436481, 0.18282084, 0.18164688, 0.18063882, 0.17940082, 0.17855816, 0.17765516, 0.17706874, 0.17615645, 0.17544416, 0.17502637, 0.1743124, 0.1738201, 0.17340168, 0.1730286, 0.17269807, 0.17236184, 0.17195539, 0.17220947, 0.1715986, 0.17113341, 0.17081967, 0.17060843, 0.17033364, 0.17012298, 0.16996475, 0.16975059, 0.16994648, 0.16961749, 0.16943279, 0.16912955, 0.1689406, 0.16879079, 0.16874988, 0.16875245, 0.16843772, 0.1707741, 0.18649083, 0.1797708, 0.17301807, 0.1679662, 0.16790055, 0.16775505, 0.16793202]\n",
      "[0.027921457, 0.027582001, 0.02740372, 0.027104314, 0.026749931, 0.026493577, 0.0262918, 0.0261162, 0.026001034, 0.025879305, 0.025750345, 0.025667513, 0.025594415, 0.02553885, 0.025469895, 0.025429683, 0.025395403, 0.025348425, 0.025304137, 0.025273623, 0.025251215, 0.025233207, 0.025212321, 0.025171805, 0.025166368, 0.025147596, 0.02514106, 0.025109563, 0.025085667, 0.025075257, 0.025046257, 0.02502526, 0.025023831, 0.02499818, 0.024978664, 0.024962502, 0.024943724, 0.024935214, 0.024919365, 0.024914978, 0.024901055, 0.024883758, 0.02487011, 0.02486446, 0.024862083, 0.024851466, 0.024837036, 0.024833387, 0.024820067, 0.024823565, 0.024797224, 0.02478424, 0.024780054, 0.024771133, 0.02477094, 0.02476342, 0.024764292, 0.024757782]\n"
     ]
    },
    {
     "name": "stderr",
     "output_type": "stream",
     "text": [
      "                                                                                                                                                                              \r"
     ]
    },
    {
     "name": "stdout",
     "output_type": "stream",
     "text": [
      "Epoch 59, total_loss=0.2279, reg_loss = 0.0657\n",
      "   86.59 s in train({'n_hidden_rhs': [], '..., ConditionalAutoEncoder..., cuda, <torch.utils.data.data..., AdamW ( Parameter Grou..., MSELoss(), 59, max_norm=100)\n",
      "   41.19 s in test({'n_hidden_rhs': [], '..., ConditionalAutoEncoder..., cuda, <torch.utils.data.data..., MSELoss())\n",
      "    8.38 s in test({'n_hidden_rhs': [], '..., ConditionalAutoEncoder..., cuda, <torch.utils.data.data..., MSELoss())\n",
      "Train MSE: 0.16756259\n",
      "Valid MSE: 0.024745211\n",
      "Next Learning Rate: 0.001\n",
      "[4.705526, 0.5553778, 0.30084786, 0.2520422, 0.23350568, 0.22178644, 0.21297133, 0.20657296, 0.20128615, 0.19685602, 0.19369496, 0.19091627, 0.18821137, 0.18617025, 0.18436481, 0.18282084, 0.18164688, 0.18063882, 0.17940082, 0.17855816, 0.17765516, 0.17706874, 0.17615645, 0.17544416, 0.17502637, 0.1743124, 0.1738201, 0.17340168, 0.1730286, 0.17269807, 0.17236184, 0.17195539, 0.17220947, 0.1715986, 0.17113341, 0.17081967, 0.17060843, 0.17033364, 0.17012298, 0.16996475, 0.16975059, 0.16994648, 0.16961749, 0.16943279, 0.16912955, 0.1689406, 0.16879079, 0.16874988, 0.16875245, 0.16843772, 0.1707741, 0.18649083, 0.1797708, 0.17301807, 0.1679662, 0.16790055, 0.16775505, 0.16793202, 0.1676192]\n",
      "[0.027921457, 0.027582001, 0.02740372, 0.027104314, 0.026749931, 0.026493577, 0.0262918, 0.0261162, 0.026001034, 0.025879305, 0.025750345, 0.025667513, 0.025594415, 0.02553885, 0.025469895, 0.025429683, 0.025395403, 0.025348425, 0.025304137, 0.025273623, 0.025251215, 0.025233207, 0.025212321, 0.025171805, 0.025166368, 0.025147596, 0.02514106, 0.025109563, 0.025085667, 0.025075257, 0.025046257, 0.02502526, 0.025023831, 0.02499818, 0.024978664, 0.024962502, 0.024943724, 0.024935214, 0.024919365, 0.024914978, 0.024901055, 0.024883758, 0.02487011, 0.02486446, 0.024862083, 0.024851466, 0.024837036, 0.024833387, 0.024820067, 0.024823565, 0.024797224, 0.02478424, 0.024780054, 0.024771133, 0.02477094, 0.02476342, 0.024764292, 0.024757782, 0.02475058]\n"
     ]
    },
    {
     "name": "stderr",
     "output_type": "stream",
     "text": [
      "                                                                                                                                                                              \r"
     ]
    },
    {
     "name": "stdout",
     "output_type": "stream",
     "text": [
      "Epoch 60, total_loss=0.2250, reg_loss = 0.0655\n",
      "   87.84 s in train({'n_hidden_rhs': [], '..., ConditionalAutoEncoder..., cuda, <torch.utils.data.data..., AdamW ( Parameter Grou..., MSELoss(), 60, max_norm=100)\n",
      "   42.03 s in test({'n_hidden_rhs': [], '..., ConditionalAutoEncoder..., cuda, <torch.utils.data.data..., MSELoss())\n",
      "    8.90 s in test({'n_hidden_rhs': [], '..., ConditionalAutoEncoder..., cuda, <torch.utils.data.data..., MSELoss())\n",
      "Train MSE: 0.16762204\n",
      "Valid MSE: 0.024742717\n",
      "Next Learning Rate: 0.001\n",
      "[4.705526, 0.5553778, 0.30084786, 0.2520422, 0.23350568, 0.22178644, 0.21297133, 0.20657296, 0.20128615, 0.19685602, 0.19369496, 0.19091627, 0.18821137, 0.18617025, 0.18436481, 0.18282084, 0.18164688, 0.18063882, 0.17940082, 0.17855816, 0.17765516, 0.17706874, 0.17615645, 0.17544416, 0.17502637, 0.1743124, 0.1738201, 0.17340168, 0.1730286, 0.17269807, 0.17236184, 0.17195539, 0.17220947, 0.1715986, 0.17113341, 0.17081967, 0.17060843, 0.17033364, 0.17012298, 0.16996475, 0.16975059, 0.16994648, 0.16961749, 0.16943279, 0.16912955, 0.1689406, 0.16879079, 0.16874988, 0.16875245, 0.16843772, 0.1707741, 0.18649083, 0.1797708, 0.17301807, 0.1679662, 0.16790055, 0.16775505, 0.16793202, 0.1676192, 0.16756259]\n",
      "[0.027921457, 0.027582001, 0.02740372, 0.027104314, 0.026749931, 0.026493577, 0.0262918, 0.0261162, 0.026001034, 0.025879305, 0.025750345, 0.025667513, 0.025594415, 0.02553885, 0.025469895, 0.025429683, 0.025395403, 0.025348425, 0.025304137, 0.025273623, 0.025251215, 0.025233207, 0.025212321, 0.025171805, 0.025166368, 0.025147596, 0.02514106, 0.025109563, 0.025085667, 0.025075257, 0.025046257, 0.02502526, 0.025023831, 0.02499818, 0.024978664, 0.024962502, 0.024943724, 0.024935214, 0.024919365, 0.024914978, 0.024901055, 0.024883758, 0.02487011, 0.02486446, 0.024862083, 0.024851466, 0.024837036, 0.024833387, 0.024820067, 0.024823565, 0.024797224, 0.02478424, 0.024780054, 0.024771133, 0.02477094, 0.02476342, 0.024764292, 0.024757782, 0.02475058, 0.024745211]\n",
      "Training done. Evaluating...\n"
     ]
    },
    {
     "name": "stderr",
     "output_type": "stream",
     "text": [
      "100%|███████████████████████████████████████████████████████████████████████████████████████████████████████████████████████████████████████████| 6/6 [00:12<00:00,  2.08s/it]\n",
      "100%|███████████████████████████████████████████████████████████████████████████████████████████████████████████████████████████████████████████| 4/4 [00:09<00:00,  2.41s/it]\n"
     ]
    }
   ],
   "source": [
    "res_dict = {}\n",
    "\n",
    "with open('res_dict_final_baseline_k8_multirun.pickle', 'rb') as handle:\n",
    "    res_dict = pickle.load(handle)\n",
    "\n",
    "for i,tpl in enumerate(search_values):\n",
    "    print(f\"Params {i}:\", tpl)\n",
    "    if i < len(res_dict):\n",
    "        continue\n",
    "    args = fixed_args.copy()\n",
    "    for k,v in zip(search_keys,tpl):\n",
    "        args[k] = v\n",
    "        \n",
    "    str_tpl = [str(tpl[0]),\"_\".join(list(map(str,tpl[1]))),\"activation\" if tpl[3] else \"noactivation\",str(tpl[2])]\n",
    "\n",
    "    log_dict = run(args,n_alphas=45, full_df_lst=full_df_lst, returns_df=returns_df, date_idx=date_idx, \n",
    "                   train_start=83, train_end=360, valid_start=360, valid_end=420, \n",
    "                   n_window=36, batch_size=16,\n",
    "                    checkpoint_name=f'final_baseline_multirun_layers{str_tpl[0]}_hidden_{str_tpl[1]}_{str_tpl[2]}_run_{str_tpl[3]}'\n",
    "#                    checkpoint_name=f'midterm_corrected/layers{str_tpl[0]}_hidden_{str_tpl[1]}_{str_tpl[2]}'\n",
    "                  )\n",
    "    \n",
    "    gc.collect()\n",
    "    torch.cuda.empty_cache()\n",
    "    \n",
    "    res_dict[tpl] = log_dict\n",
    "    \n",
    "    with open('res_dict_final_baseline_k8_multirun.pickle', 'wb') as handle:\n",
    "        pickle.dump(res_dict, handle, protocol=pickle.HIGHEST_PROTOCOL)\n",
    "    !cp *.checkpoint ~/efs/project\n",
    "    !cp *.pickle ~/efs/project"
   ]
  },
  {
   "cell_type": "code",
   "execution_count": 18,
   "id": "e59fd564",
   "metadata": {},
   "outputs": [
    {
     "data": {
      "text/plain": [
       "{(8, (24, 12), 1, False): {'pred_spearman_corr': -0.04210770001624075,\n",
       "  'pred_r2': 0.000227680042215444,\n",
       "  'total_spearman_corr': 0.06431782633191002,\n",
       "  'total_r2': 0.04767582478604768,\n",
       "  'long_short_SR': 0.26145725659081637,\n",
       "  'long_short_returns': 0.026577032379392778,\n",
       "  'long_short_SD': 0.10164962612220069,\n",
       "  'long_SR': 0.8504684359477074,\n",
       "  'long_returns': 0.16012236534821309,\n",
       "  'long_SD': 0.18827549451589345,\n",
       "  'short_SR': 0.9956497667294515,\n",
       "  'short_returns': 0.13354533296882032,\n",
       "  'short_SD': 0.13412882464432763},\n",
       " (8, (24, 12), 2, False): {'pred_spearman_corr': -0.0011516705424983505,\n",
       "  'pred_r2': 0.0023256962165112724,\n",
       "  'total_spearman_corr': -0.00799389165011721,\n",
       "  'total_r2': 0.027665384061041277,\n",
       "  'long_short_SR': 0.5064398056957353,\n",
       "  'long_short_returns': 0.04304118762993249,\n",
       "  'long_short_SD': 0.08498776586252633,\n",
       "  'long_SR': 1.143202018216432,\n",
       "  'long_returns': 0.1594948031147757,\n",
       "  'long_SD': 0.13951585159341454,\n",
       "  'short_SR': 0.6105056015361433,\n",
       "  'short_returns': 0.1164536154848432,\n",
       "  'short_SD': 0.19074946272699986},\n",
       " (8, (24, 12), 3, False): {'pred_spearman_corr': -0.019291602097184342,\n",
       "  'pred_r2': -0.0006391057306372805,\n",
       "  'total_spearman_corr': 0.028025706135707266,\n",
       "  'total_r2': 0.03728260107162184,\n",
       "  'long_short_SR': 0.09388951920220813,\n",
       "  'long_short_returns': 0.005810589762867009,\n",
       "  'long_short_SD': 0.06188752282725878,\n",
       "  'long_SR': 0.9725065831451954,\n",
       "  'long_returns': 0.13756381628930092,\n",
       "  'long_SD': 0.14145283813339762,\n",
       "  'short_SR': 0.8446648216284226,\n",
       "  'short_returns': 0.13175322652643393,\n",
       "  'short_SD': 0.15598285041920879},\n",
       " (8, (24, 12), 4, False): {'pred_spearman_corr': -0.014127809310273595,\n",
       "  'pred_r2': -0.0004990016601563979,\n",
       "  'total_spearman_corr': 0.06808787138546728,\n",
       "  'total_r2': 0.03642693151744456,\n",
       "  'long_short_SR': -1.0518701228435114,\n",
       "  'long_short_returns': -0.11406894629418882,\n",
       "  'long_short_SD': 0.1084439455185087,\n",
       "  'long_SR': 0.41129665501637347,\n",
       "  'long_returns': 0.07523626434666433,\n",
       "  'long_SD': 0.18292457142319626,\n",
       "  'short_SR': 1.6285019544512518,\n",
       "  'short_returns': 0.18930521064085315,\n",
       "  'short_SD': 0.11624500058069771},\n",
       " (8, (24, 12), 5, False): {'pred_spearman_corr': -0.0019861266603466558,\n",
       "  'pred_r2': 0.0003471641930700651,\n",
       "  'total_spearman_corr': 0.06577051861076497,\n",
       "  'total_r2': 0.06268586410140177,\n",
       "  'long_short_SR': 0.3803852469335961,\n",
       "  'long_short_returns': 0.036554200200138304,\n",
       "  'long_short_SD': 0.096097838953569,\n",
       "  'long_SR': 1.14679508024988,\n",
       "  'long_returns': 0.14948089316954136,\n",
       "  'long_SD': 0.1303466467060273,\n",
       "  'short_SR': 0.5868471602103156,\n",
       "  'short_returns': 0.11292669296940308,\n",
       "  'short_SD': 0.1924294784504574},\n",
       " (8, (24, 12), 6, False): {'pred_spearman_corr': -0.07055755580872226,\n",
       "  'pred_r2': -0.0001450312645180784,\n",
       "  'total_spearman_corr': 0.07354722771302738,\n",
       "  'total_r2': 0.06127962354496578,\n",
       "  'long_short_SR': -0.216330195413319,\n",
       "  'long_short_returns': -0.025702370527927905,\n",
       "  'long_short_SD': 0.11881083211162978,\n",
       "  'long_SR': 0.7573376045556912,\n",
       "  'long_returns': 0.13408028193145155,\n",
       "  'long_SD': 0.17704162730716733,\n",
       "  'short_SR': 1.1219262569068131,\n",
       "  'short_returns': 0.1597826524593795,\n",
       "  'short_SD': 0.14241814154515414},\n",
       " (8, (24, 12), 7, False): {'pred_spearman_corr': -0.05262058569573439,\n",
       "  'pred_r2': 7.730138516040637e-05,\n",
       "  'total_spearman_corr': 0.07120505443509281,\n",
       "  'total_r2': 0.059605782126978,\n",
       "  'long_short_SR': -0.7656153503837593,\n",
       "  'long_short_returns': -0.07083483253047775,\n",
       "  'long_short_SD': 0.09252013102267645,\n",
       "  'long_SR': 0.7542687698479087,\n",
       "  'long_returns': 0.12606387354134477,\n",
       "  'long_SD': 0.1671338899087183,\n",
       "  'short_SR': 1.3135087851904867,\n",
       "  'short_returns': 0.19689870607182247,\n",
       "  'short_SD': 0.14990284670480367},\n",
       " (8, (24, 12), 8, False): {'pred_spearman_corr': -0.0170898020283031,\n",
       "  'pred_r2': -0.0021693324521083,\n",
       "  'total_spearman_corr': 0.044846059415449814,\n",
       "  'total_r2': 0.03645945634920211,\n",
       "  'long_short_SR': -0.052838809799642804,\n",
       "  'long_short_returns': -0.005032261316983162,\n",
       "  'long_short_SD': 0.09523797632961027,\n",
       "  'long_SR': 1.1612854470978384,\n",
       "  'long_returns': 0.14188972520694104,\n",
       "  'long_SD': 0.12218333189444232,\n",
       "  'short_SR': 0.8448354167859632,\n",
       "  'short_returns': 0.1469219865239242,\n",
       "  'short_SD': 0.1739060456092911},\n",
       " (8, (24, 12), 9, False): {'pred_spearman_corr': -0.0022068630056645464,\n",
       "  'pred_r2': 0.0008898124602356689,\n",
       "  'total_spearman_corr': 0.05976284315529134,\n",
       "  'total_r2': 0.05296433154743786,\n",
       "  'long_short_SR': 0.28879334567458687,\n",
       "  'long_short_returns': 0.034243215700781184,\n",
       "  'long_short_SD': 0.1185734235696917,\n",
       "  'long_SR': 1.058624878969146,\n",
       "  'long_returns': 0.13120693748874362,\n",
       "  'long_SD': 0.1239409162729187,\n",
       "  'short_SR': 0.5500388620788365,\n",
       "  'short_returns': 0.09696372178796248,\n",
       "  'short_SD': 0.1762852199597212},\n",
       " (8, (24, 12), 10, False): {'pred_spearman_corr': -0.024522864235561593,\n",
       "  'pred_r2': 0.0006168157030578959,\n",
       "  'total_spearman_corr': 0.028330036678324785,\n",
       "  'total_r2': 0.05339846095546035,\n",
       "  'long_short_SR': -0.4418703637881605,\n",
       "  'long_short_returns': -0.030176484227474702,\n",
       "  'long_short_SD': 0.06829261860598955,\n",
       "  'long_SR': 0.9009953875608071,\n",
       "  'long_returns': 0.11170974733348808,\n",
       "  'long_SD': 0.1239848159888043,\n",
       "  'short_SR': 0.8875276170718568,\n",
       "  'short_returns': 0.14188623156096278,\n",
       "  'short_SD': 0.15986683550093433}}"
      ]
     },
     "execution_count": 18,
     "metadata": {},
     "output_type": "execute_result"
    }
   ],
   "source": [
    "res_dict"
   ]
  },
  {
   "cell_type": "code",
   "execution_count": null,
   "id": "3e919bfe",
   "metadata": {},
   "outputs": [],
   "source": []
  }
 ],
 "metadata": {
  "kernelspec": {
   "display_name": "Python 3 (ipykernel)",
   "language": "python",
   "name": "python3"
  },
  "language_info": {
   "codemirror_mode": {
    "name": "ipython",
    "version": 3
   },
   "file_extension": ".py",
   "mimetype": "text/x-python",
   "name": "python",
   "nbconvert_exporter": "python",
   "pygments_lexer": "ipython3",
   "version": "3.9.12"
  }
 },
 "nbformat": 4,
 "nbformat_minor": 5
}
