{
 "cells": [
  {
   "cell_type": "code",
   "execution_count": 4,
   "id": "c9fa2a37",
   "metadata": {},
   "outputs": [
    {
     "data": {
      "text/plain": [
       "{(2, (24,), True): {'pred_spearman_corr': -0.02358339347306747,\n",
       "  'pred_r2': -0.0012336863011312427,\n",
       "  'total_spearman_corr': -0.020874406802621367,\n",
       "  'total_r2': 0.008481904749157136,\n",
       "  'long_short_SR': -0.27841629872118,\n",
       "  'long_short_returns': -0.027511141209818627,\n",
       "  'long_short_SD': 0.0988129694137255,\n",
       "  'long_SR': 0.7775805478584468,\n",
       "  'long_returns': 0.16687530982661164,\n",
       "  'long_SD': 0.214608390457049,\n",
       "  'short_SR': 1.0938294765965615,\n",
       "  'short_returns': 0.19438645103643024,\n",
       "  'short_SD': 0.17771184192371697}}"
      ]
     },
     "execution_count": 4,
     "metadata": {},
     "output_type": "execute_result"
    }
   ],
   "source": [
    "import pickle\n",
    "\n",
    "with open('res_dict.pickle', 'rb') as handle:\n",
    "    res_dict = pickle.load(handle)\n",
    "    \n",
    "res_dict"
   ]
  },
  {
   "cell_type": "code",
   "execution_count": null,
   "id": "0025efd8",
   "metadata": {},
   "outputs": [],
   "source": []
  }
 ],
 "metadata": {
  "kernelspec": {
   "display_name": "Python 3 (ipykernel)",
   "language": "python",
   "name": "python3"
  },
  "language_info": {
   "codemirror_mode": {
    "name": "ipython",
    "version": 3
   },
   "file_extension": ".py",
   "mimetype": "text/x-python",
   "name": "python",
   "nbconvert_exporter": "python",
   "pygments_lexer": "ipython3",
   "version": "3.9.12"
  }
 },
 "nbformat": 4,
 "nbformat_minor": 5
}
