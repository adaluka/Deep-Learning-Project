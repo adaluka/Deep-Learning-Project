{
 "cells": [
  {
   "cell_type": "code",
   "execution_count": 1,
   "id": "89d621a0",
   "metadata": {},
   "outputs": [
    {
     "name": "stderr",
     "output_type": "stream",
     "text": [
      "100%|██████████████████████████████████████████████████████████| 41674272450/41674272450 [1:11:48<00:00, 9671729.84it/s]\n"
     ]
    }
   ],
   "source": [
    "import os\n",
    "from os.path import exists\n",
    "from tqdm import tqdm\n",
    "\n",
    "header = None\n",
    "tic = None\n",
    "writefile = None\n",
    "\n",
    "with tqdm(total=os.path.getsize('Sec_d.csv')) as pbar:\n",
    "    with open('Sec_d.csv') as file:\n",
    "        #while line := file.readline():\n",
    "        for line in file:\n",
    "            if header is not None:\n",
    "                cur_tic = line.split(',', 13)[10]\n",
    "                if tic != cur_tic:\n",
    "                    tic = cur_tic\n",
    "                    file = f'data/{tic}_daily.csv'\n",
    "                    e = exists(file)\n",
    "                    if writefile is not None:\n",
    "                        writefile.close()\n",
    "                    writefile = open(file, 'a')\n",
    "                    if not e:\n",
    "                        writefile.write(header)\n",
    "                writefile.write(line)\n",
    "            else:\n",
    "                header = line\n",
    "            pbar.update(len(line))"
   ]
  }
 ],
 "metadata": {
  "kernelspec": {
   "display_name": "Python [conda env:ML1_pdp]",
   "language": "python",
   "name": "conda-env-ML1_pdp-py"
  },
  "language_info": {
   "codemirror_mode": {
    "name": "ipython",
    "version": 3
   },
   "file_extension": ".py",
   "mimetype": "text/x-python",
   "name": "python",
   "nbconvert_exporter": "python",
   "pygments_lexer": "ipython3",
   "version": "3.9.7"
  },
  "latex_envs": {
   "LaTeX_envs_menu_present": true,
   "autoclose": true,
   "autocomplete": false,
   "bibliofile": "biblio.bib",
   "cite_by": "apalike",
   "current_citInitial": 1,
   "eqLabelWithNumbers": true,
   "eqNumInitial": 1,
   "hotkeys": {
    "equation": "Ctrl-E",
    "itemize": "Ctrl-I"
   },
   "labels_anchors": false,
   "latex_user_defs": false,
   "report_style_numbering": false,
   "user_envs_cfg": false
  }
 },
 "nbformat": 4,
 "nbformat_minor": 5
}
